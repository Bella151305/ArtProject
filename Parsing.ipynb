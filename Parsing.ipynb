{
  "nbformat": 4,
  "nbformat_minor": 0,
  "metadata": {
    "colab": {
      "name": "Parsing.ipynb",
      "provenance": [],
      "collapsed_sections": [
        "LtrlYIrQ_LTx",
        "DrFnkK30ys52"
      ],
      "toc_visible": true,
      "mount_file_id": "1ppC1TlSvn4LAWVHuj1e-GLvAjrz2yWK1",
      "authorship_tag": "ABX9TyMEd0gy9McQ/8k8eQHV6XZk"
    },
    "kernelspec": {
      "name": "python3",
      "display_name": "Python 3"
    },
    "language_info": {
      "name": "python"
    }
  },
  "cells": [
    {
      "cell_type": "markdown",
      "source": [
        "# Library"
      ],
      "metadata": {
        "id": "sdoQnofjCr8Y"
      }
    },
    {
      "cell_type": "code",
      "execution_count": 1,
      "metadata": {
        "id": "rTZ3v9rdTwkG"
      },
      "outputs": [],
      "source": [
        "import requests\n",
        "from bs4 import BeautifulSoup\n",
        "\n",
        "import time\n",
        "import datetime\n",
        "from datetime import datetime, timedelta\n",
        "import re\n",
        "\n",
        "import json\n",
        "\n",
        "import warnings\n",
        "warnings.simplefilter(action='ignore', category=FutureWarning)\n",
        "import pandas as pd\n",
        "import numpy as np\n",
        "%matplotlib inline\n",
        "import matplotlib.pyplot as plt\n",
        "\n",
        "art_project_path = '/content/drive/MyDrive/Art/Art_Project'"
      ]
    },
    {
      "cell_type": "markdown",
      "source": [
        "# Sites' list for parsing"
      ],
      "metadata": {
        "id": "95MQouizMsq8"
      }
    },
    {
      "cell_type": "code",
      "source": [
        "urls_news = ['https://artguide.com/', 'http://artuzel.com/', 'https://www.theartnewspaper.ru/']\n",
        "# https://artguide.com/ - <div class=\"chromeframe\">\n",
        "#    Ваш браузер <em>устарел!</em> <a href=\"http://browsehappy.com/\">Установите другой браузер</a> или\n",
        "#    <a href=\"http://www.google.com/chromeframe/?redirect=true\">Google Chrome Frame</a>, чтобы просматривать этот сайт.\n",
        "urls_datasets = ['https://artchive.ru/', 'https://artinvestment.ru/']\n",
        "urls_archives = ['https://russianartarchive.net/ru'] # есть API - https://api.raan.garagemca.org/documentation/#/\n",
        "urls_fairs = ['https://www.cosmoscow.com/ru/']"
      ],
      "metadata": {
        "id": "4HJVOzZl7vuj"
      },
      "execution_count": 51,
      "outputs": []
    },
    {
      "cell_type": "markdown",
      "source": [
        "# Unused code"
      ],
      "metadata": {
        "id": "x7U-o_zZnpyW"
      }
    },
    {
      "cell_type": "markdown",
      "source": [
        "# Functions"
      ],
      "metadata": {
        "id": "HOmGyFTFNKek"
      }
    },
    {
      "cell_type": "markdown",
      "source": [
        "## Openings and savings\n",
        "4. __open_parsing_dict()__ -> parsing_dict - Open dict with sites for parsing\n",
        "5. __open_page_stat()__ -> page_stat - Open page_parsing_status.csv\n",
        "6. __open_pages_counter_stat(file)__ -> pages_counter_stat - Open artinvest_pages_counter_stat.csv\n",
        "7. __open_news_articles_data(file)__ -> news_articles_data - Open artinvest_news_articles_data.csv\n",
        "\n",
        "\n",
        "12. __open_long_text(file)__ -> long_text_df - Open artinvest_long_text.csv\n",
        "13. __open_long_text_url_list_temp()__ -> parsing_list - Open json artinvest_long_text_url_list_temp\n",
        "14. __save_long_text_url_list_temp(parsing_list)__ -> - Save json artinvest_long_text_url_list_temp\n",
        "17. __save_df_file(df, file)__ -> - Save df to csv file"
      ],
      "metadata": {
        "id": "1Py5yix5qYh_"
      }
    },
    {
      "cell_type": "code",
      "source": [
        "# 4. Open dict with sites for parsing\n",
        "def open_parsing_dict():\n",
        "  with open(art_project_path + '/sites_for_parsing.txt', 'rb') as infile:\n",
        "    parsing_dict = json.load(infile)\n",
        "  return parsing_dict\n",
        "\n",
        "# 5. Open page_parsing_status.csv\n",
        "def open_page_stat():\n",
        "  page_stat = pd.read_csv(art_project_path + '/page_parsing_status.csv')\n",
        "  return page_stat\n",
        "\n",
        "artinvest_s = '/artinvest_pages_counter_stat.csv'\n",
        "artinvest_d = '/artinvest_news_articles_data.csv'\n",
        "theartnewspaper_d = '/theartnewspaper_data_new.csv'\n",
        "\n",
        "# 6. Open pages_counter_stat.csv\n",
        "def open_pages_counter_stat(file):\n",
        "  pages_counter_stat = pd.read_csv(art_project_path + file)\n",
        "  return pages_counter_stat\n",
        "\n",
        "# 7. Open news_articles_data.csv\n",
        "def open_news_articles_data(file):\n",
        "  news_articles_data = pd.read_csv(art_project_path + file)\n",
        "  return news_articles_data\n",
        "\n",
        "# 17. Save df to csv file\n",
        "def save_df_file(df, file):\n",
        "  df.to_csv(art_project_path + file, index=False)"
      ],
      "metadata": {
        "id": "g2vgnc4LOU-X"
      },
      "execution_count": 2,
      "outputs": []
    },
    {
      "cell_type": "code",
      "source": [
        "artinvest_lt = '/artinvest_long_text.csv'\n",
        "theartnewspaper_lt = '/theartnewspaper_long_text.csv'\n",
        "\n",
        "# 12. Open long_text.csv\n",
        "def open_long_text(file):\n",
        "  long_text_df = pd.read_csv(art_project_path + file)\n",
        "  return long_text_df\n",
        "\n",
        "# 13. Open json long_text_url_list_temp\n",
        "def open_long_text_url_list_temp():\n",
        "  with open(art_project_path + '/long_text_url_list_temp.txt', 'rb') as infile:\n",
        "    parsing_list = json.load(infile)\n",
        "  return parsing_list\n",
        "\n",
        "# 14. Save json long_text_url_list_temp\n",
        "def save_long_text_url_list_temp(parsing_list):\n",
        "  with open(art_project_path + '/long_text_url_list_temp.txt', 'w') as outfile:\n",
        "    json.dump(parsing_list, outfile)"
      ],
      "metadata": {
        "id": "NMAjMFDtgqZ0"
      },
      "execution_count": 3,
      "outputs": []
    },
    {
      "cell_type": "markdown",
      "source": [
        "## Data mining\n",
        "1. __get_page(url)__ -> bs_page, page_parsing_status.csv - Collect request status\n",
        "\n",
        "\n",
        "8. __get_artinvest_pages_counter_stat()__ -> - Parsing artinvest_pages_counter_stat ___and___ current artinvest_news_articles_data parsing ___and___ artinvest_long_text.csv\n",
        "9. __get_artinvest_pages_curr_data(url)__ -> - Parsing current artinvest_news_articles_data\n",
        "10. __get_artinvest_news_articles_archive()__ -> - Parsing artinvest_news_articles_data ARCHIVE\n",
        "11. __def get_long_text()__ -> - Parsing long texts\n",
        "\n",
        "\n",
        "15. __long_text_problems_fix()__ - Fixing long text problems\n",
        "\n",
        "\n",
        "18. __date_transfomation(cell)__ -> cell - Date transfomation"
      ],
      "metadata": {
        "id": "ySkBh6S8q6wv"
      }
    },
    {
      "cell_type": "code",
      "source": [
        "# 1. Collect request status - saving every get result\n",
        "\n",
        "def get_page(url):\n",
        "  start_time = time.time()\n",
        "  try:\n",
        "    response = requests.get(url, headers={'User-Agent': 'Chrome/97.0.4692.71'}) # timeout=0.001\n",
        "# Edge/97.0.1072.55\n",
        "# Chrome/97.0.4692.71\n",
        "    get_page_stat_new = pd.DataFrame({'page_url': [url],\n",
        "                                      'status_code': [response.status_code],\n",
        "                                      'encoding': [response.encoding],\n",
        "                                      'raise_for_status': [response.raise_for_status()],\n",
        "                                      'parsing_date': [datetime.now().date()],\n",
        "                                      'parsing_time': [datetime.now().time()],\n",
        "                                      'parsing_sec_speed': [time.time() - start_time]})\n",
        "\n",
        "    bs_page = BeautifulSoup(response.text, 'html.parser')\n",
        "    return bs_page\n",
        "\n",
        "  except HTTPError: # HTTPError: 503 Server Error: Service Temporarily Unavailable for url: https://artinvestment.ru/news/artnews/\n",
        "    get_page_stat_new = pd.DataFrame({'page_url': [url],\n",
        "                                      'status_code': [response.status_code],\n",
        "                                      'encoding': [response.encoding],\n",
        "                                      'raise_for_status': [response.raise_for_status()],\n",
        "                                      'parsing_date': [datetime.now().date()],\n",
        "                                      'parsing_time': [datetime.now().time()],\n",
        "                                      'parsing_sec_speed': [time.time() - start_time]})\n",
        "    \n",
        "  finally:\n",
        "    get_page_stat = open_page_stat() # 5. Open page_parsing_status.csv\n",
        "    get_page_stat = pd.concat([get_page_stat, get_page_stat_new])\n",
        "\n",
        "    get_page_stat.to_csv(art_project_path + '/page_parsing_status.csv', index=False)"
      ],
      "metadata": {
        "id": "zOplYaix8RVK"
      },
      "execution_count": 4,
      "outputs": []
    },
    {
      "cell_type": "code",
      "source": [
        "# 8. Parsing artinvest_pages_counter_stat and current artinvest_news_articles_data parsing\n",
        "\n",
        "# 8.1 Get links list\n",
        "def get_parsing_links_list():\n",
        "  sites = open_parsing_dict() # 4. Open dict with sites for parsing\n",
        "  parsing_links_list = []\n",
        "  for s in sites['artinvestment.ru']['news']['links']:\n",
        "    parsing_links_list.append(s)\n",
        "  for s in sites['artinvestment.ru']['articles']['links']:\n",
        "    parsing_links_list.append(s)\n",
        "  return parsing_links_list\n",
        "\n",
        "# 8.2 Get titles list\n",
        "def get_parsing_titles_list():\n",
        "  sites = open_parsing_dict() # 4. Open dict with sites for parsing\n",
        "  parsing_titles_list = []\n",
        "  for s in sites['artinvestment.ru']['news']['titles']:\n",
        "    parsing_titles_list.append(s)\n",
        "  for s in sites['artinvestment.ru']['articles']['titles']:\n",
        "    parsing_titles_list.append(s)\n",
        "  return parsing_titles_list\n",
        "\n",
        "# 8.3 Parsing artinvest_pages_counter_stat - saving last parsing results from the first pages\n",
        "def get_artinvest_pages_counter_stat(file):\n",
        "  begining_p = time.time()\n",
        "  parsing_speed_p = 0\n",
        "  artinvest_pages_counter_stat = open_pages_counter_stat(file) # 6. Open pages_counter_stat.csv\n",
        "  artinvest_pages_counter_stat['parsing_date'] = artinvest_pages_counter_stat['parsing_date'].dropna().apply(lambda x: date_transfomation(x))\n",
        "  parsing_links_list = get_parsing_links_list() # 8.1 Get links list\n",
        "  parsing_titles_list = get_parsing_titles_list() # 8.2 Get titles list\n",
        "\n",
        "  parsing_speed_p = parsing_speed_p + (time.time() - begining_p)\n",
        "  for link in parsing_links_list:\n",
        "    link_page = get_page(link) # 1. Collect request status\n",
        "    start_time = time.time()\n",
        "    try: # never problems happen only None result\n",
        "      table_blocks = link_page.find_all('div', class_='pager')\n",
        "    except: continue\n",
        "    else: # problems can start from here\n",
        "      artinvest_pages_counter_stat_new = pd.DataFrame({'page_url': [link],\n",
        "                                                       'page_title': [parsing_titles_list[parsing_links_list.index(link)]],\n",
        "                                                       'records_total': [int(table_blocks[0].find_all('em')[0].text)],\n",
        "                                                       'pages_total': [int(table_blocks[0].find_all('em')[1].text)],\n",
        "                                                       'records_max': [int(table_blocks[0].find('input').get('title').split(' ')[1])],\n",
        "                                                       'records_value': [int(table_blocks[0].find('input').get('value'))],\n",
        "                                                       'first_page_url': [table_blocks[0].find('a').get('href')],\n",
        "                                                       'parsing_date': [datetime.now().date()],\n",
        "                                                       'parsing_time': [datetime.now().time()],\n",
        "                                                       'parsing_sec_speed': [time.time() - start_time]\n",
        "                                                       })\n",
        "      artinvest_pages_counter_stat = pd.concat([artinvest_pages_counter_stat, artinvest_pages_counter_stat_new])\n",
        "      parsing_speed_p = parsing_speed_p + (time.time() - start_time)\n",
        "      \n",
        "      # 9. Parsing current artinvest_news_articles_data\n",
        "      get_artinvest_pages_curr_data(artinvest_d, link, link_page, parsing_titles_list, parsing_links_list)\n",
        "\n",
        "  artinvest_pages_counter_stat.drop_duplicates(subset = ['page_url', 'parsing_date'], keep = 'last', inplace = True)\n",
        "  new_pages_count = artinvest_pages_counter_stat.loc[artinvest_pages_counter_stat['parsing_date']==artinvest_pages_counter_stat['parsing_date'].max()]['page_url'].count()\n",
        "\n",
        "  #artinvest_pages_counter_stat.to_csv(art_project_path + file, index=False)\n",
        "  save_df_file(artinvest_pages_counter_stat, file)\n",
        "\n",
        "  return print('{} new pages have been collected\\nin {} seconds\\nAll pages have been collected - {}'.format(new_pages_count, parsing_speed_p, (new_pages_count==len(parsing_links_list))))"
      ],
      "metadata": {
        "id": "AoiRRGCoExJI"
      },
      "execution_count": 5,
      "outputs": []
    },
    {
      "cell_type": "code",
      "source": [
        "# 9. Parsing current artinvest_news_articles_data - saving last parsing results from the first pages\n",
        "\n",
        "def get_artinvest_pages_curr_data(file, page_url, page, parsing_titles, parsing_links):\n",
        "  begining_a = time.time()\n",
        "  parsing_speed_a = 0\n",
        "  artinvest_news_articles_data = open_news_articles_data(file) # 7. Open news_articles_data.csv\n",
        "  artinvest_news_articles_data['parsing_date'] = artinvest_news_articles_data['parsing_date'].dropna().apply(lambda x: date_transfomation(x))\n",
        "\n",
        "  try: # never problems happen only None result\n",
        "    start_time = time.time()\n",
        "    list_advices = page.find_all('ul', class_='list advices')\n",
        "  except: pass\n",
        "  else: # problems can start from here\n",
        "    dates_list = []\n",
        "    for em in list_advices[0].find_all('em'):\n",
        "      dates_list.append(em.text)\n",
        "    links_list = []\n",
        "    titles_list = []\n",
        "    for a in list_advices[0].find_all('a'):\n",
        "      if re.compile('\\d+').search(str(a.get('href')))is not None:\n",
        "        links_list.append(a.get('href'))\n",
        "      if a.get('title') is not None:\n",
        "        titles_list.append(a.get('title'))\n",
        "    short_text_list = []\n",
        "    for span in list_advices[0].find_all('span')[1::2]:\n",
        "      short_text_list.append(span.text)\n",
        "\n",
        "    artinvest_news_articles_data_new = pd.DataFrame({'date': dates_list,\n",
        "                                                     'link': links_list,\n",
        "                                                     'title': titles_list,\n",
        "                                                     'short_text': short_text_list,\n",
        "                                                    })\n",
        "    artinvest_news_articles_data_new['page_url'] = page_url\n",
        "    artinvest_news_articles_data_new['page_title'] = parsing_titles[parsing_links.index(page_url)]\n",
        "    artinvest_news_articles_data_new['parsing_date'] = datetime.now().date()\n",
        "    artinvest_news_articles_data_new['parsing_time'] = datetime.now().time()\n",
        "    artinvest_news_articles_data_new['parsing_sec_speed'] = time.time() - start_time # without long_text collection\n",
        "\n",
        "    # For parsing long texts\n",
        "    artinvest_news_articles_data_new['long_text_url'] = artinvest_news_articles_data_new['page_url'] + artinvest_news_articles_data_new['link']\n",
        "    long_text_url_list_new = artinvest_news_articles_data_new['long_text_url'].tolist()\n",
        "    long_text_url_list = artinvest_news_articles_data['long_text_url'].tolist()\n",
        "    long_text_url_list_temp = list(set(long_text_url_list_new) - set(long_text_url_list)) # only new urls - temporal list\n",
        "    save_long_text_url_list_temp(long_text_url_list_temp) # 14. Save json long_text_url_list_temp\n",
        "\n",
        "    collected_pages_a_count = artinvest_news_articles_data_new['page_url'].count()\n",
        "    artinvest_news_articles_data = pd.concat([artinvest_news_articles_data, artinvest_news_articles_data_new])\n",
        "    artinvest_news_articles_data.drop_duplicates(subset = 'long_text_url', keep = 'last', inplace = True)\n",
        "    parsing_speed_a = parsing_speed_a + (time.time() - begining_a)\n",
        "    \n",
        "    #artinvest_news_articles_data.to_csv(art_project_path + file, index=False)\n",
        "    save_df_file(artinvest_news_articles_data, file)\n",
        "\n",
        "    time.sleep(5) # time for renewing json artinvest_long_text_url_list_temp\n",
        "    get_long_text(artinvest_lt) # 11. Parsing long texts\n",
        "\n",
        "    return print('{} articles have been collected\\nin {} seconds'.format(collected_pages_a_count, parsing_speed_a))"
      ],
      "metadata": {
        "id": "jfZ3uRxx58hb"
      },
      "execution_count": 6,
      "outputs": []
    },
    {
      "cell_type": "code",
      "source": [
        "# 11. Parsing long texts - saving only new results from the first pages\n",
        "    \n",
        "def get_long_text(file):\n",
        "  begining_t = time.time()\n",
        "  parsing_speed_t = 0\n",
        "  artinvest_long_text_df = open_long_text(file) # 12. Open long_text.csv\n",
        "  long_text_url_list = open_long_text_url_list_temp() # 13. Open json long_text_url_list_temp\n",
        "  \n",
        "  long_text_list = []\n",
        "  sourses_list = []\n",
        "  parsing_speed_list = []\n",
        "\n",
        "  for url in long_text_url_list:\n",
        "    text_page = get_page(url) # 1. Collect request status\n",
        "    start_time = time.time()\n",
        "\n",
        "    try:\n",
        "      text_block = text_page.find('div', class_='block content-data article-content')\n",
        "      text_all = text_block.find_all('p')\n",
        "      text_list = []\n",
        "      for p in text_all:\n",
        "        text_list.append(p.text)\n",
        "      long_text_list.append(text_list)\n",
        "    except: \n",
        "      text_list = []\n",
        "      long_text_list.append(text_list)\n",
        "    try:\n",
        "      sourse_all = text_block.find('p', class_='mat2left').find_all('a')\n",
        "      sourses = []\n",
        "      for a in sourse_all:\n",
        "        sourses.append(a.get('href'))\n",
        "      sourses_list.append(sourses)\n",
        "    except: \n",
        "      sourses = []\n",
        "      sourses_list.append(sourses)\n",
        "    finally:\n",
        "      parsing_speed_list.append(time.time() - start_time)\n",
        "\n",
        "  artinvest_long_text_df_new = pd.DataFrame({'long_text_url': long_text_url_list,\n",
        "                                             'long_text': long_text_list,\n",
        "                                             'sourses': sourses_list,\n",
        "                                             'parsing_sec_speed_2': parsing_speed_list # for long_text collection without getting page\n",
        "                                            })\n",
        "  \n",
        "  collected_pages_t_count = artinvest_long_text_df_new['long_text_url'].count()\n",
        "  artinvest_long_text_df = pd.concat([artinvest_long_text_df, artinvest_long_text_df_new])\n",
        "  artinvest_long_text_df.drop_duplicates(subset = 'long_text_url', keep = 'last', inplace = True)\n",
        "  parsing_speed_t = parsing_speed_t + (time.time() - begining_t)\n",
        "\n",
        "  #artinvest_long_text_df.to_csv(art_project_path + file, index=False)\n",
        "  save_df_file(artinvest_long_text_df, file)\n",
        "\n",
        "  return print('{} text pages have been collected\\nin {} seconds\\nAll text pages have been collected - {}'.format(collected_pages_t_count, parsing_speed_t, collected_pages_t_count==len(long_text_url_list)))\n",
        "\n",
        "# 11.1 Parsing problematic long texts\n",
        "\n",
        "def get_long_text_problems(file, long_text_url_list):\n",
        "  begining_t = time.time()\n",
        "  parsing_speed_t = 0\n",
        "  artinvest_long_text_df = open_long_text(file) # 12. Open long_text.csv\n",
        "  #long_text_url_list = open_long_text_url_list_temp() # 13. Open json artinvest_long_text_url_list_temp\n",
        "  \n",
        "  long_text_list = []\n",
        "  sourses_list = []\n",
        "  parsing_speed_list = []\n",
        "\n",
        "  for url in long_text_url_list:\n",
        "    text_page = get_page(url) # 1. Collect request status\n",
        "    start_time = time.time()\n",
        "\n",
        "    try:\n",
        "      text_block = text_page.find('div', class_='block content-data article-content')\n",
        "      text_all = text_block.find_all('p')\n",
        "      text_list = []\n",
        "      for p in text_all:\n",
        "        text_list.append(p.text)\n",
        "      long_text_list.append(text_list)\n",
        "    except: \n",
        "      text_list = []\n",
        "      long_text_list.append(text_list)\n",
        "    try:\n",
        "      sourse_all = text_block.find('p', class_='mat2left').find_all('a')\n",
        "      sourses = []\n",
        "      for a in sourse_all:\n",
        "        sourses.append(a.get('href'))\n",
        "      sourses_list.append(sourses)\n",
        "    except: \n",
        "      sourses = []\n",
        "      sourses_list.append(sourses)\n",
        "    finally:\n",
        "      parsing_speed_list.append(time.time() - start_time)\n",
        "\n",
        "  artinvest_long_text_df_new = pd.DataFrame({'long_text_url': long_text_url_list,\n",
        "                                             'long_text': long_text_list,\n",
        "                                             'sourses': sourses_list,\n",
        "                                             'parsing_sec_speed_2': parsing_speed_list # for long_text collection without getting page\n",
        "                                            })\n",
        "\n",
        "  collected_pages_t_count = artinvest_long_text_df_new['long_text_url'].count()\n",
        "  artinvest_long_text_df = pd.concat([artinvest_long_text_df, artinvest_long_text_df_new])\n",
        "  artinvest_long_text_df.drop_duplicates(subset = 'long_text_url', keep = 'last', inplace = True)\n",
        "  parsing_speed_t = parsing_speed_t + (time.time() - begining_t)\n",
        "\n",
        "  #artinvest_long_text_df.to_csv(art_project_path + file, index=False)\n",
        "  save_df_file(artinvest_long_text_df, file)\n",
        "\n",
        "  return print('{} text pages have been collected\\nin {} seconds\\nAll pages have been collected - {}'.format(collected_pages_t_count, parsing_speed_t, collected_pages_t_count==len(long_text_url_list)))"
      ],
      "metadata": {
        "id": "SsDaS5g_MitB"
      },
      "execution_count": 7,
      "outputs": []
    },
    {
      "cell_type": "code",
      "source": [
        "# 10. Parsing artinvest_news_articles_data ARCHIVE\n",
        "\n",
        "def get_artinvest_news_articles_archive(file, p_url):\n",
        "  artinvest_pages_counter_stat_arch = open_pages_counter_stat(file) # 6. Open pages_counter_stat.csv\n",
        "  artinvest_pages_counter_stat_arch['parsing_date'] = artinvest_pages_counter_stat_arch['parsing_date'].dropna().apply(lambda x: date_transfomation(x))\n",
        "  artinvest_pages_counter_stat_arch = artinvest_pages_counter_stat_arch.loc[(artinvest_pages_counter_stat_arch['page_url']==p_url)&(artinvest_pages_counter_stat_arch['parsing_date']==artinvest_pages_counter_stat_arch['parsing_date'].max())]\n",
        "\n",
        "  # For parsing current artinvest_news_articles_data\n",
        "  pars_links_list = artinvest_pages_counter_stat_arch['page_url'].tolist()\n",
        "  pars_titles_list = artinvest_pages_counter_stat_arch['page_title'].tolist()\n",
        "  # For next_page_url_list\n",
        "  first_page_url_list = artinvest_pages_counter_stat_arch['first_page_url'].tolist()\n",
        "  pages_total_list = artinvest_pages_counter_stat_arch['pages_total'].tolist()\n",
        "\n",
        "  next_page_url_list = []\n",
        "  for url in first_page_url_list:\n",
        "    pages_total = pages_total_list[first_page_url_list.index(url)]\n",
        "    url_part_1 = url.split('=')[0]\n",
        "    url_part_2 = url.split('=')[1].split('&')[1]\n",
        "    url_part_3 = url.split('=')[2]\n",
        "\n",
        "    for p in range(2,pages_total+1):\n",
        "      next_page_url = url_part_1 + '=' + str(p) + '&' + url_part_2 + '=' + url_part_3\n",
        "      next_page_url_list.append(next_page_url)\n",
        "\n",
        "  for p_url in next_page_url_list:\n",
        "    page = get_page(p_url) # 1. Collect request status\n",
        "    # 9. Parsing current artinvest_news_articles_data\n",
        "    get_artinvest_pages_curr_data(artinvest_d, p_url.split('=')[0][:-5], page, pars_titles_list, pars_links_list)"
      ],
      "metadata": {
        "id": "M2osYMYZ-oX1"
      },
      "execution_count": 8,
      "outputs": []
    },
    {
      "cell_type": "code",
      "source": [
        "# 15. Fixing long text problems\n",
        "def long_text_problems_fix():\n",
        "  cheking_long_text_list = []\n",
        "  for url in artinvest_news_articles_w_text.loc[artinvest_news_articles_w_text['long_text'].isna()==True]['long_text_url']:\n",
        "    cheking_long_text_list.append(url)\n",
        "\n",
        "  cheking_date_list = []\n",
        "  for date in artinvest_news_articles_w_text.loc[artinvest_news_articles_w_text['long_text'].isna()==True]['date']:\n",
        "    cheking_date_list.append(date)\n",
        "\n",
        "  delta = len(cheking_date_list)-len(cheking_long_text_list)\n",
        "\n",
        "  if delta == 0:\n",
        "    result = 'All long texts were found'\n",
        "  else:\n",
        "    long_text_url_visited = len(page_statistic.loc[page_statistic['page_url'].isin(cheking_long_text_list)]['page_url'].tolist())\n",
        "    long_text_url_list = cheking_long_text_list\n",
        "    get_long_text_problems(artinvest_lt, long_text_url_list) # 11.1 Parsing problematic long texts\n",
        "    result = 'News dates and long texts delta is - {}\\nCount of sites were visited - {}'.format(delta, long_text_url_visited)\n",
        "  \n",
        "  return print(result)"
      ],
      "metadata": {
        "id": "ebVyi9_sKvTs"
      },
      "execution_count": 9,
      "outputs": []
    },
    {
      "cell_type": "code",
      "source": [
        "# 18. Date transfomation\n",
        "def date_transfomation(cell):\n",
        "  try:\n",
        "    cell = pd.to_datetime(datetime.strptime(cell, '%d.%m.%Y').strftime('%Y-%m-%d')).date()\n",
        "  except ValueError:\n",
        "    cell = pd.to_datetime(cell).date()\n",
        "  return cell"
      ],
      "metadata": {
        "id": "XqDXD5wJTFSy"
      },
      "execution_count": 62,
      "outputs": []
    },
    {
      "cell_type": "markdown",
      "source": [
        "## Graphics\n",
        "16. get_graphics() -> - Drawing graphics"
      ],
      "metadata": {
        "id": "R2g_OTxpOTK4"
      }
    },
    {
      "cell_type": "code",
      "source": [
        "# 16. Drawing graphics\n",
        "def get_graphics():\n",
        "  # 16.1 Checking responses status\n",
        "  print('Checking responses status & Parsing date')\n",
        "  print('')\n",
        "  new_stat = page_statistic.loc[page_statistic['parsing_date'] >= (page_statistic['parsing_date'].max() + timedelta(days = -7))]\n",
        "  \n",
        "  fig, axes = plt.subplots(1, 2, figsize=(12,4))\n",
        "  \n",
        "  axes[0].hist(page_statistic['status_code'])\n",
        "  axes[0].set_title('Status code')\n",
        "  axes[0].set_ylabel('Count')\n",
        "  #axes[0].set_xticklabels(page_statistic['status_code'].unique(), rotation = 45)\n",
        "  \n",
        "  axes[1].hist(new_stat['parsing_date'])\n",
        "  axes[1].set_title('Parsing date counts')\n",
        "  axes[1].set_ylabel('Count')\n",
        "  axes[1].set_xticklabels(new_stat['parsing_date'].unique(), rotation = 45)\n",
        "\n",
        "  plt.show()\n",
        "\n",
        "  # 16.2 Collecting Pages counter mining avarege speed\n",
        "  print('')\n",
        "  print('Collecting Pages counter mining avarege speed')\n",
        "  print('')\n",
        "  grouped_page_stat = page_statistic.groupby(['parsing_date', 'page_url'])['parsing_sec_speed'].agg(['mean']).reset_index()\n",
        "\n",
        "  pages_counter_mining = pd.merge(artinvest_pages_counter_stat, grouped_page_stat, on=['parsing_date', 'page_url'], how='left')\n",
        "  pages_counter_mining.columns = ['page_url', 'page_title', 'records_total', 'pages_total', 'records_max', 'records_value',\n",
        "                                  'first_page_url', 'parsing_date', 'parsing_time', 'parsing_counter_speed', 'parsing_page_speed']\n",
        "  pages_counter_mining['parsing_speed_total'] = pages_counter_mining['parsing_counter_speed'] + pages_counter_mining['parsing_page_speed']\n",
        "\n",
        "  pages_counter_mining = pages_counter_mining.loc[pages_counter_mining['parsing_date'] >= (pages_counter_mining['parsing_date'].max() + timedelta(days = -7))]\n",
        "  pages_counter_mining = pages_counter_mining.groupby(['parsing_date'])[['parsing_speed_total', 'parsing_page_speed', 'parsing_counter_speed']].mean().reset_index()\n",
        "\n",
        "  fig, axes = plt.subplots(1, 3, figsize=(12,4))\n",
        "  axes[0].bar(x=pages_counter_mining['parsing_date'], height=pages_counter_mining['parsing_speed_total'], color='red')\n",
        "  axes[0].set_xticklabels(pages_counter_mining['parsing_date'], rotation = 90)\n",
        "  axes[0].set_title('Total avg speed in seconds')\n",
        "\n",
        "  axes[1].bar(x=pages_counter_mining['parsing_date'], height=pages_counter_mining['parsing_page_speed'], color='blue')\n",
        "  axes[1].set_xticklabels(pages_counter_mining['parsing_date'], rotation = 90)\n",
        "  axes[1].set_title('Page avg speed in seconds')\n",
        "\n",
        "  axes[2].bar(x=pages_counter_mining['parsing_date'], height=pages_counter_mining['parsing_counter_speed'], color='green')\n",
        "  axes[2].set_xticklabels(pages_counter_mining['parsing_date'], rotation = 90)\n",
        "  axes[2].set_title('Counter avg speed in seconds')\n",
        "\n",
        "  plt.show()\n",
        "\n",
        "  # 16.3 Collecting Data mining avarege speed\n",
        "  print('')\n",
        "  print('Collecting Data mining avarege speed')\n",
        "  print('')\n",
        "  grouped_news_articl_stat = artinvest_news_articles_w_text.groupby(['parsing_date', 'page_url'])['parsing_sec_speed', 'parsing_sec_speed_2'].agg(['mean']).reset_index()\n",
        "  grouped_news_articl_stat.columns = ['parsing_date',\t'page_url',\t'parsing_data_speed',\t'parsing_text_speed']\n",
        "\n",
        "  pages_data_mining = pd.merge(grouped_news_articl_stat, grouped_page_stat, on=['parsing_date', 'page_url'], how='left')\n",
        "  pages_data_mining.columns = ['parsing_date', 'page_url', 'parsing_data_speed', 'parsing_text_speed', 'parsing_page_speed']\n",
        "\n",
        "  pages_data_mining['parsing_speed_total'] = pages_data_mining['parsing_data_speed'] + pages_data_mining['parsing_text_speed'] + pages_data_mining['parsing_page_speed']\n",
        "\n",
        "  pages_data_mining = pages_data_mining.loc[pages_data_mining['parsing_date'] >= (pages_data_mining['parsing_date'].max() + timedelta(days = -7))]\n",
        "  pages_data_mining = pages_data_mining.groupby(['parsing_date'])[['parsing_data_speed', 'parsing_text_speed', 'parsing_page_speed', 'parsing_speed_total']].mean().reset_index()\n",
        "\n",
        "  fig, axes = plt.subplots(1, 4, figsize=(12,4))\n",
        "  axes[0].bar(x=pages_data_mining['parsing_date'], height=pages_data_mining['parsing_speed_total'], color='red')\n",
        "  axes[0].set_xticklabels(pages_data_mining['parsing_date'], rotation = 90)\n",
        "  axes[0].set_title('Total avg speed in seconds')\n",
        "\n",
        "  axes[1].bar(x=pages_data_mining['parsing_date'], height=pages_data_mining['parsing_page_speed'], color='blue')\n",
        "  axes[1].set_xticklabels(pages_data_mining['parsing_date'], rotation = 90)\n",
        "  axes[1].set_title('Page avg speed in seconds')\n",
        "\n",
        "  axes[2].bar(x=pages_data_mining['parsing_date'], height=pages_data_mining['parsing_data_speed'], color='green')\n",
        "  axes[2].set_xticklabels(pages_data_mining['parsing_date'], rotation = 90)\n",
        "  axes[2].set_title('Data avg speed in seconds')\n",
        "\n",
        "  axes[3].bar(x=pages_data_mining['parsing_date'], height=pages_data_mining['parsing_text_speed'], color='orange')\n",
        "  axes[3].set_xticklabels(pages_data_mining['parsing_date'], rotation = 90)\n",
        "  axes[3].set_title('Text avg speed in seconds')\n",
        "\n",
        "  plt.show()\n",
        "\n",
        "  # 16.4 Articles counting\n",
        "  print('')\n",
        "  print('Articles counting')\n",
        "  print('')\n",
        "  # today for previouse day or for some days ago\n",
        "  new_data = artinvest_news_articles_w_text.loc[artinvest_news_articles_w_text['date']>=artinvest_news_articles_w_text['parsing_date'].unique()[-2]]\n",
        "\n",
        "  fig = plt.figure()\n",
        "  axes = fig.add_axes([0,0,1,1])\n",
        "  axes.hist(new_data['page_title'])\n",
        "  axes.set_title('New articles')\n",
        "  axes.set_ylabel('Count')\n",
        "  axes.set_xticklabels(new_data['page_title'].unique(), rotation = 20)\n",
        "\n",
        "  plt.show()\n",
        "\n",
        "  print('')\n",
        "  print('New articles titles:')\n",
        "  print('')\n",
        "  for t in new_data['title']:\n",
        "    print(t)"
      ],
      "metadata": {
        "id": "KGRbNoceMOzm"
      },
      "execution_count": 10,
      "outputs": []
    },
    {
      "cell_type": "markdown",
      "source": [
        "# artinvestment.ru"
      ],
      "metadata": {
        "id": "XVkY1JNtMEyW"
      }
    },
    {
      "cell_type": "markdown",
      "source": [
        "- fix labels in some graphics\n",
        "- collected info only from news and articles"
      ],
      "metadata": {
        "id": "nTLBJeYLR-QO"
      }
    },
    {
      "cell_type": "markdown",
      "source": [
        "## Sites parsing"
      ],
      "metadata": {
        "id": "moLctZ47_zqJ"
      }
    },
    {
      "cell_type": "code",
      "source": [
        "# Parsing artinvest_pages_counter_stat and current artinvest_news_articles_data parsing\n",
        "start_t = time.time()\n",
        "get_artinvest_pages_counter_stat(artinvest_s) # 8.3 Parsing artinvest_pages_counter_stat\n",
        "finish_t = time.time() - start_t\n",
        "print('{} seconds have passed'.format(finish_t))"
      ],
      "metadata": {
        "id": "H_lbVOBpesB7",
        "colab": {
          "base_uri": "https://localhost:8080/"
        },
        "outputId": "49d67584-1e6e-4577-e7e9-b5575ff1a222"
      },
      "execution_count": 12,
      "outputs": [
        {
          "output_type": "stream",
          "name": "stdout",
          "text": [
            "5 text pages have been collected\n",
            "in 10.509042263031006 seconds\n",
            "All text pages have been collected - True\n",
            "30 articles have been collected\n",
            "in 2.0323808193206787 seconds\n",
            "1 text pages have been collected\n",
            "in 3.470848321914673 seconds\n",
            "All text pages have been collected - True\n",
            "30 articles have been collected\n",
            "in 1.2106244564056396 seconds\n",
            "0 text pages have been collected\n",
            "in 1.5740294456481934 seconds\n",
            "All text pages have been collected - True\n",
            "30 articles have been collected\n",
            "in 1.241370439529419 seconds\n",
            "0 text pages have been collected\n",
            "in 1.3854434490203857 seconds\n",
            "All text pages have been collected - True\n",
            "30 articles have been collected\n",
            "in 1.209235668182373 seconds\n",
            "1 text pages have been collected\n",
            "in 3.1929209232330322 seconds\n",
            "All text pages have been collected - True\n",
            "30 articles have been collected\n",
            "in 1.2321264743804932 seconds\n",
            "0 text pages have been collected\n",
            "in 1.571744680404663 seconds\n",
            "All text pages have been collected - True\n",
            "30 articles have been collected\n",
            "in 1.2269346714019775 seconds\n",
            "0 text pages have been collected\n",
            "in 1.4415736198425293 seconds\n",
            "All text pages have been collected - True\n",
            "30 articles have been collected\n",
            "in 1.1476929187774658 seconds\n",
            "7 new pages have been collected\n",
            "in 1.563917636871338 seconds\n",
            "All pages have been collected - True\n",
            "94.86144161224365 seconds have passed\n"
          ]
        }
      ]
    },
    {
      "cell_type": "code",
      "source": [
        "# !!! do it just once\n",
        "# Parsing artinvest_news_articles_data ARCHIVE\n",
        "\n",
        "confirmation = input('Confirm the archive parsing (y/n)')\n",
        "if confirmation == 'y':\n",
        "  print('Parsing is started')\n",
        "  get_artinvest_news_articles_archive(artinvest_s) # 10. Parsing artinvest_news_articles_data ARCHIVE\n",
        "else:\n",
        "  print('Nothing has happened')\n",
        "\n",
        "# done !!!"
      ],
      "metadata": {
        "id": "C-vv3UIFA5D_",
        "colab": {
          "base_uri": "https://localhost:8080/"
        },
        "outputId": "fcccf9e2-2daf-412e-bf09-e418c34e592b"
      },
      "execution_count": null,
      "outputs": [
        {
          "output_type": "stream",
          "name": "stdout",
          "text": [
            "Confirm the archive parsing (y/n)n\n",
            "Nothing has happened\n"
          ]
        }
      ]
    },
    {
      "cell_type": "markdown",
      "source": [
        "## Checking"
      ],
      "metadata": {
        "id": "fwAOk1XNXTXz"
      }
    },
    {
      "cell_type": "code",
      "source": [
        "# Opening\n",
        "artinvest_pages_counter_stat = open_pages_counter_stat(artinvest_s) # 6. Open pages_counter_stat.csv\n",
        "artinvest_news_articles_data = open_news_articles_data(artinvest_d) # 7. Open news_articles_data.csv\n",
        "artinvest_long_text_df = open_long_text(artinvest_lt) # 12. Open long_text.csv\n",
        "page_statistic = open_page_stat() # 5. Open page_parsing_status.csv\n",
        "\n",
        "# Dates\n",
        "artinvest_pages_counter_stat['parsing_date'] = artinvest_pages_counter_stat['parsing_date'].dropna().apply(lambda x: date_transfomation(x))\n",
        "artinvest_news_articles_data['parsing_date'] = artinvest_news_articles_data['parsing_date'].dropna().apply(lambda x: date_transfomation(x))\n",
        "artinvest_news_articles_data['date'] = artinvest_news_articles_data['date'].dropna().apply(lambda x: date_transfomation(x))\n",
        "page_statistic['parsing_date'] = page_statistic['parsing_date'].dropna().apply(lambda x: date_transfomation(x))\n",
        "# Sort df by date\n",
        "artinvest_pages_counter_stat.sort_values(by=['parsing_date'], inplace=True, ascending=False)\n",
        "artinvest_news_articles_data.sort_values(by=['date'], inplace=True, ascending=False)\n",
        "page_statistic.sort_values(by=['parsing_date'], inplace=True, ascending=False)"
      ],
      "metadata": {
        "id": "ZeQoXXu6eg7e"
      },
      "execution_count": 66,
      "outputs": []
    },
    {
      "cell_type": "code",
      "source": [
        "# Checking long texts\n",
        "artinvest_news_articles_w_text = artinvest_news_articles_data.merge(artinvest_long_text_df, on='long_text_url', how='left')\n",
        "long_text_problems_fix() # 15. Fixing long text problems"
      ],
      "metadata": {
        "colab": {
          "base_uri": "https://localhost:8080/"
        },
        "id": "aevTT62bXemL",
        "outputId": "33f84ace-4fc3-4b2c-f0f4-ef8cff76d57e"
      },
      "execution_count": 68,
      "outputs": [
        {
          "output_type": "stream",
          "name": "stdout",
          "text": [
            "All long texts were found\n"
          ]
        }
      ]
    },
    {
      "cell_type": "code",
      "source": [
        "# Checking collected lines\n",
        "\n",
        "pages_counter = artinvest_pages_counter_stat.loc[artinvest_pages_counter_stat['parsing_date']==artinvest_pages_counter_stat['parsing_date'].max()][['page_url', 'page_title', 'records_total']]\n",
        "data_counter = artinvest_news_articles_data.groupby(['page_title']).size().to_frame(name = 'count').reset_index()\n",
        "combo = pages_counter.merge(data_counter, on='page_title', how='outer')\n",
        "combo['delta'] = combo['records_total'] - combo['count']\n",
        "\n",
        "problem_archive_pages = combo.loc[combo['delta']!=0]['page_url'].tolist()\n",
        "if len(problem_archive_pages)==0:\n",
        "  print('Records delta has not found')\n",
        "else:\n",
        "  display(combo.loc[combo['page_url'].isin(problem_archive_pages)])"
      ],
      "metadata": {
        "colab": {
          "base_uri": "https://localhost:8080/"
        },
        "id": "T1Ui4n1Qb2c9",
        "outputId": "5107da4d-9aaa-4094-fe54-fb2545312d76"
      },
      "execution_count": 69,
      "outputs": [
        {
          "output_type": "stream",
          "name": "stdout",
          "text": [
            "Records delta has not found\n"
          ]
        }
      ]
    },
    {
      "cell_type": "code",
      "source": [
        "# Parsing artinvest_news_articles_data ARCHIVE again\n",
        "# !!!\n",
        "confirmation = input('Confirm the archive parsing (y/n)')\n",
        "if confirmation == 'y':\n",
        "  print('Parsing is started')\n",
        "  get_artinvest_news_articles_archive(problem_archive_pages[0]) # 10. Parsing artinvest_news_articles_data ARCHIVE\n",
        "else:\n",
        "  print('Nothing has happened')"
      ],
      "metadata": {
        "id": "5VMbZsklahET",
        "colab": {
          "base_uri": "https://localhost:8080/"
        },
        "outputId": "d777350b-a3e5-4c26-d226-0a4dd0c1234b"
      },
      "execution_count": null,
      "outputs": [
        {
          "output_type": "stream",
          "name": "stdout",
          "text": [
            "Confirm the archive parsing (y/n)n\n",
            "Nothing has happened\n"
          ]
        }
      ]
    },
    {
      "cell_type": "code",
      "source": [
        "get_graphics()"
      ],
      "metadata": {
        "colab": {
          "base_uri": "https://localhost:8080/",
          "height": 1000
        },
        "id": "L_V6gZIrOBur",
        "outputId": "01e6cea6-69ef-4338-ef41-4250408890e7"
      },
      "execution_count": 43,
      "outputs": [
        {
          "output_type": "stream",
          "name": "stdout",
          "text": [
            "Checking responses status & Parsing date\n",
            "\n"
          ]
        },
        {
          "output_type": "display_data",
          "data": {
            "image/png": "[encoded data removed]",
            "text/plain": [
              "<Figure size 864x288 with 2 Axes>"
            ]
          },
          "metadata": {
            "needs_background": "light"
          }
        },
        {
          "output_type": "stream",
          "name": "stdout",
          "text": [
            "\n",
            "Collecting Pages counter mining avarege speed\n",
            "\n"
          ]
        },
        {
          "output_type": "display_data",
          "data": {
            "image/png": "[encoded data removed]",
            "text/plain": [
              "<Figure size 864x288 with 3 Axes>"
            ]
          },
          "metadata": {
            "needs_background": "light"
          }
        },
        {
          "output_type": "stream",
          "name": "stdout",
          "text": [
            "\n",
            "Collecting Data mining avarege speed\n",
            "\n"
          ]
        },
        {
          "output_type": "display_data",
          "data": {
            "image/png": "[encoded data removed]",
            "text/plain": [
              "<Figure size 864x288 with 4 Axes>"
            ]
          },
          "metadata": {
            "needs_background": "light"
          }
        },
        {
          "output_type": "stream",
          "name": "stdout",
          "text": [
            "\n",
            "Articles counting\n",
            "\n"
          ]
        },
        {
          "output_type": "display_data",
          "data": {
            "image/png": "[encoded data removed]",
            "text/plain": [
              "<Figure size 432x288 with 1 Axes>"
            ]
          },
          "metadata": {
            "needs_background": "light"
          }
        },
        {
          "output_type": "stream",
          "name": "stdout",
          "text": [
            "\n",
            "New articles titles:\n",
            "\n",
            "Объявлен список участников 59-й Венецианской биеннале\n",
            "Фонд Роберта Раушенберга создаст онлайн-каталог работ художника\n",
            "В Вене открылась выставка, посвященная влиянию Фрейда на творчество Дали\n",
            "От идеи создания центра Эрмитажа в Барселоне решено отказаться\n",
            "Архив семьи Рерихов останется в Музее Востока\n",
            "Открыты 415-е торги AI Аукциона\n",
            "Персона недели: Рубен Апресян\n"
          ]
        }
      ]
    },
    {
      "cell_type": "code",
      "source": [
        "artinvest_pages_counter_stat.info()"
      ],
      "metadata": {
        "colab": {
          "base_uri": "https://localhost:8080/"
        },
        "id": "BAvENkyW0ZEd",
        "outputId": "8022d1c9-7508-40d8-bd97-07c5fad36648"
      },
      "execution_count": 44,
      "outputs": [
        {
          "output_type": "stream",
          "name": "stdout",
          "text": [
            "<class 'pandas.core.frame.DataFrame'>\n",
            "RangeIndex: 74 entries, 0 to 73\n",
            "Data columns (total 10 columns):\n",
            " #   Column             Non-Null Count  Dtype  \n",
            "---  ------             --------------  -----  \n",
            " 0   page_url           74 non-null     object \n",
            " 1   page_title         74 non-null     object \n",
            " 2   records_total      74 non-null     int64  \n",
            " 3   pages_total        74 non-null     int64  \n",
            " 4   records_max        74 non-null     int64  \n",
            " 5   records_value      74 non-null     int64  \n",
            " 6   first_page_url     74 non-null     object \n",
            " 7   parsing_date       74 non-null     object \n",
            " 8   parsing_time       74 non-null     object \n",
            " 9   parsing_sec_speed  74 non-null     float64\n",
            "dtypes: float64(1), int64(4), object(5)\n",
            "memory usage: 5.9+ KB\n"
          ]
        }
      ]
    },
    {
      "cell_type": "code",
      "source": [
        "artinvest_news_articles_w_text.info()"
      ],
      "metadata": {
        "colab": {
          "base_uri": "https://localhost:8080/"
        },
        "id": "7wjfEXlP6NLg",
        "outputId": "cd315c46-083b-4a02-fd2c-6cb335947a64"
      },
      "execution_count": 45,
      "outputs": [
        {
          "output_type": "stream",
          "name": "stdout",
          "text": [
            "<class 'pandas.core.frame.DataFrame'>\n",
            "Int64Index: 12980 entries, 0 to 12979\n",
            "Data columns (total 13 columns):\n",
            " #   Column               Non-Null Count  Dtype  \n",
            "---  ------               --------------  -----  \n",
            " 0   date                 12980 non-null  object \n",
            " 1   link                 12980 non-null  object \n",
            " 2   title                12980 non-null  object \n",
            " 3   short_text           12980 non-null  object \n",
            " 4   page_url             12980 non-null  object \n",
            " 5   page_title           12980 non-null  object \n",
            " 6   parsing_date         12980 non-null  object \n",
            " 7   parsing_time         12980 non-null  object \n",
            " 8   parsing_sec_speed    12980 non-null  float64\n",
            " 9   long_text_url        12980 non-null  object \n",
            " 10  long_text            12980 non-null  object \n",
            " 11  sourses              12980 non-null  object \n",
            " 12  parsing_sec_speed_2  12980 non-null  float64\n",
            "dtypes: float64(2), object(11)\n",
            "memory usage: 1.4+ MB\n"
          ]
        }
      ]
    },
    {
      "cell_type": "code",
      "source": [
        "artinvest_long_text_df.info()"
      ],
      "metadata": {
        "id": "1tW9boy6W-pY",
        "colab": {
          "base_uri": "https://localhost:8080/"
        },
        "outputId": "20a0c665-287a-4cfc-888f-2ba89f1e82b2"
      },
      "execution_count": 46,
      "outputs": [
        {
          "output_type": "stream",
          "name": "stdout",
          "text": [
            "<class 'pandas.core.frame.DataFrame'>\n",
            "RangeIndex: 12980 entries, 0 to 12979\n",
            "Data columns (total 4 columns):\n",
            " #   Column               Non-Null Count  Dtype  \n",
            "---  ------               --------------  -----  \n",
            " 0   long_text_url        12980 non-null  object \n",
            " 1   long_text            12980 non-null  object \n",
            " 2   sourses              12980 non-null  object \n",
            " 3   parsing_sec_speed_2  12980 non-null  float64\n",
            "dtypes: float64(1), object(3)\n",
            "memory usage: 405.8+ KB\n"
          ]
        }
      ]
    },
    {
      "cell_type": "code",
      "source": [
        "#page_statistic = page_statistic[0:0]\n",
        "page_statistic.info()"
      ],
      "metadata": {
        "colab": {
          "base_uri": "https://localhost:8080/"
        },
        "id": "mHKVdAJJPYJ2",
        "outputId": "93975482-0c68-4799-fda2-6de7c1095a13"
      },
      "execution_count": 47,
      "outputs": [
        {
          "output_type": "stream",
          "name": "stdout",
          "text": [
            "<class 'pandas.core.frame.DataFrame'>\n",
            "RangeIndex: 14510 entries, 0 to 14509\n",
            "Data columns (total 7 columns):\n",
            " #   Column             Non-Null Count  Dtype  \n",
            "---  ------             --------------  -----  \n",
            " 0   page_url           14510 non-null  object \n",
            " 1   status_code        14510 non-null  int64  \n",
            " 2   encoding           14510 non-null  object \n",
            " 3   raise_for_status   0 non-null      float64\n",
            " 4   parsing_date       14510 non-null  object \n",
            " 5   parsing_time       14510 non-null  object \n",
            " 6   parsing_sec_speed  14510 non-null  float64\n",
            "dtypes: float64(2), int64(1), object(4)\n",
            "memory usage: 793.6+ KB\n"
          ]
        }
      ]
    },
    {
      "cell_type": "code",
      "source": [
        "#artinvest_pages_counter_stat.to_csv(art_project_path + '/artinvest_pages_counter_stat.csv', index=False)"
      ],
      "metadata": {
        "id": "sHyg0g2hDse1"
      },
      "execution_count": null,
      "outputs": []
    },
    {
      "cell_type": "code",
      "source": [
        "#artinvest_news_articles_data.to_csv(art_project_path + '/artinvest_news_articles_data.csv', index=False)"
      ],
      "metadata": {
        "id": "Rwqw8erUBHjE"
      },
      "execution_count": null,
      "outputs": []
    },
    {
      "cell_type": "code",
      "source": [
        "#artinvest_long_text_df.to_csv(art_project_path + '/artinvest_long_text.csv', index=False)"
      ],
      "metadata": {
        "id": "n8dd6xGS6yDL"
      },
      "execution_count": null,
      "outputs": []
    },
    {
      "cell_type": "code",
      "source": [
        "#page_statistic.to_csv(art_project_path + '/page_parsing_status.csv', index=False)"
      ],
      "metadata": {
        "id": "Ro3Bi1rC7mhf"
      },
      "execution_count": null,
      "outputs": []
    },
    {
      "cell_type": "code",
      "source": [
        "artinvest_long_text_df = open_artinvest_long_text()"
      ],
      "metadata": {
        "id": "ZHDSjf4dEkMv"
      },
      "execution_count": null,
      "outputs": []
    },
    {
      "cell_type": "code",
      "source": [
        "artinvest_long_text_df['long_text'][0]"
      ],
      "metadata": {
        "colab": {
          "base_uri": "https://localhost:8080/",
          "height": 313
        },
        "id": "5fDAymwGA1IR",
        "outputId": "68484d64-f0fd-46b4-ce6b-d5a60c1f178b"
      },
      "execution_count": null,
      "outputs": [
        {
          "output_type": "execute_result",
          "data": {
            "application/vnd.google.colaboratory.intrinsic+json": {
              "type": "string"
            },
            "text/plain": [
              "\"['Вчера, 7 декабря 2021,  аукционный дом Sotheby’s провел в своем лондонском офисе  торги одного лота — римской мраморной скульптуры богини Афродиты, известной как  Афродита Гамильтона (по имени одного из владельцев). Лот был выставлен с  оценкой £2–3 млн, но в ходе 20-минутной аукционной борьбы между пятью  претендентами скульптура превысила эстимейт как минимум в девять раз. Новому  владельцу — некому азиатскому клиенту Sotheby’s,  чьи ставки называла менеджер по работе с клиентами Николь Чинг — Афродита  Гамильтона досталась за £18,6 млн ($24,6 млн) с учетом комиссии аукционного  дома. Это новый аукционный рекорд для античной мраморной скульптуры.', 'Афродита Гамильтона  была продана дороже, чем античный мраморный бюст Антиноя II в. н. э., за  который в 2010 году заплатили $23,8 млн. Впрочем результатам Афродиты и Антиноя  не удастся потягаться с абсолютным рекордом для древней скульптуры вообще: с  2007 года он безраздельно принадлежит миниатюрной 8-сантиметровой вавилонской  статуэтке Львица Гуэннола, проданной за $57,2 млн.', 'Афродита Гамильтона  датируется I–II вв. н.э. Это римская копия с  утерянного древнегреческого оригинала IV в. до н.э. — знаменитой Афродиты Книдской  Праксителя. Скульптуру в 1776 году купил во время поездки в Италию 8-й герцог  Гамильтон. По словам дилера, организовавшего эту сделку в Риме, шотландский  герцог был с первого взгляда покорен скульптурой и сразу же согласился ее  купить. Герцог отвез Афродиту в свое шотландское поместье Гамильтон-пэлес, где  скульптура провела последующие 144 года. Из семейной коллекции герцогов  Гамильтон скульптуру Афродиты в 1920 году продали американскому издателю  Уильяму Рэндольфу Херсту. В последний раз она проходила через открытые торги  около 70 лет назад — в 1949 году.', 'Материал  подготовила Мария Онучина, AI', 'Источник: artnews.com, observer.com', '\\\\n\\\\n']\""
            ]
          },
          "metadata": {},
          "execution_count": 6
        }
      ]
    },
    {
      "cell_type": "code",
      "source": [
        "artinvest_long_text_df['sourses'][0]"
      ],
      "metadata": {
        "colab": {
          "base_uri": "https://localhost:8080/",
          "height": 53
        },
        "id": "BORsuKrpBJHS",
        "outputId": "9003b30d-7831-474d-cc6c-e9ff90ca89c0"
      },
      "execution_count": null,
      "outputs": [
        {
          "output_type": "execute_result",
          "data": {
            "application/vnd.google.colaboratory.intrinsic+json": {
              "type": "string"
            },
            "text/plain": [
              "\"['https://www.artnews.com/art-news/market/hamilton-aphrodite-auction-record-1234612590/', 'https://observer.com/2021/11/a-scotsmans-beloved-hamilton-aphrodite-is-going-up-for-auction-at-sothebys/']\""
            ]
          },
          "metadata": {},
          "execution_count": 7
        }
      ]
    },
    {
      "cell_type": "code",
      "source": [
        "print(artinvest_news_articles_data['page_url'][0])\n",
        "print(artinvest_news_articles_data['long_text_url'][0])"
      ],
      "metadata": {
        "colab": {
          "base_uri": "https://localhost:8080/"
        },
        "id": "6YDAphytdjfT",
        "outputId": "cb7006bc-bfea-4e3e-dd82-5ae02ac767a8"
      },
      "execution_count": null,
      "outputs": [
        {
          "output_type": "stream",
          "name": "stdout",
          "text": [
            "https://artinvestment.ru/news/artnews/\n",
            "https://artinvestment.ru/news/artnews/20211208_Aphrodite_sale.html\n"
          ]
        }
      ]
    },
    {
      "cell_type": "code",
      "source": [
        "data = open_news_articles_data(artinvest_d)\n",
        "data.info()"
      ],
      "metadata": {
        "colab": {
          "base_uri": "https://localhost:8080/"
        },
        "id": "8zwiKQCgV5UY",
        "outputId": "cd1e6ff5-c367-4a9c-a9bf-218579e007c9"
      },
      "execution_count": 63,
      "outputs": [
        {
          "output_type": "stream",
          "name": "stdout",
          "text": [
            "<class 'pandas.core.frame.DataFrame'>\n",
            "RangeIndex: 12980 entries, 0 to 12979\n",
            "Data columns (total 10 columns):\n",
            " #   Column             Non-Null Count  Dtype  \n",
            "---  ------             --------------  -----  \n",
            " 0   date               12980 non-null  object \n",
            " 1   link               12980 non-null  object \n",
            " 2   title              12980 non-null  object \n",
            " 3   short_text         12980 non-null  object \n",
            " 4   page_url           12980 non-null  object \n",
            " 5   page_title         12980 non-null  object \n",
            " 6   parsing_date       12980 non-null  object \n",
            " 7   parsing_time       12980 non-null  object \n",
            " 8   parsing_sec_speed  12980 non-null  float64\n",
            " 9   long_text_url      12980 non-null  object \n",
            "dtypes: float64(1), object(9)\n",
            "memory usage: 1014.2+ KB\n"
          ]
        }
      ]
    },
    {
      "cell_type": "code",
      "source": [
        "data['date_type'] = data['date'].apply(lambda x: type(x))\n",
        "data['parsing_date_type'] = data['parsing_date'].apply(lambda x: type(x))\n",
        "data[['date', 'date_type', 'parsing_date', 'parsing_date_type']].head()"
      ],
      "metadata": {
        "colab": {
          "base_uri": "https://localhost:8080/",
          "height": 206
        },
        "id": "7MYZ9V_GV5QF",
        "outputId": "e5a48b79-cbae-460f-c598-c70218e88865"
      },
      "execution_count": 65,
      "outputs": [
        {
          "output_type": "execute_result",
          "data": {
            "text/html": [
              "\n",
              "  <div id=\"df-8f32a975-5439-4d38-8639-f95622637279\">\n",
              "    <div class=\"colab-df-container\">\n",
              "      <div>\n",
              "<style scoped>\n",
              "    .dataframe tbody tr th:only-of-type {\n",
              "        vertical-align: middle;\n",
              "    }\n",
              "\n",
              "    .dataframe tbody tr th {\n",
              "        vertical-align: top;\n",
              "    }\n",
              "\n",
              "    .dataframe thead th {\n",
              "        text-align: right;\n",
              "    }\n",
              "</style>\n",
              "<table border=\"1\" class=\"dataframe\">\n",
              "  <thead>\n",
              "    <tr style=\"text-align: right;\">\n",
              "      <th></th>\n",
              "      <th>date</th>\n",
              "      <th>date_type</th>\n",
              "      <th>parsing_date</th>\n",
              "      <th>parsing_date_type</th>\n",
              "    </tr>\n",
              "  </thead>\n",
              "  <tbody>\n",
              "    <tr>\n",
              "      <th>0</th>\n",
              "      <td>08.12.2021</td>\n",
              "      <td>&lt;class 'str'&gt;</td>\n",
              "      <td>2022-01-14</td>\n",
              "      <td>&lt;class 'str'&gt;</td>\n",
              "    </tr>\n",
              "    <tr>\n",
              "      <th>1</th>\n",
              "      <td>07.12.2021</td>\n",
              "      <td>&lt;class 'str'&gt;</td>\n",
              "      <td>2022-01-14</td>\n",
              "      <td>&lt;class 'str'&gt;</td>\n",
              "    </tr>\n",
              "    <tr>\n",
              "      <th>2</th>\n",
              "      <td>06.12.2021</td>\n",
              "      <td>&lt;class 'str'&gt;</td>\n",
              "      <td>2022-01-14</td>\n",
              "      <td>&lt;class 'str'&gt;</td>\n",
              "    </tr>\n",
              "    <tr>\n",
              "      <th>3</th>\n",
              "      <td>25.11.2021</td>\n",
              "      <td>&lt;class 'str'&gt;</td>\n",
              "      <td>2022-01-14</td>\n",
              "      <td>&lt;class 'str'&gt;</td>\n",
              "    </tr>\n",
              "    <tr>\n",
              "      <th>4</th>\n",
              "      <td>24.11.2021</td>\n",
              "      <td>&lt;class 'str'&gt;</td>\n",
              "      <td>2022-01-14</td>\n",
              "      <td>&lt;class 'str'&gt;</td>\n",
              "    </tr>\n",
              "  </tbody>\n",
              "</table>\n",
              "</div>\n",
              "      <button class=\"colab-df-convert\" onclick=\"convertToInteractive('df-8f32a975-5439-4d38-8639-f95622637279')\"\n",
              "              title=\"Convert this dataframe to an interactive table.\"\n",
              "              style=\"display:none;\">\n",
              "        \n",
              "  <svg xmlns=\"http://www.w3.org/2000/svg\" height=\"24px\"viewBox=\"0 0 24 24\"\n",
              "       width=\"24px\">\n",
              "    <path d=\"M0 0h24v24H0V0z\" fill=\"none\"/>\n",
              "    <path d=\"M18.56 5.44l.94 2.06.94-2.06 2.06-.94-2.06-.94-.94-2.06-.94 2.06-2.06.94zm-11 1L8.5 8.5l.94-2.06 2.06-.94-2.06-.94L8.5 2.5l-.94 2.06-2.06.94zm10 10l.94 2.06.94-2.06 2.06-.94-2.06-.94-.94-2.06-.94 2.06-2.06.94z\"/><path d=\"M17.41 7.96l-1.37-1.37c-.4-.4-.92-.59-1.43-.59-.52 0-1.04.2-1.43.59L10.3 9.45l-7.72 7.72c-.78.78-.78 2.05 0 2.83L4 21.41c.39.39.9.59 1.41.59.51 0 1.02-.2 1.41-.59l7.78-7.78 2.81-2.81c.8-.78.8-2.07 0-2.86zM5.41 20L4 18.59l7.72-7.72 1.47 1.35L5.41 20z\"/>\n",
              "  </svg>\n",
              "      </button>\n",
              "      \n",
              "  <style>\n",
              "    .colab-df-container {\n",
              "      display:flex;\n",
              "      flex-wrap:wrap;\n",
              "      gap: 12px;\n",
              "    }\n",
              "\n",
              "    .colab-df-convert {\n",
              "      background-color: #E8F0FE;\n",
              "      border: none;\n",
              "      border-radius: 50%;\n",
              "      cursor: pointer;\n",
              "      display: none;\n",
              "      fill: #1967D2;\n",
              "      height: 32px;\n",
              "      padding: 0 0 0 0;\n",
              "      width: 32px;\n",
              "    }\n",
              "\n",
              "    .colab-df-convert:hover {\n",
              "      background-color: #E2EBFA;\n",
              "      box-shadow: 0px 1px 2px rgba(60, 64, 67, 0.3), 0px 1px 3px 1px rgba(60, 64, 67, 0.15);\n",
              "      fill: #174EA6;\n",
              "    }\n",
              "\n",
              "    [theme=dark] .colab-df-convert {\n",
              "      background-color: #3B4455;\n",
              "      fill: #D2E3FC;\n",
              "    }\n",
              "\n",
              "    [theme=dark] .colab-df-convert:hover {\n",
              "      background-color: #434B5C;\n",
              "      box-shadow: 0px 1px 3px 1px rgba(0, 0, 0, 0.15);\n",
              "      filter: drop-shadow(0px 1px 2px rgba(0, 0, 0, 0.3));\n",
              "      fill: #FFFFFF;\n",
              "    }\n",
              "  </style>\n",
              "\n",
              "      <script>\n",
              "        const buttonEl =\n",
              "          document.querySelector('#df-8f32a975-5439-4d38-8639-f95622637279 button.colab-df-convert');\n",
              "        buttonEl.style.display =\n",
              "          google.colab.kernel.accessAllowed ? 'block' : 'none';\n",
              "\n",
              "        async function convertToInteractive(key) {\n",
              "          const element = document.querySelector('#df-8f32a975-5439-4d38-8639-f95622637279');\n",
              "          const dataTable =\n",
              "            await google.colab.kernel.invokeFunction('convertToInteractive',\n",
              "                                                     [key], {});\n",
              "          if (!dataTable) return;\n",
              "\n",
              "          const docLinkHtml = 'Like what you see? Visit the ' +\n",
              "            '<a target=\"_blank\" href=https://colab.research.google.com/notebooks/data_table.ipynb>data table notebook</a>'\n",
              "            + ' to learn more about interactive tables.';\n",
              "          element.innerHTML = '';\n",
              "          dataTable['output_type'] = 'display_data';\n",
              "          await google.colab.output.renderOutput(dataTable, element);\n",
              "          const docLink = document.createElement('div');\n",
              "          docLink.innerHTML = docLinkHtml;\n",
              "          element.appendChild(docLink);\n",
              "        }\n",
              "      </script>\n",
              "    </div>\n",
              "  </div>\n",
              "  "
            ],
            "text/plain": [
              "         date      date_type parsing_date parsing_date_type\n",
              "0  08.12.2021  <class 'str'>   2022-01-14     <class 'str'>\n",
              "1  07.12.2021  <class 'str'>   2022-01-14     <class 'str'>\n",
              "2  06.12.2021  <class 'str'>   2022-01-14     <class 'str'>\n",
              "3  25.11.2021  <class 'str'>   2022-01-14     <class 'str'>\n",
              "4  24.11.2021  <class 'str'>   2022-01-14     <class 'str'>"
            ]
          },
          "metadata": {},
          "execution_count": 65
        }
      ]
    },
    {
      "cell_type": "code",
      "source": [
        ""
      ],
      "metadata": {
        "id": "35UYImFxV5Nb"
      },
      "execution_count": null,
      "outputs": []
    },
    {
      "cell_type": "code",
      "source": [
        ""
      ],
      "metadata": {
        "id": "Qq8rR5I9LcqK"
      },
      "execution_count": null,
      "outputs": []
    },
    {
      "cell_type": "markdown",
      "source": [
        "# theartnewspaper.ru\n",
        "\n",
        "- messages\n",
        "- checking\n",
        "- graphics"
      ],
      "metadata": {
        "id": "HfeCyTvKTDKt"
      }
    },
    {
      "cell_type": "markdown",
      "source": [
        "## Sites parsing"
      ],
      "metadata": {
        "id": "BnbSEEGOUGOO"
      }
    },
    {
      "cell_type": "code",
      "source": [
        "# Parsing current theartnewspaper_data\n",
        "for k1, v1 in sites_for_parsing['theartnewspaper.ru'].items():\n",
        "  print(k1)"
      ],
      "metadata": {
        "colab": {
          "base_uri": "https://localhost:8080/"
        },
        "id": "wb3wKaTGUlnM",
        "outputId": "8fc7c7af-45da-4b68-e074-0cfbd4a8453b"
      },
      "execution_count": null,
      "outputs": [
        {
          "output_type": "stream",
          "name": "stdout",
          "text": [
            "news\n",
            "articles\n",
            "datasets\n",
            "others\n"
          ]
        }
      ]
    },
    {
      "cell_type": "code",
      "source": [
        "# Get links list\n",
        "def get_parsing_links_list_tanp():\n",
        "  sites = open_parsing_dict() # 4. Open dict with sites for parsing\n",
        "  parsing_links_list = []\n",
        "  for s in sites['theartnewspaper.ru']['news']['links']:\n",
        "    parsing_links_list.append(s)\n",
        "  for s in sites['theartnewspaper.ru']['articles']['links']:\n",
        "    parsing_links_list.append(s)\n",
        "  for s in sites['theartnewspaper.ru']['others']['links']:\n",
        "    parsing_links_list.append(s)\n",
        "  return parsing_links_list\n",
        "\n",
        "# Get titles list\n",
        "def get_parsing_titles_list_tanp():\n",
        "  sites = open_parsing_dict() # 4. Open dict with sites for parsing\n",
        "  parsing_titles_list = []\n",
        "  for s in sites['theartnewspaper.ru']['news']['titles']:\n",
        "    parsing_titles_list.append(s)\n",
        "  for s in sites['theartnewspaper.ru']['articles']['titles']:\n",
        "    parsing_titles_list.append(s)\n",
        "  for s in sites['theartnewspaper.ru']['others']['titles']:\n",
        "    parsing_titles_list.append(s)\n",
        "  return parsing_titles_list"
      ],
      "metadata": {
        "id": "3aQE2wvo5K1N"
      },
      "execution_count": 48,
      "outputs": []
    },
    {
      "cell_type": "code",
      "source": [
        "# Parsing current theartnewspaper_data\n",
        "\n",
        "def get_theartnewspaper_pages_curr_data(file, url):\n",
        "  begining_a = time.time()\n",
        "  parsing_speed_a = 0\n",
        "  theartnewspaper_data = open_news_articles_data(file) # 7. Open news_articles_data.csv\n",
        "  theartnewspaper_data['parsing_date'] = theartnewspaper_data['parsing_date'].dropna().apply(lambda x: date_transfomation(x))\n",
        "\n",
        "  parsing_links_list = get_parsing_links_list_tanp() # 8.1 Get links list\n",
        "  parsing_titles_list = get_parsing_titles_list_tanp() # 8.2 Get titles list\n",
        "\n",
        "  for link in parsing_links_list:\n",
        "    news_page = get_page(link) # 1. Collect request status\n",
        "\n",
        "    links_list = []\n",
        "    titles_list = []\n",
        "    dates_list = []\n",
        "    page_title_list = []\n",
        "    short_text_list = []\n",
        "    page_url_list = []\n",
        "\n",
        "    start_time = time.time()\n",
        "    for prenews in news_page.find_all('div', class_='postPreviewsV2Root js-fix-post-previews'):\n",
        "      for a in prenews.find_all('a'):\n",
        "        links_list.append(a.get('href'))\n",
        "        titles_list.append(a.get('title'))\n",
        "    for date in news_page.find_all('div', class_='postPreviewsItemDate'):\n",
        "      dates_list.append(date.get_text())\n",
        "    for p_title in news_page.find_all('div', class_='postPreviewsItemSection'):\n",
        "      page_title_list.append(p_title.get_text())\n",
        "      page_url_list.append(link)\n",
        "    for s_text in news_page.find_all('div', class_='postPreviewsItemTitle2 js-fix-hanging js-icon-read-more'):\n",
        "      short_text_list.append(s_text.get_text())\n",
        "\n",
        "    theartnewspaper_data_new = pd.DataFrame({'date': dates_list,\n",
        "                                             'link': links_list,\n",
        "                                             'title': titles_list,\n",
        "                                             'short_text': short_text_list,\n",
        "                                             'page_url': page_url_list,\n",
        "                                             'page_title': page_title_list\n",
        "                                             })\n",
        "    theartnewspaper_data_new['page_url'] = theartnewspaper_data_new['page_url'].apply(lambda x: x[:-1])\n",
        "    theartnewspaper_data_new['parsing_date'] = datetime.now().date()\n",
        "    theartnewspaper_data_new['parsing_time'] = datetime.now().time()\n",
        "    theartnewspaper_data_new['parsing_sec_speed'] = time.time() - start_time # without long_text collection\n",
        "\n",
        "    # For parsing long texts\n",
        "    theartnewspaper_data_new['long_text_url'] = url[:-1] + theartnewspaper_data_new['link']\n",
        "    long_text_url_list_new = theartnewspaper_data_new['long_text_url'].tolist()\n",
        "    long_text_url_list = theartnewspaper_data['long_text_url'].tolist()\n",
        "    long_text_url_list_temp = list(set(long_text_url_list_new) - set(long_text_url_list)) # only new urls - temporal list\n",
        "    save_long_text_url_list_temp(long_text_url_list_temp) # 14. Save json artinvest_long_text_url_list_temp\n",
        "\n",
        "    collected_pages_a_count = theartnewspaper_data_new['page_url'].count()\n",
        "    theartnewspaper_data = pd.concat([theartnewspaper_data, theartnewspaper_data_new])\n",
        "    theartnewspaper_data.drop_duplicates(subset = 'long_text_url', keep = 'last', inplace = True)\n",
        "    parsing_speed_a = parsing_speed_a + (time.time() - begining_a)\n",
        "\n",
        "    time.sleep(5) # time for renewing json long_text_url_list_temp\n",
        "    get_long_text(theartnewspaper_lt) # 11. Parsing long texts\n",
        "\n",
        "  #theartnewspaper_data.to_csv(art_project_path + '/theartnewspaper_data_new.csv', index=False)\n",
        "  save_df_file(theartnewspaper_data, file)\n",
        "\n",
        "  return print('{} articles have been collected\\nin {} seconds'.format(collected_pages_a_count, parsing_speed_a))"
      ],
      "metadata": {
        "id": "cFpapmcR75eK"
      },
      "execution_count": 49,
      "outputs": []
    },
    {
      "cell_type": "code",
      "source": [
        "# Parsing long texts - saving only new results from the first pages\n",
        "    \n",
        "def get_theartnewspaper_long_text(file):\n",
        "  begining_t = time.time()\n",
        "  parsing_speed_t = 0\n",
        "  theartnewspaper_long_text_df = open_long_text(file) # 12. Open long_text.csv\n",
        "  long_text_url_list = open_long_text_url_list_temp() # 13. Open json long_text_url_list_temp\n",
        "  \n",
        "  long_text_list = []\n",
        "  sourses_list = []\n",
        "  parsing_speed_list = []\n",
        "  add_info_list = []\n",
        "  autors_list = []\n",
        "\n",
        "  for url in long_text_url_list:\n",
        "    text_page = get_page(url) # 1. Collect request status\n",
        "    start_time = time.time()\n",
        "\n",
        "    try:\n",
        "      add_info = [text_page.find('div', class_='postSectionsRoot').find_all('a')[1].get('href'),\n",
        "                  text_page.find('div', class_='postSectionsRoot').find_all('a')[1].get_text()\n",
        "                  ]\n",
        "    except:\n",
        "      add_info = []\n",
        "    add_info_list.append(add_info)\n",
        "  \n",
        "    autors_l = []\n",
        "    for a in text_page.find_all('a', class_='postAuthorsItem'):\n",
        "      autors_l.append(a.get_text())\n",
        "    autors = ', '.join(autors_l)\n",
        "    autors_list.append(autors)\n",
        "\n",
        "    long_text = []\n",
        "    for lc in text_page.find_all('div', class_='leftCol630'):\n",
        "      long_text.append(lc.get_text())\n",
        "    long_text_list.append(long_text)\n",
        "\n",
        "    sourses_list.append([])\n",
        "    parsing_speed_list.append(time.time() - start_time)\n",
        "\n",
        "  theartnewspaper_long_text_df_new = pd.DataFrame({'long_text_url': long_text_url_list_new,\n",
        "                                                   'long_text': long_text_list,\n",
        "                                                   'sourses': sourses_list,\n",
        "                                                   'parsing_sec_speed_2': parsing_speed_list, # for long_text collection without getting page\n",
        "                                                   'autors': autors_list,\n",
        "                                                   'add_info': add_info_list\n",
        "                                                   })\n",
        "  \n",
        "  collected_pages_t_count = theartnewspaper_long_text_df_new['long_text_url'].count()\n",
        "  theartnewspaper_long_text_df = pd.concat([theartnewspaper_long_text_df, theartnewspaper_long_text_df_new])\n",
        "  theartnewspaper_long_text_df.drop_duplicates(subset = 'long_text_url', keep = 'last', inplace = True)\n",
        "  parsing_speed_t = parsing_speed_t + (time.time() - begining_t)\n",
        "\n",
        "  #theartnewspaper_long_text_df.to_csv(art_project_path + file, index=False)\n",
        "  save_df_file(theartnewspaper_long_text_df, file)\n",
        "\n",
        "  return print('{} text pages have been collected\\nin {} seconds\\nAll text pages have been collected - {}'.format(collected_pages_t_count, parsing_speed_t, collected_pages_t_count==len(long_text_url_list)))"
      ],
      "metadata": {
        "id": "6vYHAzaA0dk7"
      },
      "execution_count": 50,
      "outputs": []
    },
    {
      "cell_type": "code",
      "source": [
        "# Parsing\n",
        "start_t = time.time()\n",
        "url_tanp = urls_news[2]\n",
        "get_theartnewspaper_pages_curr_data(theartnewspaper_d, url_tanp)\n",
        "finish_t = time.time() - start_t\n",
        "print('{} seconds have passed'.format(finish_t))"
      ],
      "metadata": {
        "colab": {
          "base_uri": "https://localhost:8080/"
        },
        "id": "jX5hcg1f3auV",
        "outputId": "adb40631-2968-4c16-e13d-9b64de3876d9"
      },
      "execution_count": 52,
      "outputs": [
        {
          "output_type": "stream",
          "name": "stdout",
          "text": [
            "3 text pages have been collected\n",
            "in 3.8456997871398926 seconds\n",
            "All text pages have been collected - True\n",
            "3 text pages have been collected\n",
            "in 5.581342697143555 seconds\n",
            "All text pages have been collected - True\n",
            "1 text pages have been collected\n",
            "in 1.3448419570922852 seconds\n",
            "All text pages have been collected - True\n",
            "0 text pages have been collected\n",
            "in 0.012119293212890625 seconds\n",
            "All text pages have been collected - True\n",
            "0 text pages have been collected\n",
            "in 0.01348423957824707 seconds\n",
            "All text pages have been collected - True\n",
            "0 text pages have been collected\n",
            "in 0.012765169143676758 seconds\n",
            "All text pages have been collected - True\n",
            "0 text pages have been collected\n",
            "in 0.011802196502685547 seconds\n",
            "All text pages have been collected - True\n",
            "6 text pages have been collected\n",
            "in 6.389147520065308 seconds\n",
            "All text pages have been collected - True\n",
            "22 articles have been collected\n",
            "in 265.0368413925171 seconds\n",
            "69.36977505683899 seconds have passed\n"
          ]
        }
      ]
    },
    {
      "cell_type": "markdown",
      "source": [
        "## Checking"
      ],
      "metadata": {
        "id": "XGJwI8_c4xHG"
      }
    },
    {
      "cell_type": "code",
      "source": [
        "theartnewspaper_data = open_news_articles_data(theartnewspaper_d)\n",
        "theartnewspaper_long_text_df = open_long_text(theartnewspaper_lt)"
      ],
      "metadata": {
        "id": "ALEy6e2OEG3W"
      },
      "execution_count": 53,
      "outputs": []
    },
    {
      "cell_type": "code",
      "source": [
        "theartnewspaper_data.info()"
      ],
      "metadata": {
        "colab": {
          "base_uri": "https://localhost:8080/"
        },
        "id": "I6MHA8pZ475a",
        "outputId": "948025be-ee8d-4d5a-af41-5332f7e98132"
      },
      "execution_count": 54,
      "outputs": [
        {
          "output_type": "stream",
          "name": "stdout",
          "text": [
            "<class 'pandas.core.frame.DataFrame'>\n",
            "RangeIndex: 155 entries, 0 to 154\n",
            "Data columns (total 10 columns):\n",
            " #   Column             Non-Null Count  Dtype  \n",
            "---  ------             --------------  -----  \n",
            " 0   date               155 non-null    object \n",
            " 1   link               155 non-null    object \n",
            " 2   title              155 non-null    object \n",
            " 3   short_text         155 non-null    object \n",
            " 4   page_url           155 non-null    object \n",
            " 5   page_title         155 non-null    object \n",
            " 6   parsing_date       155 non-null    object \n",
            " 7   parsing_time       155 non-null    object \n",
            " 8   parsing_sec_speed  155 non-null    float64\n",
            " 9   long_text_url      155 non-null    object \n",
            "dtypes: float64(1), object(9)\n",
            "memory usage: 12.2+ KB\n"
          ]
        }
      ]
    },
    {
      "cell_type": "code",
      "source": [
        "theartnewspaper_long_text_df.info()"
      ],
      "metadata": {
        "colab": {
          "base_uri": "https://localhost:8080/"
        },
        "id": "Vrv9ukJz4-uk",
        "outputId": "3d9b6c27-c766-4593-e047-667f1758542b"
      },
      "execution_count": 55,
      "outputs": [
        {
          "output_type": "stream",
          "name": "stdout",
          "text": [
            "<class 'pandas.core.frame.DataFrame'>\n",
            "RangeIndex: 155 entries, 0 to 154\n",
            "Data columns (total 6 columns):\n",
            " #   Column               Non-Null Count  Dtype  \n",
            "---  ------               --------------  -----  \n",
            " 0   long_text_url        155 non-null    object \n",
            " 1   long_text            155 non-null    object \n",
            " 2   sourses              155 non-null    object \n",
            " 3   parsing_sec_speed_2  155 non-null    float64\n",
            " 4   autors               22 non-null     object \n",
            " 5   add_info             22 non-null     object \n",
            "dtypes: float64(1), object(5)\n",
            "memory usage: 7.4+ KB\n"
          ]
        }
      ]
    },
    {
      "cell_type": "code",
      "source": [
        "theartnewspaper_data.groupby(['page_url']).size()"
      ],
      "metadata": {
        "colab": {
          "base_uri": "https://localhost:8080/"
        },
        "id": "bAdxwRH0DGvE",
        "outputId": "c9f3376c-0b4f-4788-d054-9de81fb06d43"
      },
      "execution_count": 57,
      "outputs": [
        {
          "output_type": "execute_result",
          "data": {
            "text/plain": [
              "page_url\n",
              "https://www.theartnewspaper.ru/sections/conservation         22\n",
              "https://www.theartnewspaper.ru/sections/interviu             22\n",
              "https://www.theartnewspaper.ru/sections/luxury               28\n",
              "https://www.theartnewspaper.ru/sections/markets              21\n",
              "https://www.theartnewspaper.ru/sections/mercedes-benz         7\n",
              "https://www.theartnewspaper.ru/sections/muzei-budushchego     6\n",
              "https://www.theartnewspaper.ru/sections/news                 23\n",
              "https://www.theartnewspaper.ru/sections/shows                26\n",
              "dtype: int64"
            ]
          },
          "metadata": {},
          "execution_count": 57
        }
      ]
    },
    {
      "cell_type": "code",
      "source": [
        "theartnewspaper_data.groupby(['page_title']).size()"
      ],
      "metadata": {
        "colab": {
          "base_uri": "https://localhost:8080/"
        },
        "id": "JDhzviLOCuQH",
        "outputId": "6c816dec-9fbb-4abf-f2ad-6f5d660d8254"
      },
      "execution_count": 58,
      "outputs": [
        {
          "output_type": "execute_result",
          "data": {
            "text/plain": [
              "page_title\n",
              "Cartier                 1\n",
              "Арт-рынок              20\n",
              "Выставки               23\n",
              "Екатеринбург Россия     1\n",
              "Интервью               18\n",
              "Крупным планом          1\n",
              "Москва Россия           1\n",
              "Музей будущего          6\n",
              "Назначения              1\n",
              "Новости                25\n",
              "Париж Франция           1\n",
              "Реставрация            21\n",
              "Роскошь                34\n",
              "Спецпроект              1\n",
              "Фестивали               1\n",
              "dtype: int64"
            ]
          },
          "metadata": {},
          "execution_count": 58
        }
      ]
    },
    {
      "cell_type": "code",
      "source": [
        "theartnewspaper_w_text = theartnewspaper_data.merge(theartnewspaper_long_text_df, on='long_text_url', how='left')"
      ],
      "metadata": {
        "id": "9IBnxXC5EPS6"
      },
      "execution_count": 59,
      "outputs": []
    },
    {
      "cell_type": "code",
      "source": [
        "theartnewspaper_w_text.info()"
      ],
      "metadata": {
        "colab": {
          "base_uri": "https://localhost:8080/"
        },
        "id": "7fUPZtn_EX4F",
        "outputId": "6e6eec97-7b67-49b8-a680-6dfe1ee86b81"
      },
      "execution_count": 60,
      "outputs": [
        {
          "output_type": "stream",
          "name": "stdout",
          "text": [
            "<class 'pandas.core.frame.DataFrame'>\n",
            "Int64Index: 155 entries, 0 to 154\n",
            "Data columns (total 15 columns):\n",
            " #   Column               Non-Null Count  Dtype  \n",
            "---  ------               --------------  -----  \n",
            " 0   date                 155 non-null    object \n",
            " 1   link                 155 non-null    object \n",
            " 2   title                155 non-null    object \n",
            " 3   short_text           155 non-null    object \n",
            " 4   page_url             155 non-null    object \n",
            " 5   page_title           155 non-null    object \n",
            " 6   parsing_date         155 non-null    object \n",
            " 7   parsing_time         155 non-null    object \n",
            " 8   parsing_sec_speed    155 non-null    float64\n",
            " 9   long_text_url        155 non-null    object \n",
            " 10  long_text            155 non-null    object \n",
            " 11  sourses              155 non-null    object \n",
            " 12  parsing_sec_speed_2  155 non-null    float64\n",
            " 13  autors               22 non-null     object \n",
            " 14  add_info             22 non-null     object \n",
            "dtypes: float64(2), object(13)\n",
            "memory usage: 19.4+ KB\n"
          ]
        }
      ]
    },
    {
      "cell_type": "code",
      "source": [
        "theartnewspaper_w_text.loc[theartnewspaper_long_text_df['autors'].isna()==False].groupby(['page_url']).size()"
      ],
      "metadata": {
        "colab": {
          "base_uri": "https://localhost:8080/"
        },
        "id": "4Rl2KsLp9-Js",
        "outputId": "7a37f516-e7e5-4f73-8988-b14ab0621fde"
      },
      "execution_count": 61,
      "outputs": [
        {
          "output_type": "execute_result",
          "data": {
            "text/plain": [
              "page_url\n",
              "https://www.theartnewspaper.ru/sections/luxury      6\n",
              "https://www.theartnewspaper.ru/sections/markets     1\n",
              "https://www.theartnewspaper.ru/sections/news       11\n",
              "https://www.theartnewspaper.ru/sections/shows       4\n",
              "dtype: int64"
            ]
          },
          "metadata": {},
          "execution_count": 61
        }
      ]
    },
    {
      "cell_type": "code",
      "source": [
        "autors_l = ['The Art Newspaper Russia']\n",
        "autors = ', '.join(autors_l)\n",
        "autors"
      ],
      "metadata": {
        "colab": {
          "base_uri": "https://localhost:8080/",
          "height": 35
        },
        "id": "W1dud5PID3Gw",
        "outputId": "cbdac24f-9211-4a2a-b44c-e35bb8f704e8"
      },
      "execution_count": null,
      "outputs": [
        {
          "output_type": "execute_result",
          "data": {
            "application/vnd.google.colaboratory.intrinsic+json": {
              "type": "string"
            },
            "text/plain": [
              "'The Art Newspaper Russia'"
            ]
          },
          "metadata": {},
          "execution_count": 104
        }
      ]
    },
    {
      "cell_type": "code",
      "source": [
        ""
      ],
      "metadata": {
        "id": "yikoN9c_F1T2"
      },
      "execution_count": null,
      "outputs": []
    }
  ]
}