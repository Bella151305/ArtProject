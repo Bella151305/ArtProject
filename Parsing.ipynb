{
  "nbformat": 4,
  "nbformat_minor": 0,
  "metadata": {
    "colab": {
      "name": "Parsing.ipynb",
      "provenance": [],
      "collapsed_sections": [
        "x7U-o_zZnpyW",
        "1XKdCJB1rKZZ"
      ],
      "toc_visible": true,
      "mount_file_id": "1yDq15WALp4ykeprVTZwbR4JRVln3b-DI",
      "authorship_tag": "ABX9TyNqeib6+lNX1ckha122Qj0G"
    },
    "kernelspec": {
      "name": "python3",
      "display_name": "Python 3"
    },
    "language_info": {
      "name": "python"
    }
  },
  "cells": [
    {
      "cell_type": "markdown",
      "source": [
        "# Library"
      ],
      "metadata": {
        "id": "sdoQnofjCr8Y"
      }
    },
    {
      "cell_type": "code",
      "execution_count": 1,
      "metadata": {
        "id": "rTZ3v9rdTwkG"
      },
      "outputs": [],
      "source": [
        "import requests\n",
        "from bs4 import BeautifulSoup\n",
        "from urllib.error import HTTPError\n",
        "\n",
        "import time\n",
        "import datetime\n",
        "from datetime import datetime, timedelta\n",
        "\n",
        "import re\n",
        "import gc\n",
        "\n",
        "import json\n",
        "\n",
        "import warnings\n",
        "warnings.simplefilter(action='ignore')\n",
        "\n",
        "import pandas as pd\n",
        "import numpy as np\n",
        "import sys\n",
        "\n",
        "%matplotlib inline\n",
        "import matplotlib.pyplot as plt"
      ]
    },
    {
      "cell_type": "markdown",
      "source": [
        "## Folders & Files"
      ],
      "metadata": {
        "id": "rlFIffaTPOGu"
      }
    },
    {
      "cell_type": "code",
      "source": [
        "# pathes\n",
        "art_project_path = '/content/drive/MyDrive/Art/Art_Project'\n",
        "art_project_path_backups = '/content/drive/MyDrive/Art/Art_Project/parsing_backups'\n",
        "art_project_path_tests = '/content/drive/MyDrive/Art/Art_Project/parsing_tests'\n",
        "\n",
        "# files\n",
        "page_s = '/page_parsing_status.csv'\n",
        "\n",
        "artinvest_s = '/artinvest_pages_counter_stat.csv'\n",
        "artinvest_d = '/artinvest_news_articles_data.csv'\n",
        "artinvest_lt = '/artinvest_long_text.csv'\n",
        "\n",
        "theartnewspaper_d = '/theartnewspaper_data_new.csv'\n",
        "theartnewspaper_lt = '/theartnewspaper_long_text.csv'"
      ],
      "metadata": {
        "id": "Ftk2MIOTPNKv"
      },
      "execution_count": 2,
      "outputs": []
    },
    {
      "cell_type": "markdown",
      "source": [
        "## Sites' list for parsing"
      ],
      "metadata": {
        "id": "95MQouizMsq8"
      }
    },
    {
      "cell_type": "code",
      "source": [
        "urls_news = ['https://www.theartnewspaper.ru/', 'https://artinvestment.ru/'] # 'https://artguide.com/', 'http://artuzel.com/', \n",
        "# https://artguide.com/ - <div class=\"chromeframe\">\n",
        "#    Ваш браузер <em>устарел!</em> <a href=\"http://browsehappy.com/\">Установите другой браузер</a> или\n",
        "#    <a href=\"http://www.google.com/chromeframe/?redirect=true\">Google Chrome Frame</a>, чтобы просматривать этот сайт.\n",
        "urls_datasets = ['https://artchive.ru/', 'https://artinvestment.ru/']\n",
        "urls_archives = ['https://russianartarchive.net/ru'] # есть API - https://api.raan.garagemca.org/documentation/#/\n",
        "urls_fairs = ['https://www.cosmoscow.com/ru/']"
      ],
      "metadata": {
        "id": "4HJVOzZl7vuj"
      },
      "execution_count": 3,
      "outputs": []
    },
    {
      "cell_type": "code",
      "source": [
        "# topping up dict (manually yet)\n",
        "#                             site,       s_file,        d_file,        lt_file\n",
        "df_dict = {'https://www.theartnewspaper.ru/': ['-', theartnewspaper_d, theartnewspaper_lt], \n",
        "           'https://artinvestment.ru/': [artinvest_s, artinvest_d, artinvest_lt]\n",
        "           }"
      ],
      "metadata": {
        "id": "j5VtxoBePgcP"
      },
      "execution_count": 4,
      "outputs": []
    },
    {
      "cell_type": "markdown",
      "source": [
        "# Unused code"
      ],
      "metadata": {
        "id": "x7U-o_zZnpyW"
      }
    },
    {
      "cell_type": "code",
      "source": [
        "# from requests.exceptions import MissingSchema"
      ],
      "metadata": {
        "id": "YQ8CXMiuFJPd"
      },
      "execution_count": null,
      "outputs": []
    },
    {
      "cell_type": "code",
      "source": [
        "# drop part of df\n",
        "#artinvest_news_articles_data = artinvest_news_articles_data.drop(artinvest_news_articles_data[artinvest_news_articles_data['page_url']=='20220209_Hirst.html'].index)"
      ],
      "metadata": {
        "id": "ArnJtU3EXaoj"
      },
      "execution_count": null,
      "outputs": []
    },
    {
      "cell_type": "code",
      "source": [
        "# delete all data from df\n",
        "#artinvest_news_articles_data = artinvest_news_articles_data[0:0]\n",
        "#theartnewspaper_data = theartnewspaper_data[0:0]"
      ],
      "metadata": {
        "id": "dMAS2hzMrSie"
      },
      "execution_count": null,
      "outputs": []
    },
    {
      "cell_type": "code",
      "source": [
        "#warnings.simplefilter(action='ignore', category=FutureWarning)\n",
        "#warnings.simplefilter(action='ignore', category=SettingWithCopyWarning)"
      ],
      "metadata": {
        "id": "oFCMPP7zrUdK"
      },
      "execution_count": null,
      "outputs": []
    },
    {
      "cell_type": "markdown",
      "source": [
        "# Functions\n",
        "correct:\n",
        "- fix labels in some graphics\n",
        "- unify stat graf"
      ],
      "metadata": {
        "id": "HOmGyFTFNKek"
      }
    },
    {
      "cell_type": "markdown",
      "source": [
        "## Openings and savings\n",
        "1. __open_parsing_dict()__ -> parsing_dict - Open dict with sites for parsing\n",
        "2. __open_file_csv(file, folder)__ -> df - Open file.csv\n",
        "3. __save_df_file(df, file, folder)__ -> - Save df to csv file\n",
        "4. __open_long_text_url_list_temp()__ -> parsing_list - Open json artinvest_long_text_url_list_temp\n",
        "5. __save_long_text_url_list_temp(parsing_list)__ -> - Save json artinvest_long_text_url_list_temp"
      ],
      "metadata": {
        "id": "1Py5yix5qYh_"
      }
    },
    {
      "cell_type": "code",
      "source": [
        "# 1. Open dict with sites for parsing\n",
        "def open_parsing_dict():\n",
        "  with open(art_project_path + '/sites_for_parsing.txt', 'rb') as infile:\n",
        "    parsing_dict = json.load(infile)\n",
        "  return parsing_dict\n",
        "\n",
        "# 2. Open file.csv\n",
        "def open_file_csv(file, folder): # folder: live, backup or test\n",
        "  if folder=='live':\n",
        "    df = pd.read_csv(art_project_path + file)\n",
        "  elif folder=='backup':\n",
        "    df = pd.read_csv(art_project_path_backups + file)\n",
        "  elif folder=='test':\n",
        "    df = pd.read_csv(art_project_path_tests + file)\n",
        "  return df\n",
        "\n",
        "# 3. Save df to csv file\n",
        "def save_df_file(df, file, folder): # folder: live, backup or test\n",
        "  if folder=='live':\n",
        "    df.to_csv(art_project_path + file, index=False)\n",
        "  elif folder=='backup':\n",
        "    df.to_csv(art_project_path_backups + file, index=False)\n",
        "  elif folder=='test':\n",
        "    df.to_csv(art_project_path_tests + file, index=False)\n",
        "\n",
        "# 4. Open json long_text_url_list_temp\n",
        "def open_long_text_url_list_temp():\n",
        "  with open(art_project_path + '/long_text_url_list_temp.txt', 'rb') as infile:\n",
        "    parsing_list = json.load(infile)\n",
        "  return parsing_list\n",
        "\n",
        "# 5. Save json long_text_url_list_temp\n",
        "def save_long_text_url_list_temp(parsing_list):\n",
        "  with open(art_project_path + '/long_text_url_list_temp.txt', 'w') as outfile:\n",
        "    json.dump(parsing_list, outfile)"
      ],
      "metadata": {
        "id": "g2vgnc4LOU-X"
      },
      "execution_count": 5,
      "outputs": []
    },
    {
      "cell_type": "markdown",
      "source": [
        "## Data mining\n",
        "6. __get_page(url)__ -> bs_page - Collect request status\n",
        "7. __get_parsing_lists(site)__ -> links, titles - Get links & titles lists\n",
        "8. Parsing pages_counter_stat:\n",
        "- 8.1 __get_artinvest_pages_counter_stat(page_url, page, parsing_links, parsing_titles)__ -> df_counter_new - Parsing artinvest pages_counter_stat\n",
        "9. Parsing current news_articles_data:\n",
        "- 9.1 __get_artinvest_pages_curr_data(page_url, page, parsing_links, parsing_titles)__ -> df_data_new, long_text_url_list_new, print(message) - Parsing artinvest current news_articles_data\n",
        "- 9.2 __get_tanp_pages_curr_data(page_url, page, parsing_links, parsing_titles)__ -> df_data_new, long_text_url_list_new, print(message) - Parsing tanp current news_articles_data\n",
        "10. Parsing long texts:\n",
        "- 10.1 __get_artinvest_long_text(text_page)__ -> long_text_list_new, sourses_list_new, parsing_speed_list_new - Parsing artinvest long texts\n",
        "- 10.2 __get_tanp_long_text(text_page)__ -> long_text_list_new, sourses_list_new, parsing_speed_list_new - Parsing tanp long texts\n",
        "11. Functions aggrigators:\n",
        "- 11.1 __parsing_agg_sd(site, s_file, d_file, lt_file)__ -> print(message) - Getting pages_counter_stat, pages_curr_data csv files and json long_text_url_list_temp\n",
        "- 11.2 __parsing_agg_lt(lt_file)__ -> print(message) - Getting long texts files\n",
        "12. __long_text_problems_fix(lt_file, df)__ -> print(message) - Fixing long text problems\n",
        "13. __get_news_articles_archive(s_file, d_file, lt_file, p_url)__ -> - Parsing news_articles_data ARCHIVE\n",
        "14. __date_transfomation(cell)__ -> cell - Date transfomation\n",
        "15. __get_stat_graphics()__ - Stat graphics\n",
        "16. __get_articles_graphic(df)__ - Articles counting"
      ],
      "metadata": {
        "id": "ySkBh6S8q6wv"
      }
    },
    {
      "cell_type": "markdown",
      "source": [
        "### get_page"
      ],
      "metadata": {
        "id": "suaU4o20Yxvc"
      }
    },
    {
      "cell_type": "code",
      "source": [
        "# 6. Collect request status - saving every get result\n",
        "\n",
        "def get_page(url):\n",
        "  start_time = time.time()\n",
        "\n",
        "  response = requests.get(url, headers={'User-Agent': 'Chrome/97.0.4692.71'}) # timeout=0.001\n",
        "# Edge/97.0.1072.55\n",
        "# Chrome/97.0.4692.71\n",
        "  try:\n",
        "    response.raise_for_status()\n",
        "\n",
        "  except requests.exceptions.HTTPError: # for correction\n",
        "    sys.exit(print('HTTPError: ' + str(url)))\n",
        "\n",
        "#except (HTTPError, MissingSchema): \n",
        "# 503 Server Error: Service Temporarily Unavailable for url: https://artinvestment.ru/news/artnews/ \n",
        "# Invalid URL\n",
        "\n",
        "  else:\n",
        "    get_page_stat_new = pd.DataFrame({'page_url': [url],\n",
        "                                      'status_code': [response.status_code],\n",
        "                                      'encoding': [response.encoding],\n",
        "                                      'raise_for_status': [response.raise_for_status()],\n",
        "                                      'parsing_date': [datetime.now().date()],\n",
        "                                      'parsing_time': [datetime.now().time()],\n",
        "                                      'parsing_sec_speed': [time.time() - start_time]})\n",
        "\n",
        "    bs_page = BeautifulSoup(response.text, 'html.parser')\n",
        "  \n",
        "    get_page_stat = open_file_csv(page_s, 'live') # 2. Open file.csv\n",
        "    get_page_stat = pd.concat([get_page_stat, get_page_stat_new])\n",
        "    save_df_file(get_page_stat, page_s, 'live') # 3. Save df to csv file\n",
        "\n",
        "    return bs_page"
      ],
      "metadata": {
        "id": "zOplYaix8RVK"
      },
      "execution_count": 6,
      "outputs": []
    },
    {
      "cell_type": "markdown",
      "source": [
        "### get_parsing_lists"
      ],
      "metadata": {
        "id": "Ubuse9x_Y-jE"
      }
    },
    {
      "cell_type": "code",
      "source": [
        "# 7. Get links & titles lists (site == url from sites' list for parsing)\n",
        "\n",
        "def get_parsing_lists(site):\n",
        "  sites = open_parsing_dict() # 1. Open dict with sites for parsing\n",
        "  sites_list = [k for k in sites.keys()]\n",
        "  cat_dict = ['news', 'articles'] # topping up list\n",
        "  \n",
        "  links = []\n",
        "  titles = []\n",
        "\n",
        "  for cat in cat_dict:\n",
        "    for k in sites_list:\n",
        "      if k==site:\n",
        "        for i in sites[k]:\n",
        "          if i==cat:\n",
        "            links = list(links + sites[k][i]['links'])\n",
        "            titles = list(titles + sites[k][i]['titles'])\n",
        "  \n",
        "  return links, titles"
      ],
      "metadata": {
        "id": "9EoGmWhr1AmJ"
      },
      "execution_count": 7,
      "outputs": []
    },
    {
      "cell_type": "markdown",
      "source": [
        "### get_pages_counter_stat"
      ],
      "metadata": {
        "id": "JatrYG2TZGLa"
      }
    },
    {
      "cell_type": "markdown",
      "source": [
        "#### artinvestment.ru"
      ],
      "metadata": {
        "id": "QCaj_UX0QSaV"
      }
    },
    {
      "cell_type": "code",
      "source": [
        "# 8.1 Parsing artinvest pages_counter_stat - saving last parsing results from the first pages\n",
        "\n",
        "def get_artinvest_pages_counter_stat(page_url, page, parsing_links, parsing_titles):\n",
        "  start_time = time.time()\n",
        "\n",
        "  # counter block of the page with news list - one for every news' category\n",
        "  table_blocks = page.find_all('div', class_='pager')\n",
        "  # problems can start from here\n",
        "  global df_counter_new\n",
        "  df_counter_new = pd.DataFrame({'page_url': [page_url],\n",
        "                                 'page_title': [parsing_titles[parsing_links.index(page_url)]],\n",
        "                                 'records_total': [int(table_blocks[0].find_all('em')[0].text)],\n",
        "                                 'pages_total': [int(table_blocks[0].find_all('em')[1].text)],\n",
        "                                 'records_max': [int(table_blocks[0].find('input').get('title').split(' ')[1])],\n",
        "                                 'records_value': [int(table_blocks[0].find('input').get('value'))],\n",
        "                                 'first_page_url': [table_blocks[0].find('a').get('href')],\n",
        "                                 'parsing_date': [datetime.now().date()],\n",
        "                                 'parsing_time': [datetime.now().time()],\n",
        "                                 'parsing_sec_speed': [time.time() - start_time]\n",
        "                                 })\n",
        "\n",
        "  return df_counter_new"
      ],
      "metadata": {
        "id": "hqg2VWsIO2Xm"
      },
      "execution_count": 8,
      "outputs": []
    },
    {
      "cell_type": "markdown",
      "source": [
        "### get_pages_curr_data"
      ],
      "metadata": {
        "id": "4k0FrIkpZCNm"
      }
    },
    {
      "cell_type": "markdown",
      "source": [
        "#### artinvestment.ru"
      ],
      "metadata": {
        "id": "lawZgkMDQhXB"
      }
    },
    {
      "cell_type": "code",
      "source": [
        "# 9.1 Parsing artinvest current news_articles_data - saving last parsing results from the first pages\n",
        "\n",
        "def get_artinvest_pages_curr_data(page_url, page, parsing_links, parsing_titles):\n",
        "  start_time = time.time()\n",
        "  \n",
        "  # News categories\n",
        "  list_advices = page.find_all('ul', class_='list advices')\n",
        "  # problems can start from here\n",
        "  dates_list = []\n",
        "  for em in list_advices[0].find_all('em'):\n",
        "    dates_list.append(em.text)\n",
        "  links_list = []\n",
        "  titles_list = []\n",
        "  for a in list_advices[0].find_all('a'):\n",
        "    if re.compile('\\d+').search(str(a.get('href')))is not None:\n",
        "      links_list.append(a.get('href'))\n",
        "    if a.get('title') is not None:\n",
        "      titles_list.append(a.get('title'))\n",
        "  short_text_list = []\n",
        "  for span in list_advices[0].find_all('span')[1::2]:\n",
        "    short_text_list.append(span.text)\n",
        "\n",
        "  global df_data_new\n",
        "  df_data_new = pd.DataFrame({'date': dates_list, # date of news\n",
        "                              'link': links_list, # link to news\n",
        "                              'title': titles_list, # title of news\n",
        "                              'short_text': short_text_list, # news' preview\n",
        "                              })\n",
        "  df_data_new['page_url'] = page_url # link to category of news - the same\n",
        "  df_data_new['page_title'] = parsing_titles[parsing_links.index(page_url)] # title of news' category - the same\n",
        "\n",
        "  # For parsing long texts - beginning\n",
        "  df_data_new['long_text_url'] = df_data_new['page_url'] + df_data_new['link']\n",
        "  global long_text_url_list_new\n",
        "  long_text_url_list_new = df_data_new['long_text_url'].tolist()\n",
        "\n",
        "  df_data_new['parsing_date'] = datetime.now().date()\n",
        "  df_data_new['parsing_time'] = datetime.now().time()\n",
        "  df_data_new['parsing_sec_speed'] = time.time() - start_time # without long_text collection\n",
        "\n",
        "  collected_pages_a_count = df_data_new['link'].count()\n",
        "\n",
        "  return df_data_new, long_text_url_list_new, print('{} articles have been collected\\nin {} seconds'.format(collected_pages_a_count, (time.time() - start_time)))"
      ],
      "metadata": {
        "id": "NT9O_dyNAIlP"
      },
      "execution_count": 9,
      "outputs": []
    },
    {
      "cell_type": "markdown",
      "source": [
        "#### theartnewspaper.ru"
      ],
      "metadata": {
        "id": "8xiY6a9-Qx9H"
      }
    },
    {
      "cell_type": "code",
      "source": [
        "# 9.2 Parsing tanp current news_articles_data - saving last parsing results from the first pages\n",
        "\n",
        "def get_tanp_pages_curr_data(page_url, page, parsing_links, parsing_titles):\n",
        "  start_time = time.time()\n",
        "  \n",
        "  # News categories\n",
        "  links_list = []\n",
        "  titles_list = []\n",
        "  for prenews in page.find_all('div', class_='postPreviewsV2Root js-fix-post-previews'):\n",
        "    # problems can start from here\n",
        "    for a in prenews.find_all('a'):\n",
        "      links_list.append(a.get('href'))\n",
        "      titles_list.append(a.get('title'))\n",
        "  dates_list = []\n",
        "  for date in page.find_all('div', class_='postPreviewsItemDate'):\n",
        "    # problems can start from here\n",
        "    dates_list.append(date.get_text())\n",
        "  page_title_list = []\n",
        "  page_url_list = []\n",
        "  for p_title in page.find_all('div', class_='postPreviewsItemSection'):\n",
        "    # problems can start from here\n",
        "    page_title_list.append(p_title.get_text())\n",
        "    page_url_list.append(page_url)\n",
        "  short_text_list = []\n",
        "  for s_text in page.find_all('div', class_='postPreviewsItemTitle2 js-fix-hanging js-icon-read-more'):\n",
        "    # problems can start from here\n",
        "    short_text_list.append(s_text.get_text())\n",
        "\n",
        "  global df_data_new\n",
        "  df_data_new = pd.DataFrame({'date': dates_list, # date of news\n",
        "                              'link': links_list, # link to news\n",
        "                              'title': titles_list, # title of news\n",
        "                              'short_text': short_text_list, # news' preview\n",
        "                              'page_url': page_url_list, # link to category of news - the same\n",
        "                              'page_title': page_title_list # title of news' category - not the same\n",
        "                                             })\n",
        "  \n",
        "  # For parsing long texts - beginning\n",
        "  df_data_new['long_text_url'] = df_data_new['page_url'].apply(lambda x: x.split('/')[0] + '//' + x.split('/')[2]) + df_data_new['link']\n",
        "  global long_text_url_list_new\n",
        "  long_text_url_list_new = df_data_new['long_text_url'].tolist()\n",
        "\n",
        "  df_data_new['parsing_date'] = datetime.now().date()\n",
        "  df_data_new['parsing_time'] = datetime.now().time()\n",
        "  df_data_new['parsing_sec_speed'] = time.time() - start_time # without long_text collection\n",
        "\n",
        "  collected_pages_a_count = df_data_new['link'].count()\n",
        "\n",
        "  return df_data_new, long_text_url_list_new, print('{} articles have been collected\\nin {} seconds'.format(collected_pages_a_count, (time.time() - start_time)))"
      ],
      "metadata": {
        "id": "E7hA5RLhQxdZ"
      },
      "execution_count": 10,
      "outputs": []
    },
    {
      "cell_type": "markdown",
      "source": [
        "### get_long_text"
      ],
      "metadata": {
        "id": "4Nu7LwVhZRpq"
      }
    },
    {
      "cell_type": "markdown",
      "source": [
        "#### artinvestment.ru"
      ],
      "metadata": {
        "id": "2YAmoM1aQ-Xn"
      }
    },
    {
      "cell_type": "code",
      "source": [
        "# 10.1 Parsing artinvest long texts - saving only new results from the first pages\n",
        "    \n",
        "def get_artinvest_long_text(text_page):\n",
        "  start_time = time.time()\n",
        "\n",
        "  p_block = text_page.find('div', class_='block white').find_all('p')\n",
        "  f_block = text_page.find('div', class_='block white').find_all('figure')\n",
        "  sp_block = text_page.find('div', class_='block white').find_all('span')\n",
        "\n",
        "  global long_text_list_new\n",
        "  long_text_list_new = []\n",
        "  global headings_list_new\n",
        "  headings_list_new = []\n",
        "  try:\n",
        "    long_text_list_new.append(text_page.find('div', class_='block white').find('h1').get_text())\n",
        "    headings_list_new.append(text_page.find('div', class_='block white').find('h1').get_text())\n",
        "    for p in p_block:\n",
        "      long_text_list_new.append(p.text) # the whole text\n",
        "      try:\n",
        "        for a in p.find_all('a'):\n",
        "          headings_list_new.append(a.get_text()) # links' title\n",
        "      except: continue\n",
        "      try:\n",
        "        for s in p.find_all('strong'):\n",
        "          headings_list_new.append(s.get_text()) # bold text\n",
        "      except: continue\n",
        "  except: pass\n",
        "\n",
        "  global images_list_new\n",
        "  images_list_new = []\n",
        "  try:\n",
        "    try:\n",
        "      for sp in sp_block:\n",
        "        images_list_new.append(sp.find('img').get('src'))\n",
        "        images_list_new.append(sp.text)\n",
        "    except:\n",
        "      for f in f_block:\n",
        "        images_list_new.append(f.find('img').get('src'))\n",
        "        images_list_new.append(f.find('a').get('title'))\n",
        "  except: pass\n",
        "\n",
        "  global sourses_list_new\n",
        "  sourses_list_new = []\n",
        "  try:\n",
        "    for t in text_page.find('div', class_='block content-data article-content').find('p', class_='mat2left').find_all('a'):\n",
        "      sourses_list_new.append(t.get('href'))\n",
        "  except: pass\n",
        "\n",
        "  global tags_list_new\n",
        "  tags_list_new = []\n",
        "  \n",
        "  global parsing_speed_list_new\n",
        "  parsing_speed_list_new = [(time.time() - start_time)]\n",
        "\n",
        "  return long_text_list_new, headings_list_new, images_list_new, sourses_list_new, tags_list_new, parsing_speed_list_new"
      ],
      "metadata": {
        "id": "SsDaS5g_MitB"
      },
      "execution_count": 11,
      "outputs": []
    },
    {
      "cell_type": "markdown",
      "source": [
        "#### theartnewspaper.ru"
      ],
      "metadata": {
        "id": "HSOUA5-3RNWT"
      }
    },
    {
      "cell_type": "code",
      "source": [
        "# 10.2 Parsing tanp long texts - saving only new results from the first pages\n",
        "    \n",
        "def get_tanp_long_text(text_page):\n",
        "  start_time = time.time()\n",
        "\n",
        "  t_block = text_page.find_all('div', class_='leftCol630')\n",
        "  img_block = text_page.find_all('div', class_='leftCol')[4].find_all('img') # !!!\n",
        "  tag_block = text_page.find('div', class_='postSectionsRoot').find_all('a')\n",
        "\n",
        "  # new part\n",
        "  global tags_list_new\n",
        "  tags_list_new = []\n",
        "  try:\n",
        "    for tag in tag_block:\n",
        "      tags_list_new.append(tag.get('href'))\n",
        "      tags_list_new.append(tag.get_text())\n",
        "  except: pass\n",
        "\n",
        "  # different code\n",
        "  global long_text_list_new\n",
        "  long_text_list_new = []\n",
        "  global headings_list_new\n",
        "  headings_list_new = []\n",
        "  # 'h1', 'h2', 'h3', 'h4', 'h5', 'h6', 'div' class_='postListItemTitleRoot', 'b', 'blockquote'\n",
        "  try:\n",
        "    for t in t_block:\n",
        "      long_text_list_new.append(t.get_text())\n",
        "      for h in ['h1', 'h2', 'h3', 'h4', 'h5', 'h6']:\n",
        "        h_block = t.find_all(h)\n",
        "        try:\n",
        "          for h_str in h_block:\n",
        "            headings_list_new.append(h_str.get_text())\n",
        "        except: continue\n",
        "      div_block = t.find_all('div', class_='postListItemTitleRoot')\n",
        "      try:\n",
        "        for d_str in div_block:\n",
        "          headings_list_new.append(d_str.get_text())\n",
        "      except: pass\n",
        "      for b in ['b', 'blockquote']:\n",
        "        b_block = t.find_all(b)\n",
        "        try:\n",
        "          for b_str in b_block:\n",
        "            headings_list_new.append(b_str.get_text())\n",
        "        except: continue\n",
        "  except: pass\n",
        "\n",
        "  global images_list_new\n",
        "  images_list_new = []\n",
        "  try:\n",
        "    for img in img_block:\n",
        "      if len(img.get('alt')) != 0:\n",
        "        images_list_new.append(img.get('src'))\n",
        "        images_list_new.append(img.get('alt'))\n",
        "  except: pass\n",
        "\n",
        "  global sourses_list_new\n",
        "  sourses_list_new = []\n",
        "  global parsing_speed_list_new\n",
        "  parsing_speed_list_new = [(time.time() - start_time)]\n",
        "\n",
        "  return long_text_list_new, headings_list_new, images_list_new, sourses_list_new, tags_list_new, parsing_speed_list_new"
      ],
      "metadata": {
        "id": "wZlk-k3aRM9q"
      },
      "execution_count": 12,
      "outputs": []
    },
    {
      "cell_type": "markdown",
      "source": [
        "### Functions aggrigators"
      ],
      "metadata": {
        "id": "LkJys8hRRiob"
      }
    },
    {
      "cell_type": "markdown",
      "source": [
        "#### parsing_agg_sd()"
      ],
      "metadata": {
        "id": "ATJJ_e8SRmBz"
      }
    },
    {
      "cell_type": "code",
      "source": [
        "#### Step 1\n",
        "# 11.1 Getting pages_counter_stat, pages_curr_data csv files and json long_text_url_list_temp\n",
        "\n",
        "def parsing_agg_sd(site, s_file, d_file, lt_file):\n",
        "\n",
        "  parsing_links_list, parsing_titles_list = get_parsing_lists(site) # 7. Get links & titles\n",
        "                                           #get_parsing_lists(site)\n",
        "\n",
        "  try:\n",
        "    df_counter = open_file_csv(s_file, 'live') # 2. Open file.csv\n",
        "    df_counter['parsing_date'] = df_counter['parsing_date'].dropna().apply(lambda x: date_transfomation(x)) # 14. Date transfomation\n",
        "  except: pass\n",
        "\n",
        "  df_data = open_file_csv(d_file, 'live') # 2. Open file.csv\n",
        "  df_data['parsing_date'] = df_data['parsing_date'].dropna().apply(lambda x: date_transfomation(x)) # 14. Date transfomation\n",
        "  \n",
        "  # For parsing long texts\n",
        "  long_text_url_list = []\n",
        "\n",
        "  for link in parsing_links_list: # page with news list of certain category\n",
        "    link_page = get_page(link) # 1. Collect request status\n",
        "\n",
        "    # for artinvestment.ru\n",
        "    if d_file == artinvest_d: # !!!\n",
        "\n",
        "      # counter block of the page with news list - one for every news' category\n",
        "      # 8.1 Parsing artinvest pages_counter_stat\n",
        "      get_artinvest_pages_counter_stat(link, link_page, parsing_links_list, parsing_titles_list)\n",
        "     #get_artinvest_pages_counter_stat(page_url, page, parsing_links, parsing_titles)\n",
        "     #return df_counter_new\n",
        "      df_counter = pd.concat([df_counter, df_counter_new]) # + one line to the df\n",
        "\n",
        "      # 9.1 Parsing artinvest current news_articles_data\n",
        "      get_artinvest_pages_curr_data(link, link_page, parsing_links_list, parsing_titles_list)\n",
        "     #get_artinvest_pages_curr_data(page_url, page, parsing_links, parsing_titles)\n",
        "     #return df_data_new, long_text_url_list_new, print(message)\n",
        "      df_data = pd.concat([df_data, df_data_new])\n",
        "\n",
        "      long_text_url_list = list(long_text_url_list + long_text_url_list_new)\n",
        "\n",
        "    # for theartnewspaper.ru\n",
        "    elif d_file == theartnewspaper_d: # !!!\n",
        "\n",
        "      # 9.2 Parsing tanp current news_articles_data\n",
        "      get_tanp_pages_curr_data(link, link_page, parsing_links_list, parsing_titles_list)\n",
        "     #get_tanp_pages_curr_data(page_url, page, parsing_links, parsing_titles)\n",
        "     #return df_data_new, long_text_url_list_new, print(message)\n",
        "      df_data = pd.concat([df_data, df_data_new])\n",
        "     \n",
        "      long_text_url_list = list(long_text_url_list + long_text_url_list_new)\n",
        "\n",
        "    #### loop ending\n",
        "\n",
        "  try:\n",
        "    df_counter.drop_duplicates(subset = ['page_url', 'parsing_date'], keep = 'last', inplace = True)\n",
        "    save_df_file(df_counter, s_file, 'live') # 3. Save df to csv file\n",
        "    df_counter['site'] = df_counter['page_url'].apply(lambda x: x.split('/')[0] + '//' + x.split('/')[2] + '/')\n",
        "    new_pages_count = df_counter.loc[(df_counter['parsing_date']==datetime.now().date())&(df_counter['site']==site)]['page_url'].count()\n",
        "\n",
        "    result = '{} new counter blocks have been collected\\nAll counter blocks have been collected - {}'.format(new_pages_count, (new_pages_count==len(parsing_links_list)))\n",
        "\n",
        "  except:\n",
        "    result = 'No counter block exists'\n",
        "\n",
        "  # For parsing long texts - continueing\n",
        "  save_long_text_url_list_temp(long_text_url_list) # 5. Save json long_text_url_list_temp\n",
        "\n",
        "  df_data.drop_duplicates(subset = 'long_text_url', keep = 'first', inplace = True) # was keep = 'last' before\n",
        "  save_df_file(df_data, d_file, 'live') # 3. Save df to csv file\n",
        "\n",
        "  time.sleep(5) # time for renewing json artinvest_long_text_url_list_temp\n",
        "  parsing_agg_lt(lt_file) # 11.2 Getting long texts files\n",
        "    \n",
        "  return print(result)"
      ],
      "metadata": {
        "id": "iNThl4NXRnB_"
      },
      "execution_count": 13,
      "outputs": []
    },
    {
      "cell_type": "markdown",
      "source": [
        "#### parsing_agg_lt()"
      ],
      "metadata": {
        "id": "YVsmylI0Rxpx"
      }
    },
    {
      "cell_type": "code",
      "source": [
        "#### Step 2\n",
        "# 11.2 Getting long texts files\n",
        "\n",
        "def parsing_agg_lt(lt_file):\n",
        "\n",
        "  long_text_df = open_file_csv(lt_file, 'live') # 2. Open file.csv\n",
        "  long_text_url_list_old = long_text_df['long_text_url'].tolist()\n",
        "  long_text_url_list_temp = open_long_text_url_list_temp() # 4. Open json long_text_url_list_temp\n",
        "  long_text_url_list_curr = list(set(long_text_url_list_temp) - set(long_text_url_list_old)) # only new urls - temporal list\n",
        "\n",
        "  long_text_list = []\n",
        "  headings_list = []\n",
        "  images_list = []\n",
        "  sourses_list = []\n",
        "  tags_list = []\n",
        "  parsing_speed_list = []\n",
        "\n",
        "  for url in long_text_url_list_curr: # one article from certane category news list\n",
        "    page = get_page(url) # 1. Collect request status\n",
        "\n",
        "    # for artinvestment.ru\n",
        "    if lt_file == artinvest_lt: # !!!\n",
        "      get_artinvest_long_text(page) # 10.1 Parsing artinvest long texts\n",
        "     #get_artinvest_long_text(text_page)\n",
        "     #long_text_list_new, headings_list_new, images_list_new, sourses_list_new, tags_list_new, parsing_speed_list_new\n",
        "\n",
        "    # for theartnewspaper.ru\n",
        "    elif lt_file == theartnewspaper_lt: # !!!\n",
        "      get_tanp_long_text(page) # 10.2 Parsing tanp long texts\n",
        "     #get_tanp_long_text(text_page)\n",
        "     #long_text_list_new, headings_list_new, images_list_new, sourses_list_new, tags_list_new, parsing_speed_list_new\n",
        "      \n",
        "    long_text_list.append(long_text_list_new)\n",
        "    headings_list.append(headings_list_new)\n",
        "    images_list.append(images_list_new)\n",
        "    sourses_list.append(sourses_list_new)\n",
        "    tags_list.append(tags_list_new)\n",
        "    parsing_speed_list.append(parsing_speed_list_new)\n",
        "\n",
        "  #### loop ending\n",
        "\n",
        "  long_text_df_new = pd.DataFrame({'long_text_url': long_text_url_list_curr,\n",
        "                                   'long_text': long_text_list,\n",
        "                                   'structure': headings_list,\n",
        "                                   'images': images_list,\n",
        "                                   'sourses': sourses_list,\n",
        "                                   'tags': tags_list,\n",
        "                                   'parsing_sec_speed_2': parsing_speed_list # for long_text collection without getting page\n",
        "                                   })\n",
        "  \n",
        "  collected_pages_t_count = long_text_df_new['long_text_url'].count()\n",
        "  long_text_df = pd.concat([long_text_df, long_text_df_new])\n",
        "  long_text_df.drop_duplicates(subset = 'long_text_url', keep = 'first', inplace = True)\n",
        "\n",
        "  save_df_file(long_text_df, lt_file, 'live') # 3. Save df to csv file\n",
        "\n",
        "  return print('{} text pages have been collected\\nAll text pages have been collected - {}'.format(collected_pages_t_count, collected_pages_t_count==len(long_text_url_list_curr)))"
      ],
      "metadata": {
        "id": "MXOIf7ITRzj2"
      },
      "execution_count": 14,
      "outputs": []
    },
    {
      "cell_type": "markdown",
      "source": [
        "### long_text_problems_fix"
      ],
      "metadata": {
        "id": "eDttnJ8VZV8a"
      }
    },
    {
      "cell_type": "code",
      "source": [
        "# 12. Fixing long text problems\n",
        "\n",
        "def long_text_problems_fix(lt_file, df):\n",
        "  cheking_long_text_list = []\n",
        "  # Step 1\n",
        "  for url in df.loc[df['long_text'].isna()==True]['long_text_url']:\n",
        "    cheking_long_text_list.append(url)\n",
        "  # Step 2\n",
        "  df = df.loc[df['long_text'].isna()==False]\n",
        "  df['long_text_len'] = df['long_text'].apply(lambda x: len(x[1:-1]))\n",
        "  for url in df.loc[df['long_text_len']==0]['long_text_url']:\n",
        "    cheking_long_text_list.append(url)\n",
        "  #del copy_df\n",
        "  #gc.collect()\n",
        "\n",
        "  delta = len(cheking_long_text_list)\n",
        "\n",
        "  if delta == 0:\n",
        "    result = 'All long texts were found'\n",
        "  else:\n",
        "    long_text_url_visited = len(page_statistic.loc[page_statistic['page_url'].isin(cheking_long_text_list)]['page_url'].unique().tolist())\n",
        "\n",
        "    result = 'Long texts delta is - {}\\nCount of sites were visited - {}'.format(delta, long_text_url_visited)\n",
        "\n",
        "    save_long_text_url_list_temp(cheking_long_text_list) # 5. Save json long_text_url_list_temp\n",
        "    time.sleep(5) # time for renewing json artinvest_long_text_url_list_temp\n",
        "      \n",
        "    parsing_agg_lt(lt_file) # 11.2 Getting long texts files\n",
        "  \n",
        "  return print(result)"
      ],
      "metadata": {
        "id": "ebVyi9_sKvTs"
      },
      "execution_count": 15,
      "outputs": []
    },
    {
      "cell_type": "markdown",
      "source": [
        "### get_news_articles_archive"
      ],
      "metadata": {
        "id": "lcwdj8ETZYpZ"
      }
    },
    {
      "cell_type": "code",
      "source": [
        "# 13. Parsing news_articles_data ARCHIVE - particular category separately (p_url) after checking, last parsing\n",
        "\n",
        "def get_news_articles_archive(s_file, d_file, lt_file, p_url):\n",
        "  df_counter_arch = open_file_csv(s_file, 'live') # 2. Open file.csv - counter_stat\n",
        "  df_counter_arch['parsing_date'] = df_counter_arch['parsing_date'].dropna().apply(lambda x: date_transfomation(x)) # 14. Date transfomation\n",
        "  df_counter_arch = df_counter_arch.loc[(df_counter_arch['page_url']==p_url)&(df_counter_arch['parsing_date']==df_counter_arch['parsing_date'].max())]\n",
        "\n",
        "  df_data = open_file_csv(d_file, 'live') # 2. Open file.csv - current data\n",
        "  df_data['parsing_date'] = df_data['parsing_date'].dropna().apply(lambda x: date_transfomation(x)) # 14. Date transfomation\n",
        "\n",
        "  # For parsing current artinvest_news_articles_data\n",
        "  pars_links_list = df_counter_arch['page_url'].tolist()\n",
        "  pars_titles_list = df_counter_arch['page_title'].tolist()\n",
        "  # For next_page_url_list\n",
        "  first_page_url = df_counter_arch['first_page_url'].unique()[0]\n",
        "\n",
        "  pages_total = df_counter_arch['pages_total'].unique()[0]\n",
        "  url_part_1 = first_page_url.split('=')[0]\n",
        "  url_part_2 = first_page_url.split('=')[1].split('&')[1]\n",
        "  url_part_3 = first_page_url.split('=')[2]\n",
        "\n",
        "  next_page_url_list = []\n",
        "  # For parsing long texts\n",
        "  long_text_url_list = []\n",
        "\n",
        "  for p in range(2,pages_total+1):\n",
        "    next_page_url = url_part_1 + '=' + str(p) + '&' + url_part_2 + '=' + url_part_3\n",
        "    next_page_url_list.append(next_page_url)\n",
        "\n",
        "  for np_url in next_page_url_list:\n",
        "    page = get_page(np_url) # 1. Collect request status\n",
        "\n",
        "# !!!!!!!!!!! only artinvest yet    \n",
        "    # 9.1 Parsing artinvest current news_articles_data\n",
        "    get_artinvest_pages_curr_data(p_url, page, pars_links_list, pars_titles_list)\n",
        "   #get_artinvest_pages_curr_data(page_url, page, parsing_links, parsing_titles)\n",
        "   #return df_data_new, long_text_url_list_new, print(message)\n",
        "    df_data = pd.concat([df_data, df_data_new])\n",
        "\n",
        "    long_text_url_list = list(long_text_url_list + long_text_url_list_new)\n",
        "\n",
        "  #### loop ending\n",
        "\n",
        "  # For parsing long texts - continueing\n",
        "  save_long_text_url_list_temp(long_text_url_list) # 5. Save json long_text_url_list_temp\n",
        "\n",
        "  df_data.drop_duplicates(subset = 'long_text_url', keep = 'first', inplace = True) # was keep = 'last' before\n",
        "  save_df_file(df_data, d_file, 'live') # 3. Save df to csv file\n",
        "\n",
        "  time.sleep(5) # time for renewing json artinvest_long_text_url_list_temp\n",
        "  parsing_agg_lt(lt_file) # 11.2 Getting long texts files"
      ],
      "metadata": {
        "id": "M2osYMYZ-oX1"
      },
      "execution_count": 16,
      "outputs": []
    },
    {
      "cell_type": "markdown",
      "source": [
        "### date_transfomation"
      ],
      "metadata": {
        "id": "uaLL3Xn7ZbuX"
      }
    },
    {
      "cell_type": "code",
      "source": [
        "# 14. Date transfomation\n",
        "def date_transfomation(cell):\n",
        "  try:\n",
        "    cell = pd.to_datetime(datetime.strptime(cell, '%d.%m.%Y').strftime('%Y-%m-%d')).date()\n",
        "  except ValueError:\n",
        "    cell = pd.to_datetime(cell).date()\n",
        "  return cell"
      ],
      "metadata": {
        "id": "XqDXD5wJTFSy"
      },
      "execution_count": 17,
      "outputs": []
    },
    {
      "cell_type": "markdown",
      "source": [
        "## Graphics\n",
        "15. get_graphics() -> - Drawing graphics"
      ],
      "metadata": {
        "id": "R2g_OTxpOTK4"
      }
    },
    {
      "cell_type": "code",
      "source": [
        "# !!!!!!!!!!!!!!!!! for unification\n",
        "# 15. Drawing graphics\n",
        "\n",
        "def get_stat_graphics():\n",
        "  # 15.1 Checking responses status\n",
        "  print('Checking responses status & Parsing date')\n",
        "  print('')\n",
        "  new_stat = page_statistic.loc[page_statistic['parsing_date'] >= (page_statistic['parsing_date'].max() + timedelta(days = -7))]\n",
        "  \n",
        "  fig, axes = plt.subplots(1, 2, figsize=(12,4))\n",
        "  \n",
        "  axes[0].hist(page_statistic['status_code'])\n",
        "  axes[0].set_title('Status code')\n",
        "  axes[0].set_ylabel('Count')\n",
        "  #axes[0].set_xticklabels(page_statistic['status_code'].unique(), rotation = 45)\n",
        "  \n",
        "  axes[1].hist(new_stat['parsing_date'])\n",
        "  axes[1].set_title('Parsing date counts')\n",
        "  axes[1].set_ylabel('Count')\n",
        "  axes[1].set_xticklabels(new_stat['parsing_date'].unique(), rotation = 45)\n",
        "\n",
        "  plt.show()\n",
        "\n",
        "  # 15.2 Collecting Pages counter mining avarege speed\n",
        "  print('')\n",
        "  print('Collecting Pages counter mining avarege speed')\n",
        "  print('')\n",
        "  grouped_page_stat = page_statistic.groupby(['parsing_date', 'page_url'])['parsing_sec_speed'].agg(['mean']).reset_index()\n",
        "\n",
        "  pages_counter_mining = pd.merge(artinvest_pages_counter_stat, grouped_page_stat, on=['parsing_date', 'page_url'], how='left')\n",
        "  pages_counter_mining.columns = ['page_url', 'page_title', 'records_total', 'pages_total', 'records_max', 'records_value',\n",
        "                                  'first_page_url', 'parsing_date', 'parsing_time', 'parsing_counter_speed', 'parsing_page_speed']\n",
        "  pages_counter_mining['parsing_speed_total'] = pages_counter_mining['parsing_counter_speed'] + pages_counter_mining['parsing_page_speed']\n",
        "\n",
        "  pages_counter_mining = pages_counter_mining.loc[pages_counter_mining['parsing_date'] >= (pages_counter_mining['parsing_date'].max() + timedelta(days = -7))]\n",
        "  pages_counter_mining = pages_counter_mining.groupby(['parsing_date'])[['parsing_speed_total', 'parsing_page_speed', 'parsing_counter_speed']].mean().reset_index()\n",
        "\n",
        "  fig, axes = plt.subplots(1, 3, figsize=(12,4))\n",
        "  axes[0].bar(x=pages_counter_mining['parsing_date'], height=pages_counter_mining['parsing_speed_total'], color='red')\n",
        "  axes[0].set_xticklabels(pages_counter_mining['parsing_date'], rotation = 90)\n",
        "  axes[0].set_title('Total avg speed in seconds')\n",
        "\n",
        "  axes[1].bar(x=pages_counter_mining['parsing_date'], height=pages_counter_mining['parsing_page_speed'], color='blue')\n",
        "  axes[1].set_xticklabels(pages_counter_mining['parsing_date'], rotation = 90)\n",
        "  axes[1].set_title('Page avg speed in seconds')\n",
        "\n",
        "  axes[2].bar(x=pages_counter_mining['parsing_date'], height=pages_counter_mining['parsing_counter_speed'], color='green')\n",
        "  axes[2].set_xticklabels(pages_counter_mining['parsing_date'], rotation = 90)\n",
        "  axes[2].set_title('Counter avg speed in seconds')\n",
        "\n",
        "  plt.show()\n",
        "\n",
        "  # 15.3 Collecting Data mining avarege speed\n",
        "  print('')\n",
        "  print('Collecting Data mining avarege speed')\n",
        "  print('')\n",
        "  grouped_news_articl_stat = artinvest_news_articles_w_text.groupby(['parsing_date', 'page_url'])['parsing_sec_speed', 'parsing_sec_speed_2'].agg(['mean']).reset_index()\n",
        "  grouped_news_articl_stat.columns = ['parsing_date',\t'page_url',\t'parsing_data_speed',\t'parsing_text_speed']\n",
        "\n",
        "  pages_data_mining = pd.merge(grouped_news_articl_stat, grouped_page_stat, on=['parsing_date', 'page_url'], how='left')\n",
        "  pages_data_mining.columns = ['parsing_date', 'page_url', 'parsing_data_speed', 'parsing_text_speed', 'parsing_page_speed']\n",
        "\n",
        "  pages_data_mining['parsing_speed_total'] = pages_data_mining['parsing_data_speed'] + pages_data_mining['parsing_text_speed'] + pages_data_mining['parsing_page_speed']\n",
        "\n",
        "  pages_data_mining = pages_data_mining.loc[pages_data_mining['parsing_date'] >= (pages_data_mining['parsing_date'].max() + timedelta(days = -7))]\n",
        "  pages_data_mining = pages_data_mining.groupby(['parsing_date'])[['parsing_data_speed', 'parsing_text_speed', 'parsing_page_speed', 'parsing_speed_total']].mean().reset_index()\n",
        "\n",
        "  fig, axes = plt.subplots(1, 4, figsize=(12,4))\n",
        "  axes[0].bar(x=pages_data_mining['parsing_date'], height=pages_data_mining['parsing_speed_total'], color='red')\n",
        "  axes[0].set_xticklabels(pages_data_mining['parsing_date'], rotation = 90)\n",
        "  axes[0].set_title('Total avg speed in seconds')\n",
        "\n",
        "  axes[1].bar(x=pages_data_mining['parsing_date'], height=pages_data_mining['parsing_page_speed'], color='blue')\n",
        "  axes[1].set_xticklabels(pages_data_mining['parsing_date'], rotation = 90)\n",
        "  axes[1].set_title('Page avg speed in seconds')\n",
        "\n",
        "  axes[2].bar(x=pages_data_mining['parsing_date'], height=pages_data_mining['parsing_data_speed'], color='green')\n",
        "  axes[2].set_xticklabels(pages_data_mining['parsing_date'], rotation = 90)\n",
        "  axes[2].set_title('Data avg speed in seconds')\n",
        "\n",
        "  axes[3].bar(x=pages_data_mining['parsing_date'], height=pages_data_mining['parsing_text_speed'], color='orange')\n",
        "  axes[3].set_xticklabels(pages_data_mining['parsing_date'], rotation = 90)\n",
        "  axes[3].set_title('Text avg speed in seconds')\n",
        "\n",
        "  plt.show()"
      ],
      "metadata": {
        "id": "KGRbNoceMOzm"
      },
      "execution_count": 18,
      "outputs": []
    },
    {
      "cell_type": "code",
      "source": [
        "# 16. Articles counting\n",
        "def get_articles_graphic(df):\n",
        "  # today for previouse day or for some days ago\n",
        "  new_data = df.loc[df['date']>=df['parsing_date'].unique()[1]]\n",
        "\n",
        "  print('Articles counting')\n",
        "  print('')\n",
        "  \n",
        "  fig = plt.figure()\n",
        "  axes = fig.add_axes([0,0,1,1])\n",
        "  axes.hist(new_data['page_title'])\n",
        "  axes.set_title('New articles')\n",
        "  axes.set_ylabel('Count')\n",
        "  axes.set_xticklabels(new_data['page_title'].unique(), rotation = 20)\n",
        "\n",
        "  plt.show()\n",
        "\n",
        "  print('')\n",
        "  print('New articles titles (sience previous parsing date):')\n",
        "  print('')\n",
        "  for t in new_data['title']:\n",
        "    print(t)"
      ],
      "metadata": {
        "id": "OEVZPSQCe6ol"
      },
      "execution_count": 19,
      "outputs": []
    },
    {
      "cell_type": "markdown",
      "source": [
        "# Sites parsing: news and articles only"
      ],
      "metadata": {
        "id": "moLctZ47_zqJ"
      }
    },
    {
      "cell_type": "code",
      "source": [
        "for key, value in df_dict.items():\n",
        "  print(key, value[0], value[1], value[2])"
      ],
      "metadata": {
        "id": "v2JBbTg2H16s",
        "colab": {
          "base_uri": "https://localhost:8080/"
        },
        "outputId": "e0717887-9c4c-4f57-bf58-60236ec2d8d3"
      },
      "execution_count": 20,
      "outputs": [
        {
          "output_type": "stream",
          "name": "stdout",
          "text": [
            "https://www.theartnewspaper.ru/ - /theartnewspaper_data_new.csv /theartnewspaper_long_text.csv\n",
            "https://artinvestment.ru/ /artinvest_pages_counter_stat.csv /artinvest_news_articles_data.csv /artinvest_long_text.csv\n"
          ]
        }
      ]
    },
    {
      "cell_type": "code",
      "source": [
        "for key, value in df_dict.items():\n",
        "  start_t = time.time()\n",
        "  print(key)\n",
        "  # 11.1 Getting pages_counter_stat, pages_curr_data csv files and json long_text_url_list_temp\n",
        "  parsing_agg_sd(key, value[0], value[1], value[2])\n",
        " #parsing_agg_sd(site, s_file, d_file, lt_file)\n",
        "  print('{} seconds have passed'.format(time.time() - start_t))\n",
        "  print('')"
      ],
      "metadata": {
        "colab": {
          "base_uri": "https://localhost:8080/"
        },
        "id": "R7Gqmjk6Fbwa",
        "outputId": "bf0ade88-3c7c-4eaf-9349-69beabf026d4"
      },
      "execution_count": 21,
      "outputs": [
        {
          "output_type": "stream",
          "name": "stdout",
          "text": [
            "https://www.theartnewspaper.ru/\n",
            "22 articles have been collected\n",
            "in 0.031077861785888672 seconds\n",
            "22 articles have been collected\n",
            "in 0.03225374221801758 seconds\n",
            "22 articles have been collected\n",
            "in 0.025597333908081055 seconds\n",
            "22 articles have been collected\n",
            "in 0.027410030364990234 seconds\n",
            "22 articles have been collected\n",
            "in 0.028879165649414062 seconds\n",
            "22 articles have been collected\n",
            "in 0.027825117111206055 seconds\n",
            "22 articles have been collected\n",
            "in 0.02592325210571289 seconds\n",
            "22 articles have been collected\n",
            "in 0.03308987617492676 seconds\n",
            "18 articles have been collected\n",
            "in 0.02410888671875 seconds\n",
            "22 articles have been collected\n",
            "in 0.030536174774169922 seconds\n",
            "14 articles have been collected\n",
            "in 0.030487537384033203 seconds\n",
            "1 articles have been collected\n",
            "in 0.017712116241455078 seconds\n",
            "22 articles have been collected\n",
            "in 0.028354883193969727 seconds\n",
            "26 text pages have been collected\n",
            "All text pages have been collected - True\n",
            "No counter block exists\n",
            "53.92206335067749 seconds have passed\n",
            "\n",
            "https://artinvestment.ru/\n",
            "30 articles have been collected\n",
            "in 0.011247873306274414 seconds\n",
            "30 articles have been collected\n",
            "in 0.011317014694213867 seconds\n",
            "30 articles have been collected\n",
            "in 0.011028766632080078 seconds\n",
            "30 articles have been collected\n",
            "in 0.012021780014038086 seconds\n",
            "30 articles have been collected\n",
            "in 0.01090860366821289 seconds\n",
            "30 articles have been collected\n",
            "in 0.010784387588500977 seconds\n",
            "30 articles have been collected\n",
            "in 0.010830402374267578 seconds\n",
            "4 text pages have been collected\n",
            "All text pages have been collected - True\n",
            "7 new counter blocks have been collected\n",
            "All counter blocks have been collected - True\n",
            "28.550945281982422 seconds have passed\n",
            "\n"
          ]
        }
      ]
    },
    {
      "cell_type": "markdown",
      "source": [
        "## artinvestment.ru\n",
        "- catch artinvest's 23 empty long texts - don't see 'p' in 'block content-data article-content' - ***not actual***"
      ],
      "metadata": {
        "id": "XVkY1JNtMEyW"
      }
    },
    {
      "cell_type": "markdown",
      "source": [
        "## theartnewspaper.ru\n",
        "- news duplicates - same news in different categories - saving just one (long_text_url) - the first one - is it important? - no - tags have been created"
      ],
      "metadata": {
        "id": "BnbSEEGOUGOO"
      }
    },
    {
      "cell_type": "markdown",
      "source": [
        "# Checking"
      ],
      "metadata": {
        "id": "fwAOk1XNXTXz"
      }
    },
    {
      "cell_type": "markdown",
      "source": [
        "## Preprocessing"
      ],
      "metadata": {
        "id": "0UytDgzO2AkG"
      }
    },
    {
      "cell_type": "code",
      "source": [
        "# Opening\n",
        "artinvest_news_articles_data = open_file_csv(artinvest_d, 'live') # 2. Open file.csv\n",
        "artinvest_long_text_df = open_file_csv(artinvest_lt, 'live') # 2. Open file.csv\n",
        "artinvest_pages_counter_stat = open_file_csv(artinvest_s, 'live') # 2. Open file.csv\n",
        "\n",
        "theartnewspaper_data = open_file_csv(theartnewspaper_d, 'live') # 2. Open file.csv\n",
        "theartnewspaper_long_text_df = open_file_csv(theartnewspaper_lt, 'live') # 2. Open file.csv\n",
        "\n",
        "page_statistic = open_file_csv(page_s, 'live') # 2. Open file.csv\n",
        "\n",
        "# Dates transformation and sorting\n",
        "df_list = [artinvest_news_articles_data,\n",
        "           artinvest_pages_counter_stat,\n",
        "           theartnewspaper_data,\n",
        "           page_statistic]\n",
        "\n",
        "for df in df_list:\n",
        "  # transformation\n",
        "  try:\n",
        "    df['parsing_date'] = df['parsing_date'].dropna().apply(lambda x: date_transfomation(x)) # 14. Date transfomation\n",
        "    df.sort_values(by=['parsing_date'], inplace=True, ascending=False)\n",
        "  except: continue\n",
        "  # sorting\n",
        "  try:\n",
        "    df['date'] = df['date'].dropna().apply(lambda x: date_transfomation(x)) # 14. Date transfomation\n",
        "  except: continue\n",
        "\n",
        "# Data and long text df-s combining\n",
        "artinvest_news_articles_w_text = artinvest_news_articles_data.merge(artinvest_long_text_df, on='long_text_url', how='left')\n",
        "theartnewspaper_w_text = theartnewspaper_data.merge(theartnewspaper_long_text_df, on='long_text_url', how='left')\n",
        "\n",
        "# topping up dict (manually yet)\n",
        "combo_df_dict = {artinvest_lt: artinvest_news_articles_w_text,\n",
        "                 theartnewspaper_lt: theartnewspaper_w_text\n",
        "                 }"
      ],
      "metadata": {
        "id": "onof1uzkmJXg"
      },
      "execution_count": 22,
      "outputs": []
    },
    {
      "cell_type": "markdown",
      "source": [
        "## Checking data fullfillness"
      ],
      "metadata": {
        "id": "GijBa67E2E4z"
      }
    },
    {
      "cell_type": "code",
      "source": [
        "# Checking long texts\n",
        "for name, df in combo_df_dict.items():\n",
        "  print(name)\n",
        "  long_text_problems_fix(name, df) # 12. Fixing long text problems\n",
        " #long_text_problems_fix(file, df)\n",
        "  print('')\n",
        " ## artinvest: 23 empty long texts - don't see 'p' in 'block content-data article-content'"
      ],
      "metadata": {
        "colab": {
          "base_uri": "https://localhost:8080/"
        },
        "id": "aevTT62bXemL",
        "outputId": "83aa6d29-cbd9-4d7c-aa50-3d82734bc2d8"
      },
      "execution_count": 23,
      "outputs": [
        {
          "output_type": "stream",
          "name": "stdout",
          "text": [
            "/artinvest_long_text.csv\n",
            "All long texts were found\n",
            "\n",
            "/theartnewspaper_long_text.csv\n",
            "All long texts were found\n",
            "\n"
          ]
        }
      ]
    },
    {
      "cell_type": "code",
      "source": [
        "# Checking artinvest collected lines\n",
        "\n",
        "pages_counter = artinvest_pages_counter_stat.loc[artinvest_pages_counter_stat['parsing_date']==artinvest_pages_counter_stat['parsing_date'].max()][['page_url', 'page_title', 'records_total']]\n",
        "data_counter = artinvest_news_articles_data.groupby(['page_title']).size().to_frame(name = 'count').reset_index()\n",
        "combo = pages_counter.merge(data_counter, on='page_title', how='outer')\n",
        "combo['delta'] = combo['records_total'] - combo['count']\n",
        "\n",
        "problem_archive_pages = combo.loc[combo['delta']!=0]['page_url'].tolist()\n",
        "if len(problem_archive_pages)==0:\n",
        "  print('Records delta has not found')\n",
        "else:\n",
        "  display(combo.loc[combo['page_url'].isin(problem_archive_pages)])"
      ],
      "metadata": {
        "colab": {
          "base_uri": "https://localhost:8080/"
        },
        "id": "T1Ui4n1Qb2c9",
        "outputId": "4815c8ed-4aab-49f6-85e3-08afb9e0ab45"
      },
      "execution_count": 24,
      "outputs": [
        {
          "output_type": "stream",
          "name": "stdout",
          "text": [
            "Records delta has not found\n"
          ]
        }
      ]
    },
    {
      "cell_type": "markdown",
      "source": [
        "## Parsing ARCHIVE"
      ],
      "metadata": {
        "id": "z8UNbBFFvrJP"
      }
    },
    {
      "cell_type": "code",
      "source": [
        "# 13. Parsing artinvest_news_articles_data ARCHIVE\n",
        "start_t = time.time()\n",
        "\n",
        "confirmation = input('Confirm the archive parsing (y/n)')\n",
        "if confirmation == 'y':\n",
        "  print('Parsing is started')\n",
        "  get_news_articles_archive(artinvest_s, artinvest_d, artinvest_lt, problem_archive_pages[0]) # 10. Parsing artinvest_news_articles_data ARCHIVE\n",
        " #get_news_articles_archive(s_file, d_file, lt_file, p_url)\n",
        "else:\n",
        "  print('Nothing has happened')\n",
        "\n",
        "print('{} seconds have passed'.format(time.time() - start_t))"
      ],
      "metadata": {
        "id": "5VMbZsklahET",
        "colab": {
          "base_uri": "https://localhost:8080/"
        },
        "outputId": "597fbca7-6726-4bc4-b134-7e70adb10225"
      },
      "execution_count": null,
      "outputs": [
        {
          "output_type": "stream",
          "name": "stdout",
          "text": [
            "Confirm the archive parsing (y/n)n\n",
            "Nothing has happened\n",
            "3.5731098651885986 seconds have passed\n"
          ]
        }
      ]
    },
    {
      "cell_type": "markdown",
      "source": [
        "## Backup saving"
      ],
      "metadata": {
        "id": "m8rV6iASHojd"
      }
    },
    {
      "cell_type": "code",
      "source": [
        "save_df_file(artinvest_news_articles_data, artinvest_d + '_' + str(datetime.now().date()), 'backup') # 3. Save df to csv file\n",
        "save_df_file(artinvest_long_text_df, artinvest_lt + '_' + str(datetime.now().date()), 'backup') # 3. Save df to csv file\n",
        "\n",
        "save_df_file(theartnewspaper_data, theartnewspaper_d + '_' + str(datetime.now().date()), 'backup') # 3. Save df to csv file\n",
        "save_df_file(theartnewspaper_long_text_df, theartnewspaper_lt + '_' + str(datetime.now().date()), 'backup') # 3. Save df to csv file\n",
        "\n",
        "#save_df_file(df, file, folder)"
      ],
      "metadata": {
        "id": "bULgNkadEl_2"
      },
      "execution_count": 25,
      "outputs": []
    },
    {
      "cell_type": "markdown",
      "source": [
        "## Graphics"
      ],
      "metadata": {
        "id": "1XKdCJB1rKZZ"
      }
    },
    {
      "cell_type": "code",
      "source": [
        "for name, df in combo_df_dict.items():\n",
        "  print('')\n",
        "  print(name)\n",
        "  print('')\n",
        "  get_articles_graphic(df) # 16. Articles counting"
      ],
      "metadata": {
        "colab": {
          "base_uri": "https://localhost:8080/",
          "height": 1000
        },
        "id": "3mEVtV1PhSs7",
        "outputId": "91ac6003-b223-423f-eb68-54f4158df32c"
      },
      "execution_count": 26,
      "outputs": [
        {
          "output_type": "stream",
          "name": "stdout",
          "text": [
            "\n",
            "/artinvest_long_text.csv\n",
            "\n",
            "Articles counting\n",
            "\n"
          ]
        },
        {
          "output_type": "display_data",
          "data": {
            "image/png": "[encoded data removed]",
            "text/plain": [
              "<Figure size 432x288 with 1 Axes>"
            ]
          },
          "metadata": {
            "needs_background": "light"
          }
        },
        {
          "output_type": "stream",
          "name": "stdout",
          "text": [
            "\n",
            "New articles titles (sience previous parsing date):\n",
            "\n",
            "Оглашен список лауреатов «Золотого льва» за вклад в искусство\n",
            "Отчет Art Tactic: объем вечерних продаж в Лондоне достиг 4-летнего максимума\n",
            "Венера Виллендорфская оказалась итальянкой\n",
            "В пещерах «Сети единорога» во Франции обнаружены следы пребывания человека и захоронения возрастом 2200 лет\n",
            "\n",
            "/theartnewspaper_long_text.csv\n",
            "\n",
            "Articles counting\n",
            "\n"
          ]
        },
        {
          "output_type": "display_data",
          "data": {
            "image/png": "[encoded data removed]",
            "text/plain": [
              "<Figure size 432x288 with 1 Axes>"
            ]
          },
          "metadata": {
            "needs_background": "light"
          }
        },
        {
          "output_type": "stream",
          "name": "stdout",
          "text": [
            "\n",
            "New articles titles (sience previous parsing date):\n",
            "\n",
            "В Лондоне нашли римскую мозаику, самую крупную за последние полвека\n",
            "Свежий номер: шорт-лист Х Премии The Art Newspaper Russia и меценатство в складчину\n",
            "Партитура событий: на выставке в Самаре звучит история Седьмой симфонии Шостаковича\n",
            "Дерево и кожа\n",
            "Катарине Фрич и Сесилии Викунье дадут «золотых львов» за вклад в искусство\n",
            "На культурной карте Екатеринбурга появился Центр авангарда\n",
            "Объявлен шорт-лист юбилейной, X Премии The Art Newspaper Russia\n"
          ]
        }
      ]
    },
    {
      "cell_type": "markdown",
      "source": [
        "### unify"
      ],
      "metadata": {
        "id": "JcYozu-no6HI"
      }
    },
    {
      "cell_type": "code",
      "source": [
        "# unify\n",
        "get_stat_graphics() # 15. Stat graphics"
      ],
      "metadata": {
        "colab": {
          "base_uri": "https://localhost:8080/",
          "height": 1000
        },
        "id": "L_V6gZIrOBur",
        "outputId": "2b0f8ba8-40d3-4cdb-8456-aa8c46626b46"
      },
      "execution_count": null,
      "outputs": [
        {
          "output_type": "stream",
          "name": "stdout",
          "text": [
            "Checking responses status & Parsing date\n",
            "\n"
          ]
        },
        {
          "output_type": "display_data",
          "data": {
            "image/png": "[encoded data removed]",
            "text/plain": [
              "<Figure size 864x288 with 2 Axes>"
            ]
          },
          "metadata": {
            "needs_background": "light"
          }
        },
        {
          "output_type": "stream",
          "name": "stdout",
          "text": [
            "\n",
            "Collecting Pages counter mining avarege speed\n",
            "\n"
          ]
        },
        {
          "output_type": "display_data",
          "data": {
            "image/png": "[encoded data removed]",
            "text/plain": [
              "<Figure size 864x288 with 3 Axes>"
            ]
          },
          "metadata": {
            "needs_background": "light"
          }
        },
        {
          "output_type": "stream",
          "name": "stdout",
          "text": [
            "\n",
            "Collecting Data mining avarege speed\n",
            "\n"
          ]
        },
        {
          "output_type": "display_data",
          "data": {
            "image/png": "[encoded data removed]",
            "text/plain": [
              "<Figure size 864x288 with 4 Axes>"
            ]
          },
          "metadata": {
            "needs_background": "light"
          }
        }
      ]
    },
    {
      "cell_type": "code",
      "source": [
        ""
      ],
      "metadata": {
        "id": "4aO6_Z_Kr1wn"
      },
      "execution_count": null,
      "outputs": []
    },
    {
      "cell_type": "markdown",
      "source": [
        "## df info"
      ],
      "metadata": {
        "id": "2TB9_lIw1iSM"
      }
    },
    {
      "cell_type": "code",
      "source": [
        "# new info\n",
        "for key, value in df_dict.items():\n",
        "  for v in value:\n",
        "    print(v)\n",
        "    print('')\n",
        "    try:\n",
        "      df = open_file_csv(v, 'live') # 2. Open file.csv\n",
        "      df.info()\n",
        "    except:\n",
        "      continue\n",
        "    finally:\n",
        "      print('')"
      ],
      "metadata": {
        "colab": {
          "base_uri": "https://localhost:8080/"
        },
        "id": "8b2f3E56IMS2",
        "outputId": "cf7e497f-39dc-4f8f-840a-6dc942f5901c"
      },
      "execution_count": 27,
      "outputs": [
        {
          "output_type": "stream",
          "name": "stdout",
          "text": [
            "-\n",
            "\n",
            "\n",
            "/theartnewspaper_data_new.csv\n",
            "\n",
            "<class 'pandas.core.frame.DataFrame'>\n",
            "RangeIndex: 968 entries, 0 to 967\n",
            "Data columns (total 10 columns):\n",
            " #   Column             Non-Null Count  Dtype  \n",
            "---  ------             --------------  -----  \n",
            " 0   date               968 non-null    object \n",
            " 1   link               968 non-null    object \n",
            " 2   title              968 non-null    object \n",
            " 3   short_text         968 non-null    object \n",
            " 4   page_url           968 non-null    object \n",
            " 5   page_title         968 non-null    object \n",
            " 6   long_text_url      968 non-null    object \n",
            " 7   parsing_date       968 non-null    object \n",
            " 8   parsing_time       968 non-null    object \n",
            " 9   parsing_sec_speed  968 non-null    float64\n",
            "dtypes: float64(1), object(9)\n",
            "memory usage: 75.8+ KB\n",
            "\n",
            "/theartnewspaper_long_text.csv\n",
            "\n",
            "<class 'pandas.core.frame.DataFrame'>\n",
            "RangeIndex: 968 entries, 0 to 967\n",
            "Data columns (total 7 columns):\n",
            " #   Column               Non-Null Count  Dtype \n",
            "---  ------               --------------  ----- \n",
            " 0   long_text_url        968 non-null    object\n",
            " 1   long_text            968 non-null    object\n",
            " 2   structure            968 non-null    object\n",
            " 3   images               968 non-null    object\n",
            " 4   sourses              968 non-null    object\n",
            " 5   tags                 968 non-null    object\n",
            " 6   parsing_sec_speed_2  968 non-null    object\n",
            "dtypes: object(7)\n",
            "memory usage: 53.1+ KB\n",
            "\n",
            "/artinvest_pages_counter_stat.csv\n",
            "\n",
            "<class 'pandas.core.frame.DataFrame'>\n",
            "RangeIndex: 144 entries, 0 to 143\n",
            "Data columns (total 10 columns):\n",
            " #   Column             Non-Null Count  Dtype  \n",
            "---  ------             --------------  -----  \n",
            " 0   page_url           144 non-null    object \n",
            " 1   page_title         144 non-null    object \n",
            " 2   records_total      144 non-null    int64  \n",
            " 3   pages_total        144 non-null    int64  \n",
            " 4   records_max        144 non-null    int64  \n",
            " 5   records_value      144 non-null    int64  \n",
            " 6   first_page_url     144 non-null    object \n",
            " 7   parsing_date       144 non-null    object \n",
            " 8   parsing_time       144 non-null    object \n",
            " 9   parsing_sec_speed  144 non-null    float64\n",
            "dtypes: float64(1), int64(4), object(5)\n",
            "memory usage: 11.4+ KB\n",
            "\n",
            "/artinvest_news_articles_data.csv\n",
            "\n",
            "<class 'pandas.core.frame.DataFrame'>\n",
            "RangeIndex: 13039 entries, 0 to 13038\n",
            "Data columns (total 10 columns):\n",
            " #   Column             Non-Null Count  Dtype  \n",
            "---  ------             --------------  -----  \n",
            " 0   date               13039 non-null  object \n",
            " 1   link               13039 non-null  object \n",
            " 2   title              13039 non-null  object \n",
            " 3   short_text         13039 non-null  object \n",
            " 4   page_url           13039 non-null  object \n",
            " 5   page_title         13039 non-null  object \n",
            " 6   long_text_url      13039 non-null  object \n",
            " 7   parsing_date       13039 non-null  object \n",
            " 8   parsing_time       13039 non-null  object \n",
            " 9   parsing_sec_speed  13039 non-null  float64\n",
            "dtypes: float64(1), object(9)\n",
            "memory usage: 1018.8+ KB\n",
            "\n",
            "/artinvest_long_text.csv\n",
            "\n",
            "<class 'pandas.core.frame.DataFrame'>\n",
            "RangeIndex: 13039 entries, 0 to 13038\n",
            "Data columns (total 7 columns):\n",
            " #   Column               Non-Null Count  Dtype \n",
            "---  ------               --------------  ----- \n",
            " 0   long_text_url        13039 non-null  object\n",
            " 1   long_text            13039 non-null  object\n",
            " 2   structure            13039 non-null  object\n",
            " 3   images               13039 non-null  object\n",
            " 4   sourses              13039 non-null  object\n",
            " 5   tags                 13039 non-null  object\n",
            " 6   parsing_sec_speed_2  13039 non-null  object\n",
            "dtypes: object(7)\n",
            "memory usage: 713.2+ KB\n",
            "\n"
          ]
        }
      ]
    },
    {
      "cell_type": "code",
      "source": [
        "# previous info\n",
        "for key, value in df_dict.items():\n",
        "  for v in value:\n",
        "    print(v)\n",
        "    print('')\n",
        "    try:\n",
        "      df = open_file_csv(v, 'live') # 2. Open file.csv\n",
        "      df.info()\n",
        "    except:\n",
        "      continue\n",
        "    finally:\n",
        "      print('')"
      ],
      "metadata": {
        "colab": {
          "base_uri": "https://localhost:8080/"
        },
        "id": "Wcv535V_I6MI",
        "outputId": "991df835-2903-49e9-f0cf-79aca881a7c2"
      },
      "execution_count": 28,
      "outputs": [
        {
          "output_type": "stream",
          "name": "stdout",
          "text": [
            "-\n",
            "\n",
            "\n",
            "/theartnewspaper_data_new.csv\n",
            "\n",
            "<class 'pandas.core.frame.DataFrame'>\n",
            "RangeIndex: 942 entries, 0 to 941\n",
            "Data columns (total 10 columns):\n",
            " #   Column             Non-Null Count  Dtype  \n",
            "---  ------             --------------  -----  \n",
            " 0   date               942 non-null    object \n",
            " 1   link               942 non-null    object \n",
            " 2   title              942 non-null    object \n",
            " 3   short_text         942 non-null    object \n",
            " 4   page_url           942 non-null    object \n",
            " 5   page_title         942 non-null    object \n",
            " 6   long_text_url      942 non-null    object \n",
            " 7   parsing_date       942 non-null    object \n",
            " 8   parsing_time       942 non-null    object \n",
            " 9   parsing_sec_speed  942 non-null    float64\n",
            "dtypes: float64(1), object(9)\n",
            "memory usage: 73.7+ KB\n",
            "\n",
            "/theartnewspaper_long_text.csv\n",
            "\n",
            "<class 'pandas.core.frame.DataFrame'>\n",
            "RangeIndex: 942 entries, 0 to 941\n",
            "Data columns (total 7 columns):\n",
            " #   Column               Non-Null Count  Dtype \n",
            "---  ------               --------------  ----- \n",
            " 0   long_text_url        942 non-null    object\n",
            " 1   long_text            942 non-null    object\n",
            " 2   structure            942 non-null    object\n",
            " 3   images               942 non-null    object\n",
            " 4   sourses              942 non-null    object\n",
            " 5   tags                 942 non-null    object\n",
            " 6   parsing_sec_speed_2  942 non-null    object\n",
            "dtypes: object(7)\n",
            "memory usage: 51.6+ KB\n",
            "\n",
            "/artinvest_pages_counter_stat.csv\n",
            "\n",
            "<class 'pandas.core.frame.DataFrame'>\n",
            "RangeIndex: 137 entries, 0 to 136\n",
            "Data columns (total 10 columns):\n",
            " #   Column             Non-Null Count  Dtype  \n",
            "---  ------             --------------  -----  \n",
            " 0   page_url           137 non-null    object \n",
            " 1   page_title         137 non-null    object \n",
            " 2   records_total      137 non-null    int64  \n",
            " 3   pages_total        137 non-null    int64  \n",
            " 4   records_max        137 non-null    int64  \n",
            " 5   records_value      137 non-null    int64  \n",
            " 6   first_page_url     137 non-null    object \n",
            " 7   parsing_date       137 non-null    object \n",
            " 8   parsing_time       137 non-null    object \n",
            " 9   parsing_sec_speed  137 non-null    float64\n",
            "dtypes: float64(1), int64(4), object(5)\n",
            "memory usage: 10.8+ KB\n",
            "\n",
            "/artinvest_news_articles_data.csv\n",
            "\n",
            "<class 'pandas.core.frame.DataFrame'>\n",
            "RangeIndex: 13035 entries, 0 to 13034\n",
            "Data columns (total 10 columns):\n",
            " #   Column             Non-Null Count  Dtype  \n",
            "---  ------             --------------  -----  \n",
            " 0   date               13035 non-null  object \n",
            " 1   link               13035 non-null  object \n",
            " 2   title              13035 non-null  object \n",
            " 3   short_text         13035 non-null  object \n",
            " 4   page_url           13035 non-null  object \n",
            " 5   page_title         13035 non-null  object \n",
            " 6   long_text_url      13035 non-null  object \n",
            " 7   parsing_date       13035 non-null  object \n",
            " 8   parsing_time       13035 non-null  object \n",
            " 9   parsing_sec_speed  13035 non-null  float64\n",
            "dtypes: float64(1), object(9)\n",
            "memory usage: 1018.5+ KB\n",
            "\n",
            "/artinvest_long_text.csv\n",
            "\n",
            "<class 'pandas.core.frame.DataFrame'>\n",
            "RangeIndex: 13035 entries, 0 to 13034\n",
            "Data columns (total 7 columns):\n",
            " #   Column               Non-Null Count  Dtype \n",
            "---  ------               --------------  ----- \n",
            " 0   long_text_url        13035 non-null  object\n",
            " 1   long_text            13035 non-null  object\n",
            " 2   structure            13035 non-null  object\n",
            " 3   images               13035 non-null  object\n",
            " 4   sourses              13035 non-null  object\n",
            " 5   tags                 13035 non-null  object\n",
            " 6   parsing_sec_speed_2  13035 non-null  object\n",
            "dtypes: object(7)\n",
            "memory usage: 713.0+ KB\n",
            "\n"
          ]
        }
      ]
    },
    {
      "cell_type": "code",
      "source": [
        ""
      ],
      "metadata": {
        "id": "YVFiJGK3qzMU"
      },
      "execution_count": null,
      "outputs": []
    },
    {
      "cell_type": "markdown",
      "source": [
        "## artinvestment.ru"
      ],
      "metadata": {
        "id": "lG5WqnV_IwLh"
      }
    },
    {
      "cell_type": "code",
      "source": [
        "artinvest_long_text_df['long_text'][0]"
      ],
      "metadata": {
        "colab": {
          "base_uri": "https://localhost:8080/",
          "height": 313
        },
        "id": "5fDAymwGA1IR",
        "outputId": "68484d64-f0fd-46b4-ce6b-d5a60c1f178b"
      },
      "execution_count": null,
      "outputs": [
        {
          "output_type": "execute_result",
          "data": {
            "application/vnd.google.colaboratory.intrinsic+json": {
              "type": "string"
            },
            "text/plain": [
              "\"['Вчера, 7 декабря 2021,  аукционный дом Sotheby’s провел в своем лондонском офисе  торги одного лота — римской мраморной скульптуры богини Афродиты, известной как  Афродита Гамильтона (по имени одного из владельцев). Лот был выставлен с  оценкой £2–3 млн, но в ходе 20-минутной аукционной борьбы между пятью  претендентами скульптура превысила эстимейт как минимум в девять раз. Новому  владельцу — некому азиатскому клиенту Sotheby’s,  чьи ставки называла менеджер по работе с клиентами Николь Чинг — Афродита  Гамильтона досталась за £18,6 млн ($24,6 млн) с учетом комиссии аукционного  дома. Это новый аукционный рекорд для античной мраморной скульптуры.', 'Афродита Гамильтона  была продана дороже, чем античный мраморный бюст Антиноя II в. н. э., за  который в 2010 году заплатили $23,8 млн. Впрочем результатам Афродиты и Антиноя  не удастся потягаться с абсолютным рекордом для древней скульптуры вообще: с  2007 года он безраздельно принадлежит миниатюрной 8-сантиметровой вавилонской  статуэтке Львица Гуэннола, проданной за $57,2 млн.', 'Афродита Гамильтона  датируется I–II вв. н.э. Это римская копия с  утерянного древнегреческого оригинала IV в. до н.э. — знаменитой Афродиты Книдской  Праксителя. Скульптуру в 1776 году купил во время поездки в Италию 8-й герцог  Гамильтон. По словам дилера, организовавшего эту сделку в Риме, шотландский  герцог был с первого взгляда покорен скульптурой и сразу же согласился ее  купить. Герцог отвез Афродиту в свое шотландское поместье Гамильтон-пэлес, где  скульптура провела последующие 144 года. Из семейной коллекции герцогов  Гамильтон скульптуру Афродиты в 1920 году продали американскому издателю  Уильяму Рэндольфу Херсту. В последний раз она проходила через открытые торги  около 70 лет назад — в 1949 году.', 'Материал  подготовила Мария Онучина, AI', 'Источник: artnews.com, observer.com', '\\\\n\\\\n']\""
            ]
          },
          "metadata": {},
          "execution_count": 6
        }
      ]
    },
    {
      "cell_type": "code",
      "source": [
        "artinvest_long_text_df['sourses'][0]"
      ],
      "metadata": {
        "colab": {
          "base_uri": "https://localhost:8080/",
          "height": 53
        },
        "id": "BORsuKrpBJHS",
        "outputId": "9003b30d-7831-474d-cc6c-e9ff90ca89c0"
      },
      "execution_count": null,
      "outputs": [
        {
          "output_type": "execute_result",
          "data": {
            "application/vnd.google.colaboratory.intrinsic+json": {
              "type": "string"
            },
            "text/plain": [
              "\"['https://www.artnews.com/art-news/market/hamilton-aphrodite-auction-record-1234612590/', 'https://observer.com/2021/11/a-scotsmans-beloved-hamilton-aphrodite-is-going-up-for-auction-at-sothebys/']\""
            ]
          },
          "metadata": {},
          "execution_count": 7
        }
      ]
    },
    {
      "cell_type": "code",
      "source": [
        "print(artinvest_news_articles_data['page_url'][0])\n",
        "print(artinvest_news_articles_data['long_text_url'][0])"
      ],
      "metadata": {
        "colab": {
          "base_uri": "https://localhost:8080/"
        },
        "id": "6YDAphytdjfT",
        "outputId": "cb7006bc-bfea-4e3e-dd82-5ae02ac767a8"
      },
      "execution_count": null,
      "outputs": [
        {
          "output_type": "stream",
          "name": "stdout",
          "text": [
            "https://artinvestment.ru/news/artnews/\n",
            "https://artinvestment.ru/news/artnews/20211208_Aphrodite_sale.html\n"
          ]
        }
      ]
    },
    {
      "cell_type": "code",
      "source": [
        "data = open_news_articles_data(artinvest_d)"
      ],
      "metadata": {
        "colab": {
          "base_uri": "https://localhost:8080/"
        },
        "id": "8zwiKQCgV5UY",
        "outputId": "cd1e6ff5-c367-4a9c-a9bf-218579e007c9"
      },
      "execution_count": null,
      "outputs": [
        {
          "output_type": "stream",
          "name": "stdout",
          "text": [
            "<class 'pandas.core.frame.DataFrame'>\n",
            "RangeIndex: 12980 entries, 0 to 12979\n",
            "Data columns (total 10 columns):\n",
            " #   Column             Non-Null Count  Dtype  \n",
            "---  ------             --------------  -----  \n",
            " 0   date               12980 non-null  object \n",
            " 1   link               12980 non-null  object \n",
            " 2   title              12980 non-null  object \n",
            " 3   short_text         12980 non-null  object \n",
            " 4   page_url           12980 non-null  object \n",
            " 5   page_title         12980 non-null  object \n",
            " 6   parsing_date       12980 non-null  object \n",
            " 7   parsing_time       12980 non-null  object \n",
            " 8   parsing_sec_speed  12980 non-null  float64\n",
            " 9   long_text_url      12980 non-null  object \n",
            "dtypes: float64(1), object(9)\n",
            "memory usage: 1014.2+ KB\n"
          ]
        }
      ]
    },
    {
      "cell_type": "code",
      "source": [
        "data['date_type'] = data['date'].apply(lambda x: type(x))\n",
        "data['parsing_date_type'] = data['parsing_date'].apply(lambda x: type(x))\n",
        "data[['date', 'date_type', 'parsing_date', 'parsing_date_type']].head()"
      ],
      "metadata": {
        "colab": {
          "base_uri": "https://localhost:8080/",
          "height": 206
        },
        "id": "7MYZ9V_GV5QF",
        "outputId": "e5a48b79-cbae-460f-c598-c70218e88865"
      },
      "execution_count": null,
      "outputs": [
        {
          "output_type": "execute_result",
          "data": {
            "text/html": [
              "\n",
              "  <div id=\"df-8f32a975-5439-4d38-8639-f95622637279\">\n",
              "    <div class=\"colab-df-container\">\n",
              "      <div>\n",
              "<style scoped>\n",
              "    .dataframe tbody tr th:only-of-type {\n",
              "        vertical-align: middle;\n",
              "    }\n",
              "\n",
              "    .dataframe tbody tr th {\n",
              "        vertical-align: top;\n",
              "    }\n",
              "\n",
              "    .dataframe thead th {\n",
              "        text-align: right;\n",
              "    }\n",
              "</style>\n",
              "<table border=\"1\" class=\"dataframe\">\n",
              "  <thead>\n",
              "    <tr style=\"text-align: right;\">\n",
              "      <th></th>\n",
              "      <th>date</th>\n",
              "      <th>date_type</th>\n",
              "      <th>parsing_date</th>\n",
              "      <th>parsing_date_type</th>\n",
              "    </tr>\n",
              "  </thead>\n",
              "  <tbody>\n",
              "    <tr>\n",
              "      <th>0</th>\n",
              "      <td>08.12.2021</td>\n",
              "      <td>&lt;class 'str'&gt;</td>\n",
              "      <td>2022-01-14</td>\n",
              "      <td>&lt;class 'str'&gt;</td>\n",
              "    </tr>\n",
              "    <tr>\n",
              "      <th>1</th>\n",
              "      <td>07.12.2021</td>\n",
              "      <td>&lt;class 'str'&gt;</td>\n",
              "      <td>2022-01-14</td>\n",
              "      <td>&lt;class 'str'&gt;</td>\n",
              "    </tr>\n",
              "    <tr>\n",
              "      <th>2</th>\n",
              "      <td>06.12.2021</td>\n",
              "      <td>&lt;class 'str'&gt;</td>\n",
              "      <td>2022-01-14</td>\n",
              "      <td>&lt;class 'str'&gt;</td>\n",
              "    </tr>\n",
              "    <tr>\n",
              "      <th>3</th>\n",
              "      <td>25.11.2021</td>\n",
              "      <td>&lt;class 'str'&gt;</td>\n",
              "      <td>2022-01-14</td>\n",
              "      <td>&lt;class 'str'&gt;</td>\n",
              "    </tr>\n",
              "    <tr>\n",
              "      <th>4</th>\n",
              "      <td>24.11.2021</td>\n",
              "      <td>&lt;class 'str'&gt;</td>\n",
              "      <td>2022-01-14</td>\n",
              "      <td>&lt;class 'str'&gt;</td>\n",
              "    </tr>\n",
              "  </tbody>\n",
              "</table>\n",
              "</div>\n",
              "      <button class=\"colab-df-convert\" onclick=\"convertToInteractive('df-8f32a975-5439-4d38-8639-f95622637279')\"\n",
              "              title=\"Convert this dataframe to an interactive table.\"\n",
              "              style=\"display:none;\">\n",
              "        \n",
              "  <svg xmlns=\"http://www.w3.org/2000/svg\" height=\"24px\"viewBox=\"0 0 24 24\"\n",
              "       width=\"24px\">\n",
              "    <path d=\"M0 0h24v24H0V0z\" fill=\"none\"/>\n",
              "    <path d=\"M18.56 5.44l.94 2.06.94-2.06 2.06-.94-2.06-.94-.94-2.06-.94 2.06-2.06.94zm-11 1L8.5 8.5l.94-2.06 2.06-.94-2.06-.94L8.5 2.5l-.94 2.06-2.06.94zm10 10l.94 2.06.94-2.06 2.06-.94-2.06-.94-.94-2.06-.94 2.06-2.06.94z\"/><path d=\"M17.41 7.96l-1.37-1.37c-.4-.4-.92-.59-1.43-.59-.52 0-1.04.2-1.43.59L10.3 9.45l-7.72 7.72c-.78.78-.78 2.05 0 2.83L4 21.41c.39.39.9.59 1.41.59.51 0 1.02-.2 1.41-.59l7.78-7.78 2.81-2.81c.8-.78.8-2.07 0-2.86zM5.41 20L4 18.59l7.72-7.72 1.47 1.35L5.41 20z\"/>\n",
              "  </svg>\n",
              "      </button>\n",
              "      \n",
              "  <style>\n",
              "    .colab-df-container {\n",
              "      display:flex;\n",
              "      flex-wrap:wrap;\n",
              "      gap: 12px;\n",
              "    }\n",
              "\n",
              "    .colab-df-convert {\n",
              "      background-color: #E8F0FE;\n",
              "      border: none;\n",
              "      border-radius: 50%;\n",
              "      cursor: pointer;\n",
              "      display: none;\n",
              "      fill: #1967D2;\n",
              "      height: 32px;\n",
              "      padding: 0 0 0 0;\n",
              "      width: 32px;\n",
              "    }\n",
              "\n",
              "    .colab-df-convert:hover {\n",
              "      background-color: #E2EBFA;\n",
              "      box-shadow: 0px 1px 2px rgba(60, 64, 67, 0.3), 0px 1px 3px 1px rgba(60, 64, 67, 0.15);\n",
              "      fill: #174EA6;\n",
              "    }\n",
              "\n",
              "    [theme=dark] .colab-df-convert {\n",
              "      background-color: #3B4455;\n",
              "      fill: #D2E3FC;\n",
              "    }\n",
              "\n",
              "    [theme=dark] .colab-df-convert:hover {\n",
              "      background-color: #434B5C;\n",
              "      box-shadow: 0px 1px 3px 1px rgba(0, 0, 0, 0.15);\n",
              "      filter: drop-shadow(0px 1px 2px rgba(0, 0, 0, 0.3));\n",
              "      fill: #FFFFFF;\n",
              "    }\n",
              "  </style>\n",
              "\n",
              "      <script>\n",
              "        const buttonEl =\n",
              "          document.querySelector('#df-8f32a975-5439-4d38-8639-f95622637279 button.colab-df-convert');\n",
              "        buttonEl.style.display =\n",
              "          google.colab.kernel.accessAllowed ? 'block' : 'none';\n",
              "\n",
              "        async function convertToInteractive(key) {\n",
              "          const element = document.querySelector('#df-8f32a975-5439-4d38-8639-f95622637279');\n",
              "          const dataTable =\n",
              "            await google.colab.kernel.invokeFunction('convertToInteractive',\n",
              "                                                     [key], {});\n",
              "          if (!dataTable) return;\n",
              "\n",
              "          const docLinkHtml = 'Like what you see? Visit the ' +\n",
              "            '<a target=\"_blank\" href=https://colab.research.google.com/notebooks/data_table.ipynb>data table notebook</a>'\n",
              "            + ' to learn more about interactive tables.';\n",
              "          element.innerHTML = '';\n",
              "          dataTable['output_type'] = 'display_data';\n",
              "          await google.colab.output.renderOutput(dataTable, element);\n",
              "          const docLink = document.createElement('div');\n",
              "          docLink.innerHTML = docLinkHtml;\n",
              "          element.appendChild(docLink);\n",
              "        }\n",
              "      </script>\n",
              "    </div>\n",
              "  </div>\n",
              "  "
            ],
            "text/plain": [
              "         date      date_type parsing_date parsing_date_type\n",
              "0  08.12.2021  <class 'str'>   2022-01-14     <class 'str'>\n",
              "1  07.12.2021  <class 'str'>   2022-01-14     <class 'str'>\n",
              "2  06.12.2021  <class 'str'>   2022-01-14     <class 'str'>\n",
              "3  25.11.2021  <class 'str'>   2022-01-14     <class 'str'>\n",
              "4  24.11.2021  <class 'str'>   2022-01-14     <class 'str'>"
            ]
          },
          "metadata": {},
          "execution_count": 65
        }
      ]
    },
    {
      "cell_type": "code",
      "source": [
        ""
      ],
      "metadata": {
        "id": "Qq8rR5I9LcqK"
      },
      "execution_count": null,
      "outputs": []
    },
    {
      "cell_type": "markdown",
      "source": [
        "## theartnewspaper.ru"
      ],
      "metadata": {
        "id": "HfeCyTvKTDKt"
      }
    },
    {
      "cell_type": "code",
      "source": [
        "theartnewspaper_data.loc[theartnewspaper_data['parsing_date']==theartnewspaper_data['parsing_date'].max()].groupby(['page_title', 'date']).size()"
      ],
      "metadata": {
        "colab": {
          "base_uri": "https://localhost:8080/"
        },
        "id": "v5IaqM82pz_j",
        "outputId": "4c5a856a-4b95-4848-f759-a5c5b87af29b"
      },
      "execution_count": 31,
      "outputs": [
        {
          "output_type": "execute_result",
          "data": {
            "text/plain": [
              "page_title        date      \n",
              "Выставки          2021-08-19    1\n",
              "                  2021-09-28    1\n",
              "Новости           2020-11-23    1\n",
              "                  2020-11-30    1\n",
              "                  2021-03-22    1\n",
              "                  2021-04-13    1\n",
              "                  2021-04-28    1\n",
              "                  2021-07-22    1\n",
              "                  2021-08-30    1\n",
              "                  2021-09-06    1\n",
              "                  2021-09-29    1\n",
              "                  2021-11-16    1\n",
              "                  2021-11-18    1\n",
              "                  2021-12-01    1\n",
              "                  2021-12-02    1\n",
              "                  2021-12-20    1\n",
              "                  2022-03-09    1\n",
              "                  2022-03-10    1\n",
              "                  2022-03-11    1\n",
              "Премии и награды  2020-12-25    1\n",
              "                  2021-10-20    1\n",
              "                  2021-10-22    1\n",
              "                  2021-10-25    1\n",
              "                  2022-03-09    1\n",
              "Роскошь           2022-03-10    1\n",
              "Самара Россия     2022-03-10    1\n",
              "dtype: int64"
            ]
          },
          "metadata": {},
          "execution_count": 31
        }
      ]
    },
    {
      "cell_type": "code",
      "source": [
        "theartnewspaper_data.loc[(theartnewspaper_data['parsing_date']==theartnewspaper_data['parsing_date'].max()) & (theartnewspaper_data['page_title']=='Новости')]['long_text_url']"
      ],
      "metadata": {
        "colab": {
          "base_uri": "https://localhost:8080/"
        },
        "id": "bAdxwRH0DGvE",
        "outputId": "22022a62-74a2-4370-8eeb-e732100648e4"
      },
      "execution_count": 33,
      "outputs": [
        {
          "output_type": "execute_result",
          "data": {
            "text/plain": [
              "967           https://www.theartnewspaper.ru/posts/8589/\n",
              "942    https://www.theartnewspaper.ru/posts/20220311-...\n",
              "944    https://www.theartnewspaper.ru/posts/20220309-...\n",
              "948    https://www.theartnewspaper.ru/posts/20211220-...\n",
              "949    https://www.theartnewspaper.ru/posts/20211202-...\n",
              "950    https://www.theartnewspaper.ru/posts/20211201-...\n",
              "951    https://www.theartnewspaper.ru/posts/20211118-...\n",
              "952    https://www.theartnewspaper.ru/posts/20211116-...\n",
              "956    https://www.theartnewspaper.ru/posts/20210929-...\n",
              "958    https://www.theartnewspaper.ru/posts/20210906-...\n",
              "959    https://www.theartnewspaper.ru/posts/20210830-...\n",
              "961    https://www.theartnewspaper.ru/posts/20210722-...\n",
              "962           https://www.theartnewspaper.ru/posts/9031/\n",
              "963           https://www.theartnewspaper.ru/posts/8983/\n",
              "964           https://www.theartnewspaper.ru/posts/8912/\n",
              "966           https://www.theartnewspaper.ru/posts/8610/\n",
              "943    https://www.theartnewspaper.ru/posts/20220310-...\n",
              "Name: long_text_url, dtype: object"
            ]
          },
          "metadata": {},
          "execution_count": 33
        }
      ]
    },
    {
      "cell_type": "code",
      "source": [
        "#theartnewspaper_w_text = theartnewspaper_w_text.drop(['long_text_len'], axis=1)"
      ],
      "metadata": {
        "id": "r-6ycKqVF-Xj"
      },
      "execution_count": null,
      "outputs": []
    },
    {
      "cell_type": "code",
      "source": [
        "for t in theartnewspaper_w_text['long_text'][3:8]:\n",
        "  print(t)"
      ],
      "metadata": {
        "id": "yikoN9c_F1T2",
        "colab": {
          "base_uri": "https://localhost:8080/"
        },
        "outputId": "823c3399-2b6c-4d89-f430-e0bfeef8892b"
      },
      "execution_count": null,
      "outputs": [
        {
          "output_type": "stream",
          "name": "stdout",
          "text": [
            "['\\n\\n\\n\\n\\n\\n\\n\\n\\n\\n\\n\\n\\n\\n\\n\\n\\n\\n\\n\\n\\n\\n\\nНачальник управления корпоративной социальной ответственности, старший вице-президент банка ВТБ Наталья Кочнева рассказала нам о современных вариантах взаимодействия бизнеса и культуры\\n\\nЛюдмила Лунина\\n\\n27.12.2021\\n', '\\n\\nМир изменился. Пандемия разъединила нас и в то же время соединила, показала нам важность общности не только отдельных людей, но и разных сфер: культуры и бизнеса, искусства и финансов. За это время стало очевидно, что всех нас волнуют одни и те же вопросы, поэтому вместе с банком ВТБ мы хотим зафиксировать этот момент в истории и попытаться понять, что нас ждет впереди. В рамках рубрики «Музей будущего» мы публиковали разговоры с крупнейшими игроками на поле искусства о том, что уже переменилось и чего нам ждать дальше: какими будут музеи, во что превратятся выставочные и образовательные проекты, упрочится ли роль мецената и в целом насколько перспективно будет партнерство культуры и бизнеса. Нашими героями стали директор Государственной Третьяковской галереи Зельфира Трегулова, исполнительный директор Еврейского музея и центра толерантности Кристина Краснянская, куратор Жан-Юбер Мартен, глава отдела современного искусства «Эрмитаж 20/21» Дмитрий Озерков, арт-группа АЕS+F. И теперь мы подводим символический итог вместе с начальником управления корпоративной социальной ответственности, старшим вице-президентом банка ВТБ Натальей Кочневой.У ВТБ обширная филантропическая программа по поддержке целого ряда учреждений культуры, в том числе четырех главных художественных музеев страны: Эрмитажа, Третьяковки, ГМИИ им. А.С.Пушкина и Русского музея. Видите ли вы какие-то новые тренды в форматах взаимодействия музеев с посетителями?Перемены происходят постоянно. К счастью, руководители музеев понимают, что сегодня молодому поколению, выросшему в эпоху интернета, невозможно показывать искусство так же, как это было заведено десятилетиями, — через рассказ экскурсовода. Надо придумывать новые решения, задействовать цифровые технологии. Современная музейная жизнь требует креативного подхода, и сегодня это ощущается так остро, как никогда раньше.\\n\\n', '\\n\\nНасколько ВТБ вовлечен в работу музеев, с которыми связан партнерскими отношениями?Мы не искусствоведы — наша экспертиза иная. Банк никогда не будет навязывать свое мнение Михаилу Пиотровскому или Зельфире Трегуловой. Однако мы можем помочь выстроить логистические процессы, проконсультировать по реализации проектов как бизнес-задач. И, что немаловажно, мы знаем, как презентовать проекты, чтобы они привлекли внимание максимального количества людей. В области маркетинга банк, безусловно, может поделиться экспертизой и видением, когда у наших коллег из сферы культуры возникает такая потребность.Получается, что денежными вложениями ваше партнерство не ограничивается?Думаю, что ситуация, когда бизнес помогал развитию культурных учреждений, только лишь давая деньги, безнадежно устарела. Мы продолжаем поддерживать крупнейшие художественные выставки и знаковые театральные премьеры, и логотип банка всегда присутствует на афишах. Конечно, у музеев есть попечительские советы и клубы друзей, где мы также неизменно присутствуем. Но сегодня это не самоцель, этого мало. Нам важно быть полезными для тех, кто в нашей стране сохраняет и развивает культурное наследие, и этого мы достигаем за счет развития партнерских отношений, за счет синергии наших ресурсов, за счет нашей экспертизы там, где она нужна учреждениям культуры.Каким образом?Мы серьезно подходим к своим попечительским обязанностям, вникаем во все нюансы, разбираемся, как театры выбирают постановки, а музеи — выставки, в чем ценность этих событий. Как я уже говорила ранее, мы не влияем на их выбор, но нам важно понимать, почему то или иное событие сегодня актуально, чувствовать, какой логикой руководствуется музей. Когда мы понимаем, что сейчас актуально, то можем и сами предлагать новые проекты и придумывать коллаборации.Можете привести конкретные примеры того, о чем вы говорите?Наш ресурс как меценатов — широкая осведомленность и большой круг друзей. Мы своего рода операторы в культурной сфере, и потому мы можем соединять таланты, предлагать неожиданные, но эффективные коллаборации музеям, театрам, музыкантам. Говоря языком маркетинга, у нас получается формировать уникальные торговые предложения.\\n\\n', '\\n\\nВ 2020 году мы запустили проект «Команда ВТБ: Арт. Спорт. Хайп». Это новое прочтение привычного всем формата видеоэкскурсий. В нашем проекте артисты, музыканты, блогеры рассказывают о ключевых событиях в культурной жизни страны. Например, певец Мот прочитал рэп о выставке «Художники и коллекционеры — Русскому музею. Дары. Избранное», которая была подготовлена в честь 125-летия музея. Это весьма неожиданно, потому что ГРМ — классический музей, и с рэпом он не ассоциируется. Но тем интереснее, что это удалось сделать, на мой взгляд, небанально, и это привлекло внимание той аудитории, которая знает Мота, но, возможно, редко бывает в Русском музее.А сам музей в это время был закрыт на карантин?Да. Собственно, карантин и подтолкнул нас к тому, чтобы начать создавать подобные ролики. Было очевидно, что огромное количество молодых людей, оказавшись взаперти дома из-за пандемии, сутками напролет сидят в телефонах и планшетах. Они что-то смотрят, с кем-то общаются. И мы решили создавать этот контент в первую очередь для них, потому что будет здорово, если молодые люди еще и что-то новое для себя откроют. Мы предложили нашим партнерам принять участие в проекте, и они откликнулись. Так родились неожиданные, но очень яркие коллаборации. Например, Тимати побывал в гостях у Бориса Эйфмана, Клава Кока записала песню на «ВТБ Арене», а вышеупомянутый Мот посетил Русский музей.Следующим шагом стала серия видеороликов «Культурный гид». Первую экскурсию в таком формате провел художник и куратор Федор Павлов-Андреевич. Она также состоялась по выставке «Художники и коллекционеры — Русскому музею. Дары. Избранное» (мы пробовали различные форматы и подходы, тестировали, искали). После молодой артист Большого драматического театра Геннадий Блинов рассказал о выставке «Игорь Грабарь. К 150-летию со дня рождения». Еще в один выпуск «Культурного гида» — обзор выставки Михаила Врубеля в Третьяковке — нам удалось привлечь артиста театра «Мастерская Петра Фоменко» Амбарцума Кабаняна.Я недавно смотрела этот ролик. Внешне актер так похож на врубелевского Демона!Да, многие об этом говорят. Амбарцум и играет великолепно! Мы серьезно подходили к выбору рассказчика. Но там еще и особенная музыка, сложные съемки, замысловатый монтаж. Получился целый фильм, который, конечно, требует вложений не только творческих и временных, но и финансовых. Музей с такой программой в одиночку не справился бы, а банк ВТБ, с нашими дружескими связями в театральном мире и финансовыми возможностями, смог.\\n\\n', '\\n\\nМы также сделали выпуски «Культурного гида» по выставке Роберта Фалька (в роли ведущей выступила народная артистка России Галина Тюнина) и по «„Маленькому“ искусству» в Еврейском музее и центре толерантности, где рассказчиком стала еще одна народная артистка — Юлия Рутберг. Достаточно двух-трех минут просмотра, чтобы понять, как сильно наши ролики отличаются от привычных экскурсий. За несколько месяцев они получают сотни тысяч просмотров, и это тот результат, которым мы гордимся и который дает нам понять, что мы выбрали правильное направление для работы.С каждым годом коллаборации становятся все сложнее. К выставке «Альбрехт Дюрер. К 550-летию со дня рождения» в Эрмитаже мы предложили дирижеру Теодору Курентзису и музыкантам оркестра musicAeterna составить плейлисты, сделали для этих треков интернет-платформу — лендинг, на который зрители могут переходить по QR-коду из дома, уже после посещения выставки. Наш проект предлагает смотреть работы Дюрера и одновременно слушать музыку. Это именно подобранные треки-ассоциации, не написанная сегодня музыка. Такое вот путешествие-погружение мы предлагаем зрителю совершить в стенах Эрмитажа.Хорошо, зрители получают интересный опыт, музеи — дополнительную информационную поддержку своего проекта, а в чем выгода для банка?Мы тоже выигрываем, ведь мы реализуем собственные маркетинговые цели: продвигаем бренд, улучшаем имидж, привлекаем новое поколение клиентов. Например, некоторые школьники сегодня могут не знать, кто такой Дюрер, и даже когда узнают, его творчество не всем может быть понятно или интересно. Для того чтобы понять художника, нужно понимать контекст, в котором он жил и творил, иногда знание биографии помогает включиться. Вполне вероятно, что сейчас, благодаря формату подачи информации, у них появится какой-то интерес к Дюреру, а со временем походы в музей станут для этих молодых людей стилем жизни. Во всяком случае, классические музеи не будут ассоциироваться у них с чем-то устаревшим, несовременным. Тем более что это не очень-то справедливо, ведь и музеи сегодня меняются. Это больше не ветхие сундуки с характерным нафталиновым запахом, это современные цифровые пространства, где пригодится планшет или смартфон, куда можно пойти с друзьями и что интересно обсудить после посещения.Какие еще направления в музейной работе кажутся вам актуальными?Я считаю, что очень важны все инклюзивные программы: от оборудования лифтов и пандусов до записи роликов для людей с особыми потребностями вроде нашего «Подкаста для неслышащих».Еврейский музей и центр толерантности запустил большую программу по созданию инклюзивной среды в своих стенах и предложил нам стать партнерами этой программы, с чем мы согласились. Глобальная идея состоит в том, что музей смог учитывать интересы всех людей с их особенностями и потребностями и был открыт для каждого. Это большой и сложный проект, который финансируется банком ВТБ.Также я упомянула видеогиды для людей с ограничениями по слуху. Это большой проект под названием «Диалоги об искусстве. Подкаст для неслышащих», который был запущен в 2021 году. За это время команда специалистов из компании «Языки без границ», многие из которых имеют различные ограничения по слуху, подготовила при нашем участии четыре ролика: из Третьяковки, Еврейского музея, Государственного музея-заповедника «Павловск» и Санкт-Петербургского государственного музея театрального и музыкального искусства.А помогаете ли вы музейным эндаумент-фондам?Да, конечно, и не только финансово, но и на уровне менеджмента. Одно из наших подразделений — «ВТБ Капитал Инвестиции» — управляет 36% всех эндаумент-фондов, существующих в России. Это говорит о том, что нам доверяют управление своим капиталом крупнейшие институции. Эндаументы, находящиеся под управлением наших коллег, охватывают сферы науки, культуры, искусства, спорта. По последним подсчетам, в 85 эндаумент-фондах аккумулировано 14,6 млрд руб.\\n\\n', '\\n\\nКак, по-вашему, изменятся музеи лет через 20–30?Я не профессионал музейного дела, но могу пофантазировать как активный посетитель. Думаю, более широким станет применение цифровых технологий. Компьютеры, экраны с тачскринами будут обязательным атрибутом музейных пространств.Музейные сокровища оцифруют, и какая-то их часть будет выложена в открытый доступ. Цифровые копии, проданные с определенными правами на тиражирование и дальнейшее использование, станут материалом для новых арт-объектов — новаторских шедевров цифрового искусства.Молодым людям будет привычнее обращаться в первую очередь к цифровой версии объектов культурного наследия. Хотя, конечно, никакие копии не заменят оригинал. Когда ты стоишь рядом с подлинником, ты почти физически ощущаешь энергию, которая веками копилась в произведении.Приведу один пример. В фильме «Москва слезам не верит» один из героев, Рудольф, прогнозировал, что со временем исчезнут кино, театры, книги, газеты — останется одно сплошное телевидение. И мы сейчас знаем, что он довольно сильно заблуждался. Так и с музеями будущего: они трансформируются, будут развиваться вместе с технологиями, но по сути своей останутся неизменными.Сейчас очень популярен термин ESG — его бесконечно употребляют в контексте социальной повестки. Банк ВТБ тоже недавно принял ESG-стратегию. Можете сказать, как, на ваш взгляд, это повлияет на деятельность именно в сфере поддержки культурных учреждений?ESG — модная нынче аббревиатура; вы правы, сегодня ее очень часто употребляют. Но я хочу сказать, что по большому счету введение этого термина в нашем случае, в ВТБ, лишь помогло просто систематизировать работу и четче обозначить KPI, к которым мы стремимся. ВТБ задолго до того, как появилась аббревиатура ESG, действовал как социально ответственный банк: способствовал сохранению культурного наследия, поддерживал экологические программы и совершенствовал корпоративное управление. Лучше любых слов об этом говорят цифры. Например, в сфере культуры со многими партнерами мы сотрудничаем уже около 20 лет.Мы стремимся сделать так, чтобы у людей по всей стране были равные возможности доступа к качественному образованию, медицинским услугам, культурным проектам. Мы не в силах изменить всю страну, но вносим вклад в развитие России и надеемся, что своим примером вдохновляем другие бизнесы.\\n\\n', '\\n\\n\\n\\n\\n\\n\\n\\n\\n\\n\\n\\n\\n\\n\\n\\n\\n\\n\\nПодписаться на новости\\n\\n']\n",
            "['\\n\\n\\n\\n\\n\\n\\n\\n\\n\\n\\n\\n\\n\\n\\n\\n\\n\\n\\n\\n\\n\\n\\nО том, как жизнь отдыхающих может вдохновить на новый проект, хорош ли консерватизм в музеях, а также о сотрудничестве культуры и бизнеса мы поговорили с Евгением Святским и Татьяной Арзамасовой, участниками арт-группы AES + F, чьи работы находятся на острие технологических новаций в искусстве\\n\\nЛюдмила Лунина\\n\\n22.12.2021\\n', '\\n\\nМир изменился. Пандемия разъединила нас и в то же время соединила, показала нам важность общности не только отдельных людей, но и разных сфер: культуры и бизнеса, искусства и финансов. За это время стало очевидно, что всех нас волнуют одни и те же вопросы, поэтому вместе с банком ВТБ мы хотим зафиксировать этот момент в истории и попытаться понять, что нас ждет впереди. В рамках рубрики «Музей будущего» мы публикуем разговоры с крупнейшими игроками на поле искусства о том, что уже переменилось и чего нам ждать дальше: какими будут музеи, во что превратятся выставочные и образовательные проекты, упрочится ли роль мецената и в целом насколько перспективно будет партнерство культуры и бизнеса. Своими мыслями об этом с нами поделились участники арт-группы AES+F Татьяна Арзамасова и Евгений Святский.Какие смыслы вы вкладываете в самое понятие «музей»? Замечаете ли вы, как музеи меняются?Евгений Святский: Изменений масса — технологических, содержательных, методологических. Это заметно, например, по идущей сейчас выставке «Бывают странные сближенья» Жан-Юбера Мартена в ГМИИ. Отношение к музеям как к чему-то застывшему, незыблемому, где все должно быть как при наших бабушках, — такого больше нет.\\n\\n', '\\n\\nНо в то же время мы редко задумываемся о том, что музеи — это порождение эпохи Просвещения, им от силы лет 300. Вначале были королевские коллекции, потом к ним прибавились собрания крупной буржуазии, потом эти накопленные сокровища трансформировались в национальные публичные музеи. С наших современных позиций еще каких-то 150 лет назад отношение коллекционеров, да и музейных работников, к искусству было варварским, работы часто неудачно подновлялись, научной реставрации не существовало (Венецианская хартия принята в 1964 году. — TANR), забота об искусстве была уделом любителей. Это все к тому, что музейная индустрия менялась на протяжении всей своей истории, поэтому страдания и камлания по поводу того, что именно сегодня молодые художники и кураторы творят в музеях бог знает что, не имеют под собой достаточных оснований.Татьяна Арзамасова: Мне лично крайне интересно наблюдать музейные эксперименты в мире: новые интерпретации развески, интервенции художников в исторические экспозиции, временные проекты, расширение музейного функционала, гастроли музеев, межмузейные обмены, создание филиалов, изменения-поглощения, взаимодействие с современной архитектурой.Например, нью-йоркский МоМА (Музей современного искусства. — TANR) пару лет назад расширили, по-новому оформили залы, оборудовали новые пространства. И у нас в Москве идет бурное музейное строительство: Пушкинский музей уже не тот, что мы помним с детства, скоро это будет целый музейный район в несколько кварталов.\\n\\n', '\\n\\nИ еще, на мой взгляд, прорывным явлением стала инклюзия. Мы наконец-то задумались о том, что для людей с особенностями развития посещение музеев гораздо сложнее, чем для нас с вами — условно говоря, здоровых. Специальные программы для слабовидящих, слабослышащих, не говоря уже об устройстве лифтов и пандусов, делающие музеи более доступными для этих людей, — всю эту работу надо горячо приветствовать.На ваш взгляд, насколько сильно повлияли на музей цифровые технологии?Е.\\xa0С.: Здесь можно перечислять бесконечно. Такие технологии присутствуют в музее и чисто физически — это всевозможные дисплеи, тачскрины, где можно получить необходимую информацию. Ну и все музеи имеют свои интернет-версии. Онлайн-активности их весьма разнообразны, и они многократно усилились во время пандемии, когда зрители не могли музеи посещать.Но вам не кажется, что, поскольку в нашей жизни все стремительно меняется каждые лет семь, определенный консерватизм музеям не повредит?Е.\\xa0С.: Консерватизм хорош, когда институция хочет удержать вокруг себя традиционную аудиторию, людей старшего поколения, сформировавшихся еще в докомпьютерную эпоху. Если же музеи ориентируются на молодежь, у них нет другого выбора, кроме как меняться.Я здесь усматриваю некоторую аналогию с оперой. Некогда самый технологически сложный и зрелищный вид искусства, королевское удовольствие, во второй половине XX века опера постепенно оказалась в кризисе, потому что, благодаря техническому прогрессу, появились другие яркие развлечения, прежде всего кино, оперетта, мюзиклы, эстрада, рок-концерты и прочее. На этом фоне опера как зрелище стала для части публики казаться безнадежной ретроисторией. И вот неравнодушные ее поклонники и сами участники процесса начали борьбу за зрелищность оперы, за соответствие смысла и формы, и в том числе стали искать способы решения проблемы внешнего несоответствия немолодых и тучных солистов, исполняющих роли юных героев. Традиционалистам все равно: они слушают голоса, а более юная аудитория не хотела мириться с диссонансом голоса и образа. Так же и с музеями.\\n\\n', '\\n\\nНасколько электронная копия может заменить подлинник? Будет ли в будущем достаточно лишь виртуального посещения музеев?Т.\\xa0А.: Мне кажется, это можно даже не обсуждать. Никогда никакая копия не заменит подлинное произведение. Если углубиться в историю, то само слово «музей» происходит от названия храма — места религиозных ритуалов. Воздействие музейных подлинников сродни магии, чуду.Е.\\xa0С.: Я бы здесь поспорил. Во-первых, уже немало такого искусства, которое существует только в электронном виде, и для него понятия «подлинник» и «копия» не так драматичны, как для живописи старых мастеров. Цифровые технологии пришли навсегда, они никуда не денутся и будут только совершенствоваться.Во-вторых, для поколения 20–30-летних людей, которые большую часть жизни проводят онлайн, все не так очевидно. Виртуально они могут полетать в пустом музее ночью с помощью камеры на дроне или рассмотреть фрески на потолке Сикстинской капеллы в деталях, с расстояния вытянутой руки. Их еще надо убедить, что поход в музей ногами имеет какую-то дополнительную ценность. У любого — реального и онлайн — взаимодействия с музейными коллекциями есть свои плюсы. В физическом мире до музея еще надо добраться, в виртуальном же все гораздо легче: не вставая с кресла, можно попасть в любой музей мира.\\n\\n', '\\n\\nЧто музеи должны делать с цифровыми копиями своих произведений: продавать, раздавать бесплатно, запретить распространение?Е.\\xa0С.: Если такой запрос есть, то надо продавать. Мы ведь спокойно относимся к тому, что музей продает сувениры, которые не что иное, как реплики хранящихся в нем шедевров. Чем в таком случае хуже куда более тщательные и подробные цифровые копии? Почему они не могут быть предметом продажи? Если есть возможность за счет такой вот популяризации увеличить музейный бюджет, почему бы это не сделать? От реальных вещей не убудет, а многие люди приобщатся к искусству через цифровую копию.Т.\\xa0А.: Бывают ситуации, когда крайне хрупкие оригиналы нельзя демонстрировать долгое время. И тут качественные цифровые копии могут стать хорошим подспорьем. Оригиналы они не заменят, но позволят детально с ними ознакомиться, в подробностях изучить.Е.\\xa0С.: Я недавно побывал в городе Анапа и был впечатлен тамошней любовью к античному наследию. Весь город щедро украшен пластмассовыми греческими богами, кариатиды разной комплектации приставлены к современным постройкам. Это народная стихия, и ее не остановить. Так что — больше копий, хороших и разных!\\n\\n', '\\n\\nТ.\\xa0А.: Копии могут стать триггером новых художественных произведений. Мы в свое время в Египте увидели на стене отеля Hyatt копию фрески из египетской усыпальницы в Долине царей. На фреске Изида и Анубис изготовляли мумию фараона. А ровненько под этой фреской современные массажисты производили разные манипуляции с клиентами отеля, распростертыми на столах. Мы поразились тому, насколько наша обыденная ситуация рифмовалась с ритуалами 5000-летней давности. Такая вот коллективная Мнемозина — общая память. И это подтолкнуло нас к идее проекта «Пир Трималхиона».Как должно строиться взаимодействие музеев и бизнеса?Т.\\xa0А.: Бизнес-технологии, с умом и любовью приложенные к культуре вообще и к музеям в частности, подчас дают поразительные результаты. Я бы хотела напомнить о семье Медичи, которые изначально были банкирами, а потом пошли во власть. Они сделали ставку именно на искусство: планомерно занимались археологией, поддерживали современных художников, собирали художественную коллекцию. В результате их деятельности Италия и конкретно Флоренция на 500 с лишним лет стали местом паломничества людей со всей планеты.\\n\\n', '\\n\\nЕ.\\xa0С.: Всегда есть плюсы и минусы. Это как лекарство для больного: в правильных дозах помогает, в неправильных — вредит. Бизнес может быть агрессивным и использовать музеи в своих узких интересах. Мне не нравится, например, когда музейные помещения сдаются под корпоративы. Хорошо то, что хорошо для искусства.Положительное взаимодействие с бизнесом возможно в плане современных инвестиционных технологий. Например, технологий создания и управления эндаумент-фондами, клубами друзей музея, привлечения патронов и донаторов. Всеми этими мероприятиями и департаментами должны руководить профессионалы, то есть люди бизнеса, а не искусствоведы.Ну и наконец, появление уникальных цифровых NFT-произведений искусства также открывает поле для взаимовыгодного сотрудничества музеев и бизнеса. То есть возникла технология, подтверждающая подлинность конкретной цифровой копии, а не вообще какой-то, и тем самым она сделала копию товаром.В музеях какого типа нуждается искусство AES+F?Т.\\xa0А.: То, что мы делаем в жанре видеоинсталляций, не имеет жестко заданного масштаба — его можно смотреть на экране телефона, на гигантских мониторах в торговом центре, на дисплеях дома или в музее.Е.\\xa0С.: У нас многосоставные проекты, они включают видеоинсталляции (версии с разным количеством каналов) и скульптуры, картины и цифровые принты, рисунки и многое другое — от вещей, которые, грубо говоря, можно поставить на каминную полку, до монументальных городских или парковых объектов. И масштаб видеоинсталляций мы подбираем применительно к месту экспонирования. «Пир Трималхиона», к примеру, мы показывали в виде круговой инсталляции в московском «Гараже», а в Торонто, в Парке королевы, мы тоже сделали круговую инсталляцию, но на полупрозрачных экранах. Она светилась в ночи словно гигантский абажур, и работу можно было смотреть как изнутри, так и снаружи. В Риме на фестивале Videocittà мы транслировали трехканальную «Турандот-2070» одним экраном на 40-метровый фасад театральной коробки Дворца конгрессов. Зрители сидели на крыше. Так что нам подойдет любой музей.\\n\\n', '\\n\\nЕсть ли у вас такие проекты для музеев, которые осуществимы только через десять-двадцать лет?Т.\\xa0А.: У нас была идея «оживить» классическую скульптуру, то есть скульптура-голограмма висела бы в воздухе, двигалась, взаимодействовала со зрителем. Такого еще никто не делал. Предложение было сделано в первую очередь одному важному российскому музею. Затем мы сделали такое же предложение известному европейскому музею. Поскольку российский музей отказался, то теперь мы ожидаем решения европейского музея.Останется ли в музеях будущего наука?Е.\\xa0С.: Безусловно. Но, сохраняя научную часть, музеи будут работать (уже работают) в области образования и развлечений. Возможно, какие-то музеи будут развивать реставрационные и археологические направления, обязательно будут издательские отделы, кинозалы, театральные площадки — короче, произойдет максимальное расширение жанров. И кафе и рестораны — посетителей же надо кормить! В музеях должны быть интрига, комфорт и красота, чтобы у зрителей возникало желание вернуться.Должны ли музеи быть бесплатными?Т.\\xa0А.: Это во многом зависит от статуса музея. Частные вряд ли когда-либо смогут быть совсем бесплатными, а что касается государственных, которые содержатся на деньги налогоплательщиков, то это желательно, так как образование и культура являются фундаментом процветания страны.\\n\\n', '\\n\\n\\n\\n\\n\\n\\n\\n\\n\\n\\n\\n\\n\\n\\n\\n\\n\\n\\nПодписаться на новости\\n\\n', '\\n\\nAES + F\\n\\n', '\\n\\nМатериалы по теме:\\n\\n\\n']\n",
            "['\\n\\n\\n\\n\\n\\n\\n\\n\\n\\n\\n\\n\\n\\n\\n\\n\\n\\n\\n\\n\\n\\n\\nГлава отдела современного искусства «Эрмитаж 20/21» и куратор рассказал нам о новой жизни в виртуальном пространстве, воспитании сложного человека и идеальной модели музея будущего\\n\\nНаталья Шкуренок\\n\\n02.12.2021\\n', '\\n\\nМир изменился. Пандемия разъединила нас и в то же время соединила, показала нам важность общности не только отдельных людей, но и разных сфер: культуры и бизнеса, искусства и финансов. За это время стало очевидно, что всех нас волнуют одни и те же вопросы, поэтому вместе с банком ВТБ мы хотим зафиксировать этот момент в истории и попытаться понять, что нас ждет впереди. В рамках рубрики «Музей будущего» мы публикуем разговоры с крупнейшими игроками на поле искусства о том, что уже переменилось и чего нам ждать дальше: какими будут музеи, во что превратятся выставочные и образовательные проекты, упрочится ли роль мецената и в целом насколько перспективно будет партнерство культуры и бизнеса. Своими мыслями об этом с нами поделился глава отдела современного искусства «Эрмитаж 20/21», куратор Дмитрий Озерков.\\n\\n', '\\n\\nИзменятся ли кардинально музеи в обозримом будущем? И какими будут эти музеи будущего?Для меня этот вопрос распадается на два: как музеи сами развиваются и как они адаптируются под меняющегося человека. Музеи обслуживают нашу память — культурную, историческую, национальную. Представления о памяти сейчас меняются, и музеи должны меняться. Еще недавно нам нужно было запоминать номера телефонов своих друзей и близких, надо было помнить наизусть какие-то тексты. Сейчас быстрее найти в интернете, чем вспоминать, быстрее погуглить, чем открыть словарь. Наша память уже функционирует иначе, как говорят специалисты, и многие музеи повторяют эту модель — стараются быть не вместилищами фундаментальных знаний, а «напоминалками» о главном, собраниями ярких заголовков. В советское время, согласно идеологической концепции 1930-х годов, экспозиция Эрмитажа учила посетителей, как общество развивалось от первобытно-общинного строя к светлому коммунистическому будущему. Сейчас Эрмитаж — это «универсальный музей» с набором шедевров: здесь у нас Рембрандт, тут Леонардо. Это блокбастер в сочетании с новыми явлениями и коллаборациями, как, например, проект «Эрмитаж. Снято на iPhone 11 Pro». Важно идти вперед, но не прийти к полному упрощению музея. Многие музеи будут развлекать публику яркими экранами — а лучшие откажутся от экранов и останутся сложными организмами, ведь только так можно воспитать сложного человека.\\n\\n', '\\n\\nТо есть очевидный путь в будущее для музея — все же упрощение?Не так однозначно. Скорее всего, музеи будущего будут напоминать аэропорты с круглосуточной работой семь дней в неделю. Превратятся в некое подобие хабов, где у посетителя не так много времени на сами музейные экспонаты или он вообще рискует не увидеть их, заплутав среди многочисленных магазинов и сувенирных лавок. В лучшем случае удастся пробежать по какому-то основному маршруту. Так что движение в сторону упрощения экспозиций неизбежно. Но именно поэтому музеи должны создавать сложные тексты, смыслы, сочетания предметов, которые помогут максимально уйти от упрощения содержания. Именно поэтому новый Лувр стал делать выставки, которые курировали известные философы — Юлия Кристева, Жак Деррида. Позволить себе такое смогут немногие — но эти места станут знаковыми для своих стран и культур. А основная часть музеев неизбежно упростится, превратится в набор шедевров с их сувенирным воспроизведением во всех видах — от брелоков и кружек до NFT.\\n\\n', '\\n\\nТенденции последних лет, особенно почти полтора года пандемии, показали, что виртуальная реальность становится самой актуальной, востребованной площадкой и реальной сферой существования музея. Как вы думаете, виртуальная реальность может заменить реальный музей?Мы открыли выставку «Незримый эфир», которая переворачивает первую страницу книги под названием «Цифровой двойник музея». Это первая в Европе полностью виртуальная музейная выставка. Мы создали ее в рамках нового проекта «Небесный Эрмитаж» — оцифровали пространство главного зала Биржи, с которого начинает создаваться виртуальный двойник Эрмитажа. «Незримый эфир» — прообраз музея будущего. Посетители заходят туда под своими аватарами, они могут видеть друг друга на выставке, разговаривать между собой. Цифровые копии экспонатов часто лучше видны на экране, чем в музее на стенах. Я всегда привожу пример — прекрасно отсканированный в рамках Google Arts & Culture «Блудный сын» Рембрандта. Там видны все кракелюры, мазки художника, чего не разглядишь в зале. Эрмитаж лет десять назад сделал проект «Виртуальный визит». Тогда залы были отсняты камерами типа «рыбий глаз» и был доступ к отдельным экспонатам. «Небесный Эрмитаж» — это виртуальный визит нового поколения, который скоро практически не будет отличаться от реального, ведь 3D-очки уже сейчас способны создать полную иллюзию личного присутствия. Два типа музеев — виртуальный и физический — будут сосуществовать одновременно. А поскольку в реальных музеях будут только расти ограничения, то будет куда проще и дешевле посещать виртуальные музеи. На мой взгляд, это и есть будущее.\\n\\n', '\\n\\nОткрывая «Небесный Эрмитаж», вы сказали о том, что, по вашему мнению, виртуальное искусство должно оставаться в цифровом виде и мы, зрители, должны в него перенестись. Мы, посетители, тоже превратимся в цифровые копии самих себя?Уже превращаемся, и наш проект это показывает. Вы можете посетить выставку анонимно, а можете — со своим именем и лицом. Можете придумать себе цифровой аватар, а если захотите, можете войти в виде видео, если включите камеру на своем гаджете. Это и есть цифровое присутствие. Пути назад нет. Собственно, портал госуслуг — это начало процесса цифровизации населения страны, там хранится ваш подтвержденный цифровой профиль. Потом он обрастет дополнительной информацией и опциями — через пару лет это и будет ваш полный цифровой двойник.Но цифровое пространство бесконечно. Следовательно, и виртуальный музей становится бесконечным и в нем будет доступно все то, что сейчас посетители музея не видят?И да и нет. Вопрос в необходимом и достаточном, в том, сколько информации человек может и хочет воспринять. Музей — явление гуманитарное, а потому он сохранит человеческое измерение. Цифровой музей тоже будет ограничен. В фондах Эрмитажа 3,1 млн единиц хранения, и эта история всегда будет в полном объеме оставаться уделом специалиста-исследователя, а не обычного посетителя, у которого после первой тысячи экспонатов заканчивается способность воспринимать.\\n\\n', '\\n\\nВ чем тогда будет смысл посещения музея? Сейчас мы воспринимаем музеи как просветительские, образовательные учреждения. Не получится ли, что с появлением цифрового двойника музей превратится в одно сплошное развлечение?Мне кажется, что будет большая диверсификация: и там и тут будут и сложные, глубокие вещи, и легкие, развлекательные. Как в эрмитажном анекдоте советского времени про группу из Москвы, которая заявляет экскурсоводу перед началом: «Нам, пожалуйста, побольше и побыстрее». Кому-то это покажется правильным — побыстрее ухватить суть, вынести свое суждение и бежать дальше. Но петербургский, эрмитажный подход другой: давайте лучше в десятый раз повторим, подумаем, может, заметим что-то новое и зададимся новым вопросом. Разница подходов сохранится: быстро и основное или медленно и глубоко. Впрочем, оцифровано будет все, и уже сейчас на сайте Эрмитажа можно бесконечно персонализировать свой визит в музей. В венской Галерее Бельведер мне понравилось, что к «Поцелую» Густава Климта ведут два указателя: в одну сторону сама картина, в другую — ее цифровая копия, где можно делать селфи. То есть ты выбираешь либо процесс, либо результат. Либо идешь к оригиналу, чтобы получить максимальное представление и продолжить думать. Либо делаешь селфи на память.\\n\\n', '\\n\\nМузеи обречены прыгнуть в это самое цифровое будущее, перейти в виртуальную реальность?Все прыгнут, все обречены. Но кто-то потом отпрыгнет назад и в сторону и, создав двойника, сумеет не слиться с ним, а остаться в реальности. Это смогут не все.Пандемия и все, что произошло за эти полтора года, оказали влияние на ваше представление о том, каким должен быть музей будущего? Что-то в вашем представлении укрепилось, разрушилось?Честно говоря, лично мне даже понравилось, что все было закрыто. Иногда это неплохо. Когда в музее много туристов — тяжело. Хотя все музеи, конечно же, потеряли деньги, что сказалось на всех сферах. Но стало ясно, что нужен баланс. И новые технологии, новые способы общения, надеюсь, выведут нас к общему пониманию музея будущего, в котором, видимо, не всем будет нужно смотреть на оригинал «Блудного сына». Недавно я побывал в Египте и сравнил с реальностью то, что столько раз видел на картинках: пирамиды, Долину царей, музеи. Конечно, без этой поездки мое представление о Египте было бы другим. Но не кардинально: многое я просто узнавал, потому что видел фотографии. Так что в музей ведут разные дороги, и из музея они тоже идут в разные стороны.\\n\\n', '\\n\\nМузейные ограничения в период пандемии повлияли на взаимодействие бизнеса с музеями?Мне сложно судить, я далек от сферы бизнеса, хотя отлично понимаю, что бизнес за время пандемии пострадал. Любой туристический город понес огромные убытки. Это объективно плохо для всех, кроме домоседов-философов вроде меня. Но мне кажется, что музей сегодня выходит на какой-то новый виток, который сделает его понятным и привлекательным. В музеи идут за эмоциями и переживаниями, а это для бизнеса привлекательная история.Насколько бизнес может быть заинтересован в создании виртуального, цифрового двойника музея?Уверен, что это для бизнеса очень привлекательная сфера деятельности. Виртуальный музей — это более молодой потребитель, это геймификация музейного опыта. Будущий посетитель будет заходить в музей через метапортал (например, из своего мира в Fortnite) и выходить через ту же самую сувенирную лавку, только сувениры будут другими, виртуальными. Неизбежно сближение миров с играми, которые стали частью реального мира, частью культуры. И если геймеры станут постоянными клиентами музеев, бизнес только выиграет. Эрмитаж, кажется, осознал это еще лет 15 назад, когда установил на первом этаже компьютеры со всякими «ходилками» по музею. Возле них дети зависали часами, им это было интереснее, чем реальные предметы в залах. А теперь это все доступно онлайн 24/7.\\n\\n', '\\n\\nВ связи с цифровым двойником музея и цифровыми копиями его экспонатов возникает и целый комплекс противоречий в современном законодательстве. Значит ли это, что придется разрабатывать новую систему законов, регулирующих виртуальный музей?Да, об этом уже давно говорят, и сейчас целый ряд положений находится в разработке в разных странах. Это касается и формата NFT — вопрос фиксации авторства и получения роялти. С появлением блокчейна исчезает необходимость в реальных юристах, исчезнет нотариус, и появится программист с расширенными функциями. Он создает смарт-контракт, согласно которому человек может приобрести произведение, заплатив определенную сумму. Все права прописаны в договоре. Ты соглашаешься на них в один клик и не можешь изменить.С вашей точки зрения, концепция открытости и доступности не противоречит требованиям показа и хранения? Изменятся ли требования?Музей — это, по сути, оксюморон. Ты должен и хранить, и показывать, а, чем больше ты показываешь, тем меньше хранишь. И наоборот. Музей — извечный компромисс между противоположными задачами. Цифровизация только способствует сохранению: мы не достаем лишний раз реальную вещь, мы показываем ее цифровую копию. Не вижу в этом проблемы.Если бы вам дали возможность сделать свой музей будущего, что бы вы сделали?Построил бы большое круглое или сферическое пространство, в центр которого вставал бы зритель и, подняв руки вверх, напитывался бы всеми знаниями и эмоциями мира, поступающими через все чувства. Из музея он уходил бы не таким, как прежде.\\n\\n', '\\n\\n\\n\\n\\n\\n\\n\\n\\n\\n\\n\\n\\n\\n\\n\\n\\n\\n\\nПодписаться на новости\\n\\n', '\\n\\nГосударственный Эрмитаж\\n\\n']\n",
            "['\\n\\n\\n\\n\\n\\n\\n\\n\\n\\n\\n\\n\\n\\n\\n\\n\\n\\n\\n\\n\\n\\n\\nЗнаменитый куратор рассказал нам о том, чем живущие художники могут быть полезны музеям, о преимуществе чувств над знаниями и о грандиозном проекте для Пушкинского\\n\\nСветлана Янкина\\n\\n09.11.2021\\n', '\\n\\nМир изменился. Пандемия разъединила нас и в то же время соединила, показала нам важность общности не только отдельных людей, но и разных сфер: культуры и бизнеса, искусства и финансов. За это время стало очевидно, что всех нас волнуют одни и те же вопросы, поэтому вместе с банком ВТБ мы хотим зафиксировать этот момент в истории и попытаться понять, что нас ждет впереди. В рамках рубрики «Музей будущего» мы публикуем разговоры с крупнейшими игроками на поле искусства о том, что уже переменилось и чего нам ждать дальше: какими будут музеи, во что превратятся выставочные и образовательные проекты, упрочится ли роль мецената и в целом насколько перспективно будет партнерство культуры и бизнеса.Своими мыслями об этом с нами поделился Жан-Юбер Мартен — историк искусства и независимый куратор, главным творческим методом которого всегда было преодоление категорий и штампов, существующих и в истории искусства, и в деле создания выставок, человек, причастный к запуску самых знаменитых музеев мира (например, парижского Центра Помпиду), и автор поразительных выставок, где сопоставляются, рождая новые смыслы, объекты разных эпох и цивилизаций.\\n\\n', '\\n\\nМожете ли вы представить себе музей через 50 лет? Как он будет выглядеть?Делать предсказания всегда очень сложно, но мне кажется, что если музей по-прежнему будет заниматься в первую очередь обучением истории искусства и организовывать экспозиции по историческому и географическому принципам, то через 50 лет молодежи среди посетителей не будет.Как этого избежать?Нужно продолжать выработку новых подходов к размышлениям о том, чем является музей, что уже происходит какое-то время. Сейчас в представлении публики музеи в очень большой степени выглядят некими храмами, где царит ощущение, что искусство — это нечто священное. Речь не идет о том, что искусство должно стать чем-то обыденным, но, как мне кажется, следует думать над тем, как музеи должны встречать посетителя, работать с ним. Я считаю, что полезно будет обратиться к опыту художников, потому что они прекрасно умеют задействовать юмор, задавать вопросы. Думаю, это надо использовать.\\n\\n', '\\n\\nМожет ли любой старый музей сразу прыгнуть в будущее? Или для этого его надо строить заново?Если есть возможность нового строительства — прекрасно. При этом совершенно не обязательно возводить новые здания — можно улучшать старые, чтобы они отвечали требованиям современности. Нужно работать над сценариями поведения зрителя в музейных залах и способами взаимодействия с ним.\\n\\n', '\\n\\nБИОГРАФИЯ\\nЖан-Юбер МартенИсторик искусства, кураторВозглавлял Центр Помпиду и Национальный музей искусства Африки и\\xa0Океании в Париже, Кунстхалле в\\xa0Берне, Кунстпалас в\\xa0Дюссельдорфе. Курировал биеннале в Йоханнесбурге, Москве, Сан-Паулу, Сиднее. Среди самых известных его выставок — экспозиции Ман Рэя (1972, 1982), Франсиса Пикабиа (1976), Казимира Малевича (1978), «Париж — Берлин» (1978), «Париж — Москва» (1979), «Маги земли» (1989), «Карамболь» (2016). В\\xa0настоящее время работает как независимый куратор и\\xa0входит в\\xa0комитеты различных музеев.\\nЕще…\\n\\n', '\\n\\nОказала ли пандемия влияние на ваш образ музея будущего?На короткое время — да. Но в целом сложившаяся ситуация выявила, как важны для нас общественные места, где мы можем встретиться с другими людьми и заняться общим делом. Пандемия подчеркнула, что музей — это в том числе место, важное для социальной жизни.\\n\\n', '\\n\\nНасколько важна финансовая поддержка крупных компаний при создании выставок? В каком направлении, как вам кажется, будет развиваться взаимодействие с бизнесом?Выставки становятся все более дорогими, музеи стремятся все организовать безупречно, нужны большие страховки, чтобы обеспечить сохранность произведений искусства. И в связи с этим возникает потребность в дополнительном частном финансировании. Сегодня участие спонсоров неизбежно. Однако в будущем, я думаю, возможна ситуация (это касается европейских музеев), когда можно будет вернуться к модели финансирования главным образом за счет государства или общественных средств. Здесь необходимо сделать оговорку об американских музеях, которые являются частными и получают госфинансирование только в исключительных случаях.Если говорить о частном финансировании, существует некоторая гипотетическая опасность влияния со стороны спонсоров на тематику или содержание выставок. За этим нужно следить и не допускать такого влияния. Тем не менее совершенно не обязательно, что оно действительно будет проявляться. У меня был опыт работы с одним немецким музеем, который существует в формате государственно-частного партнерства: он принадлежит городу, но выставки спонсирует местная крупная компания. Я делал там несколько выставок, и ни разу не было никакого вмешательства со стороны компании.\\n\\n', '\\n\\nВы говорили о том, что когда готовите выставку, то опираетесь на конкретное место и его историю. Каким вам открылся Пушкинский музей? О чем вы думали, когда готовили проект «Бывают странные сближенья...» для Москвы?Музей был создан в начале ХХ века для того, чтобы его посетители могли изучать историю искусства, и для этого были заказаны гипсовые копии того, что тогда считалось идеальным выражением искусства, то есть произведений греко-римской цивилизации. Когда создавался музей, это представлялось как мировое искусство. Хотя с того времени музей изрядно изменился, в его основе лежит идея университетской истории искусства.Люди воспринимают искусство с двух точек — знаний и чувственно. Чем больше вы смотрите на произведения, узнаёте о них, тем более сильным становится ваше чувственное восприятие. Мне кажется, в последние десятилетия музеи увлеклись образовательной стороной, тем, чтобы передавать посетителям знания, и сторона чувственного восприятия отошла на второй план. И как раз таки моя выставка (проект «Бывают странные сближенья...» проходит в ГМИИ с 9 ноября 2021 года по 6 февраля 2022 года. — TANR) предназначена для людей с совершенно разным уровнем подготовки. На ней не будет этикеток и экспликаций, будет только один текст в самом начале, который объяснит правила игры и то, каким образом нужно перемещаться по выставке. В этих правилах зрителям будет предложено в первую очередь полагаться на собственные ощущения, обращать внимание на детали, и именно из этого будет складываться задуманный мной рассказ. Я уверен в том, что произведения искусства в первую очередь должны вызывать живые эмоции и чувства.\\n\\n', '\\n\\nНасколько новые технологии (например, иммерсивные технологии, дополненная реальность) могут помочь музею, помочь понять искусство, насколько активно их надо использовать?Я не очень хорошо знаком с самыми новыми технологиями. Но если взять не очень новые, то, например, интернет невероятно полезен, потому что кто угодно может прямо в телефоне в поисковике набрать имя какого угодно художника и найти исчерпывающую информацию о нем или его работах, в то время как раньше требовался поход в архив, библиотеку и так далее. К тому же это избавляет людей от пространных экспликаций, которых много сейчас в музейных залах.\\n\\n', '\\n\\nКак в будущем будут взаимодействовать подлинники и копии, в том числе цифровые?Если говорить о копии, то она является одним из признаков успеха самого произведения. Еще в 50–60-е годы ХХ века, когда появились хорошо иллюстрированные альбомы с репродукциями, возникли опасения, что это убьет искусство, люди перестанут интересоваться подлинниками. Сейчас это нормальная практика, это сложно как-либо регулировать или ограничивать. Сегодня у нас есть технические возможности, чтобы создавать копии, практически неотличимые от оригинала. И здесь встает вопрос о том, что подлинные шедевры очень редки и эта редкость сегодня даже, может быть, слишком подчеркивается. Мне кажется, в будущем — возможно, недалеком, — появятся выставки, где экспонатами будут копии, а не подлинники.\\n\\n', '\\n\\nНе противоречит ли современная концепция открытости, доступности музея (например, открытые дворы и первые этажи, прилегающая территория) требованиям хранения и показа искусства?Организация открытых общественных пространств в музеях, куда люди приходят пообщаться и провести время, не заходя в экспозицию, — это хорошая идея, с этим надо работать, потому что это шанс привлечь в музеи ту публику, которая обычно в них не ходит. Я помню, как в 1970-е годы открылся Центр Помпиду, совершенно новое, необычное пространство для Парижа с невероятной для того времени архитектурой. Туда пришли люди, которые сначала не понимали, где они находятся, и, когда они видели произведения искусства, для них было открытием, что это музей.\\n\\n', '\\n\\n\\n\\n\\n\\n\\n\\n\\n\\n\\n\\n\\n\\n\\n\\n\\n\\n\\nПодписаться на новости\\n\\n', '\\n\\nЖан-Юбер Мартен\\nГМИИ имени А.С.Пушкина\\n\\n', '\\n\\nМатериалы по теме:\\nЖан-Юбер Мартен перемешает коллекцию ГМИИ\\n\\n']\n",
            "['\\n\\n\\n\\n\\n\\n\\n\\n\\n\\n\\n\\n\\n\\n\\n\\n\\n\\n\\n\\n\\n\\n\\nИсполнительный директор Еврейского музея и центра толерантности рассказала нам о том, что делает музеи молодыми, и о своем взгляде на то, как события последних лет изменили их и подтолкнули к новым способам работы\\n\\nТатьяна Маркина\\n\\n28.10.2021\\n', '\\n\\nМир изменился. Пандемия разъединила нас и в то же время соединила, показала нам важность общности не только отдельных людей, но и разных сфер: культуры и бизнеса, искусства и финансов. За это время стало очевидно, что всех нас волнуют одни и те же вопросы, поэтому вместе с банком ВТБ мы хотим зафиксировать этот момент в истории и попытаться понять, что нас ждет впереди. В рамках рубрики «Музей будущего» мы публикуем разговоры с крупнейшими игроками на поле искусства о том, что уже переменилось и чего нам ждать дальше: какими будут музеи, во что превратятся выставочные и образовательные проекты, упрочится ли роль мецената и в целом насколько перспективно будет партнерство культуры и бизнеса.Своими мыслями об этом с нами поделилась исполнительный директор Еврейского музея и центра толерантности, глава попечительского совета MOMus — Музея искусства модернизма — Коллекции Костаки в Салониках, основатель арт-галереи «Эритаж» Кристина Краснянская.\\n\\n', '\\n\\nПод влиянием пандемии жизнь и музеев, и их посетителей вступила в какую-то новую фазу. Можно ли найти в этих изменениях что-то положительное?Совсем недавно я участвовала в международной конференции, которая проводилась совместно с ИКОМ России и была посвящена переосмыслению опыта посетителей во время пандемии. Тому, как музеи переживают эту катастрофу — и финансовую, и выставочную, которая случилась в связи с эпидемией. Такой сектор арт-экономики, как ярмарки и галереи, перестраивается быстро: они гибче и мотивация у них другая. Музеи — более традиционная и медленная структура. Особенно если это государственный музей — введение любых новшеств тут требует времени. Пандемия стала тем толчком, простите, даже пинком, который заставил самые консервативные музейные институции быстро переориентироваться на новые формы подачи своего материала и взаимодействия с аудиторией.\\n\\n', '\\n\\nСПРАВКА\\nПотери мировых музеев в цифрахК весне 2020 года более 90% музеев во всем мире были временно закрыты, и примерно 10%, по прогнозам, больше не откроются. Прекращение работы привело к сокращению международного культурного туризма примерно на 75%. В связи с этим 93% музеев во время пандемии расширили или запустили интернет-сервисы. Более 75% музеев либо усилили деятельность в социальных сетях, либо начали ее с нуля, а 53% увеличили объемы или стали создавать впервые видеоконтент.Источники: ICOM 2020 Annual Report; UNESCO report: Museums around the world in the face of COVID-19; the Network of European Museum Organisations сonference, 2021.\\nЕще…\\n\\n', '\\n\\nСейчас пользователь интернета, физически не перемещаясь в музее, может смотреть выставки, слушать кураторов, проходить образовательные программы. Используются даже приемы гейминга, когда с приложением в телефоне ты получаешь возможность путешествовать по выставке, сравнивать черты своего лица с лицами на портретах в экспозиции музея и так далее. Зачем это делается? Для того, чтобы не потерять целевую аудиторию, удержать ее, а может быть, даже приобрести новую — новое поколение, молодых людей, которые привыкли чувствовать себя комфортно в цифровом пространстве.Значит ли это, что музей не вернется к прошлому формату уже никогда?Сегодня, безусловно, мы живем в дигитальном, цифровом мире, и оцифровывание коллекций, цифровые стратегии играют важную роль в развитии музеев, даже самых консервативных и самых, так скажем, старорежимных. Но мне кажется, что никакая цифровая история не заменит соприкосновения с искусством вживую. Почему коллекционеры тратят миллионы и покупают произведения искусства? Помимо амбиций и желания обладать. Можно купить себе постер, он тоже будет радовать глаз. Потому что ту энергию, которую получаешь от работы мастера, не получишь ни от какого цифрового изображения этой работы. Ни на бумаге, ни на экране.Возможно, через 50 лет это будет неактуально, потому что люди просто перестанут взаимодействовать с произведениями искусства. Хотя, мне кажется, это маловероятно. Я за гибридную модель. Но сейчас, при проблемах с перемещением по миру и пересечением границ, очень важно сохранить возможность дистанционно посмотреть выставку, послушать кураторскую экскурсию, получить информацию. И в то же время при первой же возможности соприкоснуться с искусством вживую.\\n\\n', '\\n\\nЧто будет в будущем, я не знаю. Однако мне кажется, что, чем технологичнее мы становимся, тем меньше глубины в нас. И очень важно совсем не потерять то наследие, что накоплено веками. Вот я была недавно в Египте. Никакая книга, никакой фильм — ни документальный, ни художественный — не передадут то, что я ощутила, прикасаясь в реальности к наследию этой древней цивилизации. Никакое цифровое воспроизведение тебе этого не заменит. Естественная человеческая эмоциональность, тактильное, визуальное восприятие — все это в комплексе дает нечто, что потом навсегда сохраняется внутри. Поэтому я считаю, что, наверное, музей будущего — это какая-то гибридная форма, но точно не только онлайн.Без посетителей, в период локдауна, музеи оказались в финансовой яме, ведь доход им приносили реальные зрители. Смогут ли музеи монетизировать цифровые услуги и жить дальше?Исследование, проведенное в октябре 2020 года, показало, что в среднем музеи США потеряли 35% обычного операционного дохода в 2020 году и ожидают потери минимум на 28% в этом году. Хотя музеи внедряют новые способы связи со своей аудиторией, сбор средств в цифровом формате по-прежнему на 34% меньше дохода, обычно получаемого от личного посещения.В конце концов, прежде всего это вопрос маркетинга. Я считаю, что любой продукт, если он востребован и правильно представлен рынку, будет покупаться. Музеям предстоит найти собственный продукт, который они могут продавать, экспортировать, будь то образовательные программы или дистанционная работа с архивами. Я, кстати, считаю важнейшим элементом прогресса, когда ты можешь в одном месте найти оцифрованную важную информацию для серьезной работы. Я сейчас говорю не о Google — я говорю о профессионально созданных цифровых архивах. Например, такие архивы есть в Музее современного искусства «Гараж», такой архив будет в Еврейском музее и центре толерантности. Мы создаем дигитальный хаб, посвященный российскому еврейству. Первый шаг был сделан, когда мы оцифровали все документы из библиотеки Шнеерсона (это уникальное книжное собрание, принадлежавшее до революции династии любавичских цадиков и национализированное в 1920-е годы советской властью; сегодня книги хранятся на территории Еврейского музея в специально созданном для этого отделе Российской государственной библиотеки. — TANR). Сейчас мы оцифровываем архивы всех учреждений, институций, которые обладают документами по нашей теме, и создаем уникальную цифровую библиотеку, которая будет доступна ученым.Современный зритель, привыкший к социальным сетям и цифровым шоу, жаждет эффектных выставок-блокбастеров. Должен ли музей в будущем идти ему навстречу и предлагать побольше «зрелищ», не обремененных серьезными смыслами?Сегодня стало модным делать проекты, так или иначе связанные с искусством. Но насмотренному зрителю всегда понятно, где искусство качественное, а где что-то, что удобно в данный момент назвать искусством. И кстати, зрелищная выставка-блокбастер — совсем не обязательно профанация.Пример — Тейт Модерн. Они специалисты по выставкам-блокбастерам. Я никогда не забуду их выставку «Малевич. Революционер русского искусства» в 2014 году. Малевич — очень непростая тема; по «Черному квадрату» написаны трактаты, но это не делает его понятным обычному зрителю. Чтобы понять смысл тех вещей, которые делал Малевич, нужно прочитать много книг, сходить на огромное количество выставок. А вот в Тейт сумели каким-то потрясающим образом все объяснить! И когда в конце концов зритель выходил в сувенирную лавку, было ясно: если в следующий раз он услышит слово «Малевич», он точно на него среагирует — моментально всплывут образы с этой выставки. Это и есть качественная популяризация искусства.\\n\\n', '\\n\\nНо есть и выставки сложные, рассчитанные, скажем, больше на профессионалов. Например, такой была выставка работ Ивана Кудряшова в Третьяковской галерее летом этого года, куда Музей искусства модернизма — Коллекция Костаки в Салониках, председателем попечительского совета которого я являюсь, дал 32 работы. Это прекрасная выставка, но она — для специалистов: Кудряшов, крупнейший художник русского авангарда, создатель собственного варианта абстрактного искусства, не самое очевидное имя для широкой аудитории (хоть и ученик Малевича), и это довольно сложный материал. Но такие выставки тоже нужны и важны, потому что, когда приходит подготовленный зритель, он получает интеллектуальную, информационную подпитку. Важно, чтобы любая выставка сопровождалась правильно сделанными экспликациями. Чтобы были интересные, профессиональные аудиогиды, причем разных уровней: для тех, кто просто хочет пройтись и понять, что есть такой художник, и для продвинутого зрителя.\\n\\n', '\\n\\nКак сделать так, чтобы люди не потеряли желание ходить на выставки и развивались? Прежде всего, нужен правильно поданный выставочный контент, а второе — это самообразование. За вас никто не прочитает книжку, не прослушает лекцию, не посмотрит фильм. На мой взгляд, должна быть популяризация самообразования, образования в принципе. Сейчас все упрощается: ты сходил на курсы — и ты уже дизайнер, или куратор, или искусствовед. Это страшно… Все упрощается, глубина процессов становится неважной, не имеющей значения. «Клиповое мышление» все больше внедряется в наше восприятие информации.Взаимодействие культуры и бизнеса — какое у него будущее? И как вы оцениваете современный этап? Сейчас ведь действительно, наверное, ни одна выставка не обходится без участия спонсоров, частных средств.Американские музеи вообще построены по такому принципу, что они полностью существуют на средства донаторов. Наши музеи — частично. Все, что связано с выставочной деятельностью, — это, безусловно, поддержка меценатов, спонсоров, патронов, попечительского совета. В основном выставки в музеях делаются на привлеченные деньги. Я с благодарностью отношусь к тем людям, которые вдохновляют помогать музеям.Зачем, для чего люди и институции, формально не имеющие отношения к искусству, поддерживают его?Сейчас поддерживать искусство, что-то делать с искусством стало модно. И я счастлива, что модно вкладывать деньги не только в личные амбиции и личные коллекции, но и в культурные программы и разные музейные инициативы, и это касается всего: и реставрации, и выставок, и резиденций для художников, и грантов для специалистов, которые работают с искусством.Цели разные. Для многих крупных организаций в\\xa0настоящее время устойчивым трендом является взаимодействие с искусством. С одной стороны, для бизнеса это правильное позиционирование в медийном поле, так как выставки посещает огромное количество людей и организации, которые их поддерживают, на виду. С другой стороны, поддержка искусства, особенно музеев — благородное дело, которое демонстрирует, что компания занимает активную социальную позицию. Коллекционеры, поддерживая музеи, думаю, руководствуются главным стимулом — любовью к искусству и желанием быть сопричастными глобальным процессам, чему-то большему, чем собственная коллекция. И честно говоря, многие большие музейные выставки никогда бы не состоялись, если бы не было частных инициатив, людей, которые сделали их возможными. Есть проекты в музеях, на реализацию которых потребовались бы десятилетия, не будь частной поддержки.Еще один важнейший инструмент в музейном деле сегодня — это попечительский совет. Очень важная структура, которая, безусловно, помогает музею развиваться и двигаться вперед, решая множество вопросов. Вообще, я давно поняла: видеть, что благодаря твоим усилиям невозможное становится возможным, — это особое удовольствие.\\n\\n', '\\n\\nВы глава попечительского совета Музея искусства модернизма — Коллекции Костаки в Салониках. За последние пять лет благодаря помощи меценатов музей буквально прыгнул в будущее.Я занимаюсь Салониками и проектом рестарта музея уже больше пяти лет. И думаю, сразу возникает вопрос: для чего поддерживать музей в Салониках? Он находится не в самом очевидном месте. Это не Лондон, не Париж, не самый значимый город для попечителей с точки зрения имиджа. Тем не менее люди, которые мне помогали и помогают развивать этот музей, осознают его уникальность. Коллекция Георгия Костаки, которой владеет музей, — это уникальный пример наследия русского авангарда, оказавшегося вне территории России.Сегодня русский авангард — международный бренд. Салоникский музей хорошо известен в профессиональной среде. Он регулярно выдает работы на лучшие мировые музейные площадки, такие как Центр Помпиду, Фонд Louis Vuitton, Чикагский институт искусств и так далее. В музей приезжают эксперты со всего мира для работы с архивными материалами. Наша же задача состоит в том, чтобы популяризировать Музей искусства модернизма — Коллекцию Костаки в Салониках среди широкой аудитории, туристов, сделать его точкой must visit для любителей искусства.К сегодняшнему дню мы создали экспертный совет, сформулировали новую концепцию, разработали стратегическую программу развития музея, новую образовательно-выставочную программу, цель которой — максимальная работа с коллекцией, сформировали попечительский совет и обозначили планы в области научно-исследовательской деятельности. Сейчас в музее проходит международная конференция по русскому авангарду, она организована в партнерстве с амстердамским Стеделейк-музеем. Также мы восстановили активное сотрудничество с ГТГ, в собрании которой находится вторая часть коллекции Костаки. Сделали несколько крупных выставок в рамках музейной коллекции, которые стали блокбастерами.Наверное, перестраиваться на новый лад, новые технологии и нового зрителя, молодому музею легче (музей в Салониках создан в 1997 году). А каково старому, традиционному музею? Можно ли заставить шагнуть в будущее и его?Что такое «молодой», «старый»? Я бы музеи делила по другому принципу.Есть музеи, обладающие коллекцией, и это их богатство. Они работают с этой коллекцией, они ее хранят, архивируют, выставляют, экспортируют. Музей в Салониках такого типа.Еврейский музей и центр толерантности — это другой музей. У него есть небольшая коллекция, она связана с иудаикой, но главный ракурс нашей работы иной. Еврейскому музею девять лет, следующий год — юбилейный. И уже девять лет назад Еврейский музей утвердил себя как музей передовых технологий. При создании основной экспозиции были применены новейшие подходы. Например, активно использовались мультимедиа и четырехмерная реальность. Постоянная экспозиция — это такая тотальная инсталляция, которая отражает гибридную модель (диджитал и офлайн).\\n\\n', '\\n\\nЯ считаю, сегодня актуальным и интересным было бы оживлять постоянную экспозицию работами международных современных художников в разных медиа, как бы устанавливать диалог с теми большими темами, которые она затрагивает. Чтобы эту постоянную экспозицию было интересно посещать тем, кто здесь уже бывал. Вариантов очень много. Мы ведем рассказ о еврейском народе и о том, что связано с евреями, живущими на постсоветском пространстве, который затрагивает разные аспекты: политические, социальные, культурные, географические. Передовые современные художники, работающие с разными медиа, нередко касаются тех же тем. Мы планируем серьезно заниматься современным искусством на базе Еврейского музея, потому что современное искусство — это правильный вектор с учетом молодости нашего музея и его амбиций, его стремления быть музеем будущего с точки зрения новейших технологий. Мне кажется, что очень естественно в этом музее заниматься разными медиа, в том числе цифровыми.Это значит, что в будущем могут появиться новые музеи, не связанные с какой-либо коллекцией, и они будут интересными и успешными?Да, и они уже есть. Это то, что уже делает «Гараж», и то, что можем делать мы. Я воспринимаю наш музей как музей будущего, способный открывать новые имена мирового современного искусства, показывать прекрасные выставки, а для широкой российской аудитории создавать уникальные проекты с международными музеями и частными фондами, вносить свой честный вклад в культурную палитру страны.\\n\\n', '\\n\\n\\n\\n\\n\\n\\n\\n\\n\\n\\n\\n\\n\\n\\n\\n\\n\\n\\nПодписаться на новости\\n\\n', '\\n\\nКристина Краснянская\\nЭритаж\\nЕврейский музей и центр толерантности\\n\\n', '\\n\\nМатериалы по теме:\\nРетроспектива супрематиста и космиста Ивана Кудряшова проходит в Третьяковке\\nИвана Клюна впервые покажут за пределами России\\nАвангард романтический и аналитический: выставка Ивана Клюна открыта в Салониках\\nКристина Краснянская назначена исполнительным директором Еврейского музея и центра толерантности\\n\\n']\n"
          ]
        }
      ]
    },
    {
      "cell_type": "code",
      "source": [
        ""
      ],
      "metadata": {
        "id": "DlPCKfmZFjY0"
      },
      "execution_count": null,
      "outputs": []
    }
  ]
}