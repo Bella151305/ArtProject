{
  "nbformat": 4,
  "nbformat_minor": 0,
  "metadata": {
    "colab": {
      "name": "Texts.ipynb",
      "provenance": [],
      "collapsed_sections": [
        "x7U-o_zZnpyW",
        "1XKdCJB1rKZZ"
      ],
      "toc_visible": true,
      "mount_file_id": "1Mtnm8brYqujTXY4clz1zZLU3wGMAj7ZN",
      "authorship_tag": "ABX9TyPhL3jEQlvyoXEuiByTRHGw"
    },
    "kernelspec": {
      "name": "python3",
      "display_name": "Python 3"
    },
    "language_info": {
      "name": "python"
    }
  },
  "cells": [
    {
      "cell_type": "markdown",
      "source": [
        "# Library"
      ],
      "metadata": {
        "id": "sdoQnofjCr8Y"
      }
    },
    {
      "cell_type": "code",
      "execution_count": 1,
      "metadata": {
        "id": "rTZ3v9rdTwkG"
      },
      "outputs": [],
      "source": [
        "import time\n",
        "import datetime\n",
        "from datetime import datetime, timedelta\n",
        "\n",
        "import re\n",
        "import gc\n",
        "\n",
        "import json\n",
        "\n",
        "import warnings\n",
        "warnings.simplefilter(action='ignore')\n",
        "\n",
        "import pandas as pd\n",
        "import numpy as np\n",
        "import sys\n",
        "\n",
        "%matplotlib inline\n",
        "import matplotlib.pyplot as plt\n",
        "\n",
        "rus_mon_dict = {'янв': '01', 'фев': '02', 'мар': '03',\n",
        "                'апр': '04', 'мая': '05', 'июн': '06',\n",
        "                'июл': '07', 'авг': '08', 'сен': '09',\n",
        "                'окт': '10', 'ноя': '11', 'дек': '12'}"
      ]
    },
    {
      "cell_type": "markdown",
      "source": [
        "## Folders & Files"
      ],
      "metadata": {
        "id": "rlFIffaTPOGu"
      }
    },
    {
      "cell_type": "code",
      "source": [
        "# pathes\n",
        "art_project_path = '/content/drive/MyDrive/Art/Art_Project'\n",
        "art_project_path_backups = '/content/drive/MyDrive/Art/Art_Project/parsing_backups'\n",
        "art_project_path_tests = '/content/drive/MyDrive/Art/Art_Project/parsing_tests'\n",
        "\n",
        "# files\n",
        "page_s = '/page_parsing_status.csv'\n",
        "\n",
        "artinvest_s = '/artinvest_pages_counter_stat.csv'\n",
        "artinvest_d = '/artinvest_news_articles_data.csv'\n",
        "artinvest_lt = '/artinvest_long_text.csv'\n",
        "artinvest_w = '/artinvest_with_long_text.csv'\n",
        "\n",
        "theartnewspaper_d = '/theartnewspaper_data_new.csv'\n",
        "theartnewspaper_lt = '/theartnewspaper_long_text.csv'\n",
        "theartnewspaper_w = '/theartnewspaper_with_long_text.csv'\n",
        "\n",
        "artchive_s = '/artchive_pages_counter_stat.csv'\n",
        "artchive_d = '/artchive_news_articles_data.csv'\n",
        "artchive_lt = '/artchive_long_text.csv'\n",
        "artchive_w = '/artchive_with_long_text.csv'\n",
        "\n",
        "artuzel_s = '/artusel_pages_counter_stat.csv'\n",
        "artuzel_d = '/artuzel_news_articles_data.csv'\n",
        "artuzel_lt = '/artuzel_long_text.csv'\n",
        "artuzel_w = '/artuzel_with_long_text.csv'"
      ],
      "metadata": {
        "id": "Ftk2MIOTPNKv"
      },
      "execution_count": 2,
      "outputs": []
    },
    {
      "cell_type": "markdown",
      "source": [
        "## Sites' list for parsing"
      ],
      "metadata": {
        "id": "95MQouizMsq8"
      }
    },
    {
      "cell_type": "code",
      "source": [
        "urls_news = ['https://www.theartnewspaper.ru/', 'https://artinvestment.ru/', 'http://artuzel.com/', 'https://artchive.ru/'] # 'https://artguide.com/', 'http://artuzel.com/', \n",
        "# https://artguide.com/ - <div class=\"chromeframe\">\n",
        "#    Ваш браузер <em>устарел!</em> <a href=\"http://browsehappy.com/\">Установите другой браузер</a> или\n",
        "#    <a href=\"http://www.google.com/chromeframe/?redirect=true\">Google Chrome Frame</a>, чтобы просматривать этот сайт.\n",
        "urls_datasets = ['https://artchive.ru/', 'https://artinvestment.ru/', 'http://artuzel.com/']\n",
        "urls_archives = ['https://artchive.ru/', 'https://russianartarchive.net/ru'] # есть API - https://api.raan.garagemca.org/documentation/#/\n",
        "urls_fairs = ['https://www.cosmoscow.com/ru/']"
      ],
      "metadata": {
        "id": "4HJVOzZl7vuj"
      },
      "execution_count": 3,
      "outputs": []
    },
    {
      "cell_type": "code",
      "source": [
        "# topping up dict (manually yet)\n",
        "#                             site,       s_file,        d_file,        lt_file\n",
        "df_dict = {'https://www.theartnewspaper.ru/': ['-', theartnewspaper_d, theartnewspaper_lt], \n",
        "           'https://artinvestment.ru/': [artinvest_s, artinvest_d, artinvest_lt],\n",
        "           'https://artchive.ru/': [artchive_s, artchive_d, artchive_lt],\n",
        "           'https://artuzel.com/': [artuzel_s, artuzel_d, artuzel_lt]\n",
        "           }"
      ],
      "metadata": {
        "id": "j5VtxoBePgcP"
      },
      "execution_count": 4,
      "outputs": []
    },
    {
      "cell_type": "markdown",
      "source": [
        "# Unused code"
      ],
      "metadata": {
        "id": "x7U-o_zZnpyW"
      }
    },
    {
      "cell_type": "code",
      "source": [
        "# drop part of df\n",
        "#artinvest_news_articles_data = artinvest_news_articles_data.drop(artinvest_news_articles_data[artinvest_news_articles_data['page_url']=='20220209_Hirst.html'].index)"
      ],
      "metadata": {
        "id": "ArnJtU3EXaoj"
      },
      "execution_count": null,
      "outputs": []
    },
    {
      "cell_type": "code",
      "source": [
        "# delete all data from df\n",
        "#artinvest_news_articles_data = artinvest_news_articles_data[0:0]\n",
        "#theartnewspaper_data = theartnewspaper_data[0:0]"
      ],
      "metadata": {
        "id": "dMAS2hzMrSie"
      },
      "execution_count": null,
      "outputs": []
    },
    {
      "cell_type": "code",
      "source": [
        "#warnings.simplefilter(action='ignore', category=FutureWarning)\n",
        "#warnings.simplefilter(action='ignore', category=SettingWithCopyWarning)"
      ],
      "metadata": {
        "id": "oFCMPP7zrUdK"
      },
      "execution_count": null,
      "outputs": []
    },
    {
      "cell_type": "markdown",
      "source": [
        "# Functions"
      ],
      "metadata": {
        "id": "HOmGyFTFNKek"
      }
    },
    {
      "cell_type": "markdown",
      "source": [
        "## Openings and savings\n",
        "1. __open_parsing_dict()__ -> parsing_dict - Open dict with sites for parsing\n",
        "2. __open_file_csv(file, folder)__ -> df - Open file.csv\n",
        "3. __save_df_file(df, file, folder)__ -> - Save df to csv file\n",
        "4. __open_long_text_url_list_temp()__ -> parsing_list - Open json artinvest_long_text_url_list_temp\n",
        "5. __save_long_text_url_list_temp(parsing_list)__ -> - Save json artinvest_long_text_url_list_temp\n",
        "6. __date_transfomation(cell)__ -> cell - Date transfomation"
      ],
      "metadata": {
        "id": "1Py5yix5qYh_"
      }
    },
    {
      "cell_type": "code",
      "source": [
        "# 1. Open dict with sites for parsing\n",
        "def open_parsing_dict():\n",
        "  with open(art_project_path + '/sites_for_parsing.txt', 'rb') as infile:\n",
        "    parsing_dict = json.load(infile)\n",
        "  return parsing_dict\n",
        "\n",
        "# 2. Open file.csv\n",
        "def open_file_csv(file, folder): # folder: live, backup or test\n",
        "  if folder=='live':\n",
        "    df = pd.read_csv(art_project_path + file)\n",
        "  elif folder=='backup':\n",
        "    df = pd.read_csv(art_project_path_backups + file)\n",
        "  elif folder=='test':\n",
        "    df = pd.read_csv(art_project_path_tests + file)\n",
        "  return df\n",
        "\n",
        "# 3. Save df to csv file\n",
        "def save_df_file(df, file, folder): # folder: live, backup or test\n",
        "  if folder=='live':\n",
        "    df.to_csv(art_project_path + file, index=False)\n",
        "  elif folder=='backup':\n",
        "    df.to_csv(art_project_path_backups + file, index=False)\n",
        "  elif folder=='test':\n",
        "    df.to_csv(art_project_path_tests + file, index=False)\n",
        "\n",
        "# 4. Open json long_text_url_list_temp\n",
        "def open_long_text_url_list_temp():\n",
        "  with open(art_project_path + '/long_text_url_list_temp.txt', 'rb') as infile:\n",
        "    parsing_list = json.load(infile)\n",
        "  return parsing_list\n",
        "\n",
        "# 5. Save json long_text_url_list_temp\n",
        "def save_long_text_url_list_temp(parsing_list):\n",
        "  with open(art_project_path + '/long_text_url_list_temp.txt', 'w') as outfile:\n",
        "    json.dump(parsing_list, outfile)"
      ],
      "metadata": {
        "id": "g2vgnc4LOU-X"
      },
      "execution_count": 5,
      "outputs": []
    },
    {
      "cell_type": "code",
      "source": [
        "# 6. Date transfomation\n",
        "def date_transfomation(cell):\n",
        "  try:\n",
        "    cell = pd.to_datetime(datetime.strptime(cell, '%d.%m.%Y').strftime('%Y-%m-%d')).date()\n",
        "  except ValueError:\n",
        "    cell = pd.to_datetime(cell).date()\n",
        "  return cell"
      ],
      "metadata": {
        "id": "XqDXD5wJTFSy"
      },
      "execution_count": 6,
      "outputs": []
    },
    {
      "cell_type": "markdown",
      "source": [
        "## Text transformations\n",
        "7. **get_cat(df)** -> df - Getting category: news or articles"
      ],
      "metadata": {
        "id": "RVkdo9hMx3qv"
      }
    },
    {
      "cell_type": "code",
      "source": [
        "# 7. Getting category: news or articles\n",
        "def get_cat(df):\n",
        "  sites = open_parsing_dict() # 1. Open dict with sites for parsing\n",
        "  news_cat_list = []\n",
        "  for k1, v1 in sites.items():\n",
        "    for k2, v2 in v1.items():\n",
        "      if k2=='news':\n",
        "        for k3, v3 in v2.items():\n",
        "          if k3=='links':\n",
        "            for link in v3:\n",
        "              news_cat_list.append(link)\n",
        "\n",
        "  df['news_article_cat'] = df['page_url'].dropna().apply(lambda x: 'news' if x in news_cat_list else 'articles')\n",
        "  return df"
      ],
      "metadata": {
        "id": "DF1HpXfCyEhb"
      },
      "execution_count": 7,
      "outputs": []
    },
    {
      "cell_type": "markdown",
      "source": [
        "### Text cleaning step 1"
      ],
      "metadata": {
        "id": "D0X2g9j4i0FG"
      }
    },
    {
      "cell_type": "code",
      "source": [
        "# 8. Text cleaning step 1 - remove invisible blanks, put blanks where it's needed\n",
        "\n",
        "# move = dict.fromkeys((ord(c) for c in r'\\xa0\\n\\t\\u200d')) # don't replace on ' '\n",
        "\n",
        "def replace_func(text): # goes before split !!!\n",
        "  text = re.sub(r'\\\\n|\\\\r|\\\\tc|\\\\t|\\\\xa0|\\\\xad|\\n|\\r|\\tc|\\t|\\xa0|\\xad', ' ', text).replace(r'\\+', '').strip()\n",
        "  text = text.replace(u'\\\\u200b', '').replace(u'\\\\u200e', '').replace(u'\\u200b', '').replace(u'\\u200e', '').replace(u'\\\\u2009', '').replace(u'\\u2009', '').replace(u'\\\\u2028', '').replace(u'\\u2028', '').strip() # ' ' - ?? - no\n",
        "  #text = re.sub(r'(\\s+)(\\.)', r'\\2', text) # Винсент ушел . - check - use strip() then !!!\n",
        "  text = re.sub(r'(\\.)([A-ZА-Я])([A-ZА-Яa-zа-я\\s])', '. '+r'\\2\\3', text) # -> # ГМИИ им. А. С. Пушкина # S. M. A. K. - check +\n",
        "  text = re.sub(r'(\\.)([0-9]{1,2})(\\s)', '. '+r'\\2\\3', text) # Синезубова.3 февраля # (Нью-Дели).27 мая - check +\n",
        "  #text = re.sub(r'([^\\.«-(\\'\\\"])([A-ZА-Я])', r'\\1'+' '+r'\\2', text) # 1954Впервые # МоскваРаботы # (Арсенал)Выставка -> ГМ ИИ им. А.С. Пушкина # XV II I\n",
        "  text = re.sub(r'([a-zа-я0-9)])([A-ZА-Я])', r'\\1'+' '+r'\\2', text) # 1954Впервые # МоскваРаботы # (Арсенал)Выставка -> Mac Dougall’s # «Му ХА» # Mo MA - check !\n",
        "  text = re.sub(r'([^(\\'\\\"])([«])', r'\\1'+' '+r'\\2', text) # правительство.«Портрет Валли» - check +\n",
        "  text = re.sub(r'([»])([^\\.,?!:;)\\'\\\"])', r'\\1'+' '+r'\\2', text) # Баженовой»11 - check +\n",
        "  text = re.sub(r'([A-ZА-Яa-zа-я0-9])(w{3}\\.)', r'\\1'+' '+r'\\2', text) # 2 июняwww.palazzorealemilano.it. - check\n",
        "  text = re.sub(r'\\\\\\\\\\\\', '', text) # (\\\\\\ ) - check + #(\\\\)(\\\\)(\\\\)\n",
        "  text = re.sub(r'\\\",\\s\\'', ' ', text) # (\", ') - check + #(\\\")(,\\s)(\\')\n",
        "  text = re.sub(r'\\',\\s\\\"', ' ', text) # (', \") - check + #(\\')(,\\s)(\\\")\n",
        "  #text = re.sub(r'\\\",\\s\\\"', ' ', text) # (', \") - artchive - ??\n",
        "  text = re.sub(r'([0-9]+)(\\s+)([0-9]+)', r'\\1\\3', text) # .RU 14 апреля 2021. vs .RU 2 3 июня 2014. # 19 30–1970-е # 3 31-е vs 30 000 руб - check - 14600 000 рублей ??\n",
        "  # doesn't work from the first time\n",
        "  text = re.sub(r'<!--.*-->\\.', '', text) #(<!--)(.*)(-->\\.)# <!-- .style7 {font-size: 7pt } .ne w {cursor: pointer; cursor: hand } -->. - check ??\n",
        "  return text\n",
        "\n",
        "# 19.30-21. 00 vs 19.30-21.00.\n",
        "# ( Aya Maria Urhammer , Mariella Ottosson)\n",
        "\n",
        "def split_func(text): # в коллекциях. Олега. Кулика. \n",
        "  end_list = ['.', '?', '!', ',', ':', ';']\n",
        "  if len(text[2:-2].split(\"', '\")) > 0:\n",
        "    texts_list = text[2:-2].split(\"', '\")\n",
        "    texts_list_new = [sent.strip() + '.' if len(sent.strip())>0 and sent.strip()[-1] not in end_list else sent.strip() for sent in texts_list]\n",
        "    #text = ' '.join(texts_list_new)\n",
        "  else:\n",
        "    texts_list = text[2:-2].split('\", \"')\n",
        "    texts_list_new = [sent.strip() + '.' if len(sent.strip())>0 and sent.strip()[-1] not in end_list else sent.strip() for sent in texts_list]\n",
        "    #text = ' '.join(texts_list_new)\n",
        "\n",
        "  #try:\n",
        "  #  texts_list = text.split('\", \"')\n",
        "  #  texts_list_new = [sent.strip() + '.' if len(sent.strip())>0 and sent.strip()[-1] not in end_list else sent.strip() for sent in texts_list]\n",
        "    #text = ' '.join(texts_list_new)\n",
        "  #except: pass\n",
        "  \n",
        "  #return text\n",
        "  return texts_list_new # !!!!!!!!!!!!\n",
        "\n",
        "\n",
        "def clean_text_1(df):\n",
        "  for col in ['long_text', 'structure']:\n",
        "    df[col] = df[col].dropna().apply(lambda x: ' '.join(replace_func(x).split()))\n",
        "    #df[col] = df[col].dropna().apply(lambda x: ' '.join(split_func(x).split())) # !!! -> split_func()\n",
        "    df[col] = df[col].dropna().apply(lambda x: split_func(x)) # !!! -> split_func()\n",
        "  for col in ['short_text', 'title']:\n",
        "    df[col] = df[col].dropna().apply(lambda x: ' '.join(replace_func(x).split()))\n",
        "\n",
        "  return df"
      ],
      "metadata": {
        "id": "4pls5af66wkV"
      },
      "execution_count": 41,
      "outputs": []
    },
    {
      "cell_type": "markdown",
      "source": [
        "### Text cleaning step 2"
      ],
      "metadata": {
        "id": "MUYGQwpxi4np"
      }
    },
    {
      "cell_type": "code",
      "source": [
        "# 9. Text cleaning step 2 - extra patterns removing\n",
        "\n",
        "#theartnewspaper_w_text - long_text\n",
        "  #Подписаться на новости. #Материалы по теме: ... # !!! tags in between !!!\n",
        "  #... Свежий номер The Art Newspaper Russia можно купить здесь.\n",
        "  #№98 Материал из газеты ...\n",
        "  #The Art Newspaper Russia 03.09.2015. #Ада Мазоэро 03.09.2015. #Хилари М. Шитс 19.01.2022. #Клео Робертс -Комиредди 28.01.2022.\n",
        "\n",
        "def pattern_func_tanp(text_list):\n",
        "  text_list_new = []\n",
        "\n",
        "  for ind, text in enumerate(text_list):\n",
        "    text = text.strip()\n",
        "    text = re.sub('Подписаться на новости.', '', text) # - check +\n",
        "    text = re.sub('Материалы по теме: ', '', text) # - check +\n",
        "    text = re.sub('Свежий номер The Art Newspaper Russia можно купить здесь.', '', text) # - check + in all 3 samples the same pattern\n",
        "    text = re.sub(r'№[0-9]+\\sМатериал\\sиз\\sгазеты\\s', '', text) # - check + !!!!!!\n",
        "    text = re.sub(r'<!--.*-->\\.', '', text) # !!!!!!!! <!-- .style7 {font-size: 7pt } .ne w {cursor: pointer; cursor: hand } -->. - check ??\n",
        "    if ind == 1:\n",
        "      text = re.sub(r'(?:\\s*)(?:The\\sArt\\sNewspaper\\sRussia\\s\\d{2}\\.\\d{2}\\.\\d{4}\\.)$', '.', text, flags=re.MULTILINE)\n",
        "      text = re.sub(r'(?:\\s*)(?:[А-ЯA-Z][а-яa-z]+\\s)(?:[А-ЯA-Z]\\.\\s|[А-ЯA-Z][а-яa-z]+\\s*-*\\s*){0,1}(?:[А-ЯA-Z][а-яa-z]+\\s\\d{2}\\.\\d{2}\\.\\d{4}\\.)$', '.', text, flags=re.MULTILINE)\n",
        "    \n",
        "    text = text.strip()\n",
        "    if len(text) > 0:\n",
        "      text_list_new.append(text)\n",
        "  \n",
        "  return text_list_new\n",
        "\n",
        "\n",
        "# artuzel_news_articles_w_text\n",
        "  #dubbles in strings but can be signs of images\n",
        "  #blank strings\n",
        "\n",
        "  #Над интервью работала … #Интервью подготовили … \n",
        "  #Интервью: … #Видеоверсия интервью:\n",
        "  #Фотограф: … #Фото: … фото: … #Текст: … текст: … #Текст и фото: … #Источники: #Авторы: … Автор: … #Перевод: \n",
        "  #Материал подготовила … #Фото предоставлены …\n",
        "\n",
        "def pattern_func_artuz(text_list):\n",
        "  text_list_new = []\n",
        "\n",
        "  for ind, text in enumerate(text_list):\n",
        "    text = text.strip()\n",
        "    if ind > 0:\n",
        "      if text == text_list[ind-1]: #dubbles in strings but can be signs of images\n",
        "        text = ''\n",
        "\n",
        "    text = re.sub(r'^(?:Над\\s){0,1}(?:[Ии]нтервью\\s)(?:работал|подготовил)(?:.+)', '', text, flags=re.MULTILINE) # +\n",
        "    text = re.sub(r'^(?:Видеоверсия\\s){0,1}(?:[Ии]нтервью:)(?:.+)', '', text, flags=re.MULTILINE) # +\n",
        "    text = re.sub(r'^(?:[Фф]ото|[Тт]екст|[Ии]сточник|[Аа]втор|[Пп]еревод)(?:граф|\\sи\\sфото|и|ы|ка){0,1}(?::.+)', '', text, flags=re.MULTILINE) # +\n",
        "    text = re.sub(r'^(?:Материал|Фото)(?:\\s)(?:подготов|предостав)(?:.+)', '', text, flags=re.MULTILINE) # +\n",
        "    \n",
        "    if len(text) > 0: #blank strings\n",
        "      text_list_new.append(text)\n",
        "\n",
        "  return text_list_new\n",
        "\n",
        "  #Место проведения: -> no info #Даты: -> no info #Художники: -> no info #Организаторы: -> no info #names: -> no info\n",
        "  #initials (with blank space or without) -> no info\n",
        "\n",
        "def pattern_func_artuz_struct(text_list):\n",
        "  text_list_new = []\n",
        "  #text = pattern[0] if match else text\n",
        "\n",
        "  for text in text_list:\n",
        "    text = text.strip()\n",
        "    try:\n",
        "      if len(text) < 25 and re.search(r':$', text, flags=re.MULTILINE)[0]==':':\n",
        "        text = ''\n",
        "    except: pass\n",
        "\n",
        "    text = re.sub(r'^(?:[A-ZА-Я]\\.)(?:\\s){0,1}(?:[A-ZА-Я]){0,1}(?:\\.){0,1}(?:[:]){0,1}$', '', text, flags=re.MULTILINE) # - check +\n",
        "    \n",
        "    text = text.strip()\n",
        "    if len(text) > 0:\n",
        "      text_list_new.append(text)\n",
        "\n",
        "  return text_list_new\n",
        "\n",
        "\n",
        "#artchive_news_articles_w_text\n",
        "  #Артхив: читайте нас в Телеграме и смотрите в Инстаграме (with . or not) …\n",
        "  #Телеграме. #Инстаграме. #Facebook. #Instagram. #Здесь. здесь.\n",
        "  # 1. # 10. - !!!!! - if text.isdigit()==True\n",
        "  #Читать дальше global.move_popup_to_body(\\'#id_popup_dotted_more_phg Gd BOfh RSJ\\');\n",
        "\n",
        "def pattern_func_artch(text_list):\n",
        "  patterns_list = ['Телеграме.', 'Инстаграме.', 'Facebook.', 'Instagram.', 'Здесь.']\n",
        "  text_list_new = []\n",
        "\n",
        "  for text in text_list:\n",
        "    text = text.strip()\n",
        "    text = re.sub(r'(?:Артхив: читайте нас в Телеграме и смотрите в Инстаграме)(?:\\.*)', '', text)\n",
        "    text = re.sub(r'Читать дальше global.move_popup_to_body(.*);\\s*', '', text)\n",
        "    \n",
        "    for pattern in patterns_list:\n",
        "      if len(text)==len(pattern):\n",
        "        text = re.sub(pattern, '', text, flags=re.IGNORECASE)\n",
        "    \n",
        "    text = text.strip()\n",
        "    if len(text) > 0:\n",
        "      text_list_new.append(text)\n",
        "\n",
        "  return text_list_new\n",
        "\n",
        "\n",
        "#repeated sentences inside the string in 'Аналитика'\n",
        "\n",
        "def dubbles_artch(text_list): # works but not always !!!! leave till nlp !!!\n",
        "  punct_list = ['.', '?', '!']\n",
        "  text_list_new = []\n",
        "\n",
        "  for text in text_list:\n",
        "    text = text.strip()\n",
        "    text_new = []\n",
        "\n",
        "    while len(text.split('. ')) > 1: # except the first line - shouldn't be a pattern\n",
        "      text_split = text.split('. ')\n",
        "      #if len(text_split[-1])>0 and\n",
        "      pattern = text_split[-1][:-1] if text_split[-1][-1] in punct_list else text_split[-1] # the last line\n",
        "      \n",
        "      if text_split[-1] not in text_new: # can't use set\n",
        "        text_new.append(text_split[-1]) # last lines list, then reverse it\n",
        "\n",
        "      # except the last line which is the pattern\n",
        "      #text_split_new = [re.sub(re.escape(pattern), '', t).strip() for t in text_split[:-1] if len(re.sub(re.escape(pattern), '', t).strip())>0]\n",
        "      text_split_new = [t.replace(pattern, '').strip() for t in text_split[:-1] if len(t.replace(pattern, '').strip())>0]\n",
        "      text = '. '.join(text_split_new)\n",
        "\n",
        "    text_new.append(text) # add the first line\n",
        "    text_new.reverse()\n",
        "\n",
        "    if len(text_list_new)==0: # list with lists !\n",
        "      text_list_new.append(text_new)\n",
        "      text_list_set = list(set(text_new))\n",
        "    else:\n",
        "      text_list_new.append([t for t in text_new if t in list(set(text_new) - set(text_list_set))])\n",
        "      text_list_set = list(set(text_list_set + text_new))\n",
        "\n",
        "  #text_list_new_new = [t for t in text for text in text_list_new]\n",
        "  text_list_new_new = []\n",
        "  for text in text_list_new:\n",
        "    for t in text:\n",
        "      text_list_new_new.append(t)\n",
        "\n",
        "  return text_list_new_new\n",
        "\n",
        "\n",
        "#artinvest_news_articles_w_text\n",
        "  #<!-- .style7 {font-size: 7pt} .new {cursor: pointer; cursor: hand} -->.\n",
        "  #td.style7 {font-size: 8pt; background:#ffffff;}.\n",
        "  #… ARTinvestment.RU 14 сентября 2021.\n",
        "  #Материал подготовила … Беседу вела … Вопросы задавала … Смотрите фоторепортаж с открытия выставки ...\n",
        "  #Данный материал в оригинале вы можете посмотреть здесь.\n",
        "  #Источники. … Источники: … Источник. … Источник: …\n",
        "  #Редакция ARTinvestment.RU.\n",
        "  #Денис Белькевич, AI. #Алексей Смирнов, специально для AI. #Перевод и адаптация — Денис Белькевич, AI.\n",
        "\n",
        "def pattern_func_artinvest(text_list):\n",
        "  text_list_new = []\n",
        "\n",
        "  for ind, text in enumerate(text_list):\n",
        "    text = text.strip()\n",
        "    if ind == 0:\n",
        "      text = re.sub(r'(?:\\sARTinvestment\\.RU\\s\\d{1,2}\\s[а-я]+\\s\\d{4})(?:[\\s\\.]*)', '. ', text) # - check +\n",
        "    \n",
        "    text = re.sub(r'<!--.*-->\\.', '', text) # - check +\n",
        "    text = re.sub(r'td\\.style.*{.*}\\.', '', text) # - check +\n",
        "    text = re.sub(r'(?:Редакция ARTinvestment\\.RU|Данный материал в оригинале вы можете посмотреть здесь)(?:\\.*)', '', text) # - check +\n",
        "    \n",
        "    text = re.sub(r'^(?:Материал подготовил|Беседу вел|Интервью провел|Вопросы задавал|Беседовал|Смотрите фоторепортаж с открытия выставки)(?:.*)', '', text, flags=re.MULTILINE) # - check +\n",
        "    text = re.sub(r'^(?:Источник)(?:и){0,1}(?:[:\\.])(?:.*)', '', text, flags=re.MULTILINE) # - check +\n",
        "\n",
        "    text = re.sub(r'(?:Перевод\\sи\\sадаптация\\s—\\s){0,1}(?:[А-ЯA-Z][а-яa-z]+)(?:\\s[А-ЯA-Z][а-яa-z]+)(?:,\\s)(?:специально\\sдля\\s){0,1}(?:AI)(?:\\.*)', '', text) # - check +?\n",
        "    text = re.sub(r'^(?:AI\\.)$', '', text, flags=re.MULTILINE) # - check +\n",
        "\n",
        "    text = text.strip()\n",
        "    if len(text) > 0:\n",
        "      text_list_new.append(text)\n",
        "  \n",
        "  return text_list_new\n",
        "\n",
        "\n",
        "  #Д.К. #А.Д.: #Г. Ч.: #Э.:\n",
        "  #1. #2. #... #10. #... #Часть 1. #Подробнее о лоте 8.\n",
        "  #2,194. #↗.\n",
        "  #здесь. #[email protected]. #ARTinvestment.RU.\n",
        "  #artinvestment.ru.\n",
        "\n",
        "def pattern_func_artinvest_struct(text_list):\n",
        "  text_list_new = []\n",
        "  \n",
        "  for ind, text in enumerate(text_list):\n",
        "    text = text.strip()\n",
        "    if ind > 0:\n",
        "      if text == text_list[ind-1]: #dubbles in strings but can be signs of images\n",
        "        text = ''\n",
        "\n",
        "    if text.isdigit()==True:\n",
        "      text = ''\n",
        "\n",
        "    text = re.sub(r'^(?:[A-ZА-Я]\\.)(?:\\s){0,1}(?:[A-ZА-Я]){0,1}(?:\\.){0,1}(?:[:]){0,1}$', '', text, flags=re.MULTILINE) # - check +\n",
        "    text = re.sub(r'^(?:Часть\\s|Подробнее\\sо\\sлоте\\s){0,1}(?:\\d+\\.)$', '', text, flags=re.MULTILINE) # - check +\n",
        "    text = re.sub(r'^(?:\\d+)(?:[,\\s]\\d+){1,}(?:\\.)$', '', text, flags=re.MULTILINE) # - check +\n",
        "    text = re.sub(r'^(?:[↗↘]*\\.)$', '', text, flags=re.MULTILINE) # - check +\n",
        "    text = re.sub(r'^(?:\\[email protected\\])(?:.*)$', '', text, flags=re.MULTILINE) # - check +\n",
        "    text = re.sub(r'^(?:ARTinvestment\\.RU|здесь|Комментарий редактора|Правила приема работ на аукцион AI можно посмотреть здесь)(?:\\.*)$', '', text, flags=re.MULTILINE) # - check \n",
        "    text = re.sub(r'^(?:artinvestment\\.ru)(?:.*)$', '', text, flags=re.MULTILINE)\n",
        "    \n",
        "    text = text.strip()\n",
        "    if len(text) > 0:\n",
        "      text_list_new.append(text)\n",
        "\n",
        "  return text_list_new\n",
        "\n",
        "\n",
        "def clean_text_2(df, name):\n",
        "  if name=='tanp':\n",
        "    df['long_text'] = df['long_text'].dropna().apply(lambda x: pattern_func_tanp(x))\n",
        "  elif name=='artuz':\n",
        "    df['long_text'] = df['long_text'].dropna().apply(lambda x: pattern_func_artuz(x))\n",
        "    df['structure'] = df['structure'].dropna().apply(lambda x: pattern_func_artuz_struct(pattern_func_artuz(x)))\n",
        "  elif name=='artch':\n",
        "    df['long_text'] = df['long_text'].dropna().apply(lambda x: pattern_func_artch(x))\n",
        "    df['structure'] = df['structure'].dropna().apply(lambda x: dubbles_artch(pattern_func_artch(x)))\n",
        "  elif name=='artinvest':\n",
        "    df['long_text'] = df['long_text'].dropna().apply(lambda x: pattern_func_artinvest(x))\n",
        "    df['structure'] = df['structure'].dropna().apply(lambda x: pattern_func_artinvest_struct(pattern_func_artinvest(x)))\n",
        "  \n",
        "  return df"
      ],
      "metadata": {
        "id": "Hegwv4zw21-C"
      },
      "execution_count": 52,
      "outputs": []
    },
    {
      "cell_type": "markdown",
      "source": [
        "# Preprocessing"
      ],
      "metadata": {
        "id": "0UytDgzO2AkG"
      }
    },
    {
      "cell_type": "markdown",
      "source": [
        "## first time"
      ],
      "metadata": {
        "id": "ad-748DMOWbX"
      }
    },
    {
      "cell_type": "code",
      "source": [
        "# Opening first time - !!!!!!!!!!!!!!\n",
        "start_t = time.time()\n",
        "\n",
        "artinvest_news_articles_data = open_file_csv(artinvest_d, 'live') # 2. Open file.csv\n",
        "artinvest_long_text_df = open_file_csv(artinvest_lt, 'live') # 2. Open file.csv\n",
        "\n",
        "theartnewspaper_data = open_file_csv(theartnewspaper_d, 'live') # 2. Open file.csv\n",
        "theartnewspaper_long_text_df = open_file_csv(theartnewspaper_lt, 'live') # 2. Open file.csv\n",
        "\n",
        "artchive_news_articles_data = open_file_csv(artchive_d, 'live') # 2. Open file.csv\n",
        "artchive_long_text_df = open_file_csv(artchive_lt, 'live') # 2. Open file.csv\n",
        "\n",
        "artuzel_news_articles_data = open_file_csv(artuzel_d, 'live') # 2. Open file.csv\n",
        "artuzel_long_text_df = open_file_csv(artuzel_lt, 'live') # 2. Open file.csv\n",
        "\n",
        "# Data and long text df-s combining\n",
        "artinvest_news_articles_w_text = artinvest_news_articles_data.merge(artinvest_long_text_df, on='long_text_url', how='left')\n",
        "theartnewspaper_w_text = theartnewspaper_data.merge(theartnewspaper_long_text_df, on='long_text_url', how='left')\n",
        "artchive_news_articles_w_text = artchive_news_articles_data.merge(artchive_long_text_df, on='long_text_url', how='left')\n",
        "artuzel_news_articles_w_text = artuzel_news_articles_data.merge(artuzel_long_text_df, on='long_text_url', how='left')\n",
        "\n",
        "artuzel_news_articles_w_text['date'] = artuzel_news_articles_w_text['structure'].dropna().apply(lambda x: x[2:12])\n",
        "artuzel_news_articles_w_text['structure'] = artuzel_news_articles_w_text['structure'].dropna().apply(lambda x: x.replace(x[1:15], ''))\n",
        "\n",
        "# Dates transformation and sorting\n",
        "df_list = [artinvest_news_articles_w_text,\n",
        "           theartnewspaper_w_text,\n",
        "           artchive_news_articles_w_text,\n",
        "           artuzel_news_articles_w_text]\n",
        "\n",
        "for df in df_list:\n",
        "  # transformation\n",
        "  try:\n",
        "    df['parsing_date'] = df['parsing_date'].dropna().apply(lambda x: date_transfomation(x)) # 6. Date transfomation\n",
        "  except: continue\n",
        "  # sorting\n",
        "  try:\n",
        "    df['date'] = df['date'].dropna().apply(lambda x: date_transfomation(x)) # 6. Date transfomation\n",
        "    #df.sort_values(by=['date'], inplace=True, ascending=False)\n",
        "  except: continue\n",
        "\n",
        "# topping up dict (manually yet)\n",
        "combo_df_dict = {artinvest_lt: artinvest_news_articles_w_text,\n",
        "                 theartnewspaper_lt: theartnewspaper_w_text,\n",
        "                 artchive_lt: artchive_news_articles_w_text,\n",
        "                 artuzel_lt: artuzel_news_articles_w_text\n",
        "                 }\n",
        "\n",
        "for name, df in combo_df_dict.items():\n",
        "  df['parsing_sec_speed_2'] = df['parsing_sec_speed_2'].dropna().apply(lambda x: float(x[1:-1]))\n",
        "  \n",
        "print('{} seconds have passed'.format(time.time() - start_t))"
      ],
      "metadata": {
        "id": "onof1uzkmJXg",
        "colab": {
          "base_uri": "https://localhost:8080/"
        },
        "outputId": "aad44275-f98d-4133-e92d-6ec77752221d"
      },
      "execution_count": 22,
      "outputs": [
        {
          "output_type": "stream",
          "name": "stdout",
          "text": [
            "18.511432647705078 seconds have passed\n"
          ]
        }
      ]
    },
    {
      "cell_type": "code",
      "source": [
        "start_t = time.time()\n",
        "for df in combo_df_dict.values():\n",
        "  df = get_cat(df) # 7. Getting category: news or articles\n",
        "  print('{} seconds have passed'.format(time.time() - start_t))\n",
        "  df = clean_text_1(df) # 8. Text cleaning step 1 - remove invisible blanks, put blanks where it's needed\n",
        "print('{} seconds have passed'.format(time.time() - start_t))"
      ],
      "metadata": {
        "colab": {
          "base_uri": "https://localhost:8080/"
        },
        "id": "4k8GtYmRy0Oz",
        "outputId": "a5f5d6ea-f68e-40f4-969c-7d76a291b82e"
      },
      "execution_count": 23,
      "outputs": [
        {
          "output_type": "stream",
          "name": "stdout",
          "text": [
            "0.023108243942260742 seconds have passed\n"
          ]
        }
      ]
    },
    {
      "cell_type": "code",
      "source": [
        "# 9. Text cleaning step 2 - extra patterns removing\n",
        "start_t = time.time()\n",
        "theartnewspaper_w_text = clean_text_2(theartnewspaper_w_text, 'tanp')\n",
        "artuzel_news_articles_w_text = clean_text_2(artuzel_news_articles_w_text, 'artuz')\n",
        "artchive_news_articles_w_text = clean_text_2(artchive_news_articles_w_text, 'artch')\n",
        "artinvest_news_articles_w_text = clean_text_2(artinvest_news_articles_w_text, 'artinvest')\n",
        "print('{} seconds have passed'.format(time.time() - start_t))"
      ],
      "metadata": {
        "colab": {
          "base_uri": "https://localhost:8080/"
        },
        "id": "Yy7Ssp1AZY2G",
        "outputId": "3a89841c-fb92-406a-eeb2-9f1bf7d847c0"
      },
      "execution_count": 27,
      "outputs": [
        {
          "output_type": "stream",
          "name": "stdout",
          "text": [
            "13.544744968414307 seconds have passed\n"
          ]
        }
      ]
    },
    {
      "cell_type": "markdown",
      "source": [
        "## next times"
      ],
      "metadata": {
        "id": "ajYCgV10Oamh"
      }
    },
    {
      "cell_type": "code",
      "source": [
        "# Opening next times\n",
        "start_t = time.time()\n",
        "\n",
        "theartnewspaper_w_text = open_file_csv(theartnewspaper_w, 'live')\n",
        "artuzel_news_articles_w_text = open_file_csv(artuzel_w, 'live')\n",
        "artchive_news_articles_w_text = open_file_csv(artchive_w, 'live')\n",
        "artinvest_news_articles_w_text = open_file_csv(artinvest_w, 'live')\n",
        "\n",
        "# Dates transformation and sorting\n",
        "df_list = [artinvest_news_articles_w_text,\n",
        "           theartnewspaper_w_text,\n",
        "           artchive_news_articles_w_text,\n",
        "           artuzel_news_articles_w_text]\n",
        "\n",
        "for df in df_list:\n",
        "  # transformation\n",
        "  try:\n",
        "    df['parsing_date'] = df['parsing_date'].dropna().apply(lambda x: date_transfomation(x)) # 6. Date transfomation\n",
        "  except: continue\n",
        "  # sorting\n",
        "  try:\n",
        "    df['date'] = df['date'].dropna().apply(lambda x: date_transfomation(x)) # 6. Date transfomation\n",
        "    #df.sort_values(by=['date'], inplace=True, ascending=False)\n",
        "  except: continue\n",
        "\n",
        "# topping up dict (manually yet)\n",
        "combo_df_dict = {artinvest_lt: artinvest_news_articles_w_text,\n",
        "                 theartnewspaper_lt: theartnewspaper_w_text,\n",
        "                 artchive_lt: artchive_news_articles_w_text,\n",
        "                 artuzel_lt: artuzel_news_articles_w_text\n",
        "                 }\n",
        "\n",
        "print('{} seconds have passed'.format(time.time() - start_t))"
      ],
      "metadata": {
        "id": "flEuHwUw5hRp"
      },
      "execution_count": null,
      "outputs": []
    },
    {
      "cell_type": "markdown",
      "source": [
        "## Savings"
      ],
      "metadata": {
        "id": "m5PLHOC1Oi8e"
      }
    },
    {
      "cell_type": "code",
      "source": [
        "save_df_file(theartnewspaper_w_text, theartnewspaper_w, 'live')\n",
        "save_df_file(artuzel_news_articles_w_text, artuzel_w, 'live')\n",
        "save_df_file(artchive_news_articles_w_text, artchive_w, 'live')\n",
        "save_df_file(artinvest_news_articles_w_text, artinvest_w, 'live')\n",
        "\n",
        "save_df_file(theartnewspaper_w_text, theartnewspaper_w.replace('.csv', '') + '_' + str(datetime.now().date()) + '.csv', 'backup')\n",
        "save_df_file(artuzel_news_articles_w_text, artuzel_w.replace('.csv', '') + '_' + str(datetime.now().date()) + '.csv', 'backup')\n",
        "save_df_file(artchive_news_articles_w_text, artchive_w.replace('.csv', '') + '_' + str(datetime.now().date()) + '.csv', 'backup')\n",
        "save_df_file(artinvest_news_articles_w_text, artinvest_w.replace('.csv', '') + '_' + str(datetime.now().date()) + '.csv', 'backup')"
      ],
      "metadata": {
        "id": "YWAgV7i8r1jV"
      },
      "execution_count": null,
      "outputs": []
    },
    {
      "cell_type": "markdown",
      "source": [
        "# df info"
      ],
      "metadata": {
        "id": "2TB9_lIw1iSM"
      }
    },
    {
      "cell_type": "code",
      "source": [
        "#artinvest_news_articles_w_text.info()"
      ],
      "metadata": {
        "id": "N6e3LeINoOjM"
      },
      "execution_count": null,
      "outputs": []
    },
    {
      "cell_type": "code",
      "source": [
        "def find_pattern(cell, pattern):\n",
        "  for line in cell:\n",
        "    try:\n",
        "      if re.search(pattern, line)[0]==pattern:\n",
        "        cell = 1\n",
        "        break\n",
        "    except:\n",
        "      cell = 0\n",
        "\n",
        "  return cell\n",
        "\n",
        "df['pattern'] = df['structure'].dropna().apply(lambda x: find_pattern(x, 'Свежий номер:'))\n",
        "\n",
        "index_list = df.loc[(df['page_title']=='Новости')&(df['pattern']==1)].index.tolist()\n",
        "len(index_list)\n",
        "\n",
        "#sample_df = df.iloc[index_list]"
      ],
      "metadata": {
        "colab": {
          "base_uri": "https://localhost:8080/"
        },
        "id": "GZishEcPmFm7",
        "outputId": "f3aab9ef-ecd8-4ff3-b629-1b818075df17"
      },
      "execution_count": 53,
      "outputs": [
        {
          "output_type": "execute_result",
          "data": {
            "text/plain": [
              "3"
            ]
          },
          "metadata": {},
          "execution_count": 53
        }
      ]
    },
    {
      "cell_type": "markdown",
      "source": [
        "## Check samples"
      ],
      "metadata": {
        "id": "We2ixVfzi-cm"
      }
    },
    {
      "cell_type": "code",
      "source": [
        "# artinvest_news_articles_w_text,\n",
        "# theartnewspaper_w_text,\n",
        "# artchive_news_articles_w_text,\n",
        "# artuzel_news_articles_w_text\n",
        "df = artinvest_news_articles_w_text.copy()"
      ],
      "metadata": {
        "id": "FjYZfynWswmB"
      },
      "execution_count": 60,
      "outputs": []
    },
    {
      "cell_type": "code",
      "source": [
        "news_title_list = df.loc[df['news_article_cat']=='news']['page_title'].unique().tolist()\n",
        "articles_title_list = df.loc[df['news_article_cat']=='articles']['page_title'].unique().tolist()\n",
        "print(len(news_title_list))\n",
        "print(len(articles_title_list))"
      ],
      "metadata": {
        "id": "uyKTSRVV0TSs",
        "colab": {
          "base_uri": "https://localhost:8080/"
        },
        "outputId": "581a6ce0-d123-43ef-bff4-9235f3bb10c7"
      },
      "execution_count": 54,
      "outputs": [
        {
          "output_type": "stream",
          "name": "stdout",
          "text": [
            "3\n",
            "5\n"
          ]
        }
      ]
    },
    {
      "cell_type": "code",
      "source": [
        "#news_title_list\n",
        "articles_title_list"
      ],
      "metadata": {
        "colab": {
          "base_uri": "https://localhost:8080/"
        },
        "id": "W8ajZUMGpMok",
        "outputId": "38ca0675-6352-4a99-8d0c-f41a3c4480ea"
      },
      "execution_count": 121,
      "outputs": [
        {
          "output_type": "execute_result",
          "data": {
            "text/plain": [
              "['Конкурсы и гранты', 'Лекции', 'Интервью и дискуссии', 'Статьи', 'Фестивали']"
            ]
          },
          "metadata": {},
          "execution_count": 121
        }
      ]
    },
    {
      "cell_type": "code",
      "source": [
        "sample_df = df.sample(10)\n",
        "#sample_df = df.loc[df['page_title'].isin(articles_title_list)].sample(10)\n",
        "#sample_df = df.loc[df['page_title']=='Рынок искусства: аналитика и прогнозы'].sample(10)"
      ],
      "metadata": {
        "id": "vMb8hcaezFnD"
      },
      "execution_count": 61,
      "outputs": []
    },
    {
      "cell_type": "code",
      "source": [
        "#artuzel_news_articles_w_text - long_text\n",
        "  #Все подробнсоти на сайте ...\n",
        "  #Вся дополнительная информация на сайте ...\n",
        "  #Подробную информацию об условиях участия в конкурсе ...\n",
        "  #Информация по ссылке: ...\n",
        "  #Официальный сайт: ...\n",
        "  #Подробности по ссылке.\n",
        "  #Все подробности и ссылка на форму заявки по ссылке.\n",
        "  #Источник.\n",
        "  #Условия конкурса на русском и английском языках.\n",
        "  #Заявки принимают на сайте по ссылке, там же все подробности, дедлайн – 10 февраля.\n",
        "  #...\n",
        "\n",
        "  #Официальный сайт фестиваля: …\n",
        "  #Вся подробная информация на сайте организаторов.\n",
        "  #Сайт фестиваля по ссылке. Подробнее о мероприятиях фестиваля …\n",
        "  #Все подробности и билеты на сайте фестиваля по ссылке.\n",
        "  #Подробности по ссылке.\n",
        "\n",
        "#artchive_news_articles_w_text - long_text\n",
        "  #По материалам artdaily.com и caumont-centredart.com. … ...\n",
        "  #По материалам theartnewspaper.com, ИА ТАСС и официального сайта Музея изобразительных искусств им. Пушкина. … ...\n",
        "  #По материалам официальных сайтов … ...\n",
        "  #Подготовлено материалам … ...\n",
        "\n",
        "#artinvest_news_articles_w_text - long_text\n",
        "  # tables !!!\n",
        "  #… Редакция AI.\n"
      ],
      "metadata": {
        "id": "H23QGykotPcm"
      },
      "execution_count": null,
      "outputs": []
    },
    {
      "cell_type": "code",
      "source": [
        "for idx, long_text in enumerate(sample_df['long_text']): \n",
        "  print(idx, type(long_text))\n",
        "  for el in long_text:\n",
        "    print(idx, type(el), el)\n",
        "  print('')"
      ],
      "metadata": {
        "colab": {
          "base_uri": "https://localhost:8080/"
        },
        "id": "pYtyLkEofoKZ",
        "outputId": "3c98e644-9d53-4dd6-bd35-4f8feab24b95"
      },
      "execution_count": 62,
      "outputs": [
        {
          "output_type": "stream",
          "name": "stdout",
          "text": [
            "0 <class 'list'>\n",
            "0 <class 'str'> Sotheby’s Russian Art 12 апреля и Christie’s Russian Art 13 апреля. Робкие прогнозы.\n",
            "0 <class 'str'> Уже завтра торги Sotheby’s Russian Art будут открывать русскую неделю на ведущих мировых аукционных площадках. С 12 по 16 апреля изголодавшимся покупателям должны бы предложить хорошенько «разговеться» в Нью-Йорке, Лондоне и Париже. Отечественные коллекционеры и владельцы новых состояний наверняка бы и не против «откушать» — был бы ассортимент под стать. А вот с этим как раз проблема. Сложная ситуация с качеством предложения классического искусства усугубляется из года в год. Гранды не спешат переключаться на послевоенное и современное искусство (относительно недорогими вещами заниматься хлопотно). Шедевры же классики с некоторых пор приходится наскребать по сусекам. А там уже, чувствуется, на колобок не хватит.\n",
            "0 <class 'str'> Каталоги отдельных русских торгов больших домов становятся все тоньше и неинтереснее. Доля живописи и графики в них падает в пользу декоративно-прикладного искусства. А по классу начинают доминировать вещи национального, но далеко не международного значения. В результате за Гончаровой и Ларионовым на русские торги уже можно не ходить. Русские произведения мирового значения устроители предпочитают включать в каталоги больших престижных международных торгов — в тех же «Импрессионистов и модернистов» или «Модернистов и современное искусство». Да и вообще, состоятельных русских коллекционеров устроители аукционных показов приучают к высококлассным мировым вещам — импрессионистам, американским абстракционистам, то есть к тому, что покупают во всем мире. Тем более что стoят эти вещи зачастую не дороже, чем русские шедевры локального значения.\n",
            "0 <class 'str'> Порой создается впечатление, что сама тема отдельных русских торгов отживает по естественным причинам. И начало русской недели с нью-йоркскими Sotheby’s Russian Art 12 апреля и Christie’s Russian Art 13 апреля — очередное тому подтверждение. Каталоги вызывают сплошное изумление, сопровождающееся модным сейчас вопросом: «Мужики, вы чего?» О чем прогнозы-то писать?\n",
            "0 <class 'str'> На Sotheby’s завтра — Исаак Левитан, фантастически успешная выставка которого только что закрылась в ГТГ. Казалось бы, дайте шедевры — и готовьтесь к сенсациям. А дадут графику. Нужно понимать, что левитановская «Ранняя весна в Абрамцево» с эстимейтом 400–600 тысяч долларов — это довольно большая акварель с гуашью 1893 года. Графика Исаака Ильича сопоставимого класса на аукционах никогда не появлялась. Аукционный рекорд для его живописи превышает 3 миллиона долларов. Так что продажа даже выше эстимейта весьма вероятна. Будет завтра и Юрий Пименов, чьи работы в последнее время на слуху более, чем обычно. Но… необычный пименовский «Пианист» (мятежностью которого так все восхищаются) — это тоже рисунок, примерно такого же размера, как и левитановская акварель. Рисунок, которому присвоена оценка 500–700 тысяч долларов и на сохранность которого нужно обратить повышенное внимание. Графика графикой, а цена-то живописная: в прошлом году картина «Похищение Европы» Пименова (правда, не 1920-е годы, а 1960-е) была продана за 626 тысяч долларов.\n",
            "0 <class 'str'> Среди самых позитивных работ каталога Sotheby’s стoит, пожалуй, выделить гуашь «Русская сказка» Сергея Судейкина. Его работы продаются довольно часто, и экспертная оценка аукционного дома (30–40 тысяч долларов) лежит точно в русле недавних цен на вещи сопоставимого качества. Предположу, что покупатели в этот раз дадут больше, но не намного.\n",
            "0 <class 'str'> Ну и, наконец, из вещей, радующих глаз, — «Деревенская красавица» Федота Сычкова. Работы такого класса не редкость. Но эта — очаровательна. Эстимейт тоже максимально приближен к рыночному. Но, думаю, за нее дадут все же выше эстимейта.\n",
            "0 <class 'str'> Теперь о том, чем порадует Christie’s. В части живописи и графики каталог совсем невелик — 55 предметов, из которых 36 — картины. Наивысший эстимейт (600–800 тысяч долларов) присвоен полотну «Дети» Бориса Григорьева. Брутальности, вообще ожидаемой от Григорьева, в этом портрете нет: не располагает тема к брутальности, зато в глазах моделей явственно уловимо что-то серебряковское. Эстимейт оправдан, вещь достаточно декоративная.\n",
            "0 <class 'str'> Настоящим шедевром видится «Лист жизни» Дмитрия Плавинского. Эффектное, кропотливо сделанное произведение, скорее всего, конца 1960-х годов. Метровому холсту присвоен какой-то неправдоподобно низкий эстимейт — 20–30 тысяч долларов. Думаю, что мы вправе ждать минимум 5-кратного превышения. Хотя, честно, и десятикратное превышение не будет выглядеть безумием: Плавинский до сих пор недооценен.\n",
            "0 <class 'str'> Из предметов с интересной ценой обратил бы ваше внимание на графику Владимира Немухина 1964 года. Большая гуашь «Композиция с трефовой десяткой» получила эстимейт 6–8 тысяч долларов. За такие деньги графику даже 2000-х днем с огнем не сыщешь. Не удивлюсь, если рисунок уйдет тысяч за тридцать.\n",
            "0 <class 'str'> Из классики глаз останавливается на холсте «Крестьянские девочки в лесу» Алексея Корзухина. Не помпезно, зато качество на высоте. Метровый холст эксперты Christie’s оценили в 80–100 тысяч долларов. Думаю, что будет продан дороже.\n",
            "0 <class 'str'> Sotheby’s и Christie’s проведут престижные, но далеко не самые интересные аукционы русской недели. Но если вы ориентированы не жестко на классику, а интересуетесь послевоенным неофициальным искусством (шестидесятниками) и современным искусством, то вариантов больше.\n",
            "0 <class 'str'> Очень неплохой каталог подготовил Phillips de Pury для торгов BRIC 14–15 апреля. Это в Лондоне.\n",
            "0 <class 'str'> В Штатах 16 апреля пройдет Gene Shapiro: люди разбирающиеся найдут там интересные предложения прежде всего по шестидесятникам.\n",
            "0 <class 'str'> Ну и еще один аукцион по шестидесятникам — настоящая бомба — пройдет 16 апреля во Франции. Под невзрачным названием Sale Russian Painters — Private Collection скрывается частное собрание шестидесятников с редчайшими вещами 1960–70-х годов. Опять же люди разбирающиеся уже месяц нервно облизываются: эстимейты там более чем дружественные. Прогнозы по этим торгам тоже готовятся.\n",
            "0 <class 'str'> Ну и для тех, кто не верит в варианты «за морем телушка — полушка», тоже есть хорошие новости. В конце апреля и начале мая, когда отгремят заморские торги, пройдет несколько русских локальных аукционов. Главная страница ARTinvestment.RU сверкает объявлениями о торгах, как новогодняя елка.\n",
            "\n",
            "1 <class 'list'>\n",
            "1 <class 'str'> Рисунки Иосифа Бродского покажут в Санкт-Петербурге.\n",
            "1 <class 'str'> Сегодня, 13 декабря, в зале Корфа Главного здания Российской национальной библиотеки (Санкт-Петербург, Садовая, 18) открывается уникальная выставка «Песочные часы»: рисунки Иосифа Бродского (к 70-летию со дня рождения поэта).\n",
            "1 <class 'str'> На выставке в рамках «Года Иосифа Бродского в России» будут представлены неопубликованные рисунки Бродского из его архива, хранящегося в Отделе рукописей РНБ, из фондов Музея Анны Ахматовой в Фонтанном Доме, из частных архивов и собраний. Копии рисунков «американской» части архива Иосифа Бродского переданы для выставки Библиотекой редких книг и рукописей Йельского университета (США).\n",
            "1 <class 'str'> Рисунки отражают еще одну грань таланта Иосифа Бродского и являются важным источником для изучения его жизни и творчества. Кроме рисунков, в экспозиции будут выставлены автографы стихотворных и прозаических произведений Бродского, страницы дневниковых записей, фрагменты писем, фотографии поэта и печатные издания его произведений на русском, английском и других языках.\n",
            "1 <class 'str'> Выставка организована Российской национальной библиотекой при поддержке Генерального консульства США в Санкт-Петербурге, Фонда создания музея Иосифа Бродского, Музея Анны Ахматовой в Фонтанном Доме, Библиотекой Бейнеке редких книг и рукописей Йельского университета США, Трастового Фонда Иосифа Бродского (США), Центра петербургских искусств «АВИТ», журнала «Звезда» и владельцев частных архивов.\n",
            "1 <class 'str'> Выставка продлится до 31 декабря и станет логичным завершением «Года Иосифа Бродского в России».\n",
            "\n",
            "2 <class 'list'>\n",
            "2 <class 'str'> Аукцион «Фарфор и стекло» 5 октября 2013 в ВЕАД. Топ-лоты.\n",
            "2 <class 'str'> 5 октября 2013 года в Восточно-Европейском Антикварном Доме (Москва) пройдет аукцион декоративно-прикладного искусства «Фарфор и стекло». На торги будут выставлены 117 лотов с суммарным эстимейтом более 2 миллионов евро. Стартовая цена чайно-кофейного сервиза с китайскими сценами в гавани знаменитой Мейсенской мануфактуры 1726 года составляет 180000 евро. Сервиз дошел до наших дней в полном комплекте (большая редкость!) и хорошей сохранности. Был продан на Sotheby's в Лондоне 28 ноября 1967 года (лот № 135). Вазы петербургского завода Батенина с флоральным декором первой половины XIX века начнут торги со стартовой цены 93000 евро. Еще в 1829 году на Первой промышленной выставке в Петербурге фарфор Батенина был отмечен Большой золотой медалью. Завод Батенина известен прежде всего как раз декоративными вазами. Формы и декор представленных в аукционном каталоге ваз отличаются тщательной проработкой. В декорировке использована кистевая ручная роспись.\n",
            "2 <class 'str'> Лот № 107 — чайник и молочник завода Кузнецова в Вербилках 1892–1917 годов, выполненные в стиле «русский модерн» (лот 107), выставлены со стартовой ценой 5500 евро. Подобные образцы редко встречаются на антикварном рынке.\n",
            "2 <class 'str'> Лампе с декором в виде парящих ласточек фирмы Галле (лот 43) назначена стартовая цена 43000 евро. Лампы электрического освещения фирма Галле стала производить на рубеже XIX — XX веков. Коническая форма плафона и изысканная фигурная форма стойки характерны для ламп, созданных при жизни Эмиля Галле. Тогда же получила развитие декоративная тема с парящими ласточками.\n",
            "2 <class 'str'> Ликерный набор «Васильки» из 15 предметов фирмы Галле 1880–90 годов примечателен тоном стекла, который был разработан Э. Галле в 1870–80-х годах. Этот голубой тон стеклянной массы получил известность под названием «лунный свет». Ликерный набор «Васильки» представляет собой одно из лучших ранних творений Эмиля Галле и имеет исключительную сохранность. Стартовая цена лота составит 20500 евро.\n",
            "2 <class 'str'> Аукцион состоится 5 октября 2013 года. Начало торгов в 16:00.\n",
            "\n",
            "3 <class 'list'>\n",
            "3 <class 'str'> Западный поп-арт встретился с русским соц-артом и китайским циничным реализмом на выставке в Саатчи. Галерея Саатчи, 26 ноября 2014 — 23 февраля 2015 Duke of York's HQ, King's Road, London В лондонской галерее Саатчи открылась выставка «Пост-поп: Восток встречает Запад». Около 250 произведений 110 авторов из Китая, Тайваня, стран бывшего СССР, Великобритании и США расскажут о том, как феномен популярного искусства повлиял на художников всего мира — носителей разных, подчас противоположных идеологий.\n",
            "3 <class 'str'> Поп-арт, построенный на использовании узнаваемых образов массовой культуры, стал одним из самых значимых направлений в искусстве ХХ века. Течение, зародившееся в Великобритании и Америке в 1950–60-х годах, в каждой части света приобрело свою смысловую окраску. На Западе художники использовали образы из рекламы, чтобы критиковать современное им общество потребления и культ знаменитостей. На советском и постсоветском пространстве художники направления «соц-арт» использовали пропагандистские плакаты и лозунги, советскую символику, чтобы обратиться к проблемам государственного контроля, соглашательства, формальностей, помпезности и видимости всеобщего единства. В Азии художники направления «политический поп-арт» или «циничный реализм» через иконографию китайского соцреализма размышляют о политической системе КНР и появлении культа богатства и роскоши вслед за периодом жесткой экономии. И все эти темы передаются через юмор и популярные образы массовой культуры, знакомые и близкие зрителю.\n",
            "3 <class 'str'> Художники:\n",
            "3 <class 'str'> Великобритания: Гленн Браун, Гэри Хьюм, Йинка Шонибаре, Рейчел Уайтред, Марк Куинн, Майкл Крэйг-Мартин и др.\n",
            "3 <class 'str'> США: Жан-Мишель Баския, Кит Харинг, Питер Хэлли, Джефф Кунс, Шерри Ливайн, Ричард Принс, Пол Маккарти, Синди Шерман и др.\n",
            "3 <class 'str'> Китай: Ай Вэйвэй, Цзэн Фаньчжи и др.\n",
            "3 <class 'str'> Бывший СССР: АЕС+Ф, Синие носы, Гриша Брускин, Эрик Булатов, Римма и Валерий Герловины, Илья Кабаков, Комар и Меламид, Александр Косолапов, Анатолий Осмоловский, Ирина Корина, Владислав Мамышев-Монро, Ирина Нахова, Алексей Каллима и др.\n",
            "\n",
            "4 <class 'list'>\n",
            "4 <class 'str'> Русскому музею не дали вывезти картины в Швецию из-за дела ЮКОСа.\n",
            "4 <class 'str'> Государственный Русский музей не получил разрешения Министерства культуры на вывоз картин Марка Шагала и других авангардистов на выставку в Швецию, сообщает РБК со ссылкой на Интерфакс. «Разрешение на вывоз для некоторых экспонатов и культурных ценностей мы не получили, оно не было выдано», — сообщил агентству директор музея Владимир Гусев. Решение Минкультуры, по его словам, объясняется опасениями за сохранность полотен, «связанными с делом ЮКОСа и арестами имущества».\n",
            "4 <class 'str'> Выставка должна была пройти в стокгольмском музее Миллесгорден. Руководство музея выразило разочарование отменой выставки. «Наши коллеги из Государственного Русского музея в Санкт-Петербурге, откуда на нашу выставку должна была поступить основная часть работ Марка Шагала, расстроены так же, как и мы», — говорится в сообщении на сайте музея, которое подписала директор Онита Васс.\n",
            "4 <class 'str'> По ее словам, обе стороны вложили много времени и сил в оформление страховок, решение транспортных вопросов и провели большую работу по подготовке выставки. Выставка художников-авангардистов должна была открыться 12 сентября и продлиться четыре месяца.\n",
            "4 <class 'str'> Дела об аресте российского имущества рассматривали правоохранительные органы нескольких европейских стран. Они основывались на решении Третейского суда в Гааге, которое было оглашено в июле 2014 года. Арбитраж оценил потери акционеров ЮКОСа в $50 млрд и обязал Россию выплатить компенсацию в этом размере. Кроме того, существует решение ЕСПЧ, по которому Россия должна выплатить бывшим акционерам ЮКОСа €1,86 млрд.\n",
            "4 <class 'str'> Первые сообщения об аресте российских счетов поступили в июне 2015 года из Франции и Бельгии. Бывшие акционеры ЮКОСа также подали иски в суды Великобритании и США, поскольку по законодательству этих стран обеспечительные аресты имущества можно проводить только после признания решения в местных судах.\n",
            "4 <class 'str'> Российский МИД при этом предупредил Госдеп, что в случае признания вердикта Гаагского арбитража по делу ЮКОСа и применения обеспечительных мер для его исполнения на территории США Москва примет ответные меры. Москва считает, что Гаагский арбитраж не имел компетенции для рассмотрения спора, его решения приняты на основании международного договора, участницей которого Россия не являлась, по спору, который не подпадает под его действие.\n",
            "\n",
            "5 <class 'list'>\n",
            "5 <class 'str'> Визит Михаила Пиотровского в Нью-Йорк. Подробности.\n",
            "5 <class 'str'> Как сообщает Bloomberg.com, директор Государственного Эрмитажа Михаил Пиотровский недавно посетил Нью-Йорк. Он «проведал» одолженные музею Метрополитен экспонаты, пообщался с важными персонами западного мира искусства и возглавил банкет, устроенный с целью собрать для Эрмитажа сумму в 200 тысяч долларов.\n",
            "5 <class 'str'> Коллекция петербургского музея насчитывает 2,9 миллиона предметов, в том числе 24 произведения Рембрандта и 37 работ Матисса, но желающие увидеть в постоянной экспозиции произведения послевоенных и современных художников будут разочарованы. «У нас нет своего собрания, поэтому мы экспонируем работы из других музеев и частных коллекций, — говорит Пиотровский. — Нам не хватает средств на то, чтобы покупать современное искусство».\n",
            "5 <class 'str'> В 2014 году Эрмитажу исполнится 250 лет. К тому времени музей должен открыть новое крыло, предназначенное исключительно для показа искусства ХХ и XXI века. Это громадная лакуна, которую необходимо заполнить. «Там никак не представлено американское искусство, — отмечает член попечительского совета Чонси Родзянко (Chauncie Rodzianko). — Это не в смысле “У них всего сто таких экспонатов”. Я имею в виду то, что у Эрмитажа вообще нет работ американских художников, созданных после войны».\n",
            "5 <class 'str'> Банкет, предназначенный для американских филантропов, был организован аукционным домом Christie’s. Мероприятие посетили 120 гостей; некоторые дамы пришли в узбекских нарядах.\n",
            "5 <class 'str'> Среди тех, с кем встретился Пиотровский, — дилер Ларри Гагосян (Larry Gagosian), художник Ансельм Кифер (Anselm Kiefer), распорядители наследия Сола Ле Витта (Sol Le Witt) и коллекционер Эли Броуд (Eli Broad). По словам директора, Эрмитаж планирует провести выставку произведений из собрания последнего.\n",
            "5 <class 'str'> В Эрмитаж уже привозили работы Сая Туомбли (Cy Twombly) и Виллема де Кунинга (Willem de Kooning), а также произведения из коллекции Чарльза Саатчи (Charles Saatchi). Собирались показать и 100-миллионный «Бриллиантовый череп» британского плохиша Дэмиена Херста (Damien Hirst), но не сложилось. «Столько нужно было охраны, будто это золотая маска Тутанхамона, — говорит директор. — Нам [выставка] оказалась не по карману».\n",
            "5 <class 'str'> В 2009 году 82 процента дохода Эрмитажа составили средства, поступившие из федерального бюджета. Российские корпорации и отдельные меценаты (в том числе миллиардер Владимир Потанин) пожертвовали от 2 до 5 миллионов долларов. Как утверждает Пиотровский, для России, где «к филантропии относятся отрицательно», это весьма существенно.\n",
            "5 <class 'str'> А вот чего Эрмитаж точно делать не будет, так это выставлять свои экспонаты на рынок. В памяти еще живо то время (начало 1930-х), когда советское правительство продавало шедевры музея на Запад. «21 лучший экспонат Национальной галереи — это все эрмитажные работы, — сокрушается директор. — Просто трагическая история».\n",
            "\n",
            "6 <class 'list'>\n",
            "6 <class 'str'> ИЗО на телеканале «Россия К» («Культура»).\n",
            "6 <class 'str'> ARTinvestment.RU представляет документальные фильмы и передачи об изобразительном искусстве, которые можно будет посмотреть на телеканале «Россия К» («Культура») на следующей неделе.\n",
            "6 <class 'str'> 9 марта, среда.\n",
            "6 <class 'str'> 10:40 — художественный фильм «Всегда со мною...» (Ленфильм, 1976).\n",
            "6 <class 'str'> Режиссер Соломон Шустер.\n",
            "6 <class 'str'> В ролях: Владислав Стржельчик, Алиса Фрейндлих, Иван Соловьев, Ангелина Степанова, Алла Демидова, Владимир Зельдин, Зинаида Шарко, Николай Бурляев, Лариса Удовиченко, Олег Басилашвили.\n",
            "6 <class 'str'> В фильме использованы материалы книги С. Варшавского и Б. Реста «Подвиг Эрмитажа».\n",
            "6 <class 'str'> Академик-искусствовед Андрей Ильин, переживший вместе с коллективом Эрмитажа суровые испытания блокады, через много лет возвращается в Ленинград. Город навевает на него воспоминания о военном времени, о героизме сотрудников знаменитого музея, сохранивших его экспонаты — достояние всего человечества, о самопожертвовании во имя гуманизма и любви к ближнему.\n",
            "6 <class 'str'> 13:10 — документальный фильм из цикла «Легенды Царского Села» (Россия, 2009 — 2010).\n",
            "6 <class 'str'> Режиссер Михаил Трофимов. Ведущий — Михаил Разумовский.\n",
            "6 <class 'str'> 1969–1971 годы. Екатерининский дворец уже более двадцати лет залечивал «раны» войны.\n",
            "6 <class 'str'> В программе участвуют: директор краеведческого музея Пушкина Наталья Давыдова; научный сотрудник ГМЗ «Царское село» Галина Ходасевич; капитан первого ранга, военный историк Олег Вербовой; капитан первого ранга Виктор Никитин; кинооператор Александр Чиров.\n",
            "6 <class 'str'> 10 марта, четверг.\n",
            "6 <class 'str'> 13:10 — документальный фильм из цикла «Третьяковка — дар бесценный!» (Россия, 2002–2006).\n",
            "6 <class 'str'> Автор и ведущий Владимир Венедиктов.\n",
            "6 <class 'str'> «История в лицах и судьбах...». В выпуске: об Алексее Орлове, Екатерине II и самозваной дочери Елизаветы Петровны — княжне Таракановой. Рассказы об эпизодах истории иллюстрируются работами В. Л. Боровиковского, В. И. Сурикова, В. Г. Перова, И. Е. Репина, В. А. Серова, К. Д. Флавицкого.\n",
            "6 <class 'str'> 11 марта, пятница.\n",
            "6 <class 'str'> 15:00 — документальный фильм «Цвет времени» (Россия, 2007).\n",
            "6 <class 'str'> Режиссер К. Касатов.\n",
            "6 <class 'str'> Фильм о том, как в 1910-е годы создавалась уникальная коллекция цветных фотографий «Достопримечательности России», и о драматической судьбе ее автора — русского фотографа-изобретателя С. М. Прокудина-Горского.\n",
            "6 <class 'str'> Сергей Прокудин-Горский, выходец из старинного дворянского рода. Большую часть жизни он посвятил развитию фотографии.\n",
            "6 <class 'str'> Мастер фотографии уехал из России в 1919 году и скончался в 1944 году в Париже. В 1948 году негативы снимков приобрела у его наследников библиотека Конгресса США. Фотографии, представленные на выставке, получены путем сканирования стеклянных пластинок, которые Прокудин-Горский использовал в качестве негативов. Еще в 1908 году фотомастер начал применять новые технологии в цветной фотографии, создавая летопись Российской империи. Ему хотелось при помощи своих «оптических цветных проекций» познакомить российских школьников с историей, культурой и модернизацией страны.\n",
            "6 <class 'str'> Получив по велению Николая Второго специально оборудованный железнодорожный вагон, пароход с полным набором команды и автомобиль, Прокудин-Горский объехал за семь лет одиннадцать регионов России, читал лекции об экономике, культуре, архитектуре и истории страны, иллюстрируя свои выступления собственными цветными фотоизображениями.\n",
            "6 <class 'str'> 18:35 — документальный фильм из цикла «Дворцы Европы» (Франция, 2004– 2006).\n",
            "6 <class 'str'> Кристиан IV, возлюбленный Копенгагена. Жизнь датского короля Кристиана IV была полна удач и несчастий. В молодости он был богат и любим, на склоне же лет оказался разорен и всеми покинут. Драма его жизни проходила на фоне дворцов и крепостей. Один из замков, Кронборг, Уильям Шекспир назвал Эльсинором, выбрав его местом действия для своей трагедии «Гамлет».\n",
            "6 <class 'str'> 22:35 — ток-шоу «Линия жизни». Павел Каплевич.\n",
            "6 <class 'str'> Художник театра и кино Павел Каплевич учился на актерском факультете Школы-студии МХАТ, потом был принят в труппу знаменитого ленинградского ТЮЗа, где несколько лет успешно служил, пока его творческая жизнь не повернулась в другую сторону. Не имея специального образования, Каплевич очень быстро стал одним из самых известных, востребованных и модных сценографов. В программе он рассказывает о самых известных своих театральных постановках, о работе с Олегом Меньшиковым в спектакле «Горе от ума», о сценическом костюме, об изобретенной им совершенно новой технике гобелена, о профессионалах и дилетантах и о том, как судьба играет человеком.\n",
            "\n",
            "7 <class 'list'>\n",
            "7 <class 'str'> Ватикан шантажирует человек, укравший в 1997 году два письма Микеланджело.\n",
            "7 <class 'str'> Представители Ватикана сообщают, что в их адрес поступили письма с требованием выкупа в размере 100 тысяч евро за возвращение двух документов, украденных из архивов Ватикана в 1997 году. Речь идет ни много ни мало о двух автографах Микеланджело. Одно из писем и вовсе уникально, поскольку написано от начала до конца рукой художника. Обычно Микеланджело диктовал письма ассистентам и в конце ставил свою подпись. Пропавшее из архива рукописное письмо чуть ли не единственное в своем роде. Второй украденный документ имеет только подпись Микеланджело.\n",
            "7 <class 'str'> Пропажу писем из архива в Ватикане скрывали почти двадцать лет. Никаких публичных заявлений на этот счет не было вплоть до прошлой субботы. Оказывается, в 1997 году один из монахов, работавший в ватиканском архиве, сообщил об исчезновении этих документов. Сейчас власти Ватикана отказываются как-то объяснять свое длительное молчание.\n",
            "7 <class 'str'> Требование выкупа пришло кардиналу Анджело Комастри (Angelo Comastri), генеральному викарию Ватикана и архипресвитеру Собора Святого Петра. Однако кардинал отверг это предложение и обратился в полицию. Сейчас идет следствие.\n",
            "7 <class 'str'> Представитель Ватикана, святой отец Федерико Ломбарди (Federico Lombardi) говорит, что человек, приславший требование выкупа, точно когда-то работал в Ватикане: «он прекрасно знает прилегающие к Базилике комнаты», доступ в которые закрыт для публики, он знает «как пройти и куда смотреть».\n",
            "7 <class 'str'> Это дело имеет определенное сходство с исчезновением Кодекса Каликста — иллюстрированной испанской рукописи XII века — из Собора Святого Иакова в городе Сантьяго-де-Компостела в 2011 году. Тогда виновным оказался бывший служащий церкви, электрик, проработавший в Соборе свыше 25 лет. Манускрипт был возвращен в 2012 году.\n",
            "\n",
            "8 <class 'list'>\n",
            "8 <class 'str'> Арт-дилеры Великобритании смогут проверять информацию о потенциальном покупателе через приложение.\n",
            "8 <class 'str'> В наше время, когда цифровые технологии проникли, кажется, во все сферы мира искусства, наконец дошла очередь и до оформления сделок с предметами искусства и коллекционирования. А точнее даже — до потенциального покупателя и проверки его личной и финансовой информации.\n",
            "8 <class 'str'> Такой проверки с недавних пор требует Пятая директива ЕС по борьбе с отмыванием денег, вступившая в силу в Великобритании в начале этого года, еще до наступления «Брексита». Согласно ей, при совершении любой сделки, сумма которой выше €10 тыс. (£8,5 тыс. / $11 тыс.), продавец обязан собрать и при необходимости предоставить государству информацию о покупателе, включая его финансовый, публичный и правовой статус, источники дохода, связи (личные или финансовые) с физическими или юридическими лицами, находящимися под санкциями или под следствием, и т.д. В случае если дилер не сообщит представителям властей о клиенте, информацию о котором можно интерпретировать как подозрительную, он может понести наказание, вплоть до тюрьмы.\n",
            "8 <class 'str'> Приложение Art AML, разработкой которого специалисты по созданию цифровых решений для арт-институций Сюзан Мамфорд и Крис Кинг занимались с 2018 года, должно избавить представителей галерей и аукционных домов от дополнительной работы по проверке данных. Следуя серии несложных пошаговых инструкций, пользователи приложения могут вводить необходимую информацию о клиентах, включая удостоверение личности с фотографией и известные адреса, и оценивать риск транзакции.\n",
            "8 <class 'str'> Приложение позволяет сканировать имена клиентов по нескольким базам данных одновременно, в том числе проверять, является ли клиент политически значимым лицом, состоит ли под какими-либо санкциями и является ли место его происхождения и проживания страной высокого риска. Поисковые возможности приложения также могут помочь продавцам искусства проверять и подтверждать провенанс работ при продаже на вторичном рынке. Ожидается, что приложение появится в доступе до начала осеннего арт-сезона, а с 3 июля приложение будет доступно для тестирования в бета-версии.\n",
            "8 <class 'str'> Приложение будет доступно для галерей и прочих участников арт-рынка по подписке, с возможностью выбора нескольких тарифов, в зависимости от того, сколько аккаунтов нужно пользователю и сколько проверок он будет проводить в месяц. По имеющейся информации, минимальная цена на подписку будет около £100 ($123) в месяц.\n",
            "\n",
            "9 <class 'list'>\n",
            "9 <class 'str'> XXVI Российский Антикварный Салон: итоги и прогнозы.\n",
            "9 <class 'str'> В условиях рыночной неопределенности соблазн избежать принятия ответственных решений велик как никогда. Отменить, как Салон изящных искусств в Манеже, или «законсервировать» до лучших времен — кто сейчас станет осуждать за подобные ходы? Все понятно. На нет и суда нет. Почета, впрочем, тоже нет, но куда рискованнее в сложных условиях провалить мероприятие — такого уж точно не забудут. Случись что — и желающие сказать «а я же предупреждал» выстроятся в очередь. Так что сам факт проведения XXVI Российского Антикварного Салона — поступок, заслуживающий уважения. Смелость проявили и организаторы, и участники Салона. Для последних, рискующих рублем, — эта смелость показательна даже в большей степени.\n",
            "9 <class 'str'> Весной 2009 года на Салон вышло на треть меньше участников, чем годом ранее. Стало просторнее, что пошло Салону на пользу. Неробкие галереи-участники встретили новые условия повышенным качеством экспозиций и готовностью реализовывать просветительские проекты в период коммерческой передышки. Тематические экспозиции музейного класса показали, в частности, «Элизиум» («Графика Общества художников-станковистов»), «Галеев Галерея» («Русские и Мюнхен»), «Веллум» (работы Анатолия Каплана) и другие галереи.\n",
            "9 <class 'str'> Центральная зона второго этажа, где по традиции сосредоточены стенды ведущих галерей, стала значительно удобнее для посетителей. Научная программа экспонентов превратила ее в маленький музей (по крайней мере, для разбирающихся). Удачный ход «Галеев Галереи» — включение в экспозицию коллекционной живописи и графики «русских мюнхенцев» Алексея Явленского и Василия Кандинского. Пусть эти работы не продавались, но пройти мимо не давали. Почти все представители прессы обратили внимание и на любопытное письмо Кандинского, адресованное своему другу, одному из «синих всадников» Владимиру Бехтееву. 1924 год, Мюнхен, а жалобы вполне сегодняшние: все плохо продается, кризис и все такое. Фото этого экспоната (письмо Кандинского, кстати, продавалось за 20 тысяч у. е.) можно посмотреть на форуме ARTinvestment.RU.\n",
            "9 <class 'str'> На стенде галереи «Элизиум» была представлена без всяких скидок музейная программа — графика ОСТовцев, часть тематической выставки, организованной совместно с ГТГ и другими ведущими музеями страны. По соседству с Пименовым, Лабасом и другими — акварели авангардиста Александра Волкова, которые продавались, и не без успеха. Ценовой ориентир для маленького рисунка «Горы» 1915 года составлял 35 тысяч долларов. В такие же деньги была оценена и эффектная «Итальянская танцовщица» конца 1930-х годов — рисунок «амазонки авангарда» Наталии Гончаровой.\n",
            "9 <class 'str'> Впечатляющая авангардная графика Георгия Пожедаева — на стенде галереи «Эритаж». Его большой рисунок «Демоны» (ценовой ориентир 65 тысяч долларов) — это работа, сюжет которой требует даже от современного зрителя определенной подготовки и прогрессивного взгляда на искусство. Или пожедаевское «Моление» (ориентир 55 тысяч долларов) — сцена распятия — сколько раз пройдешь, столько и остановишься.\n",
            "9 <class 'str'> В числе работ, вызвавших повышенный интерес, — среднеразмерный холст «Сухая береза» 1929 года кисти Александра Древина. Галерея SCHATZ’I выставляла эту выдающуюся работу с ценовым ориентиром 200 тысяч евро. И наконец, среди неофициальных топ-лотов по версии участников форума ARTinvestment.RU можно отметить картину Ольги Делла-Вос-Кардовской «Семейный завтрак» (экспонент не хотел с ней расставаться, для чего ценой нежелательной продажи назывались 300 тысяч долларов).\n",
            "9 <class 'str'> В поведении посетителей салона опрошенные ARTinvestment.RU галеристы-участники единодушно заметили системные перемены. По их наблюдениям, стало меньше праздных зрителей, все больше людей интересовались практической «ценой вопроса». Вещь для рынка обнадеживающая, так как может быть симптомом повышения инвестиционного спроса: в период кризиса доверия надежных активов остается не так уж много — золото, камни, да искусство. Впрочем, в отличие от наблюдений выводы из сложившейся ситуации галеристы делают разные. Но об этом они лучше расскажут сами — спектр профессиональных мнений об итогах Антикварного Салона и прогнозах до конца года представлен в серии микроинтервью, подготовленной ARTinvestment.RU.\n",
            "9 <class 'str'> Когда ARTinvestment.RU встречался с экспонентами, впереди оставался еще традиционно ударный уикенд. Но большая часть XXVI Антикварного Салона была уже позади, так что для подведения промежуточных итогов участникам хватало уже как информации, так и впечатлений. Вопросы для наших собеседников подсказала сама жизнь:\n",
            "9 <class 'str'> Марина Молчанова. Галерея «Элизиум».\n",
            "9 <class 'str'> Мы отмечаем большой интерес к работам. В этот раз больше спрашивают цены. Если раньше было больше людей, которые просто ходили и смотрели, то сейчас интересуются именно ценами. У нас были продажи, и в целом салон прошел выше ожиданий.\n",
            "9 <class 'str'> Салон предыдущий и нынешний сравнивать не корректно. На прошлом салоне у нас были вещи экстра-класса, и стоили они дорого. На этом же салоне у нас представлены вещи тоже хорошие, но попроще, потому и стоят дешевле. Но однозначно ответить на вопрос, сместился ли сейчас спрос в сторону более доступных вещей, я не могу — для этого недостаточно информации.\n",
            "9 <class 'str'> Прогноз — весь этот год будут продажи. Их будет не много, но все же будут — интерес у людей есть.\n",
            "9 <class 'str'> Елена Судакова. «Галерея Г.О.С.Т.».\n",
            "9 <class 'str'> Салон еще не закончился, впереди — уикенд, но пока есть ощущение, что интерес ниже. На этом салоне мы успешно продаем книги, а продаж работ пока нет.\n",
            "9 <class 'str'> Нам кажется, что в будущем произойдет снижение цен. Проблема в том, что в это сложное время покупатели настроились покупать только по низким ценам, а продавцы на таких условиях расставаться с вещами не готовы. Так что есть противоречие: покупатели апеллируют к кризису, а продавцы этой позиции не принимают. Покупатели быстро перестроились, а продавцы живут еще в прошлом.\n",
            "9 <class 'str'> Как объяснить успехи зарубежных русских торгов? Мне кажется, что Christie’s и Sotheby’s в значительной степени превратились в мероприятия светские. Мы изнутри пока такого успеха не чувствуем. Хотя интересно, что сейчас, после периода дефицита начали появляться в продаже хорошие вещи. Правда, по докризисным ценам.\n",
            "9 <class 'str'> Михаил Суслов. «Петербургский Антиквар».\n",
            "9 <class 'str'> Для нас салон проходит выше ожиданий. Есть продажи. Вы не видите красных точек, потому что купленные вещи люди сразу забирают. Покупательская активность не выше, чем на прошлом салоне, но она есть. Люди идут с конкретикой, спрашивают о конкретных вещах. Покупатели хорошо разобрались в кризисной ситуации и хотят воспользоваться ею, спасти деньги и сделать выгодные вложения. Цены, по моим наблюдениям, снизились. По-разному: у кого-то вообще не снизились, а у кого-то процентов на двадцать. Это нормальная реакция. Если антиквары готовы вступать в диалог, то люди это чувствуют и принимают решения о покупках.\n",
            "9 <class 'str'> Прогноз на этот год — стагнирующая ситуация, без всплесков, но и без особых падений. Мы что-то подобное переживали в 1998 году. После 1998 года в течение года или полутора лет антикварный рынок стагнировал. Он не провалился, но замер, а потом пошел подъем. Но того, чего я больше всего опасался, не произошло: интерес есть. Если вы соответствуете спросу, то будут и покупки.\n",
            "9 <class 'str'> Ана Маричевич. Maricevic Fine Art & Antiques.\n",
            "9 <class 'str'> Салон для нас проходит выше ожиданий. Но это в том числе и потому, что и сами ожидания были не высокими. У нас уже есть продажи. Покупали не самые дорогие работы, но в среднем бюджетном сегменте (двадцать — тридцать тысяч долларов) продажи есть. Зная настроения наших постоянных покупателей, мы заранее, еще до Салона, сознательно снизили цены. На том уровне, который был в сентябре, мы сегодня держать их не можем. Нужно приспосабливаться — ситуация к тому обязывает.\n",
            "9 <class 'str'> Прогноз до конца года — дело неблагодарное. Но для себя я надеюсь, что в 2009-м кризис закончится и с 2010-го будет происходить восстановление с соответствующими последствиями для цен.\n",
            "9 <class 'str'> Татьяна Колованова. «Александр».\n",
            "9 <class 'str'> По моим оценкам, Салон проходит достаточно вяло. Связываю с тем, что тот клиент, который способен делать покупки, находится в состоянии выжидания. Пока у нас продаются небольшие вещи на подарки. Снижение цен мы провели лишь по отдельным позициям. Например, на тиражный фарфор. Но на определенные работы и имена снижение цен невозможно, потому что на мировом рынке они растут в цене. Можно сказать, что работами интересуются достаточно активно, но крупных продаж у нас пока не было.\n",
            "9 <class 'str'> Любовь Агафонова. «Веллум».\n",
            "9 <class 'str'> На салоне мы представляем тематическую экспозицию художника Анатолия Каплана. Задача была больше просветительская, чем коммерческая. И в этом смысле наши ожидания оправдались: о нас узнали, о Каплане писала пресса. С одной стороны, эта экспозиция — продолжение выставки в Русском музее. Но теперь мы показываем то, что можно купить. Нашей задачей было ввести Каплана в культурный оборот. Все-таки это достаточно редкий художник на рынке, хотя он хорошо представлен в музеях и частных коллекциях. Промежуточные итоги: есть несколько наметок, а продаж пока не было. Но люди спрашивают цены, интересуются Капланом.\n",
            "9 <class 'str'> Планы на оставшийся год — работать. Мы занимаемся проектами искусствоведческими, и если везет, то продаем. Пока все идет как идет — не сказала бы, что хуже, чем в прошлом году. В галерее у меня застоя нет. Что касается разговоров о снижении цен, то я думаю, что на первые имена снижения не будет.\n",
            "9 <class 'str'> Ильдар Галеев. «Галеев Галерея».\n",
            "9 <class 'str'> Для меня идеология в современных условиях приобретает большее значение, чем коммерческая составляющая. Сейчас продать вряд ли что удастся. Но в обстановке разреженного пространства, когда значительная часть прежних участников ушла с Салона, больше шансов зарекомендовать себя в научно-исследовательской сфере. Наш проект «Русские и Мюнхен» претендует на музейный уровень, он стал известен в музейных кругах, его оценили, и для меня это важно. Продаж пока нет, и не ожидалось. Более высокая активность покупателей, их желание спрашивать цены, возможно, вызвана «маркетинговыми исследованиями» — людям интересно представлять уровень цен работ, находящихся в их коллекциях. Зачастую проявляемый интерес приобретает курьезные формы. Называешь цену двести тысяч, а в ответ — даем сто. А эта сколько? Говорите: сорок — тогда даем двадцать. Письмо Кандинского стоит двадцать тысяч — нет, даем десять. Многим людям интересны игры — отсюда попытки протестировать возможность опускать цены вдвое-втрое. В таких условиях невозможно рассчитывать на серьезный результат.\n",
            "9 <class 'str'> Прогноз на оставшийся год: катастрофы не будет, и осенью на рынок вернется активность. Начало восстановления в октябре-ноябре, на мой взгляд, вполне реально. Инструментов для вложения средств, оказывается, не так уж много. Так что рынок искусства поднимется раньше других. А пока народ находится в состоянии stand-by. Все пытаются угадать, когда будет достигнуто дно. И как только это почувствуют, начнется просто «жор».\n",
            "9 <class 'str'> Кристина Краснянская. «Эритаж».\n",
            "9 <class 'str'> Многие люди, о которых я знаю, что они покупают, прицениваются, но говорят, что надо подождать до осени. К снижению цен я отношусь философски. Когда говорят «сделайте скидку», я отвечаю — сделайте предложение. Сколько бы ты ни сбросил, люди все равно будут ждать большего. Особенно на Салоне, так как у некоторых есть иллюзия, что к Салону галеристы намеренно поднимают цены, чтобы больше заработать.\n",
            "9 <class 'str'> Мне этот Салон понравился. Участников стало меньше, но при этом у многих высокий уровень оформления экспозиции и вменяемые цены. Мы сохранили цены. У нас в галерее проходит выставка Андрея Ланского, и я заметила, что по сравнению с теми ценами, что на Салоне, у нас в галерее процентов на двадцать ниже. Вообще, у нас цены на Ланского сейчас, можно сказать, такие же, как в Европе.\n",
            "9 <class 'str'> А прогноз такой: к концу года народ успокоится, поймет, что с кризисом придется жить какое-то время и нужно стараться диверсифицировать свои активы, рассматривая искусство как объект инвестирования. Это уже происходит. Замечено, что люди, которые раньше не сильно интересовались искусством, совершают покупки. Общий инвестиционный настрой подтверждают и русские торги Christie’s и Sotheby’s. Позитив происходящего в том, что сейчас появляется интересное предложение, которое можно купить пусть не задешево, но за вполне адекватные суммы. Еще этим летом работы высокого класса нельзя было найти ни за какие деньги, а сейчас это стало возможным.\n",
            "9 <class 'str'> P.S. Информация о XXVI Российском Антикварном Салоне (полезные ссылки):\n",
            "9 <class 'str'> Обсуждение и фоторепортаж с XXVI Российского Антикварного Салона Лучшие галереи XXVI Российского Антикварного Салона Топ-лист произведений искусства на XXVI Российском Антикварном Салоне по версии экспертов Топ-лист произведений XXVI Российского Антикварного Салона по версии участников Список участников XXVI Российского Антикварного Салона.\n",
            "\n"
          ]
        }
      ]
    },
    {
      "cell_type": "code",
      "source": [
        "#theartnewspaper_w_text - structure\n",
        "  #Свежий номер: ...\n",
        "\n",
        "#artuzel_news_articles_w_text - structure\n",
        "  #long_text\n",
        "  #Автор — …\n",
        "\n",
        "#artchive_news_articles_w_text - structure\n",
        "  #иллюстрации с сайта аукциона Sotheby’s.\n",
        "  #с сайта мероприятия.\n",
        "\n",
        "#artinvest_news_articles_w_text - structure\n",
        "  #… на форуме ARTinvestment.RU.\n",
        "  #форума ARTinvestment.RU.\n",
        "  #прогноз ARTinvestment.RU.\n"
      ],
      "metadata": {
        "id": "4zIdbHcTsh3a"
      },
      "execution_count": 125,
      "outputs": []
    },
    {
      "cell_type": "code",
      "source": [
        "for idx, structure in enumerate(sample_df['structure']):\n",
        "  print(idx, type(structure))\n",
        "  for el in structure:\n",
        "    print(idx, type(el), el)\n",
        "  print('')"
      ],
      "metadata": {
        "colab": {
          "base_uri": "https://localhost:8080/"
        },
        "id": "lptHY8KwgRG1",
        "outputId": "4e8bd91e-2906-4991-acce-004ec8ccc736"
      },
      "execution_count": 63,
      "outputs": [
        {
          "output_type": "stream",
          "name": "stdout",
          "text": [
            "0 <class 'list'>\n",
            "0 <class 'str'> Sotheby’s Russian Art 12 апреля и Christie’s Russian Art 13 апреля. Робкие прогнозы.\n",
            "0 <class 'str'> Гончаровой.\n",
            "0 <class 'str'> Ларионовым.\n",
            "0 <class 'str'> Исаак Левитан.\n",
            "0 <class 'str'> Юрий Пименов.\n",
            "0 <class 'str'> Сергея Судейкина.\n",
            "0 <class 'str'> Федота Сычкова.\n",
            "0 <class 'str'> Бориса Григорьева.\n",
            "0 <class 'str'> Дмитрия Плавинского.\n",
            "0 <class 'str'> Владимира Немухина.\n",
            "0 <class 'str'> Алексея Корзухина.\n",
            "0 <class 'str'> торгов BRIC 14–15 апреля.\n",
            "0 <class 'str'> 16 апреля пройдет Gene Shapiro.\n",
            "0 <class 'str'> Sale Russian Painters — Private Collection.\n",
            "0 <class 'str'> редчайшими.\n",
            "0 <class 'str'> вещами 1960–70-х годов.\n",
            "\n",
            "1 <class 'list'>\n",
            "1 <class 'str'> Рисунки Иосифа Бродского покажут в Санкт-Петербурге.\n",
            "1 <class 'str'> museum.ru.\n",
            "\n",
            "2 <class 'list'>\n",
            "2 <class 'str'> Аукцион «Фарфор и стекло» 5 октября 2013 в ВЕАД. Топ-лоты.\n",
            "\n",
            "3 <class 'list'>\n",
            "3 <class 'str'> Западный поп-арт встретился с русским соц-артом и китайским циничным реализмом на выставке в Саатчи.\n",
            "3 <class 'str'> Галерея.\n",
            "3 <class 'str'> Саатчи.\n",
            "3 <class 'str'> ,\n",
            "3 <class 'str'> ноября.\n",
            "3 <class 'str'> 2014 — 23.\n",
            "3 <class 'str'> февраля.\n",
            "3 <class 'str'> Великобритания:\n",
            "3 <class 'str'> США:\n",
            "3 <class 'str'> Китай:\n",
            "3 <class 'str'> АЕС+Ф.\n",
            "3 <class 'str'> Синие носы.\n",
            "3 <class 'str'> Гриша Брускин.\n",
            "3 <class 'str'> Эрик Булатов.\n",
            "3 <class 'str'> Римма и Валерий Герловины.\n",
            "3 <class 'str'> Илья Кабаков.\n",
            "3 <class 'str'> Комар и Меламид.\n",
            "3 <class 'str'> Александр Косолапов.\n",
            "3 <class 'str'> Анатолий Осмоловский.\n",
            "3 <class 'str'> Ирина Корина.\n",
            "3 <class 'str'> Владислав Мамышев-Монро.\n",
            "3 <class 'str'> Ирина Нахова.\n",
            "3 <class 'str'> Алексей Каллима.\n",
            "3 <class 'str'> Бывший СССР:\n",
            "3 <class 'str'> saatchigallery.com.\n",
            "3 <class 'str'> artinvestment.ru.\n",
            "\n",
            "4 <class 'list'>\n",
            "4 <class 'str'> Русскому музею не дали вывезти картины в Швецию из-за дела ЮКОСа.\n",
            "4 <class 'str'> РБК.\n",
            "4 <class 'str'> Марка Шагала.\n",
            "4 <class 'str'> top.rbc.ru.\n",
            "\n",
            "5 <class 'list'>\n",
            "5 <class 'str'> Визит Михаила Пиотровского в Нью-Йорк. Подробности.\n",
            "5 <class 'str'> bloomberg.com.\n",
            "5 <class 'str'> artinvestment.ru.\n",
            "\n",
            "6 <class 'list'>\n",
            "6 <class 'str'> ИЗО на телеканале «Россия К» («Культура»).\n",
            "6 <class 'str'> 9 марта, среда.\n",
            "6 <class 'str'> 10:40 — художественный фильм «Всегда со мною...».\n",
            "6 <class 'str'> 13:10 — документальный фильм из цикла «Легенды Царского Села».\n",
            "6 <class 'str'> 10 марта, четверг.\n",
            "6 <class 'str'> 13:10.\n",
            "6 <class 'str'> документальный фильм из цикла «Третьяковка — дар бесценный!».\n",
            "6 <class 'str'> В. Л. Боровиковского.\n",
            "6 <class 'str'> В. И. Сурикова.\n",
            "6 <class 'str'> В. Г. Перова.\n",
            "6 <class 'str'> И. Е. Репина.\n",
            "6 <class 'str'> В. А. Серова.\n",
            "6 <class 'str'> К. Д. Флавицкого.\n",
            "6 <class 'str'> «История в лицах и судьбах...».\n",
            "6 <class 'str'> 11 марта, пятница.\n",
            "6 <class 'str'> 15:00.\n",
            "6 <class 'str'> документальный фильм «Цвет времени».\n",
            "6 <class 'str'> 18:35.\n",
            "6 <class 'str'> документальный фильм из цикла «Дворцы Европы».\n",
            "6 <class 'str'> Кристиан IV, возлюбленный Копенгагена.\n",
            "6 <class 'str'> 22:35.\n",
            "6 <class 'str'> ток-шоу «Линия жизни». Павел Каплевич.\n",
            "6 <class 'str'> tvkultura.ru.\n",
            "\n",
            "7 <class 'list'>\n",
            "7 <class 'str'> Ватикан шантажирует человек, укравший в 1997 году два письма Микеланджело.\n",
            "7 <class 'str'> artnet.com.\n",
            "7 <class 'str'> artinvestment.ru.\n",
            "\n",
            "8 <class 'list'>\n",
            "8 <class 'str'> Арт-дилеры Великобритании смогут проверять информацию о потенциальном покупателе через приложение.\n",
            "8 <class 'str'> news.artnet.com.\n",
            "\n",
            "9 <class 'list'>\n",
            "9 <class 'str'> XXVI Российский Антикварный Салон: итоги и прогнозы.\n",
            "9 <class 'str'> Анатолия Каплана.\n",
            "9 <class 'str'> Алексея Явленского.\n",
            "9 <class 'str'> Василия Кандинского.\n",
            "9 <class 'str'> Владимиру Бехтееву.\n",
            "9 <class 'str'> форуме ARTinvestment.RU.\n",
            "9 <class 'str'> «Галеев Галереи».\n",
            "9 <class 'str'> Пименовым.\n",
            "9 <class 'str'> Лабасом.\n",
            "9 <class 'str'> Наталии Гончаровой.\n",
            "9 <class 'str'> «Элизиум».\n",
            "9 <class 'str'> Георгия Пожедаева.\n",
            "9 <class 'str'> «Эритаж».\n",
            "9 <class 'str'> Александра Древина.\n",
            "9 <class 'str'> Ольги Делла-Вос-Кардовской.\n",
            "9 <class 'str'> SCHATZ’I.\n",
            "9 <class 'str'> о.\n",
            "9 <class 'str'> «Элизиум».\n",
            "9 <class 'str'> Марина Молчанова. Галерея «Элизиум».\n",
            "9 <class 'str'> «Галерея Г.О.С.Т.».\n",
            "9 <class 'str'> Елена Судакова. «Галерея Г.О.С.Т.».\n",
            "9 <class 'str'> Михаил Суслов. «Петербургский Антиквар».\n",
            "9 <class 'str'> Ана Маричевич. Maricevic Fine Art & Antiques.\n",
            "9 <class 'str'> Татьяна Колованова. «Александр».\n",
            "9 <class 'str'> Любовь Агафонова. «Веллум».\n",
            "9 <class 'str'> Ильдар Галеев. «Галеев Галерея».\n",
            "9 <class 'str'> Кристина Краснянская. «Эритаж».\n",
            "9 <class 'str'> Андрея Ланского.\n",
            "9 <class 'str'> P.S. Информация о XXVI Российском Антикварном Салоне (полезные ссылки):\n",
            "9 <class 'str'> Обсуждение и фоторепортаж с XXVI Российского Антикварного Салона.\n",
            "9 <class 'str'> Лучшие галереи XXVI Российского Антикварного Салона.\n",
            "9 <class 'str'> Топ-лист произведений искусства на XXVI Российском Антикварном Салоне по версии экспертов.\n",
            "9 <class 'str'> Топ-лист произведений XXVI Российского Антикварного Салона по версии участников.\n",
            "9 <class 'str'> Список участников XXVI Российского Антикварного Салона.\n",
            "9 <class 'str'> artinvestment.ru.\n",
            "\n"
          ]
        }
      ]
    },
    {
      "cell_type": "code",
      "source": [
        "#theartnewspaper_w_text - title\n",
        "  #Свежий номер: ...\n",
        "\n",
        "#artuzel_news_articles_w_text - title"
      ],
      "metadata": {
        "id": "_chFlz_mvv9T"
      },
      "execution_count": null,
      "outputs": []
    },
    {
      "cell_type": "code",
      "source": [
        "for idx, title in enumerate(sample_df['title']):\n",
        "  print(idx, type(title), title)"
      ],
      "metadata": {
        "colab": {
          "base_uri": "https://localhost:8080/"
        },
        "id": "tCTM8jAAzbbJ",
        "outputId": "c4fe16bd-0e4b-4c84-90f1-88113a9b541f"
      },
      "execution_count": 64,
      "outputs": [
        {
          "output_type": "stream",
          "name": "stdout",
          "text": [
            "0 <class 'str'> Sotheby’s Russian Art 12 апреля и Christie’s Russian Art 13 апреля. Робкие прогнозы\n",
            "1 <class 'str'> Рисунки Иосифа Бродского покажут в Санкт-Петербурге\n",
            "2 <class 'str'> Аукцион «Фарфор и стекло» 5 октября 2013 в ВЕАД. Топ-лоты\n",
            "3 <class 'str'> Западный поп-арт встретился с русским соц-артом и китайским циничным реализмом на выставке в Саатчи\n",
            "4 <class 'str'> Русскому музею не дали вывезти картины в Швецию из-за дела ЮКОСа\n",
            "5 <class 'str'> Визит Михаила Пиотровского в Нью-Йорк. Подробности\n",
            "6 <class 'str'> ИЗО на телеканале «Россия К» («Культура»)\n",
            "7 <class 'str'> Ватикан шантажирует человек, укравший в 1997 году два письма Микеланджело\n",
            "8 <class 'str'> Арт-дилеры Великобритании смогут проверять информацию о потенциальном покупателе через приложение\n",
            "9 <class 'str'> XXVI Российский Антикварный Салон: итоги и прогнозы\n"
          ]
        }
      ]
    },
    {
      "cell_type": "code",
      "source": [
        "#theartnewspaper_w_text - short_text\n",
        "  #В продаже появилась новая (??) The Art Newspaper Russia. ...\n",
        "\n",
        "#artuzel_news_articles_w_text - short_text"
      ],
      "metadata": {
        "id": "ieb_n2yDv94t"
      },
      "execution_count": 45,
      "outputs": []
    },
    {
      "cell_type": "code",
      "source": [
        "for idx, short_text in enumerate(sample_df['short_text']):\n",
        "  print(idx, type(short_text), short_text)\n",
        "# «» '' \"\" “” „“"
      ],
      "metadata": {
        "colab": {
          "base_uri": "https://localhost:8080/"
        },
        "id": "ihvBThknzlH9",
        "outputId": "91d7b377-4154-424d-a215-3b3c1d938d68"
      },
      "execution_count": 65,
      "outputs": [
        {
          "output_type": "stream",
          "name": "stdout",
          "text": [
            "0 <class 'str'> Каталоги отдельных русских торгов больших домов становятся все неинтереснее. Доля живописи и графики в них падает в пользу декоративно-прикладного искусства. А по классу начинают доминировать вещи национального, но далеко не международного значения\n",
            "1 <class 'str'> В Российской национальной библиотеке (Санкт-Петербург, Садовая, 18) в рамках «Года Иосифа Бродского в России» открывается уникальная выставка «Песочные часы»: рисунки Иосифа Бродского (к 70-летию со дня рождения поэта)\n",
            "2 <class 'str'> Суммарный эстимейт аукциона в Восточно-Европейском Антикварном Доме — более 2 миллионов евро\n",
            "3 <class 'str'> Выставка «Пост-поп: Восток встречает Запад», которая открылась на днях в лондонской галерее Саатчи, исследует феномен популярного искусства, охвативший в ХХ веке практически весь мир — от Америки до Азии\n",
            "4 <class 'str'> Министерство культуры опасается, что на культурные ценности может быть наложен арест. Картины Шагала и других авангардистов должны были участвовать во временной выставке в Стокгольме\n",
            "5 <class 'str'> Эрмитаж собирает деньги на проекты, связанные с современным искусством\n",
            "6 <class 'str'> ARTinvestment.RU представляет документальные фильмы и передачи об изобразительном искусстве, которые можно будет посмотреть на телеканале «Россия К» («Культура») на следующей неделе\n",
            "7 <class 'str'> Анонимный шантажист потребовал выкуп в размере 100 тысяч евро за возвращение двух автографов Микеланджело, похищенных из библиотеки Ватикана в 1997 году\n",
            "8 <class 'str'> Приложение Art AML призвано облегчить и ускорить оформление сделки в условиях новых ограничений в рамках закона по борьбе с отмыванием денег\n",
            "9 <class 'str'> Салон завершен. Участники согласны в том, что праздных зрителей в этом году было меньше, интересующихся «ценой вопроса» — больше, однако выводы из сложившейся ситуации галеристы делают разные\n"
          ]
        }
      ]
    },
    {
      "cell_type": "code",
      "source": [
        "#for idx, tags in enumerate(sample_df['tags']):\n",
        "#  print(idx, type(tags), tags)"
      ],
      "metadata": {
        "id": "_IdasDSS1k5F"
      },
      "execution_count": null,
      "outputs": []
    },
    {
      "cell_type": "code",
      "source": [
        "#for idx, sourses in enumerate(sample_df['sourses']):\n",
        "#  print(idx, type(sourses), sourses)"
      ],
      "metadata": {
        "id": "yN-oviEP4DE-"
      },
      "execution_count": 21,
      "outputs": []
    },
    {
      "cell_type": "code",
      "source": [
        ""
      ],
      "metadata": {
        "id": "QEkbjl8IzJ2P"
      },
      "execution_count": null,
      "outputs": []
    }
  ]
}