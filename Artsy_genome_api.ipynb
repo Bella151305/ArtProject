{
  "cells": [
    {
      "cell_type": "markdown",
      "metadata": {
        "id": "tgPcokInD1We"
      },
      "source": [
        "# Library"
      ]
    },
    {
      "cell_type": "code",
      "execution_count": 2,
      "metadata": {
        "id": "T1ngM_lUDOOI"
      },
      "outputs": [],
      "source": [
        "import logging\n",
        "import requests\n",
        "from bs4 import BeautifulSoup\n",
        "from urllib.error import HTTPError\n",
        "\n",
        "import http.client as httplib  # or http.client if you're on Python 3 # httplib\n",
        "httplib._MAXHEADERS = 10000\n",
        "# ChunkedEncodingError\n",
        "\n",
        "import time\n",
        "import datetime\n",
        "from datetime import datetime, timedelta\n",
        "\n",
        "import re\n",
        "\n",
        "import json\n",
        "\n",
        "import warnings\n",
        "warnings.simplefilter(action='ignore')\n",
        "\n",
        "import pandas as pd\n",
        "import numpy as np\n",
        "import sys\n",
        "\n",
        "import random \n",
        "from random import sample"
      ]
    },
    {
      "cell_type": "code",
      "execution_count": 3,
      "metadata": {
        "id": "IwtF3gKBj6NL"
      },
      "outputs": [],
      "source": [
        "# pathes\n",
        "art_project_path = '/content/drive/MyDrive/Art/Art_Project'\n",
        "art_project_path_backups = '/content/drive/MyDrive/Art/Art_Project/parsing_backups'\n",
        "art_project_path_tests = '/content/drive/MyDrive/Art/Art_Project/parsing_tests'\n",
        "\n",
        "url_add = 'https://www.artsy.net'\n",
        "\n",
        "# files\n",
        "cat_dict = '/artsy_genom_cat_dict.txt'\n",
        "gen_dict = '/artsy_genom_gen_dict.txt'\n",
        "artwork_dict = '/artsy_genom_artwork_dict.txt'\n",
        "artist_dict = '/artsy_genom_artist_dict.txt'\n",
        "temp_data = '/artsy_temp_data.csv'\n",
        "temp_data_add_up = '/artsy_temp_data_add_up.csv'\n",
        "\n",
        "# id length\n",
        "cat_id_len = 2\n",
        "gen_id_len = 5\n",
        "artist_id_len = 5\n",
        "\n",
        "# for addition and updating\n",
        "recently_added_pref = '?sort=-published_at'\n",
        "recently_updated_pref = '?sort=-partner_updated_at'"
      ]
    },
    {
      "cell_type": "markdown",
      "metadata": {
        "id": "fXS9WF4KEG4A"
      },
      "source": [
        "# Functions"
      ]
    },
    {
      "cell_type": "markdown",
      "metadata": {
        "id": "EXSzYWND7OGV"
      },
      "source": [
        "## Openings and savings"
      ]
    },
    {
      "cell_type": "code",
      "execution_count": 4,
      "metadata": {
        "id": "NvuSX_g-jl4K"
      },
      "outputs": [],
      "source": [
        "# 1. Save json dict\n",
        "def save_dict(tree_dict, file, folder):\n",
        "  if folder=='live':\n",
        "    with open(art_project_path + file, 'w') as outfile:\n",
        "      json.dump(tree_dict, outfile)\n",
        "  elif folder=='backup':\n",
        "    with open(art_project_path_backups + file, 'w') as outfile:\n",
        "      json.dump(tree_dict, outfile)\n",
        "\n",
        "# 2. Open json dict\n",
        "def open_dict(file, folder):\n",
        "  if folder=='live':\n",
        "    with open(art_project_path + file, 'rb') as infile:\n",
        "      tree_dict = json.load(infile)\n",
        "  elif folder=='backup':\n",
        "    with open(art_project_path_backups + file, 'rb') as infile:\n",
        "      tree_dict = json.load(infile)\n",
        "  return tree_dict\n",
        "\n",
        "# 3. Open file.csv\n",
        "def open_file_csv(file, folder): # folder: live, backup or test\n",
        "  if folder=='live':\n",
        "    df = pd.read_csv(art_project_path + file)\n",
        "  elif folder=='backup':\n",
        "    df = pd.read_csv(art_project_path_backups + file)\n",
        "  elif folder=='test':\n",
        "    df = pd.read_csv(art_project_path_tests + file)\n",
        "  return df\n",
        "\n",
        "# 4. Save df to csv file\n",
        "def save_df_file(df, file, folder): # folder: live, backup or test\n",
        "  if folder=='live':\n",
        "    df.to_csv(art_project_path + file, index=False)\n",
        "  elif folder=='backup':\n",
        "    df.to_csv(art_project_path_backups + file, index=False)\n",
        "  elif folder=='test':\n",
        "    df.to_csv(art_project_path_tests + file, index=False)\n"
      ]
    },
    {
      "cell_type": "markdown",
      "metadata": {
        "id": "2wDrr6ButRDY"
      },
      "source": [
        "## Parsing"
      ]
    },
    {
      "cell_type": "markdown",
      "metadata": {
        "id": "a_hxEAdLtm7G"
      },
      "source": [
        "### get_page"
      ]
    },
    {
      "cell_type": "code",
      "execution_count": 5,
      "metadata": {
        "id": "G6ie3U0btbx1"
      },
      "outputs": [],
      "source": [
        "# 5. get_page\n",
        "logging.basicConfig(level=logging.DEBUG, format=\"%(message)s\")\n",
        "\n",
        "def get_page(url, session):\n",
        "  #response = requests.get(url, headers={'User-Agent': 'Chrome/97.0.4692.71'})\n",
        "  try:\n",
        "    response = session.get(url, headers={'User-Agent': 'Chrome/97.0.4692.71'})\n",
        "  except: # requests.exceptions.ChunkedEncodingError:\n",
        "    time.sleep(0.5)\n",
        "    session = requests.Session()\n",
        "    response = session.get(url, headers={'User-Agent': 'Chrome/97.0.4692.71'})\n",
        "\n",
        "  try:\n",
        "    response.raise_for_status()\n",
        "  except requests.exceptions.HTTPError: # for correction\n",
        "    sys.exit(print('HTTPError: ' + str(url)))\n",
        "\n",
        "  bs_page = BeautifulSoup(response.text, 'html.parser')\n",
        "  return bs_page"
      ]
    },
    {
      "cell_type": "markdown",
      "metadata": {
        "id": "dedjmUVTtqCj"
      },
      "source": [
        "### get next pages links list"
      ]
    },
    {
      "cell_type": "code",
      "execution_count": 6,
      "metadata": {
        "id": "hn2MJztjtfDH"
      },
      "outputs": [],
      "source": [
        "# 6. get next pages links list\n",
        "def get_next_page_list(url, page):\n",
        "  try:\n",
        "    last_page_data = page.find('main').find_all('nav', class_='Box-sc-15se88d-0 Text-sc-18gcpao-0 ibHUpM gzwvJD')[0].find_all('a')[-2]\n",
        "    last_page = last_page_data.get_text()\n",
        "    page_link = last_page_data.get('href')[:-len(last_page)]\n",
        "    next_page_link_list_new = [url + page_link + str(p) for p in range(2, int(last_page)+1)]\n",
        "  except:\n",
        "    next_page_link_list_new = []\n",
        "\n",
        "  return next_page_link_list_new\n",
        "\n",
        "# 6.1 get next pages links list\n",
        "def get_next_page_list_add_up(url, page):\n",
        "  try:\n",
        "    last_page_data = page.find('main').find_all('nav', class_='Box-sc-15se88d-0 Text-sc-18gcpao-0 ibHUpM gzwvJD')[0].find_all('a')[-2]\n",
        "    last_page = last_page_data.get_text()\n",
        "    last_page_link = last_page_data.get('href')\n",
        "    next_page_link_list_new = [url + last_page_link.split('&')[0][:-len(last_page)] + str(p) + '&' + last_page_link.split('&')[1] for p in range(2, int(last_page)+1)]\n",
        "  except:\n",
        "    next_page_link_list_new = []\n",
        "\n",
        "  return next_page_link_list_new"
      ]
    },
    {
      "cell_type": "code",
      "source": [
        "# https://www.artsy.net/gene/inlay\n",
        "# https://www.artsy.net/gene/inlay?page=2\n",
        "# https://www.artsy.net/gene/inlay?sort=-published_at\n",
        "# https://www.artsy.net/gene/inlay?page=2&sort=-published_at"
      ],
      "metadata": {
        "id": "A7dX2kHASqRN"
      },
      "execution_count": 7,
      "outputs": []
    },
    {
      "cell_type": "markdown",
      "metadata": {
        "id": "mmKRuBU4ts7Z"
      },
      "source": [
        "### get data from pages"
      ]
    },
    {
      "cell_type": "code",
      "execution_count": 8,
      "metadata": {
        "id": "ZEIoSftftVfS"
      },
      "outputs": [],
      "source": [
        "# 7. get data from pages\n",
        "def get_page_data(page):\n",
        "  code_block = page.find('main').find_all('div', class_='ArtworkGrid-sc-1jsqquq-0 djwrUe')\n",
        "  try:\n",
        "    object_block = code_block[0].find_all('div', relay='[object Object]')\n",
        "  \n",
        "    # for the beggining into a DataFrame\n",
        "    artsy_id_list = [obj.get('data-id') for obj in object_block]\n",
        "    imgage_list = [obj.find_all('a')[0].find('img').get('src') for obj in object_block]\n",
        "    artist_list = [obj.find_all('a')[1].find_all('div')[0].get_text() for obj in object_block]\n",
        "  \n",
        "    gallery_list = []\n",
        "    for obj in object_block:\n",
        "      try:\n",
        "        gallery_list.append(obj.find_all('a')[1].find('div', class_='Box-sc-15se88d-0 Text-sc-18gcpao-0 caIGcn hENCPo').get_text())\n",
        "      except:\n",
        "        gallery_list.append(np.nan)\n",
        "  \n",
        "    price_list = []\n",
        "    for obj in object_block:\n",
        "      try:\n",
        "        price_list.append(obj.find_all('a')[1].find('div', class_='Box-sc-15se88d-0 Text-sc-18gcpao-0 eXbAnU jkuGdd').get_text())\n",
        "      except:\n",
        "        price_list.append(np.nan)\n",
        "  \n",
        "    # can be no year info !!!\n",
        "    name_list = []\n",
        "    year_list = []\n",
        "    for obj in object_block:\n",
        "      text = obj.find_all('a')[1].find('div', class_='Box-sc-15se88d-0 Text-sc-18gcpao-0 caIGcn kySEpG').get_text()\n",
        "      name = obj.find_all('a')[1].find('div', class_='Box-sc-15se88d-0 Text-sc-18gcpao-0 caIGcn kySEpG').find('i').get_text()\n",
        "      year = text.replace(name, '').replace(', ', '')\n",
        "      if len(year)==0:\n",
        "        year = np.nan\n",
        "      name_list.append(name)\n",
        "      year_list.append(year)\n",
        "\n",
        "    df_data_new = pd.DataFrame({'artsy_id': artsy_id_list,\n",
        "                                'name': name_list, \n",
        "                                'link': imgage_list, \n",
        "                                'year': year_list,\n",
        "                                'artist': artist_list,\n",
        "                                'gallery': gallery_list,\n",
        "                                'price': price_list\n",
        "                                })\n",
        "  except:\n",
        "    df_data_new = pd.DataFrame({'artsy_id': np.nan,\n",
        "                                'name': np.nan, \n",
        "                                'link': np.nan, \n",
        "                                'year': np.nan,\n",
        "                                'artist': np.nan,\n",
        "                                'gallery': np.nan,\n",
        "                                'price': np.nan\n",
        "                                }, index=[0])\n",
        "  \n",
        "  return df_data_new"
      ]
    },
    {
      "cell_type": "markdown",
      "metadata": {
        "id": "hJ8DW26UuEs_"
      },
      "source": [
        "### get category data into df - aggregator"
      ]
    },
    {
      "cell_type": "code",
      "execution_count": 9,
      "metadata": {
        "id": "LZPhJlWNuBZp"
      },
      "outputs": [],
      "source": [
        "# Function aggregator\n",
        "# 8. Get the all category data into DataFrame\n",
        "def get_df_data(df_input, genes_links_list, genes_ids_list, cat):\n",
        "  start_time = time.time()\n",
        "  print(datetime.now().time())\n",
        "  df_output = df_input.copy()\n",
        "  df_output = df_output[0:0]\n",
        "\n",
        "  for link in genes_links_list:\n",
        "    session = requests.Session()\n",
        "    total_link = url_add + link\n",
        "    print('Parsing of gene', genes_ids_list[genes_links_list.index(link)], total_link, 'has started')\n",
        "    # 5. get_page\n",
        "    gene_page = get_page(total_link, session)\n",
        "    #           get_page(url, session) -> \n",
        "    # -> bs_page\n",
        "    \n",
        "    # 6. get next pages links list\n",
        "    next_page_link_list = get_next_page_list(url_add, gene_page)\n",
        "    #                     get_next_page_list(url, page) -> \n",
        "    # -> next_page_link_list_new\n",
        "    print(len(next_page_link_list)+1, 'pages for parsing')\n",
        "\n",
        "    # 7. get data from pages\n",
        "    df_data = get_page_data(gene_page)\n",
        "    #         get_page_data(page) -> \n",
        "    # -> df_data_new\n",
        "    df_data['gene_id'] = genes_ids_list[genes_links_list.index(link)]\n",
        "    df_data['category_id'] = cat\n",
        "    df_data['parsing_date'] = datetime.now().date().strftime('%Y-%m-%d')\n",
        "    df_data['updating_date'] = datetime.now().date().strftime('%Y-%m-%d')\n",
        "\n",
        "    df_output = pd.concat([df_output, df_data])\n",
        "\n",
        "    # Get data from next pages\n",
        "    if len(next_page_link_list) > 0:\n",
        "      for page_link in next_page_link_list:\n",
        "        # 5. get_page\n",
        "        gene_page = get_page(page_link, session)\n",
        "        #           get_page(url, session) -> \n",
        "        # -> bs_page\n",
        "\n",
        "        # 7. get data from pages\n",
        "        df_data = get_page_data(gene_page)\n",
        "        #         get_page_data(page) -> \n",
        "        # -> df_data_new\n",
        "        df_data['gene_id'] = genes_ids_list[genes_links_list.index(link)]\n",
        "        df_data['category_id'] = cat\n",
        "        df_data['parsing_date'] = datetime.now().date().strftime('%Y-%m-%d')\n",
        "        df_data['updating_date'] = datetime.now().date().strftime('%Y-%m-%d')\n",
        "\n",
        "        df_output = pd.concat([df_output, df_data])\n",
        "      \n",
        "    print('Parsing of gene', genes_ids_list[genes_links_list.index(link)], total_link, 'has finished')\n",
        "    print((time.time() - start_time), 'seconds have passed')\n",
        "    print(datetime.now().time())\n",
        "    print('')\n",
        "    time.sleep(0.5)\n",
        "\n",
        "  return df_output"
      ]
    },
    {
      "cell_type": "code",
      "execution_count": 10,
      "metadata": {
        "id": "o90bUIpx-BtS"
      },
      "outputs": [],
      "source": [
        "# Function aggregator\n",
        "# 8.1 Get the first pages category data into DataFrame\n",
        "def get_df_data_add_up(df_input, genes_links_list, genes_ids_list, genes_cat_list): # cat !!!!!!!!\n",
        "  start_time = time.time()\n",
        "  print(datetime.now().time())\n",
        "  df_output = df_input.copy()\n",
        "  #df_output['pages_count'] = np.nan # only for the first time !!!!\n",
        "  #df_output['second_page_link'] = np.nan # only for the first time !!!!\n",
        "  df_output = df_output[0:0]\n",
        "\n",
        "  session = requests.Session()\n",
        "  l_c = 0\n",
        "  for link in genes_links_list:\n",
        "    #session = requests.Session()\n",
        "    total_link = url_add + link\n",
        "    print('Parsing of gene', genes_ids_list[genes_links_list.index(link)], total_link, 'has started')\n",
        "    # 5. get_page\n",
        "    gene_page = get_page(total_link, session)\n",
        "    #           get_page(url, session) -> \n",
        "    # -> bs_page\n",
        "    \n",
        "    # 6.1 get next pages links list\n",
        "    next_page_link_list = get_next_page_list_add_up(url_add, gene_page)\n",
        "    #                     get_next_page_list_add_up(url, page) -> \n",
        "    # -> next_page_link_list_new\n",
        "    print(len(next_page_link_list)+1, 'pages for parsing')\n",
        "\n",
        "    # 7. get data from pages\n",
        "    df_data = get_page_data(gene_page)\n",
        "    #         get_page_data(page) -> \n",
        "    # -> df_data_new\n",
        "    df_data['gene_id'] = genes_ids_list[genes_links_list.index(link)]\n",
        "    df_data['category_id'] = genes_cat_list[genes_links_list.index(link)] # cat !!!!!!!!!\n",
        "    df_data['parsing_date'] = datetime.now().date().strftime('%Y-%m-%d')\n",
        "    df_data['updating_date'] = datetime.now().date().strftime('%Y-%m-%d')\n",
        "    df_data['pages_count'] = len(next_page_link_list)+1\n",
        "    if len(next_page_link_list) > 0:\n",
        "      df_data['second_page_link'] = next_page_link_list[0]\n",
        "    else:\n",
        "      df_data['second_page_link'] = np.nan\n",
        "\n",
        "    df_output = pd.concat([df_output, df_data])\n",
        "      \n",
        "    print('Parsing of gene', genes_ids_list[genes_links_list.index(link)], total_link, 'has finished')\n",
        "    print((time.time() - start_time), 'seconds have passed')\n",
        "    print(datetime.now().time())\n",
        "    print('')\n",
        "    time.sleep(0.5)\n",
        "    l_c += 1\n",
        "    if l_c == 10:\n",
        "      session = requests.Session()\n",
        "      l_c = 0\n",
        "\n",
        "  return df_output"
      ]
    },
    {
      "cell_type": "markdown",
      "metadata": {
        "id": "ysydU0bctwHa"
      },
      "source": [
        "### correct image link"
      ]
    },
    {
      "cell_type": "code",
      "execution_count": 11,
      "metadata": {
        "id": "vRxr-3Ynti87"
      },
      "outputs": [],
      "source": [
        "# 9. correct image link\n",
        "def img_link_corr(img):\n",
        "  parts = img.split('.jpg')[0].replace('?', '/').replace('%2F', '/').split('/')\n",
        "  img_new = parts[0] + '//' + parts[5] + '/' + parts[6] + '/' + parts[7]  + '.jpg'\n",
        "  return img_new"
      ]
    },
    {
      "cell_type": "markdown",
      "metadata": {
        "id": "EIMfFZTJv9Fs"
      },
      "source": [
        "### filtering"
      ]
    },
    {
      "cell_type": "code",
      "execution_count": 12,
      "metadata": {
        "id": "b89bkTcxv7bk"
      },
      "outputs": [],
      "source": [
        "# 10. Filtering\n",
        "def get_cat_id(cat):\n",
        "  return cat\n",
        "\n",
        "def gene_links_samples(gen_key):\n",
        "  cat_id = get_cat_id(cat)\n",
        "  return genes_dict[gen_key]['category_id'] == cat_id"
      ]
    },
    {
      "cell_type": "markdown",
      "metadata": {
        "id": "3uYpPtclNOAi"
      },
      "source": [
        "# Gens dict"
      ]
    },
    {
      "cell_type": "code",
      "execution_count": 161,
      "metadata": {
        "id": "tf33GQTNESnB"
      },
      "outputs": [],
      "source": [
        "url = 'https://www.artsy.net/categories'"
      ]
    },
    {
      "cell_type": "code",
      "execution_count": 162,
      "metadata": {
        "colab": {
          "base_uri": "https://localhost:8080/",
          "height": 72
        },
        "id": "enUq0vwdEChn",
        "outputId": "90609c05-c817-47d5-80b8-2b01b5a7d32c"
      },
      "outputs": [
        {
          "output_type": "stream",
          "name": "stderr",
          "text": [
            "Starting new HTTPS connection (1): www.artsy.net:443\n",
            "https://www.artsy.net:443 \"GET /categories HTTP/1.1\" 200 None\n"
          ]
        },
        {
          "output_type": "execute_result",
          "data": {
            "text/plain": [
              "'Artsy — Discover, Buy, and Sell Fine Art'"
            ],
            "application/vnd.google.colaboratory.intrinsic+json": {
              "type": "string"
            }
          },
          "metadata": {},
          "execution_count": 162
        }
      ],
      "source": [
        "response = requests.get(url, headers={'User-Agent': 'Chrome/97.0.4692.71'})\n",
        "genome_page = BeautifulSoup(response.text, 'html.parser')\n",
        "genome_page.title.string"
      ]
    },
    {
      "cell_type": "markdown",
      "metadata": {
        "id": "znvj69nSy9lf"
      },
      "source": [
        "## categories_dict"
      ]
    },
    {
      "cell_type": "code",
      "execution_count": null,
      "metadata": {
        "colab": {
          "base_uri": "https://localhost:8080/"
        },
        "id": "bGokS7wPwz38",
        "outputId": "f5ea81f7-25c3-4cc4-b655-7466fe55ebca"
      },
      "outputs": [
        {
          "name": "stdout",
          "output_type": "stream",
          "text": [
            "Confirm the categories_dict re/seting (y/n)y\n",
            "categories_dict has been re/set 2022-03-30 06:01\n",
            "dictionary's length is - 0\n"
          ]
        }
      ],
      "source": [
        "# !!!!! For the first time !!!!!\n",
        "confirmation = input('Confirm the categories_dict re/seting (y/n)')\n",
        "if confirmation == 'y':\n",
        "  categories_dict = {}\n",
        "  print('categories_dict has been re/set {}'.format(datetime.now().strftime('%Y-%m-%d %H:%M')))\n",
        "  print(\"dictionary's length is - {}\".format(len(categories_dict)))\n",
        "else:\n",
        "  print('nothing has happened')"
      ]
    },
    {
      "cell_type": "code",
      "execution_count": 163,
      "metadata": {
        "colab": {
          "base_uri": "https://localhost:8080/"
        },
        "id": "lVhwgRuzx903",
        "outputId": "833693e7-61a0-4270-b3a0-7f0bc7f3cd90"
      },
      "outputs": [
        {
          "output_type": "stream",
          "name": "stdout",
          "text": [
            "Confirm the categories_dict opening (y/n)y\n",
            "categories_dict has been opened 2022-04-20 07:10\n",
            "dictionary's length is - 16\n"
          ]
        }
      ],
      "source": [
        "# !!!!! All next times !!!!!\n",
        "confirmation = input('Confirm the categories_dict opening (y/n)')\n",
        "if confirmation == 'y':\n",
        "  categories_dict = open_dict(cat_dict, 'live') # 2. Open json dict\n",
        "  print('categories_dict has been opened {}'.format(datetime.now().strftime('%Y-%m-%d %H:%M')))\n",
        "  print(\"dictionary's length is - {}\".format(len(categories_dict)))\n",
        "else:\n",
        "  print('nothing has happened')"
      ]
    },
    {
      "cell_type": "code",
      "execution_count": 164,
      "metadata": {
        "id": "MUtf4Api5FG9",
        "colab": {
          "base_uri": "https://localhost:8080/"
        },
        "outputId": "38775ced-bd20-4803-dd7b-de4579b49f01"
      },
      "outputs": [
        {
          "output_type": "execute_result",
          "data": {
            "text/plain": [
              "{'genes_id': ['01001', '01002', '01003', '01004', '01005', '01006', '01007'],\n",
              " 'id': '01',\n",
              " 'link': 'jump--artistic-disciplines',\n",
              " 'name': 'Artistic Disciplines',\n",
              " 'parsing_date': '2022-03-30',\n",
              " 'updating_date': '2022-03-30'}"
            ]
          },
          "metadata": {},
          "execution_count": 164
        }
      ],
      "source": [
        "categories_dict['artistic_disciplines']"
      ]
    },
    {
      "cell_type": "code",
      "execution_count": 165,
      "metadata": {
        "id": "cLtk03r2WvSV"
      },
      "outputs": [],
      "source": [
        "categories_block = genome_page.find('div', class_='sticky-inner-wrapper').find_all('div', class_='Box-sc-15se88d-0 Flex-cw39ct-0 elJsUD')\n",
        "\n",
        "#categories_dict = {'artistic_disciplines': {'id': '02', 'name': 'Artistic Disciplines', 'link': 'jump--artistic-disciplines'}}\n",
        "id = len(categories_dict) + 1\n",
        "for cat in categories_block:\n",
        "  key = cat.find('a').get('href').replace('#jump--', '').replace('-', '_')\n",
        "  if key not in categories_dict.keys():\n",
        "    categories_dict.update({key: {'id': str(id) if len(str(id))>1 else '0'+str(id), 'name': cat.get_text(), 'link': cat.find('a').get('href').replace('#', ''), 'genes_id': [], 'parsing_date': datetime.now().date().strftime('%Y-%m-%d'), 'updating_date': datetime.now().date().strftime('%Y-%m-%d')}})\n",
        "    id += 1\n",
        "    print('New key has been added - {}'.format(key))\n",
        "  else:\n",
        "    if categories_dict[key]['link'] != cat.find('a').get('href').replace('#', '') or categories_dict[key]['name'] != cat.get_text():\n",
        "      print('an Old name - {}\\nor an Old link - {}'.format(categories_dict[key]['name'], categories_dict[key]['link']))\n",
        "      categories_dict[key].update({'link': cat.find('a').get('href').replace('#', '')})\n",
        "      categories_dict[key].update({'name': cat.get_text()})\n",
        "      categories_dict[key].update({'updating_date': datetime.now().date().strftime('%Y-%m-%d')})\n",
        "      print('has been updated with \\na New name - {}\\nor a New link - {}'.format(categories_dict[key]['name'], categories_dict[key]['link']))\n",
        "      print('')"
      ]
    },
    {
      "cell_type": "code",
      "execution_count": 166,
      "metadata": {
        "colab": {
          "base_uri": "https://localhost:8080/"
        },
        "id": "FQFLsPV5IIe8",
        "outputId": "fd09728b-150e-4582-9b06-89b9f2ab33c8"
      },
      "outputs": [
        {
          "output_type": "execute_result",
          "data": {
            "text/plain": [
              "16"
            ]
          },
          "metadata": {},
          "execution_count": 166
        }
      ],
      "source": [
        "len(categories_dict)"
      ]
    },
    {
      "cell_type": "code",
      "execution_count": 167,
      "metadata": {
        "colab": {
          "base_uri": "https://localhost:8080/"
        },
        "id": "tQTfZKiFarSd",
        "outputId": "88c8c413-d2c7-444e-f7ec-bc40ce8e0641"
      },
      "outputs": [
        {
          "output_type": "execute_result",
          "data": {
            "text/plain": [
              "{'genes_id': ['01001', '01002', '01003', '01004', '01005', '01006', '01007'],\n",
              " 'id': '01',\n",
              " 'link': 'jump--artistic-disciplines',\n",
              " 'name': 'Artistic Disciplines',\n",
              " 'parsing_date': '2022-03-30',\n",
              " 'updating_date': '2022-03-30'}"
            ]
          },
          "metadata": {},
          "execution_count": 167
        }
      ],
      "source": [
        "categories_dict['artistic_disciplines']"
      ]
    },
    {
      "cell_type": "code",
      "execution_count": null,
      "metadata": {
        "colab": {
          "base_uri": "https://localhost:8080/"
        },
        "id": "Ew9WHJYykmxf",
        "outputId": "42563654-434d-4008-c9b1-d64d586e0398"
      },
      "outputs": [
        {
          "name": "stdout",
          "output_type": "stream",
          "text": [
            "Confirm the categories_dict saving (y/n)y\n",
            "categories_dict has been saved 2022-03-30 06:02\n",
            "dictionary's length is - 16\n"
          ]
        }
      ],
      "source": [
        "confirmation = input('Confirm the categories_dict saving (y/n)')\n",
        "if confirmation == 'y':\n",
        "  save_dict(categories_dict, cat_dict) # 1. Save json dict\n",
        "  print('categories_dict has been saved {}'.format(datetime.now().strftime('%Y-%m-%d %H:%M')))\n",
        "  print(\"dictionary's length is - {}\".format(len(categories_dict)))\n",
        "else:\n",
        "  print('nothing has happened')"
      ]
    },
    {
      "cell_type": "code",
      "execution_count": null,
      "metadata": {
        "id": "w7iF2sL-4fG_"
      },
      "outputs": [],
      "source": [
        ""
      ]
    },
    {
      "cell_type": "markdown",
      "metadata": {
        "id": "Jm2PBAgezApk"
      },
      "source": [
        "## genes_dict"
      ]
    },
    {
      "cell_type": "code",
      "execution_count": null,
      "metadata": {
        "colab": {
          "base_uri": "https://localhost:8080/"
        },
        "id": "povm1Btb7Y1l",
        "outputId": "fb872936-d8cd-4c96-9319-40dac9dc62a8"
      },
      "outputs": [
        {
          "name": "stdout",
          "output_type": "stream",
          "text": [
            "Confirm the genes_dict re/seting (y/n)y\n",
            "genes_dict was re/set\n"
          ]
        }
      ],
      "source": [
        "# !!!!! For the first time !!!!!\n",
        "confirmation = input('Confirm the genes_dict re/seting (y/n)')\n",
        "if confirmation == 'y':\n",
        "  genes_dict = {}\n",
        "  print('genes_dict has been re/set {}'.format(datetime.now().strftime('%Y-%m-%d %H:%M')))\n",
        "  print(\"dictionary's length is - {}\".format(len(genes_dict)))\n",
        "else:\n",
        "  print('nothing has happened')"
      ]
    },
    {
      "cell_type": "code",
      "execution_count": 168,
      "metadata": {
        "colab": {
          "base_uri": "https://localhost:8080/"
        },
        "id": "OFYiTBZe7i7b",
        "outputId": "2d7dccc9-9cd6-4d4e-8abb-76e40fe53f0a"
      },
      "outputs": [
        {
          "output_type": "stream",
          "name": "stdout",
          "text": [
            "Confirm the genes_dict opening (y/n)y\n",
            "genes_dict has been opened 2022-04-20 07:14\n",
            "dictionary's length is - 1032\n"
          ]
        }
      ],
      "source": [
        "# !!!!! All next times !!!!!\n",
        "confirmation = input('Confirm the genes_dict opening (y/n)')\n",
        "if confirmation == 'y':\n",
        "  genes_dict = open_dict(gen_dict, 'live') # 2. Open json dict\n",
        "  print('genes_dict has been opened {}'.format(datetime.now().strftime('%Y-%m-%d %H:%M')))\n",
        "  print(\"dictionary's length is - {}\".format(len(genes_dict)))\n",
        "else:\n",
        "  print('nothing has happened')"
      ]
    },
    {
      "cell_type": "code",
      "source": [
        "# !!!!! All next times !!!!!\n",
        "# Determining the count of genes in the category for creating an id (using () instead of [] is also possible)\n",
        "count_list = [sum([1 for v in genes_dict.values() if v['category_id']==value['id']]) for value in categories_dict.values()]\n",
        "id_len = len(str(max(count_list)))\n",
        "print(id_len)\n",
        "print(count_list)"
      ],
      "metadata": {
        "colab": {
          "base_uri": "https://localhost:8080/"
        },
        "id": "tvuqkPNH1DR2",
        "outputId": "f1f4feb0-ab00-49f1-ae87-8b4466fc43af"
      },
      "execution_count": 171,
      "outputs": [
        {
          "output_type": "stream",
          "name": "stdout",
          "text": [
            "3\n",
            "[7, 213, 252, 26, 75, 175, 20, 68, 39, 22, 69, 27, 6, 7, 19, 7]\n"
          ]
        }
      ]
    },
    {
      "cell_type": "code",
      "execution_count": 170,
      "metadata": {
        "colab": {
          "base_uri": "https://localhost:8080/"
        },
        "id": "Kv2YqRqEPxZe",
        "outputId": "2e232e68-8d1d-4b98-dc72-1c915cf70688"
      },
      "outputs": [
        {
          "output_type": "execute_result",
          "data": {
            "text/plain": [
              "{'artist_id': ['25055', '21189'],\n",
              " 'artsy_id': ['553be2df7261692b035d0400',\n",
              "  '553a8ea872616909c03a0000',\n",
              "  '54f0c97a7261693fa3ea1400',\n",
              "  '54f0c97c726169731f9f1400',\n",
              "  '553a8e737261697635630000',\n",
              "  '553a8e61726169623a4f0000'],\n",
              " 'category_id': '03',\n",
              " 'id': '03001',\n",
              " 'link': '/gene/bad-painting',\n",
              " 'name': '\"Bad Painting\"',\n",
              " 'parsing_date': '2022-03-29',\n",
              " 'updating_date': '2022-03-29'}"
            ]
          },
          "metadata": {},
          "execution_count": 170
        }
      ],
      "source": [
        "genes_dict['bad_painting']"
      ]
    },
    {
      "cell_type": "code",
      "execution_count": 172,
      "metadata": {
        "id": "UTN-UZk2lqs1",
        "colab": {
          "base_uri": "https://localhost:8080/"
        },
        "outputId": "839389d5-9349-4138-8077-e6e609d76398"
      },
      "outputs": [
        {
          "output_type": "stream",
          "name": "stdout",
          "text": [
            "New key has been added - nft\n"
          ]
        }
      ],
      "source": [
        "#genes_dict = {'architecture_1': {'id': '0201', 'name': 'Architecture', 'link': '/gene/architecture-1', 'category_id': '02'}}\n",
        "# !!! working link is 'https://www.artsy.net' + link !!!\n",
        "for value in categories_dict.values():\n",
        "  category = genome_page.find('div', id=value['link']).find('h2').text\n",
        "  if category == value['name']:\n",
        "    count = sum([1 for v in genes_dict.values() if v['category_id'] == value['id']])\n",
        "    id = count+1\n",
        "    gens_block = genome_page.find('div', id=value['link']).find_all('a')\n",
        "    for a in gens_block:\n",
        "      gen_key = a.get('href').replace('/gene/', '').replace('-', '_')\n",
        "      if gen_key not in genes_dict.keys():\n",
        "        genes_dict.update({gen_key: {'id': value['id']+('0'*(id_len-len(str(id)))+str(id)), 'name': a.get_text(), 'link': a.get('href'), 'category_id': value['id'], 'artsy_id': [], 'artist_id': [], 'parsing_date': datetime.now().date().strftime('%Y-%m-%d'), 'updating_date': datetime.now().date().strftime('%Y-%m-%d')}})\n",
        "        id += 1\n",
        "        print('New key has been added - {}'.format(gen_key)) # !!! Not for the first time\n",
        "      else:\n",
        "        if genes_dict[gen_key]['link'] != a.get('href') or genes_dict[gen_key]['name'] != a.get_text():\n",
        "          print('an Old name - {}\\nor an Old link - {}'.format(genes_dict[gen_key]['name'], genes_dict[gen_key]['link']))\n",
        "          genes_dict[gen_key].update({'link': a.get('href')})\n",
        "          genes_dict[gen_key].update({'name': a.get_text()})\n",
        "          genes_dict[gen_key].update({'updating_date': datetime.now().date().strftime('%Y-%m-%d')})\n",
        "          print('has been updated with \\na New name - {}\\nor a New link - {}'.format(genes_dict[gen_key]['name'], genes_dict[gen_key]['link']))\n",
        "          print('')\n",
        "  else:\n",
        "    print(\"Category name doesn't match\")"
      ]
    },
    {
      "cell_type": "code",
      "execution_count": 173,
      "metadata": {
        "colab": {
          "base_uri": "https://localhost:8080/"
        },
        "id": "aGACmhpOTRQp",
        "outputId": "a72b5e54-946c-4a42-c8a7-1032d76a05d1"
      },
      "outputs": [
        {
          "output_type": "execute_result",
          "data": {
            "text/plain": [
              "1033"
            ]
          },
          "metadata": {},
          "execution_count": 173
        }
      ],
      "source": [
        "len(genes_dict)"
      ]
    },
    {
      "cell_type": "code",
      "source": [
        "genes_dict['bad_painting']"
      ],
      "metadata": {
        "colab": {
          "base_uri": "https://localhost:8080/"
        },
        "id": "lLghziGT1zpI",
        "outputId": "8984f16e-713c-4c31-dfbb-8158b6a84ac5"
      },
      "execution_count": 174,
      "outputs": [
        {
          "output_type": "execute_result",
          "data": {
            "text/plain": [
              "{'artist_id': ['25055', '21189'],\n",
              " 'artsy_id': ['553be2df7261692b035d0400',\n",
              "  '553a8ea872616909c03a0000',\n",
              "  '54f0c97a7261693fa3ea1400',\n",
              "  '54f0c97c726169731f9f1400',\n",
              "  '553a8e737261697635630000',\n",
              "  '553a8e61726169623a4f0000'],\n",
              " 'category_id': '03',\n",
              " 'id': '03001',\n",
              " 'link': '/gene/bad-painting',\n",
              " 'name': '\"Bad Painting\"',\n",
              " 'parsing_date': '2022-03-29',\n",
              " 'updating_date': '2022-03-29'}"
            ]
          },
          "metadata": {},
          "execution_count": 174
        }
      ]
    },
    {
      "cell_type": "code",
      "execution_count": 182,
      "metadata": {
        "colab": {
          "base_uri": "https://localhost:8080/"
        },
        "id": "766Hq6qhUQ5Z",
        "outputId": "f60e2c62-12b9-4b4e-dc84-9760014a4177"
      },
      "outputs": [
        {
          "output_type": "stream",
          "name": "stdout",
          "text": [
            "New gene in category: medium_and_techniques\n",
            "\n"
          ]
        },
        {
          "output_type": "execute_result",
          "data": {
            "text/plain": [
              "{'artist_id': [],\n",
              " 'artsy_id': [],\n",
              " 'category_id': '06',\n",
              " 'id': '06176',\n",
              " 'link': '/gene/nft',\n",
              " 'name': 'NFT',\n",
              " 'parsing_date': '2022-04-20',\n",
              " 'updating_date': '2022-04-20'}"
            ]
          },
          "metadata": {},
          "execution_count": 182
        }
      ],
      "source": [
        "filtered_dict = {k: v for k, v in categories_dict.items() if v['id'] == genes_dict['nft']['category_id']}\n",
        "print('New gene in category:', list(filtered_dict.keys())[0])\n",
        "print('')\n",
        "genes_dict['nft']"
      ]
    },
    {
      "cell_type": "code",
      "source": [
        "print(url_add + genes_dict['nft']['link'])"
      ],
      "metadata": {
        "colab": {
          "base_uri": "https://localhost:8080/"
        },
        "id": "ctbtiWz24UiJ",
        "outputId": "b9cbbef8-149d-465c-9368-c301b06a81fe"
      },
      "execution_count": 185,
      "outputs": [
        {
          "output_type": "stream",
          "name": "stdout",
          "text": [
            "https://www.artsy.net/gene/nft\n"
          ]
        }
      ]
    },
    {
      "cell_type": "code",
      "execution_count": 177,
      "metadata": {
        "colab": {
          "base_uri": "https://localhost:8080/"
        },
        "id": "O4VVsg0jQ3wq",
        "outputId": "4478c178-af43-43aa-d8d6-46c479fe502e"
      },
      "outputs": [
        {
          "output_type": "stream",
          "name": "stdout",
          "text": [
            "Confirm the genes_dict saving (y/n)y\n",
            "genes_dict was saved 2022-04-20 07:24\n",
            "dictionary's length is - 1033\n"
          ]
        }
      ],
      "source": [
        "confirmation = input('Confirm the genes_dict saving (y/n)')\n",
        "if confirmation == 'y':\n",
        "  save_dict(genes_dict, gen_dict, 'live') # 1. Save json dict\n",
        "  print('genes_dict was saved {}'.format(datetime.now().strftime('%Y-%m-%d %H:%M')))\n",
        "  print(\"dictionary's length is - {}\".format(len(genes_dict)))\n",
        "else:\n",
        "  print('nothing has happened')"
      ]
    },
    {
      "cell_type": "code",
      "execution_count": 177,
      "metadata": {
        "id": "3wqcJ7vggPuj"
      },
      "outputs": [],
      "source": [
        ""
      ]
    },
    {
      "cell_type": "markdown",
      "metadata": {
        "id": "ZQ7z40v6ZUZV"
      },
      "source": [
        "### addition/updating lists of genes' id into the categories_dict"
      ]
    },
    {
      "cell_type": "code",
      "execution_count": null,
      "metadata": {
        "colab": {
          "base_uri": "https://localhost:8080/"
        },
        "id": "VzFmur9GT7zI",
        "outputId": "cae023ea-6aeb-4d19-fd06-d88f0b8eeb3e"
      },
      "outputs": [
        {
          "data": {
            "text/plain": [
              "16"
            ]
          },
          "execution_count": 37,
          "metadata": {},
          "output_type": "execute_result"
        }
      ],
      "source": [
        "# Dict of genes' id for the categories_dict\n",
        "#cat_gen_id_dict = {}\n",
        "#for value in categories_dict.values():\n",
        "#  gen_id_list = [v['id'] for v in genes_dict.values() if v['category_id'] == value['id']]\n",
        "#  cat_gen_id_dict.update({value['id']: gen_id_list})\n",
        "\n",
        "#len(cat_gen_id_dict)"
      ]
    },
    {
      "cell_type": "code",
      "execution_count": null,
      "metadata": {
        "colab": {
          "base_uri": "https://localhost:8080/"
        },
        "id": "qoiKqARCZtIA",
        "outputId": "645c20d9-7324-401e-9b74-926ec8cdd4b4"
      },
      "outputs": [
        {
          "data": {
            "text/plain": [
              "['01001', '01002', '01003', '01004', '01005', '01006', '01007']"
            ]
          },
          "execution_count": 41,
          "metadata": {},
          "output_type": "execute_result"
        }
      ],
      "source": [
        "#cat_gen_id_dict['01']"
      ]
    },
    {
      "cell_type": "code",
      "execution_count": null,
      "metadata": {
        "colab": {
          "base_uri": "https://localhost:8080/"
        },
        "id": "NCtndkldXm0x",
        "outputId": "decc234f-b2b8-441c-98cd-01066992c7f4"
      },
      "outputs": [
        {
          "data": {
            "text/plain": [
              "16"
            ]
          },
          "execution_count": 50,
          "metadata": {},
          "output_type": "execute_result"
        }
      ],
      "source": [
        "#for k, v in categories_dict.items():\n",
        "#  for key, value in cat_gen_id_dict.items():\n",
        "#    if v['id'] == key and categories_dict[k]['genes_id'] != value:\n",
        "#      categories_dict[k].update({'genes_id': value})\n",
        "#      categories_dict[k].update({'updating_date': datetime.now().date().strftime('%Y-%m-%d')})\n",
        "\n",
        "#len(categories_dict)"
      ]
    },
    {
      "cell_type": "code",
      "execution_count": 186,
      "metadata": {
        "id": "JCrTxTIOPw6v",
        "colab": {
          "base_uri": "https://localhost:8080/"
        },
        "outputId": "3736c316-8142-4dcc-b65f-78e1c29c74f8"
      },
      "outputs": [
        {
          "output_type": "stream",
          "name": "stdout",
          "text": [
            "Category {'id': '06', 'name': 'Medium and Techniques', 'link': 'jump--medium-and-techniques', 'genes_id': ['06001', '06002', '06003', '06004', '06005', '06006', '06007', '06008', '06009', '06010', '06011', '06012', '06013', '06014', '06015', '06016', '06017', '06018', '06019', '06020', '06021', '06022', '06023', '06024', '06025', '06026', '06027', '06028', '06029', '06030', '06031', '06032', '06033', '06034', '06035', '06036', '06037', '06038', '06039', '06040', '06041', '06042', '06043', '06044', '06045', '06046', '06047', '06048', '06049', '06050', '06051', '06052', '06053', '06054', '06055', '06056', '06057', '06058', '06059', '06060', '06061', '06062', '06063', '06064', '06065', '06066', '06067', '06068', '06069', '06070', '06071', '06072', '06073', '06074', '06075', '06076', '06077', '06078', '06079', '06080', '06081', '06082', '06083', '06084', '06085', '06086', '06087', '06088', '06089', '06090', '06091', '06092', '06093', '06094', '06095', '06096', '06097', '06098', '06099', '06100', '06101', '06102', '06103', '06104', '06105', '06106', '06107', '06108', '06109', '06110', '06111', '06112', '06113', '06114', '06115', '06116', '06117', '06118', '06119', '06120', '06121', '06122', '06123', '06124', '06125', '06126', '06127', '06128', '06129', '06130', '06131', '06132', '06133', '06134', '06135', '06136', '06137', '06138', '06139', '06140', '06141', '06142', '06143', '06144', '06145', '06146', '06147', '06148', '06149', '06150', '06151', '06152', '06153', '06154', '06155', '06156', '06157', '06158', '06159', '06160', '06161', '06162', '06163', '06164', '06165', '06166', '06167', '06168', '06169', '06170', '06171', '06172', '06173', '06174', '06175', '06176'], 'parsing_date': '2022-03-30', 'updating_date': '2022-04-20'} has been updated\n"
          ]
        },
        {
          "output_type": "execute_result",
          "data": {
            "text/plain": [
              "16"
            ]
          },
          "metadata": {},
          "execution_count": 186
        }
      ],
      "source": [
        "for key, value in categories_dict.items():\n",
        "  gen_id_list = [v['id'] for v in genes_dict.values() if v['category_id'] == value['id']]\n",
        "  if categories_dict[key]['genes_id'] != gen_id_list:\n",
        "      categories_dict[key].update({'genes_id': gen_id_list})\n",
        "      categories_dict[key].update({'updating_date': datetime.now().date().strftime('%Y-%m-%d')})\n",
        "      print('Category', key, 'has been updated')\n",
        "\n",
        "len(categories_dict)"
      ]
    },
    {
      "cell_type": "code",
      "execution_count": null,
      "metadata": {
        "colab": {
          "base_uri": "https://localhost:8080/"
        },
        "id": "1I3VsNXiZfTu",
        "outputId": "27248a89-cecb-4605-a711-522ac8435517"
      },
      "outputs": [
        {
          "data": {
            "text/plain": [
              "{'genes_id': ['01001', '01002', '01003', '01004', '01005', '01006', '01007'],\n",
              " 'id': '01',\n",
              " 'link': 'jump--artistic-disciplines',\n",
              " 'name': 'Artistic Disciplines',\n",
              " 'parsing_date': '2022-03-30',\n",
              " 'updating_date': '2022-03-30'}"
            ]
          },
          "execution_count": 51,
          "metadata": {},
          "output_type": "execute_result"
        }
      ],
      "source": [
        "categories_dict['artistic_disciplines']"
      ]
    },
    {
      "cell_type": "code",
      "execution_count": 188,
      "metadata": {
        "colab": {
          "base_uri": "https://localhost:8080/"
        },
        "id": "ahhVKxfGa4aW",
        "outputId": "8db92cfc-972c-4f9f-f5d7-90cc088568ec"
      },
      "outputs": [
        {
          "output_type": "stream",
          "name": "stdout",
          "text": [
            "Confirm the categories_dict saving (y/n)y\n",
            "categories_dict has been saved 2022-04-20 07:38\n",
            "dictionary's length is - 16\n"
          ]
        }
      ],
      "source": [
        "confirmation = input('Confirm the categories_dict saving (y/n)')\n",
        "if confirmation == 'y':\n",
        "  save_dict(categories_dict, cat_dict, 'live') # 1. Save json dict\n",
        "  print('categories_dict has been saved {}'.format(datetime.now().strftime('%Y-%m-%d %H:%M')))\n",
        "  print(\"dictionary's length is - {}\".format(len(categories_dict)))\n",
        "else:\n",
        "  print('nothing has happened')"
      ]
    },
    {
      "cell_type": "code",
      "execution_count": 188,
      "metadata": {
        "id": "GsHU5oLb7y6Z"
      },
      "outputs": [],
      "source": [
        ""
      ]
    },
    {
      "cell_type": "markdown",
      "metadata": {
        "id": "z0B2vK1msJUl"
      },
      "source": [
        "# Artworks and Artists dicts"
      ]
    },
    {
      "cell_type": "markdown",
      "metadata": {
        "id": "QEjPQaFDQ7ep"
      },
      "source": [
        "## Filtering"
      ]
    },
    {
      "cell_type": "markdown",
      "metadata": {
        "id": "qWUpsl--TfJE"
      },
      "source": [
        "The fastest and simplest way to collect data is to go through the genes_dict and read data from a tape of objects like from a news feed. On a tape they have:\n",
        "- artist's name - to the artists_dict !!!\n",
        "- artwork name - to the artworks_dict\n",
        "- artwork year - to the artworks_dict\n",
        "- Galleries and Institutions name - to the galleries_dict !!!\n",
        "- price - to the artworks_dict\n",
        "- image link - to the artworks_dict\n",
        "\n",
        "That's anough for me.\n",
        "\n",
        "In parallel I'm going to collect artists_dict and galleries_dict.\n",
        "\n",
        "Artwork can belong to different genes, but I don't need this repetition in the artworks_dict. So I can't create a composed id for it (like gene id). Artwork id should be end-to-end.\n",
        "\n",
        "Seems like I should choose the most comprehensive category, collect its database, and then add to it only new information.\n",
        "\n",
        "But how much artworks are in Artsy database? Via their API I collected around 26 000 once."
      ]
    },
    {
      "cell_type": "code",
      "execution_count": null,
      "metadata": {
        "colab": {
          "base_uri": "https://localhost:8080/"
        },
        "id": "k0d7Q7RNSF_Y",
        "outputId": "b5dbf2d5-340e-4dec-daeb-868d0611ae9a"
      },
      "outputs": [
        {
          "name": "stdout",
          "output_type": "stream",
          "text": [
            "dictionary's length is - 16\n"
          ]
        }
      ],
      "source": [
        "categories_dict = open_dict(cat_dict, 'live') # 2. Open json dict\n",
        "print(\"dictionary's length is - {}\".format(len(categories_dict)))"
      ]
    },
    {
      "cell_type": "code",
      "execution_count": null,
      "metadata": {
        "colab": {
          "base_uri": "https://localhost:8080/"
        },
        "id": "P4akedsoR0WH",
        "outputId": "6d4d73fc-5455-4b9f-a7e4-50fd37ac9c6e"
      },
      "outputs": [
        {
          "name": "stdout",
          "output_type": "stream",
          "text": [
            "styles_and_movements -> id 03 -> genes count 252\n",
            "subject_matter -> id 02 -> genes count 213\n",
            "medium_and_techniques -> id 06 -> genes count 175\n",
            "visual_qualities -> id 05 -> genes count 75\n",
            "cultural_and_religious_styles -> id 11 -> genes count 69\n",
            "geographic_regions -> id 08 -> genes count 68\n",
            "materials -> id 09 -> genes count 39\n",
            "furniture_and_lighting -> id 12 -> genes count 27\n",
            "design_movements -> id 04 -> genes count 26\n",
            "design_concepts_and_techniques -> id 10 -> genes count 22\n",
            "time_periods -> id 07 -> genes count 20\n",
            "tableware_vessels_and_objects -> id 15 -> genes count 19\n",
            "artistic_disciplines -> id 01 -> genes count 7\n",
            "jewelry_and_fashion_object_types -> id 14 -> genes count 7\n",
            "antiquities_artifacts_and_religious_objects -> id 16 -> genes count 7\n",
            "textiles -> id 13 -> genes count 6\n"
          ]
        }
      ],
      "source": [
        "def by_value(item):\n",
        "  return len(item[1]['genes_id'])\n",
        "\n",
        "for k, v in sorted(categories_dict.items(), key=by_value, reverse=True):\n",
        "  print(k, '->', 'id', v['id'], '->', 'genes count' , len(v['genes_id']))"
      ]
    },
    {
      "cell_type": "markdown",
      "metadata": {
        "id": "7YSQdlZLSNbp"
      },
      "source": [
        "03 styles_and_movements looks like the the most comprehensive category.\n",
        "Next will be:\n",
        "- subject_matter -> 02\n",
        "- medium_and_techniques -> 06"
      ]
    },
    {
      "cell_type": "code",
      "execution_count": 17,
      "metadata": {
        "colab": {
          "base_uri": "https://localhost:8080/"
        },
        "id": "tyg_GuCzRpBA",
        "outputId": "176d8322-ffa7-4f61-b3b8-90f36967e4d5"
      },
      "outputs": [
        {
          "output_type": "stream",
          "name": "stdout",
          "text": [
            "dictionary's length is - 1032\n"
          ]
        }
      ],
      "source": [
        "genes_dict = open_dict(gen_dict, 'live') # 2. Open json dict\n",
        "print(\"dictionary's length is - {}\".format(len(genes_dict)))"
      ]
    },
    {
      "cell_type": "code",
      "execution_count": 141,
      "metadata": {
        "colab": {
          "base_uri": "https://localhost:8080/"
        },
        "id": "lfLT9bhspyQE",
        "outputId": "5b9e1c82-e4c2-4193-9fe4-f2b5ac204f08"
      },
      "outputs": [
        {
          "output_type": "stream",
          "name": "stdout",
          "text": [
            "39\n",
            "39\n"
          ]
        }
      ],
      "source": [
        "cat = '09'\n",
        "prefix = recently_added_pref\n",
        "#prefix = recently_updated_pref\n",
        "\n",
        "filtered_dict = {k: v for k, v in genes_dict.items() if v['category_id'] == cat}\n",
        "# for first collection !!!!!!!!!!\n",
        "#genes_links_list = [v['link'] for v in filtered_dict.values()]\n",
        "# for addition or updating !!!!!!!!!!!\n",
        "genes_links_list = [v['link']+prefix for v in filtered_dict.values()]\n",
        "genes_ids_list = [v['id'] for v in filtered_dict.values()]\n",
        "print(len(genes_links_list))\n",
        "print(len(genes_ids_list))"
      ]
    },
    {
      "cell_type": "code",
      "source": [
        "# NEW GENE !!!\n",
        "cat = '06'\n",
        "genes_links_list = [genes_dict['nft']['link']]\n",
        "genes_ids_list = [genes_dict['nft']['id']]\n",
        "print(len(genes_links_list))\n",
        "print(len(genes_ids_list))"
      ],
      "metadata": {
        "colab": {
          "base_uri": "https://localhost:8080/"
        },
        "id": "ACuHhlkzG5Iw",
        "outputId": "66e0aa0b-b95d-4bba-990b-fad8bd4a3da6"
      },
      "execution_count": 298,
      "outputs": [
        {
          "output_type": "stream",
          "name": "stdout",
          "text": [
            "1\n",
            "1\n"
          ]
        }
      ]
    },
    {
      "cell_type": "markdown",
      "metadata": {
        "id": "M7nhhHq5TEd6"
      },
      "source": [
        "## Data collecting"
      ]
    },
    {
      "cell_type": "markdown",
      "metadata": {
        "id": "Af1lJnakJRda"
      },
      "source": [
        "### Parsing"
      ]
    },
    {
      "cell_type": "markdown",
      "metadata": {
        "id": "389pcvEa-usM"
      },
      "source": [
        "#### First collection\n",
        "- reparse categories: 12, 10 !!!"
      ]
    },
    {
      "cell_type": "code",
      "execution_count": null,
      "metadata": {
        "colab": {
          "base_uri": "https://localhost:8080/"
        },
        "id": "o0ObYP8fgOXF",
        "outputId": "954bfdba-3f1e-4ab3-eba5-98427e0bf9c8"
      },
      "outputs": [
        {
          "output_type": "execute_result",
          "data": {
            "text/plain": [
              "2"
            ]
          },
          "metadata": {},
          "execution_count": 194
        }
      ],
      "source": [
        "len(genes_ids_list_er)"
      ]
    },
    {
      "cell_type": "code",
      "execution_count": 299,
      "metadata": {
        "id": "YsvD8bOVsp9b"
      },
      "outputs": [],
      "source": [
        "# too many genes -> let's collect by 50 at a time\n",
        "backup_names = []"
      ]
    },
    {
      "cell_type": "code",
      "execution_count": 300,
      "metadata": {
        "colab": {
          "base_uri": "https://localhost:8080/"
        },
        "id": "2i0QMy-SnpQN",
        "outputId": "2166c9af-c033-46bd-9780-82e1be634bcc"
      },
      "outputs": [
        {
          "output_type": "stream",
          "name": "stderr",
          "text": [
            "Starting new HTTPS connection (1): www.artsy.net:443\n"
          ]
        },
        {
          "output_type": "stream",
          "name": "stdout",
          "text": [
            "08:37:53.808458\n",
            "Parsing of gene 06176 https://www.artsy.net/gene/nft has started\n"
          ]
        },
        {
          "output_type": "stream",
          "name": "stderr",
          "text": [
            "https://www.artsy.net:443 \"GET /gene/nft HTTP/1.1\" 200 None\n"
          ]
        },
        {
          "output_type": "stream",
          "name": "stdout",
          "text": [
            "9 pages for parsing\n"
          ]
        },
        {
          "output_type": "stream",
          "name": "stderr",
          "text": [
            "https://www.artsy.net:443 \"GET /gene/nft?page=2 HTTP/1.1\" 200 None\n",
            "https://www.artsy.net:443 \"GET /gene/nft?page=3 HTTP/1.1\" 200 None\n",
            "https://www.artsy.net:443 \"GET /gene/nft?page=4 HTTP/1.1\" 200 None\n",
            "https://www.artsy.net:443 \"GET /gene/nft?page=5 HTTP/1.1\" 200 None\n",
            "https://www.artsy.net:443 \"GET /gene/nft?page=6 HTTP/1.1\" 200 None\n",
            "https://www.artsy.net:443 \"GET /gene/nft?page=7 HTTP/1.1\" 200 None\n",
            "https://www.artsy.net:443 \"GET /gene/nft?page=8 HTTP/1.1\" 200 None\n",
            "https://www.artsy.net:443 \"GET /gene/nft?page=9 HTTP/1.1\" 200 None\n"
          ]
        },
        {
          "output_type": "stream",
          "name": "stdout",
          "text": [
            "Parsing of gene 06176 https://www.artsy.net/gene/nft has finished\n",
            "16.782116651535034 seconds have passed\n",
            "08:38:10.590718\n",
            "\n"
          ]
        }
      ],
      "source": [
        "df_temp_data_old = open_file_csv(temp_data, 'live') # 3. Open file.csv\n",
        "try:\n",
        "  # 8. Get the all category data into DataFrame    !!!!! [:] or _er         !!!!! [:] or _er \n",
        "  df_temp_data_new = get_df_data(df_temp_data_old, genes_links_list, genes_ids_list, cat)\n",
        "  #                  get_df_data(df_input, genes_links_list, genes_ids_list, cat) ->\n",
        "  # -> df_output\n",
        "except SystemExit:\n",
        "  pass\n",
        "\n",
        "save_df_file(df_temp_data_new, temp_data, 'live') # 4. Save df to csv file\n",
        "\n",
        "new_name_csv = temp_data.replace('.csv', '') + '_' + str(datetime.now()) + '.csv'\n",
        "backup_names.append(new_name_csv)\n",
        "save_df_file(df_temp_data_new, new_name_csv, 'backup') # 4. Save df to csv file"
      ]
    },
    {
      "cell_type": "markdown",
      "metadata": {
        "id": "APmezNDfdn-p"
      },
      "source": [
        "Saving blocks of 50 genes' data in separate files in beckup folder. Then we'll join them together and check if some pages have been missed during the parsing."
      ]
    },
    {
      "cell_type": "code",
      "execution_count": 301,
      "metadata": {
        "colab": {
          "base_uri": "https://localhost:8080/"
        },
        "id": "XXHf8iay8mED",
        "outputId": "62cc9fba-65f5-4c81-eceb-ab18717c29d0"
      },
      "outputs": [
        {
          "output_type": "execute_result",
          "data": {
            "text/plain": [
              "['/artsy_temp_data_2022-04-20 08:38:11.107399.csv']"
            ]
          },
          "metadata": {},
          "execution_count": 301
        }
      ],
      "source": [
        "backup_names"
      ]
    },
    {
      "cell_type": "code",
      "execution_count": null,
      "metadata": {
        "id": "I7EWLXE4P1ar"
      },
      "outputs": [],
      "source": [
        "#backup_names_cat_06 = ['/artsy_temp_data_2022-04-06 07:01:26.758130.csv',\n",
        "#                       '/artsy_temp_data_2022-04-06 07:19:01.562291.csv',\n",
        "#                       '/artsy_temp_data_2022-04-06 08:35:48.400500.csv',\n",
        "#                       '/artsy_temp_data_2022-04-06 10:31:00.254918.csv',\n",
        "#                       '/artsy_temp_data_2022-04-06 11:58:44.750998.csv',\n",
        "#                       '/artsy_temp_data_2022-04-06 12:41:26.025146.csv',\n",
        "#                       '/artsy_temp_data_2022-04-06 13:34:44.996171.csv']\n",
        "#                       + '/artsy_temp_data_2022-04-06 14:58:06.086053.csv'\n",
        "#\n",
        "#backup_names_cat_05 = ['/artsy_temp_data_2022-04-06 16:39:34.236815.csv',\n",
        "#                       '/artsy_temp_data_2022-04-06 17:49:37.250209.csv']\n",
        "#                       + \n",
        "#                      ['/artsy_temp_data_2022-04-15 07:46:32.183547.csv',\n",
        "#                       '/artsy_temp_data_2022-04-15 07:56:14.144004.csv']\n",
        "#\n",
        "#backup_names_cat_11 = ['/artsy_temp_data_2022-04-08 06:51:14.997844.csv',\n",
        "#                       '/artsy_temp_data_2022-04-08 07:08:01.411081.csv']\n",
        "#                       +\n",
        "#                       '/artsy_temp_data_2022-04-18 09:50:37.600100.csv'\n",
        "#\n",
        "#backup_names_cat_08 = ['/artsy_temp_data_2022-04-08 08:57:02.093364.csv',\n",
        "#                       '/artsy_temp_data_2022-04-08 10:40:21.922750.csv']\n",
        "#                       +\n",
        "#                       '/artsy_temp_data_2022-04-18 12:02:55.479950.csv',\n",
        "#                       '/artsy_temp_data_2022-04-18 12:43:06.028716.csv'\n",
        "#                       +\n",
        "#                       '/artsy_temp_data_2022-04-18 14:06:13.761778.csv'\n",
        "#\n",
        "#backup_names_cat_09 = ['/artsy_temp_data_2022-04-08 12:02:03.429937.csv',\n",
        "#                       '/artsy_temp_data_2022-04-08 12:20:19.139091.csv',\n",
        "#                       '/artsy_temp_data_2022-04-08 12:50:03.398655.csv',\n",
        "#                       '/artsy_temp_data_2022-04-08 13:09:14.315180.csv']\n",
        "#                       +\n",
        "#                       '/artsy_temp_data_2022-04-18 15:58:00.276252.csv',\n",
        "#                       +\n",
        "#                       '/artsy_temp_data_2022-04-18 16:07:15.086943.csv'\n",
        "#\n",
        "#backup_names_cat_12 = ['/artsy_temp_data_2022-04-19 09:23:10.775068.csv',\n",
        "#                       '/artsy_temp_data_2022-04-19 09:44:44.394285.csv']\n",
        "#                       +\n",
        "#                       '/artsy_temp_data_2022-04-19 10:51:43.926261.csv'\n",
        "#\n",
        "#backup_names_cat_04 = ['/artsy_temp_data_2022-04-08 15:20:14.101746.csv']\n",
        "#                       +\n",
        "#                       '/artsy_temp_data_2022-04-19 04:08:43.691739.csv'\n",
        "#\n",
        "#backup_names_cat_10 = ['/artsy_temp_data_2022-04-19 07:35:01.334592.csv',\n",
        "#                       '/artsy_temp_data_2022-04-19 07:48:03.359223.csv']\n",
        "#                       +\n",
        "#                       '/artsy_temp_data_2022-04-19 08:11:46.261977.csv'\n",
        "#\n",
        "#backup_names_cat_07 = ['/artsy_temp_data_2022-04-09 04:15:24.907317.csv',\n",
        "#                       '/artsy_temp_data_2022-04-09 05:05:55.273163.csv']\n",
        "#                       +\n",
        "#                       '/artsy_temp_data_2022-04-19 04:48:56.712756.csv'\n",
        "#\n",
        "#backup_names_cat_15 = ['/artsy_temp_data_2022-04-09 05:29:21.939929.csv']\n",
        "#                       +\n",
        "#                       '/artsy_temp_data_2022-04-19 05:22:25.192914.csv'\n",
        "#\n",
        "#backup_names_cat_01 = ['/artsy_temp_data_2022-04-09 05:43:38.333522.csv']\n",
        "#\n",
        "#backup_names_cat_14 = ['/artsy_temp_data_2022-04-09 06:01:02.568000.csv']\n",
        "#\n",
        "#backup_names_cat_16 = ['/artsy_temp_data_2022-04-09 06:22:33.619264.csv']\n",
        "#\n",
        "#backup_names_cat_13 = ['/artsy_temp_data_2022-04-09 06:44:32.738152.csv']\n",
        "#                       +\n",
        "#                       '/artsy_temp_data_2022-04-19 07:06:37.297601.csv'"
      ]
    },
    {
      "cell_type": "markdown",
      "metadata": {
        "id": "4ZdNrih8--Ga"
      },
      "source": [
        "#### Addition and Updating"
      ]
    },
    {
      "cell_type": "code",
      "source": [
        "backup_names = []"
      ],
      "metadata": {
        "id": "Wq-zmMlPXVEh"
      },
      "execution_count": 446,
      "outputs": []
    },
    {
      "cell_type": "code",
      "source": [
        "len(genes_ids_list)"
      ],
      "metadata": {
        "colab": {
          "base_uri": "https://localhost:8080/"
        },
        "id": "ql8hO8FpZEyM",
        "outputId": "f13091e0-5d75-4d45-f102-8fcccfba9459"
      },
      "execution_count": 511,
      "outputs": [
        {
          "output_type": "execute_result",
          "data": {
            "text/plain": [
              "1"
            ]
          },
          "metadata": {},
          "execution_count": 511
        }
      ]
    },
    {
      "cell_type": "code",
      "source": [
        "len(genes_links_list_er)"
      ],
      "metadata": {
        "colab": {
          "base_uri": "https://localhost:8080/"
        },
        "id": "jpXxg5Dtv8r3",
        "outputId": "e55667c0-e259-4a6e-ff5c-9e32e05e5f71"
      },
      "execution_count": 146,
      "outputs": [
        {
          "output_type": "execute_result",
          "data": {
            "text/plain": [
              "1"
            ]
          },
          "metadata": {},
          "execution_count": 146
        }
      ]
    },
    {
      "cell_type": "code",
      "execution_count": 527,
      "metadata": {
        "id": "8XZ3J9vY--8T",
        "colab": {
          "base_uri": "https://localhost:8080/"
        },
        "outputId": "5d78f16a-0e74-4383-f7fc-b16df3e8f908"
      },
      "outputs": [
        {
          "output_type": "stream",
          "name": "stderr",
          "text": [
            "Starting new HTTPS connection (1): www.artsy.net:443\n"
          ]
        },
        {
          "output_type": "stream",
          "name": "stdout",
          "text": [
            "12:54:41.436074\n",
            "Parsing of gene 06111 https://www.artsy.net/gene/painting?page=10&sort=-published_at has started\n"
          ]
        },
        {
          "output_type": "stream",
          "name": "stderr",
          "text": [
            "https://www.artsy.net:443 \"GET /gene/painting?page=10&sort=-published_at HTTP/1.1\" 200 None\n"
          ]
        },
        {
          "output_type": "stream",
          "name": "stdout",
          "text": [
            "1 pages for parsing\n",
            "Parsing of gene 06111 https://www.artsy.net/gene/painting?page=10&sort=-published_at has finished\n",
            "1.7226083278656006 seconds have passed\n",
            "12:54:43.158748\n",
            "\n"
          ]
        }
      ],
      "source": [
        "df_temp_data_old = open_file_csv(temp_data_add_up, 'live') # 3. Open file.csv\n",
        "#  8.1 Get the first pages category data into DataFrame\n",
        "try:                                   #                     !!!!!!!               !!!!!!      !!!!!!\n",
        "  df_temp_data_new = get_df_data_add_up(df_temp_data_old, genes_links_list, genes_ids_list, genes_cat_list) # cat !!!!\n",
        "  #                  get_df_data_add_up(df_input, genes_links_list, genes_ids_list, cat) ->\n",
        "  # -> df_output\n",
        "except SystemExit:\n",
        "  pass\n",
        "\n",
        "save_df_file(df_temp_data_new, temp_data_add_up, 'live') # 4. Save df to csv file\n",
        "\n",
        "new_name_csv = temp_data_add_up.replace('.csv', '') + '_' + str(datetime.now()) + '.csv'\n",
        "backup_names.append(new_name_csv)\n",
        "save_df_file(df_temp_data_new, new_name_csv, 'backup') # 4. Save df to csv file"
      ]
    },
    {
      "cell_type": "code",
      "execution_count": 528,
      "metadata": {
        "id": "7LUgK0dU_nmD",
        "colab": {
          "base_uri": "https://localhost:8080/"
        },
        "outputId": "4f8912f5-d497-4e4c-a9fd-2a3e66f0ebab"
      },
      "outputs": [
        {
          "output_type": "stream",
          "name": "stdout",
          "text": [
            "9\n"
          ]
        },
        {
          "output_type": "execute_result",
          "data": {
            "text/plain": [
              "['/artsy_temp_data_add_up_2022-04-20 11:53:00.238091.csv',\n",
              " '/artsy_temp_data_add_up_2022-04-20 12:44:47.727517.csv',\n",
              " '/artsy_temp_data_add_up_2022-04-20 12:48:25.313837.csv',\n",
              " '/artsy_temp_data_add_up_2022-04-20 12:49:40.179878.csv',\n",
              " '/artsy_temp_data_add_up_2022-04-20 12:50:34.671342.csv',\n",
              " '/artsy_temp_data_add_up_2022-04-20 12:52:02.920431.csv',\n",
              " '/artsy_temp_data_add_up_2022-04-20 12:53:09.222609.csv',\n",
              " '/artsy_temp_data_add_up_2022-04-20 12:54:03.524013.csv',\n",
              " '/artsy_temp_data_add_up_2022-04-20 12:54:43.669015.csv']"
            ]
          },
          "metadata": {},
          "execution_count": 528
        }
      ],
      "source": [
        "print(len(backup_names))\n",
        "backup_names"
      ]
    },
    {
      "cell_type": "code",
      "source": [
        "#16\n",
        "#['/artsy_temp_data_add_up_2022-04-20 05:02:01.952344.csv',\n",
        "# '/artsy_temp_data_add_up_2022-04-20 05:24:48.842989.csv',\n",
        "# '/artsy_temp_data_add_up_2022-04-20 05:42:10.688512.csv',\n",
        "# '/artsy_temp_data_add_up_2022-04-20 05:51:12.039562.csv',\n",
        "# '/artsy_temp_data_add_up_2022-04-20 05:56:56.573465.csv',\n",
        "# '/artsy_temp_data_add_up_2022-04-20 06:00:15.881305.csv',\n",
        "# '/artsy_temp_data_add_up_2022-04-20 06:04:28.699579.csv',\n",
        "# '/artsy_temp_data_add_up_2022-04-20 06:08:26.309967.csv',\n",
        "# '/artsy_temp_data_add_up_2022-04-20 06:12:17.323396.csv',\n",
        "# '/artsy_temp_data_add_up_2022-04-20 06:15:23.899838.csv',\n",
        "# '/artsy_temp_data_add_up_2022-04-20 06:18:51.838690.csv',\n",
        "# '/artsy_temp_data_add_up_2022-04-20 06:21:20.375642.csv',\n",
        "# '/artsy_temp_data_add_up_2022-04-20 06:22:54.784599.csv',\n",
        "# '/artsy_temp_data_add_up_2022-04-20 06:23:51.062563.csv',\n",
        "# '/artsy_temp_data_add_up_2022-04-20 06:25:09.194797.csv',\n",
        "# '/artsy_temp_data_add_up_2022-04-20 06:25:52.799921.csv']\n",
        "\n",
        "# ['/artsy_temp_data_add_up_2022-04-20 06:54:25.118334.csv']\n",
        "\n",
        "#9\n",
        "#['/artsy_temp_data_add_up_2022-04-20 11:53:00.238091.csv',\n",
        "# '/artsy_temp_data_add_up_2022-04-20 12:44:47.727517.csv',\n",
        "# '/artsy_temp_data_add_up_2022-04-20 12:48:25.313837.csv',\n",
        "# '/artsy_temp_data_add_up_2022-04-20 12:49:40.179878.csv',\n",
        "# '/artsy_temp_data_add_up_2022-04-20 12:50:34.671342.csv',\n",
        "# '/artsy_temp_data_add_up_2022-04-20 12:52:02.920431.csv',\n",
        "# '/artsy_temp_data_add_up_2022-04-20 12:53:09.222609.csv',\n",
        "# '/artsy_temp_data_add_up_2022-04-20 12:54:03.524013.csv',\n",
        "# '/artsy_temp_data_add_up_2022-04-20 12:54:43.669015.csv']"
      ],
      "metadata": {
        "id": "Q6LYKQAsvyQX"
      },
      "execution_count": null,
      "outputs": []
    },
    {
      "cell_type": "code",
      "source": [
        "df_temp_data_new.info()"
      ],
      "metadata": {
        "colab": {
          "base_uri": "https://localhost:8080/"
        },
        "id": "4h0BREMWXjMO",
        "outputId": "17ab879e-371d-470e-942a-448e3662e0c5"
      },
      "execution_count": 514,
      "outputs": [
        {
          "output_type": "stream",
          "name": "stdout",
          "text": [
            "<class 'pandas.core.frame.DataFrame'>\n",
            "RangeIndex: 30 entries, 0 to 29\n",
            "Data columns (total 13 columns):\n",
            " #   Column            Non-Null Count  Dtype  \n",
            "---  ------            --------------  -----  \n",
            " 0   artsy_id          30 non-null     object \n",
            " 1   name              30 non-null     object \n",
            " 2   link              30 non-null     object \n",
            " 3   year              30 non-null     object \n",
            " 4   artist            30 non-null     object \n",
            " 5   gallery           30 non-null     object \n",
            " 6   price             30 non-null     object \n",
            " 7   gene_id           30 non-null     object \n",
            " 8   category_id       30 non-null     object \n",
            " 9   parsing_date      30 non-null     object \n",
            " 10  updating_date     30 non-null     object \n",
            " 11  pages_count       30 non-null     float64\n",
            " 12  second_page_link  0 non-null      float64\n",
            "dtypes: float64(2), object(11)\n",
            "memory usage: 3.2+ KB\n"
          ]
        }
      ]
    },
    {
      "cell_type": "code",
      "source": [
        "df_temp_data_new.sample(5)"
      ],
      "metadata": {
        "colab": {
          "base_uri": "https://localhost:8080/",
          "height": 478
        },
        "id": "u8k_gt8nXr6G",
        "outputId": "1110ba9d-49c6-4306-b655-13708b5812b7"
      },
      "execution_count": 468,
      "outputs": [
        {
          "output_type": "execute_result",
          "data": {
            "text/plain": [
              "                    artsy_id                   name  \\\n",
              "15  625fced212a136000b76a0e4            ATARDECER 4   \n",
              "2   625fd0ff4b02fe000be17a1c           TRANSENDENCE   \n",
              "17  625fbdeda92e89000b4d85a3  Untitled (Eel Seller)   \n",
              "10  624c406a264644000b181164               Untitled   \n",
              "20  62216bfb9e03a2000bb347b7               Abducted   \n",
              "\n",
              "                                                 link  year  \\\n",
              "15  https://d7hftxdivxxvm.cloudfront.net?resize_to...  2020   \n",
              "2   https://d7hftxdivxxvm.cloudfront.net?resize_to...  2021   \n",
              "17  https://d7hftxdivxxvm.cloudfront.net?resize_to...  2022   \n",
              "10  https://d7hftxdivxxvm.cloudfront.net?resize_to...  2021   \n",
              "20  https://d7hftxdivxxvm.cloudfront.net?resize_to...  2017   \n",
              "\n",
              "                                               artist  \\\n",
              "15  Rosario d’Espinay Saint-LucATARDECER 4, 2020Ga...   \n",
              "2   Patricia OrtizTRANSENDENCE, 2021MONAT GALLERY€...   \n",
              "17  Charles AveryUntitled (Eel Seller), 2022Vistam...   \n",
              "10  George MerhebUntitled, 2021Mark Hachem Gallery...   \n",
              "20  Gil BatleAbducted, 2017Walking House New YorkU...   \n",
              "\n",
              "                    gallery              price gene_id category_id  \\\n",
              "15  Galerie Libre Est L'Art              €550    03248          03   \n",
              "2             MONAT GALLERY            €4,300    03248          03   \n",
              "17                Vistamare  Price on request    06097          06   \n",
              "10      Mark Hachem Gallery  Price on request    06097          06   \n",
              "20   Walking House New York         US$16,000    06144          06   \n",
              "\n",
              "   parsing_date updating_date  pages_count  second_page_link  \n",
              "15   2022-04-20    2022-04-20          1.0               NaN  \n",
              "2    2022-04-20    2022-04-20          1.0               NaN  \n",
              "17   2022-04-20    2022-04-20          1.0               NaN  \n",
              "10   2022-04-20    2022-04-20          1.0               NaN  \n",
              "20   2022-04-20    2022-04-20          1.0               NaN  "
            ],
            "text/html": [
              "\n",
              "  <div id=\"df-206c7185-bd51-46dc-b17e-2edd43e97253\">\n",
              "    <div class=\"colab-df-container\">\n",
              "      <div>\n",
              "<style scoped>\n",
              "    .dataframe tbody tr th:only-of-type {\n",
              "        vertical-align: middle;\n",
              "    }\n",
              "\n",
              "    .dataframe tbody tr th {\n",
              "        vertical-align: top;\n",
              "    }\n",
              "\n",
              "    .dataframe thead th {\n",
              "        text-align: right;\n",
              "    }\n",
              "</style>\n",
              "<table border=\"1\" class=\"dataframe\">\n",
              "  <thead>\n",
              "    <tr style=\"text-align: right;\">\n",
              "      <th></th>\n",
              "      <th>artsy_id</th>\n",
              "      <th>name</th>\n",
              "      <th>link</th>\n",
              "      <th>year</th>\n",
              "      <th>artist</th>\n",
              "      <th>gallery</th>\n",
              "      <th>price</th>\n",
              "      <th>gene_id</th>\n",
              "      <th>category_id</th>\n",
              "      <th>parsing_date</th>\n",
              "      <th>updating_date</th>\n",
              "      <th>pages_count</th>\n",
              "      <th>second_page_link</th>\n",
              "    </tr>\n",
              "  </thead>\n",
              "  <tbody>\n",
              "    <tr>\n",
              "      <th>15</th>\n",
              "      <td>625fced212a136000b76a0e4</td>\n",
              "      <td>ATARDECER 4</td>\n",
              "      <td>https://d7hftxdivxxvm.cloudfront.net?resize_to...</td>\n",
              "      <td>2020</td>\n",
              "      <td>Rosario d’Espinay Saint-LucATARDECER 4, 2020Ga...</td>\n",
              "      <td>Galerie Libre Est L'Art</td>\n",
              "      <td>€550</td>\n",
              "      <td>03248</td>\n",
              "      <td>03</td>\n",
              "      <td>2022-04-20</td>\n",
              "      <td>2022-04-20</td>\n",
              "      <td>1.0</td>\n",
              "      <td>NaN</td>\n",
              "    </tr>\n",
              "    <tr>\n",
              "      <th>2</th>\n",
              "      <td>625fd0ff4b02fe000be17a1c</td>\n",
              "      <td>TRANSENDENCE</td>\n",
              "      <td>https://d7hftxdivxxvm.cloudfront.net?resize_to...</td>\n",
              "      <td>2021</td>\n",
              "      <td>Patricia OrtizTRANSENDENCE, 2021MONAT GALLERY€...</td>\n",
              "      <td>MONAT GALLERY</td>\n",
              "      <td>€4,300</td>\n",
              "      <td>03248</td>\n",
              "      <td>03</td>\n",
              "      <td>2022-04-20</td>\n",
              "      <td>2022-04-20</td>\n",
              "      <td>1.0</td>\n",
              "      <td>NaN</td>\n",
              "    </tr>\n",
              "    <tr>\n",
              "      <th>17</th>\n",
              "      <td>625fbdeda92e89000b4d85a3</td>\n",
              "      <td>Untitled (Eel Seller)</td>\n",
              "      <td>https://d7hftxdivxxvm.cloudfront.net?resize_to...</td>\n",
              "      <td>2022</td>\n",
              "      <td>Charles AveryUntitled (Eel Seller), 2022Vistam...</td>\n",
              "      <td>Vistamare</td>\n",
              "      <td>Price on request</td>\n",
              "      <td>06097</td>\n",
              "      <td>06</td>\n",
              "      <td>2022-04-20</td>\n",
              "      <td>2022-04-20</td>\n",
              "      <td>1.0</td>\n",
              "      <td>NaN</td>\n",
              "    </tr>\n",
              "    <tr>\n",
              "      <th>10</th>\n",
              "      <td>624c406a264644000b181164</td>\n",
              "      <td>Untitled</td>\n",
              "      <td>https://d7hftxdivxxvm.cloudfront.net?resize_to...</td>\n",
              "      <td>2021</td>\n",
              "      <td>George MerhebUntitled, 2021Mark Hachem Gallery...</td>\n",
              "      <td>Mark Hachem Gallery</td>\n",
              "      <td>Price on request</td>\n",
              "      <td>06097</td>\n",
              "      <td>06</td>\n",
              "      <td>2022-04-20</td>\n",
              "      <td>2022-04-20</td>\n",
              "      <td>1.0</td>\n",
              "      <td>NaN</td>\n",
              "    </tr>\n",
              "    <tr>\n",
              "      <th>20</th>\n",
              "      <td>62216bfb9e03a2000bb347b7</td>\n",
              "      <td>Abducted</td>\n",
              "      <td>https://d7hftxdivxxvm.cloudfront.net?resize_to...</td>\n",
              "      <td>2017</td>\n",
              "      <td>Gil BatleAbducted, 2017Walking House New YorkU...</td>\n",
              "      <td>Walking House New York</td>\n",
              "      <td>US$16,000</td>\n",
              "      <td>06144</td>\n",
              "      <td>06</td>\n",
              "      <td>2022-04-20</td>\n",
              "      <td>2022-04-20</td>\n",
              "      <td>1.0</td>\n",
              "      <td>NaN</td>\n",
              "    </tr>\n",
              "  </tbody>\n",
              "</table>\n",
              "</div>\n",
              "      <button class=\"colab-df-convert\" onclick=\"convertToInteractive('df-206c7185-bd51-46dc-b17e-2edd43e97253')\"\n",
              "              title=\"Convert this dataframe to an interactive table.\"\n",
              "              style=\"display:none;\">\n",
              "        \n",
              "  <svg xmlns=\"http://www.w3.org/2000/svg\" height=\"24px\"viewBox=\"0 0 24 24\"\n",
              "       width=\"24px\">\n",
              "    <path d=\"M0 0h24v24H0V0z\" fill=\"none\"/>\n",
              "    <path d=\"M18.56 5.44l.94 2.06.94-2.06 2.06-.94-2.06-.94-.94-2.06-.94 2.06-2.06.94zm-11 1L8.5 8.5l.94-2.06 2.06-.94-2.06-.94L8.5 2.5l-.94 2.06-2.06.94zm10 10l.94 2.06.94-2.06 2.06-.94-2.06-.94-.94-2.06-.94 2.06-2.06.94z\"/><path d=\"M17.41 7.96l-1.37-1.37c-.4-.4-.92-.59-1.43-.59-.52 0-1.04.2-1.43.59L10.3 9.45l-7.72 7.72c-.78.78-.78 2.05 0 2.83L4 21.41c.39.39.9.59 1.41.59.51 0 1.02-.2 1.41-.59l7.78-7.78 2.81-2.81c.8-.78.8-2.07 0-2.86zM5.41 20L4 18.59l7.72-7.72 1.47 1.35L5.41 20z\"/>\n",
              "  </svg>\n",
              "      </button>\n",
              "      \n",
              "  <style>\n",
              "    .colab-df-container {\n",
              "      display:flex;\n",
              "      flex-wrap:wrap;\n",
              "      gap: 12px;\n",
              "    }\n",
              "\n",
              "    .colab-df-convert {\n",
              "      background-color: #E8F0FE;\n",
              "      border: none;\n",
              "      border-radius: 50%;\n",
              "      cursor: pointer;\n",
              "      display: none;\n",
              "      fill: #1967D2;\n",
              "      height: 32px;\n",
              "      padding: 0 0 0 0;\n",
              "      width: 32px;\n",
              "    }\n",
              "\n",
              "    .colab-df-convert:hover {\n",
              "      background-color: #E2EBFA;\n",
              "      box-shadow: 0px 1px 2px rgba(60, 64, 67, 0.3), 0px 1px 3px 1px rgba(60, 64, 67, 0.15);\n",
              "      fill: #174EA6;\n",
              "    }\n",
              "\n",
              "    [theme=dark] .colab-df-convert {\n",
              "      background-color: #3B4455;\n",
              "      fill: #D2E3FC;\n",
              "    }\n",
              "\n",
              "    [theme=dark] .colab-df-convert:hover {\n",
              "      background-color: #434B5C;\n",
              "      box-shadow: 0px 1px 3px 1px rgba(0, 0, 0, 0.15);\n",
              "      filter: drop-shadow(0px 1px 2px rgba(0, 0, 0, 0.3));\n",
              "      fill: #FFFFFF;\n",
              "    }\n",
              "  </style>\n",
              "\n",
              "      <script>\n",
              "        const buttonEl =\n",
              "          document.querySelector('#df-206c7185-bd51-46dc-b17e-2edd43e97253 button.colab-df-convert');\n",
              "        buttonEl.style.display =\n",
              "          google.colab.kernel.accessAllowed ? 'block' : 'none';\n",
              "\n",
              "        async function convertToInteractive(key) {\n",
              "          const element = document.querySelector('#df-206c7185-bd51-46dc-b17e-2edd43e97253');\n",
              "          const dataTable =\n",
              "            await google.colab.kernel.invokeFunction('convertToInteractive',\n",
              "                                                     [key], {});\n",
              "          if (!dataTable) return;\n",
              "\n",
              "          const docLinkHtml = 'Like what you see? Visit the ' +\n",
              "            '<a target=\"_blank\" href=https://colab.research.google.com/notebooks/data_table.ipynb>data table notebook</a>'\n",
              "            + ' to learn more about interactive tables.';\n",
              "          element.innerHTML = '';\n",
              "          dataTable['output_type'] = 'display_data';\n",
              "          await google.colab.output.renderOutput(dataTable, element);\n",
              "          const docLink = document.createElement('div');\n",
              "          docLink.innerHTML = docLinkHtml;\n",
              "          element.appendChild(docLink);\n",
              "        }\n",
              "      </script>\n",
              "    </div>\n",
              "  </div>\n",
              "  "
            ]
          },
          "metadata": {},
          "execution_count": 468
        }
      ]
    },
    {
      "cell_type": "code",
      "source": [
        "for l in df_temp_data_new.sample(5)['second_page_link']:\n",
        "  print(l)"
      ],
      "metadata": {
        "colab": {
          "base_uri": "https://localhost:8080/"
        },
        "id": "CtlGGEMtX7cG",
        "outputId": "df04b0b3-a9a4-4531-b821-44b12825d53b"
      },
      "execution_count": 106,
      "outputs": [
        {
          "output_type": "stream",
          "name": "stdout",
          "text": [
            "https://www.artsy.net/gene/women-designers?page=2&sort=-published_at\n",
            "https://www.artsy.net/gene/handcrafted-furniture-and-design?page=2&sort=-published_at\n",
            "https://www.artsy.net/gene/focus-on-joints-slash-connections?page=2&sort=-published_at\n",
            "https://www.artsy.net/gene/design-by-architects?page=2&sort=-published_at\n",
            "https://www.artsy.net/gene/engineering-slash-construction-and-design?page=2&sort=-published_at\n"
          ]
        }
      ]
    },
    {
      "cell_type": "code",
      "source": [
        "print(len(genes_ids_list))\n",
        "df_temp_data_new['gene_id'].dropna().nunique()"
      ],
      "metadata": {
        "colab": {
          "base_uri": "https://localhost:8080/"
        },
        "id": "nwXh1YiOY0Vv",
        "outputId": "35655bde-5aee-4d0a-ec07-8161024b9bf3"
      },
      "execution_count": 479,
      "outputs": [
        {
          "output_type": "stream",
          "name": "stdout",
          "text": [
            "7\n"
          ]
        },
        {
          "output_type": "execute_result",
          "data": {
            "text/plain": [
              "7"
            ]
          },
          "metadata": {},
          "execution_count": 479
        }
      ]
    },
    {
      "cell_type": "code",
      "source": [
        "# !!! cat 08 !!!\n",
        "check_gene_id = df_temp_data_new['gene_id'].dropna().unique().tolist()\n",
        "len(check_gene_id)"
      ],
      "metadata": {
        "colab": {
          "base_uri": "https://localhost:8080/"
        },
        "id": "lSehbyODcrN4",
        "outputId": "4eced959-c010-4ebb-9089-59f1ee7ce543"
      },
      "execution_count": 78,
      "outputs": [
        {
          "output_type": "execute_result",
          "data": {
            "text/plain": [
              "67"
            ]
          },
          "metadata": {},
          "execution_count": 78
        }
      ]
    },
    {
      "cell_type": "code",
      "source": [
        "genes_ids_list_er = list(set(genes_ids_list) - set(check_gene_id))\n",
        "genes_ids_list_er"
      ],
      "metadata": {
        "colab": {
          "base_uri": "https://localhost:8080/"
        },
        "id": "P-y3EAJVctbN",
        "outputId": "f5a6afad-dbf0-42d9-ea66-5596107a04db"
      },
      "execution_count": 79,
      "outputs": [
        {
          "output_type": "execute_result",
          "data": {
            "text/plain": [
              "['08066']"
            ]
          },
          "metadata": {},
          "execution_count": 79
        }
      ]
    },
    {
      "cell_type": "code",
      "source": [
        "genes_links_list_er = [genes_links_list[genes_ids_list.index(g_id)] for g_id in genes_ids_list_er]\n",
        "for link in genes_links_list_er:\n",
        "  print(url_add + link)"
      ],
      "metadata": {
        "colab": {
          "base_uri": "https://localhost:8080/"
        },
        "id": "7kB-GMZmcxiv",
        "outputId": "96882153-f728-4a15-c126-da5399993ec9"
      },
      "execution_count": 80,
      "outputs": [
        {
          "output_type": "stream",
          "name": "stdout",
          "text": [
            "https://www.artsy.net/gene/tokyo-artists?sort=-published_at\n"
          ]
        }
      ]
    },
    {
      "cell_type": "markdown",
      "source": [
        "Pages of these genes ('03133', '03185', '08066') are empty, so everything's allright."
      ],
      "metadata": {
        "id": "kIFogD3Pc_dW"
      }
    },
    {
      "cell_type": "markdown",
      "source": [
        "##### Merging"
      ],
      "metadata": {
        "id": "2cb26xsjlRlr"
      }
    },
    {
      "cell_type": "code",
      "source": [
        "backup_names = ['/artsy_temp_data_add_up_2022-04-20 11:53:00.238091.csv',\n",
        "                '/artsy_temp_data_add_up_2022-04-20 12:44:47.727517.csv',\n",
        "                '/artsy_temp_data_add_up_2022-04-20 12:48:25.313837.csv',\n",
        "                '/artsy_temp_data_add_up_2022-04-20 12:49:40.179878.csv',\n",
        "                '/artsy_temp_data_add_up_2022-04-20 12:50:34.671342.csv',\n",
        "                '/artsy_temp_data_add_up_2022-04-20 12:52:02.920431.csv',\n",
        "                '/artsy_temp_data_add_up_2022-04-20 12:53:09.222609.csv',\n",
        "                '/artsy_temp_data_add_up_2022-04-20 12:54:03.524013.csv',\n",
        "                '/artsy_temp_data_add_up_2022-04-20 12:54:43.669015.csv']"
      ],
      "metadata": {
        "id": "eFljMifSlVw3"
      },
      "execution_count": 12,
      "outputs": []
    },
    {
      "cell_type": "code",
      "source": [
        "df_cat_dat = open_file_csv(backup_names[0], 'backup') # 3. Open file.csv\n",
        "for name in backup_names[1:]:\n",
        "  df_cat_dat_part = open_file_csv(name, 'backup') # 3. Open file.csv\n",
        "  df_cat_dat = pd.concat([df_cat_dat, df_cat_dat_part])\n",
        "\n",
        "df_cat_dat.drop_duplicates(subset = ['gene_id', 'artsy_id'], keep = 'first', inplace = True)\n",
        "df_cat_dat = df_cat_dat.reset_index().drop(['index'], axis=1)\n",
        "\n",
        "df_cat_dat['category_id'] = df_cat_dat['category_id'].dropna().apply(lambda x: str(x) if len(str(x))==cat_id_len else ('0'*(cat_id_len-len(str(x)))+str(x)))\n",
        "df_cat_dat['gene_id'] = df_cat_dat['gene_id'].dropna().apply(lambda x: str(x) if len(str(x))==gen_id_len else ('0'*(gen_id_len-len(str(x)))+str(x)))\n",
        "\n",
        "df_cat_dat.info()"
      ],
      "metadata": {
        "colab": {
          "base_uri": "https://localhost:8080/"
        },
        "id": "0lGQQH4bnXUg",
        "outputId": "3e77a372-0d18-4e0a-9845-aa22298a4ae6"
      },
      "execution_count": 14,
      "outputs": [
        {
          "output_type": "stream",
          "name": "stdout",
          "text": [
            "<class 'pandas.core.frame.DataFrame'>\n",
            "RangeIndex: 4579 entries, 0 to 4578\n",
            "Data columns (total 13 columns):\n",
            " #   Column            Non-Null Count  Dtype  \n",
            "---  ------            --------------  -----  \n",
            " 0   artsy_id          4579 non-null   object \n",
            " 1   name              4579 non-null   object \n",
            " 2   link              4579 non-null   object \n",
            " 3   year              4561 non-null   object \n",
            " 4   artist            4579 non-null   object \n",
            " 5   gallery           4579 non-null   object \n",
            " 6   price             4579 non-null   object \n",
            " 7   gene_id           4579 non-null   object \n",
            " 8   category_id       4579 non-null   object \n",
            " 9   parsing_date      4579 non-null   object \n",
            " 10  updating_date     4579 non-null   object \n",
            " 11  pages_count       4579 non-null   float64\n",
            " 12  second_page_link  0 non-null      float64\n",
            "dtypes: float64(2), object(11)\n",
            "memory usage: 465.2+ KB\n"
          ]
        }
      ]
    },
    {
      "cell_type": "code",
      "source": [
        "df_cat_dat.loc[df_cat_dat['artsy_id'].isna()==True]"
      ],
      "metadata": {
        "colab": {
          "base_uri": "https://localhost:8080/",
          "height": 113
        },
        "id": "LX3Hv2dOnr90",
        "outputId": "03b80979-540c-43ca-b8f1-b0cbd1c812ff"
      },
      "execution_count": 15,
      "outputs": [
        {
          "output_type": "execute_result",
          "data": {
            "text/plain": [
              "Empty DataFrame\n",
              "Columns: [artsy_id, name, link, year, artist, gallery, price, gene_id, category_id, parsing_date, updating_date, pages_count, second_page_link]\n",
              "Index: []"
            ],
            "text/html": [
              "\n",
              "  <div id=\"df-f66a34eb-640b-4bdb-80a4-3d0f51aa0d9c\">\n",
              "    <div class=\"colab-df-container\">\n",
              "      <div>\n",
              "<style scoped>\n",
              "    .dataframe tbody tr th:only-of-type {\n",
              "        vertical-align: middle;\n",
              "    }\n",
              "\n",
              "    .dataframe tbody tr th {\n",
              "        vertical-align: top;\n",
              "    }\n",
              "\n",
              "    .dataframe thead th {\n",
              "        text-align: right;\n",
              "    }\n",
              "</style>\n",
              "<table border=\"1\" class=\"dataframe\">\n",
              "  <thead>\n",
              "    <tr style=\"text-align: right;\">\n",
              "      <th></th>\n",
              "      <th>artsy_id</th>\n",
              "      <th>name</th>\n",
              "      <th>link</th>\n",
              "      <th>year</th>\n",
              "      <th>artist</th>\n",
              "      <th>gallery</th>\n",
              "      <th>price</th>\n",
              "      <th>gene_id</th>\n",
              "      <th>category_id</th>\n",
              "      <th>parsing_date</th>\n",
              "      <th>updating_date</th>\n",
              "      <th>pages_count</th>\n",
              "      <th>second_page_link</th>\n",
              "    </tr>\n",
              "  </thead>\n",
              "  <tbody>\n",
              "  </tbody>\n",
              "</table>\n",
              "</div>\n",
              "      <button class=\"colab-df-convert\" onclick=\"convertToInteractive('df-f66a34eb-640b-4bdb-80a4-3d0f51aa0d9c')\"\n",
              "              title=\"Convert this dataframe to an interactive table.\"\n",
              "              style=\"display:none;\">\n",
              "        \n",
              "  <svg xmlns=\"http://www.w3.org/2000/svg\" height=\"24px\"viewBox=\"0 0 24 24\"\n",
              "       width=\"24px\">\n",
              "    <path d=\"M0 0h24v24H0V0z\" fill=\"none\"/>\n",
              "    <path d=\"M18.56 5.44l.94 2.06.94-2.06 2.06-.94-2.06-.94-.94-2.06-.94 2.06-2.06.94zm-11 1L8.5 8.5l.94-2.06 2.06-.94-2.06-.94L8.5 2.5l-.94 2.06-2.06.94zm10 10l.94 2.06.94-2.06 2.06-.94-2.06-.94-.94-2.06-.94 2.06-2.06.94z\"/><path d=\"M17.41 7.96l-1.37-1.37c-.4-.4-.92-.59-1.43-.59-.52 0-1.04.2-1.43.59L10.3 9.45l-7.72 7.72c-.78.78-.78 2.05 0 2.83L4 21.41c.39.39.9.59 1.41.59.51 0 1.02-.2 1.41-.59l7.78-7.78 2.81-2.81c.8-.78.8-2.07 0-2.86zM5.41 20L4 18.59l7.72-7.72 1.47 1.35L5.41 20z\"/>\n",
              "  </svg>\n",
              "      </button>\n",
              "      \n",
              "  <style>\n",
              "    .colab-df-container {\n",
              "      display:flex;\n",
              "      flex-wrap:wrap;\n",
              "      gap: 12px;\n",
              "    }\n",
              "\n",
              "    .colab-df-convert {\n",
              "      background-color: #E8F0FE;\n",
              "      border: none;\n",
              "      border-radius: 50%;\n",
              "      cursor: pointer;\n",
              "      display: none;\n",
              "      fill: #1967D2;\n",
              "      height: 32px;\n",
              "      padding: 0 0 0 0;\n",
              "      width: 32px;\n",
              "    }\n",
              "\n",
              "    .colab-df-convert:hover {\n",
              "      background-color: #E2EBFA;\n",
              "      box-shadow: 0px 1px 2px rgba(60, 64, 67, 0.3), 0px 1px 3px 1px rgba(60, 64, 67, 0.15);\n",
              "      fill: #174EA6;\n",
              "    }\n",
              "\n",
              "    [theme=dark] .colab-df-convert {\n",
              "      background-color: #3B4455;\n",
              "      fill: #D2E3FC;\n",
              "    }\n",
              "\n",
              "    [theme=dark] .colab-df-convert:hover {\n",
              "      background-color: #434B5C;\n",
              "      box-shadow: 0px 1px 3px 1px rgba(0, 0, 0, 0.15);\n",
              "      filter: drop-shadow(0px 1px 2px rgba(0, 0, 0, 0.3));\n",
              "      fill: #FFFFFF;\n",
              "    }\n",
              "  </style>\n",
              "\n",
              "      <script>\n",
              "        const buttonEl =\n",
              "          document.querySelector('#df-f66a34eb-640b-4bdb-80a4-3d0f51aa0d9c button.colab-df-convert');\n",
              "        buttonEl.style.display =\n",
              "          google.colab.kernel.accessAllowed ? 'block' : 'none';\n",
              "\n",
              "        async function convertToInteractive(key) {\n",
              "          const element = document.querySelector('#df-f66a34eb-640b-4bdb-80a4-3d0f51aa0d9c');\n",
              "          const dataTable =\n",
              "            await google.colab.kernel.invokeFunction('convertToInteractive',\n",
              "                                                     [key], {});\n",
              "          if (!dataTable) return;\n",
              "\n",
              "          const docLinkHtml = 'Like what you see? Visit the ' +\n",
              "            '<a target=\"_blank\" href=https://colab.research.google.com/notebooks/data_table.ipynb>data table notebook</a>'\n",
              "            + ' to learn more about interactive tables.';\n",
              "          element.innerHTML = '';\n",
              "          dataTable['output_type'] = 'display_data';\n",
              "          await google.colab.output.renderOutput(dataTable, element);\n",
              "          const docLink = document.createElement('div');\n",
              "          docLink.innerHTML = docLinkHtml;\n",
              "          element.appendChild(docLink);\n",
              "        }\n",
              "      </script>\n",
              "    </div>\n",
              "  </div>\n",
              "  "
            ]
          },
          "metadata": {},
          "execution_count": 15
        }
      ]
    },
    {
      "cell_type": "code",
      "source": [
        "df_cat_dat.loc[df_cat_dat['gene_id']=='09031'].head()"
      ],
      "metadata": {
        "colab": {
          "base_uri": "https://localhost:8080/",
          "height": 144
        },
        "id": "461M3gL6nv0p",
        "outputId": "835aa9a5-010f-4e26-efb6-d5b5cf2cc5bd"
      },
      "execution_count": 140,
      "outputs": [
        {
          "output_type": "execute_result",
          "data": {
            "text/plain": [
              "    artsy_id name link year artist gallery price gene_id category_id  \\\n",
              "900      NaN  NaN  NaN  NaN    NaN     NaN   NaN   09031          09   \n",
              "\n",
              "    parsing_date updating_date  pages_count second_page_link  \n",
              "900   2022-04-20    2022-04-20          1.0              NaN  "
            ],
            "text/html": [
              "\n",
              "  <div id=\"df-1996909b-663b-4421-8670-dfb8206f5126\">\n",
              "    <div class=\"colab-df-container\">\n",
              "      <div>\n",
              "<style scoped>\n",
              "    .dataframe tbody tr th:only-of-type {\n",
              "        vertical-align: middle;\n",
              "    }\n",
              "\n",
              "    .dataframe tbody tr th {\n",
              "        vertical-align: top;\n",
              "    }\n",
              "\n",
              "    .dataframe thead th {\n",
              "        text-align: right;\n",
              "    }\n",
              "</style>\n",
              "<table border=\"1\" class=\"dataframe\">\n",
              "  <thead>\n",
              "    <tr style=\"text-align: right;\">\n",
              "      <th></th>\n",
              "      <th>artsy_id</th>\n",
              "      <th>name</th>\n",
              "      <th>link</th>\n",
              "      <th>year</th>\n",
              "      <th>artist</th>\n",
              "      <th>gallery</th>\n",
              "      <th>price</th>\n",
              "      <th>gene_id</th>\n",
              "      <th>category_id</th>\n",
              "      <th>parsing_date</th>\n",
              "      <th>updating_date</th>\n",
              "      <th>pages_count</th>\n",
              "      <th>second_page_link</th>\n",
              "    </tr>\n",
              "  </thead>\n",
              "  <tbody>\n",
              "    <tr>\n",
              "      <th>900</th>\n",
              "      <td>NaN</td>\n",
              "      <td>NaN</td>\n",
              "      <td>NaN</td>\n",
              "      <td>NaN</td>\n",
              "      <td>NaN</td>\n",
              "      <td>NaN</td>\n",
              "      <td>NaN</td>\n",
              "      <td>09031</td>\n",
              "      <td>09</td>\n",
              "      <td>2022-04-20</td>\n",
              "      <td>2022-04-20</td>\n",
              "      <td>1.0</td>\n",
              "      <td>NaN</td>\n",
              "    </tr>\n",
              "  </tbody>\n",
              "</table>\n",
              "</div>\n",
              "      <button class=\"colab-df-convert\" onclick=\"convertToInteractive('df-1996909b-663b-4421-8670-dfb8206f5126')\"\n",
              "              title=\"Convert this dataframe to an interactive table.\"\n",
              "              style=\"display:none;\">\n",
              "        \n",
              "  <svg xmlns=\"http://www.w3.org/2000/svg\" height=\"24px\"viewBox=\"0 0 24 24\"\n",
              "       width=\"24px\">\n",
              "    <path d=\"M0 0h24v24H0V0z\" fill=\"none\"/>\n",
              "    <path d=\"M18.56 5.44l.94 2.06.94-2.06 2.06-.94-2.06-.94-.94-2.06-.94 2.06-2.06.94zm-11 1L8.5 8.5l.94-2.06 2.06-.94-2.06-.94L8.5 2.5l-.94 2.06-2.06.94zm10 10l.94 2.06.94-2.06 2.06-.94-2.06-.94-.94-2.06-.94 2.06-2.06.94z\"/><path d=\"M17.41 7.96l-1.37-1.37c-.4-.4-.92-.59-1.43-.59-.52 0-1.04.2-1.43.59L10.3 9.45l-7.72 7.72c-.78.78-.78 2.05 0 2.83L4 21.41c.39.39.9.59 1.41.59.51 0 1.02-.2 1.41-.59l7.78-7.78 2.81-2.81c.8-.78.8-2.07 0-2.86zM5.41 20L4 18.59l7.72-7.72 1.47 1.35L5.41 20z\"/>\n",
              "  </svg>\n",
              "      </button>\n",
              "      \n",
              "  <style>\n",
              "    .colab-df-container {\n",
              "      display:flex;\n",
              "      flex-wrap:wrap;\n",
              "      gap: 12px;\n",
              "    }\n",
              "\n",
              "    .colab-df-convert {\n",
              "      background-color: #E8F0FE;\n",
              "      border: none;\n",
              "      border-radius: 50%;\n",
              "      cursor: pointer;\n",
              "      display: none;\n",
              "      fill: #1967D2;\n",
              "      height: 32px;\n",
              "      padding: 0 0 0 0;\n",
              "      width: 32px;\n",
              "    }\n",
              "\n",
              "    .colab-df-convert:hover {\n",
              "      background-color: #E2EBFA;\n",
              "      box-shadow: 0px 1px 2px rgba(60, 64, 67, 0.3), 0px 1px 3px 1px rgba(60, 64, 67, 0.15);\n",
              "      fill: #174EA6;\n",
              "    }\n",
              "\n",
              "    [theme=dark] .colab-df-convert {\n",
              "      background-color: #3B4455;\n",
              "      fill: #D2E3FC;\n",
              "    }\n",
              "\n",
              "    [theme=dark] .colab-df-convert:hover {\n",
              "      background-color: #434B5C;\n",
              "      box-shadow: 0px 1px 3px 1px rgba(0, 0, 0, 0.15);\n",
              "      filter: drop-shadow(0px 1px 2px rgba(0, 0, 0, 0.3));\n",
              "      fill: #FFFFFF;\n",
              "    }\n",
              "  </style>\n",
              "\n",
              "      <script>\n",
              "        const buttonEl =\n",
              "          document.querySelector('#df-1996909b-663b-4421-8670-dfb8206f5126 button.colab-df-convert');\n",
              "        buttonEl.style.display =\n",
              "          google.colab.kernel.accessAllowed ? 'block' : 'none';\n",
              "\n",
              "        async function convertToInteractive(key) {\n",
              "          const element = document.querySelector('#df-1996909b-663b-4421-8670-dfb8206f5126');\n",
              "          const dataTable =\n",
              "            await google.colab.kernel.invokeFunction('convertToInteractive',\n",
              "                                                     [key], {});\n",
              "          if (!dataTable) return;\n",
              "\n",
              "          const docLinkHtml = 'Like what you see? Visit the ' +\n",
              "            '<a target=\"_blank\" href=https://colab.research.google.com/notebooks/data_table.ipynb>data table notebook</a>'\n",
              "            + ' to learn more about interactive tables.';\n",
              "          element.innerHTML = '';\n",
              "          dataTable['output_type'] = 'display_data';\n",
              "          await google.colab.output.renderOutput(dataTable, element);\n",
              "          const docLink = document.createElement('div');\n",
              "          docLink.innerHTML = docLinkHtml;\n",
              "          element.appendChild(docLink);\n",
              "        }\n",
              "      </script>\n",
              "    </div>\n",
              "  </div>\n",
              "  "
            ]
          },
          "metadata": {},
          "execution_count": 140
        }
      ]
    },
    {
      "cell_type": "code",
      "source": [
        "genes_links_list_er = [genes_links_list[genes_ids_list.index('09031')] for g_id in genes_ids_list_er]\n",
        "for link in genes_links_list_er:\n",
        "  print(url_add + link)"
      ],
      "metadata": {
        "colab": {
          "base_uri": "https://localhost:8080/"
        },
        "id": "a4xGDFubvMsV",
        "outputId": "44ad4214-1318-4da7-f1c4-f12a1fe1078a"
      },
      "execution_count": 142,
      "outputs": [
        {
          "output_type": "stream",
          "name": "stdout",
          "text": [
            "https://www.artsy.net/gene/stone?sort=-published_at\n"
          ]
        }
      ]
    },
    {
      "cell_type": "code",
      "source": [
        "genes_ids_list_er = [str(g_id) for g_id in df_cat_dat.loc[df_cat_dat['artsy_id'].isna()==True]['gene_id']]\n",
        "genes_ids_list_er = list(set(genes_ids_list_er))\n",
        "genes_ids_list_er"
      ],
      "metadata": {
        "colab": {
          "base_uri": "https://localhost:8080/"
        },
        "id": "TQzYxUVxogIM",
        "outputId": "b9dca219-bcd9-4c35-b692-253af0fab065"
      },
      "execution_count": 143,
      "outputs": [
        {
          "output_type": "execute_result",
          "data": {
            "text/plain": [
              "['09031']"
            ]
          },
          "metadata": {},
          "execution_count": 143
        }
      ]
    },
    {
      "cell_type": "code",
      "source": [
        "genes_links_list_er = [genes_links_list[genes_ids_list.index(g_id)] for g_id in genes_ids_list_er]\n",
        "genes_links_list_er"
      ],
      "metadata": {
        "colab": {
          "base_uri": "https://localhost:8080/"
        },
        "id": "ghXuI1ZEvl_B",
        "outputId": "7ac07ff7-bbf3-475a-a4a5-abb5b9560ad4"
      },
      "execution_count": 144,
      "outputs": [
        {
          "output_type": "execute_result",
          "data": {
            "text/plain": [
              "['/gene/stone?sort=-published_at']"
            ]
          },
          "metadata": {},
          "execution_count": 144
        }
      ]
    },
    {
      "cell_type": "code",
      "source": [
        "df_cat_dat = df_cat_dat.dropna(subset=['artsy_id'], axis=0)"
      ],
      "metadata": {
        "id": "l4OAI-divoN0"
      },
      "execution_count": 402,
      "outputs": []
    },
    {
      "cell_type": "markdown",
      "source": [
        "##### Total"
      ],
      "metadata": {
        "id": "1i9nhwwUnMF5"
      }
    },
    {
      "cell_type": "code",
      "source": [
        "df_cat_dat_total = pd.concat([df_cat_dat, df_temp_data_new])\n",
        "df_cat_dat_total.drop_duplicates(subset = ['gene_id', 'artsy_id'], keep = 'first', inplace = True)\n",
        "df_cat_dat_total = df_cat_dat_total.reset_index().drop(['index'], axis=1)"
      ],
      "metadata": {
        "id": "DBMgcARCwfzc"
      },
      "execution_count": 16,
      "outputs": []
    },
    {
      "cell_type": "code",
      "source": [
        "# OR !!!!!!!!!!\n",
        "df_cat_dat_total = df_cat_dat.copy()"
      ],
      "metadata": {
        "id": "RzXIY4fQoFgn"
      },
      "execution_count": 17,
      "outputs": []
    },
    {
      "cell_type": "code",
      "source": [
        "df_cat_dat_total.info()"
      ],
      "metadata": {
        "colab": {
          "base_uri": "https://localhost:8080/"
        },
        "id": "-OKlX76PoE74",
        "outputId": "8f193c61-1132-4a37-9f41-fbbc0dd32367"
      },
      "execution_count": 18,
      "outputs": [
        {
          "output_type": "stream",
          "name": "stdout",
          "text": [
            "<class 'pandas.core.frame.DataFrame'>\n",
            "RangeIndex: 4579 entries, 0 to 4578\n",
            "Data columns (total 13 columns):\n",
            " #   Column            Non-Null Count  Dtype  \n",
            "---  ------            --------------  -----  \n",
            " 0   artsy_id          4579 non-null   object \n",
            " 1   name              4579 non-null   object \n",
            " 2   link              4579 non-null   object \n",
            " 3   year              4561 non-null   object \n",
            " 4   artist            4579 non-null   object \n",
            " 5   gallery           4579 non-null   object \n",
            " 6   price             4579 non-null   object \n",
            " 7   gene_id           4579 non-null   object \n",
            " 8   category_id       4579 non-null   object \n",
            " 9   parsing_date      4579 non-null   object \n",
            " 10  updating_date     4579 non-null   object \n",
            " 11  pages_count       4579 non-null   float64\n",
            " 12  second_page_link  0 non-null      float64\n",
            "dtypes: float64(2), object(11)\n",
            "memory usage: 465.2+ KB\n"
          ]
        }
      ]
    },
    {
      "cell_type": "code",
      "source": [
        "df_cat_dat_total.loc[df_cat_dat_total['artsy_id'].isna()==True]"
      ],
      "metadata": {
        "colab": {
          "base_uri": "https://localhost:8080/",
          "height": 113
        },
        "id": "3KzI0tlFwrxM",
        "outputId": "3311d90b-9b64-42be-f31f-bdeca2f282b1"
      },
      "execution_count": 19,
      "outputs": [
        {
          "output_type": "execute_result",
          "data": {
            "text/plain": [
              "Empty DataFrame\n",
              "Columns: [artsy_id, name, link, year, artist, gallery, price, gene_id, category_id, parsing_date, updating_date, pages_count, second_page_link]\n",
              "Index: []"
            ],
            "text/html": [
              "\n",
              "  <div id=\"df-58ece291-cda3-4962-b1ec-d8829d71db5e\">\n",
              "    <div class=\"colab-df-container\">\n",
              "      <div>\n",
              "<style scoped>\n",
              "    .dataframe tbody tr th:only-of-type {\n",
              "        vertical-align: middle;\n",
              "    }\n",
              "\n",
              "    .dataframe tbody tr th {\n",
              "        vertical-align: top;\n",
              "    }\n",
              "\n",
              "    .dataframe thead th {\n",
              "        text-align: right;\n",
              "    }\n",
              "</style>\n",
              "<table border=\"1\" class=\"dataframe\">\n",
              "  <thead>\n",
              "    <tr style=\"text-align: right;\">\n",
              "      <th></th>\n",
              "      <th>artsy_id</th>\n",
              "      <th>name</th>\n",
              "      <th>link</th>\n",
              "      <th>year</th>\n",
              "      <th>artist</th>\n",
              "      <th>gallery</th>\n",
              "      <th>price</th>\n",
              "      <th>gene_id</th>\n",
              "      <th>category_id</th>\n",
              "      <th>parsing_date</th>\n",
              "      <th>updating_date</th>\n",
              "      <th>pages_count</th>\n",
              "      <th>second_page_link</th>\n",
              "    </tr>\n",
              "  </thead>\n",
              "  <tbody>\n",
              "  </tbody>\n",
              "</table>\n",
              "</div>\n",
              "      <button class=\"colab-df-convert\" onclick=\"convertToInteractive('df-58ece291-cda3-4962-b1ec-d8829d71db5e')\"\n",
              "              title=\"Convert this dataframe to an interactive table.\"\n",
              "              style=\"display:none;\">\n",
              "        \n",
              "  <svg xmlns=\"http://www.w3.org/2000/svg\" height=\"24px\"viewBox=\"0 0 24 24\"\n",
              "       width=\"24px\">\n",
              "    <path d=\"M0 0h24v24H0V0z\" fill=\"none\"/>\n",
              "    <path d=\"M18.56 5.44l.94 2.06.94-2.06 2.06-.94-2.06-.94-.94-2.06-.94 2.06-2.06.94zm-11 1L8.5 8.5l.94-2.06 2.06-.94-2.06-.94L8.5 2.5l-.94 2.06-2.06.94zm10 10l.94 2.06.94-2.06 2.06-.94-2.06-.94-.94-2.06-.94 2.06-2.06.94z\"/><path d=\"M17.41 7.96l-1.37-1.37c-.4-.4-.92-.59-1.43-.59-.52 0-1.04.2-1.43.59L10.3 9.45l-7.72 7.72c-.78.78-.78 2.05 0 2.83L4 21.41c.39.39.9.59 1.41.59.51 0 1.02-.2 1.41-.59l7.78-7.78 2.81-2.81c.8-.78.8-2.07 0-2.86zM5.41 20L4 18.59l7.72-7.72 1.47 1.35L5.41 20z\"/>\n",
              "  </svg>\n",
              "      </button>\n",
              "      \n",
              "  <style>\n",
              "    .colab-df-container {\n",
              "      display:flex;\n",
              "      flex-wrap:wrap;\n",
              "      gap: 12px;\n",
              "    }\n",
              "\n",
              "    .colab-df-convert {\n",
              "      background-color: #E8F0FE;\n",
              "      border: none;\n",
              "      border-radius: 50%;\n",
              "      cursor: pointer;\n",
              "      display: none;\n",
              "      fill: #1967D2;\n",
              "      height: 32px;\n",
              "      padding: 0 0 0 0;\n",
              "      width: 32px;\n",
              "    }\n",
              "\n",
              "    .colab-df-convert:hover {\n",
              "      background-color: #E2EBFA;\n",
              "      box-shadow: 0px 1px 2px rgba(60, 64, 67, 0.3), 0px 1px 3px 1px rgba(60, 64, 67, 0.15);\n",
              "      fill: #174EA6;\n",
              "    }\n",
              "\n",
              "    [theme=dark] .colab-df-convert {\n",
              "      background-color: #3B4455;\n",
              "      fill: #D2E3FC;\n",
              "    }\n",
              "\n",
              "    [theme=dark] .colab-df-convert:hover {\n",
              "      background-color: #434B5C;\n",
              "      box-shadow: 0px 1px 3px 1px rgba(0, 0, 0, 0.15);\n",
              "      filter: drop-shadow(0px 1px 2px rgba(0, 0, 0, 0.3));\n",
              "      fill: #FFFFFF;\n",
              "    }\n",
              "  </style>\n",
              "\n",
              "      <script>\n",
              "        const buttonEl =\n",
              "          document.querySelector('#df-58ece291-cda3-4962-b1ec-d8829d71db5e button.colab-df-convert');\n",
              "        buttonEl.style.display =\n",
              "          google.colab.kernel.accessAllowed ? 'block' : 'none';\n",
              "\n",
              "        async function convertToInteractive(key) {\n",
              "          const element = document.querySelector('#df-58ece291-cda3-4962-b1ec-d8829d71db5e');\n",
              "          const dataTable =\n",
              "            await google.colab.kernel.invokeFunction('convertToInteractive',\n",
              "                                                     [key], {});\n",
              "          if (!dataTable) return;\n",
              "\n",
              "          const docLinkHtml = 'Like what you see? Visit the ' +\n",
              "            '<a target=\"_blank\" href=https://colab.research.google.com/notebooks/data_table.ipynb>data table notebook</a>'\n",
              "            + ' to learn more about interactive tables.';\n",
              "          element.innerHTML = '';\n",
              "          dataTable['output_type'] = 'display_data';\n",
              "          await google.colab.output.renderOutput(dataTable, element);\n",
              "          const docLink = document.createElement('div');\n",
              "          docLink.innerHTML = docLinkHtml;\n",
              "          element.appendChild(docLink);\n",
              "        }\n",
              "      </script>\n",
              "    </div>\n",
              "  </div>\n",
              "  "
            ]
          },
          "metadata": {},
          "execution_count": 19
        }
      ]
    },
    {
      "cell_type": "code",
      "source": [
        "add_up_name_csv = temp_data_add_up.replace('.csv', '') + '_' + str(datetime.now()) + '.csv'\n",
        "print(add_up_name_csv)\n",
        "save_df_file(df_cat_dat_total, add_up_name_csv, 'backup') # 4. Save df to csv file"
      ],
      "metadata": {
        "colab": {
          "base_uri": "https://localhost:8080/"
        },
        "id": "Gcj-5gZIw1F5",
        "outputId": "a9e576cb-5fc9-49dc-88ba-c0a3040d0d17"
      },
      "execution_count": 20,
      "outputs": [
        {
          "output_type": "stream",
          "name": "stdout",
          "text": [
            "/artsy_temp_data_add_up_2022-04-21 05:38:33.509070.csv\n"
          ]
        }
      ]
    },
    {
      "cell_type": "code",
      "source": [
        "print(df_cat_dat_total['category_id'].nunique())\n",
        "df_cat_dat_total['category_id'].unique()"
      ],
      "metadata": {
        "colab": {
          "base_uri": "https://localhost:8080/"
        },
        "id": "tRRvW1YfyJhQ",
        "outputId": "91c5d6da-0247-4d15-ecb4-51a304534c3e"
      },
      "execution_count": 21,
      "outputs": [
        {
          "output_type": "stream",
          "name": "stdout",
          "text": [
            "7\n"
          ]
        },
        {
          "output_type": "execute_result",
          "data": {
            "text/plain": [
              "array(['03', '07', '08', '06', '05', '02', '09'], dtype=object)"
            ]
          },
          "metadata": {},
          "execution_count": 21
        }
      ]
    },
    {
      "cell_type": "code",
      "source": [
        "df_cat_dat_total['artsy_id'].nunique()"
      ],
      "metadata": {
        "colab": {
          "base_uri": "https://localhost:8080/"
        },
        "id": "wXHEz_RZyVz-",
        "outputId": "1d0c035b-8f3c-4c2f-a105-0f124dd69d5a"
      },
      "execution_count": 22,
      "outputs": [
        {
          "output_type": "execute_result",
          "data": {
            "text/plain": [
              "2893"
            ]
          },
          "metadata": {},
          "execution_count": 22
        }
      ]
    },
    {
      "cell_type": "code",
      "source": [
        "artworks_dict = open_dict(artwork_dict, 'live')\n",
        "print(len(artworks_dict))"
      ],
      "metadata": {
        "colab": {
          "base_uri": "https://localhost:8080/"
        },
        "id": "ofR--ulMynbT",
        "outputId": "69349958-2999-46ca-98ae-d181f272f65a"
      },
      "execution_count": 23,
      "outputs": [
        {
          "output_type": "stream",
          "name": "stdout",
          "text": [
            "453832\n"
          ]
        }
      ]
    },
    {
      "cell_type": "code",
      "source": [
        "old_id_list = list(artworks_dict.keys()) # list of str\n",
        "\n",
        "# New df data\n",
        "\n",
        "new_id_list = df_cat_dat_total['artsy_id'].unique() # list of str\n",
        "#cat = [v['category_id'] for v in artworks_dict_new.values()][0] # list of lists with str\n",
        "#print('New category:', cat[0])\n",
        "#print('')\n",
        "\n",
        "new_artwork_id = list(set(new_id_list) - set(old_id_list))\n",
        "cross_artwork_id = list(set(old_id_list) & set(new_id_list))\n",
        "print('New id count:', len(new_artwork_id))\n",
        "print('Cross id count:', len(cross_artwork_id))\n",
        "print('Check the division:', len(new_id_list)==len(new_artwork_id)+len(cross_artwork_id))\n",
        "print('')\n",
        "\n",
        "artworks_dict_total_len = len(old_id_list) + len(new_artwork_id)\n",
        "print('New dict length must be:', artworks_dict_total_len)"
      ],
      "metadata": {
        "colab": {
          "base_uri": "https://localhost:8080/"
        },
        "id": "eNCQ2FZty6AI",
        "outputId": "3aba1dec-26b4-40c5-bf0a-8861c41a78bb"
      },
      "execution_count": 24,
      "outputs": [
        {
          "output_type": "stream",
          "name": "stdout",
          "text": [
            "New id count: 1267\n",
            "Cross id count: 1626\n",
            "Check the division: True\n",
            "\n",
            "New dict length must be: 455099\n"
          ]
        }
      ]
    },
    {
      "cell_type": "code",
      "source": [
        "df_cat_dat_new_ids = df_cat_dat_total.loc[df_cat_dat_total['artsy_id'].isin(new_artwork_id)]\n",
        "df_cat_dat_new_ids.info()"
      ],
      "metadata": {
        "colab": {
          "base_uri": "https://localhost:8080/"
        },
        "id": "rCBPcGdo6ueb",
        "outputId": "efc7edae-0c7d-4eb0-daf3-994dab53452f"
      },
      "execution_count": 25,
      "outputs": [
        {
          "output_type": "stream",
          "name": "stdout",
          "text": [
            "<class 'pandas.core.frame.DataFrame'>\n",
            "Int64Index: 2054 entries, 7 to 4565\n",
            "Data columns (total 13 columns):\n",
            " #   Column            Non-Null Count  Dtype  \n",
            "---  ------            --------------  -----  \n",
            " 0   artsy_id          2054 non-null   object \n",
            " 1   name              2054 non-null   object \n",
            " 2   link              2054 non-null   object \n",
            " 3   year              2051 non-null   object \n",
            " 4   artist            2054 non-null   object \n",
            " 5   gallery           2054 non-null   object \n",
            " 6   price             2054 non-null   object \n",
            " 7   gene_id           2054 non-null   object \n",
            " 8   category_id       2054 non-null   object \n",
            " 9   parsing_date      2054 non-null   object \n",
            " 10  updating_date     2054 non-null   object \n",
            " 11  pages_count       2054 non-null   float64\n",
            " 12  second_page_link  0 non-null      float64\n",
            "dtypes: float64(2), object(11)\n",
            "memory usage: 224.7+ KB\n"
          ]
        }
      ]
    },
    {
      "cell_type": "code",
      "source": [
        "df_cat_dat_new_ids['artsy_id'].nunique()"
      ],
      "metadata": {
        "colab": {
          "base_uri": "https://localhost:8080/"
        },
        "id": "eDJ4v8rwowXJ",
        "outputId": "6bf34cc1-6581-458c-c803-51a3a035e0ca"
      },
      "execution_count": 26,
      "outputs": [
        {
          "output_type": "execute_result",
          "data": {
            "text/plain": [
              "1267"
            ]
          },
          "metadata": {},
          "execution_count": 26
        }
      ]
    },
    {
      "cell_type": "code",
      "source": [
        "df_cat_dat_new_ids.sample(10)"
      ],
      "metadata": {
        "colab": {
          "base_uri": "https://localhost:8080/",
          "height": 861
        },
        "id": "SAfACSlS7CIm",
        "outputId": "de2ea323-eb9c-4eb3-871c-820774be015c"
      },
      "execution_count": 27,
      "outputs": [
        {
          "output_type": "execute_result",
          "data": {
            "text/plain": [
              "                      artsy_id                              name  \\\n",
              "900   625fe8493a746f000c9cf5d4                          Surprise   \n",
              "2738  625e89cf7c4a9a000c8be36a  Shadow Head With Grey Background   \n",
              "657   625f3b1712a136000b762385                   Bad Lands, City   \n",
              "512   624087ab5cf639000da6ec3e                             Rukun   \n",
              "4378  625fc638d59658000c7e7a6d                             Skull   \n",
              "4249  625fc9fe3a746f000c9cd78d  Lupine Tower (Outdoor sculpture)   \n",
              "2082  625e8b9f52873e000b593a65                            Garden   \n",
              "862   6257be6e5fd621000dad8a68                          Untitled   \n",
              "4349  625fc5c89c44bc000cf77fb0                       Take a Walk   \n",
              "635   625f3b0ad98148000b2de29d                MIA Endless Box 04   \n",
              "\n",
              "                                                   link                year  \\\n",
              "900   https://d7hftxdivxxvm.cloudfront.net?resize_to...                2022   \n",
              "2738  https://d7hftxdivxxvm.cloudfront.net?resize_to...                1992   \n",
              "657   https://d7hftxdivxxvm.cloudfront.net?resize_to...                2012   \n",
              "512   https://d7hftxdivxxvm.cloudfront.net?resize_to...                2021   \n",
              "4378  https://d7hftxdivxxvm.cloudfront.net?resize_to...                2019   \n",
              "4249  https://d7hftxdivxxvm.cloudfront.net?resize_to...                2020   \n",
              "2082  https://d7hftxdivxxvm.cloudfront.net?resize_to...  Early 20th Century   \n",
              "862   https://d7hftxdivxxvm.cloudfront.net?resize_to...                2020   \n",
              "4349  https://d7hftxdivxxvm.cloudfront.net?resize_to...                2022   \n",
              "635   https://d7hftxdivxxvm.cloudfront.net?resize_to...                2021   \n",
              "\n",
              "                                                 artist  \\\n",
              "900   Isabel MiramontesSurprise, 2022Galerie Mickael...   \n",
              "2738  Richard HambletonShadow Head With Grey Backgro...   \n",
              "657     FAILEBad Lands, City, 2012GGA GALLERYUS$36,000    \n",
              "512   Sri IrodikromoRukun, 2021Readytex Art GalleryU...   \n",
              "4378  Silvio PorzionatoSkull, 2019Galleria Ferrero€1...   \n",
              "4249  Arne QuinzeLupine Tower (Outdoor sculpture), 2...   \n",
              "2082  Gustave PierreGarden, Early 20th CenturyWallec...   \n",
              "862   Ken GrimesUntitled, 2020Walking House New York...   \n",
              "4349  JPW3Take a Walk, 2022Collaborations by Tania a...   \n",
              "635   FAILEMIA Endless Box 04, 2021GGA GALLERYUS$10,...   \n",
              "\n",
              "                                       gallery              price gene_id  \\\n",
              "900                   Galerie Mickael Marciano  Price on request    07017   \n",
              "2738                            Maddox Gallery  Price on request    03059   \n",
              "657                                GGA GALLERY         US$36,000    08013   \n",
              "512                       Readytex Art Gallery          US$1,200    06078   \n",
              "4378                          Galleria Ferrero           €18,300    03056   \n",
              "4249                   MARUANI MERCIER GALLERY  Price on request    07017   \n",
              "2082                                 Wallector              £320    06045   \n",
              "862                     Walking House New York          US$2,500    02161   \n",
              "4349  Collaborations by Tania and Thomas Asbæk  Price on request    07017   \n",
              "635                                GGA GALLERY         US$10,000    08013   \n",
              "\n",
              "     category_id parsing_date updating_date  pages_count  second_page_link  \n",
              "900           07   2022-04-20    2022-04-20          1.0               NaN  \n",
              "2738          03   2022-04-20    2022-04-20          1.0               NaN  \n",
              "657           08   2022-04-20    2022-04-20          1.0               NaN  \n",
              "512           06   2022-04-20    2022-04-20          1.0               NaN  \n",
              "4378          03   2022-04-20    2022-04-20          1.0               NaN  \n",
              "4249          07   2022-04-20    2022-04-20          1.0               NaN  \n",
              "2082          06   2022-04-20    2022-04-20          1.0               NaN  \n",
              "862           02   2022-04-20    2022-04-20          1.0               NaN  \n",
              "4349          07   2022-04-20    2022-04-20          1.0               NaN  \n",
              "635           08   2022-04-20    2022-04-20          1.0               NaN  "
            ],
            "text/html": [
              "\n",
              "  <div id=\"df-2e024932-8178-41ce-b53b-d5ee2d9c32a8\">\n",
              "    <div class=\"colab-df-container\">\n",
              "      <div>\n",
              "<style scoped>\n",
              "    .dataframe tbody tr th:only-of-type {\n",
              "        vertical-align: middle;\n",
              "    }\n",
              "\n",
              "    .dataframe tbody tr th {\n",
              "        vertical-align: top;\n",
              "    }\n",
              "\n",
              "    .dataframe thead th {\n",
              "        text-align: right;\n",
              "    }\n",
              "</style>\n",
              "<table border=\"1\" class=\"dataframe\">\n",
              "  <thead>\n",
              "    <tr style=\"text-align: right;\">\n",
              "      <th></th>\n",
              "      <th>artsy_id</th>\n",
              "      <th>name</th>\n",
              "      <th>link</th>\n",
              "      <th>year</th>\n",
              "      <th>artist</th>\n",
              "      <th>gallery</th>\n",
              "      <th>price</th>\n",
              "      <th>gene_id</th>\n",
              "      <th>category_id</th>\n",
              "      <th>parsing_date</th>\n",
              "      <th>updating_date</th>\n",
              "      <th>pages_count</th>\n",
              "      <th>second_page_link</th>\n",
              "    </tr>\n",
              "  </thead>\n",
              "  <tbody>\n",
              "    <tr>\n",
              "      <th>900</th>\n",
              "      <td>625fe8493a746f000c9cf5d4</td>\n",
              "      <td>Surprise</td>\n",
              "      <td>https://d7hftxdivxxvm.cloudfront.net?resize_to...</td>\n",
              "      <td>2022</td>\n",
              "      <td>Isabel MiramontesSurprise, 2022Galerie Mickael...</td>\n",
              "      <td>Galerie Mickael Marciano</td>\n",
              "      <td>Price on request</td>\n",
              "      <td>07017</td>\n",
              "      <td>07</td>\n",
              "      <td>2022-04-20</td>\n",
              "      <td>2022-04-20</td>\n",
              "      <td>1.0</td>\n",
              "      <td>NaN</td>\n",
              "    </tr>\n",
              "    <tr>\n",
              "      <th>2738</th>\n",
              "      <td>625e89cf7c4a9a000c8be36a</td>\n",
              "      <td>Shadow Head With Grey Background</td>\n",
              "      <td>https://d7hftxdivxxvm.cloudfront.net?resize_to...</td>\n",
              "      <td>1992</td>\n",
              "      <td>Richard HambletonShadow Head With Grey Backgro...</td>\n",
              "      <td>Maddox Gallery</td>\n",
              "      <td>Price on request</td>\n",
              "      <td>03059</td>\n",
              "      <td>03</td>\n",
              "      <td>2022-04-20</td>\n",
              "      <td>2022-04-20</td>\n",
              "      <td>1.0</td>\n",
              "      <td>NaN</td>\n",
              "    </tr>\n",
              "    <tr>\n",
              "      <th>657</th>\n",
              "      <td>625f3b1712a136000b762385</td>\n",
              "      <td>Bad Lands, City</td>\n",
              "      <td>https://d7hftxdivxxvm.cloudfront.net?resize_to...</td>\n",
              "      <td>2012</td>\n",
              "      <td>FAILEBad Lands, City, 2012GGA GALLERYUS$36,000</td>\n",
              "      <td>GGA GALLERY</td>\n",
              "      <td>US$36,000</td>\n",
              "      <td>08013</td>\n",
              "      <td>08</td>\n",
              "      <td>2022-04-20</td>\n",
              "      <td>2022-04-20</td>\n",
              "      <td>1.0</td>\n",
              "      <td>NaN</td>\n",
              "    </tr>\n",
              "    <tr>\n",
              "      <th>512</th>\n",
              "      <td>624087ab5cf639000da6ec3e</td>\n",
              "      <td>Rukun</td>\n",
              "      <td>https://d7hftxdivxxvm.cloudfront.net?resize_to...</td>\n",
              "      <td>2021</td>\n",
              "      <td>Sri IrodikromoRukun, 2021Readytex Art GalleryU...</td>\n",
              "      <td>Readytex Art Gallery</td>\n",
              "      <td>US$1,200</td>\n",
              "      <td>06078</td>\n",
              "      <td>06</td>\n",
              "      <td>2022-04-20</td>\n",
              "      <td>2022-04-20</td>\n",
              "      <td>1.0</td>\n",
              "      <td>NaN</td>\n",
              "    </tr>\n",
              "    <tr>\n",
              "      <th>4378</th>\n",
              "      <td>625fc638d59658000c7e7a6d</td>\n",
              "      <td>Skull</td>\n",
              "      <td>https://d7hftxdivxxvm.cloudfront.net?resize_to...</td>\n",
              "      <td>2019</td>\n",
              "      <td>Silvio PorzionatoSkull, 2019Galleria Ferrero€1...</td>\n",
              "      <td>Galleria Ferrero</td>\n",
              "      <td>€18,300</td>\n",
              "      <td>03056</td>\n",
              "      <td>03</td>\n",
              "      <td>2022-04-20</td>\n",
              "      <td>2022-04-20</td>\n",
              "      <td>1.0</td>\n",
              "      <td>NaN</td>\n",
              "    </tr>\n",
              "    <tr>\n",
              "      <th>4249</th>\n",
              "      <td>625fc9fe3a746f000c9cd78d</td>\n",
              "      <td>Lupine Tower (Outdoor sculpture)</td>\n",
              "      <td>https://d7hftxdivxxvm.cloudfront.net?resize_to...</td>\n",
              "      <td>2020</td>\n",
              "      <td>Arne QuinzeLupine Tower (Outdoor sculpture), 2...</td>\n",
              "      <td>MARUANI MERCIER GALLERY</td>\n",
              "      <td>Price on request</td>\n",
              "      <td>07017</td>\n",
              "      <td>07</td>\n",
              "      <td>2022-04-20</td>\n",
              "      <td>2022-04-20</td>\n",
              "      <td>1.0</td>\n",
              "      <td>NaN</td>\n",
              "    </tr>\n",
              "    <tr>\n",
              "      <th>2082</th>\n",
              "      <td>625e8b9f52873e000b593a65</td>\n",
              "      <td>Garden</td>\n",
              "      <td>https://d7hftxdivxxvm.cloudfront.net?resize_to...</td>\n",
              "      <td>Early 20th Century</td>\n",
              "      <td>Gustave PierreGarden, Early 20th CenturyWallec...</td>\n",
              "      <td>Wallector</td>\n",
              "      <td>£320</td>\n",
              "      <td>06045</td>\n",
              "      <td>06</td>\n",
              "      <td>2022-04-20</td>\n",
              "      <td>2022-04-20</td>\n",
              "      <td>1.0</td>\n",
              "      <td>NaN</td>\n",
              "    </tr>\n",
              "    <tr>\n",
              "      <th>862</th>\n",
              "      <td>6257be6e5fd621000dad8a68</td>\n",
              "      <td>Untitled</td>\n",
              "      <td>https://d7hftxdivxxvm.cloudfront.net?resize_to...</td>\n",
              "      <td>2020</td>\n",
              "      <td>Ken GrimesUntitled, 2020Walking House New York...</td>\n",
              "      <td>Walking House New York</td>\n",
              "      <td>US$2,500</td>\n",
              "      <td>02161</td>\n",
              "      <td>02</td>\n",
              "      <td>2022-04-20</td>\n",
              "      <td>2022-04-20</td>\n",
              "      <td>1.0</td>\n",
              "      <td>NaN</td>\n",
              "    </tr>\n",
              "    <tr>\n",
              "      <th>4349</th>\n",
              "      <td>625fc5c89c44bc000cf77fb0</td>\n",
              "      <td>Take a Walk</td>\n",
              "      <td>https://d7hftxdivxxvm.cloudfront.net?resize_to...</td>\n",
              "      <td>2022</td>\n",
              "      <td>JPW3Take a Walk, 2022Collaborations by Tania a...</td>\n",
              "      <td>Collaborations by Tania and Thomas Asbæk</td>\n",
              "      <td>Price on request</td>\n",
              "      <td>07017</td>\n",
              "      <td>07</td>\n",
              "      <td>2022-04-20</td>\n",
              "      <td>2022-04-20</td>\n",
              "      <td>1.0</td>\n",
              "      <td>NaN</td>\n",
              "    </tr>\n",
              "    <tr>\n",
              "      <th>635</th>\n",
              "      <td>625f3b0ad98148000b2de29d</td>\n",
              "      <td>MIA Endless Box 04</td>\n",
              "      <td>https://d7hftxdivxxvm.cloudfront.net?resize_to...</td>\n",
              "      <td>2021</td>\n",
              "      <td>FAILEMIA Endless Box 04, 2021GGA GALLERYUS$10,...</td>\n",
              "      <td>GGA GALLERY</td>\n",
              "      <td>US$10,000</td>\n",
              "      <td>08013</td>\n",
              "      <td>08</td>\n",
              "      <td>2022-04-20</td>\n",
              "      <td>2022-04-20</td>\n",
              "      <td>1.0</td>\n",
              "      <td>NaN</td>\n",
              "    </tr>\n",
              "  </tbody>\n",
              "</table>\n",
              "</div>\n",
              "      <button class=\"colab-df-convert\" onclick=\"convertToInteractive('df-2e024932-8178-41ce-b53b-d5ee2d9c32a8')\"\n",
              "              title=\"Convert this dataframe to an interactive table.\"\n",
              "              style=\"display:none;\">\n",
              "        \n",
              "  <svg xmlns=\"http://www.w3.org/2000/svg\" height=\"24px\"viewBox=\"0 0 24 24\"\n",
              "       width=\"24px\">\n",
              "    <path d=\"M0 0h24v24H0V0z\" fill=\"none\"/>\n",
              "    <path d=\"M18.56 5.44l.94 2.06.94-2.06 2.06-.94-2.06-.94-.94-2.06-.94 2.06-2.06.94zm-11 1L8.5 8.5l.94-2.06 2.06-.94-2.06-.94L8.5 2.5l-.94 2.06-2.06.94zm10 10l.94 2.06.94-2.06 2.06-.94-2.06-.94-.94-2.06-.94 2.06-2.06.94z\"/><path d=\"M17.41 7.96l-1.37-1.37c-.4-.4-.92-.59-1.43-.59-.52 0-1.04.2-1.43.59L10.3 9.45l-7.72 7.72c-.78.78-.78 2.05 0 2.83L4 21.41c.39.39.9.59 1.41.59.51 0 1.02-.2 1.41-.59l7.78-7.78 2.81-2.81c.8-.78.8-2.07 0-2.86zM5.41 20L4 18.59l7.72-7.72 1.47 1.35L5.41 20z\"/>\n",
              "  </svg>\n",
              "      </button>\n",
              "      \n",
              "  <style>\n",
              "    .colab-df-container {\n",
              "      display:flex;\n",
              "      flex-wrap:wrap;\n",
              "      gap: 12px;\n",
              "    }\n",
              "\n",
              "    .colab-df-convert {\n",
              "      background-color: #E8F0FE;\n",
              "      border: none;\n",
              "      border-radius: 50%;\n",
              "      cursor: pointer;\n",
              "      display: none;\n",
              "      fill: #1967D2;\n",
              "      height: 32px;\n",
              "      padding: 0 0 0 0;\n",
              "      width: 32px;\n",
              "    }\n",
              "\n",
              "    .colab-df-convert:hover {\n",
              "      background-color: #E2EBFA;\n",
              "      box-shadow: 0px 1px 2px rgba(60, 64, 67, 0.3), 0px 1px 3px 1px rgba(60, 64, 67, 0.15);\n",
              "      fill: #174EA6;\n",
              "    }\n",
              "\n",
              "    [theme=dark] .colab-df-convert {\n",
              "      background-color: #3B4455;\n",
              "      fill: #D2E3FC;\n",
              "    }\n",
              "\n",
              "    [theme=dark] .colab-df-convert:hover {\n",
              "      background-color: #434B5C;\n",
              "      box-shadow: 0px 1px 3px 1px rgba(0, 0, 0, 0.15);\n",
              "      filter: drop-shadow(0px 1px 2px rgba(0, 0, 0, 0.3));\n",
              "      fill: #FFFFFF;\n",
              "    }\n",
              "  </style>\n",
              "\n",
              "      <script>\n",
              "        const buttonEl =\n",
              "          document.querySelector('#df-2e024932-8178-41ce-b53b-d5ee2d9c32a8 button.colab-df-convert');\n",
              "        buttonEl.style.display =\n",
              "          google.colab.kernel.accessAllowed ? 'block' : 'none';\n",
              "\n",
              "        async function convertToInteractive(key) {\n",
              "          const element = document.querySelector('#df-2e024932-8178-41ce-b53b-d5ee2d9c32a8');\n",
              "          const dataTable =\n",
              "            await google.colab.kernel.invokeFunction('convertToInteractive',\n",
              "                                                     [key], {});\n",
              "          if (!dataTable) return;\n",
              "\n",
              "          const docLinkHtml = 'Like what you see? Visit the ' +\n",
              "            '<a target=\"_blank\" href=https://colab.research.google.com/notebooks/data_table.ipynb>data table notebook</a>'\n",
              "            + ' to learn more about interactive tables.';\n",
              "          element.innerHTML = '';\n",
              "          dataTable['output_type'] = 'display_data';\n",
              "          await google.colab.output.renderOutput(dataTable, element);\n",
              "          const docLink = document.createElement('div');\n",
              "          docLink.innerHTML = docLinkHtml;\n",
              "          element.appendChild(docLink);\n",
              "        }\n",
              "      </script>\n",
              "    </div>\n",
              "  </div>\n",
              "  "
            ]
          },
          "metadata": {},
          "execution_count": 27
        }
      ]
    },
    {
      "cell_type": "code",
      "source": [
        "save_df_file(df_cat_dat_new_ids, '/artsy_temp_data_add.csv', 'backup') # 4. Save df to csv file"
      ],
      "metadata": {
        "id": "1D8DnKy17aEI"
      },
      "execution_count": 29,
      "outputs": []
    },
    {
      "cell_type": "markdown",
      "source": [
        "##### Check for parsing next page"
      ],
      "metadata": {
        "id": "cT4fpdaC2I6H"
      }
    },
    {
      "cell_type": "code",
      "source": [
        "gene_grouped_total = df_cat_dat_total.groupby(['gene_id'])['artsy_id'].agg(['count']).reset_index()\n",
        "gene_grouped_new = df_cat_dat_new_ids.groupby(['gene_id'])['artsy_id'].agg(['count']).reset_index()"
      ],
      "metadata": {
        "id": "Am-jz3ohmITx"
      },
      "execution_count": 428,
      "outputs": []
    },
    {
      "cell_type": "code",
      "source": [
        "gene_id_list = list(set(df_cat_dat_new_ids['gene_id'].tolist()))\n",
        "gene_id_dict = {}\n",
        "for gene in gene_id_list:\n",
        "  if gene_grouped_new.loc[gene_grouped_new['gene_id']==gene]['count'].values[0] < gene_grouped_total.loc[gene_grouped_total['gene_id']==gene]['count'].values[0]:\n",
        "    pass\n",
        "  else:\n",
        "    gene_id_dict.update({gene: {'pages_count': df_cat_dat_new_ids.loc[df_cat_dat_new_ids['gene_id']==gene]['pages_count'].mean(),\n",
        "                                'second_page_link': df_cat_dat_new_ids.loc[df_cat_dat_new_ids['gene_id']==gene]['second_page_link'].tolist()[0].replace(url_add, ''),\n",
        "                                'category_id': df_cat_dat_new_ids.loc[df_cat_dat_new_ids['gene_id']==gene]['category_id'].tolist()[0]\n",
        "                                }\n",
        "                         })\n",
        "\n",
        "print('New ids genes count', len(gene_id_list))\n",
        "print('Need to check next pages for', len(gene_id_dict), 'genes')"
      ],
      "metadata": {
        "colab": {
          "base_uri": "https://localhost:8080/"
        },
        "id": "QSoEH2RFn5ne",
        "outputId": "60907145-9a5f-4165-c4b6-d2ab6aac8212"
      },
      "execution_count": 440,
      "outputs": [
        {
          "output_type": "stream",
          "name": "stdout",
          "text": [
            "New ids genes count 288\n",
            "Need to check next pages for 129 genes\n"
          ]
        }
      ]
    },
    {
      "cell_type": "code",
      "source": [
        "gene_id_dict['03142']"
      ],
      "metadata": {
        "colab": {
          "base_uri": "https://localhost:8080/"
        },
        "id": "mvvk3L22xid6",
        "outputId": "7c2fa0f0-3d86-4f07-8fc5-31ddf5bf14c4"
      },
      "execution_count": 441,
      "outputs": [
        {
          "output_type": "execute_result",
          "data": {
            "text/plain": [
              "{'category_id': '03',\n",
              " 'pages_count': 100.0,\n",
              " 'second_page_link': '/gene/hyperrealism-and-photorealism?page=2&sort=-published_at'}"
            ]
          },
          "metadata": {},
          "execution_count": 441
        }
      ]
    },
    {
      "cell_type": "code",
      "source": [
        "genes_links_list = [v['second_page_link'] for v in gene_id_dict.values()]\n",
        "genes_cat_list = [v['category_id'] for v in gene_id_dict.values()]\n",
        "genes_ids_list = list(gene_id_dict.keys())\n",
        "print(len(genes_links_list))\n",
        "print(len(genes_cat_list))\n",
        "print(len(genes_ids_list))"
      ],
      "metadata": {
        "colab": {
          "base_uri": "https://localhost:8080/"
        },
        "id": "35RfcfEjvrRb",
        "outputId": "790c5be5-53eb-42d3-f7eb-adf5e50005fb"
      },
      "execution_count": 442,
      "outputs": [
        {
          "output_type": "stream",
          "name": "stdout",
          "text": [
            "129\n",
            "129\n",
            "129\n"
          ]
        }
      ]
    },
    {
      "cell_type": "markdown",
      "source": [
        "##### Check for parsing next page"
      ],
      "metadata": {
        "id": "N3399IBN2Qxw"
      }
    },
    {
      "cell_type": "code",
      "source": [
        "artworks_dict = open_dict(artwork_dict, 'live')\n",
        "print(len(artworks_dict))"
      ],
      "metadata": {
        "colab": {
          "base_uri": "https://localhost:8080/"
        },
        "id": "Kef6W-EowZPW",
        "outputId": "24faa5e5-1e1d-4086-ae6d-21ef7fc4a824"
      },
      "execution_count": 498,
      "outputs": [
        {
          "output_type": "stream",
          "name": "stdout",
          "text": [
            "453832\n"
          ]
        }
      ]
    },
    {
      "cell_type": "code",
      "source": [
        "old_id_list = list(artworks_dict.keys()) # list of str\n",
        "\n",
        "# New df data\n",
        "\n",
        "new_id_list = df_temp_data_new['artsy_id'].unique() # list of str\n",
        "#cat = [v['category_id'] for v in artworks_dict_new.values()][0] # list of lists with str\n",
        "#print('New category:', cat[0])\n",
        "#print('')\n",
        "\n",
        "new_artwork_id = list(set(new_id_list) - set(old_id_list))\n",
        "cross_artwork_id = list(set(old_id_list) & set(new_id_list))\n",
        "print('New id count:', len(new_artwork_id))\n",
        "print('Cross id count:', len(cross_artwork_id))\n",
        "print('Check the division:', len(new_id_list)==len(new_artwork_id)+len(cross_artwork_id))\n",
        "print('')\n",
        "\n",
        "artworks_dict_total_len = len(old_id_list) + len(new_artwork_id)\n",
        "print('New dict length must be:', artworks_dict_total_len)"
      ],
      "metadata": {
        "colab": {
          "base_uri": "https://localhost:8080/"
        },
        "id": "pFDec0Li2dGd",
        "outputId": "5b26af83-1d58-4020-918c-dbcb42732857"
      },
      "execution_count": 529,
      "outputs": [
        {
          "output_type": "stream",
          "name": "stdout",
          "text": [
            "New id count: 2\n",
            "Cross id count: 28\n",
            "Check the division: True\n",
            "\n",
            "New dict length must be: 453834\n"
          ]
        }
      ]
    },
    {
      "cell_type": "code",
      "source": [
        "df_temp_data_new_ids = df_temp_data_new.loc[df_temp_data_new['artsy_id'].isin(new_artwork_id)]\n",
        "df_temp_data_new_ids.info()"
      ],
      "metadata": {
        "colab": {
          "base_uri": "https://localhost:8080/"
        },
        "id": "GQKGyVtw20pb",
        "outputId": "46bf1e55-dc18-4065-f55a-e3aeb1b9ea26"
      },
      "execution_count": 530,
      "outputs": [
        {
          "output_type": "stream",
          "name": "stdout",
          "text": [
            "<class 'pandas.core.frame.DataFrame'>\n",
            "Int64Index: 2 entries, 0 to 16\n",
            "Data columns (total 13 columns):\n",
            " #   Column            Non-Null Count  Dtype  \n",
            "---  ------            --------------  -----  \n",
            " 0   artsy_id          2 non-null      object \n",
            " 1   name              2 non-null      object \n",
            " 2   link              2 non-null      object \n",
            " 3   year              2 non-null      object \n",
            " 4   artist            2 non-null      object \n",
            " 5   gallery           2 non-null      object \n",
            " 6   price             2 non-null      object \n",
            " 7   gene_id           2 non-null      object \n",
            " 8   category_id       2 non-null      object \n",
            " 9   parsing_date      2 non-null      object \n",
            " 10  updating_date     2 non-null      object \n",
            " 11  pages_count       2 non-null      float64\n",
            " 12  second_page_link  0 non-null      float64\n",
            "dtypes: float64(2), object(11)\n",
            "memory usage: 224.0+ bytes\n"
          ]
        }
      ]
    },
    {
      "cell_type": "code",
      "source": [
        "gene_grouped_total = df_temp_data_new.groupby(['gene_id'])['artsy_id'].agg(['count']).reset_index()\n",
        "gene_grouped_new = df_temp_data_new_ids.groupby(['gene_id'])['artsy_id'].agg(['count']).reset_index()"
      ],
      "metadata": {
        "id": "8_FVaH0q3EIX"
      },
      "execution_count": 531,
      "outputs": []
    },
    {
      "cell_type": "code",
      "source": [
        "gene_id_list_new = list(set(df_temp_data_new_ids['gene_id'].tolist()))\n",
        "gene_id_dict_new = {}\n",
        "for gene in gene_id_list_new:\n",
        "  if gene_grouped_new.loc[gene_grouped_new['gene_id']==gene]['count'].values[0] < gene_grouped_total.loc[gene_grouped_total['gene_id']==gene]['count'].values[0]:\n",
        "    pass\n",
        "  else:\n",
        "    gene_id_dict_new.update({gene: {'pages_count': gene_id_dict[gene]['pages_count'],\n",
        "                                    'second_page_link': gene_id_dict[gene]['second_page_link'],\n",
        "                                    'category_id': df_temp_data_new_ids.loc[df_temp_data_new_ids['gene_id']==gene]['category_id'].tolist()[0]\n",
        "                                }\n",
        "                         })\n",
        "\n",
        "print('New ids genes count', len(gene_id_list_new))\n",
        "print('Need to check next pages for', len(gene_id_dict_new), 'genes')"
      ],
      "metadata": {
        "colab": {
          "base_uri": "https://localhost:8080/"
        },
        "id": "tPYKhYxz3Q8G",
        "outputId": "bcadb6b7-f083-4b81-c590-2b06891e0b52"
      },
      "execution_count": 532,
      "outputs": [
        {
          "output_type": "stream",
          "name": "stdout",
          "text": [
            "New ids genes count 1\n",
            "Need to check next pages for 0 genes\n"
          ]
        }
      ]
    },
    {
      "cell_type": "code",
      "source": [
        "gene_id_dict_new['06111']"
      ],
      "metadata": {
        "id": "z5JUCyoR4TIh"
      },
      "execution_count": 534,
      "outputs": []
    },
    {
      "cell_type": "code",
      "source": [
        "genes_links_list = [v['second_page_link'].split('&')[0][:-1] + str(10) + '&' + v['second_page_link'].split('&')[1] for v in gene_id_dict_new.values()]\n",
        "genes_cat_list = [v['category_id'] for v in gene_id_dict_new.values()]\n",
        "genes_ids_list = list(gene_id_dict_new.keys())\n",
        "print(len(genes_links_list))\n",
        "print(len(genes_cat_list))\n",
        "print(len(genes_ids_list))"
      ],
      "metadata": {
        "colab": {
          "base_uri": "https://localhost:8080/"
        },
        "id": "_Y2oHA-64gne",
        "outputId": "0cc3b509-1aaf-4028-c818-4b44a0c51b36"
      },
      "execution_count": 526,
      "outputs": [
        {
          "output_type": "stream",
          "name": "stdout",
          "text": [
            "1\n",
            "1\n",
            "1\n"
          ]
        }
      ]
    },
    {
      "cell_type": "code",
      "source": [
        "save_df_file(df_temp_data_new, '/artsy_temp_data_add.csv', 'backup') # 4. Save df to csv file"
      ],
      "metadata": {
        "id": "eK7R5tHw4woC"
      },
      "execution_count": 463,
      "outputs": []
    },
    {
      "cell_type": "markdown",
      "metadata": {
        "id": "me4LMXLpJXpb"
      },
      "source": [
        "### Errors' parsing checking"
      ]
    },
    {
      "cell_type": "markdown",
      "metadata": {
        "id": "oITqsRGGGN5v"
      },
      "source": [
        "Checking the completeness of a new data after collecting error genes"
      ]
    },
    {
      "cell_type": "code",
      "execution_count": null,
      "metadata": {
        "id": "TfyZazFSKBD_"
      },
      "outputs": [],
      "source": [
        "# !!!!!!!!!!!!!!!!!"
      ]
    },
    {
      "cell_type": "code",
      "execution_count": null,
      "metadata": {
        "id": "xo3N_hGz9Fsf"
      },
      "outputs": [],
      "source": [
        "# cat 09\n",
        "backup_names = ['/artsy_temp_data_2022-04-18 15:58:00.276252.csv',\n",
        "                '/artsy_temp_data_2022-04-18 16:07:15.086943.csv']"
      ]
    },
    {
      "cell_type": "code",
      "execution_count": null,
      "metadata": {
        "id": "NkPoZBrRWqSC"
      },
      "outputs": [],
      "source": [
        "df_temp_data_new = open_file_csv(backup_names[0], 'backup') # 3. Open file.csv\n",
        "for name in backup_names[1:]:\n",
        "  df_temp_data_new_part = open_file_csv(name, 'backup') # 3. Open file.csv\n",
        "  df_temp_data_new = pd.concat([df_temp_data_new, df_temp_data_new_part])\n",
        "\n",
        "#df_temp_data_new = df_temp_data_new.dropna(subset=['artsy_id'], axis=0) # !!!\n",
        "df_temp_data_new.drop_duplicates(subset = ['gene_id', 'artsy_id'], keep = 'first', inplace = True)\n",
        "df_temp_data_new = df_temp_data_new.reset_index().drop(['index'], axis=1) # !!!\n"
      ]
    },
    {
      "cell_type": "code",
      "execution_count": null,
      "metadata": {
        "id": "22dltH5sFjSf"
      },
      "outputs": [],
      "source": [
        "df_temp_data_new['category_id'] = df_temp_data_new['category_id'].dropna().apply(lambda x: str(x) if len(str(x))==cat_id_len else ('0'*(cat_id_len-len(str(x)))+str(x)))\n",
        "df_temp_data_new['gene_id'] = df_temp_data_new['gene_id'].dropna().apply(lambda x: str(x) if len(str(x))==gen_id_len else ('0'*(gen_id_len-len(str(x)))+str(x)))"
      ]
    },
    {
      "cell_type": "code",
      "execution_count": null,
      "metadata": {
        "id": "cJzBP37sZfSj"
      },
      "outputs": [],
      "source": [
        "# !!!!!!!!!!!!!"
      ]
    },
    {
      "cell_type": "code",
      "execution_count": null,
      "metadata": {
        "colab": {
          "base_uri": "https://localhost:8080/"
        },
        "id": "EeiojKpsGTWX",
        "outputId": "11112ff5-1f90-4eaa-8524-59152d696a69"
      },
      "outputs": [
        {
          "output_type": "stream",
          "name": "stdout",
          "text": [
            "<class 'pandas.core.frame.DataFrame'>\n",
            "Int64Index: 2373 entries, 0 to 7\n",
            "Data columns (total 11 columns):\n",
            " #   Column         Non-Null Count  Dtype \n",
            "---  ------         --------------  ----- \n",
            " 0   artsy_id       2373 non-null   object\n",
            " 1   name           2373 non-null   object\n",
            " 2   link           2373 non-null   object\n",
            " 3   year           2315 non-null   object\n",
            " 4   artist         2373 non-null   object\n",
            " 5   gallery        2357 non-null   object\n",
            " 6   price          2373 non-null   object\n",
            " 7   gene_id        2373 non-null   object\n",
            " 8   category_id    2373 non-null   object\n",
            " 9   parsing_date   2373 non-null   object\n",
            " 10  updating_date  2373 non-null   object\n",
            "dtypes: object(11)\n",
            "memory usage: 222.5+ KB\n"
          ]
        }
      ],
      "source": [
        "df_temp_data_new.info()"
      ]
    },
    {
      "cell_type": "markdown",
      "metadata": {
        "id": "p1Khg-NYI947"
      },
      "source": [
        "Everything is correct in case of empty df. -> Mergening"
      ]
    },
    {
      "cell_type": "code",
      "execution_count": null,
      "metadata": {
        "colab": {
          "base_uri": "https://localhost:8080/",
          "height": 50
        },
        "id": "Q0EGWX07GaY0",
        "outputId": "d5e97a80-b59d-415a-fe41-e4ab40aa3108"
      },
      "outputs": [
        {
          "output_type": "execute_result",
          "data": {
            "text/plain": [
              "Empty DataFrame\n",
              "Columns: [artsy_id, name, link, year, artist, gallery, price, gene_id, category_id, parsing_date, updating_date]\n",
              "Index: []"
            ],
            "text/html": [
              "\n",
              "  <div id=\"df-7d08acdf-41f5-47ff-b068-6f2bbf7b77aa\">\n",
              "    <div class=\"colab-df-container\">\n",
              "      <div>\n",
              "<style scoped>\n",
              "    .dataframe tbody tr th:only-of-type {\n",
              "        vertical-align: middle;\n",
              "    }\n",
              "\n",
              "    .dataframe tbody tr th {\n",
              "        vertical-align: top;\n",
              "    }\n",
              "\n",
              "    .dataframe thead th {\n",
              "        text-align: right;\n",
              "    }\n",
              "</style>\n",
              "<table border=\"1\" class=\"dataframe\">\n",
              "  <thead>\n",
              "    <tr style=\"text-align: right;\">\n",
              "      <th></th>\n",
              "      <th>artsy_id</th>\n",
              "      <th>name</th>\n",
              "      <th>link</th>\n",
              "      <th>year</th>\n",
              "      <th>artist</th>\n",
              "      <th>gallery</th>\n",
              "      <th>price</th>\n",
              "      <th>gene_id</th>\n",
              "      <th>category_id</th>\n",
              "      <th>parsing_date</th>\n",
              "      <th>updating_date</th>\n",
              "    </tr>\n",
              "  </thead>\n",
              "  <tbody>\n",
              "  </tbody>\n",
              "</table>\n",
              "</div>\n",
              "      <button class=\"colab-df-convert\" onclick=\"convertToInteractive('df-7d08acdf-41f5-47ff-b068-6f2bbf7b77aa')\"\n",
              "              title=\"Convert this dataframe to an interactive table.\"\n",
              "              style=\"display:none;\">\n",
              "        \n",
              "  <svg xmlns=\"http://www.w3.org/2000/svg\" height=\"24px\"viewBox=\"0 0 24 24\"\n",
              "       width=\"24px\">\n",
              "    <path d=\"M0 0h24v24H0V0z\" fill=\"none\"/>\n",
              "    <path d=\"M18.56 5.44l.94 2.06.94-2.06 2.06-.94-2.06-.94-.94-2.06-.94 2.06-2.06.94zm-11 1L8.5 8.5l.94-2.06 2.06-.94-2.06-.94L8.5 2.5l-.94 2.06-2.06.94zm10 10l.94 2.06.94-2.06 2.06-.94-2.06-.94-.94-2.06-.94 2.06-2.06.94z\"/><path d=\"M17.41 7.96l-1.37-1.37c-.4-.4-.92-.59-1.43-.59-.52 0-1.04.2-1.43.59L10.3 9.45l-7.72 7.72c-.78.78-.78 2.05 0 2.83L4 21.41c.39.39.9.59 1.41.59.51 0 1.02-.2 1.41-.59l7.78-7.78 2.81-2.81c.8-.78.8-2.07 0-2.86zM5.41 20L4 18.59l7.72-7.72 1.47 1.35L5.41 20z\"/>\n",
              "  </svg>\n",
              "      </button>\n",
              "      \n",
              "  <style>\n",
              "    .colab-df-container {\n",
              "      display:flex;\n",
              "      flex-wrap:wrap;\n",
              "      gap: 12px;\n",
              "    }\n",
              "\n",
              "    .colab-df-convert {\n",
              "      background-color: #E8F0FE;\n",
              "      border: none;\n",
              "      border-radius: 50%;\n",
              "      cursor: pointer;\n",
              "      display: none;\n",
              "      fill: #1967D2;\n",
              "      height: 32px;\n",
              "      padding: 0 0 0 0;\n",
              "      width: 32px;\n",
              "    }\n",
              "\n",
              "    .colab-df-convert:hover {\n",
              "      background-color: #E2EBFA;\n",
              "      box-shadow: 0px 1px 2px rgba(60, 64, 67, 0.3), 0px 1px 3px 1px rgba(60, 64, 67, 0.15);\n",
              "      fill: #174EA6;\n",
              "    }\n",
              "\n",
              "    [theme=dark] .colab-df-convert {\n",
              "      background-color: #3B4455;\n",
              "      fill: #D2E3FC;\n",
              "    }\n",
              "\n",
              "    [theme=dark] .colab-df-convert:hover {\n",
              "      background-color: #434B5C;\n",
              "      box-shadow: 0px 1px 3px 1px rgba(0, 0, 0, 0.15);\n",
              "      filter: drop-shadow(0px 1px 2px rgba(0, 0, 0, 0.3));\n",
              "      fill: #FFFFFF;\n",
              "    }\n",
              "  </style>\n",
              "\n",
              "      <script>\n",
              "        const buttonEl =\n",
              "          document.querySelector('#df-7d08acdf-41f5-47ff-b068-6f2bbf7b77aa button.colab-df-convert');\n",
              "        buttonEl.style.display =\n",
              "          google.colab.kernel.accessAllowed ? 'block' : 'none';\n",
              "\n",
              "        async function convertToInteractive(key) {\n",
              "          const element = document.querySelector('#df-7d08acdf-41f5-47ff-b068-6f2bbf7b77aa');\n",
              "          const dataTable =\n",
              "            await google.colab.kernel.invokeFunction('convertToInteractive',\n",
              "                                                     [key], {});\n",
              "          if (!dataTable) return;\n",
              "\n",
              "          const docLinkHtml = 'Like what you see? Visit the ' +\n",
              "            '<a target=\"_blank\" href=https://colab.research.google.com/notebooks/data_table.ipynb>data table notebook</a>'\n",
              "            + ' to learn more about interactive tables.';\n",
              "          element.innerHTML = '';\n",
              "          dataTable['output_type'] = 'display_data';\n",
              "          await google.colab.output.renderOutput(dataTable, element);\n",
              "          const docLink = document.createElement('div');\n",
              "          docLink.innerHTML = docLinkHtml;\n",
              "          element.appendChild(docLink);\n",
              "        }\n",
              "      </script>\n",
              "    </div>\n",
              "  </div>\n",
              "  "
            ]
          },
          "metadata": {},
          "execution_count": 199
        }
      ],
      "source": [
        "df_temp_data_new.loc[df_temp_data_new['artsy_id'].isna()==True]"
      ]
    },
    {
      "cell_type": "code",
      "execution_count": null,
      "metadata": {
        "colab": {
          "base_uri": "https://localhost:8080/",
          "height": 600
        },
        "id": "sDAWriESwJjd",
        "outputId": "e5f8e558-e11d-4bc9-ba3c-ab28046602e7"
      },
      "outputs": [
        {
          "data": {
            "text/html": [
              "\n",
              "  <div id=\"df-8d67e2ed-0fe0-4a3f-8300-b9cc29f76ef6\">\n",
              "    <div class=\"colab-df-container\">\n",
              "      <div>\n",
              "<style scoped>\n",
              "    .dataframe tbody tr th:only-of-type {\n",
              "        vertical-align: middle;\n",
              "    }\n",
              "\n",
              "    .dataframe tbody tr th {\n",
              "        vertical-align: top;\n",
              "    }\n",
              "\n",
              "    .dataframe thead th {\n",
              "        text-align: right;\n",
              "    }\n",
              "</style>\n",
              "<table border=\"1\" class=\"dataframe\">\n",
              "  <thead>\n",
              "    <tr style=\"text-align: right;\">\n",
              "      <th></th>\n",
              "      <th>artsy_id</th>\n",
              "      <th>name</th>\n",
              "      <th>link</th>\n",
              "      <th>year</th>\n",
              "      <th>artist</th>\n",
              "      <th>gallery</th>\n",
              "      <th>price</th>\n",
              "      <th>gene_id</th>\n",
              "      <th>category_id</th>\n",
              "      <th>parsing_date</th>\n",
              "      <th>updating_date</th>\n",
              "    </tr>\n",
              "  </thead>\n",
              "  <tbody>\n",
              "    <tr>\n",
              "      <th>0</th>\n",
              "      <td>6234540a64caba000b7d3d9e</td>\n",
              "      <td>Osvaldo Borsani &amp; Eugenio Gerli for Tecno Oval...</td>\n",
              "      <td>https://d7hftxdivxxvm.cloudfront.net?resize_to...</td>\n",
              "      <td>1968</td>\n",
              "      <td>Osvaldo Borsani, Eugenio GerliOsvaldo Borsani ...</td>\n",
              "      <td>MORENTZ</td>\n",
              "      <td>US$6,450</td>\n",
              "      <td>04016</td>\n",
              "      <td>04</td>\n",
              "      <td>2022-04-19</td>\n",
              "      <td>2022-04-19</td>\n",
              "    </tr>\n",
              "    <tr>\n",
              "      <th>1</th>\n",
              "      <td>623b0890478704000b678259</td>\n",
              "      <td>Desk</td>\n",
              "      <td>https://d7hftxdivxxvm.cloudfront.net?resize_to...</td>\n",
              "      <td>ca. 1960</td>\n",
              "      <td>Marco ZanusoDesk , ca. 1960Gokelaere &amp; Robinso...</td>\n",
              "      <td>Gokelaere &amp; Robinson</td>\n",
              "      <td>€25,000</td>\n",
              "      <td>04016</td>\n",
              "      <td>04</td>\n",
              "      <td>2022-04-19</td>\n",
              "      <td>2022-04-19</td>\n",
              "    </tr>\n",
              "    <tr>\n",
              "      <th>2</th>\n",
              "      <td>545a72c57261692cdfe90100</td>\n",
              "      <td>\"Nitor,\" Bronze Candlestick</td>\n",
              "      <td>https://d7hftxdivxxvm.cloudfront.net?resize_to...</td>\n",
              "      <td>2014</td>\n",
              "      <td>Aldus\"Nitor,\" Bronze Candlestick, 2014Maison G...</td>\n",
              "      <td>Maison Gerard</td>\n",
              "      <td>US$6,200</td>\n",
              "      <td>04016</td>\n",
              "      <td>04</td>\n",
              "      <td>2022-04-19</td>\n",
              "      <td>2022-04-19</td>\n",
              "    </tr>\n",
              "    <tr>\n",
              "      <th>3</th>\n",
              "      <td>5592bc6e7261693ebf00003d</td>\n",
              "      <td>Try Tray</td>\n",
              "      <td>https://d7hftxdivxxvm.cloudfront.net?resize_to...</td>\n",
              "      <td>1995</td>\n",
              "      <td>Gaetano PesceTry Tray, 1995The Modern ArchiveU...</td>\n",
              "      <td>The Modern Archive</td>\n",
              "      <td>US$595</td>\n",
              "      <td>04016</td>\n",
              "      <td>04</td>\n",
              "      <td>2022-04-19</td>\n",
              "      <td>2022-04-19</td>\n",
              "    </tr>\n",
              "    <tr>\n",
              "      <th>4</th>\n",
              "      <td>53eac6aa7261691149ef0000</td>\n",
              "      <td>Octopus Chandelier</td>\n",
              "      <td>https://d7hftxdivxxvm.cloudfront.net?resize_to...</td>\n",
              "      <td>2014</td>\n",
              "      <td>Achille SalvagniOctopus Chandelier, 2014Maison...</td>\n",
              "      <td>Maison Gerard</td>\n",
              "      <td>US$147,500</td>\n",
              "      <td>04016</td>\n",
              "      <td>04</td>\n",
              "      <td>2022-04-19</td>\n",
              "      <td>2022-04-19</td>\n",
              "    </tr>\n",
              "  </tbody>\n",
              "</table>\n",
              "</div>\n",
              "      <button class=\"colab-df-convert\" onclick=\"convertToInteractive('df-8d67e2ed-0fe0-4a3f-8300-b9cc29f76ef6')\"\n",
              "              title=\"Convert this dataframe to an interactive table.\"\n",
              "              style=\"display:none;\">\n",
              "        \n",
              "  <svg xmlns=\"http://www.w3.org/2000/svg\" height=\"24px\"viewBox=\"0 0 24 24\"\n",
              "       width=\"24px\">\n",
              "    <path d=\"M0 0h24v24H0V0z\" fill=\"none\"/>\n",
              "    <path d=\"M18.56 5.44l.94 2.06.94-2.06 2.06-.94-2.06-.94-.94-2.06-.94 2.06-2.06.94zm-11 1L8.5 8.5l.94-2.06 2.06-.94-2.06-.94L8.5 2.5l-.94 2.06-2.06.94zm10 10l.94 2.06.94-2.06 2.06-.94-2.06-.94-.94-2.06-.94 2.06-2.06.94z\"/><path d=\"M17.41 7.96l-1.37-1.37c-.4-.4-.92-.59-1.43-.59-.52 0-1.04.2-1.43.59L10.3 9.45l-7.72 7.72c-.78.78-.78 2.05 0 2.83L4 21.41c.39.39.9.59 1.41.59.51 0 1.02-.2 1.41-.59l7.78-7.78 2.81-2.81c.8-.78.8-2.07 0-2.86zM5.41 20L4 18.59l7.72-7.72 1.47 1.35L5.41 20z\"/>\n",
              "  </svg>\n",
              "      </button>\n",
              "      \n",
              "  <style>\n",
              "    .colab-df-container {\n",
              "      display:flex;\n",
              "      flex-wrap:wrap;\n",
              "      gap: 12px;\n",
              "    }\n",
              "\n",
              "    .colab-df-convert {\n",
              "      background-color: #E8F0FE;\n",
              "      border: none;\n",
              "      border-radius: 50%;\n",
              "      cursor: pointer;\n",
              "      display: none;\n",
              "      fill: #1967D2;\n",
              "      height: 32px;\n",
              "      padding: 0 0 0 0;\n",
              "      width: 32px;\n",
              "    }\n",
              "\n",
              "    .colab-df-convert:hover {\n",
              "      background-color: #E2EBFA;\n",
              "      box-shadow: 0px 1px 2px rgba(60, 64, 67, 0.3), 0px 1px 3px 1px rgba(60, 64, 67, 0.15);\n",
              "      fill: #174EA6;\n",
              "    }\n",
              "\n",
              "    [theme=dark] .colab-df-convert {\n",
              "      background-color: #3B4455;\n",
              "      fill: #D2E3FC;\n",
              "    }\n",
              "\n",
              "    [theme=dark] .colab-df-convert:hover {\n",
              "      background-color: #434B5C;\n",
              "      box-shadow: 0px 1px 3px 1px rgba(0, 0, 0, 0.15);\n",
              "      filter: drop-shadow(0px 1px 2px rgba(0, 0, 0, 0.3));\n",
              "      fill: #FFFFFF;\n",
              "    }\n",
              "  </style>\n",
              "\n",
              "      <script>\n",
              "        const buttonEl =\n",
              "          document.querySelector('#df-8d67e2ed-0fe0-4a3f-8300-b9cc29f76ef6 button.colab-df-convert');\n",
              "        buttonEl.style.display =\n",
              "          google.colab.kernel.accessAllowed ? 'block' : 'none';\n",
              "\n",
              "        async function convertToInteractive(key) {\n",
              "          const element = document.querySelector('#df-8d67e2ed-0fe0-4a3f-8300-b9cc29f76ef6');\n",
              "          const dataTable =\n",
              "            await google.colab.kernel.invokeFunction('convertToInteractive',\n",
              "                                                     [key], {});\n",
              "          if (!dataTable) return;\n",
              "\n",
              "          const docLinkHtml = 'Like what you see? Visit the ' +\n",
              "            '<a target=\"_blank\" href=https://colab.research.google.com/notebooks/data_table.ipynb>data table notebook</a>'\n",
              "            + ' to learn more about interactive tables.';\n",
              "          element.innerHTML = '';\n",
              "          dataTable['output_type'] = 'display_data';\n",
              "          await google.colab.output.renderOutput(dataTable, element);\n",
              "          const docLink = document.createElement('div');\n",
              "          docLink.innerHTML = docLinkHtml;\n",
              "          element.appendChild(docLink);\n",
              "        }\n",
              "      </script>\n",
              "    </div>\n",
              "  </div>\n",
              "  "
            ],
            "text/plain": [
              "                   artsy_id  \\\n",
              "0  6234540a64caba000b7d3d9e   \n",
              "1  623b0890478704000b678259   \n",
              "2  545a72c57261692cdfe90100   \n",
              "3  5592bc6e7261693ebf00003d   \n",
              "4  53eac6aa7261691149ef0000   \n",
              "\n",
              "                                                name  \\\n",
              "0  Osvaldo Borsani & Eugenio Gerli for Tecno Oval...   \n",
              "1                                              Desk    \n",
              "2                        \"Nitor,\" Bronze Candlestick   \n",
              "3                                           Try Tray   \n",
              "4                                 Octopus Chandelier   \n",
              "\n",
              "                                                link      year  \\\n",
              "0  https://d7hftxdivxxvm.cloudfront.net?resize_to...      1968   \n",
              "1  https://d7hftxdivxxvm.cloudfront.net?resize_to...  ca. 1960   \n",
              "2  https://d7hftxdivxxvm.cloudfront.net?resize_to...      2014   \n",
              "3  https://d7hftxdivxxvm.cloudfront.net?resize_to...      1995   \n",
              "4  https://d7hftxdivxxvm.cloudfront.net?resize_to...      2014   \n",
              "\n",
              "                                              artist               gallery  \\\n",
              "0  Osvaldo Borsani, Eugenio GerliOsvaldo Borsani ...               MORENTZ   \n",
              "1  Marco ZanusoDesk , ca. 1960Gokelaere & Robinso...  Gokelaere & Robinson   \n",
              "2  Aldus\"Nitor,\" Bronze Candlestick, 2014Maison G...         Maison Gerard   \n",
              "3  Gaetano PesceTry Tray, 1995The Modern ArchiveU...    The Modern Archive   \n",
              "4  Achille SalvagniOctopus Chandelier, 2014Maison...         Maison Gerard   \n",
              "\n",
              "         price gene_id category_id parsing_date updating_date  \n",
              "0    US$6,450    04016          04   2022-04-19    2022-04-19  \n",
              "1     €25,000    04016          04   2022-04-19    2022-04-19  \n",
              "2    US$6,200    04016          04   2022-04-19    2022-04-19  \n",
              "3      US$595    04016          04   2022-04-19    2022-04-19  \n",
              "4  US$147,500    04016          04   2022-04-19    2022-04-19  "
            ]
          },
          "execution_count": 152,
          "metadata": {},
          "output_type": "execute_result"
        }
      ],
      "source": [
        "df_temp_data_new.loc[df_temp_data_new['gene_id']=='04016'].head()"
      ]
    },
    {
      "cell_type": "code",
      "execution_count": null,
      "metadata": {
        "colab": {
          "base_uri": "https://localhost:8080/"
        },
        "id": "p2KfxF8CwzBj",
        "outputId": "c2792ef6-2b0f-49f6-d985-96f7fd62b5cc"
      },
      "outputs": [
        {
          "name": "stdout",
          "output_type": "stream",
          "text": [
            "https://www.artsy.net/gene/italian-furniture-and-design\n",
            "04016\n"
          ]
        }
      ],
      "source": [
        "print(url_add + genes_links_list[15])\n",
        "print(genes_ids_list[15])"
      ]
    },
    {
      "cell_type": "code",
      "execution_count": null,
      "metadata": {
        "id": "vjCpxAHQXszL"
      },
      "outputs": [],
      "source": [
        "genes_ids_list_er = [genes_ids_list[15]]\n",
        "genes_links_list_er = [genes_links_list[15]]"
      ]
    },
    {
      "cell_type": "code",
      "execution_count": null,
      "metadata": {
        "id": "L8LYT7Iu9lm2"
      },
      "outputs": [],
      "source": [
        "# or"
      ]
    },
    {
      "cell_type": "code",
      "execution_count": null,
      "metadata": {
        "colab": {
          "base_uri": "https://localhost:8080/"
        },
        "id": "x5bv0S7r9m7D",
        "outputId": "f1e078b0-f9e5-4569-ec7d-5f0ef76bd1ac"
      },
      "outputs": [
        {
          "data": {
            "text/plain": [
              "['09039', '09031']"
            ]
          },
          "execution_count": 470,
          "metadata": {},
          "output_type": "execute_result"
        }
      ],
      "source": [
        "genes_ids_list_er = [g_id for g_id in df_temp_data_new.loc[df_temp_data_new['artsy_id'].isna()==True]['gene_id']]\n",
        "genes_ids_list_er = list(set(genes_ids_list_er))\n",
        "genes_ids_list_er"
      ]
    },
    {
      "cell_type": "code",
      "execution_count": null,
      "metadata": {
        "colab": {
          "base_uri": "https://localhost:8080/"
        },
        "id": "yPniDa169lYk",
        "outputId": "d5f2fbe8-ae08-4ac4-f26d-4cbe7968aef9"
      },
      "outputs": [
        {
          "data": {
            "text/plain": [
              "['/gene/wood', '/gene/stone']"
            ]
          },
          "execution_count": 471,
          "metadata": {},
          "output_type": "execute_result"
        }
      ],
      "source": [
        "genes_links_list_er = [genes_links_list[genes_ids_list.index(g_id)] for g_id in genes_ids_list_er]\n",
        "genes_links_list_er"
      ]
    },
    {
      "cell_type": "code",
      "execution_count": null,
      "metadata": {
        "id": "RF62RrmNPH6h"
      },
      "outputs": [],
      "source": [
        "df_temp_data_new = df_temp_data_new.dropna(subset=['artsy_id'], axis=0)"
      ]
    },
    {
      "cell_type": "code",
      "execution_count": null,
      "metadata": {
        "id": "JVckAqK1P_A3"
      },
      "outputs": [],
      "source": [
        "save_df_file(df_temp_data_new, new_name_csv, 'backup') # 4. Save df to csv file"
      ]
    },
    {
      "cell_type": "markdown",
      "metadata": {
        "id": "ZdC9pBK-JkVs"
      },
      "source": [
        "### Primary parsing checking"
      ]
    },
    {
      "cell_type": "markdown",
      "metadata": {
        "id": "oHgl1Dd5GIt2"
      },
      "source": [
        "Checking the completeness of the data"
      ]
    },
    {
      "cell_type": "code",
      "execution_count": 302,
      "metadata": {
        "id": "WLTg1ENsUO92",
        "colab": {
          "base_uri": "https://localhost:8080/"
        },
        "outputId": "a571f98c-87e3-4199-ef81-a5a0b5e793dc"
      },
      "outputs": [
        {
          "output_type": "execute_result",
          "data": {
            "text/plain": [
              "['/artsy_temp_data_2022-04-20 08:38:11.107399.csv']"
            ]
          },
          "metadata": {},
          "execution_count": 302
        }
      ],
      "source": [
        "# cat 06 NEW GENE\n",
        "#backup_names = ['/artsy_temp_data_2022-04-09 06:44:32.738152.csv']\n",
        "backup_names"
      ]
    },
    {
      "cell_type": "code",
      "execution_count": null,
      "metadata": {
        "id": "kmzWTP3XS26u"
      },
      "outputs": [],
      "source": [
        "df_cat_dat = open_file_csv(backup_names[0], 'backup') # 3. Open file.csv\n",
        "for name in backup_names[1:]:\n",
        "  df_cat_dat_part = open_file_csv(name, 'backup') # 3. Open file.csv\n",
        "  df_cat_dat = pd.concat([df_cat_dat, df_cat_dat_part])"
      ]
    },
    {
      "cell_type": "code",
      "execution_count": 303,
      "metadata": {
        "id": "oXhuZHAL-s5C"
      },
      "outputs": [],
      "source": [
        "# or\n",
        "df_cat_dat = open_file_csv(backup_names[0], 'backup') # 3. Open file.csv"
      ]
    },
    {
      "cell_type": "code",
      "execution_count": 304,
      "metadata": {
        "colab": {
          "base_uri": "https://localhost:8080/"
        },
        "id": "7nJhFNHn-1sX",
        "outputId": "2862cef3-c152-462f-f52d-07add134f329"
      },
      "outputs": [
        {
          "output_type": "stream",
          "name": "stdout",
          "text": [
            "<class 'pandas.core.frame.DataFrame'>\n",
            "RangeIndex: 263 entries, 0 to 262\n",
            "Data columns (total 11 columns):\n",
            " #   Column         Non-Null Count  Dtype \n",
            "---  ------         --------------  ----- \n",
            " 0   artsy_id       263 non-null    object\n",
            " 1   name           263 non-null    object\n",
            " 2   link           263 non-null    object\n",
            " 3   year           257 non-null    object\n",
            " 4   artist         263 non-null    object\n",
            " 5   gallery        263 non-null    object\n",
            " 6   price          263 non-null    object\n",
            " 7   gene_id        263 non-null    int64 \n",
            " 8   category_id    263 non-null    int64 \n",
            " 9   parsing_date   263 non-null    object\n",
            " 10  updating_date  263 non-null    object\n",
            "dtypes: int64(2), object(9)\n",
            "memory usage: 22.7+ KB\n"
          ]
        }
      ],
      "source": [
        "df_cat_dat.info()"
      ]
    },
    {
      "cell_type": "code",
      "source": [
        "df_cat_dat['category_id'].unique()"
      ],
      "metadata": {
        "colab": {
          "base_uri": "https://localhost:8080/"
        },
        "id": "q6SIHCQwUc-l",
        "outputId": "33809155-cec2-47b5-8168-18313847544a"
      },
      "execution_count": 305,
      "outputs": [
        {
          "output_type": "execute_result",
          "data": {
            "text/plain": [
              "array([6])"
            ]
          },
          "metadata": {},
          "execution_count": 305
        }
      ]
    },
    {
      "cell_type": "code",
      "source": [
        "# !!!!!!!!!!!!!!!!"
      ],
      "metadata": {
        "id": "qSsl97naWxxf"
      },
      "execution_count": null,
      "outputs": []
    },
    {
      "cell_type": "code",
      "source": [
        "df_cat_dat_nan = df_cat_dat.loc[df_cat_dat['category_id'].isna()==True]\n",
        "df_cat_dat_nan.info()"
      ],
      "metadata": {
        "colab": {
          "base_uri": "https://localhost:8080/"
        },
        "id": "PtovFp3fWQq4",
        "outputId": "a5214458-61d3-447f-e2f3-854d8320cf42"
      },
      "execution_count": null,
      "outputs": [
        {
          "output_type": "stream",
          "name": "stdout",
          "text": [
            "<class 'pandas.core.frame.DataFrame'>\n",
            "Int64Index: 2 entries, 2611 to 4705\n",
            "Data columns (total 11 columns):\n",
            " #   Column         Non-Null Count  Dtype  \n",
            "---  ------         --------------  -----  \n",
            " 0   artsy_id       2 non-null      object \n",
            " 1   name           2 non-null      object \n",
            " 2   link           0 non-null      object \n",
            " 3   year           0 non-null      object \n",
            " 4   artist         0 non-null      object \n",
            " 5   gallery        0 non-null      object \n",
            " 6   price          0 non-null      object \n",
            " 7   gene_id        0 non-null      float64\n",
            " 8   category_id    0 non-null      object \n",
            " 9   parsing_date   0 non-null      object \n",
            " 10  updating_date  0 non-null      object \n",
            "dtypes: float64(1), object(10)\n",
            "memory usage: 192.0+ bytes\n"
          ]
        }
      ]
    },
    {
      "cell_type": "code",
      "source": [
        "df_cat_dat_nan"
      ],
      "metadata": {
        "colab": {
          "base_uri": "https://localhost:8080/",
          "height": 225
        },
        "id": "nz5jx4THWfdT",
        "outputId": "3834509c-1da9-405d-f02c-e795b06b53a6"
      },
      "execution_count": null,
      "outputs": [
        {
          "output_type": "execute_result",
          "data": {
            "text/plain": [
              "                      artsy_id                                name link year  \\\n",
              "2611  61698fb5299f47000de9a839  ‘Ero’ chairs by Starck for Kartell  NaN  NaN   \n",
              "4705  61698fb5299f47000de9a839  ‘Ero’ chairs by Starck for Kartell  NaN  NaN   \n",
              "\n",
              "     artist gallery price  gene_id category_id parsing_date updating_date  \n",
              "2611    NaN     NaN   NaN      NaN         NaN          NaN           NaN  \n",
              "4705    NaN     NaN   NaN      NaN         NaN          NaN           NaN  "
            ],
            "text/html": [
              "\n",
              "  <div id=\"df-5d1f8b65-8737-4b26-becd-979db77c396d\">\n",
              "    <div class=\"colab-df-container\">\n",
              "      <div>\n",
              "<style scoped>\n",
              "    .dataframe tbody tr th:only-of-type {\n",
              "        vertical-align: middle;\n",
              "    }\n",
              "\n",
              "    .dataframe tbody tr th {\n",
              "        vertical-align: top;\n",
              "    }\n",
              "\n",
              "    .dataframe thead th {\n",
              "        text-align: right;\n",
              "    }\n",
              "</style>\n",
              "<table border=\"1\" class=\"dataframe\">\n",
              "  <thead>\n",
              "    <tr style=\"text-align: right;\">\n",
              "      <th></th>\n",
              "      <th>artsy_id</th>\n",
              "      <th>name</th>\n",
              "      <th>link</th>\n",
              "      <th>year</th>\n",
              "      <th>artist</th>\n",
              "      <th>gallery</th>\n",
              "      <th>price</th>\n",
              "      <th>gene_id</th>\n",
              "      <th>category_id</th>\n",
              "      <th>parsing_date</th>\n",
              "      <th>updating_date</th>\n",
              "    </tr>\n",
              "  </thead>\n",
              "  <tbody>\n",
              "    <tr>\n",
              "      <th>2611</th>\n",
              "      <td>61698fb5299f47000de9a839</td>\n",
              "      <td>‘Ero’ chairs by Starck for Kartell</td>\n",
              "      <td>NaN</td>\n",
              "      <td>NaN</td>\n",
              "      <td>NaN</td>\n",
              "      <td>NaN</td>\n",
              "      <td>NaN</td>\n",
              "      <td>NaN</td>\n",
              "      <td>NaN</td>\n",
              "      <td>NaN</td>\n",
              "      <td>NaN</td>\n",
              "    </tr>\n",
              "    <tr>\n",
              "      <th>4705</th>\n",
              "      <td>61698fb5299f47000de9a839</td>\n",
              "      <td>‘Ero’ chairs by Starck for Kartell</td>\n",
              "      <td>NaN</td>\n",
              "      <td>NaN</td>\n",
              "      <td>NaN</td>\n",
              "      <td>NaN</td>\n",
              "      <td>NaN</td>\n",
              "      <td>NaN</td>\n",
              "      <td>NaN</td>\n",
              "      <td>NaN</td>\n",
              "      <td>NaN</td>\n",
              "    </tr>\n",
              "  </tbody>\n",
              "</table>\n",
              "</div>\n",
              "      <button class=\"colab-df-convert\" onclick=\"convertToInteractive('df-5d1f8b65-8737-4b26-becd-979db77c396d')\"\n",
              "              title=\"Convert this dataframe to an interactive table.\"\n",
              "              style=\"display:none;\">\n",
              "        \n",
              "  <svg xmlns=\"http://www.w3.org/2000/svg\" height=\"24px\"viewBox=\"0 0 24 24\"\n",
              "       width=\"24px\">\n",
              "    <path d=\"M0 0h24v24H0V0z\" fill=\"none\"/>\n",
              "    <path d=\"M18.56 5.44l.94 2.06.94-2.06 2.06-.94-2.06-.94-.94-2.06-.94 2.06-2.06.94zm-11 1L8.5 8.5l.94-2.06 2.06-.94-2.06-.94L8.5 2.5l-.94 2.06-2.06.94zm10 10l.94 2.06.94-2.06 2.06-.94-2.06-.94-.94-2.06-.94 2.06-2.06.94z\"/><path d=\"M17.41 7.96l-1.37-1.37c-.4-.4-.92-.59-1.43-.59-.52 0-1.04.2-1.43.59L10.3 9.45l-7.72 7.72c-.78.78-.78 2.05 0 2.83L4 21.41c.39.39.9.59 1.41.59.51 0 1.02-.2 1.41-.59l7.78-7.78 2.81-2.81c.8-.78.8-2.07 0-2.86zM5.41 20L4 18.59l7.72-7.72 1.47 1.35L5.41 20z\"/>\n",
              "  </svg>\n",
              "      </button>\n",
              "      \n",
              "  <style>\n",
              "    .colab-df-container {\n",
              "      display:flex;\n",
              "      flex-wrap:wrap;\n",
              "      gap: 12px;\n",
              "    }\n",
              "\n",
              "    .colab-df-convert {\n",
              "      background-color: #E8F0FE;\n",
              "      border: none;\n",
              "      border-radius: 50%;\n",
              "      cursor: pointer;\n",
              "      display: none;\n",
              "      fill: #1967D2;\n",
              "      height: 32px;\n",
              "      padding: 0 0 0 0;\n",
              "      width: 32px;\n",
              "    }\n",
              "\n",
              "    .colab-df-convert:hover {\n",
              "      background-color: #E2EBFA;\n",
              "      box-shadow: 0px 1px 2px rgba(60, 64, 67, 0.3), 0px 1px 3px 1px rgba(60, 64, 67, 0.15);\n",
              "      fill: #174EA6;\n",
              "    }\n",
              "\n",
              "    [theme=dark] .colab-df-convert {\n",
              "      background-color: #3B4455;\n",
              "      fill: #D2E3FC;\n",
              "    }\n",
              "\n",
              "    [theme=dark] .colab-df-convert:hover {\n",
              "      background-color: #434B5C;\n",
              "      box-shadow: 0px 1px 3px 1px rgba(0, 0, 0, 0.15);\n",
              "      filter: drop-shadow(0px 1px 2px rgba(0, 0, 0, 0.3));\n",
              "      fill: #FFFFFF;\n",
              "    }\n",
              "  </style>\n",
              "\n",
              "      <script>\n",
              "        const buttonEl =\n",
              "          document.querySelector('#df-5d1f8b65-8737-4b26-becd-979db77c396d button.colab-df-convert');\n",
              "        buttonEl.style.display =\n",
              "          google.colab.kernel.accessAllowed ? 'block' : 'none';\n",
              "\n",
              "        async function convertToInteractive(key) {\n",
              "          const element = document.querySelector('#df-5d1f8b65-8737-4b26-becd-979db77c396d');\n",
              "          const dataTable =\n",
              "            await google.colab.kernel.invokeFunction('convertToInteractive',\n",
              "                                                     [key], {});\n",
              "          if (!dataTable) return;\n",
              "\n",
              "          const docLinkHtml = 'Like what you see? Visit the ' +\n",
              "            '<a target=\"_blank\" href=https://colab.research.google.com/notebooks/data_table.ipynb>data table notebook</a>'\n",
              "            + ' to learn more about interactive tables.';\n",
              "          element.innerHTML = '';\n",
              "          dataTable['output_type'] = 'display_data';\n",
              "          await google.colab.output.renderOutput(dataTable, element);\n",
              "          const docLink = document.createElement('div');\n",
              "          docLink.innerHTML = docLinkHtml;\n",
              "          element.appendChild(docLink);\n",
              "        }\n",
              "      </script>\n",
              "    </div>\n",
              "  </div>\n",
              "  "
            ]
          },
          "metadata": {},
          "execution_count": 172
        }
      ]
    },
    {
      "cell_type": "code",
      "source": [
        "artsy_id_list = df_cat_dat_nan['artsy_id'].tolist()\n",
        "name_list = df_cat_dat_nan['name'].tolist()"
      ],
      "metadata": {
        "id": "7iNPr2PrXG2c"
      },
      "execution_count": null,
      "outputs": []
    },
    {
      "cell_type": "code",
      "source": [
        "df_cat_dat_date = df_cat_dat.loc[df_cat_dat['category_id']=='2022-04-19']\n",
        "df_cat_dat_date.info()"
      ],
      "metadata": {
        "colab": {
          "base_uri": "https://localhost:8080/"
        },
        "id": "etY2HtLjV-xw",
        "outputId": "78279b3e-8b56-4250-f8a2-0fc3d25dd2b5"
      },
      "execution_count": null,
      "outputs": [
        {
          "output_type": "stream",
          "name": "stdout",
          "text": [
            "<class 'pandas.core.frame.DataFrame'>\n",
            "Int64Index: 2 entries, 2612 to 4706\n",
            "Data columns (total 11 columns):\n",
            " #   Column         Non-Null Count  Dtype  \n",
            "---  ------         --------------  -----  \n",
            " 0   artsy_id       2 non-null      object \n",
            " 1   name           2 non-null      object \n",
            " 2   link           2 non-null      object \n",
            " 3   year           2 non-null      object \n",
            " 4   artist         2 non-null      object \n",
            " 5   gallery        2 non-null      object \n",
            " 6   price          2 non-null      object \n",
            " 7   gene_id        2 non-null      float64\n",
            " 8   category_id    2 non-null      object \n",
            " 9   parsing_date   2 non-null      object \n",
            " 10  updating_date  0 non-null      object \n",
            "dtypes: float64(1), object(10)\n",
            "memory usage: 192.0+ bytes\n"
          ]
        }
      ]
    },
    {
      "cell_type": "code",
      "source": [
        "df_cat_dat_date"
      ],
      "metadata": {
        "colab": {
          "base_uri": "https://localhost:8080/",
          "height": 315
        },
        "id": "RpoLl1wnWH4G",
        "outputId": "eecf9d2a-80dc-4bff-a699-bece17d0d91d"
      },
      "execution_count": null,
      "outputs": [
        {
          "output_type": "execute_result",
          "data": {
            "text/plain": [
              "     artsy_id                                               name        link  \\\n",
              "2612  (Italy)  https://d7hftxdivxxvm.cloudfront.net?resize_to...  Circa 2000   \n",
              "4706  (Italy)  https://d7hftxdivxxvm.cloudfront.net?resize_to...  Circa 2000   \n",
              "\n",
              "                                                   year  \\\n",
              "2612  Philippe Starck‘Ero’ chairs by Starck for Kart...   \n",
              "4706  Philippe Starck‘Ero’ chairs by Starck for Kart...   \n",
              "\n",
              "                      artist            gallery  price  gene_id category_id  \\\n",
              "2612  Eclectica Contemporary  Price on request   12005     12.0  2022-04-19   \n",
              "4706  Eclectica Contemporary  Price on request   12017     12.0  2022-04-19   \n",
              "\n",
              "     parsing_date updating_date  \n",
              "2612   2022-04-19           NaN  \n",
              "4706   2022-04-19           NaN  "
            ],
            "text/html": [
              "\n",
              "  <div id=\"df-b78c922c-a0f1-4670-adc6-37bd5a5ee02c\">\n",
              "    <div class=\"colab-df-container\">\n",
              "      <div>\n",
              "<style scoped>\n",
              "    .dataframe tbody tr th:only-of-type {\n",
              "        vertical-align: middle;\n",
              "    }\n",
              "\n",
              "    .dataframe tbody tr th {\n",
              "        vertical-align: top;\n",
              "    }\n",
              "\n",
              "    .dataframe thead th {\n",
              "        text-align: right;\n",
              "    }\n",
              "</style>\n",
              "<table border=\"1\" class=\"dataframe\">\n",
              "  <thead>\n",
              "    <tr style=\"text-align: right;\">\n",
              "      <th></th>\n",
              "      <th>artsy_id</th>\n",
              "      <th>name</th>\n",
              "      <th>link</th>\n",
              "      <th>year</th>\n",
              "      <th>artist</th>\n",
              "      <th>gallery</th>\n",
              "      <th>price</th>\n",
              "      <th>gene_id</th>\n",
              "      <th>category_id</th>\n",
              "      <th>parsing_date</th>\n",
              "      <th>updating_date</th>\n",
              "    </tr>\n",
              "  </thead>\n",
              "  <tbody>\n",
              "    <tr>\n",
              "      <th>2612</th>\n",
              "      <td>(Italy)</td>\n",
              "      <td>https://d7hftxdivxxvm.cloudfront.net?resize_to...</td>\n",
              "      <td>Circa 2000</td>\n",
              "      <td>Philippe Starck‘Ero’ chairs by Starck for Kart...</td>\n",
              "      <td>Eclectica Contemporary</td>\n",
              "      <td>Price on request</td>\n",
              "      <td>12005</td>\n",
              "      <td>12.0</td>\n",
              "      <td>2022-04-19</td>\n",
              "      <td>2022-04-19</td>\n",
              "      <td>NaN</td>\n",
              "    </tr>\n",
              "    <tr>\n",
              "      <th>4706</th>\n",
              "      <td>(Italy)</td>\n",
              "      <td>https://d7hftxdivxxvm.cloudfront.net?resize_to...</td>\n",
              "      <td>Circa 2000</td>\n",
              "      <td>Philippe Starck‘Ero’ chairs by Starck for Kart...</td>\n",
              "      <td>Eclectica Contemporary</td>\n",
              "      <td>Price on request</td>\n",
              "      <td>12017</td>\n",
              "      <td>12.0</td>\n",
              "      <td>2022-04-19</td>\n",
              "      <td>2022-04-19</td>\n",
              "      <td>NaN</td>\n",
              "    </tr>\n",
              "  </tbody>\n",
              "</table>\n",
              "</div>\n",
              "      <button class=\"colab-df-convert\" onclick=\"convertToInteractive('df-b78c922c-a0f1-4670-adc6-37bd5a5ee02c')\"\n",
              "              title=\"Convert this dataframe to an interactive table.\"\n",
              "              style=\"display:none;\">\n",
              "        \n",
              "  <svg xmlns=\"http://www.w3.org/2000/svg\" height=\"24px\"viewBox=\"0 0 24 24\"\n",
              "       width=\"24px\">\n",
              "    <path d=\"M0 0h24v24H0V0z\" fill=\"none\"/>\n",
              "    <path d=\"M18.56 5.44l.94 2.06.94-2.06 2.06-.94-2.06-.94-.94-2.06-.94 2.06-2.06.94zm-11 1L8.5 8.5l.94-2.06 2.06-.94-2.06-.94L8.5 2.5l-.94 2.06-2.06.94zm10 10l.94 2.06.94-2.06 2.06-.94-2.06-.94-.94-2.06-.94 2.06-2.06.94z\"/><path d=\"M17.41 7.96l-1.37-1.37c-.4-.4-.92-.59-1.43-.59-.52 0-1.04.2-1.43.59L10.3 9.45l-7.72 7.72c-.78.78-.78 2.05 0 2.83L4 21.41c.39.39.9.59 1.41.59.51 0 1.02-.2 1.41-.59l7.78-7.78 2.81-2.81c.8-.78.8-2.07 0-2.86zM5.41 20L4 18.59l7.72-7.72 1.47 1.35L5.41 20z\"/>\n",
              "  </svg>\n",
              "      </button>\n",
              "      \n",
              "  <style>\n",
              "    .colab-df-container {\n",
              "      display:flex;\n",
              "      flex-wrap:wrap;\n",
              "      gap: 12px;\n",
              "    }\n",
              "\n",
              "    .colab-df-convert {\n",
              "      background-color: #E8F0FE;\n",
              "      border: none;\n",
              "      border-radius: 50%;\n",
              "      cursor: pointer;\n",
              "      display: none;\n",
              "      fill: #1967D2;\n",
              "      height: 32px;\n",
              "      padding: 0 0 0 0;\n",
              "      width: 32px;\n",
              "    }\n",
              "\n",
              "    .colab-df-convert:hover {\n",
              "      background-color: #E2EBFA;\n",
              "      box-shadow: 0px 1px 2px rgba(60, 64, 67, 0.3), 0px 1px 3px 1px rgba(60, 64, 67, 0.15);\n",
              "      fill: #174EA6;\n",
              "    }\n",
              "\n",
              "    [theme=dark] .colab-df-convert {\n",
              "      background-color: #3B4455;\n",
              "      fill: #D2E3FC;\n",
              "    }\n",
              "\n",
              "    [theme=dark] .colab-df-convert:hover {\n",
              "      background-color: #434B5C;\n",
              "      box-shadow: 0px 1px 3px 1px rgba(0, 0, 0, 0.15);\n",
              "      filter: drop-shadow(0px 1px 2px rgba(0, 0, 0, 0.3));\n",
              "      fill: #FFFFFF;\n",
              "    }\n",
              "  </style>\n",
              "\n",
              "      <script>\n",
              "        const buttonEl =\n",
              "          document.querySelector('#df-b78c922c-a0f1-4670-adc6-37bd5a5ee02c button.colab-df-convert');\n",
              "        buttonEl.style.display =\n",
              "          google.colab.kernel.accessAllowed ? 'block' : 'none';\n",
              "\n",
              "        async function convertToInteractive(key) {\n",
              "          const element = document.querySelector('#df-b78c922c-a0f1-4670-adc6-37bd5a5ee02c');\n",
              "          const dataTable =\n",
              "            await google.colab.kernel.invokeFunction('convertToInteractive',\n",
              "                                                     [key], {});\n",
              "          if (!dataTable) return;\n",
              "\n",
              "          const docLinkHtml = 'Like what you see? Visit the ' +\n",
              "            '<a target=\"_blank\" href=https://colab.research.google.com/notebooks/data_table.ipynb>data table notebook</a>'\n",
              "            + ' to learn more about interactive tables.';\n",
              "          element.innerHTML = '';\n",
              "          dataTable['output_type'] = 'display_data';\n",
              "          await google.colab.output.renderOutput(dataTable, element);\n",
              "          const docLink = document.createElement('div');\n",
              "          docLink.innerHTML = docLinkHtml;\n",
              "          element.appendChild(docLink);\n",
              "        }\n",
              "      </script>\n",
              "    </div>\n",
              "  </div>\n",
              "  "
            ]
          },
          "metadata": {},
          "execution_count": 170
        }
      ]
    },
    {
      "cell_type": "code",
      "source": [
        "imgage_list = df_cat_dat_date['name'].tolist()\n",
        "year_list = df_cat_dat_date['link'].tolist()\n",
        "artist_list = df_cat_dat_date['year'].tolist()\n",
        "gallery_list = df_cat_dat_date['artist'].tolist()\n",
        "price_list = df_cat_dat_date['gallery'].tolist()\n",
        "gene_list = df_cat_dat_date['price'].tolist()\n",
        "cat_list = df_cat_dat_date['gene_id'].tolist()\n",
        "parsing_list = df_cat_dat_date['parsing_date'].tolist()"
      ],
      "metadata": {
        "id": "oSssonRtXWYY"
      },
      "execution_count": null,
      "outputs": []
    },
    {
      "cell_type": "code",
      "source": [
        "df_data_new = pd.DataFrame({'artsy_id': artsy_id_list,\n",
        "                            'name': name_list, \n",
        "                            'link': imgage_list, \n",
        "                            'year': year_list,\n",
        "                            'artist': artist_list,\n",
        "                            'gallery': gallery_list,\n",
        "                            'price': price_list,\n",
        "                            'gene_id': gene_list,\n",
        "                            'category_id': cat_list,\n",
        "                            'parsing_date': parsing_list,\n",
        "                            'updating_date': parsing_list,\n",
        "                            })\n",
        "df_data_new.info()"
      ],
      "metadata": {
        "colab": {
          "base_uri": "https://localhost:8080/"
        },
        "id": "EvThpeskW4Ap",
        "outputId": "1326a9c4-6279-4b95-d90f-cee812f40a94"
      },
      "execution_count": null,
      "outputs": [
        {
          "output_type": "stream",
          "name": "stdout",
          "text": [
            "<class 'pandas.core.frame.DataFrame'>\n",
            "RangeIndex: 2 entries, 0 to 1\n",
            "Data columns (total 11 columns):\n",
            " #   Column         Non-Null Count  Dtype  \n",
            "---  ------         --------------  -----  \n",
            " 0   artsy_id       2 non-null      object \n",
            " 1   name           2 non-null      object \n",
            " 2   link           2 non-null      object \n",
            " 3   year           2 non-null      object \n",
            " 4   artist         2 non-null      object \n",
            " 5   gallery        2 non-null      object \n",
            " 6   price          2 non-null      object \n",
            " 7   gene_id        2 non-null      object \n",
            " 8   category_id    2 non-null      float64\n",
            " 9   parsing_date   2 non-null      object \n",
            " 10  updating_date  2 non-null      object \n",
            "dtypes: float64(1), object(10)\n",
            "memory usage: 304.0+ bytes\n"
          ]
        }
      ]
    },
    {
      "cell_type": "code",
      "source": [
        "df_data_new['category_id'].unique()"
      ],
      "metadata": {
        "colab": {
          "base_uri": "https://localhost:8080/"
        },
        "id": "0zPuXgsRZdam",
        "outputId": "1e83e755-6b81-45ee-fcc5-aeaa461aed8c"
      },
      "execution_count": null,
      "outputs": [
        {
          "output_type": "execute_result",
          "data": {
            "text/plain": [
              "array([12.])"
            ]
          },
          "metadata": {},
          "execution_count": 177
        }
      ]
    },
    {
      "cell_type": "code",
      "source": [
        "df_cat_dat_12 = df_cat_dat.loc[df_cat_dat['category_id']=='12']\n",
        "df_cat_dat_12.info()"
      ],
      "metadata": {
        "colab": {
          "base_uri": "https://localhost:8080/"
        },
        "id": "-Scf8fVcVCO-",
        "outputId": "d08c198a-0da3-42d4-b47b-4bd010a87d1d"
      },
      "execution_count": null,
      "outputs": [
        {
          "output_type": "stream",
          "name": "stdout",
          "text": [
            "<class 'pandas.core.frame.DataFrame'>\n",
            "Int64Index: 23348 entries, 0 to 13960\n",
            "Data columns (total 11 columns):\n",
            " #   Column         Non-Null Count  Dtype  \n",
            "---  ------         --------------  -----  \n",
            " 0   artsy_id       23345 non-null  object \n",
            " 1   name           23345 non-null  object \n",
            " 2   link           23345 non-null  object \n",
            " 3   year           22845 non-null  object \n",
            " 4   artist         23345 non-null  object \n",
            " 5   gallery        23091 non-null  object \n",
            " 6   price          23345 non-null  object \n",
            " 7   gene_id        23348 non-null  float64\n",
            " 8   category_id    23348 non-null  object \n",
            " 9   parsing_date   23348 non-null  object \n",
            " 10  updating_date  23348 non-null  object \n",
            "dtypes: float64(1), object(10)\n",
            "memory usage: 2.1+ MB\n"
          ]
        }
      ]
    },
    {
      "cell_type": "code",
      "source": [
        "df_cat_dat_12['category_id'].unique()"
      ],
      "metadata": {
        "colab": {
          "base_uri": "https://localhost:8080/"
        },
        "id": "K11cNFkiZTHG",
        "outputId": "e3d0aa1a-c27a-427d-f9cd-cac68fb6675d"
      },
      "execution_count": null,
      "outputs": [
        {
          "output_type": "execute_result",
          "data": {
            "text/plain": [
              "array(['12'], dtype=object)"
            ]
          },
          "metadata": {},
          "execution_count": 176
        }
      ]
    },
    {
      "cell_type": "code",
      "source": [
        "df_cat_dat = df_cat_dat_12.copy()\n",
        "df_cat_dat = pd.concat([df_cat_dat, df_data_new])\n",
        "df_cat_dat = df_cat_dat.reset_index().drop(['index'], axis=1)\n",
        "df_cat_dat['category_id'] = 12\n",
        "\n",
        "df_cat_dat.info()"
      ],
      "metadata": {
        "colab": {
          "base_uri": "https://localhost:8080/"
        },
        "id": "J0ORDJyTZxG5",
        "outputId": "b570b137-8b5f-479e-ba09-68efa8b11ed5"
      },
      "execution_count": null,
      "outputs": [
        {
          "output_type": "stream",
          "name": "stdout",
          "text": [
            "<class 'pandas.core.frame.DataFrame'>\n",
            "RangeIndex: 23350 entries, 0 to 23349\n",
            "Data columns (total 11 columns):\n",
            " #   Column         Non-Null Count  Dtype \n",
            "---  ------         --------------  ----- \n",
            " 0   artsy_id       23347 non-null  object\n",
            " 1   name           23347 non-null  object\n",
            " 2   link           23347 non-null  object\n",
            " 3   year           22847 non-null  object\n",
            " 4   artist         23347 non-null  object\n",
            " 5   gallery        23093 non-null  object\n",
            " 6   price          23347 non-null  object\n",
            " 7   gene_id        23350 non-null  object\n",
            " 8   category_id    23350 non-null  int64 \n",
            " 9   parsing_date   23350 non-null  object\n",
            " 10  updating_date  23350 non-null  object\n",
            "dtypes: int64(1), object(10)\n",
            "memory usage: 2.0+ MB\n"
          ]
        }
      ]
    },
    {
      "cell_type": "code",
      "source": [
        "df_cat_dat['category_id'].unique()"
      ],
      "metadata": {
        "colab": {
          "base_uri": "https://localhost:8080/"
        },
        "id": "nfEpGACSaPVn",
        "outputId": "a85864e1-ad48-4b28-ccf4-d6944d44e349"
      },
      "execution_count": null,
      "outputs": [
        {
          "output_type": "execute_result",
          "data": {
            "text/plain": [
              "array([12])"
            ]
          },
          "metadata": {},
          "execution_count": 179
        }
      ]
    },
    {
      "cell_type": "code",
      "source": [
        "# !!!!!!!!"
      ],
      "metadata": {
        "id": "vUuH08hsZv4r"
      },
      "execution_count": null,
      "outputs": []
    },
    {
      "cell_type": "code",
      "execution_count": 306,
      "metadata": {
        "id": "7EZgaTrbrIUp"
      },
      "outputs": [],
      "source": [
        "df_cat_dat['category_id'] = df_cat_dat['category_id'].dropna().apply(lambda x: str(x) if len(str(x))==cat_id_len else ('0'*(cat_id_len-len(str(x)))+str(x)))\n",
        "df_cat_dat['gene_id'] = df_cat_dat['gene_id'].dropna().apply(lambda x: str(x) if len(str(x))==gen_id_len else ('0'*(gen_id_len-len(str(x)))+str(x)))\n",
        "\n",
        "#df_cat_dat['category_id'] = df_cat_dat['category_id'].dropna().apply(lambda x: str(int(float(x))) if len(str(int(float(x))))==cat_id_len else ('0'*(cat_id_len-len(str(int(float(x)))))+str(int(float(x)))))\n",
        "#df_cat_dat['gene_id'] = df_cat_dat['gene_id'].dropna().apply(lambda x: str(int(float(x))) if len(str(int(float(x))))==gen_id_len else ('0'*(gen_id_len-len(str(int(float(x)))))+str(int(float(x)))))"
      ]
    },
    {
      "cell_type": "code",
      "execution_count": 307,
      "metadata": {
        "colab": {
          "base_uri": "https://localhost:8080/",
          "height": 50
        },
        "id": "5A522XENTyD5",
        "outputId": "512cdb7f-d39e-42eb-dbf1-e4d2bc9a9be4"
      },
      "outputs": [
        {
          "output_type": "execute_result",
          "data": {
            "text/plain": [
              "Empty DataFrame\n",
              "Columns: [artsy_id, name, link, year, artist, gallery, price, gene_id, category_id, parsing_date, updating_date]\n",
              "Index: []"
            ],
            "text/html": [
              "\n",
              "  <div id=\"df-2914a4fa-a90f-4d25-b926-cfa4d580fe24\">\n",
              "    <div class=\"colab-df-container\">\n",
              "      <div>\n",
              "<style scoped>\n",
              "    .dataframe tbody tr th:only-of-type {\n",
              "        vertical-align: middle;\n",
              "    }\n",
              "\n",
              "    .dataframe tbody tr th {\n",
              "        vertical-align: top;\n",
              "    }\n",
              "\n",
              "    .dataframe thead th {\n",
              "        text-align: right;\n",
              "    }\n",
              "</style>\n",
              "<table border=\"1\" class=\"dataframe\">\n",
              "  <thead>\n",
              "    <tr style=\"text-align: right;\">\n",
              "      <th></th>\n",
              "      <th>artsy_id</th>\n",
              "      <th>name</th>\n",
              "      <th>link</th>\n",
              "      <th>year</th>\n",
              "      <th>artist</th>\n",
              "      <th>gallery</th>\n",
              "      <th>price</th>\n",
              "      <th>gene_id</th>\n",
              "      <th>category_id</th>\n",
              "      <th>parsing_date</th>\n",
              "      <th>updating_date</th>\n",
              "    </tr>\n",
              "  </thead>\n",
              "  <tbody>\n",
              "  </tbody>\n",
              "</table>\n",
              "</div>\n",
              "      <button class=\"colab-df-convert\" onclick=\"convertToInteractive('df-2914a4fa-a90f-4d25-b926-cfa4d580fe24')\"\n",
              "              title=\"Convert this dataframe to an interactive table.\"\n",
              "              style=\"display:none;\">\n",
              "        \n",
              "  <svg xmlns=\"http://www.w3.org/2000/svg\" height=\"24px\"viewBox=\"0 0 24 24\"\n",
              "       width=\"24px\">\n",
              "    <path d=\"M0 0h24v24H0V0z\" fill=\"none\"/>\n",
              "    <path d=\"M18.56 5.44l.94 2.06.94-2.06 2.06-.94-2.06-.94-.94-2.06-.94 2.06-2.06.94zm-11 1L8.5 8.5l.94-2.06 2.06-.94-2.06-.94L8.5 2.5l-.94 2.06-2.06.94zm10 10l.94 2.06.94-2.06 2.06-.94-2.06-.94-.94-2.06-.94 2.06-2.06.94z\"/><path d=\"M17.41 7.96l-1.37-1.37c-.4-.4-.92-.59-1.43-.59-.52 0-1.04.2-1.43.59L10.3 9.45l-7.72 7.72c-.78.78-.78 2.05 0 2.83L4 21.41c.39.39.9.59 1.41.59.51 0 1.02-.2 1.41-.59l7.78-7.78 2.81-2.81c.8-.78.8-2.07 0-2.86zM5.41 20L4 18.59l7.72-7.72 1.47 1.35L5.41 20z\"/>\n",
              "  </svg>\n",
              "      </button>\n",
              "      \n",
              "  <style>\n",
              "    .colab-df-container {\n",
              "      display:flex;\n",
              "      flex-wrap:wrap;\n",
              "      gap: 12px;\n",
              "    }\n",
              "\n",
              "    .colab-df-convert {\n",
              "      background-color: #E8F0FE;\n",
              "      border: none;\n",
              "      border-radius: 50%;\n",
              "      cursor: pointer;\n",
              "      display: none;\n",
              "      fill: #1967D2;\n",
              "      height: 32px;\n",
              "      padding: 0 0 0 0;\n",
              "      width: 32px;\n",
              "    }\n",
              "\n",
              "    .colab-df-convert:hover {\n",
              "      background-color: #E2EBFA;\n",
              "      box-shadow: 0px 1px 2px rgba(60, 64, 67, 0.3), 0px 1px 3px 1px rgba(60, 64, 67, 0.15);\n",
              "      fill: #174EA6;\n",
              "    }\n",
              "\n",
              "    [theme=dark] .colab-df-convert {\n",
              "      background-color: #3B4455;\n",
              "      fill: #D2E3FC;\n",
              "    }\n",
              "\n",
              "    [theme=dark] .colab-df-convert:hover {\n",
              "      background-color: #434B5C;\n",
              "      box-shadow: 0px 1px 3px 1px rgba(0, 0, 0, 0.15);\n",
              "      filter: drop-shadow(0px 1px 2px rgba(0, 0, 0, 0.3));\n",
              "      fill: #FFFFFF;\n",
              "    }\n",
              "  </style>\n",
              "\n",
              "      <script>\n",
              "        const buttonEl =\n",
              "          document.querySelector('#df-2914a4fa-a90f-4d25-b926-cfa4d580fe24 button.colab-df-convert');\n",
              "        buttonEl.style.display =\n",
              "          google.colab.kernel.accessAllowed ? 'block' : 'none';\n",
              "\n",
              "        async function convertToInteractive(key) {\n",
              "          const element = document.querySelector('#df-2914a4fa-a90f-4d25-b926-cfa4d580fe24');\n",
              "          const dataTable =\n",
              "            await google.colab.kernel.invokeFunction('convertToInteractive',\n",
              "                                                     [key], {});\n",
              "          if (!dataTable) return;\n",
              "\n",
              "          const docLinkHtml = 'Like what you see? Visit the ' +\n",
              "            '<a target=\"_blank\" href=https://colab.research.google.com/notebooks/data_table.ipynb>data table notebook</a>'\n",
              "            + ' to learn more about interactive tables.';\n",
              "          element.innerHTML = '';\n",
              "          dataTable['output_type'] = 'display_data';\n",
              "          await google.colab.output.renderOutput(dataTable, element);\n",
              "          const docLink = document.createElement('div');\n",
              "          docLink.innerHTML = docLinkHtml;\n",
              "          element.appendChild(docLink);\n",
              "        }\n",
              "      </script>\n",
              "    </div>\n",
              "  </div>\n",
              "  "
            ]
          },
          "metadata": {},
          "execution_count": 307
        }
      ],
      "source": [
        "df_cat_dat.loc[df_cat_dat['artsy_id'].isna()==True]"
      ]
    },
    {
      "cell_type": "code",
      "execution_count": null,
      "metadata": {
        "colab": {
          "base_uri": "https://localhost:8080/",
          "height": 565
        },
        "id": "hHKqBH8nfGSC",
        "outputId": "85eb051b-4a55-4154-bc21-25bcf0f1e18c"
      },
      "outputs": [
        {
          "output_type": "execute_result",
          "data": {
            "text/plain": [
              "                      artsy_id                                         name  \\\n",
              "5611  624d61a5e25714000c32bde3  Spanish 18th Century Refectory Dining Table   \n",
              "5612  5eb1d70b3e52a6000df08763                          \"Cloud\" CenterTable   \n",
              "5613  59da74309c18db249fcdbccd                  Lacquered desk table \"Luca\"   \n",
              "5614  5bae2d5b1f74731ca8eac04a                Oval dining table with leaves   \n",
              "5615  620258c734e7fc000b5e722f                            Lovö dining table   \n",
              "\n",
              "                                                   link       year  \\\n",
              "5611  https://d7hftxdivxxvm.cloudfront.net?resize_to...  1700-1750   \n",
              "5612  https://d7hftxdivxxvm.cloudfront.net?resize_to...       2020   \n",
              "5613  https://d7hftxdivxxvm.cloudfront.net?resize_to...       2017   \n",
              "5614  https://d7hftxdivxxvm.cloudfront.net?resize_to...       1952   \n",
              "5615  https://d7hftxdivxxvm.cloudfront.net?resize_to...       1930   \n",
              "\n",
              "                                                 artist  \\\n",
              "5611  Unknown ArtistSpanish 18th Century Refectory D...   \n",
              "5612  Jacques Jarrige\"Cloud\" CenterTable, 2020Valeri...   \n",
              "5613  Jacques JarrigeLacquered desk table \"Luca\", 20...   \n",
              "5614  Hans J. WegnerOval dining table with leaves, 1...   \n",
              "5615  Axel Einar HjorthLovö dining table, 1930Gokela...   \n",
              "\n",
              "                       gallery              price gene_id category_id  \\\n",
              "5611                AVANTIQUES          US$4,500    12011          12   \n",
              "5612   Valerie Goodman Gallery         US$27,000    12011          12   \n",
              "5613   Valerie Goodman Gallery         US$23,750    12011          12   \n",
              "5614  Dansk Møbelkunst Gallery  Price on request    12011          12   \n",
              "5615      Gokelaere & Robinson           €14,000    12011          12   \n",
              "\n",
              "     parsing_date updating_date  \n",
              "5611   2022-04-19    2022-04-19  \n",
              "5612   2022-04-19    2022-04-19  \n",
              "5613   2022-04-19    2022-04-19  \n",
              "5614   2022-04-19    2022-04-19  \n",
              "5615   2022-04-19    2022-04-19  "
            ],
            "text/html": [
              "\n",
              "  <div id=\"df-840bfd71-9e30-4f36-aca2-bfcf9dff21d1\">\n",
              "    <div class=\"colab-df-container\">\n",
              "      <div>\n",
              "<style scoped>\n",
              "    .dataframe tbody tr th:only-of-type {\n",
              "        vertical-align: middle;\n",
              "    }\n",
              "\n",
              "    .dataframe tbody tr th {\n",
              "        vertical-align: top;\n",
              "    }\n",
              "\n",
              "    .dataframe thead th {\n",
              "        text-align: right;\n",
              "    }\n",
              "</style>\n",
              "<table border=\"1\" class=\"dataframe\">\n",
              "  <thead>\n",
              "    <tr style=\"text-align: right;\">\n",
              "      <th></th>\n",
              "      <th>artsy_id</th>\n",
              "      <th>name</th>\n",
              "      <th>link</th>\n",
              "      <th>year</th>\n",
              "      <th>artist</th>\n",
              "      <th>gallery</th>\n",
              "      <th>price</th>\n",
              "      <th>gene_id</th>\n",
              "      <th>category_id</th>\n",
              "      <th>parsing_date</th>\n",
              "      <th>updating_date</th>\n",
              "    </tr>\n",
              "  </thead>\n",
              "  <tbody>\n",
              "    <tr>\n",
              "      <th>5611</th>\n",
              "      <td>624d61a5e25714000c32bde3</td>\n",
              "      <td>Spanish 18th Century Refectory Dining Table</td>\n",
              "      <td>https://d7hftxdivxxvm.cloudfront.net?resize_to...</td>\n",
              "      <td>1700-1750</td>\n",
              "      <td>Unknown ArtistSpanish 18th Century Refectory D...</td>\n",
              "      <td>AVANTIQUES</td>\n",
              "      <td>US$4,500</td>\n",
              "      <td>12011</td>\n",
              "      <td>12</td>\n",
              "      <td>2022-04-19</td>\n",
              "      <td>2022-04-19</td>\n",
              "    </tr>\n",
              "    <tr>\n",
              "      <th>5612</th>\n",
              "      <td>5eb1d70b3e52a6000df08763</td>\n",
              "      <td>\"Cloud\" CenterTable</td>\n",
              "      <td>https://d7hftxdivxxvm.cloudfront.net?resize_to...</td>\n",
              "      <td>2020</td>\n",
              "      <td>Jacques Jarrige\"Cloud\" CenterTable, 2020Valeri...</td>\n",
              "      <td>Valerie Goodman Gallery</td>\n",
              "      <td>US$27,000</td>\n",
              "      <td>12011</td>\n",
              "      <td>12</td>\n",
              "      <td>2022-04-19</td>\n",
              "      <td>2022-04-19</td>\n",
              "    </tr>\n",
              "    <tr>\n",
              "      <th>5613</th>\n",
              "      <td>59da74309c18db249fcdbccd</td>\n",
              "      <td>Lacquered desk table \"Luca\"</td>\n",
              "      <td>https://d7hftxdivxxvm.cloudfront.net?resize_to...</td>\n",
              "      <td>2017</td>\n",
              "      <td>Jacques JarrigeLacquered desk table \"Luca\", 20...</td>\n",
              "      <td>Valerie Goodman Gallery</td>\n",
              "      <td>US$23,750</td>\n",
              "      <td>12011</td>\n",
              "      <td>12</td>\n",
              "      <td>2022-04-19</td>\n",
              "      <td>2022-04-19</td>\n",
              "    </tr>\n",
              "    <tr>\n",
              "      <th>5614</th>\n",
              "      <td>5bae2d5b1f74731ca8eac04a</td>\n",
              "      <td>Oval dining table with leaves</td>\n",
              "      <td>https://d7hftxdivxxvm.cloudfront.net?resize_to...</td>\n",
              "      <td>1952</td>\n",
              "      <td>Hans J. WegnerOval dining table with leaves, 1...</td>\n",
              "      <td>Dansk Møbelkunst Gallery</td>\n",
              "      <td>Price on request</td>\n",
              "      <td>12011</td>\n",
              "      <td>12</td>\n",
              "      <td>2022-04-19</td>\n",
              "      <td>2022-04-19</td>\n",
              "    </tr>\n",
              "    <tr>\n",
              "      <th>5615</th>\n",
              "      <td>620258c734e7fc000b5e722f</td>\n",
              "      <td>Lovö dining table</td>\n",
              "      <td>https://d7hftxdivxxvm.cloudfront.net?resize_to...</td>\n",
              "      <td>1930</td>\n",
              "      <td>Axel Einar HjorthLovö dining table, 1930Gokela...</td>\n",
              "      <td>Gokelaere &amp; Robinson</td>\n",
              "      <td>€14,000</td>\n",
              "      <td>12011</td>\n",
              "      <td>12</td>\n",
              "      <td>2022-04-19</td>\n",
              "      <td>2022-04-19</td>\n",
              "    </tr>\n",
              "  </tbody>\n",
              "</table>\n",
              "</div>\n",
              "      <button class=\"colab-df-convert\" onclick=\"convertToInteractive('df-840bfd71-9e30-4f36-aca2-bfcf9dff21d1')\"\n",
              "              title=\"Convert this dataframe to an interactive table.\"\n",
              "              style=\"display:none;\">\n",
              "        \n",
              "  <svg xmlns=\"http://www.w3.org/2000/svg\" height=\"24px\"viewBox=\"0 0 24 24\"\n",
              "       width=\"24px\">\n",
              "    <path d=\"M0 0h24v24H0V0z\" fill=\"none\"/>\n",
              "    <path d=\"M18.56 5.44l.94 2.06.94-2.06 2.06-.94-2.06-.94-.94-2.06-.94 2.06-2.06.94zm-11 1L8.5 8.5l.94-2.06 2.06-.94-2.06-.94L8.5 2.5l-.94 2.06-2.06.94zm10 10l.94 2.06.94-2.06 2.06-.94-2.06-.94-.94-2.06-.94 2.06-2.06.94z\"/><path d=\"M17.41 7.96l-1.37-1.37c-.4-.4-.92-.59-1.43-.59-.52 0-1.04.2-1.43.59L10.3 9.45l-7.72 7.72c-.78.78-.78 2.05 0 2.83L4 21.41c.39.39.9.59 1.41.59.51 0 1.02-.2 1.41-.59l7.78-7.78 2.81-2.81c.8-.78.8-2.07 0-2.86zM5.41 20L4 18.59l7.72-7.72 1.47 1.35L5.41 20z\"/>\n",
              "  </svg>\n",
              "      </button>\n",
              "      \n",
              "  <style>\n",
              "    .colab-df-container {\n",
              "      display:flex;\n",
              "      flex-wrap:wrap;\n",
              "      gap: 12px;\n",
              "    }\n",
              "\n",
              "    .colab-df-convert {\n",
              "      background-color: #E8F0FE;\n",
              "      border: none;\n",
              "      border-radius: 50%;\n",
              "      cursor: pointer;\n",
              "      display: none;\n",
              "      fill: #1967D2;\n",
              "      height: 32px;\n",
              "      padding: 0 0 0 0;\n",
              "      width: 32px;\n",
              "    }\n",
              "\n",
              "    .colab-df-convert:hover {\n",
              "      background-color: #E2EBFA;\n",
              "      box-shadow: 0px 1px 2px rgba(60, 64, 67, 0.3), 0px 1px 3px 1px rgba(60, 64, 67, 0.15);\n",
              "      fill: #174EA6;\n",
              "    }\n",
              "\n",
              "    [theme=dark] .colab-df-convert {\n",
              "      background-color: #3B4455;\n",
              "      fill: #D2E3FC;\n",
              "    }\n",
              "\n",
              "    [theme=dark] .colab-df-convert:hover {\n",
              "      background-color: #434B5C;\n",
              "      box-shadow: 0px 1px 3px 1px rgba(0, 0, 0, 0.15);\n",
              "      filter: drop-shadow(0px 1px 2px rgba(0, 0, 0, 0.3));\n",
              "      fill: #FFFFFF;\n",
              "    }\n",
              "  </style>\n",
              "\n",
              "      <script>\n",
              "        const buttonEl =\n",
              "          document.querySelector('#df-840bfd71-9e30-4f36-aca2-bfcf9dff21d1 button.colab-df-convert');\n",
              "        buttonEl.style.display =\n",
              "          google.colab.kernel.accessAllowed ? 'block' : 'none';\n",
              "\n",
              "        async function convertToInteractive(key) {\n",
              "          const element = document.querySelector('#df-840bfd71-9e30-4f36-aca2-bfcf9dff21d1');\n",
              "          const dataTable =\n",
              "            await google.colab.kernel.invokeFunction('convertToInteractive',\n",
              "                                                     [key], {});\n",
              "          if (!dataTable) return;\n",
              "\n",
              "          const docLinkHtml = 'Like what you see? Visit the ' +\n",
              "            '<a target=\"_blank\" href=https://colab.research.google.com/notebooks/data_table.ipynb>data table notebook</a>'\n",
              "            + ' to learn more about interactive tables.';\n",
              "          element.innerHTML = '';\n",
              "          dataTable['output_type'] = 'display_data';\n",
              "          await google.colab.output.renderOutput(dataTable, element);\n",
              "          const docLink = document.createElement('div');\n",
              "          docLink.innerHTML = docLinkHtml;\n",
              "          element.appendChild(docLink);\n",
              "        }\n",
              "      </script>\n",
              "    </div>\n",
              "  </div>\n",
              "  "
            ]
          },
          "metadata": {},
          "execution_count": 190
        }
      ],
      "source": [
        "df_cat_dat.loc[df_cat_dat['gene_id']=='12011'].head()"
      ]
    },
    {
      "cell_type": "markdown",
      "metadata": {
        "id": "eynqzDudehw3"
      },
      "source": [
        "Getting list of genes with missing pages parsing and lounch parsing of these genes (not pages !!!) again."
      ]
    },
    {
      "cell_type": "code",
      "execution_count": null,
      "metadata": {
        "colab": {
          "base_uri": "https://localhost:8080/"
        },
        "id": "RbtWd5pt81g9",
        "outputId": "12f9516c-b64e-406d-ae0d-80ac5543c1b4"
      },
      "outputs": [
        {
          "output_type": "execute_result",
          "data": {
            "text/plain": [
              "['12014', '12011']"
            ]
          },
          "metadata": {},
          "execution_count": 191
        }
      ],
      "source": [
        "genes_ids_list_er = [str(g_id) for g_id in df_cat_dat.loc[df_cat_dat['artsy_id'].isna()==True]['gene_id']]\n",
        "genes_ids_list_er = list(set(genes_ids_list_er))\n",
        "genes_ids_list_er"
      ]
    },
    {
      "cell_type": "code",
      "execution_count": null,
      "metadata": {
        "colab": {
          "base_uri": "https://localhost:8080/"
        },
        "id": "pLWEVx4l8vej",
        "outputId": "88b0fd26-8400-4b85-c7bf-199dd2409d42"
      },
      "outputs": [
        {
          "output_type": "execute_result",
          "data": {
            "text/plain": [
              "['/gene/lighting', '/gene/dining-table']"
            ]
          },
          "metadata": {},
          "execution_count": 192
        }
      ],
      "source": [
        "genes_links_list_er = [genes_links_list[genes_ids_list.index(g_id)] for g_id in genes_ids_list_er]\n",
        "genes_links_list_er"
      ]
    },
    {
      "cell_type": "code",
      "execution_count": null,
      "metadata": {
        "id": "aXLDYyChLTwN"
      },
      "outputs": [],
      "source": [
        "df_cat_dat = df_cat_dat.dropna(subset=['artsy_id'], axis=0)"
      ]
    },
    {
      "cell_type": "markdown",
      "metadata": {
        "id": "mhMu42rbRS0E"
      },
      "source": [
        "It would be better for faster errors' parsing if I got the page number info..."
      ]
    },
    {
      "cell_type": "markdown",
      "metadata": {
        "id": "aElmPNAKfX4C"
      },
      "source": [
        "!!! One item can belong not only to different categoryes but also to different genes into one category. That's very important for joining with reparsed data !!!"
      ]
    },
    {
      "cell_type": "code",
      "execution_count": null,
      "metadata": {
        "colab": {
          "base_uri": "https://localhost:8080/"
        },
        "id": "NZLdFXm-Yg0k",
        "outputId": "4674a197-b244-4a2f-f2fd-623856bf35ab"
      },
      "outputs": [
        {
          "name": "stdout",
          "output_type": "stream",
          "text": [
            "110253\n",
            "73696\n"
          ]
        }
      ],
      "source": [
        "print(df_cat_dat['artsy_id'].count())\n",
        "print(df_cat_dat['artsy_id'].nunique())"
      ]
    },
    {
      "cell_type": "code",
      "execution_count": null,
      "metadata": {
        "colab": {
          "base_uri": "https://localhost:8080/"
        },
        "id": "GOrGwcufYgu5",
        "outputId": "ad4f21b4-4ea1-46d4-f8b7-1aeced927326"
      },
      "outputs": [
        {
          "name": "stdout",
          "output_type": "stream",
          "text": [
            "2\n",
            "1\n"
          ]
        }
      ],
      "source": [
        "print(df_cat_dat.groupby(['gene_id', 'artsy_id'])['artsy_id'].count().max())\n",
        "print(df_cat_dat.groupby(['gene_id', 'artsy_id'])['artsy_id'].nunique().max())"
      ]
    },
    {
      "cell_type": "code",
      "execution_count": null,
      "metadata": {
        "colab": {
          "base_uri": "https://localhost:8080/",
          "height": 424
        },
        "id": "ogcoXNUVJm5I",
        "outputId": "b1db98e8-4885-4eb5-c6ff-01202e65451e"
      },
      "outputs": [
        {
          "data": {
            "text/html": [
              "\n",
              "  <div id=\"df-e1aa3a46-19a6-4e17-b620-3c7ecdb251ba\">\n",
              "    <div class=\"colab-df-container\">\n",
              "      <div>\n",
              "<style scoped>\n",
              "    .dataframe tbody tr th:only-of-type {\n",
              "        vertical-align: middle;\n",
              "    }\n",
              "\n",
              "    .dataframe tbody tr th {\n",
              "        vertical-align: top;\n",
              "    }\n",
              "\n",
              "    .dataframe thead th {\n",
              "        text-align: right;\n",
              "    }\n",
              "</style>\n",
              "<table border=\"1\" class=\"dataframe\">\n",
              "  <thead>\n",
              "    <tr style=\"text-align: right;\">\n",
              "      <th></th>\n",
              "      <th>gene_id</th>\n",
              "      <th>artsy_id</th>\n",
              "      <th>count</th>\n",
              "    </tr>\n",
              "  </thead>\n",
              "  <tbody>\n",
              "    <tr>\n",
              "      <th>4309</th>\n",
              "      <td>06007</td>\n",
              "      <td>540f40cd7261692d6d550000</td>\n",
              "      <td>2</td>\n",
              "    </tr>\n",
              "    <tr>\n",
              "      <th>18541</th>\n",
              "      <td>06021</td>\n",
              "      <td>5ae9db4a9c18db166e639c7e</td>\n",
              "      <td>2</td>\n",
              "    </tr>\n",
              "    <tr>\n",
              "      <th>20019</th>\n",
              "      <td>06021</td>\n",
              "      <td>606d59a4b58b09000e0f0fed</td>\n",
              "      <td>2</td>\n",
              "    </tr>\n",
              "    <tr>\n",
              "      <th>20209</th>\n",
              "      <td>06021</td>\n",
              "      <td>60e05ea715fca20013f5854a</td>\n",
              "      <td>2</td>\n",
              "    </tr>\n",
              "    <tr>\n",
              "      <th>20657</th>\n",
              "      <td>06021</td>\n",
              "      <td>61c0ee1e845711000bf8163c</td>\n",
              "      <td>2</td>\n",
              "    </tr>\n",
              "    <tr>\n",
              "      <th>...</th>\n",
              "      <td>...</td>\n",
              "      <td>...</td>\n",
              "      <td>...</td>\n",
              "    </tr>\n",
              "    <tr>\n",
              "      <th>247062</th>\n",
              "      <td>06174</td>\n",
              "      <td>5f172c2dea92a20011267465</td>\n",
              "      <td>2</td>\n",
              "    </tr>\n",
              "    <tr>\n",
              "      <th>250018</th>\n",
              "      <td>06175</td>\n",
              "      <td>618bea8b5180b7000e0faba9</td>\n",
              "      <td>2</td>\n",
              "    </tr>\n",
              "    <tr>\n",
              "      <th>250139</th>\n",
              "      <td>06175</td>\n",
              "      <td>61ba11e097ec3a000b017724</td>\n",
              "      <td>2</td>\n",
              "    </tr>\n",
              "    <tr>\n",
              "      <th>251094</th>\n",
              "      <td>06175</td>\n",
              "      <td>623b41fed562fe000c49e3ba</td>\n",
              "      <td>2</td>\n",
              "    </tr>\n",
              "    <tr>\n",
              "      <th>251699</th>\n",
              "      <td>06175</td>\n",
              "      <td>6248b64fa3259b000c24e910</td>\n",
              "      <td>2</td>\n",
              "    </tr>\n",
              "  </tbody>\n",
              "</table>\n",
              "<p>236 rows × 3 columns</p>\n",
              "</div>\n",
              "      <button class=\"colab-df-convert\" onclick=\"convertToInteractive('df-e1aa3a46-19a6-4e17-b620-3c7ecdb251ba')\"\n",
              "              title=\"Convert this dataframe to an interactive table.\"\n",
              "              style=\"display:none;\">\n",
              "        \n",
              "  <svg xmlns=\"http://www.w3.org/2000/svg\" height=\"24px\"viewBox=\"0 0 24 24\"\n",
              "       width=\"24px\">\n",
              "    <path d=\"M0 0h24v24H0V0z\" fill=\"none\"/>\n",
              "    <path d=\"M18.56 5.44l.94 2.06.94-2.06 2.06-.94-2.06-.94-.94-2.06-.94 2.06-2.06.94zm-11 1L8.5 8.5l.94-2.06 2.06-.94-2.06-.94L8.5 2.5l-.94 2.06-2.06.94zm10 10l.94 2.06.94-2.06 2.06-.94-2.06-.94-.94-2.06-.94 2.06-2.06.94z\"/><path d=\"M17.41 7.96l-1.37-1.37c-.4-.4-.92-.59-1.43-.59-.52 0-1.04.2-1.43.59L10.3 9.45l-7.72 7.72c-.78.78-.78 2.05 0 2.83L4 21.41c.39.39.9.59 1.41.59.51 0 1.02-.2 1.41-.59l7.78-7.78 2.81-2.81c.8-.78.8-2.07 0-2.86zM5.41 20L4 18.59l7.72-7.72 1.47 1.35L5.41 20z\"/>\n",
              "  </svg>\n",
              "      </button>\n",
              "      \n",
              "  <style>\n",
              "    .colab-df-container {\n",
              "      display:flex;\n",
              "      flex-wrap:wrap;\n",
              "      gap: 12px;\n",
              "    }\n",
              "\n",
              "    .colab-df-convert {\n",
              "      background-color: #E8F0FE;\n",
              "      border: none;\n",
              "      border-radius: 50%;\n",
              "      cursor: pointer;\n",
              "      display: none;\n",
              "      fill: #1967D2;\n",
              "      height: 32px;\n",
              "      padding: 0 0 0 0;\n",
              "      width: 32px;\n",
              "    }\n",
              "\n",
              "    .colab-df-convert:hover {\n",
              "      background-color: #E2EBFA;\n",
              "      box-shadow: 0px 1px 2px rgba(60, 64, 67, 0.3), 0px 1px 3px 1px rgba(60, 64, 67, 0.15);\n",
              "      fill: #174EA6;\n",
              "    }\n",
              "\n",
              "    [theme=dark] .colab-df-convert {\n",
              "      background-color: #3B4455;\n",
              "      fill: #D2E3FC;\n",
              "    }\n",
              "\n",
              "    [theme=dark] .colab-df-convert:hover {\n",
              "      background-color: #434B5C;\n",
              "      box-shadow: 0px 1px 3px 1px rgba(0, 0, 0, 0.15);\n",
              "      filter: drop-shadow(0px 1px 2px rgba(0, 0, 0, 0.3));\n",
              "      fill: #FFFFFF;\n",
              "    }\n",
              "  </style>\n",
              "\n",
              "      <script>\n",
              "        const buttonEl =\n",
              "          document.querySelector('#df-e1aa3a46-19a6-4e17-b620-3c7ecdb251ba button.colab-df-convert');\n",
              "        buttonEl.style.display =\n",
              "          google.colab.kernel.accessAllowed ? 'block' : 'none';\n",
              "\n",
              "        async function convertToInteractive(key) {\n",
              "          const element = document.querySelector('#df-e1aa3a46-19a6-4e17-b620-3c7ecdb251ba');\n",
              "          const dataTable =\n",
              "            await google.colab.kernel.invokeFunction('convertToInteractive',\n",
              "                                                     [key], {});\n",
              "          if (!dataTable) return;\n",
              "\n",
              "          const docLinkHtml = 'Like what you see? Visit the ' +\n",
              "            '<a target=\"_blank\" href=https://colab.research.google.com/notebooks/data_table.ipynb>data table notebook</a>'\n",
              "            + ' to learn more about interactive tables.';\n",
              "          element.innerHTML = '';\n",
              "          dataTable['output_type'] = 'display_data';\n",
              "          await google.colab.output.renderOutput(dataTable, element);\n",
              "          const docLink = document.createElement('div');\n",
              "          docLink.innerHTML = docLinkHtml;\n",
              "          element.appendChild(docLink);\n",
              "        }\n",
              "      </script>\n",
              "    </div>\n",
              "  </div>\n",
              "  "
            ],
            "text/plain": [
              "       gene_id                  artsy_id  count\n",
              "4309     06007  540f40cd7261692d6d550000      2\n",
              "18541    06021  5ae9db4a9c18db166e639c7e      2\n",
              "20019    06021  606d59a4b58b09000e0f0fed      2\n",
              "20209    06021  60e05ea715fca20013f5854a      2\n",
              "20657    06021  61c0ee1e845711000bf8163c      2\n",
              "...        ...                       ...    ...\n",
              "247062   06174  5f172c2dea92a20011267465      2\n",
              "250018   06175  618bea8b5180b7000e0faba9      2\n",
              "250139   06175  61ba11e097ec3a000b017724      2\n",
              "251094   06175  623b41fed562fe000c49e3ba      2\n",
              "251699   06175  6248b64fa3259b000c24e910      2\n",
              "\n",
              "[236 rows x 3 columns]"
            ]
          },
          "execution_count": 18,
          "metadata": {},
          "output_type": "execute_result"
        }
      ],
      "source": [
        "gene_artsy_groupped = df_cat_dat.groupby(['gene_id', 'artsy_id'])['artsy_id'].agg(['count']).reset_index()\n",
        "gene_artsy_groupped.loc[gene_artsy_groupped['count']>1]"
      ]
    },
    {
      "cell_type": "code",
      "execution_count": null,
      "metadata": {
        "colab": {
          "base_uri": "https://localhost:8080/",
          "height": 315
        },
        "id": "xXZhVTl6QXdG",
        "outputId": "427508ec-b59a-4120-ecc0-a4cc09f434e6"
      },
      "outputs": [
        {
          "data": {
            "text/html": [
              "\n",
              "  <div id=\"df-a6a91d71-01cf-4bb7-8ed3-adf414b0da07\">\n",
              "    <div class=\"colab-df-container\">\n",
              "      <div>\n",
              "<style scoped>\n",
              "    .dataframe tbody tr th:only-of-type {\n",
              "        vertical-align: middle;\n",
              "    }\n",
              "\n",
              "    .dataframe tbody tr th {\n",
              "        vertical-align: top;\n",
              "    }\n",
              "\n",
              "    .dataframe thead th {\n",
              "        text-align: right;\n",
              "    }\n",
              "</style>\n",
              "<table border=\"1\" class=\"dataframe\">\n",
              "  <thead>\n",
              "    <tr style=\"text-align: right;\">\n",
              "      <th></th>\n",
              "      <th>artsy_id</th>\n",
              "      <th>name</th>\n",
              "      <th>link</th>\n",
              "      <th>year</th>\n",
              "      <th>artist</th>\n",
              "      <th>gallery</th>\n",
              "      <th>price</th>\n",
              "      <th>gene_id</th>\n",
              "      <th>category_id</th>\n",
              "      <th>parsing_date</th>\n",
              "      <th>updating_date</th>\n",
              "    </tr>\n",
              "  </thead>\n",
              "  <tbody>\n",
              "    <tr>\n",
              "      <th>39366</th>\n",
              "      <td>6248b64fa3259b000c24e910</td>\n",
              "      <td>Time Is Movin’</td>\n",
              "      <td>https://d7hftxdivxxvm.cloudfront.net?resize_to...</td>\n",
              "      <td>2021</td>\n",
              "      <td>Mitsuyo OkadaTime Is Movin’, 2021Space 776US$290</td>\n",
              "      <td>Space 776</td>\n",
              "      <td>US$290</td>\n",
              "      <td>06175</td>\n",
              "      <td>06</td>\n",
              "      <td>2022-04-06</td>\n",
              "      <td>2022-04-06</td>\n",
              "    </tr>\n",
              "    <tr>\n",
              "      <th>39369</th>\n",
              "      <td>6248b64fa3259b000c24e910</td>\n",
              "      <td>Time Is Movin’</td>\n",
              "      <td>https://d7hftxdivxxvm.cloudfront.net?resize_to...</td>\n",
              "      <td>2021</td>\n",
              "      <td>Mitsuyo OkadaTime Is Movin’, 2021Space 776US$290</td>\n",
              "      <td>Space 776</td>\n",
              "      <td>US$290</td>\n",
              "      <td>06175</td>\n",
              "      <td>06</td>\n",
              "      <td>2022-04-06</td>\n",
              "      <td>2022-04-06</td>\n",
              "    </tr>\n",
              "  </tbody>\n",
              "</table>\n",
              "</div>\n",
              "      <button class=\"colab-df-convert\" onclick=\"convertToInteractive('df-a6a91d71-01cf-4bb7-8ed3-adf414b0da07')\"\n",
              "              title=\"Convert this dataframe to an interactive table.\"\n",
              "              style=\"display:none;\">\n",
              "        \n",
              "  <svg xmlns=\"http://www.w3.org/2000/svg\" height=\"24px\"viewBox=\"0 0 24 24\"\n",
              "       width=\"24px\">\n",
              "    <path d=\"M0 0h24v24H0V0z\" fill=\"none\"/>\n",
              "    <path d=\"M18.56 5.44l.94 2.06.94-2.06 2.06-.94-2.06-.94-.94-2.06-.94 2.06-2.06.94zm-11 1L8.5 8.5l.94-2.06 2.06-.94-2.06-.94L8.5 2.5l-.94 2.06-2.06.94zm10 10l.94 2.06.94-2.06 2.06-.94-2.06-.94-.94-2.06-.94 2.06-2.06.94z\"/><path d=\"M17.41 7.96l-1.37-1.37c-.4-.4-.92-.59-1.43-.59-.52 0-1.04.2-1.43.59L10.3 9.45l-7.72 7.72c-.78.78-.78 2.05 0 2.83L4 21.41c.39.39.9.59 1.41.59.51 0 1.02-.2 1.41-.59l7.78-7.78 2.81-2.81c.8-.78.8-2.07 0-2.86zM5.41 20L4 18.59l7.72-7.72 1.47 1.35L5.41 20z\"/>\n",
              "  </svg>\n",
              "      </button>\n",
              "      \n",
              "  <style>\n",
              "    .colab-df-container {\n",
              "      display:flex;\n",
              "      flex-wrap:wrap;\n",
              "      gap: 12px;\n",
              "    }\n",
              "\n",
              "    .colab-df-convert {\n",
              "      background-color: #E8F0FE;\n",
              "      border: none;\n",
              "      border-radius: 50%;\n",
              "      cursor: pointer;\n",
              "      display: none;\n",
              "      fill: #1967D2;\n",
              "      height: 32px;\n",
              "      padding: 0 0 0 0;\n",
              "      width: 32px;\n",
              "    }\n",
              "\n",
              "    .colab-df-convert:hover {\n",
              "      background-color: #E2EBFA;\n",
              "      box-shadow: 0px 1px 2px rgba(60, 64, 67, 0.3), 0px 1px 3px 1px rgba(60, 64, 67, 0.15);\n",
              "      fill: #174EA6;\n",
              "    }\n",
              "\n",
              "    [theme=dark] .colab-df-convert {\n",
              "      background-color: #3B4455;\n",
              "      fill: #D2E3FC;\n",
              "    }\n",
              "\n",
              "    [theme=dark] .colab-df-convert:hover {\n",
              "      background-color: #434B5C;\n",
              "      box-shadow: 0px 1px 3px 1px rgba(0, 0, 0, 0.15);\n",
              "      filter: drop-shadow(0px 1px 2px rgba(0, 0, 0, 0.3));\n",
              "      fill: #FFFFFF;\n",
              "    }\n",
              "  </style>\n",
              "\n",
              "      <script>\n",
              "        const buttonEl =\n",
              "          document.querySelector('#df-a6a91d71-01cf-4bb7-8ed3-adf414b0da07 button.colab-df-convert');\n",
              "        buttonEl.style.display =\n",
              "          google.colab.kernel.accessAllowed ? 'block' : 'none';\n",
              "\n",
              "        async function convertToInteractive(key) {\n",
              "          const element = document.querySelector('#df-a6a91d71-01cf-4bb7-8ed3-adf414b0da07');\n",
              "          const dataTable =\n",
              "            await google.colab.kernel.invokeFunction('convertToInteractive',\n",
              "                                                     [key], {});\n",
              "          if (!dataTable) return;\n",
              "\n",
              "          const docLinkHtml = 'Like what you see? Visit the ' +\n",
              "            '<a target=\"_blank\" href=https://colab.research.google.com/notebooks/data_table.ipynb>data table notebook</a>'\n",
              "            + ' to learn more about interactive tables.';\n",
              "          element.innerHTML = '';\n",
              "          dataTable['output_type'] = 'display_data';\n",
              "          await google.colab.output.renderOutput(dataTable, element);\n",
              "          const docLink = document.createElement('div');\n",
              "          docLink.innerHTML = docLinkHtml;\n",
              "          element.appendChild(docLink);\n",
              "        }\n",
              "      </script>\n",
              "    </div>\n",
              "  </div>\n",
              "  "
            ],
            "text/plain": [
              "                       artsy_id            name  \\\n",
              "39366  6248b64fa3259b000c24e910  Time Is Movin’   \n",
              "39369  6248b64fa3259b000c24e910  Time Is Movin’   \n",
              "\n",
              "                                                    link  year  \\\n",
              "39366  https://d7hftxdivxxvm.cloudfront.net?resize_to...  2021   \n",
              "39369  https://d7hftxdivxxvm.cloudfront.net?resize_to...  2021   \n",
              "\n",
              "                                                  artist    gallery    price  \\\n",
              "39366  Mitsuyo OkadaTime Is Movin’, 2021Space 776US$290   Space 776  US$290    \n",
              "39369  Mitsuyo OkadaTime Is Movin’, 2021Space 776US$290   Space 776  US$290    \n",
              "\n",
              "      gene_id category_id parsing_date updating_date  \n",
              "39366   06175          06   2022-04-06    2022-04-06  \n",
              "39369   06175          06   2022-04-06    2022-04-06  "
            ]
          },
          "execution_count": 20,
          "metadata": {},
          "output_type": "execute_result"
        }
      ],
      "source": [
        "df_cat_dat.loc[df_cat_dat['artsy_id']=='6248b64fa3259b000c24e910']"
      ]
    },
    {
      "cell_type": "code",
      "execution_count": null,
      "metadata": {
        "colab": {
          "base_uri": "https://localhost:8080/"
        },
        "id": "EzeCDxDvQvda",
        "outputId": "414bb62c-b6eb-490e-cde0-c5026edcaf5a"
      },
      "outputs": [
        {
          "name": "stdout",
          "output_type": "stream",
          "text": [
            "https://d7hftxdivxxvm.cloudfront.net?resize_to=fit&src=https%3A%2F%2Fd32dm0rphc51dk.cloudfront.net%2F8NpaJhOeMqPmSGH2IdLcWw%2Flarge.jpg&width=445&height=353&quality=80\n",
            "https://d7hftxdivxxvm.cloudfront.net?resize_to=fit&src=https%3A%2F%2Fd32dm0rphc51dk.cloudfront.net%2F8NpaJhOeMqPmSGH2IdLcWw%2Flarge.jpg&width=445&height=353&quality=80\n",
            "https://d7hftxdivxxvm.cloudfront.net?resize_to=fit&src=https%3A%2F%2Fd32dm0rphc51dk.cloudfront.net%2F8NpaJhOeMqPmSGH2IdLcWw%2Flarge.jpg&width=445&height=353&quality=80\n",
            "https://d7hftxdivxxvm.cloudfront.net?resize_to=fit&src=https%3A%2F%2Fd32dm0rphc51dk.cloudfront.net%2F8NpaJhOeMqPmSGH2IdLcWw%2Flarge.jpg&width=445&height=353&quality=80\n",
            "https://d7hftxdivxxvm.cloudfront.net?resize_to=fit&src=https%3A%2F%2Fd32dm0rphc51dk.cloudfront.net%2F8NpaJhOeMqPmSGH2IdLcWw%2Flarge.jpg&width=445&height=353&quality=80\n",
            "https://d7hftxdivxxvm.cloudfront.net?resize_to=fit&src=https%3A%2F%2Fd32dm0rphc51dk.cloudfront.net%2F8NpaJhOeMqPmSGH2IdLcWw%2Flarge.jpg&width=445&height=353&quality=80\n",
            "https://d7hftxdivxxvm.cloudfront.net?resize_to=fit&src=https%3A%2F%2Fd32dm0rphc51dk.cloudfront.net%2F8NpaJhOeMqPmSGH2IdLcWw%2Flarge.jpg&width=445&height=353&quality=80\n",
            "https://d7hftxdivxxvm.cloudfront.net?resize_to=fit&src=https%3A%2F%2Fd32dm0rphc51dk.cloudfront.net%2F8NpaJhOeMqPmSGH2IdLcWw%2Flarge.jpg&width=445&height=353&quality=80\n"
          ]
        }
      ],
      "source": [
        "for link in df_cat_dat.loc[df_cat_dat['artsy_id']=='4d8b93484eb68a1b2c00125b']['link']:\n",
        "  print(link)"
      ]
    },
    {
      "cell_type": "markdown",
      "metadata": {
        "id": "UZXZRaqagEKy"
      },
      "source": [
        "There can be item duplicates inside one gene items' list also. Delete them."
      ]
    },
    {
      "cell_type": "markdown",
      "metadata": {
        "id": "wfIpE7tfKot2"
      },
      "source": [
        "### Merging of all the data"
      ]
    },
    {
      "cell_type": "code",
      "execution_count": null,
      "metadata": {
        "id": "znKnyKm1Rczc"
      },
      "outputs": [],
      "source": [
        "# cat 10\n",
        "df_cat_dat_total = pd.concat([df_cat_dat, df_temp_data_new])\n",
        "df_cat_dat_total.drop_duplicates(subset = ['gene_id', 'artsy_id'], keep = 'first', inplace = True)\n",
        "df_cat_dat_total = df_cat_dat_total.reset_index().drop(['index'], axis=1) # !!!"
      ]
    },
    {
      "cell_type": "code",
      "execution_count": 308,
      "metadata": {
        "id": "OVkTWLUNHn0Q"
      },
      "outputs": [],
      "source": [
        "# or\n",
        "df_cat_dat_total = df_cat_dat.copy()"
      ]
    },
    {
      "cell_type": "code",
      "execution_count": 309,
      "metadata": {
        "colab": {
          "base_uri": "https://localhost:8080/"
        },
        "id": "2BCVru3gHyTL",
        "outputId": "41927b67-c4d7-4b2c-9c91-54f48a0022bf"
      },
      "outputs": [
        {
          "output_type": "stream",
          "name": "stdout",
          "text": [
            "<class 'pandas.core.frame.DataFrame'>\n",
            "RangeIndex: 263 entries, 0 to 262\n",
            "Data columns (total 11 columns):\n",
            " #   Column         Non-Null Count  Dtype \n",
            "---  ------         --------------  ----- \n",
            " 0   artsy_id       263 non-null    object\n",
            " 1   name           263 non-null    object\n",
            " 2   link           263 non-null    object\n",
            " 3   year           257 non-null    object\n",
            " 4   artist         263 non-null    object\n",
            " 5   gallery        263 non-null    object\n",
            " 6   price          263 non-null    object\n",
            " 7   gene_id        263 non-null    object\n",
            " 8   category_id    263 non-null    object\n",
            " 9   parsing_date   263 non-null    object\n",
            " 10  updating_date  263 non-null    object\n",
            "dtypes: object(11)\n",
            "memory usage: 22.7+ KB\n"
          ]
        }
      ],
      "source": [
        "df_cat_dat_total.info()"
      ]
    },
    {
      "cell_type": "markdown",
      "metadata": {
        "id": "-xbHHg5xgqqe"
      },
      "source": [
        "Genes checking: sometimes there may be a problem (like with cat 03)"
      ]
    },
    {
      "cell_type": "code",
      "execution_count": 310,
      "metadata": {
        "colab": {
          "base_uri": "https://localhost:8080/"
        },
        "id": "gL7y_mNKTxzE",
        "outputId": "41fad1b9-cbeb-4579-b61e-f0decabc16ee"
      },
      "outputs": [
        {
          "output_type": "stream",
          "name": "stdout",
          "text": [
            "1\n"
          ]
        },
        {
          "output_type": "execute_result",
          "data": {
            "text/plain": [
              "1"
            ]
          },
          "metadata": {},
          "execution_count": 310
        }
      ],
      "source": [
        "print(len(genes_ids_list))\n",
        "df_cat_dat_total['gene_id'].dropna().nunique()"
      ]
    },
    {
      "cell_type": "code",
      "execution_count": 311,
      "metadata": {
        "id": "QuCOH_Y5Rctp"
      },
      "outputs": [],
      "source": [
        "save_df_file(df_cat_dat_total, '/artsy_temp_data_new_gene.csv', 'backup') # 4. Save df to csv file\n",
        "#df_cat_dat_total = open_file_csv('/artsy_temp_data_09.csv', 'backup') # 3. Open file.csv"
      ]
    },
    {
      "cell_type": "code",
      "execution_count": null,
      "metadata": {
        "colab": {
          "base_uri": "https://localhost:8080/"
        },
        "id": "sYbzr9wGLxSt",
        "outputId": "1e5fd15c-d7b7-498b-e57f-27db91f0b23d"
      },
      "outputs": [
        {
          "output_type": "execute_result",
          "data": {
            "text/plain": [
              "27"
            ]
          },
          "metadata": {},
          "execution_count": 204
        }
      ],
      "source": [
        "# !!! cat 10 !!!\n",
        "check_gene_id = df_cat_dat_total['gene_id'].dropna().unique().tolist()\n",
        "len(check_gene_id)"
      ]
    },
    {
      "cell_type": "code",
      "execution_count": null,
      "metadata": {
        "colab": {
          "base_uri": "https://localhost:8080/"
        },
        "id": "4cCWzth3Ip--",
        "outputId": "63fc364f-74d8-4efe-dfe8-fadc69bd66e1"
      },
      "outputs": [
        {
          "data": {
            "text/plain": [
              "['10021',\n",
              " '10008',\n",
              " '10001',\n",
              " '10013',\n",
              " '10006',\n",
              " '10017',\n",
              " '10020',\n",
              " '10004',\n",
              " '10009',\n",
              " '10003',\n",
              " '10014',\n",
              " '10015',\n",
              " '10012',\n",
              " '10016',\n",
              " '10005',\n",
              " '10010',\n",
              " '10011',\n",
              " '10018',\n",
              " '10002',\n",
              " '10007',\n",
              " '10022',\n",
              " '10019']"
            ]
          },
          "execution_count": 251,
          "metadata": {},
          "output_type": "execute_result"
        }
      ],
      "source": [
        "genes_ids_list_er = list(set(genes_ids_list) - set(check_gene_id))\n",
        "genes_ids_list_er"
      ]
    },
    {
      "cell_type": "code",
      "execution_count": null,
      "metadata": {
        "colab": {
          "base_uri": "https://localhost:8080/"
        },
        "id": "A00qRf8SIp7a",
        "outputId": "c38a3725-f2be-4907-ce73-08f18bac94fa"
      },
      "outputs": [
        {
          "name": "stdout",
          "output_type": "stream",
          "text": [
            "https://www.artsy.net/gene/whimsical-design\n",
            "https://www.artsy.net/gene/handcrafted-furniture-and-design\n",
            "https://www.artsy.net/gene/cad-computer-aided-design\n",
            "https://www.artsy.net/gene/modular-design\n",
            "https://www.artsy.net/gene/engineering-slash-construction-and-design\n",
            "https://www.artsy.net/gene/restrained-forms\n",
            "https://www.artsy.net/gene/timber-frame-construction\n",
            "https://www.artsy.net/gene/design-by-artists\n",
            "https://www.artsy.net/gene/iconic-works-of-design\n",
            "https://www.artsy.net/gene/design-by-architects\n",
            "https://www.artsy.net/gene/non-functional-design\n",
            "https://www.artsy.net/gene/reinforced-concrete-construction\n",
            "https://www.artsy.net/gene/masonry-construction\n",
            "https://www.artsy.net/gene/religious-building\n",
            "https://www.artsy.net/gene/emerging-design\n",
            "https://www.artsy.net/gene/industrial-and-product-design\n",
            "https://www.artsy.net/gene/jewelry-by-painters-and-sculptors\n",
            "https://www.artsy.net/gene/steel-slash-iron-frame-construction\n",
            "https://www.artsy.net/gene/childrens-furniture-and-design\n",
            "https://www.artsy.net/gene/focus-on-joints-slash-connections\n",
            "https://www.artsy.net/gene/women-designers\n",
            "https://www.artsy.net/gene/sustainable-design\n"
          ]
        }
      ],
      "source": [
        "genes_links_list_er = [genes_links_list[genes_ids_list.index(g_id)] for g_id in genes_ids_list_er]\n",
        "for link in genes_links_list_er:\n",
        "  print(url_add + link)"
      ]
    },
    {
      "cell_type": "markdown",
      "metadata": {
        "id": "43BW-pTwdCTr"
      },
      "source": [
        "Pages of these genes are empty, so everything's allright."
      ]
    },
    {
      "cell_type": "markdown",
      "metadata": {
        "id": "oZxb6iVMm0Rh"
      },
      "source": [
        "## Data studying"
      ]
    },
    {
      "cell_type": "code",
      "source": [
        "#df_cat_dat_total = open_file_csv('/artsy_temp_data_05.csv', 'backup') # 3. Open file.csv"
      ],
      "metadata": {
        "id": "7C8x5djBpWSR"
      },
      "execution_count": null,
      "outputs": []
    },
    {
      "cell_type": "code",
      "source": [
        "# Addition and Updating !!!!!!!!!!!!!\n",
        "#df_cat_dat_total = open_file_csv('/artsy_temp_data_add.csv', 'backup') # 3. Open file.csv\n",
        "# OR\n",
        "df_cat_dat_total = df_cat_dat_new_ids.copy()"
      ],
      "metadata": {
        "id": "unXYtAlCpTny"
      },
      "execution_count": 30,
      "outputs": []
    },
    {
      "cell_type": "code",
      "execution_count": 31,
      "metadata": {
        "colab": {
          "base_uri": "https://localhost:8080/"
        },
        "id": "uxVdG_7ThpO_",
        "outputId": "78e682c6-d27a-4a96-b031-7fc0a06e57b2"
      },
      "outputs": [
        {
          "output_type": "stream",
          "name": "stdout",
          "text": [
            "<class 'pandas.core.frame.DataFrame'>\n",
            "Int64Index: 2054 entries, 7 to 4565\n",
            "Data columns (total 13 columns):\n",
            " #   Column            Non-Null Count  Dtype  \n",
            "---  ------            --------------  -----  \n",
            " 0   artsy_id          2054 non-null   object \n",
            " 1   name              2054 non-null   object \n",
            " 2   link              2054 non-null   object \n",
            " 3   year              2051 non-null   object \n",
            " 4   artist            2054 non-null   object \n",
            " 5   gallery           2054 non-null   object \n",
            " 6   price             2054 non-null   object \n",
            " 7   gene_id           2054 non-null   object \n",
            " 8   category_id       2054 non-null   object \n",
            " 9   parsing_date      2054 non-null   object \n",
            " 10  updating_date     2054 non-null   object \n",
            " 11  pages_count       2054 non-null   float64\n",
            " 12  second_page_link  0 non-null      float64\n",
            "dtypes: float64(2), object(11)\n",
            "memory usage: 224.7+ KB\n"
          ]
        }
      ],
      "source": [
        "df_cat_dat_total.info()"
      ]
    },
    {
      "cell_type": "code",
      "execution_count": 32,
      "metadata": {
        "colab": {
          "base_uri": "https://localhost:8080/"
        },
        "id": "P2-XPoXRNrd1",
        "outputId": "6883cd61-5ad2-4dd3-da4d-9913695e0a09"
      },
      "outputs": [
        {
          "output_type": "stream",
          "name": "stdout",
          "text": [
            "1\n",
            "1\n"
          ]
        }
      ],
      "source": [
        "print(df_cat_dat_total.groupby(['gene_id', 'artsy_id'])['artsy_id'].count().max())\n",
        "print(df_cat_dat_total.groupby(['gene_id', 'artsy_id'])['artsy_id'].nunique().max())"
      ]
    },
    {
      "cell_type": "markdown",
      "metadata": {
        "id": "oLkQ-qFPqJmW"
      },
      "source": [
        "Transform id from int into str and link into a working one."
      ]
    },
    {
      "cell_type": "code",
      "execution_count": 33,
      "metadata": {
        "colab": {
          "base_uri": "https://localhost:8080/",
          "height": 478
        },
        "id": "0msJIt4lIqCD",
        "outputId": "52629ecc-ec03-4272-857a-bd37fa9a97e4"
      },
      "outputs": [
        {
          "output_type": "execute_result",
          "data": {
            "text/plain": [
              "                      artsy_id                                   name  \\\n",
              "1026  6259dbba4d3546000ee17d88                       African Royalty    \n",
              "4427  625f8758a6f8cd000b5fd0c4  Siem Reap Street and a Moto with Pigs   \n",
              "2373  625cea18b65677000dad66c1          Big Flowers, Coffee and Pears   \n",
              "1143  625edf7a4b02fe000be0b5bd                                 Juliet   \n",
              "1428  625fcb64d59658000c7e7fa4                 Fukuske Gold 100%/400%   \n",
              "\n",
              "                                                   link      year  \\\n",
              "1026  https://d32dm0rphc51dk.cloudfront.net/YkL55IND...  ca. 1964   \n",
              "4427  https://d32dm0rphc51dk.cloudfront.net/WPHW095A...      2008   \n",
              "2373  https://d32dm0rphc51dk.cloudfront.net/XIA0K7ng...      2021   \n",
              "1143  https://d32dm0rphc51dk.cloudfront.net/CL5hNGHA...  ca. 1950   \n",
              "1428  https://d32dm0rphc51dk.cloudfront.net/1ZBe-40G...      2021   \n",
              "\n",
              "                                                 artist  \\\n",
              "1026  Romare BeardenAfrican Royalty , ca. 1964Alpha ...   \n",
              "4427  Stéphane DelapréeSiem Reap Street and a Moto w...   \n",
              "2373  erikaintheislandBig Flowers, Coffee and Pears,...   \n",
              "1143  Man RayJuliet, ca. 1950Bruce Silverstein Galle...   \n",
              "1428  [email protected]Fukuske Gold 100%/400%, 20212...   \n",
              "\n",
              "                        gallery              price gene_id category_id  \\\n",
              "1026          Alpha 137 Gallery        US$194,995    06172          06   \n",
              "4427             Sra'Art Studio          US$3,900    06111          06   \n",
              "2373                Casie Kyoto            US$549    02073          02   \n",
              "1143  Bruce Silverstein Gallery  Price on request    07008          07   \n",
              "1428              2B Art & Toys              €264    06144          06   \n",
              "\n",
              "     parsing_date updating_date  pages_count  second_page_link  \n",
              "1026   2022-04-20    2022-04-20          1.0               NaN  \n",
              "4427   2022-04-20    2022-04-20          1.0               NaN  \n",
              "2373   2022-04-20    2022-04-20          1.0               NaN  \n",
              "1143   2022-04-20    2022-04-20          1.0               NaN  \n",
              "1428   2022-04-20    2022-04-20          1.0               NaN  "
            ],
            "text/html": [
              "\n",
              "  <div id=\"df-90e41940-b0a6-42ba-9da3-187e7a2af853\">\n",
              "    <div class=\"colab-df-container\">\n",
              "      <div>\n",
              "<style scoped>\n",
              "    .dataframe tbody tr th:only-of-type {\n",
              "        vertical-align: middle;\n",
              "    }\n",
              "\n",
              "    .dataframe tbody tr th {\n",
              "        vertical-align: top;\n",
              "    }\n",
              "\n",
              "    .dataframe thead th {\n",
              "        text-align: right;\n",
              "    }\n",
              "</style>\n",
              "<table border=\"1\" class=\"dataframe\">\n",
              "  <thead>\n",
              "    <tr style=\"text-align: right;\">\n",
              "      <th></th>\n",
              "      <th>artsy_id</th>\n",
              "      <th>name</th>\n",
              "      <th>link</th>\n",
              "      <th>year</th>\n",
              "      <th>artist</th>\n",
              "      <th>gallery</th>\n",
              "      <th>price</th>\n",
              "      <th>gene_id</th>\n",
              "      <th>category_id</th>\n",
              "      <th>parsing_date</th>\n",
              "      <th>updating_date</th>\n",
              "      <th>pages_count</th>\n",
              "      <th>second_page_link</th>\n",
              "    </tr>\n",
              "  </thead>\n",
              "  <tbody>\n",
              "    <tr>\n",
              "      <th>1026</th>\n",
              "      <td>6259dbba4d3546000ee17d88</td>\n",
              "      <td>African Royalty</td>\n",
              "      <td>https://d32dm0rphc51dk.cloudfront.net/YkL55IND...</td>\n",
              "      <td>ca. 1964</td>\n",
              "      <td>Romare BeardenAfrican Royalty , ca. 1964Alpha ...</td>\n",
              "      <td>Alpha 137 Gallery</td>\n",
              "      <td>US$194,995</td>\n",
              "      <td>06172</td>\n",
              "      <td>06</td>\n",
              "      <td>2022-04-20</td>\n",
              "      <td>2022-04-20</td>\n",
              "      <td>1.0</td>\n",
              "      <td>NaN</td>\n",
              "    </tr>\n",
              "    <tr>\n",
              "      <th>4427</th>\n",
              "      <td>625f8758a6f8cd000b5fd0c4</td>\n",
              "      <td>Siem Reap Street and a Moto with Pigs</td>\n",
              "      <td>https://d32dm0rphc51dk.cloudfront.net/WPHW095A...</td>\n",
              "      <td>2008</td>\n",
              "      <td>Stéphane DelapréeSiem Reap Street and a Moto w...</td>\n",
              "      <td>Sra'Art Studio</td>\n",
              "      <td>US$3,900</td>\n",
              "      <td>06111</td>\n",
              "      <td>06</td>\n",
              "      <td>2022-04-20</td>\n",
              "      <td>2022-04-20</td>\n",
              "      <td>1.0</td>\n",
              "      <td>NaN</td>\n",
              "    </tr>\n",
              "    <tr>\n",
              "      <th>2373</th>\n",
              "      <td>625cea18b65677000dad66c1</td>\n",
              "      <td>Big Flowers, Coffee and Pears</td>\n",
              "      <td>https://d32dm0rphc51dk.cloudfront.net/XIA0K7ng...</td>\n",
              "      <td>2021</td>\n",
              "      <td>erikaintheislandBig Flowers, Coffee and Pears,...</td>\n",
              "      <td>Casie Kyoto</td>\n",
              "      <td>US$549</td>\n",
              "      <td>02073</td>\n",
              "      <td>02</td>\n",
              "      <td>2022-04-20</td>\n",
              "      <td>2022-04-20</td>\n",
              "      <td>1.0</td>\n",
              "      <td>NaN</td>\n",
              "    </tr>\n",
              "    <tr>\n",
              "      <th>1143</th>\n",
              "      <td>625edf7a4b02fe000be0b5bd</td>\n",
              "      <td>Juliet</td>\n",
              "      <td>https://d32dm0rphc51dk.cloudfront.net/CL5hNGHA...</td>\n",
              "      <td>ca. 1950</td>\n",
              "      <td>Man RayJuliet, ca. 1950Bruce Silverstein Galle...</td>\n",
              "      <td>Bruce Silverstein Gallery</td>\n",
              "      <td>Price on request</td>\n",
              "      <td>07008</td>\n",
              "      <td>07</td>\n",
              "      <td>2022-04-20</td>\n",
              "      <td>2022-04-20</td>\n",
              "      <td>1.0</td>\n",
              "      <td>NaN</td>\n",
              "    </tr>\n",
              "    <tr>\n",
              "      <th>1428</th>\n",
              "      <td>625fcb64d59658000c7e7fa4</td>\n",
              "      <td>Fukuske Gold 100%/400%</td>\n",
              "      <td>https://d32dm0rphc51dk.cloudfront.net/1ZBe-40G...</td>\n",
              "      <td>2021</td>\n",
              "      <td>[email protected]Fukuske Gold 100%/400%, 20212...</td>\n",
              "      <td>2B Art &amp; Toys</td>\n",
              "      <td>€264</td>\n",
              "      <td>06144</td>\n",
              "      <td>06</td>\n",
              "      <td>2022-04-20</td>\n",
              "      <td>2022-04-20</td>\n",
              "      <td>1.0</td>\n",
              "      <td>NaN</td>\n",
              "    </tr>\n",
              "  </tbody>\n",
              "</table>\n",
              "</div>\n",
              "      <button class=\"colab-df-convert\" onclick=\"convertToInteractive('df-90e41940-b0a6-42ba-9da3-187e7a2af853')\"\n",
              "              title=\"Convert this dataframe to an interactive table.\"\n",
              "              style=\"display:none;\">\n",
              "        \n",
              "  <svg xmlns=\"http://www.w3.org/2000/svg\" height=\"24px\"viewBox=\"0 0 24 24\"\n",
              "       width=\"24px\">\n",
              "    <path d=\"M0 0h24v24H0V0z\" fill=\"none\"/>\n",
              "    <path d=\"M18.56 5.44l.94 2.06.94-2.06 2.06-.94-2.06-.94-.94-2.06-.94 2.06-2.06.94zm-11 1L8.5 8.5l.94-2.06 2.06-.94-2.06-.94L8.5 2.5l-.94 2.06-2.06.94zm10 10l.94 2.06.94-2.06 2.06-.94-2.06-.94-.94-2.06-.94 2.06-2.06.94z\"/><path d=\"M17.41 7.96l-1.37-1.37c-.4-.4-.92-.59-1.43-.59-.52 0-1.04.2-1.43.59L10.3 9.45l-7.72 7.72c-.78.78-.78 2.05 0 2.83L4 21.41c.39.39.9.59 1.41.59.51 0 1.02-.2 1.41-.59l7.78-7.78 2.81-2.81c.8-.78.8-2.07 0-2.86zM5.41 20L4 18.59l7.72-7.72 1.47 1.35L5.41 20z\"/>\n",
              "  </svg>\n",
              "      </button>\n",
              "      \n",
              "  <style>\n",
              "    .colab-df-container {\n",
              "      display:flex;\n",
              "      flex-wrap:wrap;\n",
              "      gap: 12px;\n",
              "    }\n",
              "\n",
              "    .colab-df-convert {\n",
              "      background-color: #E8F0FE;\n",
              "      border: none;\n",
              "      border-radius: 50%;\n",
              "      cursor: pointer;\n",
              "      display: none;\n",
              "      fill: #1967D2;\n",
              "      height: 32px;\n",
              "      padding: 0 0 0 0;\n",
              "      width: 32px;\n",
              "    }\n",
              "\n",
              "    .colab-df-convert:hover {\n",
              "      background-color: #E2EBFA;\n",
              "      box-shadow: 0px 1px 2px rgba(60, 64, 67, 0.3), 0px 1px 3px 1px rgba(60, 64, 67, 0.15);\n",
              "      fill: #174EA6;\n",
              "    }\n",
              "\n",
              "    [theme=dark] .colab-df-convert {\n",
              "      background-color: #3B4455;\n",
              "      fill: #D2E3FC;\n",
              "    }\n",
              "\n",
              "    [theme=dark] .colab-df-convert:hover {\n",
              "      background-color: #434B5C;\n",
              "      box-shadow: 0px 1px 3px 1px rgba(0, 0, 0, 0.15);\n",
              "      filter: drop-shadow(0px 1px 2px rgba(0, 0, 0, 0.3));\n",
              "      fill: #FFFFFF;\n",
              "    }\n",
              "  </style>\n",
              "\n",
              "      <script>\n",
              "        const buttonEl =\n",
              "          document.querySelector('#df-90e41940-b0a6-42ba-9da3-187e7a2af853 button.colab-df-convert');\n",
              "        buttonEl.style.display =\n",
              "          google.colab.kernel.accessAllowed ? 'block' : 'none';\n",
              "\n",
              "        async function convertToInteractive(key) {\n",
              "          const element = document.querySelector('#df-90e41940-b0a6-42ba-9da3-187e7a2af853');\n",
              "          const dataTable =\n",
              "            await google.colab.kernel.invokeFunction('convertToInteractive',\n",
              "                                                     [key], {});\n",
              "          if (!dataTable) return;\n",
              "\n",
              "          const docLinkHtml = 'Like what you see? Visit the ' +\n",
              "            '<a target=\"_blank\" href=https://colab.research.google.com/notebooks/data_table.ipynb>data table notebook</a>'\n",
              "            + ' to learn more about interactive tables.';\n",
              "          element.innerHTML = '';\n",
              "          dataTable['output_type'] = 'display_data';\n",
              "          await google.colab.output.renderOutput(dataTable, element);\n",
              "          const docLink = document.createElement('div');\n",
              "          docLink.innerHTML = docLinkHtml;\n",
              "          element.appendChild(docLink);\n",
              "        }\n",
              "      </script>\n",
              "    </div>\n",
              "  </div>\n",
              "  "
            ]
          },
          "metadata": {},
          "execution_count": 33
        }
      ],
      "source": [
        "#df_cat_dat_total['category_id'] = df_cat_dat_total['category_id'].dropna().apply(lambda x: str(x) if len(str(x))==cat_id_len else ('0'*(cat_id_len-len(str(x)))+str(x)))\n",
        "#df_cat_dat_total['gene_id'] = df_cat_dat_total['gene_id'].dropna().apply(lambda x: str(x) if len(str(x))==gen_id_len else ('0'*(gen_id_len-len(str(x)))+str(x)))\n",
        "\n",
        "df_cat_dat_total['link'] = df_cat_dat_total['link'].dropna().apply(lambda x: img_link_corr(x))\n",
        "\n",
        "df_cat_dat_total.sample(5)"
      ]
    },
    {
      "cell_type": "code",
      "execution_count": 34,
      "metadata": {
        "colab": {
          "base_uri": "https://localhost:8080/"
        },
        "id": "k11GYBaLIp1D",
        "outputId": "ed63f436-d843-404b-e666-083cfcb5d7ee"
      },
      "outputs": [
        {
          "output_type": "stream",
          "name": "stdout",
          "text": [
            "https://d32dm0rphc51dk.cloudfront.net/bl2n8o5AgzTahFwRhA6kww/large.jpg\n",
            "https://d32dm0rphc51dk.cloudfront.net/w-nN_nVOi-vq24E6-8ezwg/large.jpg\n",
            "https://d32dm0rphc51dk.cloudfront.net/wttXxce7X2Q_LQscwGnTkg/large.jpg\n",
            "https://d32dm0rphc51dk.cloudfront.net/B2NHQUWNVwbcfRshITSh6A/large.jpg\n",
            "https://d32dm0rphc51dk.cloudfront.net/BLvH612ISYinSq2VMK9_BQ/large.jpg\n"
          ]
        }
      ],
      "source": [
        "for link in df_cat_dat_total['link'].sample(5):\n",
        "  print(link)"
      ]
    },
    {
      "cell_type": "markdown",
      "metadata": {
        "id": "1llmSnWlsnPX"
      },
      "source": [
        "Count of unique artsy_id and link should be equal. But sometimes they're not (like in cat 03)."
      ]
    },
    {
      "cell_type": "code",
      "execution_count": 35,
      "metadata": {
        "colab": {
          "base_uri": "https://localhost:8080/"
        },
        "id": "-ff_vHrMIprR",
        "outputId": "56b14b2b-7663-429b-a174-9d84fb2d6581"
      },
      "outputs": [
        {
          "output_type": "stream",
          "name": "stdout",
          "text": [
            "1267\n",
            "1267\n"
          ]
        }
      ],
      "source": [
        "print(df_cat_dat_total['artsy_id'].nunique())\n",
        "print(df_cat_dat_total['link'].nunique())"
      ]
    },
    {
      "cell_type": "code",
      "execution_count": null,
      "metadata": {
        "id": "z9C1IoY2F6vL"
      },
      "outputs": [],
      "source": [
        "# !!! links' problem solving !!!"
      ]
    },
    {
      "cell_type": "code",
      "execution_count": null,
      "metadata": {
        "colab": {
          "base_uri": "https://localhost:8080/"
        },
        "id": "nexPBDQbnr08",
        "outputId": "027f0c98-69de-44e1-ade8-dececbb86be7"
      },
      "outputs": [
        {
          "name": "stdout",
          "output_type": "stream",
          "text": [
            "<class 'pandas.core.frame.DataFrame'>\n",
            "Int64Index: 138883 entries, 0 to 179744\n",
            "Data columns (total 2 columns):\n",
            " #   Column    Non-Null Count   Dtype \n",
            "---  ------    --------------   ----- \n",
            " 0   artsy_id  138883 non-null  object\n",
            " 1   link      138883 non-null  object\n",
            "dtypes: object(2)\n",
            "memory usage: 3.2+ MB\n"
          ]
        }
      ],
      "source": [
        "artsy_id_link = df_cat_dat_total[['artsy_id', 'link']]\n",
        "artsy_id_link.drop_duplicates(subset = ['link', 'artsy_id'], keep = 'first', inplace = True)\n",
        "artsy_id_link.info()"
      ]
    },
    {
      "cell_type": "code",
      "execution_count": null,
      "metadata": {
        "colab": {
          "base_uri": "https://localhost:8080/"
        },
        "id": "dGzNKoR6jAkf",
        "outputId": "e7b02619-2033-40b0-dab3-ccd07e6f48e9"
      },
      "outputs": [
        {
          "data": {
            "text/plain": [
              "1"
            ]
          },
          "execution_count": 225,
          "metadata": {},
          "output_type": "execute_result"
        }
      ],
      "source": [
        "artsy_link_groupped = artsy_id_link.groupby(['artsy_id'])['link'].agg(['count']).reset_index()\n",
        "links_prob_list = artsy_link_groupped.loc[artsy_link_groupped['count']>1]['artsy_id'].tolist()\n",
        "len(links_prob_list)"
      ]
    },
    {
      "cell_type": "code",
      "execution_count": null,
      "metadata": {
        "colab": {
          "base_uri": "https://localhost:8080/"
        },
        "id": "L6jdhlLMqfKU",
        "outputId": "919f67c3-8a28-469d-c9c3-cbec057a0583"
      },
      "outputs": [
        {
          "data": {
            "text/plain": [
              "['6247862634f6b2000b712474']"
            ]
          },
          "execution_count": 226,
          "metadata": {},
          "output_type": "execute_result"
        }
      ],
      "source": [
        "links_prob_list"
      ]
    },
    {
      "cell_type": "code",
      "execution_count": null,
      "metadata": {
        "colab": {
          "base_uri": "https://localhost:8080/",
          "height": 315
        },
        "id": "P6ki-ovkpxII",
        "outputId": "d6b0ec51-45c9-4ebc-8a71-f48e77521a9f"
      },
      "outputs": [
        {
          "data": {
            "text/html": [
              "\n",
              "  <div id=\"df-8ce31d81-5f35-4ea7-9bf1-25bac1d6247d\">\n",
              "    <div class=\"colab-df-container\">\n",
              "      <div>\n",
              "<style scoped>\n",
              "    .dataframe tbody tr th:only-of-type {\n",
              "        vertical-align: middle;\n",
              "    }\n",
              "\n",
              "    .dataframe tbody tr th {\n",
              "        vertical-align: top;\n",
              "    }\n",
              "\n",
              "    .dataframe thead th {\n",
              "        text-align: right;\n",
              "    }\n",
              "</style>\n",
              "<table border=\"1\" class=\"dataframe\">\n",
              "  <thead>\n",
              "    <tr style=\"text-align: right;\">\n",
              "      <th></th>\n",
              "      <th>artsy_id</th>\n",
              "      <th>name</th>\n",
              "      <th>link</th>\n",
              "      <th>year</th>\n",
              "      <th>artist</th>\n",
              "      <th>gallery</th>\n",
              "      <th>price</th>\n",
              "      <th>gene_id</th>\n",
              "      <th>category_id</th>\n",
              "      <th>parsing_date</th>\n",
              "      <th>updating_date</th>\n",
              "    </tr>\n",
              "  </thead>\n",
              "  <tbody>\n",
              "    <tr>\n",
              "      <th>132903</th>\n",
              "      <td>6247862634f6b2000b712474</td>\n",
              "      <td>PORTRAIT STYLISÉ DE JACQUELINE (TÊTE DE FEMME)...</td>\n",
              "      <td>https://d32dm0rphc51dk.cloudfront.net/dIHPcpGC...</td>\n",
              "      <td>1962</td>\n",
              "      <td>Pablo PicassoPORTRAIT STYLISÉ DE JACQUELINE (T...</td>\n",
              "      <td>Robert Fontaine Gallery</td>\n",
              "      <td>Price on request</td>\n",
              "      <td>08052</td>\n",
              "      <td>08</td>\n",
              "      <td>2022-04-08</td>\n",
              "      <td>2022-04-08</td>\n",
              "    </tr>\n",
              "    <tr>\n",
              "      <th>162343</th>\n",
              "      <td>6247862634f6b2000b712474</td>\n",
              "      <td>PORTRAIT STYLISÉ DE JACQUELINE (TÊTE DE FEMME)...</td>\n",
              "      <td>https://d32dm0rphc51dk.cloudfront.net/3gxxZMXE...</td>\n",
              "      <td>1962</td>\n",
              "      <td>Pablo PicassoPORTRAIT STYLISÉ DE JACQUELINE (T...</td>\n",
              "      <td>Robert Fontaine Gallery</td>\n",
              "      <td>Price on request</td>\n",
              "      <td>08062</td>\n",
              "      <td>08</td>\n",
              "      <td>2022-04-08</td>\n",
              "      <td>2022-04-08</td>\n",
              "    </tr>\n",
              "  </tbody>\n",
              "</table>\n",
              "</div>\n",
              "      <button class=\"colab-df-convert\" onclick=\"convertToInteractive('df-8ce31d81-5f35-4ea7-9bf1-25bac1d6247d')\"\n",
              "              title=\"Convert this dataframe to an interactive table.\"\n",
              "              style=\"display:none;\">\n",
              "        \n",
              "  <svg xmlns=\"http://www.w3.org/2000/svg\" height=\"24px\"viewBox=\"0 0 24 24\"\n",
              "       width=\"24px\">\n",
              "    <path d=\"M0 0h24v24H0V0z\" fill=\"none\"/>\n",
              "    <path d=\"M18.56 5.44l.94 2.06.94-2.06 2.06-.94-2.06-.94-.94-2.06-.94 2.06-2.06.94zm-11 1L8.5 8.5l.94-2.06 2.06-.94-2.06-.94L8.5 2.5l-.94 2.06-2.06.94zm10 10l.94 2.06.94-2.06 2.06-.94-2.06-.94-.94-2.06-.94 2.06-2.06.94z\"/><path d=\"M17.41 7.96l-1.37-1.37c-.4-.4-.92-.59-1.43-.59-.52 0-1.04.2-1.43.59L10.3 9.45l-7.72 7.72c-.78.78-.78 2.05 0 2.83L4 21.41c.39.39.9.59 1.41.59.51 0 1.02-.2 1.41-.59l7.78-7.78 2.81-2.81c.8-.78.8-2.07 0-2.86zM5.41 20L4 18.59l7.72-7.72 1.47 1.35L5.41 20z\"/>\n",
              "  </svg>\n",
              "      </button>\n",
              "      \n",
              "  <style>\n",
              "    .colab-df-container {\n",
              "      display:flex;\n",
              "      flex-wrap:wrap;\n",
              "      gap: 12px;\n",
              "    }\n",
              "\n",
              "    .colab-df-convert {\n",
              "      background-color: #E8F0FE;\n",
              "      border: none;\n",
              "      border-radius: 50%;\n",
              "      cursor: pointer;\n",
              "      display: none;\n",
              "      fill: #1967D2;\n",
              "      height: 32px;\n",
              "      padding: 0 0 0 0;\n",
              "      width: 32px;\n",
              "    }\n",
              "\n",
              "    .colab-df-convert:hover {\n",
              "      background-color: #E2EBFA;\n",
              "      box-shadow: 0px 1px 2px rgba(60, 64, 67, 0.3), 0px 1px 3px 1px rgba(60, 64, 67, 0.15);\n",
              "      fill: #174EA6;\n",
              "    }\n",
              "\n",
              "    [theme=dark] .colab-df-convert {\n",
              "      background-color: #3B4455;\n",
              "      fill: #D2E3FC;\n",
              "    }\n",
              "\n",
              "    [theme=dark] .colab-df-convert:hover {\n",
              "      background-color: #434B5C;\n",
              "      box-shadow: 0px 1px 3px 1px rgba(0, 0, 0, 0.15);\n",
              "      filter: drop-shadow(0px 1px 2px rgba(0, 0, 0, 0.3));\n",
              "      fill: #FFFFFF;\n",
              "    }\n",
              "  </style>\n",
              "\n",
              "      <script>\n",
              "        const buttonEl =\n",
              "          document.querySelector('#df-8ce31d81-5f35-4ea7-9bf1-25bac1d6247d button.colab-df-convert');\n",
              "        buttonEl.style.display =\n",
              "          google.colab.kernel.accessAllowed ? 'block' : 'none';\n",
              "\n",
              "        async function convertToInteractive(key) {\n",
              "          const element = document.querySelector('#df-8ce31d81-5f35-4ea7-9bf1-25bac1d6247d');\n",
              "          const dataTable =\n",
              "            await google.colab.kernel.invokeFunction('convertToInteractive',\n",
              "                                                     [key], {});\n",
              "          if (!dataTable) return;\n",
              "\n",
              "          const docLinkHtml = 'Like what you see? Visit the ' +\n",
              "            '<a target=\"_blank\" href=https://colab.research.google.com/notebooks/data_table.ipynb>data table notebook</a>'\n",
              "            + ' to learn more about interactive tables.';\n",
              "          element.innerHTML = '';\n",
              "          dataTable['output_type'] = 'display_data';\n",
              "          await google.colab.output.renderOutput(dataTable, element);\n",
              "          const docLink = document.createElement('div');\n",
              "          docLink.innerHTML = docLinkHtml;\n",
              "          element.appendChild(docLink);\n",
              "        }\n",
              "      </script>\n",
              "    </div>\n",
              "  </div>\n",
              "  "
            ],
            "text/plain": [
              "                        artsy_id  \\\n",
              "132903  6247862634f6b2000b712474   \n",
              "162343  6247862634f6b2000b712474   \n",
              "\n",
              "                                                     name  \\\n",
              "132903  PORTRAIT STYLISÉ DE JACQUELINE (TÊTE DE FEMME)...   \n",
              "162343  PORTRAIT STYLISÉ DE JACQUELINE (TÊTE DE FEMME)...   \n",
              "\n",
              "                                                     link  year  \\\n",
              "132903  https://d32dm0rphc51dk.cloudfront.net/dIHPcpGC...  1962   \n",
              "162343  https://d32dm0rphc51dk.cloudfront.net/3gxxZMXE...  1962   \n",
              "\n",
              "                                                   artist  \\\n",
              "132903  Pablo PicassoPORTRAIT STYLISÉ DE JACQUELINE (T...   \n",
              "162343  Pablo PicassoPORTRAIT STYLISÉ DE JACQUELINE (T...   \n",
              "\n",
              "                        gallery              price gene_id category_id  \\\n",
              "132903  Robert Fontaine Gallery  Price on request    08052          08   \n",
              "162343  Robert Fontaine Gallery  Price on request    08062          08   \n",
              "\n",
              "       parsing_date updating_date  \n",
              "132903   2022-04-08    2022-04-08  \n",
              "162343   2022-04-08    2022-04-08  "
            ]
          },
          "execution_count": 227,
          "metadata": {},
          "output_type": "execute_result"
        }
      ],
      "source": [
        "id = links_prob_list[0]\n",
        "df_cat_dat_total.loc[df_cat_dat_total['artsy_id']==id]"
      ]
    },
    {
      "cell_type": "code",
      "execution_count": null,
      "metadata": {
        "colab": {
          "base_uri": "https://localhost:8080/"
        },
        "id": "YSWBiXmfqqqH",
        "outputId": "d87e86b6-3760-4e7f-f6c8-67917db1f704"
      },
      "outputs": [
        {
          "name": "stdout",
          "output_type": "stream",
          "text": [
            "https://d32dm0rphc51dk.cloudfront.net/dIHPcpGCPw8QyU-YRGQRMA/large.jpg\n",
            "https://d32dm0rphc51dk.cloudfront.net/3gxxZMXEYPjh8hhouRj9lQ/large.jpg\n"
          ]
        }
      ],
      "source": [
        "for link in df_cat_dat_total.loc[df_cat_dat_total['artsy_id']==id]['link'].unique():\n",
        "  print(link)"
      ]
    },
    {
      "cell_type": "markdown",
      "metadata": {
        "id": "Bp2n15jXtEyb"
      },
      "source": [
        "These pictures are the same but shots were done with different light. Replace the last one."
      ]
    },
    {
      "cell_type": "code",
      "execution_count": null,
      "metadata": {
        "id": "ndQcOVOKsXsT"
      },
      "outputs": [],
      "source": [
        "df_cat_dat_total.at[162343, 'link'] = 'https://d32dm0rphc51dk.cloudfront.net/dIHPcpGCPw8QyU-YRGQRMA/large.jpg'"
      ]
    },
    {
      "cell_type": "code",
      "execution_count": null,
      "metadata": {
        "colab": {
          "base_uri": "https://localhost:8080/"
        },
        "id": "NbfT-f22tkZR",
        "outputId": "2aa93bbf-f9b3-4553-e223-537df3008c49"
      },
      "outputs": [
        {
          "name": "stdout",
          "output_type": "stream",
          "text": [
            "138882\n",
            "138882\n"
          ]
        }
      ],
      "source": [
        "print(df_cat_dat_total['artsy_id'].nunique())\n",
        "print(df_cat_dat_total['link'].nunique())"
      ]
    },
    {
      "cell_type": "code",
      "execution_count": null,
      "metadata": {
        "id": "06kTc_F-tGiI"
      },
      "outputs": [],
      "source": [
        "save_df_file(df_cat_dat_total, '/artsy_temp_data_08.csv', 'backup') # 4. Save df to csv file\n",
        "#df_cat_dat_total = open_file_csv('/artsy_temp_data_05.csv', 'backup') # 3. Open file.csv"
      ]
    },
    {
      "cell_type": "code",
      "execution_count": null,
      "metadata": {
        "id": "dNCYORCNQbqC"
      },
      "outputs": [],
      "source": [
        "# !!! links' problem solving !!!"
      ]
    },
    {
      "cell_type": "markdown",
      "metadata": {
        "id": "0AbtoZweRYHF"
      },
      "source": [
        "### Artists"
      ]
    },
    {
      "cell_type": "markdown",
      "metadata": {
        "id": "hZ2aPW2EslTv"
      },
      "source": [
        "We need to create artist id for artworks dict. Artists seem to be ok."
      ]
    },
    {
      "cell_type": "code",
      "execution_count": null,
      "metadata": {
        "id": "WoJh58dJurXX"
      },
      "outputs": [],
      "source": [
        "#df_cat_dat_total = open_file_csv('/artsy_temp_data_05.csv', 'backup') # 3. Open file.csv"
      ]
    },
    {
      "cell_type": "code",
      "execution_count": 36,
      "metadata": {
        "colab": {
          "base_uri": "https://localhost:8080/"
        },
        "id": "epFwJ96IjAhD",
        "outputId": "36bd947d-a18d-4d85-e08c-747498f8c682"
      },
      "outputs": [
        {
          "output_type": "stream",
          "name": "stdout",
          "text": [
            "1193\n",
            "1193\n"
          ]
        }
      ],
      "source": [
        "print(df_cat_dat_total['artist'].dropna().nunique())\n",
        "artists_list = sorted(df_cat_dat_total['artist'].dropna().unique().tolist())\n",
        "print(len(artists_list))"
      ]
    },
    {
      "cell_type": "code",
      "execution_count": 37,
      "metadata": {
        "colab": {
          "base_uri": "https://localhost:8080/"
        },
        "id": "HTJPuo7AcT_-",
        "outputId": "98da63f3-acd3-4bd5-9d6f-b3364cd0dde8"
      },
      "outputs": [
        {
          "output_type": "execute_result",
          "data": {
            "text/plain": [
              "['Adam JeppesenBrigitte P, 2022Martin Asbæk GalleryPrice on request ',\n",
              " 'Adam JeppesenIma D, 2022Martin Asbæk GalleryPrice on request ',\n",
              " 'Adam JeppesenIsiah H, 2022Martin Asbæk GalleryPrice on request ',\n",
              " 'Adam JeppesenKeenan C, 2022Martin Asbæk GalleryPrice on request ',\n",
              " 'Adam JeppesenLoyd E, 2022Martin Asbæk GalleryPrice on request ',\n",
              " 'Adam JeppesenUntitled (double trapezoid), 2022Martin Asbæk GalleryPrice on request ',\n",
              " 'Adam JeppesenUntitled (intersected cube I), 2022Martin Asbæk GalleryPrice on request ',\n",
              " 'Adam JeppesenUntitled (intersected cube II), 2022Martin Asbæk GalleryPrice on request ',\n",
              " 'Adam JeppesenUntitled (stacked cube I), 2022Martin Asbæk GalleryPrice on request ',\n",
              " 'Adam JeppesenUntitled (stacked cube II), 2022Martin Asbæk GalleryPrice on request ']"
            ]
          },
          "metadata": {},
          "execution_count": 37
        }
      ],
      "source": [
        "artists_list[:10]"
      ]
    },
    {
      "cell_type": "code",
      "execution_count": 38,
      "metadata": {
        "colab": {
          "base_uri": "https://localhost:8080/"
        },
        "id": "94R1q485jAYy",
        "outputId": "365eca72-924e-466d-8583-3be434055890"
      },
      "outputs": [
        {
          "output_type": "execute_result",
          "data": {
            "text/plain": [
              "['[email\\xa0protected]Andy Warhol’s Elvis Presley 100%/400%, 20212B Art & Toys€231 ',\n",
              " '[email\\xa0protected]Andy Warhol’s Elvis Presley 1000%, 20212B Art & Toys€990 ',\n",
              " '[email\\xa0protected]Fukuske Gold 100%/400%, 20212B Art & Toys€264 ',\n",
              " '[email\\xa0protected]Grafflex 100%/400%, 20212B Art & Toys€264 ',\n",
              " '[email\\xa0protected]H.R Giger Black Chrome 1000%, 20202B Art & Toys€1,980 ',\n",
              " 'erikaintheislandBig Flowers, Coffee and Pears, 2021Casie KyotoUS$549 ',\n",
              " 'erikaintheislandCoffee Time, 2021Casie KyotoUS$439 ',\n",
              " 'erikaintheislandTea Time, 2022Casie KyotoUS$549 ',\n",
              " 'unknownQing Dynasty Carved Stone Buddha, ca. 1850AVANTIQUESUS$500 ',\n",
              " 'unknownTang Dynasty Pottery Musician, ca. 600AVANTIQUESUS$1,500 ']"
            ]
          },
          "metadata": {},
          "execution_count": 38
        }
      ],
      "source": [
        "artists_list[-10:]"
      ]
    },
    {
      "cell_type": "code",
      "execution_count": 39,
      "metadata": {
        "colab": {
          "base_uri": "https://localhost:8080/"
        },
        "id": "volUmC_mjAUz",
        "outputId": "19aeb453-28cf-4dfa-f1ff-f3a715f64db7"
      },
      "outputs": [
        {
          "output_type": "execute_result",
          "data": {
            "text/plain": [
              "['Katharine Le HardyDeep in the quiet wood, 2022Candida Stevens Gallery£1,600 ',\n",
              " 'Katharine Le HardyInto this together, 2022Candida Stevens Gallery£1,600 ',\n",
              " 'Katharine Le HardyPass it on dam, 2022Candida Stevens Gallery£1,600 ',\n",
              " 'Kayode EjioyeAngel to the church of resurrection, 2022TAAG GalleryUS$6,500 ',\n",
              " 'Keith HaringUntitled (from the Bad Boys portfolio), 1986Rago/Wright/LAMA$4,200 ',\n",
              " 'Keith HaringUntitled (from the Free South Africa series), 1985Rago/Wright/LAMA$16,000 ',\n",
              " 'Keizo Motoda 元田 敬三OPEN CITY, 1997MEMUS$1,000–US$4,500 ',\n",
              " 'Keizo Motoda 元田 敬三OPEN CITY, 2009MEMUS$1,000 ',\n",
              " 'Keizo Motoda 元田 敬三OPEN CITY, 2011MEMUS$1,000 ',\n",
              " 'Keizo Motoda 元田 敬三OPEN CITY, 2011MEMUS$1,000–US$4,500 ']"
            ]
          },
          "metadata": {},
          "execution_count": 39
        }
      ],
      "source": [
        "artists_list[(len(artists_list)//2):(len(artists_list)//2+10)]"
      ]
    },
    {
      "cell_type": "markdown",
      "metadata": {
        "id": "OZUdCtqYtoj2"
      },
      "source": [
        "Not ok actually. If it become important, I'll do somthing with it. -> It became. Look 'artists name revision' block"
      ]
    },
    {
      "cell_type": "code",
      "execution_count": null,
      "metadata": {
        "id": "1g32NZbW1IEB"
      },
      "outputs": [],
      "source": [
        "#decoding_table = (\n",
        "#'\\x00'     #  0x00 -> NULL\n",
        "#'\\x01'     #  0x01 -> START OF HEADING\n",
        "#'\\x02'     #  0x02 -> START OF TEXT\n",
        "#'\\x03'     #  0x03 -> END OF TEXT\n",
        "#'\\x04'     #  0x04 -> END OF TRANSMISSION\n",
        "#'\\x05'     #  0x05 -> ENQUIRY\n",
        "#'\\x06'     #  0x06 -> ACKNOWLEDGE\n",
        "#'\\x07'     #  0x07 -> BELL\n",
        "#'\\x08'     #  0x08 -> BACKSPACE\n",
        "#'\\t'       #  0x09 -> HORIZONTAL TABULATION\n",
        "#'\\n'       #  0x0A -> LINE FEED\n",
        "#'\\x0b'     #  0x0B -> VERTICAL TABULATION\n",
        "#'\\x0c'     #  0x0C -> FORM FEED\n",
        "#'\\r'       #  0x0D -> CARRIAGE RETURN\n",
        "#'\\x0e'     #  0x0E -> SHIFT OUT\n",
        "#'\\x0f'     #  0x0F -> SHIFT IN\n",
        "#'\\x10'     #  0x10 -> DATA LINK ESCAPE\n",
        "#'\\x11'     #  0x11 -> DE\n",
        "#add the character code here\n",
        "#'\\u200b' #add this in the file and save it."
      ]
    },
    {
      "cell_type": "markdown",
      "metadata": {
        "id": "9NOvAdqiRbW5"
      },
      "source": [
        "### Galleries"
      ]
    },
    {
      "cell_type": "markdown",
      "metadata": {
        "id": "yPs-Ahpeudzj"
      },
      "source": [
        "We also need to create gallery id for artworks dict."
      ]
    },
    {
      "cell_type": "code",
      "execution_count": null,
      "metadata": {
        "colab": {
          "base_uri": "https://localhost:8080/"
        },
        "id": "A0q3baYGmeJj",
        "outputId": "19e2eb18-1144-46c1-dbb6-d4fbeae129e4"
      },
      "outputs": [
        {
          "name": "stdout",
          "output_type": "stream",
          "text": [
            "4104\n",
            "4104\n"
          ]
        }
      ],
      "source": [
        "print(df_cat_dat_total['gallery'].nunique())\n",
        "gallery_list = sorted(df_cat_dat_total['gallery'].dropna().unique().tolist())\n",
        "print(len(gallery_list))"
      ]
    },
    {
      "cell_type": "code",
      "execution_count": null,
      "metadata": {
        "colab": {
          "base_uri": "https://localhost:8080/"
        },
        "id": "1Qfg0NuZmeGJ",
        "outputId": "0e124fd4-1ff2-4a9c-cecd-594d0811ccbc"
      },
      "outputs": [
        {
          "data": {
            "text/plain": [
              "[' \"A Brush with Reality: Calligraphic Paintings by Lobsang Choephel\" at Tibet House US, New York (2015)',\n",
              " ' \"Disguise: Masks and Global African Art\" at Seattle Art Museum, Seattle (2015)',\n",
              " '\"2015 Wolfgang Hahn Prize: Michael Krebber and R. H. Quaytman\" at Museum Ludwig, Cologne (2015)',\n",
              " '\"21er Raum: Iman Issa - Material\" at 21er Haus, Vienna',\n",
              " '\"4 REAL & TRUE 2. Wim Wenders. Landscapes. Photographs.\" at Museum Kunstpalast, Düsseldorf (2015)',\n",
              " '\"A Beautiful Lie – Eckersberg\" at Statens Museum for Kunst, Copenhagen ',\n",
              " '\"A New Dynasty – Created in China\"  Venue: ARoS Aarhus Museum of Art, Aarhus ',\n",
              " '\"Abstract/Object\" at Art Institute of Chicago, Chicago',\n",
              " '\"Accrochage 3: Pop & Music/Sound\" at Fondation Louis Vuitton, Paris',\n",
              " '\"Adventures of the Black Square: Abstract Art and Society 1915-2015\" at Whitechapel Gallery, London (2015)']"
            ]
          },
          "execution_count": 100,
          "metadata": {},
          "output_type": "execute_result"
        }
      ],
      "source": [
        "gallery_list[:10]"
      ]
    },
    {
      "cell_type": "code",
      "execution_count": null,
      "metadata": {
        "colab": {
          "base_uri": "https://localhost:8080/"
        },
        "id": "S6DKQmaumeC0",
        "outputId": "36a03dcf-a9ae-4569-dcdc-41aa5783fe7e"
      },
      "outputs": [
        {
          "data": {
            "text/plain": [
              "['°CLAIRbyKahn Galerie',\n",
              " 'ÆRENA Galleries and Gardens',\n",
              " 'Österreichische Galerie Belvedere, Vienna',\n",
              " '“Clifford Ross: Landscape Seen & Imagined” at MASS MoCA, North Adams (2015)',\n",
              " '“Collectionism and Modernity. Two Case Studies: The Im Obersteg and Rudolf Staechelin Collections” at the Museo Reina Sofía, Madrid',\n",
              " '“Created by a Hand with but a Chisel Armed…” Sculpture in St Petersburg’s Palaces in the 19th Century at The State Hermitage Museum, 2016',\n",
              " '“L’image volée” at Fondazione Prada, Milan (2016)',\n",
              " '√K Contemporary',\n",
              " '首都藝術中心 Capital Art Center',\n",
              " '鳩ノ森美術 / HATONOMORI ART']"
            ]
          },
          "execution_count": 101,
          "metadata": {},
          "output_type": "execute_result"
        }
      ],
      "source": [
        "gallery_list[-10:]"
      ]
    },
    {
      "cell_type": "markdown",
      "metadata": {
        "id": "W9o2lhKHvp7v"
      },
      "source": [
        "Seems like in some cases there's a exhibition name in a gellery name box. Let's try to divide them."
      ]
    },
    {
      "cell_type": "code",
      "execution_count": null,
      "metadata": {
        "colab": {
          "base_uri": "https://localhost:8080/"
        },
        "id": "ohi385Iymd_X",
        "outputId": "a7df0739-38df-4d4c-d34e-150de728a646"
      },
      "outputs": [
        {
          "name": "stdout",
          "output_type": "stream",
          "text": [
            "5256\n",
            "5360\n"
          ]
        }
      ],
      "source": [
        "exhib_list = []\n",
        "gal_list = []\n",
        "\n",
        "for g in gallery_list:\n",
        "  try:\n",
        "    gal = g.split(' at ')[-1]\n",
        "    gal_list.append(gal)\n",
        "    exhib_list.append(g.replace(' at ' + gal, ''))\n",
        "  except:\n",
        "    gal_list.append(g)\n",
        "\n",
        "gal_list = sorted(list(set(gal_list)))\n",
        "print(len(gal_list))\n",
        "exhib_list = sorted(list(set(exhib_list)))\n",
        "print(len(exhib_list))"
      ]
    },
    {
      "cell_type": "code",
      "execution_count": null,
      "metadata": {
        "colab": {
          "base_uri": "https://localhost:8080/"
        },
        "id": "smRNvpwamd7j",
        "outputId": "a84e1651-78bb-4e30-8b59-efd18728fdeb"
      },
      "outputs": [
        {
          "data": {
            "text/plain": [
              "[' Museum Ludwig, Cologne',\n",
              " '\"A New Dynasty – Created in China\"  Venue: ARoS Aarhus Museum of Art, Aarhus ',\n",
              " '\"Anselm Kiefer\"at Centre Pompidou, Paris',\n",
              " '\"Barbie\"at Musée des Arts Décoratifs, Paris',\n",
              " '\"Chen Zhen: Without going to New York and Paris, life could be internationalized\"  Venue: Rockbund Art Museum, Shanghai',\n",
              " '\"Inhuman\"at Fridericianum, Kassel, Germany',\n",
              " '\"Joaquín Torres-García: The Arcadian Modern\"at the Museum of Modern Art, New York',\n",
              " '\"Landscapes of Belgium\" Musée d\\'Ixelles, Brussels (2015)',\n",
              " '\"Philippe Parreno: Anywhere, Anywhere, Out Of The World\", Palais de Tokyo, Paris (2013)',\n",
              " '\"This Art is Your Art\" Competition: The White House Historical Association, Artsy, and the Robert Rauschenberg Foundation']"
            ]
          },
          "execution_count": 31,
          "metadata": {},
          "output_type": "execute_result"
        }
      ],
      "source": [
        "gal_list[:10]"
      ]
    },
    {
      "cell_type": "markdown",
      "metadata": {
        "id": "PfhDtMdCwMcu"
      },
      "source": [
        "The data is not clear and this info is not critical, leave it as it is, won't do gallery id."
      ]
    },
    {
      "cell_type": "markdown",
      "metadata": {
        "id": "BQyZmM1PYQRV"
      },
      "source": [
        "### Artworks"
      ]
    },
    {
      "cell_type": "code",
      "execution_count": null,
      "metadata": {
        "id": "QpYJpYkNXR8s"
      },
      "outputs": [],
      "source": [
        "#df_cat_dat_total = open_file_csv('/artsy_temp_data_05.csv', 'backup') # 3. Open file.csv"
      ]
    },
    {
      "cell_type": "code",
      "source": [
        "# Addition and Updating !!!!!!!!!!!!!\n",
        "#df_cat_dat_total = open_file_csv('/artsy_temp_data_add.csv', 'backup') # 3. Open file.csv"
      ],
      "metadata": {
        "id": "Jad5VR-iAJk5"
      },
      "execution_count": null,
      "outputs": []
    },
    {
      "cell_type": "code",
      "execution_count": null,
      "metadata": {
        "colab": {
          "base_uri": "https://localhost:8080/"
        },
        "id": "ZmWv9iFgrvkm",
        "outputId": "a889193e-eb47-4a42-a8aa-62f64c5ade64"
      },
      "outputs": [
        {
          "data": {
            "text/plain": [
              "Index(['artsy_id', 'name', 'link', 'year', 'artist', 'gallery', 'price',\n",
              "       'gene_id', 'category_id', 'parsing_date', 'updating_date'],\n",
              "      dtype='object')"
            ]
          },
          "execution_count": 67,
          "metadata": {},
          "output_type": "execute_result"
        }
      ],
      "source": [
        "#df_cat_dat_total.columns"
      ]
    },
    {
      "cell_type": "code",
      "source": [
        "# Addition and Updating !!!!!!!!!!!!!\n",
        "df_cat_dat_total.columns"
      ],
      "metadata": {
        "colab": {
          "base_uri": "https://localhost:8080/"
        },
        "id": "DewBFpmI8Ny5",
        "outputId": "d86aa356-72c2-4702-ad65-7409d03342bd"
      },
      "execution_count": 40,
      "outputs": [
        {
          "output_type": "execute_result",
          "data": {
            "text/plain": [
              "Index(['artsy_id', 'name', 'link', 'year', 'artist', 'gallery', 'price',\n",
              "       'gene_id', 'category_id', 'parsing_date', 'updating_date',\n",
              "       'pages_count', 'second_page_link'],\n",
              "      dtype='object')"
            ]
          },
          "metadata": {},
          "execution_count": 40
        }
      ]
    },
    {
      "cell_type": "markdown",
      "metadata": {
        "id": "Pa2AIo94Ymux"
      },
      "source": [
        "For ***one to one connections***"
      ]
    },
    {
      "cell_type": "code",
      "execution_count": 41,
      "metadata": {
        "colab": {
          "base_uri": "https://localhost:8080/",
          "height": 565
        },
        "id": "dsQDTXJ4Ysyx",
        "outputId": "097f745d-bb75-4d4b-f0b4-cd4c3a60f698"
      },
      "outputs": [
        {
          "output_type": "execute_result",
          "data": {
            "text/plain": [
              "                      artsy_id                       name  \\\n",
              "258   62558f11e34bb3000e1b97e3  S'exercer au terrestre II   \n",
              "977   625f0c55d59658000c7de014              Marilyn 11.23   \n",
              "1128  625fc1c44b02fe000be16be7      Arnold Schwarzenegger   \n",
              "1206  625fd1a0f9ea1f000b4ffa00                     Felina   \n",
              "926   625ec378e15f32000ba82750                   Untitled   \n",
              "\n",
              "                                                   link       year  \\\n",
              "258   https://d32dm0rphc51dk.cloudfront.net/zK-z5rrS...       2021   \n",
              "977   https://d32dm0rphc51dk.cloudfront.net/fp1bUE09...  1970-2020   \n",
              "1128  https://d32dm0rphc51dk.cloudfront.net/TGBMYkDV...       2022   \n",
              "1206  https://d32dm0rphc51dk.cloudfront.net/ZV06vG7l...       2022   \n",
              "926   https://d32dm0rphc51dk.cloudfront.net/goZf4NCf...       2022   \n",
              "\n",
              "                                                 artist  \\\n",
              "258   Jot FauS'exercer au terrestre II, 2021Whitehou...   \n",
              "977    Andy WarholMarilyn 11.23, 1970-2020[FEUTEU]£440    \n",
              "1128  Victor MArnold Schwarzenegger, 2022Galerie Lib...   \n",
              "1206  Els KnockaertFelina, 2022Arts Evasion Galerie€...   \n",
              "926   Markus SaileUntitled, 2022A+B GalleryPrice on ...   \n",
              "\n",
              "                      gallery              price parsing_date updating_date  \\\n",
              "258        Whitehouse Gallery            €3,000    2022-04-20    2022-04-20   \n",
              "977                  [FEUTEU]              £440    2022-04-20    2022-04-20   \n",
              "1128  Galerie Libre Est L'Art            €8,750    2022-04-20    2022-04-20   \n",
              "1206     Arts Evasion Galerie              €380    2022-04-20    2022-04-20   \n",
              "926               A+B Gallery  Price on request    2022-04-20    2022-04-20   \n",
              "\n",
              "      count  \n",
              "258       1  \n",
              "977       4  \n",
              "1128      1  \n",
              "1206      2  \n",
              "926       1  "
            ],
            "text/html": [
              "\n",
              "  <div id=\"df-f155d668-f40f-4e8c-8913-300af9fb829a\">\n",
              "    <div class=\"colab-df-container\">\n",
              "      <div>\n",
              "<style scoped>\n",
              "    .dataframe tbody tr th:only-of-type {\n",
              "        vertical-align: middle;\n",
              "    }\n",
              "\n",
              "    .dataframe tbody tr th {\n",
              "        vertical-align: top;\n",
              "    }\n",
              "\n",
              "    .dataframe thead th {\n",
              "        text-align: right;\n",
              "    }\n",
              "</style>\n",
              "<table border=\"1\" class=\"dataframe\">\n",
              "  <thead>\n",
              "    <tr style=\"text-align: right;\">\n",
              "      <th></th>\n",
              "      <th>artsy_id</th>\n",
              "      <th>name</th>\n",
              "      <th>link</th>\n",
              "      <th>year</th>\n",
              "      <th>artist</th>\n",
              "      <th>gallery</th>\n",
              "      <th>price</th>\n",
              "      <th>parsing_date</th>\n",
              "      <th>updating_date</th>\n",
              "      <th>count</th>\n",
              "    </tr>\n",
              "  </thead>\n",
              "  <tbody>\n",
              "    <tr>\n",
              "      <th>258</th>\n",
              "      <td>62558f11e34bb3000e1b97e3</td>\n",
              "      <td>S'exercer au terrestre II</td>\n",
              "      <td>https://d32dm0rphc51dk.cloudfront.net/zK-z5rrS...</td>\n",
              "      <td>2021</td>\n",
              "      <td>Jot FauS'exercer au terrestre II, 2021Whitehou...</td>\n",
              "      <td>Whitehouse Gallery</td>\n",
              "      <td>€3,000</td>\n",
              "      <td>2022-04-20</td>\n",
              "      <td>2022-04-20</td>\n",
              "      <td>1</td>\n",
              "    </tr>\n",
              "    <tr>\n",
              "      <th>977</th>\n",
              "      <td>625f0c55d59658000c7de014</td>\n",
              "      <td>Marilyn 11.23</td>\n",
              "      <td>https://d32dm0rphc51dk.cloudfront.net/fp1bUE09...</td>\n",
              "      <td>1970-2020</td>\n",
              "      <td>Andy WarholMarilyn 11.23, 1970-2020[FEUTEU]£440</td>\n",
              "      <td>[FEUTEU]</td>\n",
              "      <td>£440</td>\n",
              "      <td>2022-04-20</td>\n",
              "      <td>2022-04-20</td>\n",
              "      <td>4</td>\n",
              "    </tr>\n",
              "    <tr>\n",
              "      <th>1128</th>\n",
              "      <td>625fc1c44b02fe000be16be7</td>\n",
              "      <td>Arnold Schwarzenegger</td>\n",
              "      <td>https://d32dm0rphc51dk.cloudfront.net/TGBMYkDV...</td>\n",
              "      <td>2022</td>\n",
              "      <td>Victor MArnold Schwarzenegger, 2022Galerie Lib...</td>\n",
              "      <td>Galerie Libre Est L'Art</td>\n",
              "      <td>€8,750</td>\n",
              "      <td>2022-04-20</td>\n",
              "      <td>2022-04-20</td>\n",
              "      <td>1</td>\n",
              "    </tr>\n",
              "    <tr>\n",
              "      <th>1206</th>\n",
              "      <td>625fd1a0f9ea1f000b4ffa00</td>\n",
              "      <td>Felina</td>\n",
              "      <td>https://d32dm0rphc51dk.cloudfront.net/ZV06vG7l...</td>\n",
              "      <td>2022</td>\n",
              "      <td>Els KnockaertFelina, 2022Arts Evasion Galerie€...</td>\n",
              "      <td>Arts Evasion Galerie</td>\n",
              "      <td>€380</td>\n",
              "      <td>2022-04-20</td>\n",
              "      <td>2022-04-20</td>\n",
              "      <td>2</td>\n",
              "    </tr>\n",
              "    <tr>\n",
              "      <th>926</th>\n",
              "      <td>625ec378e15f32000ba82750</td>\n",
              "      <td>Untitled</td>\n",
              "      <td>https://d32dm0rphc51dk.cloudfront.net/goZf4NCf...</td>\n",
              "      <td>2022</td>\n",
              "      <td>Markus SaileUntitled, 2022A+B GalleryPrice on ...</td>\n",
              "      <td>A+B Gallery</td>\n",
              "      <td>Price on request</td>\n",
              "      <td>2022-04-20</td>\n",
              "      <td>2022-04-20</td>\n",
              "      <td>1</td>\n",
              "    </tr>\n",
              "  </tbody>\n",
              "</table>\n",
              "</div>\n",
              "      <button class=\"colab-df-convert\" onclick=\"convertToInteractive('df-f155d668-f40f-4e8c-8913-300af9fb829a')\"\n",
              "              title=\"Convert this dataframe to an interactive table.\"\n",
              "              style=\"display:none;\">\n",
              "        \n",
              "  <svg xmlns=\"http://www.w3.org/2000/svg\" height=\"24px\"viewBox=\"0 0 24 24\"\n",
              "       width=\"24px\">\n",
              "    <path d=\"M0 0h24v24H0V0z\" fill=\"none\"/>\n",
              "    <path d=\"M18.56 5.44l.94 2.06.94-2.06 2.06-.94-2.06-.94-.94-2.06-.94 2.06-2.06.94zm-11 1L8.5 8.5l.94-2.06 2.06-.94-2.06-.94L8.5 2.5l-.94 2.06-2.06.94zm10 10l.94 2.06.94-2.06 2.06-.94-2.06-.94-.94-2.06-.94 2.06-2.06.94z\"/><path d=\"M17.41 7.96l-1.37-1.37c-.4-.4-.92-.59-1.43-.59-.52 0-1.04.2-1.43.59L10.3 9.45l-7.72 7.72c-.78.78-.78 2.05 0 2.83L4 21.41c.39.39.9.59 1.41.59.51 0 1.02-.2 1.41-.59l7.78-7.78 2.81-2.81c.8-.78.8-2.07 0-2.86zM5.41 20L4 18.59l7.72-7.72 1.47 1.35L5.41 20z\"/>\n",
              "  </svg>\n",
              "      </button>\n",
              "      \n",
              "  <style>\n",
              "    .colab-df-container {\n",
              "      display:flex;\n",
              "      flex-wrap:wrap;\n",
              "      gap: 12px;\n",
              "    }\n",
              "\n",
              "    .colab-df-convert {\n",
              "      background-color: #E8F0FE;\n",
              "      border: none;\n",
              "      border-radius: 50%;\n",
              "      cursor: pointer;\n",
              "      display: none;\n",
              "      fill: #1967D2;\n",
              "      height: 32px;\n",
              "      padding: 0 0 0 0;\n",
              "      width: 32px;\n",
              "    }\n",
              "\n",
              "    .colab-df-convert:hover {\n",
              "      background-color: #E2EBFA;\n",
              "      box-shadow: 0px 1px 2px rgba(60, 64, 67, 0.3), 0px 1px 3px 1px rgba(60, 64, 67, 0.15);\n",
              "      fill: #174EA6;\n",
              "    }\n",
              "\n",
              "    [theme=dark] .colab-df-convert {\n",
              "      background-color: #3B4455;\n",
              "      fill: #D2E3FC;\n",
              "    }\n",
              "\n",
              "    [theme=dark] .colab-df-convert:hover {\n",
              "      background-color: #434B5C;\n",
              "      box-shadow: 0px 1px 3px 1px rgba(0, 0, 0, 0.15);\n",
              "      filter: drop-shadow(0px 1px 2px rgba(0, 0, 0, 0.3));\n",
              "      fill: #FFFFFF;\n",
              "    }\n",
              "  </style>\n",
              "\n",
              "      <script>\n",
              "        const buttonEl =\n",
              "          document.querySelector('#df-f155d668-f40f-4e8c-8913-300af9fb829a button.colab-df-convert');\n",
              "        buttonEl.style.display =\n",
              "          google.colab.kernel.accessAllowed ? 'block' : 'none';\n",
              "\n",
              "        async function convertToInteractive(key) {\n",
              "          const element = document.querySelector('#df-f155d668-f40f-4e8c-8913-300af9fb829a');\n",
              "          const dataTable =\n",
              "            await google.colab.kernel.invokeFunction('convertToInteractive',\n",
              "                                                     [key], {});\n",
              "          if (!dataTable) return;\n",
              "\n",
              "          const docLinkHtml = 'Like what you see? Visit the ' +\n",
              "            '<a target=\"_blank\" href=https://colab.research.google.com/notebooks/data_table.ipynb>data table notebook</a>'\n",
              "            + ' to learn more about interactive tables.';\n",
              "          element.innerHTML = '';\n",
              "          dataTable['output_type'] = 'display_data';\n",
              "          await google.colab.output.renderOutput(dataTable, element);\n",
              "          const docLink = document.createElement('div');\n",
              "          docLink.innerHTML = docLinkHtml;\n",
              "          element.appendChild(docLink);\n",
              "        }\n",
              "      </script>\n",
              "    </div>\n",
              "  </div>\n",
              "  "
            ]
          },
          "metadata": {},
          "execution_count": 41
        }
      ],
      "source": [
        "one_to_one = df_cat_dat_total.groupby(['artsy_id', 'name', 'link', 'year', 'artist', 'gallery', 'price', 'parsing_date', 'updating_date'])['category_id'].agg(['count']).reset_index()\n",
        "one_to_one.sample(5)"
      ]
    },
    {
      "cell_type": "code",
      "execution_count": 42,
      "metadata": {
        "colab": {
          "base_uri": "https://localhost:8080/"
        },
        "id": "HWFA5NyCY7gH",
        "outputId": "8f4fcbc0-2c67-49fc-d3c0-9bb191a565b7"
      },
      "outputs": [
        {
          "output_type": "stream",
          "name": "stdout",
          "text": [
            "1267\n",
            "1264\n",
            "1264\n"
          ]
        }
      ],
      "source": [
        "print(df_cat_dat_total['artsy_id'].nunique())\n",
        "print(one_to_one['artsy_id'].count())\n",
        "print(one_to_one['artsy_id'].nunique())"
      ]
    },
    {
      "cell_type": "code",
      "execution_count": 43,
      "metadata": {
        "colab": {
          "base_uri": "https://localhost:8080/"
        },
        "id": "ICRlLdmzZNjH",
        "outputId": "d9d45a39-63a9-4847-f130-178337b9cc46"
      },
      "outputs": [
        {
          "output_type": "stream",
          "name": "stdout",
          "text": [
            "artsy_id count must be 1267\n",
            "\n",
            "by column name\n",
            "artsy_id count is 1267\n",
            "artsy_id nunique is 1267\n",
            "count and nunique is the same -  True\n",
            "[]\n",
            "\n",
            "by column link\n",
            "artsy_id count is 1267\n",
            "artsy_id nunique is 1267\n",
            "count and nunique is the same -  True\n",
            "[]\n",
            "\n",
            "by column year\n",
            "artsy_id count is 1264\n",
            "artsy_id nunique is 1264\n",
            "count and nunique is the same -  True\n",
            "['625f87a412a136000b766083', '6241ca7cc0bcca000b4d30fc', '6256edaaf0c38e000b2200d7']\n",
            "\n",
            "by column artist\n",
            "artsy_id count is 1267\n",
            "artsy_id nunique is 1267\n",
            "count and nunique is the same -  True\n",
            "[]\n",
            "\n",
            "by column gallery\n",
            "artsy_id count is 1267\n",
            "artsy_id nunique is 1267\n",
            "count and nunique is the same -  True\n",
            "[]\n",
            "\n",
            "by column price\n",
            "artsy_id count is 1267\n",
            "artsy_id nunique is 1267\n",
            "count and nunique is the same -  True\n",
            "[]\n",
            "\n",
            "by column parsing_date\n",
            "artsy_id count is 1267\n",
            "artsy_id nunique is 1267\n",
            "count and nunique is the same -  True\n",
            "[]\n",
            "\n",
            "by column updating_date\n",
            "artsy_id count is 1267\n",
            "artsy_id nunique is 1267\n",
            "count and nunique is the same -  True\n",
            "[]\n",
            "\n"
          ]
        }
      ],
      "source": [
        "print('artsy_id count must be', df_cat_dat_total['artsy_id'].nunique())\n",
        "print('')\n",
        "for col in ['name', 'link', 'year', 'artist', 'gallery', 'price', 'parsing_date', 'updating_date']:\n",
        "  group_df = df_cat_dat_total.groupby(['artsy_id', col])['category_id'].agg(['count']).reset_index()\n",
        "  print('by column', col)\n",
        "  print('artsy_id count is', group_df['artsy_id'].count())\n",
        "  print('artsy_id nunique is', group_df['artsy_id'].nunique())\n",
        "  print('count and nunique is the same - ', group_df['artsy_id'].count()==group_df['artsy_id'].nunique())\n",
        "  print(list(set(df_cat_dat_total['artsy_id'].unique()) - set(group_df['artsy_id'].unique())))\n",
        "  print('')"
      ]
    },
    {
      "cell_type": "code",
      "execution_count": null,
      "metadata": {
        "colab": {
          "base_uri": "https://localhost:8080/",
          "height": 485
        },
        "id": "DrbZf-W0Z1OR",
        "outputId": "1c8fb32c-cdfc-45da-8ea3-bfd8834d18d3"
      },
      "outputs": [
        {
          "data": {
            "text/html": [
              "\n",
              "  <div id=\"df-35238b05-643d-40a5-a45c-9ebcc124cdd9\">\n",
              "    <div class=\"colab-df-container\">\n",
              "      <div>\n",
              "<style scoped>\n",
              "    .dataframe tbody tr th:only-of-type {\n",
              "        vertical-align: middle;\n",
              "    }\n",
              "\n",
              "    .dataframe tbody tr th {\n",
              "        vertical-align: top;\n",
              "    }\n",
              "\n",
              "    .dataframe thead th {\n",
              "        text-align: right;\n",
              "    }\n",
              "</style>\n",
              "<table border=\"1\" class=\"dataframe\">\n",
              "  <thead>\n",
              "    <tr style=\"text-align: right;\">\n",
              "      <th></th>\n",
              "      <th>artsy_id</th>\n",
              "      <th>name</th>\n",
              "      <th>link</th>\n",
              "      <th>year</th>\n",
              "      <th>artist</th>\n",
              "      <th>gallery</th>\n",
              "      <th>price</th>\n",
              "      <th>gene_id</th>\n",
              "      <th>category_id</th>\n",
              "      <th>parsing_date</th>\n",
              "      <th>updating_date</th>\n",
              "    </tr>\n",
              "  </thead>\n",
              "  <tbody>\n",
              "    <tr>\n",
              "      <th>27348</th>\n",
              "      <td>57ee50cbcd530e65fa00003f</td>\n",
              "      <td>A Large White-ground Lekythos, Attributed to t...</td>\n",
              "      <td>https://d32dm0rphc51dk.cloudfront.net/91vHFCn1...</td>\n",
              "      <td>Attic-ca. 410 B.C.</td>\n",
              "      <td>Unknown GreekA Large White-ground Lekythos, At...</td>\n",
              "      <td>NaN</td>\n",
              "      <td></td>\n",
              "      <td>07012</td>\n",
              "      <td>07</td>\n",
              "      <td>2022-04-09</td>\n",
              "      <td>2022-04-09</td>\n",
              "    </tr>\n",
              "    <tr>\n",
              "      <th>27360</th>\n",
              "      <td>57e27e8a7622dd65fc000380</td>\n",
              "      <td>A Torso of an Athlete</td>\n",
              "      <td>https://d32dm0rphc51dk.cloudfront.net/rgHMZzri...</td>\n",
              "      <td>Late HellenisticRoman1st cent. B.C.</td>\n",
              "      <td>Unknown GreekA Torso of an Athlete, Late Helle...</td>\n",
              "      <td>NaN</td>\n",
              "      <td>Sold</td>\n",
              "      <td>07012</td>\n",
              "      <td>07</td>\n",
              "      <td>2022-04-09</td>\n",
              "      <td>2022-04-09</td>\n",
              "    </tr>\n",
              "    <tr>\n",
              "      <th>28164</th>\n",
              "      <td>5ade13f79c18db6586720662</td>\n",
              "      <td>An Attic Bilingual Eye-cup</td>\n",
              "      <td>https://d32dm0rphc51dk.cloudfront.net/5qmgVLxc...</td>\n",
              "      <td>NaN</td>\n",
              "      <td>Unknown GreekAn Attic Bilingual Eye-cup</td>\n",
              "      <td>NaN</td>\n",
              "      <td></td>\n",
              "      <td>07012</td>\n",
              "      <td>07</td>\n",
              "      <td>2022-04-09</td>\n",
              "      <td>2022-04-09</td>\n",
              "    </tr>\n",
              "  </tbody>\n",
              "</table>\n",
              "</div>\n",
              "      <button class=\"colab-df-convert\" onclick=\"convertToInteractive('df-35238b05-643d-40a5-a45c-9ebcc124cdd9')\"\n",
              "              title=\"Convert this dataframe to an interactive table.\"\n",
              "              style=\"display:none;\">\n",
              "        \n",
              "  <svg xmlns=\"http://www.w3.org/2000/svg\" height=\"24px\"viewBox=\"0 0 24 24\"\n",
              "       width=\"24px\">\n",
              "    <path d=\"M0 0h24v24H0V0z\" fill=\"none\"/>\n",
              "    <path d=\"M18.56 5.44l.94 2.06.94-2.06 2.06-.94-2.06-.94-.94-2.06-.94 2.06-2.06.94zm-11 1L8.5 8.5l.94-2.06 2.06-.94-2.06-.94L8.5 2.5l-.94 2.06-2.06.94zm10 10l.94 2.06.94-2.06 2.06-.94-2.06-.94-.94-2.06-.94 2.06-2.06.94z\"/><path d=\"M17.41 7.96l-1.37-1.37c-.4-.4-.92-.59-1.43-.59-.52 0-1.04.2-1.43.59L10.3 9.45l-7.72 7.72c-.78.78-.78 2.05 0 2.83L4 21.41c.39.39.9.59 1.41.59.51 0 1.02-.2 1.41-.59l7.78-7.78 2.81-2.81c.8-.78.8-2.07 0-2.86zM5.41 20L4 18.59l7.72-7.72 1.47 1.35L5.41 20z\"/>\n",
              "  </svg>\n",
              "      </button>\n",
              "      \n",
              "  <style>\n",
              "    .colab-df-container {\n",
              "      display:flex;\n",
              "      flex-wrap:wrap;\n",
              "      gap: 12px;\n",
              "    }\n",
              "\n",
              "    .colab-df-convert {\n",
              "      background-color: #E8F0FE;\n",
              "      border: none;\n",
              "      border-radius: 50%;\n",
              "      cursor: pointer;\n",
              "      display: none;\n",
              "      fill: #1967D2;\n",
              "      height: 32px;\n",
              "      padding: 0 0 0 0;\n",
              "      width: 32px;\n",
              "    }\n",
              "\n",
              "    .colab-df-convert:hover {\n",
              "      background-color: #E2EBFA;\n",
              "      box-shadow: 0px 1px 2px rgba(60, 64, 67, 0.3), 0px 1px 3px 1px rgba(60, 64, 67, 0.15);\n",
              "      fill: #174EA6;\n",
              "    }\n",
              "\n",
              "    [theme=dark] .colab-df-convert {\n",
              "      background-color: #3B4455;\n",
              "      fill: #D2E3FC;\n",
              "    }\n",
              "\n",
              "    [theme=dark] .colab-df-convert:hover {\n",
              "      background-color: #434B5C;\n",
              "      box-shadow: 0px 1px 3px 1px rgba(0, 0, 0, 0.15);\n",
              "      filter: drop-shadow(0px 1px 2px rgba(0, 0, 0, 0.3));\n",
              "      fill: #FFFFFF;\n",
              "    }\n",
              "  </style>\n",
              "\n",
              "      <script>\n",
              "        const buttonEl =\n",
              "          document.querySelector('#df-35238b05-643d-40a5-a45c-9ebcc124cdd9 button.colab-df-convert');\n",
              "        buttonEl.style.display =\n",
              "          google.colab.kernel.accessAllowed ? 'block' : 'none';\n",
              "\n",
              "        async function convertToInteractive(key) {\n",
              "          const element = document.querySelector('#df-35238b05-643d-40a5-a45c-9ebcc124cdd9');\n",
              "          const dataTable =\n",
              "            await google.colab.kernel.invokeFunction('convertToInteractive',\n",
              "                                                     [key], {});\n",
              "          if (!dataTable) return;\n",
              "\n",
              "          const docLinkHtml = 'Like what you see? Visit the ' +\n",
              "            '<a target=\"_blank\" href=https://colab.research.google.com/notebooks/data_table.ipynb>data table notebook</a>'\n",
              "            + ' to learn more about interactive tables.';\n",
              "          element.innerHTML = '';\n",
              "          dataTable['output_type'] = 'display_data';\n",
              "          await google.colab.output.renderOutput(dataTable, element);\n",
              "          const docLink = document.createElement('div');\n",
              "          docLink.innerHTML = docLinkHtml;\n",
              "          element.appendChild(docLink);\n",
              "        }\n",
              "      </script>\n",
              "    </div>\n",
              "  </div>\n",
              "  "
            ],
            "text/plain": [
              "                       artsy_id  \\\n",
              "27348  57ee50cbcd530e65fa00003f   \n",
              "27360  57e27e8a7622dd65fc000380   \n",
              "28164  5ade13f79c18db6586720662   \n",
              "\n",
              "                                                    name  \\\n",
              "27348  A Large White-ground Lekythos, Attributed to t...   \n",
              "27360                              A Torso of an Athlete   \n",
              "28164                         An Attic Bilingual Eye-cup   \n",
              "\n",
              "                                                    link  \\\n",
              "27348  https://d32dm0rphc51dk.cloudfront.net/91vHFCn1...   \n",
              "27360  https://d32dm0rphc51dk.cloudfront.net/rgHMZzri...   \n",
              "28164  https://d32dm0rphc51dk.cloudfront.net/5qmgVLxc...   \n",
              "\n",
              "                                      year  \\\n",
              "27348                   Attic-ca. 410 B.C.   \n",
              "27360  Late HellenisticRoman1st cent. B.C.   \n",
              "28164                                  NaN   \n",
              "\n",
              "                                                  artist gallery  price  \\\n",
              "27348  Unknown GreekA Large White-ground Lekythos, At...     NaN          \n",
              "27360  Unknown GreekA Torso of an Athlete, Late Helle...     NaN  Sold    \n",
              "28164           Unknown GreekAn Attic Bilingual Eye-cup      NaN          \n",
              "\n",
              "      gene_id category_id parsing_date updating_date  \n",
              "27348   07012          07   2022-04-09    2022-04-09  \n",
              "27360   07012          07   2022-04-09    2022-04-09  \n",
              "28164   07012          07   2022-04-09    2022-04-09  "
            ]
          },
          "execution_count": 286,
          "metadata": {},
          "output_type": "execute_result"
        }
      ],
      "source": [
        "df_cat_dat_total.loc[df_cat_dat_total['artsy_id'].isin(['5ade13f79c18db6586720662', '57e27e8a7622dd65fc000380', '57ee50cbcd530e65fa00003f'])]"
      ]
    },
    {
      "cell_type": "markdown",
      "metadata": {
        "id": "BGdYsheiaK9c"
      },
      "source": [
        "Due to NaNs in 'name' (sometimes), 'year' and 'gallery' we can loose ids. And we have problems with prices, sometimes in years and artists."
      ]
    },
    {
      "cell_type": "markdown",
      "metadata": {
        "id": "VC7Gbw-kJDK7"
      },
      "source": [
        "#### name"
      ]
    },
    {
      "cell_type": "code",
      "execution_count": 197,
      "metadata": {
        "colab": {
          "base_uri": "https://localhost:8080/"
        },
        "id": "czugDYpAL4Is",
        "outputId": "4aedbf2b-94a5-40d4-ee71-6ce5f95a3460"
      },
      "outputs": [
        {
          "output_type": "execute_result",
          "data": {
            "text/plain": [
              "4"
            ]
          },
          "metadata": {},
          "execution_count": 197
        }
      ],
      "source": [
        "artsy_id_name = df_cat_dat_total[['artsy_id', 'name']]\n",
        "artsy_id_name.drop_duplicates(subset = ['name', 'artsy_id'], keep = 'first', inplace = True)\n",
        "id_name_g = artsy_id_name.groupby(['artsy_id'])['name'].agg(['count']).reset_index()\n",
        "\n",
        "id_prob_name = id_name_g.loc[id_name_g['count']>1]['artsy_id'].tolist()\n",
        "len(id_prob_name)"
      ]
    },
    {
      "cell_type": "code",
      "execution_count": 207,
      "metadata": {
        "colab": {
          "base_uri": "https://localhost:8080/",
          "height": 315
        },
        "id": "PVKO_MtZL4Iu",
        "outputId": "7ea574cc-4086-41eb-a074-433081e5655c"
      },
      "outputs": [
        {
          "output_type": "execute_result",
          "data": {
            "text/plain": [
              "                      artsy_id  \\\n",
              "1047  625f87aa633f55000bc648e8   \n",
              "5636  625f87aa633f55000bc648e8   \n",
              "\n",
              "                                                   name  \\\n",
              "1047  Roast Iguana (from the Wild Raspberries portfo...   \n",
              "5636                    Roast Iguana (Wild Raspberries)   \n",
              "\n",
              "                                                   link  year  \\\n",
              "1047  https://d7hftxdivxxvm.cloudfront.net?resize_to...  1959   \n",
              "5636  https://d7hftxdivxxvm.cloudfront.net?resize_to...  1959   \n",
              "\n",
              "                                                 artist           gallery  \\\n",
              "1047  Andy WarholRoast Iguana (from the Wild Raspber...  Rago/Wright/LAMA   \n",
              "5636  Andy WarholRoast Iguana (Wild Raspberries), 19...  Rago/Wright/LAMA   \n",
              "\n",
              "                  price gene_id category_id parsing_date updating_date  \\\n",
              "1047  Price on request    03204          03   2022-04-20    2022-04-20   \n",
              "5636            $3,200    07008          07   2022-04-20    2022-04-20   \n",
              "\n",
              "      pages_count                                   second_page_link  \n",
              "1047        100.0  https://www.artsy.net/gene/post-war-american-a...  \n",
              "5636        100.0  https://www.artsy.net/gene/1940s-1950s?page=2&...  "
            ],
            "text/html": [
              "\n",
              "  <div id=\"df-ead8a7f0-1b77-4fad-9b64-04a99ba9e405\">\n",
              "    <div class=\"colab-df-container\">\n",
              "      <div>\n",
              "<style scoped>\n",
              "    .dataframe tbody tr th:only-of-type {\n",
              "        vertical-align: middle;\n",
              "    }\n",
              "\n",
              "    .dataframe tbody tr th {\n",
              "        vertical-align: top;\n",
              "    }\n",
              "\n",
              "    .dataframe thead th {\n",
              "        text-align: right;\n",
              "    }\n",
              "</style>\n",
              "<table border=\"1\" class=\"dataframe\">\n",
              "  <thead>\n",
              "    <tr style=\"text-align: right;\">\n",
              "      <th></th>\n",
              "      <th>artsy_id</th>\n",
              "      <th>name</th>\n",
              "      <th>link</th>\n",
              "      <th>year</th>\n",
              "      <th>artist</th>\n",
              "      <th>gallery</th>\n",
              "      <th>price</th>\n",
              "      <th>gene_id</th>\n",
              "      <th>category_id</th>\n",
              "      <th>parsing_date</th>\n",
              "      <th>updating_date</th>\n",
              "      <th>pages_count</th>\n",
              "      <th>second_page_link</th>\n",
              "    </tr>\n",
              "  </thead>\n",
              "  <tbody>\n",
              "    <tr>\n",
              "      <th>1047</th>\n",
              "      <td>625f87aa633f55000bc648e8</td>\n",
              "      <td>Roast Iguana (from the Wild Raspberries portfo...</td>\n",
              "      <td>https://d7hftxdivxxvm.cloudfront.net?resize_to...</td>\n",
              "      <td>1959</td>\n",
              "      <td>Andy WarholRoast Iguana (from the Wild Raspber...</td>\n",
              "      <td>Rago/Wright/LAMA</td>\n",
              "      <td>Price on request</td>\n",
              "      <td>03204</td>\n",
              "      <td>03</td>\n",
              "      <td>2022-04-20</td>\n",
              "      <td>2022-04-20</td>\n",
              "      <td>100.0</td>\n",
              "      <td>https://www.artsy.net/gene/post-war-american-a...</td>\n",
              "    </tr>\n",
              "    <tr>\n",
              "      <th>5636</th>\n",
              "      <td>625f87aa633f55000bc648e8</td>\n",
              "      <td>Roast Iguana (Wild Raspberries)</td>\n",
              "      <td>https://d7hftxdivxxvm.cloudfront.net?resize_to...</td>\n",
              "      <td>1959</td>\n",
              "      <td>Andy WarholRoast Iguana (Wild Raspberries), 19...</td>\n",
              "      <td>Rago/Wright/LAMA</td>\n",
              "      <td>$3,200</td>\n",
              "      <td>07008</td>\n",
              "      <td>07</td>\n",
              "      <td>2022-04-20</td>\n",
              "      <td>2022-04-20</td>\n",
              "      <td>100.0</td>\n",
              "      <td>https://www.artsy.net/gene/1940s-1950s?page=2&amp;...</td>\n",
              "    </tr>\n",
              "  </tbody>\n",
              "</table>\n",
              "</div>\n",
              "      <button class=\"colab-df-convert\" onclick=\"convertToInteractive('df-ead8a7f0-1b77-4fad-9b64-04a99ba9e405')\"\n",
              "              title=\"Convert this dataframe to an interactive table.\"\n",
              "              style=\"display:none;\">\n",
              "        \n",
              "  <svg xmlns=\"http://www.w3.org/2000/svg\" height=\"24px\"viewBox=\"0 0 24 24\"\n",
              "       width=\"24px\">\n",
              "    <path d=\"M0 0h24v24H0V0z\" fill=\"none\"/>\n",
              "    <path d=\"M18.56 5.44l.94 2.06.94-2.06 2.06-.94-2.06-.94-.94-2.06-.94 2.06-2.06.94zm-11 1L8.5 8.5l.94-2.06 2.06-.94-2.06-.94L8.5 2.5l-.94 2.06-2.06.94zm10 10l.94 2.06.94-2.06 2.06-.94-2.06-.94-.94-2.06-.94 2.06-2.06.94z\"/><path d=\"M17.41 7.96l-1.37-1.37c-.4-.4-.92-.59-1.43-.59-.52 0-1.04.2-1.43.59L10.3 9.45l-7.72 7.72c-.78.78-.78 2.05 0 2.83L4 21.41c.39.39.9.59 1.41.59.51 0 1.02-.2 1.41-.59l7.78-7.78 2.81-2.81c.8-.78.8-2.07 0-2.86zM5.41 20L4 18.59l7.72-7.72 1.47 1.35L5.41 20z\"/>\n",
              "  </svg>\n",
              "      </button>\n",
              "      \n",
              "  <style>\n",
              "    .colab-df-container {\n",
              "      display:flex;\n",
              "      flex-wrap:wrap;\n",
              "      gap: 12px;\n",
              "    }\n",
              "\n",
              "    .colab-df-convert {\n",
              "      background-color: #E8F0FE;\n",
              "      border: none;\n",
              "      border-radius: 50%;\n",
              "      cursor: pointer;\n",
              "      display: none;\n",
              "      fill: #1967D2;\n",
              "      height: 32px;\n",
              "      padding: 0 0 0 0;\n",
              "      width: 32px;\n",
              "    }\n",
              "\n",
              "    .colab-df-convert:hover {\n",
              "      background-color: #E2EBFA;\n",
              "      box-shadow: 0px 1px 2px rgba(60, 64, 67, 0.3), 0px 1px 3px 1px rgba(60, 64, 67, 0.15);\n",
              "      fill: #174EA6;\n",
              "    }\n",
              "\n",
              "    [theme=dark] .colab-df-convert {\n",
              "      background-color: #3B4455;\n",
              "      fill: #D2E3FC;\n",
              "    }\n",
              "\n",
              "    [theme=dark] .colab-df-convert:hover {\n",
              "      background-color: #434B5C;\n",
              "      box-shadow: 0px 1px 3px 1px rgba(0, 0, 0, 0.15);\n",
              "      filter: drop-shadow(0px 1px 2px rgba(0, 0, 0, 0.3));\n",
              "      fill: #FFFFFF;\n",
              "    }\n",
              "  </style>\n",
              "\n",
              "      <script>\n",
              "        const buttonEl =\n",
              "          document.querySelector('#df-ead8a7f0-1b77-4fad-9b64-04a99ba9e405 button.colab-df-convert');\n",
              "        buttonEl.style.display =\n",
              "          google.colab.kernel.accessAllowed ? 'block' : 'none';\n",
              "\n",
              "        async function convertToInteractive(key) {\n",
              "          const element = document.querySelector('#df-ead8a7f0-1b77-4fad-9b64-04a99ba9e405');\n",
              "          const dataTable =\n",
              "            await google.colab.kernel.invokeFunction('convertToInteractive',\n",
              "                                                     [key], {});\n",
              "          if (!dataTable) return;\n",
              "\n",
              "          const docLinkHtml = 'Like what you see? Visit the ' +\n",
              "            '<a target=\"_blank\" href=https://colab.research.google.com/notebooks/data_table.ipynb>data table notebook</a>'\n",
              "            + ' to learn more about interactive tables.';\n",
              "          element.innerHTML = '';\n",
              "          dataTable['output_type'] = 'display_data';\n",
              "          await google.colab.output.renderOutput(dataTable, element);\n",
              "          const docLink = document.createElement('div');\n",
              "          docLink.innerHTML = docLinkHtml;\n",
              "          element.appendChild(docLink);\n",
              "        }\n",
              "      </script>\n",
              "    </div>\n",
              "  </div>\n",
              "  "
            ]
          },
          "metadata": {},
          "execution_count": 207
        }
      ],
      "source": [
        "inx = 3\n",
        "df_cat_dat_total.loc[df_cat_dat_total['artsy_id']==id_prob_name[inx]]"
      ]
    },
    {
      "cell_type": "code",
      "execution_count": 208,
      "metadata": {
        "colab": {
          "base_uri": "https://localhost:8080/"
        },
        "id": "K6h_XQ2vL4Iv",
        "outputId": "ede2bcf2-7c10-4e6e-8a05-683bdb5fdde8"
      },
      "outputs": [
        {
          "output_type": "execute_result",
          "data": {
            "text/plain": [
              "array(['Roast Iguana (from the Wild Raspberries portfolio)',\n",
              "       'Roast Iguana (Wild Raspberries)'], dtype=object)"
            ]
          },
          "metadata": {},
          "execution_count": 208
        }
      ],
      "source": [
        "inx_list = df_cat_dat_total.loc[df_cat_dat_total['artsy_id']==id_prob_name[inx]].index.tolist()\n",
        "\n",
        "name_list = df_cat_dat_total.loc[df_cat_dat_total['artsy_id']==id_prob_name[inx]]['name'].unique()\n",
        "name_list"
      ]
    },
    {
      "cell_type": "code",
      "execution_count": 209,
      "metadata": {
        "id": "zQFmp3W0L4Iv"
      },
      "outputs": [],
      "source": [
        "for i in inx_list:\n",
        "  df_cat_dat_total.at[i, 'name'] = name_list[1]\n",
        "  #df_cat_dat_total.at[i, 'name'] = 'Salade de Alf Landon'"
      ]
    },
    {
      "cell_type": "markdown",
      "metadata": {
        "id": "lUZ1HBIUvQbw"
      },
      "source": [
        "#### price"
      ]
    },
    {
      "cell_type": "code",
      "execution_count": 210,
      "metadata": {
        "colab": {
          "base_uri": "https://localhost:8080/"
        },
        "id": "jFcO0v-DaZ15",
        "outputId": "4e4aebe3-aa78-49e3-e7d0-2ce963b64409"
      },
      "outputs": [
        {
          "output_type": "execute_result",
          "data": {
            "text/plain": [
              "56"
            ]
          },
          "metadata": {},
          "execution_count": 210
        }
      ],
      "source": [
        "artsy_id_price = df_cat_dat_total[['artsy_id', 'price']]\n",
        "artsy_id_price.drop_duplicates(subset = ['price', 'artsy_id'], keep = 'first', inplace = True)\n",
        "id_price_g = artsy_id_price.groupby(['artsy_id'])['price'].agg(['count']).reset_index()\n",
        "\n",
        "id_prob_price = id_price_g.loc[id_price_g['count']>1]['artsy_id'].tolist()\n",
        "len(id_prob_price)"
      ]
    },
    {
      "cell_type": "markdown",
      "metadata": {
        "id": "9gWybpWybWfz"
      },
      "source": [
        "In different genes mentioned price could be different. In most cases prices are very similar -> put the mode or one that in the interval. Sometims there isn't a mode or it's 'Price on request'. Put the maximum. We don't need history here."
      ]
    },
    {
      "cell_type": "code",
      "execution_count": 211,
      "metadata": {
        "colab": {
          "base_uri": "https://localhost:8080/",
          "height": 708
        },
        "id": "jrvEYuzma0bJ",
        "outputId": "3f1ac66d-947c-43ac-d475-ffd8aa9687ea"
      },
      "outputs": [
        {
          "output_type": "execute_result",
          "data": {
            "text/plain": [
              "                      artsy_id       name  \\\n",
              "285   625a412cfdea8d000e76fe31  Landslide   \n",
              "471   625a412cfdea8d000e76fe31  Landslide   \n",
              "1023  625a412cfdea8d000e76fe31  Landslide   \n",
              "1208  625a412cfdea8d000e76fe31  Landslide   \n",
              "1540  625a412cfdea8d000e76fe31  Landslide   \n",
              "1912  625a412cfdea8d000e76fe31  Landslide   \n",
              "2972  625a412cfdea8d000e76fe31  Landslide   \n",
              "3243  625a412cfdea8d000e76fe31  Landslide   \n",
              "4011  625a412cfdea8d000e76fe31  Landslide   \n",
              "\n",
              "                                                   link  year  \\\n",
              "285   https://d7hftxdivxxvm.cloudfront.net?resize_to...  2022   \n",
              "471   https://d7hftxdivxxvm.cloudfront.net?resize_to...  2022   \n",
              "1023  https://d7hftxdivxxvm.cloudfront.net?resize_to...  2022   \n",
              "1208  https://d7hftxdivxxvm.cloudfront.net?resize_to...  2022   \n",
              "1540  https://d7hftxdivxxvm.cloudfront.net?resize_to...  2022   \n",
              "1912  https://d7hftxdivxxvm.cloudfront.net?resize_to...  2022   \n",
              "2972  https://d7hftxdivxxvm.cloudfront.net?resize_to...  2022   \n",
              "3243  https://d7hftxdivxxvm.cloudfront.net?resize_to...  2022   \n",
              "4011  https://d7hftxdivxxvm.cloudfront.net?resize_to...  2022   \n",
              "\n",
              "                                                 artist        gallery  \\\n",
              "285   Kirsten Thys van den AudenaerdeLandslide, 2022...  Instantdreams   \n",
              "471   Kirsten Thys van den AudenaerdeLandslide, 2022...  Instantdreams   \n",
              "1023  Kirsten Thys van den AudenaerdeLandslide, 2022...  Instantdreams   \n",
              "1208  Kirsten Thys van den AudenaerdeLandslide, 2022...  Instantdreams   \n",
              "1540  Kirsten Thys van den AudenaerdeLandslide, 2022...  Instantdreams   \n",
              "1912  Kirsten Thys van den AudenaerdeLandslide, 2022...  Instantdreams   \n",
              "2972  Kirsten Thys van den AudenaerdeLandslide, 2022...  Instantdreams   \n",
              "3243  Kirsten Thys van den AudenaerdeLandslide, 2022...  Instantdreams   \n",
              "4011  Kirsten Thys van den AudenaerdeLandslide, 2022...  Instantdreams   \n",
              "\n",
              "               price gene_id category_id parsing_date updating_date  \\\n",
              "285   US$380–US$700    03056          03   2022-04-20    2022-04-20   \n",
              "471   US$380–US$700    03087          03   2022-04-20    2022-04-20   \n",
              "1023  US$380–US$700    03199          03   2022-04-20    2022-04-20   \n",
              "1208  US$380–US$650    03248          03   2022-04-20    2022-04-20   \n",
              "1540  US$380–US$650    02125          02   2022-04-20    2022-04-20   \n",
              "1912  US$380–US$650    06015          06   2022-04-20    2022-04-20   \n",
              "2972  US$380–US$650    06122          06   2022-04-20    2022-04-20   \n",
              "3243  US$380–US$650    06155          06   2022-04-20    2022-04-20   \n",
              "4011  US$380–US$650    08009          08   2022-04-20    2022-04-20   \n",
              "\n",
              "      pages_count                                   second_page_link  \n",
              "285         100.0  https://www.artsy.net/gene/contemporary-art?pa...  \n",
              "471         100.0  https://www.artsy.net/gene/contemporary-portra...  \n",
              "1023        100.0  https://www.artsy.net/gene/pop-and-contemporar...  \n",
              "1208        100.0  https://www.artsy.net/gene/women-artists?page=...  \n",
              "1540        100.0  https://www.artsy.net/gene/nude?page=2&sort=-p...  \n",
              "1912        100.0  https://www.artsy.net/gene/black-and-white-pho...  \n",
              "2972        100.0  https://www.artsy.net/gene/photography?page=2&...  \n",
              "3243        100.0  https://www.artsy.net/gene/staged-photography?...  \n",
              "4011        100.0  https://www.artsy.net/gene/belgium?page=2&sort...  "
            ],
            "text/html": [
              "\n",
              "  <div id=\"df-4363233a-f0c0-4fd1-81e6-5eafc321cc87\">\n",
              "    <div class=\"colab-df-container\">\n",
              "      <div>\n",
              "<style scoped>\n",
              "    .dataframe tbody tr th:only-of-type {\n",
              "        vertical-align: middle;\n",
              "    }\n",
              "\n",
              "    .dataframe tbody tr th {\n",
              "        vertical-align: top;\n",
              "    }\n",
              "\n",
              "    .dataframe thead th {\n",
              "        text-align: right;\n",
              "    }\n",
              "</style>\n",
              "<table border=\"1\" class=\"dataframe\">\n",
              "  <thead>\n",
              "    <tr style=\"text-align: right;\">\n",
              "      <th></th>\n",
              "      <th>artsy_id</th>\n",
              "      <th>name</th>\n",
              "      <th>link</th>\n",
              "      <th>year</th>\n",
              "      <th>artist</th>\n",
              "      <th>gallery</th>\n",
              "      <th>price</th>\n",
              "      <th>gene_id</th>\n",
              "      <th>category_id</th>\n",
              "      <th>parsing_date</th>\n",
              "      <th>updating_date</th>\n",
              "      <th>pages_count</th>\n",
              "      <th>second_page_link</th>\n",
              "    </tr>\n",
              "  </thead>\n",
              "  <tbody>\n",
              "    <tr>\n",
              "      <th>285</th>\n",
              "      <td>625a412cfdea8d000e76fe31</td>\n",
              "      <td>Landslide</td>\n",
              "      <td>https://d7hftxdivxxvm.cloudfront.net?resize_to...</td>\n",
              "      <td>2022</td>\n",
              "      <td>Kirsten Thys van den AudenaerdeLandslide, 2022...</td>\n",
              "      <td>Instantdreams</td>\n",
              "      <td>US$380–US$700</td>\n",
              "      <td>03056</td>\n",
              "      <td>03</td>\n",
              "      <td>2022-04-20</td>\n",
              "      <td>2022-04-20</td>\n",
              "      <td>100.0</td>\n",
              "      <td>https://www.artsy.net/gene/contemporary-art?pa...</td>\n",
              "    </tr>\n",
              "    <tr>\n",
              "      <th>471</th>\n",
              "      <td>625a412cfdea8d000e76fe31</td>\n",
              "      <td>Landslide</td>\n",
              "      <td>https://d7hftxdivxxvm.cloudfront.net?resize_to...</td>\n",
              "      <td>2022</td>\n",
              "      <td>Kirsten Thys van den AudenaerdeLandslide, 2022...</td>\n",
              "      <td>Instantdreams</td>\n",
              "      <td>US$380–US$700</td>\n",
              "      <td>03087</td>\n",
              "      <td>03</td>\n",
              "      <td>2022-04-20</td>\n",
              "      <td>2022-04-20</td>\n",
              "      <td>100.0</td>\n",
              "      <td>https://www.artsy.net/gene/contemporary-portra...</td>\n",
              "    </tr>\n",
              "    <tr>\n",
              "      <th>1023</th>\n",
              "      <td>625a412cfdea8d000e76fe31</td>\n",
              "      <td>Landslide</td>\n",
              "      <td>https://d7hftxdivxxvm.cloudfront.net?resize_to...</td>\n",
              "      <td>2022</td>\n",
              "      <td>Kirsten Thys van den AudenaerdeLandslide, 2022...</td>\n",
              "      <td>Instantdreams</td>\n",
              "      <td>US$380–US$700</td>\n",
              "      <td>03199</td>\n",
              "      <td>03</td>\n",
              "      <td>2022-04-20</td>\n",
              "      <td>2022-04-20</td>\n",
              "      <td>100.0</td>\n",
              "      <td>https://www.artsy.net/gene/pop-and-contemporar...</td>\n",
              "    </tr>\n",
              "    <tr>\n",
              "      <th>1208</th>\n",
              "      <td>625a412cfdea8d000e76fe31</td>\n",
              "      <td>Landslide</td>\n",
              "      <td>https://d7hftxdivxxvm.cloudfront.net?resize_to...</td>\n",
              "      <td>2022</td>\n",
              "      <td>Kirsten Thys van den AudenaerdeLandslide, 2022...</td>\n",
              "      <td>Instantdreams</td>\n",
              "      <td>US$380–US$650</td>\n",
              "      <td>03248</td>\n",
              "      <td>03</td>\n",
              "      <td>2022-04-20</td>\n",
              "      <td>2022-04-20</td>\n",
              "      <td>100.0</td>\n",
              "      <td>https://www.artsy.net/gene/women-artists?page=...</td>\n",
              "    </tr>\n",
              "    <tr>\n",
              "      <th>1540</th>\n",
              "      <td>625a412cfdea8d000e76fe31</td>\n",
              "      <td>Landslide</td>\n",
              "      <td>https://d7hftxdivxxvm.cloudfront.net?resize_to...</td>\n",
              "      <td>2022</td>\n",
              "      <td>Kirsten Thys van den AudenaerdeLandslide, 2022...</td>\n",
              "      <td>Instantdreams</td>\n",
              "      <td>US$380–US$650</td>\n",
              "      <td>02125</td>\n",
              "      <td>02</td>\n",
              "      <td>2022-04-20</td>\n",
              "      <td>2022-04-20</td>\n",
              "      <td>100.0</td>\n",
              "      <td>https://www.artsy.net/gene/nude?page=2&amp;sort=-p...</td>\n",
              "    </tr>\n",
              "    <tr>\n",
              "      <th>1912</th>\n",
              "      <td>625a412cfdea8d000e76fe31</td>\n",
              "      <td>Landslide</td>\n",
              "      <td>https://d7hftxdivxxvm.cloudfront.net?resize_to...</td>\n",
              "      <td>2022</td>\n",
              "      <td>Kirsten Thys van den AudenaerdeLandslide, 2022...</td>\n",
              "      <td>Instantdreams</td>\n",
              "      <td>US$380–US$650</td>\n",
              "      <td>06015</td>\n",
              "      <td>06</td>\n",
              "      <td>2022-04-20</td>\n",
              "      <td>2022-04-20</td>\n",
              "      <td>100.0</td>\n",
              "      <td>https://www.artsy.net/gene/black-and-white-pho...</td>\n",
              "    </tr>\n",
              "    <tr>\n",
              "      <th>2972</th>\n",
              "      <td>625a412cfdea8d000e76fe31</td>\n",
              "      <td>Landslide</td>\n",
              "      <td>https://d7hftxdivxxvm.cloudfront.net?resize_to...</td>\n",
              "      <td>2022</td>\n",
              "      <td>Kirsten Thys van den AudenaerdeLandslide, 2022...</td>\n",
              "      <td>Instantdreams</td>\n",
              "      <td>US$380–US$650</td>\n",
              "      <td>06122</td>\n",
              "      <td>06</td>\n",
              "      <td>2022-04-20</td>\n",
              "      <td>2022-04-20</td>\n",
              "      <td>100.0</td>\n",
              "      <td>https://www.artsy.net/gene/photography?page=2&amp;...</td>\n",
              "    </tr>\n",
              "    <tr>\n",
              "      <th>3243</th>\n",
              "      <td>625a412cfdea8d000e76fe31</td>\n",
              "      <td>Landslide</td>\n",
              "      <td>https://d7hftxdivxxvm.cloudfront.net?resize_to...</td>\n",
              "      <td>2022</td>\n",
              "      <td>Kirsten Thys van den AudenaerdeLandslide, 2022...</td>\n",
              "      <td>Instantdreams</td>\n",
              "      <td>US$380–US$650</td>\n",
              "      <td>06155</td>\n",
              "      <td>06</td>\n",
              "      <td>2022-04-20</td>\n",
              "      <td>2022-04-20</td>\n",
              "      <td>100.0</td>\n",
              "      <td>https://www.artsy.net/gene/staged-photography?...</td>\n",
              "    </tr>\n",
              "    <tr>\n",
              "      <th>4011</th>\n",
              "      <td>625a412cfdea8d000e76fe31</td>\n",
              "      <td>Landslide</td>\n",
              "      <td>https://d7hftxdivxxvm.cloudfront.net?resize_to...</td>\n",
              "      <td>2022</td>\n",
              "      <td>Kirsten Thys van den AudenaerdeLandslide, 2022...</td>\n",
              "      <td>Instantdreams</td>\n",
              "      <td>US$380–US$650</td>\n",
              "      <td>08009</td>\n",
              "      <td>08</td>\n",
              "      <td>2022-04-20</td>\n",
              "      <td>2022-04-20</td>\n",
              "      <td>100.0</td>\n",
              "      <td>https://www.artsy.net/gene/belgium?page=2&amp;sort...</td>\n",
              "    </tr>\n",
              "  </tbody>\n",
              "</table>\n",
              "</div>\n",
              "      <button class=\"colab-df-convert\" onclick=\"convertToInteractive('df-4363233a-f0c0-4fd1-81e6-5eafc321cc87')\"\n",
              "              title=\"Convert this dataframe to an interactive table.\"\n",
              "              style=\"display:none;\">\n",
              "        \n",
              "  <svg xmlns=\"http://www.w3.org/2000/svg\" height=\"24px\"viewBox=\"0 0 24 24\"\n",
              "       width=\"24px\">\n",
              "    <path d=\"M0 0h24v24H0V0z\" fill=\"none\"/>\n",
              "    <path d=\"M18.56 5.44l.94 2.06.94-2.06 2.06-.94-2.06-.94-.94-2.06-.94 2.06-2.06.94zm-11 1L8.5 8.5l.94-2.06 2.06-.94-2.06-.94L8.5 2.5l-.94 2.06-2.06.94zm10 10l.94 2.06.94-2.06 2.06-.94-2.06-.94-.94-2.06-.94 2.06-2.06.94z\"/><path d=\"M17.41 7.96l-1.37-1.37c-.4-.4-.92-.59-1.43-.59-.52 0-1.04.2-1.43.59L10.3 9.45l-7.72 7.72c-.78.78-.78 2.05 0 2.83L4 21.41c.39.39.9.59 1.41.59.51 0 1.02-.2 1.41-.59l7.78-7.78 2.81-2.81c.8-.78.8-2.07 0-2.86zM5.41 20L4 18.59l7.72-7.72 1.47 1.35L5.41 20z\"/>\n",
              "  </svg>\n",
              "      </button>\n",
              "      \n",
              "  <style>\n",
              "    .colab-df-container {\n",
              "      display:flex;\n",
              "      flex-wrap:wrap;\n",
              "      gap: 12px;\n",
              "    }\n",
              "\n",
              "    .colab-df-convert {\n",
              "      background-color: #E8F0FE;\n",
              "      border: none;\n",
              "      border-radius: 50%;\n",
              "      cursor: pointer;\n",
              "      display: none;\n",
              "      fill: #1967D2;\n",
              "      height: 32px;\n",
              "      padding: 0 0 0 0;\n",
              "      width: 32px;\n",
              "    }\n",
              "\n",
              "    .colab-df-convert:hover {\n",
              "      background-color: #E2EBFA;\n",
              "      box-shadow: 0px 1px 2px rgba(60, 64, 67, 0.3), 0px 1px 3px 1px rgba(60, 64, 67, 0.15);\n",
              "      fill: #174EA6;\n",
              "    }\n",
              "\n",
              "    [theme=dark] .colab-df-convert {\n",
              "      background-color: #3B4455;\n",
              "      fill: #D2E3FC;\n",
              "    }\n",
              "\n",
              "    [theme=dark] .colab-df-convert:hover {\n",
              "      background-color: #434B5C;\n",
              "      box-shadow: 0px 1px 3px 1px rgba(0, 0, 0, 0.15);\n",
              "      filter: drop-shadow(0px 1px 2px rgba(0, 0, 0, 0.3));\n",
              "      fill: #FFFFFF;\n",
              "    }\n",
              "  </style>\n",
              "\n",
              "      <script>\n",
              "        const buttonEl =\n",
              "          document.querySelector('#df-4363233a-f0c0-4fd1-81e6-5eafc321cc87 button.colab-df-convert');\n",
              "        buttonEl.style.display =\n",
              "          google.colab.kernel.accessAllowed ? 'block' : 'none';\n",
              "\n",
              "        async function convertToInteractive(key) {\n",
              "          const element = document.querySelector('#df-4363233a-f0c0-4fd1-81e6-5eafc321cc87');\n",
              "          const dataTable =\n",
              "            await google.colab.kernel.invokeFunction('convertToInteractive',\n",
              "                                                     [key], {});\n",
              "          if (!dataTable) return;\n",
              "\n",
              "          const docLinkHtml = 'Like what you see? Visit the ' +\n",
              "            '<a target=\"_blank\" href=https://colab.research.google.com/notebooks/data_table.ipynb>data table notebook</a>'\n",
              "            + ' to learn more about interactive tables.';\n",
              "          element.innerHTML = '';\n",
              "          dataTable['output_type'] = 'display_data';\n",
              "          await google.colab.output.renderOutput(dataTable, element);\n",
              "          const docLink = document.createElement('div');\n",
              "          docLink.innerHTML = docLinkHtml;\n",
              "          element.appendChild(docLink);\n",
              "        }\n",
              "      </script>\n",
              "    </div>\n",
              "  </div>\n",
              "  "
            ]
          },
          "metadata": {},
          "execution_count": 211
        }
      ],
      "source": [
        "inx = 0\n",
        "df_cat_dat_total.loc[df_cat_dat_total['artsy_id']==id_prob_price[inx]]\n",
        "#df_cat_dat_total.loc[df_cat_dat_total['artsy_id'].isin(id_prob_price)]"
      ]
    },
    {
      "cell_type": "code",
      "execution_count": 212,
      "metadata": {
        "colab": {
          "base_uri": "https://localhost:8080/"
        },
        "id": "bAcOwf_Ca8nT",
        "outputId": "38c289d0-1177-4ca9-8f35-6c796c85d922"
      },
      "outputs": [
        {
          "output_type": "execute_result",
          "data": {
            "text/plain": [
              "array(['US$380–US$700 ', 'US$380–US$650 '], dtype=object)"
            ]
          },
          "metadata": {},
          "execution_count": 212
        }
      ],
      "source": [
        "inx_list = df_cat_dat_total.loc[df_cat_dat_total['artsy_id']==id_prob_price[inx]].index.tolist()\n",
        "\n",
        "price_list = df_cat_dat_total.loc[df_cat_dat_total['artsy_id']==id_prob_price[inx]]['price'].unique()\n",
        "price_list"
      ]
    },
    {
      "cell_type": "code",
      "execution_count": null,
      "metadata": {
        "id": "AlQ6nQw-bcf-"
      },
      "outputs": [],
      "source": [
        "for i in inx_list:\n",
        "  df_cat_dat_total.at[i, 'price'] = price_list[1]"
      ]
    },
    {
      "cell_type": "code",
      "source": [
        "# OR !!!!!!"
      ],
      "metadata": {
        "id": "XdbxYop0-Lnb"
      },
      "execution_count": null,
      "outputs": []
    },
    {
      "cell_type": "code",
      "source": [
        "for inx in id_prob_price:\n",
        "  inx_list = df_cat_dat_total.loc[df_cat_dat_total['artsy_id']==inx].index.tolist()\n",
        "  price_list = df_cat_dat_total.loc[df_cat_dat_total['artsy_id']==inx]['price'].unique()\n",
        "  for i in inx_list:\n",
        "    df_cat_dat_total.at[i, 'price'] = price_list[0]"
      ],
      "metadata": {
        "id": "Z3YdvH8r-OX8"
      },
      "execution_count": 214,
      "outputs": []
    },
    {
      "cell_type": "code",
      "execution_count": null,
      "metadata": {
        "id": "z4dDi44QEerp"
      },
      "outputs": [],
      "source": [
        "#for i in inx_list:\n",
        "#  print(df_cat_dat_total['price'].iloc[[i]].index.values[0])"
      ]
    },
    {
      "cell_type": "markdown",
      "metadata": {
        "id": "9vKSLa5mvdEl"
      },
      "source": [
        "#### year"
      ]
    },
    {
      "cell_type": "code",
      "execution_count": null,
      "metadata": {
        "colab": {
          "base_uri": "https://localhost:8080/"
        },
        "id": "Xsc7rPlwve6h",
        "outputId": "fc74b0d4-4859-4a10-809c-8959df583aae"
      },
      "outputs": [
        {
          "data": {
            "text/plain": [
              "0"
            ]
          },
          "execution_count": 245,
          "metadata": {},
          "output_type": "execute_result"
        }
      ],
      "source": [
        "artsy_id_year = df_cat_dat_total[['artsy_id', 'year']]\n",
        "artsy_id_year.drop_duplicates(subset = ['year', 'artsy_id'], keep = 'first', inplace = True)\n",
        "id_year_g = artsy_id_year.groupby(['artsy_id'])['year'].agg(['count']).reset_index()\n",
        "\n",
        "id_prob_year = id_year_g.loc[id_year_g['count']>1]['artsy_id'].tolist()\n",
        "len(id_prob_year)"
      ]
    },
    {
      "cell_type": "code",
      "execution_count": null,
      "metadata": {
        "colab": {
          "base_uri": "https://localhost:8080/",
          "height": 280
        },
        "id": "LXvT1iS1vxYf",
        "outputId": "5f8ac2b5-2f3c-40e1-93c4-5e0bc4849c3f"
      },
      "outputs": [
        {
          "data": {
            "text/html": [
              "\n",
              "  <div id=\"df-b32bc51a-da32-4960-8ce8-0d1b138fb592\">\n",
              "    <div class=\"colab-df-container\">\n",
              "      <div>\n",
              "<style scoped>\n",
              "    .dataframe tbody tr th:only-of-type {\n",
              "        vertical-align: middle;\n",
              "    }\n",
              "\n",
              "    .dataframe tbody tr th {\n",
              "        vertical-align: top;\n",
              "    }\n",
              "\n",
              "    .dataframe thead th {\n",
              "        text-align: right;\n",
              "    }\n",
              "</style>\n",
              "<table border=\"1\" class=\"dataframe\">\n",
              "  <thead>\n",
              "    <tr style=\"text-align: right;\">\n",
              "      <th></th>\n",
              "      <th>artsy_id</th>\n",
              "      <th>name</th>\n",
              "      <th>link</th>\n",
              "      <th>year</th>\n",
              "      <th>artist</th>\n",
              "      <th>gallery</th>\n",
              "      <th>price</th>\n",
              "      <th>gene_id</th>\n",
              "      <th>category_id</th>\n",
              "      <th>parsing_date</th>\n",
              "      <th>updating_date</th>\n",
              "    </tr>\n",
              "  </thead>\n",
              "  <tbody>\n",
              "    <tr>\n",
              "      <th>65426</th>\n",
              "      <td>6229f8fddf1d11000d69c4f4</td>\n",
              "      <td>Caballero I</td>\n",
              "      <td>https://d32dm0rphc51dk.cloudfront.net/KDZ7OhTx...</td>\n",
              "      <td>2015</td>\n",
              "      <td>Manolo ValdésCaballero I, 2015Proyecto H€7,500...</td>\n",
              "      <td>Proyecto H</td>\n",
              "      <td>€9,000–€11,000</td>\n",
              "      <td>06054</td>\n",
              "      <td>06</td>\n",
              "      <td>2022-04-06</td>\n",
              "      <td>2022-04-06</td>\n",
              "    </tr>\n",
              "    <tr>\n",
              "      <th>187793</th>\n",
              "      <td>6229f8fddf1d11000d69c4f4</td>\n",
              "      <td>Caballero I</td>\n",
              "      <td>https://d32dm0rphc51dk.cloudfront.net/KDZ7OhTx...</td>\n",
              "      <td>2006</td>\n",
              "      <td>Manolo ValdésCaballero I, 2006Proyecto H€9,000...</td>\n",
              "      <td>Proyecto H</td>\n",
              "      <td>€9,000–€11,000</td>\n",
              "      <td>06131</td>\n",
              "      <td>06</td>\n",
              "      <td>2022-04-06</td>\n",
              "      <td>2022-04-06</td>\n",
              "    </tr>\n",
              "  </tbody>\n",
              "</table>\n",
              "</div>\n",
              "      <button class=\"colab-df-convert\" onclick=\"convertToInteractive('df-b32bc51a-da32-4960-8ce8-0d1b138fb592')\"\n",
              "              title=\"Convert this dataframe to an interactive table.\"\n",
              "              style=\"display:none;\">\n",
              "        \n",
              "  <svg xmlns=\"http://www.w3.org/2000/svg\" height=\"24px\"viewBox=\"0 0 24 24\"\n",
              "       width=\"24px\">\n",
              "    <path d=\"M0 0h24v24H0V0z\" fill=\"none\"/>\n",
              "    <path d=\"M18.56 5.44l.94 2.06.94-2.06 2.06-.94-2.06-.94-.94-2.06-.94 2.06-2.06.94zm-11 1L8.5 8.5l.94-2.06 2.06-.94-2.06-.94L8.5 2.5l-.94 2.06-2.06.94zm10 10l.94 2.06.94-2.06 2.06-.94-2.06-.94-.94-2.06-.94 2.06-2.06.94z\"/><path d=\"M17.41 7.96l-1.37-1.37c-.4-.4-.92-.59-1.43-.59-.52 0-1.04.2-1.43.59L10.3 9.45l-7.72 7.72c-.78.78-.78 2.05 0 2.83L4 21.41c.39.39.9.59 1.41.59.51 0 1.02-.2 1.41-.59l7.78-7.78 2.81-2.81c.8-.78.8-2.07 0-2.86zM5.41 20L4 18.59l7.72-7.72 1.47 1.35L5.41 20z\"/>\n",
              "  </svg>\n",
              "      </button>\n",
              "      \n",
              "  <style>\n",
              "    .colab-df-container {\n",
              "      display:flex;\n",
              "      flex-wrap:wrap;\n",
              "      gap: 12px;\n",
              "    }\n",
              "\n",
              "    .colab-df-convert {\n",
              "      background-color: #E8F0FE;\n",
              "      border: none;\n",
              "      border-radius: 50%;\n",
              "      cursor: pointer;\n",
              "      display: none;\n",
              "      fill: #1967D2;\n",
              "      height: 32px;\n",
              "      padding: 0 0 0 0;\n",
              "      width: 32px;\n",
              "    }\n",
              "\n",
              "    .colab-df-convert:hover {\n",
              "      background-color: #E2EBFA;\n",
              "      box-shadow: 0px 1px 2px rgba(60, 64, 67, 0.3), 0px 1px 3px 1px rgba(60, 64, 67, 0.15);\n",
              "      fill: #174EA6;\n",
              "    }\n",
              "\n",
              "    [theme=dark] .colab-df-convert {\n",
              "      background-color: #3B4455;\n",
              "      fill: #D2E3FC;\n",
              "    }\n",
              "\n",
              "    [theme=dark] .colab-df-convert:hover {\n",
              "      background-color: #434B5C;\n",
              "      box-shadow: 0px 1px 3px 1px rgba(0, 0, 0, 0.15);\n",
              "      filter: drop-shadow(0px 1px 2px rgba(0, 0, 0, 0.3));\n",
              "      fill: #FFFFFF;\n",
              "    }\n",
              "  </style>\n",
              "\n",
              "      <script>\n",
              "        const buttonEl =\n",
              "          document.querySelector('#df-b32bc51a-da32-4960-8ce8-0d1b138fb592 button.colab-df-convert');\n",
              "        buttonEl.style.display =\n",
              "          google.colab.kernel.accessAllowed ? 'block' : 'none';\n",
              "\n",
              "        async function convertToInteractive(key) {\n",
              "          const element = document.querySelector('#df-b32bc51a-da32-4960-8ce8-0d1b138fb592');\n",
              "          const dataTable =\n",
              "            await google.colab.kernel.invokeFunction('convertToInteractive',\n",
              "                                                     [key], {});\n",
              "          if (!dataTable) return;\n",
              "\n",
              "          const docLinkHtml = 'Like what you see? Visit the ' +\n",
              "            '<a target=\"_blank\" href=https://colab.research.google.com/notebooks/data_table.ipynb>data table notebook</a>'\n",
              "            + ' to learn more about interactive tables.';\n",
              "          element.innerHTML = '';\n",
              "          dataTable['output_type'] = 'display_data';\n",
              "          await google.colab.output.renderOutput(dataTable, element);\n",
              "          const docLink = document.createElement('div');\n",
              "          docLink.innerHTML = docLinkHtml;\n",
              "          element.appendChild(docLink);\n",
              "        }\n",
              "      </script>\n",
              "    </div>\n",
              "  </div>\n",
              "  "
            ],
            "text/plain": [
              "                        artsy_id         name  \\\n",
              "65426   6229f8fddf1d11000d69c4f4  Caballero I   \n",
              "187793  6229f8fddf1d11000d69c4f4  Caballero I   \n",
              "\n",
              "                                                     link  year  \\\n",
              "65426   https://d32dm0rphc51dk.cloudfront.net/KDZ7OhTx...  2015   \n",
              "187793  https://d32dm0rphc51dk.cloudfront.net/KDZ7OhTx...  2006   \n",
              "\n",
              "                                                   artist     gallery  \\\n",
              "65426   Manolo ValdésCaballero I, 2015Proyecto H€7,500...  Proyecto H   \n",
              "187793  Manolo ValdésCaballero I, 2006Proyecto H€9,000...  Proyecto H   \n",
              "\n",
              "                  price gene_id category_id parsing_date updating_date  \n",
              "65426   €9,000–€11,000    06054          06   2022-04-06    2022-04-06  \n",
              "187793  €9,000–€11,000    06131          06   2022-04-06    2022-04-06  "
            ]
          },
          "execution_count": 86,
          "metadata": {},
          "output_type": "execute_result"
        }
      ],
      "source": [
        "inx = 1\n",
        "df_cat_dat_total.loc[df_cat_dat_total['artsy_id']==id_prob_year[inx]]"
      ]
    },
    {
      "cell_type": "code",
      "execution_count": null,
      "metadata": {
        "colab": {
          "base_uri": "https://localhost:8080/"
        },
        "id": "k-KBvexdwaCo",
        "outputId": "e22c2974-b5b1-4a52-f194-685a51502f5b"
      },
      "outputs": [
        {
          "data": {
            "text/plain": [
              "array(['2015', '2006'], dtype=object)"
            ]
          },
          "execution_count": 87,
          "metadata": {},
          "output_type": "execute_result"
        }
      ],
      "source": [
        "df_cat_dat_total.loc[df_cat_dat_total['artsy_id']==id_prob_year[inx]]['year'].unique()"
      ]
    },
    {
      "cell_type": "code",
      "execution_count": null,
      "metadata": {
        "id": "XI2gbFI4wiRd"
      },
      "outputs": [],
      "source": [
        "df_cat_dat_total.at[65609, 'year'] = '2006'\n",
        "df_cat_dat_total.at[65426, 'year'] = '2006'"
      ]
    },
    {
      "cell_type": "markdown",
      "metadata": {
        "id": "z6eLWVRqL4Iq"
      },
      "source": [
        "#### gallery"
      ]
    },
    {
      "cell_type": "code",
      "execution_count": null,
      "metadata": {
        "colab": {
          "base_uri": "https://localhost:8080/"
        },
        "id": "E1zT19l_JFr0",
        "outputId": "b418b531-309b-4a86-e8fd-8b908658326d"
      },
      "outputs": [
        {
          "data": {
            "text/plain": [
              "1"
            ]
          },
          "execution_count": 307,
          "metadata": {},
          "output_type": "execute_result"
        }
      ],
      "source": [
        "artsy_id_gallery = df_cat_dat_total[['artsy_id', 'gallery']]\n",
        "artsy_id_gallery.drop_duplicates(subset = ['gallery', 'artsy_id'], keep = 'first', inplace = True)\n",
        "id_gallery_g = artsy_id_gallery.groupby(['artsy_id'])['gallery'].agg(['count']).reset_index()\n",
        "\n",
        "id_prob_gallery = id_gallery_g.loc[id_gallery_g['count']>1]['artsy_id'].tolist()\n",
        "len(id_prob_gallery)"
      ]
    },
    {
      "cell_type": "code",
      "execution_count": null,
      "metadata": {
        "colab": {
          "base_uri": "https://localhost:8080/",
          "height": 384
        },
        "id": "eX03WwIbJaBl",
        "outputId": "032acbf0-5d38-42a6-c61e-045baed926b1"
      },
      "outputs": [
        {
          "data": {
            "text/html": [
              "\n",
              "  <div id=\"df-f90b2023-c1f0-492d-8318-7b3361515937\">\n",
              "    <div class=\"colab-df-container\">\n",
              "      <div>\n",
              "<style scoped>\n",
              "    .dataframe tbody tr th:only-of-type {\n",
              "        vertical-align: middle;\n",
              "    }\n",
              "\n",
              "    .dataframe tbody tr th {\n",
              "        vertical-align: top;\n",
              "    }\n",
              "\n",
              "    .dataframe thead th {\n",
              "        text-align: right;\n",
              "    }\n",
              "</style>\n",
              "<table border=\"1\" class=\"dataframe\">\n",
              "  <thead>\n",
              "    <tr style=\"text-align: right;\">\n",
              "      <th></th>\n",
              "      <th>artsy_id</th>\n",
              "      <th>name</th>\n",
              "      <th>link</th>\n",
              "      <th>year</th>\n",
              "      <th>artist</th>\n",
              "      <th>gallery</th>\n",
              "      <th>price</th>\n",
              "      <th>gene_id</th>\n",
              "      <th>category_id</th>\n",
              "      <th>parsing_date</th>\n",
              "      <th>updating_date</th>\n",
              "    </tr>\n",
              "  </thead>\n",
              "  <tbody>\n",
              "    <tr>\n",
              "      <th>22221</th>\n",
              "      <td>61e7987ef82abd000c0fb200</td>\n",
              "      <td>Salute (White) Artist Proof</td>\n",
              "      <td>https://d32dm0rphc51dk.cloudfront.net/wkoV4skP...</td>\n",
              "      <td>2021</td>\n",
              "      <td>Shen Jingdong 沈敬东Salute (White) Artist Proof, ...</td>\n",
              "      <td>SimpleArte</td>\n",
              "      <td>US$700</td>\n",
              "      <td>08008</td>\n",
              "      <td>08</td>\n",
              "      <td>2022-04-08</td>\n",
              "      <td>2022-04-08</td>\n",
              "    </tr>\n",
              "    <tr>\n",
              "      <th>179437</th>\n",
              "      <td>61e7987ef82abd000c0fb200</td>\n",
              "      <td>Salute (White) Artist Proof</td>\n",
              "      <td>https://d32dm0rphc51dk.cloudfront.net/wkoV4skP...</td>\n",
              "      <td>2021</td>\n",
              "      <td>Shen Jingdong 沈敬东Salute (White) Artist Proof, ...</td>\n",
              "      <td>iCare4U</td>\n",
              "      <td>US$700</td>\n",
              "      <td>08005</td>\n",
              "      <td>08</td>\n",
              "      <td>2022-04-18</td>\n",
              "      <td>2022-04-18</td>\n",
              "    </tr>\n",
              "  </tbody>\n",
              "</table>\n",
              "</div>\n",
              "      <button class=\"colab-df-convert\" onclick=\"convertToInteractive('df-f90b2023-c1f0-492d-8318-7b3361515937')\"\n",
              "              title=\"Convert this dataframe to an interactive table.\"\n",
              "              style=\"display:none;\">\n",
              "        \n",
              "  <svg xmlns=\"http://www.w3.org/2000/svg\" height=\"24px\"viewBox=\"0 0 24 24\"\n",
              "       width=\"24px\">\n",
              "    <path d=\"M0 0h24v24H0V0z\" fill=\"none\"/>\n",
              "    <path d=\"M18.56 5.44l.94 2.06.94-2.06 2.06-.94-2.06-.94-.94-2.06-.94 2.06-2.06.94zm-11 1L8.5 8.5l.94-2.06 2.06-.94-2.06-.94L8.5 2.5l-.94 2.06-2.06.94zm10 10l.94 2.06.94-2.06 2.06-.94-2.06-.94-.94-2.06-.94 2.06-2.06.94z\"/><path d=\"M17.41 7.96l-1.37-1.37c-.4-.4-.92-.59-1.43-.59-.52 0-1.04.2-1.43.59L10.3 9.45l-7.72 7.72c-.78.78-.78 2.05 0 2.83L4 21.41c.39.39.9.59 1.41.59.51 0 1.02-.2 1.41-.59l7.78-7.78 2.81-2.81c.8-.78.8-2.07 0-2.86zM5.41 20L4 18.59l7.72-7.72 1.47 1.35L5.41 20z\"/>\n",
              "  </svg>\n",
              "      </button>\n",
              "      \n",
              "  <style>\n",
              "    .colab-df-container {\n",
              "      display:flex;\n",
              "      flex-wrap:wrap;\n",
              "      gap: 12px;\n",
              "    }\n",
              "\n",
              "    .colab-df-convert {\n",
              "      background-color: #E8F0FE;\n",
              "      border: none;\n",
              "      border-radius: 50%;\n",
              "      cursor: pointer;\n",
              "      display: none;\n",
              "      fill: #1967D2;\n",
              "      height: 32px;\n",
              "      padding: 0 0 0 0;\n",
              "      width: 32px;\n",
              "    }\n",
              "\n",
              "    .colab-df-convert:hover {\n",
              "      background-color: #E2EBFA;\n",
              "      box-shadow: 0px 1px 2px rgba(60, 64, 67, 0.3), 0px 1px 3px 1px rgba(60, 64, 67, 0.15);\n",
              "      fill: #174EA6;\n",
              "    }\n",
              "\n",
              "    [theme=dark] .colab-df-convert {\n",
              "      background-color: #3B4455;\n",
              "      fill: #D2E3FC;\n",
              "    }\n",
              "\n",
              "    [theme=dark] .colab-df-convert:hover {\n",
              "      background-color: #434B5C;\n",
              "      box-shadow: 0px 1px 3px 1px rgba(0, 0, 0, 0.15);\n",
              "      filter: drop-shadow(0px 1px 2px rgba(0, 0, 0, 0.3));\n",
              "      fill: #FFFFFF;\n",
              "    }\n",
              "  </style>\n",
              "\n",
              "      <script>\n",
              "        const buttonEl =\n",
              "          document.querySelector('#df-f90b2023-c1f0-492d-8318-7b3361515937 button.colab-df-convert');\n",
              "        buttonEl.style.display =\n",
              "          google.colab.kernel.accessAllowed ? 'block' : 'none';\n",
              "\n",
              "        async function convertToInteractive(key) {\n",
              "          const element = document.querySelector('#df-f90b2023-c1f0-492d-8318-7b3361515937');\n",
              "          const dataTable =\n",
              "            await google.colab.kernel.invokeFunction('convertToInteractive',\n",
              "                                                     [key], {});\n",
              "          if (!dataTable) return;\n",
              "\n",
              "          const docLinkHtml = 'Like what you see? Visit the ' +\n",
              "            '<a target=\"_blank\" href=https://colab.research.google.com/notebooks/data_table.ipynb>data table notebook</a>'\n",
              "            + ' to learn more about interactive tables.';\n",
              "          element.innerHTML = '';\n",
              "          dataTable['output_type'] = 'display_data';\n",
              "          await google.colab.output.renderOutput(dataTable, element);\n",
              "          const docLink = document.createElement('div');\n",
              "          docLink.innerHTML = docLinkHtml;\n",
              "          element.appendChild(docLink);\n",
              "        }\n",
              "      </script>\n",
              "    </div>\n",
              "  </div>\n",
              "  "
            ],
            "text/plain": [
              "                        artsy_id                         name  \\\n",
              "22221   61e7987ef82abd000c0fb200  Salute (White) Artist Proof   \n",
              "179437  61e7987ef82abd000c0fb200  Salute (White) Artist Proof   \n",
              "\n",
              "                                                     link  year  \\\n",
              "22221   https://d32dm0rphc51dk.cloudfront.net/wkoV4skP...  2021   \n",
              "179437  https://d32dm0rphc51dk.cloudfront.net/wkoV4skP...  2021   \n",
              "\n",
              "                                                   artist     gallery  \\\n",
              "22221   Shen Jingdong 沈敬东Salute (White) Artist Proof, ...  SimpleArte   \n",
              "179437  Shen Jingdong 沈敬东Salute (White) Artist Proof, ...     iCare4U   \n",
              "\n",
              "          price gene_id category_id parsing_date updating_date  \n",
              "22221   US$700    08008          08   2022-04-08    2022-04-08  \n",
              "179437  US$700    08005          08   2022-04-18    2022-04-18  "
            ]
          },
          "execution_count": 308,
          "metadata": {},
          "output_type": "execute_result"
        }
      ],
      "source": [
        "inx = 0\n",
        "df_cat_dat_total.loc[df_cat_dat_total['artsy_id']==id_prob_gallery[inx]]"
      ]
    },
    {
      "cell_type": "code",
      "execution_count": null,
      "metadata": {
        "colab": {
          "base_uri": "https://localhost:8080/"
        },
        "id": "akVWIziiJl2r",
        "outputId": "8e51ccd2-5a3e-4aff-c68b-f4db60cd8494"
      },
      "outputs": [
        {
          "data": {
            "text/plain": [
              "array(['SimpleArte', 'iCare4U'], dtype=object)"
            ]
          },
          "execution_count": 309,
          "metadata": {},
          "output_type": "execute_result"
        }
      ],
      "source": [
        "inx_list = df_cat_dat_total.loc[df_cat_dat_total['artsy_id']==id_prob_gallery[inx]].index.tolist()\n",
        "\n",
        "gallery_list = df_cat_dat_total.loc[df_cat_dat_total['artsy_id']==id_prob_gallery[inx]]['gallery'].unique()\n",
        "gallery_list"
      ]
    },
    {
      "cell_type": "code",
      "execution_count": null,
      "metadata": {
        "id": "XKRcz1mMJ2uF"
      },
      "outputs": [],
      "source": [
        "for i in inx_list:\n",
        "  df_cat_dat_total.at[i, 'gallery'] = gallery_list[0]"
      ]
    },
    {
      "cell_type": "markdown",
      "metadata": {
        "id": "yQ-3r7pHv5UX"
      },
      "source": [
        "#### artist"
      ]
    },
    {
      "cell_type": "code",
      "execution_count": 215,
      "metadata": {
        "colab": {
          "base_uri": "https://localhost:8080/"
        },
        "id": "BnuwukCDvxQt",
        "outputId": "dced0091-41bc-4adf-838a-1f2a328faac4"
      },
      "outputs": [
        {
          "output_type": "execute_result",
          "data": {
            "text/plain": [
              "56"
            ]
          },
          "metadata": {},
          "execution_count": 215
        }
      ],
      "source": [
        "artsy_id_artist = df_cat_dat_total[['artsy_id', 'artist']]\n",
        "artsy_id_artist.drop_duplicates(subset = ['artist', 'artsy_id'], keep = 'first', inplace = True)\n",
        "id_artist_g = artsy_id_artist.groupby(['artsy_id'])['artist'].agg(['count']).reset_index()\n",
        "\n",
        "id_prob_artist = id_artist_g.loc[id_artist_g['count']>1]['artsy_id'].tolist()\n",
        "len(id_prob_artist)"
      ]
    },
    {
      "cell_type": "code",
      "execution_count": null,
      "metadata": {
        "colab": {
          "base_uri": "https://localhost:8080/",
          "height": 315
        },
        "id": "3YkzWRrhv7v-",
        "outputId": "75672156-9497-4838-bcda-284aa2856bea"
      },
      "outputs": [
        {
          "data": {
            "text/html": [
              "\n",
              "  <div id=\"df-0176f48e-6533-48b2-a15d-12e930ab81a2\">\n",
              "    <div class=\"colab-df-container\">\n",
              "      <div>\n",
              "<style scoped>\n",
              "    .dataframe tbody tr th:only-of-type {\n",
              "        vertical-align: middle;\n",
              "    }\n",
              "\n",
              "    .dataframe tbody tr th {\n",
              "        vertical-align: top;\n",
              "    }\n",
              "\n",
              "    .dataframe thead th {\n",
              "        text-align: right;\n",
              "    }\n",
              "</style>\n",
              "<table border=\"1\" class=\"dataframe\">\n",
              "  <thead>\n",
              "    <tr style=\"text-align: right;\">\n",
              "      <th></th>\n",
              "      <th>artsy_id</th>\n",
              "      <th>name</th>\n",
              "      <th>link</th>\n",
              "      <th>year</th>\n",
              "      <th>artist</th>\n",
              "      <th>gallery</th>\n",
              "      <th>price</th>\n",
              "      <th>gene_id</th>\n",
              "      <th>category_id</th>\n",
              "      <th>parsing_date</th>\n",
              "      <th>updating_date</th>\n",
              "    </tr>\n",
              "  </thead>\n",
              "  <tbody>\n",
              "    <tr>\n",
              "      <th>5106</th>\n",
              "      <td>5c75c7b07f2e1f1daf553e74</td>\n",
              "      <td>Homage to the Square: Full (Rug)</td>\n",
              "      <td>https://d32dm0rphc51dk.cloudfront.net/Y-veD8oj...</td>\n",
              "      <td>Current production based on 1962 work</td>\n",
              "      <td>Josef AlbersHomage to the Square: Full (Rug), ...</td>\n",
              "      <td>Artware Editions</td>\n",
              "      <td>US$1,250</td>\n",
              "      <td>13003</td>\n",
              "      <td>13</td>\n",
              "      <td>2022-04-09</td>\n",
              "      <td>2022-04-09</td>\n",
              "    </tr>\n",
              "    <tr>\n",
              "      <th>14367</th>\n",
              "      <td>5c75c7b07f2e1f1daf553e74</td>\n",
              "      <td>Homage to the Square: Full (Rug)</td>\n",
              "      <td>https://d32dm0rphc51dk.cloudfront.net/Y-veD8oj...</td>\n",
              "      <td>Current production based on 1962 work</td>\n",
              "      <td>Josef AlbersHomage to the Square: Full (Rug), ...</td>\n",
              "      <td>Artware Editions</td>\n",
              "      <td>US$1,250</td>\n",
              "      <td>13005</td>\n",
              "      <td>13</td>\n",
              "      <td>2022-04-19</td>\n",
              "      <td>2022-04-19</td>\n",
              "    </tr>\n",
              "  </tbody>\n",
              "</table>\n",
              "</div>\n",
              "      <button class=\"colab-df-convert\" onclick=\"convertToInteractive('df-0176f48e-6533-48b2-a15d-12e930ab81a2')\"\n",
              "              title=\"Convert this dataframe to an interactive table.\"\n",
              "              style=\"display:none;\">\n",
              "        \n",
              "  <svg xmlns=\"http://www.w3.org/2000/svg\" height=\"24px\"viewBox=\"0 0 24 24\"\n",
              "       width=\"24px\">\n",
              "    <path d=\"M0 0h24v24H0V0z\" fill=\"none\"/>\n",
              "    <path d=\"M18.56 5.44l.94 2.06.94-2.06 2.06-.94-2.06-.94-.94-2.06-.94 2.06-2.06.94zm-11 1L8.5 8.5l.94-2.06 2.06-.94-2.06-.94L8.5 2.5l-.94 2.06-2.06.94zm10 10l.94 2.06.94-2.06 2.06-.94-2.06-.94-.94-2.06-.94 2.06-2.06.94z\"/><path d=\"M17.41 7.96l-1.37-1.37c-.4-.4-.92-.59-1.43-.59-.52 0-1.04.2-1.43.59L10.3 9.45l-7.72 7.72c-.78.78-.78 2.05 0 2.83L4 21.41c.39.39.9.59 1.41.59.51 0 1.02-.2 1.41-.59l7.78-7.78 2.81-2.81c.8-.78.8-2.07 0-2.86zM5.41 20L4 18.59l7.72-7.72 1.47 1.35L5.41 20z\"/>\n",
              "  </svg>\n",
              "      </button>\n",
              "      \n",
              "  <style>\n",
              "    .colab-df-container {\n",
              "      display:flex;\n",
              "      flex-wrap:wrap;\n",
              "      gap: 12px;\n",
              "    }\n",
              "\n",
              "    .colab-df-convert {\n",
              "      background-color: #E8F0FE;\n",
              "      border: none;\n",
              "      border-radius: 50%;\n",
              "      cursor: pointer;\n",
              "      display: none;\n",
              "      fill: #1967D2;\n",
              "      height: 32px;\n",
              "      padding: 0 0 0 0;\n",
              "      width: 32px;\n",
              "    }\n",
              "\n",
              "    .colab-df-convert:hover {\n",
              "      background-color: #E2EBFA;\n",
              "      box-shadow: 0px 1px 2px rgba(60, 64, 67, 0.3), 0px 1px 3px 1px rgba(60, 64, 67, 0.15);\n",
              "      fill: #174EA6;\n",
              "    }\n",
              "\n",
              "    [theme=dark] .colab-df-convert {\n",
              "      background-color: #3B4455;\n",
              "      fill: #D2E3FC;\n",
              "    }\n",
              "\n",
              "    [theme=dark] .colab-df-convert:hover {\n",
              "      background-color: #434B5C;\n",
              "      box-shadow: 0px 1px 3px 1px rgba(0, 0, 0, 0.15);\n",
              "      filter: drop-shadow(0px 1px 2px rgba(0, 0, 0, 0.3));\n",
              "      fill: #FFFFFF;\n",
              "    }\n",
              "  </style>\n",
              "\n",
              "      <script>\n",
              "        const buttonEl =\n",
              "          document.querySelector('#df-0176f48e-6533-48b2-a15d-12e930ab81a2 button.colab-df-convert');\n",
              "        buttonEl.style.display =\n",
              "          google.colab.kernel.accessAllowed ? 'block' : 'none';\n",
              "\n",
              "        async function convertToInteractive(key) {\n",
              "          const element = document.querySelector('#df-0176f48e-6533-48b2-a15d-12e930ab81a2');\n",
              "          const dataTable =\n",
              "            await google.colab.kernel.invokeFunction('convertToInteractive',\n",
              "                                                     [key], {});\n",
              "          if (!dataTable) return;\n",
              "\n",
              "          const docLinkHtml = 'Like what you see? Visit the ' +\n",
              "            '<a target=\"_blank\" href=https://colab.research.google.com/notebooks/data_table.ipynb>data table notebook</a>'\n",
              "            + ' to learn more about interactive tables.';\n",
              "          element.innerHTML = '';\n",
              "          dataTable['output_type'] = 'display_data';\n",
              "          await google.colab.output.renderOutput(dataTable, element);\n",
              "          const docLink = document.createElement('div');\n",
              "          docLink.innerHTML = docLinkHtml;\n",
              "          element.appendChild(docLink);\n",
              "        }\n",
              "      </script>\n",
              "    </div>\n",
              "  </div>\n",
              "  "
            ],
            "text/plain": [
              "                       artsy_id                              name  \\\n",
              "5106   5c75c7b07f2e1f1daf553e74  Homage to the Square: Full (Rug)   \n",
              "14367  5c75c7b07f2e1f1daf553e74  Homage to the Square: Full (Rug)   \n",
              "\n",
              "                                                    link  \\\n",
              "5106   https://d32dm0rphc51dk.cloudfront.net/Y-veD8oj...   \n",
              "14367  https://d32dm0rphc51dk.cloudfront.net/Y-veD8oj...   \n",
              "\n",
              "                                        year  \\\n",
              "5106   Current production based on 1962 work   \n",
              "14367  Current production based on 1962 work   \n",
              "\n",
              "                                                  artist           gallery  \\\n",
              "5106   Josef AlbersHomage to the Square: Full (Rug), ...  Artware Editions   \n",
              "14367  Josef AlbersHomage to the Square: Full (Rug), ...  Artware Editions   \n",
              "\n",
              "           price gene_id category_id parsing_date updating_date  \n",
              "5106   US$1,250    13003          13   2022-04-09    2022-04-09  \n",
              "14367  US$1,250    13005          13   2022-04-19    2022-04-19  "
            ]
          },
          "execution_count": 756,
          "metadata": {},
          "output_type": "execute_result"
        }
      ],
      "source": [
        "inx = 0\n",
        "df_cat_dat_total.loc[df_cat_dat_total['artsy_id']==id_prob_artist[inx]]"
      ]
    },
    {
      "cell_type": "code",
      "execution_count": null,
      "metadata": {
        "colab": {
          "base_uri": "https://localhost:8080/"
        },
        "id": "rZLitxNMv7sa",
        "outputId": "2758c723-e960-4d1d-8d81-13b12d37ea04"
      },
      "outputs": [
        {
          "data": {
            "text/plain": [
              "array(['Josef AlbersHomage to the Square: Full (Rug), Current production based on 1962 workArtware EditionsSold ',\n",
              "       'Josef AlbersHomage to the Square: Full (Rug), Current production based on 1962 workArtware EditionsUS$1,250 '],\n",
              "      dtype=object)"
            ]
          },
          "execution_count": 757,
          "metadata": {},
          "output_type": "execute_result"
        }
      ],
      "source": [
        "inx_list = df_cat_dat_total.loc[df_cat_dat_total['artsy_id']==id_prob_artist[inx]].index.tolist()\n",
        "\n",
        "df_cat_dat_total.loc[df_cat_dat_total['artsy_id']==id_prob_artist[inx]]['artist'].unique()"
      ]
    },
    {
      "cell_type": "code",
      "execution_count": null,
      "metadata": {
        "id": "qLei0Yt0v7pP"
      },
      "outputs": [],
      "source": [
        "for i in inx_list:\n",
        "  df_cat_dat_total.at[i, 'artist'] = 'Josef Albers'"
      ]
    },
    {
      "cell_type": "code",
      "source": [
        "# OR !!!!!!!!!!!!!!!"
      ],
      "metadata": {
        "id": "msw_rWCU_NyA"
      },
      "execution_count": null,
      "outputs": []
    },
    {
      "cell_type": "code",
      "source": [
        "for inx in id_prob_artist:\n",
        "  inx_list = df_cat_dat_total.loc[df_cat_dat_total['artsy_id']==inx].index.tolist()\n",
        "  artists_list = df_cat_dat_total.loc[df_cat_dat_total['artsy_id']==inx]['artist'].unique()\n",
        "  for i in inx_list:\n",
        "    df_cat_dat_total.at[i, 'artist'] = artists_list[0]"
      ],
      "metadata": {
        "id": "kp8QA1CL_PhE"
      },
      "execution_count": 216,
      "outputs": []
    },
    {
      "cell_type": "markdown",
      "metadata": {
        "id": "3-9TkSSyjXTH"
      },
      "source": [
        "#### dates"
      ]
    },
    {
      "cell_type": "code",
      "execution_count": null,
      "metadata": {
        "colab": {
          "base_uri": "https://localhost:8080/",
          "height": 35
        },
        "id": "RtzY24RwH4CQ",
        "outputId": "78bd1a9e-74f6-4184-fa7b-5981394a1f05"
      },
      "outputs": [
        {
          "data": {
            "application/vnd.google.colaboratory.intrinsic+json": {
              "type": "string"
            },
            "text/plain": [
              "'2022-04-19'"
            ]
          },
          "execution_count": 759,
          "metadata": {},
          "output_type": "execute_result"
        }
      ],
      "source": [
        "df_cat_dat_total['parsing_date'].max()"
      ]
    },
    {
      "cell_type": "code",
      "execution_count": null,
      "metadata": {
        "colab": {
          "base_uri": "https://localhost:8080/",
          "height": 35
        },
        "id": "rYW9mK2FH7I_",
        "outputId": "47ce625b-7e85-4c52-9c99-a10412831f30"
      },
      "outputs": [
        {
          "data": {
            "application/vnd.google.colaboratory.intrinsic+json": {
              "type": "string"
            },
            "text/plain": [
              "'2022-04-09'"
            ]
          },
          "execution_count": 760,
          "metadata": {},
          "output_type": "execute_result"
        }
      ],
      "source": [
        "df_cat_dat_total['parsing_date'].min()"
      ]
    },
    {
      "cell_type": "code",
      "execution_count": null,
      "metadata": {
        "id": "QUpirb7biP8M"
      },
      "outputs": [],
      "source": [
        "date = df_cat_dat_total['parsing_date'].unique().min()\n",
        "df_cat_dat_total['parsing_date'] = date\n",
        "df_cat_dat_total['updating_date'] = date"
      ]
    },
    {
      "cell_type": "markdown",
      "metadata": {
        "id": "opwQ-_zIjSCg"
      },
      "source": [
        "#### check"
      ]
    },
    {
      "cell_type": "code",
      "execution_count": 44,
      "metadata": {
        "colab": {
          "base_uri": "https://localhost:8080/"
        },
        "id": "EUGGI4SmxNaG",
        "outputId": "b5edb32b-e1c4-4023-f315-1e8d5c2b3e82"
      },
      "outputs": [
        {
          "output_type": "stream",
          "name": "stdout",
          "text": [
            "1267\n",
            "1267\n",
            "1267\n"
          ]
        }
      ],
      "source": [
        "# 'name', - ???\n",
        "one_to_one = df_cat_dat_total.groupby(['artsy_id', 'name', 'link', 'artist', 'price', 'parsing_date', 'updating_date'])['category_id'].agg(['count']).reset_index()\n",
        "\n",
        "print(df_cat_dat_total['artsy_id'].nunique())\n",
        "print(one_to_one['artsy_id'].count())\n",
        "print(one_to_one['artsy_id'].nunique())"
      ]
    },
    {
      "cell_type": "code",
      "execution_count": 45,
      "metadata": {
        "id": "8EOTm5XMh54h"
      },
      "outputs": [],
      "source": [
        "save_df_file(df_cat_dat_total, '/artsy_temp_data_add.csv', 'backup') # 4. Save df to csv file\n",
        "#save_df_file(df_cat_dat_total, '/artsy_temp_data_new_gene.csv', 'backup') # 4. Save df to csv file"
      ]
    },
    {
      "cell_type": "markdown",
      "metadata": {
        "id": "ZS_6uxf4mtko"
      },
      "source": [
        "## Dict creating"
      ]
    },
    {
      "cell_type": "code",
      "execution_count": 46,
      "metadata": {
        "colab": {
          "base_uri": "https://localhost:8080/"
        },
        "id": "_oHreWONfZeS",
        "outputId": "9eb84af4-0809-459e-ce0b-090ea762326b"
      },
      "outputs": [
        {
          "output_type": "stream",
          "name": "stdout",
          "text": [
            "<class 'pandas.core.frame.DataFrame'>\n",
            "Int64Index: 2054 entries, 7 to 4565\n",
            "Data columns (total 13 columns):\n",
            " #   Column            Non-Null Count  Dtype  \n",
            "---  ------            --------------  -----  \n",
            " 0   artsy_id          2054 non-null   object \n",
            " 1   name              2054 non-null   object \n",
            " 2   link              2054 non-null   object \n",
            " 3   year              2051 non-null   object \n",
            " 4   artist            2054 non-null   object \n",
            " 5   gallery           2054 non-null   object \n",
            " 6   price             2054 non-null   object \n",
            " 7   gene_id           2054 non-null   object \n",
            " 8   category_id       2054 non-null   object \n",
            " 9   parsing_date      2054 non-null   object \n",
            " 10  updating_date     2054 non-null   object \n",
            " 11  pages_count       2054 non-null   float64\n",
            " 12  second_page_link  0 non-null      float64\n",
            "dtypes: float64(2), object(11)\n",
            "memory usage: 224.7+ KB\n"
          ]
        }
      ],
      "source": [
        "#df_cat_dat_total = open_file_csv('/artsy_temp_data_11.csv', 'backup') # 3. Open file.csv\n",
        "# '/artsy_temp_data_add.csv'\n",
        "\n",
        "df_cat_dat_total.info()"
      ]
    },
    {
      "cell_type": "code",
      "execution_count": null,
      "metadata": {
        "id": "nqBQJbpAgTWX"
      },
      "outputs": [],
      "source": [
        "#df_cat_dat_total['category_id'] = df_cat_dat_total['category_id'].dropna().apply(lambda x: str(x) if len(str(x))==cat_id_len else ('0'*(cat_id_len-len(str(x)))+str(x)))\n",
        "#df_cat_dat_total['gene_id'] = df_cat_dat_total['gene_id'].dropna().apply(lambda x: str(x) if len(str(x))==gen_id_len else ('0'*(gen_id_len-len(str(x)))+str(x)))"
      ]
    },
    {
      "cell_type": "code",
      "execution_count": 47,
      "metadata": {
        "colab": {
          "base_uri": "https://localhost:8080/"
        },
        "id": "o7nx1MZRgctp",
        "outputId": "1bcf243a-ea8e-4169-9865-fe0672180d62"
      },
      "outputs": [
        {
          "output_type": "execute_result",
          "data": {
            "text/plain": [
              "array(['03', '07', '08', '06', '05', '02', '09'], dtype=object)"
            ]
          },
          "metadata": {},
          "execution_count": 47
        }
      ],
      "source": [
        "df_cat_dat_total['category_id'].unique()"
      ]
    },
    {
      "cell_type": "markdown",
      "metadata": {
        "id": "oy5z7vjxUDA1"
      },
      "source": [
        "### artworks_dict"
      ]
    },
    {
      "cell_type": "markdown",
      "metadata": {
        "id": "HQ1NM7QYUGhb"
      },
      "source": [
        "#### initiation"
      ]
    },
    {
      "cell_type": "code",
      "execution_count": null,
      "metadata": {
        "id": "r3Kw50TXYFHw"
      },
      "outputs": [],
      "source": [
        "#artworks_dict = {'artsy_id': {'name': 'Portrait of a Man in Armour', \n",
        "#                              'link': 'https://d32dm0rphc51dk.cloudfront.net/yaB__0LXFvbXC4jiUK4Vpw/large.jpg', \n",
        "#                              'year': 'ca. 1560',\n",
        "#                              'artist_id': '000000', # Jacopo Bassano\n",
        "#                              -- 'gallery_id': '000000', # Robilant+Voena\n",
        "#                              'price': 'Price on request',\n",
        "#                              'gene_id': ['21603', ''],\n",
        "#                              'category_id': ['03', '']}}"
      ]
    },
    {
      "cell_type": "markdown",
      "metadata": {
        "id": "9eLcIq8yjCmh"
      },
      "source": [
        "***One to one connections***\n",
        "\n",
        "Let's create a dict from complete data."
      ]
    },
    {
      "cell_type": "code",
      "execution_count": 48,
      "metadata": {
        "colab": {
          "base_uri": "https://localhost:8080/"
        },
        "id": "DNxZoTXvi9Du",
        "outputId": "1c730c11-aa73-406e-a285-bbeb589794c1"
      },
      "outputs": [
        {
          "output_type": "stream",
          "name": "stdout",
          "text": [
            "1267\n",
            "1267\n",
            "1267\n"
          ]
        }
      ],
      "source": [
        "# 'name' - ??? !!!\n",
        "one_to_one = df_cat_dat_total.groupby(['artsy_id', 'name', 'link', 'artist', 'price', 'parsing_date', 'updating_date'])['category_id'].agg(['count']).reset_index().drop('count', axis=1)\n",
        "\n",
        "check_id_list = one_to_one['artsy_id'].sample(10).tolist()\n",
        "\n",
        "print(df_cat_dat_total['artsy_id'].nunique())\n",
        "print(one_to_one['artsy_id'].count())\n",
        "print(one_to_one['artsy_id'].nunique())"
      ]
    },
    {
      "cell_type": "code",
      "execution_count": 49,
      "metadata": {
        "colab": {
          "base_uri": "https://localhost:8080/"
        },
        "id": "5x440udYo9iB",
        "outputId": "25dc8b33-b9ec-4587-9eeb-6a5f56827760"
      },
      "outputs": [
        {
          "output_type": "execute_result",
          "data": {
            "text/plain": [
              "1267"
            ]
          },
          "metadata": {},
          "execution_count": 49
        }
      ],
      "source": [
        "# Dict creation\n",
        "artworks_dict = one_to_one.set_index('artsy_id').to_dict('index')\n",
        "len(artworks_dict)"
      ]
    },
    {
      "cell_type": "code",
      "execution_count": 50,
      "metadata": {
        "colab": {
          "base_uri": "https://localhost:8080/"
        },
        "id": "gUp8kJW7pRWx",
        "outputId": "17b2ddfa-a584-4d75-bb32-83c84746923d"
      },
      "outputs": [
        {
          "output_type": "stream",
          "name": "stdout",
          "text": [
            "{'name': 'Untitled', 'link': 'https://d32dm0rphc51dk.cloudfront.net/2gQNp8bAyRcjcEizdqGliQ/large.jpg', 'artist': 'George MerhebUntitled, 2020Mark Hachem GalleryPrice on request ', 'price': 'Price on request ', 'parsing_date': '2022-04-20', 'updating_date': '2022-04-20'}\n",
            "{'name': 'Reka Kahlo (Hongrie)', 'link': 'https://d32dm0rphc51dk.cloudfront.net/GiE8-6JAtlsGDnHHp3xA5Q/large.jpg', 'artist': 'Florina Aledo PerezReka Kahlo (Hongrie), 2019Galerie Deza€950 ', 'price': '€950 ', 'parsing_date': '2022-04-20', 'updating_date': '2022-04-20'}\n",
            "{'name': 'Quit Bitching', 'link': 'https://d32dm0rphc51dk.cloudfront.net/CoZGDyaEBoJ3Zkf-foDUqQ/large.jpg', 'artist': 'Elyse PignoletQuit Bitching, 2021Track 16 GalleryUS$1,200 ', 'price': 'US$1,200 ', 'parsing_date': '2022-04-20', 'updating_date': '2022-04-20'}\n",
            "{'name': 'Nature morte et tricolore', 'link': 'https://d32dm0rphc51dk.cloudfront.net/5ZaxEMTXCrkHYDnAONVxDQ/large.jpg', 'artist': 'Marguerite LouppeNature morte et tricolore, n.d.Rosenberg & Co.Price on request ', 'price': 'Price on request ', 'parsing_date': '2022-04-20', 'updating_date': '2022-04-20'}\n",
            "{'name': 'Bronx Icon 3', 'link': 'https://d32dm0rphc51dk.cloudfront.net/QghILuDhV0BOKB-o05ihDw/large.jpg', 'artist': 'Cope2Bronx Icon 3, 2021Outsiders Galerie€1,100 ', 'price': '€1,100 ', 'parsing_date': '2022-04-20', 'updating_date': '2022-04-20'}\n",
            "{'name': 'The Center Will Not Hold', 'link': 'https://d32dm0rphc51dk.cloudfront.net/-e9YDJL5EX_Hc5GzbXiFBg/large.jpg', 'artist': 'Robin RoiThe Center Will Not Hold, 2019440 GalleryUS$2,800 ', 'price': 'US$2,800 ', 'parsing_date': '2022-04-20', 'updating_date': '2022-04-20'}\n",
            "{'name': 'Untitled (January 30)', 'link': 'https://d32dm0rphc51dk.cloudfront.net/3gtoozKwlDfTGEezbFR5iw/large.jpg', 'artist': 'Lorser FeitelsonUntitled (January 30), 1971Louis Stern Fine ArtsUS$95,000 ', 'price': 'US$95,000 ', 'parsing_date': '2022-04-20', 'updating_date': '2022-04-20'}\n",
            "{'name': 'Daniel', 'link': 'https://d32dm0rphc51dk.cloudfront.net/BqlYqn1SyJcOmb9UtlIOAw/large.jpg', 'artist': 'Cole MayDaniel, 2021THEFOURTH€800 ', 'price': '€800 ', 'parsing_date': '2022-04-20', 'updating_date': '2022-04-20'}\n",
            "{'name': 'Untitled, MT Inv. No 3-8-236', 'link': 'https://d32dm0rphc51dk.cloudfront.net/Kl9jNBhxZgHcJ5OZMoJ6WA/large.jpg', 'artist': 'Miroslav TichýUntitled, MT Inv. No 3-8-236, Unknown, ca. 1970, 1990CHRISTOPHE GUYE GALERIE€6,000–€9,000 ', 'price': '€6,000–€9,000 ', 'parsing_date': '2022-04-20', 'updating_date': '2022-04-20'}\n",
            "{'name': 'Untitled (Bleach Painting)', 'link': 'https://d32dm0rphc51dk.cloudfront.net/9F5cO4Xl9u2G9IHyMwOBUQ/large.jpg', 'artist': 'Allan McCollumUntitled (Bleach Painting), 1970Galerie Thomas SchultePrice on request ', 'price': 'Price on request ', 'parsing_date': '2022-04-20', 'updating_date': '2022-04-20'}\n"
          ]
        }
      ],
      "source": [
        "for id in check_id_list:\n",
        "  print(artworks_dict[id])"
      ]
    },
    {
      "cell_type": "markdown",
      "metadata": {
        "id": "FRMDWRqKUGH3"
      },
      "source": [
        "#### expansion"
      ]
    },
    {
      "cell_type": "code",
      "execution_count": null,
      "metadata": {
        "id": "FdgGgO5F-uiH"
      },
      "outputs": [],
      "source": [
        "#artworks_dict = open_dict(artwork_dict)"
      ]
    },
    {
      "cell_type": "markdown",
      "metadata": {
        "id": "eMNK7tHCpfi_"
      },
      "source": [
        "Columns with NaNs:\n",
        "- 'name' (not always), 'year', 'gallery'\n",
        "- ***one to one connection***\n",
        "- info is in the **df**"
      ]
    },
    {
      "cell_type": "code",
      "execution_count": 51,
      "metadata": {
        "id": "B06Bobt8sI87"
      },
      "outputs": [],
      "source": [
        "# one to one connection from df\n",
        "def artwork_dict_expan_oto(df, main_dict, param):\n",
        "  group_df = df.groupby(['artsy_id', param])['category_id'].agg(['count']).reset_index().drop('count', axis=1)\n",
        "  group_dict = group_df.set_index('artsy_id').to_dict('index')\n",
        "\n",
        "  for k in main_dict:\n",
        "    if k in group_dict.keys():\n",
        "      main_dict[k].update(group_dict[k])\n",
        "    else:\n",
        "      main_dict[k].update({param: ' '}) # !!!!\n",
        "\n",
        "# one to many connection from df\n",
        "def artwork_dict_expan_otm(df, main_dict, param):\n",
        "  group_df = df.groupby(['artsy_id'])[param].apply(list).apply(set).apply(list).reset_index(name=param)\n",
        "  group_dict = group_df.set_index('artsy_id').to_dict('index')\n",
        "\n",
        "  for k in main_dict:\n",
        "    if k in group_dict.keys():\n",
        "      main_dict[k].update(group_dict[k])\n",
        "    else:\n",
        "      main_dict[k].update({param: [' ']}) # !!!!"
      ]
    },
    {
      "cell_type": "code",
      "execution_count": 52,
      "metadata": {
        "id": "fDpLo9TWq4qr"
      },
      "outputs": [],
      "source": [
        "# name - !!!!!!\n",
        "#artwork_dict_expan_oto(df_cat_dat_total, artworks_dict, 'name')\n",
        "# year\n",
        "artwork_dict_expan_oto(df_cat_dat_total, artworks_dict, 'year')\n",
        "# gallery\n",
        "artwork_dict_expan_oto(df_cat_dat_total, artworks_dict, 'gallery')"
      ]
    },
    {
      "cell_type": "code",
      "execution_count": 53,
      "metadata": {
        "colab": {
          "base_uri": "https://localhost:8080/"
        },
        "id": "FODpd0tUru2i",
        "outputId": "05372e19-d620-4853-ea9f-06b1ad37c336"
      },
      "outputs": [
        {
          "output_type": "stream",
          "name": "stdout",
          "text": [
            "name: Untitled year: 2020 gallery: Mark Hachem Gallery\n",
            "name: Reka Kahlo (Hongrie) year: 2019 gallery: Galerie Deza\n",
            "name: Quit Bitching year: 2021 gallery: Track 16 Gallery\n",
            "name: Nature morte et tricolore year: n.d. gallery: Rosenberg & Co.\n",
            "name: Bronx Icon 3 year: 2021 gallery: Outsiders Galerie\n",
            "name: The Center Will Not Hold year: 2019 gallery: 440 Gallery\n",
            "name: Untitled (January 30) year: 1971 gallery: Louis Stern Fine Arts\n",
            "name: Daniel year: 2021 gallery: THEFOURTH\n",
            "name: Untitled, MT Inv. No 3-8-236 year: Unknownca. 19701990 gallery: CHRISTOPHE GUYE GALERIE\n",
            "name: Untitled (Bleach Painting) year: 1970 gallery: Galerie Thomas Schulte\n"
          ]
        }
      ],
      "source": [
        "for id in check_id_list:\n",
        "  print('name:', artworks_dict[id]['name'], 'year:', artworks_dict[id]['year'], 'gallery:', artworks_dict[id]['gallery'])"
      ]
    },
    {
      "cell_type": "markdown",
      "metadata": {
        "id": "qlAlLzG1ytV3"
      },
      "source": [
        "Columns with repeating values:\n",
        "- 'gene_id', 'category_id'\n",
        "- list type parametr - ***one to many connection***\n",
        "- id info is in the **df**"
      ]
    },
    {
      "cell_type": "code",
      "source": [
        "# category_id\n",
        "artwork_dict_expan_otm(df_cat_dat_total, artworks_dict, 'category_id')\n",
        "# gene_id\n",
        "artwork_dict_expan_otm(df_cat_dat_total, artworks_dict, 'gene_id')"
      ],
      "metadata": {
        "id": "qQSVs1eHBGO_"
      },
      "execution_count": 54,
      "outputs": []
    },
    {
      "cell_type": "code",
      "execution_count": 55,
      "metadata": {
        "colab": {
          "base_uri": "https://localhost:8080/"
        },
        "id": "QQSsw0MMyvm9",
        "outputId": "3ac3ab1b-5c67-400f-e88b-de9b0881b502"
      },
      "outputs": [
        {
          "output_type": "stream",
          "name": "stdout",
          "text": [
            "category_id: ['06'] gene_id: ['06097']\n",
            "category_id: ['03'] gene_id: ['03119']\n",
            "category_id: ['06'] gene_id: ['06172']\n",
            "category_id: ['02'] gene_id: ['02155', '02174']\n",
            "category_id: ['06'] gene_id: ['06154']\n",
            "category_id: ['06'] gene_id: ['06026']\n",
            "category_id: ['05'] gene_id: ['05069']\n",
            "category_id: ['02', '03'] gene_id: ['03248', '02040']\n",
            "category_id: ['06'] gene_id: ['06150']\n",
            "category_id: ['06'] gene_id: ['06078']\n"
          ]
        }
      ],
      "source": [
        "for id in check_id_list:\n",
        "  print('category_id:', artworks_dict[id]['category_id'], 'gene_id:', artworks_dict[id]['gene_id'])"
      ]
    },
    {
      "cell_type": "code",
      "execution_count": 56,
      "metadata": {
        "id": "t4LW0ISv-lP7"
      },
      "outputs": [],
      "source": [
        "save_dict(artworks_dict, '/artsy_genom_artwork_dict_add.txt', 'backup') # 1. Save json dict\n",
        "#save_dict(artworks_dict, '/artsy_genom_artwork_dict_new_gene.txt', 'backup') # 1. Save json dict"
      ]
    },
    {
      "cell_type": "markdown",
      "metadata": {
        "id": "YdkvYpZekCq9"
      },
      "source": [
        "#### artists name revision"
      ]
    },
    {
      "cell_type": "code",
      "execution_count": 336,
      "metadata": {
        "id": "hBHwS7uVgvTs"
      },
      "outputs": [],
      "source": [
        "#artworks_dict = open_dict(artwork_dict, 'live')\n",
        "#print(len(artworks_dict))"
      ]
    },
    {
      "cell_type": "code",
      "execution_count": 57,
      "metadata": {
        "colab": {
          "base_uri": "https://localhost:8080/"
        },
        "id": "tPV5ZY4U_6H5",
        "outputId": "34d3d4c3-659c-44de-ec28-28fcd1d70604"
      },
      "outputs": [
        {
          "output_type": "execute_result",
          "data": {
            "text/plain": [
              "{'624c4069783e3c000b7071bb': {'artist': 'George MerhebUntitled, 2020Mark Hachem GalleryPrice on request ',\n",
              "  'category_id': ['06'],\n",
              "  'gallery': 'Mark Hachem Gallery',\n",
              "  'gene_id': ['06097'],\n",
              "  'link': 'https://d32dm0rphc51dk.cloudfront.net/2gQNp8bAyRcjcEizdqGliQ/large.jpg',\n",
              "  'name': 'Untitled',\n",
              "  'parsing_date': '2022-04-20',\n",
              "  'price': 'Price on request ',\n",
              "  'updating_date': '2022-04-20',\n",
              "  'year': '2020'}}"
            ]
          },
          "metadata": {},
          "execution_count": 57
        }
      ],
      "source": [
        "filtered_dict = {k: v for k, v in artworks_dict.items() if k == check_id_list[0]} # v['artist_id'] == '00047'\n",
        "filtered_dict"
      ]
    },
    {
      "cell_type": "code",
      "execution_count": 58,
      "metadata": {
        "colab": {
          "base_uri": "https://localhost:8080/"
        },
        "id": "ad3Qbq18_-fb",
        "outputId": "e46cc7a7-de8f-41f7-a84f-8d3b9568bebe"
      },
      "outputs": [
        {
          "output_type": "stream",
          "name": "stdout",
          "text": [
            "1193\n"
          ]
        }
      ],
      "source": [
        "# Old data\n",
        "artists_name_list_old = [v['artist'] for v in artworks_dict.values()]\n",
        "\n",
        "artists_name_list_old_ = list(set(artists_name_list_old))\n",
        "print(len(artists_name_list_old_))"
      ]
    },
    {
      "cell_type": "code",
      "execution_count": 59,
      "metadata": {
        "colab": {
          "base_uri": "https://localhost:8080/"
        },
        "id": "oJBcep98ACH_",
        "outputId": "607a887e-f98d-4e68-8c86-13a0e60cadff"
      },
      "outputs": [
        {
          "output_type": "execute_result",
          "data": {
            "text/plain": [
              "['Gennaro CorbiItinerario impossibile (Impossible itinerary), 1982Koine Arte€2,000 ',\n",
              " 'Anne ValverdeYou are here (moyen format), 2021Bel-Air Fine ArtPrice on request ',\n",
              " 'Roger RaveelZelfportret met schilderij, 1974Edouard Simoens GalleryPrice on request ',\n",
              " 'Laurence PhilomeneLight signals, 2020Galerie C.O.AC$2,000 ',\n",
              " 'Takashi MurakamiThis World is Cruel 這個無情的世界 村上隆, 2016XUan Art Research CenterUS$4,000 ',\n",
              " 'Laurence PhilomeneSelf-portrait with bedtime face mask, 2020Galerie C.O.AC$750 ',\n",
              " \"Hugo PondzL'arrivée du printemps, 2021Outsiders Galerie€920 \",\n",
              " 'Ash MargaretPretty Boy, 2021Dab ArtUS$1,600 ',\n",
              " 'ShmutzYouth, 2021SmART Coast Gallery€5,300 ',\n",
              " 'Nayla KaramThe Floating House, 2014ArtscoopsUS$1,200 ']"
            ]
          },
          "metadata": {},
          "execution_count": 59
        }
      ],
      "source": [
        "sample(artists_name_list_old, 10)"
      ]
    },
    {
      "cell_type": "code",
      "execution_count": 60,
      "metadata": {
        "id": "Nng70o9TACwP"
      },
      "outputs": [],
      "source": [
        "for v in artworks_dict.values():\n",
        "  v.update({'artist': v['artist'].replace(v['name'], '') if v['name']!=' ' else v['artist']})\n",
        "  v.update({'artist': v['artist'].replace(v['year'], '') if v['year']!=' ' else v['artist']})\n",
        "  v.update({'artist': v['artist'].replace(v['gallery'], '') if v['gallery']!=' ' else v['artist']})\n",
        "  v.update({'artist': v['artist'].replace(v['price'], '') if v['price']!=' ' else v['artist']})\n",
        "  v.update({'artist': 'Unknown' if len(v['artist'])==0 else v['artist']})\n",
        "  v.update({'artist': v['artist'].strip(u'\\u200b')})\n",
        "  v.update({'artist': re.sub(r'\\xa0|\\n|\\t', ' ', v['artist'])})\n",
        "  v.update({'artist': v['artist'].strip()})\n",
        "  v.update({'artist': v['artist'][:-1] if v['artist'][-1:]==',' else v['artist']})\n",
        "  try:\n",
        "    v.update({'artist': v['artist'][1:] if v['artist'][0]==',' else v['artist']})\n",
        "  except:\n",
        "    pass\n",
        "  v.update({'artist': v['artist'].strip()})\n",
        "  v.update({'artist': 'Unknown' if len(v['artist'])==0 else v['artist']})"
      ]
    },
    {
      "cell_type": "code",
      "execution_count": 61,
      "metadata": {
        "colab": {
          "base_uri": "https://localhost:8080/"
        },
        "id": "WY0ZiXc6AIVR",
        "outputId": "394d18ce-334c-4696-8d1c-96cfd007eaa7"
      },
      "outputs": [
        {
          "output_type": "execute_result",
          "data": {
            "text/plain": [
              "{'624c4069783e3c000b7071bb': {'artist': 'George Merheb',\n",
              "  'category_id': ['06'],\n",
              "  'gallery': 'Mark Hachem Gallery',\n",
              "  'gene_id': ['06097'],\n",
              "  'link': 'https://d32dm0rphc51dk.cloudfront.net/2gQNp8bAyRcjcEizdqGliQ/large.jpg',\n",
              "  'name': 'Untitled',\n",
              "  'parsing_date': '2022-04-20',\n",
              "  'price': 'Price on request ',\n",
              "  'updating_date': '2022-04-20',\n",
              "  'year': '2020'}}"
            ]
          },
          "metadata": {},
          "execution_count": 61
        }
      ],
      "source": [
        "filtered_dict = {k: v for k, v in artworks_dict.items() if k == check_id_list[0]} # v['artist_id'] == '00047'\n",
        "filtered_dict"
      ]
    },
    {
      "cell_type": "code",
      "execution_count": 62,
      "metadata": {
        "colab": {
          "base_uri": "https://localhost:8080/"
        },
        "id": "AIsyhMNmALRf",
        "outputId": "708dff30-8475-4275-8161-a956db528379"
      },
      "outputs": [
        {
          "output_type": "stream",
          "name": "stdout",
          "text": [
            "498\n"
          ]
        }
      ],
      "source": [
        "# New data\n",
        "artists_name_list_new = [v['artist'] for v in artworks_dict.values()]\n",
        "\n",
        "artists_name_list_new_ = list(set(artists_name_list_new))\n",
        "print(len(artists_name_list_new_))"
      ]
    },
    {
      "cell_type": "code",
      "execution_count": 63,
      "metadata": {
        "colab": {
          "base_uri": "https://localhost:8080/"
        },
        "id": "ktQmyVUUATLC",
        "outputId": "cd9a5cfb-7156-409e-c6c8-8baa7a8b7e01"
      },
      "outputs": [
        {
          "output_type": "execute_result",
          "data": {
            "text/plain": [
              "['Kevin McNamee-Tweed',\n",
              " 'Lasse Bruun',\n",
              " 'Ed Ruscha',\n",
              " 'Paul Insect',\n",
              " 'Michael Light',\n",
              " 'Michael Ruetz',\n",
              " 'Howard Hodgkin',\n",
              " 'Keizo Motoda 元田 敬三',\n",
              " 'Neon Mary',\n",
              " 'Mikoto Yoshinaga']"
            ]
          },
          "metadata": {},
          "execution_count": 63
        }
      ],
      "source": [
        "sample(artists_name_list_new, 10)"
      ]
    },
    {
      "cell_type": "code",
      "execution_count": 64,
      "metadata": {
        "colab": {
          "base_uri": "https://localhost:8080/"
        },
        "id": "areJgHrwm5a_",
        "outputId": "98e1ea25-c906-43d1-ef07-85a1072e571c"
      },
      "outputs": [
        {
          "output_type": "execute_result",
          "data": {
            "text/plain": [
              "1193"
            ]
          },
          "metadata": {},
          "execution_count": 64
        }
      ],
      "source": [
        "artists_name_list_diff_1 = list(set(artists_name_list_old_) - set(artists_name_list_new_))\n",
        "len(artists_name_list_diff_1)"
      ]
    },
    {
      "cell_type": "code",
      "execution_count": 65,
      "metadata": {
        "colab": {
          "base_uri": "https://localhost:8080/"
        },
        "id": "8YOm9hS1m_YK",
        "outputId": "a5d5cbef-aa04-45af-ce0e-431bf7f119fd"
      },
      "outputs": [
        {
          "output_type": "execute_result",
          "data": {
            "text/plain": [
              "['Sidd Murray-ClarkBluelith, 2021Medel Gallery ShuUS$3,600 ',\n",
              " 'Sisqo NdombeUntitled, 2022TAAG GalleryUS$3,850 ',\n",
              " 'Gianni PiacentinoLIGHT IVORY PORTAL, 1966-67Galleria Enrico AstuniPrice on request ',\n",
              " \"Tom PortaKyoto river, 2022Galleria Punto Sull'ArtePrice on request \",\n",
              " 'Sidd Murray-ClarkCustard Shark, 2020Medel Gallery ShuUS$3,500 ',\n",
              " 'ShmutzHorrible to be Good, 2021SmART Coast Gallery€1,200 ',\n",
              " 'Anne ValverdeWeek End (grand format), 2021Bel-Air Fine ArtPrice on request ',\n",
              " 'Robin RoiAnnunciation, 2020440 GalleryUS$2,600 ',\n",
              " 'Zavier EllisExodus, 2022Blond ContemporaryPrice on request ',\n",
              " 'Cope2True Legend , 2021Outsiders Galerie€5,900 ']"
            ]
          },
          "metadata": {},
          "execution_count": 65
        }
      ],
      "source": [
        "sample(artists_name_list_diff_1, 10)"
      ]
    },
    {
      "cell_type": "code",
      "execution_count": 66,
      "metadata": {
        "colab": {
          "base_uri": "https://localhost:8080/"
        },
        "id": "tlKJfF3T2wl2",
        "outputId": "4ae54cb0-94e4-4429-a569-88d7ef29ea10"
      },
      "outputs": [
        {
          "output_type": "execute_result",
          "data": {
            "text/plain": [
              "498"
            ]
          },
          "metadata": {},
          "execution_count": 66
        }
      ],
      "source": [
        "artists_name_list_diff_2 = list(set(artists_name_list_new_) - set(artists_name_list_old_))\n",
        "len(artists_name_list_diff_2)"
      ]
    },
    {
      "cell_type": "code",
      "execution_count": 67,
      "metadata": {
        "colab": {
          "base_uri": "https://localhost:8080/"
        },
        "id": "glZ9Skau2yQq",
        "outputId": "ef3b3031-e48a-4555-efbb-f762008c0dd9"
      },
      "outputs": [
        {
          "output_type": "execute_result",
          "data": {
            "text/plain": [
              "['Gori Mora',\n",
              " 'Pierre Bellemare',\n",
              " 'Benjamin Rothstein',\n",
              " 'Karpart',\n",
              " 'David Johndrow',\n",
              " 'Wanda Koop',\n",
              " 'Peeta',\n",
              " 'Michael Ballou',\n",
              " 'Vanessa Jackson',\n",
              " 'Carlos Gamez de Francisco']"
            ]
          },
          "metadata": {},
          "execution_count": 67
        }
      ],
      "source": [
        "sample(artists_name_list_diff_2, 10)"
      ]
    },
    {
      "cell_type": "code",
      "execution_count": 68,
      "metadata": {
        "colab": {
          "base_uri": "https://localhost:8080/"
        },
        "id": "4ogJaYTTL-Ij",
        "outputId": "0c1ff93b-16ea-4c25-d177-a83932a6e9b5"
      },
      "outputs": [
        {
          "output_type": "execute_result",
          "data": {
            "text/plain": [
              "2"
            ]
          },
          "metadata": {},
          "execution_count": 68
        }
      ],
      "source": [
        "not_title_name = []\n",
        "for n in artists_name_list_new:\n",
        "  if n[0].isupper()==False and n[0].isdigit()==False: # n.istitle() doesn't work correctly\n",
        "    not_title_name.append(n)\n",
        "not_title_name = [n for n in not_title_name if n != 'unknown']\n",
        "not_title_name = list(set(not_title_name))\n",
        "len(not_title_name)"
      ]
    },
    {
      "cell_type": "code",
      "execution_count": 69,
      "metadata": {
        "colab": {
          "base_uri": "https://localhost:8080/"
        },
        "id": "A3WVRonaM2N1",
        "outputId": "1282202a-ada4-46b3-bbfe-7123cd0bc46f"
      },
      "outputs": [
        {
          "output_type": "execute_result",
          "data": {
            "text/plain": [
              "['[email protected]', 'erikaintheisland']"
            ]
          },
          "metadata": {},
          "execution_count": 69
        }
      ],
      "source": [
        "sample(not_title_name, 2) # 10"
      ]
    },
    {
      "cell_type": "code",
      "execution_count": null,
      "metadata": {
        "id": "Q_JbBy_cOgj3"
      },
      "outputs": [],
      "source": [
        "# !!!!!!!!!"
      ]
    },
    {
      "cell_type": "code",
      "execution_count": null,
      "metadata": {
        "colab": {
          "base_uri": "https://localhost:8080/"
        },
        "id": "9CvF-_4wdSxl",
        "outputId": "e89984ac-15c6-427d-b3fc-848546b6ec8e"
      },
      "outputs": [
        {
          "output_type": "execute_result",
          "data": {
            "text/plain": [
              "['gerrit rietveldt',\n",
              " ':mentalKLINIK',\n",
              " 'gt2P',\n",
              " 'david/nicolas',\n",
              " 'bahraini—danish',\n",
              " 'chmara.rosinke',\n",
              " 'nendo',\n",
              " 'antoine phillippon',\n",
              " 'wells coates',\n",
              " 'nendo,',\n",
              " 'elias sequra pasquale',\n",
              " '&Tradition',\n",
              " 'morito ebine',\n",
              " 'touche—touche']"
            ]
          },
          "metadata": {},
          "execution_count": 243
        }
      ],
      "source": [
        "not_title_name"
      ]
    },
    {
      "cell_type": "code",
      "execution_count": null,
      "metadata": {
        "colab": {
          "base_uri": "https://localhost:8080/",
          "height": 35
        },
        "id": "bwXITxz6NJOq",
        "outputId": "7ce7f7fd-7e1c-4e64-f9fa-f78a01be616d"
      },
      "outputs": [
        {
          "output_type": "execute_result",
          "data": {
            "text/plain": [
              "'&Tradition'"
            ],
            "application/vnd.google.colaboratory.intrinsic+json": {
              "type": "string"
            }
          },
          "metadata": {},
          "execution_count": 252
        }
      ],
      "source": [
        "n = not_title_name[11]\n",
        "n\n",
        "# ', Florence'\n",
        "# ', Venice'\n",
        "# 'nendo,'"
      ]
    },
    {
      "cell_type": "code",
      "execution_count": null,
      "metadata": {
        "colab": {
          "base_uri": "https://localhost:8080/"
        },
        "id": "OQiIU4oKLCCN",
        "outputId": "6444812e-4141-4d84-8b5e-ad6b3c2a5b6e"
      },
      "outputs": [
        {
          "output_type": "stream",
          "name": "stdout",
          "text": [
            "n False\n",
            "e False\n",
            "n False\n",
            "d False\n",
            "o False\n",
            ", True\n",
            "True\n"
          ]
        }
      ],
      "source": [
        "for l in n:\n",
        "  print(l, l==',')\n",
        "print(n[-1]==',') # 0"
      ]
    },
    {
      "cell_type": "code",
      "execution_count": null,
      "metadata": {
        "colab": {
          "base_uri": "https://localhost:8080/"
        },
        "id": "ctqZtJ86NxZz",
        "outputId": "7efbdd55-cdee-4807-e858-88ca63e42d0f"
      },
      "outputs": [
        {
          "output_type": "execute_result",
          "data": {
            "text/plain": [
              "3"
            ]
          },
          "metadata": {},
          "execution_count": 253
        }
      ],
      "source": [
        "filtered_dict = {k: v for k, v in artworks_dict.items() if v['artist']=='&Tradition'}\n",
        "len(filtered_dict)"
      ]
    },
    {
      "cell_type": "code",
      "source": [
        "filtered_dict"
      ],
      "metadata": {
        "colab": {
          "base_uri": "https://localhost:8080/"
        },
        "id": "VDY7hK-uCJsh",
        "outputId": "04eca4c6-4981-4c7c-e720-d3fab84018c1"
      },
      "execution_count": null,
      "outputs": [
        {
          "output_type": "execute_result",
          "data": {
            "text/plain": [
              "{'5fe1f9d309672600114e2bfa': {'artist': '&Tradition',\n",
              "  'category_id': ['12'],\n",
              "  'gallery': 'THEFOURTH',\n",
              "  'gene_id': ['12020', '12025'],\n",
              "  'link': 'https://d32dm0rphc51dk.cloudfront.net/sra72EpyMQR11YmeYACbfw/large.jpg',\n",
              "  'name': 'Lato LN9 Table ',\n",
              "  'parsing_date': '2022-04-19',\n",
              "  'price': '€860 ',\n",
              "  'updating_date': '2022-04-19',\n",
              "  'year': '2010'},\n",
              " '5fe1fd20dca897001014a1eb': {'artist': '&Tradition',\n",
              "  'category_id': ['12'],\n",
              "  'gallery': 'THEFOURTH',\n",
              "  'gene_id': ['12004'],\n",
              "  'link': 'https://d32dm0rphc51dk.cloudfront.net/pZp33YMFbCaZphlb7ptG6A/large.jpg',\n",
              "  'name': 'Flowerpot VP7 Pendant ',\n",
              "  'parsing_date': '2022-04-19',\n",
              "  'price': '€670 ',\n",
              "  'updating_date': '2022-04-19',\n",
              "  'year': '1968'},\n",
              " '5fe302deb114a000129e5495': {'artist': '&Tradition',\n",
              "  'category_id': ['12'],\n",
              "  'gallery': 'THEFOURTH',\n",
              "  'gene_id': ['12020', '12025'],\n",
              "  'link': 'https://d32dm0rphc51dk.cloudfront.net/qAcfIoVZ_l6CybIGW-mzQw/large.jpg',\n",
              "  'name': 'Shuffle Table ',\n",
              "  'parsing_date': '2022-04-19',\n",
              "  'price': 'Sold ',\n",
              "  'updating_date': '2022-04-19',\n",
              "  'year': '2010'}}"
            ]
          },
          "metadata": {},
          "execution_count": 254
        }
      ]
    },
    {
      "cell_type": "code",
      "execution_count": null,
      "metadata": {
        "colab": {
          "base_uri": "https://localhost:8080/"
        },
        "id": "ueUMi9QAN8i0",
        "outputId": "5de6b929-56a3-449d-bf17-d4b1d5cfc9f8"
      },
      "outputs": [
        {
          "output_type": "execute_result",
          "data": {
            "text/plain": [
              "1"
            ]
          },
          "metadata": {},
          "execution_count": 247
        }
      ],
      "source": [
        "filtered_dict = {k: v for k, v in artworks_dict.items() if v['artist']=='nendo,'}\n",
        "len(filtered_dict)"
      ]
    },
    {
      "cell_type": "code",
      "execution_count": null,
      "metadata": {
        "colab": {
          "base_uri": "https://localhost:8080/"
        },
        "id": "zgcgT9jgOCYX",
        "outputId": "bb440427-4f90-4f7f-cb68-c49adcc8c3ec"
      },
      "outputs": [
        {
          "output_type": "execute_result",
          "data": {
            "text/plain": [
              "{'59f065077622dd4d9e4b6418': {'artist': 'nendo,',\n",
              "  'category_id': ['12'],\n",
              "  'gallery': 'Sèvres Porcelain Manufactory',\n",
              "  'gene_id': ['12013', '12008', '12025'],\n",
              "  'link': 'https://d32dm0rphc51dk.cloudfront.net/UiOTOwq7gJ5PGDfQYRLwjA/large.jpg',\n",
              "  'name': 'Hasu',\n",
              "  'parsing_date': '2022-04-19',\n",
              "  'price': 'Price on request ',\n",
              "  'updating_date': '2022-04-19',\n",
              "  'year': '2017'}}"
            ]
          },
          "metadata": {},
          "execution_count": 248
        }
      ],
      "source": [
        "filtered_dict"
      ]
    },
    {
      "cell_type": "code",
      "source": [
        "for k in filtered_dict.keys():\n",
        "  print(k)"
      ],
      "metadata": {
        "colab": {
          "base_uri": "https://localhost:8080/"
        },
        "id": "o0VLVaV5CeSh",
        "outputId": "741db0ed-e233-44b8-997c-35ab5357b951"
      },
      "execution_count": null,
      "outputs": [
        {
          "output_type": "stream",
          "name": "stdout",
          "text": [
            "59f065077622dd4d9e4b6418\n"
          ]
        }
      ]
    },
    {
      "cell_type": "code",
      "execution_count": null,
      "metadata": {
        "colab": {
          "base_uri": "https://localhost:8080/"
        },
        "id": "IGe0SC4fOcrm",
        "outputId": "3c40a362-9491-4887-fa97-e9053bb18056"
      },
      "outputs": [
        {
          "output_type": "execute_result",
          "data": {
            "text/plain": [
              "{'artist': 'nendo',\n",
              " 'category_id': ['12'],\n",
              " 'gallery': 'Sèvres Porcelain Manufactory',\n",
              " 'gene_id': ['12013', '12008', '12025'],\n",
              " 'link': 'https://d32dm0rphc51dk.cloudfront.net/UiOTOwq7gJ5PGDfQYRLwjA/large.jpg',\n",
              " 'name': 'Hasu',\n",
              " 'parsing_date': '2022-04-19',\n",
              " 'price': 'Price on request ',\n",
              " 'updating_date': '2022-04-19',\n",
              " 'year': '2017'}"
            ]
          },
          "metadata": {},
          "execution_count": 250
        }
      ],
      "source": [
        "artworks_dict['59f065077622dd4d9e4b6418'].update({'artist': 'nendo'}) # Unknown\n",
        "artworks_dict['59f065077622dd4d9e4b6418']"
      ]
    },
    {
      "cell_type": "code",
      "execution_count": null,
      "metadata": {
        "id": "TLp6cWrxOlyu"
      },
      "outputs": [],
      "source": [
        "# !!!!!!!!!!!!!"
      ]
    },
    {
      "cell_type": "code",
      "execution_count": 70,
      "metadata": {
        "colab": {
          "base_uri": "https://localhost:8080/"
        },
        "id": "gWEx5depOq94",
        "outputId": "ebe3ea3c-f5b9-42b4-b8d1-66cced99f19b"
      },
      "outputs": [
        {
          "output_type": "stream",
          "name": "stdout",
          "text": [
            "0\n"
          ]
        }
      ],
      "source": [
        "real_not_title_name = {}\n",
        "for n in not_title_name:\n",
        "  filt_dict_1 = {k: v for k, v in artworks_dict.items() if v['artist'] == n}\n",
        "  new_n_list = list(set([v['name'] + v['artist'] for v in filt_dict_1.values()]))\n",
        "  for n_n in new_n_list:\n",
        "    filt_dict_2 = {k: v for k, v in artworks_dict.items() if v['artist'] == n_n}\n",
        "    if len(filt_dict_2)>0:\n",
        "      real_not_title_name.update({n: n_n})\n",
        "\n",
        "print(len(real_not_title_name))"
      ]
    },
    {
      "cell_type": "code",
      "execution_count": null,
      "metadata": {
        "id": "64yZAzRPeW_Y"
      },
      "outputs": [],
      "source": [
        "# !!!!!!!!!!!!!!"
      ]
    },
    {
      "cell_type": "code",
      "execution_count": null,
      "metadata": {
        "colab": {
          "base_uri": "https://localhost:8080/"
        },
        "id": "yVAsIjzKXLy5",
        "outputId": "b50f0c4e-cfd4-4df5-9b1d-66427b25e740"
      },
      "outputs": [
        {
          "output_type": "execute_result",
          "data": {
            "text/plain": [
              "{'n and William Ladd': 'Steven and William Ladd'}"
            ]
          },
          "metadata": {},
          "execution_count": 106
        }
      ],
      "source": [
        "real_not_title_name\n",
        "# 'n and William Ladd' must be 'Steven and William Ladd' (name: Steve)\n",
        "# 'horsten Kirchhoff' must be 'Thorsten Kirchhoff' (name: T)"
      ]
    },
    {
      "cell_type": "code",
      "execution_count": null,
      "metadata": {
        "colab": {
          "base_uri": "https://localhost:8080/"
        },
        "id": "JLjgSuojKLCw",
        "outputId": "fbd10d8c-96a9-4a64-f338-a17de97420a0"
      },
      "outputs": [
        {
          "output_type": "execute_result",
          "data": {
            "text/plain": [
              "{'56296c0a726169642d000160': {'artist': 'n and William Ladd',\n",
              "  'category_id': ['10'],\n",
              "  'gallery': 'Saint Louis Art Museum',\n",
              "  'gene_id': ['10005'],\n",
              "  'link': 'https://d32dm0rphc51dk.cloudfront.net/ywNOVSVs7bot7KElvh_TBw/large.jpg',\n",
              "  'name': 'Steve',\n",
              "  'parsing_date': '2022-04-19',\n",
              "  'price': ' ',\n",
              "  'updating_date': '2022-04-19',\n",
              "  'year': '2014'},\n",
              " '564b5bf04b848064aa0000e8': {'artist': 'n and William Ladd',\n",
              "  'category_id': ['10'],\n",
              "  'gallery': 'Mingei International Museum',\n",
              "  'gene_id': ['10005'],\n",
              "  'link': 'https://d32dm0rphc51dk.cloudfront.net/awaOMMtcpWF8vgt_3MKpMA/large.jpg',\n",
              "  'name': 'Steve',\n",
              "  'parsing_date': '2022-04-19',\n",
              "  'price': ' ',\n",
              "  'updating_date': '2022-04-19',\n",
              "  'year': '2012'}}"
            ]
          },
          "metadata": {},
          "execution_count": 107
        }
      ],
      "source": [
        "filtered_dict = {k: v for k, v in artworks_dict.items() if v['artist'] in real_not_title_name.keys()}\n",
        "filtered_dict"
      ]
    },
    {
      "cell_type": "code",
      "execution_count": null,
      "metadata": {
        "id": "ZNR9tArAYcST"
      },
      "outputs": [],
      "source": [
        "for v in artworks_dict.values():\n",
        "  if v['artist'] in real_not_title_name.keys():\n",
        "    v.update({'artist': real_not_title_name[v['artist']]})\n",
        "    v.update({'name': 'Untitled'})"
      ]
    },
    {
      "cell_type": "code",
      "execution_count": null,
      "metadata": {
        "colab": {
          "base_uri": "https://localhost:8080/"
        },
        "id": "ss5AF87tZlOc",
        "outputId": "1983b5aa-44f3-4f8b-dc34-a6ed80f83c5e"
      },
      "outputs": [
        {
          "output_type": "stream",
          "name": "stdout",
          "text": [
            "{'name': 'Untitled', 'link': 'https://d32dm0rphc51dk.cloudfront.net/ywNOVSVs7bot7KElvh_TBw/large.jpg', 'artist': 'Steven and William Ladd', 'price': ' ', 'parsing_date': '2022-04-19', 'updating_date': '2022-04-19', 'year': '2014', 'gallery': 'Saint Louis Art Museum', 'category_id': ['10'], 'gene_id': ['10005']}\n",
            "{'name': 'Untitled', 'link': 'https://d32dm0rphc51dk.cloudfront.net/awaOMMtcpWF8vgt_3MKpMA/large.jpg', 'artist': 'Steven and William Ladd', 'price': ' ', 'parsing_date': '2022-04-19', 'updating_date': '2022-04-19', 'year': '2012', 'gallery': 'Mingei International Museum', 'category_id': ['10'], 'gene_id': ['10005']}\n"
          ]
        }
      ],
      "source": [
        "for id in filtered_dict.keys():\n",
        "  print(artworks_dict[id])"
      ]
    },
    {
      "cell_type": "code",
      "execution_count": null,
      "metadata": {
        "id": "apk1IC0nPGgJ"
      },
      "outputs": [],
      "source": [
        "# !!!!!!!!!!!!!"
      ]
    },
    {
      "cell_type": "code",
      "execution_count": 71,
      "metadata": {
        "id": "fgpbhlOB45QV"
      },
      "outputs": [],
      "source": [
        "for v in artworks_dict.values():\n",
        "  v.update({'artist': v['artist'].title()}) # bad for not names"
      ]
    },
    {
      "cell_type": "code",
      "execution_count": 72,
      "metadata": {
        "colab": {
          "base_uri": "https://localhost:8080/"
        },
        "id": "Ta2EIAKcaQzJ",
        "outputId": "decab44d-ab6a-43f4-8b85-dae7bdab3903"
      },
      "outputs": [
        {
          "output_type": "stream",
          "name": "stdout",
          "text": [
            "497\n"
          ]
        }
      ],
      "source": [
        "# New data\n",
        "artists_name_list_new = [v['artist'] for v in artworks_dict.values()]\n",
        "\n",
        "artists_name_list_new_ = list(set(artists_name_list_new))\n",
        "print(len(artists_name_list_new_))"
      ]
    },
    {
      "cell_type": "code",
      "execution_count": 73,
      "metadata": {
        "colab": {
          "base_uri": "https://localhost:8080/"
        },
        "id": "6RP9ZPZDivWs",
        "outputId": "44f5b839-7dd4-4c66-f80f-57c47b068307"
      },
      "outputs": [
        {
          "output_type": "execute_result",
          "data": {
            "text/plain": [
              "['Semire Akyazı',\n",
              " 'Zavier Ellis',\n",
              " 'Jahyun Seo',\n",
              " 'Norman Rockwell',\n",
              " 'Sarah Contos',\n",
              " 'Futura',\n",
              " 'Manor Grunewald',\n",
              " 'James Cooper',\n",
              " 'Alighiero Boetti',\n",
              " 'Crash (John \"Crash\" Matos)']"
            ]
          },
          "metadata": {},
          "execution_count": 73
        }
      ],
      "source": [
        "sample(artists_name_list_new_, 10)"
      ]
    },
    {
      "cell_type": "code",
      "execution_count": 74,
      "metadata": {
        "id": "qiDxTQrZsuj3"
      },
      "outputs": [],
      "source": [
        "#save_dict(artworks_dict, artwork_dict, 'live') # 1. Save json dict\n",
        "save_dict(artworks_dict, '/artsy_genom_artwork_dict_add.txt', 'backup') # 1. Save json dict\n",
        "#save_dict(artworks_dict, '/artsy_genom_artwork_dict_new_gene.txt', 'backup') # 1. Save json dict"
      ]
    },
    {
      "cell_type": "markdown",
      "metadata": {
        "id": "W9Qi4hnATEYi"
      },
      "source": [
        "### artists_dict"
      ]
    },
    {
      "cell_type": "markdown",
      "metadata": {
        "id": "75N5WS8GTFP3"
      },
      "source": [
        "#### initiation\n",
        "!!! only first time"
      ]
    },
    {
      "cell_type": "code",
      "execution_count": null,
      "metadata": {
        "id": "Uo3R766ShY39"
      },
      "outputs": [],
      "source": [
        "#artists_dict = {'000000': {'name': 'Jacopo Bassano', \n",
        "#                           'artwork_id: ['000000', ''], # Portrait of a Man in Armour\n",
        "#                           -- 'gallery_id': ['000000', ''], # Robilant+Voena\n",
        "#                           'gene_id': ['21603', ''],\n",
        "#                           'category_id': ['03', '']}}"
      ]
    },
    {
      "cell_type": "code",
      "execution_count": null,
      "metadata": {
        "colab": {
          "base_uri": "https://localhost:8080/"
        },
        "id": "aB9M_Zp7gLsi",
        "outputId": "aca43d89-e3d5-416e-87af-11b31eef8cb4"
      },
      "outputs": [
        {
          "name": "stdout",
          "output_type": "stream",
          "text": [
            "8094\n"
          ]
        }
      ],
      "source": [
        "artworks_dict = open_dict(artwork_dict, 'live')\n",
        "print(len(artworks_dict))"
      ]
    },
    {
      "cell_type": "code",
      "execution_count": null,
      "metadata": {
        "colab": {
          "base_uri": "https://localhost:8080/"
        },
        "id": "MABxYknGriMY",
        "outputId": "89435fe1-0aa7-44cb-b2d9-a8706801cc0f"
      },
      "outputs": [
        {
          "name": "stdout",
          "output_type": "stream",
          "text": [
            "1176\n"
          ]
        }
      ],
      "source": [
        "artists_name_list = list(set([v['artist'] for v in artworks_dict.values()]))\n",
        "print(len(artists_name_list))"
      ]
    },
    {
      "cell_type": "code",
      "execution_count": null,
      "metadata": {
        "colab": {
          "base_uri": "https://localhost:8080/"
        },
        "id": "Sg7t_qh7IKAm",
        "outputId": "d7ac90f8-e21d-4d90-d5fc-ee0265dba45e"
      },
      "outputs": [
        {
          "name": "stdout",
          "output_type": "stream",
          "text": [
            "1176\n",
            "1176\n"
          ]
        }
      ],
      "source": [
        "# artist_id creation\n",
        "at_id_len = len(str(len(artists_name_list)))\n",
        "at_id_list = []\n",
        "c = 1\n",
        "for a in artists_name_list:\n",
        "  id = '0'*(at_id_len-len(str(c)))+str(c)\n",
        "  at_id_list.append(id)\n",
        "  c += 1\n",
        "\n",
        "print(len(at_id_list))\n",
        "print(len(artists_name_list))"
      ]
    },
    {
      "cell_type": "markdown",
      "metadata": {
        "id": "e8nIVAFtXisl"
      },
      "source": [
        "***One to one connection***"
      ]
    },
    {
      "cell_type": "code",
      "execution_count": null,
      "metadata": {
        "colab": {
          "base_uri": "https://localhost:8080/"
        },
        "id": "tWr_ZnvzxXrp",
        "outputId": "936f3227-becf-4a9a-f7a8-41612c760c89"
      },
      "outputs": [
        {
          "data": {
            "text/plain": [
              "1176"
            ]
          },
          "execution_count": 136,
          "metadata": {},
          "output_type": "execute_result"
        }
      ],
      "source": [
        "# Dict creation\n",
        "artists_dict = pd.DataFrame({'id': at_id_list, 'name': artists_name_list}).set_index('id').to_dict('index')\n",
        "len(artists_dict)"
      ]
    },
    {
      "cell_type": "code",
      "execution_count": null,
      "metadata": {
        "colab": {
          "base_uri": "https://localhost:8080/"
        },
        "id": "ZooSVsSYxXoC",
        "outputId": "f226e814-b60d-4d89-bddb-88da749c771f"
      },
      "outputs": [
        {
          "data": {
            "text/plain": [
              "{'0468': {'name': 'R.C. Gorman'}}"
            ]
          },
          "execution_count": 137,
          "metadata": {},
          "output_type": "execute_result"
        }
      ],
      "source": [
        "artists_dict_samp = {k: v for k, v in artists_dict.items() if v['name'] == 'R.C. Gorman'}\n",
        "artists_dict_samp"
      ]
    },
    {
      "cell_type": "markdown",
      "metadata": {
        "id": "k5a0VedCNqks"
      },
      "source": [
        "##### add 'artist_id'  in artworks_dict"
      ]
    },
    {
      "cell_type": "code",
      "execution_count": null,
      "metadata": {
        "id": "wSr9yxalNnj6"
      },
      "outputs": [],
      "source": [
        "keys_list = list(artists_dict.keys())\n",
        "values_list = [v['name'] for v in artists_dict.values()]\n",
        "\n",
        "for value in artworks_dict.values():\n",
        "  if value['artist'] in values_list:\n",
        "    value.update({'artist_id': keys_list[values_list.index(value['artist'])]})\n",
        "  else:\n",
        "    value.update({'artist_id': ' '})"
      ]
    },
    {
      "cell_type": "code",
      "execution_count": null,
      "metadata": {
        "colab": {
          "base_uri": "https://localhost:8080/"
        },
        "id": "Rom9InzlP_Ug",
        "outputId": "b86e59d0-76bc-48a6-8485-44f096c551e9"
      },
      "outputs": [
        {
          "data": {
            "text/plain": [
              "{'artist': 'Tuukka Tammisaari',\n",
              " 'artist_id': '33527',\n",
              " 'category_id': ['03'],\n",
              " 'gallery': 'Kristof De Clercq',\n",
              " 'gene_id': ['03056', '03013', '03090'],\n",
              " 'link': 'https://d32dm0rphc51dk.cloudfront.net/hrEVTH4ekjqm_iKE1HStzg/large.jpg',\n",
              " 'name': 'Untitled',\n",
              " 'parsing_date': '2022-04-01',\n",
              " 'price': '€6,600 ',\n",
              " 'updating_date': '2022-04-01',\n",
              " 'year': '2021'}"
            ]
          },
          "execution_count": 240,
          "metadata": {},
          "output_type": "execute_result"
        }
      ],
      "source": [
        "artworks_dict['623f201d30b258000cc3053a']"
      ]
    },
    {
      "cell_type": "code",
      "execution_count": null,
      "metadata": {
        "colab": {
          "base_uri": "https://localhost:8080/"
        },
        "id": "h3pOwYjtTCbj",
        "outputId": "815e1142-6bce-4fd5-9b12-41aa3262a030"
      },
      "outputs": [
        {
          "data": {
            "text/plain": [
              "{'name': 'Tuukka Tammisaari'}"
            ]
          },
          "execution_count": 241,
          "metadata": {},
          "output_type": "execute_result"
        }
      ],
      "source": [
        "artists_dict['33527']"
      ]
    },
    {
      "cell_type": "code",
      "execution_count": null,
      "metadata": {
        "id": "ylFIkD2HQBRm"
      },
      "outputs": [],
      "source": [
        "# Replacing\n",
        "#artworks_dict = {k: artworks_dict[k] for k in artworks_dict.keys() - {'artist'}}\n",
        "#artworks_dict['623f201d30b258000cc3053a']"
      ]
    },
    {
      "cell_type": "code",
      "execution_count": null,
      "metadata": {
        "id": "DgnVlXDJQDaL"
      },
      "outputs": [],
      "source": [
        "save_dict(artworks_dict, artwork_dict, 'live') # 1. Save json dict"
      ]
    },
    {
      "cell_type": "markdown",
      "metadata": {
        "id": "jj2mDKTjAjBj"
      },
      "source": [
        "#### expansion\n",
        "!!! only first time\n",
        "\n",
        "with 'artwork_id', 'gene_id' and 'category_id'\n",
        "- ***one to many connection***\n",
        "- id info is in the artists_dict"
      ]
    },
    {
      "cell_type": "code",
      "execution_count": null,
      "metadata": {
        "id": "phGK2lliDgLR"
      },
      "outputs": [],
      "source": [
        "# category_id\n",
        "cat = df_cat_dat_total['category_id'].unique().tolist()\n",
        "\n",
        "#artists_dict = {k: v.update({'category_id': [cat[0]]}) for k, v in artists_dict.items()}\n",
        "for k in artists_dict:\n",
        "  artists_dict[k].update({'category_id': [cat[0]]})"
      ]
    },
    {
      "cell_type": "code",
      "execution_count": null,
      "metadata": {
        "id": "zMo_s5BXGutL"
      },
      "outputs": [],
      "source": [
        "# one to many connection from df\n",
        "def artist_dict_expan_otm(param):\n",
        "  group_df = df_cat_dat_total.groupby(['artist'])[param].apply(list).apply(set).apply(list).reset_index(name=param)\n",
        "  group_dict = group_df.set_index('artist').to_dict('index')\n",
        "\n",
        "  for k, v in artists_dict.items():\n",
        "    if v['name'] in group_dict.keys():\n",
        "      artists_dict[k].update(group_dict[v['name']])\n",
        "    else:\n",
        "      artists_dict[k].update({param: [' ']})"
      ]
    },
    {
      "cell_type": "code",
      "execution_count": null,
      "metadata": {
        "id": "6hqIRL9mDERB"
      },
      "outputs": [],
      "source": [
        "# gene_id\n",
        "artist_dict_expan_otm('gene_id')"
      ]
    },
    {
      "cell_type": "code",
      "execution_count": null,
      "metadata": {
        "id": "sljnxQ9_D8JG"
      },
      "outputs": [],
      "source": [
        "# artsy_id\n",
        "artist_dict_expan_otm('artsy_id')"
      ]
    },
    {
      "cell_type": "code",
      "execution_count": null,
      "metadata": {
        "id": "bSmo5hBFEGcd"
      },
      "outputs": [],
      "source": [
        "artists_dict_samp = {k: v for k, v in artists_dict.items() if v['name'] == 'Jacopo Bassano'}\n",
        "artists_dict_samp"
      ]
    },
    {
      "cell_type": "code",
      "execution_count": null,
      "metadata": {
        "id": "ZqPbCO06EIoV"
      },
      "outputs": [],
      "source": [
        "save_dict(artists_dict, artist_dict, 'live') # 1. Save json dict"
      ]
    },
    {
      "cell_type": "markdown",
      "metadata": {
        "id": "eKte_BU_xBW3"
      },
      "source": [
        "##### correction - not regular action"
      ]
    },
    {
      "cell_type": "code",
      "execution_count": null,
      "metadata": {
        "colab": {
          "base_uri": "https://localhost:8080/"
        },
        "id": "MsY9FUw4mR95",
        "outputId": "92aa863e-af10-4df0-ec45-048a39ba87f8"
      },
      "outputs": [
        {
          "name": "stdout",
          "output_type": "stream",
          "text": [
            "215336\n"
          ]
        }
      ],
      "source": [
        "#artworks_dict = open_dict(artwork_dict, 'live')\n",
        "#print(len(artworks_dict))\n",
        "# 215336"
      ]
    },
    {
      "cell_type": "code",
      "execution_count": null,
      "metadata": {
        "id": "2LCaTj1Haato"
      },
      "outputs": [],
      "source": [
        "def artist_dict_expan(param):\n",
        "  param_dict = {}\n",
        "  for v in artworks_dict.values():\n",
        "    if v['artist_id'] not in param_dict.keys():\n",
        "      param_dict.update({v['artist_id']: v[param]})\n",
        "    else:\n",
        "      v_new = list(set(param_dict[v['artist_id']] + v[param]))\n",
        "      param_dict.update({v['artist_id']: v_new})\n",
        "  print(len(param_dict))\n",
        "\n",
        "  for k in artists_dict:\n",
        "    if k in param_dict.keys():\n",
        "      artists_dict[k].update({param: param_dict[k]})\n",
        "    else:\n",
        "      artists_dict[k].update({param: ' '})\n",
        "  print(len(artists_dict))"
      ]
    },
    {
      "cell_type": "code",
      "execution_count": null,
      "metadata": {
        "colab": {
          "base_uri": "https://localhost:8080/"
        },
        "id": "YEKVXDmwexlh",
        "outputId": "a9a51fa3-74dd-43ac-8cae-191d01b0b501"
      },
      "outputs": [
        {
          "name": "stdout",
          "output_type": "stream",
          "text": [
            "36975\n",
            "36975\n",
            "36975\n",
            "36975\n"
          ]
        }
      ],
      "source": [
        "artist_dict_expan('category_id')\n",
        "artist_dict_expan('gene_id')"
      ]
    },
    {
      "cell_type": "code",
      "execution_count": null,
      "metadata": {
        "colab": {
          "base_uri": "https://localhost:8080/"
        },
        "id": "IbANTyFTmp49",
        "outputId": "6e65d9d5-f4f4-42f8-d844-fdf77f933a9e"
      },
      "outputs": [
        {
          "name": "stdout",
          "output_type": "stream",
          "text": [
            "36975\n",
            "36975\n"
          ]
        }
      ],
      "source": [
        "#'artsy_id'\n",
        "\n",
        "artsy_id_dict = {}\n",
        "for k, v in artworks_dict.items():\n",
        "  if v['artist_id'] not in artsy_id_dict.keys():\n",
        "    artsy_id_dict.update({v['artist_id']: [k]})\n",
        "  else:\n",
        "    v_new = list(set(artsy_id_dict[v['artist_id']] + [k]))\n",
        "    artsy_id_dict.update({v['artist_id']: v_new})\n",
        "print(len(artsy_id_dict))\n",
        "\n",
        "for key in artists_dict:\n",
        "  if key in artsy_id_dict.keys():\n",
        "    artists_dict[key].update({'artsy_id': artsy_id_dict[key]})\n",
        "  else:\n",
        "    artists_dict[key].update({'artsy_id': ' '})\n",
        "print(len(artists_dict))"
      ]
    },
    {
      "cell_type": "code",
      "execution_count": null,
      "metadata": {
        "colab": {
          "base_uri": "https://localhost:8080/"
        },
        "id": "0AvoCLNJjGfx",
        "outputId": "5fdecbb4-a3eb-4dfd-e6b8-c97f14fc2bde"
      },
      "outputs": [
        {
          "data": {
            "text/plain": [
              "{'artsy_id': ['5cfb7cb33741d9000f585a5e',\n",
              "  '5dab31b68291a100122e8426',\n",
              "  '5dab3142ff80ed000d869223',\n",
              "  '5de11d7934dce00012f2186e',\n",
              "  '5e26bfeee2b26b000dd2d623',\n",
              "  '6056178c0d266100129a121b',\n",
              "  '5de0f3458d9e2a00127034f0',\n",
              "  '623f217a6d2c31000b9603b4',\n",
              "  '604ca1dfb66fe900111318de',\n",
              "  '5de140b78d19ce0012ce2e2b',\n",
              "  '623f2108b8401b000c745e13',\n",
              "  '623f201d30b258000cc3053a',\n",
              "  '5de14c1b7fe05700136f442e',\n",
              "  '5dab33258110c4000e2bf1ab',\n",
              "  '5b3cd2cf139b21230e9f297b',\n",
              "  '5dab308fb8e1a20011c39112',\n",
              "  '5de11db47b22d6001202a6df',\n",
              "  '5de1274647800700116a0973',\n",
              "  '5de126b190b4bf0012548c16',\n",
              "  '5de11e017b22d6001202a6f2',\n",
              "  '5cfb7e2ed989710012310932',\n",
              "  '5de1410a8533dd000ed36e8f',\n",
              "  '60560b53bb73b30011a8b3f6',\n",
              "  '5de13f1d8533dd00120eeede',\n",
              "  '5de127ab34dce0000e3ca625',\n",
              "  '5de12731f574de000d808f01',\n",
              "  '623f22356eee8f000db6c352',\n",
              "  '5de14bea7fe057000f189094',\n",
              "  '5de14bc042f3b30012089d16',\n",
              "  '5de0fd0456a016000e1f3a8a',\n",
              "  '5dab341eea2ef7000f6a01dc',\n",
              "  '623f20555f2256000dc92b3a',\n",
              "  '5dab3278301916000e790690',\n",
              "  '60560dabe684c30011842ccf',\n",
              "  '5de127652545cd0012f04ac5',\n",
              "  '5cfb82e2d98971000e4887cc',\n",
              "  '5de1270647800700116a0960',\n",
              "  '623f2213286f23000cb7bb9b',\n",
              "  '623f21e4c657db000e609f5d',\n",
              "  '5de0e8505a1c75000ea7a6d1',\n",
              "  '5dab30cbea2ef7000f6a012d',\n",
              "  '5dab303dff80ed000d8691e3',\n",
              "  '5de0f7a334dce0000e3c9c1d',\n",
              "  '60560bd295cbe40011f956b2',\n",
              "  '5de11c1c5bedd6000e8dd7a0',\n",
              "  '623f203c758d10000e840584',\n",
              "  '5de0fbf7fe8fbe000d7e091b',\n",
              "  '604ca0de9e96b200127e56f6',\n",
              "  '5de1509c2545cd0012f054b3',\n",
              "  '5de126c592a7bb000da38f5a'],\n",
              " 'category_id': ['02', '03', '06'],\n",
              " 'gene_id': ['03056',\n",
              "  '02161',\n",
              "  '02073',\n",
              "  '06105',\n",
              "  '03117',\n",
              "  '03090',\n",
              "  '06116',\n",
              "  '02173',\n",
              "  '03013'],\n",
              " 'name': 'Tuukka Tammisaari'}"
            ]
          },
          "execution_count": 246,
          "metadata": {},
          "output_type": "execute_result"
        }
      ],
      "source": [
        "artists_dict['33527']"
      ]
    },
    {
      "cell_type": "code",
      "execution_count": null,
      "metadata": {
        "colab": {
          "base_uri": "https://localhost:8080/"
        },
        "id": "3Hb8l6TOpdF-",
        "outputId": "68eab124-db17-4852-a606-0aae61d10303"
      },
      "outputs": [
        {
          "data": {
            "text/plain": [
              "50"
            ]
          },
          "execution_count": 247,
          "metadata": {},
          "output_type": "execute_result"
        }
      ],
      "source": [
        "len(artists_dict['33527']['artsy_id'])"
      ]
    },
    {
      "cell_type": "code",
      "execution_count": null,
      "metadata": {
        "colab": {
          "base_uri": "https://localhost:8080/"
        },
        "id": "OpyGcmvipmXF",
        "outputId": "6befa5b0-e465-47bd-98ae-e3bc1d72ef57"
      },
      "outputs": [
        {
          "data": {
            "text/plain": [
              "50"
            ]
          },
          "execution_count": 248,
          "metadata": {},
          "output_type": "execute_result"
        }
      ],
      "source": [
        "filtered_dict = {k: v for k, v in artworks_dict.items() if v['artist_id'] == '33527'}\n",
        "len(filtered_dict)"
      ]
    },
    {
      "cell_type": "code",
      "execution_count": null,
      "metadata": {
        "id": "-t-pMbn4u0n8"
      },
      "outputs": [],
      "source": [
        "save_dict(artists_dict, artist_dict, 'live') # 1. Save json dict"
      ]
    },
    {
      "cell_type": "markdown",
      "metadata": {
        "id": "m5Ta2jEIT30z"
      },
      "source": [
        "#### addition"
      ]
    },
    {
      "cell_type": "code",
      "execution_count": 75,
      "metadata": {
        "colab": {
          "base_uri": "https://localhost:8080/"
        },
        "id": "nSw4hVhJwjb-",
        "outputId": "27e0b8f2-dfb1-41d6-d9f6-e1e9f34615d1"
      },
      "outputs": [
        {
          "output_type": "stream",
          "name": "stdout",
          "text": [
            "1267\n"
          ]
        }
      ],
      "source": [
        "#artworks_dict = open_dict('/artsy_genom_artwork_dict_cat08.txt', 'backup')\n",
        "print(len(artworks_dict))"
      ]
    },
    {
      "cell_type": "code",
      "execution_count": 76,
      "metadata": {
        "colab": {
          "base_uri": "https://localhost:8080/"
        },
        "id": "kR3KkOPlT3T8",
        "outputId": "8b11fa68-ff12-4f75-a88b-a5098fc73981"
      },
      "outputs": [
        {
          "output_type": "execute_result",
          "data": {
            "text/plain": [
              "46705"
            ]
          },
          "metadata": {},
          "execution_count": 76
        }
      ],
      "source": [
        "artists_dict = open_dict(artist_dict, 'live')\n",
        "len(artists_dict)"
      ]
    },
    {
      "cell_type": "code",
      "execution_count": 77,
      "metadata": {
        "colab": {
          "base_uri": "https://localhost:8080/"
        },
        "id": "hgy7pi_IpJLZ",
        "outputId": "d5a1be4e-f4df-4e65-a930-5a697fe7bd61"
      },
      "outputs": [
        {
          "output_type": "stream",
          "name": "stdout",
          "text": [
            "{'name': 'Kevin Earl Taylor', 'category_id': ['02', '03', '06', '05'], 'gene_id': ['02085', '06156', '02191', '06107', '05020', '03091', '03053', '06166', '03070', '02011', '03121', '02192', '05036', '02178', '02172', '02009', '02122', '02119', '06153'], 'artsy_id': ['5446a42f726169517b280000', '5b363fdf7076d070a64eaec1', '5446a42f72616936f8330000', '5365422e275b24a9560004df', '5312780ac9dc24898100010b', '5446a42f726169528b400000', '5312780da09a67d7640000bc', '564b7943ffc478159e000015', '5446a42e726169517e2f0000', '5312780a8b3b81139c0000dd', '5b363f76a6ca6d137433b92e', '5312780e8b3b814fb40000dc', '5b363f77cb4c2713827821af', '5446a42e7261691177250000', '5446a72272616909073e0000']}\n",
            "{'name': 'Nlé', 'category_id': ['10', '03', '01', '02'], 'gene_id': ['03223', '10006', '02044', '01001', '10020', '10018', '02188', '10019', '02072'], 'artsy_id': ['55b6a5d4726169293d000019', '560c93737261692b7500019c', '560c932772616950020001f3', '560c937472616916d100019e', '55b6a20b7261691c94000023']}\n",
            "{'name': \"Michele O'Marah\", 'category_id': ['02', '05'], 'gene_id': ['05029', '02137', '02058', '05010', '02120', '02146'], 'artsy_id': ['50be685b3b09d368d2001070']}\n"
          ]
        }
      ],
      "source": [
        "artists_samp = sample(list(artists_dict.keys()), 3)\n",
        "for id in artists_samp:\n",
        "  print(artists_dict[id])"
      ]
    },
    {
      "cell_type": "code",
      "execution_count": 78,
      "metadata": {
        "colab": {
          "base_uri": "https://localhost:8080/"
        },
        "id": "usJ_7MT9vqCR",
        "outputId": "22907a07-7117-43e8-bf09-966231deae86"
      },
      "outputs": [
        {
          "output_type": "execute_result",
          "data": {
            "text/plain": [
              "{'01617': {'artsy_id': ['5f89e66b3dad4b00145cf188',\n",
              "   '5f919d6a45d834001538c3bb'],\n",
              "  'category_id': ['06', '05'],\n",
              "  'gene_id': ['05015', '05007', '06054', '06012'],\n",
              "  'name': 'Moisès Villèlia'}}"
            ]
          },
          "metadata": {},
          "execution_count": 78
        }
      ],
      "source": [
        "artists_dict_samp = {k: v for k, v in artists_dict.items() if v['name'] == 'Moisès Villèlia'}\n",
        "artists_dict_samp"
      ]
    },
    {
      "cell_type": "code",
      "execution_count": 79,
      "metadata": {
        "id": "MezhFOaR32RA"
      },
      "outputs": [],
      "source": [
        "def artist_dict_add(param):\n",
        "  param_dict = {}\n",
        "\n",
        "  if param == 'artsy_id':\n",
        "    for k, v in artworks_dict.items():\n",
        "      if v['artist'] not in param_dict.keys():\n",
        "        param_dict.update({v['artist']: [k]})\n",
        "      else:\n",
        "        v_new = list(set(param_dict[v['artist']] + [k]))\n",
        "        param_dict.update({v['artist']: v_new})\n",
        "  \n",
        "  else:\n",
        "    for v in artworks_dict.values():\n",
        "      if v['artist'] not in param_dict.keys():\n",
        "        param_dict.update({v['artist']: v[param]})\n",
        "      else:\n",
        "        v_new = list(set(param_dict[v['artist']] + v[param]))\n",
        "        param_dict.update({v['artist']: v_new})\n",
        "\n",
        "  return param_dict"
      ]
    },
    {
      "cell_type": "code",
      "execution_count": 80,
      "metadata": {
        "colab": {
          "base_uri": "https://localhost:8080/"
        },
        "id": "H1QvRl1hLDNs",
        "outputId": "d3b67d06-812a-4972-a692-c3cdea55f1fe"
      },
      "outputs": [
        {
          "output_type": "stream",
          "name": "stdout",
          "text": [
            "New total count of artists 46708\n",
            "Count of new artists 122\n",
            "Count of old artists 375\n"
          ]
        }
      ],
      "source": [
        "# Dict updating\n",
        "# {'id': {'artsy_id': [''], 'category_id': [''], 'gene_id': [''], 'name': ''}}\n",
        "\n",
        "# Old dict data\n",
        "c = len(artists_dict)+1 # for id creation\n",
        "id_list = list(artists_dict.keys()) # list of str\n",
        "name_list = [v['name'] for v in artists_dict.values()] # list of str\n",
        "\n",
        "# New artworks_dict data\n",
        "artists_list = list(set([v['artist'] for v in artworks_dict.values()]))\n",
        "# category_id\n",
        "#cat = df_cat_dat_total['category_id'].unique().tolist()\n",
        "cat_dict = artist_dict_add('category_id')\n",
        "# gene_id\n",
        "gene_dict = artist_dict_add('gene_id')\n",
        "# artsy_id\n",
        "artwork_dict = artist_dict_add('artsy_id')\n",
        "\n",
        "# New dict\n",
        "new_artists_id = []\n",
        "cross_artists_id = []\n",
        "for name in artists_list:\n",
        "  if name not in name_list:\n",
        "    id = '0'*(artist_id_len-len(str(c)))+str(c)\n",
        "    new_artists_id.append(id)\n",
        "    artists_dict.update({id: {'artsy_id': artwork_dict[name], 'category_id': cat_dict[name], 'gene_id': gene_dict[name], 'name': name}})\n",
        "    c += 1\n",
        "  else:\n",
        "    id = id_list[name_list.index(name)]\n",
        "    cross_artists_id.append(id)\n",
        "    new_cat = list(set(artists_dict[id]['category_id'] + cat_dict[name]))\n",
        "    artists_dict[id].update({'category_id': new_cat})\n",
        "    new_gene = list(set(artists_dict[id]['gene_id'] + gene_dict[name]))\n",
        "    artists_dict[id].update({'gene_id': new_gene})\n",
        "    new_artwork = list(set(artists_dict[id]['artsy_id'] + artwork_dict[name]))\n",
        "    artists_dict[id].update({'artsy_id': new_artwork})\n",
        "\n",
        "print('New total count of artists', len(artists_dict))\n",
        "print('Count of new artists', len(new_artists_id))\n",
        "print('Count of old artists', len(cross_artists_id))"
      ]
    },
    {
      "cell_type": "code",
      "execution_count": 81,
      "metadata": {
        "colab": {
          "base_uri": "https://localhost:8080/"
        },
        "id": "gF-6tLBAjMCK",
        "outputId": "9a1e0013-e682-4233-8a80-2708e16adf9f"
      },
      "outputs": [
        {
          "output_type": "execute_result",
          "data": {
            "text/plain": [
              "{'artsy_id': ['6259a2ce07c6fb000c69a5ee',\n",
              "  '6259a2d5d83726000e70074c',\n",
              "  '625975b5b502a0000ca438f8'],\n",
              " 'category_id': ['06'],\n",
              " 'gene_id': ['06092'],\n",
              " 'name': 'Scott Farrell'}"
            ]
          },
          "metadata": {},
          "execution_count": 81
        }
      ],
      "source": [
        "artists_dict[new_artists_id[len(new_artists_id)//2]]"
      ]
    },
    {
      "cell_type": "code",
      "execution_count": 82,
      "metadata": {
        "colab": {
          "base_uri": "https://localhost:8080/"
        },
        "id": "yWAU3ALJTx2a",
        "outputId": "efbde2b3-2870-4a92-c82d-ea7de4b729fe"
      },
      "outputs": [
        {
          "output_type": "execute_result",
          "data": {
            "text/plain": [
              "{'artsy_id': ['61924a5ea280b8000ce3c923',\n",
              "  '60ed7f5434a91d001358fb9e',\n",
              "  '60ed7f76e00c4c000e98c4d2',\n",
              "  '609d0f6fbfe185000f969350',\n",
              "  '609d0f6434547300129fd0c3',\n",
              "  '60ed7f7a86fdf5000e76d4bb',\n",
              "  '60ed7f75ccba1a000ee88b74',\n",
              "  '61924a5f9f719e000cb43958',\n",
              "  '60ed7f7b6ac72800120fe102',\n",
              "  '60ed7f6b773d90001373909d',\n",
              "  '609d0f4bbfe185000f969335'],\n",
              " 'category_id': ['06', '03', '09'],\n",
              " 'gene_id': ['09001', '03106', '06122', '09025', '06024'],\n",
              " 'name': 'Shai Dror'}"
            ]
          },
          "metadata": {},
          "execution_count": 82
        }
      ],
      "source": [
        "artists_dict[cross_artists_id[len(cross_artists_id)//2]]"
      ]
    },
    {
      "cell_type": "code",
      "execution_count": 83,
      "metadata": {
        "id": "tgmnorsbohd4"
      },
      "outputs": [],
      "source": [
        "save_dict(artists_dict, artist_dict, 'live') # 1. Save json dict"
      ]
    },
    {
      "cell_type": "markdown",
      "metadata": {
        "id": "C2NYHiYiE3Jy"
      },
      "source": [
        "##### add 'artist_id'  in artworks_dict"
      ]
    },
    {
      "cell_type": "code",
      "execution_count": 84,
      "metadata": {
        "colab": {
          "base_uri": "https://localhost:8080/"
        },
        "id": "CP3HoG8xE-k6",
        "outputId": "b23eb877-307f-4897-a20b-7628a94ba02f"
      },
      "outputs": [
        {
          "output_type": "execute_result",
          "data": {
            "text/plain": [
              "1267"
            ]
          },
          "metadata": {},
          "execution_count": 84
        }
      ],
      "source": [
        "len(artworks_dict)"
      ]
    },
    {
      "cell_type": "code",
      "execution_count": 85,
      "metadata": {
        "id": "_Tbpbdl1E3Jz"
      },
      "outputs": [],
      "source": [
        "keys_list = list(artists_dict.keys())\n",
        "values_list = [v['name'] for v in artists_dict.values()]\n",
        "\n",
        "for value in artworks_dict.values():\n",
        "  if value['artist'] in values_list:\n",
        "    value.update({'artist_id': keys_list[values_list.index(value['artist'])]})\n",
        "  else:\n",
        "    value.update({'artist_id': ' '})"
      ]
    },
    {
      "cell_type": "code",
      "execution_count": 86,
      "metadata": {
        "colab": {
          "base_uri": "https://localhost:8080/"
        },
        "id": "kG9UyMZLE3J0",
        "outputId": "8f935d60-6d87-4ccc-f5d1-1251daf04ce4"
      },
      "outputs": [
        {
          "output_type": "execute_result",
          "data": {
            "text/plain": [
              "{'artist': 'George Merheb',\n",
              " 'artist_id': '46706',\n",
              " 'category_id': ['06'],\n",
              " 'gallery': 'Mark Hachem Gallery',\n",
              " 'gene_id': ['06097'],\n",
              " 'link': 'https://d32dm0rphc51dk.cloudfront.net/2gQNp8bAyRcjcEizdqGliQ/large.jpg',\n",
              " 'name': 'Untitled',\n",
              " 'parsing_date': '2022-04-20',\n",
              " 'price': 'Price on request ',\n",
              " 'updating_date': '2022-04-20',\n",
              " 'year': '2020'}"
            ]
          },
          "metadata": {},
          "execution_count": 86
        }
      ],
      "source": [
        "artworks_dict[check_id_list[0]]"
      ]
    },
    {
      "cell_type": "code",
      "execution_count": 87,
      "metadata": {
        "colab": {
          "base_uri": "https://localhost:8080/"
        },
        "id": "owI7DRe3E3J0",
        "outputId": "46fd73c3-222d-4b6d-872d-763efec93582"
      },
      "outputs": [
        {
          "output_type": "execute_result",
          "data": {
            "text/plain": [
              "{'artsy_id': ['624c406990db72000de81b5d',\n",
              "  '624c406a941417000ca9606b',\n",
              "  '624c4069706af4000d39fb23',\n",
              "  '624c406a3a3c14000b2e6167',\n",
              "  '624c406afb90c7000ec26b1a',\n",
              "  '624c406a264644000b181164',\n",
              "  '624c406a706af4000d39fb2b',\n",
              "  '624c40692f7922000c94083d',\n",
              "  '624c4069264644000b18115e',\n",
              "  '624c4068af8996000c0f4e42',\n",
              "  '624c4069b943d7000c235281',\n",
              "  '624c40684d6c87000c63b73d',\n",
              "  '624c40685a3c24000b1b426d',\n",
              "  '624c406988c053000bd2b1ed',\n",
              "  '624c40691921db000c8cf63c',\n",
              "  '625ed735cc32b3000dbf4bb9',\n",
              "  '624c406890db72000bec1833',\n",
              "  '624c4069b45c6a000b0a29b5',\n",
              "  '624c40682f7922000c940836',\n",
              "  '624c4069b943d7000d2b19ec',\n",
              "  '624c4069fb90c7000ca50377',\n",
              "  '624c4069783e3c000b7071bb',\n",
              "  '624c40691921db000c8cf642'],\n",
              " 'category_id': ['06'],\n",
              " 'gene_id': ['06097', '06171'],\n",
              " 'name': 'George Merheb'}"
            ]
          },
          "metadata": {},
          "execution_count": 87
        }
      ],
      "source": [
        "artists_dict[artworks_dict[check_id_list[0]]['artist_id']]"
      ]
    },
    {
      "cell_type": "code",
      "execution_count": null,
      "metadata": {
        "id": "4Ck65FcGE3J1"
      },
      "outputs": [],
      "source": [
        "# Replacing\n",
        "#artworks_dict = {k: artworks_dict[k] for k in artworks_dict.keys() - {'artist'}}\n",
        "#artworks_dict['623f201d30b258000cc3053a']"
      ]
    },
    {
      "cell_type": "code",
      "execution_count": 88,
      "metadata": {
        "id": "g-QsBVckE3J1"
      },
      "outputs": [],
      "source": [
        "#save_dict(artworks_dict, artwork_dict, 'live') # 1. Save json dict\n",
        "save_dict(artworks_dict, '/artsy_genom_artwork_dict_add.txt', 'backup') # 1. Save json dict\n",
        "#save_dict(artworks_dict, '/artsy_genom_artwork_dict_new_gene.txt', 'backup') # 1. Save json dict"
      ]
    },
    {
      "cell_type": "markdown",
      "metadata": {
        "id": "B856Ube5x2YN"
      },
      "source": [
        "### artworks_dict addition"
      ]
    },
    {
      "cell_type": "code",
      "execution_count": 91,
      "metadata": {
        "colab": {
          "base_uri": "https://localhost:8080/"
        },
        "id": "gFZS5e1Cx5AU",
        "outputId": "5017280d-74d4-41b5-a13a-7f9284b8baaf"
      },
      "outputs": [
        {
          "output_type": "stream",
          "name": "stdout",
          "text": [
            "1267\n",
            "453832\n"
          ]
        }
      ],
      "source": [
        "artworks_dict_new = open_dict('/artsy_genom_artwork_dict_add.txt', 'backup')\n",
        "print(len(artworks_dict_new))\n",
        "artworks_dict = open_dict(artwork_dict, 'live')\n",
        "print(len(artworks_dict))"
      ]
    },
    {
      "cell_type": "markdown",
      "metadata": {
        "id": "RqnBL9yKqz_D"
      },
      "source": [
        "Let's divide new dict ids data on two parts: artsy_id is already in the dict and not."
      ]
    },
    {
      "cell_type": "code",
      "execution_count": 92,
      "metadata": {
        "colab": {
          "base_uri": "https://localhost:8080/"
        },
        "id": "F8XUPeBOOOBl",
        "outputId": "4dd008f3-81d3-48ac-d105-c6e8869fa4d0"
      },
      "outputs": [
        {
          "output_type": "stream",
          "name": "stdout",
          "text": [
            "Category: ['06', '03', '08', '07', '05', '02', '09']\n",
            "\n",
            "New id count: 1267\n",
            "Cross id count: 0\n",
            "Check the division: True\n",
            "\n",
            "New dict length must be: 455099\n"
          ]
        }
      ],
      "source": [
        "old_id_list = list(artworks_dict.keys()) # list of str\n",
        "\n",
        "# New df data\n",
        "\n",
        "new_id_list = list(artworks_dict_new.keys()) # list of str\n",
        "cat_list = list(set([cat[0] for cat in [v['category_id'] for v in artworks_dict_new.values()]])) # list of lists with str\n",
        "print('Category:', cat_list)\n",
        "print('')\n",
        "\n",
        "new_artwork_id = list(set(new_id_list) - set(old_id_list))\n",
        "cross_artwork_id = list(set(old_id_list) & set(new_id_list))\n",
        "print('New id count:', len(new_artwork_id))\n",
        "print('Cross id count:', len(cross_artwork_id))\n",
        "print('Check the division:', len(new_id_list)==len(new_artwork_id)+len(cross_artwork_id))\n",
        "print('')\n",
        "\n",
        "artworks_dict_total_len = len(old_id_list) + len(new_artwork_id)\n",
        "print('New dict length must be:', artworks_dict_total_len)"
      ]
    },
    {
      "cell_type": "markdown",
      "metadata": {
        "id": "c56dTTz7zKUx"
      },
      "source": [
        "#### cross_artwork_id updating"
      ]
    },
    {
      "cell_type": "markdown",
      "metadata": {
        "id": "tj_GbU1vjbEl"
      },
      "source": [
        "Name, link and artist of artsy_id that is already in the dict shoild be the same. Let's check it."
      ]
    },
    {
      "cell_type": "code",
      "execution_count": 370,
      "metadata": {
        "colab": {
          "base_uri": "https://localhost:8080/"
        },
        "id": "IzAyzbcdffZI",
        "outputId": "a69b3bf9-8304-448b-b551-988b4a0eb064"
      },
      "outputs": [
        {
          "output_type": "stream",
          "name": "stdout",
          "text": [
            "Cross id count: 196\n",
            "6 ids have different name\n",
            "0 ids have different link\n",
            "6 ids have different artist\n"
          ]
        }
      ],
      "source": [
        "dif_name = []\n",
        "dif_link = []\n",
        "dif_artist = []\n",
        "\n",
        "for id in cross_artwork_id:\n",
        "  if artworks_dict[id]['name'] != artworks_dict_new[id]['name']:\n",
        "    dif_name.append(id)\n",
        "  if artworks_dict[id]['link'] != artworks_dict_new[id]['link']:\n",
        "    dif_link.append(id)\n",
        "  if artworks_dict[id]['artist'] != artworks_dict_new[id]['artist']:\n",
        "    dif_artist.append(id)\n",
        "\n",
        "print('Cross id count:', len(cross_artwork_id))\n",
        "print(len(dif_name), 'ids have different name')\n",
        "print(len(dif_link), 'ids have different link')\n",
        "print(len(dif_artist), 'ids have different artist')"
      ]
    },
    {
      "cell_type": "code",
      "execution_count": 371,
      "metadata": {
        "colab": {
          "base_uri": "https://localhost:8080/"
        },
        "id": "wrN18WyEi7P5",
        "outputId": "3bb9d100-90ca-42df-ca1d-0df8b06f5de5"
      },
      "outputs": [
        {
          "output_type": "stream",
          "name": "stdout",
          "text": [
            "620a49f37c6699000c370794 : Ritratto di Musico (Portrait of a Musician) -> Leonardo da Vinci, Ritratto di Musico (Portrait of a Musician)\n",
            "620a6687b5965e000cd08bb9 : Madonna del Cardellino (Madonna of the Goldfinch) -> Raffaello Santi, Madonna del Cardellino (Madonna of the Goldfinch)\n",
            "620a6f82fc3035000dd22754 : Il Bacio (The Kiss) -> Francesco Hayez, Il Bacio (The Kiss)\n",
            "620a68d953dd42000c9fa9ab : Canestra di frutta (Bowl of Fruit) -> Michelangelo Merisi da Caravaggio, Canestra di frutta (Bowl of Fruit)\n",
            "620a49f2fea647000ba59c6c : Leonardo da Vinci La Scapiliata (Head of a Woman) -> Leonardo da Vinci,  La Scapiliata (Head of a Woman)\n",
            "620a47e894b381000c755777 : Testa di Giovane Donna (Head of a Young Lady) -> Amedeo Modigliani, Testa di Giovane Donna (Head of a Young Lady)\n"
          ]
        }
      ],
      "source": [
        "for id in sample(dif_name, 6): # 10\n",
        "  print(id, ':', artworks_dict[id]['name'], '->', artworks_dict_new[id]['name'])"
      ]
    },
    {
      "cell_type": "code",
      "execution_count": 373,
      "metadata": {
        "colab": {
          "base_uri": "https://localhost:8080/"
        },
        "id": "p_Gxr_Gylm8K",
        "outputId": "23cb2549-d8c2-464c-89c4-b867091853ff"
      },
      "outputs": [
        {
          "output_type": "stream",
          "name": "stdout",
          "text": [
            "620a6687b5965e000cd08bb9 : Raffaello Santi -> Cinello\n",
            "620a47e894b381000c755777 : Amedeo Modigliani -> Cinello\n",
            "620a6f82fc3035000dd22754 : Francesco Hayez -> Cinello\n",
            "620a68d953dd42000c9fa9ab : Michelangelo Merisi Da Caravaggio -> Cinello, Conceived Circa 1597 , 1600, Digitised In 2021\n",
            "620a49f37c6699000c370794 : Leonardo Da Vinci -> Cinello\n",
            "620a49f2fea647000ba59c6c : Leonardo Da Vinci -> Cinello, Conceived Circa 1492, 1501, Digitised In 2021\n"
          ]
        }
      ],
      "source": [
        "for id in sample(dif_artist, 6): # 10\n",
        "  print(id, ':', artworks_dict[id]['artist'], '->', artworks_dict_new[id]['artist'])"
      ]
    },
    {
      "cell_type": "code",
      "execution_count": null,
      "metadata": {
        "colab": {
          "base_uri": "https://localhost:8080/"
        },
        "id": "GGU97-CU8QYh",
        "outputId": "bb4c3550-0bc4-4cb1-a475-439d2b147247"
      },
      "outputs": [
        {
          "output_type": "stream",
          "name": "stdout",
          "text": [
            "624c243c1921db000e9153af : https://d32dm0rphc51dk.cloudfront.net/_I0WSM1SSE9Ub72ShrMnMQ/large.jpg -> https://d32dm0rphc51dk.cloudfront.net/QiE6n5L-JpRKf1Q82cDStw/large.jpg\n"
          ]
        }
      ],
      "source": [
        "for id in sample(dif_link, 1): # 10\n",
        "  print(id, ':', artworks_dict[id]['link'], '->', artworks_dict_new[id]['link'])"
      ]
    },
    {
      "cell_type": "code",
      "execution_count": null,
      "metadata": {
        "id": "uY6eWkcXSXvk"
      },
      "outputs": [],
      "source": [
        "# excaption\n",
        "artworks_dict['62280e48bd9211000cc4b47d'].update({'link': 'https://d32dm0rphc51dk.cloudfront.net/S9Gn8hpcc24pnRBCrghPwA/large.jpg'})"
      ]
    },
    {
      "cell_type": "markdown",
      "metadata": {
        "id": "H2h1dNu1mM9k"
      },
      "source": [
        "!!! But all of them can be different. At the same time, it's seen that changes aren't dromatic -> So, not good, but we won't change or add them.\n",
        "\n",
        "It would be better for checking the info if I got artwork's page link...\n",
        "\n",
        "And later we'll clean the artists_dict.\n",
        "\n",
        "Also we won't change or add different price, year and gallery. In fact, we just add the category_id and gene_id info."
      ]
    },
    {
      "cell_type": "code",
      "execution_count": 374,
      "metadata": {
        "colab": {
          "base_uri": "https://localhost:8080/"
        },
        "id": "XQYYyZEMtzci",
        "outputId": "817a672f-3874-4a92-814c-87528541fbe3"
      },
      "outputs": [
        {
          "output_type": "stream",
          "name": "stdout",
          "text": [
            "453765\n"
          ]
        }
      ],
      "source": [
        "# Dict updating\n",
        "\n",
        "# {'artsy_id': {'artist': ' ', 'artist_id': ' ', 'category_id': [''], 'gallery': ' ', 'gene_id': [''], \n",
        "#               'link': ' ', 'name': ' ', 'parsing_date': '', 'price': ' ', 'updating_date': '', 'year': ' '}}\n",
        "\n",
        "for id in cross_artwork_id:\n",
        "  new_cat = list(set(artworks_dict[id]['category_id'] + artworks_dict_new[id]['category_id']))\n",
        "  artworks_dict[id].update({'category_id': new_cat})\n",
        "  new_gene = list(set(artworks_dict[id]['gene_id'] + artworks_dict_new[id]['gene_id']))\n",
        "  artworks_dict[id].update({'gene_id': new_gene})\n",
        "  artworks_dict[id].update({'updating_date': artworks_dict_new[id]['parsing_date']})\n",
        "\n",
        "print(len(artworks_dict))"
      ]
    },
    {
      "cell_type": "code",
      "execution_count": 375,
      "metadata": {
        "colab": {
          "base_uri": "https://localhost:8080/"
        },
        "id": "SCmobc_Zu88o",
        "outputId": "214f920b-1992-4747-c43f-dde075f9add3"
      },
      "outputs": [
        {
          "output_type": "stream",
          "name": "stdout",
          "text": [
            "61fd7fb13e73b9000cf9f02b\n"
          ]
        },
        {
          "output_type": "execute_result",
          "data": {
            "text/plain": [
              "{'artist': 'Zina Saro-Wiwa',\n",
              " 'artist_id': '32374',\n",
              " 'category_id': ['06'],\n",
              " 'gallery': 'Montague Contemporary',\n",
              " 'gene_id': ['06176'],\n",
              " 'link': 'https://d32dm0rphc51dk.cloudfront.net/B_0dqbt8oR6_H11QTKiuhA/large.jpg',\n",
              " 'name': 'Sarogua Spirit - Akogbara (Oil Bean)',\n",
              " 'parsing_date': '2022-04-20',\n",
              " 'price': 'Price on request ',\n",
              " 'updating_date': '2022-04-20',\n",
              " 'year': '2022'}"
            ]
          },
          "metadata": {},
          "execution_count": 375
        }
      ],
      "source": [
        "# cross_artwork_id sample\n",
        "samp_id = sample(cross_artwork_id, 1)[0]\n",
        "print(samp_id)\n",
        "artworks_dict_new[samp_id]"
      ]
    },
    {
      "cell_type": "code",
      "execution_count": 376,
      "metadata": {
        "colab": {
          "base_uri": "https://localhost:8080/"
        },
        "id": "iI9qJlt63gwI",
        "outputId": "96e9bf41-30be-4303-d49d-a0a26902434e"
      },
      "outputs": [
        {
          "output_type": "execute_result",
          "data": {
            "text/plain": [
              "{'artist': 'Zina Saro-Wiwa',\n",
              " 'artist_id': '32374',\n",
              " 'category_id': ['02', '03', '06', '08'],\n",
              " 'gallery': 'Montague Contemporary',\n",
              " 'gene_id': ['06006',\n",
              "  '08068',\n",
              "  '08013',\n",
              "  '03113',\n",
              "  '03054',\n",
              "  '02180',\n",
              "  '06038',\n",
              "  '06176'],\n",
              " 'link': 'https://d32dm0rphc51dk.cloudfront.net/B_0dqbt8oR6_H11QTKiuhA/large.jpg',\n",
              " 'name': 'Sarogua Spirit - Akogbara (Oil Bean)',\n",
              " 'parsing_date': '2022-04-01',\n",
              " 'price': 'Price on request ',\n",
              " 'updating_date': '2022-04-20',\n",
              " 'year': '2022'}"
            ]
          },
          "metadata": {},
          "execution_count": 376
        }
      ],
      "source": [
        "artworks_dict[samp_id]"
      ]
    },
    {
      "cell_type": "markdown",
      "metadata": {
        "id": "E7peAWOuwZl4"
      },
      "source": [
        "#### new_artwork_id addition"
      ]
    },
    {
      "cell_type": "code",
      "execution_count": 93,
      "metadata": {
        "colab": {
          "base_uri": "https://localhost:8080/"
        },
        "id": "0HM-EsNzv2kE",
        "outputId": "a640fafd-0452-46a7-8389-9bbd15cc77cb"
      },
      "outputs": [
        {
          "output_type": "stream",
          "name": "stdout",
          "text": [
            "New dict length must be: 455099\n",
            "New dict length is: 455099\n"
          ]
        }
      ],
      "source": [
        "# {'artsy_id': {'artist': ' ', 'artist_id': ' ', 'category_id': [''], 'gallery': ' ', 'gene_id': [''], \n",
        "#               'link': ' ', 'name': ' ', 'parsing_date': '', 'price': ' ', 'updating_date': '', 'year': ' '}}\n",
        "\n",
        "for id in new_artwork_id:\n",
        "  artworks_dict.update({id: {'artist': artworks_dict_new[id]['artist'], 'artist_id': artworks_dict_new[id]['artist_id'], 'category_id': artworks_dict_new[id]['category_id'], 'gallery': artworks_dict_new[id]['gallery'], 'gene_id': artworks_dict_new[id]['gene_id'], 'link': artworks_dict_new[id]['link'], 'name': artworks_dict_new[id]['name'], 'parsing_date': artworks_dict_new[id]['parsing_date'], 'price': artworks_dict_new[id]['price'], 'updating_date': artworks_dict_new[id]['updating_date'], 'year': artworks_dict_new[id]['year']}})\n",
        "\n",
        "print('New dict length must be:', artworks_dict_total_len)\n",
        "print('New dict length is:', len(artworks_dict))"
      ]
    },
    {
      "cell_type": "code",
      "execution_count": 94,
      "metadata": {
        "colab": {
          "base_uri": "https://localhost:8080/"
        },
        "id": "BKrG4RCKu2Zm",
        "outputId": "170b125b-7a2e-47ee-ea2f-f6358f39046a"
      },
      "outputs": [
        {
          "output_type": "stream",
          "name": "stdout",
          "text": [
            "625a928c1824c2000d708318\n"
          ]
        },
        {
          "output_type": "execute_result",
          "data": {
            "text/plain": [
              "{'artist': 'Cope2',\n",
              " 'artist_id': '30079',\n",
              " 'category_id': ['06'],\n",
              " 'gallery': 'Outsiders Galerie',\n",
              " 'gene_id': ['06154'],\n",
              " 'link': 'https://d32dm0rphc51dk.cloudfront.net/6AGy4CDskzgfMs9I_ydkOw/large.jpg',\n",
              " 'name': 'Bronx Icon 4',\n",
              " 'parsing_date': '2022-04-20',\n",
              " 'price': '€1,100 ',\n",
              " 'updating_date': '2022-04-20',\n",
              " 'year': '2021'}"
            ]
          },
          "metadata": {},
          "execution_count": 94
        }
      ],
      "source": [
        "# new_artwork_id sample\n",
        "samp_id = sample(new_artwork_id, 1)[0]\n",
        "print(samp_id)\n",
        "artworks_dict_new[samp_id]"
      ]
    },
    {
      "cell_type": "code",
      "execution_count": 95,
      "metadata": {
        "colab": {
          "base_uri": "https://localhost:8080/"
        },
        "id": "N20OVAQnyud2",
        "outputId": "41043717-68d5-4ca0-fb95-d67e57169316"
      },
      "outputs": [
        {
          "output_type": "execute_result",
          "data": {
            "text/plain": [
              "{'artist': 'Cope2',\n",
              " 'artist_id': '30079',\n",
              " 'category_id': ['06'],\n",
              " 'gallery': 'Outsiders Galerie',\n",
              " 'gene_id': ['06154'],\n",
              " 'link': 'https://d32dm0rphc51dk.cloudfront.net/6AGy4CDskzgfMs9I_ydkOw/large.jpg',\n",
              " 'name': 'Bronx Icon 4',\n",
              " 'parsing_date': '2022-04-20',\n",
              " 'price': '€1,100 ',\n",
              " 'updating_date': '2022-04-20',\n",
              " 'year': '2021'}"
            ]
          },
          "metadata": {},
          "execution_count": 95
        }
      ],
      "source": [
        "artworks_dict[samp_id]"
      ]
    },
    {
      "cell_type": "code",
      "execution_count": 96,
      "metadata": {
        "id": "jVGV7kwGzaEf"
      },
      "outputs": [],
      "source": [
        "save_dict(artworks_dict, artwork_dict, 'live') # 1. Save json dict"
      ]
    },
    {
      "cell_type": "markdown",
      "metadata": {
        "id": "8y6E_eJHCpMm"
      },
      "source": [
        "### artists_dict cleaning"
      ]
    },
    {
      "cell_type": "code",
      "execution_count": 381,
      "metadata": {
        "colab": {
          "base_uri": "https://localhost:8080/"
        },
        "id": "NWE0PjabCvkF",
        "outputId": "4bfd49a3-9d47-4d4a-f104-920620fe9de5"
      },
      "outputs": [
        {
          "output_type": "stream",
          "name": "stdout",
          "text": [
            "6 ids have different artist\n",
            "3 artists are exstra new\n"
          ]
        }
      ],
      "source": [
        "dif_artist_id = []\n",
        "c = 0\n",
        "for id in cross_artwork_id:\n",
        "  if artworks_dict[id]['artist'] != artworks_dict_new[id]['artist']:\n",
        "    dif_artist_id.append(artworks_dict_new[id]['artist_id'])\n",
        "    dif_artist_id = list(set(dif_artist_id))\n",
        "    c += 1\n",
        "\n",
        "print(c, 'ids have different artist')\n",
        "print(len(dif_artist_id), 'artists are exstra new')"
      ]
    },
    {
      "cell_type": "code",
      "execution_count": 382,
      "metadata": {
        "colab": {
          "base_uri": "https://localhost:8080/"
        },
        "id": "h6wUlywZEe4L",
        "outputId": "71c93c84-e630-4ff4-98d2-6e1305825b0d"
      },
      "outputs": [
        {
          "output_type": "execute_result",
          "data": {
            "text/plain": [
              "46708"
            ]
          },
          "metadata": {},
          "execution_count": 382
        }
      ],
      "source": [
        "#artists_dict = open_dict(artist_dict, 'live')\n",
        "len(artists_dict)"
      ]
    },
    {
      "cell_type": "code",
      "execution_count": 383,
      "metadata": {
        "colab": {
          "base_uri": "https://localhost:8080/"
        },
        "id": "t_DeptwoEyre",
        "outputId": "7dcfb264-e56e-486b-a016-b06aa0ad8dc1"
      },
      "outputs": [
        {
          "output_type": "stream",
          "name": "stdout",
          "text": [
            "46705\n",
            "46705\n"
          ]
        }
      ],
      "source": [
        "# Replacing\n",
        "print(len(artists_dict) - len(dif_artist_id))\n",
        "artists_dict = {k: v for k, v in artists_dict.items() if k not in dif_artist_id}\n",
        "print(len(artists_dict))"
      ]
    },
    {
      "cell_type": "code",
      "execution_count": 384,
      "metadata": {
        "colab": {
          "base_uri": "https://localhost:8080/"
        },
        "id": "6AGFwgzA1gx2",
        "outputId": "b815e411-9cb2-4212-9dc2-b78067bde42c"
      },
      "outputs": [
        {
          "output_type": "execute_result",
          "data": {
            "text/plain": [
              "{'21007': {'artsy_id': ['61fe8114b9ff6c000b32bbb6',\n",
              "   '622cb6e45463fe000bb811af'],\n",
              "  'category_id': ['03', '05', '02', '06', '08'],\n",
              "  'gene_id': ['02155', '08049', '03008', '06045', '05011', '06175'],\n",
              "  'name': 'Matt Connors'}}"
            ]
          },
          "metadata": {},
          "execution_count": 384
        }
      ],
      "source": [
        "artists_dict_samp = {k: v for k, v in artists_dict.items() if v['name'] == 'Matt Connors'}\n",
        "artists_dict_samp"
      ]
    },
    {
      "cell_type": "code",
      "execution_count": 385,
      "metadata": {
        "id": "2Na6WduQFqL2"
      },
      "outputs": [],
      "source": [
        "save_dict(artists_dict, artist_dict, 'live') # 1. Save json dict"
      ]
    },
    {
      "cell_type": "markdown",
      "metadata": {
        "id": "mpRFWlBTUWma"
      },
      "source": [
        "### genes_dict - at the very end"
      ]
    },
    {
      "cell_type": "markdown",
      "metadata": {
        "id": "aoXyp4XTURaK"
      },
      "source": [
        "#### expansion"
      ]
    },
    {
      "cell_type": "code",
      "execution_count": null,
      "metadata": {
        "colab": {
          "base_uri": "https://localhost:8080/"
        },
        "id": "--b457uGUjCL",
        "outputId": "d4320e36-ddd2-4924-efe5-41a4ef4c54d9"
      },
      "outputs": [
        {
          "output_type": "execute_result",
          "data": {
            "text/plain": [
              "1032"
            ]
          },
          "metadata": {},
          "execution_count": 11
        }
      ],
      "source": [
        "genes_dict = open_dict(gen_dict, 'live') # 2. Open json dict\n",
        "genes_dict_old = open_dict(gen_dict, 'live') # 2. Open json dict\n",
        "len(genes_dict)"
      ]
    },
    {
      "cell_type": "code",
      "source": [
        "artists_dict = open_dict(artist_dict, 'live') # 2. Open json dict\n",
        "len(artists_dict)"
      ],
      "metadata": {
        "colab": {
          "base_uri": "https://localhost:8080/"
        },
        "id": "3Mk6LavERIE2",
        "outputId": "cd8dc98a-43d9-4832-ec98-0c2a613825db"
      },
      "execution_count": null,
      "outputs": [
        {
          "output_type": "execute_result",
          "data": {
            "text/plain": [
              "46676"
            ]
          },
          "metadata": {},
          "execution_count": 12
        }
      ]
    },
    {
      "cell_type": "code",
      "source": [
        "artworks_dict = open_dict(artwork_dict, 'live') # 2. Open json dict\n",
        "len(artworks_dict)"
      ],
      "metadata": {
        "colab": {
          "base_uri": "https://localhost:8080/"
        },
        "id": "HhSqW_P0RVa4",
        "outputId": "23e9316d-673f-432d-f758-d81fb0c45572"
      },
      "execution_count": null,
      "outputs": [
        {
          "output_type": "execute_result",
          "data": {
            "text/plain": [
              "450574"
            ]
          },
          "metadata": {},
          "execution_count": 13
        }
      ]
    },
    {
      "cell_type": "code",
      "execution_count": null,
      "metadata": {
        "colab": {
          "base_uri": "https://localhost:8080/"
        },
        "id": "6EZbbLx4yjRw",
        "outputId": "9d72b7ce-3b30-4844-93a0-b98c0296a477"
      },
      "outputs": [
        {
          "output_type": "execute_result",
          "data": {
            "text/plain": [
              "{'artist_id': ['10640', '05253'],\n",
              " 'artsy_id': ['54f0c97a7261693fa3ea1400',\n",
              "  '553a8e737261697635630000',\n",
              "  '54f0c97c726169731f9f1400',\n",
              "  '553a8ea872616909c03a0000',\n",
              "  '553a8e61726169623a4f0000',\n",
              "  '553be2df7261692b035d0400'],\n",
              " 'category_id': '03',\n",
              " 'id': '03001',\n",
              " 'link': '/gene/bad-painting',\n",
              " 'name': '\"Bad Painting\"',\n",
              " 'parsing_date': '2022-03-29',\n",
              " 'updating_date': '2022-03-29'}"
            ]
          },
          "metadata": {},
          "execution_count": 15
        }
      ],
      "source": [
        "genes_dict_old['bad_painting']"
      ]
    },
    {
      "cell_type": "markdown",
      "metadata": {
        "id": "6Grd4c2bUgNW"
      },
      "source": [
        "Update genes_dict with 'artist_id' and 'artwork_id':\n",
        "- list type parametr - ***one to many connection***\n",
        "- id info is in the **dict**"
      ]
    },
    {
      "cell_type": "code",
      "source": [
        "artist_id_list_old = genes_dict_old['bad_painting']['artist_id']\n",
        "artsy_id_list_old = genes_dict_old['bad_painting']['artsy_id']"
      ],
      "metadata": {
        "id": "Fx4JwFOcSGe9"
      },
      "execution_count": null,
      "outputs": []
    },
    {
      "cell_type": "code",
      "execution_count": null,
      "metadata": {
        "colab": {
          "base_uri": "https://localhost:8080/"
        },
        "id": "BY8KnKx4zHyW",
        "outputId": "33a81a61-0728-4fc8-f4c6-46d30aad2a48"
      },
      "outputs": [
        {
          "output_type": "stream",
          "name": "stdout",
          "text": [
            "1032\n"
          ]
        }
      ],
      "source": [
        "#param = 'artist_id'\n",
        "\n",
        "for v in genes_dict.values():\n",
        "  v.update({'artist_id': []})\n",
        "  for key, value in artists_dict.items():\n",
        "    if v['id'] in value['gene_id']:\n",
        "      v_new = list(set(v['artist_id'] + [key]))\n",
        "      v.update({'artist_id': v_new})\n",
        "\n",
        "print(len(genes_dict))"
      ]
    },
    {
      "cell_type": "code",
      "source": [
        "#param = 'artsy_id'\n",
        "\n",
        "for v in genes_dict.values():\n",
        "  v.update({'artsy_id': []})\n",
        "  for key, value in artworks_dict.items():\n",
        "    if v['id'] in value['gene_id']:\n",
        "      v_new = list(set(v['artsy_id'] + [key]))\n",
        "      v.update({'artsy_id': v_new})\n",
        "\n",
        "print(len(genes_dict))"
      ],
      "metadata": {
        "colab": {
          "base_uri": "https://localhost:8080/"
        },
        "id": "ei5h0_zeRiKl",
        "outputId": "7ca41c9d-6265-49c7-f919-253caab8a0ed"
      },
      "execution_count": null,
      "outputs": [
        {
          "output_type": "stream",
          "name": "stdout",
          "text": [
            "1032\n"
          ]
        }
      ]
    },
    {
      "cell_type": "code",
      "source": [
        "artist_id_list_new = genes_dict['bad_painting']['artist_id']\n",
        "artsy_id_list_new = genes_dict['bad_painting']['artsy_id']\n",
        "\n",
        "print(list(set(artist_id_list_new))==list(set(artist_id_list_old)))\n",
        "print(list(set(artsy_id_list_new))==list(set(artsy_id_list_old)))"
      ],
      "metadata": {
        "colab": {
          "base_uri": "https://localhost:8080/"
        },
        "id": "UlE85lZQSVPA",
        "outputId": "f3638599-8af9-4f8f-b2f7-e250bbb8589a"
      },
      "execution_count": null,
      "outputs": [
        {
          "output_type": "stream",
          "name": "stdout",
          "text": [
            "False\n",
            "True\n"
          ]
        }
      ]
    },
    {
      "cell_type": "code",
      "execution_count": null,
      "metadata": {
        "colab": {
          "base_uri": "https://localhost:8080/"
        },
        "id": "_S0outur4B4V",
        "outputId": "4d0217da-1534-43d6-bc9d-64dd3dc3c247"
      },
      "outputs": [
        {
          "output_type": "execute_result",
          "data": {
            "text/plain": [
              "{'artist_id': ['25055', '21189'],\n",
              " 'artsy_id': ['553be2df7261692b035d0400',\n",
              "  '553a8ea872616909c03a0000',\n",
              "  '54f0c97a7261693fa3ea1400',\n",
              "  '54f0c97c726169731f9f1400',\n",
              "  '553a8e737261697635630000',\n",
              "  '553a8e61726169623a4f0000'],\n",
              " 'category_id': '03',\n",
              " 'id': '03001',\n",
              " 'link': '/gene/bad-painting',\n",
              " 'name': '\"Bad Painting\"',\n",
              " 'parsing_date': '2022-03-29',\n",
              " 'updating_date': '2022-03-29'}"
            ]
          },
          "metadata": {},
          "execution_count": 20
        }
      ],
      "source": [
        "genes_dict['bad_painting']\n",
        "#'William Nelson Copley'\n",
        "#'Joan Brown'"
      ]
    },
    {
      "cell_type": "code",
      "execution_count": null,
      "metadata": {
        "colab": {
          "base_uri": "https://localhost:8080/"
        },
        "id": "Pr1l4wjZ5Pd_",
        "outputId": "661aa8e7-03d1-4396-eecd-e99e67a89619"
      },
      "outputs": [
        {
          "output_type": "execute_result",
          "data": {
            "text/plain": [
              "{'artsy_id': ['553a8ea872616909c03a0000',\n",
              "  '54f0c97a7261693fa3ea1400',\n",
              "  '5da7b49cf52b8c00129b9694',\n",
              "  '54f0c97c726169731f9f1400',\n",
              "  '553a8e61726169623a4f0000',\n",
              "  '553a8e737261697635630000'],\n",
              " 'category_id': ['01', '03'],\n",
              " 'gene_id': ['03001', '01005'],\n",
              " 'name': 'Joan Brown'}"
            ]
          },
          "metadata": {},
          "execution_count": 26
        }
      ],
      "source": [
        "artists_dict['25055']"
      ]
    },
    {
      "cell_type": "code",
      "execution_count": null,
      "metadata": {
        "id": "lu9nKWMBW9lf"
      },
      "outputs": [],
      "source": [
        "save_dict(genes_dict, gen_dict, 'live') # 1. Save json dict"
      ]
    },
    {
      "cell_type": "markdown",
      "metadata": {
        "id": "EIvq_MPCo4ED"
      },
      "source": [
        "#### addition & updating"
      ]
    },
    {
      "cell_type": "code",
      "execution_count": 97,
      "metadata": {
        "colab": {
          "base_uri": "https://localhost:8080/"
        },
        "id": "6vUTyl1lpAON",
        "outputId": "6443318b-2a9e-477e-cea4-f6f9acb33573"
      },
      "outputs": [
        {
          "output_type": "execute_result",
          "data": {
            "text/plain": [
              "1033"
            ]
          },
          "metadata": {},
          "execution_count": 97
        }
      ],
      "source": [
        "genes_dict = open_dict(gen_dict, 'live') # 2. Open json dict\n",
        "len(genes_dict)"
      ]
    },
    {
      "cell_type": "code",
      "execution_count": 98,
      "metadata": {
        "colab": {
          "base_uri": "https://localhost:8080/"
        },
        "id": "Rxqy-HHNvvVS",
        "outputId": "aaaf9505-5c5e-43ad-ae14-95fde0b5d761"
      },
      "outputs": [
        {
          "output_type": "execute_result",
          "data": {
            "text/plain": [
              "{'artist_id': ['25055', '21189'],\n",
              " 'artsy_id': ['553be2df7261692b035d0400',\n",
              "  '553a8ea872616909c03a0000',\n",
              "  '54f0c97a7261693fa3ea1400',\n",
              "  '54f0c97c726169731f9f1400',\n",
              "  '553a8e737261697635630000',\n",
              "  '553a8e61726169623a4f0000'],\n",
              " 'category_id': '03',\n",
              " 'id': '03001',\n",
              " 'link': '/gene/bad-painting',\n",
              " 'name': '\"Bad Painting\"',\n",
              " 'parsing_date': '2022-03-29',\n",
              " 'updating_date': '2022-03-29'}"
            ]
          },
          "metadata": {},
          "execution_count": 98
        }
      ],
      "source": [
        "genes_dict['bad_painting']"
      ]
    },
    {
      "cell_type": "code",
      "source": [
        "#param = 'artist_id'\n",
        "\n",
        "for v in genes_dict.values():\n",
        "  for key, value in artists_dict.items():\n",
        "    if v['id'] in value['gene_id'] and key not in v['artist_id']:\n",
        "      v_new = list(set(v['artist_id'] + [key]))\n",
        "      v.update({'artist_id': v_new})\n",
        "      v.update({'updating_date': datetime.now().date().strftime('%Y-%m-%d')})\n",
        "\n",
        "print(len(genes_dict))"
      ],
      "metadata": {
        "colab": {
          "base_uri": "https://localhost:8080/"
        },
        "id": "U3P8Wo34UB4m",
        "outputId": "43a2082e-0612-4638-a8a4-ec2d0c5d23f8"
      },
      "execution_count": 99,
      "outputs": [
        {
          "output_type": "stream",
          "name": "stdout",
          "text": [
            "1033\n"
          ]
        }
      ]
    },
    {
      "cell_type": "code",
      "source": [
        "#param = 'artsy_id'\n",
        "\n",
        "for v in genes_dict.values():\n",
        "  for key, value in artworks_dict.items():\n",
        "    if v['id'] in value['gene_id'] and key not in v['artsy_id']:\n",
        "      v_new = list(set(v['artsy_id'] + [key]))\n",
        "      v.update({'artsy_id': v_new})\n",
        "      v.update({'updating_date': datetime.now().date().strftime('%Y-%m-%d')})\n",
        "\n",
        "print(len(genes_dict))"
      ],
      "metadata": {
        "colab": {
          "base_uri": "https://localhost:8080/"
        },
        "id": "D4haFLJSUFig",
        "outputId": "23e86889-984d-4699-e9e6-9d93841c0627"
      },
      "execution_count": 100,
      "outputs": [
        {
          "output_type": "stream",
          "name": "stdout",
          "text": [
            "1033\n"
          ]
        }
      ]
    },
    {
      "cell_type": "code",
      "execution_count": 101,
      "metadata": {
        "id": "v0kDcQqJsV0W",
        "colab": {
          "base_uri": "https://localhost:8080/"
        },
        "outputId": "3d8d31f1-1774-4fb4-8efb-4827a5f1bc1f"
      },
      "outputs": [
        {
          "output_type": "execute_result",
          "data": {
            "text/plain": [
              "{'artist_id': ['25055', '21189'],\n",
              " 'artsy_id': ['553be2df7261692b035d0400',\n",
              "  '553a8ea872616909c03a0000',\n",
              "  '54f0c97a7261693fa3ea1400',\n",
              "  '54f0c97c726169731f9f1400',\n",
              "  '553a8e737261697635630000',\n",
              "  '553a8e61726169623a4f0000'],\n",
              " 'category_id': '03',\n",
              " 'id': '03001',\n",
              " 'link': '/gene/bad-painting',\n",
              " 'name': '\"Bad Painting\"',\n",
              " 'parsing_date': '2022-03-29',\n",
              " 'updating_date': '2022-03-29'}"
            ]
          },
          "metadata": {},
          "execution_count": 101
        }
      ],
      "source": [
        "genes_dict['bad_painting']"
      ]
    },
    {
      "cell_type": "code",
      "source": [
        "filtered_dict = {k: v for k, v in genes_dict.items() if v['updating_date'] == datetime.now().date().strftime('%Y-%m-%d')}\n",
        "len(filtered_dict)"
      ],
      "metadata": {
        "colab": {
          "base_uri": "https://localhost:8080/"
        },
        "id": "SCWU8ZVbXADf",
        "outputId": "9514f880-abe5-47bc-c873-75ad73a92b1e"
      },
      "execution_count": 102,
      "outputs": [
        {
          "output_type": "execute_result",
          "data": {
            "text/plain": [
              "113"
            ]
          },
          "metadata": {},
          "execution_count": 102
        }
      ]
    },
    {
      "cell_type": "code",
      "source": [
        "updated_sample = sample(list(filtered_dict.keys()), 1)[0]\n",
        "filtered_dict[updated_sample]"
      ],
      "metadata": {
        "colab": {
          "base_uri": "https://localhost:8080/"
        },
        "id": "Fl4gm2w-Xxp7",
        "outputId": "2be62a00-ce64-464b-9863-93d224e46318"
      },
      "execution_count": 103,
      "outputs": [
        {
          "output_type": "execute_result",
          "data": {
            "text/plain": [
              "{'artist_id': ['17963',\n",
              "  '23526',\n",
              "  '18254',\n",
              "  '07068',\n",
              "  '15929',\n",
              "  '35466',\n",
              "  '34931',\n",
              "  '24121',\n",
              "  '08407',\n",
              "  '09584',\n",
              "  '16775',\n",
              "  '10523',\n",
              "  '02500',\n",
              "  '17645',\n",
              "  '12273',\n",
              "  '17641',\n",
              "  '30257',\n",
              "  '30728',\n",
              "  '00695',\n",
              "  '30024',\n",
              "  '28453',\n",
              "  '15667',\n",
              "  '21810',\n",
              "  '06784',\n",
              "  '16262',\n",
              "  '14831',\n",
              "  '21951',\n",
              "  '29506',\n",
              "  '25922',\n",
              "  '24287',\n",
              "  '13039',\n",
              "  '00677',\n",
              "  '11910',\n",
              "  '02970',\n",
              "  '30807',\n",
              "  '35119',\n",
              "  '28926',\n",
              "  '20093',\n",
              "  '01432',\n",
              "  '21604',\n",
              "  '06014',\n",
              "  '24711',\n",
              "  '31157',\n",
              "  '31155',\n",
              "  '30028',\n",
              "  '09704',\n",
              "  '11321',\n",
              "  '36550',\n",
              "  '17485',\n",
              "  '46889',\n",
              "  '21248',\n",
              "  '26266',\n",
              "  '23735',\n",
              "  '34167',\n",
              "  '34618',\n",
              "  '00523',\n",
              "  '36108',\n",
              "  '19247',\n",
              "  '02550',\n",
              "  '46874',\n",
              "  '06400',\n",
              "  '04490',\n",
              "  '35802',\n",
              "  '27824',\n",
              "  '30413',\n",
              "  '26549',\n",
              "  '10402',\n",
              "  '14938',\n",
              "  '08429',\n",
              "  '01478',\n",
              "  '26398',\n",
              "  '03429',\n",
              "  '14005',\n",
              "  '02811',\n",
              "  '11805',\n",
              "  '10618',\n",
              "  '20090',\n",
              "  '08339',\n",
              "  '27519',\n",
              "  '20290',\n",
              "  '23781',\n",
              "  '11492',\n",
              "  '08338',\n",
              "  '34627',\n",
              "  '01246',\n",
              "  '02275',\n",
              "  '31560',\n",
              "  '28047',\n",
              "  '36835',\n",
              "  '03726',\n",
              "  '19442',\n",
              "  '32921',\n",
              "  '26862',\n",
              "  '04805',\n",
              "  '20518',\n",
              "  '23502',\n",
              "  '01377',\n",
              "  '30545',\n",
              "  '31617',\n",
              "  '29965',\n",
              "  '10787',\n",
              "  '34383',\n",
              "  '13432',\n",
              "  '34751',\n",
              "  '30048',\n",
              "  '03896',\n",
              "  '01573',\n",
              "  '14341',\n",
              "  '33516',\n",
              "  '26553',\n",
              "  '10623',\n",
              "  '27396',\n",
              "  '18856',\n",
              "  '08150',\n",
              "  '21835',\n",
              "  '08417',\n",
              "  '33901',\n",
              "  '28094',\n",
              "  '30207',\n",
              "  '35897',\n",
              "  '22514',\n",
              "  '29640',\n",
              "  '04495',\n",
              "  '09827',\n",
              "  '16004',\n",
              "  '23894',\n",
              "  '26855',\n",
              "  '33208',\n",
              "  '26093',\n",
              "  '13410',\n",
              "  '32338',\n",
              "  '30033',\n",
              "  '24970',\n",
              "  '32169',\n",
              "  '34002',\n",
              "  '12943',\n",
              "  '15381',\n",
              "  '20343',\n",
              "  '33132',\n",
              "  '01087',\n",
              "  '10641',\n",
              "  '34409',\n",
              "  '30380',\n",
              "  '17984',\n",
              "  '06682',\n",
              "  '17949',\n",
              "  '14752',\n",
              "  '25081',\n",
              "  '23669',\n",
              "  '25542',\n",
              "  '35723',\n",
              "  '27064',\n",
              "  '26379',\n",
              "  '25129',\n",
              "  '08482',\n",
              "  '26095',\n",
              "  '17959',\n",
              "  '15737',\n",
              "  '18410',\n",
              "  '18446',\n",
              "  '03421',\n",
              "  '34039',\n",
              "  '12900',\n",
              "  '26368',\n",
              "  '16248',\n",
              "  '08163',\n",
              "  '24902',\n",
              "  '05847',\n",
              "  '24440',\n",
              "  '33977',\n",
              "  '03269',\n",
              "  '09109',\n",
              "  '05206',\n",
              "  '19719',\n",
              "  '14943',\n",
              "  '27980',\n",
              "  '16578',\n",
              "  '16034',\n",
              "  '34102',\n",
              "  '32006',\n",
              "  '11770',\n",
              "  '08489',\n",
              "  '28113',\n",
              "  '29661',\n",
              "  '07316',\n",
              "  '24602',\n",
              "  '26643',\n",
              "  '21189',\n",
              "  '13024',\n",
              "  '11444',\n",
              "  '12466',\n",
              "  '29932',\n",
              "  '13253',\n",
              "  '13581',\n",
              "  '19419',\n",
              "  '20685',\n",
              "  '29300',\n",
              "  '22627',\n",
              "  '03564',\n",
              "  '18090',\n",
              "  '34190',\n",
              "  '21018',\n",
              "  '24845',\n",
              "  '02307',\n",
              "  '04750',\n",
              "  '01189',\n",
              "  '19829',\n",
              "  '30843',\n",
              "  '08413',\n",
              "  '31183',\n",
              "  '28654',\n",
              "  '21056',\n",
              "  '19597',\n",
              "  '01197',\n",
              "  '15499',\n",
              "  '32895',\n",
              "  '18852',\n",
              "  '35266',\n",
              "  '21360',\n",
              "  '18902',\n",
              "  '06709',\n",
              "  '06633',\n",
              "  '25540',\n",
              "  '33654',\n",
              "  '46959',\n",
              "  '26344',\n",
              "  '20574',\n",
              "  '33408',\n",
              "  '00870',\n",
              "  '11757',\n",
              "  '27428',\n",
              "  '02195',\n",
              "  '04514',\n",
              "  '09227',\n",
              "  '25852',\n",
              "  '33986',\n",
              "  '07534',\n",
              "  '13969',\n",
              "  '25300',\n",
              "  '01609',\n",
              "  '20021',\n",
              "  '19289',\n",
              "  '01046',\n",
              "  '14926',\n",
              "  '22209',\n",
              "  '33818',\n",
              "  '08865',\n",
              "  '24031',\n",
              "  '32092',\n",
              "  '24620',\n",
              "  '16212',\n",
              "  '19678',\n",
              "  '03607',\n",
              "  '20909',\n",
              "  '22532',\n",
              "  '29103',\n",
              "  '21497',\n",
              "  '05134',\n",
              "  '22710',\n",
              "  '18793',\n",
              "  '00479',\n",
              "  '31913',\n",
              "  '24891',\n",
              "  '10335',\n",
              "  '07077',\n",
              "  '05940',\n",
              "  '05768',\n",
              "  '02632',\n",
              "  '00472',\n",
              "  '16696',\n",
              "  '03480',\n",
              "  '27752',\n",
              "  '04600',\n",
              "  '03462',\n",
              "  '04740',\n",
              "  '24914',\n",
              "  '28556',\n",
              "  '21645',\n",
              "  '06841',\n",
              "  '36955',\n",
              "  '32828',\n",
              "  '12167',\n",
              "  '33653',\n",
              "  '02052',\n",
              "  '15792',\n",
              "  '09173',\n",
              "  '02912',\n",
              "  '27587',\n",
              "  '05558',\n",
              "  '23328',\n",
              "  '11595',\n",
              "  '33492',\n",
              "  '34825',\n",
              "  '10900',\n",
              "  '34038',\n",
              "  '06799',\n",
              "  '21108',\n",
              "  '03913',\n",
              "  '15350',\n",
              "  '07078',\n",
              "  '15745',\n",
              "  '29130',\n",
              "  '33633',\n",
              "  '23156',\n",
              "  '02572',\n",
              "  '30450',\n",
              "  '20862',\n",
              "  '10078',\n",
              "  '33313',\n",
              "  '31145',\n",
              "  '10911',\n",
              "  '24755',\n",
              "  '32482',\n",
              "  '25526',\n",
              "  '03664',\n",
              "  '04687',\n",
              "  '00073',\n",
              "  '35913',\n",
              "  '29151',\n",
              "  '33144',\n",
              "  '32368',\n",
              "  '09511',\n",
              "  '01085',\n",
              "  '08723',\n",
              "  '16615',\n",
              "  '17528',\n",
              "  '26481',\n",
              "  '36303',\n",
              "  '01647',\n",
              "  '01171',\n",
              "  '23071',\n",
              "  '01538',\n",
              "  '04038',\n",
              "  '07541',\n",
              "  '05499',\n",
              "  '25022',\n",
              "  '01485',\n",
              "  '22149',\n",
              "  '17836',\n",
              "  '19182',\n",
              "  '17742',\n",
              "  '05012',\n",
              "  '20106',\n",
              "  '16020',\n",
              "  '00291',\n",
              "  '13771',\n",
              "  '19957',\n",
              "  '08488',\n",
              "  '10990',\n",
              "  '06875',\n",
              "  '33550',\n",
              "  '18340',\n",
              "  '15342',\n",
              "  '25524',\n",
              "  '06082',\n",
              "  '22029',\n",
              "  '11924',\n",
              "  '20639',\n",
              "  '21407',\n",
              "  '23534',\n",
              "  '26387',\n",
              "  '26821',\n",
              "  '18325',\n",
              "  '07893',\n",
              "  '31807',\n",
              "  '26441',\n",
              "  '26026',\n",
              "  '07262',\n",
              "  '15049',\n",
              "  '23650',\n",
              "  '23354',\n",
              "  '11703',\n",
              "  '32014',\n",
              "  '06915',\n",
              "  '32303',\n",
              "  '30798',\n",
              "  '35635',\n",
              "  '04809',\n",
              "  '17414',\n",
              "  '36921',\n",
              "  '25535',\n",
              "  '01499',\n",
              "  '05908',\n",
              "  '18281',\n",
              "  '19359',\n",
              "  '31173',\n",
              "  '18933',\n",
              "  '28226',\n",
              "  '14193',\n",
              "  '24998',\n",
              "  '17772',\n",
              "  '09686',\n",
              "  '12248',\n",
              "  '25107',\n",
              "  '28178',\n",
              "  '09862',\n",
              "  '36392',\n",
              "  '01986',\n",
              "  '35970',\n",
              "  '18371',\n",
              "  '06136',\n",
              "  '16608',\n",
              "  '27682',\n",
              "  '32635',\n",
              "  '04188',\n",
              "  '17028',\n",
              "  '32869',\n",
              "  '00901',\n",
              "  '17376',\n",
              "  '12384',\n",
              "  '04934',\n",
              "  '14867',\n",
              "  '22979',\n",
              "  '31076',\n",
              "  '04446',\n",
              "  '29504',\n",
              "  '05519',\n",
              "  '16392',\n",
              "  '06710',\n",
              "  '25097',\n",
              "  '10514',\n",
              "  '16141',\n",
              "  '14616',\n",
              "  '21819',\n",
              "  '27066',\n",
              "  '14780',\n",
              "  '02626',\n",
              "  '08599',\n",
              "  '34933',\n",
              "  '19592',\n",
              "  '01206',\n",
              "  '10559',\n",
              "  '10133',\n",
              "  '21552',\n",
              "  '21924',\n",
              "  '13696',\n",
              "  '13748',\n",
              "  '23606',\n",
              "  '35818',\n",
              "  '35330',\n",
              "  '14548',\n",
              "  '26851',\n",
              "  '19950',\n",
              "  '14786',\n",
              "  '35275',\n",
              "  '22224',\n",
              "  '18107',\n",
              "  '34034',\n",
              "  '00809',\n",
              "  '02097',\n",
              "  '35809',\n",
              "  '16971',\n",
              "  '27277',\n",
              "  '23229',\n",
              "  '05903',\n",
              "  '13346',\n",
              "  '35009',\n",
              "  '12440',\n",
              "  '13647',\n",
              "  '16175',\n",
              "  '01487',\n",
              "  '13153',\n",
              "  '02729',\n",
              "  '35240',\n",
              "  '24802',\n",
              "  '02192',\n",
              "  '16936',\n",
              "  '17004',\n",
              "  '34453',\n",
              "  '05074',\n",
              "  '09735',\n",
              "  '17072',\n",
              "  '34525',\n",
              "  '35385',\n",
              "  '00514',\n",
              "  '18543',\n",
              "  '35803',\n",
              "  '29120',\n",
              "  '34619',\n",
              "  '23162',\n",
              "  '36603',\n",
              "  '03558',\n",
              "  '08838',\n",
              "  '25096',\n",
              "  '30094',\n",
              "  '00467',\n",
              "  '26040',\n",
              "  '29128',\n",
              "  '27212',\n",
              "  '03721',\n",
              "  '07471',\n",
              "  '11094',\n",
              "  '14216',\n",
              "  '00033',\n",
              "  '05267',\n",
              "  '30605',\n",
              "  '02956',\n",
              "  '09630',\n",
              "  '07241',\n",
              "  '34798',\n",
              "  '22831',\n",
              "  '35755',\n",
              "  '02920',\n",
              "  '06445',\n",
              "  '13524',\n",
              "  '34938',\n",
              "  '21089',\n",
              "  '32741',\n",
              "  '12619',\n",
              "  '08486',\n",
              "  '12300',\n",
              "  '05662',\n",
              "  '19912',\n",
              "  '17460',\n",
              "  '30811',\n",
              "  '17290',\n",
              "  '31983',\n",
              "  '14592',\n",
              "  '05389',\n",
              "  '02088',\n",
              "  '12526',\n",
              "  '05444',\n",
              "  '09271',\n",
              "  '25690',\n",
              "  '27786',\n",
              "  '17387',\n",
              "  '10108',\n",
              "  '06011',\n",
              "  '04303',\n",
              "  '34115',\n",
              "  '07597',\n",
              "  '10184',\n",
              "  '28752',\n",
              "  '23418',\n",
              "  '15371',\n",
              "  '19532',\n",
              "  '25873',\n",
              "  '02834',\n",
              "  '32172',\n",
              "  '18795',\n",
              "  '35893',\n",
              "  '18798',\n",
              "  '10120',\n",
              "  '32461',\n",
              "  '22839',\n",
              "  '06808',\n",
              "  '15386',\n",
              "  '06742',\n",
              "  '21091',\n",
              "  '17751',\n",
              "  '05283',\n",
              "  '16522',\n",
              "  '22328',\n",
              "  '36852',\n",
              "  '01674',\n",
              "  '16406'],\n",
              " 'artsy_id': ['556c86d17261692b02ca0000',\n",
              "  '5a9853d8c9dc2411cee58be7',\n",
              "  '58f4e7f7cd530e4d2f26e458',\n",
              "  '5ecd22c16f2951000ea65f97',\n",
              "  '5739fb5d275b2439320001f1',\n",
              "  '5bbe492748d18c7da415cce8',\n",
              "  '5de68a92f879b1000e8f29cf',\n",
              "  '5abaa1f78b3b8179e9cce294',\n",
              "  '57735d3a275b2450720005ba',\n",
              "  '5de14ced0d8ca600108f2f0e',\n",
              "  '54049ae57261692d68ce0000',\n",
              "  '6109d6476533d7000e0f8fb4',\n",
              "  '5dd4647340e0710011edb8f8',\n",
              "  '56bfaf95b202a366f20000df',\n",
              "  '5ca52651e9cbb572a9ae6e27',\n",
              "  '621398a145f8ad000da3b5d3',\n",
              "  '620431c864a90c000cb51150',\n",
              "  '619bf806f38696000b649839',\n",
              "  '62042dc164a90c000cb50e4b',\n",
              "  '61dd857c79524d000be06524',\n",
              "  '5ee3a6c08b1133000eecfc09',\n",
              "  '5e0ff94d06088f000dbd307f',\n",
              "  '54c908c17261692b51990000',\n",
              "  '61f477901a1732000c40a89f',\n",
              "  '61895577e48ac9000d6b4215',\n",
              "  '6215573bcb01c1000ba61d12',\n",
              "  '5ce421a8aea251000e73a3b0',\n",
              "  '5e39f59697a5a4000df0d579',\n",
              "  '5f3e8aa8fbe370000eec091b',\n",
              "  '5f523b19ef9ce20011e7ed82',\n",
              "  '59de6a468b0c142e0a532947',\n",
              "  '5ecd481abd80b3000efc4b70',\n",
              "  '53a9d90f7261694688ae0600',\n",
              "  '576eaf74cd530e65d5000384',\n",
              "  '58b1fd647622dd4cbd46b32f',\n",
              "  '62042dbd64a90c000e978896',\n",
              "  '53176ce01a1e86aba50000ea',\n",
              "  '53482b1a275b2449f4000257',\n",
              "  '6216e2f091ce4a000dc8f546',\n",
              "  '5d819ac5834235000e45f69a',\n",
              "  '5389bab5c9dc248bd60001e3',\n",
              "  '61ee9b7aedf211000c0b7f16',\n",
              "  '605a43ce8d63f300126ae211',\n",
              "  '60646a68e862280012fac62e',\n",
              "  '62459c6ac6f8d8000c0e3e89',\n",
              "  '620d6d1d69e570000d81a776',\n",
              "  '55147f877261692ad9070e00',\n",
              "  '5dc35351e4b7850014735c9c',\n",
              "  '605a3fe193072b001181ebe4',\n",
              "  '5345827a275b243f900000a8',\n",
              "  '6221196b0b606c000bf43dfb',\n",
              "  '62211e035258d6000b5913ba',\n",
              "  '55147feb7261695b95441c00',\n",
              "  '58ae0486c9dc242cef6f1398',\n",
              "  '6056699fbb73b30011a8fd62',\n",
              "  '62211974291860000d348c5e',\n",
              "  '5cb9c65c126cf7677beec983',\n",
              "  '610488a3b9ca7c000ff942c9',\n",
              "  '61996563cf9099000c4508c3',\n",
              "  '51fc20b8139b2117bd00016f',\n",
              "  '5fb6c20efc3c9d59a4db9a8d',\n",
              "  '6025c62c97039b000e7cb9a4',\n",
              "  '5dcb48f6deb89a000f7f49d5',\n",
              "  '5e0ff9479ff248000e9a6008',\n",
              "  '553bd6097261693d5e780700',\n",
              "  '601f2777bd0e84000de87cca',\n",
              "  '5762ec5d9c18db49bb000283',\n",
              "  '5d56f09ce65489000e3af0c6',\n",
              "  '5c6dc5c541e20d114d2e8654',\n",
              "  '6210da0aebaa3b000e610f0c',\n",
              "  '61aa9ca57ab34a000b2562cd',\n",
              "  '5bf430397c5bd35cd667424a',\n",
              "  '61aa9c9e7ab34a000dfcfe88',\n",
              "  '58ea7bbd275b24286cc1173b',\n",
              "  '601f0e38cc75fe000d0ba8f3',\n",
              "  '61e9634999efa0000b3774f8',\n",
              "  '57630f1eb202a339e3000609',\n",
              "  '5fcbe81c65e249000ed604bc',\n",
              "  '5face418a90cc200129e240a',\n",
              "  '61ba67bee87da3000dd8b2b1',\n",
              "  '576eaf4f8b3b8165730006af',\n",
              "  '5ef0ab8dfc52f60012c68b83',\n",
              "  '56f5a6c1275b247bf8000be8',\n",
              "  '536a9512cd530ee01900002d',\n",
              "  '5beb3039756f9b626222a5bf',\n",
              "  '581e34ab275b24688a001bbe',\n",
              "  '5d7945cc6e90b5001223dfe7',\n",
              "  '56be5471a6ca6d780a0000db',\n",
              "  '5afdfaf9b202a339c806d502',\n",
              "  '6164d4978749b9000f164963',\n",
              "  '61ee9747edf211000ebefc50',\n",
              "  '5fd42412125e562d0e571eb7',\n",
              "  '5b0d6c701a1e8616de49734a',\n",
              "  '57ab586ea09a67660700141e',\n",
              "  '62179c57ddc225000df5223f',\n",
              "  '61a68a230c387f000c9fcbf9',\n",
              "  '61d6f91567697a000da22940',\n",
              "  '5c702c0892c70648c624f6c1',\n",
              "  '58fb3fcb275b24119669e950',\n",
              "  '605a4fa9803807000ea102d6',\n",
              "  '5818fe0e8b3b8102a10003bf',\n",
              "  '61a689c37bed6d000d924a10',\n",
              "  '5882814ccd530e646000074c',\n",
              "  '540496cc72616906c73a0800',\n",
              "  '6210ccc4a3ddbf000c8171d3',\n",
              "  '53482b28139b211254000273',\n",
              "  '625f8792d98148000c184177',\n",
              "  '625f878ca01036000b0ac130',\n",
              "  '62228f181b53d5000ddf281f',\n",
              "  '61bcb224449d27000b266176',\n",
              "  '5d472af6c27813000e29506c',\n",
              "  '5d853de6acf97b000f2da7bc',\n",
              "  '62443c08e4a579000ece0b81',\n",
              "  '5708d8589c18db7d750008be',\n",
              "  '61f2eab6a1fe77000c99bd2b',\n",
              "  '623e1939834f94000ed8e650',\n",
              "  '5bfed8c6d4d949002d83d8f3',\n",
              "  '53ea5d637261692d737f0000',\n",
              "  '55f869197261690edf0000a8',\n",
              "  '5af5f513275b24734084c29e',\n",
              "  '623bbb9eb0799a000c232615',\n",
              "  '5ed16f6d81133100117b2498',\n",
              "  '5d40e5df0eb52c000ef2db29',\n",
              "  '61b1217ac93866000e8080b3',\n",
              "  '5f3b9aa7909ade0011ddd40c',\n",
              "  '613f50e0b9cb58000b3161a9',\n",
              "  '534db28b139b2105de000319',\n",
              "  '6166fffb925d68000b1ad4a1',\n",
              "  '6197ac6137c5c1000e22d325',\n",
              "  '57ae2399275b242f77000ad2',\n",
              "  '6215573c077143000e869c4c',\n",
              "  '62042dc7f32c3b000dc7adca',\n",
              "  '54d649737261690ef79f0500',\n",
              "  '5d5db0898449d90015ac91fc',\n",
              "  '5ca21937ab6a576e0cddc3d8',\n",
              "  '602bea78a3dbf050bb88088d',\n",
              "  '58824c35139b21031e002881',\n",
              "  '60521c474ee07e000ebe720f',\n",
              "  '5d3617c9db29d7000e703e67',\n",
              "  '51e96c6e275b24c629000fe9',\n",
              "  '5c8ac4444b3e996633299a57',\n",
              "  '56917b804c0af5714d00030c',\n",
              "  '61ccb50b2cf707000e12e78a',\n",
              "  '603d6e125166d9000d17748d',\n",
              "  '5df9b72c75eeff000e492bef',\n",
              "  '61fbb8eac35238000c302521',\n",
              "  '56e0a889275b245c250026ff',\n",
              "  '5d93ae172f2e5700144ded3c',\n",
              "  '5f8b2a65bb433f000e818d65',\n",
              "  '5e518741e6a01f000e606e8f',\n",
              "  '5f3842295b5268000e27a4e7',\n",
              "  '58c08722a09a676f5c913509',\n",
              "  '5c3fa9c495e1d65e58d7170d',\n",
              "  '581a17b6b202a365a00004b8',\n",
              "  '5e48767d4d89fd000e16b6c1',\n",
              "  '5f68adf6f8ed1b000e8043e3',\n",
              "  '6206a62a04fcee000ccb8765',\n",
              "  '5ed7f76997e59e000e39ed1d',\n",
              "  '6024dd263647e57757e01e29',\n",
              "  '61a77fb89e7dad000da316a8',\n",
              "  '581a5f3e139b211766001636',\n",
              "  '61b0e4a0c06dc2000dd3e20c',\n",
              "  '61a68c59f0461b000dbca0d7',\n",
              "  '604a8f02ff8b050012bd0a45',\n",
              "  '5a9f16a1139b214e17fa9618',\n",
              "  '5fd3717e60226600125d4cbb',\n",
              "  '61d331556cdee0000df4a59f',\n",
              "  '5d6800b258e68f0012c56285',\n",
              "  '622ddea3187dde000e7d4342',\n",
              "  '5fc5298a45fa8700133911a5',\n",
              "  '5e98971b0585f5000eac8dd3',\n",
              "  '5e7ccfaa51a292000e089dd6',\n",
              "  '5ed17e5312bd4a000e03e410',\n",
              "  '5981f97fc9dc244a62dce9d4',\n",
              "  '5cf6d8f2c1c0540012d3e8c7',\n",
              "  '62179c446e39f4000c2ed69a',\n",
              "  '5ee3cc072efb99000eade5ea',\n",
              "  '61da02c6d5f1c8000c4c19a6',\n",
              "  '55d217eb72616909f000008c',\n",
              "  '62212866738fef000daac545',\n",
              "  '603c6f79e57c3b56604a62df',\n",
              "  '623b90091cec25000b8031dc',\n",
              "  '576aed9c7622dd65cf000946',\n",
              "  '5c38ffb324a4f010ce73ad7f',\n",
              "  '5b511936833f3a78dcf73130',\n",
              "  '613a2a8cd5dafb000d8f3257',\n",
              "  '6125576412999c000efd6a2c',\n",
              "  '61b1217b3b0671000c3be621',\n",
              "  '62026531a6957b000bb5058f',\n",
              "  '623f646193d17d000c801736',\n",
              "  '5e5d755e66752e000e0333ad',\n",
              "  '5bbe4934694ce4191e3bba72',\n",
              "  '61e9bef5acd103000d224716',\n",
              "  '581d019bb202a3659900071f',\n",
              "  '620a1e7b94b381000b279f61',\n",
              "  '61f9b1ff5fe231000da6a77b',\n",
              "  '58d3c07f7622dd4cc78167cf',\n",
              "  '553a7d007261696c68302800',\n",
              "  '5cca0117456ec30c77d5b803',\n",
              "  '54ac339972616901abf11900',\n",
              "  '6021b41b0073f2000db60c42',\n",
              "  '621e91a5cc594d000c4bf2cc',\n",
              "  '61e1ac5d0cf67f000c667e20',\n",
              "  '58a1e9ffcd530e4cb9cfe4d2',\n",
              "  '5bdfa408606bf54df59ff13d',\n",
              "  '59cd9cad139b2121047e338b',\n",
              "  '5ab2fc8f9c18db773248b7cb',\n",
              "  '62191a652c30e4000bfb41e6',\n",
              "  '61f2d668462982000c3ad375',\n",
              "  '62135ddf61ea5b000d55c78c',\n",
              "  '6199fffe5e623f000c0fe5c4',\n",
              "  '5dcb2c02daeec9000dc1af2f',\n",
              "  '5d326d8a86623e000fcb53d4',\n",
              "  '61ee9e79485bbe000c759fb9',\n",
              "  '619689c9ea2420000ebb8155',\n",
              "  '5f0d9ab2b7af67000d59b8d5',\n",
              "  '5a6ce5432a893a78399cd081',\n",
              "  '5c1193e795762a3d1a1913eb',\n",
              "  '619d489f6de870000c3c083e',\n",
              "  '61a7936997667c000d90f9c8',\n",
              "  '61aa9ca42e5403000c8089ce',\n",
              "  '6223756e84a8f3000bf5f6bc',\n",
              "  '5c254d77c51633289a99a99d',\n",
              "  '5f8f385a7ecf53000e27f696',\n",
              "  '601b31e31544e1000d7632f3',\n",
              "  '61e9befa0546f9000d785652',\n",
              "  '5bfdc6a81391f02190ea4b7f',\n",
              "  '5d6800a6c4b3930011274b71',\n",
              "  '5eb5b3523d9ed4000e4f0434',\n",
              "  '5dae0f0377da24000edd30e5',\n",
              "  '593b17259c18db4f26e904f4',\n",
              "  '5e750b8fd684a10012f0a828',\n",
              "  '56cf82f07622dd627f00003a',\n",
              "  '4f304e995799b300010009ab',\n",
              "  '61226b41d4886a000c5ea04b',\n",
              "  '62211e012420d7000cfd9192',\n",
              "  '5eb048cd08bde60012ef9f03',\n",
              "  '620d37b0d42424000b584aad',\n",
              "  '569036612a893a603c000217',\n",
              "  '601c403ae275c9033410f927',\n",
              "  '623cb162cdfb25000e9864bf',\n",
              "  '6217d4041ef06b000e88ecec',\n",
              "  '62227c106b785d000d59c880',\n",
              "  '6234eca0be5ec8000dff7f22',\n",
              "  '620ec20b7a1881000db45e4a',\n",
              "  '61fc195a9bcb59000c19a69d',\n",
              "  '5e4ed7aa14c91d000dc7e46c',\n",
              "  '6234fcdbead91f000efd74a9',\n",
              "  '60d38df058f8e10013728275',\n",
              "  '6239f2427358a6000ecd906a',\n",
              "  '53cd1fb97261690a88b31400',\n",
              "  '5d963a204a2bab000ef8a152',\n",
              "  '5f919813ca83cb000ec2b1f2',\n",
              "  '58d13a827622dd4ccb1de876',\n",
              "  '5c09644b455837002cb7ddc9',\n",
              "  '5eda43bf14df81000d45e709',\n",
              "  '60d0e64c59cc47000ee0b14e',\n",
              "  '61edea480c8cc9000ee09972',\n",
              "  '5f2c41bed239bb0011aba88b',\n",
              "  '59a49a0c7622dd4d681a3f58',\n",
              "  '5f8b2a64bdbba30012060837',\n",
              "  '54cbecc57261691068a20000',\n",
              "  '6210104cebaa3b000e604c0e',\n",
              "  '61d6f94fa50bf2000c5dd378',\n",
              "  '620062c75d6e68000cc32bbe',\n",
              "  '5f730f745fbe36000f229812',\n",
              "  '621224be4c6452000dbc4b21',\n",
              "  '569037dcb202a365230000cc',\n",
              "  '5396cc12275b2453ed000114',\n",
              "  '620d31ade9b0be000bc1b262',\n",
              "  '62459c710dd5b0000ed2db02',\n",
              "  '61ed9be1c4ed54000bd38b8e',\n",
              "  '62138e57998a32000c16744f',\n",
              "  '58a5f21dcd530e4c9f66ec60',\n",
              "  '618d4c200b091c000c450c2a',\n",
              "  '5d0d23ad891d51000ed6c1db',\n",
              "  '5d67aa302652d7001239052a',\n",
              "  '572cba918b3b81225b00175a',\n",
              "  '61c0fbf73807f3000dd63883',\n",
              "  '5eac37b8b28dae000e96e16c',\n",
              "  '5e3dab4b00a770001242dbcd',\n",
              "  '61e5d7f9a2de82000b17d45a',\n",
              "  '5af5f5119c18db17247da25b',\n",
              "  '60dcc93bdc1ec0000e79c60e',\n",
              "  '5f8607662d68720011bfcb8d',\n",
              "  '5f272d770f26c0000d48a144',\n",
              "  '5d3b45d17599a0000ea0483a',\n",
              "  '57518cffb202a36607000066',\n",
              "  '6063542ab9ffb70011abb7e2',\n",
              "  '5e5d755e841f27001269d460',\n",
              "  '625f87a012a136000d0b1720',\n",
              "  '601f0e3a4e3a0f000e17d4bc',\n",
              "  '60dd86aae7f09a000eb04434',\n",
              "  '512640bbfc37e16a430002a1',\n",
              "  '5b0eea22cb4c2720ae70e331',\n",
              "  '5f3ecf6c69845c000ec36066',\n",
              "  '5f2ecb22ca7b2b000e0e0308',\n",
              "  '5dd6b8a96c5588000e8c14d6',\n",
              "  '5ef238fef2648e000ee5f54e',\n",
              "  '602591c7d13935001169c06e',\n",
              "  '576bd436139b2117f000090a',\n",
              "  '57ed342f9c18db45ab000189',\n",
              "  '620ce38b0fb997000c666fc5',\n",
              "  '5e8b9fdae19594000d3f1b35',\n",
              "  '5e9a207d6d80a9000d7f1b95',\n",
              "  '578f93df2a893a65d8000b68',\n",
              "  '5852ed5f8b3b81696f000d46',\n",
              "  '5f623c01502d11000ec401fb',\n",
              "  '621517be626e14000cbef734',\n",
              "  '62443bf83659fe000bea07e7',\n",
              "  '5d3899e052dd94000e007a95',\n",
              "  '5fca6d198447ad000d04d04a',\n",
              "  '6006e47ad88fb77f26a200be',\n",
              "  '5f66410e43c422000edbdc25',\n",
              "  '5d8a830e16bd45000e2b87de',\n",
              "  '5697da437622dd15070001eb',\n",
              "  '5f01fe354e50b00011d1d09c',\n",
              "  '620d186f8b6afd000bdb609e',\n",
              "  '5ecee537663a51000e31cf43',\n",
              "  '5e2aebc96661ec0012938b55',\n",
              "  '4dec353680959600010007cb',\n",
              "  '554b1b4d7261697684870a00',\n",
              "  '5f9838218e439b0014e07b81',\n",
              "  '53176c5d139b21889a000351',\n",
              "  '61a68a8524a9db000b09e2af',\n",
              "  '625b29a5bc3edf000d58f9c0',\n",
              "  '531607fecd530e58e8000091',\n",
              "  '5dd932f456f6d4000ecac31e',\n",
              "  '61b1217be96b59000de83024',\n",
              "  '624397ccdfca54000edd8fdd',\n",
              "  '61a68d3a767f0f000d84e37b',\n",
              "  '5ecd3abea7e62b000db19b0e',\n",
              "  '5f9dd5307706da000e645cb2',\n",
              "  '536a95209c18dbb177000045',\n",
              "  '57e2e662275b2445c9001360',\n",
              "  '62350b10fe47ac000d4a7140',\n",
              "  '5fab269316e809000de0f8b9',\n",
              "  '4e6780a4f8597e00010078b1',\n",
              "  '56f5a6b7139b21724d000c86',\n",
              "  '6197aa8a37c5c1000ca2c70f',\n",
              "  '5fca6f9388f550000d9880d7',\n",
              "  '4f4fe9838053f10001000298',\n",
              "  '61ee842ce83f4f000b454263',\n",
              "  '54ff27fc7261692604de0d00',\n",
              "  '5db87dba2728aa000e57281b',\n",
              "  '5457106772616972ac740100',\n",
              "  '5e4e57015fe91b000e6b6fc7',\n",
              "  '5d406b5fc0740b000e5d88f4',\n",
              "  '623b8953b0799a000dece887',\n",
              "  '5d6198d79af90a000ec05ae6',\n",
              "  '604a8f074732590012631d1b',\n",
              "  '5dd7df57e436d4000efedfc4',\n",
              "  '5e27301c5d0e170012679e53',\n",
              "  '622119765258d6000de50c49',\n",
              "  '54ac3468726169255a861900',\n",
              "  '5a21c8af139b216aec3056f1',\n",
              "  '5f5159ee79148f000e940af7',\n",
              "  '6021bd64438721000ed6ab82',\n",
              "  '5fc148f44f437c0a6a79bb5f',\n",
              "  '5fb2ae7afc2c7200123354f4',\n",
              "  '61eea024100210000c7d6982',\n",
              "  '5cb898ec670a4a56ac16d6b7',\n",
              "  '61fb9c2e8878b4000d84b5c0',\n",
              "  '62279a50042cf7000b44b51e',\n",
              "  '5da60dbebedeaf00113dac47',\n",
              "  '62179e976e39f4000b050243',\n",
              "  '5e838a392a93cd0011ac4de9',\n",
              "  '55ed900f7261693bf700123e',\n",
              "  '5cae2d0bd351bb70991e92df',\n",
              "  '6053b5d2cd7c60001120a855',\n",
              "  '53456575cd530e5f92000077',\n",
              "  '625f8794cc32b3000c7f25c6',\n",
              "  '5abe7495c9dc2458cd2a6f71',\n",
              "  '60dca59c1d1d66001216c9ab',\n",
              "  '61d0b1d1b8e98f000bc9f630',\n",
              "  '62179c02e297df000b7035c2',\n",
              "  '603d41f15166d9001170efba',\n",
              "  '5cd5c223865535000d9f57f3',\n",
              "  '56310dc4726169545c000278',\n",
              "  '5e20c790b0d4c30012ca26f1',\n",
              "  '5b4cf936707b700d84341034',\n",
              "  '57634597cd530e5b8900089d',\n",
              "  '5efc8ea2d81ef8000e8a4db0',\n",
              "  '5203e643275b2486f5000296',\n",
              "  '6244a1baeabb65000bfecc5b',\n",
              "  '55377d2472616932a4231800',\n",
              "  '5e5ec9e741bde80011cb624c',\n",
              "  '54f1ef22726169096e860500',\n",
              "  '577ea7a57622dd4a72000112',\n",
              "  '6213af197a0871000e536992',\n",
              "  '623afb5271fe2a000b2a16a1',\n",
              "  '5d278bb1f0da48000ea4b02e',\n",
              "  '6202931cd2939f000b4f0d23',\n",
              "  '5c97b301d5b39c01835e48bb',\n",
              "  '6061edee1d58420010735032',\n",
              "  '6024556fbc197a0012fd8b69',\n",
              "  '5854680b8b0c140ee80001fb',\n",
              "  '625f87a9af00ef000babbbec',\n",
              "  '61ae3a0c725040000ba58874',\n",
              "  '6203f6fa433f55000d140f2b',\n",
              "  '62212868ee9a1f000dd2837d',\n",
              "  '5dc966c34373b8000d307aaf',\n",
              "  '4e678094b4ceec0001003ded',\n",
              "  '5a7c8cca2a893a0bfdac4e2f',\n",
              "  '62322b2967a3bb000b8983b9',\n",
              "  '5e5d755532c367000eabed4b',\n",
              "  '576eaf43275b247e43000699',\n",
              "  '61eea4a729cd2b000baec934',\n",
              "  '5c6dc5c12956f60029f6f264',\n",
              "  '60073fbe1a5f6700123e5949',\n",
              "  '5f2badcc8884060012e88be1',\n",
              "  '625f8795d98148000c184183',\n",
              "  '558afcc3726169062c00008a',\n",
              "  '5d3706962ae73a000e438642',\n",
              "  '625f87a72b8bb5000bc2a59e',\n",
              "  '619d5ea663269a000e2d610e',\n",
              "  '4fedd7eca77ade0001000f3c',\n",
              "  '5dfdf11774916300102e2f3d',\n",
              "  '5d407b9d3e784a000e7a111e',\n",
              "  '52571abfc9dc2416b20004a5',\n",
              "  '601f0e3bfaaf15000dd16759',\n",
              "  '54c085077261697d28220900',\n",
              "  '61b2acc7da6dfa000d4d5b60',\n",
              "  '5cd2dfd8dbbf6e266191019d',\n",
              "  '56916473a09a670a6f0002be',\n",
              "  '5ade3ff97622dd4986949a54',\n",
              "  '61a68ad5d9e742000cbd642b',\n",
              "  '5ecab5cf507384000e44008c',\n",
              "  '62335d06b1a9f9000c9081ae',\n",
              "  '62211bad0b606c000d3bab3f',\n",
              "  '5ade3ffccb4c273a6a8e9d2b',\n",
              "  '5ed7f769847d8e00118f6605',\n",
              "  '5ecd21e9aa088e00113240ac',\n",
              "  '5c3fa9ce0ee46862020a5612',\n",
              "  '5d93b15ae074ec000ea5d907',\n",
              "  '53334001139b21fdfc00052a',\n",
              "  '5fb54330e36d6e001231cd63',\n",
              "  '54ac345f7261695ea9ea1a00',\n",
              "  '5dd4647311382b000e974df8',\n",
              "  '61b92e76f03328000d94b0fb',\n",
              "  '5b216fa666fd1c7c8e0b3d0e',\n",
              "  '625f87903aef89000dc5dfba',\n",
              "  '621e66fc12a148000c9cc8dc',\n",
              "  '60219f41ca6e58000e824986',\n",
              "  '6213a4738fb54a000c4b802b',\n",
              "  '58fdfc38c9dc2437cf344fb4',\n",
              "  '542fe90e72616952c15d0700',\n",
              "  '5a984d79275b245d07089f40',\n",
              "  '5cbcb81f344d9b00130aba74',\n",
              "  '6024ded4012aaf0011ae8bfe',\n",
              "  '5e1e213258b416000d511a34',\n",
              "  '5f4d9196a16e2d000e0e7e7b',\n",
              "  '5c471c58e14e711f72beb4cb',\n",
              "  '5f5cd5c940cadf00122810c5',\n",
              "  '62114d609e90a0000d319f02',\n",
              "  '5bbe494f44110a202338044b',\n",
              "  '56db2e1a8b3b815fce00230e',\n",
              "  '5e8f143d308d360013e74756',\n",
              "  '612d3245f46c46000e95de12',\n",
              "  '601f2779ab567b000d0c0cc5',\n",
              "  '5e7ceec8a0f3cb00116968cf',\n",
              "  '5f98363de7fbb8000eb7d56f',\n",
              "  '5d0e5e2e68da15000e3b73ac',\n",
              "  '52c8b6628b3b81bf640002e3',\n",
              "  '56d9bf077622dd65820006d9',\n",
              "  '55c0f42472616905760000c1',\n",
              "  '585a71b4c9dc24610700044f',\n",
              "  '59e407352a893a4522fe3e32',\n",
              "  '614cf7092e2e1a000b888504',\n",
              "  '5a3ce2649c18db01aec4afd8',\n",
              "  '600bc3924988c5001189c500',\n",
              "  '5f46b3e9a9b5160012b34e4b',\n",
              "  '5c5b4b299ed13c0027e7edfe',\n",
              "  '5d66e4635dae4100110d4eeb',\n",
              "  '5e68cd84d22ff100120c34a5',\n",
              "  '5df9b72acea56b00121104c2',\n",
              "  '6025cf11f0d3f1000e3a1553',\n",
              "  '61dc94dc52a36e000e794607',\n",
              "  '620d5d41bb13a4000b1b916a',\n",
              "  '5cae655d11a162002e3f50cc',\n",
              "  '61fc48c7b26048000d116078',\n",
              "  '5bcb613f90893b031d060ee7',\n",
              "  '61940377aaba8b000ca7a880',\n",
              "  '62459c7b44e2a4000c4b4cbf',\n",
              "  '5d67aa2ee6bccb0011a6250a',\n",
              "  '62136b01f7245f000d1ea91a',\n",
              "  '53ea5d0e7261692d78d10100',\n",
              "  '6230a43dcd304a000ee873f6',\n",
              "  '5e73baeb102874000ecc5009',\n",
              "  '576eaf2dcb4c27036f0007b8',\n",
              "  '510864d823fbe689b4000411',\n",
              "  '5e6151b22e089f000da75ae8',\n",
              "  '5bff1fab4650d4240ddc12e3',\n",
              "  '61ee8942f41636000e15b363',\n",
              "  '53e945be726169471bc40200',\n",
              "  '5d507a5f40249a0012b29bc5',\n",
              "  '5d78139332915d000e740d6d',\n",
              "  '531790f6cd530e0a4a0001bd',\n",
              "  '57f91efbc9dc24336d000716',\n",
              "  '5f2c41d52355e2000e48ce26',\n",
              "  '5fe4c7fb1100c73868cfc952',\n",
              "  '61c8fc0b63c36b000cd4a8f1',\n",
              "  '6194db42aeadbb000b00d7cb',\n",
              "  '5d7c3f578f6936000ea1ab90',\n",
              "  '5ea9b27a9f3c8f001170590f',\n",
              "  '58405ee77622dd567a0000eb',\n",
              "  '5f78f249cc38b0000e9ab335',\n",
              "  '5dd7d409814fef0011f32e13',\n",
              "  '61ddfc33b76629000bc95274',\n",
              "  '602594b13e469b00128770b9',\n",
              "  '615e100bfa996d000ca1c733',\n",
              "  '57656d8bcb4c2765e700028c',\n",
              "  '61fb106740139e000d8faf67',\n",
              "  '5848642d8b3b810650000937',\n",
              "  '576960e3275b2461d1000114',\n",
              "  '5dfcfe353be099000e5be9d5',\n",
              "  '604a8799989a94000da9281c',\n",
              "  '60521c4fadafed0013978e2e',\n",
              "  '54ac3ea67261692b4e8d0d00',\n",
              "  '5d44ae4c3a03cb000e1b0824',\n",
              "  '6102fe8b7b98f5000f0b6a0a',\n",
              "  '5df39430d0c21b000e9d3636',\n",
              "  '61d5f882537884000b40019b',\n",
              "  '621e410dcaa7a5000eafb954',\n",
              "  '5e35cc13930f320012a01e4c',\n",
              "  '5a9ed2712a893a62582a6838',\n",
              "  '5e82513daf91b800121e5f43',\n",
              "  '61f95281fc6eb0000d6b36f6',\n",
              "  '5e35d203930f320012a01fc1',\n",
              "  '5fa9b676a73d4c001205ddfd',\n",
              "  '52598d4e8b3b810ef000148d',\n",
              "  '573625727622dd1d1c0001b7',\n",
              "  '5f9dd7f78152ce000ea5df5d',\n",
              "  '5f779eec572d2f0015ba6307',\n",
              "  '5e75069345ff7d000dee4feb',\n",
              "  '614244cc2556a9000c656ea9',\n",
              "  '61f278f94b1d91000df742be',\n",
              "  '619ea6e41f7e37000d7c7787',\n",
              "  '5957c614139b21385330a2cc',\n",
              "  '5e5d755d66752e0012e1a114',\n",
              "  '5aee42e0cb4c271380b33926',\n",
              "  '566001aa7076d03aec000082',\n",
              "  '5e49929a63eab400112ac6ff',\n",
              "  '6215570c77d116000d1f2914',\n",
              "  '5eb470a3d2e99f00121888a9',\n",
              "  '53bc12117261692ce0fa0000',\n",
              "  '5ea2ff13788a3200124aae75',\n",
              "  '58ad8063c9dc24397a85c7af',\n",
              "  '510864d765d048d01300046d',\n",
              "  '5aa8705f139b21369f1d12c8',\n",
              "  '525851ec7622dd27120002ec',\n",
              "  '61e6e524156cd0000b61786e',\n",
              "  '5658ec274b848063f4000156',\n",
              "  '6009bb58f22877000e717c43',\n",
              "  '61e9befe7f279a000dc20b2f',\n",
              "  '61f454c3fedaec000c1a56bc',\n",
              "  '623d2f0c5f2256000f821348',\n",
              "  '5d3d05ca94ad91000fd9c561',\n",
              "  '53a18ef2726169379e6f0500',\n",
              "  '623a19424c6521000ba1e2be',\n",
              "  '4e6780892b9500000100539f',\n",
              "  '536aa0851a1e8620fb000050',\n",
              "  '595e5c7f2a893a15496ff80b',\n",
              "  '60072f6a855834000f3b2141',\n",
              "  '54049ae57261692cff780100',\n",
              "  '5a6ccf529c18db7b4fea1625',\n",
              "  '56e0a701275b245c250026b5',\n",
              "  '54c8fa267261692bc3190000',\n",
              "  '600c958f5b479c2e8309eda3',\n",
              "  '622960817e799b000d11ab99',\n",
              "  '61992e63cd2135000b0263d1',\n",
              "  '58e28107cb4c275e434bd681',\n",
              "  '5dd69b0ff2080b00129a477d',\n",
              "  '5b40f722c9dc245c32ed1cc4',\n",
              "  '61f9b2465d7180000b164e5a',\n",
              "  '5bf945844911003d3c02748d',\n",
              "  '582b11438b3b812918000878',\n",
              "  '58a9b2528b3b81405ca5fc02',\n",
              "  '60775e87479b7b001297862c',\n",
              "  '5beda04809bf83104f04724f',\n",
              "  '618448c6c6bb4d000b69ad9d',\n",
              "  '621e3c01bf032b000bc14f6f',\n",
              "  '5968d2cfa09a677acf69bbf0',\n",
              "  '5cd33e0c1bc09f7c3c558f54',\n",
              "  '5facf4659f3e2a001132e68c',\n",
              "  '5dd6b8acc901bc0012cb0610',\n",
              "  '5de6c3aaf206620012b56f4e',\n",
              "  '61fb156c17a4af000d669da3',\n",
              "  '60d38e898dac430011d72e57',\n",
              "  '54c0852872616961ffba0800',\n",
              "  '5cf6e341fd2496000d84df85',\n",
              "  '5f6e8656b2f29d000df3833a',\n",
              "  '5c08220240c06e71f50a9146',\n",
              "  '577ea7a77622dd4ae30000cb',\n",
              "  '61be478d792650000db8d9b0',\n",
              "  '60562cec9f6fad000ee9de81',\n",
              "  '58e4f60c7622dd4accd9f84a',\n",
              "  '55cbb3717261690b8e000428',\n",
              "  '5face03a9f3e2a000dd80e0a',\n",
              "  '58bddc947622dd3c4f265044',\n",
              "  '5cc0275a2344ff5ce150aa43',\n",
              "  '5d781cc856373b0012bc3395',\n",
              "  '62339daa3baf13000d1f1984',\n",
              "  '602537ee9d64c80012bd1284',\n",
              "  '5aba8580a09a67566f013a68',\n",
              "  '52e248e31a1e86ca8f000148',\n",
              "  '5ef4bcc183c81800137e5be7',\n",
              "  '5e324c5debf51e00117cb1b3',\n",
              "  '624365f247e459000cc2a862',\n",
              "  '5b88670ca70c7a5609047d25',\n",
              "  '61a68d45039316000d36fb11',\n",
              "  '6125283b46df4b000e8a62a6',\n",
              "  '5e1e213384d9b4001135a6ef',\n",
              "  '5d166df90463d600128221d6',\n",
              "  '61f3d577e95692000db2c9f5',\n",
              "  '54f1ec777261692ffb050500',\n",
              "  '576c16f0275b24347e000d56',\n",
              "  '57c9cbbfcd530e65ff0006a5',\n",
              "  '5d4079d050d49d0012971e37',\n",
              "  '5906907b9c18db10bc497ccf',\n",
              "  '6171af6b0cb4ba000b572e9f',\n",
              "  '5bbe495ac88ec0235a33c3d9',\n",
              "  '5d892410d192b2000d978017',\n",
              "  '5e31bdd8beb3300012bfd3fa',\n",
              "  '614cf72a6e152f000cbe824f',\n",
              "  '62338136766beb000d9c5fce',\n",
              "  '518189ce250db9464000041e',\n",
              "  '57f91e9a139b21497e0007b9',\n",
              "  '62442bb8cced9e000cc6d908',\n",
              "  '5d4a0050125bab00118b9b83',\n",
              "  '57f52cadc9dc247b87000b4b',\n",
              "  '612fb9ed27ff89000e7412b4',\n",
              "  '52a79a0db202a38cbf000056',\n",
              "  '600adc3b52ec70000ea4e9d4',\n",
              "  '6234b5dca528cf000cfb6313',\n",
              "  '601af223cb4a1c00113fbd77',\n",
              "  '57658ba9cd530e65dd00059a',\n",
              "  '5c86afd207720520abdc3e9f',\n",
              "  '5d4ad782ebd7b40012c3d956',\n",
              "  '62179c5cddc225000ce341f5',\n",
              "  '5dab253377da24000edca382',\n",
              "  '6021bd6423573e000e8d5dd6',\n",
              "  '5b16bba09c18db42e9722c74',\n",
              "  '5bff28870a29233b03264a80',\n",
              "  '5db0dcec21c89a000fa5590d',\n",
              "  '62166e5802bb65000d68ac48',\n",
              "  '5d8777278101f7000e63a985',\n",
              "  '62227baed1f48f000eb98526',\n",
              "  '576861117622dd6ccf000280',\n",
              "  '5f849b70d63c6c00109f69ea',\n",
              "  '551aee0c7261692b52c30600',\n",
              "  '5a97473c275b245d0707f0fa',\n",
              "  '53a18efd726169379e790500',\n",
              "  '5f8b8ad4a1374c0010900a82',\n",
              "  '5e94c469b3a5ca0013c1b12b',\n",
              "  '576458db9c18db1b0300073c',\n",
              "  '60521c49532eb6000d22a9dc',\n",
              "  '617c90ad2ad999000ca3f329',\n",
              "  '62266d613ff245000da6e2b9',\n",
              "  '5e6a8c3723433c0012a62983',\n",
              "  '5cd2de15287f1a0a89f5011a',\n",
              "  '620511f711cab9000ee6a24a',\n",
              "  '60521c5040fb490011122dc7',\n",
              "  '5df0118c4e6681000edb7f5b',\n",
              "  '621f69d4f2f80d000df1f2a4',\n",
              "  '6221197b0b606c000bf43e10',\n",
              "  '6197f6ec8fc550000cca8935',\n",
              "  '5eb42824130808000ef1bf3c',\n",
              "  '61b1217d8505b0000b7f5b0c',\n",
              "  '5f7348fa97e8a200126292ca',\n",
              "  '5c522c70fd0bb339da199862',\n",
              "  '4f665b8e7cf7f70001000437',\n",
              "  '5c3fa9bb14e7e06b6840e5cb',\n",
              "  '61fe914d540a0a000ce6bac3',\n",
              "  '576960fb139b217ff000011c',\n",
              "  '57edabfb7622dd1ce00007b9',\n",
              "  '5ccb6b4046658673ffae9e4b',\n",
              "  '60c8b96fcaba670012d9b40d',\n",
              "  '577674b7275b244abf0024fe',\n",
              "  '61978aaa37c5c1000ca2a2b1',\n",
              "  '6218efeb8f4fc7000bb35ab6',\n",
              "  '576eaf24cb4c27036f0007ae',\n",
              "  '5516f0fd7261697dff980700',\n",
              "  '58e27eef7622dd698311d265',\n",
              "  '5cc1e91dab54e501c06f1b84',\n",
              "  '60f5d343f138ae000ecb43af',\n",
              "  '5df9b7434ac8ec00134174e0',\n",
              "  '5a78b1afb202a348b367c9a6',\n",
              "  '5372562fa09a674e500006be',\n",
              "  '6223f79b4f109f000c184fde',\n",
              "  '557ed96e7261692b8b00005b',\n",
              "  '5e235c56e2b26b000dd22cac',\n",
              "  '61d6f9fe4d72ba000d2c1d88',\n",
              "  '577ec6859c18db285a00046c',\n",
              "  '5f984c524e67e70012bbb40b',\n",
              "  '5f8b8acfbb433f0012df9821',\n",
              "  '6073f24aeb6f08000fb0bfd1',\n",
              "  '4d9f6f5a98c33240b900278d',\n",
              "  '59fb6e358b3b8103906b4d9c',\n",
              "  '61fc671ed29b4d000b6b9690',\n",
              "  '558a854d72616911fd000599',\n",
              "  '54ac33377261692c8f950200',\n",
              "  '576eaf3f7622dd1b4500074c',\n",
              "  '569036624b848065090000ec',\n",
              "  '605a40889a5e580011b022c8',\n",
              "  '5e8b58f94dcf980011c97564',\n",
              "  '61eea4a79ada64000ba66dc5',\n",
              "  '5dcf12fbeea2250011c3e68c',\n",
              "  '53cd1f85726169562c950100',\n",
              "  '512612807637711308000710',\n",
              "  '558a852b72616956f500077a',\n",
              "  '580a64a78b3b8134a0001e6a',\n",
              "  '58a4e2eb8b3b8146855fb8c6',\n",
              "  '621822786e39f4000c2f4f09',\n",
              "  '5ef23acd6a879f000ed4f828',\n",
              "  '5faa841a892853000ef6a98d',\n",
              "  '5f3daeca993f61001208bc81',\n",
              "  '5d2de06c05dea40012587295',\n",
              "  '620d084c1e860f000cc4c355',\n",
              "  '5ba1411c3794b800272b7ad3',\n",
              "  '58136d80275b2456a5000a4f',\n",
              "  '571e70f68b3b813622003029',\n",
              "  '621396a8bb29ce000edb45fc',\n",
              "  '62211cd53e609c000cb6b57f',\n",
              "  '5f50fcbaba960c0012e1a28a',\n",
              "  '623b7c166a2cb5000c4c12be',\n",
              "  '62322d5764803b000c8c145d',\n",
              "  '58700c82139b212c750028f7',\n",
              "  '58ad8049b202a34cb17b1a55',\n",
              "  '62322049c99f87000c2ac7f0',\n",
              "  '580a45b4139b216b2d002052',\n",
              "  '5ed7f769e5017e000e80f8e1',\n",
              "  '622379e5e8f791000c2bd474',\n",
              "  '58824c8fb202a364610003b6',\n",
              "  '5eb58b1b01a83e000e91b3ea',\n",
              "  '5e59335a5035b20011a68089',\n",
              "  '510864d716ec5d3e35000298',\n",
              "  '58238b61cd530e27a1000188',\n",
              "  '5b48f67ef0e4771daafed5de',\n",
              "  '61a79369fd5666000d49161b',\n",
              "  '620fc169c9a9f6000dab4ba4',\n",
              "  '5f86f6e9ec24c4000e2c97ad',\n",
              "  '5818fdfd139b211797000413',\n",
              "  '5f9aeeceea2ce8000e74260b',\n",
              "  '5b8191e5a50b102bde826bff',\n",
              "  '5a691894cd530e4f74c1f9f3',\n",
              "  '600d9be3e1771400129b2f0f',\n",
              "  '620d0382d861b6000e653e3c',\n",
              "  '62326ef2cd7d54000e8eb72e',\n",
              "  '614cf6f1472b1f000efd6a50',\n",
              "  '6223e82e3e609c000dc30e4e',\n",
              "  '56be4b47b8bad47a2000008f',\n",
              "  '576eaf57b202a34fc40006b8',\n",
              "  '621e91e9cc594d000d8cf720',\n",
              "  '61f9b2025e90ad000d8d7d55',\n",
              "  '604beb76de93e7000d0d02c6',\n",
              "  '5e8c6729d6bfde000e22b287',\n",
              "  '61daf3361696e6000c29f937',\n",
              "  '6244a047a578ba000b06c19f',\n",
              "  '5f3b9bf328ca9c0015ec3c19',\n",
              "  '53a1a4a97261692cf12b0000',\n",
              "  '61edea470c8cc9000ee0996c',\n",
              "  '53a1ffb4726169537c310200',\n",
              "  '5e4af4641df4500012d91e6a',\n",
              "  '61e9befec06d86000c620278',\n",
              "  '5dd4647549344700143a45b3',\n",
              "  '530540ec9c18db2a830001e4',\n",
              "  '5fb2977282ce85000e0361ac',\n",
              "  '53e945cc72616935ee9c0200',\n",
              "  '5d40825ca19f5300140492c5',\n",
              "  '5c3f843e545c0639bc9ed31b',\n",
              "  '61b5dfbdb2dda1000cf8f962',\n",
              "  '60efa645c5aa79000f393a70',\n",
              "  '620cde355e27a5000efb22e1',\n",
              "  '5ee9270a4b94dd0011f409cb',\n",
              "  '59b1a3b6a09a6726186f3eb5',\n",
              "  '61ccbf1af9f7df000daab245',\n",
              "  '6238d54886a4ad000ea06966',\n",
              "  '5f3ecf3e47049f000e8b99bc',\n",
              "  '57d6bfcab202a365ff000236',\n",
              "  '5b5f76792158610025fb89b5',\n",
              "  '625f87a03aef89000cb96a87',\n",
              "  '5bf9358c1353fe178a5086c4',\n",
              "  '5e5d7555fc99af000e6a5cca',\n",
              "  '61f2b05d9a666d000c7677d2',\n",
              "  '6213798d38e682000eb4ee07',\n",
              "  '54ac34047261692b7abf0100',\n",
              "  '574efc189c18db5ee60011f7',\n",
              "  '604a723cf3a045000e3db228',\n",
              "  '61e6ae274babe3000b94bcb7',\n",
              "  '60562cece813eb000e1c3929',\n",
              "  '5e75064345ff7d000dee4fc6',\n",
              "  '5c6dc5e3159f6d31c6c12de1',\n",
              "  '61fb338a3ca91e000c66d5d8',\n",
              "  '5b0312aea09a674bdab20f9c',\n",
              "  '55c0f65572616925bc000068',\n",
              "  '542feb6b72616952c8d20600',\n",
              "  '530b93607622ddc07600007b',\n",
              "  '6230ec4d656725000c989b6e',\n",
              "  '5da9e5808f6a28000e6445bf',\n",
              "  '5eb323c01ecb97001281615e',\n",
              "  '576eaf6f7622dd1a700006ae',\n",
              "  '5d71563d3b546c000e2096be',\n",
              "  '6234b042c45031000b92167d',\n",
              "  '61e87f9e006abe000defb116',\n",
              "  '4f665b8d3b09e60001000159',\n",
              "  '5f78f27295f33800123ab1ff',\n",
              "  '60538599b28159000dafcf3a',\n",
              "  '619411e01f44dc000deed79a',\n",
              "  '584c3b378b0c14133900075c',\n",
              "  '59d3d16e275b242f3cce5d96',\n",
              "  '62179c47ffb7d8000d908e3f',\n",
              "  '54ee158972616964b4bd0200',\n",
              "  '5d45bd2542a1ce000e040a0f',\n",
              "  '61c7b27d8ffff2000c64e096',\n",
              "  '5fca8b6399e24238d273fdbc',\n",
              "  '61b1217a6c1f8b000bb3d264',\n",
              "  '597176b19c18db2782ce3611',\n",
              "  '5de4b2db893c590012921556',\n",
              "  '580a825ecd530e6584000574',\n",
              "  '5fb53d2fa8cf1300127bf667',\n",
              "  '5fca7d2f5279bc0011f95e34',\n",
              "  '60c3fd67a7e5950013bd0ae4',\n",
              "  '56d0adcdb8bad46700000092',\n",
              "  '57ffc62b139b2151e40015ca',\n",
              "  '54fa10b77261690dee3a4600',\n",
              "  '56f5a6b18b3b813f66000c4e',\n",
              "  '5ea1dc8da5b0c9001258ce71',\n",
              "  '54ff200272616937e4d80c00',\n",
              "  '60104cde5733107d36807bd1',\n",
              "  '62026531f67a4d000d0dd5b1',\n",
              "  '5fb52f04b73481000e652746',\n",
              "  '5e307c753cde47000fa0eed9',\n",
              "  '5e5d755732c3670012b70c4e',\n",
              "  '5a10834cb202a34d802b6a77',\n",
              "  '53f9066d72616974490e0c00',\n",
              "  '5e5d755766752e000e0333a1',\n",
              "  '57ec16fa139b212e94000180',\n",
              "  '5d3505ebeef9c000111029fb',\n",
              "  '5eeaa1765e593d0012135164',\n",
              "  '549cb842726169234b950b00',\n",
              "  '5c390010f3663e1fcc5cdb37',\n",
              "  '62211bb03e609c000cb6b485',\n",
              "  '5b929b0bcc775f0e6825cc0a',\n",
              "  '576c11998b3b810365000d65',\n",
              "  '5cc5ac65b4d1412908af005c',\n",
              "  '6036812c6a7705000da8d1c8',\n",
              "  '61d8acf4fb5417000d3e2bf9',\n",
              "  '5cb619dfcff6ad002c674d1b',\n",
              "  '59fd943d2a893a4cbc7a3b3a',\n",
              "  '6101ee9671b89f000ed2bc63',\n",
              "  '62157cb1cb01c1000d638ad1',\n",
              "  '5259d46b139b21e10700180d',\n",
              "  '5e1afa9b71c1060013b91d7d',\n",
              "  '620e92d5c93d66000ddbbd0d',\n",
              "  '616b267917407f000b959e73',\n",
              "  '625edf7a4b02fe000be0b5bd',\n",
              "  '5acfcc52a09a6729e6e9b19a',\n",
              "  '53e65dfd7261694d8cc60400',\n",
              "  '56d1d39b6d932d445e0002ff',\n",
              "  '5c119243bb63434a2d777508',\n",
              "  '5f59561d520fd9000d1dfa31',\n",
              "  '62443bf6fac668000c5d27e4',\n",
              "  '61b6497762cef6000d4d2478',\n",
              "  '5659d7628b3b817a1b0003da',\n",
              "  '6223a992514017000cc6d7af',\n",
              "  '6070e73fcaa0c60012c81814',\n",
              "  '571410727622dd659f0008a6',\n",
              "  '61a68cd5c338e4000c3f90a7',\n",
              "  '62212727723e5f000f0cd3aa',\n",
              "  '601d0b45bbb5ea5dd1aa1d64',\n",
              "  '58a1f2c3b202a34cacc5711d',\n",
              "  '5984a012cd530e4d62c13368',\n",
              "  '5d556f410721f400112b27a3',\n",
              "  '5f8b2a63a775d4000e2a33d5',\n",
              "  '61d6f97b4d72ba000b8495d5',\n",
              "  '623ca65201e4cf00112b6199',\n",
              "  '5b8ec9f1c1af042cb395cb92',\n",
              "  '5a21370f7622dd515465164e',\n",
              "  '5fce89bec657c42dbfb0a749',\n",
              "  '57ece276a09a672331000adc',\n",
              "  '576d6d5e275b24706500001e',\n",
              "  '587dee81c9dc2465eb002805',\n",
              "  '61954a81c69e39000b5def1f',\n",
              "  '6193be00b340a6000d9bca10',\n",
              "  '6215573b85c63b000d1fce27',\n",
              "  '5df4de946fe7e706041c3674',\n",
              "  '6236793c680fcf000c4cf2e7',\n",
              "  '58c03323139b2176d2046b80',\n",
              "  '5e4d558c17a3090012b1bb85',\n",
              "  '6020560643d13c58f4cf07b6',\n",
              "  '5f109f1812843e0012639193',\n",
              "  '617c5c8976509a000ce2c1c8',\n",
              "  '56957321cb4c27651c0000c9',\n",
              "  '5f3beee2047fac00122757c5',\n",
              "  '569030594c0af5715000017d',\n",
              "  '61b1217be96b59000c4f66d6',\n",
              "  '5d850243691ba8000d94a22f',\n",
              "  '5ea04fc8d260100012683b54',\n",
              "  '62459c6384b59f000cb13277',\n",
              "  '5ddde7e7f73e7100117ea298',\n",
              "  '61df408aea4c7b000b9ed4a2',\n",
              "  '5f50c8135e3f0a000f0e4c4c',\n",
              "  '55f868c17261692466000091',\n",
              "  '6223c0489e03a2000d33b134',\n",
              "  '61d8accba2517f000b60c622',\n",
              "  '5d7813969a7a200015d1325a',\n",
              "  '5de8f3ece114bb000d3d6b51',\n",
              "  '53caed3372616933824d0e00',\n",
              "  '5e5fe268b0b570000db04be6',\n",
              "  '56e949d38b3b812a50000a48',\n",
              "  '62226d941c9af3000c71b422',\n",
              "  '5fb95ed79197d1000e6d3434',\n",
              "  '61996f49afa5a3000ca2ef82',\n",
              "  '5e5d7557d1a6ed000edb9ef0',\n",
              "  '603ec7ee503c30000db9a7e5',\n",
              "  '6217d9309c37c3000d870b19',\n",
              "  '620fef08942748000dc3e8ed',\n",
              "  '61cdcb93b3f7f2000ce51814',\n",
              "  '512632f37257c5eb6900002f',\n",
              "  '61e15d97f6d295000ce9fdff',\n",
              "  '61e1c4cdfb221c000b830485',\n",
              "  '5facf5e9834b4b000ec602ba',\n",
              "  '59aeca2d7622dd4d750af7e3',\n",
              "  '6078937e5f2a700012568fb2',\n",
              "  '604e0338b71bf5000d46f01e',\n",
              "  '62459c62758a48000b9ab3a2',\n",
              "  '5e51874167a13c000ed751d4',\n",
              "  '5d37189d06c9c8001232207c',\n",
              "  '62459c7c758a48000b9ab3d3',\n",
              "  '623ded335cf639000da4e8ac',\n",
              "  '5ebd51983fc8010012902244',\n",
              "  '54ff1ca17261691ac5730c00',\n",
              "  '60521c4eb4a05c000ebe1b8e',\n",
              "  '6047e21b67967a000e9c0d88',\n",
              "  '60dd86a27b90800010f1365b',\n",
              "  '612274269524a4000d54693c',\n",
              "  '54c085077261692198710800',\n",
              "  '61d209832cf707000e1979cc',\n",
              "  '61d57f7d838f5c000e30b9da',\n",
              "  '5df9b7021a95be00121834b9',\n",
              "  '5d2de33d9373d7000f186b42',\n",
              "  '6220d7285cadd7000d06b90e',\n",
              "  '55797ca472616934ae000106',\n",
              "  '5db1b76e7c1a60000e57f064',\n",
              "  '5e6d17e2d7c63b001215ad91',\n",
              "  '61c4d2caf99957000d617afa',\n",
              "  '53333ff0275b24e46e0005ba',\n",
              "  '60562ced89ac10000d882110',\n",
              "  '564c9588cb4c2763f300003a',\n",
              "  '5389bacb8b3b8118e80000aa',\n",
              "  '619568e481a961000da68f5c',\n",
              "  '60d0a60fe45d0d00126bf534',\n",
              "  '601b0027bbb5ea000d9509ef',\n",
              "  '584c3b371a1e86645c00002b',\n",
              "  '6189570d74a865000d92bbd1',\n",
              "  '5c002d53c269994182d63117',\n",
              "  '5ece13ecc61da800125f3d4e',\n",
              "  '620d35598b6afd000bdb79a0',\n",
              "  '623857f734752b000c009b55',\n",
              "  '58824dd1139b210391002cfb',\n",
              "  '57291061cb4c2772e40001e4',\n",
              "  '56b8f88d5b2fba2ff7000015',\n",
              "  '5e29b23901e28f001207ab4e',\n",
              "  '6008028f4533180011ca6dd2',\n",
              "  '5e542ff697123a000f62bbcb',\n",
              "  '5a1ebbcfb202a351632c1fe0',\n",
              "  '5678336b7076d04e46000062',\n",
              "  '58e25a28b202a35ad3ad3184',\n",
              "  '5ecd2464a2851100129867c5',\n",
              "  '5f1b51bd0f3e270012d87bed',\n",
              "  '580a4602139b216b2d00205b',\n",
              "  '621362c74c6452000b527f5a',\n",
              "  '5bf946ee3854025ab3371853',\n",
              "  '57cf1860cd530e65fe000897',\n",
              "  '62459c713a53e4000ead7722',\n",
              "  '572ce2d78b3b81225b001acf',\n",
              "  '51e96c688b3b81e12b000293',\n",
              "  '62349856ead91f000cbb180f',\n",
              "  '6202db4b32eecf000b5770e2',\n",
              "  '58599609275b24455c0003ce',\n",
              "  '5cb7a58fd496a62ec4f87b16',\n",
              "  '5f3d85f0047fac001227b073',\n",
              "  '5b1188cba09a670f6a93e10d',\n",
              "  '60088037635ec8001299a405',\n",
              "  '606c72b6cf21a1000dae65a2',\n",
              "  '5db0dcecf3f628000ee43ef9',\n",
              "  '55e47bcf7261693da100011c',\n",
              "  '5dae0f04301916000e799209',\n",
              "  '6231eeac61e315000c4c1abd',\n",
              "  '53d92848726169083c930000',\n",
              "  '610491f8d7edcf000f0b65e8',\n",
              "  '61aa9ca12f1313000bcd3996',\n",
              "  '52571128a09a67fed50003a1',\n",
              "  '6078887c78d85c000efda213',\n",
              "  '5626723a726169756100039d',\n",
              "  '618d29a7651427000c802611',\n",
              "  '5f20b1d3326786001365db9c',\n",
              "  '615c640d8e9cca000cbb2a47',\n",
              "  '52d39d258b3b81a1070000c0',\n",
              "  ...],\n",
              " 'category_id': '03',\n",
              " 'id': '03204',\n",
              " 'link': '/gene/post-war-american-art',\n",
              " 'name': 'Post-War American Art',\n",
              " 'parsing_date': '2022-03-29',\n",
              " 'updating_date': '2022-04-21'}"
            ]
          },
          "metadata": {},
          "execution_count": 103
        }
      ]
    },
    {
      "cell_type": "code",
      "source": [
        "genes_dict['nft']"
      ],
      "metadata": {
        "colab": {
          "base_uri": "https://localhost:8080/"
        },
        "id": "r-lyCswRVy3S",
        "outputId": "70068494-e480-473f-f273-14df8f3fd8f9"
      },
      "execution_count": 396,
      "outputs": [
        {
          "output_type": "execute_result",
          "data": {
            "text/plain": [
              "{'artist_id': ['27594',\n",
              "  '46719',\n",
              "  '04041',\n",
              "  '11053',\n",
              "  '26219',\n",
              "  '24911',\n",
              "  '46715',\n",
              "  '46710',\n",
              "  '20712',\n",
              "  '27147',\n",
              "  '03848',\n",
              "  '46721',\n",
              "  '46713',\n",
              "  '04081',\n",
              "  '08581',\n",
              "  '05536',\n",
              "  '06705',\n",
              "  '06752',\n",
              "  '33053',\n",
              "  '00169',\n",
              "  '31242',\n",
              "  '15867',\n",
              "  '46714',\n",
              "  '05160',\n",
              "  '46727',\n",
              "  '26734',\n",
              "  '04183',\n",
              "  '06720',\n",
              "  '23290',\n",
              "  '30970',\n",
              "  '19602',\n",
              "  '26485',\n",
              "  '30167',\n",
              "  '06868',\n",
              "  '06570',\n",
              "  '11408',\n",
              "  '25295',\n",
              "  '01823',\n",
              "  '24326',\n",
              "  '21779',\n",
              "  '10503',\n",
              "  '25145',\n",
              "  '16525',\n",
              "  '06557',\n",
              "  '46728',\n",
              "  '02560',\n",
              "  '03702',\n",
              "  '20026',\n",
              "  '46723',\n",
              "  '29563',\n",
              "  '04867',\n",
              "  '13573',\n",
              "  '01121',\n",
              "  '46730',\n",
              "  '03140',\n",
              "  '21772',\n",
              "  '20893',\n",
              "  '46726',\n",
              "  '09949',\n",
              "  '27539',\n",
              "  '23303',\n",
              "  '20273',\n",
              "  '08515',\n",
              "  '16827',\n",
              "  '46716',\n",
              "  '27692',\n",
              "  '16920',\n",
              "  '31326',\n",
              "  '04449',\n",
              "  '27875',\n",
              "  '46718',\n",
              "  '00040',\n",
              "  '42438',\n",
              "  '09778',\n",
              "  '32374',\n",
              "  '28251',\n",
              "  '07413',\n",
              "  '46717',\n",
              "  '13584',\n",
              "  '33838',\n",
              "  '28779',\n",
              "  '25685',\n",
              "  '17724',\n",
              "  '46725',\n",
              "  '27412',\n",
              "  '11886',\n",
              "  '18653',\n",
              "  '46720',\n",
              "  '26660',\n",
              "  '46709',\n",
              "  '29946',\n",
              "  '29662',\n",
              "  '16168',\n",
              "  '00754',\n",
              "  '32575',\n",
              "  '14713',\n",
              "  '14899',\n",
              "  '46724',\n",
              "  '12877',\n",
              "  '16040',\n",
              "  '46729',\n",
              "  '00417',\n",
              "  '07999',\n",
              "  '01672',\n",
              "  '30020',\n",
              "  '24226',\n",
              "  '08108',\n",
              "  '09308',\n",
              "  '17981',\n",
              "  '21196',\n",
              "  '06625'],\n",
              " 'artsy_id': ['622f578bc207b4000b17b3ba',\n",
              "  '6230f918db8c27000d50df8d',\n",
              "  '618cee1217066f000d98190c',\n",
              "  '61f333da8a3d6c000d30e1ce',\n",
              "  '61e597680d2da0000bf7ac49',\n",
              "  '624c0f4c1921db000e913de4',\n",
              "  '6220b6706633ce000eb17586',\n",
              "  '6222121915c61f000c296aaf',\n",
              "  '60ee92a620e2690012b1b1ac',\n",
              "  '620d4e5c32fe75000b65e6b0',\n",
              "  '622211a999b8f4000d8cff2e',\n",
              "  '620d5084d42424000b5861c8',\n",
              "  '61f58332b8a5b0000cc3829f',\n",
              "  '622f578b775d1d000b1bb165',\n",
              "  '6064efa9342cd0000e7477eb',\n",
              "  '6231054817e616000b0b389e',\n",
              "  '621919e5d8eecd000c47b135',\n",
              "  '6230ffb352889e000de4f15e',\n",
              "  '61be0fc6d8624f000d09ffba',\n",
              "  '61fd7fb4e008a2000d6b93c3',\n",
              "  '6195e7d0ec21a7000d25a8de',\n",
              "  '615db41d2ebd74000b5bce84',\n",
              "  '608987eb8b03f900135d1b76',\n",
              "  '61aa2f36cccc29000bcf2e82',\n",
              "  '62237fd43e609c000dc2ac58',\n",
              "  '615da9cd2ebd74000dbca3fe',\n",
              "  '6195268e1f44dc000c52e58e',\n",
              "  '6193e22b373b73000b0fe943',\n",
              "  '624a76c7a3259b000e7c3ef3',\n",
              "  '60882a30acf36d000ef20e0e',\n",
              "  '62003cdd5d6e68000be31211',\n",
              "  '621917595d885f000b513576',\n",
              "  '621919e41b2bbc000bab6747',\n",
              "  '62500770d97b19000ce0225a',\n",
              "  '61d8ac5b81af74000dfd9ff8',\n",
              "  '60b8f973f0e8ae0013f20f2d',\n",
              "  '60899160f76f96001366a467',\n",
              "  '619d2547fa694a000b0e6f3d',\n",
              "  '60f0123008278900128fca9f',\n",
              "  '61aa307a97b819000ef9384e',\n",
              "  '623103d964803b000e1c4568',\n",
              "  '62186dfbee6b52000b06e989',\n",
              "  '61a36f3a416a8d000bfccc27',\n",
              "  '623dc4b4dc8515000c14fcb8',\n",
              "  '624a73efa3259b000c26608b',\n",
              "  '6223787ee8f791000e480487',\n",
              "  '608a0017e38b350014d8669b',\n",
              "  '61b0dd6cc93866000cfc891d',\n",
              "  '61fd7fb13e73b9000cf9f02b',\n",
              "  '6218146e3ce20e000e179d60',\n",
              "  '620a77f2fea647000c202da1',\n",
              "  '623e1f126d11ff000cbc184a',\n",
              "  '621e60e7911401000b084b14',\n",
              "  '621921db61a45e000dd19259',\n",
              "  '620b7345682ce4000d8dc094',\n",
              "  '622a30aaef8c99000c8ee197',\n",
              "  '620fab3bc9a9f6000dab368d',\n",
              "  '6089fe09aed126001290df11',\n",
              "  '60882a6bdca50e0010682373',\n",
              "  '62442c1eb77844000daa7a31',\n",
              "  '6196a5361d916a000d204c6c',\n",
              "  '62191759647b89000d89393c',\n",
              "  '6047a3ac26161d001215b8df',\n",
              "  '6170041241add2000ed3e203',\n",
              "  '60898c56745e68000f2b6379',\n",
              "  '621e1014d8e734000d7afe8b',\n",
              "  '624ad400f15311000dc34719',\n",
              "  '6233509f54bef5000c102eaa',\n",
              "  '621e10d9fb725d000c6313c4',\n",
              "  '624a6b63c77b5e000de0fdf8',\n",
              "  '6219143bda6402000eaf4aca',\n",
              "  '6195e4c1231ecc000c2e7689',\n",
              "  '60898e9c0013cd000ee73dea',\n",
              "  '62500769a15c60000dda1d56',\n",
              "  '619572af9bb476000da5f24e',\n",
              "  '61be0ce823eeeb000b55650a',\n",
              "  '60898fa49b9048000e755cd1',\n",
              "  '6149c4b511f501000b4db591',\n",
              "  '6231f535c00656000ba3a539',\n",
              "  '617aac989fb87e000b7bf85e',\n",
              "  '61201d7d86ffad000c092688',\n",
              "  '62224c630b606c000bf566ec',\n",
              "  '61fcfd162a63f5000c236c91',\n",
              "  '611c41916fca5b000fd0f059',\n",
              "  '61a36fdcf12183000c30afaa',\n",
              "  '6149fddaa02a13000e8b1365',\n",
              "  '608923810396e100133cd428',\n",
              "  '618fe2232a9dd5000d8e2d2a',\n",
              "  '62442b9f4d4ea5000ccf5d00',\n",
              "  '624a6d3241a9b0000c3326b6',\n",
              "  '624a63de20573b000eb57c06',\n",
              "  '619527b01ce16c000d8c8800',\n",
              "  '620eb5f695eee1000d8e5a3c',\n",
              "  '62442ac9060cc4000dab7865',\n",
              "  '6149ed8ee45461000ca56262',\n",
              "  '612f3ebcb31886000c0d4b57',\n",
              "  '623119283acb43000b15e117',\n",
              "  '622f0d96090708000e3d9483',\n",
              "  '61fd6ea63644b6000ce3aa3e',\n",
              "  '60898ff8a1a4c400126706b8',\n",
              "  '6230fbc7656725000db54d4a',\n",
              "  '6227176f59da54000c9e6ed5',\n",
              "  '6193de66e957a3000d82f9ac',\n",
              "  '621876a5d755e3000d4b727c',\n",
              "  '6230fdce3af000000c8b8c43',\n",
              "  '60411090d8c8da00118e6177',\n",
              "  '6196a5241f1534000b8aec70',\n",
              "  '621921dc787c88000e557651',\n",
              "  '615ee80dea8c22000daf99dc',\n",
              "  '620a68d953dd42000c9fa9ab',\n",
              "  '614477b3d992e2000ede7222',\n",
              "  '62164b5dff2aff000ede03ae',\n",
              "  '62160d615ceac2000b951c22',\n",
              "  '621f38846f6f54000d9b18ae',\n",
              "  '6235314a8e0813000e8afff4',\n",
              "  '608956074ca4de000eabc3ed',\n",
              "  '620a6f82fc3035000dd22754',\n",
              "  '6193ea2b08e6b2000b8de316',\n",
              "  '60f00aa4c5aa79000f398f39',\n",
              "  '62276ef97e307f000b4ddc7a',\n",
              "  '61927918213cbd000c2721be',\n",
              "  '6193df6b66eb75000c5e2fe9',\n",
              "  '6217ddcd2f100e000d88e971',\n",
              "  '6239735aabd80c000c4180aa',\n",
              "  '621876a591ce4a000dca79b9',\n",
              "  '622ddca5cf1fd3000d0b3eab',\n",
              "  '614dd279436c6f000c54ea96',\n",
              "  '6233509e747ab6000ba34bf9',\n",
              "  '621f48db9eadd8000cd0902c',\n",
              "  '6219104ed8eecd000c47a78a',\n",
              "  '6135165178500e000cdb60ee',\n",
              "  '61a0ff76772b49000be0a244',\n",
              "  '6194e1a7d0bb7b000d90fc66',\n",
              "  '6149c48e224e99000dba9b26',\n",
              "  '61be0e0c3c517e000ef1ec68',\n",
              "  '6149edb789a97b000ca5f0ff',\n",
              "  '60898f24745e6800137c9a85',\n",
              "  '6149f50cbec99e000b023ba4',\n",
              "  '620fab3ba3ddbf000c805b19',\n",
              "  '621919a1c08f34000d6e4e76',\n",
              "  '621921dd61a45e000bc36767',\n",
              "  '619277935e679c000c652edc',\n",
              "  '623d6cef3a53c2000cc0f4c0',\n",
              "  '619572ad4c4986000c652224',\n",
              "  '615db5fb28b240000ca6a9df',\n",
              "  '5fbd73601dd2c430506b1dd4',\n",
              "  '6195d435b7a671000d029337',\n",
              "  '60892382f76f96000f6db5f0',\n",
              "  '623e46c60b71f5000d32f0db',\n",
              "  '60b79e24dd9356001343493b',\n",
              "  '61a36fbf41d6d9000b4f24ea',\n",
              "  '61952b73b340a6000d9d436a',\n",
              "  '604cd092f7a34400110d24ba',\n",
              "  '60edb503f41ac30012620305',\n",
              "  '6227e6f69dc15b000c2ee603',\n",
              "  '61a0f6d1a4988a000c680c7f',\n",
              "  '620a49f2fea647000ba59c6c',\n",
              "  '61312033464e3c000ca82d63',\n",
              "  '620a49f37c6699000c370794',\n",
              "  '61a0fa2e1bb11c000b588a31',\n",
              "  '62484e94f0d1fc000ecf2444',\n",
              "  '61f277ded8310d000cca9b53',\n",
              "  '62273fd2497244000dace621',\n",
              "  '6220b5cefa3555000d1ca04f',\n",
              "  '608992254163ac0012d8829d',\n",
              "  '616abe28d55d48000bb1c305',\n",
              "  '619572acb685c5000ceca694',\n",
              "  '621dbe21caa7a5000c2604c4',\n",
              "  '62190e6f6eda7a000ce9d39a',\n",
              "  '620a47e894b381000c755777',\n",
              "  '609a884edb50c2000e4eacff',\n",
              "  '62191759647b89000d893941',\n",
              "  '6149f02e23ce4c000cbb5ae5',\n",
              "  '6196a6a037c5c1000ca1acb9',\n",
              "  '620fab3b63368e000d7509b3',\n",
              "  '611d35f1e643bb000caae58e',\n",
              "  '624c0f8be36099000d49f0d2',\n",
              "  '622211aa1c9af3000c715e21',\n",
              "  '615ee6c978ead0000caa5f9f',\n",
              "  '623d72bbd4c47f000c5a4ab2',\n",
              "  '6193e0951f44dc000deea756',\n",
              "  '61927a049d8acd000bc03429',\n",
              "  '6193e3bedd2449000d677dfd',\n",
              "  '619d23c58c9a7a000c92ebce',\n",
              "  '60d4be0e83d13a001332cc14',\n",
              "  '618cee12651427000c7fe7f0',\n",
              "  '622da70b7c3db2000b4547c4',\n",
              "  '6233509f0c6895000c5c4f65',\n",
              "  '621921dcda6402000c858c86',\n",
              "  '61e56a9b0c5ab3000ce3cbcc',\n",
              "  '6198b0ff5cf1b2000eb2e8fc',\n",
              "  '6241c2b5cab04c000bddb192',\n",
              "  '61a36f6be3542d000bbe52e2',\n",
              "  '6219143b61a45e000dd1867a',\n",
              "  '613d05423c5e30000b2a3f33',\n",
              "  '6149f82ee198cb000c069834',\n",
              "  '6217d6f1ffb7d8000d90c1b4',\n",
              "  '61aa735aac95c2000d636419',\n",
              "  '624a63de628670000d5c44ad',\n",
              "  '60e8522bc9a99b000eadc189',\n",
              "  '62347b70c57009000d045ac7',\n",
              "  '611c4d318d65ba000ff91547',\n",
              "  '622ddf9169467d000ce2db01',\n",
              "  '608982f810b9bb000ee1ec83',\n",
              "  '60b3a710b1469f00123ff04f',\n",
              "  '620a4853c38cc3000ecdce60',\n",
              "  '6227514645db7a000e3a26b4',\n",
              "  '6215fd4d45f8ad000da5c8ea',\n",
              "  '620a6687b5965e000cd08bb9',\n",
              "  '60f883b24321f000135a33b7',\n",
              "  '602eff03f242f8000e0c18c2',\n",
              "  '61f973808de4a4000bca2be4',\n",
              "  '608987018ce284000f05eac8',\n",
              "  '61a0fea5a4988a000bddbd7c',\n",
              "  '624a63def972fe000c573865',\n",
              "  '623109d5e25edd000c674868',\n",
              "  '619205c4700954000c89b069',\n",
              "  '623108c1c99f87000c29c407',\n",
              "  '621921dc5fd5b9000d8d186a',\n",
              "  '6219143b3deebf000b70563a',\n",
              "  '62190e6f3deebf000b70506d',\n",
              "  '61aa2d3a97b819000c6871e0',\n",
              "  '615dca9dfa996d000d03d3db',\n",
              "  '61fd7fb4b9ff6c000c84bbdc',\n",
              "  '6194e2dbb4c185000c4882e1',\n",
              "  '6149f3840acef0000cd662fc',\n",
              "  '623a637b6119d1000c489109',\n",
              "  '61fd7fb1c4a008000df1bdd4',\n",
              "  '62186df9903ad1000de42cff',\n",
              "  '624a6978e50923000d0b7cfb',\n",
              "  '608992bf55d0920012d4edf4',\n",
              "  '621e0d9e96d8a9000ce9aa5c',\n",
              "  '624c0f94264644000b17def6',\n",
              "  '61a91c8f8c6e81000dcbb1af',\n",
              "  '60882a382e50cd0010b088be',\n",
              "  '61a0fcee78e2a2000bc74dfd',\n",
              "  '623101828714c1000d624fb8',\n",
              "  '62180d213bd571000dfca223',\n",
              "  '60898d944163ac0012d87f1c',\n",
              "  '624a6e79a3259b000c265bc2',\n",
              "  '623e1f135f2256000dc86f80',\n",
              "  '61a92533fcbbf6000c06349d',\n",
              "  '6089858566f4f500136f3514',\n",
              "  '619572a89bb476000da5f243',\n",
              "  '611c415207b8e3000d3036da',\n",
              "  '619572aeec21a7000d2534fc',\n",
              "  '621e0ac9a7e6c6000b7bbbc6',\n",
              "  '612b65ae73c0b1000fffb651',\n",
              "  '60e84b70557ad500132c62b1',\n",
              "  '61e59775e24fc0000b7006d5',\n",
              "  '6113ae4f6a4e5d000e2283e1',\n",
              "  '6202a88dd3842f000e2bdeb1',\n",
              "  '624a7173e50923000d0b844c',\n",
              "  '608b41be45ae6a000f43d2a8',\n",
              "  '60b3a48d44adcd000e04017c',\n",
              "  '608923833506ec000e4f9837',\n",
              "  '622212191b53d5000ddeb513',\n",
              "  '623e1f12416876000b736563',\n",
              "  '61aa72a66d4de6000ddd7969',\n",
              "  '623b3a180a2803000e7672e1',\n",
              "  '6217de69c02457000b3f7663',\n",
              "  '62221219822734000e09cc9f',\n",
              "  '6231076a3af000000b1d2477'],\n",
              " 'category_id': '06',\n",
              " 'id': '06176',\n",
              " 'link': '/gene/nft',\n",
              " 'name': 'NFT',\n",
              " 'parsing_date': '2022-04-20',\n",
              " 'updating_date': '2022-04-20'}"
            ]
          },
          "metadata": {},
          "execution_count": 396
        }
      ]
    },
    {
      "cell_type": "code",
      "execution_count": 104,
      "metadata": {
        "id": "cfl3cmlXpCeW"
      },
      "outputs": [],
      "source": [
        "save_dict(genes_dict, gen_dict, 'live') # 1. Save json dict"
      ]
    },
    {
      "cell_type": "markdown",
      "metadata": {
        "id": "YUhq_HYV1Jop"
      },
      "source": [
        "## Backup saving"
      ]
    },
    {
      "cell_type": "code",
      "execution_count": 105,
      "metadata": {
        "id": "W-38Aa6B1QCJ"
      },
      "outputs": [],
      "source": [
        "save_dict(artworks_dict, artwork_dict.replace('.txt', '') + '_' + str(datetime.now().date()) + '.txt', 'backup') # 1. Save json dict\n",
        "save_dict(artists_dict, artist_dict.replace('.txt', '') + '_' + str(datetime.now().date()) + '.txt', 'backup') # 1. Save json dict\n",
        "save_dict(genes_dict, gen_dict.replace('.txt', '') + '_' + str(datetime.now().date()) + '.txt', 'backup') # 1. Save json dict"
      ]
    },
    {
      "cell_type": "markdown",
      "source": [
        "# Overview"
      ],
      "metadata": {
        "id": "1-voF17xtoZs"
      }
    },
    {
      "cell_type": "markdown",
      "source": [
        "## Library"
      ],
      "metadata": {
        "id": "vjcaNLsWPQcu"
      }
    },
    {
      "cell_type": "code",
      "source": [
        "import itertools as it\n",
        "\n",
        "%matplotlib inline\n",
        "import matplotlib.pyplot as plt\n",
        "import warnings; warnings.simplefilter('ignore')"
      ],
      "metadata": {
        "colab": {
          "base_uri": "https://localhost:8080/"
        },
        "id": "DTtpicC_PVj6",
        "outputId": "0ef51928-cb2d-4ec8-a26d-6779fcbf624c"
      },
      "execution_count": 43,
      "outputs": [
        {
          "output_type": "stream",
          "name": "stderr",
          "text": [
            "Loaded backend module://ipykernel.pylab.backend_inline version unknown.\n"
          ]
        }
      ]
    },
    {
      "cell_type": "markdown",
      "source": [
        "## Categories & Genes"
      ],
      "metadata": {
        "id": "tHuHMTFt93w-"
      }
    },
    {
      "cell_type": "code",
      "source": [
        "# categories_dict = {'name_': {'genes_id': [], 'id': '', 'link': '', 'name': '', \n",
        "#                              'parsing_date': '', 'updating_date': ''}}\n",
        "\n",
        "categories_dict = open_dict(cat_dict, 'live') # 2. Open json dict\n",
        "print(\"Categories dictionary's length is - {}\".format(len(categories_dict)))\n",
        "print('')\n",
        "\n",
        "def by_value(item):\n",
        "  return len(item[1]['genes_id'])\n",
        "\n",
        "for k, v in sorted(categories_dict.items(), key=by_value, reverse=True):\n",
        "  print(k, '->', 'id', v['id'], '->', 'genes count' , len(v['genes_id']))"
      ],
      "metadata": {
        "colab": {
          "base_uri": "https://localhost:8080/"
        },
        "id": "FLrWI6A7uFpc",
        "outputId": "950ce357-7df2-4e3b-aa88-9654c642acac"
      },
      "execution_count": 13,
      "outputs": [
        {
          "output_type": "stream",
          "name": "stdout",
          "text": [
            "Categories dictionary's length is - 16\n",
            "\n",
            "styles_and_movements -> id 03 -> genes count 252\n",
            "subject_matter -> id 02 -> genes count 213\n",
            "medium_and_techniques -> id 06 -> genes count 176\n",
            "visual_qualities -> id 05 -> genes count 75\n",
            "cultural_and_religious_styles -> id 11 -> genes count 69\n",
            "geographic_regions -> id 08 -> genes count 68\n",
            "materials -> id 09 -> genes count 39\n",
            "furniture_and_lighting -> id 12 -> genes count 27\n",
            "design_movements -> id 04 -> genes count 26\n",
            "design_concepts_and_techniques -> id 10 -> genes count 22\n",
            "time_periods -> id 07 -> genes count 20\n",
            "tableware_vessels_and_objects -> id 15 -> genes count 19\n",
            "artistic_disciplines -> id 01 -> genes count 7\n",
            "jewelry_and_fashion_object_types -> id 14 -> genes count 7\n",
            "antiquities_artifacts_and_religious_objects -> id 16 -> genes count 7\n",
            "textiles -> id 13 -> genes count 6\n"
          ]
        }
      ]
    },
    {
      "cell_type": "markdown",
      "source": [
        "What I'm interested in:\n",
        "- styles_and_movements -> id 03 -> genes count 252\n",
        "- subject_matter -> id 02 -> genes count 213\n",
        "- medium_and_techniques -> id 06 -> genes count 176\n",
        "- visual_qualities -> id 05 -> genes count 75\n",
        "- cultural_and_religious_styles -> id 11 -> genes count 69\n",
        "- geographic_regions -> id 08 -> genes count 68\n",
        "- materials -> id 09 -> genes count 39\n",
        "- time_periods -> id 07 -> genes count 20\n",
        "\n",
        "Filtered by:\n",
        "- time_periods -> id 07 -> genes count 20\n",
        "- styles_and_movements -> id 03 -> genes count 252\n",
        "- medium_and_techniques -> id 06 -> genes count 176"
      ],
      "metadata": {
        "id": "dfJ-jq0nuekB"
      }
    },
    {
      "cell_type": "code",
      "source": [
        "# genes_dict = {'name_': {'artist_id': [], 'artsy_id': [], 'category_id': '', 'id': '', 'link': '', \n",
        "#                         'name': '', 'parsing_date': '', 'updating_date': ''}}\n",
        "\n",
        "genes_dict = open_dict(gen_dict, 'live') # 2. Open json dict\n",
        "print(\"Genes dictionary's length is\", len(genes_dict))"
      ],
      "metadata": {
        "colab": {
          "base_uri": "https://localhost:8080/"
        },
        "id": "loXHhD_Uud73",
        "outputId": "522adf59-7d49-4126-cbf9-c16360afb4ad"
      },
      "execution_count": 14,
      "outputs": [
        {
          "output_type": "stream",
          "name": "stdout",
          "text": [
            "Genes dictionary's length is 1033\n"
          ]
        }
      ]
    },
    {
      "cell_type": "markdown",
      "source": [
        "### commonality of artworks\n",
        "Let's check our selected categories on commonality of artworks_id."
      ],
      "metadata": {
        "id": "LznBd9D89aaU"
      }
    },
    {
      "cell_type": "code",
      "source": [
        "# Creait all pairs of categories to find the better one by artworks corresponding as a start\n",
        "\n",
        "cat_id_list = ['06', '03', '08', '02', '05', '09', '07', '11']\n",
        "pairs = list(it.combinations(cat_id_list,2))"
      ],
      "metadata": {
        "id": "tyuhKLckhQto"
      },
      "execution_count": 59,
      "outputs": []
    },
    {
      "cell_type": "code",
      "source": [
        "# Get common list of artworks in list of categories\n",
        "def get_common_list(items, output):\n",
        "  artworks_lists = []\n",
        "  for v in categories_dict.values():\n",
        "    if v['id'] in items:\n",
        "      cat_artwork_list = []\n",
        "      for gene in v['genes_id']:\n",
        "        for value in genes_dict.values():\n",
        "          if value['id']==gene:\n",
        "            cat_artwork_list = list(set(cat_artwork_list + value['artsy_id']))\n",
        "      artworks_lists.append(cat_artwork_list)\n",
        "      if output=='y':\n",
        "        print('Category', v['id'], v['name'], '; Artworks count', len(cat_artwork_list))\n",
        "\n",
        "  common_artworks_list = artworks_lists[0]\n",
        "  for artwork_list in artworks_lists[1:]:\n",
        "    common_artworks_list = list(set(common_artworks_list) & set(artwork_list))\n",
        "    \n",
        "  return common_artworks_list"
      ],
      "metadata": {
        "id": "ZjwaUyqyRV1B"
      },
      "execution_count": 40,
      "outputs": []
    },
    {
      "cell_type": "code",
      "source": [
        "# Find the better pair of categories by artworks corresponding\n",
        "\n",
        "list_len = 0\n",
        "for pair in pairs:\n",
        "  list_len_new = len(get_common_list(pair, 'n')) # Get common list of artworks in list of categories\n",
        "  if list_len_new > list_len:\n",
        "    best_pair = pair\n",
        "    best_len = list_len_new\n",
        "    list_len = list_len_new\n",
        "\n",
        "print('The best pair with common artworks list length', best_len, 'is:')\n",
        "for v in categories_dict.values():\n",
        "  if v['id'] in best_pair:\n",
        "    print('Category', v['id'], v['name'])\n",
        "\n",
        "# reduce the previous list\n",
        "cat_id_list = list(set(cat_id_list) - set(list(best_pair)))"
      ],
      "metadata": {
        "colab": {
          "base_uri": "https://localhost:8080/"
        },
        "id": "lwpCrEphpFWe",
        "outputId": "60608658-df8a-4412-9437-18844e013618"
      },
      "execution_count": 61,
      "outputs": [
        {
          "output_type": "stream",
          "name": "stdout",
          "text": [
            "The best pair with common artworks list length 72163 is:\n",
            "Category 03 Styles and Movements\n",
            "Category 06 Medium and Techniques\n"
          ]
        }
      ]
    },
    {
      "cell_type": "code",
      "source": [
        "common_list = get_common_list(best_pair, 'y') # Get common list of artworks in list of categories\n",
        "len(common_list)"
      ],
      "metadata": {
        "colab": {
          "base_uri": "https://localhost:8080/"
        },
        "id": "ICLb-yKufazJ",
        "outputId": "d3be5309-ac5a-4144-b8d2-ff289a4f0110"
      },
      "execution_count": 28,
      "outputs": [
        {
          "output_type": "stream",
          "name": "stdout",
          "text": [
            "Category 03 Styles and Movements ; Artworks count 170068\n",
            "Category 06 Medium and Techniques ; Artworks count 182501\n"
          ]
        },
        {
          "output_type": "execute_result",
          "data": {
            "text/plain": [
              "72163"
            ]
          },
          "metadata": {},
          "execution_count": 28
        }
      ]
    },
    {
      "cell_type": "markdown",
      "source": [
        "Well, both of the categories are in my supposed filter."
      ],
      "metadata": {
        "id": "91eWSAttA3yX"
      }
    },
    {
      "cell_type": "code",
      "source": [
        "# Get new ordered list of categories by artworks corresponding\n",
        "def get_next_cat(id_list, items):\n",
        "  list_len = 0\n",
        "  for cat in id_list:\n",
        "    items_list = items.copy()\n",
        "    items_list.append(cat)\n",
        "    list_len_new = len(get_common_list(items_list, 'n')) # Get common list of artworks in list of categories\n",
        "    if list_len_new > list_len:\n",
        "      best_ord = items_list.copy()\n",
        "      best_len = list_len_new\n",
        "      list_len = list_len_new\n",
        "\n",
        "  print('The best order by common artworks list length', best_len, 'is:')\n",
        "  for v in categories_dict.values():\n",
        "    if v['id'] in best_ord:\n",
        "      print('Category', v['id'], v['name'])\n",
        "  print('')\n",
        "\n",
        "  # reduce the previous list\n",
        "  items_list_new = best_ord.copy()\n",
        "  id_list_new = list(set(id_list) - set(items_list_new))\n",
        "  \n",
        "  if len(id_list_new) > 0:\n",
        "    return get_next_cat(id_list_new, items_list_new) # repit to find next better category\n",
        "  else:\n",
        "    return items_list_new"
      ],
      "metadata": {
        "id": "AaiTfivOg81J"
      },
      "execution_count": 41,
      "outputs": []
    },
    {
      "cell_type": "code",
      "source": [
        "cat_id_list_ord = get_next_cat(cat_id_list, list(best_pair)) # Get new ordered list of categories by artworks corresponding\n",
        "cat_id_list_ord"
      ],
      "metadata": {
        "colab": {
          "base_uri": "https://localhost:8080/"
        },
        "id": "8KjSjibbkvsY",
        "outputId": "3c4bcc8e-e953-4e61-f290-19895605ed2e"
      },
      "execution_count": 69,
      "outputs": [
        {
          "output_type": "stream",
          "name": "stdout",
          "text": [
            "The best order by common artworks list length 44747 is:\n",
            "Category 02 Subject Matter\n",
            "Category 03 Styles and Movements\n",
            "Category 06 Medium and Techniques\n",
            "\n",
            "The best order by common artworks list length 18974 is:\n",
            "Category 02 Subject Matter\n",
            "Category 03 Styles and Movements\n",
            "Category 05 Visual Qualities\n",
            "Category 06 Medium and Techniques\n",
            "\n",
            "The best order by common artworks list length 5458 is:\n",
            "Category 02 Subject Matter\n",
            "Category 03 Styles and Movements\n",
            "Category 05 Visual Qualities\n",
            "Category 06 Medium and Techniques\n",
            "Category 08 Geographic Regions\n",
            "\n",
            "The best order by common artworks list length 1467 is:\n",
            "Category 02 Subject Matter\n",
            "Category 03 Styles and Movements\n",
            "Category 05 Visual Qualities\n",
            "Category 06 Medium and Techniques\n",
            "Category 07 Time Periods\n",
            "Category 08 Geographic Regions\n",
            "\n",
            "The best order by common artworks list length 155 is:\n",
            "Category 02 Subject Matter\n",
            "Category 03 Styles and Movements\n",
            "Category 05 Visual Qualities\n",
            "Category 06 Medium and Techniques\n",
            "Category 07 Time Periods\n",
            "Category 08 Geographic Regions\n",
            "Category 09 Materials\n",
            "\n",
            "The best order by common artworks list length 18 is:\n",
            "Category 02 Subject Matter\n",
            "Category 03 Styles and Movements\n",
            "Category 05 Visual Qualities\n",
            "Category 06 Medium and Techniques\n",
            "Category 07 Time Periods\n",
            "Category 08 Geographic Regions\n",
            "Category 09 Materials\n",
            "Category 11 Cultural and Religious Styles\n",
            "\n"
          ]
        },
        {
          "output_type": "execute_result",
          "data": {
            "text/plain": [
              "['06', '03', '02', '05', '08', '07', '09', '11']"
            ]
          },
          "metadata": {},
          "execution_count": 69
        }
      ]
    },
    {
      "cell_type": "code",
      "source": [
        "# All categories with artworks counts\n",
        "common_list = get_common_list(cat_id_list_ord, 'y') # Get common list of artworks in list of categories\n",
        "len(common_list)\n",
        "# '06' > '03' > '08' > '02' > '05' > '09' > '07' > '11' by artworks count"
      ],
      "metadata": {
        "colab": {
          "base_uri": "https://localhost:8080/"
        },
        "id": "adu2l5TvBytP",
        "outputId": "be12a2dc-a35c-484b-a8b4-84e41a2ef0e7"
      },
      "execution_count": 75,
      "outputs": [
        {
          "output_type": "stream",
          "name": "stdout",
          "text": [
            "Category 02 Subject Matter ; Artworks count 116159\n",
            "Category 03 Styles and Movements ; Artworks count 170068\n",
            "Category 05 Visual Qualities ; Artworks count 77262\n",
            "Category 06 Medium and Techniques ; Artworks count 182501\n",
            "Category 07 Time Periods ; Artworks count 44028\n",
            "Category 08 Geographic Regions ; Artworks count 140035\n",
            "Category 09 Materials ; Artworks count 53400\n",
            "Category 11 Cultural and Religious Styles ; Artworks count 8098\n"
          ]
        },
        {
          "output_type": "execute_result",
          "data": {
            "text/plain": [
              "18"
            ]
          },
          "metadata": {},
          "execution_count": 75
        }
      ]
    },
    {
      "cell_type": "markdown",
      "source": [
        "Categories by artworks count:\n",
        "1. Category 06 Medium and Techniques ; Artworks count - 182.501\n",
        "2. Category 03 Styles and Movements ; Artworks count - 170.068\n",
        "3. Category 08 Geographic Regions ; Artworks count - 140.035\n",
        "4. Category 02 Subject Matter ; Artworks count - 116.159\n",
        "5. Category 05 Visual Qualities ; Artworks count - 77.262\n",
        "6. Category 09 Materials ; Artworks count - 53.400\n",
        "7. Category 07 Time Periods ; Artworks count - 44.028\n",
        "8. Category 11 Cultural and Religious Styles ; Artworks count - 8.098\n",
        "\n",
        "Categories by common artworks list:\n",
        "1. Category 06 Medium and Techniques; List length - 182.501\n",
        "2. Category 03 Styles and Movements; List length - 72.163\n",
        "3. Category 02 Subject Matter; List length - 44.747\n",
        "4. Category 05 Visual Qualities; List length - 18.974\n",
        "5. Category 08 Geographic Regions; List length - 5.458\n",
        "6. Category 07 Time Periods; List length - 1.467\n",
        "7. Category 09 Materials; List length - 155\n",
        "8. Category 11 Cultural and Religious Styles; List length - 18"
      ],
      "metadata": {
        "id": "mwQb4eqUCYkd"
      }
    },
    {
      "cell_type": "code",
      "source": [
        "# My supposed filters\n",
        "items = ['07', '03', '06']\n",
        "common_list = get_common_list(items, 'y') # Get common list of artworks in list of categories\n",
        "len(common_list)"
      ],
      "metadata": {
        "colab": {
          "base_uri": "https://localhost:8080/"
        },
        "id": "PTDtcCeCfahv",
        "outputId": "d0bd5020-7e0c-48e9-df66-d92c3966de13"
      },
      "execution_count": 76,
      "outputs": [
        {
          "output_type": "stream",
          "name": "stdout",
          "text": [
            "Category 03 Styles and Movements ; Artworks count 170068\n",
            "Category 06 Medium and Techniques ; Artworks count 182501\n",
            "Category 07 Time Periods ; Artworks count 44028\n"
          ]
        },
        {
          "output_type": "execute_result",
          "data": {
            "text/plain": [
              "10902"
            ]
          },
          "metadata": {},
          "execution_count": 76
        }
      ]
    },
    {
      "cell_type": "markdown",
      "source": [
        "Summing up, categories don't correspond with each other by artworks quite well. Why?\n",
        "- as it is\n",
        "- maximum pages for a gene were 100, maybe there're more artworks in fact\n",
        "\n",
        "I can easely rid of:\n",
        "- Category 08 Geographic Regions\n",
        "- Category 09 Materials\n",
        "- Category 11 Cultural and Religious Styles\n",
        "\n",
        "And this one can be considered as bonus: \n",
        "- Category 02 Subject Matter\n"
      ],
      "metadata": {
        "id": "SQOHAwbIGMs3"
      }
    },
    {
      "cell_type": "code",
      "source": [
        "items = ['06', '03', '05', '07']\n",
        "common_list = get_common_list(items, 'y') # Get common list of artworks in list of categories\n",
        "len(common_list)"
      ],
      "metadata": {
        "colab": {
          "base_uri": "https://localhost:8080/"
        },
        "id": "DtoAotv7LGNH",
        "outputId": "3a4ebca8-c954-4a97-ac97-bbb97c3bf355"
      },
      "execution_count": 77,
      "outputs": [
        {
          "output_type": "stream",
          "name": "stdout",
          "text": [
            "Category 03 Styles and Movements ; Artworks count 170068\n",
            "Category 05 Visual Qualities ; Artworks count 77262\n",
            "Category 06 Medium and Techniques ; Artworks count 182501\n",
            "Category 07 Time Periods ; Artworks count 44028\n"
          ]
        },
        {
          "output_type": "execute_result",
          "data": {
            "text/plain": [
              "4092"
            ]
          },
          "metadata": {},
          "execution_count": 77
        }
      ]
    },
    {
      "cell_type": "markdown",
      "source": [
        "Category 05 Visual Qualities is a big-big bonus in my case."
      ],
      "metadata": {
        "id": "JymK4FdxMAfQ"
      }
    },
    {
      "cell_type": "code",
      "source": [
        "items = ['06', '03', '05']\n",
        "common_list = get_common_list(items, 'y') # Get common list of artworks in list of categories\n",
        "len(common_list)"
      ],
      "metadata": {
        "colab": {
          "base_uri": "https://localhost:8080/"
        },
        "id": "w_0XY1yvMLyv",
        "outputId": "ef312d21-510e-4dd8-ef54-e9a432cbbb49"
      },
      "execution_count": 78,
      "outputs": [
        {
          "output_type": "stream",
          "name": "stdout",
          "text": [
            "Category 03 Styles and Movements ; Artworks count 170068\n",
            "Category 05 Visual Qualities ; Artworks count 77262\n",
            "Category 06 Medium and Techniques ; Artworks count 182501\n"
          ]
        },
        {
          "output_type": "execute_result",
          "data": {
            "text/plain": [
              "27042"
            ]
          },
          "metadata": {},
          "execution_count": 78
        }
      ]
    },
    {
      "cell_type": "markdown",
      "source": [
        "I want to limit the whole data of artworks by certain:\n",
        "- Time Periods (07: 44.028 a/w) ->\n",
        "- Styles and Movements (03: 170.068 a/w) ->\n",
        "- Medium and Techniques (06: 182.501 a/w)\n",
        "\n",
        "And study their:\n",
        "- Visual Qualities (05: 77.262 a/w) ->\n",
        "- Subject Matter (02: 44.747 a/w)\n",
        "\n",
        "So, what I can do to enlarge my limited database is:\n",
        "1. Get artworks list of certain Time periods genes.\n",
        "2. Get Styles and Movements genes of these artwoks.\n",
        "3. Look at the rest artworks of these Styles and Movements genes - what Time periods genes they belong to - and limit the database with whole Styles and Movements genes.\n",
        "\n"
      ],
      "metadata": {
        "id": "BhzsdBS2Mp5E"
      }
    },
    {
      "cell_type": "markdown",
      "source": [
        "### database limitation\n",
        "Start with time periods"
      ],
      "metadata": {
        "id": "cbnKA74b-QX6"
      }
    },
    {
      "cell_type": "code",
      "source": [
        "time_periods_genes_dict = {k: v for k, v in genes_dict.items() if v['category_id']=='07'}\n",
        "print('Time periods genes count', len(time_periods_genes_dict))"
      ],
      "metadata": {
        "colab": {
          "base_uri": "https://localhost:8080/"
        },
        "id": "dbXb63jQuI_A",
        "outputId": "117fb4e4-b17d-4fc1-fb02-74555b068f9c"
      },
      "execution_count": 79,
      "outputs": [
        {
          "output_type": "stream",
          "name": "stdout",
          "text": [
            "Time periods genes count 20\n"
          ]
        }
      ]
    },
    {
      "cell_type": "code",
      "source": [
        "for k in time_periods_genes_dict.keys():\n",
        "  print(time_periods_genes_dict[k]['name'], '-> gene id', time_periods_genes_dict[k]['id'], '-> artwork count', len(time_periods_genes_dict[k]['artsy_id']))"
      ],
      "metadata": {
        "colab": {
          "base_uri": "https://localhost:8080/"
        },
        "id": "xU_aNhzFuI6w",
        "outputId": "fc8a9d82-3039-4d17-bd66-1b911075d3cd"
      },
      "execution_count": 80,
      "outputs": [
        {
          "output_type": "stream",
          "name": "stdout",
          "text": [
            "1000 - 1400 CE Art -> gene id 07001 -> artwork count 947\n",
            "15th Century Art -> gene id 07002 -> artwork count 2063\n",
            "16th Century Art -> gene id 07003 -> artwork count 2990\n",
            "17th Century Art -> gene id 07004 -> artwork count 3004\n",
            "18th Century Art -> gene id 07005 -> artwork count 3007\n",
            "1900 - 1917 Art -> gene id 07006 -> artwork count 3019\n",
            "1918 - 1939 (Interwar) Art -> gene id 07007 -> artwork count 3040\n",
            "1940s-1950s Art -> gene id 07008 -> artwork count 3287\n",
            "19th Century Art -> gene id 07009 -> artwork count 3040\n",
            "21st Century Art -> gene id 07010 -> artwork count 3035\n",
            "500 - 1000 CE  Art -> gene id 07011 -> artwork count 121\n",
            "Ancient Art -> gene id 07012 -> artwork count 1097\n",
            "Art of the 1960s -> gene id 07013 -> artwork count 3031\n",
            "Art of the 1970s -> gene id 07014 -> artwork count 3039\n",
            "Art of the 1980s -> gene id 07015 -> artwork count 3037\n",
            "Art of the 1990s -> gene id 07016 -> artwork count 3030\n",
            "Contemporary -> gene id 07017 -> artwork count 3168\n",
            "Late 19th Century Art -> gene id 07018 -> artwork count 3024\n",
            "Modern -> gene id 07019 -> artwork count 3026\n",
            "Prehistoric Art -> gene id 07020 -> artwork count 52\n"
          ]
        }
      ]
    },
    {
      "cell_type": "markdown",
      "source": [
        "For now I'm interested in:\n",
        "- 15th Century Art -> gene id 07002 -> artwork count 2063\n",
        "- 16th Century Art -> gene id 07003 -> artwork count 2990\n",
        "- 17th Century Art -> gene id 07004 -> artwork count 3004\n",
        "- 18th Century Art -> gene id 07005 -> artwork count 3007\n",
        "- 19th Century Art -> gene id 07009 -> artwork count 3040\n",
        "- Late 19th Century Art -> gene id 07018 -> artwork count 3024\n",
        "\n",
        "And:\n",
        "- 1900 - 1917 Art -> gene id 07006 -> artwork count 3019\n",
        "- 1918 - 1939 (Interwar) Art -> gene id 07007 -> artwork count 3040\n",
        "- Modern -> gene id 07019 -> artwork count 3026\n",
        "\n",
        "So, let's take the artworks of these genes and find them in Styles and Movements category."
      ],
      "metadata": {
        "id": "wVhNsnMG-03b"
      }
    },
    {
      "cell_type": "code",
      "source": [
        "# 1. Get artworks list of certain Time periods genes.\n",
        "time_periods_genes_list = ['07002', '07003', '07004', '07005', '07009', '07018', '07006', '07007', '07019']\n",
        "time_periods_artworks_list = []\n",
        "artwork_count = 0\n",
        "for v in time_periods_genes_dict.values():\n",
        "  if v['id'] in time_periods_genes_list:\n",
        "    time_periods_artworks_list = list(set(time_periods_artworks_list + v['artsy_id']))\n",
        "    artwork_count += len(v['artsy_id'])\n",
        "\n",
        "print('Selected time periods genes count:', len(time_periods_genes_list))\n",
        "print('artwork count:', artwork_count)\n",
        "print('Unique artworks count:', len(time_periods_artworks_list))"
      ],
      "metadata": {
        "colab": {
          "base_uri": "https://localhost:8080/"
        },
        "id": "X_rE-xH_uI1i",
        "outputId": "2fa90359-550a-41f0-90d7-3ad45d026777"
      },
      "execution_count": 81,
      "outputs": [
        {
          "output_type": "stream",
          "name": "stdout",
          "text": [
            "Selected time periods genes count: 9\n",
            "artwork count: 26213\n",
            "Unique artworks count: 23402\n"
          ]
        }
      ]
    },
    {
      "cell_type": "code",
      "source": [
        "# 2. Get Styles and Movements genes of these artwoks\n",
        "styles_movements_genes_dict = {k: v for k, v in genes_dict.items() if v['category_id']=='03'}\n",
        "common_periods_movements_artworks_list = []\n",
        "periods_movements_genes_list = []\n",
        "for v in styles_movements_genes_dict.values():\n",
        "  id_list = list(set(v['artsy_id']) & set(time_periods_artworks_list))\n",
        "  if len(id_list) != 0:\n",
        "    common_periods_movements_artworks_list = list(set(common_periods_movements_artworks_list + id_list))\n",
        "    periods_movements_genes_list.append(v['id'])\n",
        "\n",
        "print('Styles and movements genes count', len(styles_movements_genes_dict))\n",
        "print('Styles and movements genes by selected artworks count', len(periods_movements_genes_list))\n",
        "print('Common artworks for Styles and movements and Time periods:', len(common_periods_movements_artworks_list))\n",
        "print('Common ids check:', len(list(set(common_periods_movements_artworks_list) & set(time_periods_artworks_list))))"
      ],
      "metadata": {
        "colab": {
          "base_uri": "https://localhost:8080/"
        },
        "id": "kqXZgsomuIw_",
        "outputId": "d8d6f5b0-8eea-40ca-c77f-db661970c282"
      },
      "execution_count": 97,
      "outputs": [
        {
          "output_type": "stream",
          "name": "stdout",
          "text": [
            "Styles and movements genes count 252\n",
            "Styles and movements genes by selected artworks count 148\n",
            "Common artworks for Styles and movements and Time periods: 8663\n",
            "Common ids check: 8663\n"
          ]
        }
      ]
    },
    {
      "cell_type": "markdown",
      "source": [
        "Just 1/3 of artworks of selected Time period genes are defined in Styles and movements category..."
      ],
      "metadata": {
        "id": "9bolXQLSOWE2"
      }
    },
    {
      "cell_type": "code",
      "source": [
        "# 3. Look at the rest artworks of these Styles and Movements genes (148) - \n",
        "#    what Time periods genes they belong to - \n",
        "#    and limit the database with whole Styles and Movements genes.\n",
        "\n",
        "print('Styles and movemens genes by selected artworks count', len(periods_movements_genes_list))\n",
        "\n",
        "# rest artworks of these Styles and Movements genes (148)\n",
        "rest_periods_movements_artworks_list = []\n",
        "for v in styles_movements_genes_dict.values():\n",
        "  if v['id'] in periods_movements_genes_list: # 148 genes with common artworks\n",
        "    id_list = list(set(v['artsy_id']) - set(time_periods_artworks_list)) # artworks selected by time periods\n",
        "    rest_periods_movements_artworks_list = list(set(rest_periods_movements_artworks_list + id_list))\n",
        "\n",
        "print('Rest artworks for Styles and movements:', len(rest_periods_movements_artworks_list))\n",
        "print('Rest ids check:', len(list(set(time_periods_artworks_list) - set(common_periods_movements_artworks_list))))"
      ],
      "metadata": {
        "colab": {
          "base_uri": "https://localhost:8080/"
        },
        "id": "Mc_2gJq8Vjtt",
        "outputId": "34066ae2-a053-4df9-ce53-eaa4454e9662"
      },
      "execution_count": 96,
      "outputs": [
        {
          "output_type": "stream",
          "name": "stdout",
          "text": [
            "Styles and movemens genes by selected artworks count 148\n",
            "Rest artworks for Styles and movements: 131845\n",
            "Rest ids check: 14739\n"
          ]
        }
      ]
    },
    {
      "cell_type": "code",
      "source": [
        "# Check the correctness\n",
        "rest_time_periods_artworks_list = list(set(time_periods_artworks_list) - set(common_periods_movements_artworks_list))\n",
        "print('Rest artworks for Time periods:', len(rest_time_periods_artworks_list))\n",
        "print('')\n",
        "for v in styles_movements_genes_dict.values():\n",
        "  if len(list(set(v['artsy_id']) & set(rest_time_periods_artworks_list))) > 0:\n",
        "    print(v['name'], '-> gene id', v['id'])\n",
        "# correct"
      ],
      "metadata": {
        "colab": {
          "base_uri": "https://localhost:8080/"
        },
        "id": "KKSix1czyNVc",
        "outputId": "3869005f-1e4e-4a43-997f-c6195d6f27b1"
      },
      "execution_count": 106,
      "outputs": [
        {
          "output_type": "stream",
          "name": "stdout",
          "text": [
            "Rest artworks for Time periods: 14739\n",
            "\n"
          ]
        }
      ]
    },
    {
      "cell_type": "code",
      "source": [
        "# what Time periods genes they belong to\n",
        "rest_periods_movements_genes_list = []\n",
        "rest_periods_artworks_lists = []\n",
        "\n",
        "for v in time_periods_genes_dict.values(): # with all time periods genes\n",
        "  if v['id'] not in time_periods_genes_list: # not in filtered time_period genes (but if it is, the artworks mustn't be in the list)\n",
        "    id_list = list(set(v['artsy_id']) & set(rest_periods_movements_artworks_list)) # rest artworks of these Styles and Movements genes (148)\n",
        "    if len(id_list) > 0: \n",
        "      rest_periods_movements_genes_list.append(v['id'])\n",
        "      rest_periods_artworks_lists.append(id_list)\n",
        "\n",
        "for v in time_periods_genes_dict.values():\n",
        "  if v['id'] in rest_periods_movements_genes_list:\n",
        "    print(v['name'], '-> gene id', v['id'], '-> cross artworks count', len(rest_periods_artworks_lists[rest_periods_movements_genes_list.index(v['id'])]))"
      ],
      "metadata": {
        "colab": {
          "base_uri": "https://localhost:8080/"
        },
        "id": "BZHyYoyelymS",
        "outputId": "1c98b7f8-3866-43d3-abd9-cf3015c412a6"
      },
      "execution_count": 112,
      "outputs": [
        {
          "output_type": "stream",
          "name": "stdout",
          "text": [
            "1000 - 1400 CE Art -> gene id 07001 -> cross artworks count 204\n",
            "1940s-1950s Art -> gene id 07008 -> cross artworks count 1841\n",
            "21st Century Art -> gene id 07010 -> cross artworks count 1373\n",
            "500 - 1000 CE  Art -> gene id 07011 -> cross artworks count 59\n",
            "Ancient Art -> gene id 07012 -> cross artworks count 303\n",
            "Art of the 1960s -> gene id 07013 -> cross artworks count 2059\n",
            "Art of the 1970s -> gene id 07014 -> cross artworks count 1141\n",
            "Art of the 1980s -> gene id 07015 -> cross artworks count 1067\n",
            "Art of the 1990s -> gene id 07016 -> cross artworks count 1272\n",
            "Contemporary -> gene id 07017 -> cross artworks count 1092\n",
            "Prehistoric Art -> gene id 07020 -> cross artworks count 16\n"
          ]
        }
      ]
    },
    {
      "cell_type": "markdown",
      "source": [
        "All the others... That's super strange. Let's check some."
      ],
      "metadata": {
        "id": "V-YCadCOnORa"
      }
    },
    {
      "cell_type": "markdown",
      "source": [
        "#### cross artworks checking"
      ],
      "metadata": {
        "id": "L-YORhMC-My2"
      }
    },
    {
      "cell_type": "code",
      "source": [
        "def check_cross_artworks(gene, inx):\n",
        "  print('Check {} gene'.format(gene))\n",
        "  artworks_check_list = rest_periods_artworks_lists[rest_periods_movements_genes_list.index(inx)]\n",
        "  print('length of the artworks_check_list', len(artworks_check_list))\n",
        "  genes_check_list = []\n",
        "  artworks_lists = []\n",
        "  for v in styles_movements_genes_dict.values():\n",
        "    if v['id'] in periods_movements_genes_list: # 148 genes with common artworks\n",
        "      id_list = list(set(v['artsy_id']) & set(artworks_check_list))\n",
        "      if len(id_list) != 0:\n",
        "        genes_check_list.append(v['id'])\n",
        "        artworks_lists.append(id_list)\n",
        "  print('length of the genes_check_list', len(genes_check_list))\n",
        "  print('')\n",
        "\n",
        "  for k, v in styles_movements_genes_dict.items():\n",
        "    if v['id'] in genes_check_list:\n",
        "      print(k, '->', v['name'], '-> gene id', v['id'], '-> cross artworks count', len(artworks_lists[genes_check_list.index(v['id'])]))\n"
      ],
      "metadata": {
        "id": "3aULOSwXapLv"
      },
      "execution_count": 117,
      "outputs": []
    },
    {
      "cell_type": "code",
      "source": [
        "gene = 'Prehistoric Art'\n",
        "inx = '07020'\n",
        "\n",
        "check_cross_artworks(gene, inx)\n",
        "# OK"
      ],
      "metadata": {
        "colab": {
          "base_uri": "https://localhost:8080/"
        },
        "id": "faoDwbABfaCp",
        "outputId": "b78ef6b4-7ca5-4321-b0ac-a9294ef8393c"
      },
      "execution_count": 118,
      "outputs": [
        {
          "output_type": "stream",
          "name": "stdout",
          "text": [
            "Check Prehistoric Art gene\n",
            "length of the artworks_check_list 16\n",
            "length of the genes_check_list 3\n",
            "\n",
            "abstract_sculpture -> Abstract Sculpture -> gene id 03012 -> cross artworks count 1\n",
            "figurative_sculpture -> Figurative Sculpture -> gene id 03122 -> cross artworks count 13\n",
            "iconic_works_of_art_history -> Iconic Works of Art History -> gene id 03143 -> cross artworks count 3\n"
          ]
        }
      ]
    },
    {
      "cell_type": "code",
      "source": [
        "gene = 'Ancient Art'\n",
        "inx = '07012'\n",
        "\n",
        "check_cross_artworks(gene, inx)\n",
        "# gothic_art-??\n",
        "# medieval_art-??\n",
        "# northern_renaissance-??\n",
        "# old_masters-??\n",
        "\n",
        "# land_art-?\n",
        "# pattern_and_decoration_movement-?"
      ],
      "metadata": {
        "colab": {
          "base_uri": "https://localhost:8080/"
        },
        "id": "Hd3D3jC8AuSx",
        "outputId": "db26d3a0-7a7f-4668-8bd2-426330375f41"
      },
      "execution_count": 120,
      "outputs": [
        {
          "output_type": "stream",
          "name": "stdout",
          "text": [
            "Check Ancient Art gene\n",
            "length of the artworks_check_list 303\n",
            "length of the genes_check_list 10\n",
            "\n",
            "abstract_sculpture -> Abstract Sculpture -> gene id 03012 -> cross artworks count 2\n",
            "figurative_sculpture -> Figurative Sculpture -> gene id 03122 -> cross artworks count 187\n",
            "gothic_art -> Gothic Art -> gene id 03130 -> cross artworks count 1\n",
            "iconic_works_of_art_history -> Iconic Works of Art History -> gene id 03143 -> cross artworks count 61\n",
            "land_art -> Land Art -> gene id 03151 -> cross artworks count 1\n",
            "medieval_art -> Medieval Art -> gene id 03156 -> cross artworks count 5\n",
            "northern_renaissance -> Northern Renaissance -> gene id 03183 -> cross artworks count 1\n",
            "old_masters -> Old Masters -> gene id 03188 -> cross artworks count 1\n",
            "pattern_and_decoration_movement -> Pattern and Decoration Movement -> gene id 03192 -> cross artworks count 6\n",
            "traditional_arts_of_africa_oceania_and_the_americas -> Traditional Arts of Africa, Oceania, and the Americas -> gene id 03241 -> cross artworks count 73\n"
          ]
        }
      ]
    },
    {
      "cell_type": "code",
      "source": [
        "gene = '500 - 1000 CE  Art'\n",
        "inx = '07011'\n",
        "\n",
        "check_cross_artworks(gene, inx)\n",
        "# abstract_sculpture-?\n",
        "# traditional_arts_of_africa_oceania_and_the_americas... geographic_regions -> id 08 !!!\n",
        "\n",
        "# land_art-?"
      ],
      "metadata": {
        "colab": {
          "base_uri": "https://localhost:8080/"
        },
        "id": "Aqr7bH8qL8Pd",
        "outputId": "7ed566e1-4435-493e-b92a-308b4077488a"
      },
      "execution_count": 119,
      "outputs": [
        {
          "output_type": "stream",
          "name": "stdout",
          "text": [
            "Check 500 - 1000 CE  Art gene\n",
            "length of the artworks_check_list 59\n",
            "length of the genes_check_list 8\n",
            "\n",
            "abstract_sculpture -> Abstract Sculpture -> gene id 03012 -> cross artworks count 1\n",
            "figurative_sculpture -> Figurative Sculpture -> gene id 03122 -> cross artworks count 23\n",
            "gothic_art -> Gothic Art -> gene id 03130 -> cross artworks count 1\n",
            "iconic_works_of_art_history -> Iconic Works of Art History -> gene id 03143 -> cross artworks count 28\n",
            "land_art -> Land Art -> gene id 03151 -> cross artworks count 1\n",
            "medieval_art -> Medieval Art -> gene id 03156 -> cross artworks count 3\n",
            "symbolism -> Symbolism -> gene id 03233 -> cross artworks count 3\n",
            "traditional_arts_of_africa_oceania_and_the_americas -> Traditional Arts of Africa, Oceania, and the Americas -> gene id 03241 -> cross artworks count 15\n"
          ]
        }
      ]
    },
    {
      "cell_type": "code",
      "source": [
        "gene = '1000 - 1400 CE Art'\n",
        "inx = '07001'\n",
        "\n",
        "check_cross_artworks(gene, inx)\n",
        "# art_deco-??\n",
        "# hyperrealism_and_photorealism-??\n",
        "# impressionism_and_contemporary_impressionist-??\n",
        "# op_art-??\n",
        "\n",
        "# old_masters, old_master_drawings_and_prints-?"
      ],
      "metadata": {
        "colab": {
          "base_uri": "https://localhost:8080/"
        },
        "id": "QIgaPJkP89iH",
        "outputId": "d5a656bc-5b8a-436f-bf77-a26d8803c3fa"
      },
      "execution_count": 121,
      "outputs": [
        {
          "output_type": "stream",
          "name": "stdout",
          "text": [
            "Check 1000 - 1400 CE Art gene\n",
            "length of the artworks_check_list 204\n",
            "length of the genes_check_list 17\n",
            "\n",
            "abstract_versus_figurative_art -> Abstract versus Figurative Art -> gene id 03013 -> cross artworks count 1\n",
            "art_deco -> Art Deco -> gene id 03026 -> cross artworks count 1\n",
            "dutch_and_flemish -> Dutch and Flemish -> gene id 03109 -> cross artworks count 1\n",
            "early_renaissance -> Early Renaissance -> gene id 03111 -> cross artworks count 11\n",
            "figurative_sculpture -> Figurative Sculpture -> gene id 03122 -> cross artworks count 46\n",
            "gothic_art -> Gothic Art -> gene id 03130 -> cross artworks count 42\n",
            "hyperrealism_and_photorealism -> Hyperrealism and Photorealism -> gene id 03142 -> cross artworks count 1\n",
            "iconic_works_of_art_history -> Iconic Works of Art History -> gene id 03143 -> cross artworks count 63\n",
            "impressionism_and_contemporary_impressionist -> Impressionism and Contemporary Impressionist -> gene id 03146 -> cross artworks count 1\n",
            "medieval_art -> Medieval Art -> gene id 03156 -> cross artworks count 123\n",
            "northern_renaissance -> Northern Renaissance -> gene id 03183 -> cross artworks count 1\n",
            "old_master_drawings_and_prints -> Old Master Drawings and Prints -> gene id 03186 -> cross artworks count 4\n",
            "old_masters -> Old Masters -> gene id 03188 -> cross artworks count 6\n",
            "op_art -> Op Art -> gene id 03189 -> cross artworks count 1\n",
            "renaissance -> Renaissance Art -> gene id 03216 -> cross artworks count 10\n",
            "outsider_art -> Self-Taught, Folk, and Outsider Art -> gene id 03221 -> cross artworks count 1\n",
            "traditional_arts_of_africa_oceania_and_the_americas -> Traditional Arts of Africa, Oceania, and the Americas -> gene id 03241 -> cross artworks count 28\n"
          ]
        }
      ]
    },
    {
      "cell_type": "code",
      "source": [
        "gene = 'Contemporary'\n",
        "inx = '07017'\n",
        "\n",
        "check_cross_artworks(gene, inx)\n",
        "# contemporary... shouldn't be before 1940s"
      ],
      "metadata": {
        "colab": {
          "base_uri": "https://localhost:8080/"
        },
        "id": "a49j5Rw1_Nuf",
        "outputId": "dad8529a-b1c8-4ea1-d739-4773a623e9f8"
      },
      "execution_count": 123,
      "outputs": [
        {
          "output_type": "stream",
          "name": "stdout",
          "text": [
            "Check Contemporary gene\n",
            "length of the artworks_check_list 1092\n",
            "length of the genes_check_list 40\n",
            "\n",
            "20th_century_art -> 20th Century Art -> gene id 03007 -> cross artworks count 1\n",
            "abstract_art -> Abstract Art -> gene id 03008 -> cross artworks count 219\n",
            "abstract_painting -> Abstract Painting -> gene id 03010 -> cross artworks count 5\n",
            "abstract_versus_figurative_art -> Abstract versus Figurative Art -> gene id 03013 -> cross artworks count 66\n",
            "art_deco -> Art Deco -> gene id 03026 -> cross artworks count 1\n",
            "art_nouveau -> Art Nouveau -> gene id 03028 -> cross artworks count 1\n",
            "collaborations_and_collectives -> Collaborations and Collectives -> gene id 03047 -> cross artworks count 1\n",
            "contemporary_academic_realism -> Contemporary Academic Realism -> gene id 03053 -> cross artworks count 40\n",
            "contemporary_african_art -> Contemporary African Art -> gene id 03054 -> cross artworks count 52\n",
            "contemporary_art -> Contemporary Art -> gene id 03056 -> cross artworks count 823\n",
            "contemporary_asian_art -> Contemporary Asian Art -> gene id 03057 -> cross artworks count 95\n",
            "contemporary_chinese_art -> Contemporary Chinese Art -> gene id 03061 -> cross artworks count 38\n",
            "contemporary_figurative_painting -> Contemporary Figurative Painting -> gene id 03070 -> cross artworks count 2\n",
            "contemporary_latin_american_art -> Contemporary Latin American Art -> gene id 03078 -> cross artworks count 49\n",
            "contemporary_middle_eastern_and_north_african_art -> Contemporary Middle Eastern and North African Art -> gene id 03079 -> cross artworks count 13\n",
            "contemporary_photography -> Contemporary Photography -> gene id 03084 -> cross artworks count 1\n",
            "contemporary_portrait_painting -> Contemporary Portrait Painting -> gene id 03086 -> cross artworks count 2\n",
            "contemporary_portrait_photography -> Contemporary Portrait Photography -> gene id 03087 -> cross artworks count 4\n",
            "contemporary_scandinavian_art -> Contemporary Scandinavian Art -> gene id 03090 -> cross artworks count 8\n",
            "contemporary_use_of_textiles_1 -> Contemporary Use of Textiles -> gene id 03094 -> cross artworks count 13\n",
            "documentary_travel_photography -> Documentary Travel Photography -> gene id 03107 -> cross artworks count 1\n",
            "fashion_photography -> Fashion Photography -> gene id 03115 -> cross artworks count 1\n",
            "faux_naif -> Faux Naïf -> gene id 03117 -> cross artworks count 8\n",
            "feminist_art_and_contemporary_feminist -> Feminist Art and Contemporary Feminist -> gene id 03119 -> cross artworks count 26\n",
            "figurative_art -> Figurative Art -> gene id 03120 -> cross artworks count 210\n",
            "figurative_painting -> Figurative Painting -> gene id 03121 -> cross artworks count 2\n",
            "geometric_abstraction -> Geometric Abstraction -> gene id 03127 -> cross artworks count 46\n",
            "gestural_abstraction -> Gestural Abstraction -> gene id 03129 -> cross artworks count 47\n",
            "graffiti_and_street_art -> Graffiti and Street Art -> gene id 03131 -> cross artworks count 174\n",
            "hyperrealism_and_photorealism -> Hyperrealism and Photorealism -> gene id 03142 -> cross artworks count 17\n",
            "impressionism_and_contemporary_impressionist -> Impressionism and Contemporary Impressionist -> gene id 03146 -> cross artworks count 23\n",
            "minimalism -> Minimalism -> gene id 03158 -> cross artworks count 2\n",
            "minimalism_and_contemporary_minimalist -> Minimalism and Contemporary Minimalist -> gene id 03159 -> cross artworks count 53\n",
            "neo_geo -> Neo-Geo -> gene id 03170 -> cross artworks count 3\n",
            "pop_and_contemporary_pop -> Pop and Contemporary Pop -> gene id 03199 -> cross artworks count 166\n",
            "post_war_european_art -> Post-War European Art -> gene id 03205 -> cross artworks count 1\n",
            "outsider_art -> Self-Taught, Folk, and Outsider Art -> gene id 03221 -> cross artworks count 37\n",
            "traditional_arts_of_africa_oceania_and_the_americas -> Traditional Arts of Africa, Oceania, and the Americas -> gene id 03241 -> cross artworks count 3\n",
            "ukiyo_e -> Ukiyo-e -> gene id 03243 -> cross artworks count 2\n",
            "women_artists -> Women Artists -> gene id 03248 -> cross artworks count 282\n"
          ]
        }
      ]
    },
    {
      "cell_type": "code",
      "source": [
        "gene = '21st Century Art'\n",
        "inx = '07010'\n",
        "\n",
        "check_cross_artworks(gene, inx)\n",
        "# contemporary... shouldn't be before 1940s"
      ],
      "metadata": {
        "colab": {
          "base_uri": "https://localhost:8080/"
        },
        "id": "WqMju1sj-DrY",
        "outputId": "e3f19f07-d293-4a11-ef41-622a70880242"
      },
      "execution_count": 122,
      "outputs": [
        {
          "output_type": "stream",
          "name": "stdout",
          "text": [
            "Check 21st Century Art gene\n",
            "length of the artworks_check_list 1373\n",
            "length of the genes_check_list 55\n",
            "\n",
            "abstract_art -> Abstract Art -> gene id 03008 -> cross artworks count 255\n",
            "abstract_painting -> Abstract Painting -> gene id 03010 -> cross artworks count 58\n",
            "abstract_photography -> Abstract Photography -> gene id 03011 -> cross artworks count 19\n",
            "abstract_sculpture -> Abstract Sculpture -> gene id 03012 -> cross artworks count 13\n",
            "abstract_versus_figurative_art -> Abstract versus Figurative Art -> gene id 03013 -> cross artworks count 97\n",
            "conceptual_art -> Conceptual Art -> gene id 03049 -> cross artworks count 3\n",
            "conceptual_art_and_contemporary_conceptualism -> Conceptual Art and Contemporary Conceptualism -> gene id 03050 -> cross artworks count 15\n",
            "contemporary_academic_realism -> Contemporary Academic Realism -> gene id 03053 -> cross artworks count 42\n",
            "contemporary_african_art -> Contemporary African Art -> gene id 03054 -> cross artworks count 43\n",
            "contemporary_art -> Contemporary Art -> gene id 03056 -> cross artworks count 274\n",
            "contemporary_asian_art -> Contemporary Asian Art -> gene id 03057 -> cross artworks count 188\n",
            "contemporary_chinese_art -> Contemporary Chinese Art -> gene id 03061 -> cross artworks count 51\n",
            "contemporary_conceptualism -> Contemporary Conceptualism -> gene id 03063 -> cross artworks count 11\n",
            "contemporary_figurative_painting -> Contemporary Figurative Painting -> gene id 03070 -> cross artworks count 33\n",
            "contemporary_gestural_abstraction -> Contemporary Gestural Abstraction -> gene id 03071 -> cross artworks count 17\n",
            "contemporary_glass -> Contemporary Glass -> gene id 03072 -> cross artworks count 2\n",
            "contemporary_graphic_realism -> Contemporary Graphic Realism -> gene id 03074 -> cross artworks count 5\n",
            "contemporary_impressionist -> Contemporary Impressionist -> gene id 03076 -> cross artworks count 1\n",
            "contemporary_latin_american_art -> Contemporary Latin American Art -> gene id 03078 -> cross artworks count 75\n",
            "contemporary_middle_eastern_and_north_african_art -> Contemporary Middle Eastern and North African Art -> gene id 03079 -> cross artworks count 35\n",
            "contemporary_photography -> Contemporary Photography -> gene id 03084 -> cross artworks count 38\n",
            "contemporary_portrait_painting -> Contemporary Portrait Painting -> gene id 03086 -> cross artworks count 11\n",
            "contemporary_portrait_photography -> Contemporary Portrait Photography -> gene id 03087 -> cross artworks count 24\n",
            "contemporary_scandinavian_art -> Contemporary Scandinavian Art -> gene id 03090 -> cross artworks count 27\n",
            "contemporary_use_of_textiles_1 -> Contemporary Use of Textiles -> gene id 03094 -> cross artworks count 6\n",
            "documentary_travel_photography -> Documentary Travel Photography -> gene id 03107 -> cross artworks count 7\n",
            "fashion_photography -> Fashion Photography -> gene id 03115 -> cross artworks count 19\n",
            "faux_naif -> Faux Naïf -> gene id 03117 -> cross artworks count 13\n",
            "feminist_art -> Feminist Art -> gene id 03118 -> cross artworks count 3\n",
            "feminist_art_and_contemporary_feminist -> Feminist Art and Contemporary Feminist -> gene id 03119 -> cross artworks count 43\n",
            "figurative_art -> Figurative Art -> gene id 03120 -> cross artworks count 287\n",
            "figurative_painting -> Figurative Painting -> gene id 03121 -> cross artworks count 34\n",
            "figurative_sculpture -> Figurative Sculpture -> gene id 03122 -> cross artworks count 8\n",
            "fluxus -> Fluxus -> gene id 03123 -> cross artworks count 1\n",
            "geometric_abstraction -> Geometric Abstraction -> gene id 03127 -> cross artworks count 90\n",
            "gestural_abstraction -> Gestural Abstraction -> gene id 03129 -> cross artworks count 52\n",
            "graffiti_and_street_art -> Graffiti and Street Art -> gene id 03131 -> cross artworks count 171\n",
            "hyperrealism_and_photorealism -> Hyperrealism and Photorealism -> gene id 03142 -> cross artworks count 50\n",
            "impressionism_and_contemporary_impressionist -> Impressionism and Contemporary Impressionist -> gene id 03146 -> cross artworks count 11\n",
            "landscape_photography -> Landscape Photography -> gene id 03152 -> cross artworks count 7\n",
            "minimalism -> Minimalism -> gene id 03158 -> cross artworks count 14\n",
            "minimalism_and_contemporary_minimalist -> Minimalism and Contemporary Minimalist -> gene id 03159 -> cross artworks count 87\n",
            "neo_geo -> Neo-Geo -> gene id 03170 -> cross artworks count 7\n",
            "new_american_color_photography -> New American Color Photography -> gene id 03176 -> cross artworks count 1\n",
            "op_art -> Op Art -> gene id 03189 -> cross artworks count 1\n",
            "political_minimalism -> Political Minimalism -> gene id 03196 -> cross artworks count 2\n",
            "pop_art -> Pop Art -> gene id 03198 -> cross artworks count 1\n",
            "pop_and_contemporary_pop -> Pop and Contemporary Pop -> gene id 03199 -> cross artworks count 289\n",
            "post_war_european_art -> Post-War European Art -> gene id 03205 -> cross artworks count 1\n",
            "outsider_art -> Self-Taught, Folk, and Outsider Art -> gene id 03221 -> cross artworks count 40\n",
            "street_photography -> Street Photography -> gene id 03229 -> cross artworks count 1\n",
            "traditional_arts_of_africa_oceania_and_the_americas -> Traditional Arts of Africa, Oceania, and the Americas -> gene id 03241 -> cross artworks count 1\n",
            "ukiyo_e -> Ukiyo-e -> gene id 03243 -> cross artworks count 2\n",
            "women_artists -> Women Artists -> gene id 03248 -> cross artworks count 215\n",
            "yale_university_school_of_art -> Yale University School of Art -> gene id 03250 -> cross artworks count 3\n"
          ]
        }
      ]
    },
    {
      "cell_type": "code",
      "source": [
        "#1940s-1950s Art -> gene id 07008 -> cross artworks count 1841\n",
        "#Art of the 1960s -> gene id 07013 -> cross artworks count 2059\n",
        "#Art of the 1970s -> gene id 07014 -> cross artworks count 1141\n",
        "#Art of the 1980s -> gene id 07015 -> cross artworks count 1067\n",
        "#Art of the 1990s -> gene id 07016 -> cross artworks count 1272"
      ],
      "metadata": {
        "id": "YTlcJ7dfAuC4"
      },
      "execution_count": null,
      "outputs": []
    },
    {
      "cell_type": "markdown",
      "source": [
        "### iconic_works_of_art_history\n",
        "\n",
        "Unfortunatelly, I can't limit the database with whole Styles and Movements genes that have any common artworks with selected Time periods genes.\n",
        "\n",
        "Interesting Styles and Movements gene - iconic_works_of_art_history. Let's explore it."
      ],
      "metadata": {
        "id": "YmqmXQza-WcO"
      }
    },
    {
      "cell_type": "code",
      "source": [
        "styles_movements_genes_dict = {k: v for k, v in genes_dict.items() if v['category_id']=='03'}"
      ],
      "metadata": {
        "id": "Hu3IkKlwEQhc"
      },
      "execution_count": 15,
      "outputs": []
    },
    {
      "cell_type": "code",
      "source": [
        "iconic_works_list = styles_movements_genes_dict['iconic_works_of_art_history']['artsy_id']\n",
        "len(iconic_works_list)"
      ],
      "metadata": {
        "colab": {
          "base_uri": "https://localhost:8080/"
        },
        "id": "9kglbC7NAtzJ",
        "outputId": "30dcdeec-9735-4fab-b453-96b07240ea93"
      },
      "execution_count": 16,
      "outputs": [
        {
          "output_type": "execute_result",
          "data": {
            "text/plain": [
              "536"
            ]
          },
          "metadata": {},
          "execution_count": 16
        }
      ]
    },
    {
      "cell_type": "code",
      "source": [
        "# let's create two dataframes for further analysis and visualisation\n",
        "category_id_list = []\n",
        "cat_count_list = []\n",
        "\n",
        "gene_name_list = []\n",
        "gene_id_list = []\n",
        "gene_cat_id_list = []\n",
        "gene_count_list = []"
      ],
      "metadata": {
        "id": "-2iedM3YEjC_"
      },
      "execution_count": 17,
      "outputs": []
    },
    {
      "cell_type": "code",
      "source": [
        "# what other Styles & Movements genes they belong to\n",
        "iconic_movements_genes_list = []\n",
        "iconic_movements_artworks_lists = []\n",
        "category_id_list.append('03')\n",
        "\n",
        "for v in styles_movements_genes_dict.values(): # with all time periods genes\n",
        "  if v['id'] is not styles_movements_genes_dict['iconic_works_of_art_history']['id']: # not in filtered time_period genes\n",
        "    id_list = list(set(v['artsy_id']) & set(iconic_works_list))\n",
        "    if len(id_list) > 0: \n",
        "      iconic_movements_genes_list.append(v['id'])\n",
        "      iconic_movements_artworks_lists.append(id_list)\n",
        "\n",
        "for v in styles_movements_genes_dict.values():\n",
        "  if v['id'] in iconic_movements_genes_list:\n",
        "    print(v['name'], '-> gene id', v['id'], '-> iconic artworks count', len(iconic_movements_artworks_lists[iconic_movements_genes_list.index(v['id'])]))\n",
        "    gene_id_list.append(v['id'])\n",
        "    gene_name_list.append(v['name'])\n",
        "    gene_cat_id_list.append(v['category_id'])\n",
        "    gene_count_list.append(len(iconic_movements_artworks_lists[iconic_movements_genes_list.index(v['id'])]))\n",
        "\n",
        "iconic_movements_artworks_unique = []\n",
        "for id_list in iconic_movements_artworks_lists:\n",
        "  iconic_movements_artworks_unique = list(set(iconic_movements_artworks_unique + id_list))\n",
        "print('')\n",
        "print('Total count of iconic artworks', len(iconic_movements_artworks_unique))\n",
        "cat_count_list.append(len(iconic_movements_artworks_unique))"
      ],
      "metadata": {
        "colab": {
          "base_uri": "https://localhost:8080/"
        },
        "id": "PHFpMKtzG-as",
        "outputId": "5a794baf-3a6f-4f5e-9db7-a2fbc1839d22"
      },
      "execution_count": 42,
      "outputs": [
        {
          "output_type": "stream",
          "name": "stdout",
          "text": [
            "19th Century American Art -> gene id 03003 -> iconic artworks count 15\n",
            "19th Century American Paintings and Works on Paper -> gene id 03004 -> iconic artworks count 12\n",
            "19th Century French Academy -> gene id 03005 -> iconic artworks count 5\n",
            "20th Century Art -> gene id 03007 -> iconic artworks count 1\n",
            "Abstract Expressionism -> gene id 03009 -> iconic artworks count 4\n",
            "American Impressionism -> gene id 03017 -> iconic artworks count 5\n",
            "American Modernism -> gene id 03018 -> iconic artworks count 1\n",
            "American Regionalism -> gene id 03021 -> iconic artworks count 1\n",
            "American Sculpture 1830–1950 -> gene id 03022 -> iconic artworks count 1\n",
            "American Tonalism -> gene id 03023 -> iconic artworks count 1\n",
            "American Works on Paper 1880–1950 -> gene id 03024 -> iconic artworks count 1\n",
            "Art Deco -> gene id 03026 -> iconic artworks count 1\n",
            "Art Nouveau -> gene id 03028 -> iconic artworks count 6\n",
            "Arte Povera -> gene id 03029 -> iconic artworks count 1\n",
            "Barbizon School -> gene id 03031 -> iconic artworks count 1\n",
            "Baroque -> gene id 03032 -> iconic artworks count 42\n",
            "Bauhaus -> gene id 03033 -> iconic artworks count 2\n",
            "Body Art -> gene id 03039 -> iconic artworks count 1\n",
            "Collaborations and Collectives -> gene id 03047 -> iconic artworks count 3\n",
            "Color Field Painting -> gene id 03048 -> iconic artworks count 1\n",
            "Conceptual Art -> gene id 03049 -> iconic artworks count 1\n",
            "Concrete Art -> gene id 03051 -> iconic artworks count 1\n",
            "Cubism -> gene id 03096 -> iconic artworks count 2\n",
            "Dada -> gene id 03098 -> iconic artworks count 2\n",
            "Danube School -> gene id 03100 -> iconic artworks count 1\n",
            "De Stijl -> gene id 03102 -> iconic artworks count 2\n",
            "Deconstructivism -> gene id 03103 -> iconic artworks count 1\n",
            "Dutch and Flemish -> gene id 03109 -> iconic artworks count 27\n",
            "Early Renaissance -> gene id 03111 -> iconic artworks count 23\n",
            "Fauvism -> gene id 03116 -> iconic artworks count 3\n",
            "Feminist Art -> gene id 03118 -> iconic artworks count 2\n",
            "Figurative Sculpture -> gene id 03122 -> iconic artworks count 54\n",
            "Futurism -> gene id 03126 -> iconic artworks count 2\n",
            "German Expressionism -> gene id 03128 -> iconic artworks count 3\n",
            "Gothic Art -> gene id 03130 -> iconic artworks count 27\n",
            "Grand Manner -> gene id 03132 -> iconic artworks count 12\n",
            "Group Zero -> gene id 03134 -> iconic artworks count 1\n",
            "High Renaissance -> gene id 03140 -> iconic artworks count 48\n",
            "Hudson River School -> gene id 03141 -> iconic artworks count 1\n",
            "Impressionism -> gene id 03145 -> iconic artworks count 31\n",
            "Japanese Erotic Prints -> gene id 03147 -> iconic artworks count 1\n",
            "Japonisme -> gene id 03149 -> iconic artworks count 6\n",
            "Mannerism -> gene id 03155 -> iconic artworks count 12\n",
            "Medieval Art -> gene id 03156 -> iconic artworks count 53\n",
            "Modern Photography -> gene id 03161 -> iconic artworks count 1\n",
            "Modern and Impressionist Art -> gene id 03162 -> iconic artworks count 27\n",
            "Neo-Dada -> gene id 03168 -> iconic artworks count 1\n",
            "Neo-Impressionism -> gene id 03171 -> iconic artworks count 1\n",
            "Neo-Plasticism -> gene id 03172 -> iconic artworks count 1\n",
            "Neoclassicism -> gene id 03173 -> iconic artworks count 23\n",
            "New York School -> gene id 03181 -> iconic artworks count 4\n",
            "Nineteenth Century French Realism -> gene id 03182 -> iconic artworks count 12\n",
            "Northern Renaissance -> gene id 03183 -> iconic artworks count 29\n",
            "Old Master Drawings and Prints -> gene id 03186 -> iconic artworks count 11\n",
            "Old Masters -> gene id 03188 -> iconic artworks count 127\n",
            "Orientalism -> gene id 03190 -> iconic artworks count 5\n",
            "Pictorialism -> gene id 03193 -> iconic artworks count 2\n",
            "Pointillism -> gene id 03195 -> iconic artworks count 1\n",
            "Post-Impressionism -> gene id 03201 -> iconic artworks count 21\n",
            "Post-Painterly Abstraction -> gene id 03203 -> iconic artworks count 1\n",
            "Post-World War I European Classicism -> gene id 03206 -> iconic artworks count 2\n",
            "Pre-World War II School of Paris -> gene id 03210 -> iconic artworks count 4\n",
            "Renaissance Art -> gene id 03216 -> iconic artworks count 116\n",
            "Rinpa School -> gene id 03217 -> iconic artworks count 3\n",
            "Rococo Art and Design -> gene id 03218 -> iconic artworks count 12\n",
            "Romanticism -> gene id 03219 -> iconic artworks count 18\n",
            "Social Realism -> gene id 03224 -> iconic artworks count 2\n",
            "Suprematism -> gene id 03231 -> iconic artworks count 2\n",
            "Surrealism -> gene id 03232 -> iconic artworks count 2\n",
            "Symbolism -> gene id 03233 -> iconic artworks count 11\n",
            "The Blue Rider -> gene id 03237 -> iconic artworks count 1\n",
            "Traditional Arts of Africa, Oceania, and the Americas -> gene id 03241 -> iconic artworks count 7\n",
            "Ukiyo-e -> gene id 03243 -> iconic artworks count 3\n",
            "Venetian School -> gene id 03244 -> iconic artworks count 16\n",
            "Vienna Secession -> gene id 03245 -> iconic artworks count 3\n",
            "Works Progress Administration (WPA) -> gene id 03249 -> iconic artworks count 1\n",
            "\n",
            "Total count of iconic artworks 419\n"
          ]
        }
      ]
    },
    {
      "cell_type": "code",
      "source": [
        "print(\"{} works aren't belong to Style or Movement, just to Iconic works\".format(len(iconic_works_list) - len(iconic_periods_artworks_unique)))"
      ],
      "metadata": {
        "colab": {
          "base_uri": "https://localhost:8080/"
        },
        "id": "hIrWh0Nn_Up-",
        "outputId": "34361369-4729-4331-ca0d-09154ca2a3ce"
      },
      "execution_count": 19,
      "outputs": [
        {
          "output_type": "stream",
          "name": "stdout",
          "text": [
            "117 works aren't belong to Style or Movement, just to Iconic works\n"
          ]
        }
      ]
    },
    {
      "cell_type": "markdown",
      "source": [
        "Will be interesting to look at them."
      ],
      "metadata": {
        "id": "PwSe4KROApED"
      }
    },
    {
      "cell_type": "code",
      "source": [
        "#sample(list(set(iconic_works_list) - set(iconic_periods_artworks_unique)), 10)"
      ],
      "metadata": {
        "id": "UKhT9fj8ALeF"
      },
      "execution_count": 47,
      "outputs": []
    },
    {
      "cell_type": "code",
      "source": [
        "# what other category genes they belong to\n",
        "def get_stat_by_cat(cat):\n",
        "  filtered_genes_dict = {k: v for k, v in genes_dict.items() if v['category_id']==cat}\n",
        "\n",
        "  iconic_periods_genes_list = []\n",
        "  iconic_periods_artworks_lists = []\n",
        "\n",
        "  for v in filtered_genes_dict.values():\n",
        "    id_list = list(set(v['artsy_id']) & set(iconic_works_list))\n",
        "    if len(id_list) > 0: \n",
        "      iconic_periods_genes_list.append(v['id'])\n",
        "      iconic_periods_artworks_lists.append(id_list)\n",
        "\n",
        "  for v in filtered_genes_dict.values():\n",
        "    if v['id'] in iconic_periods_genes_list:\n",
        "      print(v['name'], '-> gene id', v['id'], '-> iconic artworks count', len(iconic_periods_artworks_lists[iconic_periods_genes_list.index(v['id'])]))\n",
        "      gene_id_list.append(v['id'])\n",
        "      gene_name_list.append(v['name'])\n",
        "      gene_cat_id_list.append(v['category_id'])\n",
        "      gene_count_list.append(len(iconic_periods_artworks_lists[iconic_periods_genes_list.index(v['id'])]))\n",
        "    \n",
        "  iconic_periods_artworks_unique = []\n",
        "  for id_list in iconic_periods_artworks_lists:\n",
        "    iconic_periods_artworks_unique = list(set(iconic_periods_artworks_unique + id_list))\n",
        "  print('')\n",
        "  print('Total count of iconic artworks', len(iconic_periods_artworks_unique))\n",
        "  cat_count_list.append(len(iconic_periods_artworks_unique))"
      ],
      "metadata": {
        "id": "tA9JtpNeEh-c"
      },
      "execution_count": 20,
      "outputs": []
    },
    {
      "cell_type": "code",
      "source": [
        "cat_id_list = ['06', '08', '02', '05', '09', '07', '11']\n",
        "for cat in cat_id_list:\n",
        "  for v in categories_dict.values():\n",
        "    if v['id']==cat:\n",
        "      category_id_list.append(v['id'])\n",
        "      print('Iconic artworks belong to further genes in category', v['name'])\n",
        "      print('')\n",
        "      get_stat_by_cat(cat)\n",
        "      print('')"
      ],
      "metadata": {
        "colab": {
          "base_uri": "https://localhost:8080/"
        },
        "id": "reAsiPrKMCnD",
        "outputId": "2f0e7e88-7ea0-48cd-e111-9a93a695a307"
      },
      "execution_count": 21,
      "outputs": [
        {
          "output_type": "stream",
          "name": "stdout",
          "text": [
            "Iconic artworks belong to further genes in category Medium and Techniques\n",
            "\n",
            "Album, Folio and Fan Formats -> gene id 06002 -> iconic artworks count 2\n",
            "Altarpiece -> gene id 06003 -> iconic artworks count 8\n",
            "Appropriation -> gene id 06007 -> iconic artworks count 5\n",
            "Arabic/Farsi Calligraphy -> gene id 06008 -> iconic artworks count 7\n",
            "Archaeological Object -> gene id 06009 -> iconic artworks count 3\n",
            "Art That Plays With Scale -> gene id 06010 -> iconic artworks count 3\n",
            "Automatism -> gene id 06013 -> iconic artworks count 4\n",
            "Caravaggesque -> gene id 06020 -> iconic artworks count 4\n",
            "Chiaroscuro -> gene id 06023 -> iconic artworks count 42\n",
            "Cinematic -> gene id 06024 -> iconic artworks count 1\n",
            "Collecting and Modes of Display -> gene id 06027 -> iconic artworks count 1\n",
            "Color Theory -> gene id 06029 -> iconic artworks count 8\n",
            "Comic/Cartoon -> gene id 06030 -> iconic artworks count 1\n",
            "Copies and Emulations -> gene id 06032 -> iconic artworks count 4\n",
            "Densely Textured or Haptic Surface -> gene id 06036 -> iconic artworks count 3\n",
            "Divinatory Objects, Talismans, and Amulets -> gene id 06043 -> iconic artworks count 3\n",
            "Documentary Photography -> gene id 06044 -> iconic artworks count 1\n",
            "East Asian Calligraphy -> gene id 06046 -> iconic artworks count 5\n",
            "En plein air -> gene id 06049 -> iconic artworks count 8\n",
            "Focus on Materials -> gene id 06057 -> iconic artworks count 8\n",
            "Fresco -> gene id 06060 -> iconic artworks count 21\n",
            "Handscroll -> gene id 06067 -> iconic artworks count 7\n",
            "Hanging Scroll -> gene id 06068 -> iconic artworks count 3\n",
            "Hatching -> gene id 06069 -> iconic artworks count 12\n",
            "History Painting -> gene id 06070 -> iconic artworks count 10\n",
            "Hyperrealism -> gene id 06071 -> iconic artworks count 21\n",
            "Imitated Material -> gene id 06073 -> iconic artworks count 3\n",
            "Immersive -> gene id 06074 -> iconic artworks count 2\n",
            "Intaglio -> gene id 06077 -> iconic artworks count 4\n",
            "Interactive -> gene id 06079 -> iconic artworks count 2\n",
            "Intricately Sculpted -> gene id 06080 -> iconic artworks count 6\n",
            "Large-Scale Painting -> gene id 06083 -> iconic artworks count 3\n",
            "Long Distance and Deep Distance -> gene id 06089 -> iconic artworks count 3\n",
            "Manuscript -> gene id 06093 -> iconic artworks count 13\n",
            "Mediated View -> gene id 06095 -> iconic artworks count 6\n",
            "Monochrome Painting -> gene id 06098 -> iconic artworks count 1\n",
            "Multiple Styles -> gene id 06102 -> iconic artworks count 1\n",
            "Murals and Wall Drawings -> gene id 06103 -> iconic artworks count 23\n",
            "Oil on Copper -> gene id 06106 -> iconic artworks count 1\n",
            "Organic Material -> gene id 06109 -> iconic artworks count 1\n",
            "Panorama -> gene id 06113 -> iconic artworks count 2\n",
            "Paper Cut-Outs -> gene id 06114 -> iconic artworks count 1\n",
            "Passage -> gene id 06115 -> iconic artworks count 3\n",
            "Photographic Source -> gene id 06120 -> iconic artworks count 1\n",
            "Photomontage -> gene id 06124 -> iconic artworks count 1\n",
            "Polychrome Sculpture -> gene id 06127 -> iconic artworks count 8\n",
            "Relief -> gene id 06137 -> iconic artworks count 44\n",
            "Rembrandtesque -> gene id 06138 -> iconic artworks count 1\n",
            "Repetition -> gene id 06139 -> iconic artworks count 10\n",
            "Restored and Repurposed -> gene id 06141 -> iconic artworks count 1\n",
            "Screen Format -> gene id 06142 -> iconic artworks count 3\n",
            "Sfumato -> gene id 06146 -> iconic artworks count 11\n",
            "Shallow Depth of Field -> gene id 06147 -> iconic artworks count 1\n",
            "Site-Specific Art -> gene id 06149 -> iconic artworks count 5\n",
            "Soft Sculpture -> gene id 06151 -> iconic artworks count 1\n",
            "Tondo -> gene id 06161 -> iconic artworks count 1\n",
            "Traditional Photographic Techniques -> gene id 06163 -> iconic artworks count 3\n",
            "Traditional Scroll Painting -> gene id 06164 -> iconic artworks count 9\n",
            "Trompe l’oeil -> gene id 06166 -> iconic artworks count 11\n",
            "Typography -> gene id 06167 -> iconic artworks count 3\n",
            "Use of Traditional Techniques -> gene id 06169 -> iconic artworks count 11\n",
            "\n",
            "Total count of iconic artworks 272\n",
            "\n",
            "Iconic artworks belong to further genes in category Geographic Regions\n",
            "\n",
            "Central American Art -> gene id 08018 -> iconic artworks count 1\n",
            "Central Asian Art -> gene id 08019 -> iconic artworks count 1\n",
            "Egyptian Art -> gene id 08027 -> iconic artworks count 11\n",
            "Flanders and Luxembourg -> gene id 08028 -> iconic artworks count 1\n",
            "Greek Art -> gene id 08032 -> iconic artworks count 11\n",
            "Iraqi Art -> gene id 08036 -> iconic artworks count 4\n",
            "Melanesian, Micronesian and Polynesian Art -> gene id 08045 -> iconic artworks count 2\n",
            "\n",
            "Total count of iconic artworks 31\n",
            "\n",
            "Iconic artworks belong to further genes in category Subject Matter\n",
            "\n",
            "Abstract Landscape -> gene id 02001 -> iconic artworks count 3\n",
            "Adolescence -> gene id 02002 -> iconic artworks count 8\n",
            "Advertising and Brands -> gene id 02003 -> iconic artworks count 1\n",
            "Allegory -> gene id 02005 -> iconic artworks count 26\n",
            "Americana -> gene id 02007 -> iconic artworks count 2\n",
            "Anatomy -> gene id 02008 -> iconic artworks count 1\n",
            "Animal Portrait -> gene id 02009 -> iconic artworks count 3\n",
            "Anthropomorphism -> gene id 02011 -> iconic artworks count 1\n",
            "Antiquity as Subject -> gene id 02012 -> iconic artworks count 26\n",
            "Arrivals/Departures -> gene id 02014 -> iconic artworks count 3\n",
            "Artist as Ethnographer -> gene id 02015 -> iconic artworks count 4\n",
            "Atmospheric Landscapes -> gene id 02016 -> iconic artworks count 10\n",
            "Attenuated Figure -> gene id 02017 -> iconic artworks count 11\n",
            "Bars and Restaurants -> gene id 02018 -> iconic artworks count 4\n",
            "Bathers -> gene id 02019 -> iconic artworks count 7\n",
            "Bedrooms and Bathrooms -> gene id 02020 -> iconic artworks count 8\n",
            "Bible Story -> gene id 02021 -> iconic artworks count 55\n",
            "Body Parts -> gene id 02022 -> iconic artworks count 4\n",
            "Caricatures and Parody -> gene id 02023 -> iconic artworks count 4\n",
            "Celebrity -> gene id 02024 -> iconic artworks count 1\n",
            "Childhood -> gene id 02026 -> iconic artworks count 8\n",
            "City Scenes -> gene id 02028 -> iconic artworks count 16\n",
            "Cityscapes -> gene id 02029 -> iconic artworks count 5\n",
            "Classical Figure -> gene id 02031 -> iconic artworks count 48\n",
            "Classical Mythology -> gene id 02032 -> iconic artworks count 30\n",
            "Conflict -> gene id 02034 -> iconic artworks count 36\n",
            "Consumerism -> gene id 02035 -> iconic artworks count 1\n",
            "Contrapposto -> gene id 02036 -> iconic artworks count 6\n",
            "Cross-Cultural Dialogue -> gene id 02038 -> iconic artworks count 8\n",
            "Crowds -> gene id 02039 -> iconic artworks count 33\n",
            "Decay -> gene id 02041 -> iconic artworks count 1\n",
            "Deities and Holy Figures -> gene id 02043 -> iconic artworks count 96\n",
            "Disaster -> gene id 02047 -> iconic artworks count 6\n",
            "Dreams / Altered States of Consciousness -> gene id 02048 -> iconic artworks count 1\n",
            "Engaged with Byzantine and Medieval Art -> gene id 02049 -> iconic artworks count 3\n",
            "Engaged with Traditional Japanese Art -> gene id 02056 -> iconic artworks count 2\n",
            "Engagement with Mass Media -> gene id 02058 -> iconic artworks count 1\n",
            "Equestrian -> gene id 02059 -> iconic artworks count 7\n",
            "Erotic -> gene id 02060 -> iconic artworks count 19\n",
            "Eye Contact -> gene id 02061 -> iconic artworks count 20\n",
            "Face -> gene id 02062 -> iconic artworks count 15\n",
            "Family -> gene id 02064 -> iconic artworks count 14\n",
            "Femininity -> gene id 02065 -> iconic artworks count 3\n",
            "Fertility/Pregnancy/Birth -> gene id 02066 -> iconic artworks count 2\n",
            "Figure from the Back (Rückenfigur) -> gene id 02068 -> iconic artworks count 5\n",
            "Figures in Nature -> gene id 02069 -> iconic artworks count 26\n",
            "Figures of the Art World -> gene id 02070 -> iconic artworks count 11\n",
            "Focus on the Social Margins -> gene id 02072 -> iconic artworks count 7\n",
            "Gender -> gene id 02074 -> iconic artworks count 3\n",
            "Glamour -> gene id 02075 -> iconic artworks count 3\n",
            "Grotesque -> gene id 02077 -> iconic artworks count 10\n",
            "Group Portrait -> gene id 02078 -> iconic artworks count 63\n",
            "Group of Objects -> gene id 02079 -> iconic artworks count 1\n",
            "Group of Portraits -> gene id 02080 -> iconic artworks count 5\n",
            "Haze -> gene id 02081 -> iconic artworks count 11\n",
            "Hugs and Kisses -> gene id 02082 -> iconic artworks count 4\n",
            "Humor -> gene id 02084 -> iconic artworks count 5\n",
            "Hybrids and Imaginary Creatures -> gene id 02085 -> iconic artworks count 17\n",
            "Implied Narrative -> gene id 02086 -> iconic artworks count 1\n",
            "Individual Portrait -> gene id 02088 -> iconic artworks count 1\n",
            "Industry -> gene id 02089 -> iconic artworks count 3\n",
            "Institutional Critique -> gene id 02091 -> iconic artworks count 5\n",
            "Interlaced Bodies -> gene id 02093 -> iconic artworks count 14\n",
            "Isolation/Alienation -> gene id 02095 -> iconic artworks count 10\n",
            "Language -> gene id 02100 -> iconic artworks count 1\n",
            "Leisure -> gene id 02101 -> iconic artworks count 20\n",
            "Light as Subject -> gene id 02102 -> iconic artworks count 3\n",
            "Love -> gene id 02104 -> iconic artworks count 18\n",
            "Madonna and Child -> gene id 02106 -> iconic artworks count 17\n",
            "Masculinity -> gene id 02109 -> iconic artworks count 2\n",
            "Math -> gene id 02110 -> iconic artworks count 19\n",
            "Medical/Health -> gene id 02111 -> iconic artworks count 5\n",
            "Migration -> gene id 02112 -> iconic artworks count 1\n",
            "Mortality -> gene id 02114 -> iconic artworks count 47\n",
            "Mourning and Commemoration -> gene id 02115 -> iconic artworks count 2\n",
            "Movement -> gene id 02116 -> iconic artworks count 43\n",
            "Mutated Bodies -> gene id 02117 -> iconic artworks count 4\n",
            "Narrative -> gene id 02120 -> iconic artworks count 94\n",
            "Nautical -> gene id 02123 -> iconic artworks count 7\n",
            "Nostalgia -> gene id 02124 -> iconic artworks count 3\n",
            "Parties and Celebrations -> gene id 02128 -> iconic artworks count 13\n",
            "People at Home -> gene id 02129 -> iconic artworks count 11\n",
            "Performing Arts -> gene id 02130 -> iconic artworks count 9\n",
            "Personal Histories -> gene id 02131 -> iconic artworks count 1\n",
            "Personification -> gene id 02133 -> iconic artworks count 7\n",
            "Political -> gene id 02134 -> iconic artworks count 26\n",
            "Political Events -> gene id 02135 -> iconic artworks count 8\n",
            "Political Figures -> gene id 02136 -> iconic artworks count 15\n",
            "Popular Culture -> gene id 02137 -> iconic artworks count 1\n",
            "Portraits without a Face -> gene id 02139 -> iconic artworks count 2\n",
            "Provocative -> gene id 02140 -> iconic artworks count 22\n",
            "Psychoanalysis -> gene id 02141 -> iconic artworks count 7\n",
            "Racial and Ethnic Identity -> gene id 02142 -> iconic artworks count 2\n",
            "References to Art History -> gene id 02143 -> iconic artworks count 9\n",
            "Reflections -> gene id 02144 -> iconic artworks count 6\n",
            "Related to Fashion -> gene id 02145 -> iconic artworks count 11\n",
            "Related to Games -> gene id 02147 -> iconic artworks count 1\n",
            "Related to Literature -> gene id 02149 -> iconic artworks count 13\n",
            "Related to Music -> gene id 02150 -> iconic artworks count 10\n",
            "Related to Religion -> gene id 02152 -> iconic artworks count 50\n",
            "Royal/Court Commission -> gene id 02156 -> iconic artworks count 67\n",
            "Royalty and Aristocracy -> gene id 02157 -> iconic artworks count 51\n",
            "Rural Life -> gene id 02158 -> iconic artworks count 19\n",
            "Saints -> gene id 02159 -> iconic artworks count 56\n",
            "Scenes of Everyday Life -> gene id 02160 -> iconic artworks count 26\n",
            "Seduction and Courtship -> gene id 02163 -> iconic artworks count 7\n",
            "Self as Subject -> gene id 02164 -> iconic artworks count 5\n",
            "Self-Portrait -> gene id 02165 -> iconic artworks count 18\n",
            "Sex -> gene id 02166 -> iconic artworks count 4\n",
            "Shadows -> gene id 02168 -> iconic artworks count 13\n",
            "Silhouettes -> gene id 02169 -> iconic artworks count 1\n",
            "Spaces of the Art World -> gene id 02172 -> iconic artworks count 3\n",
            "Stolen Moments -> gene id 02175 -> iconic artworks count 13\n",
            "Surveillance -> gene id 02177 -> iconic artworks count 1\n",
            "Symbolic Composition -> gene id 02178 -> iconic artworks count 22\n",
            "The Abject -> gene id 02182 -> iconic artworks count 2\n",
            "The Afterlife -> gene id 02183 -> iconic artworks count 10\n",
            "The American West -> gene id 02184 -> iconic artworks count 1\n",
            "The Artist's Studio -> gene id 02186 -> iconic artworks count 7\n",
            "The Body -> gene id 02187 -> iconic artworks count 4\n",
            "The City -> gene id 02188 -> iconic artworks count 3\n",
            "The Environment -> gene id 02191 -> iconic artworks count 3\n",
            "The Seasons -> gene id 02194 -> iconic artworks count 8\n",
            "The Senses -> gene id 02195 -> iconic artworks count 1\n",
            "The Sublime -> gene id 02196 -> iconic artworks count 11\n",
            "Time -> gene id 02197 -> iconic artworks count 5\n",
            "Times of Day -> gene id 02198 -> iconic artworks count 4\n",
            "Trauma and Struggle -> gene id 02200 -> iconic artworks count 4\n",
            "Travel/Tourism -> gene id 02201 -> iconic artworks count 6\n",
            "Unsettling -> gene id 02202 -> iconic artworks count 11\n",
            "Urbanization -> gene id 02203 -> iconic artworks count 5\n",
            "Utopia -> gene id 02204 -> iconic artworks count 4\n",
            "Violence -> gene id 02206 -> iconic artworks count 21\n",
            "Virtue and Vice -> gene id 02207 -> iconic artworks count 18\n",
            "Visual Perception -> gene id 02208 -> iconic artworks count 5\n",
            "War and Military -> gene id 02209 -> iconic artworks count 43\n",
            "Water -> gene id 02210 -> iconic artworks count 22\n",
            "Waterscapes -> gene id 02211 -> iconic artworks count 20\n",
            "Work and Workers -> gene id 02212 -> iconic artworks count 16\n",
            "Zoomorphism -> gene id 02213 -> iconic artworks count 1\n",
            "\n",
            "Total count of iconic artworks 471\n",
            "\n",
            "Iconic artworks belong to further genes in category Visual Qualities\n",
            "\n",
            "Allover Composition -> gene id 05002 -> iconic artworks count 1\n",
            "Angular -> gene id 05003 -> iconic artworks count 7\n",
            "Arabesque/Scroll -> gene id 05004 -> iconic artworks count 3\n",
            "Asymmetrical -> gene id 05005 -> iconic artworks count 4\n",
            "Blown-Off-Roof Perspective -> gene id 05009 -> iconic artworks count 3\n",
            "Blurred -> gene id 05010 -> iconic artworks count 3\n",
            "Bulbous -> gene id 05012 -> iconic artworks count 8\n",
            "Calligraphic -> gene id 05013 -> iconic artworks count 1\n",
            "Color Gradient -> gene id 05014 -> iconic artworks count 1\n",
            "Contour Line -> gene id 05016 -> iconic artworks count 2\n",
            "Creased Crinkled Wrinkled -> gene id 05018 -> iconic artworks count 5\n",
            "Curvilinear Forms -> gene id 05020 -> iconic artworks count 12\n",
            "Dense Composition -> gene id 05022 -> iconic artworks count 41\n",
            "Divisionist -> gene id 05023 -> iconic artworks count 1\n",
            "Dotted -> gene id 05024 -> iconic artworks count 3\n",
            "Dynamism -> gene id 05025 -> iconic artworks count 19\n",
            "Emphasis on Linear Perspective -> gene id 05027 -> iconic artworks count 12\n",
            "Flatness -> gene id 05029 -> iconic artworks count 11\n",
            "Fractal-like / Kaleidoscopic -> gene id 05030 -> iconic artworks count 8\n",
            "Fragmented Geometry -> gene id 05031 -> iconic artworks count 3\n",
            "Hard-Edged -> gene id 05035 -> iconic artworks count 2\n",
            "Highly Detailed -> gene id 05036 -> iconic artworks count 47\n",
            "Highly Ornamented -> gene id 05037 -> iconic artworks count 24\n",
            "Iridescence/Opalescence -> gene id 05038 -> iconic artworks count 1\n",
            "Irregular Linear Forms -> gene id 05040 -> iconic artworks count 1\n",
            "Marbleized -> gene id 05043 -> iconic artworks count 2\n",
            "Mirrored -> gene id 05046 -> iconic artworks count 1\n",
            "Piles/Stacks -> gene id 05052 -> iconic artworks count 7\n",
            "Primary Abstraction -> gene id 05054 -> iconic artworks count 5\n",
            "Primary Colors -> gene id 05055 -> iconic artworks count 4\n",
            "Psychedelic -> gene id 05056 -> iconic artworks count 2\n",
            "Radiating Lines -> gene id 05057 -> iconic artworks count 3\n",
            "Scattered Composition -> gene id 05060 -> iconic artworks count 4\n",
            "Sharp/Prickly -> gene id 05061 -> iconic artworks count 1\n",
            "Shiny/Glossy -> gene id 05062 -> iconic artworks count 2\n",
            "Single Object -> gene id 05063 -> iconic artworks count 3\n",
            "Slender -> gene id 05064 -> iconic artworks count 13\n",
            "Sparse -> gene id 05067 -> iconic artworks count 1\n",
            "Stained Glass Effect -> gene id 05068 -> iconic artworks count 1\n",
            "Symmetrical -> gene id 05070 -> iconic artworks count 20\n",
            "Tangled Forms -> gene id 05071 -> iconic artworks count 8\n",
            "Transparent/Translucent Medium -> gene id 05072 -> iconic artworks count 5\n",
            "Viscous Forms -> gene id 05073 -> iconic artworks count 1\n",
            "Woven/Perforated -> gene id 05074 -> iconic artworks count 2\n",
            "\n",
            "Total count of iconic artworks 219\n",
            "\n",
            "Iconic artworks belong to further genes in category Materials\n",
            "\n",
            "Cardboard -> gene id 09006 -> iconic artworks count 2\n",
            "Chrome-Plated -> gene id 09009 -> iconic artworks count 1\n",
            "Concrete -> gene id 09010 -> iconic artworks count 6\n",
            "Enamel -> gene id 09011 -> iconic artworks count 1\n",
            "Gemstone -> gene id 09013 -> iconic artworks count 1\n",
            "Gold -> gene id 09015 -> iconic artworks count 19\n",
            "Inlay -> gene id 09016 -> iconic artworks count 4\n",
            "Ivory -> gene id 09017 -> iconic artworks count 2\n",
            "Leather/Hide -> gene id 09018 -> iconic artworks count 1\n",
            "Metal -> gene id 09020 -> iconic artworks count 6\n",
            "Mosaics -> gene id 09021 -> iconic artworks count 7\n",
            "Plaster -> gene id 09024 -> iconic artworks count 1\n",
            "Silver -> gene id 09028 -> iconic artworks count 1\n",
            "Stained Glass -> gene id 09029 -> iconic artworks count 7\n",
            "Terracotta -> gene id 09033 -> iconic artworks count 3\n",
            "Use of Ephemeral Materials -> gene id 09035 -> iconic artworks count 1\n",
            "Use of Precious Materials -> gene id 09037 -> iconic artworks count 28\n",
            "\n",
            "Total count of iconic artworks 58\n",
            "\n",
            "Iconic artworks belong to further genes in category Time Periods\n",
            "\n",
            "1000 - 1400 CE Art -> gene id 07001 -> iconic artworks count 72\n",
            "15th Century Art -> gene id 07002 -> iconic artworks count 61\n",
            "16th Century Art -> gene id 07003 -> iconic artworks count 69\n",
            "17th Century Art -> gene id 07004 -> iconic artworks count 55\n",
            "18th Century Art -> gene id 07005 -> iconic artworks count 25\n",
            "1918 - 1939 (Interwar) Art -> gene id 07007 -> iconic artworks count 1\n",
            "500 - 1000 CE  Art -> gene id 07011 -> iconic artworks count 28\n",
            "Ancient Art -> gene id 07012 -> iconic artworks count 61\n",
            "Prehistoric Art -> gene id 07020 -> iconic artworks count 3\n",
            "\n",
            "Total count of iconic artworks 353\n",
            "\n",
            "Iconic artworks belong to further genes in category Cultural and Religious Styles\n",
            "\n",
            "Ancient Egypt -> gene id 11002 -> iconic artworks count 10\n",
            "Art of the Upper Paleolithic -> gene id 11007 -> iconic artworks count 1\n",
            "Benin Art -> gene id 11011 -> iconic artworks count 2\n",
            "Buddhist Art and Architecture -> gene id 11012 -> iconic artworks count 9\n",
            "Byzantine Art -> gene id 11013 -> iconic artworks count 5\n",
            "Christian Art and Architecture -> gene id 11017 -> iconic artworks count 130\n",
            "Early Medieval Art -> gene id 11018 -> iconic artworks count 9\n",
            "Edo Art -> gene id 11020 -> iconic artworks count 7\n",
            "Etruscan Art -> gene id 11021 -> iconic artworks count 1\n",
            "Greek Art and Architecture -> gene id 11022 -> iconic artworks count 13\n",
            "Greek and Roman Art and Architecture -> gene id 11023 -> iconic artworks count 29\n",
            "Guatemalan Art -> gene id 11024 -> iconic artworks count 1\n",
            "Han Dynasty -> gene id 11025 -> iconic artworks count 2\n",
            "Heian Period -> gene id 11026 -> iconic artworks count 2\n",
            "Hellenistic Art -> gene id 11027 -> iconic artworks count 5\n",
            "Islamic Art and Architecture -> gene id 11034 -> iconic artworks count 13\n",
            "Mayan Art and Architecture -> gene id 11037 -> iconic artworks count 4\n",
            "Meiji Art -> gene id 11039 -> iconic artworks count 1\n",
            "Mesopotamian Art -> gene id 11041 -> iconic artworks count 3\n",
            "Minoan Art -> gene id 11043 -> iconic artworks count 1\n",
            "Mughal Art -> gene id 11045 -> iconic artworks count 1\n",
            "Native American, First Nations, and Alaska Native Art -> gene id 11047 -> iconic artworks count 1\n",
            "Northern and Southern Dynasties -> gene id 11048 -> iconic artworks count 1\n",
            "Pre-Columbian Art -> gene id 11053 -> iconic artworks count 4\n",
            "Qing Dynasty -> gene id 11054 -> iconic artworks count 2\n",
            "Roman Art and Architecture -> gene id 11055 -> iconic artworks count 17\n",
            "Romanesque Art -> gene id 11056 -> iconic artworks count 15\n",
            "Shang Dynasty -> gene id 11057 -> iconic artworks count 2\n",
            "Song Dynasty -> gene id 11058 -> iconic artworks count 6\n",
            "Tang Dynasty -> gene id 11060 -> iconic artworks count 4\n",
            "Traditional African Art -> gene id 11062 -> iconic artworks count 4\n",
            "Western Zhou Dynasty -> gene id 11064 -> iconic artworks count 1\n",
            "Yoruba Art -> gene id 11067 -> iconic artworks count 1\n",
            "Yuan Dynasty -> gene id 11068 -> iconic artworks count 1\n",
            "\n",
            "Total count of iconic artworks 233\n",
            "\n"
          ]
        }
      ]
    },
    {
      "cell_type": "code",
      "source": [
        "def get_cat_name(cell):\n",
        "  for v in categories_dict.values():\n",
        "    if v['id']==cell:\n",
        "      cell = v['name']\n",
        "  return cell"
      ],
      "metadata": {
        "id": "a1jSeDDYHtiY"
      },
      "execution_count": 23,
      "outputs": []
    },
    {
      "cell_type": "code",
      "source": [
        "cat_count_df = pd.DataFrame({'category_id': category_id_list, \n",
        "                             'count':cat_count_list\n",
        "                             }) # + category_name\n",
        "\n",
        "gene_count_df = pd.DataFrame({'gene_name': gene_name_list, 'gene_id': gene_id_list, \n",
        "                           'category_id': gene_cat_id_list, 'count': gene_count_list\n",
        "                           }) # + category_name\n",
        "\n",
        "#cat_count_df = cat_count_df.set_axis(['category_id', 'count'], axis=1, inplace=False)\n",
        "#gene_count_df = gene_count_df.set_axis(['gene_name', 'gene_id', 'category_id', 'count'], axis=1, inplace=False)\n",
        "\n",
        "cat_count_df['category_name'] = cat_count_df['category_id'].dropna().apply(lambda x: get_cat_name(x))\n",
        "gene_count_df['category_name'] = gene_count_df['category_id'].dropna().apply(lambda x: get_cat_name(x))"
      ],
      "metadata": {
        "id": "rYpmeHm5Eh4W"
      },
      "execution_count": 24,
      "outputs": []
    },
    {
      "cell_type": "code",
      "source": [
        "cat_count_df.info()"
      ],
      "metadata": {
        "colab": {
          "base_uri": "https://localhost:8080/"
        },
        "id": "jF9U7xJBEhyj",
        "outputId": "a92b2932-2d2b-49d5-dc6d-8c6fd9803c6b"
      },
      "execution_count": 25,
      "outputs": [
        {
          "output_type": "stream",
          "name": "stdout",
          "text": [
            "<class 'pandas.core.frame.DataFrame'>\n",
            "RangeIndex: 8 entries, 0 to 7\n",
            "Data columns (total 3 columns):\n",
            " #   Column         Non-Null Count  Dtype \n",
            "---  ------         --------------  ----- \n",
            " 0   category_id    8 non-null      object\n",
            " 1   count          8 non-null      int64 \n",
            " 2   category_name  8 non-null      object\n",
            "dtypes: int64(1), object(2)\n",
            "memory usage: 320.0+ bytes\n"
          ]
        }
      ]
    },
    {
      "cell_type": "code",
      "source": [
        "gene_count_df.info()"
      ],
      "metadata": {
        "colab": {
          "base_uri": "https://localhost:8080/"
        },
        "id": "H50Yly1vEhsV",
        "outputId": "6c51fefa-9f24-42f3-cede-0baa74905926"
      },
      "execution_count": 26,
      "outputs": [
        {
          "output_type": "stream",
          "name": "stdout",
          "text": [
            "<class 'pandas.core.frame.DataFrame'>\n",
            "RangeIndex: 388 entries, 0 to 387\n",
            "Data columns (total 5 columns):\n",
            " #   Column         Non-Null Count  Dtype \n",
            "---  ------         --------------  ----- \n",
            " 0   gene_name      388 non-null    object\n",
            " 1   gene_id        388 non-null    object\n",
            " 2   category_id    388 non-null    object\n",
            " 3   count          388 non-null    int64 \n",
            " 4   category_name  388 non-null    object\n",
            "dtypes: int64(1), object(4)\n",
            "memory usage: 15.3+ KB\n"
          ]
        }
      ]
    },
    {
      "cell_type": "code",
      "source": [
        "cat_count_df"
      ],
      "metadata": {
        "colab": {
          "base_uri": "https://localhost:8080/",
          "height": 300
        },
        "id": "4Yr-3Ju6-aNf",
        "outputId": "2e857551-0a26-4442-d5e0-bfe77d7f27b1"
      },
      "execution_count": 28,
      "outputs": [
        {
          "output_type": "execute_result",
          "data": {
            "text/plain": [
              "  category_id  count                  category_name\n",
              "0          03    419           Styles and Movements\n",
              "1          06    272          Medium and Techniques\n",
              "2          08     31             Geographic Regions\n",
              "3          02    471                 Subject Matter\n",
              "4          05    219               Visual Qualities\n",
              "5          09     58                      Materials\n",
              "6          07    353                   Time Periods\n",
              "7          11    233  Cultural and Religious Styles"
            ],
            "text/html": [
              "\n",
              "  <div id=\"df-42f4f781-62f4-43bd-9a4b-31478bf49126\">\n",
              "    <div class=\"colab-df-container\">\n",
              "      <div>\n",
              "<style scoped>\n",
              "    .dataframe tbody tr th:only-of-type {\n",
              "        vertical-align: middle;\n",
              "    }\n",
              "\n",
              "    .dataframe tbody tr th {\n",
              "        vertical-align: top;\n",
              "    }\n",
              "\n",
              "    .dataframe thead th {\n",
              "        text-align: right;\n",
              "    }\n",
              "</style>\n",
              "<table border=\"1\" class=\"dataframe\">\n",
              "  <thead>\n",
              "    <tr style=\"text-align: right;\">\n",
              "      <th></th>\n",
              "      <th>category_id</th>\n",
              "      <th>count</th>\n",
              "      <th>category_name</th>\n",
              "    </tr>\n",
              "  </thead>\n",
              "  <tbody>\n",
              "    <tr>\n",
              "      <th>0</th>\n",
              "      <td>03</td>\n",
              "      <td>419</td>\n",
              "      <td>Styles and Movements</td>\n",
              "    </tr>\n",
              "    <tr>\n",
              "      <th>1</th>\n",
              "      <td>06</td>\n",
              "      <td>272</td>\n",
              "      <td>Medium and Techniques</td>\n",
              "    </tr>\n",
              "    <tr>\n",
              "      <th>2</th>\n",
              "      <td>08</td>\n",
              "      <td>31</td>\n",
              "      <td>Geographic Regions</td>\n",
              "    </tr>\n",
              "    <tr>\n",
              "      <th>3</th>\n",
              "      <td>02</td>\n",
              "      <td>471</td>\n",
              "      <td>Subject Matter</td>\n",
              "    </tr>\n",
              "    <tr>\n",
              "      <th>4</th>\n",
              "      <td>05</td>\n",
              "      <td>219</td>\n",
              "      <td>Visual Qualities</td>\n",
              "    </tr>\n",
              "    <tr>\n",
              "      <th>5</th>\n",
              "      <td>09</td>\n",
              "      <td>58</td>\n",
              "      <td>Materials</td>\n",
              "    </tr>\n",
              "    <tr>\n",
              "      <th>6</th>\n",
              "      <td>07</td>\n",
              "      <td>353</td>\n",
              "      <td>Time Periods</td>\n",
              "    </tr>\n",
              "    <tr>\n",
              "      <th>7</th>\n",
              "      <td>11</td>\n",
              "      <td>233</td>\n",
              "      <td>Cultural and Religious Styles</td>\n",
              "    </tr>\n",
              "  </tbody>\n",
              "</table>\n",
              "</div>\n",
              "      <button class=\"colab-df-convert\" onclick=\"convertToInteractive('df-42f4f781-62f4-43bd-9a4b-31478bf49126')\"\n",
              "              title=\"Convert this dataframe to an interactive table.\"\n",
              "              style=\"display:none;\">\n",
              "        \n",
              "  <svg xmlns=\"http://www.w3.org/2000/svg\" height=\"24px\"viewBox=\"0 0 24 24\"\n",
              "       width=\"24px\">\n",
              "    <path d=\"M0 0h24v24H0V0z\" fill=\"none\"/>\n",
              "    <path d=\"M18.56 5.44l.94 2.06.94-2.06 2.06-.94-2.06-.94-.94-2.06-.94 2.06-2.06.94zm-11 1L8.5 8.5l.94-2.06 2.06-.94-2.06-.94L8.5 2.5l-.94 2.06-2.06.94zm10 10l.94 2.06.94-2.06 2.06-.94-2.06-.94-.94-2.06-.94 2.06-2.06.94z\"/><path d=\"M17.41 7.96l-1.37-1.37c-.4-.4-.92-.59-1.43-.59-.52 0-1.04.2-1.43.59L10.3 9.45l-7.72 7.72c-.78.78-.78 2.05 0 2.83L4 21.41c.39.39.9.59 1.41.59.51 0 1.02-.2 1.41-.59l7.78-7.78 2.81-2.81c.8-.78.8-2.07 0-2.86zM5.41 20L4 18.59l7.72-7.72 1.47 1.35L5.41 20z\"/>\n",
              "  </svg>\n",
              "      </button>\n",
              "      \n",
              "  <style>\n",
              "    .colab-df-container {\n",
              "      display:flex;\n",
              "      flex-wrap:wrap;\n",
              "      gap: 12px;\n",
              "    }\n",
              "\n",
              "    .colab-df-convert {\n",
              "      background-color: #E8F0FE;\n",
              "      border: none;\n",
              "      border-radius: 50%;\n",
              "      cursor: pointer;\n",
              "      display: none;\n",
              "      fill: #1967D2;\n",
              "      height: 32px;\n",
              "      padding: 0 0 0 0;\n",
              "      width: 32px;\n",
              "    }\n",
              "\n",
              "    .colab-df-convert:hover {\n",
              "      background-color: #E2EBFA;\n",
              "      box-shadow: 0px 1px 2px rgba(60, 64, 67, 0.3), 0px 1px 3px 1px rgba(60, 64, 67, 0.15);\n",
              "      fill: #174EA6;\n",
              "    }\n",
              "\n",
              "    [theme=dark] .colab-df-convert {\n",
              "      background-color: #3B4455;\n",
              "      fill: #D2E3FC;\n",
              "    }\n",
              "\n",
              "    [theme=dark] .colab-df-convert:hover {\n",
              "      background-color: #434B5C;\n",
              "      box-shadow: 0px 1px 3px 1px rgba(0, 0, 0, 0.15);\n",
              "      filter: drop-shadow(0px 1px 2px rgba(0, 0, 0, 0.3));\n",
              "      fill: #FFFFFF;\n",
              "    }\n",
              "  </style>\n",
              "\n",
              "      <script>\n",
              "        const buttonEl =\n",
              "          document.querySelector('#df-42f4f781-62f4-43bd-9a4b-31478bf49126 button.colab-df-convert');\n",
              "        buttonEl.style.display =\n",
              "          google.colab.kernel.accessAllowed ? 'block' : 'none';\n",
              "\n",
              "        async function convertToInteractive(key) {\n",
              "          const element = document.querySelector('#df-42f4f781-62f4-43bd-9a4b-31478bf49126');\n",
              "          const dataTable =\n",
              "            await google.colab.kernel.invokeFunction('convertToInteractive',\n",
              "                                                     [key], {});\n",
              "          if (!dataTable) return;\n",
              "\n",
              "          const docLinkHtml = 'Like what you see? Visit the ' +\n",
              "            '<a target=\"_blank\" href=https://colab.research.google.com/notebooks/data_table.ipynb>data table notebook</a>'\n",
              "            + ' to learn more about interactive tables.';\n",
              "          element.innerHTML = '';\n",
              "          dataTable['output_type'] = 'display_data';\n",
              "          await google.colab.output.renderOutput(dataTable, element);\n",
              "          const docLink = document.createElement('div');\n",
              "          docLink.innerHTML = docLinkHtml;\n",
              "          element.appendChild(docLink);\n",
              "        }\n",
              "      </script>\n",
              "    </div>\n",
              "  </div>\n",
              "  "
            ]
          },
          "metadata": {},
          "execution_count": 28
        }
      ]
    },
    {
      "cell_type": "code",
      "source": [
        "gene_count_df.sample(10)"
      ],
      "metadata": {
        "colab": {
          "base_uri": "https://localhost:8080/",
          "height": 363
        },
        "id": "h2Ko8TPQ-Z7d",
        "outputId": "4eebd554-d90f-484a-9c82-dea056045cd8"
      },
      "execution_count": 29,
      "outputs": [
        {
          "output_type": "execute_result",
          "data": {
            "text/plain": [
              "                           gene_name gene_id category_id  count  \\\n",
              "184                             Face   02062          02     15   \n",
              "304                       Hard-Edged   05035          05      2   \n",
              "94                      En plein air   06049          06      8   \n",
              "201  Hybrids and Imaginary Creatures   02085          02     17   \n",
              "212                Madonna and Child   02106          02     17   \n",
              "84                       Chiaroscuro   06023          06     42   \n",
              "338                          Mosaics   09021          09      7   \n",
              "138                Central Asian Art   08019          08      1   \n",
              "264                         The City   02188          02      3   \n",
              "343       Use of Ephemeral Materials   09035          09      1   \n",
              "\n",
              "             category_name  \n",
              "184         Subject Matter  \n",
              "304       Visual Qualities  \n",
              "94   Medium and Techniques  \n",
              "201         Subject Matter  \n",
              "212         Subject Matter  \n",
              "84   Medium and Techniques  \n",
              "338              Materials  \n",
              "138     Geographic Regions  \n",
              "264         Subject Matter  \n",
              "343              Materials  "
            ],
            "text/html": [
              "\n",
              "  <div id=\"df-85538d35-b36a-4847-9d09-5c1a68ebd389\">\n",
              "    <div class=\"colab-df-container\">\n",
              "      <div>\n",
              "<style scoped>\n",
              "    .dataframe tbody tr th:only-of-type {\n",
              "        vertical-align: middle;\n",
              "    }\n",
              "\n",
              "    .dataframe tbody tr th {\n",
              "        vertical-align: top;\n",
              "    }\n",
              "\n",
              "    .dataframe thead th {\n",
              "        text-align: right;\n",
              "    }\n",
              "</style>\n",
              "<table border=\"1\" class=\"dataframe\">\n",
              "  <thead>\n",
              "    <tr style=\"text-align: right;\">\n",
              "      <th></th>\n",
              "      <th>gene_name</th>\n",
              "      <th>gene_id</th>\n",
              "      <th>category_id</th>\n",
              "      <th>count</th>\n",
              "      <th>category_name</th>\n",
              "    </tr>\n",
              "  </thead>\n",
              "  <tbody>\n",
              "    <tr>\n",
              "      <th>184</th>\n",
              "      <td>Face</td>\n",
              "      <td>02062</td>\n",
              "      <td>02</td>\n",
              "      <td>15</td>\n",
              "      <td>Subject Matter</td>\n",
              "    </tr>\n",
              "    <tr>\n",
              "      <th>304</th>\n",
              "      <td>Hard-Edged</td>\n",
              "      <td>05035</td>\n",
              "      <td>05</td>\n",
              "      <td>2</td>\n",
              "      <td>Visual Qualities</td>\n",
              "    </tr>\n",
              "    <tr>\n",
              "      <th>94</th>\n",
              "      <td>En plein air</td>\n",
              "      <td>06049</td>\n",
              "      <td>06</td>\n",
              "      <td>8</td>\n",
              "      <td>Medium and Techniques</td>\n",
              "    </tr>\n",
              "    <tr>\n",
              "      <th>201</th>\n",
              "      <td>Hybrids and Imaginary Creatures</td>\n",
              "      <td>02085</td>\n",
              "      <td>02</td>\n",
              "      <td>17</td>\n",
              "      <td>Subject Matter</td>\n",
              "    </tr>\n",
              "    <tr>\n",
              "      <th>212</th>\n",
              "      <td>Madonna and Child</td>\n",
              "      <td>02106</td>\n",
              "      <td>02</td>\n",
              "      <td>17</td>\n",
              "      <td>Subject Matter</td>\n",
              "    </tr>\n",
              "    <tr>\n",
              "      <th>84</th>\n",
              "      <td>Chiaroscuro</td>\n",
              "      <td>06023</td>\n",
              "      <td>06</td>\n",
              "      <td>42</td>\n",
              "      <td>Medium and Techniques</td>\n",
              "    </tr>\n",
              "    <tr>\n",
              "      <th>338</th>\n",
              "      <td>Mosaics</td>\n",
              "      <td>09021</td>\n",
              "      <td>09</td>\n",
              "      <td>7</td>\n",
              "      <td>Materials</td>\n",
              "    </tr>\n",
              "    <tr>\n",
              "      <th>138</th>\n",
              "      <td>Central Asian Art</td>\n",
              "      <td>08019</td>\n",
              "      <td>08</td>\n",
              "      <td>1</td>\n",
              "      <td>Geographic Regions</td>\n",
              "    </tr>\n",
              "    <tr>\n",
              "      <th>264</th>\n",
              "      <td>The City</td>\n",
              "      <td>02188</td>\n",
              "      <td>02</td>\n",
              "      <td>3</td>\n",
              "      <td>Subject Matter</td>\n",
              "    </tr>\n",
              "    <tr>\n",
              "      <th>343</th>\n",
              "      <td>Use of Ephemeral Materials</td>\n",
              "      <td>09035</td>\n",
              "      <td>09</td>\n",
              "      <td>1</td>\n",
              "      <td>Materials</td>\n",
              "    </tr>\n",
              "  </tbody>\n",
              "</table>\n",
              "</div>\n",
              "      <button class=\"colab-df-convert\" onclick=\"convertToInteractive('df-85538d35-b36a-4847-9d09-5c1a68ebd389')\"\n",
              "              title=\"Convert this dataframe to an interactive table.\"\n",
              "              style=\"display:none;\">\n",
              "        \n",
              "  <svg xmlns=\"http://www.w3.org/2000/svg\" height=\"24px\"viewBox=\"0 0 24 24\"\n",
              "       width=\"24px\">\n",
              "    <path d=\"M0 0h24v24H0V0z\" fill=\"none\"/>\n",
              "    <path d=\"M18.56 5.44l.94 2.06.94-2.06 2.06-.94-2.06-.94-.94-2.06-.94 2.06-2.06.94zm-11 1L8.5 8.5l.94-2.06 2.06-.94-2.06-.94L8.5 2.5l-.94 2.06-2.06.94zm10 10l.94 2.06.94-2.06 2.06-.94-2.06-.94-.94-2.06-.94 2.06-2.06.94z\"/><path d=\"M17.41 7.96l-1.37-1.37c-.4-.4-.92-.59-1.43-.59-.52 0-1.04.2-1.43.59L10.3 9.45l-7.72 7.72c-.78.78-.78 2.05 0 2.83L4 21.41c.39.39.9.59 1.41.59.51 0 1.02-.2 1.41-.59l7.78-7.78 2.81-2.81c.8-.78.8-2.07 0-2.86zM5.41 20L4 18.59l7.72-7.72 1.47 1.35L5.41 20z\"/>\n",
              "  </svg>\n",
              "      </button>\n",
              "      \n",
              "  <style>\n",
              "    .colab-df-container {\n",
              "      display:flex;\n",
              "      flex-wrap:wrap;\n",
              "      gap: 12px;\n",
              "    }\n",
              "\n",
              "    .colab-df-convert {\n",
              "      background-color: #E8F0FE;\n",
              "      border: none;\n",
              "      border-radius: 50%;\n",
              "      cursor: pointer;\n",
              "      display: none;\n",
              "      fill: #1967D2;\n",
              "      height: 32px;\n",
              "      padding: 0 0 0 0;\n",
              "      width: 32px;\n",
              "    }\n",
              "\n",
              "    .colab-df-convert:hover {\n",
              "      background-color: #E2EBFA;\n",
              "      box-shadow: 0px 1px 2px rgba(60, 64, 67, 0.3), 0px 1px 3px 1px rgba(60, 64, 67, 0.15);\n",
              "      fill: #174EA6;\n",
              "    }\n",
              "\n",
              "    [theme=dark] .colab-df-convert {\n",
              "      background-color: #3B4455;\n",
              "      fill: #D2E3FC;\n",
              "    }\n",
              "\n",
              "    [theme=dark] .colab-df-convert:hover {\n",
              "      background-color: #434B5C;\n",
              "      box-shadow: 0px 1px 3px 1px rgba(0, 0, 0, 0.15);\n",
              "      filter: drop-shadow(0px 1px 2px rgba(0, 0, 0, 0.3));\n",
              "      fill: #FFFFFF;\n",
              "    }\n",
              "  </style>\n",
              "\n",
              "      <script>\n",
              "        const buttonEl =\n",
              "          document.querySelector('#df-85538d35-b36a-4847-9d09-5c1a68ebd389 button.colab-df-convert');\n",
              "        buttonEl.style.display =\n",
              "          google.colab.kernel.accessAllowed ? 'block' : 'none';\n",
              "\n",
              "        async function convertToInteractive(key) {\n",
              "          const element = document.querySelector('#df-85538d35-b36a-4847-9d09-5c1a68ebd389');\n",
              "          const dataTable =\n",
              "            await google.colab.kernel.invokeFunction('convertToInteractive',\n",
              "                                                     [key], {});\n",
              "          if (!dataTable) return;\n",
              "\n",
              "          const docLinkHtml = 'Like what you see? Visit the ' +\n",
              "            '<a target=\"_blank\" href=https://colab.research.google.com/notebooks/data_table.ipynb>data table notebook</a>'\n",
              "            + ' to learn more about interactive tables.';\n",
              "          element.innerHTML = '';\n",
              "          dataTable['output_type'] = 'display_data';\n",
              "          await google.colab.output.renderOutput(dataTable, element);\n",
              "          const docLink = document.createElement('div');\n",
              "          docLink.innerHTML = docLinkHtml;\n",
              "          element.appendChild(docLink);\n",
              "        }\n",
              "      </script>\n",
              "    </div>\n",
              "  </div>\n",
              "  "
            ]
          },
          "metadata": {},
          "execution_count": 29
        }
      ]
    },
    {
      "cell_type": "code",
      "source": [
        "for cat in gene_count_df['category_name'].unique():\n",
        "  print(cat)\n",
        "  print('Sum by category', gene_count_df.loc[gene_count_df['category_name']==cat]['count'].sum())\n",
        "  print('Unique by category', cat_count_df.loc[cat_count_df['category_name']==cat]['count'].values[0])\n",
        "  print('')\n",
        "  print(gene_count_df.loc[gene_count_df['category_name']==cat].describe())\n",
        "  print('')"
      ],
      "metadata": {
        "colab": {
          "base_uri": "https://localhost:8080/"
        },
        "id": "H8raBMke-aEH",
        "outputId": "461e5667-7794-43a2-c523-90d2cbda8216"
      },
      "execution_count": 30,
      "outputs": [
        {
          "output_type": "stream",
          "name": "stdout",
          "text": [
            "Styles and Movements\n",
            "Sum by category 891\n",
            "Unique by category 419\n",
            "\n",
            "            count\n",
            "count   76.000000\n",
            "mean    11.723684\n",
            "std     22.077197\n",
            "min      1.000000\n",
            "25%      1.000000\n",
            "50%      3.000000\n",
            "75%     12.000000\n",
            "max    127.000000\n",
            "\n",
            "Medium and Techniques\n",
            "Sum by category 395\n",
            "Unique by category 272\n",
            "\n",
            "          count\n",
            "count  61.00000\n",
            "mean    6.47541\n",
            "std     8.44513\n",
            "min     1.00000\n",
            "25%     1.00000\n",
            "50%     3.00000\n",
            "75%     8.00000\n",
            "max    44.00000\n",
            "\n",
            "Geographic Regions\n",
            "Sum by category 31\n",
            "Unique by category 31\n",
            "\n",
            "           count\n",
            "count   7.000000\n",
            "mean    4.428571\n",
            "std     4.613644\n",
            "min     1.000000\n",
            "25%     1.000000\n",
            "50%     2.000000\n",
            "75%     7.500000\n",
            "max    11.000000\n",
            "\n",
            "Subject Matter\n",
            "Sum by category 1819\n",
            "Unique by category 471\n",
            "\n",
            "            count\n",
            "count  140.000000\n",
            "mean    12.992857\n",
            "std     16.920252\n",
            "min      1.000000\n",
            "25%      3.000000\n",
            "50%      7.000000\n",
            "75%     16.250000\n",
            "max     96.000000\n",
            "\n",
            "Visual Qualities\n",
            "Sum by category 308\n",
            "Unique by category 219\n",
            "\n",
            "           count\n",
            "count  44.000000\n",
            "mean    7.000000\n",
            "std     9.835862\n",
            "min     1.000000\n",
            "25%     1.750000\n",
            "50%     3.000000\n",
            "75%     8.000000\n",
            "max    47.000000\n",
            "\n",
            "Materials\n",
            "Sum by category 91\n",
            "Unique by category 58\n",
            "\n",
            "           count\n",
            "count  17.000000\n",
            "mean    5.352941\n",
            "std     7.364961\n",
            "min     1.000000\n",
            "25%     1.000000\n",
            "50%     2.000000\n",
            "75%     6.000000\n",
            "max    28.000000\n",
            "\n",
            "Time Periods\n",
            "Sum by category 375\n",
            "Unique by category 353\n",
            "\n",
            "           count\n",
            "count   9.000000\n",
            "mean   41.666667\n",
            "std    27.852289\n",
            "min     1.000000\n",
            "25%    25.000000\n",
            "50%    55.000000\n",
            "75%    61.000000\n",
            "max    72.000000\n",
            "\n",
            "Cultural and Religious Styles\n",
            "Sum by category 308\n",
            "Unique by category 233\n",
            "\n",
            "            count\n",
            "count   34.000000\n",
            "mean     9.058824\n",
            "std     22.227394\n",
            "min      1.000000\n",
            "25%      1.000000\n",
            "50%      3.500000\n",
            "75%      8.500000\n",
            "max    130.000000\n",
            "\n"
          ]
        }
      ]
    },
    {
      "cell_type": "markdown",
      "source": [
        "Most of the categories has a lot of genes what makes visualization confusing. Let's merge genes with less then third quartile artworks into an 'Others' in every category except ones with less then 10 genes."
      ],
      "metadata": {
        "id": "qbtuAVxsEdXN"
      }
    },
    {
      "cell_type": "code",
      "source": [
        "for cat in gene_count_df['category_name'].unique():\n",
        "  print(cat)\n",
        "  cat_df = gene_count_df.loc[gene_count_df['category_name']==cat]\n",
        "  print('Count of genes before renaming:', cat_df['gene_name'].nunique())\n",
        "  if cat_df['gene_name'].nunique() > 10:\n",
        "    quartile_3 = np.percentile(cat_df['count'], 75)\n",
        "    big_counts_df = cat_df.loc[cat_df['count'] >= quartile_3]\n",
        "    small_counts_df = cat_df.loc[cat_df['count'] < quartile_3]\n",
        "    small_counts_df['gene_name'] = 'Others'\n",
        "    cat_df_new = pd.concat([big_counts_df, small_counts_df])\n",
        "  else:\n",
        "    cat_df_new = cat_df.copy()\n",
        "  print('Count of genes after renaming:', cat_df_new['gene_name'].nunique())\n",
        "  print('')"
      ],
      "metadata": {
        "colab": {
          "base_uri": "https://localhost:8080/"
        },
        "id": "BaWQ2ZbWFxih",
        "outputId": "db6553b8-62a3-4cea-d6de-f964cd221229"
      },
      "execution_count": 31,
      "outputs": [
        {
          "output_type": "stream",
          "name": "stdout",
          "text": [
            "Styles and Movements\n",
            "Count of genes before renaming: 76\n",
            "Count of genes after renaming: 23\n",
            "\n",
            "Medium and Techniques\n",
            "Count of genes before renaming: 61\n",
            "Count of genes after renaming: 19\n",
            "\n",
            "Geographic Regions\n",
            "Count of genes before renaming: 7\n",
            "Count of genes after renaming: 7\n",
            "\n",
            "Subject Matter\n",
            "Count of genes before renaming: 140\n",
            "Count of genes after renaming: 36\n",
            "\n",
            "Visual Qualities\n",
            "Count of genes before renaming: 44\n",
            "Count of genes after renaming: 13\n",
            "\n",
            "Materials\n",
            "Count of genes before renaming: 17\n",
            "Count of genes after renaming: 7\n",
            "\n",
            "Time Periods\n",
            "Count of genes before renaming: 9\n",
            "Count of genes after renaming: 9\n",
            "\n",
            "Cultural and Religious Styles\n",
            "Count of genes before renaming: 34\n",
            "Count of genes after renaming: 10\n",
            "\n"
          ]
        }
      ]
    },
    {
      "cell_type": "code",
      "source": [
        "for cat in gene_count_df['category_name'].unique():\n",
        "  cat_df = gene_count_df.loc[gene_count_df['category_name']==cat]\n",
        "  if cat_df['gene_name'].nunique() > 10:\n",
        "    quartile_3 = np.percentile(cat_df['count'], 75)\n",
        "    big_counts_df = cat_df.loc[cat_df['count'] >= quartile_3]\n",
        "    small_counts_df = cat_df.loc[cat_df['count'] < quartile_3]\n",
        "    small_counts_df['gene_name'] = 'Others'\n",
        "    cat_df_new = pd.concat([big_counts_df, small_counts_df])\n",
        "  else:\n",
        "    cat_df_new = cat_df.copy()\n",
        "  \n",
        "  fig = plt.figure()\n",
        "  axes = fig.add_axes([0, 0, 1, 1])\n",
        "  axes.bar(x = cat_df_new['gene_name'], height = cat_df_new['count'])\n",
        "  axes.set_xticklabels(cat_df_new['gene_name'], rotation = 90)\n",
        "  axes.set_title('Iconik artworks count by genes in category {}'.format(cat))\n",
        "  \n",
        "  plt.show()\n",
        "\n",
        "  print('')"
      ],
      "metadata": {
        "colab": {
          "base_uri": "https://localhost:8080/",
          "height": 1000
        },
        "id": "eoz5MyQ8-ZhO",
        "outputId": "b439aa0a-8c56-4e4e-a02a-3525ea57d083"
      },
      "execution_count": 39,
      "outputs": [
        {
          "output_type": "display_data",
          "data": {
            "text/plain": [
              "<Figure size 432x288 with 1 Axes>"
            ],
            "image/png": "[encoded data removed]"
          },
          "metadata": {
            "needs_background": "light"
          }
        },
        {
          "output_type": "stream",
          "name": "stdout",
          "text": [
            "\n"
          ]
        },
        {
          "output_type": "display_data",
          "data": {
            "text/plain": [
              "<Figure size 432x288 with 1 Axes>"
            ],
            "image/png": "[encoded data removed]"
          },
          "metadata": {
            "needs_background": "light"
          }
        },
        {
          "output_type": "stream",
          "name": "stdout",
          "text": [
            "\n"
          ]
        },
        {
          "output_type": "display_data",
          "data": {
            "text/plain": [
              "<Figure size 432x288 with 1 Axes>"
            ],
            "image/png": "[encoded data removed]"
          },
          "metadata": {
            "needs_background": "light"
          }
        },
        {
          "output_type": "stream",
          "name": "stdout",
          "text": [
            "\n"
          ]
        },
        {
          "output_type": "display_data",
          "data": {
            "text/plain": [
              "<Figure size 432x288 with 1 Axes>"
            ],
            "image/png": "[encoded data removed]"
          },
          "metadata": {
            "needs_background": "light"
          }
        },
        {
          "output_type": "stream",
          "name": "stdout",
          "text": [
            "\n"
          ]
        },
        {
          "output_type": "display_data",
          "data": {
            "text/plain": [
              "<Figure size 432x288 with 1 Axes>"
            ],
            "image/png": "[encoded data removed]"
          },
          "metadata": {
            "needs_background": "light"
          }
        },
        {
          "output_type": "stream",
          "name": "stdout",
          "text": [
            "\n"
          ]
        },
        {
          "output_type": "display_data",
          "data": {
            "text/plain": [
              "<Figure size 432x288 with 1 Axes>"
            ],
            "image/png": "[encoded data removed]"
          },
          "metadata": {
            "needs_background": "light"
          }
        },
        {
          "output_type": "stream",
          "name": "stdout",
          "text": [
            "\n"
          ]
        },
        {
          "output_type": "display_data",
          "data": {
            "text/plain": [
              "<Figure size 432x288 with 1 Axes>"
            ],
            "image/png": "[encoded data removed]"
          },
          "metadata": {
            "needs_background": "light"
          }
        },
        {
          "output_type": "stream",
          "name": "stdout",
          "text": [
            "\n"
          ]
        },
        {
          "output_type": "display_data",
          "data": {
            "text/plain": [
              "<Figure size 432x288 with 1 Axes>"
            ],
            "image/png": "[encoded data removed]"
          },
          "metadata": {
            "needs_background": "light"
          }
        },
        {
          "output_type": "stream",
          "name": "stdout",
          "text": [
            "\n"
          ]
        }
      ]
    },
    {
      "cell_type": "code",
      "source": [
        "# artists_dict = {'id': {'artsy_id': [], 'category_id': [], 'gene_id': [], 'name': ''}}\n",
        "\n",
        "#artists_dict = open_dict(artist_dict, 'live') # 2. Open json dict\n",
        "#len(artists_dict)\n",
        "\n",
        "# artworks_dict = {'artsy_id': {'artist': '', 'artist_id': '', 'category_id': [], 'gallery': '', 'gene_id': [],\n",
        "#                               'link': '', 'name': '', 'parsing_date': '', 'price': '', 'updating_date': ', 'year': ''}}\n",
        "\n",
        "#artworks_dict = open_dict(artwork_dict, 'live') # 2. Open json dict\n",
        "#len(artworks_dict)"
      ],
      "metadata": {
        "id": "9002td2buJDZ"
      },
      "execution_count": null,
      "outputs": []
    },
    {
      "cell_type": "markdown",
      "metadata": {
        "id": "0gZtVL8kQRqQ"
      },
      "source": [
        "# Images"
      ]
    },
    {
      "cell_type": "code",
      "execution_count": null,
      "metadata": {
        "colab": {
          "base_uri": "https://localhost:8080/"
        },
        "id": "XbbLPUYYFlb5",
        "outputId": "44e31edc-3da6-4c04-ce13-eefc670466cd"
      },
      "outputs": [
        {
          "name": "stdout",
          "output_type": "stream",
          "text": [
            "6 https:\n",
            "0 \n",
            "29 d32dm0rphc51dk.cloudfront.net\n",
            "22 NOpIAwQa-3r51Cg9qXKbfA\n",
            "10 normalized\n"
          ]
        }
      ],
      "source": [
        "# Sample from API tables\n",
        "\n",
        "# 'image': {'href': 'https://d32dm0rphc51dk.cloudfront.net/NOpIAwQa-3r51Cg9qXKbfA/{image_version}.jpg',\n",
        "#                      'templated': True}\n",
        "#i = 'https://d32dm0rphc51dk.cloudfront.net/NOpIAwQa-3r51Cg9qXKbfA/normalized.jpg'\n",
        "#for p in i.split('.jpg')[0].split('/'):\n",
        "#  print(len(p), p)"
      ]
    },
    {
      "cell_type": "code",
      "execution_count": null,
      "metadata": {
        "colab": {
          "base_uri": "https://localhost:8080/"
        },
        "id": "QC9_qiccgIxx",
        "outputId": "bac1e84a-dd97-420a-e4e1-681c27dbd39f"
      },
      "outputs": [
        {
          "name": "stdout",
          "output_type": "stream",
          "text": [
            "Populating the interactive namespace from numpy and matplotlib\n"
          ]
        }
      ],
      "source": [
        "#! pip install pillow --user\n",
        "\n",
        "import PIL\n",
        "from PIL import Image\n",
        "import os\n",
        "import cv2\n",
        "\n",
        "%pylab inline\n",
        "import matplotlib.pyplot as plt\n",
        "import matplotlib.image as mpimg"
      ]
    },
    {
      "cell_type": "code",
      "execution_count": null,
      "metadata": {
        "id": "hr1peJbUgNIp"
      },
      "outputs": [],
      "source": [
        "image = requests.get(img, headers={'User-Agent': 'Chrome/97.0.4692.71'})\n",
        "name = art_project_path + '/' + 'portrait_of_a_man_in_armour' + '.jpg'\n",
        "\n",
        "img = open(name, 'wb')\n",
        "img.write(image.content)\n",
        "img.close()\n",
        "\n",
        "img = Image.open(name)\n",
        "plt.imshow(img)\n",
        "plt.axis('off')\n",
        "plt.show()\n",
        "\n",
        "img.close()"
      ]
    },
    {
      "cell_type": "code",
      "execution_count": null,
      "metadata": {
        "id": "p8rqD1VfT_Mk"
      },
      "outputs": [],
      "source": [
        ""
      ]
    }
  ],
  "metadata": {
    "colab": {
      "collapsed_sections": [
        "tgPcokInD1We",
        "fXS9WF4KEG4A",
        "ysydU0bctwHa",
        "EIMfFZTJv9Fs",
        "znvj69nSy9lf",
        "Jm2PBAgezApk",
        "ZQ7z40v6ZUZV",
        "ZS_6uxf4mtko"
      ],
      "name": "Artsy_genome_api.ipynb",
      "toc_visible": true,
      "provenance": [],
      "mount_file_id": "1Ms0wyFoVy_iO7JS9cHDw7qKhRKS_aCkq",
      "authorship_tag": "ABX9TyNvdHrAm38OwqhvJBntMAch"
    },
    "kernelspec": {
      "display_name": "Python 3",
      "name": "python3"
    },
    "language_info": {
      "name": "python"
    }
  },
  "nbformat": 4,
  "nbformat_minor": 0
}