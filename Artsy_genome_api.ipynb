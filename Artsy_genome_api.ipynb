{
  "cells": [
    {
      "cell_type": "markdown",
      "metadata": {
        "id": "tgPcokInD1We"
      },
      "source": [
        "# Library"
      ]
    },
    {
      "cell_type": "code",
      "execution_count": 5,
      "metadata": {
        "id": "T1ngM_lUDOOI"
      },
      "outputs": [],
      "source": [
        "import logging\n",
        "import requests\n",
        "from bs4 import BeautifulSoup\n",
        "from urllib.error import HTTPError\n",
        "\n",
        "import http.client as httplib  # or http.client if you're on Python 3 # httplib\n",
        "httplib._MAXHEADERS = 10000\n",
        "# ChunkedEncodingError\n",
        "\n",
        "import time\n",
        "import datetime\n",
        "from datetime import datetime, timedelta\n",
        "\n",
        "import re\n",
        "\n",
        "import json\n",
        "\n",
        "import warnings\n",
        "warnings.simplefilter(action='ignore')\n",
        "\n",
        "import pandas as pd\n",
        "import numpy as np\n",
        "import sys\n",
        "\n",
        "import random \n",
        "from random import sample"
      ]
    },
    {
      "cell_type": "code",
      "execution_count": 367,
      "metadata": {
        "id": "IwtF3gKBj6NL"
      },
      "outputs": [],
      "source": [
        "# pathes\n",
        "art_project_path = '/content/drive/MyDrive/Art/Art_Project'\n",
        "art_project_path_backups = '/content/drive/MyDrive/Art/Art_Project/parsing_backups'\n",
        "art_project_path_tests = '/content/drive/MyDrive/Art/Art_Project/parsing_tests'\n",
        "\n",
        "url_add = 'https://www.artsy.net'\n",
        "\n",
        "# files\n",
        "cat_dict = '/artsy_genom_cat_dict.txt'\n",
        "gen_dict = '/artsy_genom_gen_dict.txt'\n",
        "artwork_dict = '/artsy_genom_artwork_dict.txt'\n",
        "artist_dict = '/artsy_genom_artist_dict.txt'\n",
        "temp_data = '/artsy_temp_data.csv'\n",
        "temp_data_add_up = '/artsy_temp_data_add_up.csv'\n",
        "\n",
        "# id length\n",
        "cat_id_len = 2\n",
        "gen_id_len = 5\n",
        "artist_id_len = 5\n",
        "\n",
        "# for addition and updating\n",
        "recently_added_pref = '?sort=-published_at'\n",
        "recently_updated_pref = '?sort=-partner_updated_at'"
      ]
    },
    {
      "cell_type": "markdown",
      "metadata": {
        "id": "fXS9WF4KEG4A"
      },
      "source": [
        "# Functions"
      ]
    },
    {
      "cell_type": "markdown",
      "metadata": {
        "id": "EXSzYWND7OGV"
      },
      "source": [
        "## Openings and savings"
      ]
    },
    {
      "cell_type": "code",
      "execution_count": 7,
      "metadata": {
        "id": "NvuSX_g-jl4K"
      },
      "outputs": [],
      "source": [
        "# 1. Save json dict\n",
        "def save_dict(tree_dict, file, folder):\n",
        "  if folder=='live':\n",
        "    with open(art_project_path + file, 'w') as outfile:\n",
        "      json.dump(tree_dict, outfile)\n",
        "  elif folder=='backup':\n",
        "    with open(art_project_path_backups + file, 'w') as outfile:\n",
        "      json.dump(tree_dict, outfile)\n",
        "\n",
        "# 2. Open json dict\n",
        "def open_dict(file, folder):\n",
        "  if folder=='live':\n",
        "    with open(art_project_path + file, 'rb') as infile:\n",
        "      tree_dict = json.load(infile)\n",
        "  elif folder=='backup':\n",
        "    with open(art_project_path_backups + file, 'rb') as infile:\n",
        "      tree_dict = json.load(infile)\n",
        "  return tree_dict\n",
        "\n",
        "# 3. Open file.csv\n",
        "def open_file_csv(file, folder): # folder: live, backup or test\n",
        "  if folder=='live':\n",
        "    df = pd.read_csv(art_project_path + file)\n",
        "  elif folder=='backup':\n",
        "    df = pd.read_csv(art_project_path_backups + file)\n",
        "  elif folder=='test':\n",
        "    df = pd.read_csv(art_project_path_tests + file)\n",
        "  return df\n",
        "\n",
        "# 4. Save df to csv file\n",
        "def save_df_file(df, file, folder): # folder: live, backup or test\n",
        "  if folder=='live':\n",
        "    df.to_csv(art_project_path + file, index=False)\n",
        "  elif folder=='backup':\n",
        "    df.to_csv(art_project_path_backups + file, index=False)\n",
        "  elif folder=='test':\n",
        "    df.to_csv(art_project_path_tests + file, index=False)\n"
      ]
    },
    {
      "cell_type": "markdown",
      "metadata": {
        "id": "2wDrr6ButRDY"
      },
      "source": [
        "## Parsing"
      ]
    },
    {
      "cell_type": "markdown",
      "metadata": {
        "id": "a_hxEAdLtm7G"
      },
      "source": [
        "### get_page"
      ]
    },
    {
      "cell_type": "code",
      "execution_count": 26,
      "metadata": {
        "id": "G6ie3U0btbx1"
      },
      "outputs": [],
      "source": [
        "# 5. get_page\n",
        "logging.basicConfig(level=logging.DEBUG, format=\"%(message)s\")\n",
        "\n",
        "def get_page(url, session):\n",
        "  #response = requests.get(url, headers={'User-Agent': 'Chrome/97.0.4692.71'})\n",
        "  try:\n",
        "    response = session.get(url, headers={'User-Agent': 'Chrome/97.0.4692.71'})\n",
        "  except: # requests.exceptions.ChunkedEncodingError:\n",
        "    time.sleep(0.5)\n",
        "    session = requests.Session()\n",
        "    response = session.get(url, headers={'User-Agent': 'Chrome/97.0.4692.71'})\n",
        "\n",
        "  try:\n",
        "    response.raise_for_status()\n",
        "  except requests.exceptions.HTTPError: # for correction\n",
        "    sys.exit(print('HTTPError: ' + str(url)))\n",
        "\n",
        "  bs_page = BeautifulSoup(response.text, 'html.parser')\n",
        "  return bs_page"
      ]
    },
    {
      "cell_type": "markdown",
      "metadata": {
        "id": "dedjmUVTtqCj"
      },
      "source": [
        "### get next pages links list"
      ]
    },
    {
      "cell_type": "code",
      "execution_count": 27,
      "metadata": {
        "id": "hn2MJztjtfDH"
      },
      "outputs": [],
      "source": [
        "# 6. get next pages links list\n",
        "def get_next_page_list(url, page):\n",
        "  try:\n",
        "    last_page_data = page.find('main').find_all('nav', class_='Box-sc-15se88d-0 Text-sc-18gcpao-0 ibHUpM gzwvJD')[0].find_all('a')[-2]\n",
        "    last_page = last_page_data.get_text()\n",
        "    page_link = last_page_data.get('href')[:-len(last_page)]\n",
        "    next_page_link_list_new = [url + page_link + str(p) for p in range(2, int(last_page)+1)]\n",
        "  except:\n",
        "    next_page_link_list_new = []\n",
        "\n",
        "  return next_page_link_list_new\n",
        "\n",
        "# 6.1 get next pages links list\n",
        "def get_next_page_list_add_up(url, page):\n",
        "  try:\n",
        "    last_page_data = page.find('main').find_all('nav', class_='Box-sc-15se88d-0 Text-sc-18gcpao-0 ibHUpM gzwvJD')[0].find_all('a')[-2]\n",
        "    last_page = last_page_data.get_text()\n",
        "    last_page_link = last_page_data.get('href')\n",
        "    next_page_link_list_new = [url + last_page_link.split('&')[0][:-len(last_page)] + str(p) + '&' + last_page_link.split('&')[1] for p in range(2, int(last_page)+1)]\n",
        "  except:\n",
        "    next_page_link_list_new = []\n",
        "\n",
        "  return next_page_link_list_new"
      ]
    },
    {
      "cell_type": "code",
      "source": [
        "# https://www.artsy.net/gene/inlay\n",
        "# https://www.artsy.net/gene/inlay?page=2\n",
        "# https://www.artsy.net/gene/inlay?sort=-published_at\n",
        "# https://www.artsy.net/gene/inlay?page=2&sort=-published_at"
      ],
      "metadata": {
        "id": "A7dX2kHASqRN"
      },
      "execution_count": 28,
      "outputs": []
    },
    {
      "cell_type": "markdown",
      "metadata": {
        "id": "mmKRuBU4ts7Z"
      },
      "source": [
        "### get data from pages"
      ]
    },
    {
      "cell_type": "code",
      "execution_count": 29,
      "metadata": {
        "id": "ZEIoSftftVfS"
      },
      "outputs": [],
      "source": [
        "# 7. get data from pages\n",
        "def get_page_data(page):\n",
        "  code_block = page.find('main').find_all('div', class_='ArtworkGrid-sc-1jsqquq-0 djwrUe')\n",
        "  try:\n",
        "    object_block = code_block[0].find_all('div', relay='[object Object]')\n",
        "  \n",
        "    # for the beggining into a DataFrame\n",
        "    artsy_id_list = [obj.get('data-id') for obj in object_block]\n",
        "    imgage_list = [obj.find_all('a')[0].find('img').get('src') for obj in object_block]\n",
        "    artist_list = [obj.find_all('a')[1].find_all('div')[0].get_text() for obj in object_block]\n",
        "  \n",
        "    gallery_list = []\n",
        "    for obj in object_block:\n",
        "      try:\n",
        "        gallery_list.append(obj.find_all('a')[1].find('div', class_='Box-sc-15se88d-0 Text-sc-18gcpao-0 caIGcn hENCPo').get_text())\n",
        "      except:\n",
        "        gallery_list.append(np.nan)\n",
        "  \n",
        "    price_list = []\n",
        "    for obj in object_block:\n",
        "      try:\n",
        "        price_list.append(obj.find_all('a')[1].find('div', class_='Box-sc-15se88d-0 Text-sc-18gcpao-0 eXbAnU jkuGdd').get_text())\n",
        "      except:\n",
        "        price_list.append(np.nan)\n",
        "  \n",
        "    # can be no year info !!!\n",
        "    name_list = []\n",
        "    year_list = []\n",
        "    for obj in object_block:\n",
        "      text = obj.find_all('a')[1].find('div', class_='Box-sc-15se88d-0 Text-sc-18gcpao-0 caIGcn kySEpG').get_text()\n",
        "      name = obj.find_all('a')[1].find('div', class_='Box-sc-15se88d-0 Text-sc-18gcpao-0 caIGcn kySEpG').find('i').get_text()\n",
        "      year = text.replace(name, '').replace(', ', '')\n",
        "      if len(year)==0:\n",
        "        year = np.nan\n",
        "      name_list.append(name)\n",
        "      year_list.append(year)\n",
        "\n",
        "    df_data_new = pd.DataFrame({'artsy_id': artsy_id_list,\n",
        "                                'name': name_list, \n",
        "                                'link': imgage_list, \n",
        "                                'year': year_list,\n",
        "                                'artist': artist_list,\n",
        "                                'gallery': gallery_list,\n",
        "                                'price': price_list\n",
        "                                })\n",
        "  except:\n",
        "    df_data_new = pd.DataFrame({'artsy_id': np.nan,\n",
        "                                'name': np.nan, \n",
        "                                'link': np.nan, \n",
        "                                'year': np.nan,\n",
        "                                'artist': np.nan,\n",
        "                                'gallery': np.nan,\n",
        "                                'price': np.nan\n",
        "                                }, index=[0])\n",
        "  \n",
        "  return df_data_new"
      ]
    },
    {
      "cell_type": "markdown",
      "metadata": {
        "id": "hJ8DW26UuEs_"
      },
      "source": [
        "### get category data into df - aggregator"
      ]
    },
    {
      "cell_type": "code",
      "execution_count": 30,
      "metadata": {
        "id": "LZPhJlWNuBZp"
      },
      "outputs": [],
      "source": [
        "# Function aggregator\n",
        "# 8. Get the all category data into DataFrame\n",
        "def get_df_data(df_input, genes_links_list, genes_ids_list, cat):\n",
        "  start_time = time.time()\n",
        "  print(datetime.now().time())\n",
        "  df_output = df_input.copy()\n",
        "  df_output = df_output[0:0]\n",
        "\n",
        "  for link in genes_links_list:\n",
        "    session = requests.Session()\n",
        "    total_link = url_add + link\n",
        "    print('Parsing of gene', genes_ids_list[genes_links_list.index(link)], total_link, 'has started')\n",
        "    # 5. get_page\n",
        "    gene_page = get_page(total_link, session)\n",
        "    #           get_page(url, session) -> \n",
        "    # -> bs_page\n",
        "    \n",
        "    # 6. get next pages links list\n",
        "    next_page_link_list = get_next_page_list(url_add, gene_page)\n",
        "    #                     get_next_page_list(url, page) -> \n",
        "    # -> next_page_link_list_new\n",
        "    print(len(next_page_link_list)+1, 'pages for parsing')\n",
        "\n",
        "    # 7. get data from pages\n",
        "    df_data = get_page_data(gene_page)\n",
        "    #         get_page_data(page) -> \n",
        "    # -> df_data_new\n",
        "    df_data['gene_id'] = genes_ids_list[genes_links_list.index(link)]\n",
        "    df_data['category_id'] = cat\n",
        "    df_data['parsing_date'] = datetime.now().date().strftime('%Y-%m-%d')\n",
        "    df_data['updating_date'] = datetime.now().date().strftime('%Y-%m-%d')\n",
        "\n",
        "    df_output = pd.concat([df_output, df_data])\n",
        "\n",
        "    # Get data from next pages\n",
        "    if len(next_page_link_list) > 0:\n",
        "      for page_link in next_page_link_list:\n",
        "        # 5. get_page\n",
        "        gene_page = get_page(page_link, session)\n",
        "        #           get_page(url, session) -> \n",
        "        # -> bs_page\n",
        "\n",
        "        # 7. get data from pages\n",
        "        df_data = get_page_data(gene_page)\n",
        "        #         get_page_data(page) -> \n",
        "        # -> df_data_new\n",
        "        df_data['gene_id'] = genes_ids_list[genes_links_list.index(link)]\n",
        "        df_data['category_id'] = cat\n",
        "        df_data['parsing_date'] = datetime.now().date().strftime('%Y-%m-%d')\n",
        "        df_data['updating_date'] = datetime.now().date().strftime('%Y-%m-%d')\n",
        "\n",
        "        df_output = pd.concat([df_output, df_data])\n",
        "      \n",
        "    print('Parsing of gene', genes_ids_list[genes_links_list.index(link)], total_link, 'has finished')\n",
        "    print((time.time() - start_time), 'seconds have passed')\n",
        "    print(datetime.now().time())\n",
        "    print('')\n",
        "    time.sleep(0.5)\n",
        "\n",
        "  return df_output"
      ]
    },
    {
      "cell_type": "code",
      "execution_count": 437,
      "metadata": {
        "id": "o90bUIpx-BtS"
      },
      "outputs": [],
      "source": [
        "# Function aggregator\n",
        "# 8.1 Get the first pages category data into DataFrame\n",
        "def get_df_data_add_up(df_input, genes_links_list, genes_ids_list, genes_cat_list): # cat !!!!!!!!\n",
        "  start_time = time.time()\n",
        "  print(datetime.now().time())\n",
        "  df_output = df_input.copy()\n",
        "  #df_output['pages_count'] = np.nan # only for the first time !!!!\n",
        "  #df_output['second_page_link'] = np.nan # only for the first time !!!!\n",
        "  df_output = df_output[0:0]\n",
        "\n",
        "  session = requests.Session()\n",
        "  l_c = 0\n",
        "  for link in genes_links_list:\n",
        "    #session = requests.Session()\n",
        "    total_link = url_add + link\n",
        "    print('Parsing of gene', genes_ids_list[genes_links_list.index(link)], total_link, 'has started')\n",
        "    # 5. get_page\n",
        "    gene_page = get_page(total_link, session)\n",
        "    #           get_page(url, session) -> \n",
        "    # -> bs_page\n",
        "    \n",
        "    # 6.1 get next pages links list\n",
        "    next_page_link_list = get_next_page_list_add_up(url_add, gene_page)\n",
        "    #                     get_next_page_list_add_up(url, page) -> \n",
        "    # -> next_page_link_list_new\n",
        "    print(len(next_page_link_list)+1, 'pages for parsing')\n",
        "\n",
        "    # 7. get data from pages\n",
        "    df_data = get_page_data(gene_page)\n",
        "    #         get_page_data(page) -> \n",
        "    # -> df_data_new\n",
        "    df_data['gene_id'] = genes_ids_list[genes_links_list.index(link)]\n",
        "    df_data['category_id'] = genes_cat_list[genes_links_list.index(link)] # cat !!!!!!!!!\n",
        "    df_data['parsing_date'] = datetime.now().date().strftime('%Y-%m-%d')\n",
        "    df_data['updating_date'] = datetime.now().date().strftime('%Y-%m-%d')\n",
        "    df_data['pages_count'] = len(next_page_link_list)+1\n",
        "    if len(next_page_link_list) > 0:\n",
        "      df_data['second_page_link'] = next_page_link_list[0]\n",
        "    else:\n",
        "      df_data['second_page_link'] = np.nan\n",
        "\n",
        "    df_output = pd.concat([df_output, df_data])\n",
        "      \n",
        "    print('Parsing of gene', genes_ids_list[genes_links_list.index(link)], total_link, 'has finished')\n",
        "    print((time.time() - start_time), 'seconds have passed')\n",
        "    print(datetime.now().time())\n",
        "    print('')\n",
        "    time.sleep(0.5)\n",
        "    l_c += 1\n",
        "    if l_c == 10:\n",
        "      session = requests.Session()\n",
        "      l_c = 0\n",
        "\n",
        "  return df_output"
      ]
    },
    {
      "cell_type": "markdown",
      "metadata": {
        "id": "ysydU0bctwHa"
      },
      "source": [
        "### correct image link"
      ]
    },
    {
      "cell_type": "code",
      "execution_count": 32,
      "metadata": {
        "id": "vRxr-3Ynti87"
      },
      "outputs": [],
      "source": [
        "# 9. correct image link\n",
        "def img_link_corr(img):\n",
        "  parts = img.split('.jpg')[0].replace('?', '/').replace('%2F', '/').split('/')\n",
        "  img_new = parts[0] + '//' + parts[5] + '/' + parts[6] + '/' + parts[7]  + '.jpg'\n",
        "  return img_new"
      ]
    },
    {
      "cell_type": "markdown",
      "metadata": {
        "id": "EIMfFZTJv9Fs"
      },
      "source": [
        "### filtering"
      ]
    },
    {
      "cell_type": "code",
      "execution_count": 33,
      "metadata": {
        "id": "b89bkTcxv7bk"
      },
      "outputs": [],
      "source": [
        "# 10. Filtering\n",
        "def get_cat_id(cat):\n",
        "  return cat\n",
        "\n",
        "def gene_links_samples(gen_key):\n",
        "  cat_id = get_cat_id(cat)\n",
        "  return genes_dict[gen_key]['category_id'] == cat_id"
      ]
    },
    {
      "cell_type": "markdown",
      "metadata": {
        "id": "3uYpPtclNOAi"
      },
      "source": [
        "# Gens dict"
      ]
    },
    {
      "cell_type": "code",
      "execution_count": 161,
      "metadata": {
        "id": "tf33GQTNESnB"
      },
      "outputs": [],
      "source": [
        "url = 'https://www.artsy.net/categories'"
      ]
    },
    {
      "cell_type": "code",
      "execution_count": 162,
      "metadata": {
        "colab": {
          "base_uri": "https://localhost:8080/",
          "height": 72
        },
        "id": "enUq0vwdEChn",
        "outputId": "90609c05-c817-47d5-80b8-2b01b5a7d32c"
      },
      "outputs": [
        {
          "output_type": "stream",
          "name": "stderr",
          "text": [
            "Starting new HTTPS connection (1): www.artsy.net:443\n",
            "https://www.artsy.net:443 \"GET /categories HTTP/1.1\" 200 None\n"
          ]
        },
        {
          "output_type": "execute_result",
          "data": {
            "text/plain": [
              "'Artsy — Discover, Buy, and Sell Fine Art'"
            ],
            "application/vnd.google.colaboratory.intrinsic+json": {
              "type": "string"
            }
          },
          "metadata": {},
          "execution_count": 162
        }
      ],
      "source": [
        "response = requests.get(url, headers={'User-Agent': 'Chrome/97.0.4692.71'})\n",
        "genome_page = BeautifulSoup(response.text, 'html.parser')\n",
        "genome_page.title.string"
      ]
    },
    {
      "cell_type": "markdown",
      "metadata": {
        "id": "znvj69nSy9lf"
      },
      "source": [
        "## categories_dict"
      ]
    },
    {
      "cell_type": "code",
      "execution_count": null,
      "metadata": {
        "colab": {
          "base_uri": "https://localhost:8080/"
        },
        "id": "bGokS7wPwz38",
        "outputId": "f5ea81f7-25c3-4cc4-b655-7466fe55ebca"
      },
      "outputs": [
        {
          "name": "stdout",
          "output_type": "stream",
          "text": [
            "Confirm the categories_dict re/seting (y/n)y\n",
            "categories_dict has been re/set 2022-03-30 06:01\n",
            "dictionary's length is - 0\n"
          ]
        }
      ],
      "source": [
        "# !!!!! For the first time !!!!!\n",
        "confirmation = input('Confirm the categories_dict re/seting (y/n)')\n",
        "if confirmation == 'y':\n",
        "  categories_dict = {}\n",
        "  print('categories_dict has been re/set {}'.format(datetime.now().strftime('%Y-%m-%d %H:%M')))\n",
        "  print(\"dictionary's length is - {}\".format(len(categories_dict)))\n",
        "else:\n",
        "  print('nothing has happened')"
      ]
    },
    {
      "cell_type": "code",
      "execution_count": 163,
      "metadata": {
        "colab": {
          "base_uri": "https://localhost:8080/"
        },
        "id": "lVhwgRuzx903",
        "outputId": "833693e7-61a0-4270-b3a0-7f0bc7f3cd90"
      },
      "outputs": [
        {
          "output_type": "stream",
          "name": "stdout",
          "text": [
            "Confirm the categories_dict opening (y/n)y\n",
            "categories_dict has been opened 2022-04-20 07:10\n",
            "dictionary's length is - 16\n"
          ]
        }
      ],
      "source": [
        "# !!!!! All next times !!!!!\n",
        "confirmation = input('Confirm the categories_dict opening (y/n)')\n",
        "if confirmation == 'y':\n",
        "  categories_dict = open_dict(cat_dict, 'live') # 2. Open json dict\n",
        "  print('categories_dict has been opened {}'.format(datetime.now().strftime('%Y-%m-%d %H:%M')))\n",
        "  print(\"dictionary's length is - {}\".format(len(categories_dict)))\n",
        "else:\n",
        "  print('nothing has happened')"
      ]
    },
    {
      "cell_type": "code",
      "execution_count": 164,
      "metadata": {
        "id": "MUtf4Api5FG9",
        "colab": {
          "base_uri": "https://localhost:8080/"
        },
        "outputId": "38775ced-bd20-4803-dd7b-de4579b49f01"
      },
      "outputs": [
        {
          "output_type": "execute_result",
          "data": {
            "text/plain": [
              "{'genes_id': ['01001', '01002', '01003', '01004', '01005', '01006', '01007'],\n",
              " 'id': '01',\n",
              " 'link': 'jump--artistic-disciplines',\n",
              " 'name': 'Artistic Disciplines',\n",
              " 'parsing_date': '2022-03-30',\n",
              " 'updating_date': '2022-03-30'}"
            ]
          },
          "metadata": {},
          "execution_count": 164
        }
      ],
      "source": [
        "categories_dict['artistic_disciplines']"
      ]
    },
    {
      "cell_type": "code",
      "execution_count": 165,
      "metadata": {
        "id": "cLtk03r2WvSV"
      },
      "outputs": [],
      "source": [
        "categories_block = genome_page.find('div', class_='sticky-inner-wrapper').find_all('div', class_='Box-sc-15se88d-0 Flex-cw39ct-0 elJsUD')\n",
        "\n",
        "#categories_dict = {'artistic_disciplines': {'id': '02', 'name': 'Artistic Disciplines', 'link': 'jump--artistic-disciplines'}}\n",
        "id = len(categories_dict) + 1\n",
        "for cat in categories_block:\n",
        "  key = cat.find('a').get('href').replace('#jump--', '').replace('-', '_')\n",
        "  if key not in categories_dict.keys():\n",
        "    categories_dict.update({key: {'id': str(id) if len(str(id))>1 else '0'+str(id), 'name': cat.get_text(), 'link': cat.find('a').get('href').replace('#', ''), 'genes_id': [], 'parsing_date': datetime.now().date().strftime('%Y-%m-%d'), 'updating_date': datetime.now().date().strftime('%Y-%m-%d')}})\n",
        "    id += 1\n",
        "    print('New key has been added - {}'.format(key))\n",
        "  else:\n",
        "    if categories_dict[key]['link'] != cat.find('a').get('href').replace('#', '') or categories_dict[key]['name'] != cat.get_text():\n",
        "      print('an Old name - {}\\nor an Old link - {}'.format(categories_dict[key]['name'], categories_dict[key]['link']))\n",
        "      categories_dict[key].update({'link': cat.find('a').get('href').replace('#', '')})\n",
        "      categories_dict[key].update({'name': cat.get_text()})\n",
        "      categories_dict[key].update({'updating_date': datetime.now().date().strftime('%Y-%m-%d')})\n",
        "      print('has been updated with \\na New name - {}\\nor a New link - {}'.format(categories_dict[key]['name'], categories_dict[key]['link']))\n",
        "      print('')"
      ]
    },
    {
      "cell_type": "code",
      "execution_count": 166,
      "metadata": {
        "colab": {
          "base_uri": "https://localhost:8080/"
        },
        "id": "FQFLsPV5IIe8",
        "outputId": "fd09728b-150e-4582-9b06-89b9f2ab33c8"
      },
      "outputs": [
        {
          "output_type": "execute_result",
          "data": {
            "text/plain": [
              "16"
            ]
          },
          "metadata": {},
          "execution_count": 166
        }
      ],
      "source": [
        "len(categories_dict)"
      ]
    },
    {
      "cell_type": "code",
      "execution_count": 167,
      "metadata": {
        "colab": {
          "base_uri": "https://localhost:8080/"
        },
        "id": "tQTfZKiFarSd",
        "outputId": "88c8c413-d2c7-444e-f7ec-bc40ce8e0641"
      },
      "outputs": [
        {
          "output_type": "execute_result",
          "data": {
            "text/plain": [
              "{'genes_id': ['01001', '01002', '01003', '01004', '01005', '01006', '01007'],\n",
              " 'id': '01',\n",
              " 'link': 'jump--artistic-disciplines',\n",
              " 'name': 'Artistic Disciplines',\n",
              " 'parsing_date': '2022-03-30',\n",
              " 'updating_date': '2022-03-30'}"
            ]
          },
          "metadata": {},
          "execution_count": 167
        }
      ],
      "source": [
        "categories_dict['artistic_disciplines']"
      ]
    },
    {
      "cell_type": "code",
      "execution_count": null,
      "metadata": {
        "colab": {
          "base_uri": "https://localhost:8080/"
        },
        "id": "Ew9WHJYykmxf",
        "outputId": "42563654-434d-4008-c9b1-d64d586e0398"
      },
      "outputs": [
        {
          "name": "stdout",
          "output_type": "stream",
          "text": [
            "Confirm the categories_dict saving (y/n)y\n",
            "categories_dict has been saved 2022-03-30 06:02\n",
            "dictionary's length is - 16\n"
          ]
        }
      ],
      "source": [
        "confirmation = input('Confirm the categories_dict saving (y/n)')\n",
        "if confirmation == 'y':\n",
        "  save_dict(categories_dict, cat_dict) # 1. Save json dict\n",
        "  print('categories_dict has been saved {}'.format(datetime.now().strftime('%Y-%m-%d %H:%M')))\n",
        "  print(\"dictionary's length is - {}\".format(len(categories_dict)))\n",
        "else:\n",
        "  print('nothing has happened')"
      ]
    },
    {
      "cell_type": "code",
      "execution_count": null,
      "metadata": {
        "id": "w7iF2sL-4fG_"
      },
      "outputs": [],
      "source": [
        ""
      ]
    },
    {
      "cell_type": "markdown",
      "metadata": {
        "id": "Jm2PBAgezApk"
      },
      "source": [
        "## genes_dict"
      ]
    },
    {
      "cell_type": "code",
      "execution_count": null,
      "metadata": {
        "colab": {
          "base_uri": "https://localhost:8080/"
        },
        "id": "povm1Btb7Y1l",
        "outputId": "fb872936-d8cd-4c96-9319-40dac9dc62a8"
      },
      "outputs": [
        {
          "name": "stdout",
          "output_type": "stream",
          "text": [
            "Confirm the genes_dict re/seting (y/n)y\n",
            "genes_dict was re/set\n"
          ]
        }
      ],
      "source": [
        "# !!!!! For the first time !!!!!\n",
        "confirmation = input('Confirm the genes_dict re/seting (y/n)')\n",
        "if confirmation == 'y':\n",
        "  genes_dict = {}\n",
        "  print('genes_dict has been re/set {}'.format(datetime.now().strftime('%Y-%m-%d %H:%M')))\n",
        "  print(\"dictionary's length is - {}\".format(len(genes_dict)))\n",
        "else:\n",
        "  print('nothing has happened')"
      ]
    },
    {
      "cell_type": "code",
      "execution_count": 168,
      "metadata": {
        "colab": {
          "base_uri": "https://localhost:8080/"
        },
        "id": "OFYiTBZe7i7b",
        "outputId": "2d7dccc9-9cd6-4d4e-8abb-76e40fe53f0a"
      },
      "outputs": [
        {
          "output_type": "stream",
          "name": "stdout",
          "text": [
            "Confirm the genes_dict opening (y/n)y\n",
            "genes_dict has been opened 2022-04-20 07:14\n",
            "dictionary's length is - 1032\n"
          ]
        }
      ],
      "source": [
        "# !!!!! All next times !!!!!\n",
        "confirmation = input('Confirm the genes_dict opening (y/n)')\n",
        "if confirmation == 'y':\n",
        "  genes_dict = open_dict(gen_dict, 'live') # 2. Open json dict\n",
        "  print('genes_dict has been opened {}'.format(datetime.now().strftime('%Y-%m-%d %H:%M')))\n",
        "  print(\"dictionary's length is - {}\".format(len(genes_dict)))\n",
        "else:\n",
        "  print('nothing has happened')"
      ]
    },
    {
      "cell_type": "code",
      "source": [
        "# !!!!! All next times !!!!!\n",
        "# Determining the count of genes in the category for creating an id (using () instead of [] is also possible)\n",
        "count_list = [sum([1 for v in genes_dict.values() if v['category_id']==value['id']]) for value in categories_dict.values()]\n",
        "id_len = len(str(max(count_list)))\n",
        "print(id_len)\n",
        "print(count_list)"
      ],
      "metadata": {
        "colab": {
          "base_uri": "https://localhost:8080/"
        },
        "id": "tvuqkPNH1DR2",
        "outputId": "f1f4feb0-ab00-49f1-ae87-8b4466fc43af"
      },
      "execution_count": 171,
      "outputs": [
        {
          "output_type": "stream",
          "name": "stdout",
          "text": [
            "3\n",
            "[7, 213, 252, 26, 75, 175, 20, 68, 39, 22, 69, 27, 6, 7, 19, 7]\n"
          ]
        }
      ]
    },
    {
      "cell_type": "code",
      "execution_count": 170,
      "metadata": {
        "colab": {
          "base_uri": "https://localhost:8080/"
        },
        "id": "Kv2YqRqEPxZe",
        "outputId": "2e232e68-8d1d-4b98-dc72-1c915cf70688"
      },
      "outputs": [
        {
          "output_type": "execute_result",
          "data": {
            "text/plain": [
              "{'artist_id': ['25055', '21189'],\n",
              " 'artsy_id': ['553be2df7261692b035d0400',\n",
              "  '553a8ea872616909c03a0000',\n",
              "  '54f0c97a7261693fa3ea1400',\n",
              "  '54f0c97c726169731f9f1400',\n",
              "  '553a8e737261697635630000',\n",
              "  '553a8e61726169623a4f0000'],\n",
              " 'category_id': '03',\n",
              " 'id': '03001',\n",
              " 'link': '/gene/bad-painting',\n",
              " 'name': '\"Bad Painting\"',\n",
              " 'parsing_date': '2022-03-29',\n",
              " 'updating_date': '2022-03-29'}"
            ]
          },
          "metadata": {},
          "execution_count": 170
        }
      ],
      "source": [
        "genes_dict['bad_painting']"
      ]
    },
    {
      "cell_type": "code",
      "execution_count": 172,
      "metadata": {
        "id": "UTN-UZk2lqs1",
        "colab": {
          "base_uri": "https://localhost:8080/"
        },
        "outputId": "839389d5-9349-4138-8077-e6e609d76398"
      },
      "outputs": [
        {
          "output_type": "stream",
          "name": "stdout",
          "text": [
            "New key has been added - nft\n"
          ]
        }
      ],
      "source": [
        "#genes_dict = {'architecture_1': {'id': '0201', 'name': 'Architecture', 'link': '/gene/architecture-1', 'category_id': '02'}}\n",
        "# !!! working link is 'https://www.artsy.net' + link !!!\n",
        "for value in categories_dict.values():\n",
        "  category = genome_page.find('div', id=value['link']).find('h2').text\n",
        "  if category == value['name']:\n",
        "    count = sum([1 for v in genes_dict.values() if v['category_id'] == value['id']])\n",
        "    id = count+1\n",
        "    gens_block = genome_page.find('div', id=value['link']).find_all('a')\n",
        "    for a in gens_block:\n",
        "      gen_key = a.get('href').replace('/gene/', '').replace('-', '_')\n",
        "      if gen_key not in genes_dict.keys():\n",
        "        genes_dict.update({gen_key: {'id': value['id']+('0'*(id_len-len(str(id)))+str(id)), 'name': a.get_text(), 'link': a.get('href'), 'category_id': value['id'], 'artsy_id': [], 'artist_id': [], 'parsing_date': datetime.now().date().strftime('%Y-%m-%d'), 'updating_date': datetime.now().date().strftime('%Y-%m-%d')}})\n",
        "        id += 1\n",
        "        print('New key has been added - {}'.format(gen_key)) # !!! Not for the first time\n",
        "      else:\n",
        "        if genes_dict[gen_key]['link'] != a.get('href') or genes_dict[gen_key]['name'] != a.get_text():\n",
        "          print('an Old name - {}\\nor an Old link - {}'.format(genes_dict[gen_key]['name'], genes_dict[gen_key]['link']))\n",
        "          genes_dict[gen_key].update({'link': a.get('href')})\n",
        "          genes_dict[gen_key].update({'name': a.get_text()})\n",
        "          genes_dict[gen_key].update({'updating_date': datetime.now().date().strftime('%Y-%m-%d')})\n",
        "          print('has been updated with \\na New name - {}\\nor a New link - {}'.format(genes_dict[gen_key]['name'], genes_dict[gen_key]['link']))\n",
        "          print('')\n",
        "  else:\n",
        "    print(\"Category name doesn't match\")"
      ]
    },
    {
      "cell_type": "code",
      "execution_count": 173,
      "metadata": {
        "colab": {
          "base_uri": "https://localhost:8080/"
        },
        "id": "aGACmhpOTRQp",
        "outputId": "a72b5e54-946c-4a42-c8a7-1032d76a05d1"
      },
      "outputs": [
        {
          "output_type": "execute_result",
          "data": {
            "text/plain": [
              "1033"
            ]
          },
          "metadata": {},
          "execution_count": 173
        }
      ],
      "source": [
        "len(genes_dict)"
      ]
    },
    {
      "cell_type": "code",
      "source": [
        "genes_dict['bad_painting']"
      ],
      "metadata": {
        "colab": {
          "base_uri": "https://localhost:8080/"
        },
        "id": "lLghziGT1zpI",
        "outputId": "8984f16e-713c-4c31-dfbb-8158b6a84ac5"
      },
      "execution_count": 174,
      "outputs": [
        {
          "output_type": "execute_result",
          "data": {
            "text/plain": [
              "{'artist_id': ['25055', '21189'],\n",
              " 'artsy_id': ['553be2df7261692b035d0400',\n",
              "  '553a8ea872616909c03a0000',\n",
              "  '54f0c97a7261693fa3ea1400',\n",
              "  '54f0c97c726169731f9f1400',\n",
              "  '553a8e737261697635630000',\n",
              "  '553a8e61726169623a4f0000'],\n",
              " 'category_id': '03',\n",
              " 'id': '03001',\n",
              " 'link': '/gene/bad-painting',\n",
              " 'name': '\"Bad Painting\"',\n",
              " 'parsing_date': '2022-03-29',\n",
              " 'updating_date': '2022-03-29'}"
            ]
          },
          "metadata": {},
          "execution_count": 174
        }
      ]
    },
    {
      "cell_type": "code",
      "execution_count": 182,
      "metadata": {
        "colab": {
          "base_uri": "https://localhost:8080/"
        },
        "id": "766Hq6qhUQ5Z",
        "outputId": "f60e2c62-12b9-4b4e-dc84-9760014a4177"
      },
      "outputs": [
        {
          "output_type": "stream",
          "name": "stdout",
          "text": [
            "New gene in category: medium_and_techniques\n",
            "\n"
          ]
        },
        {
          "output_type": "execute_result",
          "data": {
            "text/plain": [
              "{'artist_id': [],\n",
              " 'artsy_id': [],\n",
              " 'category_id': '06',\n",
              " 'id': '06176',\n",
              " 'link': '/gene/nft',\n",
              " 'name': 'NFT',\n",
              " 'parsing_date': '2022-04-20',\n",
              " 'updating_date': '2022-04-20'}"
            ]
          },
          "metadata": {},
          "execution_count": 182
        }
      ],
      "source": [
        "filtered_dict = {k: v for k, v in categories_dict.items() if v['id'] == genes_dict['nft']['category_id']}\n",
        "print('New gene in category:', list(filtered_dict.keys())[0])\n",
        "print('')\n",
        "genes_dict['nft']"
      ]
    },
    {
      "cell_type": "code",
      "source": [
        "print(url_add + genes_dict['nft']['link'])"
      ],
      "metadata": {
        "colab": {
          "base_uri": "https://localhost:8080/"
        },
        "id": "ctbtiWz24UiJ",
        "outputId": "b9cbbef8-149d-465c-9368-c301b06a81fe"
      },
      "execution_count": 185,
      "outputs": [
        {
          "output_type": "stream",
          "name": "stdout",
          "text": [
            "https://www.artsy.net/gene/nft\n"
          ]
        }
      ]
    },
    {
      "cell_type": "code",
      "execution_count": 177,
      "metadata": {
        "colab": {
          "base_uri": "https://localhost:8080/"
        },
        "id": "O4VVsg0jQ3wq",
        "outputId": "4478c178-af43-43aa-d8d6-46c479fe502e"
      },
      "outputs": [
        {
          "output_type": "stream",
          "name": "stdout",
          "text": [
            "Confirm the genes_dict saving (y/n)y\n",
            "genes_dict was saved 2022-04-20 07:24\n",
            "dictionary's length is - 1033\n"
          ]
        }
      ],
      "source": [
        "confirmation = input('Confirm the genes_dict saving (y/n)')\n",
        "if confirmation == 'y':\n",
        "  save_dict(genes_dict, gen_dict, 'live') # 1. Save json dict\n",
        "  print('genes_dict was saved {}'.format(datetime.now().strftime('%Y-%m-%d %H:%M')))\n",
        "  print(\"dictionary's length is - {}\".format(len(genes_dict)))\n",
        "else:\n",
        "  print('nothing has happened')"
      ]
    },
    {
      "cell_type": "code",
      "execution_count": 177,
      "metadata": {
        "id": "3wqcJ7vggPuj"
      },
      "outputs": [],
      "source": [
        ""
      ]
    },
    {
      "cell_type": "markdown",
      "metadata": {
        "id": "ZQ7z40v6ZUZV"
      },
      "source": [
        "### addition/updating lists of genes' id into the categories_dict"
      ]
    },
    {
      "cell_type": "code",
      "execution_count": null,
      "metadata": {
        "colab": {
          "base_uri": "https://localhost:8080/"
        },
        "id": "VzFmur9GT7zI",
        "outputId": "cae023ea-6aeb-4d19-fd06-d88f0b8eeb3e"
      },
      "outputs": [
        {
          "data": {
            "text/plain": [
              "16"
            ]
          },
          "execution_count": 37,
          "metadata": {},
          "output_type": "execute_result"
        }
      ],
      "source": [
        "# Dict of genes' id for the categories_dict\n",
        "#cat_gen_id_dict = {}\n",
        "#for value in categories_dict.values():\n",
        "#  gen_id_list = [v['id'] for v in genes_dict.values() if v['category_id'] == value['id']]\n",
        "#  cat_gen_id_dict.update({value['id']: gen_id_list})\n",
        "\n",
        "#len(cat_gen_id_dict)"
      ]
    },
    {
      "cell_type": "code",
      "execution_count": null,
      "metadata": {
        "colab": {
          "base_uri": "https://localhost:8080/"
        },
        "id": "qoiKqARCZtIA",
        "outputId": "645c20d9-7324-401e-9b74-926ec8cdd4b4"
      },
      "outputs": [
        {
          "data": {
            "text/plain": [
              "['01001', '01002', '01003', '01004', '01005', '01006', '01007']"
            ]
          },
          "execution_count": 41,
          "metadata": {},
          "output_type": "execute_result"
        }
      ],
      "source": [
        "#cat_gen_id_dict['01']"
      ]
    },
    {
      "cell_type": "code",
      "execution_count": null,
      "metadata": {
        "colab": {
          "base_uri": "https://localhost:8080/"
        },
        "id": "NCtndkldXm0x",
        "outputId": "decc234f-b2b8-441c-98cd-01066992c7f4"
      },
      "outputs": [
        {
          "data": {
            "text/plain": [
              "16"
            ]
          },
          "execution_count": 50,
          "metadata": {},
          "output_type": "execute_result"
        }
      ],
      "source": [
        "#for k, v in categories_dict.items():\n",
        "#  for key, value in cat_gen_id_dict.items():\n",
        "#    if v['id'] == key and categories_dict[k]['genes_id'] != value:\n",
        "#      categories_dict[k].update({'genes_id': value})\n",
        "#      categories_dict[k].update({'updating_date': datetime.now().date().strftime('%Y-%m-%d')})\n",
        "\n",
        "#len(categories_dict)"
      ]
    },
    {
      "cell_type": "code",
      "execution_count": 186,
      "metadata": {
        "id": "JCrTxTIOPw6v",
        "colab": {
          "base_uri": "https://localhost:8080/"
        },
        "outputId": "3736c316-8142-4dcc-b65f-78e1c29c74f8"
      },
      "outputs": [
        {
          "output_type": "stream",
          "name": "stdout",
          "text": [
            "Category {'id': '06', 'name': 'Medium and Techniques', 'link': 'jump--medium-and-techniques', 'genes_id': ['06001', '06002', '06003', '06004', '06005', '06006', '06007', '06008', '06009', '06010', '06011', '06012', '06013', '06014', '06015', '06016', '06017', '06018', '06019', '06020', '06021', '06022', '06023', '06024', '06025', '06026', '06027', '06028', '06029', '06030', '06031', '06032', '06033', '06034', '06035', '06036', '06037', '06038', '06039', '06040', '06041', '06042', '06043', '06044', '06045', '06046', '06047', '06048', '06049', '06050', '06051', '06052', '06053', '06054', '06055', '06056', '06057', '06058', '06059', '06060', '06061', '06062', '06063', '06064', '06065', '06066', '06067', '06068', '06069', '06070', '06071', '06072', '06073', '06074', '06075', '06076', '06077', '06078', '06079', '06080', '06081', '06082', '06083', '06084', '06085', '06086', '06087', '06088', '06089', '06090', '06091', '06092', '06093', '06094', '06095', '06096', '06097', '06098', '06099', '06100', '06101', '06102', '06103', '06104', '06105', '06106', '06107', '06108', '06109', '06110', '06111', '06112', '06113', '06114', '06115', '06116', '06117', '06118', '06119', '06120', '06121', '06122', '06123', '06124', '06125', '06126', '06127', '06128', '06129', '06130', '06131', '06132', '06133', '06134', '06135', '06136', '06137', '06138', '06139', '06140', '06141', '06142', '06143', '06144', '06145', '06146', '06147', '06148', '06149', '06150', '06151', '06152', '06153', '06154', '06155', '06156', '06157', '06158', '06159', '06160', '06161', '06162', '06163', '06164', '06165', '06166', '06167', '06168', '06169', '06170', '06171', '06172', '06173', '06174', '06175', '06176'], 'parsing_date': '2022-03-30', 'updating_date': '2022-04-20'} has been updated\n"
          ]
        },
        {
          "output_type": "execute_result",
          "data": {
            "text/plain": [
              "16"
            ]
          },
          "metadata": {},
          "execution_count": 186
        }
      ],
      "source": [
        "for key, value in categories_dict.items():\n",
        "  gen_id_list = [v['id'] for v in genes_dict.values() if v['category_id'] == value['id']]\n",
        "  if categories_dict[key]['genes_id'] != gen_id_list:\n",
        "      categories_dict[key].update({'genes_id': gen_id_list})\n",
        "      categories_dict[key].update({'updating_date': datetime.now().date().strftime('%Y-%m-%d')})\n",
        "      print('Category', key, 'has been updated')\n",
        "\n",
        "len(categories_dict)"
      ]
    },
    {
      "cell_type": "code",
      "execution_count": null,
      "metadata": {
        "colab": {
          "base_uri": "https://localhost:8080/"
        },
        "id": "1I3VsNXiZfTu",
        "outputId": "27248a89-cecb-4605-a711-522ac8435517"
      },
      "outputs": [
        {
          "data": {
            "text/plain": [
              "{'genes_id': ['01001', '01002', '01003', '01004', '01005', '01006', '01007'],\n",
              " 'id': '01',\n",
              " 'link': 'jump--artistic-disciplines',\n",
              " 'name': 'Artistic Disciplines',\n",
              " 'parsing_date': '2022-03-30',\n",
              " 'updating_date': '2022-03-30'}"
            ]
          },
          "execution_count": 51,
          "metadata": {},
          "output_type": "execute_result"
        }
      ],
      "source": [
        "categories_dict['artistic_disciplines']"
      ]
    },
    {
      "cell_type": "code",
      "execution_count": 188,
      "metadata": {
        "colab": {
          "base_uri": "https://localhost:8080/"
        },
        "id": "ahhVKxfGa4aW",
        "outputId": "8db92cfc-972c-4f9f-f5d7-90cc088568ec"
      },
      "outputs": [
        {
          "output_type": "stream",
          "name": "stdout",
          "text": [
            "Confirm the categories_dict saving (y/n)y\n",
            "categories_dict has been saved 2022-04-20 07:38\n",
            "dictionary's length is - 16\n"
          ]
        }
      ],
      "source": [
        "confirmation = input('Confirm the categories_dict saving (y/n)')\n",
        "if confirmation == 'y':\n",
        "  save_dict(categories_dict, cat_dict, 'live') # 1. Save json dict\n",
        "  print('categories_dict has been saved {}'.format(datetime.now().strftime('%Y-%m-%d %H:%M')))\n",
        "  print(\"dictionary's length is - {}\".format(len(categories_dict)))\n",
        "else:\n",
        "  print('nothing has happened')"
      ]
    },
    {
      "cell_type": "code",
      "execution_count": 188,
      "metadata": {
        "id": "GsHU5oLb7y6Z"
      },
      "outputs": [],
      "source": [
        ""
      ]
    },
    {
      "cell_type": "markdown",
      "metadata": {
        "id": "z0B2vK1msJUl"
      },
      "source": [
        "# Artworks and Artists dicts"
      ]
    },
    {
      "cell_type": "markdown",
      "metadata": {
        "id": "QEjPQaFDQ7ep"
      },
      "source": [
        "## Filtering"
      ]
    },
    {
      "cell_type": "markdown",
      "metadata": {
        "id": "qWUpsl--TfJE"
      },
      "source": [
        "The fastest and simplest way to collect data is to go through the genes_dict and read data from a tape of objects like from a news feed. On a tape they have:\n",
        "- artist's name - to the artists_dict !!!\n",
        "- artwork name - to the artworks_dict\n",
        "- artwork year - to the artworks_dict\n",
        "- Galleries and Institutions name - to the galleries_dict !!!\n",
        "- price - to the artworks_dict\n",
        "- image link - to the artworks_dict\n",
        "\n",
        "That's anough for me.\n",
        "\n",
        "In parallel I'm going to collect artists_dict and galleries_dict.\n",
        "\n",
        "Artwork can belong to different genes, but I don't need this repetition in the artworks_dict. So I can't create a composed id for it (like gene id). Artwork id should be end-to-end.\n",
        "\n",
        "Seems like I should choose the most comprehensive category, collect its database, and then add to it only new information.\n",
        "\n",
        "But how much artworks are in Artsy database? Via their API I collected around 26 000 once."
      ]
    },
    {
      "cell_type": "code",
      "execution_count": null,
      "metadata": {
        "colab": {
          "base_uri": "https://localhost:8080/"
        },
        "id": "k0d7Q7RNSF_Y",
        "outputId": "b5dbf2d5-340e-4dec-daeb-868d0611ae9a"
      },
      "outputs": [
        {
          "name": "stdout",
          "output_type": "stream",
          "text": [
            "dictionary's length is - 16\n"
          ]
        }
      ],
      "source": [
        "categories_dict = open_dict(cat_dict, 'live') # 2. Open json dict\n",
        "print(\"dictionary's length is - {}\".format(len(categories_dict)))"
      ]
    },
    {
      "cell_type": "code",
      "execution_count": null,
      "metadata": {
        "colab": {
          "base_uri": "https://localhost:8080/"
        },
        "id": "P4akedsoR0WH",
        "outputId": "6d4d73fc-5455-4b9f-a7e4-50fd37ac9c6e"
      },
      "outputs": [
        {
          "name": "stdout",
          "output_type": "stream",
          "text": [
            "styles_and_movements -> id 03 -> genes count 252\n",
            "subject_matter -> id 02 -> genes count 213\n",
            "medium_and_techniques -> id 06 -> genes count 175\n",
            "visual_qualities -> id 05 -> genes count 75\n",
            "cultural_and_religious_styles -> id 11 -> genes count 69\n",
            "geographic_regions -> id 08 -> genes count 68\n",
            "materials -> id 09 -> genes count 39\n",
            "furniture_and_lighting -> id 12 -> genes count 27\n",
            "design_movements -> id 04 -> genes count 26\n",
            "design_concepts_and_techniques -> id 10 -> genes count 22\n",
            "time_periods -> id 07 -> genes count 20\n",
            "tableware_vessels_and_objects -> id 15 -> genes count 19\n",
            "artistic_disciplines -> id 01 -> genes count 7\n",
            "jewelry_and_fashion_object_types -> id 14 -> genes count 7\n",
            "antiquities_artifacts_and_religious_objects -> id 16 -> genes count 7\n",
            "textiles -> id 13 -> genes count 6\n"
          ]
        }
      ],
      "source": [
        "def by_value(item):\n",
        "  return len(item[1]['genes_id'])\n",
        "\n",
        "for k, v in sorted(categories_dict.items(), key=by_value, reverse=True):\n",
        "  print(k, '->', 'id', categories_dict[k]['id'], '->', 'genes count' , len(categories_dict[k]['genes_id']))"
      ]
    },
    {
      "cell_type": "markdown",
      "metadata": {
        "id": "7YSQdlZLSNbp"
      },
      "source": [
        "03 styles_and_movements looks like the the most comprehensive category.\n",
        "Next will be:\n",
        "- subject_matter -> 02\n",
        "- medium_and_techniques -> 06"
      ]
    },
    {
      "cell_type": "code",
      "execution_count": 17,
      "metadata": {
        "colab": {
          "base_uri": "https://localhost:8080/"
        },
        "id": "tyg_GuCzRpBA",
        "outputId": "176d8322-ffa7-4f61-b3b8-90f36967e4d5"
      },
      "outputs": [
        {
          "output_type": "stream",
          "name": "stdout",
          "text": [
            "dictionary's length is - 1032\n"
          ]
        }
      ],
      "source": [
        "genes_dict = open_dict(gen_dict, 'live') # 2. Open json dict\n",
        "print(\"dictionary's length is - {}\".format(len(genes_dict)))"
      ]
    },
    {
      "cell_type": "code",
      "execution_count": 141,
      "metadata": {
        "colab": {
          "base_uri": "https://localhost:8080/"
        },
        "id": "lfLT9bhspyQE",
        "outputId": "5b9e1c82-e4c2-4193-9fe4-f2b5ac204f08"
      },
      "outputs": [
        {
          "output_type": "stream",
          "name": "stdout",
          "text": [
            "39\n",
            "39\n"
          ]
        }
      ],
      "source": [
        "cat = '09'\n",
        "prefix = recently_added_pref\n",
        "#prefix = recently_updated_pref\n",
        "\n",
        "filtered_dict = {k: v for k, v in genes_dict.items() if v['category_id'] == cat}\n",
        "# for first collection !!!!!!!!!!\n",
        "#genes_links_list = [v['link'] for v in filtered_dict.values()]\n",
        "# for addition or updating !!!!!!!!!!!\n",
        "genes_links_list = [v['link']+prefix for v in filtered_dict.values()]\n",
        "genes_ids_list = [v['id'] for v in filtered_dict.values()]\n",
        "print(len(genes_links_list))\n",
        "print(len(genes_ids_list))"
      ]
    },
    {
      "cell_type": "code",
      "source": [
        "# NEW GENE !!!\n",
        "cat = '06'\n",
        "genes_links_list = [genes_dict['nft']['link']]\n",
        "genes_ids_list = [genes_dict['nft']['id']]\n",
        "print(len(genes_links_list))\n",
        "print(len(genes_ids_list))"
      ],
      "metadata": {
        "colab": {
          "base_uri": "https://localhost:8080/"
        },
        "id": "ACuHhlkzG5Iw",
        "outputId": "66e0aa0b-b95d-4bba-990b-fad8bd4a3da6"
      },
      "execution_count": 298,
      "outputs": [
        {
          "output_type": "stream",
          "name": "stdout",
          "text": [
            "1\n",
            "1\n"
          ]
        }
      ]
    },
    {
      "cell_type": "markdown",
      "metadata": {
        "id": "M7nhhHq5TEd6"
      },
      "source": [
        "## Data collecting"
      ]
    },
    {
      "cell_type": "markdown",
      "metadata": {
        "id": "Af1lJnakJRda"
      },
      "source": [
        "### Parsing"
      ]
    },
    {
      "cell_type": "markdown",
      "metadata": {
        "id": "389pcvEa-usM"
      },
      "source": [
        "#### First collection\n",
        "- reparse categories: 12, 10 !!!"
      ]
    },
    {
      "cell_type": "code",
      "execution_count": null,
      "metadata": {
        "colab": {
          "base_uri": "https://localhost:8080/"
        },
        "id": "o0ObYP8fgOXF",
        "outputId": "954bfdba-3f1e-4ab3-eba5-98427e0bf9c8"
      },
      "outputs": [
        {
          "output_type": "execute_result",
          "data": {
            "text/plain": [
              "2"
            ]
          },
          "metadata": {},
          "execution_count": 194
        }
      ],
      "source": [
        "len(genes_ids_list_er)"
      ]
    },
    {
      "cell_type": "code",
      "execution_count": 299,
      "metadata": {
        "id": "YsvD8bOVsp9b"
      },
      "outputs": [],
      "source": [
        "# too many genes -> let's collect by 50 at a time\n",
        "backup_names = []"
      ]
    },
    {
      "cell_type": "code",
      "execution_count": 300,
      "metadata": {
        "colab": {
          "base_uri": "https://localhost:8080/"
        },
        "id": "2i0QMy-SnpQN",
        "outputId": "2166c9af-c033-46bd-9780-82e1be634bcc"
      },
      "outputs": [
        {
          "output_type": "stream",
          "name": "stderr",
          "text": [
            "Starting new HTTPS connection (1): www.artsy.net:443\n"
          ]
        },
        {
          "output_type": "stream",
          "name": "stdout",
          "text": [
            "08:37:53.808458\n",
            "Parsing of gene 06176 https://www.artsy.net/gene/nft has started\n"
          ]
        },
        {
          "output_type": "stream",
          "name": "stderr",
          "text": [
            "https://www.artsy.net:443 \"GET /gene/nft HTTP/1.1\" 200 None\n"
          ]
        },
        {
          "output_type": "stream",
          "name": "stdout",
          "text": [
            "9 pages for parsing\n"
          ]
        },
        {
          "output_type": "stream",
          "name": "stderr",
          "text": [
            "https://www.artsy.net:443 \"GET /gene/nft?page=2 HTTP/1.1\" 200 None\n",
            "https://www.artsy.net:443 \"GET /gene/nft?page=3 HTTP/1.1\" 200 None\n",
            "https://www.artsy.net:443 \"GET /gene/nft?page=4 HTTP/1.1\" 200 None\n",
            "https://www.artsy.net:443 \"GET /gene/nft?page=5 HTTP/1.1\" 200 None\n",
            "https://www.artsy.net:443 \"GET /gene/nft?page=6 HTTP/1.1\" 200 None\n",
            "https://www.artsy.net:443 \"GET /gene/nft?page=7 HTTP/1.1\" 200 None\n",
            "https://www.artsy.net:443 \"GET /gene/nft?page=8 HTTP/1.1\" 200 None\n",
            "https://www.artsy.net:443 \"GET /gene/nft?page=9 HTTP/1.1\" 200 None\n"
          ]
        },
        {
          "output_type": "stream",
          "name": "stdout",
          "text": [
            "Parsing of gene 06176 https://www.artsy.net/gene/nft has finished\n",
            "16.782116651535034 seconds have passed\n",
            "08:38:10.590718\n",
            "\n"
          ]
        }
      ],
      "source": [
        "df_temp_data_old = open_file_csv(temp_data, 'live') # 3. Open file.csv\n",
        "try:\n",
        "  # 8. Get the all category data into DataFrame    !!!!! [:] or _er         !!!!! [:] or _er \n",
        "  df_temp_data_new = get_df_data(df_temp_data_old, genes_links_list, genes_ids_list, cat)\n",
        "  #                  get_df_data(df_input, genes_links_list, genes_ids_list, cat) ->\n",
        "  # -> df_output\n",
        "except SystemExit:\n",
        "  pass\n",
        "\n",
        "save_df_file(df_temp_data_new, temp_data, 'live') # 4. Save df to csv file\n",
        "\n",
        "new_name_csv = temp_data.replace('.csv', '') + '_' + str(datetime.now()) + '.csv'\n",
        "backup_names.append(new_name_csv)\n",
        "save_df_file(df_temp_data_new, new_name_csv, 'backup') # 4. Save df to csv file"
      ]
    },
    {
      "cell_type": "markdown",
      "metadata": {
        "id": "APmezNDfdn-p"
      },
      "source": [
        "Saving blocks of 50 genes' data in separate files in beckup folder. Then we'll join them together and check if some pages have been missed during the parsing."
      ]
    },
    {
      "cell_type": "code",
      "execution_count": 301,
      "metadata": {
        "colab": {
          "base_uri": "https://localhost:8080/"
        },
        "id": "XXHf8iay8mED",
        "outputId": "62cc9fba-65f5-4c81-eceb-ab18717c29d0"
      },
      "outputs": [
        {
          "output_type": "execute_result",
          "data": {
            "text/plain": [
              "['/artsy_temp_data_2022-04-20 08:38:11.107399.csv']"
            ]
          },
          "metadata": {},
          "execution_count": 301
        }
      ],
      "source": [
        "backup_names"
      ]
    },
    {
      "cell_type": "code",
      "execution_count": null,
      "metadata": {
        "id": "I7EWLXE4P1ar"
      },
      "outputs": [],
      "source": [
        "#backup_names_cat_06 = ['/artsy_temp_data_2022-04-06 07:01:26.758130.csv',\n",
        "#                       '/artsy_temp_data_2022-04-06 07:19:01.562291.csv',\n",
        "#                       '/artsy_temp_data_2022-04-06 08:35:48.400500.csv',\n",
        "#                       '/artsy_temp_data_2022-04-06 10:31:00.254918.csv',\n",
        "#                       '/artsy_temp_data_2022-04-06 11:58:44.750998.csv',\n",
        "#                       '/artsy_temp_data_2022-04-06 12:41:26.025146.csv',\n",
        "#                       '/artsy_temp_data_2022-04-06 13:34:44.996171.csv']\n",
        "#                       + '/artsy_temp_data_2022-04-06 14:58:06.086053.csv'\n",
        "#\n",
        "#backup_names_cat_05 = ['/artsy_temp_data_2022-04-06 16:39:34.236815.csv',\n",
        "#                       '/artsy_temp_data_2022-04-06 17:49:37.250209.csv']\n",
        "#                       + \n",
        "#                      ['/artsy_temp_data_2022-04-15 07:46:32.183547.csv',\n",
        "#                       '/artsy_temp_data_2022-04-15 07:56:14.144004.csv']\n",
        "#\n",
        "#backup_names_cat_11 = ['/artsy_temp_data_2022-04-08 06:51:14.997844.csv',\n",
        "#                       '/artsy_temp_data_2022-04-08 07:08:01.411081.csv']\n",
        "#                       +\n",
        "#                       '/artsy_temp_data_2022-04-18 09:50:37.600100.csv'\n",
        "#\n",
        "#backup_names_cat_08 = ['/artsy_temp_data_2022-04-08 08:57:02.093364.csv',\n",
        "#                       '/artsy_temp_data_2022-04-08 10:40:21.922750.csv']\n",
        "#                       +\n",
        "#                       '/artsy_temp_data_2022-04-18 12:02:55.479950.csv',\n",
        "#                       '/artsy_temp_data_2022-04-18 12:43:06.028716.csv'\n",
        "#                       +\n",
        "#                       '/artsy_temp_data_2022-04-18 14:06:13.761778.csv'\n",
        "#\n",
        "#backup_names_cat_09 = ['/artsy_temp_data_2022-04-08 12:02:03.429937.csv',\n",
        "#                       '/artsy_temp_data_2022-04-08 12:20:19.139091.csv',\n",
        "#                       '/artsy_temp_data_2022-04-08 12:50:03.398655.csv',\n",
        "#                       '/artsy_temp_data_2022-04-08 13:09:14.315180.csv']\n",
        "#                       +\n",
        "#                       '/artsy_temp_data_2022-04-18 15:58:00.276252.csv',\n",
        "#                       +\n",
        "#                       '/artsy_temp_data_2022-04-18 16:07:15.086943.csv'\n",
        "#\n",
        "#backup_names_cat_12 = ['/artsy_temp_data_2022-04-19 09:23:10.775068.csv',\n",
        "#                       '/artsy_temp_data_2022-04-19 09:44:44.394285.csv']\n",
        "#                       +\n",
        "#                       '/artsy_temp_data_2022-04-19 10:51:43.926261.csv'\n",
        "#\n",
        "#backup_names_cat_04 = ['/artsy_temp_data_2022-04-08 15:20:14.101746.csv']\n",
        "#                       +\n",
        "#                       '/artsy_temp_data_2022-04-19 04:08:43.691739.csv'\n",
        "#\n",
        "#backup_names_cat_10 = ['/artsy_temp_data_2022-04-19 07:35:01.334592.csv',\n",
        "#                       '/artsy_temp_data_2022-04-19 07:48:03.359223.csv']\n",
        "#                       +\n",
        "#                       '/artsy_temp_data_2022-04-19 08:11:46.261977.csv'\n",
        "#\n",
        "#backup_names_cat_07 = ['/artsy_temp_data_2022-04-09 04:15:24.907317.csv',\n",
        "#                       '/artsy_temp_data_2022-04-09 05:05:55.273163.csv']\n",
        "#                       +\n",
        "#                       '/artsy_temp_data_2022-04-19 04:48:56.712756.csv'\n",
        "#\n",
        "#backup_names_cat_15 = ['/artsy_temp_data_2022-04-09 05:29:21.939929.csv']\n",
        "#                       +\n",
        "#                       '/artsy_temp_data_2022-04-19 05:22:25.192914.csv'\n",
        "#\n",
        "#backup_names_cat_01 = ['/artsy_temp_data_2022-04-09 05:43:38.333522.csv']\n",
        "#\n",
        "#backup_names_cat_14 = ['/artsy_temp_data_2022-04-09 06:01:02.568000.csv']\n",
        "#\n",
        "#backup_names_cat_16 = ['/artsy_temp_data_2022-04-09 06:22:33.619264.csv']\n",
        "#\n",
        "#backup_names_cat_13 = ['/artsy_temp_data_2022-04-09 06:44:32.738152.csv']\n",
        "#                       +\n",
        "#                       '/artsy_temp_data_2022-04-19 07:06:37.297601.csv'"
      ]
    },
    {
      "cell_type": "markdown",
      "metadata": {
        "id": "4ZdNrih8--Ga"
      },
      "source": [
        "#### Addition and Updating"
      ]
    },
    {
      "cell_type": "code",
      "source": [
        "backup_names = []"
      ],
      "metadata": {
        "id": "Wq-zmMlPXVEh"
      },
      "execution_count": 446,
      "outputs": []
    },
    {
      "cell_type": "code",
      "source": [
        "len(genes_ids_list)"
      ],
      "metadata": {
        "colab": {
          "base_uri": "https://localhost:8080/"
        },
        "id": "ql8hO8FpZEyM",
        "outputId": "096ede85-c3b8-44ea-dda5-a2ba103c89a6"
      },
      "execution_count": 443,
      "outputs": [
        {
          "output_type": "execute_result",
          "data": {
            "text/plain": [
              "129"
            ]
          },
          "metadata": {},
          "execution_count": 443
        }
      ]
    },
    {
      "cell_type": "code",
      "source": [
        "len(genes_links_list_er)"
      ],
      "metadata": {
        "colab": {
          "base_uri": "https://localhost:8080/"
        },
        "id": "jpXxg5Dtv8r3",
        "outputId": "e55667c0-e259-4a6e-ff5c-9e32e05e5f71"
      },
      "execution_count": 146,
      "outputs": [
        {
          "output_type": "execute_result",
          "data": {
            "text/plain": [
              "1"
            ]
          },
          "metadata": {},
          "execution_count": 146
        }
      ]
    },
    {
      "cell_type": "code",
      "execution_count": 444,
      "metadata": {
        "id": "8XZ3J9vY--8T",
        "colab": {
          "base_uri": "https://localhost:8080/"
        },
        "outputId": "291971cd-83b8-4026-e759-715db8273519"
      },
      "outputs": [
        {
          "output_type": "stream",
          "name": "stderr",
          "text": [
            "Starting new HTTPS connection (1): www.artsy.net:443\n"
          ]
        },
        {
          "output_type": "stream",
          "name": "stdout",
          "text": [
            "11:47:04.018766\n",
            "Parsing of gene 03142 https://www.artsy.net/gene/hyperrealism-and-photorealism?page=2&sort=-published_at has started\n"
          ]
        },
        {
          "output_type": "stream",
          "name": "stderr",
          "text": [
            "https://www.artsy.net:443 \"GET /gene/hyperrealism-and-photorealism?page=2&sort=-published_at HTTP/1.1\" 200 None\n"
          ]
        },
        {
          "output_type": "stream",
          "name": "stdout",
          "text": [
            "1 pages for parsing\n",
            "Parsing of gene 03142 https://www.artsy.net/gene/hyperrealism-and-photorealism?page=2&sort=-published_at has finished\n",
            "17.67570424079895 seconds have passed\n",
            "11:47:21.694525\n",
            "\n",
            "Parsing of gene 07009 https://www.artsy.net/gene/19th-century?page=2&sort=-published_at has started\n"
          ]
        },
        {
          "output_type": "stream",
          "name": "stderr",
          "text": [
            "https://www.artsy.net:443 \"GET /gene/19th-century?page=2&sort=-published_at HTTP/1.1\" 200 None\n"
          ]
        },
        {
          "output_type": "stream",
          "name": "stdout",
          "text": [
            "1 pages for parsing\n",
            "Parsing of gene 07009 https://www.artsy.net/gene/19th-century?page=2&sort=-published_at has finished\n",
            "20.89035415649414 seconds have passed\n",
            "11:47:24.910196\n",
            "\n",
            "Parsing of gene 07010 https://www.artsy.net/gene/21st-century?page=2&sort=-published_at has started\n"
          ]
        },
        {
          "output_type": "stream",
          "name": "stderr",
          "text": [
            "https://www.artsy.net:443 \"GET /gene/21st-century?page=2&sort=-published_at HTTP/1.1\" 200 None\n"
          ]
        },
        {
          "output_type": "stream",
          "name": "stdout",
          "text": [
            "1 pages for parsing\n",
            "Parsing of gene 07010 https://www.artsy.net/gene/21st-century?page=2&sort=-published_at has finished\n",
            "23.518813133239746 seconds have passed\n",
            "11:47:27.539610\n",
            "\n",
            "Parsing of gene 03120 https://www.artsy.net/gene/figurative-art?page=2&sort=-published_at has started\n"
          ]
        },
        {
          "output_type": "stream",
          "name": "stderr",
          "text": [
            "https://www.artsy.net:443 \"GET /gene/figurative-art?page=2&sort=-published_at HTTP/1.1\" 200 None\n"
          ]
        },
        {
          "output_type": "stream",
          "name": "stdout",
          "text": [
            "1 pages for parsing\n",
            "Parsing of gene 03120 https://www.artsy.net/gene/figurative-art?page=2&sort=-published_at has finished\n",
            "25.436293125152588 seconds have passed\n",
            "11:47:29.455125\n",
            "\n",
            "Parsing of gene 07013 https://www.artsy.net/gene/1960s?page=2&sort=-published_at has started\n"
          ]
        },
        {
          "output_type": "stream",
          "name": "stderr",
          "text": [
            "https://www.artsy.net:443 \"GET /gene/1960s?page=2&sort=-published_at HTTP/1.1\" 200 None\n"
          ]
        },
        {
          "output_type": "stream",
          "name": "stdout",
          "text": [
            "1 pages for parsing\n",
            "Parsing of gene 07013 https://www.artsy.net/gene/1960s?page=2&sort=-published_at has finished\n",
            "27.520455360412598 seconds have passed\n",
            "11:47:31.539280\n",
            "\n",
            "Parsing of gene 08049 https://www.artsy.net/gene/new-york-artists?page=2&sort=-published_at has started\n"
          ]
        },
        {
          "output_type": "stream",
          "name": "stderr",
          "text": [
            "https://www.artsy.net:443 \"GET /gene/new-york-artists?page=2&sort=-published_at HTTP/1.1\" 200 None\n"
          ]
        },
        {
          "output_type": "stream",
          "name": "stdout",
          "text": [
            "1 pages for parsing\n",
            "Parsing of gene 08049 https://www.artsy.net/gene/new-york-artists?page=2&sort=-published_at has finished\n",
            "32.2415816783905 seconds have passed\n",
            "11:47:36.260397\n",
            "\n",
            "Parsing of gene 03056 https://www.artsy.net/gene/contemporary-art?page=2&sort=-published_at has started\n"
          ]
        },
        {
          "output_type": "stream",
          "name": "stderr",
          "text": [
            "https://www.artsy.net:443 \"GET /gene/contemporary-art?page=2&sort=-published_at HTTP/1.1\" 200 None\n"
          ]
        },
        {
          "output_type": "stream",
          "name": "stdout",
          "text": [
            "1 pages for parsing\n",
            "Parsing of gene 03056 https://www.artsy.net/gene/contemporary-art?page=2&sort=-published_at has finished\n",
            "34.69404983520508 seconds have passed\n",
            "11:47:38.712877\n",
            "\n",
            "Parsing of gene 03129 https://www.artsy.net/gene/gestural-abstraction?page=2&sort=-published_at has started\n"
          ]
        },
        {
          "output_type": "stream",
          "name": "stderr",
          "text": [
            "https://www.artsy.net:443 \"GET /gene/gestural-abstraction?page=2&sort=-published_at HTTP/1.1\" 200 None\n"
          ]
        },
        {
          "output_type": "stream",
          "name": "stdout",
          "text": [
            "1 pages for parsing\n",
            "Parsing of gene 03129 https://www.artsy.net/gene/gestural-abstraction?page=2&sort=-published_at has finished\n",
            "36.89711046218872 seconds have passed\n",
            "11:47:40.916264\n",
            "\n",
            "Parsing of gene 06097 https://www.artsy.net/gene/mixed-media?page=2&sort=-published_at has started\n"
          ]
        },
        {
          "output_type": "stream",
          "name": "stderr",
          "text": [
            "https://www.artsy.net:443 \"GET /gene/mixed-media?page=2&sort=-published_at HTTP/1.1\" 200 None\n"
          ]
        },
        {
          "output_type": "stream",
          "name": "stdout",
          "text": [
            "1 pages for parsing\n",
            "Parsing of gene 06097 https://www.artsy.net/gene/mixed-media?page=2&sort=-published_at has finished\n",
            "40.05048322677612 seconds have passed\n",
            "11:47:44.069638\n",
            "\n",
            "Parsing of gene 05051 https://www.artsy.net/gene/patterns?page=2&sort=-published_at has started\n"
          ]
        },
        {
          "output_type": "stream",
          "name": "stderr",
          "text": [
            "https://www.artsy.net:443 \"GET /gene/patterns?page=2&sort=-published_at HTTP/1.1\" 200 None\n"
          ]
        },
        {
          "output_type": "stream",
          "name": "stdout",
          "text": [
            "1 pages for parsing\n",
            "Parsing of gene 05051 https://www.artsy.net/gene/patterns?page=2&sort=-published_at has finished\n",
            "43.34674525260925 seconds have passed\n",
            "11:47:47.365570\n",
            "\n"
          ]
        },
        {
          "output_type": "stream",
          "name": "stderr",
          "text": [
            "Starting new HTTPS connection (1): www.artsy.net:443\n"
          ]
        },
        {
          "output_type": "stream",
          "name": "stdout",
          "text": [
            "Parsing of gene 07015 https://www.artsy.net/gene/1980s?page=2&sort=-published_at has started\n"
          ]
        },
        {
          "output_type": "stream",
          "name": "stderr",
          "text": [
            "https://www.artsy.net:443 \"GET /gene/1980s?page=2&sort=-published_at HTTP/1.1\" 200 None\n"
          ]
        },
        {
          "output_type": "stream",
          "name": "stdout",
          "text": [
            "1 pages for parsing\n",
            "Parsing of gene 07015 https://www.artsy.net/gene/1980s?page=2&sort=-published_at has finished\n",
            "45.76797127723694 seconds have passed\n",
            "11:47:49.786795\n",
            "\n",
            "Parsing of gene 03013 https://www.artsy.net/gene/abstract-versus-figurative-art?page=2&sort=-published_at has started\n"
          ]
        },
        {
          "output_type": "stream",
          "name": "stderr",
          "text": [
            "https://www.artsy.net:443 \"GET /gene/abstract-versus-figurative-art?page=2&sort=-published_at HTTP/1.1\" 200 None\n"
          ]
        },
        {
          "output_type": "stream",
          "name": "stdout",
          "text": [
            "1 pages for parsing\n",
            "Parsing of gene 03013 https://www.artsy.net/gene/abstract-versus-figurative-art?page=2&sort=-published_at has finished\n",
            "47.8823766708374 seconds have passed\n",
            "11:47:51.901195\n",
            "\n",
            "Parsing of gene 06122 https://www.artsy.net/gene/photography?page=2&sort=-published_at has started\n"
          ]
        },
        {
          "output_type": "stream",
          "name": "stderr",
          "text": [
            "https://www.artsy.net:443 \"GET /gene/photography?page=2&sort=-published_at HTTP/1.1\" 200 None\n"
          ]
        },
        {
          "output_type": "stream",
          "name": "stdout",
          "text": [
            "1 pages for parsing\n",
            "Parsing of gene 06122 https://www.artsy.net/gene/photography?page=2&sort=-published_at has finished\n",
            "50.9878032207489 seconds have passed\n",
            "11:47:55.006625\n",
            "\n",
            "Parsing of gene 05026 https://www.artsy.net/gene/earth-tones?page=2&sort=-published_at has started\n"
          ]
        },
        {
          "output_type": "stream",
          "name": "stderr",
          "text": [
            "https://www.artsy.net:443 \"GET /gene/earth-tones?page=2&sort=-published_at HTTP/1.1\" 200 None\n"
          ]
        },
        {
          "output_type": "stream",
          "name": "stdout",
          "text": [
            "1 pages for parsing\n",
            "Parsing of gene 05026 https://www.artsy.net/gene/earth-tones?page=2&sort=-published_at has finished\n",
            "53.02536964416504 seconds have passed\n",
            "11:47:57.044197\n",
            "\n",
            "Parsing of gene 03057 https://www.artsy.net/gene/contemporary-asian-art?page=2&sort=-published_at has started\n"
          ]
        },
        {
          "output_type": "stream",
          "name": "stderr",
          "text": [
            "https://www.artsy.net:443 \"GET /gene/contemporary-asian-art?page=2&sort=-published_at HTTP/1.1\" 200 None\n"
          ]
        },
        {
          "output_type": "stream",
          "name": "stdout",
          "text": [
            "1 pages for parsing\n",
            "Parsing of gene 03057 https://www.artsy.net/gene/contemporary-asian-art?page=2&sort=-published_at has finished\n",
            "55.8428750038147 seconds have passed\n",
            "11:47:59.861710\n",
            "\n",
            "Parsing of gene 08002 https://www.artsy.net/gene/united-states?page=2&sort=-published_at has started\n"
          ]
        },
        {
          "output_type": "stream",
          "name": "stderr",
          "text": [
            "https://www.artsy.net:443 \"GET /gene/united-states?page=2&sort=-published_at HTTP/1.1\" 200 None\n"
          ]
        },
        {
          "output_type": "stream",
          "name": "stdout",
          "text": [
            "1 pages for parsing\n",
            "Parsing of gene 08002 https://www.artsy.net/gene/united-states?page=2&sort=-published_at has finished\n",
            "57.72470450401306 seconds have passed\n",
            "11:48:01.744208\n",
            "\n",
            "Parsing of gene 02040 https://www.artsy.net/gene/cultural-commentary?page=2&sort=-published_at has started\n"
          ]
        },
        {
          "output_type": "stream",
          "name": "stderr",
          "text": [
            "https://www.artsy.net:443 \"GET /gene/cultural-commentary?page=2&sort=-published_at HTTP/1.1\" 200 None\n"
          ]
        },
        {
          "output_type": "stream",
          "name": "stdout",
          "text": [
            "1 pages for parsing\n",
            "Parsing of gene 02040 https://www.artsy.net/gene/cultural-commentary?page=2&sort=-published_at has finished\n",
            "59.57631826400757 seconds have passed\n",
            "11:48:03.595447\n",
            "\n",
            "Parsing of gene 06078 https://www.artsy.net/gene/intentionally-exposed-canvas?page=2&sort=-published_at has started\n"
          ]
        },
        {
          "output_type": "stream",
          "name": "stderr",
          "text": [
            "https://www.artsy.net:443 \"GET /gene/intentionally-exposed-canvas?page=2&sort=-published_at HTTP/1.1\" 200 None\n"
          ]
        },
        {
          "output_type": "stream",
          "name": "stdout",
          "text": [
            "1 pages for parsing\n",
            "Parsing of gene 06078 https://www.artsy.net/gene/intentionally-exposed-canvas?page=2&sort=-published_at has finished\n",
            "61.68018627166748 seconds have passed\n",
            "11:48:05.699436\n",
            "\n",
            "Parsing of gene 08004 https://www.artsy.net/gene/latin-america-and-the-caribbean?page=2&sort=-published_at has started\n"
          ]
        },
        {
          "output_type": "stream",
          "name": "stderr",
          "text": [
            "https://www.artsy.net:443 \"GET /gene/latin-america-and-the-caribbean?page=2&sort=-published_at HTTP/1.1\" 200 None\n"
          ]
        },
        {
          "output_type": "stream",
          "name": "stdout",
          "text": [
            "1 pages for parsing\n",
            "Parsing of gene 08004 https://www.artsy.net/gene/latin-america-and-the-caribbean?page=2&sort=-published_at has finished\n",
            "63.93706560134888 seconds have passed\n",
            "11:48:07.955905\n",
            "\n",
            "Parsing of gene 08031 https://www.artsy.net/gene/germany?page=2&sort=-published_at has started\n"
          ]
        },
        {
          "output_type": "stream",
          "name": "stderr",
          "text": [
            "https://www.artsy.net:443 \"GET /gene/germany?page=2&sort=-published_at HTTP/1.1\" 200 None\n"
          ]
        },
        {
          "output_type": "stream",
          "name": "stdout",
          "text": [
            "1 pages for parsing\n",
            "Parsing of gene 08031 https://www.artsy.net/gene/germany?page=2&sort=-published_at has finished\n",
            "66.24959754943848 seconds have passed\n",
            "11:48:10.268730\n",
            "\n"
          ]
        },
        {
          "output_type": "stream",
          "name": "stderr",
          "text": [
            "Starting new HTTPS connection (1): www.artsy.net:443\n"
          ]
        },
        {
          "output_type": "stream",
          "name": "stdout",
          "text": [
            "Parsing of gene 02105 https://www.artsy.net/gene/machines?page=2&sort=-published_at has started\n"
          ]
        },
        {
          "output_type": "stream",
          "name": "stderr",
          "text": [
            "https://www.artsy.net:443 \"GET /gene/machines?page=2&sort=-published_at HTTP/1.1\" 200 None\n"
          ]
        },
        {
          "output_type": "stream",
          "name": "stdout",
          "text": [
            "1 pages for parsing\n",
            "Parsing of gene 02105 https://www.artsy.net/gene/machines?page=2&sort=-published_at has finished\n",
            "68.66007900238037 seconds have passed\n",
            "11:48:12.679546\n",
            "\n",
            "Parsing of gene 08013 https://www.artsy.net/gene/brooklyn-artists?page=2&sort=-published_at has started\n"
          ]
        },
        {
          "output_type": "stream",
          "name": "stderr",
          "text": [
            "https://www.artsy.net:443 \"GET /gene/brooklyn-artists?page=2&sort=-published_at HTTP/1.1\" 200 None\n"
          ]
        },
        {
          "output_type": "stream",
          "name": "stdout",
          "text": [
            "1 pages for parsing\n",
            "Parsing of gene 08013 https://www.artsy.net/gene/brooklyn-artists?page=2&sort=-published_at has finished\n",
            "71.19059705734253 seconds have passed\n",
            "11:48:15.209724\n",
            "\n",
            "Parsing of gene 08052 https://www.artsy.net/gene/paris-artists?page=2&sort=-published_at has started\n"
          ]
        },
        {
          "output_type": "stream",
          "name": "stderr",
          "text": [
            "https://www.artsy.net:443 \"GET /gene/paris-artists?page=2&sort=-published_at HTTP/1.1\" 200 None\n"
          ]
        },
        {
          "output_type": "stream",
          "name": "stdout",
          "text": [
            "1 pages for parsing\n",
            "Parsing of gene 08052 https://www.artsy.net/gene/paris-artists?page=2&sort=-published_at has finished\n",
            "73.4054069519043 seconds have passed\n",
            "11:48:17.424232\n",
            "\n",
            "Parsing of gene 08010 https://www.artsy.net/gene/berlin-artists?page=2&sort=-published_at has started\n"
          ]
        },
        {
          "output_type": "stream",
          "name": "stderr",
          "text": [
            "https://www.artsy.net:443 \"GET /gene/berlin-artists?page=2&sort=-published_at HTTP/1.1\" 200 None\n"
          ]
        },
        {
          "output_type": "stream",
          "name": "stdout",
          "text": [
            "1 pages for parsing\n",
            "Parsing of gene 08010 https://www.artsy.net/gene/berlin-artists?page=2&sort=-published_at has finished\n",
            "75.89641380310059 seconds have passed\n",
            "11:48:19.915556\n",
            "\n",
            "Parsing of gene 02155 https://www.artsy.net/gene/representations-of-everyday-objects?page=2&sort=-published_at has started\n"
          ]
        },
        {
          "output_type": "stream",
          "name": "stderr",
          "text": [
            "https://www.artsy.net:443 \"GET /gene/representations-of-everyday-objects?page=2&sort=-published_at HTTP/1.1\" 200 None\n"
          ]
        },
        {
          "output_type": "stream",
          "name": "stdout",
          "text": [
            "1 pages for parsing\n",
            "Parsing of gene 02155 https://www.artsy.net/gene/representations-of-everyday-objects?page=2&sort=-published_at has finished\n",
            "77.90988779067993 seconds have passed\n",
            "11:48:21.929073\n",
            "\n",
            "Parsing of gene 08014 https://www.artsy.net/gene/california-art?page=2&sort=-published_at has started\n"
          ]
        },
        {
          "output_type": "stream",
          "name": "stderr",
          "text": [
            "https://www.artsy.net:443 \"GET /gene/california-art?page=2&sort=-published_at HTTP/1.1\" 200 None\n"
          ]
        },
        {
          "output_type": "stream",
          "name": "stdout",
          "text": [
            "1 pages for parsing\n",
            "Parsing of gene 08014 https://www.artsy.net/gene/california-art?page=2&sort=-published_at has finished\n",
            "80.26734185218811 seconds have passed\n",
            "11:48:24.286474\n",
            "\n",
            "Parsing of gene 03054 https://www.artsy.net/gene/contemporary-african-art?page=2&sort=-published_at has started\n"
          ]
        },
        {
          "output_type": "stream",
          "name": "stderr",
          "text": [
            "https://www.artsy.net:443 \"GET /gene/contemporary-african-art?page=2&sort=-published_at HTTP/1.1\" 200 None\n"
          ]
        },
        {
          "output_type": "stream",
          "name": "stdout",
          "text": [
            "1 pages for parsing\n",
            "Parsing of gene 03054 https://www.artsy.net/gene/contemporary-african-art?page=2&sort=-published_at has finished\n",
            "82.1971709728241 seconds have passed\n",
            "11:48:26.216325\n",
            "\n",
            "Parsing of gene 06123 https://www.artsy.net/gene/photojournalism?page=2&sort=-published_at has started\n"
          ]
        },
        {
          "output_type": "stream",
          "name": "stderr",
          "text": [
            "https://www.artsy.net:443 \"GET /gene/photojournalism?page=2&sort=-published_at HTTP/1.1\" 200 None\n"
          ]
        },
        {
          "output_type": "stream",
          "name": "stdout",
          "text": [
            "1 pages for parsing\n",
            "Parsing of gene 06123 https://www.artsy.net/gene/photojournalism?page=2&sort=-published_at has finished\n",
            "85.1695909500122 seconds have passed\n",
            "11:48:29.188422\n",
            "\n",
            "Parsing of gene 02161 https://www.artsy.net/gene/science?page=2&sort=-published_at has started\n"
          ]
        },
        {
          "output_type": "stream",
          "name": "stderr",
          "text": [
            "https://www.artsy.net:443 \"GET /gene/science?page=2&sort=-published_at HTTP/1.1\" 200 None\n"
          ]
        },
        {
          "output_type": "stream",
          "name": "stdout",
          "text": [
            "1 pages for parsing\n",
            "Parsing of gene 02161 https://www.artsy.net/gene/science?page=2&sort=-published_at has finished\n",
            "87.32084035873413 seconds have passed\n",
            "11:48:31.339665\n",
            "\n",
            "Parsing of gene 07014 https://www.artsy.net/gene/1970s?page=2&sort=-published_at has started\n"
          ]
        },
        {
          "output_type": "stream",
          "name": "stderr",
          "text": [
            "https://www.artsy.net:443 \"GET /gene/1970s?page=2&sort=-published_at HTTP/1.1\" 200 None\n"
          ]
        },
        {
          "output_type": "stream",
          "name": "stdout",
          "text": [
            "1 pages for parsing\n",
            "Parsing of gene 07014 https://www.artsy.net/gene/1970s?page=2&sort=-published_at has finished\n",
            "89.74257516860962 seconds have passed\n",
            "11:48:33.761399\n",
            "\n"
          ]
        },
        {
          "output_type": "stream",
          "name": "stderr",
          "text": [
            "Starting new HTTPS connection (1): www.artsy.net:443\n"
          ]
        },
        {
          "output_type": "stream",
          "name": "stdout",
          "text": [
            "Parsing of gene 07017 https://www.artsy.net/gene/1970-present?page=2&sort=-published_at has started\n"
          ]
        },
        {
          "output_type": "stream",
          "name": "stderr",
          "text": [
            "https://www.artsy.net:443 \"GET /gene/1970-present?page=2&sort=-published_at HTTP/1.1\" 200 None\n"
          ]
        },
        {
          "output_type": "stream",
          "name": "stdout",
          "text": [
            "1 pages for parsing\n",
            "Parsing of gene 07017 https://www.artsy.net/gene/1970-present?page=2&sort=-published_at has finished\n",
            "91.86693239212036 seconds have passed\n",
            "11:48:35.885761\n",
            "\n",
            "Parsing of gene 08009 https://www.artsy.net/gene/belgium?page=2&sort=-published_at has started\n"
          ]
        },
        {
          "output_type": "stream",
          "name": "stderr",
          "text": [
            "https://www.artsy.net:443 \"GET /gene/belgium?page=2&sort=-published_at HTTP/1.1\" 200 None\n"
          ]
        },
        {
          "output_type": "stream",
          "name": "stdout",
          "text": [
            "1 pages for parsing\n",
            "Parsing of gene 08009 https://www.artsy.net/gene/belgium?page=2&sort=-published_at has finished\n",
            "94.6225209236145 seconds have passed\n",
            "11:48:38.641347\n",
            "\n",
            "Parsing of gene 08022 https://www.artsy.net/gene/the-netherlands?page=2&sort=-published_at has started\n"
          ]
        },
        {
          "output_type": "stream",
          "name": "stderr",
          "text": [
            "https://www.artsy.net:443 \"GET /gene/the-netherlands?page=2&sort=-published_at HTTP/1.1\" 200 None\n"
          ]
        },
        {
          "output_type": "stream",
          "name": "stdout",
          "text": [
            "1 pages for parsing\n",
            "Parsing of gene 08022 https://www.artsy.net/gene/the-netherlands?page=2&sort=-published_at has finished\n",
            "96.95516157150269 seconds have passed\n",
            "11:48:40.973989\n",
            "\n",
            "Parsing of gene 06171 https://www.artsy.net/gene/wall-sculpture-and-installation?page=2&sort=-published_at has started\n"
          ]
        },
        {
          "output_type": "stream",
          "name": "stderr",
          "text": [
            "https://www.artsy.net:443 \"GET /gene/wall-sculpture-and-installation?page=2&sort=-published_at HTTP/1.1\" 200 None\n"
          ]
        },
        {
          "output_type": "stream",
          "name": "stdout",
          "text": [
            "1 pages for parsing\n",
            "Parsing of gene 06171 https://www.artsy.net/gene/wall-sculpture-and-installation?page=2&sort=-published_at has finished\n",
            "103.62338209152222 seconds have passed\n",
            "11:48:47.642517\n",
            "\n",
            "Parsing of gene 06172 https://www.artsy.net/gene/watercolor?page=2&sort=-published_at has started\n"
          ]
        },
        {
          "output_type": "stream",
          "name": "stderr",
          "text": [
            "https://www.artsy.net:443 \"GET /gene/watercolor?page=2&sort=-published_at HTTP/1.1\" 200 None\n"
          ]
        },
        {
          "output_type": "stream",
          "name": "stdout",
          "text": [
            "1 pages for parsing\n",
            "Parsing of gene 06172 https://www.artsy.net/gene/watercolor?page=2&sort=-published_at has finished\n",
            "105.95556259155273 seconds have passed\n",
            "11:48:49.974400\n",
            "\n",
            "Parsing of gene 05008 https://www.artsy.net/gene/black-and-white?page=2&sort=-published_at has started\n"
          ]
        },
        {
          "output_type": "stream",
          "name": "stderr",
          "text": [
            "https://www.artsy.net:443 \"GET /gene/black-and-white?page=2&sort=-published_at HTTP/1.1\" 200 None\n"
          ]
        },
        {
          "output_type": "stream",
          "name": "stdout",
          "text": [
            "1 pages for parsing\n",
            "Parsing of gene 05008 https://www.artsy.net/gene/black-and-white?page=2&sort=-published_at has finished\n",
            "108.42264366149902 seconds have passed\n",
            "11:48:52.441471\n",
            "\n",
            "Parsing of gene 02030 https://www.artsy.net/gene/cityscapes-and-city-scenes?page=2&sort=-published_at has started\n"
          ]
        },
        {
          "output_type": "stream",
          "name": "stderr",
          "text": [
            "https://www.artsy.net:443 \"GET /gene/cityscapes-and-city-scenes?page=2&sort=-published_at HTTP/1.1\" 200 None\n"
          ]
        },
        {
          "output_type": "stream",
          "name": "stdout",
          "text": [
            "1 pages for parsing\n",
            "Parsing of gene 02030 https://www.artsy.net/gene/cityscapes-and-city-scenes?page=2&sort=-published_at has finished\n",
            "111.3919563293457 seconds have passed\n",
            "11:48:55.411142\n",
            "\n",
            "Parsing of gene 06072 https://www.artsy.net/gene/illustration?page=2&sort=-published_at has started\n"
          ]
        },
        {
          "output_type": "stream",
          "name": "stderr",
          "text": [
            "https://www.artsy.net:443 \"GET /gene/illustration?page=2&sort=-published_at HTTP/1.1\" 200 None\n"
          ]
        },
        {
          "output_type": "stream",
          "name": "stdout",
          "text": [
            "1 pages for parsing\n",
            "Parsing of gene 06072 https://www.artsy.net/gene/illustration?page=2&sort=-published_at has finished\n",
            "114.31003212928772 seconds have passed\n",
            "11:48:58.328860\n",
            "\n",
            "Parsing of gene 07008 https://www.artsy.net/gene/1940s-1950s?page=2&sort=-published_at has started\n"
          ]
        },
        {
          "output_type": "stream",
          "name": "stderr",
          "text": [
            "https://www.artsy.net:443 \"GET /gene/1940s-1950s?page=2&sort=-published_at HTTP/1.1\" 200 None\n"
          ]
        },
        {
          "output_type": "stream",
          "name": "stdout",
          "text": [
            "1 pages for parsing\n",
            "Parsing of gene 07008 https://www.artsy.net/gene/1940s-1950s?page=2&sort=-published_at has finished\n",
            "117.59549021720886 seconds have passed\n",
            "11:49:01.614308\n",
            "\n",
            "Parsing of gene 02180 https://www.artsy.net/gene/technology?page=2&sort=-published_at has started\n"
          ]
        },
        {
          "output_type": "stream",
          "name": "stderr",
          "text": [
            "https://www.artsy.net:443 \"GET /gene/technology?page=2&sort=-published_at HTTP/1.1\" 200 None\n"
          ]
        },
        {
          "output_type": "stream",
          "name": "stdout",
          "text": [
            "1 pages for parsing\n",
            "Parsing of gene 02180 https://www.artsy.net/gene/technology?page=2&sort=-published_at has finished\n",
            "119.91376972198486 seconds have passed\n",
            "11:49:03.932592\n",
            "\n"
          ]
        },
        {
          "output_type": "stream",
          "name": "stderr",
          "text": [
            "Starting new HTTPS connection (1): www.artsy.net:443\n"
          ]
        },
        {
          "output_type": "stream",
          "name": "stdout",
          "text": [
            "Parsing of gene 08056 https://www.artsy.net/gene/scandinavia?page=2&sort=-published_at has started\n"
          ]
        },
        {
          "output_type": "stream",
          "name": "stderr",
          "text": [
            "https://www.artsy.net:443 \"GET /gene/scandinavia?page=2&sort=-published_at HTTP/1.1\" 200 None\n"
          ]
        },
        {
          "output_type": "stream",
          "name": "stdout",
          "text": [
            "1 pages for parsing\n",
            "Parsing of gene 08056 https://www.artsy.net/gene/scandinavia?page=2&sort=-published_at has finished\n",
            "122.29723238945007 seconds have passed\n",
            "11:49:06.316060\n",
            "\n",
            "Parsing of gene 03248 https://www.artsy.net/gene/women-artists?page=2&sort=-published_at has started\n"
          ]
        },
        {
          "output_type": "stream",
          "name": "stderr",
          "text": [
            "https://www.artsy.net:443 \"GET /gene/women-artists?page=2&sort=-published_at HTTP/1.1\" 200 None\n"
          ]
        },
        {
          "output_type": "stream",
          "name": "stdout",
          "text": [
            "1 pages for parsing\n",
            "Parsing of gene 03248 https://www.artsy.net/gene/women-artists?page=2&sort=-published_at has finished\n",
            "124.74870586395264 seconds have passed\n",
            "11:49:08.768874\n",
            "\n",
            "Parsing of gene 07016 https://www.artsy.net/gene/1990s?page=2&sort=-published_at has started\n"
          ]
        },
        {
          "output_type": "stream",
          "name": "stderr",
          "text": [
            "https://www.artsy.net:443 \"GET /gene/1990s?page=2&sort=-published_at HTTP/1.1\" 200 None\n"
          ]
        },
        {
          "output_type": "stream",
          "name": "stdout",
          "text": [
            "1 pages for parsing\n",
            "Parsing of gene 07016 https://www.artsy.net/gene/1990s?page=2&sort=-published_at has finished\n",
            "128.138601064682 seconds have passed\n",
            "11:49:12.157423\n",
            "\n",
            "Parsing of gene 03053 https://www.artsy.net/gene/contemporary-academic-realism?page=2&sort=-published_at has started\n"
          ]
        },
        {
          "output_type": "stream",
          "name": "stderr",
          "text": [
            "https://www.artsy.net:443 \"GET /gene/contemporary-academic-realism?page=2&sort=-published_at HTTP/1.1\" 200 None\n"
          ]
        },
        {
          "output_type": "stream",
          "name": "stdout",
          "text": [
            "1 pages for parsing\n",
            "Parsing of gene 03053 https://www.artsy.net/gene/contemporary-academic-realism?page=2&sort=-published_at has finished\n",
            "130.77439141273499 seconds have passed\n",
            "11:49:14.793219\n",
            "\n",
            "Parsing of gene 06025 https://www.artsy.net/gene/close-up?page=2&sort=-published_at has started\n"
          ]
        },
        {
          "output_type": "stream",
          "name": "stderr",
          "text": [
            "https://www.artsy.net:443 \"GET /gene/close-up?page=2&sort=-published_at HTTP/1.1\" 200 None\n"
          ]
        },
        {
          "output_type": "stream",
          "name": "stdout",
          "text": [
            "1 pages for parsing\n",
            "Parsing of gene 06025 https://www.artsy.net/gene/close-up?page=2&sort=-published_at has finished\n",
            "132.80020928382874 seconds have passed\n",
            "11:49:16.819035\n",
            "\n",
            "Parsing of gene 06111 https://www.artsy.net/gene/painting?page=2&sort=-published_at has started\n"
          ]
        },
        {
          "output_type": "stream",
          "name": "stderr",
          "text": [
            "https://www.artsy.net:443 \"GET /gene/painting?page=2&sort=-published_at HTTP/1.1\" 200 None\n"
          ]
        },
        {
          "output_type": "stream",
          "name": "stdout",
          "text": [
            "1 pages for parsing\n",
            "Parsing of gene 06111 https://www.artsy.net/gene/painting?page=2&sort=-published_at has finished\n",
            "135.28411674499512 seconds have passed\n",
            "11:49:19.302992\n",
            "\n",
            "Parsing of gene 06153 https://www.artsy.net/gene/splattered-slash-dripped?page=2&sort=-published_at has started\n"
          ]
        },
        {
          "output_type": "stream",
          "name": "stderr",
          "text": [
            "https://www.artsy.net:443 \"GET /gene/splattered-slash-dripped?page=2&sort=-published_at HTTP/1.1\" 200 None\n"
          ]
        },
        {
          "output_type": "stream",
          "name": "stdout",
          "text": [
            "1 pages for parsing\n",
            "Parsing of gene 06153 https://www.artsy.net/gene/splattered-slash-dripped?page=2&sort=-published_at has finished\n",
            "137.49859976768494 seconds have passed\n",
            "11:49:21.517732\n",
            "\n",
            "Parsing of gene 06144 https://www.artsy.net/gene/sculpture?page=2&sort=-published_at has started\n"
          ]
        },
        {
          "output_type": "stream",
          "name": "stderr",
          "text": [
            "https://www.artsy.net:443 \"GET /gene/sculpture?page=2&sort=-published_at HTTP/1.1\" 200 None\n"
          ]
        },
        {
          "output_type": "stream",
          "name": "stdout",
          "text": [
            "1 pages for parsing\n",
            "Parsing of gene 06144 https://www.artsy.net/gene/sculpture?page=2&sort=-published_at has finished\n",
            "139.68548727035522 seconds have passed\n",
            "11:49:23.704328\n",
            "\n",
            "Parsing of gene 06088 https://www.artsy.net/gene/lithograph-1?page=2&sort=-published_at has started\n"
          ]
        },
        {
          "output_type": "stream",
          "name": "stderr",
          "text": [
            "https://www.artsy.net:443 \"GET /gene/lithograph-1?page=2&sort=-published_at HTTP/1.1\" 200 None\n"
          ]
        },
        {
          "output_type": "stream",
          "name": "stdout",
          "text": [
            "1 pages for parsing\n",
            "Parsing of gene 06088 https://www.artsy.net/gene/lithograph-1?page=2&sort=-published_at has finished\n",
            "142.01205611228943 seconds have passed\n",
            "11:49:26.030911\n",
            "\n",
            "Parsing of gene 06174 https://www.artsy.net/gene/woodcut-and-linocut?page=2&sort=-published_at has started\n"
          ]
        },
        {
          "output_type": "stream",
          "name": "stderr",
          "text": [
            "https://www.artsy.net:443 \"GET /gene/woodcut-and-linocut?page=2&sort=-published_at HTTP/1.1\" 200 None\n"
          ]
        },
        {
          "output_type": "stream",
          "name": "stdout",
          "text": [
            "1 pages for parsing\n",
            "Parsing of gene 06174 https://www.artsy.net/gene/woodcut-and-linocut?page=2&sort=-published_at has finished\n",
            "144.61986327171326 seconds have passed\n",
            "11:49:28.638683\n",
            "\n"
          ]
        },
        {
          "output_type": "stream",
          "name": "stderr",
          "text": [
            "Starting new HTTPS connection (1): www.artsy.net:443\n"
          ]
        },
        {
          "output_type": "stream",
          "name": "stdout",
          "text": [
            "Parsing of gene 08011 https://www.artsy.net/gene/brazil?page=2&sort=-published_at has started\n"
          ]
        },
        {
          "output_type": "stream",
          "name": "stderr",
          "text": [
            "https://www.artsy.net:443 \"GET /gene/brazil?page=2&sort=-published_at HTTP/1.1\" 200 None\n"
          ]
        },
        {
          "output_type": "stream",
          "name": "stdout",
          "text": [
            "1 pages for parsing\n",
            "Parsing of gene 08011 https://www.artsy.net/gene/brazil?page=2&sort=-published_at has finished\n",
            "147.30171036720276 seconds have passed\n",
            "11:49:31.320542\n",
            "\n",
            "Parsing of gene 02083 https://www.artsy.net/gene/human-figure?page=2&sort=-published_at has started\n"
          ]
        },
        {
          "output_type": "stream",
          "name": "stderr",
          "text": [
            "https://www.artsy.net:443 \"GET /gene/human-figure?page=2&sort=-published_at HTTP/1.1\" 200 None\n"
          ]
        },
        {
          "output_type": "stream",
          "name": "stdout",
          "text": [
            "1 pages for parsing\n",
            "Parsing of gene 02083 https://www.artsy.net/gene/human-figure?page=2&sort=-published_at has finished\n",
            "149.72964143753052 seconds have passed\n",
            "11:49:33.748468\n",
            "\n",
            "Parsing of gene 05011 https://www.artsy.net/gene/bright-and-vivid-colors?page=2&sort=-published_at has started\n"
          ]
        },
        {
          "output_type": "stream",
          "name": "stderr",
          "text": [
            "https://www.artsy.net:443 \"GET /gene/bright-and-vivid-colors?page=2&sort=-published_at HTTP/1.1\" 200 None\n"
          ]
        },
        {
          "output_type": "stream",
          "name": "stdout",
          "text": [
            "1 pages for parsing\n",
            "Parsing of gene 05011 https://www.artsy.net/gene/bright-and-vivid-colors?page=2&sort=-published_at has finished\n",
            "152.22433257102966 seconds have passed\n",
            "11:49:36.243160\n",
            "\n",
            "Parsing of gene 03058 https://www.artsy.net/gene/contemporary-british-art?page=2&sort=-published_at has started\n"
          ]
        },
        {
          "output_type": "stream",
          "name": "stderr",
          "text": [
            "https://www.artsy.net:443 \"GET /gene/contemporary-british-art?page=2&sort=-published_at HTTP/1.1\" 200 None\n"
          ]
        },
        {
          "output_type": "stream",
          "name": "stdout",
          "text": [
            "1 pages for parsing\n",
            "Parsing of gene 03058 https://www.artsy.net/gene/contemporary-british-art?page=2&sort=-published_at has finished\n",
            "154.99825716018677 seconds have passed\n",
            "11:49:39.017083\n",
            "\n",
            "Parsing of gene 03119 https://www.artsy.net/gene/feminist-art-and-contemporary-feminist?page=2&sort=-published_at has started\n"
          ]
        },
        {
          "output_type": "stream",
          "name": "stderr",
          "text": [
            "https://www.artsy.net:443 \"GET /gene/feminist-art-and-contemporary-feminist?page=2&sort=-published_at HTTP/1.1\" 200 None\n"
          ]
        },
        {
          "output_type": "stream",
          "name": "stdout",
          "text": [
            "1 pages for parsing\n",
            "Parsing of gene 03119 https://www.artsy.net/gene/feminist-art-and-contemporary-feminist?page=2&sort=-published_at has finished\n",
            "157.15559148788452 seconds have passed\n",
            "11:49:41.175996\n",
            "\n",
            "Parsing of gene 07007 https://www.artsy.net/gene/1918-1939-interwar?page=2&sort=-published_at has started\n"
          ]
        },
        {
          "output_type": "stream",
          "name": "stderr",
          "text": [
            "https://www.artsy.net:443 \"GET /gene/1918-1939-interwar?page=2&sort=-published_at HTTP/1.1\" 200 None\n"
          ]
        },
        {
          "output_type": "stream",
          "name": "stdout",
          "text": [
            "1 pages for parsing\n",
            "Parsing of gene 07007 https://www.artsy.net/gene/1918-1939-interwar?page=2&sort=-published_at has finished\n",
            "161.2484564781189 seconds have passed\n",
            "11:49:45.267279\n",
            "\n",
            "Parsing of gene 08015 https://www.artsy.net/gene/canada?page=2&sort=-published_at has started\n"
          ]
        },
        {
          "output_type": "stream",
          "name": "stderr",
          "text": [
            "https://www.artsy.net:443 \"GET /gene/canada?page=2&sort=-published_at HTTP/1.1\" 200 None\n"
          ]
        },
        {
          "output_type": "stream",
          "name": "stdout",
          "text": [
            "1 pages for parsing\n",
            "Parsing of gene 08015 https://www.artsy.net/gene/canada?page=2&sort=-published_at has finished\n",
            "164.13944053649902 seconds have passed\n",
            "11:49:48.158261\n",
            "\n",
            "Parsing of gene 02174 https://www.artsy.net/gene/still-life?page=2&sort=-published_at has started\n"
          ]
        },
        {
          "output_type": "stream",
          "name": "stderr",
          "text": [
            "https://www.artsy.net:443 \"GET /gene/still-life?page=2&sort=-published_at HTTP/1.1\" 200 None\n"
          ]
        },
        {
          "output_type": "stream",
          "name": "stdout",
          "text": [
            "1 pages for parsing\n",
            "Parsing of gene 02174 https://www.artsy.net/gene/still-life?page=2&sort=-published_at has finished\n",
            "166.55391359329224 seconds have passed\n",
            "11:49:50.572743\n",
            "\n",
            "Parsing of gene 03090 https://www.artsy.net/gene/contemporary-scandinavian-art?page=2&sort=-published_at has started\n"
          ]
        },
        {
          "output_type": "stream",
          "name": "stderr",
          "text": [
            "https://www.artsy.net:443 \"GET /gene/contemporary-scandinavian-art?page=2&sort=-published_at HTTP/1.1\" 200 None\n"
          ]
        },
        {
          "output_type": "stream",
          "name": "stdout",
          "text": [
            "1 pages for parsing\n",
            "Parsing of gene 03090 https://www.artsy.net/gene/contemporary-scandinavian-art?page=2&sort=-published_at has finished\n",
            "168.45435643196106 seconds have passed\n",
            "11:49:52.475483\n",
            "\n",
            "Parsing of gene 08044 https://www.artsy.net/gene/los-angeles-artists?page=2&sort=-published_at has started\n"
          ]
        },
        {
          "output_type": "stream",
          "name": "stderr",
          "text": [
            "https://www.artsy.net:443 \"GET /gene/los-angeles-artists?page=2&sort=-published_at HTTP/1.1\" 200 None\n"
          ]
        },
        {
          "output_type": "stream",
          "name": "stdout",
          "text": [
            "1 pages for parsing\n",
            "Parsing of gene 08044 https://www.artsy.net/gene/los-angeles-artists?page=2&sort=-published_at has finished\n",
            "171.0182089805603 seconds have passed\n",
            "11:49:55.037045\n",
            "\n"
          ]
        },
        {
          "output_type": "stream",
          "name": "stderr",
          "text": [
            "Starting new HTTPS connection (1): www.artsy.net:443\n"
          ]
        },
        {
          "output_type": "stream",
          "name": "stdout",
          "text": [
            "Parsing of gene 09001 https://www.artsy.net/gene/aluminum?page=2&sort=-published_at has started\n"
          ]
        },
        {
          "output_type": "stream",
          "name": "stderr",
          "text": [
            "https://www.artsy.net:443 \"GET /gene/aluminum?page=2&sort=-published_at HTTP/1.1\" 200 None\n"
          ]
        },
        {
          "output_type": "stream",
          "name": "stdout",
          "text": [
            "1 pages for parsing\n",
            "Parsing of gene 09001 https://www.artsy.net/gene/aluminum?page=2&sort=-published_at has finished\n",
            "173.46734166145325 seconds have passed\n",
            "11:49:57.486473\n",
            "\n",
            "Parsing of gene 03011 https://www.artsy.net/gene/abstract-photography?page=2&sort=-published_at has started\n"
          ]
        },
        {
          "output_type": "stream",
          "name": "stderr",
          "text": [
            "https://www.artsy.net:443 \"GET /gene/abstract-photography?page=2&sort=-published_at HTTP/1.1\" 200 None\n"
          ]
        },
        {
          "output_type": "stream",
          "name": "stdout",
          "text": [
            "1 pages for parsing\n",
            "Parsing of gene 03011 https://www.artsy.net/gene/abstract-photography?page=2&sort=-published_at has finished\n",
            "178.6762773990631 seconds have passed\n",
            "11:50:02.695087\n",
            "\n",
            "Parsing of gene 03107 https://www.artsy.net/gene/documentary-travel-photography?page=2&sort=-published_at has started\n"
          ]
        },
        {
          "output_type": "stream",
          "name": "stderr",
          "text": [
            "https://www.artsy.net:443 \"GET /gene/documentary-travel-photography?page=2&sort=-published_at HTTP/1.1\" 200 None\n"
          ]
        },
        {
          "output_type": "stream",
          "name": "stdout",
          "text": [
            "1 pages for parsing\n",
            "Parsing of gene 03107 https://www.artsy.net/gene/documentary-travel-photography?page=2&sort=-published_at has finished\n",
            "181.41964602470398 seconds have passed\n",
            "11:50:05.438477\n",
            "\n",
            "Parsing of gene 03131 https://www.artsy.net/gene/graffiti-and-street-art?page=2&sort=-published_at has started\n"
          ]
        },
        {
          "output_type": "stream",
          "name": "stderr",
          "text": [
            "https://www.artsy.net:443 \"GET /gene/graffiti-and-street-art?page=2&sort=-published_at HTTP/1.1\" 200 None\n"
          ]
        },
        {
          "output_type": "stream",
          "name": "stdout",
          "text": [
            "1 pages for parsing\n",
            "Parsing of gene 03131 https://www.artsy.net/gene/graffiti-and-street-art?page=2&sort=-published_at has finished\n",
            "183.83003664016724 seconds have passed\n",
            "11:50:07.848861\n",
            "\n",
            "Parsing of gene 02170 https://www.artsy.net/gene/skyscapes?page=2&sort=-published_at has started\n"
          ]
        },
        {
          "output_type": "stream",
          "name": "stderr",
          "text": [
            "https://www.artsy.net:443 \"GET /gene/skyscapes?page=2&sort=-published_at HTTP/1.1\" 200 None\n"
          ]
        },
        {
          "output_type": "stream",
          "name": "stdout",
          "text": [
            "1 pages for parsing\n",
            "Parsing of gene 02170 https://www.artsy.net/gene/skyscapes?page=2&sort=-published_at has finished\n",
            "185.9771089553833 seconds have passed\n",
            "11:50:09.995946\n",
            "\n",
            "Parsing of gene 03146 https://www.artsy.net/gene/impressionism-and-contemporary-impressionist?page=2&sort=-published_at has started\n"
          ]
        },
        {
          "output_type": "stream",
          "name": "stderr",
          "text": [
            "https://www.artsy.net:443 \"GET /gene/impressionism-and-contemporary-impressionist?page=2&sort=-published_at HTTP/1.1\" 200 None\n"
          ]
        },
        {
          "output_type": "stream",
          "name": "stdout",
          "text": [
            "1 pages for parsing\n",
            "Parsing of gene 03146 https://www.artsy.net/gene/impressionism-and-contemporary-impressionist?page=2&sort=-published_at has finished\n",
            "188.66761231422424 seconds have passed\n",
            "11:50:12.686748\n",
            "\n",
            "Parsing of gene 06154 https://www.artsy.net/gene/spray-paint?page=2&sort=-published_at has started\n"
          ]
        },
        {
          "output_type": "stream",
          "name": "stderr",
          "text": [
            "https://www.artsy.net:443 \"GET /gene/spray-paint?page=2&sort=-published_at HTTP/1.1\" 200 None\n"
          ]
        },
        {
          "output_type": "stream",
          "name": "stdout",
          "text": [
            "1 pages for parsing\n",
            "Parsing of gene 06154 https://www.artsy.net/gene/spray-paint?page=2&sort=-published_at has finished\n",
            "190.66291403770447 seconds have passed\n",
            "11:50:14.681741\n",
            "\n",
            "Parsing of gene 08062 https://www.artsy.net/gene/spain?page=2&sort=-published_at has started\n"
          ]
        },
        {
          "output_type": "stream",
          "name": "stderr",
          "text": [
            "https://www.artsy.net:443 \"GET /gene/spain?page=2&sort=-published_at HTTP/1.1\" 200 None\n"
          ]
        },
        {
          "output_type": "stream",
          "name": "stdout",
          "text": [
            "1 pages for parsing\n",
            "Parsing of gene 08062 https://www.artsy.net/gene/spain?page=2&sort=-published_at has finished\n",
            "193.37627816200256 seconds have passed\n",
            "11:50:17.395882\n",
            "\n",
            "Parsing of gene 09030 https://www.artsy.net/gene/steel?page=2&sort=-published_at has started\n"
          ]
        },
        {
          "output_type": "stream",
          "name": "stderr",
          "text": [
            "https://www.artsy.net:443 \"GET /gene/steel?page=2&sort=-published_at HTTP/1.1\" 200 None\n"
          ]
        },
        {
          "output_type": "stream",
          "name": "stdout",
          "text": [
            "1 pages for parsing\n",
            "Parsing of gene 09030 https://www.artsy.net/gene/steel?page=2&sort=-published_at has finished\n",
            "195.92822909355164 seconds have passed\n",
            "11:50:19.947061\n",
            "\n",
            "Parsing of gene 06045 https://www.artsy.net/gene/drawing?page=2&sort=-published_at has started\n"
          ]
        },
        {
          "output_type": "stream",
          "name": "stderr",
          "text": [
            "https://www.artsy.net:443 \"GET /gene/drawing?page=2&sort=-published_at HTTP/1.1\" 200 None\n"
          ]
        },
        {
          "output_type": "stream",
          "name": "stdout",
          "text": [
            "1 pages for parsing\n",
            "Parsing of gene 06045 https://www.artsy.net/gene/drawing?page=2&sort=-published_at has finished\n",
            "198.1733376979828 seconds have passed\n",
            "11:50:22.192161\n",
            "\n"
          ]
        },
        {
          "output_type": "stream",
          "name": "stderr",
          "text": [
            "Starting new HTTPS connection (1): www.artsy.net:443\n"
          ]
        },
        {
          "output_type": "stream",
          "name": "stdout",
          "text": [
            "Parsing of gene 06100 https://www.artsy.net/gene/multiple-exposure?page=2&sort=-published_at has started\n"
          ]
        },
        {
          "output_type": "stream",
          "name": "stderr",
          "text": [
            "https://www.artsy.net:443 \"GET /gene/multiple-exposure?page=2&sort=-published_at HTTP/1.1\" 200 None\n"
          ]
        },
        {
          "output_type": "stream",
          "name": "stdout",
          "text": [
            "1 pages for parsing\n",
            "Parsing of gene 06100 https://www.artsy.net/gene/multiple-exposure?page=2&sort=-published_at has finished\n",
            "202.4306399822235 seconds have passed\n",
            "11:50:26.449469\n",
            "\n",
            "Parsing of gene 06026 https://www.artsy.net/gene/collage?page=2&sort=-published_at has started\n"
          ]
        },
        {
          "output_type": "stream",
          "name": "stderr",
          "text": [
            "https://www.artsy.net:443 \"GET /gene/collage?page=2&sort=-published_at HTTP/1.1\" 200 None\n"
          ]
        },
        {
          "output_type": "stream",
          "name": "stdout",
          "text": [
            "1 pages for parsing\n",
            "Parsing of gene 06026 https://www.artsy.net/gene/collage?page=2&sort=-published_at has finished\n",
            "204.83038067817688 seconds have passed\n",
            "11:50:28.849208\n",
            "\n",
            "Parsing of gene 06039 https://www.artsy.net/gene/digital-painting-and-drawing?page=2&sort=-published_at has started\n"
          ]
        },
        {
          "output_type": "stream",
          "name": "stderr",
          "text": [
            "https://www.artsy.net:443 \"GET /gene/digital-painting-and-drawing?page=2&sort=-published_at HTTP/1.1\" 200 None\n"
          ]
        },
        {
          "output_type": "stream",
          "name": "stdout",
          "text": [
            "1 pages for parsing\n",
            "Parsing of gene 06039 https://www.artsy.net/gene/digital-painting-and-drawing?page=2&sort=-published_at has finished\n",
            "207.92666244506836 seconds have passed\n",
            "11:50:31.945494\n",
            "\n",
            "Parsing of gene 06105 https://www.artsy.net/gene/oil-painting?page=2&sort=-published_at has started\n"
          ]
        },
        {
          "output_type": "stream",
          "name": "stderr",
          "text": [
            "https://www.artsy.net:443 \"GET /gene/oil-painting?page=2&sort=-published_at HTTP/1.1\" 200 None\n"
          ]
        },
        {
          "output_type": "stream",
          "name": "stdout",
          "text": [
            "1 pages for parsing\n",
            "Parsing of gene 06105 https://www.artsy.net/gene/oil-painting?page=2&sort=-published_at has finished\n",
            "210.27002334594727 seconds have passed\n",
            "11:50:34.289500\n",
            "\n",
            "Parsing of gene 06040 https://www.artsy.net/gene/digital-print?page=2&sort=-published_at has started\n"
          ]
        },
        {
          "output_type": "stream",
          "name": "stderr",
          "text": [
            "https://www.artsy.net:443 \"GET /gene/digital-print?page=2&sort=-published_at HTTP/1.1\" 200 None\n"
          ]
        },
        {
          "output_type": "stream",
          "name": "stdout",
          "text": [
            "1 pages for parsing\n",
            "Parsing of gene 06040 https://www.artsy.net/gene/digital-print?page=2&sort=-published_at has finished\n",
            "212.93604183197021 seconds have passed\n",
            "11:50:36.954865\n",
            "\n",
            "Parsing of gene 06162 https://www.artsy.net/gene/topographic-photography?page=2&sort=-published_at has started\n"
          ]
        },
        {
          "output_type": "stream",
          "name": "stderr",
          "text": [
            "https://www.artsy.net:443 \"GET /gene/topographic-photography?page=2&sort=-published_at HTTP/1.1\" 200 None\n"
          ]
        },
        {
          "output_type": "stream",
          "name": "stdout",
          "text": [
            "1 pages for parsing\n",
            "Parsing of gene 06162 https://www.artsy.net/gene/topographic-photography?page=2&sort=-published_at has finished\n",
            "215.07236409187317 seconds have passed\n",
            "11:50:39.091192\n",
            "\n",
            "Parsing of gene 06054 https://www.artsy.net/gene/etching-slash-engraving?page=2&sort=-published_at has started\n"
          ]
        },
        {
          "output_type": "stream",
          "name": "stderr",
          "text": [
            "https://www.artsy.net:443 \"GET /gene/etching-slash-engraving?page=2&sort=-published_at HTTP/1.1\" 200 None\n"
          ]
        },
        {
          "output_type": "stream",
          "name": "stdout",
          "text": [
            "1 pages for parsing\n",
            "Parsing of gene 06054 https://www.artsy.net/gene/etching-slash-engraving?page=2&sort=-published_at has finished\n",
            "217.52001667022705 seconds have passed\n",
            "11:50:41.540984\n",
            "\n",
            "Parsing of gene 02071 https://www.artsy.net/gene/flora?page=2&sort=-published_at has started\n"
          ]
        },
        {
          "output_type": "stream",
          "name": "stderr",
          "text": [
            "https://www.artsy.net:443 \"GET /gene/flora?page=2&sort=-published_at HTTP/1.1\" 200 None\n"
          ]
        },
        {
          "output_type": "stream",
          "name": "stdout",
          "text": [
            "1 pages for parsing\n",
            "Parsing of gene 02071 https://www.artsy.net/gene/flora?page=2&sort=-published_at has finished\n",
            "220.26986598968506 seconds have passed\n",
            "11:50:44.288697\n",
            "\n",
            "Parsing of gene 03115 https://www.artsy.net/gene/fashion-photography?page=2&sort=-published_at has started\n"
          ]
        },
        {
          "output_type": "stream",
          "name": "stderr",
          "text": [
            "https://www.artsy.net:443 \"GET /gene/fashion-photography?page=2&sort=-published_at HTTP/1.1\" 200 None\n"
          ]
        },
        {
          "output_type": "stream",
          "name": "stdout",
          "text": [
            "1 pages for parsing\n",
            "Parsing of gene 03115 https://www.artsy.net/gene/fashion-photography?page=2&sort=-published_at has finished\n",
            "222.94595766067505 seconds have passed\n",
            "11:50:46.964789\n",
            "\n",
            "Parsing of gene 02073 https://www.artsy.net/gene/food?page=2&sort=-published_at has started\n"
          ]
        },
        {
          "output_type": "stream",
          "name": "stderr",
          "text": [
            "https://www.artsy.net:443 \"GET /gene/food?page=2&sort=-published_at HTTP/1.1\" 200 None\n"
          ]
        },
        {
          "output_type": "stream",
          "name": "stdout",
          "text": [
            "1 pages for parsing\n",
            "Parsing of gene 02073 https://www.artsy.net/gene/food?page=2&sort=-published_at has finished\n",
            "225.47486186027527 seconds have passed\n",
            "11:50:49.493693\n",
            "\n"
          ]
        },
        {
          "output_type": "stream",
          "name": "stderr",
          "text": [
            "Starting new HTTPS connection (1): www.artsy.net:443\n"
          ]
        },
        {
          "output_type": "stream",
          "name": "stdout",
          "text": [
            "Parsing of gene 05049 https://www.artsy.net/gene/pastel-colors?page=2&sort=-published_at has started\n"
          ]
        },
        {
          "output_type": "stream",
          "name": "stderr",
          "text": [
            "https://www.artsy.net:443 \"GET /gene/pastel-colors?page=2&sort=-published_at HTTP/1.1\" 200 None\n"
          ]
        },
        {
          "output_type": "stream",
          "name": "stdout",
          "text": [
            "1 pages for parsing\n",
            "Parsing of gene 05049 https://www.artsy.net/gene/pastel-colors?page=2&sort=-published_at has finished\n",
            "228.28536581993103 seconds have passed\n",
            "11:50:52.304199\n",
            "\n",
            "Parsing of gene 02138 https://www.artsy.net/gene/portrait?page=2&sort=-published_at has started\n"
          ]
        },
        {
          "output_type": "stream",
          "name": "stderr",
          "text": [
            "https://www.artsy.net:443 \"GET /gene/portrait?page=2&sort=-published_at HTTP/1.1\" 200 None\n"
          ]
        },
        {
          "output_type": "stream",
          "name": "stdout",
          "text": [
            "1 pages for parsing\n",
            "Parsing of gene 02138 https://www.artsy.net/gene/portrait?page=2&sort=-published_at has finished\n",
            "230.5133821964264 seconds have passed\n",
            "11:50:54.533630\n",
            "\n",
            "Parsing of gene 08067 https://www.artsy.net/gene/turkey?page=2&sort=-published_at has started\n"
          ]
        },
        {
          "output_type": "stream",
          "name": "stderr",
          "text": [
            "https://www.artsy.net:443 \"GET /gene/turkey?page=2&sort=-published_at HTTP/1.1\" 200 None\n"
          ]
        },
        {
          "output_type": "stream",
          "name": "stdout",
          "text": [
            "1 pages for parsing\n",
            "Parsing of gene 08067 https://www.artsy.net/gene/turkey?page=2&sort=-published_at has finished\n",
            "233.05439496040344 seconds have passed\n",
            "11:50:57.073250\n",
            "\n",
            "Parsing of gene 06107 https://www.artsy.net/gene/oil-on-panel?page=2&sort=-published_at has started\n"
          ]
        },
        {
          "output_type": "stream",
          "name": "stderr",
          "text": [
            "https://www.artsy.net:443 \"GET /gene/oil-on-panel?page=2&sort=-published_at HTTP/1.1\" 200 None\n"
          ]
        },
        {
          "output_type": "stream",
          "name": "stdout",
          "text": [
            "1 pages for parsing\n",
            "Parsing of gene 06107 https://www.artsy.net/gene/oil-on-panel?page=2&sort=-published_at has finished\n",
            "235.1849822998047 seconds have passed\n",
            "11:50:59.203821\n",
            "\n",
            "Parsing of gene 05069 https://www.artsy.net/gene/striped?page=2&sort=-published_at has started\n"
          ]
        },
        {
          "output_type": "stream",
          "name": "stderr",
          "text": [
            "https://www.artsy.net:443 \"GET /gene/striped?page=2&sort=-published_at HTTP/1.1\" 200 None\n"
          ]
        },
        {
          "output_type": "stream",
          "name": "stdout",
          "text": [
            "1 pages for parsing\n",
            "Parsing of gene 05069 https://www.artsy.net/gene/striped?page=2&sort=-published_at has finished\n",
            "237.69536209106445 seconds have passed\n",
            "11:51:01.714196\n",
            "\n",
            "Parsing of gene 08029 https://www.artsy.net/gene/france?page=2&sort=-published_at has started\n"
          ]
        },
        {
          "output_type": "stream",
          "name": "stderr",
          "text": [
            "https://www.artsy.net:443 \"GET /gene/france?page=2&sort=-published_at HTTP/1.1\" 200 None\n"
          ]
        },
        {
          "output_type": "stream",
          "name": "stdout",
          "text": [
            "1 pages for parsing\n",
            "Parsing of gene 08029 https://www.artsy.net/gene/france?page=2&sort=-published_at has finished\n",
            "240.85034465789795 seconds have passed\n",
            "11:51:04.869779\n",
            "\n",
            "Parsing of gene 06175 https://www.artsy.net/gene/work-on-paper?page=2&sort=-published_at has started\n"
          ]
        },
        {
          "output_type": "stream",
          "name": "stderr",
          "text": [
            "https://www.artsy.net:443 \"GET /gene/work-on-paper?page=2&sort=-published_at HTTP/1.1\" 200 None\n"
          ]
        },
        {
          "output_type": "stream",
          "name": "stdout",
          "text": [
            "1 pages for parsing\n",
            "Parsing of gene 06175 https://www.artsy.net/gene/work-on-paper?page=2&sort=-published_at has finished\n",
            "243.01046538352966 seconds have passed\n",
            "11:51:07.029293\n",
            "\n",
            "Parsing of gene 03078 https://www.artsy.net/gene/contemporary-latin-american-art?page=2&sort=-published_at has started\n"
          ]
        },
        {
          "output_type": "stream",
          "name": "stderr",
          "text": [
            "https://www.artsy.net:443 \"GET /gene/contemporary-latin-american-art?page=2&sort=-published_at HTTP/1.1\" 200 None\n"
          ]
        },
        {
          "output_type": "stream",
          "name": "stdout",
          "text": [
            "1 pages for parsing\n",
            "Parsing of gene 03078 https://www.artsy.net/gene/contemporary-latin-american-art?page=2&sort=-published_at has finished\n",
            "245.47690629959106 seconds have passed\n",
            "11:51:09.495737\n",
            "\n",
            "Parsing of gene 08006 https://www.artsy.net/gene/australia-and-new-zealand?page=2&sort=-published_at has started\n"
          ]
        },
        {
          "output_type": "stream",
          "name": "stderr",
          "text": [
            "https://www.artsy.net:443 \"GET /gene/australia-and-new-zealand?page=2&sort=-published_at HTTP/1.1\" 200 None\n"
          ]
        },
        {
          "output_type": "stream",
          "name": "stdout",
          "text": [
            "1 pages for parsing\n",
            "Parsing of gene 08006 https://www.artsy.net/gene/australia-and-new-zealand?page=2&sort=-published_at has finished\n",
            "248.63970398902893 seconds have passed\n",
            "11:51:12.658558\n",
            "\n",
            "Parsing of gene 08024 https://www.artsy.net/gene/eastern-europe?page=2&sort=-published_at has started\n"
          ]
        },
        {
          "output_type": "stream",
          "name": "stderr",
          "text": [
            "https://www.artsy.net:443 \"GET /gene/eastern-europe?page=2&sort=-published_at HTTP/1.1\" 200 None\n"
          ]
        },
        {
          "output_type": "stream",
          "name": "stdout",
          "text": [
            "1 pages for parsing\n",
            "Parsing of gene 08024 https://www.artsy.net/gene/eastern-europe?page=2&sort=-published_at has finished\n",
            "250.82365894317627 seconds have passed\n",
            "11:51:14.842493\n",
            "\n"
          ]
        },
        {
          "output_type": "stream",
          "name": "stderr",
          "text": [
            "Starting new HTTPS connection (1): www.artsy.net:443\n"
          ]
        },
        {
          "output_type": "stream",
          "name": "stdout",
          "text": [
            "Parsing of gene 06148 https://www.artsy.net/gene/silkscreen-1?page=2&sort=-published_at has started\n"
          ]
        },
        {
          "output_type": "stream",
          "name": "stderr",
          "text": [
            "https://www.artsy.net:443 \"GET /gene/silkscreen-1?page=2&sort=-published_at HTTP/1.1\" 200 None\n"
          ]
        },
        {
          "output_type": "stream",
          "name": "stdout",
          "text": [
            "1 pages for parsing\n",
            "Parsing of gene 06148 https://www.artsy.net/gene/silkscreen-1?page=2&sort=-published_at has finished\n",
            "253.96405029296875 seconds have passed\n",
            "11:51:17.983911\n",
            "\n",
            "Parsing of gene 03059 https://www.artsy.net/gene/contemporary-canadian-art?page=2&sort=-published_at has started\n"
          ]
        },
        {
          "output_type": "stream",
          "name": "stderr",
          "text": [
            "https://www.artsy.net:443 \"GET /gene/contemporary-canadian-art?page=2&sort=-published_at HTTP/1.1\" 200 None\n"
          ]
        },
        {
          "output_type": "stream",
          "name": "stdout",
          "text": [
            "1 pages for parsing\n",
            "Parsing of gene 03059 https://www.artsy.net/gene/contemporary-canadian-art?page=2&sort=-published_at has finished\n",
            "256.3648602962494 seconds have passed\n",
            "11:51:20.383685\n",
            "\n",
            "Parsing of gene 02010 https://www.artsy.net/gene/animals?page=2&sort=-published_at has started\n"
          ]
        },
        {
          "output_type": "stream",
          "name": "stderr",
          "text": [
            "https://www.artsy.net:443 \"GET /gene/animals?page=2&sort=-published_at HTTP/1.1\" 200 None\n"
          ]
        },
        {
          "output_type": "stream",
          "name": "stdout",
          "text": [
            "1 pages for parsing\n",
            "Parsing of gene 02010 https://www.artsy.net/gene/animals?page=2&sort=-published_at has finished\n",
            "258.52116203308105 seconds have passed\n",
            "11:51:22.539985\n",
            "\n",
            "Parsing of gene 06096 https://www.artsy.net/gene/miniature-and-small-scale-paintings?page=2&sort=-published_at has started\n"
          ]
        },
        {
          "output_type": "stream",
          "name": "stderr",
          "text": [
            "https://www.artsy.net:443 \"GET /gene/miniature-and-small-scale-paintings?page=2&sort=-published_at HTTP/1.1\" 200 None\n"
          ]
        },
        {
          "output_type": "stream",
          "name": "stdout",
          "text": [
            "1 pages for parsing\n",
            "Parsing of gene 06096 https://www.artsy.net/gene/miniature-and-small-scale-paintings?page=2&sort=-published_at has finished\n",
            "261.1936650276184 seconds have passed\n",
            "11:51:25.212500\n",
            "\n",
            "Parsing of gene 06028 https://www.artsy.net/gene/color-photography?page=2&sort=-published_at has started\n"
          ]
        },
        {
          "output_type": "stream",
          "name": "stderr",
          "text": [
            "https://www.artsy.net:443 \"GET /gene/color-photography?page=2&sort=-published_at HTTP/1.1\" 200 None\n"
          ]
        },
        {
          "output_type": "stream",
          "name": "stdout",
          "text": [
            "1 pages for parsing\n",
            "Parsing of gene 06028 https://www.artsy.net/gene/color-photography?page=2&sort=-published_at has finished\n",
            "263.5653188228607 seconds have passed\n",
            "11:51:27.584150\n",
            "\n",
            "Parsing of gene 08037 https://www.artsy.net/gene/israel?page=2&sort=-published_at has started\n"
          ]
        },
        {
          "output_type": "stream",
          "name": "stderr",
          "text": [
            "https://www.artsy.net:443 \"GET /gene/israel?page=2&sort=-published_at HTTP/1.1\" 200 None\n"
          ]
        },
        {
          "output_type": "stream",
          "name": "stdout",
          "text": [
            "1 pages for parsing\n",
            "Parsing of gene 08037 https://www.artsy.net/gene/israel?page=2&sort=-published_at has finished\n",
            "266.09923338890076 seconds have passed\n",
            "11:51:30.118376\n",
            "\n",
            "Parsing of gene 09007 https://www.artsy.net/gene/ceramic?page=2&sort=-published_at has started\n"
          ]
        },
        {
          "output_type": "stream",
          "name": "stderr",
          "text": [
            "https://www.artsy.net:443 \"GET /gene/ceramic?page=2&sort=-published_at HTTP/1.1\" 200 None\n"
          ]
        },
        {
          "output_type": "stream",
          "name": "stdout",
          "text": [
            "1 pages for parsing\n",
            "Parsing of gene 09007 https://www.artsy.net/gene/ceramic?page=2&sort=-published_at has finished\n",
            "269.11529183387756 seconds have passed\n",
            "11:51:33.134118\n",
            "\n",
            "Parsing of gene 02154 https://www.artsy.net/gene/representations-of-architecture?page=2&sort=-published_at has started\n"
          ]
        },
        {
          "output_type": "stream",
          "name": "stderr",
          "text": [
            "https://www.artsy.net:443 \"GET /gene/representations-of-architecture?page=2&sort=-published_at HTTP/1.1\" 200 None\n"
          ]
        },
        {
          "output_type": "stream",
          "name": "stdout",
          "text": [
            "1 pages for parsing\n",
            "Parsing of gene 02154 https://www.artsy.net/gene/representations-of-architecture?page=2&sort=-published_at has finished\n",
            "271.5658793449402 seconds have passed\n",
            "11:51:35.584714\n",
            "\n",
            "Parsing of gene 03221 https://www.artsy.net/gene/outsider-art?page=2&sort=-published_at has started\n"
          ]
        },
        {
          "output_type": "stream",
          "name": "stderr",
          "text": [
            "https://www.artsy.net:443 \"GET /gene/outsider-art?page=2&sort=-published_at HTTP/1.1\" 200 None\n"
          ]
        },
        {
          "output_type": "stream",
          "name": "stdout",
          "text": [
            "1 pages for parsing\n",
            "Parsing of gene 03221 https://www.artsy.net/gene/outsider-art?page=2&sort=-published_at has finished\n",
            "273.61097168922424 seconds have passed\n",
            "11:51:37.630158\n",
            "\n",
            "Parsing of gene 06150 https://www.artsy.net/gene/snapshot-aesthetic?page=2&sort=-published_at has started\n"
          ]
        },
        {
          "output_type": "stream",
          "name": "stderr",
          "text": [
            "https://www.artsy.net:443 \"GET /gene/snapshot-aesthetic?page=2&sort=-published_at HTTP/1.1\" 200 None\n"
          ]
        },
        {
          "output_type": "stream",
          "name": "stdout",
          "text": [
            "1 pages for parsing\n",
            "Parsing of gene 06150 https://www.artsy.net/gene/snapshot-aesthetic?page=2&sort=-published_at has finished\n",
            "276.3428285121918 seconds have passed\n",
            "11:51:40.362024\n",
            "\n"
          ]
        },
        {
          "output_type": "stream",
          "name": "stderr",
          "text": [
            "Starting new HTTPS connection (1): www.artsy.net:443\n"
          ]
        },
        {
          "output_type": "stream",
          "name": "stdout",
          "text": [
            "Parsing of gene 08039 https://www.artsy.net/gene/japan?page=2&sort=-published_at has started\n"
          ]
        },
        {
          "output_type": "stream",
          "name": "stderr",
          "text": [
            "https://www.artsy.net:443 \"GET /gene/japan?page=2&sort=-published_at HTTP/1.1\" 200 None\n"
          ]
        },
        {
          "output_type": "stream",
          "name": "stdout",
          "text": [
            "1 pages for parsing\n",
            "Parsing of gene 08039 https://www.artsy.net/gene/japan?page=2&sort=-published_at has finished\n",
            "279.07332134246826 seconds have passed\n",
            "11:51:43.092453\n",
            "\n",
            "Parsing of gene 08005 https://www.artsy.net/gene/asian-art?page=2&sort=-published_at has started\n"
          ]
        },
        {
          "output_type": "stream",
          "name": "stderr",
          "text": [
            "https://www.artsy.net:443 \"GET /gene/asian-art?page=2&sort=-published_at HTTP/1.1\" 200 None\n"
          ]
        },
        {
          "output_type": "stream",
          "name": "stdout",
          "text": [
            "1 pages for parsing\n",
            "Parsing of gene 08005 https://www.artsy.net/gene/asian-art?page=2&sort=-published_at has finished\n",
            "281.4902243614197 seconds have passed\n",
            "11:51:45.509041\n",
            "\n",
            "Parsing of gene 03008 https://www.artsy.net/gene/abstract-art?page=2&sort=-published_at has started\n"
          ]
        },
        {
          "output_type": "stream",
          "name": "stderr",
          "text": [
            "https://www.artsy.net:443 \"GET /gene/abstract-art?page=2&sort=-published_at HTTP/1.1\" 200 None\n"
          ]
        },
        {
          "output_type": "stream",
          "name": "stdout",
          "text": [
            "1 pages for parsing\n",
            "Parsing of gene 03008 https://www.artsy.net/gene/abstract-art?page=2&sort=-published_at has finished\n",
            "284.0117633342743 seconds have passed\n",
            "11:51:48.030586\n",
            "\n",
            "Parsing of gene 08012 https://www.artsy.net/gene/united-kingdom-and-ireland?page=2&sort=-published_at has started\n"
          ]
        },
        {
          "output_type": "stream",
          "name": "stderr",
          "text": [
            "https://www.artsy.net:443 \"GET /gene/united-kingdom-and-ireland?page=2&sort=-published_at HTTP/1.1\" 200 None\n"
          ]
        },
        {
          "output_type": "stream",
          "name": "stdout",
          "text": [
            "1 pages for parsing\n",
            "Parsing of gene 08012 https://www.artsy.net/gene/united-kingdom-and-ireland?page=2&sort=-published_at has finished\n",
            "286.26453971862793 seconds have passed\n",
            "11:51:50.283350\n",
            "\n",
            "Parsing of gene 07019 https://www.artsy.net/gene/1860-1969?page=2&sort=-published_at has started\n"
          ]
        },
        {
          "output_type": "stream",
          "name": "stderr",
          "text": [
            "https://www.artsy.net:443 \"GET /gene/1860-1969?page=2&sort=-published_at HTTP/1.1\" 200 None\n"
          ]
        },
        {
          "output_type": "stream",
          "name": "stdout",
          "text": [
            "1 pages for parsing\n",
            "Parsing of gene 07019 https://www.artsy.net/gene/1860-1969?page=2&sort=-published_at has finished\n",
            "288.98797488212585 seconds have passed\n",
            "11:51:53.006799\n",
            "\n",
            "Parsing of gene 03093 https://www.artsy.net/gene/contemporary-turkish-art?page=2&sort=-published_at has started\n"
          ]
        },
        {
          "output_type": "stream",
          "name": "stderr",
          "text": [
            "https://www.artsy.net:443 \"GET /gene/contemporary-turkish-art?page=2&sort=-published_at HTTP/1.1\" 200 None\n"
          ]
        },
        {
          "output_type": "stream",
          "name": "stdout",
          "text": [
            "1 pages for parsing\n",
            "Parsing of gene 03093 https://www.artsy.net/gene/contemporary-turkish-art?page=2&sort=-published_at has finished\n",
            "292.3800644874573 seconds have passed\n",
            "11:51:56.398911\n",
            "\n",
            "Parsing of gene 03205 https://www.artsy.net/gene/post-war-european-art?page=2&sort=-published_at has started\n"
          ]
        },
        {
          "output_type": "stream",
          "name": "stderr",
          "text": [
            "https://www.artsy.net:443 \"GET /gene/post-war-european-art?page=2&sort=-published_at HTTP/1.1\" 200 None\n"
          ]
        },
        {
          "output_type": "stream",
          "name": "stdout",
          "text": [
            "1 pages for parsing\n",
            "Parsing of gene 03205 https://www.artsy.net/gene/post-war-european-art?page=2&sort=-published_at has finished\n",
            "295.51567673683167 seconds have passed\n",
            "11:51:59.535538\n",
            "\n",
            "Parsing of gene 03204 https://www.artsy.net/gene/post-war-american-art?page=2&sort=-published_at has started\n"
          ]
        },
        {
          "output_type": "stream",
          "name": "stderr",
          "text": [
            "https://www.artsy.net:443 \"GET /gene/post-war-american-art?page=2&sort=-published_at HTTP/1.1\" 200 None\n"
          ]
        },
        {
          "output_type": "stream",
          "name": "stdout",
          "text": [
            "1 pages for parsing\n",
            "Parsing of gene 03204 https://www.artsy.net/gene/post-war-american-art?page=2&sort=-published_at has finished\n",
            "297.81013441085815 seconds have passed\n",
            "11:52:01.829273\n",
            "\n",
            "Parsing of gene 02119 https://www.artsy.net/gene/mythology-and-religion?page=2&sort=-published_at has started\n"
          ]
        },
        {
          "output_type": "stream",
          "name": "stderr",
          "text": [
            "https://www.artsy.net:443 \"GET /gene/mythology-and-religion?page=2&sort=-published_at HTTP/1.1\" 200 None\n"
          ]
        },
        {
          "output_type": "stream",
          "name": "stdout",
          "text": [
            "1 pages for parsing\n",
            "Parsing of gene 02119 https://www.artsy.net/gene/mythology-and-religion?page=2&sort=-published_at has finished\n",
            "299.859206199646 seconds have passed\n",
            "11:52:03.878033\n",
            "\n",
            "Parsing of gene 06092 https://www.artsy.net/gene/manipulated-photography?page=2&sort=-published_at has started\n"
          ]
        },
        {
          "output_type": "stream",
          "name": "stderr",
          "text": [
            "https://www.artsy.net:443 \"GET /gene/manipulated-photography?page=2&sort=-published_at HTTP/1.1\" 200 None\n"
          ]
        },
        {
          "output_type": "stream",
          "name": "stdout",
          "text": [
            "1 pages for parsing\n",
            "Parsing of gene 06092 https://www.artsy.net/gene/manipulated-photography?page=2&sort=-published_at has finished\n",
            "302.21159505844116 seconds have passed\n",
            "11:52:06.230417\n",
            "\n"
          ]
        },
        {
          "output_type": "stream",
          "name": "stderr",
          "text": [
            "Starting new HTTPS connection (1): www.artsy.net:443\n"
          ]
        },
        {
          "output_type": "stream",
          "name": "stdout",
          "text": [
            "Parsing of gene 03087 https://www.artsy.net/gene/contemporary-portrait-photography?page=2&sort=-published_at has started\n"
          ]
        },
        {
          "output_type": "stream",
          "name": "stderr",
          "text": [
            "https://www.artsy.net:443 \"GET /gene/contemporary-portrait-photography?page=2&sort=-published_at HTTP/1.1\" 200 None\n"
          ]
        },
        {
          "output_type": "stream",
          "name": "stdout",
          "text": [
            "1 pages for parsing\n",
            "Parsing of gene 03087 https://www.artsy.net/gene/contemporary-portrait-photography?page=2&sort=-published_at has finished\n",
            "304.55539441108704 seconds have passed\n",
            "11:52:08.574215\n",
            "\n",
            "Parsing of gene 08043 https://www.artsy.net/gene/london-artists?page=2&sort=-published_at has started\n"
          ]
        },
        {
          "output_type": "stream",
          "name": "stderr",
          "text": [
            "https://www.artsy.net:443 \"GET /gene/london-artists?page=2&sort=-published_at HTTP/1.1\" 200 None\n"
          ]
        },
        {
          "output_type": "stream",
          "name": "stdout",
          "text": [
            "1 pages for parsing\n",
            "Parsing of gene 08043 https://www.artsy.net/gene/london-artists?page=2&sort=-published_at has finished\n",
            "306.96950674057007 seconds have passed\n",
            "11:52:10.988351\n",
            "\n",
            "Parsing of gene 06044 https://www.artsy.net/gene/documentary-photography?page=2&sort=-published_at has started\n"
          ]
        },
        {
          "output_type": "stream",
          "name": "stderr",
          "text": [
            "https://www.artsy.net:443 \"GET /gene/documentary-photography?page=2&sort=-published_at HTTP/1.1\" 200 None\n"
          ]
        },
        {
          "output_type": "stream",
          "name": "stdout",
          "text": [
            "1 pages for parsing\n",
            "Parsing of gene 06044 https://www.artsy.net/gene/documentary-photography?page=2&sort=-published_at has finished\n",
            "309.04070115089417 seconds have passed\n",
            "11:52:13.060239\n",
            "\n",
            "Parsing of gene 03127 https://www.artsy.net/gene/geometric-abstraction?page=2&sort=-published_at has started\n"
          ]
        },
        {
          "output_type": "stream",
          "name": "stderr",
          "text": [
            "https://www.artsy.net:443 \"GET /gene/geometric-abstraction?page=2&sort=-published_at HTTP/1.1\" 200 None\n"
          ]
        },
        {
          "output_type": "stream",
          "name": "stdout",
          "text": [
            "1 pages for parsing\n",
            "Parsing of gene 03127 https://www.artsy.net/gene/geometric-abstraction?page=2&sort=-published_at has finished\n",
            "311.11353039741516 seconds have passed\n",
            "11:52:15.132670\n",
            "\n",
            "Parsing of gene 05066 https://www.artsy.net/gene/smooth-surface?page=2&sort=-published_at has started\n"
          ]
        },
        {
          "output_type": "stream",
          "name": "stderr",
          "text": [
            "https://www.artsy.net:443 \"GET /gene/smooth-surface?page=2&sort=-published_at HTTP/1.1\" 200 None\n"
          ]
        },
        {
          "output_type": "stream",
          "name": "stdout",
          "text": [
            "1 pages for parsing\n",
            "Parsing of gene 05066 https://www.artsy.net/gene/smooth-surface?page=2&sort=-published_at has finished\n",
            "314.38820910453796 seconds have passed\n",
            "11:52:18.407039\n",
            "\n",
            "Parsing of gene 02125 https://www.artsy.net/gene/nude?page=2&sort=-published_at has started\n"
          ]
        },
        {
          "output_type": "stream",
          "name": "stderr",
          "text": [
            "https://www.artsy.net:443 \"GET /gene/nude?page=2&sort=-published_at HTTP/1.1\" 200 None\n"
          ]
        },
        {
          "output_type": "stream",
          "name": "stdout",
          "text": [
            "1 pages for parsing\n",
            "Parsing of gene 02125 https://www.artsy.net/gene/nude?page=2&sort=-published_at has finished\n",
            "316.54275345802307 seconds have passed\n",
            "11:52:20.561580\n",
            "\n",
            "Parsing of gene 06015 https://www.artsy.net/gene/black-and-white-photography?page=2&sort=-published_at has started\n"
          ]
        },
        {
          "output_type": "stream",
          "name": "stderr",
          "text": [
            "https://www.artsy.net:443 \"GET /gene/black-and-white-photography?page=2&sort=-published_at HTTP/1.1\" 200 None\n"
          ]
        },
        {
          "output_type": "stream",
          "name": "stdout",
          "text": [
            "1 pages for parsing\n",
            "Parsing of gene 06015 https://www.artsy.net/gene/black-and-white-photography?page=2&sort=-published_at has finished\n",
            "320.6327097415924 seconds have passed\n",
            "11:52:24.651937\n",
            "\n",
            "Parsing of gene 03159 https://www.artsy.net/gene/minimalism-and-contemporary-minimalist?page=2&sort=-published_at has started\n"
          ]
        },
        {
          "output_type": "stream",
          "name": "stderr",
          "text": [
            "https://www.artsy.net:443 \"GET /gene/minimalism-and-contemporary-minimalist?page=2&sort=-published_at HTTP/1.1\" 200 None\n"
          ]
        },
        {
          "output_type": "stream",
          "name": "stdout",
          "text": [
            "1 pages for parsing\n",
            "Parsing of gene 03159 https://www.artsy.net/gene/minimalism-and-contemporary-minimalist?page=2&sort=-published_at has finished\n",
            "322.89960169792175 seconds have passed\n",
            "11:52:26.918733\n",
            "\n",
            "Parsing of gene 05021 https://www.artsy.net/gene/dark-colors?page=2&sort=-published_at has started\n"
          ]
        },
        {
          "output_type": "stream",
          "name": "stderr",
          "text": [
            "https://www.artsy.net:443 \"GET /gene/dark-colors?page=2&sort=-published_at HTTP/1.1\" 200 None\n"
          ]
        },
        {
          "output_type": "stream",
          "name": "stdout",
          "text": [
            "1 pages for parsing\n",
            "Parsing of gene 05021 https://www.artsy.net/gene/dark-colors?page=2&sort=-published_at has finished\n",
            "326.2552695274353 seconds have passed\n",
            "11:52:30.274430\n",
            "\n",
            "Parsing of gene 06075 https://www.artsy.net/gene/impasto?page=2&sort=-published_at has started\n"
          ]
        },
        {
          "output_type": "stream",
          "name": "stderr",
          "text": [
            "https://www.artsy.net:443 \"GET /gene/impasto?page=2&sort=-published_at HTTP/1.1\" 200 None\n"
          ]
        },
        {
          "output_type": "stream",
          "name": "stdout",
          "text": [
            "1 pages for parsing\n",
            "Parsing of gene 06075 https://www.artsy.net/gene/impasto?page=2&sort=-published_at has finished\n",
            "328.31383776664734 seconds have passed\n",
            "11:52:32.333078\n",
            "\n"
          ]
        },
        {
          "output_type": "stream",
          "name": "stderr",
          "text": [
            "Starting new HTTPS connection (1): www.artsy.net:443\n"
          ]
        },
        {
          "output_type": "stream",
          "name": "stdout",
          "text": [
            "Parsing of gene 06131 https://www.artsy.net/gene/prints?page=2&sort=-published_at has started\n"
          ]
        },
        {
          "output_type": "stream",
          "name": "stderr",
          "text": [
            "https://www.artsy.net:443 \"GET /gene/prints?page=2&sort=-published_at HTTP/1.1\" 200 None\n"
          ]
        },
        {
          "output_type": "stream",
          "name": "stdout",
          "text": [
            "1 pages for parsing\n",
            "Parsing of gene 06131 https://www.artsy.net/gene/prints?page=2&sort=-published_at has finished\n",
            "331.1050343513489 seconds have passed\n",
            "11:52:35.124505\n",
            "\n",
            "Parsing of gene 05034 https://www.artsy.net/gene/grid?page=2&sort=-published_at has started\n"
          ]
        },
        {
          "output_type": "stream",
          "name": "stderr",
          "text": [
            "https://www.artsy.net:443 \"GET /gene/grid?page=2&sort=-published_at HTTP/1.1\" 200 None\n"
          ]
        },
        {
          "output_type": "stream",
          "name": "stdout",
          "text": [
            "1 pages for parsing\n",
            "Parsing of gene 05034 https://www.artsy.net/gene/grid?page=2&sort=-published_at has finished\n",
            "334.2654845714569 seconds have passed\n",
            "11:52:38.284308\n",
            "\n",
            "Parsing of gene 06064 https://www.artsy.net/gene/glass-and-ceramics?page=2&sort=-published_at has started\n"
          ]
        },
        {
          "output_type": "stream",
          "name": "stderr",
          "text": [
            "https://www.artsy.net:443 \"GET /gene/glass-and-ceramics?page=2&sort=-published_at HTTP/1.1\" 200 None\n"
          ]
        },
        {
          "output_type": "stream",
          "name": "stdout",
          "text": [
            "1 pages for parsing\n",
            "Parsing of gene 06064 https://www.artsy.net/gene/glass-and-ceramics?page=2&sort=-published_at has finished\n",
            "337.10136890411377 seconds have passed\n",
            "11:52:41.121204\n",
            "\n",
            "Parsing of gene 02181 https://www.artsy.net/gene/text?page=2&sort=-published_at has started\n"
          ]
        },
        {
          "output_type": "stream",
          "name": "stderr",
          "text": [
            "https://www.artsy.net:443 \"GET /gene/text?page=2&sort=-published_at HTTP/1.1\" 200 None\n"
          ]
        },
        {
          "output_type": "stream",
          "name": "stdout",
          "text": [
            "1 pages for parsing\n",
            "Parsing of gene 02181 https://www.artsy.net/gene/text?page=2&sort=-published_at has finished\n",
            "339.4063096046448 seconds have passed\n",
            "11:52:43.425607\n",
            "\n",
            "Parsing of gene 02092 https://www.artsy.net/gene/interiors?page=2&sort=-published_at has started\n"
          ]
        },
        {
          "output_type": "stream",
          "name": "stderr",
          "text": [
            "https://www.artsy.net:443 \"GET /gene/interiors?page=2&sort=-published_at HTTP/1.1\" 200 None\n"
          ]
        },
        {
          "output_type": "stream",
          "name": "stdout",
          "text": [
            "1 pages for parsing\n",
            "Parsing of gene 02092 https://www.artsy.net/gene/interiors?page=2&sort=-published_at has finished\n",
            "342.61826062202454 seconds have passed\n",
            "11:52:46.637090\n",
            "\n",
            "Parsing of gene 08041 https://www.artsy.net/gene/latin-american-art?page=2&sort=-published_at has started\n"
          ]
        },
        {
          "output_type": "stream",
          "name": "stderr",
          "text": [
            "https://www.artsy.net:443 \"GET /gene/latin-american-art?page=2&sort=-published_at HTTP/1.1\" 200 None\n"
          ]
        },
        {
          "output_type": "stream",
          "name": "stdout",
          "text": [
            "1 pages for parsing\n",
            "Parsing of gene 08041 https://www.artsy.net/gene/latin-american-art?page=2&sort=-published_at has finished\n",
            "345.06120777130127 seconds have passed\n",
            "11:52:49.080039\n",
            "\n",
            "Parsing of gene 03199 https://www.artsy.net/gene/pop-and-contemporary-pop?page=2&sort=-published_at has started\n"
          ]
        },
        {
          "output_type": "stream",
          "name": "stderr",
          "text": [
            "https://www.artsy.net:443 \"GET /gene/pop-and-contemporary-pop?page=2&sort=-published_at HTTP/1.1\" 200 None\n"
          ]
        },
        {
          "output_type": "stream",
          "name": "stdout",
          "text": [
            "1 pages for parsing\n",
            "Parsing of gene 03199 https://www.artsy.net/gene/pop-and-contemporary-pop?page=2&sort=-published_at has finished\n",
            "347.51602125167847 seconds have passed\n",
            "11:52:51.534853\n",
            "\n",
            "Parsing of gene 09039 https://www.artsy.net/gene/wood?page=2&sort=-published_at has started\n"
          ]
        },
        {
          "output_type": "stream",
          "name": "stderr",
          "text": [
            "https://www.artsy.net:443 \"GET /gene/wood?page=2&sort=-published_at HTTP/1.1\" 200 None\n"
          ]
        },
        {
          "output_type": "stream",
          "name": "stdout",
          "text": [
            "1 pages for parsing\n",
            "Parsing of gene 09039 https://www.artsy.net/gene/wood?page=2&sort=-published_at has finished\n",
            "350.92029428482056 seconds have passed\n",
            "11:52:54.939430\n",
            "\n",
            "Parsing of gene 08040 https://www.artsy.net/gene/korea?page=2&sort=-published_at has started\n"
          ]
        },
        {
          "output_type": "stream",
          "name": "stderr",
          "text": [
            "https://www.artsy.net:443 \"GET /gene/korea?page=2&sort=-published_at HTTP/1.1\" 200 None\n"
          ]
        },
        {
          "output_type": "stream",
          "name": "stdout",
          "text": [
            "1 pages for parsing\n",
            "Parsing of gene 08040 https://www.artsy.net/gene/korea?page=2&sort=-published_at has finished\n",
            "355.65659856796265 seconds have passed\n",
            "11:52:59.675438\n",
            "\n"
          ]
        }
      ],
      "source": [
        "df_temp_data_old = open_file_csv(temp_data_add_up, 'live') # 3. Open file.csv\n",
        "#  8.1 Get the first pages category data into DataFrame\n",
        "try:                                   #                     !!!!!!!               !!!!!!      !!!!!!\n",
        "  df_temp_data_new = get_df_data_add_up(df_temp_data_old, genes_links_list, genes_ids_list, genes_cat_list) # cat !!!!\n",
        "  #                  get_df_data_add_up(df_input, genes_links_list, genes_ids_list, cat) ->\n",
        "  # -> df_output\n",
        "except SystemExit:\n",
        "  pass\n",
        "\n",
        "save_df_file(df_temp_data_new, temp_data_add_up, 'live') # 4. Save df to csv file\n",
        "\n",
        "new_name_csv = temp_data_add_up.replace('.csv', '') + '_' + str(datetime.now()) + '.csv'\n",
        "backup_names.append(new_name_csv)\n",
        "save_df_file(df_temp_data_new, new_name_csv, 'backup') # 4. Save df to csv file"
      ]
    },
    {
      "cell_type": "code",
      "execution_count": 448,
      "metadata": {
        "id": "7LUgK0dU_nmD",
        "colab": {
          "base_uri": "https://localhost:8080/"
        },
        "outputId": "9683cd43-885c-447c-cfba-e8d7a80eff72"
      },
      "outputs": [
        {
          "output_type": "stream",
          "name": "stdout",
          "text": [
            "1\n"
          ]
        },
        {
          "output_type": "execute_result",
          "data": {
            "text/plain": [
              "['/artsy_temp_data_add_up_2022-04-20 11:53:00.238091.csv']"
            ]
          },
          "metadata": {},
          "execution_count": 448
        }
      ],
      "source": [
        "print(len(backup_names))\n",
        "backup_names"
      ]
    },
    {
      "cell_type": "code",
      "source": [
        "#16\n",
        "#['/artsy_temp_data_add_up_2022-04-20 05:02:01.952344.csv',\n",
        "# '/artsy_temp_data_add_up_2022-04-20 05:24:48.842989.csv',\n",
        "# '/artsy_temp_data_add_up_2022-04-20 05:42:10.688512.csv',\n",
        "# '/artsy_temp_data_add_up_2022-04-20 05:51:12.039562.csv',\n",
        "# '/artsy_temp_data_add_up_2022-04-20 05:56:56.573465.csv',\n",
        "# '/artsy_temp_data_add_up_2022-04-20 06:00:15.881305.csv',\n",
        "# '/artsy_temp_data_add_up_2022-04-20 06:04:28.699579.csv',\n",
        "# '/artsy_temp_data_add_up_2022-04-20 06:08:26.309967.csv',\n",
        "# '/artsy_temp_data_add_up_2022-04-20 06:12:17.323396.csv',\n",
        "# '/artsy_temp_data_add_up_2022-04-20 06:15:23.899838.csv',\n",
        "# '/artsy_temp_data_add_up_2022-04-20 06:18:51.838690.csv',\n",
        "# '/artsy_temp_data_add_up_2022-04-20 06:21:20.375642.csv',\n",
        "# '/artsy_temp_data_add_up_2022-04-20 06:22:54.784599.csv',\n",
        "# '/artsy_temp_data_add_up_2022-04-20 06:23:51.062563.csv',\n",
        "# '/artsy_temp_data_add_up_2022-04-20 06:25:09.194797.csv',\n",
        "# '/artsy_temp_data_add_up_2022-04-20 06:25:52.799921.csv']\n",
        "\n",
        "# ['/artsy_temp_data_add_up_2022-04-20 06:54:25.118334.csv']"
      ],
      "metadata": {
        "id": "Q6LYKQAsvyQX"
      },
      "execution_count": null,
      "outputs": []
    },
    {
      "cell_type": "code",
      "source": [
        "df_temp_data_new.info()"
      ],
      "metadata": {
        "colab": {
          "base_uri": "https://localhost:8080/"
        },
        "id": "4h0BREMWXjMO",
        "outputId": "40d7025f-1d79-46c8-ec5c-644e5f287511"
      },
      "execution_count": 449,
      "outputs": [
        {
          "output_type": "stream",
          "name": "stdout",
          "text": [
            "<class 'pandas.core.frame.DataFrame'>\n",
            "Int64Index: 3870 entries, 0 to 29\n",
            "Data columns (total 13 columns):\n",
            " #   Column            Non-Null Count  Dtype  \n",
            "---  ------            --------------  -----  \n",
            " 0   artsy_id          3870 non-null   object \n",
            " 1   name              3870 non-null   object \n",
            " 2   link              3870 non-null   object \n",
            " 3   year              3857 non-null   object \n",
            " 4   artist            3870 non-null   object \n",
            " 5   gallery           3870 non-null   object \n",
            " 6   price             3870 non-null   object \n",
            " 7   gene_id           3870 non-null   object \n",
            " 8   category_id       3870 non-null   object \n",
            " 9   parsing_date      3870 non-null   object \n",
            " 10  updating_date     3870 non-null   object \n",
            " 11  pages_count       3870 non-null   float64\n",
            " 12  second_page_link  0 non-null      object \n",
            "dtypes: float64(1), object(12)\n",
            "memory usage: 423.3+ KB\n"
          ]
        }
      ]
    },
    {
      "cell_type": "code",
      "source": [
        "df_temp_data_new.sample(5)"
      ],
      "metadata": {
        "colab": {
          "base_uri": "https://localhost:8080/",
          "height": 495
        },
        "id": "u8k_gt8nXr6G",
        "outputId": "290ad2c9-d510-44b0-e31a-21f0d8edb912"
      },
      "execution_count": 450,
      "outputs": [
        {
          "output_type": "execute_result",
          "data": {
            "text/plain": [
              "                    artsy_id                           name  \\\n",
              "3   625cea18b65677000dad66c1  Big Flowers, Coffee and Pears   \n",
              "25  625a41457ae207000d445934                          Sylph   \n",
              "20  625988cdb502a0000be5d753                     VerbumCall   \n",
              "8   61706474a1b107000d9b6399                   Core Desires   \n",
              "20  625e84341d4ecd000e7790fc                          Diane   \n",
              "\n",
              "                                                 link          year  \\\n",
              "3   https://d7hftxdivxxvm.cloudfront.net?resize_to...          2021   \n",
              "25  https://d7hftxdivxxvm.cloudfront.net?resize_to...          2022   \n",
              "20  https://d7hftxdivxxvm.cloudfront.net?resize_to...          2007   \n",
              "8   https://d7hftxdivxxvm.cloudfront.net?resize_to...          2020   \n",
              "20  https://d7hftxdivxxvm.cloudfront.net?resize_to...  17th Century   \n",
              "\n",
              "                                               artist             gallery  \\\n",
              "3   erikaintheislandBig Flowers, Coffee and Pears,...         Casie Kyoto   \n",
              "25  Kirsten Thys van den AudenaerdeSylph, 2022Inst...       Instantdreams   \n",
              "20  Peter WüthrichVerbumCall, 2007Galleria Fumagal...  Galleria Fumagalli   \n",
              "8   Marisa AdesmanCore Desires, 2020Anat EbgiPrice...           Anat Ebgi   \n",
              "20  Laurent de La HyreDiane, 17th CenturyWallector...           Wallector   \n",
              "\n",
              "                price gene_id category_id parsing_date updating_date  \\\n",
              "3             US$549    02073          02   2022-04-20    2022-04-20   \n",
              "25     US$380–US$650    08009          08   2022-04-20    2022-04-20   \n",
              "20     €2,500–€3,000    06025          06   2022-04-20    2022-04-20   \n",
              "8   Price on request    02073          02   2022-04-20    2022-04-20   \n",
              "20              £400    02119          02   2022-04-20    2022-04-20   \n",
              "\n",
              "    pages_count second_page_link  \n",
              "3           1.0              NaN  \n",
              "25          1.0              NaN  \n",
              "20          1.0              NaN  \n",
              "8           1.0              NaN  \n",
              "20          1.0              NaN  "
            ],
            "text/html": [
              "\n",
              "  <div id=\"df-ccd919cc-2639-4df1-9d2d-ff74fe76245f\">\n",
              "    <div class=\"colab-df-container\">\n",
              "      <div>\n",
              "<style scoped>\n",
              "    .dataframe tbody tr th:only-of-type {\n",
              "        vertical-align: middle;\n",
              "    }\n",
              "\n",
              "    .dataframe tbody tr th {\n",
              "        vertical-align: top;\n",
              "    }\n",
              "\n",
              "    .dataframe thead th {\n",
              "        text-align: right;\n",
              "    }\n",
              "</style>\n",
              "<table border=\"1\" class=\"dataframe\">\n",
              "  <thead>\n",
              "    <tr style=\"text-align: right;\">\n",
              "      <th></th>\n",
              "      <th>artsy_id</th>\n",
              "      <th>name</th>\n",
              "      <th>link</th>\n",
              "      <th>year</th>\n",
              "      <th>artist</th>\n",
              "      <th>gallery</th>\n",
              "      <th>price</th>\n",
              "      <th>gene_id</th>\n",
              "      <th>category_id</th>\n",
              "      <th>parsing_date</th>\n",
              "      <th>updating_date</th>\n",
              "      <th>pages_count</th>\n",
              "      <th>second_page_link</th>\n",
              "    </tr>\n",
              "  </thead>\n",
              "  <tbody>\n",
              "    <tr>\n",
              "      <th>3</th>\n",
              "      <td>625cea18b65677000dad66c1</td>\n",
              "      <td>Big Flowers, Coffee and Pears</td>\n",
              "      <td>https://d7hftxdivxxvm.cloudfront.net?resize_to...</td>\n",
              "      <td>2021</td>\n",
              "      <td>erikaintheislandBig Flowers, Coffee and Pears,...</td>\n",
              "      <td>Casie Kyoto</td>\n",
              "      <td>US$549</td>\n",
              "      <td>02073</td>\n",
              "      <td>02</td>\n",
              "      <td>2022-04-20</td>\n",
              "      <td>2022-04-20</td>\n",
              "      <td>1.0</td>\n",
              "      <td>NaN</td>\n",
              "    </tr>\n",
              "    <tr>\n",
              "      <th>25</th>\n",
              "      <td>625a41457ae207000d445934</td>\n",
              "      <td>Sylph</td>\n",
              "      <td>https://d7hftxdivxxvm.cloudfront.net?resize_to...</td>\n",
              "      <td>2022</td>\n",
              "      <td>Kirsten Thys van den AudenaerdeSylph, 2022Inst...</td>\n",
              "      <td>Instantdreams</td>\n",
              "      <td>US$380–US$650</td>\n",
              "      <td>08009</td>\n",
              "      <td>08</td>\n",
              "      <td>2022-04-20</td>\n",
              "      <td>2022-04-20</td>\n",
              "      <td>1.0</td>\n",
              "      <td>NaN</td>\n",
              "    </tr>\n",
              "    <tr>\n",
              "      <th>20</th>\n",
              "      <td>625988cdb502a0000be5d753</td>\n",
              "      <td>VerbumCall</td>\n",
              "      <td>https://d7hftxdivxxvm.cloudfront.net?resize_to...</td>\n",
              "      <td>2007</td>\n",
              "      <td>Peter WüthrichVerbumCall, 2007Galleria Fumagal...</td>\n",
              "      <td>Galleria Fumagalli</td>\n",
              "      <td>€2,500–€3,000</td>\n",
              "      <td>06025</td>\n",
              "      <td>06</td>\n",
              "      <td>2022-04-20</td>\n",
              "      <td>2022-04-20</td>\n",
              "      <td>1.0</td>\n",
              "      <td>NaN</td>\n",
              "    </tr>\n",
              "    <tr>\n",
              "      <th>8</th>\n",
              "      <td>61706474a1b107000d9b6399</td>\n",
              "      <td>Core Desires</td>\n",
              "      <td>https://d7hftxdivxxvm.cloudfront.net?resize_to...</td>\n",
              "      <td>2020</td>\n",
              "      <td>Marisa AdesmanCore Desires, 2020Anat EbgiPrice...</td>\n",
              "      <td>Anat Ebgi</td>\n",
              "      <td>Price on request</td>\n",
              "      <td>02073</td>\n",
              "      <td>02</td>\n",
              "      <td>2022-04-20</td>\n",
              "      <td>2022-04-20</td>\n",
              "      <td>1.0</td>\n",
              "      <td>NaN</td>\n",
              "    </tr>\n",
              "    <tr>\n",
              "      <th>20</th>\n",
              "      <td>625e84341d4ecd000e7790fc</td>\n",
              "      <td>Diane</td>\n",
              "      <td>https://d7hftxdivxxvm.cloudfront.net?resize_to...</td>\n",
              "      <td>17th Century</td>\n",
              "      <td>Laurent de La HyreDiane, 17th CenturyWallector...</td>\n",
              "      <td>Wallector</td>\n",
              "      <td>£400</td>\n",
              "      <td>02119</td>\n",
              "      <td>02</td>\n",
              "      <td>2022-04-20</td>\n",
              "      <td>2022-04-20</td>\n",
              "      <td>1.0</td>\n",
              "      <td>NaN</td>\n",
              "    </tr>\n",
              "  </tbody>\n",
              "</table>\n",
              "</div>\n",
              "      <button class=\"colab-df-convert\" onclick=\"convertToInteractive('df-ccd919cc-2639-4df1-9d2d-ff74fe76245f')\"\n",
              "              title=\"Convert this dataframe to an interactive table.\"\n",
              "              style=\"display:none;\">\n",
              "        \n",
              "  <svg xmlns=\"http://www.w3.org/2000/svg\" height=\"24px\"viewBox=\"0 0 24 24\"\n",
              "       width=\"24px\">\n",
              "    <path d=\"M0 0h24v24H0V0z\" fill=\"none\"/>\n",
              "    <path d=\"M18.56 5.44l.94 2.06.94-2.06 2.06-.94-2.06-.94-.94-2.06-.94 2.06-2.06.94zm-11 1L8.5 8.5l.94-2.06 2.06-.94-2.06-.94L8.5 2.5l-.94 2.06-2.06.94zm10 10l.94 2.06.94-2.06 2.06-.94-2.06-.94-.94-2.06-.94 2.06-2.06.94z\"/><path d=\"M17.41 7.96l-1.37-1.37c-.4-.4-.92-.59-1.43-.59-.52 0-1.04.2-1.43.59L10.3 9.45l-7.72 7.72c-.78.78-.78 2.05 0 2.83L4 21.41c.39.39.9.59 1.41.59.51 0 1.02-.2 1.41-.59l7.78-7.78 2.81-2.81c.8-.78.8-2.07 0-2.86zM5.41 20L4 18.59l7.72-7.72 1.47 1.35L5.41 20z\"/>\n",
              "  </svg>\n",
              "      </button>\n",
              "      \n",
              "  <style>\n",
              "    .colab-df-container {\n",
              "      display:flex;\n",
              "      flex-wrap:wrap;\n",
              "      gap: 12px;\n",
              "    }\n",
              "\n",
              "    .colab-df-convert {\n",
              "      background-color: #E8F0FE;\n",
              "      border: none;\n",
              "      border-radius: 50%;\n",
              "      cursor: pointer;\n",
              "      display: none;\n",
              "      fill: #1967D2;\n",
              "      height: 32px;\n",
              "      padding: 0 0 0 0;\n",
              "      width: 32px;\n",
              "    }\n",
              "\n",
              "    .colab-df-convert:hover {\n",
              "      background-color: #E2EBFA;\n",
              "      box-shadow: 0px 1px 2px rgba(60, 64, 67, 0.3), 0px 1px 3px 1px rgba(60, 64, 67, 0.15);\n",
              "      fill: #174EA6;\n",
              "    }\n",
              "\n",
              "    [theme=dark] .colab-df-convert {\n",
              "      background-color: #3B4455;\n",
              "      fill: #D2E3FC;\n",
              "    }\n",
              "\n",
              "    [theme=dark] .colab-df-convert:hover {\n",
              "      background-color: #434B5C;\n",
              "      box-shadow: 0px 1px 3px 1px rgba(0, 0, 0, 0.15);\n",
              "      filter: drop-shadow(0px 1px 2px rgba(0, 0, 0, 0.3));\n",
              "      fill: #FFFFFF;\n",
              "    }\n",
              "  </style>\n",
              "\n",
              "      <script>\n",
              "        const buttonEl =\n",
              "          document.querySelector('#df-ccd919cc-2639-4df1-9d2d-ff74fe76245f button.colab-df-convert');\n",
              "        buttonEl.style.display =\n",
              "          google.colab.kernel.accessAllowed ? 'block' : 'none';\n",
              "\n",
              "        async function convertToInteractive(key) {\n",
              "          const element = document.querySelector('#df-ccd919cc-2639-4df1-9d2d-ff74fe76245f');\n",
              "          const dataTable =\n",
              "            await google.colab.kernel.invokeFunction('convertToInteractive',\n",
              "                                                     [key], {});\n",
              "          if (!dataTable) return;\n",
              "\n",
              "          const docLinkHtml = 'Like what you see? Visit the ' +\n",
              "            '<a target=\"_blank\" href=https://colab.research.google.com/notebooks/data_table.ipynb>data table notebook</a>'\n",
              "            + ' to learn more about interactive tables.';\n",
              "          element.innerHTML = '';\n",
              "          dataTable['output_type'] = 'display_data';\n",
              "          await google.colab.output.renderOutput(dataTable, element);\n",
              "          const docLink = document.createElement('div');\n",
              "          docLink.innerHTML = docLinkHtml;\n",
              "          element.appendChild(docLink);\n",
              "        }\n",
              "      </script>\n",
              "    </div>\n",
              "  </div>\n",
              "  "
            ]
          },
          "metadata": {},
          "execution_count": 450
        }
      ]
    },
    {
      "cell_type": "code",
      "source": [
        "for l in df_temp_data_new.sample(5)['second_page_link']:\n",
        "  print(l)"
      ],
      "metadata": {
        "colab": {
          "base_uri": "https://localhost:8080/"
        },
        "id": "CtlGGEMtX7cG",
        "outputId": "df04b0b3-a9a4-4531-b821-44b12825d53b"
      },
      "execution_count": 106,
      "outputs": [
        {
          "output_type": "stream",
          "name": "stdout",
          "text": [
            "https://www.artsy.net/gene/women-designers?page=2&sort=-published_at\n",
            "https://www.artsy.net/gene/handcrafted-furniture-and-design?page=2&sort=-published_at\n",
            "https://www.artsy.net/gene/focus-on-joints-slash-connections?page=2&sort=-published_at\n",
            "https://www.artsy.net/gene/design-by-architects?page=2&sort=-published_at\n",
            "https://www.artsy.net/gene/engineering-slash-construction-and-design?page=2&sort=-published_at\n"
          ]
        }
      ]
    },
    {
      "cell_type": "code",
      "source": [
        "print(len(genes_ids_list))\n",
        "df_temp_data_new['gene_id'].dropna().nunique()"
      ],
      "metadata": {
        "colab": {
          "base_uri": "https://localhost:8080/"
        },
        "id": "nwXh1YiOY0Vv",
        "outputId": "3f910901-da98-4ca0-985f-d49f55255eb1"
      },
      "execution_count": 451,
      "outputs": [
        {
          "output_type": "stream",
          "name": "stdout",
          "text": [
            "129\n"
          ]
        },
        {
          "output_type": "execute_result",
          "data": {
            "text/plain": [
              "129"
            ]
          },
          "metadata": {},
          "execution_count": 451
        }
      ]
    },
    {
      "cell_type": "code",
      "source": [
        "# !!! cat 08 !!!\n",
        "check_gene_id = df_temp_data_new['gene_id'].dropna().unique().tolist()\n",
        "len(check_gene_id)"
      ],
      "metadata": {
        "colab": {
          "base_uri": "https://localhost:8080/"
        },
        "id": "lSehbyODcrN4",
        "outputId": "4eced959-c010-4ebb-9089-59f1ee7ce543"
      },
      "execution_count": 78,
      "outputs": [
        {
          "output_type": "execute_result",
          "data": {
            "text/plain": [
              "67"
            ]
          },
          "metadata": {},
          "execution_count": 78
        }
      ]
    },
    {
      "cell_type": "code",
      "source": [
        "genes_ids_list_er = list(set(genes_ids_list) - set(check_gene_id))\n",
        "genes_ids_list_er"
      ],
      "metadata": {
        "colab": {
          "base_uri": "https://localhost:8080/"
        },
        "id": "P-y3EAJVctbN",
        "outputId": "f5a6afad-dbf0-42d9-ea66-5596107a04db"
      },
      "execution_count": 79,
      "outputs": [
        {
          "output_type": "execute_result",
          "data": {
            "text/plain": [
              "['08066']"
            ]
          },
          "metadata": {},
          "execution_count": 79
        }
      ]
    },
    {
      "cell_type": "code",
      "source": [
        "genes_links_list_er = [genes_links_list[genes_ids_list.index(g_id)] for g_id in genes_ids_list_er]\n",
        "for link in genes_links_list_er:\n",
        "  print(url_add + link)"
      ],
      "metadata": {
        "colab": {
          "base_uri": "https://localhost:8080/"
        },
        "id": "7kB-GMZmcxiv",
        "outputId": "96882153-f728-4a15-c126-da5399993ec9"
      },
      "execution_count": 80,
      "outputs": [
        {
          "output_type": "stream",
          "name": "stdout",
          "text": [
            "https://www.artsy.net/gene/tokyo-artists?sort=-published_at\n"
          ]
        }
      ]
    },
    {
      "cell_type": "markdown",
      "source": [
        "Pages of these genes ('03133', '03185', '08066') are empty, so everything's allright."
      ],
      "metadata": {
        "id": "kIFogD3Pc_dW"
      }
    },
    {
      "cell_type": "markdown",
      "source": [
        "Merging"
      ],
      "metadata": {
        "id": "2cb26xsjlRlr"
      }
    },
    {
      "cell_type": "code",
      "source": [
        "backup_names = ['/artsy_temp_data_add_up_2022-04-20 05:02:01.952344.csv',\n",
        "                '/artsy_temp_data_add_up_2022-04-20 05:24:48.842989.csv',\n",
        "                '/artsy_temp_data_add_up_2022-04-20 05:42:10.688512.csv',\n",
        "                '/artsy_temp_data_add_up_2022-04-20 05:51:12.039562.csv',\n",
        "                '/artsy_temp_data_add_up_2022-04-20 05:56:56.573465.csv',\n",
        "                '/artsy_temp_data_add_up_2022-04-20 06:00:15.881305.csv',\n",
        "                '/artsy_temp_data_add_up_2022-04-20 06:04:28.699579.csv',\n",
        "                '/artsy_temp_data_add_up_2022-04-20 06:08:26.309967.csv',\n",
        "                '/artsy_temp_data_add_up_2022-04-20 06:12:17.323396.csv',\n",
        "                '/artsy_temp_data_add_up_2022-04-20 06:15:23.899838.csv',\n",
        "                '/artsy_temp_data_add_up_2022-04-20 06:18:51.838690.csv',\n",
        "                '/artsy_temp_data_add_up_2022-04-20 06:21:20.375642.csv',\n",
        "                '/artsy_temp_data_add_up_2022-04-20 06:22:54.784599.csv',\n",
        "                '/artsy_temp_data_add_up_2022-04-20 06:23:51.062563.csv',\n",
        "                '/artsy_temp_data_add_up_2022-04-20 06:25:09.194797.csv',\n",
        "                '/artsy_temp_data_add_up_2022-04-20 06:25:52.799921.csv',\n",
        "                '/artsy_temp_data_add_up_2022-04-20 06:54:25.118334.csv']"
      ],
      "metadata": {
        "id": "eFljMifSlVw3"
      },
      "execution_count": 399,
      "outputs": []
    },
    {
      "cell_type": "code",
      "source": [
        "df_cat_dat = open_file_csv(backup_names[0], 'backup') # 3. Open file.csv\n",
        "for name in backup_names[1:]:\n",
        "  df_cat_dat_part = open_file_csv(name, 'backup') # 3. Open file.csv\n",
        "  df_cat_dat = pd.concat([df_cat_dat, df_cat_dat_part])\n",
        "\n",
        "df_cat_dat['category_id'] = df_cat_dat['category_id'].dropna().apply(lambda x: str(x) if len(str(x))==cat_id_len else ('0'*(cat_id_len-len(str(x)))+str(x)))\n",
        "df_cat_dat['gene_id'] = df_cat_dat['gene_id'].dropna().apply(lambda x: str(x) if len(str(x))==gen_id_len else ('0'*(gen_id_len-len(str(x)))+str(x)))\n",
        "\n",
        "df_cat_dat.info()"
      ],
      "metadata": {
        "colab": {
          "base_uri": "https://localhost:8080/"
        },
        "id": "0lGQQH4bnXUg",
        "outputId": "ca91dff4-6175-4b5d-908f-568f47529096"
      },
      "execution_count": 400,
      "outputs": [
        {
          "output_type": "stream",
          "name": "stdout",
          "text": [
            "<class 'pandas.core.frame.DataFrame'>\n",
            "Int64Index: 29307 entries, 0 to 29\n",
            "Data columns (total 13 columns):\n",
            " #   Column            Non-Null Count  Dtype  \n",
            "---  ------            --------------  -----  \n",
            " 0   artsy_id          29306 non-null  object \n",
            " 1   name              29306 non-null  object \n",
            " 2   link              29306 non-null  object \n",
            " 3   year              28034 non-null  object \n",
            " 4   artist            29306 non-null  object \n",
            " 5   gallery           29300 non-null  object \n",
            " 6   price             29306 non-null  object \n",
            " 7   gene_id           29307 non-null  object \n",
            " 8   category_id       29307 non-null  object \n",
            " 9   parsing_date      29307 non-null  object \n",
            " 10  updating_date     29307 non-null  object \n",
            " 11  pages_count       29307 non-null  float64\n",
            " 12  second_page_link  28163 non-null  object \n",
            "dtypes: float64(1), object(12)\n",
            "memory usage: 3.1+ MB\n"
          ]
        }
      ]
    },
    {
      "cell_type": "code",
      "source": [
        "df_cat_dat.loc[df_cat_dat['artsy_id'].isna()==True]"
      ],
      "metadata": {
        "colab": {
          "base_uri": "https://localhost:8080/",
          "height": 144
        },
        "id": "LX3Hv2dOnr90",
        "outputId": "1e7fa7df-6dac-46ab-cd6b-fb00e915e90a"
      },
      "execution_count": 401,
      "outputs": [
        {
          "output_type": "execute_result",
          "data": {
            "text/plain": [
              "    artsy_id name link year artist gallery price gene_id category_id  \\\n",
              "900      NaN  NaN  NaN  NaN    NaN     NaN   NaN   09031          09   \n",
              "\n",
              "    parsing_date updating_date  pages_count second_page_link  \n",
              "900   2022-04-20    2022-04-20          1.0              NaN  "
            ],
            "text/html": [
              "\n",
              "  <div id=\"df-9265cbf3-e90c-4c1b-9995-256602cad19a\">\n",
              "    <div class=\"colab-df-container\">\n",
              "      <div>\n",
              "<style scoped>\n",
              "    .dataframe tbody tr th:only-of-type {\n",
              "        vertical-align: middle;\n",
              "    }\n",
              "\n",
              "    .dataframe tbody tr th {\n",
              "        vertical-align: top;\n",
              "    }\n",
              "\n",
              "    .dataframe thead th {\n",
              "        text-align: right;\n",
              "    }\n",
              "</style>\n",
              "<table border=\"1\" class=\"dataframe\">\n",
              "  <thead>\n",
              "    <tr style=\"text-align: right;\">\n",
              "      <th></th>\n",
              "      <th>artsy_id</th>\n",
              "      <th>name</th>\n",
              "      <th>link</th>\n",
              "      <th>year</th>\n",
              "      <th>artist</th>\n",
              "      <th>gallery</th>\n",
              "      <th>price</th>\n",
              "      <th>gene_id</th>\n",
              "      <th>category_id</th>\n",
              "      <th>parsing_date</th>\n",
              "      <th>updating_date</th>\n",
              "      <th>pages_count</th>\n",
              "      <th>second_page_link</th>\n",
              "    </tr>\n",
              "  </thead>\n",
              "  <tbody>\n",
              "    <tr>\n",
              "      <th>900</th>\n",
              "      <td>NaN</td>\n",
              "      <td>NaN</td>\n",
              "      <td>NaN</td>\n",
              "      <td>NaN</td>\n",
              "      <td>NaN</td>\n",
              "      <td>NaN</td>\n",
              "      <td>NaN</td>\n",
              "      <td>09031</td>\n",
              "      <td>09</td>\n",
              "      <td>2022-04-20</td>\n",
              "      <td>2022-04-20</td>\n",
              "      <td>1.0</td>\n",
              "      <td>NaN</td>\n",
              "    </tr>\n",
              "  </tbody>\n",
              "</table>\n",
              "</div>\n",
              "      <button class=\"colab-df-convert\" onclick=\"convertToInteractive('df-9265cbf3-e90c-4c1b-9995-256602cad19a')\"\n",
              "              title=\"Convert this dataframe to an interactive table.\"\n",
              "              style=\"display:none;\">\n",
              "        \n",
              "  <svg xmlns=\"http://www.w3.org/2000/svg\" height=\"24px\"viewBox=\"0 0 24 24\"\n",
              "       width=\"24px\">\n",
              "    <path d=\"M0 0h24v24H0V0z\" fill=\"none\"/>\n",
              "    <path d=\"M18.56 5.44l.94 2.06.94-2.06 2.06-.94-2.06-.94-.94-2.06-.94 2.06-2.06.94zm-11 1L8.5 8.5l.94-2.06 2.06-.94-2.06-.94L8.5 2.5l-.94 2.06-2.06.94zm10 10l.94 2.06.94-2.06 2.06-.94-2.06-.94-.94-2.06-.94 2.06-2.06.94z\"/><path d=\"M17.41 7.96l-1.37-1.37c-.4-.4-.92-.59-1.43-.59-.52 0-1.04.2-1.43.59L10.3 9.45l-7.72 7.72c-.78.78-.78 2.05 0 2.83L4 21.41c.39.39.9.59 1.41.59.51 0 1.02-.2 1.41-.59l7.78-7.78 2.81-2.81c.8-.78.8-2.07 0-2.86zM5.41 20L4 18.59l7.72-7.72 1.47 1.35L5.41 20z\"/>\n",
              "  </svg>\n",
              "      </button>\n",
              "      \n",
              "  <style>\n",
              "    .colab-df-container {\n",
              "      display:flex;\n",
              "      flex-wrap:wrap;\n",
              "      gap: 12px;\n",
              "    }\n",
              "\n",
              "    .colab-df-convert {\n",
              "      background-color: #E8F0FE;\n",
              "      border: none;\n",
              "      border-radius: 50%;\n",
              "      cursor: pointer;\n",
              "      display: none;\n",
              "      fill: #1967D2;\n",
              "      height: 32px;\n",
              "      padding: 0 0 0 0;\n",
              "      width: 32px;\n",
              "    }\n",
              "\n",
              "    .colab-df-convert:hover {\n",
              "      background-color: #E2EBFA;\n",
              "      box-shadow: 0px 1px 2px rgba(60, 64, 67, 0.3), 0px 1px 3px 1px rgba(60, 64, 67, 0.15);\n",
              "      fill: #174EA6;\n",
              "    }\n",
              "\n",
              "    [theme=dark] .colab-df-convert {\n",
              "      background-color: #3B4455;\n",
              "      fill: #D2E3FC;\n",
              "    }\n",
              "\n",
              "    [theme=dark] .colab-df-convert:hover {\n",
              "      background-color: #434B5C;\n",
              "      box-shadow: 0px 1px 3px 1px rgba(0, 0, 0, 0.15);\n",
              "      filter: drop-shadow(0px 1px 2px rgba(0, 0, 0, 0.3));\n",
              "      fill: #FFFFFF;\n",
              "    }\n",
              "  </style>\n",
              "\n",
              "      <script>\n",
              "        const buttonEl =\n",
              "          document.querySelector('#df-9265cbf3-e90c-4c1b-9995-256602cad19a button.colab-df-convert');\n",
              "        buttonEl.style.display =\n",
              "          google.colab.kernel.accessAllowed ? 'block' : 'none';\n",
              "\n",
              "        async function convertToInteractive(key) {\n",
              "          const element = document.querySelector('#df-9265cbf3-e90c-4c1b-9995-256602cad19a');\n",
              "          const dataTable =\n",
              "            await google.colab.kernel.invokeFunction('convertToInteractive',\n",
              "                                                     [key], {});\n",
              "          if (!dataTable) return;\n",
              "\n",
              "          const docLinkHtml = 'Like what you see? Visit the ' +\n",
              "            '<a target=\"_blank\" href=https://colab.research.google.com/notebooks/data_table.ipynb>data table notebook</a>'\n",
              "            + ' to learn more about interactive tables.';\n",
              "          element.innerHTML = '';\n",
              "          dataTable['output_type'] = 'display_data';\n",
              "          await google.colab.output.renderOutput(dataTable, element);\n",
              "          const docLink = document.createElement('div');\n",
              "          docLink.innerHTML = docLinkHtml;\n",
              "          element.appendChild(docLink);\n",
              "        }\n",
              "      </script>\n",
              "    </div>\n",
              "  </div>\n",
              "  "
            ]
          },
          "metadata": {},
          "execution_count": 401
        }
      ]
    },
    {
      "cell_type": "code",
      "source": [
        "df_cat_dat.loc[df_cat_dat['gene_id']=='09031'].head()"
      ],
      "metadata": {
        "colab": {
          "base_uri": "https://localhost:8080/",
          "height": 144
        },
        "id": "461M3gL6nv0p",
        "outputId": "835aa9a5-010f-4e26-efb6-d5b5cf2cc5bd"
      },
      "execution_count": 140,
      "outputs": [
        {
          "output_type": "execute_result",
          "data": {
            "text/plain": [
              "    artsy_id name link year artist gallery price gene_id category_id  \\\n",
              "900      NaN  NaN  NaN  NaN    NaN     NaN   NaN   09031          09   \n",
              "\n",
              "    parsing_date updating_date  pages_count second_page_link  \n",
              "900   2022-04-20    2022-04-20          1.0              NaN  "
            ],
            "text/html": [
              "\n",
              "  <div id=\"df-1996909b-663b-4421-8670-dfb8206f5126\">\n",
              "    <div class=\"colab-df-container\">\n",
              "      <div>\n",
              "<style scoped>\n",
              "    .dataframe tbody tr th:only-of-type {\n",
              "        vertical-align: middle;\n",
              "    }\n",
              "\n",
              "    .dataframe tbody tr th {\n",
              "        vertical-align: top;\n",
              "    }\n",
              "\n",
              "    .dataframe thead th {\n",
              "        text-align: right;\n",
              "    }\n",
              "</style>\n",
              "<table border=\"1\" class=\"dataframe\">\n",
              "  <thead>\n",
              "    <tr style=\"text-align: right;\">\n",
              "      <th></th>\n",
              "      <th>artsy_id</th>\n",
              "      <th>name</th>\n",
              "      <th>link</th>\n",
              "      <th>year</th>\n",
              "      <th>artist</th>\n",
              "      <th>gallery</th>\n",
              "      <th>price</th>\n",
              "      <th>gene_id</th>\n",
              "      <th>category_id</th>\n",
              "      <th>parsing_date</th>\n",
              "      <th>updating_date</th>\n",
              "      <th>pages_count</th>\n",
              "      <th>second_page_link</th>\n",
              "    </tr>\n",
              "  </thead>\n",
              "  <tbody>\n",
              "    <tr>\n",
              "      <th>900</th>\n",
              "      <td>NaN</td>\n",
              "      <td>NaN</td>\n",
              "      <td>NaN</td>\n",
              "      <td>NaN</td>\n",
              "      <td>NaN</td>\n",
              "      <td>NaN</td>\n",
              "      <td>NaN</td>\n",
              "      <td>09031</td>\n",
              "      <td>09</td>\n",
              "      <td>2022-04-20</td>\n",
              "      <td>2022-04-20</td>\n",
              "      <td>1.0</td>\n",
              "      <td>NaN</td>\n",
              "    </tr>\n",
              "  </tbody>\n",
              "</table>\n",
              "</div>\n",
              "      <button class=\"colab-df-convert\" onclick=\"convertToInteractive('df-1996909b-663b-4421-8670-dfb8206f5126')\"\n",
              "              title=\"Convert this dataframe to an interactive table.\"\n",
              "              style=\"display:none;\">\n",
              "        \n",
              "  <svg xmlns=\"http://www.w3.org/2000/svg\" height=\"24px\"viewBox=\"0 0 24 24\"\n",
              "       width=\"24px\">\n",
              "    <path d=\"M0 0h24v24H0V0z\" fill=\"none\"/>\n",
              "    <path d=\"M18.56 5.44l.94 2.06.94-2.06 2.06-.94-2.06-.94-.94-2.06-.94 2.06-2.06.94zm-11 1L8.5 8.5l.94-2.06 2.06-.94-2.06-.94L8.5 2.5l-.94 2.06-2.06.94zm10 10l.94 2.06.94-2.06 2.06-.94-2.06-.94-.94-2.06-.94 2.06-2.06.94z\"/><path d=\"M17.41 7.96l-1.37-1.37c-.4-.4-.92-.59-1.43-.59-.52 0-1.04.2-1.43.59L10.3 9.45l-7.72 7.72c-.78.78-.78 2.05 0 2.83L4 21.41c.39.39.9.59 1.41.59.51 0 1.02-.2 1.41-.59l7.78-7.78 2.81-2.81c.8-.78.8-2.07 0-2.86zM5.41 20L4 18.59l7.72-7.72 1.47 1.35L5.41 20z\"/>\n",
              "  </svg>\n",
              "      </button>\n",
              "      \n",
              "  <style>\n",
              "    .colab-df-container {\n",
              "      display:flex;\n",
              "      flex-wrap:wrap;\n",
              "      gap: 12px;\n",
              "    }\n",
              "\n",
              "    .colab-df-convert {\n",
              "      background-color: #E8F0FE;\n",
              "      border: none;\n",
              "      border-radius: 50%;\n",
              "      cursor: pointer;\n",
              "      display: none;\n",
              "      fill: #1967D2;\n",
              "      height: 32px;\n",
              "      padding: 0 0 0 0;\n",
              "      width: 32px;\n",
              "    }\n",
              "\n",
              "    .colab-df-convert:hover {\n",
              "      background-color: #E2EBFA;\n",
              "      box-shadow: 0px 1px 2px rgba(60, 64, 67, 0.3), 0px 1px 3px 1px rgba(60, 64, 67, 0.15);\n",
              "      fill: #174EA6;\n",
              "    }\n",
              "\n",
              "    [theme=dark] .colab-df-convert {\n",
              "      background-color: #3B4455;\n",
              "      fill: #D2E3FC;\n",
              "    }\n",
              "\n",
              "    [theme=dark] .colab-df-convert:hover {\n",
              "      background-color: #434B5C;\n",
              "      box-shadow: 0px 1px 3px 1px rgba(0, 0, 0, 0.15);\n",
              "      filter: drop-shadow(0px 1px 2px rgba(0, 0, 0, 0.3));\n",
              "      fill: #FFFFFF;\n",
              "    }\n",
              "  </style>\n",
              "\n",
              "      <script>\n",
              "        const buttonEl =\n",
              "          document.querySelector('#df-1996909b-663b-4421-8670-dfb8206f5126 button.colab-df-convert');\n",
              "        buttonEl.style.display =\n",
              "          google.colab.kernel.accessAllowed ? 'block' : 'none';\n",
              "\n",
              "        async function convertToInteractive(key) {\n",
              "          const element = document.querySelector('#df-1996909b-663b-4421-8670-dfb8206f5126');\n",
              "          const dataTable =\n",
              "            await google.colab.kernel.invokeFunction('convertToInteractive',\n",
              "                                                     [key], {});\n",
              "          if (!dataTable) return;\n",
              "\n",
              "          const docLinkHtml = 'Like what you see? Visit the ' +\n",
              "            '<a target=\"_blank\" href=https://colab.research.google.com/notebooks/data_table.ipynb>data table notebook</a>'\n",
              "            + ' to learn more about interactive tables.';\n",
              "          element.innerHTML = '';\n",
              "          dataTable['output_type'] = 'display_data';\n",
              "          await google.colab.output.renderOutput(dataTable, element);\n",
              "          const docLink = document.createElement('div');\n",
              "          docLink.innerHTML = docLinkHtml;\n",
              "          element.appendChild(docLink);\n",
              "        }\n",
              "      </script>\n",
              "    </div>\n",
              "  </div>\n",
              "  "
            ]
          },
          "metadata": {},
          "execution_count": 140
        }
      ]
    },
    {
      "cell_type": "code",
      "source": [
        "genes_links_list_er = [genes_links_list[genes_ids_list.index('09031')] for g_id in genes_ids_list_er]\n",
        "for link in genes_links_list_er:\n",
        "  print(url_add + link)"
      ],
      "metadata": {
        "colab": {
          "base_uri": "https://localhost:8080/"
        },
        "id": "a4xGDFubvMsV",
        "outputId": "44ad4214-1318-4da7-f1c4-f12a1fe1078a"
      },
      "execution_count": 142,
      "outputs": [
        {
          "output_type": "stream",
          "name": "stdout",
          "text": [
            "https://www.artsy.net/gene/stone?sort=-published_at\n"
          ]
        }
      ]
    },
    {
      "cell_type": "code",
      "source": [
        "genes_ids_list_er = [str(g_id) for g_id in df_cat_dat.loc[df_cat_dat['artsy_id'].isna()==True]['gene_id']]\n",
        "genes_ids_list_er = list(set(genes_ids_list_er))\n",
        "genes_ids_list_er"
      ],
      "metadata": {
        "colab": {
          "base_uri": "https://localhost:8080/"
        },
        "id": "TQzYxUVxogIM",
        "outputId": "b9dca219-bcd9-4c35-b692-253af0fab065"
      },
      "execution_count": 143,
      "outputs": [
        {
          "output_type": "execute_result",
          "data": {
            "text/plain": [
              "['09031']"
            ]
          },
          "metadata": {},
          "execution_count": 143
        }
      ]
    },
    {
      "cell_type": "code",
      "source": [
        "genes_links_list_er = [genes_links_list[genes_ids_list.index(g_id)] for g_id in genes_ids_list_er]\n",
        "genes_links_list_er"
      ],
      "metadata": {
        "colab": {
          "base_uri": "https://localhost:8080/"
        },
        "id": "ghXuI1ZEvl_B",
        "outputId": "7ac07ff7-bbf3-475a-a4a5-abb5b9560ad4"
      },
      "execution_count": 144,
      "outputs": [
        {
          "output_type": "execute_result",
          "data": {
            "text/plain": [
              "['/gene/stone?sort=-published_at']"
            ]
          },
          "metadata": {},
          "execution_count": 144
        }
      ]
    },
    {
      "cell_type": "code",
      "source": [
        "df_cat_dat = df_cat_dat.dropna(subset=['artsy_id'], axis=0)"
      ],
      "metadata": {
        "id": "l4OAI-divoN0"
      },
      "execution_count": 402,
      "outputs": []
    },
    {
      "cell_type": "code",
      "source": [
        "df_cat_dat_total = pd.concat([df_cat_dat, df_temp_data_new])\n",
        "df_cat_dat_total.drop_duplicates(subset = ['gene_id', 'artsy_id'], keep = 'first', inplace = True)\n",
        "df_cat_dat_total = df_cat_dat_total.reset_index().drop(['index'], axis=1)\n",
        "\n",
        "df_cat_dat_total.info()"
      ],
      "metadata": {
        "colab": {
          "base_uri": "https://localhost:8080/"
        },
        "id": "DBMgcARCwfzc",
        "outputId": "cd21dc4c-4da0-465e-ef0c-bf70d92a85ce"
      },
      "execution_count": 152,
      "outputs": [
        {
          "output_type": "stream",
          "name": "stdout",
          "text": [
            "<class 'pandas.core.frame.DataFrame'>\n",
            "RangeIndex: 29306 entries, 0 to 29305\n",
            "Data columns (total 13 columns):\n",
            " #   Column            Non-Null Count  Dtype  \n",
            "---  ------            --------------  -----  \n",
            " 0   artsy_id          29306 non-null  object \n",
            " 1   name              29306 non-null  object \n",
            " 2   link              29306 non-null  object \n",
            " 3   year              28034 non-null  object \n",
            " 4   artist            29306 non-null  object \n",
            " 5   gallery           29300 non-null  object \n",
            " 6   price             29306 non-null  object \n",
            " 7   gene_id           29306 non-null  object \n",
            " 8   category_id       29306 non-null  object \n",
            " 9   parsing_date      29306 non-null  object \n",
            " 10  updating_date     29306 non-null  object \n",
            " 11  pages_count       29306 non-null  float64\n",
            " 12  second_page_link  28163 non-null  object \n",
            "dtypes: float64(1), object(12)\n",
            "memory usage: 2.9+ MB\n"
          ]
        }
      ]
    },
    {
      "cell_type": "code",
      "source": [
        "df_cat_dat_total.loc[df_cat_dat_total['artsy_id'].isna()==True]"
      ],
      "metadata": {
        "colab": {
          "base_uri": "https://localhost:8080/",
          "height": 113
        },
        "id": "3KzI0tlFwrxM",
        "outputId": "21b2337d-069f-4645-c80c-b7898c482bd4"
      },
      "execution_count": 153,
      "outputs": [
        {
          "output_type": "execute_result",
          "data": {
            "text/plain": [
              "Empty DataFrame\n",
              "Columns: [artsy_id, name, link, year, artist, gallery, price, gene_id, category_id, parsing_date, updating_date, pages_count, second_page_link]\n",
              "Index: []"
            ],
            "text/html": [
              "\n",
              "  <div id=\"df-db1716cf-48a5-4852-9111-e4097f69b463\">\n",
              "    <div class=\"colab-df-container\">\n",
              "      <div>\n",
              "<style scoped>\n",
              "    .dataframe tbody tr th:only-of-type {\n",
              "        vertical-align: middle;\n",
              "    }\n",
              "\n",
              "    .dataframe tbody tr th {\n",
              "        vertical-align: top;\n",
              "    }\n",
              "\n",
              "    .dataframe thead th {\n",
              "        text-align: right;\n",
              "    }\n",
              "</style>\n",
              "<table border=\"1\" class=\"dataframe\">\n",
              "  <thead>\n",
              "    <tr style=\"text-align: right;\">\n",
              "      <th></th>\n",
              "      <th>artsy_id</th>\n",
              "      <th>name</th>\n",
              "      <th>link</th>\n",
              "      <th>year</th>\n",
              "      <th>artist</th>\n",
              "      <th>gallery</th>\n",
              "      <th>price</th>\n",
              "      <th>gene_id</th>\n",
              "      <th>category_id</th>\n",
              "      <th>parsing_date</th>\n",
              "      <th>updating_date</th>\n",
              "      <th>pages_count</th>\n",
              "      <th>second_page_link</th>\n",
              "    </tr>\n",
              "  </thead>\n",
              "  <tbody>\n",
              "  </tbody>\n",
              "</table>\n",
              "</div>\n",
              "      <button class=\"colab-df-convert\" onclick=\"convertToInteractive('df-db1716cf-48a5-4852-9111-e4097f69b463')\"\n",
              "              title=\"Convert this dataframe to an interactive table.\"\n",
              "              style=\"display:none;\">\n",
              "        \n",
              "  <svg xmlns=\"http://www.w3.org/2000/svg\" height=\"24px\"viewBox=\"0 0 24 24\"\n",
              "       width=\"24px\">\n",
              "    <path d=\"M0 0h24v24H0V0z\" fill=\"none\"/>\n",
              "    <path d=\"M18.56 5.44l.94 2.06.94-2.06 2.06-.94-2.06-.94-.94-2.06-.94 2.06-2.06.94zm-11 1L8.5 8.5l.94-2.06 2.06-.94-2.06-.94L8.5 2.5l-.94 2.06-2.06.94zm10 10l.94 2.06.94-2.06 2.06-.94-2.06-.94-.94-2.06-.94 2.06-2.06.94z\"/><path d=\"M17.41 7.96l-1.37-1.37c-.4-.4-.92-.59-1.43-.59-.52 0-1.04.2-1.43.59L10.3 9.45l-7.72 7.72c-.78.78-.78 2.05 0 2.83L4 21.41c.39.39.9.59 1.41.59.51 0 1.02-.2 1.41-.59l7.78-7.78 2.81-2.81c.8-.78.8-2.07 0-2.86zM5.41 20L4 18.59l7.72-7.72 1.47 1.35L5.41 20z\"/>\n",
              "  </svg>\n",
              "      </button>\n",
              "      \n",
              "  <style>\n",
              "    .colab-df-container {\n",
              "      display:flex;\n",
              "      flex-wrap:wrap;\n",
              "      gap: 12px;\n",
              "    }\n",
              "\n",
              "    .colab-df-convert {\n",
              "      background-color: #E8F0FE;\n",
              "      border: none;\n",
              "      border-radius: 50%;\n",
              "      cursor: pointer;\n",
              "      display: none;\n",
              "      fill: #1967D2;\n",
              "      height: 32px;\n",
              "      padding: 0 0 0 0;\n",
              "      width: 32px;\n",
              "    }\n",
              "\n",
              "    .colab-df-convert:hover {\n",
              "      background-color: #E2EBFA;\n",
              "      box-shadow: 0px 1px 2px rgba(60, 64, 67, 0.3), 0px 1px 3px 1px rgba(60, 64, 67, 0.15);\n",
              "      fill: #174EA6;\n",
              "    }\n",
              "\n",
              "    [theme=dark] .colab-df-convert {\n",
              "      background-color: #3B4455;\n",
              "      fill: #D2E3FC;\n",
              "    }\n",
              "\n",
              "    [theme=dark] .colab-df-convert:hover {\n",
              "      background-color: #434B5C;\n",
              "      box-shadow: 0px 1px 3px 1px rgba(0, 0, 0, 0.15);\n",
              "      filter: drop-shadow(0px 1px 2px rgba(0, 0, 0, 0.3));\n",
              "      fill: #FFFFFF;\n",
              "    }\n",
              "  </style>\n",
              "\n",
              "      <script>\n",
              "        const buttonEl =\n",
              "          document.querySelector('#df-db1716cf-48a5-4852-9111-e4097f69b463 button.colab-df-convert');\n",
              "        buttonEl.style.display =\n",
              "          google.colab.kernel.accessAllowed ? 'block' : 'none';\n",
              "\n",
              "        async function convertToInteractive(key) {\n",
              "          const element = document.querySelector('#df-db1716cf-48a5-4852-9111-e4097f69b463');\n",
              "          const dataTable =\n",
              "            await google.colab.kernel.invokeFunction('convertToInteractive',\n",
              "                                                     [key], {});\n",
              "          if (!dataTable) return;\n",
              "\n",
              "          const docLinkHtml = 'Like what you see? Visit the ' +\n",
              "            '<a target=\"_blank\" href=https://colab.research.google.com/notebooks/data_table.ipynb>data table notebook</a>'\n",
              "            + ' to learn more about interactive tables.';\n",
              "          element.innerHTML = '';\n",
              "          dataTable['output_type'] = 'display_data';\n",
              "          await google.colab.output.renderOutput(dataTable, element);\n",
              "          const docLink = document.createElement('div');\n",
              "          docLink.innerHTML = docLinkHtml;\n",
              "          element.appendChild(docLink);\n",
              "        }\n",
              "      </script>\n",
              "    </div>\n",
              "  </div>\n",
              "  "
            ]
          },
          "metadata": {},
          "execution_count": 153
        }
      ]
    },
    {
      "cell_type": "code",
      "source": [
        "add_up_name_csv = temp_data_add_up.replace('.csv', '') + '_' + str(datetime.now()) + '.csv'\n",
        "print(add_up_name_csv)\n",
        "save_df_file(df_cat_dat_total, add_up_name_csv, 'backup') # 4. Save df to csv file"
      ],
      "metadata": {
        "colab": {
          "base_uri": "https://localhost:8080/"
        },
        "id": "Gcj-5gZIw1F5",
        "outputId": "e32af6f8-5017-4f68-fe02-af0981119e5c"
      },
      "execution_count": 154,
      "outputs": [
        {
          "output_type": "stream",
          "name": "stdout",
          "text": [
            "/artsy_temp_data_add_up_2022-04-20 07:00:41.219261.csv\n"
          ]
        }
      ]
    },
    {
      "cell_type": "code",
      "source": [
        "print(df_cat_dat_total['category_id'].nunique())\n",
        "df_cat_dat_total['category_id'].unique()"
      ],
      "metadata": {
        "colab": {
          "base_uri": "https://localhost:8080/"
        },
        "id": "tRRvW1YfyJhQ",
        "outputId": "441fee96-9b22-46b7-dbde-7aff12a85631"
      },
      "execution_count": 157,
      "outputs": [
        {
          "output_type": "stream",
          "name": "stdout",
          "text": [
            "16\n"
          ]
        },
        {
          "output_type": "execute_result",
          "data": {
            "text/plain": [
              "array(['13', '03', '02', '06', '05', '11', '08', '09', '12', '04', '10',\n",
              "       '07', '15', '01', '14', '16'], dtype=object)"
            ]
          },
          "metadata": {},
          "execution_count": 157
        }
      ]
    },
    {
      "cell_type": "code",
      "source": [
        "df_cat_dat_total['artsy_id'].nunique()"
      ],
      "metadata": {
        "colab": {
          "base_uri": "https://localhost:8080/"
        },
        "id": "wXHEz_RZyVz-",
        "outputId": "25fcc090-adc9-4629-d7e8-6378f61b2969"
      },
      "execution_count": 158,
      "outputs": [
        {
          "output_type": "execute_result",
          "data": {
            "text/plain": [
              "17344"
            ]
          },
          "metadata": {},
          "execution_count": 158
        }
      ]
    },
    {
      "cell_type": "code",
      "source": [
        "artworks_dict = open_dict(artwork_dict, 'live')\n",
        "print(len(artworks_dict))"
      ],
      "metadata": {
        "colab": {
          "base_uri": "https://localhost:8080/"
        },
        "id": "ofR--ulMynbT",
        "outputId": "e1628886-4cee-4a54-ba2f-24d9d57a3c96"
      },
      "execution_count": 159,
      "outputs": [
        {
          "output_type": "stream",
          "name": "stdout",
          "text": [
            "450574\n"
          ]
        }
      ]
    },
    {
      "cell_type": "code",
      "source": [
        "old_id_list = list(artworks_dict.keys()) # list of str\n",
        "\n",
        "# New df data\n",
        "\n",
        "new_id_list = df_cat_dat_total['artsy_id'].unique() # list of str\n",
        "#cat = [v['category_id'] for v in artworks_dict_new.values()][0] # list of lists with str\n",
        "#print('New category:', cat[0])\n",
        "#print('')\n",
        "\n",
        "new_artwork_id = list(set(new_id_list) - set(old_id_list))\n",
        "cross_artwork_id = list(set(old_id_list) & set(new_id_list))\n",
        "print('New id count:', len(new_artwork_id))\n",
        "print('Cross id count:', len(cross_artwork_id))\n",
        "print('Check the division:', len(new_id_list)==len(new_artwork_id)+len(cross_artwork_id))\n",
        "print('')\n",
        "\n",
        "artworks_dict_total_len = len(old_id_list) + len(new_artwork_id)\n",
        "print('New dict length must be:', artworks_dict_total_len)"
      ],
      "metadata": {
        "colab": {
          "base_uri": "https://localhost:8080/"
        },
        "id": "eNCQ2FZty6AI",
        "outputId": "21c1a951-d355-4a92-d10b-f15607a0b50e"
      },
      "execution_count": 160,
      "outputs": [
        {
          "output_type": "stream",
          "name": "stdout",
          "text": [
            "New id count: 3191\n",
            "Cross id count: 14153\n",
            "Check the division: True\n",
            "\n",
            "New dict length must be: 453765\n"
          ]
        }
      ]
    },
    {
      "cell_type": "code",
      "source": [
        "df_cat_dat_new_ids = df_cat_dat_total.loc[df_cat_dat_total['artsy_id'].isin(new_artwork_id)]\n",
        "df_cat_dat_new_ids.info()"
      ],
      "metadata": {
        "colab": {
          "base_uri": "https://localhost:8080/"
        },
        "id": "rCBPcGdo6ueb",
        "outputId": "61ac7404-d673-4bd3-e56a-700eb9fb705b"
      },
      "execution_count": 189,
      "outputs": [
        {
          "output_type": "stream",
          "name": "stdout",
          "text": [
            "<class 'pandas.core.frame.DataFrame'>\n",
            "Int64Index: 6033 entries, 0 to 29293\n",
            "Data columns (total 13 columns):\n",
            " #   Column            Non-Null Count  Dtype  \n",
            "---  ------            --------------  -----  \n",
            " 0   artsy_id          6033 non-null   object \n",
            " 1   name              6033 non-null   object \n",
            " 2   link              6033 non-null   object \n",
            " 3   year              6009 non-null   object \n",
            " 4   artist            6033 non-null   object \n",
            " 5   gallery           6033 non-null   object \n",
            " 6   price             6033 non-null   object \n",
            " 7   gene_id           6033 non-null   object \n",
            " 8   category_id       6033 non-null   object \n",
            " 9   parsing_date      6033 non-null   object \n",
            " 10  updating_date     6033 non-null   object \n",
            " 11  pages_count       6033 non-null   float64\n",
            " 12  second_page_link  6032 non-null   object \n",
            "dtypes: float64(1), object(12)\n",
            "memory usage: 659.9+ KB\n"
          ]
        }
      ]
    },
    {
      "cell_type": "code",
      "source": [
        "df_cat_dat_new_ids.sample(10)"
      ],
      "metadata": {
        "colab": {
          "base_uri": "https://localhost:8080/",
          "height": 722
        },
        "id": "SAfACSlS7CIm",
        "outputId": "8d1c70e1-8056-43dd-bf6d-8b5209677f92"
      },
      "execution_count": 190,
      "outputs": [
        {
          "output_type": "execute_result",
          "data": {
            "text/plain": [
              "                       artsy_id  \\\n",
              "12295  625f1623e0180b000c044ebd   \n",
              "4292   625f1606c582a1000cffdffb   \n",
              "24290  625e56c17c4a9a000c8bad19   \n",
              "22296  6257a63addb48f000bb165d3   \n",
              "8395   625f531bf3b1ca000e846fa3   \n",
              "4161   625f26787546b0000c2db70b   \n",
              "1782   625f7da138651b000bc2d1aa   \n",
              "1717   625f879b4b02fe000d4eea15   \n",
              "23434  625f85322847c9000d452682   \n",
              "17075  625960d707c6fb000c696d6c   \n",
              "\n",
              "                                                    name  \\\n",
              "12295                                     Refulgence #20   \n",
              "4292                                                  If   \n",
              "24290                                        Rosebush II   \n",
              "22296                                  8 Sword Swallower   \n",
              "8395   Judith Nungarrayi Martin- Janganpa Jukurrpa ( ...   \n",
              "4161                                                Exit   \n",
              "1782                                              YINGGG   \n",
              "1717                                            The Tree   \n",
              "23434                                  Conjunction 18-23   \n",
              "17075                                    Le Corps Fusion   \n",
              "\n",
              "                                                    link  year  \\\n",
              "12295  https://d7hftxdivxxvm.cloudfront.net?resize_to...  2022   \n",
              "4292   https://d7hftxdivxxvm.cloudfront.net?resize_to...  2022   \n",
              "24290  https://d7hftxdivxxvm.cloudfront.net?resize_to...  2021   \n",
              "22296  https://d7hftxdivxxvm.cloudfront.net?resize_to...  2017   \n",
              "8395   https://d7hftxdivxxvm.cloudfront.net?resize_to...  2022   \n",
              "4161   https://d7hftxdivxxvm.cloudfront.net?resize_to...  2019   \n",
              "1782   https://d7hftxdivxxvm.cloudfront.net?resize_to...  2022   \n",
              "1717   https://d7hftxdivxxvm.cloudfront.net?resize_to...  1983   \n",
              "23434  https://d7hftxdivxxvm.cloudfront.net?resize_to...  2018   \n",
              "17075  https://d7hftxdivxxvm.cloudfront.net?resize_to...  2018   \n",
              "\n",
              "                                                  artist  \\\n",
              "12295  Suzanne Howes StevensRefulgence #20, 2022Rice ...   \n",
              "4292   Suzanne Howes StevensIf, 2022Rice Polak Galler...   \n",
              "24290          Sarah ContosRosebush II, 2021STATIONSold    \n",
              "22296  Gil Batle8 Sword Swallower, 2017Walking House ...   \n",
              "8395   Artists of Yuendumu WarlukurlanguJudith Nungar...   \n",
              "4161        Eric ZenerExit, 2019Gallery HenochUS$56,000    \n",
              "1782   Timothy Hon Hung LeeYINGGG, 2022Karin Weber Ga...   \n",
              "1717   Jim DineThe Tree, 1983Rago/Wright/LAMAPrice on...   \n",
              "23434  Ha Chong-hyunConjunction 18-23, 2018Seojung Ar...   \n",
              "17075  Laurent HiniLe Corps Fusion, 2018Galerie Viven...   \n",
              "\n",
              "                      gallery              price gene_id category_id  \\\n",
              "12295      Rice Polak Gallery          US$2,000    02170          02   \n",
              "4292       Rice Polak Gallery          US$3,300    03146          03   \n",
              "24290                 STATION              Sold    09002          09   \n",
              "22296  Walking House New York          US$2,500    08002          08   \n",
              "8395      Wentworth Galleries          AU$1,880    02040          02   \n",
              "4161           Gallery Henoch         US$56,000    03142          03   \n",
              "1782      Karin Weber Gallery          US$7,574    03058          03   \n",
              "1717         Rago/Wright/LAMA  Price on request    03056          03   \n",
              "23434             Seojung Art           On hold    08040          08   \n",
              "17075         Galerie Vivendi            €6,800    06117          06   \n",
              "\n",
              "      parsing_date updating_date  pages_count  \\\n",
              "12295   2022-04-20    2022-04-20        100.0   \n",
              "4292    2022-04-20    2022-04-20        100.0   \n",
              "24290   2022-04-20    2022-04-20        100.0   \n",
              "22296   2022-04-20    2022-04-20        100.0   \n",
              "8395    2022-04-20    2022-04-20        100.0   \n",
              "4161    2022-04-20    2022-04-20        100.0   \n",
              "1782    2022-04-20    2022-04-20        100.0   \n",
              "1717    2022-04-20    2022-04-20        100.0   \n",
              "23434   2022-04-20    2022-04-20        100.0   \n",
              "17075   2022-04-20    2022-04-20        100.0   \n",
              "\n",
              "                                        second_page_link  \n",
              "12295  https://www.artsy.net/gene/skyscapes?page=2&so...  \n",
              "4292   https://www.artsy.net/gene/impressionism-and-c...  \n",
              "24290  https://www.artsy.net/gene/assemblage?page=2&s...  \n",
              "22296  https://www.artsy.net/gene/united-states?page=...  \n",
              "8395   https://www.artsy.net/gene/cultural-commentary...  \n",
              "4161   https://www.artsy.net/gene/hyperrealism-and-ph...  \n",
              "1782   https://www.artsy.net/gene/contemporary-britis...  \n",
              "1717   https://www.artsy.net/gene/contemporary-art?pa...  \n",
              "23434  https://www.artsy.net/gene/korea?page=2&sort=-...  \n",
              "17075  https://www.artsy.net/gene/performance-art?pag...  "
            ],
            "text/html": [
              "\n",
              "  <div id=\"df-279dc64e-422d-4343-9376-087c6ce509fe\">\n",
              "    <div class=\"colab-df-container\">\n",
              "      <div>\n",
              "<style scoped>\n",
              "    .dataframe tbody tr th:only-of-type {\n",
              "        vertical-align: middle;\n",
              "    }\n",
              "\n",
              "    .dataframe tbody tr th {\n",
              "        vertical-align: top;\n",
              "    }\n",
              "\n",
              "    .dataframe thead th {\n",
              "        text-align: right;\n",
              "    }\n",
              "</style>\n",
              "<table border=\"1\" class=\"dataframe\">\n",
              "  <thead>\n",
              "    <tr style=\"text-align: right;\">\n",
              "      <th></th>\n",
              "      <th>artsy_id</th>\n",
              "      <th>name</th>\n",
              "      <th>link</th>\n",
              "      <th>year</th>\n",
              "      <th>artist</th>\n",
              "      <th>gallery</th>\n",
              "      <th>price</th>\n",
              "      <th>gene_id</th>\n",
              "      <th>category_id</th>\n",
              "      <th>parsing_date</th>\n",
              "      <th>updating_date</th>\n",
              "      <th>pages_count</th>\n",
              "      <th>second_page_link</th>\n",
              "    </tr>\n",
              "  </thead>\n",
              "  <tbody>\n",
              "    <tr>\n",
              "      <th>12295</th>\n",
              "      <td>625f1623e0180b000c044ebd</td>\n",
              "      <td>Refulgence #20</td>\n",
              "      <td>https://d7hftxdivxxvm.cloudfront.net?resize_to...</td>\n",
              "      <td>2022</td>\n",
              "      <td>Suzanne Howes StevensRefulgence #20, 2022Rice ...</td>\n",
              "      <td>Rice Polak Gallery</td>\n",
              "      <td>US$2,000</td>\n",
              "      <td>02170</td>\n",
              "      <td>02</td>\n",
              "      <td>2022-04-20</td>\n",
              "      <td>2022-04-20</td>\n",
              "      <td>100.0</td>\n",
              "      <td>https://www.artsy.net/gene/skyscapes?page=2&amp;so...</td>\n",
              "    </tr>\n",
              "    <tr>\n",
              "      <th>4292</th>\n",
              "      <td>625f1606c582a1000cffdffb</td>\n",
              "      <td>If</td>\n",
              "      <td>https://d7hftxdivxxvm.cloudfront.net?resize_to...</td>\n",
              "      <td>2022</td>\n",
              "      <td>Suzanne Howes StevensIf, 2022Rice Polak Galler...</td>\n",
              "      <td>Rice Polak Gallery</td>\n",
              "      <td>US$3,300</td>\n",
              "      <td>03146</td>\n",
              "      <td>03</td>\n",
              "      <td>2022-04-20</td>\n",
              "      <td>2022-04-20</td>\n",
              "      <td>100.0</td>\n",
              "      <td>https://www.artsy.net/gene/impressionism-and-c...</td>\n",
              "    </tr>\n",
              "    <tr>\n",
              "      <th>24290</th>\n",
              "      <td>625e56c17c4a9a000c8bad19</td>\n",
              "      <td>Rosebush II</td>\n",
              "      <td>https://d7hftxdivxxvm.cloudfront.net?resize_to...</td>\n",
              "      <td>2021</td>\n",
              "      <td>Sarah ContosRosebush II, 2021STATIONSold</td>\n",
              "      <td>STATION</td>\n",
              "      <td>Sold</td>\n",
              "      <td>09002</td>\n",
              "      <td>09</td>\n",
              "      <td>2022-04-20</td>\n",
              "      <td>2022-04-20</td>\n",
              "      <td>100.0</td>\n",
              "      <td>https://www.artsy.net/gene/assemblage?page=2&amp;s...</td>\n",
              "    </tr>\n",
              "    <tr>\n",
              "      <th>22296</th>\n",
              "      <td>6257a63addb48f000bb165d3</td>\n",
              "      <td>8 Sword Swallower</td>\n",
              "      <td>https://d7hftxdivxxvm.cloudfront.net?resize_to...</td>\n",
              "      <td>2017</td>\n",
              "      <td>Gil Batle8 Sword Swallower, 2017Walking House ...</td>\n",
              "      <td>Walking House New York</td>\n",
              "      <td>US$2,500</td>\n",
              "      <td>08002</td>\n",
              "      <td>08</td>\n",
              "      <td>2022-04-20</td>\n",
              "      <td>2022-04-20</td>\n",
              "      <td>100.0</td>\n",
              "      <td>https://www.artsy.net/gene/united-states?page=...</td>\n",
              "    </tr>\n",
              "    <tr>\n",
              "      <th>8395</th>\n",
              "      <td>625f531bf3b1ca000e846fa3</td>\n",
              "      <td>Judith Nungarrayi Martin- Janganpa Jukurrpa ( ...</td>\n",
              "      <td>https://d7hftxdivxxvm.cloudfront.net?resize_to...</td>\n",
              "      <td>2022</td>\n",
              "      <td>Artists of Yuendumu WarlukurlanguJudith Nungar...</td>\n",
              "      <td>Wentworth Galleries</td>\n",
              "      <td>AU$1,880</td>\n",
              "      <td>02040</td>\n",
              "      <td>02</td>\n",
              "      <td>2022-04-20</td>\n",
              "      <td>2022-04-20</td>\n",
              "      <td>100.0</td>\n",
              "      <td>https://www.artsy.net/gene/cultural-commentary...</td>\n",
              "    </tr>\n",
              "    <tr>\n",
              "      <th>4161</th>\n",
              "      <td>625f26787546b0000c2db70b</td>\n",
              "      <td>Exit</td>\n",
              "      <td>https://d7hftxdivxxvm.cloudfront.net?resize_to...</td>\n",
              "      <td>2019</td>\n",
              "      <td>Eric ZenerExit, 2019Gallery HenochUS$56,000</td>\n",
              "      <td>Gallery Henoch</td>\n",
              "      <td>US$56,000</td>\n",
              "      <td>03142</td>\n",
              "      <td>03</td>\n",
              "      <td>2022-04-20</td>\n",
              "      <td>2022-04-20</td>\n",
              "      <td>100.0</td>\n",
              "      <td>https://www.artsy.net/gene/hyperrealism-and-ph...</td>\n",
              "    </tr>\n",
              "    <tr>\n",
              "      <th>1782</th>\n",
              "      <td>625f7da138651b000bc2d1aa</td>\n",
              "      <td>YINGGG</td>\n",
              "      <td>https://d7hftxdivxxvm.cloudfront.net?resize_to...</td>\n",
              "      <td>2022</td>\n",
              "      <td>Timothy Hon Hung LeeYINGGG, 2022Karin Weber Ga...</td>\n",
              "      <td>Karin Weber Gallery</td>\n",
              "      <td>US$7,574</td>\n",
              "      <td>03058</td>\n",
              "      <td>03</td>\n",
              "      <td>2022-04-20</td>\n",
              "      <td>2022-04-20</td>\n",
              "      <td>100.0</td>\n",
              "      <td>https://www.artsy.net/gene/contemporary-britis...</td>\n",
              "    </tr>\n",
              "    <tr>\n",
              "      <th>1717</th>\n",
              "      <td>625f879b4b02fe000d4eea15</td>\n",
              "      <td>The Tree</td>\n",
              "      <td>https://d7hftxdivxxvm.cloudfront.net?resize_to...</td>\n",
              "      <td>1983</td>\n",
              "      <td>Jim DineThe Tree, 1983Rago/Wright/LAMAPrice on...</td>\n",
              "      <td>Rago/Wright/LAMA</td>\n",
              "      <td>Price on request</td>\n",
              "      <td>03056</td>\n",
              "      <td>03</td>\n",
              "      <td>2022-04-20</td>\n",
              "      <td>2022-04-20</td>\n",
              "      <td>100.0</td>\n",
              "      <td>https://www.artsy.net/gene/contemporary-art?pa...</td>\n",
              "    </tr>\n",
              "    <tr>\n",
              "      <th>23434</th>\n",
              "      <td>625f85322847c9000d452682</td>\n",
              "      <td>Conjunction 18-23</td>\n",
              "      <td>https://d7hftxdivxxvm.cloudfront.net?resize_to...</td>\n",
              "      <td>2018</td>\n",
              "      <td>Ha Chong-hyunConjunction 18-23, 2018Seojung Ar...</td>\n",
              "      <td>Seojung Art</td>\n",
              "      <td>On hold</td>\n",
              "      <td>08040</td>\n",
              "      <td>08</td>\n",
              "      <td>2022-04-20</td>\n",
              "      <td>2022-04-20</td>\n",
              "      <td>100.0</td>\n",
              "      <td>https://www.artsy.net/gene/korea?page=2&amp;sort=-...</td>\n",
              "    </tr>\n",
              "    <tr>\n",
              "      <th>17075</th>\n",
              "      <td>625960d707c6fb000c696d6c</td>\n",
              "      <td>Le Corps Fusion</td>\n",
              "      <td>https://d7hftxdivxxvm.cloudfront.net?resize_to...</td>\n",
              "      <td>2018</td>\n",
              "      <td>Laurent HiniLe Corps Fusion, 2018Galerie Viven...</td>\n",
              "      <td>Galerie Vivendi</td>\n",
              "      <td>€6,800</td>\n",
              "      <td>06117</td>\n",
              "      <td>06</td>\n",
              "      <td>2022-04-20</td>\n",
              "      <td>2022-04-20</td>\n",
              "      <td>100.0</td>\n",
              "      <td>https://www.artsy.net/gene/performance-art?pag...</td>\n",
              "    </tr>\n",
              "  </tbody>\n",
              "</table>\n",
              "</div>\n",
              "      <button class=\"colab-df-convert\" onclick=\"convertToInteractive('df-279dc64e-422d-4343-9376-087c6ce509fe')\"\n",
              "              title=\"Convert this dataframe to an interactive table.\"\n",
              "              style=\"display:none;\">\n",
              "        \n",
              "  <svg xmlns=\"http://www.w3.org/2000/svg\" height=\"24px\"viewBox=\"0 0 24 24\"\n",
              "       width=\"24px\">\n",
              "    <path d=\"M0 0h24v24H0V0z\" fill=\"none\"/>\n",
              "    <path d=\"M18.56 5.44l.94 2.06.94-2.06 2.06-.94-2.06-.94-.94-2.06-.94 2.06-2.06.94zm-11 1L8.5 8.5l.94-2.06 2.06-.94-2.06-.94L8.5 2.5l-.94 2.06-2.06.94zm10 10l.94 2.06.94-2.06 2.06-.94-2.06-.94-.94-2.06-.94 2.06-2.06.94z\"/><path d=\"M17.41 7.96l-1.37-1.37c-.4-.4-.92-.59-1.43-.59-.52 0-1.04.2-1.43.59L10.3 9.45l-7.72 7.72c-.78.78-.78 2.05 0 2.83L4 21.41c.39.39.9.59 1.41.59.51 0 1.02-.2 1.41-.59l7.78-7.78 2.81-2.81c.8-.78.8-2.07 0-2.86zM5.41 20L4 18.59l7.72-7.72 1.47 1.35L5.41 20z\"/>\n",
              "  </svg>\n",
              "      </button>\n",
              "      \n",
              "  <style>\n",
              "    .colab-df-container {\n",
              "      display:flex;\n",
              "      flex-wrap:wrap;\n",
              "      gap: 12px;\n",
              "    }\n",
              "\n",
              "    .colab-df-convert {\n",
              "      background-color: #E8F0FE;\n",
              "      border: none;\n",
              "      border-radius: 50%;\n",
              "      cursor: pointer;\n",
              "      display: none;\n",
              "      fill: #1967D2;\n",
              "      height: 32px;\n",
              "      padding: 0 0 0 0;\n",
              "      width: 32px;\n",
              "    }\n",
              "\n",
              "    .colab-df-convert:hover {\n",
              "      background-color: #E2EBFA;\n",
              "      box-shadow: 0px 1px 2px rgba(60, 64, 67, 0.3), 0px 1px 3px 1px rgba(60, 64, 67, 0.15);\n",
              "      fill: #174EA6;\n",
              "    }\n",
              "\n",
              "    [theme=dark] .colab-df-convert {\n",
              "      background-color: #3B4455;\n",
              "      fill: #D2E3FC;\n",
              "    }\n",
              "\n",
              "    [theme=dark] .colab-df-convert:hover {\n",
              "      background-color: #434B5C;\n",
              "      box-shadow: 0px 1px 3px 1px rgba(0, 0, 0, 0.15);\n",
              "      filter: drop-shadow(0px 1px 2px rgba(0, 0, 0, 0.3));\n",
              "      fill: #FFFFFF;\n",
              "    }\n",
              "  </style>\n",
              "\n",
              "      <script>\n",
              "        const buttonEl =\n",
              "          document.querySelector('#df-279dc64e-422d-4343-9376-087c6ce509fe button.colab-df-convert');\n",
              "        buttonEl.style.display =\n",
              "          google.colab.kernel.accessAllowed ? 'block' : 'none';\n",
              "\n",
              "        async function convertToInteractive(key) {\n",
              "          const element = document.querySelector('#df-279dc64e-422d-4343-9376-087c6ce509fe');\n",
              "          const dataTable =\n",
              "            await google.colab.kernel.invokeFunction('convertToInteractive',\n",
              "                                                     [key], {});\n",
              "          if (!dataTable) return;\n",
              "\n",
              "          const docLinkHtml = 'Like what you see? Visit the ' +\n",
              "            '<a target=\"_blank\" href=https://colab.research.google.com/notebooks/data_table.ipynb>data table notebook</a>'\n",
              "            + ' to learn more about interactive tables.';\n",
              "          element.innerHTML = '';\n",
              "          dataTable['output_type'] = 'display_data';\n",
              "          await google.colab.output.renderOutput(dataTable, element);\n",
              "          const docLink = document.createElement('div');\n",
              "          docLink.innerHTML = docLinkHtml;\n",
              "          element.appendChild(docLink);\n",
              "        }\n",
              "      </script>\n",
              "    </div>\n",
              "  </div>\n",
              "  "
            ]
          },
          "metadata": {},
          "execution_count": 190
        }
      ]
    },
    {
      "cell_type": "code",
      "source": [
        "save_df_file(df_cat_dat_total, '/artsy_temp_data_add.csv', 'backup') # 4. Save df to csv file"
      ],
      "metadata": {
        "colab": {
          "base_uri": "https://localhost:8080/"
        },
        "id": "1D8DnKy17aEI",
        "outputId": "678653d0-839a-4876-e512-59c75bad7202"
      },
      "execution_count": 191,
      "outputs": [
        {
          "output_type": "stream",
          "name": "stdout",
          "text": [
            "/artsy_temp_data_add_up_2022-04-20 07:44:29.078033.csv\n"
          ]
        }
      ]
    },
    {
      "cell_type": "markdown",
      "source": [
        "Check for parsing next page"
      ],
      "metadata": {
        "id": "cT4fpdaC2I6H"
      }
    },
    {
      "cell_type": "code",
      "source": [
        "gene_grouped_total = df_cat_dat_total.groupby(['gene_id'])['artsy_id'].agg(['count']).reset_index()\n",
        "gene_grouped_new = df_cat_dat_new_ids.groupby(['gene_id'])['artsy_id'].agg(['count']).reset_index()"
      ],
      "metadata": {
        "id": "Am-jz3ohmITx"
      },
      "execution_count": 428,
      "outputs": []
    },
    {
      "cell_type": "code",
      "source": [
        "gene_id_list = list(set(df_cat_dat_new_ids['gene_id'].tolist()))\n",
        "gene_id_dict = {}\n",
        "for gene in gene_id_list:\n",
        "  if gene_grouped_new.loc[gene_grouped_new['gene_id']==gene]['count'].values[0] < gene_grouped_total.loc[gene_grouped_total['gene_id']==gene]['count'].values[0]:\n",
        "    pass\n",
        "  else:\n",
        "    gene_id_dict.update({gene: {'pages_count': df_cat_dat_new_ids.loc[df_cat_dat_new_ids['gene_id']==gene]['pages_count'].mean(),\n",
        "                                'second_page_link': df_cat_dat_new_ids.loc[df_cat_dat_new_ids['gene_id']==gene]['second_page_link'].tolist()[0].replace(url_add, ''),\n",
        "                                'category_id': df_cat_dat_new_ids.loc[df_cat_dat_new_ids['gene_id']==gene]['category_id'].tolist()[0]\n",
        "                                }\n",
        "                         })\n",
        "\n",
        "print('New ids genes count', len(gene_id_list))\n",
        "print('Need to check next pages for', len(gene_id_dict), 'genes')"
      ],
      "metadata": {
        "colab": {
          "base_uri": "https://localhost:8080/"
        },
        "id": "QSoEH2RFn5ne",
        "outputId": "60907145-9a5f-4165-c4b6-d2ab6aac8212"
      },
      "execution_count": 440,
      "outputs": [
        {
          "output_type": "stream",
          "name": "stdout",
          "text": [
            "New ids genes count 288\n",
            "Need to check next pages for 129 genes\n"
          ]
        }
      ]
    },
    {
      "cell_type": "code",
      "source": [
        "gene_id_dict['03142']"
      ],
      "metadata": {
        "colab": {
          "base_uri": "https://localhost:8080/"
        },
        "id": "mvvk3L22xid6",
        "outputId": "7c2fa0f0-3d86-4f07-8fc5-31ddf5bf14c4"
      },
      "execution_count": 441,
      "outputs": [
        {
          "output_type": "execute_result",
          "data": {
            "text/plain": [
              "{'category_id': '03',\n",
              " 'pages_count': 100.0,\n",
              " 'second_page_link': '/gene/hyperrealism-and-photorealism?page=2&sort=-published_at'}"
            ]
          },
          "metadata": {},
          "execution_count": 441
        }
      ]
    },
    {
      "cell_type": "code",
      "source": [
        "genes_links_list = [v['second_page_link'] for v in gene_id_dict.values()]\n",
        "genes_cat_list = [v['category_id'] for v in gene_id_dict.values()]\n",
        "genes_ids_list = list(gene_id_dict.keys())\n",
        "print(len(genes_links_list))\n",
        "print(len(genes_cat_list))\n",
        "print(len(genes_ids_list))"
      ],
      "metadata": {
        "colab": {
          "base_uri": "https://localhost:8080/"
        },
        "id": "35RfcfEjvrRb",
        "outputId": "790c5be5-53eb-42d3-f7eb-adf5e50005fb"
      },
      "execution_count": 442,
      "outputs": [
        {
          "output_type": "stream",
          "name": "stdout",
          "text": [
            "129\n",
            "129\n",
            "129\n"
          ]
        }
      ]
    },
    {
      "cell_type": "markdown",
      "source": [
        "Check for parsing next page"
      ],
      "metadata": {
        "id": "N3399IBN2Qxw"
      }
    },
    {
      "cell_type": "code",
      "source": [
        "artworks_dict = open_dict(artwork_dict, 'live')\n",
        "print(len(artworks_dict))"
      ],
      "metadata": {
        "colab": {
          "base_uri": "https://localhost:8080/"
        },
        "id": "Kef6W-EowZPW",
        "outputId": "115244c9-6659-4f9c-80a3-81ae970279dd"
      },
      "execution_count": 452,
      "outputs": [
        {
          "output_type": "stream",
          "name": "stdout",
          "text": [
            "453832\n"
          ]
        }
      ]
    },
    {
      "cell_type": "code",
      "source": [
        "old_id_list = list(artworks_dict.keys()) # list of str\n",
        "\n",
        "# New df data\n",
        "\n",
        "new_id_list = df_temp_data_new['artsy_id'].unique() # list of str\n",
        "#cat = [v['category_id'] for v in artworks_dict_new.values()][0] # list of lists with str\n",
        "#print('New category:', cat[0])\n",
        "#print('')\n",
        "\n",
        "new_artwork_id = list(set(new_id_list) - set(old_id_list))\n",
        "cross_artwork_id = list(set(old_id_list) & set(new_id_list))\n",
        "print('New id count:', len(new_artwork_id))\n",
        "print('Cross id count:', len(cross_artwork_id))\n",
        "print('Check the division:', len(new_id_list)==len(new_artwork_id)+len(cross_artwork_id))\n",
        "print('')\n",
        "\n",
        "artworks_dict_total_len = len(old_id_list) + len(new_artwork_id)\n",
        "print('New dict length must be:', artworks_dict_total_len)"
      ],
      "metadata": {
        "colab": {
          "base_uri": "https://localhost:8080/"
        },
        "id": "pFDec0Li2dGd",
        "outputId": "31ec8391-2ff4-4d5c-9e13-e99e7ad70014"
      },
      "execution_count": 453,
      "outputs": [
        {
          "output_type": "stream",
          "name": "stdout",
          "text": [
            "New id count: 1152\n",
            "Cross id count: 1615\n",
            "Check the division: True\n",
            "\n",
            "New dict length must be: 454984\n"
          ]
        }
      ]
    },
    {
      "cell_type": "code",
      "source": [
        "df_temp_data_new_ids = df_temp_data_new.loc[df_temp_data_new['artsy_id'].isin(new_artwork_id)]\n",
        "df_temp_data_new_ids.info()"
      ],
      "metadata": {
        "colab": {
          "base_uri": "https://localhost:8080/"
        },
        "id": "GQKGyVtw20pb",
        "outputId": "7bc027e8-5b28-46b3-8fe9-06d37b043a1d"
      },
      "execution_count": 454,
      "outputs": [
        {
          "output_type": "stream",
          "name": "stdout",
          "text": [
            "<class 'pandas.core.frame.DataFrame'>\n",
            "Int64Index: 1449 entries, 7 to 23\n",
            "Data columns (total 13 columns):\n",
            " #   Column            Non-Null Count  Dtype  \n",
            "---  ------            --------------  -----  \n",
            " 0   artsy_id          1449 non-null   object \n",
            " 1   name              1449 non-null   object \n",
            " 2   link              1449 non-null   object \n",
            " 3   year              1446 non-null   object \n",
            " 4   artist            1449 non-null   object \n",
            " 5   gallery           1449 non-null   object \n",
            " 6   price             1449 non-null   object \n",
            " 7   gene_id           1449 non-null   object \n",
            " 8   category_id       1449 non-null   object \n",
            " 9   parsing_date      1449 non-null   object \n",
            " 10  updating_date     1449 non-null   object \n",
            " 11  pages_count       1449 non-null   float64\n",
            " 12  second_page_link  0 non-null      object \n",
            "dtypes: float64(1), object(12)\n",
            "memory usage: 158.5+ KB\n"
          ]
        }
      ]
    },
    {
      "cell_type": "code",
      "source": [
        "gene_grouped_total = df_temp_data_new.groupby(['gene_id'])['artsy_id'].agg(['count']).reset_index()\n",
        "gene_grouped_new = df_temp_data_new_ids.groupby(['gene_id'])['artsy_id'].agg(['count']).reset_index()"
      ],
      "metadata": {
        "id": "8_FVaH0q3EIX"
      },
      "execution_count": 455,
      "outputs": []
    },
    {
      "cell_type": "code",
      "source": [
        "gene_id_list_new = list(set(df_temp_data_new_ids['gene_id'].tolist()))\n",
        "gene_id_dict_new = {}\n",
        "for gene in gene_id_list_new:\n",
        "  if gene_grouped_new.loc[gene_grouped_new['gene_id']==gene]['count'].values[0] < gene_grouped_total.loc[gene_grouped_total['gene_id']==gene]['count'].values[0]:\n",
        "    pass\n",
        "  else:\n",
        "    gene_id_dict_new.update({gene: {'pages_count': gene_id_dict[gene]['pages_count'],\n",
        "                                    'second_page_link': gene_id_dict[gene]['second_page_link'],\n",
        "                                    'category_id': df_temp_data_new_ids.loc[df_temp_data_new_ids['gene_id']==gene]['category_id'].tolist()[0]\n",
        "                                }\n",
        "                         })\n",
        "\n",
        "print('New ids genes count', len(gene_id_list_new))\n",
        "print('Need to check next pages for', len(gene_id_dict_new), 'genes')"
      ],
      "metadata": {
        "colab": {
          "base_uri": "https://localhost:8080/"
        },
        "id": "tPYKhYxz3Q8G",
        "outputId": "598455d5-38fb-479d-b012-0ed6d109c120"
      },
      "execution_count": 456,
      "outputs": [
        {
          "output_type": "stream",
          "name": "stdout",
          "text": [
            "New ids genes count 113\n",
            "Need to check next pages for 8 genes\n"
          ]
        }
      ]
    },
    {
      "cell_type": "code",
      "source": [
        "gene_id_dict_new['03008']"
      ],
      "metadata": {
        "colab": {
          "base_uri": "https://localhost:8080/"
        },
        "id": "z5JUCyoR4TIh",
        "outputId": "d85fd2ca-6eff-43a0-929b-14905f0d46b1"
      },
      "execution_count": 457,
      "outputs": [
        {
          "output_type": "execute_result",
          "data": {
            "text/plain": [
              "{'category_id': '03',\n",
              " 'pages_count': 100.0,\n",
              " 'second_page_link': '/gene/abstract-art?page=2&sort=-published_at'}"
            ]
          },
          "metadata": {},
          "execution_count": 457
        }
      ]
    },
    {
      "cell_type": "code",
      "source": [
        "genes_links_list = [v['second_page_link'].split('&')[0][:-1] + str(3) + '&' + v['second_page_link'].split('&')[1] for v in gene_id_dict_new.values()]\n",
        "genes_cat_list = [v['category_id'] for v in gene_id_dict_new.values()]\n",
        "genes_ids_list = list(gene_id_dict_new.keys())\n",
        "print(len(genes_links_list))\n",
        "print(len(genes_cat_list))\n",
        "print(len(genes_ids_list))"
      ],
      "metadata": {
        "colab": {
          "base_uri": "https://localhost:8080/"
        },
        "id": "_Y2oHA-64gne",
        "outputId": "82237125-4bd6-4145-c786-ac08a0ac42be"
      },
      "execution_count": 461,
      "outputs": [
        {
          "output_type": "stream",
          "name": "stdout",
          "text": [
            "8\n",
            "8\n",
            "8\n"
          ]
        }
      ]
    },
    {
      "cell_type": "code",
      "source": [
        "save_df_file(df_temp_data_new, '/artsy_temp_data_add.csv', 'backup') # 4. Save df to csv file"
      ],
      "metadata": {
        "id": "eK7R5tHw4woC"
      },
      "execution_count": 463,
      "outputs": []
    },
    {
      "cell_type": "markdown",
      "metadata": {
        "id": "me4LMXLpJXpb"
      },
      "source": [
        "### Errors' parsing checking"
      ]
    },
    {
      "cell_type": "markdown",
      "metadata": {
        "id": "oITqsRGGGN5v"
      },
      "source": [
        "Checking the completeness of a new data after collecting error genes"
      ]
    },
    {
      "cell_type": "code",
      "execution_count": null,
      "metadata": {
        "id": "TfyZazFSKBD_"
      },
      "outputs": [],
      "source": [
        "# !!!!!!!!!!!!!!!!!"
      ]
    },
    {
      "cell_type": "code",
      "execution_count": null,
      "metadata": {
        "id": "xo3N_hGz9Fsf"
      },
      "outputs": [],
      "source": [
        "# cat 09\n",
        "backup_names = ['/artsy_temp_data_2022-04-18 15:58:00.276252.csv',\n",
        "                '/artsy_temp_data_2022-04-18 16:07:15.086943.csv']"
      ]
    },
    {
      "cell_type": "code",
      "execution_count": null,
      "metadata": {
        "id": "NkPoZBrRWqSC"
      },
      "outputs": [],
      "source": [
        "df_temp_data_new = open_file_csv(backup_names[0], 'backup') # 3. Open file.csv\n",
        "for name in backup_names[1:]:\n",
        "  df_temp_data_new_part = open_file_csv(name, 'backup') # 3. Open file.csv\n",
        "  df_temp_data_new = pd.concat([df_temp_data_new, df_temp_data_new_part])\n",
        "\n",
        "#df_temp_data_new = df_temp_data_new.dropna(subset=['artsy_id'], axis=0) # !!!\n",
        "df_temp_data_new.drop_duplicates(subset = ['gene_id', 'artsy_id'], keep = 'first', inplace = True)\n",
        "df_temp_data_new = df_temp_data_new.reset_index().drop(['index'], axis=1) # !!!\n"
      ]
    },
    {
      "cell_type": "code",
      "execution_count": null,
      "metadata": {
        "id": "22dltH5sFjSf"
      },
      "outputs": [],
      "source": [
        "df_temp_data_new['category_id'] = df_temp_data_new['category_id'].dropna().apply(lambda x: str(x) if len(str(x))==cat_id_len else ('0'*(cat_id_len-len(str(x)))+str(x)))\n",
        "df_temp_data_new['gene_id'] = df_temp_data_new['gene_id'].dropna().apply(lambda x: str(x) if len(str(x))==gen_id_len else ('0'*(gen_id_len-len(str(x)))+str(x)))"
      ]
    },
    {
      "cell_type": "code",
      "execution_count": null,
      "metadata": {
        "id": "cJzBP37sZfSj"
      },
      "outputs": [],
      "source": [
        "# !!!!!!!!!!!!!"
      ]
    },
    {
      "cell_type": "code",
      "execution_count": null,
      "metadata": {
        "colab": {
          "base_uri": "https://localhost:8080/"
        },
        "id": "EeiojKpsGTWX",
        "outputId": "11112ff5-1f90-4eaa-8524-59152d696a69"
      },
      "outputs": [
        {
          "output_type": "stream",
          "name": "stdout",
          "text": [
            "<class 'pandas.core.frame.DataFrame'>\n",
            "Int64Index: 2373 entries, 0 to 7\n",
            "Data columns (total 11 columns):\n",
            " #   Column         Non-Null Count  Dtype \n",
            "---  ------         --------------  ----- \n",
            " 0   artsy_id       2373 non-null   object\n",
            " 1   name           2373 non-null   object\n",
            " 2   link           2373 non-null   object\n",
            " 3   year           2315 non-null   object\n",
            " 4   artist         2373 non-null   object\n",
            " 5   gallery        2357 non-null   object\n",
            " 6   price          2373 non-null   object\n",
            " 7   gene_id        2373 non-null   object\n",
            " 8   category_id    2373 non-null   object\n",
            " 9   parsing_date   2373 non-null   object\n",
            " 10  updating_date  2373 non-null   object\n",
            "dtypes: object(11)\n",
            "memory usage: 222.5+ KB\n"
          ]
        }
      ],
      "source": [
        "df_temp_data_new.info()"
      ]
    },
    {
      "cell_type": "markdown",
      "metadata": {
        "id": "p1Khg-NYI947"
      },
      "source": [
        "Everything is correct in case of empty df. -> Mergening"
      ]
    },
    {
      "cell_type": "code",
      "execution_count": null,
      "metadata": {
        "colab": {
          "base_uri": "https://localhost:8080/",
          "height": 50
        },
        "id": "Q0EGWX07GaY0",
        "outputId": "d5e97a80-b59d-415a-fe41-e4ab40aa3108"
      },
      "outputs": [
        {
          "output_type": "execute_result",
          "data": {
            "text/plain": [
              "Empty DataFrame\n",
              "Columns: [artsy_id, name, link, year, artist, gallery, price, gene_id, category_id, parsing_date, updating_date]\n",
              "Index: []"
            ],
            "text/html": [
              "\n",
              "  <div id=\"df-7d08acdf-41f5-47ff-b068-6f2bbf7b77aa\">\n",
              "    <div class=\"colab-df-container\">\n",
              "      <div>\n",
              "<style scoped>\n",
              "    .dataframe tbody tr th:only-of-type {\n",
              "        vertical-align: middle;\n",
              "    }\n",
              "\n",
              "    .dataframe tbody tr th {\n",
              "        vertical-align: top;\n",
              "    }\n",
              "\n",
              "    .dataframe thead th {\n",
              "        text-align: right;\n",
              "    }\n",
              "</style>\n",
              "<table border=\"1\" class=\"dataframe\">\n",
              "  <thead>\n",
              "    <tr style=\"text-align: right;\">\n",
              "      <th></th>\n",
              "      <th>artsy_id</th>\n",
              "      <th>name</th>\n",
              "      <th>link</th>\n",
              "      <th>year</th>\n",
              "      <th>artist</th>\n",
              "      <th>gallery</th>\n",
              "      <th>price</th>\n",
              "      <th>gene_id</th>\n",
              "      <th>category_id</th>\n",
              "      <th>parsing_date</th>\n",
              "      <th>updating_date</th>\n",
              "    </tr>\n",
              "  </thead>\n",
              "  <tbody>\n",
              "  </tbody>\n",
              "</table>\n",
              "</div>\n",
              "      <button class=\"colab-df-convert\" onclick=\"convertToInteractive('df-7d08acdf-41f5-47ff-b068-6f2bbf7b77aa')\"\n",
              "              title=\"Convert this dataframe to an interactive table.\"\n",
              "              style=\"display:none;\">\n",
              "        \n",
              "  <svg xmlns=\"http://www.w3.org/2000/svg\" height=\"24px\"viewBox=\"0 0 24 24\"\n",
              "       width=\"24px\">\n",
              "    <path d=\"M0 0h24v24H0V0z\" fill=\"none\"/>\n",
              "    <path d=\"M18.56 5.44l.94 2.06.94-2.06 2.06-.94-2.06-.94-.94-2.06-.94 2.06-2.06.94zm-11 1L8.5 8.5l.94-2.06 2.06-.94-2.06-.94L8.5 2.5l-.94 2.06-2.06.94zm10 10l.94 2.06.94-2.06 2.06-.94-2.06-.94-.94-2.06-.94 2.06-2.06.94z\"/><path d=\"M17.41 7.96l-1.37-1.37c-.4-.4-.92-.59-1.43-.59-.52 0-1.04.2-1.43.59L10.3 9.45l-7.72 7.72c-.78.78-.78 2.05 0 2.83L4 21.41c.39.39.9.59 1.41.59.51 0 1.02-.2 1.41-.59l7.78-7.78 2.81-2.81c.8-.78.8-2.07 0-2.86zM5.41 20L4 18.59l7.72-7.72 1.47 1.35L5.41 20z\"/>\n",
              "  </svg>\n",
              "      </button>\n",
              "      \n",
              "  <style>\n",
              "    .colab-df-container {\n",
              "      display:flex;\n",
              "      flex-wrap:wrap;\n",
              "      gap: 12px;\n",
              "    }\n",
              "\n",
              "    .colab-df-convert {\n",
              "      background-color: #E8F0FE;\n",
              "      border: none;\n",
              "      border-radius: 50%;\n",
              "      cursor: pointer;\n",
              "      display: none;\n",
              "      fill: #1967D2;\n",
              "      height: 32px;\n",
              "      padding: 0 0 0 0;\n",
              "      width: 32px;\n",
              "    }\n",
              "\n",
              "    .colab-df-convert:hover {\n",
              "      background-color: #E2EBFA;\n",
              "      box-shadow: 0px 1px 2px rgba(60, 64, 67, 0.3), 0px 1px 3px 1px rgba(60, 64, 67, 0.15);\n",
              "      fill: #174EA6;\n",
              "    }\n",
              "\n",
              "    [theme=dark] .colab-df-convert {\n",
              "      background-color: #3B4455;\n",
              "      fill: #D2E3FC;\n",
              "    }\n",
              "\n",
              "    [theme=dark] .colab-df-convert:hover {\n",
              "      background-color: #434B5C;\n",
              "      box-shadow: 0px 1px 3px 1px rgba(0, 0, 0, 0.15);\n",
              "      filter: drop-shadow(0px 1px 2px rgba(0, 0, 0, 0.3));\n",
              "      fill: #FFFFFF;\n",
              "    }\n",
              "  </style>\n",
              "\n",
              "      <script>\n",
              "        const buttonEl =\n",
              "          document.querySelector('#df-7d08acdf-41f5-47ff-b068-6f2bbf7b77aa button.colab-df-convert');\n",
              "        buttonEl.style.display =\n",
              "          google.colab.kernel.accessAllowed ? 'block' : 'none';\n",
              "\n",
              "        async function convertToInteractive(key) {\n",
              "          const element = document.querySelector('#df-7d08acdf-41f5-47ff-b068-6f2bbf7b77aa');\n",
              "          const dataTable =\n",
              "            await google.colab.kernel.invokeFunction('convertToInteractive',\n",
              "                                                     [key], {});\n",
              "          if (!dataTable) return;\n",
              "\n",
              "          const docLinkHtml = 'Like what you see? Visit the ' +\n",
              "            '<a target=\"_blank\" href=https://colab.research.google.com/notebooks/data_table.ipynb>data table notebook</a>'\n",
              "            + ' to learn more about interactive tables.';\n",
              "          element.innerHTML = '';\n",
              "          dataTable['output_type'] = 'display_data';\n",
              "          await google.colab.output.renderOutput(dataTable, element);\n",
              "          const docLink = document.createElement('div');\n",
              "          docLink.innerHTML = docLinkHtml;\n",
              "          element.appendChild(docLink);\n",
              "        }\n",
              "      </script>\n",
              "    </div>\n",
              "  </div>\n",
              "  "
            ]
          },
          "metadata": {},
          "execution_count": 199
        }
      ],
      "source": [
        "df_temp_data_new.loc[df_temp_data_new['artsy_id'].isna()==True]"
      ]
    },
    {
      "cell_type": "code",
      "execution_count": null,
      "metadata": {
        "colab": {
          "base_uri": "https://localhost:8080/",
          "height": 600
        },
        "id": "sDAWriESwJjd",
        "outputId": "e5f8e558-e11d-4bc9-ba3c-ab28046602e7"
      },
      "outputs": [
        {
          "data": {
            "text/html": [
              "\n",
              "  <div id=\"df-8d67e2ed-0fe0-4a3f-8300-b9cc29f76ef6\">\n",
              "    <div class=\"colab-df-container\">\n",
              "      <div>\n",
              "<style scoped>\n",
              "    .dataframe tbody tr th:only-of-type {\n",
              "        vertical-align: middle;\n",
              "    }\n",
              "\n",
              "    .dataframe tbody tr th {\n",
              "        vertical-align: top;\n",
              "    }\n",
              "\n",
              "    .dataframe thead th {\n",
              "        text-align: right;\n",
              "    }\n",
              "</style>\n",
              "<table border=\"1\" class=\"dataframe\">\n",
              "  <thead>\n",
              "    <tr style=\"text-align: right;\">\n",
              "      <th></th>\n",
              "      <th>artsy_id</th>\n",
              "      <th>name</th>\n",
              "      <th>link</th>\n",
              "      <th>year</th>\n",
              "      <th>artist</th>\n",
              "      <th>gallery</th>\n",
              "      <th>price</th>\n",
              "      <th>gene_id</th>\n",
              "      <th>category_id</th>\n",
              "      <th>parsing_date</th>\n",
              "      <th>updating_date</th>\n",
              "    </tr>\n",
              "  </thead>\n",
              "  <tbody>\n",
              "    <tr>\n",
              "      <th>0</th>\n",
              "      <td>6234540a64caba000b7d3d9e</td>\n",
              "      <td>Osvaldo Borsani &amp; Eugenio Gerli for Tecno Oval...</td>\n",
              "      <td>https://d7hftxdivxxvm.cloudfront.net?resize_to...</td>\n",
              "      <td>1968</td>\n",
              "      <td>Osvaldo Borsani, Eugenio GerliOsvaldo Borsani ...</td>\n",
              "      <td>MORENTZ</td>\n",
              "      <td>US$6,450</td>\n",
              "      <td>04016</td>\n",
              "      <td>04</td>\n",
              "      <td>2022-04-19</td>\n",
              "      <td>2022-04-19</td>\n",
              "    </tr>\n",
              "    <tr>\n",
              "      <th>1</th>\n",
              "      <td>623b0890478704000b678259</td>\n",
              "      <td>Desk</td>\n",
              "      <td>https://d7hftxdivxxvm.cloudfront.net?resize_to...</td>\n",
              "      <td>ca. 1960</td>\n",
              "      <td>Marco ZanusoDesk , ca. 1960Gokelaere &amp; Robinso...</td>\n",
              "      <td>Gokelaere &amp; Robinson</td>\n",
              "      <td>€25,000</td>\n",
              "      <td>04016</td>\n",
              "      <td>04</td>\n",
              "      <td>2022-04-19</td>\n",
              "      <td>2022-04-19</td>\n",
              "    </tr>\n",
              "    <tr>\n",
              "      <th>2</th>\n",
              "      <td>545a72c57261692cdfe90100</td>\n",
              "      <td>\"Nitor,\" Bronze Candlestick</td>\n",
              "      <td>https://d7hftxdivxxvm.cloudfront.net?resize_to...</td>\n",
              "      <td>2014</td>\n",
              "      <td>Aldus\"Nitor,\" Bronze Candlestick, 2014Maison G...</td>\n",
              "      <td>Maison Gerard</td>\n",
              "      <td>US$6,200</td>\n",
              "      <td>04016</td>\n",
              "      <td>04</td>\n",
              "      <td>2022-04-19</td>\n",
              "      <td>2022-04-19</td>\n",
              "    </tr>\n",
              "    <tr>\n",
              "      <th>3</th>\n",
              "      <td>5592bc6e7261693ebf00003d</td>\n",
              "      <td>Try Tray</td>\n",
              "      <td>https://d7hftxdivxxvm.cloudfront.net?resize_to...</td>\n",
              "      <td>1995</td>\n",
              "      <td>Gaetano PesceTry Tray, 1995The Modern ArchiveU...</td>\n",
              "      <td>The Modern Archive</td>\n",
              "      <td>US$595</td>\n",
              "      <td>04016</td>\n",
              "      <td>04</td>\n",
              "      <td>2022-04-19</td>\n",
              "      <td>2022-04-19</td>\n",
              "    </tr>\n",
              "    <tr>\n",
              "      <th>4</th>\n",
              "      <td>53eac6aa7261691149ef0000</td>\n",
              "      <td>Octopus Chandelier</td>\n",
              "      <td>https://d7hftxdivxxvm.cloudfront.net?resize_to...</td>\n",
              "      <td>2014</td>\n",
              "      <td>Achille SalvagniOctopus Chandelier, 2014Maison...</td>\n",
              "      <td>Maison Gerard</td>\n",
              "      <td>US$147,500</td>\n",
              "      <td>04016</td>\n",
              "      <td>04</td>\n",
              "      <td>2022-04-19</td>\n",
              "      <td>2022-04-19</td>\n",
              "    </tr>\n",
              "  </tbody>\n",
              "</table>\n",
              "</div>\n",
              "      <button class=\"colab-df-convert\" onclick=\"convertToInteractive('df-8d67e2ed-0fe0-4a3f-8300-b9cc29f76ef6')\"\n",
              "              title=\"Convert this dataframe to an interactive table.\"\n",
              "              style=\"display:none;\">\n",
              "        \n",
              "  <svg xmlns=\"http://www.w3.org/2000/svg\" height=\"24px\"viewBox=\"0 0 24 24\"\n",
              "       width=\"24px\">\n",
              "    <path d=\"M0 0h24v24H0V0z\" fill=\"none\"/>\n",
              "    <path d=\"M18.56 5.44l.94 2.06.94-2.06 2.06-.94-2.06-.94-.94-2.06-.94 2.06-2.06.94zm-11 1L8.5 8.5l.94-2.06 2.06-.94-2.06-.94L8.5 2.5l-.94 2.06-2.06.94zm10 10l.94 2.06.94-2.06 2.06-.94-2.06-.94-.94-2.06-.94 2.06-2.06.94z\"/><path d=\"M17.41 7.96l-1.37-1.37c-.4-.4-.92-.59-1.43-.59-.52 0-1.04.2-1.43.59L10.3 9.45l-7.72 7.72c-.78.78-.78 2.05 0 2.83L4 21.41c.39.39.9.59 1.41.59.51 0 1.02-.2 1.41-.59l7.78-7.78 2.81-2.81c.8-.78.8-2.07 0-2.86zM5.41 20L4 18.59l7.72-7.72 1.47 1.35L5.41 20z\"/>\n",
              "  </svg>\n",
              "      </button>\n",
              "      \n",
              "  <style>\n",
              "    .colab-df-container {\n",
              "      display:flex;\n",
              "      flex-wrap:wrap;\n",
              "      gap: 12px;\n",
              "    }\n",
              "\n",
              "    .colab-df-convert {\n",
              "      background-color: #E8F0FE;\n",
              "      border: none;\n",
              "      border-radius: 50%;\n",
              "      cursor: pointer;\n",
              "      display: none;\n",
              "      fill: #1967D2;\n",
              "      height: 32px;\n",
              "      padding: 0 0 0 0;\n",
              "      width: 32px;\n",
              "    }\n",
              "\n",
              "    .colab-df-convert:hover {\n",
              "      background-color: #E2EBFA;\n",
              "      box-shadow: 0px 1px 2px rgba(60, 64, 67, 0.3), 0px 1px 3px 1px rgba(60, 64, 67, 0.15);\n",
              "      fill: #174EA6;\n",
              "    }\n",
              "\n",
              "    [theme=dark] .colab-df-convert {\n",
              "      background-color: #3B4455;\n",
              "      fill: #D2E3FC;\n",
              "    }\n",
              "\n",
              "    [theme=dark] .colab-df-convert:hover {\n",
              "      background-color: #434B5C;\n",
              "      box-shadow: 0px 1px 3px 1px rgba(0, 0, 0, 0.15);\n",
              "      filter: drop-shadow(0px 1px 2px rgba(0, 0, 0, 0.3));\n",
              "      fill: #FFFFFF;\n",
              "    }\n",
              "  </style>\n",
              "\n",
              "      <script>\n",
              "        const buttonEl =\n",
              "          document.querySelector('#df-8d67e2ed-0fe0-4a3f-8300-b9cc29f76ef6 button.colab-df-convert');\n",
              "        buttonEl.style.display =\n",
              "          google.colab.kernel.accessAllowed ? 'block' : 'none';\n",
              "\n",
              "        async function convertToInteractive(key) {\n",
              "          const element = document.querySelector('#df-8d67e2ed-0fe0-4a3f-8300-b9cc29f76ef6');\n",
              "          const dataTable =\n",
              "            await google.colab.kernel.invokeFunction('convertToInteractive',\n",
              "                                                     [key], {});\n",
              "          if (!dataTable) return;\n",
              "\n",
              "          const docLinkHtml = 'Like what you see? Visit the ' +\n",
              "            '<a target=\"_blank\" href=https://colab.research.google.com/notebooks/data_table.ipynb>data table notebook</a>'\n",
              "            + ' to learn more about interactive tables.';\n",
              "          element.innerHTML = '';\n",
              "          dataTable['output_type'] = 'display_data';\n",
              "          await google.colab.output.renderOutput(dataTable, element);\n",
              "          const docLink = document.createElement('div');\n",
              "          docLink.innerHTML = docLinkHtml;\n",
              "          element.appendChild(docLink);\n",
              "        }\n",
              "      </script>\n",
              "    </div>\n",
              "  </div>\n",
              "  "
            ],
            "text/plain": [
              "                   artsy_id  \\\n",
              "0  6234540a64caba000b7d3d9e   \n",
              "1  623b0890478704000b678259   \n",
              "2  545a72c57261692cdfe90100   \n",
              "3  5592bc6e7261693ebf00003d   \n",
              "4  53eac6aa7261691149ef0000   \n",
              "\n",
              "                                                name  \\\n",
              "0  Osvaldo Borsani & Eugenio Gerli for Tecno Oval...   \n",
              "1                                              Desk    \n",
              "2                        \"Nitor,\" Bronze Candlestick   \n",
              "3                                           Try Tray   \n",
              "4                                 Octopus Chandelier   \n",
              "\n",
              "                                                link      year  \\\n",
              "0  https://d7hftxdivxxvm.cloudfront.net?resize_to...      1968   \n",
              "1  https://d7hftxdivxxvm.cloudfront.net?resize_to...  ca. 1960   \n",
              "2  https://d7hftxdivxxvm.cloudfront.net?resize_to...      2014   \n",
              "3  https://d7hftxdivxxvm.cloudfront.net?resize_to...      1995   \n",
              "4  https://d7hftxdivxxvm.cloudfront.net?resize_to...      2014   \n",
              "\n",
              "                                              artist               gallery  \\\n",
              "0  Osvaldo Borsani, Eugenio GerliOsvaldo Borsani ...               MORENTZ   \n",
              "1  Marco ZanusoDesk , ca. 1960Gokelaere & Robinso...  Gokelaere & Robinson   \n",
              "2  Aldus\"Nitor,\" Bronze Candlestick, 2014Maison G...         Maison Gerard   \n",
              "3  Gaetano PesceTry Tray, 1995The Modern ArchiveU...    The Modern Archive   \n",
              "4  Achille SalvagniOctopus Chandelier, 2014Maison...         Maison Gerard   \n",
              "\n",
              "         price gene_id category_id parsing_date updating_date  \n",
              "0    US$6,450    04016          04   2022-04-19    2022-04-19  \n",
              "1     €25,000    04016          04   2022-04-19    2022-04-19  \n",
              "2    US$6,200    04016          04   2022-04-19    2022-04-19  \n",
              "3      US$595    04016          04   2022-04-19    2022-04-19  \n",
              "4  US$147,500    04016          04   2022-04-19    2022-04-19  "
            ]
          },
          "execution_count": 152,
          "metadata": {},
          "output_type": "execute_result"
        }
      ],
      "source": [
        "df_temp_data_new.loc[df_temp_data_new['gene_id']=='04016'].head()"
      ]
    },
    {
      "cell_type": "code",
      "execution_count": null,
      "metadata": {
        "colab": {
          "base_uri": "https://localhost:8080/"
        },
        "id": "p2KfxF8CwzBj",
        "outputId": "c2792ef6-2b0f-49f6-d985-96f7fd62b5cc"
      },
      "outputs": [
        {
          "name": "stdout",
          "output_type": "stream",
          "text": [
            "https://www.artsy.net/gene/italian-furniture-and-design\n",
            "04016\n"
          ]
        }
      ],
      "source": [
        "print(url_add + genes_links_list[15])\n",
        "print(genes_ids_list[15])"
      ]
    },
    {
      "cell_type": "code",
      "execution_count": null,
      "metadata": {
        "id": "vjCpxAHQXszL"
      },
      "outputs": [],
      "source": [
        "genes_ids_list_er = [genes_ids_list[15]]\n",
        "genes_links_list_er = [genes_links_list[15]]"
      ]
    },
    {
      "cell_type": "code",
      "execution_count": null,
      "metadata": {
        "id": "L8LYT7Iu9lm2"
      },
      "outputs": [],
      "source": [
        "# or"
      ]
    },
    {
      "cell_type": "code",
      "execution_count": null,
      "metadata": {
        "colab": {
          "base_uri": "https://localhost:8080/"
        },
        "id": "x5bv0S7r9m7D",
        "outputId": "f1e078b0-f9e5-4569-ec7d-5f0ef76bd1ac"
      },
      "outputs": [
        {
          "data": {
            "text/plain": [
              "['09039', '09031']"
            ]
          },
          "execution_count": 470,
          "metadata": {},
          "output_type": "execute_result"
        }
      ],
      "source": [
        "genes_ids_list_er = [g_id for g_id in df_temp_data_new.loc[df_temp_data_new['artsy_id'].isna()==True]['gene_id']]\n",
        "genes_ids_list_er = list(set(genes_ids_list_er))\n",
        "genes_ids_list_er"
      ]
    },
    {
      "cell_type": "code",
      "execution_count": null,
      "metadata": {
        "colab": {
          "base_uri": "https://localhost:8080/"
        },
        "id": "yPniDa169lYk",
        "outputId": "d5f2fbe8-ae08-4ac4-f26d-4cbe7968aef9"
      },
      "outputs": [
        {
          "data": {
            "text/plain": [
              "['/gene/wood', '/gene/stone']"
            ]
          },
          "execution_count": 471,
          "metadata": {},
          "output_type": "execute_result"
        }
      ],
      "source": [
        "genes_links_list_er = [genes_links_list[genes_ids_list.index(g_id)] for g_id in genes_ids_list_er]\n",
        "genes_links_list_er"
      ]
    },
    {
      "cell_type": "code",
      "execution_count": null,
      "metadata": {
        "id": "RF62RrmNPH6h"
      },
      "outputs": [],
      "source": [
        "df_temp_data_new = df_temp_data_new.dropna(subset=['artsy_id'], axis=0)"
      ]
    },
    {
      "cell_type": "code",
      "execution_count": null,
      "metadata": {
        "id": "JVckAqK1P_A3"
      },
      "outputs": [],
      "source": [
        "save_df_file(df_temp_data_new, new_name_csv, 'backup') # 4. Save df to csv file"
      ]
    },
    {
      "cell_type": "markdown",
      "metadata": {
        "id": "ZdC9pBK-JkVs"
      },
      "source": [
        "### Primary parsing checking"
      ]
    },
    {
      "cell_type": "markdown",
      "metadata": {
        "id": "oHgl1Dd5GIt2"
      },
      "source": [
        "Checking the completeness of the data"
      ]
    },
    {
      "cell_type": "code",
      "execution_count": 302,
      "metadata": {
        "id": "WLTg1ENsUO92",
        "colab": {
          "base_uri": "https://localhost:8080/"
        },
        "outputId": "a571f98c-87e3-4199-ef81-a5a0b5e793dc"
      },
      "outputs": [
        {
          "output_type": "execute_result",
          "data": {
            "text/plain": [
              "['/artsy_temp_data_2022-04-20 08:38:11.107399.csv']"
            ]
          },
          "metadata": {},
          "execution_count": 302
        }
      ],
      "source": [
        "# cat 06 NEW GENE\n",
        "#backup_names = ['/artsy_temp_data_2022-04-09 06:44:32.738152.csv']\n",
        "backup_names"
      ]
    },
    {
      "cell_type": "code",
      "execution_count": null,
      "metadata": {
        "id": "kmzWTP3XS26u"
      },
      "outputs": [],
      "source": [
        "df_cat_dat = open_file_csv(backup_names[0], 'backup') # 3. Open file.csv\n",
        "for name in backup_names[1:]:\n",
        "  df_cat_dat_part = open_file_csv(name, 'backup') # 3. Open file.csv\n",
        "  df_cat_dat = pd.concat([df_cat_dat, df_cat_dat_part])"
      ]
    },
    {
      "cell_type": "code",
      "execution_count": 303,
      "metadata": {
        "id": "oXhuZHAL-s5C"
      },
      "outputs": [],
      "source": [
        "# or\n",
        "df_cat_dat = open_file_csv(backup_names[0], 'backup') # 3. Open file.csv"
      ]
    },
    {
      "cell_type": "code",
      "execution_count": 304,
      "metadata": {
        "colab": {
          "base_uri": "https://localhost:8080/"
        },
        "id": "7nJhFNHn-1sX",
        "outputId": "2862cef3-c152-462f-f52d-07add134f329"
      },
      "outputs": [
        {
          "output_type": "stream",
          "name": "stdout",
          "text": [
            "<class 'pandas.core.frame.DataFrame'>\n",
            "RangeIndex: 263 entries, 0 to 262\n",
            "Data columns (total 11 columns):\n",
            " #   Column         Non-Null Count  Dtype \n",
            "---  ------         --------------  ----- \n",
            " 0   artsy_id       263 non-null    object\n",
            " 1   name           263 non-null    object\n",
            " 2   link           263 non-null    object\n",
            " 3   year           257 non-null    object\n",
            " 4   artist         263 non-null    object\n",
            " 5   gallery        263 non-null    object\n",
            " 6   price          263 non-null    object\n",
            " 7   gene_id        263 non-null    int64 \n",
            " 8   category_id    263 non-null    int64 \n",
            " 9   parsing_date   263 non-null    object\n",
            " 10  updating_date  263 non-null    object\n",
            "dtypes: int64(2), object(9)\n",
            "memory usage: 22.7+ KB\n"
          ]
        }
      ],
      "source": [
        "df_cat_dat.info()"
      ]
    },
    {
      "cell_type": "code",
      "source": [
        "df_cat_dat['category_id'].unique()"
      ],
      "metadata": {
        "colab": {
          "base_uri": "https://localhost:8080/"
        },
        "id": "q6SIHCQwUc-l",
        "outputId": "33809155-cec2-47b5-8168-18313847544a"
      },
      "execution_count": 305,
      "outputs": [
        {
          "output_type": "execute_result",
          "data": {
            "text/plain": [
              "array([6])"
            ]
          },
          "metadata": {},
          "execution_count": 305
        }
      ]
    },
    {
      "cell_type": "code",
      "source": [
        "# !!!!!!!!!!!!!!!!"
      ],
      "metadata": {
        "id": "qSsl97naWxxf"
      },
      "execution_count": null,
      "outputs": []
    },
    {
      "cell_type": "code",
      "source": [
        "df_cat_dat_nan = df_cat_dat.loc[df_cat_dat['category_id'].isna()==True]\n",
        "df_cat_dat_nan.info()"
      ],
      "metadata": {
        "colab": {
          "base_uri": "https://localhost:8080/"
        },
        "id": "PtovFp3fWQq4",
        "outputId": "a5214458-61d3-447f-e2f3-854d8320cf42"
      },
      "execution_count": null,
      "outputs": [
        {
          "output_type": "stream",
          "name": "stdout",
          "text": [
            "<class 'pandas.core.frame.DataFrame'>\n",
            "Int64Index: 2 entries, 2611 to 4705\n",
            "Data columns (total 11 columns):\n",
            " #   Column         Non-Null Count  Dtype  \n",
            "---  ------         --------------  -----  \n",
            " 0   artsy_id       2 non-null      object \n",
            " 1   name           2 non-null      object \n",
            " 2   link           0 non-null      object \n",
            " 3   year           0 non-null      object \n",
            " 4   artist         0 non-null      object \n",
            " 5   gallery        0 non-null      object \n",
            " 6   price          0 non-null      object \n",
            " 7   gene_id        0 non-null      float64\n",
            " 8   category_id    0 non-null      object \n",
            " 9   parsing_date   0 non-null      object \n",
            " 10  updating_date  0 non-null      object \n",
            "dtypes: float64(1), object(10)\n",
            "memory usage: 192.0+ bytes\n"
          ]
        }
      ]
    },
    {
      "cell_type": "code",
      "source": [
        "df_cat_dat_nan"
      ],
      "metadata": {
        "colab": {
          "base_uri": "https://localhost:8080/",
          "height": 225
        },
        "id": "nz5jx4THWfdT",
        "outputId": "3834509c-1da9-405d-f02c-e795b06b53a6"
      },
      "execution_count": null,
      "outputs": [
        {
          "output_type": "execute_result",
          "data": {
            "text/plain": [
              "                      artsy_id                                name link year  \\\n",
              "2611  61698fb5299f47000de9a839  ‘Ero’ chairs by Starck for Kartell  NaN  NaN   \n",
              "4705  61698fb5299f47000de9a839  ‘Ero’ chairs by Starck for Kartell  NaN  NaN   \n",
              "\n",
              "     artist gallery price  gene_id category_id parsing_date updating_date  \n",
              "2611    NaN     NaN   NaN      NaN         NaN          NaN           NaN  \n",
              "4705    NaN     NaN   NaN      NaN         NaN          NaN           NaN  "
            ],
            "text/html": [
              "\n",
              "  <div id=\"df-5d1f8b65-8737-4b26-becd-979db77c396d\">\n",
              "    <div class=\"colab-df-container\">\n",
              "      <div>\n",
              "<style scoped>\n",
              "    .dataframe tbody tr th:only-of-type {\n",
              "        vertical-align: middle;\n",
              "    }\n",
              "\n",
              "    .dataframe tbody tr th {\n",
              "        vertical-align: top;\n",
              "    }\n",
              "\n",
              "    .dataframe thead th {\n",
              "        text-align: right;\n",
              "    }\n",
              "</style>\n",
              "<table border=\"1\" class=\"dataframe\">\n",
              "  <thead>\n",
              "    <tr style=\"text-align: right;\">\n",
              "      <th></th>\n",
              "      <th>artsy_id</th>\n",
              "      <th>name</th>\n",
              "      <th>link</th>\n",
              "      <th>year</th>\n",
              "      <th>artist</th>\n",
              "      <th>gallery</th>\n",
              "      <th>price</th>\n",
              "      <th>gene_id</th>\n",
              "      <th>category_id</th>\n",
              "      <th>parsing_date</th>\n",
              "      <th>updating_date</th>\n",
              "    </tr>\n",
              "  </thead>\n",
              "  <tbody>\n",
              "    <tr>\n",
              "      <th>2611</th>\n",
              "      <td>61698fb5299f47000de9a839</td>\n",
              "      <td>‘Ero’ chairs by Starck for Kartell</td>\n",
              "      <td>NaN</td>\n",
              "      <td>NaN</td>\n",
              "      <td>NaN</td>\n",
              "      <td>NaN</td>\n",
              "      <td>NaN</td>\n",
              "      <td>NaN</td>\n",
              "      <td>NaN</td>\n",
              "      <td>NaN</td>\n",
              "      <td>NaN</td>\n",
              "    </tr>\n",
              "    <tr>\n",
              "      <th>4705</th>\n",
              "      <td>61698fb5299f47000de9a839</td>\n",
              "      <td>‘Ero’ chairs by Starck for Kartell</td>\n",
              "      <td>NaN</td>\n",
              "      <td>NaN</td>\n",
              "      <td>NaN</td>\n",
              "      <td>NaN</td>\n",
              "      <td>NaN</td>\n",
              "      <td>NaN</td>\n",
              "      <td>NaN</td>\n",
              "      <td>NaN</td>\n",
              "      <td>NaN</td>\n",
              "    </tr>\n",
              "  </tbody>\n",
              "</table>\n",
              "</div>\n",
              "      <button class=\"colab-df-convert\" onclick=\"convertToInteractive('df-5d1f8b65-8737-4b26-becd-979db77c396d')\"\n",
              "              title=\"Convert this dataframe to an interactive table.\"\n",
              "              style=\"display:none;\">\n",
              "        \n",
              "  <svg xmlns=\"http://www.w3.org/2000/svg\" height=\"24px\"viewBox=\"0 0 24 24\"\n",
              "       width=\"24px\">\n",
              "    <path d=\"M0 0h24v24H0V0z\" fill=\"none\"/>\n",
              "    <path d=\"M18.56 5.44l.94 2.06.94-2.06 2.06-.94-2.06-.94-.94-2.06-.94 2.06-2.06.94zm-11 1L8.5 8.5l.94-2.06 2.06-.94-2.06-.94L8.5 2.5l-.94 2.06-2.06.94zm10 10l.94 2.06.94-2.06 2.06-.94-2.06-.94-.94-2.06-.94 2.06-2.06.94z\"/><path d=\"M17.41 7.96l-1.37-1.37c-.4-.4-.92-.59-1.43-.59-.52 0-1.04.2-1.43.59L10.3 9.45l-7.72 7.72c-.78.78-.78 2.05 0 2.83L4 21.41c.39.39.9.59 1.41.59.51 0 1.02-.2 1.41-.59l7.78-7.78 2.81-2.81c.8-.78.8-2.07 0-2.86zM5.41 20L4 18.59l7.72-7.72 1.47 1.35L5.41 20z\"/>\n",
              "  </svg>\n",
              "      </button>\n",
              "      \n",
              "  <style>\n",
              "    .colab-df-container {\n",
              "      display:flex;\n",
              "      flex-wrap:wrap;\n",
              "      gap: 12px;\n",
              "    }\n",
              "\n",
              "    .colab-df-convert {\n",
              "      background-color: #E8F0FE;\n",
              "      border: none;\n",
              "      border-radius: 50%;\n",
              "      cursor: pointer;\n",
              "      display: none;\n",
              "      fill: #1967D2;\n",
              "      height: 32px;\n",
              "      padding: 0 0 0 0;\n",
              "      width: 32px;\n",
              "    }\n",
              "\n",
              "    .colab-df-convert:hover {\n",
              "      background-color: #E2EBFA;\n",
              "      box-shadow: 0px 1px 2px rgba(60, 64, 67, 0.3), 0px 1px 3px 1px rgba(60, 64, 67, 0.15);\n",
              "      fill: #174EA6;\n",
              "    }\n",
              "\n",
              "    [theme=dark] .colab-df-convert {\n",
              "      background-color: #3B4455;\n",
              "      fill: #D2E3FC;\n",
              "    }\n",
              "\n",
              "    [theme=dark] .colab-df-convert:hover {\n",
              "      background-color: #434B5C;\n",
              "      box-shadow: 0px 1px 3px 1px rgba(0, 0, 0, 0.15);\n",
              "      filter: drop-shadow(0px 1px 2px rgba(0, 0, 0, 0.3));\n",
              "      fill: #FFFFFF;\n",
              "    }\n",
              "  </style>\n",
              "\n",
              "      <script>\n",
              "        const buttonEl =\n",
              "          document.querySelector('#df-5d1f8b65-8737-4b26-becd-979db77c396d button.colab-df-convert');\n",
              "        buttonEl.style.display =\n",
              "          google.colab.kernel.accessAllowed ? 'block' : 'none';\n",
              "\n",
              "        async function convertToInteractive(key) {\n",
              "          const element = document.querySelector('#df-5d1f8b65-8737-4b26-becd-979db77c396d');\n",
              "          const dataTable =\n",
              "            await google.colab.kernel.invokeFunction('convertToInteractive',\n",
              "                                                     [key], {});\n",
              "          if (!dataTable) return;\n",
              "\n",
              "          const docLinkHtml = 'Like what you see? Visit the ' +\n",
              "            '<a target=\"_blank\" href=https://colab.research.google.com/notebooks/data_table.ipynb>data table notebook</a>'\n",
              "            + ' to learn more about interactive tables.';\n",
              "          element.innerHTML = '';\n",
              "          dataTable['output_type'] = 'display_data';\n",
              "          await google.colab.output.renderOutput(dataTable, element);\n",
              "          const docLink = document.createElement('div');\n",
              "          docLink.innerHTML = docLinkHtml;\n",
              "          element.appendChild(docLink);\n",
              "        }\n",
              "      </script>\n",
              "    </div>\n",
              "  </div>\n",
              "  "
            ]
          },
          "metadata": {},
          "execution_count": 172
        }
      ]
    },
    {
      "cell_type": "code",
      "source": [
        "artsy_id_list = df_cat_dat_nan['artsy_id'].tolist()\n",
        "name_list = df_cat_dat_nan['name'].tolist()"
      ],
      "metadata": {
        "id": "7iNPr2PrXG2c"
      },
      "execution_count": null,
      "outputs": []
    },
    {
      "cell_type": "code",
      "source": [
        "df_cat_dat_date = df_cat_dat.loc[df_cat_dat['category_id']=='2022-04-19']\n",
        "df_cat_dat_date.info()"
      ],
      "metadata": {
        "colab": {
          "base_uri": "https://localhost:8080/"
        },
        "id": "etY2HtLjV-xw",
        "outputId": "78279b3e-8b56-4250-f8a2-0fc3d25dd2b5"
      },
      "execution_count": null,
      "outputs": [
        {
          "output_type": "stream",
          "name": "stdout",
          "text": [
            "<class 'pandas.core.frame.DataFrame'>\n",
            "Int64Index: 2 entries, 2612 to 4706\n",
            "Data columns (total 11 columns):\n",
            " #   Column         Non-Null Count  Dtype  \n",
            "---  ------         --------------  -----  \n",
            " 0   artsy_id       2 non-null      object \n",
            " 1   name           2 non-null      object \n",
            " 2   link           2 non-null      object \n",
            " 3   year           2 non-null      object \n",
            " 4   artist         2 non-null      object \n",
            " 5   gallery        2 non-null      object \n",
            " 6   price          2 non-null      object \n",
            " 7   gene_id        2 non-null      float64\n",
            " 8   category_id    2 non-null      object \n",
            " 9   parsing_date   2 non-null      object \n",
            " 10  updating_date  0 non-null      object \n",
            "dtypes: float64(1), object(10)\n",
            "memory usage: 192.0+ bytes\n"
          ]
        }
      ]
    },
    {
      "cell_type": "code",
      "source": [
        "df_cat_dat_date"
      ],
      "metadata": {
        "colab": {
          "base_uri": "https://localhost:8080/",
          "height": 315
        },
        "id": "RpoLl1wnWH4G",
        "outputId": "eecf9d2a-80dc-4bff-a699-bece17d0d91d"
      },
      "execution_count": null,
      "outputs": [
        {
          "output_type": "execute_result",
          "data": {
            "text/plain": [
              "     artsy_id                                               name        link  \\\n",
              "2612  (Italy)  https://d7hftxdivxxvm.cloudfront.net?resize_to...  Circa 2000   \n",
              "4706  (Italy)  https://d7hftxdivxxvm.cloudfront.net?resize_to...  Circa 2000   \n",
              "\n",
              "                                                   year  \\\n",
              "2612  Philippe Starck‘Ero’ chairs by Starck for Kart...   \n",
              "4706  Philippe Starck‘Ero’ chairs by Starck for Kart...   \n",
              "\n",
              "                      artist            gallery  price  gene_id category_id  \\\n",
              "2612  Eclectica Contemporary  Price on request   12005     12.0  2022-04-19   \n",
              "4706  Eclectica Contemporary  Price on request   12017     12.0  2022-04-19   \n",
              "\n",
              "     parsing_date updating_date  \n",
              "2612   2022-04-19           NaN  \n",
              "4706   2022-04-19           NaN  "
            ],
            "text/html": [
              "\n",
              "  <div id=\"df-b78c922c-a0f1-4670-adc6-37bd5a5ee02c\">\n",
              "    <div class=\"colab-df-container\">\n",
              "      <div>\n",
              "<style scoped>\n",
              "    .dataframe tbody tr th:only-of-type {\n",
              "        vertical-align: middle;\n",
              "    }\n",
              "\n",
              "    .dataframe tbody tr th {\n",
              "        vertical-align: top;\n",
              "    }\n",
              "\n",
              "    .dataframe thead th {\n",
              "        text-align: right;\n",
              "    }\n",
              "</style>\n",
              "<table border=\"1\" class=\"dataframe\">\n",
              "  <thead>\n",
              "    <tr style=\"text-align: right;\">\n",
              "      <th></th>\n",
              "      <th>artsy_id</th>\n",
              "      <th>name</th>\n",
              "      <th>link</th>\n",
              "      <th>year</th>\n",
              "      <th>artist</th>\n",
              "      <th>gallery</th>\n",
              "      <th>price</th>\n",
              "      <th>gene_id</th>\n",
              "      <th>category_id</th>\n",
              "      <th>parsing_date</th>\n",
              "      <th>updating_date</th>\n",
              "    </tr>\n",
              "  </thead>\n",
              "  <tbody>\n",
              "    <tr>\n",
              "      <th>2612</th>\n",
              "      <td>(Italy)</td>\n",
              "      <td>https://d7hftxdivxxvm.cloudfront.net?resize_to...</td>\n",
              "      <td>Circa 2000</td>\n",
              "      <td>Philippe Starck‘Ero’ chairs by Starck for Kart...</td>\n",
              "      <td>Eclectica Contemporary</td>\n",
              "      <td>Price on request</td>\n",
              "      <td>12005</td>\n",
              "      <td>12.0</td>\n",
              "      <td>2022-04-19</td>\n",
              "      <td>2022-04-19</td>\n",
              "      <td>NaN</td>\n",
              "    </tr>\n",
              "    <tr>\n",
              "      <th>4706</th>\n",
              "      <td>(Italy)</td>\n",
              "      <td>https://d7hftxdivxxvm.cloudfront.net?resize_to...</td>\n",
              "      <td>Circa 2000</td>\n",
              "      <td>Philippe Starck‘Ero’ chairs by Starck for Kart...</td>\n",
              "      <td>Eclectica Contemporary</td>\n",
              "      <td>Price on request</td>\n",
              "      <td>12017</td>\n",
              "      <td>12.0</td>\n",
              "      <td>2022-04-19</td>\n",
              "      <td>2022-04-19</td>\n",
              "      <td>NaN</td>\n",
              "    </tr>\n",
              "  </tbody>\n",
              "</table>\n",
              "</div>\n",
              "      <button class=\"colab-df-convert\" onclick=\"convertToInteractive('df-b78c922c-a0f1-4670-adc6-37bd5a5ee02c')\"\n",
              "              title=\"Convert this dataframe to an interactive table.\"\n",
              "              style=\"display:none;\">\n",
              "        \n",
              "  <svg xmlns=\"http://www.w3.org/2000/svg\" height=\"24px\"viewBox=\"0 0 24 24\"\n",
              "       width=\"24px\">\n",
              "    <path d=\"M0 0h24v24H0V0z\" fill=\"none\"/>\n",
              "    <path d=\"M18.56 5.44l.94 2.06.94-2.06 2.06-.94-2.06-.94-.94-2.06-.94 2.06-2.06.94zm-11 1L8.5 8.5l.94-2.06 2.06-.94-2.06-.94L8.5 2.5l-.94 2.06-2.06.94zm10 10l.94 2.06.94-2.06 2.06-.94-2.06-.94-.94-2.06-.94 2.06-2.06.94z\"/><path d=\"M17.41 7.96l-1.37-1.37c-.4-.4-.92-.59-1.43-.59-.52 0-1.04.2-1.43.59L10.3 9.45l-7.72 7.72c-.78.78-.78 2.05 0 2.83L4 21.41c.39.39.9.59 1.41.59.51 0 1.02-.2 1.41-.59l7.78-7.78 2.81-2.81c.8-.78.8-2.07 0-2.86zM5.41 20L4 18.59l7.72-7.72 1.47 1.35L5.41 20z\"/>\n",
              "  </svg>\n",
              "      </button>\n",
              "      \n",
              "  <style>\n",
              "    .colab-df-container {\n",
              "      display:flex;\n",
              "      flex-wrap:wrap;\n",
              "      gap: 12px;\n",
              "    }\n",
              "\n",
              "    .colab-df-convert {\n",
              "      background-color: #E8F0FE;\n",
              "      border: none;\n",
              "      border-radius: 50%;\n",
              "      cursor: pointer;\n",
              "      display: none;\n",
              "      fill: #1967D2;\n",
              "      height: 32px;\n",
              "      padding: 0 0 0 0;\n",
              "      width: 32px;\n",
              "    }\n",
              "\n",
              "    .colab-df-convert:hover {\n",
              "      background-color: #E2EBFA;\n",
              "      box-shadow: 0px 1px 2px rgba(60, 64, 67, 0.3), 0px 1px 3px 1px rgba(60, 64, 67, 0.15);\n",
              "      fill: #174EA6;\n",
              "    }\n",
              "\n",
              "    [theme=dark] .colab-df-convert {\n",
              "      background-color: #3B4455;\n",
              "      fill: #D2E3FC;\n",
              "    }\n",
              "\n",
              "    [theme=dark] .colab-df-convert:hover {\n",
              "      background-color: #434B5C;\n",
              "      box-shadow: 0px 1px 3px 1px rgba(0, 0, 0, 0.15);\n",
              "      filter: drop-shadow(0px 1px 2px rgba(0, 0, 0, 0.3));\n",
              "      fill: #FFFFFF;\n",
              "    }\n",
              "  </style>\n",
              "\n",
              "      <script>\n",
              "        const buttonEl =\n",
              "          document.querySelector('#df-b78c922c-a0f1-4670-adc6-37bd5a5ee02c button.colab-df-convert');\n",
              "        buttonEl.style.display =\n",
              "          google.colab.kernel.accessAllowed ? 'block' : 'none';\n",
              "\n",
              "        async function convertToInteractive(key) {\n",
              "          const element = document.querySelector('#df-b78c922c-a0f1-4670-adc6-37bd5a5ee02c');\n",
              "          const dataTable =\n",
              "            await google.colab.kernel.invokeFunction('convertToInteractive',\n",
              "                                                     [key], {});\n",
              "          if (!dataTable) return;\n",
              "\n",
              "          const docLinkHtml = 'Like what you see? Visit the ' +\n",
              "            '<a target=\"_blank\" href=https://colab.research.google.com/notebooks/data_table.ipynb>data table notebook</a>'\n",
              "            + ' to learn more about interactive tables.';\n",
              "          element.innerHTML = '';\n",
              "          dataTable['output_type'] = 'display_data';\n",
              "          await google.colab.output.renderOutput(dataTable, element);\n",
              "          const docLink = document.createElement('div');\n",
              "          docLink.innerHTML = docLinkHtml;\n",
              "          element.appendChild(docLink);\n",
              "        }\n",
              "      </script>\n",
              "    </div>\n",
              "  </div>\n",
              "  "
            ]
          },
          "metadata": {},
          "execution_count": 170
        }
      ]
    },
    {
      "cell_type": "code",
      "source": [
        "imgage_list = df_cat_dat_date['name'].tolist()\n",
        "year_list = df_cat_dat_date['link'].tolist()\n",
        "artist_list = df_cat_dat_date['year'].tolist()\n",
        "gallery_list = df_cat_dat_date['artist'].tolist()\n",
        "price_list = df_cat_dat_date['gallery'].tolist()\n",
        "gene_list = df_cat_dat_date['price'].tolist()\n",
        "cat_list = df_cat_dat_date['gene_id'].tolist()\n",
        "parsing_list = df_cat_dat_date['parsing_date'].tolist()"
      ],
      "metadata": {
        "id": "oSssonRtXWYY"
      },
      "execution_count": null,
      "outputs": []
    },
    {
      "cell_type": "code",
      "source": [
        "df_data_new = pd.DataFrame({'artsy_id': artsy_id_list,\n",
        "                            'name': name_list, \n",
        "                            'link': imgage_list, \n",
        "                            'year': year_list,\n",
        "                            'artist': artist_list,\n",
        "                            'gallery': gallery_list,\n",
        "                            'price': price_list,\n",
        "                            'gene_id': gene_list,\n",
        "                            'category_id': cat_list,\n",
        "                            'parsing_date': parsing_list,\n",
        "                            'updating_date': parsing_list,\n",
        "                            })\n",
        "df_data_new.info()"
      ],
      "metadata": {
        "colab": {
          "base_uri": "https://localhost:8080/"
        },
        "id": "EvThpeskW4Ap",
        "outputId": "1326a9c4-6279-4b95-d90f-cee812f40a94"
      },
      "execution_count": null,
      "outputs": [
        {
          "output_type": "stream",
          "name": "stdout",
          "text": [
            "<class 'pandas.core.frame.DataFrame'>\n",
            "RangeIndex: 2 entries, 0 to 1\n",
            "Data columns (total 11 columns):\n",
            " #   Column         Non-Null Count  Dtype  \n",
            "---  ------         --------------  -----  \n",
            " 0   artsy_id       2 non-null      object \n",
            " 1   name           2 non-null      object \n",
            " 2   link           2 non-null      object \n",
            " 3   year           2 non-null      object \n",
            " 4   artist         2 non-null      object \n",
            " 5   gallery        2 non-null      object \n",
            " 6   price          2 non-null      object \n",
            " 7   gene_id        2 non-null      object \n",
            " 8   category_id    2 non-null      float64\n",
            " 9   parsing_date   2 non-null      object \n",
            " 10  updating_date  2 non-null      object \n",
            "dtypes: float64(1), object(10)\n",
            "memory usage: 304.0+ bytes\n"
          ]
        }
      ]
    },
    {
      "cell_type": "code",
      "source": [
        "df_data_new['category_id'].unique()"
      ],
      "metadata": {
        "colab": {
          "base_uri": "https://localhost:8080/"
        },
        "id": "0zPuXgsRZdam",
        "outputId": "1e83e755-6b81-45ee-fcc5-aeaa461aed8c"
      },
      "execution_count": null,
      "outputs": [
        {
          "output_type": "execute_result",
          "data": {
            "text/plain": [
              "array([12.])"
            ]
          },
          "metadata": {},
          "execution_count": 177
        }
      ]
    },
    {
      "cell_type": "code",
      "source": [
        "df_cat_dat_12 = df_cat_dat.loc[df_cat_dat['category_id']=='12']\n",
        "df_cat_dat_12.info()"
      ],
      "metadata": {
        "colab": {
          "base_uri": "https://localhost:8080/"
        },
        "id": "-Scf8fVcVCO-",
        "outputId": "d08c198a-0da3-42d4-b47b-4bd010a87d1d"
      },
      "execution_count": null,
      "outputs": [
        {
          "output_type": "stream",
          "name": "stdout",
          "text": [
            "<class 'pandas.core.frame.DataFrame'>\n",
            "Int64Index: 23348 entries, 0 to 13960\n",
            "Data columns (total 11 columns):\n",
            " #   Column         Non-Null Count  Dtype  \n",
            "---  ------         --------------  -----  \n",
            " 0   artsy_id       23345 non-null  object \n",
            " 1   name           23345 non-null  object \n",
            " 2   link           23345 non-null  object \n",
            " 3   year           22845 non-null  object \n",
            " 4   artist         23345 non-null  object \n",
            " 5   gallery        23091 non-null  object \n",
            " 6   price          23345 non-null  object \n",
            " 7   gene_id        23348 non-null  float64\n",
            " 8   category_id    23348 non-null  object \n",
            " 9   parsing_date   23348 non-null  object \n",
            " 10  updating_date  23348 non-null  object \n",
            "dtypes: float64(1), object(10)\n",
            "memory usage: 2.1+ MB\n"
          ]
        }
      ]
    },
    {
      "cell_type": "code",
      "source": [
        "df_cat_dat_12['category_id'].unique()"
      ],
      "metadata": {
        "colab": {
          "base_uri": "https://localhost:8080/"
        },
        "id": "K11cNFkiZTHG",
        "outputId": "e3d0aa1a-c27a-427d-f9cd-cac68fb6675d"
      },
      "execution_count": null,
      "outputs": [
        {
          "output_type": "execute_result",
          "data": {
            "text/plain": [
              "array(['12'], dtype=object)"
            ]
          },
          "metadata": {},
          "execution_count": 176
        }
      ]
    },
    {
      "cell_type": "code",
      "source": [
        "df_cat_dat = df_cat_dat_12.copy()\n",
        "df_cat_dat = pd.concat([df_cat_dat, df_data_new])\n",
        "df_cat_dat = df_cat_dat.reset_index().drop(['index'], axis=1)\n",
        "df_cat_dat['category_id'] = 12\n",
        "\n",
        "df_cat_dat.info()"
      ],
      "metadata": {
        "colab": {
          "base_uri": "https://localhost:8080/"
        },
        "id": "J0ORDJyTZxG5",
        "outputId": "b570b137-8b5f-479e-ba09-68efa8b11ed5"
      },
      "execution_count": null,
      "outputs": [
        {
          "output_type": "stream",
          "name": "stdout",
          "text": [
            "<class 'pandas.core.frame.DataFrame'>\n",
            "RangeIndex: 23350 entries, 0 to 23349\n",
            "Data columns (total 11 columns):\n",
            " #   Column         Non-Null Count  Dtype \n",
            "---  ------         --------------  ----- \n",
            " 0   artsy_id       23347 non-null  object\n",
            " 1   name           23347 non-null  object\n",
            " 2   link           23347 non-null  object\n",
            " 3   year           22847 non-null  object\n",
            " 4   artist         23347 non-null  object\n",
            " 5   gallery        23093 non-null  object\n",
            " 6   price          23347 non-null  object\n",
            " 7   gene_id        23350 non-null  object\n",
            " 8   category_id    23350 non-null  int64 \n",
            " 9   parsing_date   23350 non-null  object\n",
            " 10  updating_date  23350 non-null  object\n",
            "dtypes: int64(1), object(10)\n",
            "memory usage: 2.0+ MB\n"
          ]
        }
      ]
    },
    {
      "cell_type": "code",
      "source": [
        "df_cat_dat['category_id'].unique()"
      ],
      "metadata": {
        "colab": {
          "base_uri": "https://localhost:8080/"
        },
        "id": "nfEpGACSaPVn",
        "outputId": "a85864e1-ad48-4b28-ccf4-d6944d44e349"
      },
      "execution_count": null,
      "outputs": [
        {
          "output_type": "execute_result",
          "data": {
            "text/plain": [
              "array([12])"
            ]
          },
          "metadata": {},
          "execution_count": 179
        }
      ]
    },
    {
      "cell_type": "code",
      "source": [
        "# !!!!!!!!"
      ],
      "metadata": {
        "id": "vUuH08hsZv4r"
      },
      "execution_count": null,
      "outputs": []
    },
    {
      "cell_type": "code",
      "execution_count": 306,
      "metadata": {
        "id": "7EZgaTrbrIUp"
      },
      "outputs": [],
      "source": [
        "df_cat_dat['category_id'] = df_cat_dat['category_id'].dropna().apply(lambda x: str(x) if len(str(x))==cat_id_len else ('0'*(cat_id_len-len(str(x)))+str(x)))\n",
        "df_cat_dat['gene_id'] = df_cat_dat['gene_id'].dropna().apply(lambda x: str(x) if len(str(x))==gen_id_len else ('0'*(gen_id_len-len(str(x)))+str(x)))\n",
        "\n",
        "#df_cat_dat['category_id'] = df_cat_dat['category_id'].dropna().apply(lambda x: str(int(float(x))) if len(str(int(float(x))))==cat_id_len else ('0'*(cat_id_len-len(str(int(float(x)))))+str(int(float(x)))))\n",
        "#df_cat_dat['gene_id'] = df_cat_dat['gene_id'].dropna().apply(lambda x: str(int(float(x))) if len(str(int(float(x))))==gen_id_len else ('0'*(gen_id_len-len(str(int(float(x)))))+str(int(float(x)))))"
      ]
    },
    {
      "cell_type": "code",
      "execution_count": 307,
      "metadata": {
        "colab": {
          "base_uri": "https://localhost:8080/",
          "height": 50
        },
        "id": "5A522XENTyD5",
        "outputId": "512cdb7f-d39e-42eb-dbf1-e4d2bc9a9be4"
      },
      "outputs": [
        {
          "output_type": "execute_result",
          "data": {
            "text/plain": [
              "Empty DataFrame\n",
              "Columns: [artsy_id, name, link, year, artist, gallery, price, gene_id, category_id, parsing_date, updating_date]\n",
              "Index: []"
            ],
            "text/html": [
              "\n",
              "  <div id=\"df-2914a4fa-a90f-4d25-b926-cfa4d580fe24\">\n",
              "    <div class=\"colab-df-container\">\n",
              "      <div>\n",
              "<style scoped>\n",
              "    .dataframe tbody tr th:only-of-type {\n",
              "        vertical-align: middle;\n",
              "    }\n",
              "\n",
              "    .dataframe tbody tr th {\n",
              "        vertical-align: top;\n",
              "    }\n",
              "\n",
              "    .dataframe thead th {\n",
              "        text-align: right;\n",
              "    }\n",
              "</style>\n",
              "<table border=\"1\" class=\"dataframe\">\n",
              "  <thead>\n",
              "    <tr style=\"text-align: right;\">\n",
              "      <th></th>\n",
              "      <th>artsy_id</th>\n",
              "      <th>name</th>\n",
              "      <th>link</th>\n",
              "      <th>year</th>\n",
              "      <th>artist</th>\n",
              "      <th>gallery</th>\n",
              "      <th>price</th>\n",
              "      <th>gene_id</th>\n",
              "      <th>category_id</th>\n",
              "      <th>parsing_date</th>\n",
              "      <th>updating_date</th>\n",
              "    </tr>\n",
              "  </thead>\n",
              "  <tbody>\n",
              "  </tbody>\n",
              "</table>\n",
              "</div>\n",
              "      <button class=\"colab-df-convert\" onclick=\"convertToInteractive('df-2914a4fa-a90f-4d25-b926-cfa4d580fe24')\"\n",
              "              title=\"Convert this dataframe to an interactive table.\"\n",
              "              style=\"display:none;\">\n",
              "        \n",
              "  <svg xmlns=\"http://www.w3.org/2000/svg\" height=\"24px\"viewBox=\"0 0 24 24\"\n",
              "       width=\"24px\">\n",
              "    <path d=\"M0 0h24v24H0V0z\" fill=\"none\"/>\n",
              "    <path d=\"M18.56 5.44l.94 2.06.94-2.06 2.06-.94-2.06-.94-.94-2.06-.94 2.06-2.06.94zm-11 1L8.5 8.5l.94-2.06 2.06-.94-2.06-.94L8.5 2.5l-.94 2.06-2.06.94zm10 10l.94 2.06.94-2.06 2.06-.94-2.06-.94-.94-2.06-.94 2.06-2.06.94z\"/><path d=\"M17.41 7.96l-1.37-1.37c-.4-.4-.92-.59-1.43-.59-.52 0-1.04.2-1.43.59L10.3 9.45l-7.72 7.72c-.78.78-.78 2.05 0 2.83L4 21.41c.39.39.9.59 1.41.59.51 0 1.02-.2 1.41-.59l7.78-7.78 2.81-2.81c.8-.78.8-2.07 0-2.86zM5.41 20L4 18.59l7.72-7.72 1.47 1.35L5.41 20z\"/>\n",
              "  </svg>\n",
              "      </button>\n",
              "      \n",
              "  <style>\n",
              "    .colab-df-container {\n",
              "      display:flex;\n",
              "      flex-wrap:wrap;\n",
              "      gap: 12px;\n",
              "    }\n",
              "\n",
              "    .colab-df-convert {\n",
              "      background-color: #E8F0FE;\n",
              "      border: none;\n",
              "      border-radius: 50%;\n",
              "      cursor: pointer;\n",
              "      display: none;\n",
              "      fill: #1967D2;\n",
              "      height: 32px;\n",
              "      padding: 0 0 0 0;\n",
              "      width: 32px;\n",
              "    }\n",
              "\n",
              "    .colab-df-convert:hover {\n",
              "      background-color: #E2EBFA;\n",
              "      box-shadow: 0px 1px 2px rgba(60, 64, 67, 0.3), 0px 1px 3px 1px rgba(60, 64, 67, 0.15);\n",
              "      fill: #174EA6;\n",
              "    }\n",
              "\n",
              "    [theme=dark] .colab-df-convert {\n",
              "      background-color: #3B4455;\n",
              "      fill: #D2E3FC;\n",
              "    }\n",
              "\n",
              "    [theme=dark] .colab-df-convert:hover {\n",
              "      background-color: #434B5C;\n",
              "      box-shadow: 0px 1px 3px 1px rgba(0, 0, 0, 0.15);\n",
              "      filter: drop-shadow(0px 1px 2px rgba(0, 0, 0, 0.3));\n",
              "      fill: #FFFFFF;\n",
              "    }\n",
              "  </style>\n",
              "\n",
              "      <script>\n",
              "        const buttonEl =\n",
              "          document.querySelector('#df-2914a4fa-a90f-4d25-b926-cfa4d580fe24 button.colab-df-convert');\n",
              "        buttonEl.style.display =\n",
              "          google.colab.kernel.accessAllowed ? 'block' : 'none';\n",
              "\n",
              "        async function convertToInteractive(key) {\n",
              "          const element = document.querySelector('#df-2914a4fa-a90f-4d25-b926-cfa4d580fe24');\n",
              "          const dataTable =\n",
              "            await google.colab.kernel.invokeFunction('convertToInteractive',\n",
              "                                                     [key], {});\n",
              "          if (!dataTable) return;\n",
              "\n",
              "          const docLinkHtml = 'Like what you see? Visit the ' +\n",
              "            '<a target=\"_blank\" href=https://colab.research.google.com/notebooks/data_table.ipynb>data table notebook</a>'\n",
              "            + ' to learn more about interactive tables.';\n",
              "          element.innerHTML = '';\n",
              "          dataTable['output_type'] = 'display_data';\n",
              "          await google.colab.output.renderOutput(dataTable, element);\n",
              "          const docLink = document.createElement('div');\n",
              "          docLink.innerHTML = docLinkHtml;\n",
              "          element.appendChild(docLink);\n",
              "        }\n",
              "      </script>\n",
              "    </div>\n",
              "  </div>\n",
              "  "
            ]
          },
          "metadata": {},
          "execution_count": 307
        }
      ],
      "source": [
        "df_cat_dat.loc[df_cat_dat['artsy_id'].isna()==True]"
      ]
    },
    {
      "cell_type": "code",
      "execution_count": null,
      "metadata": {
        "colab": {
          "base_uri": "https://localhost:8080/",
          "height": 565
        },
        "id": "hHKqBH8nfGSC",
        "outputId": "85eb051b-4a55-4154-bc21-25bcf0f1e18c"
      },
      "outputs": [
        {
          "output_type": "execute_result",
          "data": {
            "text/plain": [
              "                      artsy_id                                         name  \\\n",
              "5611  624d61a5e25714000c32bde3  Spanish 18th Century Refectory Dining Table   \n",
              "5612  5eb1d70b3e52a6000df08763                          \"Cloud\" CenterTable   \n",
              "5613  59da74309c18db249fcdbccd                  Lacquered desk table \"Luca\"   \n",
              "5614  5bae2d5b1f74731ca8eac04a                Oval dining table with leaves   \n",
              "5615  620258c734e7fc000b5e722f                            Lovö dining table   \n",
              "\n",
              "                                                   link       year  \\\n",
              "5611  https://d7hftxdivxxvm.cloudfront.net?resize_to...  1700-1750   \n",
              "5612  https://d7hftxdivxxvm.cloudfront.net?resize_to...       2020   \n",
              "5613  https://d7hftxdivxxvm.cloudfront.net?resize_to...       2017   \n",
              "5614  https://d7hftxdivxxvm.cloudfront.net?resize_to...       1952   \n",
              "5615  https://d7hftxdivxxvm.cloudfront.net?resize_to...       1930   \n",
              "\n",
              "                                                 artist  \\\n",
              "5611  Unknown ArtistSpanish 18th Century Refectory D...   \n",
              "5612  Jacques Jarrige\"Cloud\" CenterTable, 2020Valeri...   \n",
              "5613  Jacques JarrigeLacquered desk table \"Luca\", 20...   \n",
              "5614  Hans J. WegnerOval dining table with leaves, 1...   \n",
              "5615  Axel Einar HjorthLovö dining table, 1930Gokela...   \n",
              "\n",
              "                       gallery              price gene_id category_id  \\\n",
              "5611                AVANTIQUES          US$4,500    12011          12   \n",
              "5612   Valerie Goodman Gallery         US$27,000    12011          12   \n",
              "5613   Valerie Goodman Gallery         US$23,750    12011          12   \n",
              "5614  Dansk Møbelkunst Gallery  Price on request    12011          12   \n",
              "5615      Gokelaere & Robinson           €14,000    12011          12   \n",
              "\n",
              "     parsing_date updating_date  \n",
              "5611   2022-04-19    2022-04-19  \n",
              "5612   2022-04-19    2022-04-19  \n",
              "5613   2022-04-19    2022-04-19  \n",
              "5614   2022-04-19    2022-04-19  \n",
              "5615   2022-04-19    2022-04-19  "
            ],
            "text/html": [
              "\n",
              "  <div id=\"df-840bfd71-9e30-4f36-aca2-bfcf9dff21d1\">\n",
              "    <div class=\"colab-df-container\">\n",
              "      <div>\n",
              "<style scoped>\n",
              "    .dataframe tbody tr th:only-of-type {\n",
              "        vertical-align: middle;\n",
              "    }\n",
              "\n",
              "    .dataframe tbody tr th {\n",
              "        vertical-align: top;\n",
              "    }\n",
              "\n",
              "    .dataframe thead th {\n",
              "        text-align: right;\n",
              "    }\n",
              "</style>\n",
              "<table border=\"1\" class=\"dataframe\">\n",
              "  <thead>\n",
              "    <tr style=\"text-align: right;\">\n",
              "      <th></th>\n",
              "      <th>artsy_id</th>\n",
              "      <th>name</th>\n",
              "      <th>link</th>\n",
              "      <th>year</th>\n",
              "      <th>artist</th>\n",
              "      <th>gallery</th>\n",
              "      <th>price</th>\n",
              "      <th>gene_id</th>\n",
              "      <th>category_id</th>\n",
              "      <th>parsing_date</th>\n",
              "      <th>updating_date</th>\n",
              "    </tr>\n",
              "  </thead>\n",
              "  <tbody>\n",
              "    <tr>\n",
              "      <th>5611</th>\n",
              "      <td>624d61a5e25714000c32bde3</td>\n",
              "      <td>Spanish 18th Century Refectory Dining Table</td>\n",
              "      <td>https://d7hftxdivxxvm.cloudfront.net?resize_to...</td>\n",
              "      <td>1700-1750</td>\n",
              "      <td>Unknown ArtistSpanish 18th Century Refectory D...</td>\n",
              "      <td>AVANTIQUES</td>\n",
              "      <td>US$4,500</td>\n",
              "      <td>12011</td>\n",
              "      <td>12</td>\n",
              "      <td>2022-04-19</td>\n",
              "      <td>2022-04-19</td>\n",
              "    </tr>\n",
              "    <tr>\n",
              "      <th>5612</th>\n",
              "      <td>5eb1d70b3e52a6000df08763</td>\n",
              "      <td>\"Cloud\" CenterTable</td>\n",
              "      <td>https://d7hftxdivxxvm.cloudfront.net?resize_to...</td>\n",
              "      <td>2020</td>\n",
              "      <td>Jacques Jarrige\"Cloud\" CenterTable, 2020Valeri...</td>\n",
              "      <td>Valerie Goodman Gallery</td>\n",
              "      <td>US$27,000</td>\n",
              "      <td>12011</td>\n",
              "      <td>12</td>\n",
              "      <td>2022-04-19</td>\n",
              "      <td>2022-04-19</td>\n",
              "    </tr>\n",
              "    <tr>\n",
              "      <th>5613</th>\n",
              "      <td>59da74309c18db249fcdbccd</td>\n",
              "      <td>Lacquered desk table \"Luca\"</td>\n",
              "      <td>https://d7hftxdivxxvm.cloudfront.net?resize_to...</td>\n",
              "      <td>2017</td>\n",
              "      <td>Jacques JarrigeLacquered desk table \"Luca\", 20...</td>\n",
              "      <td>Valerie Goodman Gallery</td>\n",
              "      <td>US$23,750</td>\n",
              "      <td>12011</td>\n",
              "      <td>12</td>\n",
              "      <td>2022-04-19</td>\n",
              "      <td>2022-04-19</td>\n",
              "    </tr>\n",
              "    <tr>\n",
              "      <th>5614</th>\n",
              "      <td>5bae2d5b1f74731ca8eac04a</td>\n",
              "      <td>Oval dining table with leaves</td>\n",
              "      <td>https://d7hftxdivxxvm.cloudfront.net?resize_to...</td>\n",
              "      <td>1952</td>\n",
              "      <td>Hans J. WegnerOval dining table with leaves, 1...</td>\n",
              "      <td>Dansk Møbelkunst Gallery</td>\n",
              "      <td>Price on request</td>\n",
              "      <td>12011</td>\n",
              "      <td>12</td>\n",
              "      <td>2022-04-19</td>\n",
              "      <td>2022-04-19</td>\n",
              "    </tr>\n",
              "    <tr>\n",
              "      <th>5615</th>\n",
              "      <td>620258c734e7fc000b5e722f</td>\n",
              "      <td>Lovö dining table</td>\n",
              "      <td>https://d7hftxdivxxvm.cloudfront.net?resize_to...</td>\n",
              "      <td>1930</td>\n",
              "      <td>Axel Einar HjorthLovö dining table, 1930Gokela...</td>\n",
              "      <td>Gokelaere &amp; Robinson</td>\n",
              "      <td>€14,000</td>\n",
              "      <td>12011</td>\n",
              "      <td>12</td>\n",
              "      <td>2022-04-19</td>\n",
              "      <td>2022-04-19</td>\n",
              "    </tr>\n",
              "  </tbody>\n",
              "</table>\n",
              "</div>\n",
              "      <button class=\"colab-df-convert\" onclick=\"convertToInteractive('df-840bfd71-9e30-4f36-aca2-bfcf9dff21d1')\"\n",
              "              title=\"Convert this dataframe to an interactive table.\"\n",
              "              style=\"display:none;\">\n",
              "        \n",
              "  <svg xmlns=\"http://www.w3.org/2000/svg\" height=\"24px\"viewBox=\"0 0 24 24\"\n",
              "       width=\"24px\">\n",
              "    <path d=\"M0 0h24v24H0V0z\" fill=\"none\"/>\n",
              "    <path d=\"M18.56 5.44l.94 2.06.94-2.06 2.06-.94-2.06-.94-.94-2.06-.94 2.06-2.06.94zm-11 1L8.5 8.5l.94-2.06 2.06-.94-2.06-.94L8.5 2.5l-.94 2.06-2.06.94zm10 10l.94 2.06.94-2.06 2.06-.94-2.06-.94-.94-2.06-.94 2.06-2.06.94z\"/><path d=\"M17.41 7.96l-1.37-1.37c-.4-.4-.92-.59-1.43-.59-.52 0-1.04.2-1.43.59L10.3 9.45l-7.72 7.72c-.78.78-.78 2.05 0 2.83L4 21.41c.39.39.9.59 1.41.59.51 0 1.02-.2 1.41-.59l7.78-7.78 2.81-2.81c.8-.78.8-2.07 0-2.86zM5.41 20L4 18.59l7.72-7.72 1.47 1.35L5.41 20z\"/>\n",
              "  </svg>\n",
              "      </button>\n",
              "      \n",
              "  <style>\n",
              "    .colab-df-container {\n",
              "      display:flex;\n",
              "      flex-wrap:wrap;\n",
              "      gap: 12px;\n",
              "    }\n",
              "\n",
              "    .colab-df-convert {\n",
              "      background-color: #E8F0FE;\n",
              "      border: none;\n",
              "      border-radius: 50%;\n",
              "      cursor: pointer;\n",
              "      display: none;\n",
              "      fill: #1967D2;\n",
              "      height: 32px;\n",
              "      padding: 0 0 0 0;\n",
              "      width: 32px;\n",
              "    }\n",
              "\n",
              "    .colab-df-convert:hover {\n",
              "      background-color: #E2EBFA;\n",
              "      box-shadow: 0px 1px 2px rgba(60, 64, 67, 0.3), 0px 1px 3px 1px rgba(60, 64, 67, 0.15);\n",
              "      fill: #174EA6;\n",
              "    }\n",
              "\n",
              "    [theme=dark] .colab-df-convert {\n",
              "      background-color: #3B4455;\n",
              "      fill: #D2E3FC;\n",
              "    }\n",
              "\n",
              "    [theme=dark] .colab-df-convert:hover {\n",
              "      background-color: #434B5C;\n",
              "      box-shadow: 0px 1px 3px 1px rgba(0, 0, 0, 0.15);\n",
              "      filter: drop-shadow(0px 1px 2px rgba(0, 0, 0, 0.3));\n",
              "      fill: #FFFFFF;\n",
              "    }\n",
              "  </style>\n",
              "\n",
              "      <script>\n",
              "        const buttonEl =\n",
              "          document.querySelector('#df-840bfd71-9e30-4f36-aca2-bfcf9dff21d1 button.colab-df-convert');\n",
              "        buttonEl.style.display =\n",
              "          google.colab.kernel.accessAllowed ? 'block' : 'none';\n",
              "\n",
              "        async function convertToInteractive(key) {\n",
              "          const element = document.querySelector('#df-840bfd71-9e30-4f36-aca2-bfcf9dff21d1');\n",
              "          const dataTable =\n",
              "            await google.colab.kernel.invokeFunction('convertToInteractive',\n",
              "                                                     [key], {});\n",
              "          if (!dataTable) return;\n",
              "\n",
              "          const docLinkHtml = 'Like what you see? Visit the ' +\n",
              "            '<a target=\"_blank\" href=https://colab.research.google.com/notebooks/data_table.ipynb>data table notebook</a>'\n",
              "            + ' to learn more about interactive tables.';\n",
              "          element.innerHTML = '';\n",
              "          dataTable['output_type'] = 'display_data';\n",
              "          await google.colab.output.renderOutput(dataTable, element);\n",
              "          const docLink = document.createElement('div');\n",
              "          docLink.innerHTML = docLinkHtml;\n",
              "          element.appendChild(docLink);\n",
              "        }\n",
              "      </script>\n",
              "    </div>\n",
              "  </div>\n",
              "  "
            ]
          },
          "metadata": {},
          "execution_count": 190
        }
      ],
      "source": [
        "df_cat_dat.loc[df_cat_dat['gene_id']=='12011'].head()"
      ]
    },
    {
      "cell_type": "markdown",
      "metadata": {
        "id": "eynqzDudehw3"
      },
      "source": [
        "Getting list of genes with missing pages parsing and lounch parsing of these genes (not pages !!!) again."
      ]
    },
    {
      "cell_type": "code",
      "execution_count": null,
      "metadata": {
        "colab": {
          "base_uri": "https://localhost:8080/"
        },
        "id": "RbtWd5pt81g9",
        "outputId": "12f9516c-b64e-406d-ae0d-80ac5543c1b4"
      },
      "outputs": [
        {
          "output_type": "execute_result",
          "data": {
            "text/plain": [
              "['12014', '12011']"
            ]
          },
          "metadata": {},
          "execution_count": 191
        }
      ],
      "source": [
        "genes_ids_list_er = [str(g_id) for g_id in df_cat_dat.loc[df_cat_dat['artsy_id'].isna()==True]['gene_id']]\n",
        "genes_ids_list_er = list(set(genes_ids_list_er))\n",
        "genes_ids_list_er"
      ]
    },
    {
      "cell_type": "code",
      "execution_count": null,
      "metadata": {
        "colab": {
          "base_uri": "https://localhost:8080/"
        },
        "id": "pLWEVx4l8vej",
        "outputId": "88b0fd26-8400-4b85-c7bf-199dd2409d42"
      },
      "outputs": [
        {
          "output_type": "execute_result",
          "data": {
            "text/plain": [
              "['/gene/lighting', '/gene/dining-table']"
            ]
          },
          "metadata": {},
          "execution_count": 192
        }
      ],
      "source": [
        "genes_links_list_er = [genes_links_list[genes_ids_list.index(g_id)] for g_id in genes_ids_list_er]\n",
        "genes_links_list_er"
      ]
    },
    {
      "cell_type": "code",
      "execution_count": null,
      "metadata": {
        "id": "aXLDYyChLTwN"
      },
      "outputs": [],
      "source": [
        "df_cat_dat = df_cat_dat.dropna(subset=['artsy_id'], axis=0)"
      ]
    },
    {
      "cell_type": "markdown",
      "metadata": {
        "id": "mhMu42rbRS0E"
      },
      "source": [
        "It would be better for faster errors' parsing if I got the page number info..."
      ]
    },
    {
      "cell_type": "markdown",
      "metadata": {
        "id": "aElmPNAKfX4C"
      },
      "source": [
        "!!! One item can belong not only to different categoryes but also to different genes into one category. That's very important for joining with reparsed data !!!"
      ]
    },
    {
      "cell_type": "code",
      "execution_count": null,
      "metadata": {
        "colab": {
          "base_uri": "https://localhost:8080/"
        },
        "id": "NZLdFXm-Yg0k",
        "outputId": "4674a197-b244-4a2f-f2fd-623856bf35ab"
      },
      "outputs": [
        {
          "name": "stdout",
          "output_type": "stream",
          "text": [
            "110253\n",
            "73696\n"
          ]
        }
      ],
      "source": [
        "print(df_cat_dat['artsy_id'].count())\n",
        "print(df_cat_dat['artsy_id'].nunique())"
      ]
    },
    {
      "cell_type": "code",
      "execution_count": null,
      "metadata": {
        "colab": {
          "base_uri": "https://localhost:8080/"
        },
        "id": "GOrGwcufYgu5",
        "outputId": "ad4f21b4-4ea1-46d4-f8b7-1aeced927326"
      },
      "outputs": [
        {
          "name": "stdout",
          "output_type": "stream",
          "text": [
            "2\n",
            "1\n"
          ]
        }
      ],
      "source": [
        "print(df_cat_dat.groupby(['gene_id', 'artsy_id'])['artsy_id'].count().max())\n",
        "print(df_cat_dat.groupby(['gene_id', 'artsy_id'])['artsy_id'].nunique().max())"
      ]
    },
    {
      "cell_type": "code",
      "execution_count": null,
      "metadata": {
        "colab": {
          "base_uri": "https://localhost:8080/",
          "height": 424
        },
        "id": "ogcoXNUVJm5I",
        "outputId": "b1db98e8-4885-4eb5-c6ff-01202e65451e"
      },
      "outputs": [
        {
          "data": {
            "text/html": [
              "\n",
              "  <div id=\"df-e1aa3a46-19a6-4e17-b620-3c7ecdb251ba\">\n",
              "    <div class=\"colab-df-container\">\n",
              "      <div>\n",
              "<style scoped>\n",
              "    .dataframe tbody tr th:only-of-type {\n",
              "        vertical-align: middle;\n",
              "    }\n",
              "\n",
              "    .dataframe tbody tr th {\n",
              "        vertical-align: top;\n",
              "    }\n",
              "\n",
              "    .dataframe thead th {\n",
              "        text-align: right;\n",
              "    }\n",
              "</style>\n",
              "<table border=\"1\" class=\"dataframe\">\n",
              "  <thead>\n",
              "    <tr style=\"text-align: right;\">\n",
              "      <th></th>\n",
              "      <th>gene_id</th>\n",
              "      <th>artsy_id</th>\n",
              "      <th>count</th>\n",
              "    </tr>\n",
              "  </thead>\n",
              "  <tbody>\n",
              "    <tr>\n",
              "      <th>4309</th>\n",
              "      <td>06007</td>\n",
              "      <td>540f40cd7261692d6d550000</td>\n",
              "      <td>2</td>\n",
              "    </tr>\n",
              "    <tr>\n",
              "      <th>18541</th>\n",
              "      <td>06021</td>\n",
              "      <td>5ae9db4a9c18db166e639c7e</td>\n",
              "      <td>2</td>\n",
              "    </tr>\n",
              "    <tr>\n",
              "      <th>20019</th>\n",
              "      <td>06021</td>\n",
              "      <td>606d59a4b58b09000e0f0fed</td>\n",
              "      <td>2</td>\n",
              "    </tr>\n",
              "    <tr>\n",
              "      <th>20209</th>\n",
              "      <td>06021</td>\n",
              "      <td>60e05ea715fca20013f5854a</td>\n",
              "      <td>2</td>\n",
              "    </tr>\n",
              "    <tr>\n",
              "      <th>20657</th>\n",
              "      <td>06021</td>\n",
              "      <td>61c0ee1e845711000bf8163c</td>\n",
              "      <td>2</td>\n",
              "    </tr>\n",
              "    <tr>\n",
              "      <th>...</th>\n",
              "      <td>...</td>\n",
              "      <td>...</td>\n",
              "      <td>...</td>\n",
              "    </tr>\n",
              "    <tr>\n",
              "      <th>247062</th>\n",
              "      <td>06174</td>\n",
              "      <td>5f172c2dea92a20011267465</td>\n",
              "      <td>2</td>\n",
              "    </tr>\n",
              "    <tr>\n",
              "      <th>250018</th>\n",
              "      <td>06175</td>\n",
              "      <td>618bea8b5180b7000e0faba9</td>\n",
              "      <td>2</td>\n",
              "    </tr>\n",
              "    <tr>\n",
              "      <th>250139</th>\n",
              "      <td>06175</td>\n",
              "      <td>61ba11e097ec3a000b017724</td>\n",
              "      <td>2</td>\n",
              "    </tr>\n",
              "    <tr>\n",
              "      <th>251094</th>\n",
              "      <td>06175</td>\n",
              "      <td>623b41fed562fe000c49e3ba</td>\n",
              "      <td>2</td>\n",
              "    </tr>\n",
              "    <tr>\n",
              "      <th>251699</th>\n",
              "      <td>06175</td>\n",
              "      <td>6248b64fa3259b000c24e910</td>\n",
              "      <td>2</td>\n",
              "    </tr>\n",
              "  </tbody>\n",
              "</table>\n",
              "<p>236 rows × 3 columns</p>\n",
              "</div>\n",
              "      <button class=\"colab-df-convert\" onclick=\"convertToInteractive('df-e1aa3a46-19a6-4e17-b620-3c7ecdb251ba')\"\n",
              "              title=\"Convert this dataframe to an interactive table.\"\n",
              "              style=\"display:none;\">\n",
              "        \n",
              "  <svg xmlns=\"http://www.w3.org/2000/svg\" height=\"24px\"viewBox=\"0 0 24 24\"\n",
              "       width=\"24px\">\n",
              "    <path d=\"M0 0h24v24H0V0z\" fill=\"none\"/>\n",
              "    <path d=\"M18.56 5.44l.94 2.06.94-2.06 2.06-.94-2.06-.94-.94-2.06-.94 2.06-2.06.94zm-11 1L8.5 8.5l.94-2.06 2.06-.94-2.06-.94L8.5 2.5l-.94 2.06-2.06.94zm10 10l.94 2.06.94-2.06 2.06-.94-2.06-.94-.94-2.06-.94 2.06-2.06.94z\"/><path d=\"M17.41 7.96l-1.37-1.37c-.4-.4-.92-.59-1.43-.59-.52 0-1.04.2-1.43.59L10.3 9.45l-7.72 7.72c-.78.78-.78 2.05 0 2.83L4 21.41c.39.39.9.59 1.41.59.51 0 1.02-.2 1.41-.59l7.78-7.78 2.81-2.81c.8-.78.8-2.07 0-2.86zM5.41 20L4 18.59l7.72-7.72 1.47 1.35L5.41 20z\"/>\n",
              "  </svg>\n",
              "      </button>\n",
              "      \n",
              "  <style>\n",
              "    .colab-df-container {\n",
              "      display:flex;\n",
              "      flex-wrap:wrap;\n",
              "      gap: 12px;\n",
              "    }\n",
              "\n",
              "    .colab-df-convert {\n",
              "      background-color: #E8F0FE;\n",
              "      border: none;\n",
              "      border-radius: 50%;\n",
              "      cursor: pointer;\n",
              "      display: none;\n",
              "      fill: #1967D2;\n",
              "      height: 32px;\n",
              "      padding: 0 0 0 0;\n",
              "      width: 32px;\n",
              "    }\n",
              "\n",
              "    .colab-df-convert:hover {\n",
              "      background-color: #E2EBFA;\n",
              "      box-shadow: 0px 1px 2px rgba(60, 64, 67, 0.3), 0px 1px 3px 1px rgba(60, 64, 67, 0.15);\n",
              "      fill: #174EA6;\n",
              "    }\n",
              "\n",
              "    [theme=dark] .colab-df-convert {\n",
              "      background-color: #3B4455;\n",
              "      fill: #D2E3FC;\n",
              "    }\n",
              "\n",
              "    [theme=dark] .colab-df-convert:hover {\n",
              "      background-color: #434B5C;\n",
              "      box-shadow: 0px 1px 3px 1px rgba(0, 0, 0, 0.15);\n",
              "      filter: drop-shadow(0px 1px 2px rgba(0, 0, 0, 0.3));\n",
              "      fill: #FFFFFF;\n",
              "    }\n",
              "  </style>\n",
              "\n",
              "      <script>\n",
              "        const buttonEl =\n",
              "          document.querySelector('#df-e1aa3a46-19a6-4e17-b620-3c7ecdb251ba button.colab-df-convert');\n",
              "        buttonEl.style.display =\n",
              "          google.colab.kernel.accessAllowed ? 'block' : 'none';\n",
              "\n",
              "        async function convertToInteractive(key) {\n",
              "          const element = document.querySelector('#df-e1aa3a46-19a6-4e17-b620-3c7ecdb251ba');\n",
              "          const dataTable =\n",
              "            await google.colab.kernel.invokeFunction('convertToInteractive',\n",
              "                                                     [key], {});\n",
              "          if (!dataTable) return;\n",
              "\n",
              "          const docLinkHtml = 'Like what you see? Visit the ' +\n",
              "            '<a target=\"_blank\" href=https://colab.research.google.com/notebooks/data_table.ipynb>data table notebook</a>'\n",
              "            + ' to learn more about interactive tables.';\n",
              "          element.innerHTML = '';\n",
              "          dataTable['output_type'] = 'display_data';\n",
              "          await google.colab.output.renderOutput(dataTable, element);\n",
              "          const docLink = document.createElement('div');\n",
              "          docLink.innerHTML = docLinkHtml;\n",
              "          element.appendChild(docLink);\n",
              "        }\n",
              "      </script>\n",
              "    </div>\n",
              "  </div>\n",
              "  "
            ],
            "text/plain": [
              "       gene_id                  artsy_id  count\n",
              "4309     06007  540f40cd7261692d6d550000      2\n",
              "18541    06021  5ae9db4a9c18db166e639c7e      2\n",
              "20019    06021  606d59a4b58b09000e0f0fed      2\n",
              "20209    06021  60e05ea715fca20013f5854a      2\n",
              "20657    06021  61c0ee1e845711000bf8163c      2\n",
              "...        ...                       ...    ...\n",
              "247062   06174  5f172c2dea92a20011267465      2\n",
              "250018   06175  618bea8b5180b7000e0faba9      2\n",
              "250139   06175  61ba11e097ec3a000b017724      2\n",
              "251094   06175  623b41fed562fe000c49e3ba      2\n",
              "251699   06175  6248b64fa3259b000c24e910      2\n",
              "\n",
              "[236 rows x 3 columns]"
            ]
          },
          "execution_count": 18,
          "metadata": {},
          "output_type": "execute_result"
        }
      ],
      "source": [
        "gene_artsy_groupped = df_cat_dat.groupby(['gene_id', 'artsy_id'])['artsy_id'].agg(['count']).reset_index()\n",
        "gene_artsy_groupped.loc[gene_artsy_groupped['count']>1]"
      ]
    },
    {
      "cell_type": "code",
      "execution_count": null,
      "metadata": {
        "colab": {
          "base_uri": "https://localhost:8080/",
          "height": 315
        },
        "id": "xXZhVTl6QXdG",
        "outputId": "427508ec-b59a-4120-ecc0-a4cc09f434e6"
      },
      "outputs": [
        {
          "data": {
            "text/html": [
              "\n",
              "  <div id=\"df-a6a91d71-01cf-4bb7-8ed3-adf414b0da07\">\n",
              "    <div class=\"colab-df-container\">\n",
              "      <div>\n",
              "<style scoped>\n",
              "    .dataframe tbody tr th:only-of-type {\n",
              "        vertical-align: middle;\n",
              "    }\n",
              "\n",
              "    .dataframe tbody tr th {\n",
              "        vertical-align: top;\n",
              "    }\n",
              "\n",
              "    .dataframe thead th {\n",
              "        text-align: right;\n",
              "    }\n",
              "</style>\n",
              "<table border=\"1\" class=\"dataframe\">\n",
              "  <thead>\n",
              "    <tr style=\"text-align: right;\">\n",
              "      <th></th>\n",
              "      <th>artsy_id</th>\n",
              "      <th>name</th>\n",
              "      <th>link</th>\n",
              "      <th>year</th>\n",
              "      <th>artist</th>\n",
              "      <th>gallery</th>\n",
              "      <th>price</th>\n",
              "      <th>gene_id</th>\n",
              "      <th>category_id</th>\n",
              "      <th>parsing_date</th>\n",
              "      <th>updating_date</th>\n",
              "    </tr>\n",
              "  </thead>\n",
              "  <tbody>\n",
              "    <tr>\n",
              "      <th>39366</th>\n",
              "      <td>6248b64fa3259b000c24e910</td>\n",
              "      <td>Time Is Movin’</td>\n",
              "      <td>https://d7hftxdivxxvm.cloudfront.net?resize_to...</td>\n",
              "      <td>2021</td>\n",
              "      <td>Mitsuyo OkadaTime Is Movin’, 2021Space 776US$290</td>\n",
              "      <td>Space 776</td>\n",
              "      <td>US$290</td>\n",
              "      <td>06175</td>\n",
              "      <td>06</td>\n",
              "      <td>2022-04-06</td>\n",
              "      <td>2022-04-06</td>\n",
              "    </tr>\n",
              "    <tr>\n",
              "      <th>39369</th>\n",
              "      <td>6248b64fa3259b000c24e910</td>\n",
              "      <td>Time Is Movin’</td>\n",
              "      <td>https://d7hftxdivxxvm.cloudfront.net?resize_to...</td>\n",
              "      <td>2021</td>\n",
              "      <td>Mitsuyo OkadaTime Is Movin’, 2021Space 776US$290</td>\n",
              "      <td>Space 776</td>\n",
              "      <td>US$290</td>\n",
              "      <td>06175</td>\n",
              "      <td>06</td>\n",
              "      <td>2022-04-06</td>\n",
              "      <td>2022-04-06</td>\n",
              "    </tr>\n",
              "  </tbody>\n",
              "</table>\n",
              "</div>\n",
              "      <button class=\"colab-df-convert\" onclick=\"convertToInteractive('df-a6a91d71-01cf-4bb7-8ed3-adf414b0da07')\"\n",
              "              title=\"Convert this dataframe to an interactive table.\"\n",
              "              style=\"display:none;\">\n",
              "        \n",
              "  <svg xmlns=\"http://www.w3.org/2000/svg\" height=\"24px\"viewBox=\"0 0 24 24\"\n",
              "       width=\"24px\">\n",
              "    <path d=\"M0 0h24v24H0V0z\" fill=\"none\"/>\n",
              "    <path d=\"M18.56 5.44l.94 2.06.94-2.06 2.06-.94-2.06-.94-.94-2.06-.94 2.06-2.06.94zm-11 1L8.5 8.5l.94-2.06 2.06-.94-2.06-.94L8.5 2.5l-.94 2.06-2.06.94zm10 10l.94 2.06.94-2.06 2.06-.94-2.06-.94-.94-2.06-.94 2.06-2.06.94z\"/><path d=\"M17.41 7.96l-1.37-1.37c-.4-.4-.92-.59-1.43-.59-.52 0-1.04.2-1.43.59L10.3 9.45l-7.72 7.72c-.78.78-.78 2.05 0 2.83L4 21.41c.39.39.9.59 1.41.59.51 0 1.02-.2 1.41-.59l7.78-7.78 2.81-2.81c.8-.78.8-2.07 0-2.86zM5.41 20L4 18.59l7.72-7.72 1.47 1.35L5.41 20z\"/>\n",
              "  </svg>\n",
              "      </button>\n",
              "      \n",
              "  <style>\n",
              "    .colab-df-container {\n",
              "      display:flex;\n",
              "      flex-wrap:wrap;\n",
              "      gap: 12px;\n",
              "    }\n",
              "\n",
              "    .colab-df-convert {\n",
              "      background-color: #E8F0FE;\n",
              "      border: none;\n",
              "      border-radius: 50%;\n",
              "      cursor: pointer;\n",
              "      display: none;\n",
              "      fill: #1967D2;\n",
              "      height: 32px;\n",
              "      padding: 0 0 0 0;\n",
              "      width: 32px;\n",
              "    }\n",
              "\n",
              "    .colab-df-convert:hover {\n",
              "      background-color: #E2EBFA;\n",
              "      box-shadow: 0px 1px 2px rgba(60, 64, 67, 0.3), 0px 1px 3px 1px rgba(60, 64, 67, 0.15);\n",
              "      fill: #174EA6;\n",
              "    }\n",
              "\n",
              "    [theme=dark] .colab-df-convert {\n",
              "      background-color: #3B4455;\n",
              "      fill: #D2E3FC;\n",
              "    }\n",
              "\n",
              "    [theme=dark] .colab-df-convert:hover {\n",
              "      background-color: #434B5C;\n",
              "      box-shadow: 0px 1px 3px 1px rgba(0, 0, 0, 0.15);\n",
              "      filter: drop-shadow(0px 1px 2px rgba(0, 0, 0, 0.3));\n",
              "      fill: #FFFFFF;\n",
              "    }\n",
              "  </style>\n",
              "\n",
              "      <script>\n",
              "        const buttonEl =\n",
              "          document.querySelector('#df-a6a91d71-01cf-4bb7-8ed3-adf414b0da07 button.colab-df-convert');\n",
              "        buttonEl.style.display =\n",
              "          google.colab.kernel.accessAllowed ? 'block' : 'none';\n",
              "\n",
              "        async function convertToInteractive(key) {\n",
              "          const element = document.querySelector('#df-a6a91d71-01cf-4bb7-8ed3-adf414b0da07');\n",
              "          const dataTable =\n",
              "            await google.colab.kernel.invokeFunction('convertToInteractive',\n",
              "                                                     [key], {});\n",
              "          if (!dataTable) return;\n",
              "\n",
              "          const docLinkHtml = 'Like what you see? Visit the ' +\n",
              "            '<a target=\"_blank\" href=https://colab.research.google.com/notebooks/data_table.ipynb>data table notebook</a>'\n",
              "            + ' to learn more about interactive tables.';\n",
              "          element.innerHTML = '';\n",
              "          dataTable['output_type'] = 'display_data';\n",
              "          await google.colab.output.renderOutput(dataTable, element);\n",
              "          const docLink = document.createElement('div');\n",
              "          docLink.innerHTML = docLinkHtml;\n",
              "          element.appendChild(docLink);\n",
              "        }\n",
              "      </script>\n",
              "    </div>\n",
              "  </div>\n",
              "  "
            ],
            "text/plain": [
              "                       artsy_id            name  \\\n",
              "39366  6248b64fa3259b000c24e910  Time Is Movin’   \n",
              "39369  6248b64fa3259b000c24e910  Time Is Movin’   \n",
              "\n",
              "                                                    link  year  \\\n",
              "39366  https://d7hftxdivxxvm.cloudfront.net?resize_to...  2021   \n",
              "39369  https://d7hftxdivxxvm.cloudfront.net?resize_to...  2021   \n",
              "\n",
              "                                                  artist    gallery    price  \\\n",
              "39366  Mitsuyo OkadaTime Is Movin’, 2021Space 776US$290   Space 776  US$290    \n",
              "39369  Mitsuyo OkadaTime Is Movin’, 2021Space 776US$290   Space 776  US$290    \n",
              "\n",
              "      gene_id category_id parsing_date updating_date  \n",
              "39366   06175          06   2022-04-06    2022-04-06  \n",
              "39369   06175          06   2022-04-06    2022-04-06  "
            ]
          },
          "execution_count": 20,
          "metadata": {},
          "output_type": "execute_result"
        }
      ],
      "source": [
        "df_cat_dat.loc[df_cat_dat['artsy_id']=='6248b64fa3259b000c24e910']"
      ]
    },
    {
      "cell_type": "code",
      "execution_count": null,
      "metadata": {
        "colab": {
          "base_uri": "https://localhost:8080/"
        },
        "id": "EzeCDxDvQvda",
        "outputId": "414bb62c-b6eb-490e-cde0-c5026edcaf5a"
      },
      "outputs": [
        {
          "name": "stdout",
          "output_type": "stream",
          "text": [
            "https://d7hftxdivxxvm.cloudfront.net?resize_to=fit&src=https%3A%2F%2Fd32dm0rphc51dk.cloudfront.net%2F8NpaJhOeMqPmSGH2IdLcWw%2Flarge.jpg&width=445&height=353&quality=80\n",
            "https://d7hftxdivxxvm.cloudfront.net?resize_to=fit&src=https%3A%2F%2Fd32dm0rphc51dk.cloudfront.net%2F8NpaJhOeMqPmSGH2IdLcWw%2Flarge.jpg&width=445&height=353&quality=80\n",
            "https://d7hftxdivxxvm.cloudfront.net?resize_to=fit&src=https%3A%2F%2Fd32dm0rphc51dk.cloudfront.net%2F8NpaJhOeMqPmSGH2IdLcWw%2Flarge.jpg&width=445&height=353&quality=80\n",
            "https://d7hftxdivxxvm.cloudfront.net?resize_to=fit&src=https%3A%2F%2Fd32dm0rphc51dk.cloudfront.net%2F8NpaJhOeMqPmSGH2IdLcWw%2Flarge.jpg&width=445&height=353&quality=80\n",
            "https://d7hftxdivxxvm.cloudfront.net?resize_to=fit&src=https%3A%2F%2Fd32dm0rphc51dk.cloudfront.net%2F8NpaJhOeMqPmSGH2IdLcWw%2Flarge.jpg&width=445&height=353&quality=80\n",
            "https://d7hftxdivxxvm.cloudfront.net?resize_to=fit&src=https%3A%2F%2Fd32dm0rphc51dk.cloudfront.net%2F8NpaJhOeMqPmSGH2IdLcWw%2Flarge.jpg&width=445&height=353&quality=80\n",
            "https://d7hftxdivxxvm.cloudfront.net?resize_to=fit&src=https%3A%2F%2Fd32dm0rphc51dk.cloudfront.net%2F8NpaJhOeMqPmSGH2IdLcWw%2Flarge.jpg&width=445&height=353&quality=80\n",
            "https://d7hftxdivxxvm.cloudfront.net?resize_to=fit&src=https%3A%2F%2Fd32dm0rphc51dk.cloudfront.net%2F8NpaJhOeMqPmSGH2IdLcWw%2Flarge.jpg&width=445&height=353&quality=80\n"
          ]
        }
      ],
      "source": [
        "for link in df_cat_dat.loc[df_cat_dat['artsy_id']=='4d8b93484eb68a1b2c00125b']['link']:\n",
        "  print(link)"
      ]
    },
    {
      "cell_type": "markdown",
      "metadata": {
        "id": "UZXZRaqagEKy"
      },
      "source": [
        "There can be item duplicates inside one gene items' list also. Delete them."
      ]
    },
    {
      "cell_type": "markdown",
      "metadata": {
        "id": "wfIpE7tfKot2"
      },
      "source": [
        "### Merging of all the data"
      ]
    },
    {
      "cell_type": "code",
      "execution_count": null,
      "metadata": {
        "id": "znKnyKm1Rczc"
      },
      "outputs": [],
      "source": [
        "# cat 10\n",
        "df_cat_dat_total = pd.concat([df_cat_dat, df_temp_data_new])\n",
        "df_cat_dat_total.drop_duplicates(subset = ['gene_id', 'artsy_id'], keep = 'first', inplace = True)\n",
        "df_cat_dat_total = df_cat_dat_total.reset_index().drop(['index'], axis=1) # !!!"
      ]
    },
    {
      "cell_type": "code",
      "execution_count": 308,
      "metadata": {
        "id": "OVkTWLUNHn0Q"
      },
      "outputs": [],
      "source": [
        "# or\n",
        "df_cat_dat_total = df_cat_dat.copy()"
      ]
    },
    {
      "cell_type": "code",
      "execution_count": 309,
      "metadata": {
        "colab": {
          "base_uri": "https://localhost:8080/"
        },
        "id": "2BCVru3gHyTL",
        "outputId": "41927b67-c4d7-4b2c-9c91-54f48a0022bf"
      },
      "outputs": [
        {
          "output_type": "stream",
          "name": "stdout",
          "text": [
            "<class 'pandas.core.frame.DataFrame'>\n",
            "RangeIndex: 263 entries, 0 to 262\n",
            "Data columns (total 11 columns):\n",
            " #   Column         Non-Null Count  Dtype \n",
            "---  ------         --------------  ----- \n",
            " 0   artsy_id       263 non-null    object\n",
            " 1   name           263 non-null    object\n",
            " 2   link           263 non-null    object\n",
            " 3   year           257 non-null    object\n",
            " 4   artist         263 non-null    object\n",
            " 5   gallery        263 non-null    object\n",
            " 6   price          263 non-null    object\n",
            " 7   gene_id        263 non-null    object\n",
            " 8   category_id    263 non-null    object\n",
            " 9   parsing_date   263 non-null    object\n",
            " 10  updating_date  263 non-null    object\n",
            "dtypes: object(11)\n",
            "memory usage: 22.7+ KB\n"
          ]
        }
      ],
      "source": [
        "df_cat_dat_total.info()"
      ]
    },
    {
      "cell_type": "markdown",
      "metadata": {
        "id": "-xbHHg5xgqqe"
      },
      "source": [
        "Genes checking: sometimes there may be a problem (like with cat 03)"
      ]
    },
    {
      "cell_type": "code",
      "execution_count": 310,
      "metadata": {
        "colab": {
          "base_uri": "https://localhost:8080/"
        },
        "id": "gL7y_mNKTxzE",
        "outputId": "41fad1b9-cbeb-4579-b61e-f0decabc16ee"
      },
      "outputs": [
        {
          "output_type": "stream",
          "name": "stdout",
          "text": [
            "1\n"
          ]
        },
        {
          "output_type": "execute_result",
          "data": {
            "text/plain": [
              "1"
            ]
          },
          "metadata": {},
          "execution_count": 310
        }
      ],
      "source": [
        "print(len(genes_ids_list))\n",
        "df_cat_dat_total['gene_id'].dropna().nunique()"
      ]
    },
    {
      "cell_type": "code",
      "execution_count": 311,
      "metadata": {
        "id": "QuCOH_Y5Rctp"
      },
      "outputs": [],
      "source": [
        "save_df_file(df_cat_dat_total, '/artsy_temp_data_new_gene.csv', 'backup') # 4. Save df to csv file\n",
        "#df_cat_dat_total = open_file_csv('/artsy_temp_data_09.csv', 'backup') # 3. Open file.csv"
      ]
    },
    {
      "cell_type": "code",
      "execution_count": null,
      "metadata": {
        "colab": {
          "base_uri": "https://localhost:8080/"
        },
        "id": "sYbzr9wGLxSt",
        "outputId": "1e5fd15c-d7b7-498b-e57f-27db91f0b23d"
      },
      "outputs": [
        {
          "output_type": "execute_result",
          "data": {
            "text/plain": [
              "27"
            ]
          },
          "metadata": {},
          "execution_count": 204
        }
      ],
      "source": [
        "# !!! cat 10 !!!\n",
        "check_gene_id = df_cat_dat_total['gene_id'].dropna().unique().tolist()\n",
        "len(check_gene_id)"
      ]
    },
    {
      "cell_type": "code",
      "execution_count": null,
      "metadata": {
        "colab": {
          "base_uri": "https://localhost:8080/"
        },
        "id": "4cCWzth3Ip--",
        "outputId": "63fc364f-74d8-4efe-dfe8-fadc69bd66e1"
      },
      "outputs": [
        {
          "data": {
            "text/plain": [
              "['10021',\n",
              " '10008',\n",
              " '10001',\n",
              " '10013',\n",
              " '10006',\n",
              " '10017',\n",
              " '10020',\n",
              " '10004',\n",
              " '10009',\n",
              " '10003',\n",
              " '10014',\n",
              " '10015',\n",
              " '10012',\n",
              " '10016',\n",
              " '10005',\n",
              " '10010',\n",
              " '10011',\n",
              " '10018',\n",
              " '10002',\n",
              " '10007',\n",
              " '10022',\n",
              " '10019']"
            ]
          },
          "execution_count": 251,
          "metadata": {},
          "output_type": "execute_result"
        }
      ],
      "source": [
        "genes_ids_list_er = list(set(genes_ids_list) - set(check_gene_id))\n",
        "genes_ids_list_er"
      ]
    },
    {
      "cell_type": "code",
      "execution_count": null,
      "metadata": {
        "colab": {
          "base_uri": "https://localhost:8080/"
        },
        "id": "A00qRf8SIp7a",
        "outputId": "c38a3725-f2be-4907-ce73-08f18bac94fa"
      },
      "outputs": [
        {
          "name": "stdout",
          "output_type": "stream",
          "text": [
            "https://www.artsy.net/gene/whimsical-design\n",
            "https://www.artsy.net/gene/handcrafted-furniture-and-design\n",
            "https://www.artsy.net/gene/cad-computer-aided-design\n",
            "https://www.artsy.net/gene/modular-design\n",
            "https://www.artsy.net/gene/engineering-slash-construction-and-design\n",
            "https://www.artsy.net/gene/restrained-forms\n",
            "https://www.artsy.net/gene/timber-frame-construction\n",
            "https://www.artsy.net/gene/design-by-artists\n",
            "https://www.artsy.net/gene/iconic-works-of-design\n",
            "https://www.artsy.net/gene/design-by-architects\n",
            "https://www.artsy.net/gene/non-functional-design\n",
            "https://www.artsy.net/gene/reinforced-concrete-construction\n",
            "https://www.artsy.net/gene/masonry-construction\n",
            "https://www.artsy.net/gene/religious-building\n",
            "https://www.artsy.net/gene/emerging-design\n",
            "https://www.artsy.net/gene/industrial-and-product-design\n",
            "https://www.artsy.net/gene/jewelry-by-painters-and-sculptors\n",
            "https://www.artsy.net/gene/steel-slash-iron-frame-construction\n",
            "https://www.artsy.net/gene/childrens-furniture-and-design\n",
            "https://www.artsy.net/gene/focus-on-joints-slash-connections\n",
            "https://www.artsy.net/gene/women-designers\n",
            "https://www.artsy.net/gene/sustainable-design\n"
          ]
        }
      ],
      "source": [
        "genes_links_list_er = [genes_links_list[genes_ids_list.index(g_id)] for g_id in genes_ids_list_er]\n",
        "for link in genes_links_list_er:\n",
        "  print(url_add + link)"
      ]
    },
    {
      "cell_type": "markdown",
      "metadata": {
        "id": "43BW-pTwdCTr"
      },
      "source": [
        "Pages of these genes are empty, so everything's allright."
      ]
    },
    {
      "cell_type": "markdown",
      "metadata": {
        "id": "oZxb6iVMm0Rh"
      },
      "source": [
        "## Data studying"
      ]
    },
    {
      "cell_type": "code",
      "execution_count": 312,
      "metadata": {
        "colab": {
          "base_uri": "https://localhost:8080/"
        },
        "id": "uxVdG_7ThpO_",
        "outputId": "b854f70f-558c-400a-fb6c-21884053136c"
      },
      "outputs": [
        {
          "output_type": "stream",
          "name": "stdout",
          "text": [
            "<class 'pandas.core.frame.DataFrame'>\n",
            "RangeIndex: 263 entries, 0 to 262\n",
            "Data columns (total 11 columns):\n",
            " #   Column         Non-Null Count  Dtype \n",
            "---  ------         --------------  ----- \n",
            " 0   artsy_id       263 non-null    object\n",
            " 1   name           263 non-null    object\n",
            " 2   link           263 non-null    object\n",
            " 3   year           257 non-null    object\n",
            " 4   artist         263 non-null    object\n",
            " 5   gallery        263 non-null    object\n",
            " 6   price          263 non-null    object\n",
            " 7   gene_id        263 non-null    object\n",
            " 8   category_id    263 non-null    object\n",
            " 9   parsing_date   263 non-null    object\n",
            " 10  updating_date  263 non-null    object\n",
            "dtypes: object(11)\n",
            "memory usage: 22.7+ KB\n"
          ]
        }
      ],
      "source": [
        "#df_cat_dat_total = open_file_csv('/artsy_temp_data_05.csv', 'backup') # 3. Open file.csv\n",
        "df_cat_dat_total.info()"
      ]
    },
    {
      "cell_type": "code",
      "execution_count": 313,
      "metadata": {
        "colab": {
          "base_uri": "https://localhost:8080/"
        },
        "id": "P2-XPoXRNrd1",
        "outputId": "6a136f90-acfb-41ac-bef0-bfe99f655077"
      },
      "outputs": [
        {
          "output_type": "stream",
          "name": "stdout",
          "text": [
            "1\n",
            "1\n"
          ]
        }
      ],
      "source": [
        "print(df_cat_dat_total.groupby(['gene_id', 'artsy_id'])['artsy_id'].count().max())\n",
        "print(df_cat_dat_total.groupby(['gene_id', 'artsy_id'])['artsy_id'].nunique().max())"
      ]
    },
    {
      "cell_type": "markdown",
      "metadata": {
        "id": "oLkQ-qFPqJmW"
      },
      "source": [
        "Transform id from int into str and link into a working one."
      ]
    },
    {
      "cell_type": "code",
      "execution_count": 314,
      "metadata": {
        "colab": {
          "base_uri": "https://localhost:8080/",
          "height": 530
        },
        "id": "0msJIt4lIqCD",
        "outputId": "44518c68-643a-485f-f5bc-109c0cfeb013"
      },
      "outputs": [
        {
          "output_type": "execute_result",
          "data": {
            "text/plain": [
              "                     artsy_id  \\\n",
              "19   621921dd61a45e000bc36767   \n",
              "41   620d4e5c32fe75000b65e6b0   \n",
              "249  621876a5d755e3000d4b727c   \n",
              "206  60b8f973f0e8ae0013f20f2d   \n",
              "35   621921dcda6402000c858c86   \n",
              "\n",
              "                                                name  \\\n",
              "19                   ¡Préstame tu lifestyle! (Alpha)   \n",
              "41   Impression (NFT) - surreal, figurative, pop art   \n",
              "249                                 CryptoPunk #1253   \n",
              "206                  QUEER BLOOD AMERICA (Black/Red)   \n",
              "35                            Sana distancia (Alpha)   \n",
              "\n",
              "                                                  link  year  \\\n",
              "19   https://d32dm0rphc51dk.cloudfront.net/avnWaGa7...  2021   \n",
              "41   https://d32dm0rphc51dk.cloudfront.net/EmbGNUnh...  2022   \n",
              "249  https://d32dm0rphc51dk.cloudfront.net/uEmWSduZ...  2017   \n",
              "206  https://d32dm0rphc51dk.cloudfront.net/XPhpK9xz...  2021   \n",
              "35   https://d32dm0rphc51dk.cloudfront.net/xBVH13SC...  2021   \n",
              "\n",
              "                                                artist  \\\n",
              "19   Pedro Friedeberg¡Préstame tu lifestyle! (Alpha...   \n",
              "41   Clairé HillsImpression (NFT) - surreal, figura...   \n",
              "249  Larva LabsCryptoPunk #1253, 2017Asia Art Cente...   \n",
              "206  Jordan EaglesQUEER BLOOD AMERICA (Black/Red), ...   \n",
              "35   Pedro FriedebergSana distancia (Alpha), 2021CA...   \n",
              "\n",
              "                     gallery              price gene_id category_id  \\\n",
              "19               CAM Galería  Price on request    06176          06   \n",
              "41   Santiago Soares Gallery            US$666    06176          06   \n",
              "249          Asia Art Center           On hold    06176          06   \n",
              "206          New Discretions  Price on request    06176          06   \n",
              "35               CAM Galería  Price on request    06176          06   \n",
              "\n",
              "    parsing_date updating_date  \n",
              "19    2022-04-20    2022-04-20  \n",
              "41    2022-04-20    2022-04-20  \n",
              "249   2022-04-20    2022-04-20  \n",
              "206   2022-04-20    2022-04-20  \n",
              "35    2022-04-20    2022-04-20  "
            ],
            "text/html": [
              "\n",
              "  <div id=\"df-91705c05-a066-4762-a3ef-cc246bf12fdd\">\n",
              "    <div class=\"colab-df-container\">\n",
              "      <div>\n",
              "<style scoped>\n",
              "    .dataframe tbody tr th:only-of-type {\n",
              "        vertical-align: middle;\n",
              "    }\n",
              "\n",
              "    .dataframe tbody tr th {\n",
              "        vertical-align: top;\n",
              "    }\n",
              "\n",
              "    .dataframe thead th {\n",
              "        text-align: right;\n",
              "    }\n",
              "</style>\n",
              "<table border=\"1\" class=\"dataframe\">\n",
              "  <thead>\n",
              "    <tr style=\"text-align: right;\">\n",
              "      <th></th>\n",
              "      <th>artsy_id</th>\n",
              "      <th>name</th>\n",
              "      <th>link</th>\n",
              "      <th>year</th>\n",
              "      <th>artist</th>\n",
              "      <th>gallery</th>\n",
              "      <th>price</th>\n",
              "      <th>gene_id</th>\n",
              "      <th>category_id</th>\n",
              "      <th>parsing_date</th>\n",
              "      <th>updating_date</th>\n",
              "    </tr>\n",
              "  </thead>\n",
              "  <tbody>\n",
              "    <tr>\n",
              "      <th>19</th>\n",
              "      <td>621921dd61a45e000bc36767</td>\n",
              "      <td>¡Préstame tu lifestyle! (Alpha)</td>\n",
              "      <td>https://d32dm0rphc51dk.cloudfront.net/avnWaGa7...</td>\n",
              "      <td>2021</td>\n",
              "      <td>Pedro Friedeberg¡Préstame tu lifestyle! (Alpha...</td>\n",
              "      <td>CAM Galería</td>\n",
              "      <td>Price on request</td>\n",
              "      <td>06176</td>\n",
              "      <td>06</td>\n",
              "      <td>2022-04-20</td>\n",
              "      <td>2022-04-20</td>\n",
              "    </tr>\n",
              "    <tr>\n",
              "      <th>41</th>\n",
              "      <td>620d4e5c32fe75000b65e6b0</td>\n",
              "      <td>Impression (NFT) - surreal, figurative, pop art</td>\n",
              "      <td>https://d32dm0rphc51dk.cloudfront.net/EmbGNUnh...</td>\n",
              "      <td>2022</td>\n",
              "      <td>Clairé HillsImpression (NFT) - surreal, figura...</td>\n",
              "      <td>Santiago Soares Gallery</td>\n",
              "      <td>US$666</td>\n",
              "      <td>06176</td>\n",
              "      <td>06</td>\n",
              "      <td>2022-04-20</td>\n",
              "      <td>2022-04-20</td>\n",
              "    </tr>\n",
              "    <tr>\n",
              "      <th>249</th>\n",
              "      <td>621876a5d755e3000d4b727c</td>\n",
              "      <td>CryptoPunk #1253</td>\n",
              "      <td>https://d32dm0rphc51dk.cloudfront.net/uEmWSduZ...</td>\n",
              "      <td>2017</td>\n",
              "      <td>Larva LabsCryptoPunk #1253, 2017Asia Art Cente...</td>\n",
              "      <td>Asia Art Center</td>\n",
              "      <td>On hold</td>\n",
              "      <td>06176</td>\n",
              "      <td>06</td>\n",
              "      <td>2022-04-20</td>\n",
              "      <td>2022-04-20</td>\n",
              "    </tr>\n",
              "    <tr>\n",
              "      <th>206</th>\n",
              "      <td>60b8f973f0e8ae0013f20f2d</td>\n",
              "      <td>QUEER BLOOD AMERICA (Black/Red)</td>\n",
              "      <td>https://d32dm0rphc51dk.cloudfront.net/XPhpK9xz...</td>\n",
              "      <td>2021</td>\n",
              "      <td>Jordan EaglesQUEER BLOOD AMERICA (Black/Red), ...</td>\n",
              "      <td>New Discretions</td>\n",
              "      <td>Price on request</td>\n",
              "      <td>06176</td>\n",
              "      <td>06</td>\n",
              "      <td>2022-04-20</td>\n",
              "      <td>2022-04-20</td>\n",
              "    </tr>\n",
              "    <tr>\n",
              "      <th>35</th>\n",
              "      <td>621921dcda6402000c858c86</td>\n",
              "      <td>Sana distancia (Alpha)</td>\n",
              "      <td>https://d32dm0rphc51dk.cloudfront.net/xBVH13SC...</td>\n",
              "      <td>2021</td>\n",
              "      <td>Pedro FriedebergSana distancia (Alpha), 2021CA...</td>\n",
              "      <td>CAM Galería</td>\n",
              "      <td>Price on request</td>\n",
              "      <td>06176</td>\n",
              "      <td>06</td>\n",
              "      <td>2022-04-20</td>\n",
              "      <td>2022-04-20</td>\n",
              "    </tr>\n",
              "  </tbody>\n",
              "</table>\n",
              "</div>\n",
              "      <button class=\"colab-df-convert\" onclick=\"convertToInteractive('df-91705c05-a066-4762-a3ef-cc246bf12fdd')\"\n",
              "              title=\"Convert this dataframe to an interactive table.\"\n",
              "              style=\"display:none;\">\n",
              "        \n",
              "  <svg xmlns=\"http://www.w3.org/2000/svg\" height=\"24px\"viewBox=\"0 0 24 24\"\n",
              "       width=\"24px\">\n",
              "    <path d=\"M0 0h24v24H0V0z\" fill=\"none\"/>\n",
              "    <path d=\"M18.56 5.44l.94 2.06.94-2.06 2.06-.94-2.06-.94-.94-2.06-.94 2.06-2.06.94zm-11 1L8.5 8.5l.94-2.06 2.06-.94-2.06-.94L8.5 2.5l-.94 2.06-2.06.94zm10 10l.94 2.06.94-2.06 2.06-.94-2.06-.94-.94-2.06-.94 2.06-2.06.94z\"/><path d=\"M17.41 7.96l-1.37-1.37c-.4-.4-.92-.59-1.43-.59-.52 0-1.04.2-1.43.59L10.3 9.45l-7.72 7.72c-.78.78-.78 2.05 0 2.83L4 21.41c.39.39.9.59 1.41.59.51 0 1.02-.2 1.41-.59l7.78-7.78 2.81-2.81c.8-.78.8-2.07 0-2.86zM5.41 20L4 18.59l7.72-7.72 1.47 1.35L5.41 20z\"/>\n",
              "  </svg>\n",
              "      </button>\n",
              "      \n",
              "  <style>\n",
              "    .colab-df-container {\n",
              "      display:flex;\n",
              "      flex-wrap:wrap;\n",
              "      gap: 12px;\n",
              "    }\n",
              "\n",
              "    .colab-df-convert {\n",
              "      background-color: #E8F0FE;\n",
              "      border: none;\n",
              "      border-radius: 50%;\n",
              "      cursor: pointer;\n",
              "      display: none;\n",
              "      fill: #1967D2;\n",
              "      height: 32px;\n",
              "      padding: 0 0 0 0;\n",
              "      width: 32px;\n",
              "    }\n",
              "\n",
              "    .colab-df-convert:hover {\n",
              "      background-color: #E2EBFA;\n",
              "      box-shadow: 0px 1px 2px rgba(60, 64, 67, 0.3), 0px 1px 3px 1px rgba(60, 64, 67, 0.15);\n",
              "      fill: #174EA6;\n",
              "    }\n",
              "\n",
              "    [theme=dark] .colab-df-convert {\n",
              "      background-color: #3B4455;\n",
              "      fill: #D2E3FC;\n",
              "    }\n",
              "\n",
              "    [theme=dark] .colab-df-convert:hover {\n",
              "      background-color: #434B5C;\n",
              "      box-shadow: 0px 1px 3px 1px rgba(0, 0, 0, 0.15);\n",
              "      filter: drop-shadow(0px 1px 2px rgba(0, 0, 0, 0.3));\n",
              "      fill: #FFFFFF;\n",
              "    }\n",
              "  </style>\n",
              "\n",
              "      <script>\n",
              "        const buttonEl =\n",
              "          document.querySelector('#df-91705c05-a066-4762-a3ef-cc246bf12fdd button.colab-df-convert');\n",
              "        buttonEl.style.display =\n",
              "          google.colab.kernel.accessAllowed ? 'block' : 'none';\n",
              "\n",
              "        async function convertToInteractive(key) {\n",
              "          const element = document.querySelector('#df-91705c05-a066-4762-a3ef-cc246bf12fdd');\n",
              "          const dataTable =\n",
              "            await google.colab.kernel.invokeFunction('convertToInteractive',\n",
              "                                                     [key], {});\n",
              "          if (!dataTable) return;\n",
              "\n",
              "          const docLinkHtml = 'Like what you see? Visit the ' +\n",
              "            '<a target=\"_blank\" href=https://colab.research.google.com/notebooks/data_table.ipynb>data table notebook</a>'\n",
              "            + ' to learn more about interactive tables.';\n",
              "          element.innerHTML = '';\n",
              "          dataTable['output_type'] = 'display_data';\n",
              "          await google.colab.output.renderOutput(dataTable, element);\n",
              "          const docLink = document.createElement('div');\n",
              "          docLink.innerHTML = docLinkHtml;\n",
              "          element.appendChild(docLink);\n",
              "        }\n",
              "      </script>\n",
              "    </div>\n",
              "  </div>\n",
              "  "
            ]
          },
          "metadata": {},
          "execution_count": 314
        }
      ],
      "source": [
        "#df_cat_dat_total['category_id'] = df_cat_dat_total['category_id'].dropna().apply(lambda x: str(x) if len(str(x))==cat_id_len else ('0'*(cat_id_len-len(str(x)))+str(x)))\n",
        "#df_cat_dat_total['gene_id'] = df_cat_dat_total['gene_id'].dropna().apply(lambda x: str(x) if len(str(x))==gen_id_len else ('0'*(gen_id_len-len(str(x)))+str(x)))\n",
        "\n",
        "df_cat_dat_total['link'] = df_cat_dat_total['link'].dropna().apply(lambda x: img_link_corr(x))\n",
        "\n",
        "df_cat_dat_total.sample(5)"
      ]
    },
    {
      "cell_type": "code",
      "execution_count": 315,
      "metadata": {
        "colab": {
          "base_uri": "https://localhost:8080/"
        },
        "id": "k11GYBaLIp1D",
        "outputId": "a5512010-fc49-44e2-ca07-3eac295ec283"
      },
      "outputs": [
        {
          "output_type": "stream",
          "name": "stdout",
          "text": [
            "https://d32dm0rphc51dk.cloudfront.net/gKVTipOer_-fvaV51oVJOQ/large.jpg\n",
            "https://d32dm0rphc51dk.cloudfront.net/C-1xFW3WOtoVlD6iYwq3ug/large.jpg\n",
            "https://d32dm0rphc51dk.cloudfront.net/Taj1c2AwI-pXaDPMzuGk9w/large.jpg\n",
            "https://d32dm0rphc51dk.cloudfront.net/XJA5yQWqlpdp4jttN1DFiA/large.jpg\n",
            "https://d32dm0rphc51dk.cloudfront.net/8vnx4x-fjFl_E9-KE8Gykw/large.jpg\n"
          ]
        }
      ],
      "source": [
        "for link in df_cat_dat_total['link'].sample(5):\n",
        "  print(link)"
      ]
    },
    {
      "cell_type": "markdown",
      "metadata": {
        "id": "1llmSnWlsnPX"
      },
      "source": [
        "Count of unique artsy_id and link should be equal. But sometimes they're not (like in cat 03)."
      ]
    },
    {
      "cell_type": "code",
      "execution_count": 316,
      "metadata": {
        "colab": {
          "base_uri": "https://localhost:8080/"
        },
        "id": "-ff_vHrMIprR",
        "outputId": "ee690113-4a0c-4a47-a6ae-b4b20cb8b57c"
      },
      "outputs": [
        {
          "output_type": "stream",
          "name": "stdout",
          "text": [
            "263\n",
            "263\n"
          ]
        }
      ],
      "source": [
        "print(df_cat_dat_total['artsy_id'].nunique())\n",
        "print(df_cat_dat_total['link'].nunique())"
      ]
    },
    {
      "cell_type": "code",
      "execution_count": null,
      "metadata": {
        "id": "z9C1IoY2F6vL"
      },
      "outputs": [],
      "source": [
        "# !!! links' problem solving !!!"
      ]
    },
    {
      "cell_type": "code",
      "execution_count": null,
      "metadata": {
        "colab": {
          "base_uri": "https://localhost:8080/"
        },
        "id": "nexPBDQbnr08",
        "outputId": "027f0c98-69de-44e1-ade8-dececbb86be7"
      },
      "outputs": [
        {
          "name": "stdout",
          "output_type": "stream",
          "text": [
            "<class 'pandas.core.frame.DataFrame'>\n",
            "Int64Index: 138883 entries, 0 to 179744\n",
            "Data columns (total 2 columns):\n",
            " #   Column    Non-Null Count   Dtype \n",
            "---  ------    --------------   ----- \n",
            " 0   artsy_id  138883 non-null  object\n",
            " 1   link      138883 non-null  object\n",
            "dtypes: object(2)\n",
            "memory usage: 3.2+ MB\n"
          ]
        }
      ],
      "source": [
        "artsy_id_link = df_cat_dat_total[['artsy_id', 'link']]\n",
        "artsy_id_link.drop_duplicates(subset = ['link', 'artsy_id'], keep = 'first', inplace = True)\n",
        "artsy_id_link.info()"
      ]
    },
    {
      "cell_type": "code",
      "execution_count": null,
      "metadata": {
        "colab": {
          "base_uri": "https://localhost:8080/"
        },
        "id": "dGzNKoR6jAkf",
        "outputId": "e7b02619-2033-40b0-dab3-ccd07e6f48e9"
      },
      "outputs": [
        {
          "data": {
            "text/plain": [
              "1"
            ]
          },
          "execution_count": 225,
          "metadata": {},
          "output_type": "execute_result"
        }
      ],
      "source": [
        "artsy_link_groupped = artsy_id_link.groupby(['artsy_id'])['link'].agg(['count']).reset_index()\n",
        "links_prob_list = artsy_link_groupped.loc[artsy_link_groupped['count']>1]['artsy_id'].tolist()\n",
        "len(links_prob_list)"
      ]
    },
    {
      "cell_type": "code",
      "execution_count": null,
      "metadata": {
        "colab": {
          "base_uri": "https://localhost:8080/"
        },
        "id": "L6jdhlLMqfKU",
        "outputId": "919f67c3-8a28-469d-c9c3-cbec057a0583"
      },
      "outputs": [
        {
          "data": {
            "text/plain": [
              "['6247862634f6b2000b712474']"
            ]
          },
          "execution_count": 226,
          "metadata": {},
          "output_type": "execute_result"
        }
      ],
      "source": [
        "links_prob_list"
      ]
    },
    {
      "cell_type": "code",
      "execution_count": null,
      "metadata": {
        "colab": {
          "base_uri": "https://localhost:8080/",
          "height": 315
        },
        "id": "P6ki-ovkpxII",
        "outputId": "d6b0ec51-45c9-4ebc-8a71-f48e77521a9f"
      },
      "outputs": [
        {
          "data": {
            "text/html": [
              "\n",
              "  <div id=\"df-8ce31d81-5f35-4ea7-9bf1-25bac1d6247d\">\n",
              "    <div class=\"colab-df-container\">\n",
              "      <div>\n",
              "<style scoped>\n",
              "    .dataframe tbody tr th:only-of-type {\n",
              "        vertical-align: middle;\n",
              "    }\n",
              "\n",
              "    .dataframe tbody tr th {\n",
              "        vertical-align: top;\n",
              "    }\n",
              "\n",
              "    .dataframe thead th {\n",
              "        text-align: right;\n",
              "    }\n",
              "</style>\n",
              "<table border=\"1\" class=\"dataframe\">\n",
              "  <thead>\n",
              "    <tr style=\"text-align: right;\">\n",
              "      <th></th>\n",
              "      <th>artsy_id</th>\n",
              "      <th>name</th>\n",
              "      <th>link</th>\n",
              "      <th>year</th>\n",
              "      <th>artist</th>\n",
              "      <th>gallery</th>\n",
              "      <th>price</th>\n",
              "      <th>gene_id</th>\n",
              "      <th>category_id</th>\n",
              "      <th>parsing_date</th>\n",
              "      <th>updating_date</th>\n",
              "    </tr>\n",
              "  </thead>\n",
              "  <tbody>\n",
              "    <tr>\n",
              "      <th>132903</th>\n",
              "      <td>6247862634f6b2000b712474</td>\n",
              "      <td>PORTRAIT STYLISÉ DE JACQUELINE (TÊTE DE FEMME)...</td>\n",
              "      <td>https://d32dm0rphc51dk.cloudfront.net/dIHPcpGC...</td>\n",
              "      <td>1962</td>\n",
              "      <td>Pablo PicassoPORTRAIT STYLISÉ DE JACQUELINE (T...</td>\n",
              "      <td>Robert Fontaine Gallery</td>\n",
              "      <td>Price on request</td>\n",
              "      <td>08052</td>\n",
              "      <td>08</td>\n",
              "      <td>2022-04-08</td>\n",
              "      <td>2022-04-08</td>\n",
              "    </tr>\n",
              "    <tr>\n",
              "      <th>162343</th>\n",
              "      <td>6247862634f6b2000b712474</td>\n",
              "      <td>PORTRAIT STYLISÉ DE JACQUELINE (TÊTE DE FEMME)...</td>\n",
              "      <td>https://d32dm0rphc51dk.cloudfront.net/3gxxZMXE...</td>\n",
              "      <td>1962</td>\n",
              "      <td>Pablo PicassoPORTRAIT STYLISÉ DE JACQUELINE (T...</td>\n",
              "      <td>Robert Fontaine Gallery</td>\n",
              "      <td>Price on request</td>\n",
              "      <td>08062</td>\n",
              "      <td>08</td>\n",
              "      <td>2022-04-08</td>\n",
              "      <td>2022-04-08</td>\n",
              "    </tr>\n",
              "  </tbody>\n",
              "</table>\n",
              "</div>\n",
              "      <button class=\"colab-df-convert\" onclick=\"convertToInteractive('df-8ce31d81-5f35-4ea7-9bf1-25bac1d6247d')\"\n",
              "              title=\"Convert this dataframe to an interactive table.\"\n",
              "              style=\"display:none;\">\n",
              "        \n",
              "  <svg xmlns=\"http://www.w3.org/2000/svg\" height=\"24px\"viewBox=\"0 0 24 24\"\n",
              "       width=\"24px\">\n",
              "    <path d=\"M0 0h24v24H0V0z\" fill=\"none\"/>\n",
              "    <path d=\"M18.56 5.44l.94 2.06.94-2.06 2.06-.94-2.06-.94-.94-2.06-.94 2.06-2.06.94zm-11 1L8.5 8.5l.94-2.06 2.06-.94-2.06-.94L8.5 2.5l-.94 2.06-2.06.94zm10 10l.94 2.06.94-2.06 2.06-.94-2.06-.94-.94-2.06-.94 2.06-2.06.94z\"/><path d=\"M17.41 7.96l-1.37-1.37c-.4-.4-.92-.59-1.43-.59-.52 0-1.04.2-1.43.59L10.3 9.45l-7.72 7.72c-.78.78-.78 2.05 0 2.83L4 21.41c.39.39.9.59 1.41.59.51 0 1.02-.2 1.41-.59l7.78-7.78 2.81-2.81c.8-.78.8-2.07 0-2.86zM5.41 20L4 18.59l7.72-7.72 1.47 1.35L5.41 20z\"/>\n",
              "  </svg>\n",
              "      </button>\n",
              "      \n",
              "  <style>\n",
              "    .colab-df-container {\n",
              "      display:flex;\n",
              "      flex-wrap:wrap;\n",
              "      gap: 12px;\n",
              "    }\n",
              "\n",
              "    .colab-df-convert {\n",
              "      background-color: #E8F0FE;\n",
              "      border: none;\n",
              "      border-radius: 50%;\n",
              "      cursor: pointer;\n",
              "      display: none;\n",
              "      fill: #1967D2;\n",
              "      height: 32px;\n",
              "      padding: 0 0 0 0;\n",
              "      width: 32px;\n",
              "    }\n",
              "\n",
              "    .colab-df-convert:hover {\n",
              "      background-color: #E2EBFA;\n",
              "      box-shadow: 0px 1px 2px rgba(60, 64, 67, 0.3), 0px 1px 3px 1px rgba(60, 64, 67, 0.15);\n",
              "      fill: #174EA6;\n",
              "    }\n",
              "\n",
              "    [theme=dark] .colab-df-convert {\n",
              "      background-color: #3B4455;\n",
              "      fill: #D2E3FC;\n",
              "    }\n",
              "\n",
              "    [theme=dark] .colab-df-convert:hover {\n",
              "      background-color: #434B5C;\n",
              "      box-shadow: 0px 1px 3px 1px rgba(0, 0, 0, 0.15);\n",
              "      filter: drop-shadow(0px 1px 2px rgba(0, 0, 0, 0.3));\n",
              "      fill: #FFFFFF;\n",
              "    }\n",
              "  </style>\n",
              "\n",
              "      <script>\n",
              "        const buttonEl =\n",
              "          document.querySelector('#df-8ce31d81-5f35-4ea7-9bf1-25bac1d6247d button.colab-df-convert');\n",
              "        buttonEl.style.display =\n",
              "          google.colab.kernel.accessAllowed ? 'block' : 'none';\n",
              "\n",
              "        async function convertToInteractive(key) {\n",
              "          const element = document.querySelector('#df-8ce31d81-5f35-4ea7-9bf1-25bac1d6247d');\n",
              "          const dataTable =\n",
              "            await google.colab.kernel.invokeFunction('convertToInteractive',\n",
              "                                                     [key], {});\n",
              "          if (!dataTable) return;\n",
              "\n",
              "          const docLinkHtml = 'Like what you see? Visit the ' +\n",
              "            '<a target=\"_blank\" href=https://colab.research.google.com/notebooks/data_table.ipynb>data table notebook</a>'\n",
              "            + ' to learn more about interactive tables.';\n",
              "          element.innerHTML = '';\n",
              "          dataTable['output_type'] = 'display_data';\n",
              "          await google.colab.output.renderOutput(dataTable, element);\n",
              "          const docLink = document.createElement('div');\n",
              "          docLink.innerHTML = docLinkHtml;\n",
              "          element.appendChild(docLink);\n",
              "        }\n",
              "      </script>\n",
              "    </div>\n",
              "  </div>\n",
              "  "
            ],
            "text/plain": [
              "                        artsy_id  \\\n",
              "132903  6247862634f6b2000b712474   \n",
              "162343  6247862634f6b2000b712474   \n",
              "\n",
              "                                                     name  \\\n",
              "132903  PORTRAIT STYLISÉ DE JACQUELINE (TÊTE DE FEMME)...   \n",
              "162343  PORTRAIT STYLISÉ DE JACQUELINE (TÊTE DE FEMME)...   \n",
              "\n",
              "                                                     link  year  \\\n",
              "132903  https://d32dm0rphc51dk.cloudfront.net/dIHPcpGC...  1962   \n",
              "162343  https://d32dm0rphc51dk.cloudfront.net/3gxxZMXE...  1962   \n",
              "\n",
              "                                                   artist  \\\n",
              "132903  Pablo PicassoPORTRAIT STYLISÉ DE JACQUELINE (T...   \n",
              "162343  Pablo PicassoPORTRAIT STYLISÉ DE JACQUELINE (T...   \n",
              "\n",
              "                        gallery              price gene_id category_id  \\\n",
              "132903  Robert Fontaine Gallery  Price on request    08052          08   \n",
              "162343  Robert Fontaine Gallery  Price on request    08062          08   \n",
              "\n",
              "       parsing_date updating_date  \n",
              "132903   2022-04-08    2022-04-08  \n",
              "162343   2022-04-08    2022-04-08  "
            ]
          },
          "execution_count": 227,
          "metadata": {},
          "output_type": "execute_result"
        }
      ],
      "source": [
        "id = links_prob_list[0]\n",
        "df_cat_dat_total.loc[df_cat_dat_total['artsy_id']==id]"
      ]
    },
    {
      "cell_type": "code",
      "execution_count": null,
      "metadata": {
        "colab": {
          "base_uri": "https://localhost:8080/"
        },
        "id": "YSWBiXmfqqqH",
        "outputId": "d87e86b6-3760-4e7f-f6c8-67917db1f704"
      },
      "outputs": [
        {
          "name": "stdout",
          "output_type": "stream",
          "text": [
            "https://d32dm0rphc51dk.cloudfront.net/dIHPcpGCPw8QyU-YRGQRMA/large.jpg\n",
            "https://d32dm0rphc51dk.cloudfront.net/3gxxZMXEYPjh8hhouRj9lQ/large.jpg\n"
          ]
        }
      ],
      "source": [
        "for link in df_cat_dat_total.loc[df_cat_dat_total['artsy_id']==id]['link'].unique():\n",
        "  print(link)"
      ]
    },
    {
      "cell_type": "markdown",
      "metadata": {
        "id": "Bp2n15jXtEyb"
      },
      "source": [
        "These pictures are the same but shots were done with different light. Replace the last one."
      ]
    },
    {
      "cell_type": "code",
      "execution_count": null,
      "metadata": {
        "id": "ndQcOVOKsXsT"
      },
      "outputs": [],
      "source": [
        "df_cat_dat_total.at[162343, 'link'] = 'https://d32dm0rphc51dk.cloudfront.net/dIHPcpGCPw8QyU-YRGQRMA/large.jpg'"
      ]
    },
    {
      "cell_type": "code",
      "execution_count": null,
      "metadata": {
        "colab": {
          "base_uri": "https://localhost:8080/"
        },
        "id": "NbfT-f22tkZR",
        "outputId": "2aa93bbf-f9b3-4553-e223-537df3008c49"
      },
      "outputs": [
        {
          "name": "stdout",
          "output_type": "stream",
          "text": [
            "138882\n",
            "138882\n"
          ]
        }
      ],
      "source": [
        "print(df_cat_dat_total['artsy_id'].nunique())\n",
        "print(df_cat_dat_total['link'].nunique())"
      ]
    },
    {
      "cell_type": "code",
      "execution_count": null,
      "metadata": {
        "id": "06kTc_F-tGiI"
      },
      "outputs": [],
      "source": [
        "save_df_file(df_cat_dat_total, '/artsy_temp_data_08.csv', 'backup') # 4. Save df to csv file\n",
        "#df_cat_dat_total = open_file_csv('/artsy_temp_data_05.csv', 'backup') # 3. Open file.csv"
      ]
    },
    {
      "cell_type": "code",
      "execution_count": null,
      "metadata": {
        "id": "dNCYORCNQbqC"
      },
      "outputs": [],
      "source": [
        "# !!! links' problem solving !!!"
      ]
    },
    {
      "cell_type": "markdown",
      "metadata": {
        "id": "0AbtoZweRYHF"
      },
      "source": [
        "### Artists"
      ]
    },
    {
      "cell_type": "markdown",
      "metadata": {
        "id": "hZ2aPW2EslTv"
      },
      "source": [
        "We need to create artist id for artworks dict. Artists seem to be ok."
      ]
    },
    {
      "cell_type": "code",
      "execution_count": null,
      "metadata": {
        "id": "WoJh58dJurXX"
      },
      "outputs": [],
      "source": [
        "#df_cat_dat_total = open_file_csv('/artsy_temp_data_05.csv', 'backup') # 3. Open file.csv"
      ]
    },
    {
      "cell_type": "code",
      "execution_count": 317,
      "metadata": {
        "colab": {
          "base_uri": "https://localhost:8080/"
        },
        "id": "epFwJ96IjAhD",
        "outputId": "c2e90c6c-a581-4afd-c8ba-874ed9e49612"
      },
      "outputs": [
        {
          "output_type": "stream",
          "name": "stdout",
          "text": [
            "261\n",
            "261\n"
          ]
        }
      ],
      "source": [
        "print(df_cat_dat_total['artist'].dropna().nunique())\n",
        "artists_list = sorted(df_cat_dat_total['artist'].dropna().unique().tolist())\n",
        "print(len(artists_list))"
      ]
    },
    {
      "cell_type": "code",
      "execution_count": 318,
      "metadata": {
        "colab": {
          "base_uri": "https://localhost:8080/"
        },
        "id": "HTJPuo7AcT_-",
        "outputId": "92a546f2-cdf6-4585-c7c3-2684332d1c12"
      },
      "outputs": [
        {
          "output_type": "execute_result",
          "data": {
            "text/plain": [
              "['Adam MartinakisLast Kiss, 2021HOFA Gallery (House of Fine Art)Price on request ',\n",
              " 'Alejandra EspañaVer voces III, 2022CAM GaleríaUS$1,300 ',\n",
              " 'Aleksandar PWomen, 2021HOFA Gallery (House of Fine Art)Sold ',\n",
              " 'Alexandrin DamascanStation 1986, N/ADependent de Arta€1,206 ',\n",
              " 'Alice QuaresmaGlorious Spell of Sobriety, 2022CASANOVAUS$1,000 ',\n",
              " 'Amr AlngmahNFT Donkey Kong, 2021Al-Tiba9 Contemporary ArtUS$2,600 ',\n",
              " \"Andree MartisCosmic Reflections, 2021De Mimi's GalleryUS$4,000–US$5,000 \",\n",
              " 'Andrew FaulknerOutlier, 2022Pamela Walsh GalleryPrice on request ',\n",
              " 'Anna CondoRed Flower, 2020Museum of Arts and Design Benefit AuctionBidding closed ',\n",
              " 'Annibale SiconolfiThe Cycle, 2022Pellas GallerySold ']"
            ]
          },
          "metadata": {},
          "execution_count": 318
        }
      ],
      "source": [
        "artists_list[:10]"
      ]
    },
    {
      "cell_type": "code",
      "execution_count": 319,
      "metadata": {
        "colab": {
          "base_uri": "https://localhost:8080/"
        },
        "id": "94R1q485jAYy",
        "outputId": "0161bd60-0c25-4051-f494-e2f04eded819"
      },
      "outputs": [
        {
          "output_type": "execute_result",
          "data": {
            "text/plain": [
              "['ZazuleteMNight, 2022Maggio Art Consultancy£1,000 ',\n",
              " 'Zina Saro-WiwaSarogua Spirit - Akogbara (Oil Bean), 2022Montague ContemporaryPrice on request ',\n",
              " 'Zina Saro-WiwaSarogua Spirit - Green Orange, 2022Montague ContemporaryPrice on request ',\n",
              " 'Zina Saro-WiwaSarogua Spirit - Guinea Corn Leaf, 2022Montague ContemporaryPrice on request ',\n",
              " 'Zina Saro-WiwaSarogua Spirit - Kpa Azii (Tree Bark), 2022Montague ContemporaryPrice on request ',\n",
              " 'Zohar FraimanPorsche Divorce (NFT), 2021PRISKA PASQUERSold ',\n",
              " 'ha:arImpossible Sculptures No. 24, 2021JD Malat GalleryPrice on request ',\n",
              " 'ha:arImpossible Sculptures No. 25, 2022JD Malat GalleryPrice on request ',\n",
              " 'ha:arImpossible Sculptures No. 27, 2022JD Malat GalleryPrice on request ',\n",
              " 'mvhvmacrossing dimensions to fill the void (NFT), 2021TDC GalleryUS$7,000 ']"
            ]
          },
          "metadata": {},
          "execution_count": 319
        }
      ],
      "source": [
        "artists_list[-10:]"
      ]
    },
    {
      "cell_type": "code",
      "execution_count": 320,
      "metadata": {
        "colab": {
          "base_uri": "https://localhost:8080/"
        },
        "id": "volUmC_mjAUz",
        "outputId": "8db6dfe1-3b91-403e-a75f-77466091df81"
      },
      "outputs": [
        {
          "output_type": "execute_result",
          "data": {
            "text/plain": [
              "['Glicia de Figueiredoinnermost, 2022CHEGAMOSUS$1,700 ',\n",
              " 'Glicia de Figueiredojelly fish, 2022CHEGAMOSUS$1,700 ',\n",
              " 'Gregory SiffGames of Youth & Legend, 2021HOFA Gallery (House of Fine Art)Price on request ',\n",
              " 'Gretchen AndrewContemporary Art Auction Record (Growing), 2022GalloireSold ',\n",
              " 'Gretchen AndrewContemporary Art Auction Record (Orange Butterfly Effect), 2022GalloireSold ',\n",
              " 'JENISUGirls & Love #5, 2020TDC GallerySold ',\n",
              " 'Jalal Mashhadi FardDuff Marilyn Monroe - NFT, 2021Al-Tiba9 Contemporary ArtUS$2,800 ',\n",
              " 'Jan KalábBreathing Violet Void, 2021HOFA Gallery (House of Fine Art)Price on request ',\n",
              " 'Jan KalábUntitled, 2021HOFA Gallery (House of Fine Art)Price on request ',\n",
              " 'JarvinartPROLOGUE, 2022Pellas GallerySold ']"
            ]
          },
          "metadata": {},
          "execution_count": 320
        }
      ],
      "source": [
        "artists_list[(len(artists_list)//2):(len(artists_list)//2+10)]"
      ]
    },
    {
      "cell_type": "markdown",
      "metadata": {
        "id": "OZUdCtqYtoj2"
      },
      "source": [
        "Not ok actually. If it become important, I'll do somthing with it. -> It became. Look 'artists name revision' block"
      ]
    },
    {
      "cell_type": "code",
      "execution_count": null,
      "metadata": {
        "id": "1g32NZbW1IEB"
      },
      "outputs": [],
      "source": [
        "#decoding_table = (\n",
        "#'\\x00'     #  0x00 -> NULL\n",
        "#'\\x01'     #  0x01 -> START OF HEADING\n",
        "#'\\x02'     #  0x02 -> START OF TEXT\n",
        "#'\\x03'     #  0x03 -> END OF TEXT\n",
        "#'\\x04'     #  0x04 -> END OF TRANSMISSION\n",
        "#'\\x05'     #  0x05 -> ENQUIRY\n",
        "#'\\x06'     #  0x06 -> ACKNOWLEDGE\n",
        "#'\\x07'     #  0x07 -> BELL\n",
        "#'\\x08'     #  0x08 -> BACKSPACE\n",
        "#'\\t'       #  0x09 -> HORIZONTAL TABULATION\n",
        "#'\\n'       #  0x0A -> LINE FEED\n",
        "#'\\x0b'     #  0x0B -> VERTICAL TABULATION\n",
        "#'\\x0c'     #  0x0C -> FORM FEED\n",
        "#'\\r'       #  0x0D -> CARRIAGE RETURN\n",
        "#'\\x0e'     #  0x0E -> SHIFT OUT\n",
        "#'\\x0f'     #  0x0F -> SHIFT IN\n",
        "#'\\x10'     #  0x10 -> DATA LINK ESCAPE\n",
        "#'\\x11'     #  0x11 -> DE\n",
        "#add the character code here\n",
        "#'\\u200b' #add this in the file and save it."
      ]
    },
    {
      "cell_type": "markdown",
      "metadata": {
        "id": "9NOvAdqiRbW5"
      },
      "source": [
        "### Galleries"
      ]
    },
    {
      "cell_type": "markdown",
      "metadata": {
        "id": "yPs-Ahpeudzj"
      },
      "source": [
        "We also need to create gallery id for artworks dict."
      ]
    },
    {
      "cell_type": "code",
      "execution_count": null,
      "metadata": {
        "colab": {
          "base_uri": "https://localhost:8080/"
        },
        "id": "A0q3baYGmeJj",
        "outputId": "19e2eb18-1144-46c1-dbb6-d4fbeae129e4"
      },
      "outputs": [
        {
          "name": "stdout",
          "output_type": "stream",
          "text": [
            "4104\n",
            "4104\n"
          ]
        }
      ],
      "source": [
        "print(df_cat_dat_total['gallery'].nunique())\n",
        "gallery_list = sorted(df_cat_dat_total['gallery'].dropna().unique().tolist())\n",
        "print(len(gallery_list))"
      ]
    },
    {
      "cell_type": "code",
      "execution_count": null,
      "metadata": {
        "colab": {
          "base_uri": "https://localhost:8080/"
        },
        "id": "1Qfg0NuZmeGJ",
        "outputId": "0e124fd4-1ff2-4a9c-cecd-594d0811ccbc"
      },
      "outputs": [
        {
          "data": {
            "text/plain": [
              "[' \"A Brush with Reality: Calligraphic Paintings by Lobsang Choephel\" at Tibet House US, New York (2015)',\n",
              " ' \"Disguise: Masks and Global African Art\" at Seattle Art Museum, Seattle (2015)',\n",
              " '\"2015 Wolfgang Hahn Prize: Michael Krebber and R. H. Quaytman\" at Museum Ludwig, Cologne (2015)',\n",
              " '\"21er Raum: Iman Issa - Material\" at 21er Haus, Vienna',\n",
              " '\"4 REAL & TRUE 2. Wim Wenders. Landscapes. Photographs.\" at Museum Kunstpalast, Düsseldorf (2015)',\n",
              " '\"A Beautiful Lie – Eckersberg\" at Statens Museum for Kunst, Copenhagen ',\n",
              " '\"A New Dynasty – Created in China\"  Venue: ARoS Aarhus Museum of Art, Aarhus ',\n",
              " '\"Abstract/Object\" at Art Institute of Chicago, Chicago',\n",
              " '\"Accrochage 3: Pop & Music/Sound\" at Fondation Louis Vuitton, Paris',\n",
              " '\"Adventures of the Black Square: Abstract Art and Society 1915-2015\" at Whitechapel Gallery, London (2015)']"
            ]
          },
          "execution_count": 100,
          "metadata": {},
          "output_type": "execute_result"
        }
      ],
      "source": [
        "gallery_list[:10]"
      ]
    },
    {
      "cell_type": "code",
      "execution_count": null,
      "metadata": {
        "colab": {
          "base_uri": "https://localhost:8080/"
        },
        "id": "S6DKQmaumeC0",
        "outputId": "36a03dcf-a9ae-4569-dcdc-41aa5783fe7e"
      },
      "outputs": [
        {
          "data": {
            "text/plain": [
              "['°CLAIRbyKahn Galerie',\n",
              " 'ÆRENA Galleries and Gardens',\n",
              " 'Österreichische Galerie Belvedere, Vienna',\n",
              " '“Clifford Ross: Landscape Seen & Imagined” at MASS MoCA, North Adams (2015)',\n",
              " '“Collectionism and Modernity. Two Case Studies: The Im Obersteg and Rudolf Staechelin Collections” at the Museo Reina Sofía, Madrid',\n",
              " '“Created by a Hand with but a Chisel Armed…” Sculpture in St Petersburg’s Palaces in the 19th Century at The State Hermitage Museum, 2016',\n",
              " '“L’image volée” at Fondazione Prada, Milan (2016)',\n",
              " '√K Contemporary',\n",
              " '首都藝術中心 Capital Art Center',\n",
              " '鳩ノ森美術 / HATONOMORI ART']"
            ]
          },
          "execution_count": 101,
          "metadata": {},
          "output_type": "execute_result"
        }
      ],
      "source": [
        "gallery_list[-10:]"
      ]
    },
    {
      "cell_type": "markdown",
      "metadata": {
        "id": "W9o2lhKHvp7v"
      },
      "source": [
        "Seems like in some cases there's a exhibition name in a gellery name box. Let's try to divide them."
      ]
    },
    {
      "cell_type": "code",
      "execution_count": null,
      "metadata": {
        "colab": {
          "base_uri": "https://localhost:8080/"
        },
        "id": "ohi385Iymd_X",
        "outputId": "a7df0739-38df-4d4c-d34e-150de728a646"
      },
      "outputs": [
        {
          "name": "stdout",
          "output_type": "stream",
          "text": [
            "5256\n",
            "5360\n"
          ]
        }
      ],
      "source": [
        "exhib_list = []\n",
        "gal_list = []\n",
        "\n",
        "for g in gallery_list:\n",
        "  try:\n",
        "    gal = g.split(' at ')[-1]\n",
        "    gal_list.append(gal)\n",
        "    exhib_list.append(g.replace(' at ' + gal, ''))\n",
        "  except:\n",
        "    gal_list.append(g)\n",
        "\n",
        "gal_list = sorted(list(set(gal_list)))\n",
        "print(len(gal_list))\n",
        "exhib_list = sorted(list(set(exhib_list)))\n",
        "print(len(exhib_list))"
      ]
    },
    {
      "cell_type": "code",
      "execution_count": null,
      "metadata": {
        "colab": {
          "base_uri": "https://localhost:8080/"
        },
        "id": "smRNvpwamd7j",
        "outputId": "a84e1651-78bb-4e30-8b59-efd18728fdeb"
      },
      "outputs": [
        {
          "data": {
            "text/plain": [
              "[' Museum Ludwig, Cologne',\n",
              " '\"A New Dynasty – Created in China\"  Venue: ARoS Aarhus Museum of Art, Aarhus ',\n",
              " '\"Anselm Kiefer\"at Centre Pompidou, Paris',\n",
              " '\"Barbie\"at Musée des Arts Décoratifs, Paris',\n",
              " '\"Chen Zhen: Without going to New York and Paris, life could be internationalized\"  Venue: Rockbund Art Museum, Shanghai',\n",
              " '\"Inhuman\"at Fridericianum, Kassel, Germany',\n",
              " '\"Joaquín Torres-García: The Arcadian Modern\"at the Museum of Modern Art, New York',\n",
              " '\"Landscapes of Belgium\" Musée d\\'Ixelles, Brussels (2015)',\n",
              " '\"Philippe Parreno: Anywhere, Anywhere, Out Of The World\", Palais de Tokyo, Paris (2013)',\n",
              " '\"This Art is Your Art\" Competition: The White House Historical Association, Artsy, and the Robert Rauschenberg Foundation']"
            ]
          },
          "execution_count": 31,
          "metadata": {},
          "output_type": "execute_result"
        }
      ],
      "source": [
        "gal_list[:10]"
      ]
    },
    {
      "cell_type": "markdown",
      "metadata": {
        "id": "PfhDtMdCwMcu"
      },
      "source": [
        "The data is not clear and this info is not critical, leave it as it is, won't do gallery id."
      ]
    },
    {
      "cell_type": "markdown",
      "metadata": {
        "id": "BQyZmM1PYQRV"
      },
      "source": [
        "### Artworks"
      ]
    },
    {
      "cell_type": "code",
      "execution_count": null,
      "metadata": {
        "id": "QpYJpYkNXR8s"
      },
      "outputs": [],
      "source": [
        "#df_cat_dat_total = open_file_csv('/artsy_temp_data_05.csv', 'backup') # 3. Open file.csv"
      ]
    },
    {
      "cell_type": "code",
      "source": [
        "# Addition and Updating !!!!!!!!!!!!!\n",
        "#df_cat_dat_total = open_file_csv('/artsy_temp_data_add.csv', 'backup') # 3. Open file.csv"
      ],
      "metadata": {
        "id": "Jad5VR-iAJk5"
      },
      "execution_count": null,
      "outputs": []
    },
    {
      "cell_type": "code",
      "execution_count": null,
      "metadata": {
        "colab": {
          "base_uri": "https://localhost:8080/"
        },
        "id": "ZmWv9iFgrvkm",
        "outputId": "a889193e-eb47-4a42-a8aa-62f64c5ade64"
      },
      "outputs": [
        {
          "data": {
            "text/plain": [
              "Index(['artsy_id', 'name', 'link', 'year', 'artist', 'gallery', 'price',\n",
              "       'gene_id', 'category_id', 'parsing_date', 'updating_date'],\n",
              "      dtype='object')"
            ]
          },
          "execution_count": 67,
          "metadata": {},
          "output_type": "execute_result"
        }
      ],
      "source": [
        "#df_cat_dat_total.columns"
      ]
    },
    {
      "cell_type": "code",
      "source": [
        "# Addition and Updating !!!!!!!!!!!!!\n",
        "df_cat_dat_total.columns"
      ],
      "metadata": {
        "colab": {
          "base_uri": "https://localhost:8080/"
        },
        "id": "DewBFpmI8Ny5",
        "outputId": "b7f2ee0e-4c04-4085-b248-582d866cbc65"
      },
      "execution_count": 193,
      "outputs": [
        {
          "output_type": "execute_result",
          "data": {
            "text/plain": [
              "Index(['artsy_id', 'name', 'link', 'year', 'artist', 'gallery', 'price',\n",
              "       'gene_id', 'category_id', 'parsing_date', 'updating_date',\n",
              "       'pages_count', 'second_page_link'],\n",
              "      dtype='object')"
            ]
          },
          "metadata": {},
          "execution_count": 193
        }
      ]
    },
    {
      "cell_type": "markdown",
      "metadata": {
        "id": "Pa2AIo94Ymux"
      },
      "source": [
        "For ***one to one connections***"
      ]
    },
    {
      "cell_type": "code",
      "execution_count": 321,
      "metadata": {
        "colab": {
          "base_uri": "https://localhost:8080/",
          "height": 565
        },
        "id": "dsQDTXJ4Ysyx",
        "outputId": "d6e3a633-fe57-4fe4-a6b6-d7b3963bd995"
      },
      "outputs": [
        {
          "output_type": "execute_result",
          "data": {
            "text/plain": [
              "                     artsy_id                                        name  \\\n",
              "159  62186dfbee6b52000b06e989                  Bored Ape Yacht Club #7337   \n",
              "28   608b41be45ae6a000f43d2a8      Cornælhuys 5/18 - Le Grand Nasal (NFT)   \n",
              "94   6196a5241f1534000b8aec70  Yellow Mandala (NFT) - figurative, pop art   \n",
              "18   60898d944163ac0012d87f1c                              Taste of Açaí    \n",
              "190  622211aa1c9af3000c715e21                                 Workroom 02   \n",
              "\n",
              "                                                  link  year  \\\n",
              "159  https://d32dm0rphc51dk.cloudfront.net/lziK8Ogd...  2021   \n",
              "28   https://d32dm0rphc51dk.cloudfront.net/Z_Zb6JIT...  2021   \n",
              "94   https://d32dm0rphc51dk.cloudfront.net/_zOP3ivX...  2021   \n",
              "18   https://d32dm0rphc51dk.cloudfront.net/-dvkMZNp...  2021   \n",
              "190  https://d32dm0rphc51dk.cloudfront.net/nZ0p7RAi...  2021   \n",
              "\n",
              "                                                artist  \\\n",
              "159  Yuga LabsBored Ape Yacht Club #7337, 2021Asia ...   \n",
              "28   JænCornælhuys 5/18 - Le Grand Nasal (NFT), 202...   \n",
              "94   Clairé HillsYellow Mandala (NFT) - figurative,...   \n",
              "18   Marie SolimanTaste of Açaí , 2021HOFA Gallery ...   \n",
              "190  SosuksaWorkroom 02, 2021Fragmata GalleryUS$1,000    \n",
              "\n",
              "                              gallery      price parsing_date updating_date  \\\n",
              "159                   Asia Art Center   On hold    2022-04-20    2022-04-20   \n",
              "28                        TDC Gallery      Sold    2022-04-20    2022-04-20   \n",
              "94            Santiago Soares Gallery  US$1,189    2022-04-20    2022-04-20   \n",
              "18   HOFA Gallery (House of Fine Art)      Sold    2022-04-20    2022-04-20   \n",
              "190                  Fragmata Gallery  US$1,000    2022-04-20    2022-04-20   \n",
              "\n",
              "     count  \n",
              "159      1  \n",
              "28       1  \n",
              "94       1  \n",
              "18       1  \n",
              "190      1  "
            ],
            "text/html": [
              "\n",
              "  <div id=\"df-e23bd77b-f6c0-47b6-b7d9-290c799e0146\">\n",
              "    <div class=\"colab-df-container\">\n",
              "      <div>\n",
              "<style scoped>\n",
              "    .dataframe tbody tr th:only-of-type {\n",
              "        vertical-align: middle;\n",
              "    }\n",
              "\n",
              "    .dataframe tbody tr th {\n",
              "        vertical-align: top;\n",
              "    }\n",
              "\n",
              "    .dataframe thead th {\n",
              "        text-align: right;\n",
              "    }\n",
              "</style>\n",
              "<table border=\"1\" class=\"dataframe\">\n",
              "  <thead>\n",
              "    <tr style=\"text-align: right;\">\n",
              "      <th></th>\n",
              "      <th>artsy_id</th>\n",
              "      <th>name</th>\n",
              "      <th>link</th>\n",
              "      <th>year</th>\n",
              "      <th>artist</th>\n",
              "      <th>gallery</th>\n",
              "      <th>price</th>\n",
              "      <th>parsing_date</th>\n",
              "      <th>updating_date</th>\n",
              "      <th>count</th>\n",
              "    </tr>\n",
              "  </thead>\n",
              "  <tbody>\n",
              "    <tr>\n",
              "      <th>159</th>\n",
              "      <td>62186dfbee6b52000b06e989</td>\n",
              "      <td>Bored Ape Yacht Club #7337</td>\n",
              "      <td>https://d32dm0rphc51dk.cloudfront.net/lziK8Ogd...</td>\n",
              "      <td>2021</td>\n",
              "      <td>Yuga LabsBored Ape Yacht Club #7337, 2021Asia ...</td>\n",
              "      <td>Asia Art Center</td>\n",
              "      <td>On hold</td>\n",
              "      <td>2022-04-20</td>\n",
              "      <td>2022-04-20</td>\n",
              "      <td>1</td>\n",
              "    </tr>\n",
              "    <tr>\n",
              "      <th>28</th>\n",
              "      <td>608b41be45ae6a000f43d2a8</td>\n",
              "      <td>Cornælhuys 5/18 - Le Grand Nasal (NFT)</td>\n",
              "      <td>https://d32dm0rphc51dk.cloudfront.net/Z_Zb6JIT...</td>\n",
              "      <td>2021</td>\n",
              "      <td>JænCornælhuys 5/18 - Le Grand Nasal (NFT), 202...</td>\n",
              "      <td>TDC Gallery</td>\n",
              "      <td>Sold</td>\n",
              "      <td>2022-04-20</td>\n",
              "      <td>2022-04-20</td>\n",
              "      <td>1</td>\n",
              "    </tr>\n",
              "    <tr>\n",
              "      <th>94</th>\n",
              "      <td>6196a5241f1534000b8aec70</td>\n",
              "      <td>Yellow Mandala (NFT) - figurative, pop art</td>\n",
              "      <td>https://d32dm0rphc51dk.cloudfront.net/_zOP3ivX...</td>\n",
              "      <td>2021</td>\n",
              "      <td>Clairé HillsYellow Mandala (NFT) - figurative,...</td>\n",
              "      <td>Santiago Soares Gallery</td>\n",
              "      <td>US$1,189</td>\n",
              "      <td>2022-04-20</td>\n",
              "      <td>2022-04-20</td>\n",
              "      <td>1</td>\n",
              "    </tr>\n",
              "    <tr>\n",
              "      <th>18</th>\n",
              "      <td>60898d944163ac0012d87f1c</td>\n",
              "      <td>Taste of Açaí</td>\n",
              "      <td>https://d32dm0rphc51dk.cloudfront.net/-dvkMZNp...</td>\n",
              "      <td>2021</td>\n",
              "      <td>Marie SolimanTaste of Açaí , 2021HOFA Gallery ...</td>\n",
              "      <td>HOFA Gallery (House of Fine Art)</td>\n",
              "      <td>Sold</td>\n",
              "      <td>2022-04-20</td>\n",
              "      <td>2022-04-20</td>\n",
              "      <td>1</td>\n",
              "    </tr>\n",
              "    <tr>\n",
              "      <th>190</th>\n",
              "      <td>622211aa1c9af3000c715e21</td>\n",
              "      <td>Workroom 02</td>\n",
              "      <td>https://d32dm0rphc51dk.cloudfront.net/nZ0p7RAi...</td>\n",
              "      <td>2021</td>\n",
              "      <td>SosuksaWorkroom 02, 2021Fragmata GalleryUS$1,000</td>\n",
              "      <td>Fragmata Gallery</td>\n",
              "      <td>US$1,000</td>\n",
              "      <td>2022-04-20</td>\n",
              "      <td>2022-04-20</td>\n",
              "      <td>1</td>\n",
              "    </tr>\n",
              "  </tbody>\n",
              "</table>\n",
              "</div>\n",
              "      <button class=\"colab-df-convert\" onclick=\"convertToInteractive('df-e23bd77b-f6c0-47b6-b7d9-290c799e0146')\"\n",
              "              title=\"Convert this dataframe to an interactive table.\"\n",
              "              style=\"display:none;\">\n",
              "        \n",
              "  <svg xmlns=\"http://www.w3.org/2000/svg\" height=\"24px\"viewBox=\"0 0 24 24\"\n",
              "       width=\"24px\">\n",
              "    <path d=\"M0 0h24v24H0V0z\" fill=\"none\"/>\n",
              "    <path d=\"M18.56 5.44l.94 2.06.94-2.06 2.06-.94-2.06-.94-.94-2.06-.94 2.06-2.06.94zm-11 1L8.5 8.5l.94-2.06 2.06-.94-2.06-.94L8.5 2.5l-.94 2.06-2.06.94zm10 10l.94 2.06.94-2.06 2.06-.94-2.06-.94-.94-2.06-.94 2.06-2.06.94z\"/><path d=\"M17.41 7.96l-1.37-1.37c-.4-.4-.92-.59-1.43-.59-.52 0-1.04.2-1.43.59L10.3 9.45l-7.72 7.72c-.78.78-.78 2.05 0 2.83L4 21.41c.39.39.9.59 1.41.59.51 0 1.02-.2 1.41-.59l7.78-7.78 2.81-2.81c.8-.78.8-2.07 0-2.86zM5.41 20L4 18.59l7.72-7.72 1.47 1.35L5.41 20z\"/>\n",
              "  </svg>\n",
              "      </button>\n",
              "      \n",
              "  <style>\n",
              "    .colab-df-container {\n",
              "      display:flex;\n",
              "      flex-wrap:wrap;\n",
              "      gap: 12px;\n",
              "    }\n",
              "\n",
              "    .colab-df-convert {\n",
              "      background-color: #E8F0FE;\n",
              "      border: none;\n",
              "      border-radius: 50%;\n",
              "      cursor: pointer;\n",
              "      display: none;\n",
              "      fill: #1967D2;\n",
              "      height: 32px;\n",
              "      padding: 0 0 0 0;\n",
              "      width: 32px;\n",
              "    }\n",
              "\n",
              "    .colab-df-convert:hover {\n",
              "      background-color: #E2EBFA;\n",
              "      box-shadow: 0px 1px 2px rgba(60, 64, 67, 0.3), 0px 1px 3px 1px rgba(60, 64, 67, 0.15);\n",
              "      fill: #174EA6;\n",
              "    }\n",
              "\n",
              "    [theme=dark] .colab-df-convert {\n",
              "      background-color: #3B4455;\n",
              "      fill: #D2E3FC;\n",
              "    }\n",
              "\n",
              "    [theme=dark] .colab-df-convert:hover {\n",
              "      background-color: #434B5C;\n",
              "      box-shadow: 0px 1px 3px 1px rgba(0, 0, 0, 0.15);\n",
              "      filter: drop-shadow(0px 1px 2px rgba(0, 0, 0, 0.3));\n",
              "      fill: #FFFFFF;\n",
              "    }\n",
              "  </style>\n",
              "\n",
              "      <script>\n",
              "        const buttonEl =\n",
              "          document.querySelector('#df-e23bd77b-f6c0-47b6-b7d9-290c799e0146 button.colab-df-convert');\n",
              "        buttonEl.style.display =\n",
              "          google.colab.kernel.accessAllowed ? 'block' : 'none';\n",
              "\n",
              "        async function convertToInteractive(key) {\n",
              "          const element = document.querySelector('#df-e23bd77b-f6c0-47b6-b7d9-290c799e0146');\n",
              "          const dataTable =\n",
              "            await google.colab.kernel.invokeFunction('convertToInteractive',\n",
              "                                                     [key], {});\n",
              "          if (!dataTable) return;\n",
              "\n",
              "          const docLinkHtml = 'Like what you see? Visit the ' +\n",
              "            '<a target=\"_blank\" href=https://colab.research.google.com/notebooks/data_table.ipynb>data table notebook</a>'\n",
              "            + ' to learn more about interactive tables.';\n",
              "          element.innerHTML = '';\n",
              "          dataTable['output_type'] = 'display_data';\n",
              "          await google.colab.output.renderOutput(dataTable, element);\n",
              "          const docLink = document.createElement('div');\n",
              "          docLink.innerHTML = docLinkHtml;\n",
              "          element.appendChild(docLink);\n",
              "        }\n",
              "      </script>\n",
              "    </div>\n",
              "  </div>\n",
              "  "
            ]
          },
          "metadata": {},
          "execution_count": 321
        }
      ],
      "source": [
        "one_to_one = df_cat_dat_total.groupby(['artsy_id', 'name', 'link', 'year', 'artist', 'gallery', 'price', 'parsing_date', 'updating_date'])['category_id'].agg(['count']).reset_index()\n",
        "one_to_one.sample(5)"
      ]
    },
    {
      "cell_type": "code",
      "execution_count": 322,
      "metadata": {
        "colab": {
          "base_uri": "https://localhost:8080/"
        },
        "id": "HWFA5NyCY7gH",
        "outputId": "3fc93356-a585-4737-cafc-ede5e071b3c8"
      },
      "outputs": [
        {
          "output_type": "stream",
          "name": "stdout",
          "text": [
            "263\n",
            "257\n",
            "257\n"
          ]
        }
      ],
      "source": [
        "print(df_cat_dat_total['artsy_id'].nunique())\n",
        "print(one_to_one['artsy_id'].count())\n",
        "print(one_to_one['artsy_id'].nunique())"
      ]
    },
    {
      "cell_type": "code",
      "execution_count": 323,
      "metadata": {
        "colab": {
          "base_uri": "https://localhost:8080/"
        },
        "id": "ICRlLdmzZNjH",
        "outputId": "d60e4a43-2fd1-4d03-8a10-9562ee382be3"
      },
      "outputs": [
        {
          "output_type": "stream",
          "name": "stdout",
          "text": [
            "artsy_id count must be 263\n",
            "\n",
            "by column name\n",
            "artsy_id count is 263\n",
            "artsy_id nunique is 263\n",
            "count and nunique is the same -  True\n",
            "[]\n",
            "\n",
            "by column link\n",
            "artsy_id count is 263\n",
            "artsy_id nunique is 263\n",
            "count and nunique is the same -  True\n",
            "[]\n",
            "\n",
            "by column year\n",
            "artsy_id count is 257\n",
            "artsy_id nunique is 257\n",
            "count and nunique is the same -  True\n",
            "['6202a88dd3842f000e2bdeb1', '619572ad4c4986000c652224', '619572acb685c5000ceca694', '619572af9bb476000da5f24e', '619572a89bb476000da5f243', '619572aeec21a7000d2534fc']\n",
            "\n",
            "by column artist\n",
            "artsy_id count is 263\n",
            "artsy_id nunique is 263\n",
            "count and nunique is the same -  True\n",
            "[]\n",
            "\n",
            "by column gallery\n",
            "artsy_id count is 263\n",
            "artsy_id nunique is 263\n",
            "count and nunique is the same -  True\n",
            "[]\n",
            "\n",
            "by column price\n",
            "artsy_id count is 263\n",
            "artsy_id nunique is 263\n",
            "count and nunique is the same -  True\n",
            "[]\n",
            "\n",
            "by column parsing_date\n",
            "artsy_id count is 263\n",
            "artsy_id nunique is 263\n",
            "count and nunique is the same -  True\n",
            "[]\n",
            "\n",
            "by column updating_date\n",
            "artsy_id count is 263\n",
            "artsy_id nunique is 263\n",
            "count and nunique is the same -  True\n",
            "[]\n",
            "\n"
          ]
        }
      ],
      "source": [
        "print('artsy_id count must be', df_cat_dat_total['artsy_id'].nunique())\n",
        "print('')\n",
        "for col in ['name', 'link', 'year', 'artist', 'gallery', 'price', 'parsing_date', 'updating_date']:\n",
        "  group_df = df_cat_dat_total.groupby(['artsy_id', col])['category_id'].agg(['count']).reset_index()\n",
        "  print('by column', col)\n",
        "  print('artsy_id count is', group_df['artsy_id'].count())\n",
        "  print('artsy_id nunique is', group_df['artsy_id'].nunique())\n",
        "  print('count and nunique is the same - ', group_df['artsy_id'].count()==group_df['artsy_id'].nunique())\n",
        "  print(list(set(df_cat_dat_total['artsy_id'].unique()) - set(group_df['artsy_id'].unique())))\n",
        "  print('')"
      ]
    },
    {
      "cell_type": "code",
      "execution_count": null,
      "metadata": {
        "colab": {
          "base_uri": "https://localhost:8080/",
          "height": 485
        },
        "id": "DrbZf-W0Z1OR",
        "outputId": "1c8fb32c-cdfc-45da-8ea3-bfd8834d18d3"
      },
      "outputs": [
        {
          "data": {
            "text/html": [
              "\n",
              "  <div id=\"df-35238b05-643d-40a5-a45c-9ebcc124cdd9\">\n",
              "    <div class=\"colab-df-container\">\n",
              "      <div>\n",
              "<style scoped>\n",
              "    .dataframe tbody tr th:only-of-type {\n",
              "        vertical-align: middle;\n",
              "    }\n",
              "\n",
              "    .dataframe tbody tr th {\n",
              "        vertical-align: top;\n",
              "    }\n",
              "\n",
              "    .dataframe thead th {\n",
              "        text-align: right;\n",
              "    }\n",
              "</style>\n",
              "<table border=\"1\" class=\"dataframe\">\n",
              "  <thead>\n",
              "    <tr style=\"text-align: right;\">\n",
              "      <th></th>\n",
              "      <th>artsy_id</th>\n",
              "      <th>name</th>\n",
              "      <th>link</th>\n",
              "      <th>year</th>\n",
              "      <th>artist</th>\n",
              "      <th>gallery</th>\n",
              "      <th>price</th>\n",
              "      <th>gene_id</th>\n",
              "      <th>category_id</th>\n",
              "      <th>parsing_date</th>\n",
              "      <th>updating_date</th>\n",
              "    </tr>\n",
              "  </thead>\n",
              "  <tbody>\n",
              "    <tr>\n",
              "      <th>27348</th>\n",
              "      <td>57ee50cbcd530e65fa00003f</td>\n",
              "      <td>A Large White-ground Lekythos, Attributed to t...</td>\n",
              "      <td>https://d32dm0rphc51dk.cloudfront.net/91vHFCn1...</td>\n",
              "      <td>Attic-ca. 410 B.C.</td>\n",
              "      <td>Unknown GreekA Large White-ground Lekythos, At...</td>\n",
              "      <td>NaN</td>\n",
              "      <td></td>\n",
              "      <td>07012</td>\n",
              "      <td>07</td>\n",
              "      <td>2022-04-09</td>\n",
              "      <td>2022-04-09</td>\n",
              "    </tr>\n",
              "    <tr>\n",
              "      <th>27360</th>\n",
              "      <td>57e27e8a7622dd65fc000380</td>\n",
              "      <td>A Torso of an Athlete</td>\n",
              "      <td>https://d32dm0rphc51dk.cloudfront.net/rgHMZzri...</td>\n",
              "      <td>Late HellenisticRoman1st cent. B.C.</td>\n",
              "      <td>Unknown GreekA Torso of an Athlete, Late Helle...</td>\n",
              "      <td>NaN</td>\n",
              "      <td>Sold</td>\n",
              "      <td>07012</td>\n",
              "      <td>07</td>\n",
              "      <td>2022-04-09</td>\n",
              "      <td>2022-04-09</td>\n",
              "    </tr>\n",
              "    <tr>\n",
              "      <th>28164</th>\n",
              "      <td>5ade13f79c18db6586720662</td>\n",
              "      <td>An Attic Bilingual Eye-cup</td>\n",
              "      <td>https://d32dm0rphc51dk.cloudfront.net/5qmgVLxc...</td>\n",
              "      <td>NaN</td>\n",
              "      <td>Unknown GreekAn Attic Bilingual Eye-cup</td>\n",
              "      <td>NaN</td>\n",
              "      <td></td>\n",
              "      <td>07012</td>\n",
              "      <td>07</td>\n",
              "      <td>2022-04-09</td>\n",
              "      <td>2022-04-09</td>\n",
              "    </tr>\n",
              "  </tbody>\n",
              "</table>\n",
              "</div>\n",
              "      <button class=\"colab-df-convert\" onclick=\"convertToInteractive('df-35238b05-643d-40a5-a45c-9ebcc124cdd9')\"\n",
              "              title=\"Convert this dataframe to an interactive table.\"\n",
              "              style=\"display:none;\">\n",
              "        \n",
              "  <svg xmlns=\"http://www.w3.org/2000/svg\" height=\"24px\"viewBox=\"0 0 24 24\"\n",
              "       width=\"24px\">\n",
              "    <path d=\"M0 0h24v24H0V0z\" fill=\"none\"/>\n",
              "    <path d=\"M18.56 5.44l.94 2.06.94-2.06 2.06-.94-2.06-.94-.94-2.06-.94 2.06-2.06.94zm-11 1L8.5 8.5l.94-2.06 2.06-.94-2.06-.94L8.5 2.5l-.94 2.06-2.06.94zm10 10l.94 2.06.94-2.06 2.06-.94-2.06-.94-.94-2.06-.94 2.06-2.06.94z\"/><path d=\"M17.41 7.96l-1.37-1.37c-.4-.4-.92-.59-1.43-.59-.52 0-1.04.2-1.43.59L10.3 9.45l-7.72 7.72c-.78.78-.78 2.05 0 2.83L4 21.41c.39.39.9.59 1.41.59.51 0 1.02-.2 1.41-.59l7.78-7.78 2.81-2.81c.8-.78.8-2.07 0-2.86zM5.41 20L4 18.59l7.72-7.72 1.47 1.35L5.41 20z\"/>\n",
              "  </svg>\n",
              "      </button>\n",
              "      \n",
              "  <style>\n",
              "    .colab-df-container {\n",
              "      display:flex;\n",
              "      flex-wrap:wrap;\n",
              "      gap: 12px;\n",
              "    }\n",
              "\n",
              "    .colab-df-convert {\n",
              "      background-color: #E8F0FE;\n",
              "      border: none;\n",
              "      border-radius: 50%;\n",
              "      cursor: pointer;\n",
              "      display: none;\n",
              "      fill: #1967D2;\n",
              "      height: 32px;\n",
              "      padding: 0 0 0 0;\n",
              "      width: 32px;\n",
              "    }\n",
              "\n",
              "    .colab-df-convert:hover {\n",
              "      background-color: #E2EBFA;\n",
              "      box-shadow: 0px 1px 2px rgba(60, 64, 67, 0.3), 0px 1px 3px 1px rgba(60, 64, 67, 0.15);\n",
              "      fill: #174EA6;\n",
              "    }\n",
              "\n",
              "    [theme=dark] .colab-df-convert {\n",
              "      background-color: #3B4455;\n",
              "      fill: #D2E3FC;\n",
              "    }\n",
              "\n",
              "    [theme=dark] .colab-df-convert:hover {\n",
              "      background-color: #434B5C;\n",
              "      box-shadow: 0px 1px 3px 1px rgba(0, 0, 0, 0.15);\n",
              "      filter: drop-shadow(0px 1px 2px rgba(0, 0, 0, 0.3));\n",
              "      fill: #FFFFFF;\n",
              "    }\n",
              "  </style>\n",
              "\n",
              "      <script>\n",
              "        const buttonEl =\n",
              "          document.querySelector('#df-35238b05-643d-40a5-a45c-9ebcc124cdd9 button.colab-df-convert');\n",
              "        buttonEl.style.display =\n",
              "          google.colab.kernel.accessAllowed ? 'block' : 'none';\n",
              "\n",
              "        async function convertToInteractive(key) {\n",
              "          const element = document.querySelector('#df-35238b05-643d-40a5-a45c-9ebcc124cdd9');\n",
              "          const dataTable =\n",
              "            await google.colab.kernel.invokeFunction('convertToInteractive',\n",
              "                                                     [key], {});\n",
              "          if (!dataTable) return;\n",
              "\n",
              "          const docLinkHtml = 'Like what you see? Visit the ' +\n",
              "            '<a target=\"_blank\" href=https://colab.research.google.com/notebooks/data_table.ipynb>data table notebook</a>'\n",
              "            + ' to learn more about interactive tables.';\n",
              "          element.innerHTML = '';\n",
              "          dataTable['output_type'] = 'display_data';\n",
              "          await google.colab.output.renderOutput(dataTable, element);\n",
              "          const docLink = document.createElement('div');\n",
              "          docLink.innerHTML = docLinkHtml;\n",
              "          element.appendChild(docLink);\n",
              "        }\n",
              "      </script>\n",
              "    </div>\n",
              "  </div>\n",
              "  "
            ],
            "text/plain": [
              "                       artsy_id  \\\n",
              "27348  57ee50cbcd530e65fa00003f   \n",
              "27360  57e27e8a7622dd65fc000380   \n",
              "28164  5ade13f79c18db6586720662   \n",
              "\n",
              "                                                    name  \\\n",
              "27348  A Large White-ground Lekythos, Attributed to t...   \n",
              "27360                              A Torso of an Athlete   \n",
              "28164                         An Attic Bilingual Eye-cup   \n",
              "\n",
              "                                                    link  \\\n",
              "27348  https://d32dm0rphc51dk.cloudfront.net/91vHFCn1...   \n",
              "27360  https://d32dm0rphc51dk.cloudfront.net/rgHMZzri...   \n",
              "28164  https://d32dm0rphc51dk.cloudfront.net/5qmgVLxc...   \n",
              "\n",
              "                                      year  \\\n",
              "27348                   Attic-ca. 410 B.C.   \n",
              "27360  Late HellenisticRoman1st cent. B.C.   \n",
              "28164                                  NaN   \n",
              "\n",
              "                                                  artist gallery  price  \\\n",
              "27348  Unknown GreekA Large White-ground Lekythos, At...     NaN          \n",
              "27360  Unknown GreekA Torso of an Athlete, Late Helle...     NaN  Sold    \n",
              "28164           Unknown GreekAn Attic Bilingual Eye-cup      NaN          \n",
              "\n",
              "      gene_id category_id parsing_date updating_date  \n",
              "27348   07012          07   2022-04-09    2022-04-09  \n",
              "27360   07012          07   2022-04-09    2022-04-09  \n",
              "28164   07012          07   2022-04-09    2022-04-09  "
            ]
          },
          "execution_count": 286,
          "metadata": {},
          "output_type": "execute_result"
        }
      ],
      "source": [
        "df_cat_dat_total.loc[df_cat_dat_total['artsy_id'].isin(['5ade13f79c18db6586720662', '57e27e8a7622dd65fc000380', '57ee50cbcd530e65fa00003f'])]"
      ]
    },
    {
      "cell_type": "markdown",
      "metadata": {
        "id": "BGdYsheiaK9c"
      },
      "source": [
        "Due to NaNs in 'name' (sometimes), 'year' and 'gallery' we can loose ids. And we have problems with prices, sometimes in years and artists."
      ]
    },
    {
      "cell_type": "markdown",
      "metadata": {
        "id": "VC7Gbw-kJDK7"
      },
      "source": [
        "#### name"
      ]
    },
    {
      "cell_type": "code",
      "execution_count": 197,
      "metadata": {
        "colab": {
          "base_uri": "https://localhost:8080/"
        },
        "id": "czugDYpAL4Is",
        "outputId": "4aedbf2b-94a5-40d4-ee71-6ce5f95a3460"
      },
      "outputs": [
        {
          "output_type": "execute_result",
          "data": {
            "text/plain": [
              "4"
            ]
          },
          "metadata": {},
          "execution_count": 197
        }
      ],
      "source": [
        "artsy_id_name = df_cat_dat_total[['artsy_id', 'name']]\n",
        "artsy_id_name.drop_duplicates(subset = ['name', 'artsy_id'], keep = 'first', inplace = True)\n",
        "id_name_g = artsy_id_name.groupby(['artsy_id'])['name'].agg(['count']).reset_index()\n",
        "\n",
        "id_prob_name = id_name_g.loc[id_name_g['count']>1]['artsy_id'].tolist()\n",
        "len(id_prob_name)"
      ]
    },
    {
      "cell_type": "code",
      "execution_count": 207,
      "metadata": {
        "colab": {
          "base_uri": "https://localhost:8080/",
          "height": 315
        },
        "id": "PVKO_MtZL4Iu",
        "outputId": "7ea574cc-4086-41eb-a074-433081e5655c"
      },
      "outputs": [
        {
          "output_type": "execute_result",
          "data": {
            "text/plain": [
              "                      artsy_id  \\\n",
              "1047  625f87aa633f55000bc648e8   \n",
              "5636  625f87aa633f55000bc648e8   \n",
              "\n",
              "                                                   name  \\\n",
              "1047  Roast Iguana (from the Wild Raspberries portfo...   \n",
              "5636                    Roast Iguana (Wild Raspberries)   \n",
              "\n",
              "                                                   link  year  \\\n",
              "1047  https://d7hftxdivxxvm.cloudfront.net?resize_to...  1959   \n",
              "5636  https://d7hftxdivxxvm.cloudfront.net?resize_to...  1959   \n",
              "\n",
              "                                                 artist           gallery  \\\n",
              "1047  Andy WarholRoast Iguana (from the Wild Raspber...  Rago/Wright/LAMA   \n",
              "5636  Andy WarholRoast Iguana (Wild Raspberries), 19...  Rago/Wright/LAMA   \n",
              "\n",
              "                  price gene_id category_id parsing_date updating_date  \\\n",
              "1047  Price on request    03204          03   2022-04-20    2022-04-20   \n",
              "5636            $3,200    07008          07   2022-04-20    2022-04-20   \n",
              "\n",
              "      pages_count                                   second_page_link  \n",
              "1047        100.0  https://www.artsy.net/gene/post-war-american-a...  \n",
              "5636        100.0  https://www.artsy.net/gene/1940s-1950s?page=2&...  "
            ],
            "text/html": [
              "\n",
              "  <div id=\"df-ead8a7f0-1b77-4fad-9b64-04a99ba9e405\">\n",
              "    <div class=\"colab-df-container\">\n",
              "      <div>\n",
              "<style scoped>\n",
              "    .dataframe tbody tr th:only-of-type {\n",
              "        vertical-align: middle;\n",
              "    }\n",
              "\n",
              "    .dataframe tbody tr th {\n",
              "        vertical-align: top;\n",
              "    }\n",
              "\n",
              "    .dataframe thead th {\n",
              "        text-align: right;\n",
              "    }\n",
              "</style>\n",
              "<table border=\"1\" class=\"dataframe\">\n",
              "  <thead>\n",
              "    <tr style=\"text-align: right;\">\n",
              "      <th></th>\n",
              "      <th>artsy_id</th>\n",
              "      <th>name</th>\n",
              "      <th>link</th>\n",
              "      <th>year</th>\n",
              "      <th>artist</th>\n",
              "      <th>gallery</th>\n",
              "      <th>price</th>\n",
              "      <th>gene_id</th>\n",
              "      <th>category_id</th>\n",
              "      <th>parsing_date</th>\n",
              "      <th>updating_date</th>\n",
              "      <th>pages_count</th>\n",
              "      <th>second_page_link</th>\n",
              "    </tr>\n",
              "  </thead>\n",
              "  <tbody>\n",
              "    <tr>\n",
              "      <th>1047</th>\n",
              "      <td>625f87aa633f55000bc648e8</td>\n",
              "      <td>Roast Iguana (from the Wild Raspberries portfo...</td>\n",
              "      <td>https://d7hftxdivxxvm.cloudfront.net?resize_to...</td>\n",
              "      <td>1959</td>\n",
              "      <td>Andy WarholRoast Iguana (from the Wild Raspber...</td>\n",
              "      <td>Rago/Wright/LAMA</td>\n",
              "      <td>Price on request</td>\n",
              "      <td>03204</td>\n",
              "      <td>03</td>\n",
              "      <td>2022-04-20</td>\n",
              "      <td>2022-04-20</td>\n",
              "      <td>100.0</td>\n",
              "      <td>https://www.artsy.net/gene/post-war-american-a...</td>\n",
              "    </tr>\n",
              "    <tr>\n",
              "      <th>5636</th>\n",
              "      <td>625f87aa633f55000bc648e8</td>\n",
              "      <td>Roast Iguana (Wild Raspberries)</td>\n",
              "      <td>https://d7hftxdivxxvm.cloudfront.net?resize_to...</td>\n",
              "      <td>1959</td>\n",
              "      <td>Andy WarholRoast Iguana (Wild Raspberries), 19...</td>\n",
              "      <td>Rago/Wright/LAMA</td>\n",
              "      <td>$3,200</td>\n",
              "      <td>07008</td>\n",
              "      <td>07</td>\n",
              "      <td>2022-04-20</td>\n",
              "      <td>2022-04-20</td>\n",
              "      <td>100.0</td>\n",
              "      <td>https://www.artsy.net/gene/1940s-1950s?page=2&amp;...</td>\n",
              "    </tr>\n",
              "  </tbody>\n",
              "</table>\n",
              "</div>\n",
              "      <button class=\"colab-df-convert\" onclick=\"convertToInteractive('df-ead8a7f0-1b77-4fad-9b64-04a99ba9e405')\"\n",
              "              title=\"Convert this dataframe to an interactive table.\"\n",
              "              style=\"display:none;\">\n",
              "        \n",
              "  <svg xmlns=\"http://www.w3.org/2000/svg\" height=\"24px\"viewBox=\"0 0 24 24\"\n",
              "       width=\"24px\">\n",
              "    <path d=\"M0 0h24v24H0V0z\" fill=\"none\"/>\n",
              "    <path d=\"M18.56 5.44l.94 2.06.94-2.06 2.06-.94-2.06-.94-.94-2.06-.94 2.06-2.06.94zm-11 1L8.5 8.5l.94-2.06 2.06-.94-2.06-.94L8.5 2.5l-.94 2.06-2.06.94zm10 10l.94 2.06.94-2.06 2.06-.94-2.06-.94-.94-2.06-.94 2.06-2.06.94z\"/><path d=\"M17.41 7.96l-1.37-1.37c-.4-.4-.92-.59-1.43-.59-.52 0-1.04.2-1.43.59L10.3 9.45l-7.72 7.72c-.78.78-.78 2.05 0 2.83L4 21.41c.39.39.9.59 1.41.59.51 0 1.02-.2 1.41-.59l7.78-7.78 2.81-2.81c.8-.78.8-2.07 0-2.86zM5.41 20L4 18.59l7.72-7.72 1.47 1.35L5.41 20z\"/>\n",
              "  </svg>\n",
              "      </button>\n",
              "      \n",
              "  <style>\n",
              "    .colab-df-container {\n",
              "      display:flex;\n",
              "      flex-wrap:wrap;\n",
              "      gap: 12px;\n",
              "    }\n",
              "\n",
              "    .colab-df-convert {\n",
              "      background-color: #E8F0FE;\n",
              "      border: none;\n",
              "      border-radius: 50%;\n",
              "      cursor: pointer;\n",
              "      display: none;\n",
              "      fill: #1967D2;\n",
              "      height: 32px;\n",
              "      padding: 0 0 0 0;\n",
              "      width: 32px;\n",
              "    }\n",
              "\n",
              "    .colab-df-convert:hover {\n",
              "      background-color: #E2EBFA;\n",
              "      box-shadow: 0px 1px 2px rgba(60, 64, 67, 0.3), 0px 1px 3px 1px rgba(60, 64, 67, 0.15);\n",
              "      fill: #174EA6;\n",
              "    }\n",
              "\n",
              "    [theme=dark] .colab-df-convert {\n",
              "      background-color: #3B4455;\n",
              "      fill: #D2E3FC;\n",
              "    }\n",
              "\n",
              "    [theme=dark] .colab-df-convert:hover {\n",
              "      background-color: #434B5C;\n",
              "      box-shadow: 0px 1px 3px 1px rgba(0, 0, 0, 0.15);\n",
              "      filter: drop-shadow(0px 1px 2px rgba(0, 0, 0, 0.3));\n",
              "      fill: #FFFFFF;\n",
              "    }\n",
              "  </style>\n",
              "\n",
              "      <script>\n",
              "        const buttonEl =\n",
              "          document.querySelector('#df-ead8a7f0-1b77-4fad-9b64-04a99ba9e405 button.colab-df-convert');\n",
              "        buttonEl.style.display =\n",
              "          google.colab.kernel.accessAllowed ? 'block' : 'none';\n",
              "\n",
              "        async function convertToInteractive(key) {\n",
              "          const element = document.querySelector('#df-ead8a7f0-1b77-4fad-9b64-04a99ba9e405');\n",
              "          const dataTable =\n",
              "            await google.colab.kernel.invokeFunction('convertToInteractive',\n",
              "                                                     [key], {});\n",
              "          if (!dataTable) return;\n",
              "\n",
              "          const docLinkHtml = 'Like what you see? Visit the ' +\n",
              "            '<a target=\"_blank\" href=https://colab.research.google.com/notebooks/data_table.ipynb>data table notebook</a>'\n",
              "            + ' to learn more about interactive tables.';\n",
              "          element.innerHTML = '';\n",
              "          dataTable['output_type'] = 'display_data';\n",
              "          await google.colab.output.renderOutput(dataTable, element);\n",
              "          const docLink = document.createElement('div');\n",
              "          docLink.innerHTML = docLinkHtml;\n",
              "          element.appendChild(docLink);\n",
              "        }\n",
              "      </script>\n",
              "    </div>\n",
              "  </div>\n",
              "  "
            ]
          },
          "metadata": {},
          "execution_count": 207
        }
      ],
      "source": [
        "inx = 3\n",
        "df_cat_dat_total.loc[df_cat_dat_total['artsy_id']==id_prob_name[inx]]"
      ]
    },
    {
      "cell_type": "code",
      "execution_count": 208,
      "metadata": {
        "colab": {
          "base_uri": "https://localhost:8080/"
        },
        "id": "K6h_XQ2vL4Iv",
        "outputId": "ede2bcf2-7c10-4e6e-8a05-683bdb5fdde8"
      },
      "outputs": [
        {
          "output_type": "execute_result",
          "data": {
            "text/plain": [
              "array(['Roast Iguana (from the Wild Raspberries portfolio)',\n",
              "       'Roast Iguana (Wild Raspberries)'], dtype=object)"
            ]
          },
          "metadata": {},
          "execution_count": 208
        }
      ],
      "source": [
        "inx_list = df_cat_dat_total.loc[df_cat_dat_total['artsy_id']==id_prob_name[inx]].index.tolist()\n",
        "\n",
        "name_list = df_cat_dat_total.loc[df_cat_dat_total['artsy_id']==id_prob_name[inx]]['name'].unique()\n",
        "name_list"
      ]
    },
    {
      "cell_type": "code",
      "execution_count": 209,
      "metadata": {
        "id": "zQFmp3W0L4Iv"
      },
      "outputs": [],
      "source": [
        "for i in inx_list:\n",
        "  df_cat_dat_total.at[i, 'name'] = name_list[1]\n",
        "  #df_cat_dat_total.at[i, 'name'] = 'Salade de Alf Landon'"
      ]
    },
    {
      "cell_type": "markdown",
      "metadata": {
        "id": "lUZ1HBIUvQbw"
      },
      "source": [
        "#### price"
      ]
    },
    {
      "cell_type": "code",
      "execution_count": 210,
      "metadata": {
        "colab": {
          "base_uri": "https://localhost:8080/"
        },
        "id": "jFcO0v-DaZ15",
        "outputId": "4e4aebe3-aa78-49e3-e7d0-2ce963b64409"
      },
      "outputs": [
        {
          "output_type": "execute_result",
          "data": {
            "text/plain": [
              "56"
            ]
          },
          "metadata": {},
          "execution_count": 210
        }
      ],
      "source": [
        "artsy_id_price = df_cat_dat_total[['artsy_id', 'price']]\n",
        "artsy_id_price.drop_duplicates(subset = ['price', 'artsy_id'], keep = 'first', inplace = True)\n",
        "id_price_g = artsy_id_price.groupby(['artsy_id'])['price'].agg(['count']).reset_index()\n",
        "\n",
        "id_prob_price = id_price_g.loc[id_price_g['count']>1]['artsy_id'].tolist()\n",
        "len(id_prob_price)"
      ]
    },
    {
      "cell_type": "markdown",
      "metadata": {
        "id": "9gWybpWybWfz"
      },
      "source": [
        "In different genes mentioned price could be different. In most cases prices are very similar -> put the mode or one that in the interval. Sometims there isn't a mode or it's 'Price on request'. Put the maximum. We don't need history here."
      ]
    },
    {
      "cell_type": "code",
      "execution_count": 211,
      "metadata": {
        "colab": {
          "base_uri": "https://localhost:8080/",
          "height": 708
        },
        "id": "jrvEYuzma0bJ",
        "outputId": "3f1ac66d-947c-43ac-d475-ffd8aa9687ea"
      },
      "outputs": [
        {
          "output_type": "execute_result",
          "data": {
            "text/plain": [
              "                      artsy_id       name  \\\n",
              "285   625a412cfdea8d000e76fe31  Landslide   \n",
              "471   625a412cfdea8d000e76fe31  Landslide   \n",
              "1023  625a412cfdea8d000e76fe31  Landslide   \n",
              "1208  625a412cfdea8d000e76fe31  Landslide   \n",
              "1540  625a412cfdea8d000e76fe31  Landslide   \n",
              "1912  625a412cfdea8d000e76fe31  Landslide   \n",
              "2972  625a412cfdea8d000e76fe31  Landslide   \n",
              "3243  625a412cfdea8d000e76fe31  Landslide   \n",
              "4011  625a412cfdea8d000e76fe31  Landslide   \n",
              "\n",
              "                                                   link  year  \\\n",
              "285   https://d7hftxdivxxvm.cloudfront.net?resize_to...  2022   \n",
              "471   https://d7hftxdivxxvm.cloudfront.net?resize_to...  2022   \n",
              "1023  https://d7hftxdivxxvm.cloudfront.net?resize_to...  2022   \n",
              "1208  https://d7hftxdivxxvm.cloudfront.net?resize_to...  2022   \n",
              "1540  https://d7hftxdivxxvm.cloudfront.net?resize_to...  2022   \n",
              "1912  https://d7hftxdivxxvm.cloudfront.net?resize_to...  2022   \n",
              "2972  https://d7hftxdivxxvm.cloudfront.net?resize_to...  2022   \n",
              "3243  https://d7hftxdivxxvm.cloudfront.net?resize_to...  2022   \n",
              "4011  https://d7hftxdivxxvm.cloudfront.net?resize_to...  2022   \n",
              "\n",
              "                                                 artist        gallery  \\\n",
              "285   Kirsten Thys van den AudenaerdeLandslide, 2022...  Instantdreams   \n",
              "471   Kirsten Thys van den AudenaerdeLandslide, 2022...  Instantdreams   \n",
              "1023  Kirsten Thys van den AudenaerdeLandslide, 2022...  Instantdreams   \n",
              "1208  Kirsten Thys van den AudenaerdeLandslide, 2022...  Instantdreams   \n",
              "1540  Kirsten Thys van den AudenaerdeLandslide, 2022...  Instantdreams   \n",
              "1912  Kirsten Thys van den AudenaerdeLandslide, 2022...  Instantdreams   \n",
              "2972  Kirsten Thys van den AudenaerdeLandslide, 2022...  Instantdreams   \n",
              "3243  Kirsten Thys van den AudenaerdeLandslide, 2022...  Instantdreams   \n",
              "4011  Kirsten Thys van den AudenaerdeLandslide, 2022...  Instantdreams   \n",
              "\n",
              "               price gene_id category_id parsing_date updating_date  \\\n",
              "285   US$380–US$700    03056          03   2022-04-20    2022-04-20   \n",
              "471   US$380–US$700    03087          03   2022-04-20    2022-04-20   \n",
              "1023  US$380–US$700    03199          03   2022-04-20    2022-04-20   \n",
              "1208  US$380–US$650    03248          03   2022-04-20    2022-04-20   \n",
              "1540  US$380–US$650    02125          02   2022-04-20    2022-04-20   \n",
              "1912  US$380–US$650    06015          06   2022-04-20    2022-04-20   \n",
              "2972  US$380–US$650    06122          06   2022-04-20    2022-04-20   \n",
              "3243  US$380–US$650    06155          06   2022-04-20    2022-04-20   \n",
              "4011  US$380–US$650    08009          08   2022-04-20    2022-04-20   \n",
              "\n",
              "      pages_count                                   second_page_link  \n",
              "285         100.0  https://www.artsy.net/gene/contemporary-art?pa...  \n",
              "471         100.0  https://www.artsy.net/gene/contemporary-portra...  \n",
              "1023        100.0  https://www.artsy.net/gene/pop-and-contemporar...  \n",
              "1208        100.0  https://www.artsy.net/gene/women-artists?page=...  \n",
              "1540        100.0  https://www.artsy.net/gene/nude?page=2&sort=-p...  \n",
              "1912        100.0  https://www.artsy.net/gene/black-and-white-pho...  \n",
              "2972        100.0  https://www.artsy.net/gene/photography?page=2&...  \n",
              "3243        100.0  https://www.artsy.net/gene/staged-photography?...  \n",
              "4011        100.0  https://www.artsy.net/gene/belgium?page=2&sort...  "
            ],
            "text/html": [
              "\n",
              "  <div id=\"df-4363233a-f0c0-4fd1-81e6-5eafc321cc87\">\n",
              "    <div class=\"colab-df-container\">\n",
              "      <div>\n",
              "<style scoped>\n",
              "    .dataframe tbody tr th:only-of-type {\n",
              "        vertical-align: middle;\n",
              "    }\n",
              "\n",
              "    .dataframe tbody tr th {\n",
              "        vertical-align: top;\n",
              "    }\n",
              "\n",
              "    .dataframe thead th {\n",
              "        text-align: right;\n",
              "    }\n",
              "</style>\n",
              "<table border=\"1\" class=\"dataframe\">\n",
              "  <thead>\n",
              "    <tr style=\"text-align: right;\">\n",
              "      <th></th>\n",
              "      <th>artsy_id</th>\n",
              "      <th>name</th>\n",
              "      <th>link</th>\n",
              "      <th>year</th>\n",
              "      <th>artist</th>\n",
              "      <th>gallery</th>\n",
              "      <th>price</th>\n",
              "      <th>gene_id</th>\n",
              "      <th>category_id</th>\n",
              "      <th>parsing_date</th>\n",
              "      <th>updating_date</th>\n",
              "      <th>pages_count</th>\n",
              "      <th>second_page_link</th>\n",
              "    </tr>\n",
              "  </thead>\n",
              "  <tbody>\n",
              "    <tr>\n",
              "      <th>285</th>\n",
              "      <td>625a412cfdea8d000e76fe31</td>\n",
              "      <td>Landslide</td>\n",
              "      <td>https://d7hftxdivxxvm.cloudfront.net?resize_to...</td>\n",
              "      <td>2022</td>\n",
              "      <td>Kirsten Thys van den AudenaerdeLandslide, 2022...</td>\n",
              "      <td>Instantdreams</td>\n",
              "      <td>US$380–US$700</td>\n",
              "      <td>03056</td>\n",
              "      <td>03</td>\n",
              "      <td>2022-04-20</td>\n",
              "      <td>2022-04-20</td>\n",
              "      <td>100.0</td>\n",
              "      <td>https://www.artsy.net/gene/contemporary-art?pa...</td>\n",
              "    </tr>\n",
              "    <tr>\n",
              "      <th>471</th>\n",
              "      <td>625a412cfdea8d000e76fe31</td>\n",
              "      <td>Landslide</td>\n",
              "      <td>https://d7hftxdivxxvm.cloudfront.net?resize_to...</td>\n",
              "      <td>2022</td>\n",
              "      <td>Kirsten Thys van den AudenaerdeLandslide, 2022...</td>\n",
              "      <td>Instantdreams</td>\n",
              "      <td>US$380–US$700</td>\n",
              "      <td>03087</td>\n",
              "      <td>03</td>\n",
              "      <td>2022-04-20</td>\n",
              "      <td>2022-04-20</td>\n",
              "      <td>100.0</td>\n",
              "      <td>https://www.artsy.net/gene/contemporary-portra...</td>\n",
              "    </tr>\n",
              "    <tr>\n",
              "      <th>1023</th>\n",
              "      <td>625a412cfdea8d000e76fe31</td>\n",
              "      <td>Landslide</td>\n",
              "      <td>https://d7hftxdivxxvm.cloudfront.net?resize_to...</td>\n",
              "      <td>2022</td>\n",
              "      <td>Kirsten Thys van den AudenaerdeLandslide, 2022...</td>\n",
              "      <td>Instantdreams</td>\n",
              "      <td>US$380–US$700</td>\n",
              "      <td>03199</td>\n",
              "      <td>03</td>\n",
              "      <td>2022-04-20</td>\n",
              "      <td>2022-04-20</td>\n",
              "      <td>100.0</td>\n",
              "      <td>https://www.artsy.net/gene/pop-and-contemporar...</td>\n",
              "    </tr>\n",
              "    <tr>\n",
              "      <th>1208</th>\n",
              "      <td>625a412cfdea8d000e76fe31</td>\n",
              "      <td>Landslide</td>\n",
              "      <td>https://d7hftxdivxxvm.cloudfront.net?resize_to...</td>\n",
              "      <td>2022</td>\n",
              "      <td>Kirsten Thys van den AudenaerdeLandslide, 2022...</td>\n",
              "      <td>Instantdreams</td>\n",
              "      <td>US$380–US$650</td>\n",
              "      <td>03248</td>\n",
              "      <td>03</td>\n",
              "      <td>2022-04-20</td>\n",
              "      <td>2022-04-20</td>\n",
              "      <td>100.0</td>\n",
              "      <td>https://www.artsy.net/gene/women-artists?page=...</td>\n",
              "    </tr>\n",
              "    <tr>\n",
              "      <th>1540</th>\n",
              "      <td>625a412cfdea8d000e76fe31</td>\n",
              "      <td>Landslide</td>\n",
              "      <td>https://d7hftxdivxxvm.cloudfront.net?resize_to...</td>\n",
              "      <td>2022</td>\n",
              "      <td>Kirsten Thys van den AudenaerdeLandslide, 2022...</td>\n",
              "      <td>Instantdreams</td>\n",
              "      <td>US$380–US$650</td>\n",
              "      <td>02125</td>\n",
              "      <td>02</td>\n",
              "      <td>2022-04-20</td>\n",
              "      <td>2022-04-20</td>\n",
              "      <td>100.0</td>\n",
              "      <td>https://www.artsy.net/gene/nude?page=2&amp;sort=-p...</td>\n",
              "    </tr>\n",
              "    <tr>\n",
              "      <th>1912</th>\n",
              "      <td>625a412cfdea8d000e76fe31</td>\n",
              "      <td>Landslide</td>\n",
              "      <td>https://d7hftxdivxxvm.cloudfront.net?resize_to...</td>\n",
              "      <td>2022</td>\n",
              "      <td>Kirsten Thys van den AudenaerdeLandslide, 2022...</td>\n",
              "      <td>Instantdreams</td>\n",
              "      <td>US$380–US$650</td>\n",
              "      <td>06015</td>\n",
              "      <td>06</td>\n",
              "      <td>2022-04-20</td>\n",
              "      <td>2022-04-20</td>\n",
              "      <td>100.0</td>\n",
              "      <td>https://www.artsy.net/gene/black-and-white-pho...</td>\n",
              "    </tr>\n",
              "    <tr>\n",
              "      <th>2972</th>\n",
              "      <td>625a412cfdea8d000e76fe31</td>\n",
              "      <td>Landslide</td>\n",
              "      <td>https://d7hftxdivxxvm.cloudfront.net?resize_to...</td>\n",
              "      <td>2022</td>\n",
              "      <td>Kirsten Thys van den AudenaerdeLandslide, 2022...</td>\n",
              "      <td>Instantdreams</td>\n",
              "      <td>US$380–US$650</td>\n",
              "      <td>06122</td>\n",
              "      <td>06</td>\n",
              "      <td>2022-04-20</td>\n",
              "      <td>2022-04-20</td>\n",
              "      <td>100.0</td>\n",
              "      <td>https://www.artsy.net/gene/photography?page=2&amp;...</td>\n",
              "    </tr>\n",
              "    <tr>\n",
              "      <th>3243</th>\n",
              "      <td>625a412cfdea8d000e76fe31</td>\n",
              "      <td>Landslide</td>\n",
              "      <td>https://d7hftxdivxxvm.cloudfront.net?resize_to...</td>\n",
              "      <td>2022</td>\n",
              "      <td>Kirsten Thys van den AudenaerdeLandslide, 2022...</td>\n",
              "      <td>Instantdreams</td>\n",
              "      <td>US$380–US$650</td>\n",
              "      <td>06155</td>\n",
              "      <td>06</td>\n",
              "      <td>2022-04-20</td>\n",
              "      <td>2022-04-20</td>\n",
              "      <td>100.0</td>\n",
              "      <td>https://www.artsy.net/gene/staged-photography?...</td>\n",
              "    </tr>\n",
              "    <tr>\n",
              "      <th>4011</th>\n",
              "      <td>625a412cfdea8d000e76fe31</td>\n",
              "      <td>Landslide</td>\n",
              "      <td>https://d7hftxdivxxvm.cloudfront.net?resize_to...</td>\n",
              "      <td>2022</td>\n",
              "      <td>Kirsten Thys van den AudenaerdeLandslide, 2022...</td>\n",
              "      <td>Instantdreams</td>\n",
              "      <td>US$380–US$650</td>\n",
              "      <td>08009</td>\n",
              "      <td>08</td>\n",
              "      <td>2022-04-20</td>\n",
              "      <td>2022-04-20</td>\n",
              "      <td>100.0</td>\n",
              "      <td>https://www.artsy.net/gene/belgium?page=2&amp;sort...</td>\n",
              "    </tr>\n",
              "  </tbody>\n",
              "</table>\n",
              "</div>\n",
              "      <button class=\"colab-df-convert\" onclick=\"convertToInteractive('df-4363233a-f0c0-4fd1-81e6-5eafc321cc87')\"\n",
              "              title=\"Convert this dataframe to an interactive table.\"\n",
              "              style=\"display:none;\">\n",
              "        \n",
              "  <svg xmlns=\"http://www.w3.org/2000/svg\" height=\"24px\"viewBox=\"0 0 24 24\"\n",
              "       width=\"24px\">\n",
              "    <path d=\"M0 0h24v24H0V0z\" fill=\"none\"/>\n",
              "    <path d=\"M18.56 5.44l.94 2.06.94-2.06 2.06-.94-2.06-.94-.94-2.06-.94 2.06-2.06.94zm-11 1L8.5 8.5l.94-2.06 2.06-.94-2.06-.94L8.5 2.5l-.94 2.06-2.06.94zm10 10l.94 2.06.94-2.06 2.06-.94-2.06-.94-.94-2.06-.94 2.06-2.06.94z\"/><path d=\"M17.41 7.96l-1.37-1.37c-.4-.4-.92-.59-1.43-.59-.52 0-1.04.2-1.43.59L10.3 9.45l-7.72 7.72c-.78.78-.78 2.05 0 2.83L4 21.41c.39.39.9.59 1.41.59.51 0 1.02-.2 1.41-.59l7.78-7.78 2.81-2.81c.8-.78.8-2.07 0-2.86zM5.41 20L4 18.59l7.72-7.72 1.47 1.35L5.41 20z\"/>\n",
              "  </svg>\n",
              "      </button>\n",
              "      \n",
              "  <style>\n",
              "    .colab-df-container {\n",
              "      display:flex;\n",
              "      flex-wrap:wrap;\n",
              "      gap: 12px;\n",
              "    }\n",
              "\n",
              "    .colab-df-convert {\n",
              "      background-color: #E8F0FE;\n",
              "      border: none;\n",
              "      border-radius: 50%;\n",
              "      cursor: pointer;\n",
              "      display: none;\n",
              "      fill: #1967D2;\n",
              "      height: 32px;\n",
              "      padding: 0 0 0 0;\n",
              "      width: 32px;\n",
              "    }\n",
              "\n",
              "    .colab-df-convert:hover {\n",
              "      background-color: #E2EBFA;\n",
              "      box-shadow: 0px 1px 2px rgba(60, 64, 67, 0.3), 0px 1px 3px 1px rgba(60, 64, 67, 0.15);\n",
              "      fill: #174EA6;\n",
              "    }\n",
              "\n",
              "    [theme=dark] .colab-df-convert {\n",
              "      background-color: #3B4455;\n",
              "      fill: #D2E3FC;\n",
              "    }\n",
              "\n",
              "    [theme=dark] .colab-df-convert:hover {\n",
              "      background-color: #434B5C;\n",
              "      box-shadow: 0px 1px 3px 1px rgba(0, 0, 0, 0.15);\n",
              "      filter: drop-shadow(0px 1px 2px rgba(0, 0, 0, 0.3));\n",
              "      fill: #FFFFFF;\n",
              "    }\n",
              "  </style>\n",
              "\n",
              "      <script>\n",
              "        const buttonEl =\n",
              "          document.querySelector('#df-4363233a-f0c0-4fd1-81e6-5eafc321cc87 button.colab-df-convert');\n",
              "        buttonEl.style.display =\n",
              "          google.colab.kernel.accessAllowed ? 'block' : 'none';\n",
              "\n",
              "        async function convertToInteractive(key) {\n",
              "          const element = document.querySelector('#df-4363233a-f0c0-4fd1-81e6-5eafc321cc87');\n",
              "          const dataTable =\n",
              "            await google.colab.kernel.invokeFunction('convertToInteractive',\n",
              "                                                     [key], {});\n",
              "          if (!dataTable) return;\n",
              "\n",
              "          const docLinkHtml = 'Like what you see? Visit the ' +\n",
              "            '<a target=\"_blank\" href=https://colab.research.google.com/notebooks/data_table.ipynb>data table notebook</a>'\n",
              "            + ' to learn more about interactive tables.';\n",
              "          element.innerHTML = '';\n",
              "          dataTable['output_type'] = 'display_data';\n",
              "          await google.colab.output.renderOutput(dataTable, element);\n",
              "          const docLink = document.createElement('div');\n",
              "          docLink.innerHTML = docLinkHtml;\n",
              "          element.appendChild(docLink);\n",
              "        }\n",
              "      </script>\n",
              "    </div>\n",
              "  </div>\n",
              "  "
            ]
          },
          "metadata": {},
          "execution_count": 211
        }
      ],
      "source": [
        "inx = 0\n",
        "df_cat_dat_total.loc[df_cat_dat_total['artsy_id']==id_prob_price[inx]]\n",
        "#df_cat_dat_total.loc[df_cat_dat_total['artsy_id'].isin(id_prob_price)]"
      ]
    },
    {
      "cell_type": "code",
      "execution_count": 212,
      "metadata": {
        "colab": {
          "base_uri": "https://localhost:8080/"
        },
        "id": "bAcOwf_Ca8nT",
        "outputId": "38c289d0-1177-4ca9-8f35-6c796c85d922"
      },
      "outputs": [
        {
          "output_type": "execute_result",
          "data": {
            "text/plain": [
              "array(['US$380–US$700 ', 'US$380–US$650 '], dtype=object)"
            ]
          },
          "metadata": {},
          "execution_count": 212
        }
      ],
      "source": [
        "inx_list = df_cat_dat_total.loc[df_cat_dat_total['artsy_id']==id_prob_price[inx]].index.tolist()\n",
        "\n",
        "price_list = df_cat_dat_total.loc[df_cat_dat_total['artsy_id']==id_prob_price[inx]]['price'].unique()\n",
        "price_list"
      ]
    },
    {
      "cell_type": "code",
      "execution_count": null,
      "metadata": {
        "id": "AlQ6nQw-bcf-"
      },
      "outputs": [],
      "source": [
        "for i in inx_list:\n",
        "  df_cat_dat_total.at[i, 'price'] = price_list[1]"
      ]
    },
    {
      "cell_type": "code",
      "source": [
        "# OR !!!!!!"
      ],
      "metadata": {
        "id": "XdbxYop0-Lnb"
      },
      "execution_count": null,
      "outputs": []
    },
    {
      "cell_type": "code",
      "source": [
        "for inx in id_prob_price:\n",
        "  inx_list = df_cat_dat_total.loc[df_cat_dat_total['artsy_id']==inx].index.tolist()\n",
        "  price_list = df_cat_dat_total.loc[df_cat_dat_total['artsy_id']==inx]['price'].unique()\n",
        "  for i in inx_list:\n",
        "    df_cat_dat_total.at[i, 'price'] = price_list[0]"
      ],
      "metadata": {
        "id": "Z3YdvH8r-OX8"
      },
      "execution_count": 214,
      "outputs": []
    },
    {
      "cell_type": "code",
      "execution_count": null,
      "metadata": {
        "id": "z4dDi44QEerp"
      },
      "outputs": [],
      "source": [
        "#for i in inx_list:\n",
        "#  print(df_cat_dat_total['price'].iloc[[i]].index.values[0])"
      ]
    },
    {
      "cell_type": "markdown",
      "metadata": {
        "id": "9vKSLa5mvdEl"
      },
      "source": [
        "#### year"
      ]
    },
    {
      "cell_type": "code",
      "execution_count": null,
      "metadata": {
        "colab": {
          "base_uri": "https://localhost:8080/"
        },
        "id": "Xsc7rPlwve6h",
        "outputId": "fc74b0d4-4859-4a10-809c-8959df583aae"
      },
      "outputs": [
        {
          "data": {
            "text/plain": [
              "0"
            ]
          },
          "execution_count": 245,
          "metadata": {},
          "output_type": "execute_result"
        }
      ],
      "source": [
        "artsy_id_year = df_cat_dat_total[['artsy_id', 'year']]\n",
        "artsy_id_year.drop_duplicates(subset = ['year', 'artsy_id'], keep = 'first', inplace = True)\n",
        "id_year_g = artsy_id_year.groupby(['artsy_id'])['year'].agg(['count']).reset_index()\n",
        "\n",
        "id_prob_year = id_year_g.loc[id_year_g['count']>1]['artsy_id'].tolist()\n",
        "len(id_prob_year)"
      ]
    },
    {
      "cell_type": "code",
      "execution_count": null,
      "metadata": {
        "colab": {
          "base_uri": "https://localhost:8080/",
          "height": 280
        },
        "id": "LXvT1iS1vxYf",
        "outputId": "5f8ac2b5-2f3c-40e1-93c4-5e0bc4849c3f"
      },
      "outputs": [
        {
          "data": {
            "text/html": [
              "\n",
              "  <div id=\"df-b32bc51a-da32-4960-8ce8-0d1b138fb592\">\n",
              "    <div class=\"colab-df-container\">\n",
              "      <div>\n",
              "<style scoped>\n",
              "    .dataframe tbody tr th:only-of-type {\n",
              "        vertical-align: middle;\n",
              "    }\n",
              "\n",
              "    .dataframe tbody tr th {\n",
              "        vertical-align: top;\n",
              "    }\n",
              "\n",
              "    .dataframe thead th {\n",
              "        text-align: right;\n",
              "    }\n",
              "</style>\n",
              "<table border=\"1\" class=\"dataframe\">\n",
              "  <thead>\n",
              "    <tr style=\"text-align: right;\">\n",
              "      <th></th>\n",
              "      <th>artsy_id</th>\n",
              "      <th>name</th>\n",
              "      <th>link</th>\n",
              "      <th>year</th>\n",
              "      <th>artist</th>\n",
              "      <th>gallery</th>\n",
              "      <th>price</th>\n",
              "      <th>gene_id</th>\n",
              "      <th>category_id</th>\n",
              "      <th>parsing_date</th>\n",
              "      <th>updating_date</th>\n",
              "    </tr>\n",
              "  </thead>\n",
              "  <tbody>\n",
              "    <tr>\n",
              "      <th>65426</th>\n",
              "      <td>6229f8fddf1d11000d69c4f4</td>\n",
              "      <td>Caballero I</td>\n",
              "      <td>https://d32dm0rphc51dk.cloudfront.net/KDZ7OhTx...</td>\n",
              "      <td>2015</td>\n",
              "      <td>Manolo ValdésCaballero I, 2015Proyecto H€7,500...</td>\n",
              "      <td>Proyecto H</td>\n",
              "      <td>€9,000–€11,000</td>\n",
              "      <td>06054</td>\n",
              "      <td>06</td>\n",
              "      <td>2022-04-06</td>\n",
              "      <td>2022-04-06</td>\n",
              "    </tr>\n",
              "    <tr>\n",
              "      <th>187793</th>\n",
              "      <td>6229f8fddf1d11000d69c4f4</td>\n",
              "      <td>Caballero I</td>\n",
              "      <td>https://d32dm0rphc51dk.cloudfront.net/KDZ7OhTx...</td>\n",
              "      <td>2006</td>\n",
              "      <td>Manolo ValdésCaballero I, 2006Proyecto H€9,000...</td>\n",
              "      <td>Proyecto H</td>\n",
              "      <td>€9,000–€11,000</td>\n",
              "      <td>06131</td>\n",
              "      <td>06</td>\n",
              "      <td>2022-04-06</td>\n",
              "      <td>2022-04-06</td>\n",
              "    </tr>\n",
              "  </tbody>\n",
              "</table>\n",
              "</div>\n",
              "      <button class=\"colab-df-convert\" onclick=\"convertToInteractive('df-b32bc51a-da32-4960-8ce8-0d1b138fb592')\"\n",
              "              title=\"Convert this dataframe to an interactive table.\"\n",
              "              style=\"display:none;\">\n",
              "        \n",
              "  <svg xmlns=\"http://www.w3.org/2000/svg\" height=\"24px\"viewBox=\"0 0 24 24\"\n",
              "       width=\"24px\">\n",
              "    <path d=\"M0 0h24v24H0V0z\" fill=\"none\"/>\n",
              "    <path d=\"M18.56 5.44l.94 2.06.94-2.06 2.06-.94-2.06-.94-.94-2.06-.94 2.06-2.06.94zm-11 1L8.5 8.5l.94-2.06 2.06-.94-2.06-.94L8.5 2.5l-.94 2.06-2.06.94zm10 10l.94 2.06.94-2.06 2.06-.94-2.06-.94-.94-2.06-.94 2.06-2.06.94z\"/><path d=\"M17.41 7.96l-1.37-1.37c-.4-.4-.92-.59-1.43-.59-.52 0-1.04.2-1.43.59L10.3 9.45l-7.72 7.72c-.78.78-.78 2.05 0 2.83L4 21.41c.39.39.9.59 1.41.59.51 0 1.02-.2 1.41-.59l7.78-7.78 2.81-2.81c.8-.78.8-2.07 0-2.86zM5.41 20L4 18.59l7.72-7.72 1.47 1.35L5.41 20z\"/>\n",
              "  </svg>\n",
              "      </button>\n",
              "      \n",
              "  <style>\n",
              "    .colab-df-container {\n",
              "      display:flex;\n",
              "      flex-wrap:wrap;\n",
              "      gap: 12px;\n",
              "    }\n",
              "\n",
              "    .colab-df-convert {\n",
              "      background-color: #E8F0FE;\n",
              "      border: none;\n",
              "      border-radius: 50%;\n",
              "      cursor: pointer;\n",
              "      display: none;\n",
              "      fill: #1967D2;\n",
              "      height: 32px;\n",
              "      padding: 0 0 0 0;\n",
              "      width: 32px;\n",
              "    }\n",
              "\n",
              "    .colab-df-convert:hover {\n",
              "      background-color: #E2EBFA;\n",
              "      box-shadow: 0px 1px 2px rgba(60, 64, 67, 0.3), 0px 1px 3px 1px rgba(60, 64, 67, 0.15);\n",
              "      fill: #174EA6;\n",
              "    }\n",
              "\n",
              "    [theme=dark] .colab-df-convert {\n",
              "      background-color: #3B4455;\n",
              "      fill: #D2E3FC;\n",
              "    }\n",
              "\n",
              "    [theme=dark] .colab-df-convert:hover {\n",
              "      background-color: #434B5C;\n",
              "      box-shadow: 0px 1px 3px 1px rgba(0, 0, 0, 0.15);\n",
              "      filter: drop-shadow(0px 1px 2px rgba(0, 0, 0, 0.3));\n",
              "      fill: #FFFFFF;\n",
              "    }\n",
              "  </style>\n",
              "\n",
              "      <script>\n",
              "        const buttonEl =\n",
              "          document.querySelector('#df-b32bc51a-da32-4960-8ce8-0d1b138fb592 button.colab-df-convert');\n",
              "        buttonEl.style.display =\n",
              "          google.colab.kernel.accessAllowed ? 'block' : 'none';\n",
              "\n",
              "        async function convertToInteractive(key) {\n",
              "          const element = document.querySelector('#df-b32bc51a-da32-4960-8ce8-0d1b138fb592');\n",
              "          const dataTable =\n",
              "            await google.colab.kernel.invokeFunction('convertToInteractive',\n",
              "                                                     [key], {});\n",
              "          if (!dataTable) return;\n",
              "\n",
              "          const docLinkHtml = 'Like what you see? Visit the ' +\n",
              "            '<a target=\"_blank\" href=https://colab.research.google.com/notebooks/data_table.ipynb>data table notebook</a>'\n",
              "            + ' to learn more about interactive tables.';\n",
              "          element.innerHTML = '';\n",
              "          dataTable['output_type'] = 'display_data';\n",
              "          await google.colab.output.renderOutput(dataTable, element);\n",
              "          const docLink = document.createElement('div');\n",
              "          docLink.innerHTML = docLinkHtml;\n",
              "          element.appendChild(docLink);\n",
              "        }\n",
              "      </script>\n",
              "    </div>\n",
              "  </div>\n",
              "  "
            ],
            "text/plain": [
              "                        artsy_id         name  \\\n",
              "65426   6229f8fddf1d11000d69c4f4  Caballero I   \n",
              "187793  6229f8fddf1d11000d69c4f4  Caballero I   \n",
              "\n",
              "                                                     link  year  \\\n",
              "65426   https://d32dm0rphc51dk.cloudfront.net/KDZ7OhTx...  2015   \n",
              "187793  https://d32dm0rphc51dk.cloudfront.net/KDZ7OhTx...  2006   \n",
              "\n",
              "                                                   artist     gallery  \\\n",
              "65426   Manolo ValdésCaballero I, 2015Proyecto H€7,500...  Proyecto H   \n",
              "187793  Manolo ValdésCaballero I, 2006Proyecto H€9,000...  Proyecto H   \n",
              "\n",
              "                  price gene_id category_id parsing_date updating_date  \n",
              "65426   €9,000–€11,000    06054          06   2022-04-06    2022-04-06  \n",
              "187793  €9,000–€11,000    06131          06   2022-04-06    2022-04-06  "
            ]
          },
          "execution_count": 86,
          "metadata": {},
          "output_type": "execute_result"
        }
      ],
      "source": [
        "inx = 1\n",
        "df_cat_dat_total.loc[df_cat_dat_total['artsy_id']==id_prob_year[inx]]"
      ]
    },
    {
      "cell_type": "code",
      "execution_count": null,
      "metadata": {
        "colab": {
          "base_uri": "https://localhost:8080/"
        },
        "id": "k-KBvexdwaCo",
        "outputId": "e22c2974-b5b1-4a52-f194-685a51502f5b"
      },
      "outputs": [
        {
          "data": {
            "text/plain": [
              "array(['2015', '2006'], dtype=object)"
            ]
          },
          "execution_count": 87,
          "metadata": {},
          "output_type": "execute_result"
        }
      ],
      "source": [
        "df_cat_dat_total.loc[df_cat_dat_total['artsy_id']==id_prob_year[inx]]['year'].unique()"
      ]
    },
    {
      "cell_type": "code",
      "execution_count": null,
      "metadata": {
        "id": "XI2gbFI4wiRd"
      },
      "outputs": [],
      "source": [
        "df_cat_dat_total.at[65609, 'year'] = '2006'\n",
        "df_cat_dat_total.at[65426, 'year'] = '2006'"
      ]
    },
    {
      "cell_type": "markdown",
      "metadata": {
        "id": "z6eLWVRqL4Iq"
      },
      "source": [
        "#### gallery"
      ]
    },
    {
      "cell_type": "code",
      "execution_count": null,
      "metadata": {
        "colab": {
          "base_uri": "https://localhost:8080/"
        },
        "id": "E1zT19l_JFr0",
        "outputId": "b418b531-309b-4a86-e8fd-8b908658326d"
      },
      "outputs": [
        {
          "data": {
            "text/plain": [
              "1"
            ]
          },
          "execution_count": 307,
          "metadata": {},
          "output_type": "execute_result"
        }
      ],
      "source": [
        "artsy_id_gallery = df_cat_dat_total[['artsy_id', 'gallery']]\n",
        "artsy_id_gallery.drop_duplicates(subset = ['gallery', 'artsy_id'], keep = 'first', inplace = True)\n",
        "id_gallery_g = artsy_id_gallery.groupby(['artsy_id'])['gallery'].agg(['count']).reset_index()\n",
        "\n",
        "id_prob_gallery = id_gallery_g.loc[id_gallery_g['count']>1]['artsy_id'].tolist()\n",
        "len(id_prob_gallery)"
      ]
    },
    {
      "cell_type": "code",
      "execution_count": null,
      "metadata": {
        "colab": {
          "base_uri": "https://localhost:8080/",
          "height": 384
        },
        "id": "eX03WwIbJaBl",
        "outputId": "032acbf0-5d38-42a6-c61e-045baed926b1"
      },
      "outputs": [
        {
          "data": {
            "text/html": [
              "\n",
              "  <div id=\"df-f90b2023-c1f0-492d-8318-7b3361515937\">\n",
              "    <div class=\"colab-df-container\">\n",
              "      <div>\n",
              "<style scoped>\n",
              "    .dataframe tbody tr th:only-of-type {\n",
              "        vertical-align: middle;\n",
              "    }\n",
              "\n",
              "    .dataframe tbody tr th {\n",
              "        vertical-align: top;\n",
              "    }\n",
              "\n",
              "    .dataframe thead th {\n",
              "        text-align: right;\n",
              "    }\n",
              "</style>\n",
              "<table border=\"1\" class=\"dataframe\">\n",
              "  <thead>\n",
              "    <tr style=\"text-align: right;\">\n",
              "      <th></th>\n",
              "      <th>artsy_id</th>\n",
              "      <th>name</th>\n",
              "      <th>link</th>\n",
              "      <th>year</th>\n",
              "      <th>artist</th>\n",
              "      <th>gallery</th>\n",
              "      <th>price</th>\n",
              "      <th>gene_id</th>\n",
              "      <th>category_id</th>\n",
              "      <th>parsing_date</th>\n",
              "      <th>updating_date</th>\n",
              "    </tr>\n",
              "  </thead>\n",
              "  <tbody>\n",
              "    <tr>\n",
              "      <th>22221</th>\n",
              "      <td>61e7987ef82abd000c0fb200</td>\n",
              "      <td>Salute (White) Artist Proof</td>\n",
              "      <td>https://d32dm0rphc51dk.cloudfront.net/wkoV4skP...</td>\n",
              "      <td>2021</td>\n",
              "      <td>Shen Jingdong 沈敬东Salute (White) Artist Proof, ...</td>\n",
              "      <td>SimpleArte</td>\n",
              "      <td>US$700</td>\n",
              "      <td>08008</td>\n",
              "      <td>08</td>\n",
              "      <td>2022-04-08</td>\n",
              "      <td>2022-04-08</td>\n",
              "    </tr>\n",
              "    <tr>\n",
              "      <th>179437</th>\n",
              "      <td>61e7987ef82abd000c0fb200</td>\n",
              "      <td>Salute (White) Artist Proof</td>\n",
              "      <td>https://d32dm0rphc51dk.cloudfront.net/wkoV4skP...</td>\n",
              "      <td>2021</td>\n",
              "      <td>Shen Jingdong 沈敬东Salute (White) Artist Proof, ...</td>\n",
              "      <td>iCare4U</td>\n",
              "      <td>US$700</td>\n",
              "      <td>08005</td>\n",
              "      <td>08</td>\n",
              "      <td>2022-04-18</td>\n",
              "      <td>2022-04-18</td>\n",
              "    </tr>\n",
              "  </tbody>\n",
              "</table>\n",
              "</div>\n",
              "      <button class=\"colab-df-convert\" onclick=\"convertToInteractive('df-f90b2023-c1f0-492d-8318-7b3361515937')\"\n",
              "              title=\"Convert this dataframe to an interactive table.\"\n",
              "              style=\"display:none;\">\n",
              "        \n",
              "  <svg xmlns=\"http://www.w3.org/2000/svg\" height=\"24px\"viewBox=\"0 0 24 24\"\n",
              "       width=\"24px\">\n",
              "    <path d=\"M0 0h24v24H0V0z\" fill=\"none\"/>\n",
              "    <path d=\"M18.56 5.44l.94 2.06.94-2.06 2.06-.94-2.06-.94-.94-2.06-.94 2.06-2.06.94zm-11 1L8.5 8.5l.94-2.06 2.06-.94-2.06-.94L8.5 2.5l-.94 2.06-2.06.94zm10 10l.94 2.06.94-2.06 2.06-.94-2.06-.94-.94-2.06-.94 2.06-2.06.94z\"/><path d=\"M17.41 7.96l-1.37-1.37c-.4-.4-.92-.59-1.43-.59-.52 0-1.04.2-1.43.59L10.3 9.45l-7.72 7.72c-.78.78-.78 2.05 0 2.83L4 21.41c.39.39.9.59 1.41.59.51 0 1.02-.2 1.41-.59l7.78-7.78 2.81-2.81c.8-.78.8-2.07 0-2.86zM5.41 20L4 18.59l7.72-7.72 1.47 1.35L5.41 20z\"/>\n",
              "  </svg>\n",
              "      </button>\n",
              "      \n",
              "  <style>\n",
              "    .colab-df-container {\n",
              "      display:flex;\n",
              "      flex-wrap:wrap;\n",
              "      gap: 12px;\n",
              "    }\n",
              "\n",
              "    .colab-df-convert {\n",
              "      background-color: #E8F0FE;\n",
              "      border: none;\n",
              "      border-radius: 50%;\n",
              "      cursor: pointer;\n",
              "      display: none;\n",
              "      fill: #1967D2;\n",
              "      height: 32px;\n",
              "      padding: 0 0 0 0;\n",
              "      width: 32px;\n",
              "    }\n",
              "\n",
              "    .colab-df-convert:hover {\n",
              "      background-color: #E2EBFA;\n",
              "      box-shadow: 0px 1px 2px rgba(60, 64, 67, 0.3), 0px 1px 3px 1px rgba(60, 64, 67, 0.15);\n",
              "      fill: #174EA6;\n",
              "    }\n",
              "\n",
              "    [theme=dark] .colab-df-convert {\n",
              "      background-color: #3B4455;\n",
              "      fill: #D2E3FC;\n",
              "    }\n",
              "\n",
              "    [theme=dark] .colab-df-convert:hover {\n",
              "      background-color: #434B5C;\n",
              "      box-shadow: 0px 1px 3px 1px rgba(0, 0, 0, 0.15);\n",
              "      filter: drop-shadow(0px 1px 2px rgba(0, 0, 0, 0.3));\n",
              "      fill: #FFFFFF;\n",
              "    }\n",
              "  </style>\n",
              "\n",
              "      <script>\n",
              "        const buttonEl =\n",
              "          document.querySelector('#df-f90b2023-c1f0-492d-8318-7b3361515937 button.colab-df-convert');\n",
              "        buttonEl.style.display =\n",
              "          google.colab.kernel.accessAllowed ? 'block' : 'none';\n",
              "\n",
              "        async function convertToInteractive(key) {\n",
              "          const element = document.querySelector('#df-f90b2023-c1f0-492d-8318-7b3361515937');\n",
              "          const dataTable =\n",
              "            await google.colab.kernel.invokeFunction('convertToInteractive',\n",
              "                                                     [key], {});\n",
              "          if (!dataTable) return;\n",
              "\n",
              "          const docLinkHtml = 'Like what you see? Visit the ' +\n",
              "            '<a target=\"_blank\" href=https://colab.research.google.com/notebooks/data_table.ipynb>data table notebook</a>'\n",
              "            + ' to learn more about interactive tables.';\n",
              "          element.innerHTML = '';\n",
              "          dataTable['output_type'] = 'display_data';\n",
              "          await google.colab.output.renderOutput(dataTable, element);\n",
              "          const docLink = document.createElement('div');\n",
              "          docLink.innerHTML = docLinkHtml;\n",
              "          element.appendChild(docLink);\n",
              "        }\n",
              "      </script>\n",
              "    </div>\n",
              "  </div>\n",
              "  "
            ],
            "text/plain": [
              "                        artsy_id                         name  \\\n",
              "22221   61e7987ef82abd000c0fb200  Salute (White) Artist Proof   \n",
              "179437  61e7987ef82abd000c0fb200  Salute (White) Artist Proof   \n",
              "\n",
              "                                                     link  year  \\\n",
              "22221   https://d32dm0rphc51dk.cloudfront.net/wkoV4skP...  2021   \n",
              "179437  https://d32dm0rphc51dk.cloudfront.net/wkoV4skP...  2021   \n",
              "\n",
              "                                                   artist     gallery  \\\n",
              "22221   Shen Jingdong 沈敬东Salute (White) Artist Proof, ...  SimpleArte   \n",
              "179437  Shen Jingdong 沈敬东Salute (White) Artist Proof, ...     iCare4U   \n",
              "\n",
              "          price gene_id category_id parsing_date updating_date  \n",
              "22221   US$700    08008          08   2022-04-08    2022-04-08  \n",
              "179437  US$700    08005          08   2022-04-18    2022-04-18  "
            ]
          },
          "execution_count": 308,
          "metadata": {},
          "output_type": "execute_result"
        }
      ],
      "source": [
        "inx = 0\n",
        "df_cat_dat_total.loc[df_cat_dat_total['artsy_id']==id_prob_gallery[inx]]"
      ]
    },
    {
      "cell_type": "code",
      "execution_count": null,
      "metadata": {
        "colab": {
          "base_uri": "https://localhost:8080/"
        },
        "id": "akVWIziiJl2r",
        "outputId": "8e51ccd2-5a3e-4aff-c68b-f4db60cd8494"
      },
      "outputs": [
        {
          "data": {
            "text/plain": [
              "array(['SimpleArte', 'iCare4U'], dtype=object)"
            ]
          },
          "execution_count": 309,
          "metadata": {},
          "output_type": "execute_result"
        }
      ],
      "source": [
        "inx_list = df_cat_dat_total.loc[df_cat_dat_total['artsy_id']==id_prob_gallery[inx]].index.tolist()\n",
        "\n",
        "gallery_list = df_cat_dat_total.loc[df_cat_dat_total['artsy_id']==id_prob_gallery[inx]]['gallery'].unique()\n",
        "gallery_list"
      ]
    },
    {
      "cell_type": "code",
      "execution_count": null,
      "metadata": {
        "id": "XKRcz1mMJ2uF"
      },
      "outputs": [],
      "source": [
        "for i in inx_list:\n",
        "  df_cat_dat_total.at[i, 'gallery'] = gallery_list[0]"
      ]
    },
    {
      "cell_type": "markdown",
      "metadata": {
        "id": "yQ-3r7pHv5UX"
      },
      "source": [
        "#### artist"
      ]
    },
    {
      "cell_type": "code",
      "execution_count": 215,
      "metadata": {
        "colab": {
          "base_uri": "https://localhost:8080/"
        },
        "id": "BnuwukCDvxQt",
        "outputId": "dced0091-41bc-4adf-838a-1f2a328faac4"
      },
      "outputs": [
        {
          "output_type": "execute_result",
          "data": {
            "text/plain": [
              "56"
            ]
          },
          "metadata": {},
          "execution_count": 215
        }
      ],
      "source": [
        "artsy_id_artist = df_cat_dat_total[['artsy_id', 'artist']]\n",
        "artsy_id_artist.drop_duplicates(subset = ['artist', 'artsy_id'], keep = 'first', inplace = True)\n",
        "id_artist_g = artsy_id_artist.groupby(['artsy_id'])['artist'].agg(['count']).reset_index()\n",
        "\n",
        "id_prob_artist = id_artist_g.loc[id_artist_g['count']>1]['artsy_id'].tolist()\n",
        "len(id_prob_artist)"
      ]
    },
    {
      "cell_type": "code",
      "execution_count": null,
      "metadata": {
        "colab": {
          "base_uri": "https://localhost:8080/",
          "height": 315
        },
        "id": "3YkzWRrhv7v-",
        "outputId": "75672156-9497-4838-bcda-284aa2856bea"
      },
      "outputs": [
        {
          "data": {
            "text/html": [
              "\n",
              "  <div id=\"df-0176f48e-6533-48b2-a15d-12e930ab81a2\">\n",
              "    <div class=\"colab-df-container\">\n",
              "      <div>\n",
              "<style scoped>\n",
              "    .dataframe tbody tr th:only-of-type {\n",
              "        vertical-align: middle;\n",
              "    }\n",
              "\n",
              "    .dataframe tbody tr th {\n",
              "        vertical-align: top;\n",
              "    }\n",
              "\n",
              "    .dataframe thead th {\n",
              "        text-align: right;\n",
              "    }\n",
              "</style>\n",
              "<table border=\"1\" class=\"dataframe\">\n",
              "  <thead>\n",
              "    <tr style=\"text-align: right;\">\n",
              "      <th></th>\n",
              "      <th>artsy_id</th>\n",
              "      <th>name</th>\n",
              "      <th>link</th>\n",
              "      <th>year</th>\n",
              "      <th>artist</th>\n",
              "      <th>gallery</th>\n",
              "      <th>price</th>\n",
              "      <th>gene_id</th>\n",
              "      <th>category_id</th>\n",
              "      <th>parsing_date</th>\n",
              "      <th>updating_date</th>\n",
              "    </tr>\n",
              "  </thead>\n",
              "  <tbody>\n",
              "    <tr>\n",
              "      <th>5106</th>\n",
              "      <td>5c75c7b07f2e1f1daf553e74</td>\n",
              "      <td>Homage to the Square: Full (Rug)</td>\n",
              "      <td>https://d32dm0rphc51dk.cloudfront.net/Y-veD8oj...</td>\n",
              "      <td>Current production based on 1962 work</td>\n",
              "      <td>Josef AlbersHomage to the Square: Full (Rug), ...</td>\n",
              "      <td>Artware Editions</td>\n",
              "      <td>US$1,250</td>\n",
              "      <td>13003</td>\n",
              "      <td>13</td>\n",
              "      <td>2022-04-09</td>\n",
              "      <td>2022-04-09</td>\n",
              "    </tr>\n",
              "    <tr>\n",
              "      <th>14367</th>\n",
              "      <td>5c75c7b07f2e1f1daf553e74</td>\n",
              "      <td>Homage to the Square: Full (Rug)</td>\n",
              "      <td>https://d32dm0rphc51dk.cloudfront.net/Y-veD8oj...</td>\n",
              "      <td>Current production based on 1962 work</td>\n",
              "      <td>Josef AlbersHomage to the Square: Full (Rug), ...</td>\n",
              "      <td>Artware Editions</td>\n",
              "      <td>US$1,250</td>\n",
              "      <td>13005</td>\n",
              "      <td>13</td>\n",
              "      <td>2022-04-19</td>\n",
              "      <td>2022-04-19</td>\n",
              "    </tr>\n",
              "  </tbody>\n",
              "</table>\n",
              "</div>\n",
              "      <button class=\"colab-df-convert\" onclick=\"convertToInteractive('df-0176f48e-6533-48b2-a15d-12e930ab81a2')\"\n",
              "              title=\"Convert this dataframe to an interactive table.\"\n",
              "              style=\"display:none;\">\n",
              "        \n",
              "  <svg xmlns=\"http://www.w3.org/2000/svg\" height=\"24px\"viewBox=\"0 0 24 24\"\n",
              "       width=\"24px\">\n",
              "    <path d=\"M0 0h24v24H0V0z\" fill=\"none\"/>\n",
              "    <path d=\"M18.56 5.44l.94 2.06.94-2.06 2.06-.94-2.06-.94-.94-2.06-.94 2.06-2.06.94zm-11 1L8.5 8.5l.94-2.06 2.06-.94-2.06-.94L8.5 2.5l-.94 2.06-2.06.94zm10 10l.94 2.06.94-2.06 2.06-.94-2.06-.94-.94-2.06-.94 2.06-2.06.94z\"/><path d=\"M17.41 7.96l-1.37-1.37c-.4-.4-.92-.59-1.43-.59-.52 0-1.04.2-1.43.59L10.3 9.45l-7.72 7.72c-.78.78-.78 2.05 0 2.83L4 21.41c.39.39.9.59 1.41.59.51 0 1.02-.2 1.41-.59l7.78-7.78 2.81-2.81c.8-.78.8-2.07 0-2.86zM5.41 20L4 18.59l7.72-7.72 1.47 1.35L5.41 20z\"/>\n",
              "  </svg>\n",
              "      </button>\n",
              "      \n",
              "  <style>\n",
              "    .colab-df-container {\n",
              "      display:flex;\n",
              "      flex-wrap:wrap;\n",
              "      gap: 12px;\n",
              "    }\n",
              "\n",
              "    .colab-df-convert {\n",
              "      background-color: #E8F0FE;\n",
              "      border: none;\n",
              "      border-radius: 50%;\n",
              "      cursor: pointer;\n",
              "      display: none;\n",
              "      fill: #1967D2;\n",
              "      height: 32px;\n",
              "      padding: 0 0 0 0;\n",
              "      width: 32px;\n",
              "    }\n",
              "\n",
              "    .colab-df-convert:hover {\n",
              "      background-color: #E2EBFA;\n",
              "      box-shadow: 0px 1px 2px rgba(60, 64, 67, 0.3), 0px 1px 3px 1px rgba(60, 64, 67, 0.15);\n",
              "      fill: #174EA6;\n",
              "    }\n",
              "\n",
              "    [theme=dark] .colab-df-convert {\n",
              "      background-color: #3B4455;\n",
              "      fill: #D2E3FC;\n",
              "    }\n",
              "\n",
              "    [theme=dark] .colab-df-convert:hover {\n",
              "      background-color: #434B5C;\n",
              "      box-shadow: 0px 1px 3px 1px rgba(0, 0, 0, 0.15);\n",
              "      filter: drop-shadow(0px 1px 2px rgba(0, 0, 0, 0.3));\n",
              "      fill: #FFFFFF;\n",
              "    }\n",
              "  </style>\n",
              "\n",
              "      <script>\n",
              "        const buttonEl =\n",
              "          document.querySelector('#df-0176f48e-6533-48b2-a15d-12e930ab81a2 button.colab-df-convert');\n",
              "        buttonEl.style.display =\n",
              "          google.colab.kernel.accessAllowed ? 'block' : 'none';\n",
              "\n",
              "        async function convertToInteractive(key) {\n",
              "          const element = document.querySelector('#df-0176f48e-6533-48b2-a15d-12e930ab81a2');\n",
              "          const dataTable =\n",
              "            await google.colab.kernel.invokeFunction('convertToInteractive',\n",
              "                                                     [key], {});\n",
              "          if (!dataTable) return;\n",
              "\n",
              "          const docLinkHtml = 'Like what you see? Visit the ' +\n",
              "            '<a target=\"_blank\" href=https://colab.research.google.com/notebooks/data_table.ipynb>data table notebook</a>'\n",
              "            + ' to learn more about interactive tables.';\n",
              "          element.innerHTML = '';\n",
              "          dataTable['output_type'] = 'display_data';\n",
              "          await google.colab.output.renderOutput(dataTable, element);\n",
              "          const docLink = document.createElement('div');\n",
              "          docLink.innerHTML = docLinkHtml;\n",
              "          element.appendChild(docLink);\n",
              "        }\n",
              "      </script>\n",
              "    </div>\n",
              "  </div>\n",
              "  "
            ],
            "text/plain": [
              "                       artsy_id                              name  \\\n",
              "5106   5c75c7b07f2e1f1daf553e74  Homage to the Square: Full (Rug)   \n",
              "14367  5c75c7b07f2e1f1daf553e74  Homage to the Square: Full (Rug)   \n",
              "\n",
              "                                                    link  \\\n",
              "5106   https://d32dm0rphc51dk.cloudfront.net/Y-veD8oj...   \n",
              "14367  https://d32dm0rphc51dk.cloudfront.net/Y-veD8oj...   \n",
              "\n",
              "                                        year  \\\n",
              "5106   Current production based on 1962 work   \n",
              "14367  Current production based on 1962 work   \n",
              "\n",
              "                                                  artist           gallery  \\\n",
              "5106   Josef AlbersHomage to the Square: Full (Rug), ...  Artware Editions   \n",
              "14367  Josef AlbersHomage to the Square: Full (Rug), ...  Artware Editions   \n",
              "\n",
              "           price gene_id category_id parsing_date updating_date  \n",
              "5106   US$1,250    13003          13   2022-04-09    2022-04-09  \n",
              "14367  US$1,250    13005          13   2022-04-19    2022-04-19  "
            ]
          },
          "execution_count": 756,
          "metadata": {},
          "output_type": "execute_result"
        }
      ],
      "source": [
        "inx = 0\n",
        "df_cat_dat_total.loc[df_cat_dat_total['artsy_id']==id_prob_artist[inx]]"
      ]
    },
    {
      "cell_type": "code",
      "execution_count": null,
      "metadata": {
        "colab": {
          "base_uri": "https://localhost:8080/"
        },
        "id": "rZLitxNMv7sa",
        "outputId": "2758c723-e960-4d1d-8d81-13b12d37ea04"
      },
      "outputs": [
        {
          "data": {
            "text/plain": [
              "array(['Josef AlbersHomage to the Square: Full (Rug), Current production based on 1962 workArtware EditionsSold ',\n",
              "       'Josef AlbersHomage to the Square: Full (Rug), Current production based on 1962 workArtware EditionsUS$1,250 '],\n",
              "      dtype=object)"
            ]
          },
          "execution_count": 757,
          "metadata": {},
          "output_type": "execute_result"
        }
      ],
      "source": [
        "inx_list = df_cat_dat_total.loc[df_cat_dat_total['artsy_id']==id_prob_artist[inx]].index.tolist()\n",
        "\n",
        "df_cat_dat_total.loc[df_cat_dat_total['artsy_id']==id_prob_artist[inx]]['artist'].unique()"
      ]
    },
    {
      "cell_type": "code",
      "execution_count": null,
      "metadata": {
        "id": "qLei0Yt0v7pP"
      },
      "outputs": [],
      "source": [
        "for i in inx_list:\n",
        "  df_cat_dat_total.at[i, 'artist'] = 'Josef Albers'"
      ]
    },
    {
      "cell_type": "code",
      "source": [
        "# OR !!!!!!!!!!!!!!!"
      ],
      "metadata": {
        "id": "msw_rWCU_NyA"
      },
      "execution_count": null,
      "outputs": []
    },
    {
      "cell_type": "code",
      "source": [
        "for inx in id_prob_artist:\n",
        "  inx_list = df_cat_dat_total.loc[df_cat_dat_total['artsy_id']==inx].index.tolist()\n",
        "  artists_list = df_cat_dat_total.loc[df_cat_dat_total['artsy_id']==inx]['artist'].unique()\n",
        "  for i in inx_list:\n",
        "    df_cat_dat_total.at[i, 'artist'] = artists_list[0]"
      ],
      "metadata": {
        "id": "kp8QA1CL_PhE"
      },
      "execution_count": 216,
      "outputs": []
    },
    {
      "cell_type": "markdown",
      "metadata": {
        "id": "3-9TkSSyjXTH"
      },
      "source": [
        "#### dates"
      ]
    },
    {
      "cell_type": "code",
      "execution_count": null,
      "metadata": {
        "colab": {
          "base_uri": "https://localhost:8080/",
          "height": 35
        },
        "id": "RtzY24RwH4CQ",
        "outputId": "78bd1a9e-74f6-4184-fa7b-5981394a1f05"
      },
      "outputs": [
        {
          "data": {
            "application/vnd.google.colaboratory.intrinsic+json": {
              "type": "string"
            },
            "text/plain": [
              "'2022-04-19'"
            ]
          },
          "execution_count": 759,
          "metadata": {},
          "output_type": "execute_result"
        }
      ],
      "source": [
        "df_cat_dat_total['parsing_date'].max()"
      ]
    },
    {
      "cell_type": "code",
      "execution_count": null,
      "metadata": {
        "colab": {
          "base_uri": "https://localhost:8080/",
          "height": 35
        },
        "id": "rYW9mK2FH7I_",
        "outputId": "47ce625b-7e85-4c52-9c99-a10412831f30"
      },
      "outputs": [
        {
          "data": {
            "application/vnd.google.colaboratory.intrinsic+json": {
              "type": "string"
            },
            "text/plain": [
              "'2022-04-09'"
            ]
          },
          "execution_count": 760,
          "metadata": {},
          "output_type": "execute_result"
        }
      ],
      "source": [
        "df_cat_dat_total['parsing_date'].min()"
      ]
    },
    {
      "cell_type": "code",
      "execution_count": null,
      "metadata": {
        "id": "QUpirb7biP8M"
      },
      "outputs": [],
      "source": [
        "date = df_cat_dat_total['parsing_date'].unique().min()\n",
        "df_cat_dat_total['parsing_date'] = date\n",
        "df_cat_dat_total['updating_date'] = date"
      ]
    },
    {
      "cell_type": "markdown",
      "metadata": {
        "id": "opwQ-_zIjSCg"
      },
      "source": [
        "#### check"
      ]
    },
    {
      "cell_type": "code",
      "execution_count": 324,
      "metadata": {
        "colab": {
          "base_uri": "https://localhost:8080/"
        },
        "id": "EUGGI4SmxNaG",
        "outputId": "726d49e1-6054-494a-ae5b-38cc4f31b406"
      },
      "outputs": [
        {
          "output_type": "stream",
          "name": "stdout",
          "text": [
            "263\n",
            "263\n",
            "263\n"
          ]
        }
      ],
      "source": [
        "# 'name', - ???\n",
        "one_to_one = df_cat_dat_total.groupby(['artsy_id', 'name', 'link', 'artist', 'price', 'parsing_date', 'updating_date'])['category_id'].agg(['count']).reset_index()\n",
        "\n",
        "print(df_cat_dat_total['artsy_id'].nunique())\n",
        "print(one_to_one['artsy_id'].count())\n",
        "print(one_to_one['artsy_id'].nunique())"
      ]
    },
    {
      "cell_type": "code",
      "execution_count": 325,
      "metadata": {
        "id": "8EOTm5XMh54h"
      },
      "outputs": [],
      "source": [
        "#save_df_file(df_cat_dat_total, '/artsy_temp_data_add.csv', 'backup') # 4. Save df to csv file\n",
        "save_df_file(df_cat_dat_total, '/artsy_temp_data_new_gene.csv', 'backup') # 4. Save df to csv file"
      ]
    },
    {
      "cell_type": "markdown",
      "metadata": {
        "id": "ZS_6uxf4mtko"
      },
      "source": [
        "## Dict creating"
      ]
    },
    {
      "cell_type": "code",
      "execution_count": 326,
      "metadata": {
        "colab": {
          "base_uri": "https://localhost:8080/"
        },
        "id": "_oHreWONfZeS",
        "outputId": "f2ff0ae8-47cb-444b-8255-77761237909c"
      },
      "outputs": [
        {
          "output_type": "stream",
          "name": "stdout",
          "text": [
            "<class 'pandas.core.frame.DataFrame'>\n",
            "RangeIndex: 263 entries, 0 to 262\n",
            "Data columns (total 11 columns):\n",
            " #   Column         Non-Null Count  Dtype \n",
            "---  ------         --------------  ----- \n",
            " 0   artsy_id       263 non-null    object\n",
            " 1   name           263 non-null    object\n",
            " 2   link           263 non-null    object\n",
            " 3   year           257 non-null    object\n",
            " 4   artist         263 non-null    object\n",
            " 5   gallery        263 non-null    object\n",
            " 6   price          263 non-null    object\n",
            " 7   gene_id        263 non-null    object\n",
            " 8   category_id    263 non-null    object\n",
            " 9   parsing_date   263 non-null    object\n",
            " 10  updating_date  263 non-null    object\n",
            "dtypes: object(11)\n",
            "memory usage: 22.7+ KB\n"
          ]
        }
      ],
      "source": [
        "#df_cat_dat_total = open_file_csv('/artsy_temp_data_11.csv', 'backup') # 3. Open file.csv\n",
        "# '/artsy_temp_data_add.csv'\n",
        "\n",
        "df_cat_dat_total.info()"
      ]
    },
    {
      "cell_type": "code",
      "execution_count": null,
      "metadata": {
        "id": "nqBQJbpAgTWX"
      },
      "outputs": [],
      "source": [
        "#df_cat_dat_total['category_id'] = df_cat_dat_total['category_id'].dropna().apply(lambda x: str(x) if len(str(x))==cat_id_len else ('0'*(cat_id_len-len(str(x)))+str(x)))\n",
        "#df_cat_dat_total['gene_id'] = df_cat_dat_total['gene_id'].dropna().apply(lambda x: str(x) if len(str(x))==gen_id_len else ('0'*(gen_id_len-len(str(x)))+str(x)))"
      ]
    },
    {
      "cell_type": "code",
      "execution_count": 327,
      "metadata": {
        "colab": {
          "base_uri": "https://localhost:8080/"
        },
        "id": "o7nx1MZRgctp",
        "outputId": "03a29e5c-6554-462b-e948-2a3aea2f25ef"
      },
      "outputs": [
        {
          "output_type": "execute_result",
          "data": {
            "text/plain": [
              "array(['06'], dtype=object)"
            ]
          },
          "metadata": {},
          "execution_count": 327
        }
      ],
      "source": [
        "df_cat_dat_total['category_id'].unique()"
      ]
    },
    {
      "cell_type": "markdown",
      "metadata": {
        "id": "oy5z7vjxUDA1"
      },
      "source": [
        "### artworks_dict"
      ]
    },
    {
      "cell_type": "markdown",
      "metadata": {
        "id": "HQ1NM7QYUGhb"
      },
      "source": [
        "#### initiation"
      ]
    },
    {
      "cell_type": "code",
      "execution_count": null,
      "metadata": {
        "id": "r3Kw50TXYFHw"
      },
      "outputs": [],
      "source": [
        "#artworks_dict = {'artsy_id': {'name': 'Portrait of a Man in Armour', \n",
        "#                              'link': 'https://d32dm0rphc51dk.cloudfront.net/yaB__0LXFvbXC4jiUK4Vpw/large.jpg', \n",
        "#                              'year': 'ca. 1560',\n",
        "#                              'artist_id': '000000', # Jacopo Bassano\n",
        "#                              -- 'gallery_id': '000000', # Robilant+Voena\n",
        "#                              'price': 'Price on request',\n",
        "#                              'gene_id': ['21603', ''],\n",
        "#                              'category_id': ['03', '']}}"
      ]
    },
    {
      "cell_type": "markdown",
      "metadata": {
        "id": "9eLcIq8yjCmh"
      },
      "source": [
        "***One to one connections***\n",
        "\n",
        "Let's create a dict from complete data."
      ]
    },
    {
      "cell_type": "code",
      "execution_count": 328,
      "metadata": {
        "colab": {
          "base_uri": "https://localhost:8080/"
        },
        "id": "DNxZoTXvi9Du",
        "outputId": "7c08403c-8ac8-4da8-bd57-eb17651803ee"
      },
      "outputs": [
        {
          "output_type": "stream",
          "name": "stdout",
          "text": [
            "263\n",
            "263\n",
            "263\n"
          ]
        }
      ],
      "source": [
        "# 'name' - ??? !!!\n",
        "one_to_one = df_cat_dat_total.groupby(['artsy_id', 'name', 'link', 'artist', 'price', 'parsing_date', 'updating_date'])['category_id'].agg(['count']).reset_index().drop('count', axis=1)\n",
        "\n",
        "check_id_list = one_to_one['artsy_id'].sample(10).tolist()\n",
        "\n",
        "print(df_cat_dat_total['artsy_id'].nunique())\n",
        "print(one_to_one['artsy_id'].count())\n",
        "print(one_to_one['artsy_id'].nunique())"
      ]
    },
    {
      "cell_type": "code",
      "execution_count": 329,
      "metadata": {
        "colab": {
          "base_uri": "https://localhost:8080/"
        },
        "id": "5x440udYo9iB",
        "outputId": "94458c0a-9076-4f16-cdfa-fb82efbc7710"
      },
      "outputs": [
        {
          "output_type": "execute_result",
          "data": {
            "text/plain": [
              "263"
            ]
          },
          "metadata": {},
          "execution_count": 329
        }
      ],
      "source": [
        "# Dict creation\n",
        "artworks_dict = one_to_one.set_index('artsy_id').to_dict('index')\n",
        "len(artworks_dict)"
      ]
    },
    {
      "cell_type": "code",
      "execution_count": 330,
      "metadata": {
        "colab": {
          "base_uri": "https://localhost:8080/"
        },
        "id": "gUp8kJW7pRWx",
        "outputId": "26e328d3-6682-4584-c25c-497a73d95680"
      },
      "outputs": [
        {
          "output_type": "stream",
          "name": "stdout",
          "text": [
            "{'name': 'La gente que canta y baila', 'link': 'https://d32dm0rphc51dk.cloudfront.net/29qaUsaaRjov5tv5L-cwng/large.jpg', 'artist': 'Daniel BermanLa gente que canta y baila, 2022CAM GaleríaUS$1,600 ', 'price': 'US$1,600 ', 'parsing_date': '2022-04-20', 'updating_date': '2022-04-20'}\n",
            "{'name': \"Driver's Seat\", 'link': 'https://d32dm0rphc51dk.cloudfront.net/cNhBCQ4W2zHxEybNqxMGfg/large.jpg', 'artist': \"Udi CassirerDriver's Seat, 2022Maggio Art ConsultancyUS$100 \", 'price': 'US$100 ', 'parsing_date': '2022-04-20', 'updating_date': '2022-04-20'}\n",
            "{'name': 'QUEER BLOOD AMERICA (Black/Red)', 'link': 'https://d32dm0rphc51dk.cloudfront.net/XPhpK9xz2NayVzVkTLb0mw/large.jpg', 'artist': 'Jordan EaglesQUEER BLOOD AMERICA (Black/Red), 2021New DiscretionsPrice on request ', 'price': 'Price on request ', 'parsing_date': '2022-04-20', 'updating_date': '2022-04-20'}\n",
            "{'name': 'Like Diamond (NFT) - photo, contemporary art, pop art', 'link': 'https://d32dm0rphc51dk.cloudfront.net/D7m3N7faQVKETy-UQ8YhVQ/large.jpg', 'artist': 'Clairé HillsLike Diamond (NFT) - photo, contemporary art, pop art, 2020Santiago Soares GalleryUS$12,563 ', 'price': 'US$12,563 ', 'parsing_date': '2022-04-20', 'updating_date': '2022-04-20'}\n",
            "{'name': '14:30', 'link': 'https://d32dm0rphc51dk.cloudfront.net/-NPueWFF2kQPULiFDHGd5Q/large.jpg', 'artist': 'Oleksii Yevdokimov14:30, 2021Promotion GalleryUS$7 ', 'price': 'US$7 ', 'parsing_date': '2022-04-20', 'updating_date': '2022-04-20'}\n",
            "{'name': 'Soft Body Dynamics 40', 'link': 'https://d32dm0rphc51dk.cloudfront.net/xJwzX8EeFAnqZdz_wPE8gg/large.jpg', 'artist': 'Vickie VainionpaaSoft Body Dynamics 40, 2021GR GallerySold ', 'price': 'Sold ', 'parsing_date': '2022-04-20', 'updating_date': '2022-04-20'}\n",
            "{'name': 'XL Air #1', 'link': 'https://d32dm0rphc51dk.cloudfront.net/Z9dymW9fKvHQg1H3231BXw/large.jpg', 'artist': 'Pedro FriedebergXL Air #1, 2022CAM GaleríaUS$3,900 ', 'price': 'US$3,900 ', 'parsing_date': '2022-04-20', 'updating_date': '2022-04-20'}\n",
            "{'name': 'Hold each other tight | NFT', 'link': 'https://d32dm0rphc51dk.cloudfront.net/5QshJoHWDSKP24ExL-BziA/large.jpg', 'artist': 'Nika QuteliaHold each other tight | NFT, 2022ArtUp - Street GallerySold ', 'price': 'Sold ', 'parsing_date': '2022-04-20', 'updating_date': '2022-04-20'}\n",
            "{'name': '\"B\"', 'link': 'https://d32dm0rphc51dk.cloudfront.net/W7xGQB0VSsLTlgHcYvMh8w/large.jpg', 'artist': 'Elia Panori\"B\", 2022Almach Art GalleryUS$2,000 ', 'price': 'US$2,000 ', 'parsing_date': '2022-04-20', 'updating_date': '2022-04-20'}\n",
            "{'name': 'V (NFT) - surreal, figurative, pop art', 'link': 'https://d32dm0rphc51dk.cloudfront.net/Is4LSUPusQAIw-N6HSlW_g/large.jpg', 'artist': 'Clairé HillsV (NFT) - surreal, figurative, pop art, 2019Santiago Soares GalleryUS$666 ', 'price': 'US$666 ', 'parsing_date': '2022-04-20', 'updating_date': '2022-04-20'}\n"
          ]
        }
      ],
      "source": [
        "for id in check_id_list:\n",
        "  print(artworks_dict[id])"
      ]
    },
    {
      "cell_type": "markdown",
      "metadata": {
        "id": "FRMDWRqKUGH3"
      },
      "source": [
        "#### expansion"
      ]
    },
    {
      "cell_type": "code",
      "execution_count": null,
      "metadata": {
        "id": "FdgGgO5F-uiH"
      },
      "outputs": [],
      "source": [
        "#artworks_dict = open_dict(artwork_dict)"
      ]
    },
    {
      "cell_type": "markdown",
      "metadata": {
        "id": "eMNK7tHCpfi_"
      },
      "source": [
        "Columns with NaNs:\n",
        "- 'name' (not always), 'year', 'gallery'\n",
        "- ***one to one connection***\n",
        "- info is in the **df**"
      ]
    },
    {
      "cell_type": "code",
      "execution_count": 234,
      "metadata": {
        "id": "B06Bobt8sI87"
      },
      "outputs": [],
      "source": [
        "# one to one connection from df\n",
        "def artwork_dict_expan_oto(df, main_dict, param):\n",
        "  group_df = df.groupby(['artsy_id', param])['category_id'].agg(['count']).reset_index().drop('count', axis=1)\n",
        "  group_dict = group_df.set_index('artsy_id').to_dict('index')\n",
        "\n",
        "  for k in main_dict:\n",
        "    if k in group_dict.keys():\n",
        "      main_dict[k].update(group_dict[k])\n",
        "    else:\n",
        "      main_dict[k].update({param: ' '}) # !!!!\n",
        "\n",
        "# one to many connection from df\n",
        "def artwork_dict_expan_otm(df, main_dict, param):\n",
        "  group_df = df.groupby(['artsy_id'])[param].apply(list).apply(set).apply(list).reset_index(name=param)\n",
        "  group_dict = group_df.set_index('artsy_id').to_dict('index')\n",
        "\n",
        "  for k in main_dict:\n",
        "    if k in group_dict.keys():\n",
        "      main_dict[k].update(group_dict[k])\n",
        "    else:\n",
        "      main_dict[k].update({param: [' ']}) # !!!!"
      ]
    },
    {
      "cell_type": "code",
      "execution_count": 331,
      "metadata": {
        "id": "fDpLo9TWq4qr"
      },
      "outputs": [],
      "source": [
        "# name - !!!!!!\n",
        "#artwork_dict_expan_oto(df_cat_dat_total, artworks_dict, 'name')\n",
        "# year\n",
        "artwork_dict_expan_oto(df_cat_dat_total, artworks_dict, 'year')\n",
        "# gallery\n",
        "artwork_dict_expan_oto(df_cat_dat_total, artworks_dict, 'gallery')"
      ]
    },
    {
      "cell_type": "code",
      "execution_count": 332,
      "metadata": {
        "colab": {
          "base_uri": "https://localhost:8080/"
        },
        "id": "FODpd0tUru2i",
        "outputId": "ece372d9-f0e3-44b5-a74f-ebbec43c104e"
      },
      "outputs": [
        {
          "output_type": "stream",
          "name": "stdout",
          "text": [
            "name: La gente que canta y baila year: 2022 gallery: CAM Galería\n",
            "name: Driver's Seat year: 2022 gallery: Maggio Art Consultancy\n",
            "name: QUEER BLOOD AMERICA (Black/Red) year: 2021 gallery: New Discretions\n",
            "name: Like Diamond (NFT) - photo, contemporary art, pop art year: 2020 gallery: Santiago Soares Gallery\n",
            "name: 14:30 year: 2021 gallery: Promotion Gallery\n",
            "name: Soft Body Dynamics 40 year: 2021 gallery: GR Gallery\n",
            "name: XL Air #1 year: 2022 gallery: CAM Galería\n",
            "name: Hold each other tight | NFT year: 2022 gallery: ArtUp - Street Gallery\n",
            "name: \"B\" year: 2022 gallery: Almach Art Gallery\n",
            "name: V (NFT) - surreal, figurative, pop art year: 2019 gallery: Santiago Soares Gallery\n"
          ]
        }
      ],
      "source": [
        "for id in check_id_list:\n",
        "  print('name:', artworks_dict[id]['name'], 'year:', artworks_dict[id]['year'], 'gallery:', artworks_dict[id]['gallery'])"
      ]
    },
    {
      "cell_type": "markdown",
      "metadata": {
        "id": "qlAlLzG1ytV3"
      },
      "source": [
        "Columns with repeating values:\n",
        "- 'gene_id', 'category_id'\n",
        "- list type parametr - ***one to many connection***\n",
        "- id info is in the **df**"
      ]
    },
    {
      "cell_type": "code",
      "source": [
        "# category_id\n",
        "artwork_dict_expan_otm(df_cat_dat_total, artworks_dict, 'category_id')\n",
        "# gene_id\n",
        "artwork_dict_expan_otm(df_cat_dat_total, artworks_dict, 'gene_id')"
      ],
      "metadata": {
        "id": "qQSVs1eHBGO_"
      },
      "execution_count": 333,
      "outputs": []
    },
    {
      "cell_type": "code",
      "execution_count": 334,
      "metadata": {
        "colab": {
          "base_uri": "https://localhost:8080/"
        },
        "id": "QQSsw0MMyvm9",
        "outputId": "ca023f0c-56f9-466d-963e-234daa3a90f8"
      },
      "outputs": [
        {
          "output_type": "stream",
          "name": "stdout",
          "text": [
            "category_id: ['06'] gene_id: ['06176']\n",
            "category_id: ['06'] gene_id: ['06176']\n",
            "category_id: ['06'] gene_id: ['06176']\n",
            "category_id: ['06'] gene_id: ['06176']\n",
            "category_id: ['06'] gene_id: ['06176']\n",
            "category_id: ['06'] gene_id: ['06176']\n",
            "category_id: ['06'] gene_id: ['06176']\n",
            "category_id: ['06'] gene_id: ['06176']\n",
            "category_id: ['06'] gene_id: ['06176']\n",
            "category_id: ['06'] gene_id: ['06176']\n"
          ]
        }
      ],
      "source": [
        "for id in check_id_list:\n",
        "  print('category_id:', artworks_dict[id]['category_id'], 'gene_id:', artworks_dict[id]['gene_id'])"
      ]
    },
    {
      "cell_type": "code",
      "execution_count": 335,
      "metadata": {
        "id": "t4LW0ISv-lP7"
      },
      "outputs": [],
      "source": [
        "#save_dict(artworks_dict, '/artsy_genom_artwork_dict_add.txt', 'backup') # 1. Save json dict\n",
        "save_dict(artworks_dict, '/artsy_genom_artwork_dict_new_gene.txt', 'backup') # 1. Save json dict"
      ]
    },
    {
      "cell_type": "markdown",
      "metadata": {
        "id": "YdkvYpZekCq9"
      },
      "source": [
        "#### artists name revision"
      ]
    },
    {
      "cell_type": "code",
      "execution_count": 336,
      "metadata": {
        "id": "hBHwS7uVgvTs"
      },
      "outputs": [],
      "source": [
        "#artworks_dict = open_dict(artwork_dict, 'live')\n",
        "#print(len(artworks_dict))"
      ]
    },
    {
      "cell_type": "code",
      "execution_count": 337,
      "metadata": {
        "colab": {
          "base_uri": "https://localhost:8080/"
        },
        "id": "tPV5ZY4U_6H5",
        "outputId": "1cfc60bf-8129-46d0-c2ef-7753912821c5"
      },
      "outputs": [
        {
          "output_type": "execute_result",
          "data": {
            "text/plain": [
              "{'62190e6f3deebf000b70506d': {'artist': 'Daniel BermanLa gente que canta y baila, 2022CAM GaleríaUS$1,600 ',\n",
              "  'category_id': ['06'],\n",
              "  'gallery': 'CAM Galería',\n",
              "  'gene_id': ['06176'],\n",
              "  'link': 'https://d32dm0rphc51dk.cloudfront.net/29qaUsaaRjov5tv5L-cwng/large.jpg',\n",
              "  'name': 'La gente que canta y baila',\n",
              "  'parsing_date': '2022-04-20',\n",
              "  'price': 'US$1,600 ',\n",
              "  'updating_date': '2022-04-20',\n",
              "  'year': '2022'}}"
            ]
          },
          "metadata": {},
          "execution_count": 337
        }
      ],
      "source": [
        "filtered_dict = {k: v for k, v in artworks_dict.items() if k == check_id_list[0]} # v['artist_id'] == '00047'\n",
        "filtered_dict"
      ]
    },
    {
      "cell_type": "code",
      "execution_count": 338,
      "metadata": {
        "colab": {
          "base_uri": "https://localhost:8080/"
        },
        "id": "ad3Qbq18_-fb",
        "outputId": "320cce26-88c5-4453-a3eb-0b56938bc298"
      },
      "outputs": [
        {
          "output_type": "stream",
          "name": "stdout",
          "text": [
            "261\n"
          ]
        }
      ],
      "source": [
        "# Old data\n",
        "artists_name_list_old = [v['artist'] for v in artworks_dict.values()]\n",
        "\n",
        "artists_name_list_old_ = list(set(artists_name_list_old))\n",
        "print(len(artists_name_list_old_))"
      ]
    },
    {
      "cell_type": "code",
      "execution_count": 339,
      "metadata": {
        "colab": {
          "base_uri": "https://localhost:8080/"
        },
        "id": "oJBcep98ACH_",
        "outputId": "0ec21d26-6a62-4d0c-adf0-89194cab92b7"
      },
      "outputs": [
        {
          "output_type": "execute_result",
          "data": {
            "text/plain": [
              "['Charlie SteinSentient Bag (NFT), 2021PRISKA PASQUERUnder €1,000 ',\n",
              " 'Margret EicherShining Boys , 2021Galerie Michael JanssenUnder €1,000 ',\n",
              " 'GMUNKEthero Stratos, 2022Pellas GalleryUS$12,500 ',\n",
              " 'Udi CassirerView 11 (NFT) Digital Artwork 1998., 2021Maggio Art Consultancy£2,400 ',\n",
              " 'Zairan YuPilgrim, 2022Sun Art Space GalleryUS$300 ',\n",
              " 'Celia PattaciniFables of Eva - With love, Eva, 2021CHEGAMOSUS$4,000 ',\n",
              " 'Larva LabsCryptoPunk #4285, 2017Asia Art CenterPrice on request ',\n",
              " 'Marco Aurelio ReyGentileza (NFT), 2021Abba GalleryUS$300–US$500 ',\n",
              " 'Pedro FriedebergSana distancia (Alpha), 2021CAM GaleríaPrice on request ',\n",
              " 'The WeekndArtifact 001, 2021Plastic GalleryUS$1,000 ']"
            ]
          },
          "metadata": {},
          "execution_count": 339
        }
      ],
      "source": [
        "sample(artists_name_list_old, 10)"
      ]
    },
    {
      "cell_type": "code",
      "execution_count": 340,
      "metadata": {
        "id": "Nng70o9TACwP"
      },
      "outputs": [],
      "source": [
        "for v in artworks_dict.values():\n",
        "  v.update({'artist': v['artist'].replace(v['name'], '') if v['name']!=' ' else v['artist']})\n",
        "  v.update({'artist': v['artist'].replace(v['year'], '') if v['year']!=' ' else v['artist']})\n",
        "  v.update({'artist': v['artist'].replace(v['gallery'], '') if v['gallery']!=' ' else v['artist']})\n",
        "  v.update({'artist': v['artist'].replace(v['price'], '') if v['price']!=' ' else v['artist']})\n",
        "  v.update({'artist': 'Unknown' if len(v['artist'])==0 else v['artist']})\n",
        "  v.update({'artist': v['artist'].strip(u'\\u200b')})\n",
        "  v.update({'artist': re.sub(r'\\xa0|\\n|\\t', ' ', v['artist'])})\n",
        "  v.update({'artist': v['artist'].strip()})\n",
        "  v.update({'artist': v['artist'][:-1] if v['artist'][-1:]==',' else v['artist']})\n",
        "  try:\n",
        "    v.update({'artist': v['artist'][1:] if v['artist'][0]==',' else v['artist']})\n",
        "  except:\n",
        "    pass\n",
        "  v.update({'artist': v['artist'].strip()})\n",
        "  v.update({'artist': 'Unknown' if len(v['artist'])==0 else v['artist']})"
      ]
    },
    {
      "cell_type": "code",
      "execution_count": 341,
      "metadata": {
        "colab": {
          "base_uri": "https://localhost:8080/"
        },
        "id": "WY0ZiXc6AIVR",
        "outputId": "00907560-78c6-4df4-bc95-4d6ff6af9c43"
      },
      "outputs": [
        {
          "output_type": "execute_result",
          "data": {
            "text/plain": [
              "{'62190e6f3deebf000b70506d': {'artist': 'Daniel Berman',\n",
              "  'category_id': ['06'],\n",
              "  'gallery': 'CAM Galería',\n",
              "  'gene_id': ['06176'],\n",
              "  'link': 'https://d32dm0rphc51dk.cloudfront.net/29qaUsaaRjov5tv5L-cwng/large.jpg',\n",
              "  'name': 'La gente que canta y baila',\n",
              "  'parsing_date': '2022-04-20',\n",
              "  'price': 'US$1,600 ',\n",
              "  'updating_date': '2022-04-20',\n",
              "  'year': '2022'}}"
            ]
          },
          "metadata": {},
          "execution_count": 341
        }
      ],
      "source": [
        "filtered_dict = {k: v for k, v in artworks_dict.items() if k == check_id_list[0]} # v['artist_id'] == '00047'\n",
        "filtered_dict"
      ]
    },
    {
      "cell_type": "code",
      "execution_count": 342,
      "metadata": {
        "colab": {
          "base_uri": "https://localhost:8080/"
        },
        "id": "AIsyhMNmALRf",
        "outputId": "5a30f913-10ff-4924-fb9c-5b88d75eae8c"
      },
      "outputs": [
        {
          "output_type": "stream",
          "name": "stdout",
          "text": [
            "114\n"
          ]
        }
      ],
      "source": [
        "# New data\n",
        "artists_name_list_new = [v['artist'] for v in artworks_dict.values()]\n",
        "\n",
        "artists_name_list_new_ = list(set(artists_name_list_new))\n",
        "print(len(artists_name_list_new_))"
      ]
    },
    {
      "cell_type": "code",
      "execution_count": 343,
      "metadata": {
        "colab": {
          "base_uri": "https://localhost:8080/"
        },
        "id": "ktQmyVUUATLC",
        "outputId": "c7063b4d-1819-4f49-c7f4-c1685c1e5807"
      },
      "outputs": [
        {
          "output_type": "execute_result",
          "data": {
            "text/plain": [
              "['Clairé Hills',\n",
              " 'Cinello',\n",
              " 'Clairé Hills',\n",
              " 'Larva Labs',\n",
              " 'Rabee Baghshani',\n",
              " 'Sin Bin',\n",
              " 'Christoph Brandl',\n",
              " 'BIIMO',\n",
              " 'Pedro Friedeberg',\n",
              " 'Eric Blanc']"
            ]
          },
          "metadata": {},
          "execution_count": 343
        }
      ],
      "source": [
        "sample(artists_name_list_new, 10)"
      ]
    },
    {
      "cell_type": "code",
      "execution_count": 344,
      "metadata": {
        "colab": {
          "base_uri": "https://localhost:8080/"
        },
        "id": "areJgHrwm5a_",
        "outputId": "29bf38f7-35d2-4ba4-97cf-3efbe15f212d"
      },
      "outputs": [
        {
          "output_type": "execute_result",
          "data": {
            "text/plain": [
              "261"
            ]
          },
          "metadata": {},
          "execution_count": 344
        }
      ],
      "source": [
        "artists_name_list_diff_1 = list(set(artists_name_list_old_) - set(artists_name_list_new_))\n",
        "len(artists_name_list_diff_1)"
      ]
    },
    {
      "cell_type": "code",
      "execution_count": 345,
      "metadata": {
        "colab": {
          "base_uri": "https://localhost:8080/"
        },
        "id": "8YOm9hS1m_YK",
        "outputId": "9624865c-855e-4e7f-f7d0-76ef96e9bba7"
      },
      "outputs": [
        {
          "output_type": "execute_result",
          "data": {
            "text/plain": [
              "['Larva LabsMeebit #18516, 2021HOFA Gallery (House of Fine Art)Sold ',\n",
              " 'Clairé HillsGreen Halloween (NFT) - figurative, pop art, 2020Santiago Soares GalleryUS$2,365 ',\n",
              " 'JænCornælhuys 5/18 - Le Grand Nasal (NFT), 2021TDC GallerySold ',\n",
              " 'Skye NicolasNFT I NEED YOU NOW LIKE I NEED YOU THEN, 2022PRISKA PASQUERPrice on request ',\n",
              " 'Christoph BrandlNo Show, 2022Maggio Art ConsultancyUS$155 ',\n",
              " 'BIIMONefertiti | NFT, 2021ArtUp - Street GallerySold ',\n",
              " 'Clairé HillsClairé Dolls - Purpure - (NFT) - surreal, figurative, pop art, 2019Santiago Soares GalleryUS$999 ',\n",
              " 'BIIMOFEED ME #5 | NFT, 2021ArtUp - Street GalleryUS$200 ',\n",
              " 'Eduardo Marizpós-oceano 1 b, 2022CHEGAMOSUS$4,000 ',\n",
              " 'Romina RessiaPop-Corn Pixel, 2021HOFA Gallery (House of Fine Art)Price on request ']"
            ]
          },
          "metadata": {},
          "execution_count": 345
        }
      ],
      "source": [
        "sample(artists_name_list_diff_1, 10)"
      ]
    },
    {
      "cell_type": "code",
      "execution_count": 346,
      "metadata": {
        "colab": {
          "base_uri": "https://localhost:8080/"
        },
        "id": "tlKJfF3T2wl2",
        "outputId": "c1a75fc1-698f-4ad0-c09d-348588a985e8"
      },
      "outputs": [
        {
          "output_type": "execute_result",
          "data": {
            "text/plain": [
              "114"
            ]
          },
          "metadata": {},
          "execution_count": 346
        }
      ],
      "source": [
        "artists_name_list_diff_2 = list(set(artists_name_list_new_) - set(artists_name_list_old_))\n",
        "len(artists_name_list_diff_2)"
      ]
    },
    {
      "cell_type": "code",
      "execution_count": 347,
      "metadata": {
        "colab": {
          "base_uri": "https://localhost:8080/"
        },
        "id": "glZ9Skau2yQq",
        "outputId": "f7030a2c-4f5a-4740-a353-644c6530cd0c"
      },
      "outputs": [
        {
          "output_type": "execute_result",
          "data": {
            "text/plain": [
              "['Nicolas Guzman',\n",
              " 'Tako Kopaliani',\n",
              " 'Forwart',\n",
              " 'Stefanie Schneider',\n",
              " 'Christopher Lizarraga',\n",
              " 'Marco Aurelio Rey',\n",
              " 'BIIMO',\n",
              " 'Katya Zvereva',\n",
              " 'Jalal Mashhadi Fard',\n",
              " 'Mary Ronayne']"
            ]
          },
          "metadata": {},
          "execution_count": 347
        }
      ],
      "source": [
        "sample(artists_name_list_diff_2, 10)"
      ]
    },
    {
      "cell_type": "code",
      "execution_count": 348,
      "metadata": {
        "colab": {
          "base_uri": "https://localhost:8080/"
        },
        "id": "4ogJaYTTL-Ij",
        "outputId": "4e33dcbc-edc3-4120-f901-5c649f714e4b"
      },
      "outputs": [
        {
          "output_type": "execute_result",
          "data": {
            "text/plain": [
              "2"
            ]
          },
          "metadata": {},
          "execution_count": 348
        }
      ],
      "source": [
        "not_title_name = []\n",
        "for n in artists_name_list_new:\n",
        "  if n[0].isupper()==False and n[0].isdigit()==False: # n.istitle() doesn't work correctly\n",
        "    not_title_name.append(n)\n",
        "not_title_name = [n for n in not_title_name if n != 'unknown']\n",
        "not_title_name = list(set(not_title_name))\n",
        "len(not_title_name)"
      ]
    },
    {
      "cell_type": "code",
      "execution_count": 349,
      "metadata": {
        "colab": {
          "base_uri": "https://localhost:8080/"
        },
        "id": "A3WVRonaM2N1",
        "outputId": "c3d275c4-d8a1-44f9-c822-a60f4288e067"
      },
      "outputs": [
        {
          "output_type": "execute_result",
          "data": {
            "text/plain": [
              "['mvhvma', 'ha:ar']"
            ]
          },
          "metadata": {},
          "execution_count": 349
        }
      ],
      "source": [
        "sample(not_title_name, 2) # 10"
      ]
    },
    {
      "cell_type": "code",
      "execution_count": null,
      "metadata": {
        "id": "Q_JbBy_cOgj3"
      },
      "outputs": [],
      "source": [
        "# !!!!!!!!!"
      ]
    },
    {
      "cell_type": "code",
      "execution_count": null,
      "metadata": {
        "colab": {
          "base_uri": "https://localhost:8080/"
        },
        "id": "9CvF-_4wdSxl",
        "outputId": "e89984ac-15c6-427d-b3fc-848546b6ec8e"
      },
      "outputs": [
        {
          "output_type": "execute_result",
          "data": {
            "text/plain": [
              "['gerrit rietveldt',\n",
              " ':mentalKLINIK',\n",
              " 'gt2P',\n",
              " 'david/nicolas',\n",
              " 'bahraini—danish',\n",
              " 'chmara.rosinke',\n",
              " 'nendo',\n",
              " 'antoine phillippon',\n",
              " 'wells coates',\n",
              " 'nendo,',\n",
              " 'elias sequra pasquale',\n",
              " '&Tradition',\n",
              " 'morito ebine',\n",
              " 'touche—touche']"
            ]
          },
          "metadata": {},
          "execution_count": 243
        }
      ],
      "source": [
        "not_title_name"
      ]
    },
    {
      "cell_type": "code",
      "execution_count": null,
      "metadata": {
        "colab": {
          "base_uri": "https://localhost:8080/",
          "height": 35
        },
        "id": "bwXITxz6NJOq",
        "outputId": "7ce7f7fd-7e1c-4e64-f9fa-f78a01be616d"
      },
      "outputs": [
        {
          "output_type": "execute_result",
          "data": {
            "text/plain": [
              "'&Tradition'"
            ],
            "application/vnd.google.colaboratory.intrinsic+json": {
              "type": "string"
            }
          },
          "metadata": {},
          "execution_count": 252
        }
      ],
      "source": [
        "n = not_title_name[11]\n",
        "n\n",
        "# ', Florence'\n",
        "# ', Venice'\n",
        "# 'nendo,'"
      ]
    },
    {
      "cell_type": "code",
      "execution_count": null,
      "metadata": {
        "colab": {
          "base_uri": "https://localhost:8080/"
        },
        "id": "OQiIU4oKLCCN",
        "outputId": "6444812e-4141-4d84-8b5e-ad6b3c2a5b6e"
      },
      "outputs": [
        {
          "output_type": "stream",
          "name": "stdout",
          "text": [
            "n False\n",
            "e False\n",
            "n False\n",
            "d False\n",
            "o False\n",
            ", True\n",
            "True\n"
          ]
        }
      ],
      "source": [
        "for l in n:\n",
        "  print(l, l==',')\n",
        "print(n[-1]==',') # 0"
      ]
    },
    {
      "cell_type": "code",
      "execution_count": null,
      "metadata": {
        "colab": {
          "base_uri": "https://localhost:8080/"
        },
        "id": "ctqZtJ86NxZz",
        "outputId": "7efbdd55-cdee-4807-e858-88ca63e42d0f"
      },
      "outputs": [
        {
          "output_type": "execute_result",
          "data": {
            "text/plain": [
              "3"
            ]
          },
          "metadata": {},
          "execution_count": 253
        }
      ],
      "source": [
        "filtered_dict = {k: v for k, v in artworks_dict.items() if v['artist']=='&Tradition'}\n",
        "len(filtered_dict)"
      ]
    },
    {
      "cell_type": "code",
      "source": [
        "filtered_dict"
      ],
      "metadata": {
        "colab": {
          "base_uri": "https://localhost:8080/"
        },
        "id": "VDY7hK-uCJsh",
        "outputId": "04eca4c6-4981-4c7c-e720-d3fab84018c1"
      },
      "execution_count": null,
      "outputs": [
        {
          "output_type": "execute_result",
          "data": {
            "text/plain": [
              "{'5fe1f9d309672600114e2bfa': {'artist': '&Tradition',\n",
              "  'category_id': ['12'],\n",
              "  'gallery': 'THEFOURTH',\n",
              "  'gene_id': ['12020', '12025'],\n",
              "  'link': 'https://d32dm0rphc51dk.cloudfront.net/sra72EpyMQR11YmeYACbfw/large.jpg',\n",
              "  'name': 'Lato LN9 Table ',\n",
              "  'parsing_date': '2022-04-19',\n",
              "  'price': '€860 ',\n",
              "  'updating_date': '2022-04-19',\n",
              "  'year': '2010'},\n",
              " '5fe1fd20dca897001014a1eb': {'artist': '&Tradition',\n",
              "  'category_id': ['12'],\n",
              "  'gallery': 'THEFOURTH',\n",
              "  'gene_id': ['12004'],\n",
              "  'link': 'https://d32dm0rphc51dk.cloudfront.net/pZp33YMFbCaZphlb7ptG6A/large.jpg',\n",
              "  'name': 'Flowerpot VP7 Pendant ',\n",
              "  'parsing_date': '2022-04-19',\n",
              "  'price': '€670 ',\n",
              "  'updating_date': '2022-04-19',\n",
              "  'year': '1968'},\n",
              " '5fe302deb114a000129e5495': {'artist': '&Tradition',\n",
              "  'category_id': ['12'],\n",
              "  'gallery': 'THEFOURTH',\n",
              "  'gene_id': ['12020', '12025'],\n",
              "  'link': 'https://d32dm0rphc51dk.cloudfront.net/qAcfIoVZ_l6CybIGW-mzQw/large.jpg',\n",
              "  'name': 'Shuffle Table ',\n",
              "  'parsing_date': '2022-04-19',\n",
              "  'price': 'Sold ',\n",
              "  'updating_date': '2022-04-19',\n",
              "  'year': '2010'}}"
            ]
          },
          "metadata": {},
          "execution_count": 254
        }
      ]
    },
    {
      "cell_type": "code",
      "execution_count": null,
      "metadata": {
        "colab": {
          "base_uri": "https://localhost:8080/"
        },
        "id": "ueUMi9QAN8i0",
        "outputId": "5de6b929-56a3-449d-bf17-d4b1d5cfc9f8"
      },
      "outputs": [
        {
          "output_type": "execute_result",
          "data": {
            "text/plain": [
              "1"
            ]
          },
          "metadata": {},
          "execution_count": 247
        }
      ],
      "source": [
        "filtered_dict = {k: v for k, v in artworks_dict.items() if v['artist']=='nendo,'}\n",
        "len(filtered_dict)"
      ]
    },
    {
      "cell_type": "code",
      "execution_count": null,
      "metadata": {
        "colab": {
          "base_uri": "https://localhost:8080/"
        },
        "id": "zgcgT9jgOCYX",
        "outputId": "bb440427-4f90-4f7f-cb68-c49adcc8c3ec"
      },
      "outputs": [
        {
          "output_type": "execute_result",
          "data": {
            "text/plain": [
              "{'59f065077622dd4d9e4b6418': {'artist': 'nendo,',\n",
              "  'category_id': ['12'],\n",
              "  'gallery': 'Sèvres Porcelain Manufactory',\n",
              "  'gene_id': ['12013', '12008', '12025'],\n",
              "  'link': 'https://d32dm0rphc51dk.cloudfront.net/UiOTOwq7gJ5PGDfQYRLwjA/large.jpg',\n",
              "  'name': 'Hasu',\n",
              "  'parsing_date': '2022-04-19',\n",
              "  'price': 'Price on request ',\n",
              "  'updating_date': '2022-04-19',\n",
              "  'year': '2017'}}"
            ]
          },
          "metadata": {},
          "execution_count": 248
        }
      ],
      "source": [
        "filtered_dict"
      ]
    },
    {
      "cell_type": "code",
      "source": [
        "for k in filtered_dict.keys():\n",
        "  print(k)"
      ],
      "metadata": {
        "colab": {
          "base_uri": "https://localhost:8080/"
        },
        "id": "o0VLVaV5CeSh",
        "outputId": "741db0ed-e233-44b8-997c-35ab5357b951"
      },
      "execution_count": null,
      "outputs": [
        {
          "output_type": "stream",
          "name": "stdout",
          "text": [
            "59f065077622dd4d9e4b6418\n"
          ]
        }
      ]
    },
    {
      "cell_type": "code",
      "execution_count": null,
      "metadata": {
        "colab": {
          "base_uri": "https://localhost:8080/"
        },
        "id": "IGe0SC4fOcrm",
        "outputId": "3c40a362-9491-4887-fa97-e9053bb18056"
      },
      "outputs": [
        {
          "output_type": "execute_result",
          "data": {
            "text/plain": [
              "{'artist': 'nendo',\n",
              " 'category_id': ['12'],\n",
              " 'gallery': 'Sèvres Porcelain Manufactory',\n",
              " 'gene_id': ['12013', '12008', '12025'],\n",
              " 'link': 'https://d32dm0rphc51dk.cloudfront.net/UiOTOwq7gJ5PGDfQYRLwjA/large.jpg',\n",
              " 'name': 'Hasu',\n",
              " 'parsing_date': '2022-04-19',\n",
              " 'price': 'Price on request ',\n",
              " 'updating_date': '2022-04-19',\n",
              " 'year': '2017'}"
            ]
          },
          "metadata": {},
          "execution_count": 250
        }
      ],
      "source": [
        "artworks_dict['59f065077622dd4d9e4b6418'].update({'artist': 'nendo'}) # Unknown\n",
        "artworks_dict['59f065077622dd4d9e4b6418']"
      ]
    },
    {
      "cell_type": "code",
      "execution_count": null,
      "metadata": {
        "id": "TLp6cWrxOlyu"
      },
      "outputs": [],
      "source": [
        "# !!!!!!!!!!!!!"
      ]
    },
    {
      "cell_type": "code",
      "execution_count": 350,
      "metadata": {
        "colab": {
          "base_uri": "https://localhost:8080/"
        },
        "id": "gWEx5depOq94",
        "outputId": "88ad7407-b0a2-4fa0-b356-26e8a42c3180"
      },
      "outputs": [
        {
          "output_type": "stream",
          "name": "stdout",
          "text": [
            "0\n"
          ]
        }
      ],
      "source": [
        "real_not_title_name = {}\n",
        "for n in not_title_name:\n",
        "  filt_dict_1 = {k: v for k, v in artworks_dict.items() if v['artist'] == n}\n",
        "  new_n_list = list(set([v['name'] + v['artist'] for v in filt_dict_1.values()]))\n",
        "  for n_n in new_n_list:\n",
        "    filt_dict_2 = {k: v for k, v in artworks_dict.items() if v['artist'] == n_n}\n",
        "    if len(filt_dict_2)>0:\n",
        "      real_not_title_name.update({n: n_n})\n",
        "\n",
        "print(len(real_not_title_name))"
      ]
    },
    {
      "cell_type": "code",
      "execution_count": null,
      "metadata": {
        "id": "64yZAzRPeW_Y"
      },
      "outputs": [],
      "source": [
        "# !!!!!!!!!!!!!!"
      ]
    },
    {
      "cell_type": "code",
      "execution_count": null,
      "metadata": {
        "colab": {
          "base_uri": "https://localhost:8080/"
        },
        "id": "yVAsIjzKXLy5",
        "outputId": "b50f0c4e-cfd4-4df5-9b1d-66427b25e740"
      },
      "outputs": [
        {
          "output_type": "execute_result",
          "data": {
            "text/plain": [
              "{'n and William Ladd': 'Steven and William Ladd'}"
            ]
          },
          "metadata": {},
          "execution_count": 106
        }
      ],
      "source": [
        "real_not_title_name\n",
        "# 'n and William Ladd' must be 'Steven and William Ladd' (name: Steve)\n",
        "# 'horsten Kirchhoff' must be 'Thorsten Kirchhoff' (name: T)"
      ]
    },
    {
      "cell_type": "code",
      "execution_count": null,
      "metadata": {
        "colab": {
          "base_uri": "https://localhost:8080/"
        },
        "id": "JLjgSuojKLCw",
        "outputId": "fbd10d8c-96a9-4a64-f338-a17de97420a0"
      },
      "outputs": [
        {
          "output_type": "execute_result",
          "data": {
            "text/plain": [
              "{'56296c0a726169642d000160': {'artist': 'n and William Ladd',\n",
              "  'category_id': ['10'],\n",
              "  'gallery': 'Saint Louis Art Museum',\n",
              "  'gene_id': ['10005'],\n",
              "  'link': 'https://d32dm0rphc51dk.cloudfront.net/ywNOVSVs7bot7KElvh_TBw/large.jpg',\n",
              "  'name': 'Steve',\n",
              "  'parsing_date': '2022-04-19',\n",
              "  'price': ' ',\n",
              "  'updating_date': '2022-04-19',\n",
              "  'year': '2014'},\n",
              " '564b5bf04b848064aa0000e8': {'artist': 'n and William Ladd',\n",
              "  'category_id': ['10'],\n",
              "  'gallery': 'Mingei International Museum',\n",
              "  'gene_id': ['10005'],\n",
              "  'link': 'https://d32dm0rphc51dk.cloudfront.net/awaOMMtcpWF8vgt_3MKpMA/large.jpg',\n",
              "  'name': 'Steve',\n",
              "  'parsing_date': '2022-04-19',\n",
              "  'price': ' ',\n",
              "  'updating_date': '2022-04-19',\n",
              "  'year': '2012'}}"
            ]
          },
          "metadata": {},
          "execution_count": 107
        }
      ],
      "source": [
        "filtered_dict = {k: v for k, v in artworks_dict.items() if v['artist'] in real_not_title_name.keys()}\n",
        "filtered_dict"
      ]
    },
    {
      "cell_type": "code",
      "execution_count": null,
      "metadata": {
        "id": "ZNR9tArAYcST"
      },
      "outputs": [],
      "source": [
        "for v in artworks_dict.values():\n",
        "  if v['artist'] in real_not_title_name.keys():\n",
        "    v.update({'artist': real_not_title_name[v['artist']]})\n",
        "    v.update({'name': 'Untitled'})"
      ]
    },
    {
      "cell_type": "code",
      "execution_count": null,
      "metadata": {
        "colab": {
          "base_uri": "https://localhost:8080/"
        },
        "id": "ss5AF87tZlOc",
        "outputId": "1983b5aa-44f3-4f8b-dc34-a6ed80f83c5e"
      },
      "outputs": [
        {
          "output_type": "stream",
          "name": "stdout",
          "text": [
            "{'name': 'Untitled', 'link': 'https://d32dm0rphc51dk.cloudfront.net/ywNOVSVs7bot7KElvh_TBw/large.jpg', 'artist': 'Steven and William Ladd', 'price': ' ', 'parsing_date': '2022-04-19', 'updating_date': '2022-04-19', 'year': '2014', 'gallery': 'Saint Louis Art Museum', 'category_id': ['10'], 'gene_id': ['10005']}\n",
            "{'name': 'Untitled', 'link': 'https://d32dm0rphc51dk.cloudfront.net/awaOMMtcpWF8vgt_3MKpMA/large.jpg', 'artist': 'Steven and William Ladd', 'price': ' ', 'parsing_date': '2022-04-19', 'updating_date': '2022-04-19', 'year': '2012', 'gallery': 'Mingei International Museum', 'category_id': ['10'], 'gene_id': ['10005']}\n"
          ]
        }
      ],
      "source": [
        "for id in filtered_dict.keys():\n",
        "  print(artworks_dict[id])"
      ]
    },
    {
      "cell_type": "code",
      "execution_count": null,
      "metadata": {
        "id": "apk1IC0nPGgJ"
      },
      "outputs": [],
      "source": [
        "# !!!!!!!!!!!!!"
      ]
    },
    {
      "cell_type": "code",
      "execution_count": 351,
      "metadata": {
        "id": "fgpbhlOB45QV"
      },
      "outputs": [],
      "source": [
        "for v in artworks_dict.values():\n",
        "  v.update({'artist': v['artist'].title()}) # bad for not names"
      ]
    },
    {
      "cell_type": "code",
      "execution_count": 352,
      "metadata": {
        "colab": {
          "base_uri": "https://localhost:8080/"
        },
        "id": "Ta2EIAKcaQzJ",
        "outputId": "55eb5815-2f68-447b-bf5f-d812f3c068d0"
      },
      "outputs": [
        {
          "output_type": "stream",
          "name": "stdout",
          "text": [
            "114\n"
          ]
        }
      ],
      "source": [
        "# New data\n",
        "artists_name_list_new = [v['artist'] for v in artworks_dict.values()]\n",
        "\n",
        "artists_name_list_new_ = list(set(artists_name_list_new))\n",
        "print(len(artists_name_list_new_))"
      ]
    },
    {
      "cell_type": "code",
      "execution_count": 353,
      "metadata": {
        "colab": {
          "base_uri": "https://localhost:8080/"
        },
        "id": "6RP9ZPZDivWs",
        "outputId": "22726522-26ca-4183-d8d3-a83168328975"
      },
      "outputs": [
        {
          "output_type": "execute_result",
          "data": {
            "text/plain": [
              "['Marie Soliman',\n",
              " 'Mary Ronayne',\n",
              " 'Kim Mccarty',\n",
              " 'Gregory Siff',\n",
              " 'David Wiener',\n",
              " 'Bored Ape Yacht Club',\n",
              " 'Shiran Alec Sooriya-Arachchi',\n",
              " 'Edward Rilke',\n",
              " 'Jon Burgerman',\n",
              " 'Archan Nair']"
            ]
          },
          "metadata": {},
          "execution_count": 353
        }
      ],
      "source": [
        "sample(artists_name_list_new_, 10)"
      ]
    },
    {
      "cell_type": "code",
      "execution_count": 354,
      "metadata": {
        "id": "qiDxTQrZsuj3"
      },
      "outputs": [],
      "source": [
        "#save_dict(artworks_dict, artwork_dict, 'live') # 1. Save json dict\n",
        "#save_dict(artworks_dict, '/artsy_genom_artwork_dict_add.txt', 'backup') # 1. Save json dict\n",
        "save_dict(artworks_dict, '/artsy_genom_artwork_dict_new_gene.txt', 'backup') # 1. Save json dict"
      ]
    },
    {
      "cell_type": "markdown",
      "metadata": {
        "id": "W9Qi4hnATEYi"
      },
      "source": [
        "### artists_dict"
      ]
    },
    {
      "cell_type": "markdown",
      "metadata": {
        "id": "75N5WS8GTFP3"
      },
      "source": [
        "#### initiation\n",
        "!!! only first time"
      ]
    },
    {
      "cell_type": "code",
      "execution_count": null,
      "metadata": {
        "id": "Uo3R766ShY39"
      },
      "outputs": [],
      "source": [
        "#artists_dict = {'000000': {'name': 'Jacopo Bassano', \n",
        "#                           'artwork_id: ['000000', ''], # Portrait of a Man in Armour\n",
        "#                           -- 'gallery_id': ['000000', ''], # Robilant+Voena\n",
        "#                           'gene_id': ['21603', ''],\n",
        "#                           'category_id': ['03', '']}}"
      ]
    },
    {
      "cell_type": "code",
      "execution_count": null,
      "metadata": {
        "colab": {
          "base_uri": "https://localhost:8080/"
        },
        "id": "aB9M_Zp7gLsi",
        "outputId": "aca43d89-e3d5-416e-87af-11b31eef8cb4"
      },
      "outputs": [
        {
          "name": "stdout",
          "output_type": "stream",
          "text": [
            "8094\n"
          ]
        }
      ],
      "source": [
        "artworks_dict = open_dict(artwork_dict, 'live')\n",
        "print(len(artworks_dict))"
      ]
    },
    {
      "cell_type": "code",
      "execution_count": null,
      "metadata": {
        "colab": {
          "base_uri": "https://localhost:8080/"
        },
        "id": "MABxYknGriMY",
        "outputId": "89435fe1-0aa7-44cb-b2d9-a8706801cc0f"
      },
      "outputs": [
        {
          "name": "stdout",
          "output_type": "stream",
          "text": [
            "1176\n"
          ]
        }
      ],
      "source": [
        "artists_name_list = list(set([v['artist'] for v in artworks_dict.values()]))\n",
        "print(len(artists_name_list))"
      ]
    },
    {
      "cell_type": "code",
      "execution_count": null,
      "metadata": {
        "colab": {
          "base_uri": "https://localhost:8080/"
        },
        "id": "Sg7t_qh7IKAm",
        "outputId": "d7ac90f8-e21d-4d90-d5fc-ee0265dba45e"
      },
      "outputs": [
        {
          "name": "stdout",
          "output_type": "stream",
          "text": [
            "1176\n",
            "1176\n"
          ]
        }
      ],
      "source": [
        "# artist_id creation\n",
        "at_id_len = len(str(len(artists_name_list)))\n",
        "at_id_list = []\n",
        "c = 1\n",
        "for a in artists_name_list:\n",
        "  id = '0'*(at_id_len-len(str(c)))+str(c)\n",
        "  at_id_list.append(id)\n",
        "  c += 1\n",
        "\n",
        "print(len(at_id_list))\n",
        "print(len(artists_name_list))"
      ]
    },
    {
      "cell_type": "markdown",
      "metadata": {
        "id": "e8nIVAFtXisl"
      },
      "source": [
        "***One to one connection***"
      ]
    },
    {
      "cell_type": "code",
      "execution_count": null,
      "metadata": {
        "colab": {
          "base_uri": "https://localhost:8080/"
        },
        "id": "tWr_ZnvzxXrp",
        "outputId": "936f3227-becf-4a9a-f7a8-41612c760c89"
      },
      "outputs": [
        {
          "data": {
            "text/plain": [
              "1176"
            ]
          },
          "execution_count": 136,
          "metadata": {},
          "output_type": "execute_result"
        }
      ],
      "source": [
        "# Dict creation\n",
        "artists_dict = pd.DataFrame({'id': at_id_list, 'name': artists_name_list}).set_index('id').to_dict('index')\n",
        "len(artists_dict)"
      ]
    },
    {
      "cell_type": "code",
      "execution_count": null,
      "metadata": {
        "colab": {
          "base_uri": "https://localhost:8080/"
        },
        "id": "ZooSVsSYxXoC",
        "outputId": "f226e814-b60d-4d89-bddb-88da749c771f"
      },
      "outputs": [
        {
          "data": {
            "text/plain": [
              "{'0468': {'name': 'R.C. Gorman'}}"
            ]
          },
          "execution_count": 137,
          "metadata": {},
          "output_type": "execute_result"
        }
      ],
      "source": [
        "artists_dict_samp = {k: v for k, v in artists_dict.items() if v['name'] == 'R.C. Gorman'}\n",
        "artists_dict_samp"
      ]
    },
    {
      "cell_type": "markdown",
      "metadata": {
        "id": "k5a0VedCNqks"
      },
      "source": [
        "##### add 'artist_id'  in artworks_dict"
      ]
    },
    {
      "cell_type": "code",
      "execution_count": null,
      "metadata": {
        "id": "wSr9yxalNnj6"
      },
      "outputs": [],
      "source": [
        "keys_list = list(artists_dict.keys())\n",
        "values_list = [v['name'] for v in artists_dict.values()]\n",
        "\n",
        "for value in artworks_dict.values():\n",
        "  if value['artist'] in values_list:\n",
        "    value.update({'artist_id': keys_list[values_list.index(value['artist'])]})\n",
        "  else:\n",
        "    value.update({'artist_id': ' '})"
      ]
    },
    {
      "cell_type": "code",
      "execution_count": null,
      "metadata": {
        "colab": {
          "base_uri": "https://localhost:8080/"
        },
        "id": "Rom9InzlP_Ug",
        "outputId": "b86e59d0-76bc-48a6-8485-44f096c551e9"
      },
      "outputs": [
        {
          "data": {
            "text/plain": [
              "{'artist': 'Tuukka Tammisaari',\n",
              " 'artist_id': '33527',\n",
              " 'category_id': ['03'],\n",
              " 'gallery': 'Kristof De Clercq',\n",
              " 'gene_id': ['03056', '03013', '03090'],\n",
              " 'link': 'https://d32dm0rphc51dk.cloudfront.net/hrEVTH4ekjqm_iKE1HStzg/large.jpg',\n",
              " 'name': 'Untitled',\n",
              " 'parsing_date': '2022-04-01',\n",
              " 'price': '€6,600 ',\n",
              " 'updating_date': '2022-04-01',\n",
              " 'year': '2021'}"
            ]
          },
          "execution_count": 240,
          "metadata": {},
          "output_type": "execute_result"
        }
      ],
      "source": [
        "artworks_dict['623f201d30b258000cc3053a']"
      ]
    },
    {
      "cell_type": "code",
      "execution_count": null,
      "metadata": {
        "colab": {
          "base_uri": "https://localhost:8080/"
        },
        "id": "h3pOwYjtTCbj",
        "outputId": "815e1142-6bce-4fd5-9b12-41aa3262a030"
      },
      "outputs": [
        {
          "data": {
            "text/plain": [
              "{'name': 'Tuukka Tammisaari'}"
            ]
          },
          "execution_count": 241,
          "metadata": {},
          "output_type": "execute_result"
        }
      ],
      "source": [
        "artists_dict['33527']"
      ]
    },
    {
      "cell_type": "code",
      "execution_count": null,
      "metadata": {
        "id": "ylFIkD2HQBRm"
      },
      "outputs": [],
      "source": [
        "# Replacing\n",
        "#artworks_dict = {k: artworks_dict[k] for k in artworks_dict.keys() - {'artist'}}\n",
        "#artworks_dict['623f201d30b258000cc3053a']"
      ]
    },
    {
      "cell_type": "code",
      "execution_count": null,
      "metadata": {
        "id": "DgnVlXDJQDaL"
      },
      "outputs": [],
      "source": [
        "save_dict(artworks_dict, artwork_dict, 'live') # 1. Save json dict"
      ]
    },
    {
      "cell_type": "markdown",
      "metadata": {
        "id": "jj2mDKTjAjBj"
      },
      "source": [
        "#### expansion\n",
        "!!! only first time\n",
        "\n",
        "with 'artwork_id', 'gene_id' and 'category_id'\n",
        "- ***one to many connection***\n",
        "- id info is in the artists_dict"
      ]
    },
    {
      "cell_type": "code",
      "execution_count": null,
      "metadata": {
        "id": "phGK2lliDgLR"
      },
      "outputs": [],
      "source": [
        "# category_id\n",
        "cat = df_cat_dat_total['category_id'].unique().tolist()\n",
        "\n",
        "#artists_dict = {k: v.update({'category_id': [cat[0]]}) for k, v in artists_dict.items()}\n",
        "for k in artists_dict:\n",
        "  artists_dict[k].update({'category_id': [cat[0]]})"
      ]
    },
    {
      "cell_type": "code",
      "execution_count": null,
      "metadata": {
        "id": "zMo_s5BXGutL"
      },
      "outputs": [],
      "source": [
        "# one to many connection from df\n",
        "def artist_dict_expan_otm(param):\n",
        "  group_df = df_cat_dat_total.groupby(['artist'])[param].apply(list).apply(set).apply(list).reset_index(name=param)\n",
        "  group_dict = group_df.set_index('artist').to_dict('index')\n",
        "\n",
        "  for k, v in artists_dict.items():\n",
        "    if v['name'] in group_dict.keys():\n",
        "      artists_dict[k].update(group_dict[v['name']])\n",
        "    else:\n",
        "      artists_dict[k].update({param: [' ']})"
      ]
    },
    {
      "cell_type": "code",
      "execution_count": null,
      "metadata": {
        "id": "6hqIRL9mDERB"
      },
      "outputs": [],
      "source": [
        "# gene_id\n",
        "artist_dict_expan_otm('gene_id')"
      ]
    },
    {
      "cell_type": "code",
      "execution_count": null,
      "metadata": {
        "id": "sljnxQ9_D8JG"
      },
      "outputs": [],
      "source": [
        "# artsy_id\n",
        "artist_dict_expan_otm('artsy_id')"
      ]
    },
    {
      "cell_type": "code",
      "execution_count": null,
      "metadata": {
        "id": "bSmo5hBFEGcd"
      },
      "outputs": [],
      "source": [
        "artists_dict_samp = {k: v for k, v in artists_dict.items() if v['name'] == 'Jacopo Bassano'}\n",
        "artists_dict_samp"
      ]
    },
    {
      "cell_type": "code",
      "execution_count": null,
      "metadata": {
        "id": "ZqPbCO06EIoV"
      },
      "outputs": [],
      "source": [
        "save_dict(artists_dict, artist_dict, 'live') # 1. Save json dict"
      ]
    },
    {
      "cell_type": "markdown",
      "metadata": {
        "id": "eKte_BU_xBW3"
      },
      "source": [
        "##### correction - not regular action"
      ]
    },
    {
      "cell_type": "code",
      "execution_count": null,
      "metadata": {
        "colab": {
          "base_uri": "https://localhost:8080/"
        },
        "id": "MsY9FUw4mR95",
        "outputId": "92aa863e-af10-4df0-ec45-048a39ba87f8"
      },
      "outputs": [
        {
          "name": "stdout",
          "output_type": "stream",
          "text": [
            "215336\n"
          ]
        }
      ],
      "source": [
        "#artworks_dict = open_dict(artwork_dict, 'live')\n",
        "#print(len(artworks_dict))\n",
        "# 215336"
      ]
    },
    {
      "cell_type": "code",
      "execution_count": null,
      "metadata": {
        "id": "2LCaTj1Haato"
      },
      "outputs": [],
      "source": [
        "def artist_dict_expan(param):\n",
        "  param_dict = {}\n",
        "  for v in artworks_dict.values():\n",
        "    if v['artist_id'] not in param_dict.keys():\n",
        "      param_dict.update({v['artist_id']: v[param]})\n",
        "    else:\n",
        "      v_new = list(set(param_dict[v['artist_id']] + v[param]))\n",
        "      param_dict.update({v['artist_id']: v_new})\n",
        "  print(len(param_dict))\n",
        "\n",
        "  for k in artists_dict:\n",
        "    if k in param_dict.keys():\n",
        "      artists_dict[k].update({param: param_dict[k]})\n",
        "    else:\n",
        "      artists_dict[k].update({param: ' '})\n",
        "  print(len(artists_dict))"
      ]
    },
    {
      "cell_type": "code",
      "execution_count": null,
      "metadata": {
        "colab": {
          "base_uri": "https://localhost:8080/"
        },
        "id": "YEKVXDmwexlh",
        "outputId": "a9a51fa3-74dd-43ac-8cae-191d01b0b501"
      },
      "outputs": [
        {
          "name": "stdout",
          "output_type": "stream",
          "text": [
            "36975\n",
            "36975\n",
            "36975\n",
            "36975\n"
          ]
        }
      ],
      "source": [
        "artist_dict_expan('category_id')\n",
        "artist_dict_expan('gene_id')"
      ]
    },
    {
      "cell_type": "code",
      "execution_count": null,
      "metadata": {
        "colab": {
          "base_uri": "https://localhost:8080/"
        },
        "id": "IbANTyFTmp49",
        "outputId": "6e65d9d5-f4f4-42f8-d844-fdf77f933a9e"
      },
      "outputs": [
        {
          "name": "stdout",
          "output_type": "stream",
          "text": [
            "36975\n",
            "36975\n"
          ]
        }
      ],
      "source": [
        "#'artsy_id'\n",
        "\n",
        "artsy_id_dict = {}\n",
        "for k, v in artworks_dict.items():\n",
        "  if v['artist_id'] not in artsy_id_dict.keys():\n",
        "    artsy_id_dict.update({v['artist_id']: [k]})\n",
        "  else:\n",
        "    v_new = list(set(artsy_id_dict[v['artist_id']] + [k]))\n",
        "    artsy_id_dict.update({v['artist_id']: v_new})\n",
        "print(len(artsy_id_dict))\n",
        "\n",
        "for key in artists_dict:\n",
        "  if key in artsy_id_dict.keys():\n",
        "    artists_dict[key].update({'artsy_id': artsy_id_dict[key]})\n",
        "  else:\n",
        "    artists_dict[key].update({'artsy_id': ' '})\n",
        "print(len(artists_dict))"
      ]
    },
    {
      "cell_type": "code",
      "execution_count": null,
      "metadata": {
        "colab": {
          "base_uri": "https://localhost:8080/"
        },
        "id": "0AvoCLNJjGfx",
        "outputId": "5fdecbb4-a3eb-4dfd-e6b8-c97f14fc2bde"
      },
      "outputs": [
        {
          "data": {
            "text/plain": [
              "{'artsy_id': ['5cfb7cb33741d9000f585a5e',\n",
              "  '5dab31b68291a100122e8426',\n",
              "  '5dab3142ff80ed000d869223',\n",
              "  '5de11d7934dce00012f2186e',\n",
              "  '5e26bfeee2b26b000dd2d623',\n",
              "  '6056178c0d266100129a121b',\n",
              "  '5de0f3458d9e2a00127034f0',\n",
              "  '623f217a6d2c31000b9603b4',\n",
              "  '604ca1dfb66fe900111318de',\n",
              "  '5de140b78d19ce0012ce2e2b',\n",
              "  '623f2108b8401b000c745e13',\n",
              "  '623f201d30b258000cc3053a',\n",
              "  '5de14c1b7fe05700136f442e',\n",
              "  '5dab33258110c4000e2bf1ab',\n",
              "  '5b3cd2cf139b21230e9f297b',\n",
              "  '5dab308fb8e1a20011c39112',\n",
              "  '5de11db47b22d6001202a6df',\n",
              "  '5de1274647800700116a0973',\n",
              "  '5de126b190b4bf0012548c16',\n",
              "  '5de11e017b22d6001202a6f2',\n",
              "  '5cfb7e2ed989710012310932',\n",
              "  '5de1410a8533dd000ed36e8f',\n",
              "  '60560b53bb73b30011a8b3f6',\n",
              "  '5de13f1d8533dd00120eeede',\n",
              "  '5de127ab34dce0000e3ca625',\n",
              "  '5de12731f574de000d808f01',\n",
              "  '623f22356eee8f000db6c352',\n",
              "  '5de14bea7fe057000f189094',\n",
              "  '5de14bc042f3b30012089d16',\n",
              "  '5de0fd0456a016000e1f3a8a',\n",
              "  '5dab341eea2ef7000f6a01dc',\n",
              "  '623f20555f2256000dc92b3a',\n",
              "  '5dab3278301916000e790690',\n",
              "  '60560dabe684c30011842ccf',\n",
              "  '5de127652545cd0012f04ac5',\n",
              "  '5cfb82e2d98971000e4887cc',\n",
              "  '5de1270647800700116a0960',\n",
              "  '623f2213286f23000cb7bb9b',\n",
              "  '623f21e4c657db000e609f5d',\n",
              "  '5de0e8505a1c75000ea7a6d1',\n",
              "  '5dab30cbea2ef7000f6a012d',\n",
              "  '5dab303dff80ed000d8691e3',\n",
              "  '5de0f7a334dce0000e3c9c1d',\n",
              "  '60560bd295cbe40011f956b2',\n",
              "  '5de11c1c5bedd6000e8dd7a0',\n",
              "  '623f203c758d10000e840584',\n",
              "  '5de0fbf7fe8fbe000d7e091b',\n",
              "  '604ca0de9e96b200127e56f6',\n",
              "  '5de1509c2545cd0012f054b3',\n",
              "  '5de126c592a7bb000da38f5a'],\n",
              " 'category_id': ['02', '03', '06'],\n",
              " 'gene_id': ['03056',\n",
              "  '02161',\n",
              "  '02073',\n",
              "  '06105',\n",
              "  '03117',\n",
              "  '03090',\n",
              "  '06116',\n",
              "  '02173',\n",
              "  '03013'],\n",
              " 'name': 'Tuukka Tammisaari'}"
            ]
          },
          "execution_count": 246,
          "metadata": {},
          "output_type": "execute_result"
        }
      ],
      "source": [
        "artists_dict['33527']"
      ]
    },
    {
      "cell_type": "code",
      "execution_count": null,
      "metadata": {
        "colab": {
          "base_uri": "https://localhost:8080/"
        },
        "id": "3Hb8l6TOpdF-",
        "outputId": "68eab124-db17-4852-a606-0aae61d10303"
      },
      "outputs": [
        {
          "data": {
            "text/plain": [
              "50"
            ]
          },
          "execution_count": 247,
          "metadata": {},
          "output_type": "execute_result"
        }
      ],
      "source": [
        "len(artists_dict['33527']['artsy_id'])"
      ]
    },
    {
      "cell_type": "code",
      "execution_count": null,
      "metadata": {
        "colab": {
          "base_uri": "https://localhost:8080/"
        },
        "id": "OpyGcmvipmXF",
        "outputId": "6befa5b0-e465-47bd-98ae-e3bc1d72ef57"
      },
      "outputs": [
        {
          "data": {
            "text/plain": [
              "50"
            ]
          },
          "execution_count": 248,
          "metadata": {},
          "output_type": "execute_result"
        }
      ],
      "source": [
        "filtered_dict = {k: v for k, v in artworks_dict.items() if v['artist_id'] == '33527'}\n",
        "len(filtered_dict)"
      ]
    },
    {
      "cell_type": "code",
      "execution_count": null,
      "metadata": {
        "id": "-t-pMbn4u0n8"
      },
      "outputs": [],
      "source": [
        "save_dict(artists_dict, artist_dict, 'live') # 1. Save json dict"
      ]
    },
    {
      "cell_type": "markdown",
      "metadata": {
        "id": "m5Ta2jEIT30z"
      },
      "source": [
        "#### addition"
      ]
    },
    {
      "cell_type": "code",
      "execution_count": 355,
      "metadata": {
        "colab": {
          "base_uri": "https://localhost:8080/"
        },
        "id": "nSw4hVhJwjb-",
        "outputId": "a8682cd1-6335-4fd5-ffaf-e775990d5c45"
      },
      "outputs": [
        {
          "output_type": "stream",
          "name": "stdout",
          "text": [
            "263\n"
          ]
        }
      ],
      "source": [
        "#artworks_dict = open_dict('/artsy_genom_artwork_dict_cat08.txt', 'backup')\n",
        "print(len(artworks_dict))"
      ]
    },
    {
      "cell_type": "code",
      "execution_count": 356,
      "metadata": {
        "colab": {
          "base_uri": "https://localhost:8080/"
        },
        "id": "kR3KkOPlT3T8",
        "outputId": "a1a304f2-087b-4fa7-db2e-6b4b720a59f7"
      },
      "outputs": [
        {
          "output_type": "execute_result",
          "data": {
            "text/plain": [
              "46708"
            ]
          },
          "metadata": {},
          "execution_count": 356
        }
      ],
      "source": [
        "artists_dict = open_dict(artist_dict, 'live')\n",
        "len(artists_dict)"
      ]
    },
    {
      "cell_type": "code",
      "execution_count": 357,
      "metadata": {
        "colab": {
          "base_uri": "https://localhost:8080/"
        },
        "id": "hgy7pi_IpJLZ",
        "outputId": "f37ad106-65ec-46dd-f036-284a38330c3c"
      },
      "outputs": [
        {
          "output_type": "stream",
          "name": "stdout",
          "text": [
            "{'name': 'Vincent Valdez', 'category_id': ['06', '07'], 'gene_id': ['06128', '06131', '07010'], 'artsy_id': ['60149256c0bd7f0011981283', '601492562cdda20011fddcad', '5efb5d90c90c92000e4fc589']}\n",
            "{'name': 'Darrel Ellis', 'category_id': ['06'], 'gene_id': ['06159'], 'artsy_id': ['5f451f6efafba60012875def']}\n",
            "{'name': 'Alexander Rodchenko', 'category_id': ['01', '06', '03', '07', '02', '08', '13', '05', '04'], 'gene_id': ['05036', '01004', '02050', '02211', '03162', '03161', '02030', '03052', '08054', '05035', '02028', '02212', '02089', '07007', '04020', '02058', '02210', '02209', '06150', '06167', '02134', '02145', '04001', '02146', '02062', '05057', '13006', '05054', '05028', '06015', '05020'], 'artsy_id': ['58d931fb7622dd4d4de2dd05', '574eb2bd139b2152c0000a21', '5be98f048f6c3d18e11bd16f', '5be998e379966d002904297d', '5a2140377622dd4fc6e78350', '5b869c67d3d8d0002b53db9b', '5be05139432ce0002c4541fc', '594004668b3b816379d13a82', '5ce7343ab8ca7800127a13a7', '5be98d33bdc24e4ce662bc73', '5ab13a099c18db45fd55ed6c', '5d5bae210e3d95000e6ebe58', '5ac4c1bbc9dc2452a47fa054', '5beaf72c42a0f300280c255a', '574eb2c09c18db5ee6000a2b', '5b869f28c3d63a77273757e4', '5d5bae25faa8d00011d1c464', '5beaf7ba756f9b1ddcfeb44d', '58d007807622dd4cba5d817c', '56bb82d7b8bad466f7000098', '5ea046d94f7a38000ef165b0', '5be98ca2023c1728e18fdfba', '50800dfde0f1860002000123', '5d5bae2c36f71d000f6504cf', '5b869c79e429f528492d927d', '5be1b549c875ba028b7d598b', '59b853602a893a20d173310e', '5836262fa09a671da400039f', '5be04ed9be75f6768ee6f378', '5ab149459c18db45fd55f660', '5c50706febe2d81445fbd866', '58d00781a09a673a9f3e52eb', '5be99b3cbdc24e6d7774580b', '5aa170e57622dd5062d3df2b', '5be992aaa4685864f6a72c1b', '5b869c8d4420be4f32cf3943', '5b869f3d4420be60e330392c', '5beaf48485d20522c1cf0434', '5af597bf9c18db3a36cdaca5', '59bc046ab202a34d7cfe1ed6', '5baf6f813a91f31bcaf1030a', '5be98e73accc324cab257138', '5be459e0048ef34e2e4d6364', '5beaf6aa594ff173e1efddcb', '5d5bae4136f71d00134aa192', '542c54e87261692d3a330300', '5be9898ef2d3414eb3e04743', '5be98f9aec15ad75bb3e2607', '5cb8f52ccd721430e9d56e04', '5cffa7d9e70e8400129ce685', '5b230836275b241cf2711ac2', '574eb2b5139b2152c0000a17', '5ab139f8a09a6729c688de50', '5be459df08159d002835565b', '542c54e872616925c2d40700', '5c083668757e335cae9f14cd', '54e790677261692b98c30500', '5a904509a09a67123103da3d', '5be9972ff2d3417211bebaf7', '5be996c099ecda002968f4b0', '5be1b4cfe1062f0027ac1ec4', '5be04f3c7ffd417f65ff085c', '5940045ca09a674d71710c15', '5d83902a4cfb31000e7fe2bb', '5be997d8504b41026b24bbf7', '5baf6ea0e5a5ee0ee32f77a7', '5d5bae2413a5da000ecfa6d8', '58d9352ccd530e4d4c187e85']}\n"
          ]
        }
      ],
      "source": [
        "artists_samp = sample(list(artists_dict.keys()), 3)\n",
        "for id in artists_samp:\n",
        "  print(artists_dict[id])"
      ]
    },
    {
      "cell_type": "code",
      "execution_count": null,
      "metadata": {
        "colab": {
          "base_uri": "https://localhost:8080/"
        },
        "id": "usJ_7MT9vqCR",
        "outputId": "ce1f5aee-c4fb-4d2a-8627-560e987b8125"
      },
      "outputs": [
        {
          "output_type": "execute_result",
          "data": {
            "text/plain": [
              "{'01617': {'artsy_id': ['5f89e66b3dad4b00145cf188',\n",
              "   '5f919d6a45d834001538c3bb'],\n",
              "  'category_id': ['06', '05'],\n",
              "  'gene_id': ['05015', '05007', '06054', '06012'],\n",
              "  'name': 'Moisès Villèlia'}}"
            ]
          },
          "metadata": {},
          "execution_count": 262
        }
      ],
      "source": [
        "artists_dict_samp = {k: v for k, v in artists_dict.items() if v['name'] == 'Moisès Villèlia'}\n",
        "artists_dict_samp"
      ]
    },
    {
      "cell_type": "code",
      "execution_count": 261,
      "metadata": {
        "id": "MezhFOaR32RA"
      },
      "outputs": [],
      "source": [
        "def artist_dict_add(param):\n",
        "  param_dict = {}\n",
        "\n",
        "  if param == 'artsy_id':\n",
        "    for k, v in artworks_dict.items():\n",
        "      if v['artist'] not in param_dict.keys():\n",
        "        param_dict.update({v['artist']: [k]})\n",
        "      else:\n",
        "        v_new = list(set(param_dict[v['artist']] + [k]))\n",
        "        param_dict.update({v['artist']: v_new})\n",
        "  \n",
        "  else:\n",
        "    for v in artworks_dict.values():\n",
        "      if v['artist'] not in param_dict.keys():\n",
        "        param_dict.update({v['artist']: v[param]})\n",
        "      else:\n",
        "        v_new = list(set(param_dict[v['artist']] + v[param]))\n",
        "        param_dict.update({v['artist']: v_new})\n",
        "\n",
        "  return param_dict"
      ]
    },
    {
      "cell_type": "code",
      "execution_count": 358,
      "metadata": {
        "colab": {
          "base_uri": "https://localhost:8080/"
        },
        "id": "H1QvRl1hLDNs",
        "outputId": "3d85e12c-75f7-47fd-c593-c589abb4fea0"
      },
      "outputs": [
        {
          "output_type": "stream",
          "name": "stdout",
          "text": [
            "46708\n",
            "22\n",
            "92\n"
          ]
        }
      ],
      "source": [
        "# Dict updating\n",
        "# {'id': {'artsy_id': [''], 'category_id': [''], 'gene_id': [''], 'name': ''}}\n",
        "\n",
        "# Old dict data\n",
        "c = len(artists_dict)+1 # for id creation\n",
        "id_list = list(artists_dict.keys()) # list of str\n",
        "name_list = [v['name'] for v in artists_dict.values()] # list of str\n",
        "\n",
        "# New artworks_dict data\n",
        "artists_list = list(set([v['artist'] for v in artworks_dict.values()]))\n",
        "# category_id\n",
        "#cat = df_cat_dat_total['category_id'].unique().tolist()\n",
        "cat_dict = artist_dict_add('category_id')\n",
        "# gene_id\n",
        "gene_dict = artist_dict_add('gene_id')\n",
        "# artsy_id\n",
        "artwork_dict = artist_dict_add('artsy_id')\n",
        "\n",
        "# New dict\n",
        "new_artists_id = []\n",
        "cross_artists_id = []\n",
        "for name in artists_list:\n",
        "  if name not in name_list:\n",
        "    id = '0'*(artist_id_len-len(str(c)))+str(c)\n",
        "    new_artists_id.append(id)\n",
        "    artists_dict.update({id: {'artsy_id': artwork_dict[name], 'category_id': cat_dict[name], 'gene_id': gene_dict[name], 'name': name}})\n",
        "    c += 1\n",
        "  else:\n",
        "    id = id_list[name_list.index(name)]\n",
        "    cross_artists_id.append(id)\n",
        "    new_cat = list(set(artists_dict[id]['category_id'] + cat_dict[name]))\n",
        "    artists_dict[id].update({'category_id': new_cat})\n",
        "    new_gene = list(set(artists_dict[id]['gene_id'] + gene_dict[name]))\n",
        "    artists_dict[id].update({'gene_id': new_gene})\n",
        "    new_artwork = list(set(artists_dict[id]['artsy_id'] + artwork_dict[name]))\n",
        "    artists_dict[id].update({'artsy_id': new_artwork})\n",
        "\n",
        "print('New total count of artists', len(artists_dict))\n",
        "print('Count of new artists', len(new_artists_id))\n",
        "print('Count of old artists', len(cross_artists_id))"
      ]
    },
    {
      "cell_type": "code",
      "execution_count": 359,
      "metadata": {
        "colab": {
          "base_uri": "https://localhost:8080/"
        },
        "id": "gF-6tLBAjMCK",
        "outputId": "a3b23610-1560-4566-8cfe-c93cd8df4188"
      },
      "outputs": [
        {
          "output_type": "execute_result",
          "data": {
            "text/plain": [
              "{'artsy_id': ['6230ffb352889e000de4f15e'],\n",
              " 'category_id': ['06'],\n",
              " 'gene_id': ['06176'],\n",
              " 'name': 'Gmunk'}"
            ]
          },
          "metadata": {},
          "execution_count": 359
        }
      ],
      "source": [
        "artists_dict[new_artists_id[len(new_artists_id)//2]]"
      ]
    },
    {
      "cell_type": "code",
      "execution_count": 360,
      "metadata": {
        "colab": {
          "base_uri": "https://localhost:8080/"
        },
        "id": "yWAU3ALJTx2a",
        "outputId": "6902bbfc-e04b-45da-b96a-15062ef89e60"
      },
      "outputs": [
        {
          "output_type": "execute_result",
          "data": {
            "text/plain": [
              "{'artsy_id': ['62160d615ceac2000b951c22', '6219eff9c9112f000d36b4fb'],\n",
              " 'category_id': ['06'],\n",
              " 'gene_id': ['06176', '06038'],\n",
              " 'name': 'Miguel Caravaca'}"
            ]
          },
          "metadata": {},
          "execution_count": 360
        }
      ],
      "source": [
        "artists_dict[cross_artists_id[len(cross_artists_id)//2]]"
      ]
    },
    {
      "cell_type": "code",
      "execution_count": 361,
      "metadata": {
        "id": "tgmnorsbohd4"
      },
      "outputs": [],
      "source": [
        "save_dict(artists_dict, artist_dict, 'live') # 1. Save json dict"
      ]
    },
    {
      "cell_type": "markdown",
      "metadata": {
        "id": "C2NYHiYiE3Jy"
      },
      "source": [
        "##### add 'artist_id'  in artworks_dict"
      ]
    },
    {
      "cell_type": "code",
      "execution_count": 362,
      "metadata": {
        "colab": {
          "base_uri": "https://localhost:8080/"
        },
        "id": "CP3HoG8xE-k6",
        "outputId": "fd0e63ca-a597-4294-c27c-9f15dbcf6cf0"
      },
      "outputs": [
        {
          "output_type": "execute_result",
          "data": {
            "text/plain": [
              "263"
            ]
          },
          "metadata": {},
          "execution_count": 362
        }
      ],
      "source": [
        "len(artworks_dict)"
      ]
    },
    {
      "cell_type": "code",
      "execution_count": 363,
      "metadata": {
        "id": "_Tbpbdl1E3Jz"
      },
      "outputs": [],
      "source": [
        "keys_list = list(artists_dict.keys())\n",
        "values_list = [v['name'] for v in artists_dict.values()]\n",
        "\n",
        "for value in artworks_dict.values():\n",
        "  if value['artist'] in values_list:\n",
        "    value.update({'artist_id': keys_list[values_list.index(value['artist'])]})\n",
        "  else:\n",
        "    value.update({'artist_id': ' '})"
      ]
    },
    {
      "cell_type": "code",
      "execution_count": 364,
      "metadata": {
        "colab": {
          "base_uri": "https://localhost:8080/"
        },
        "id": "kG9UyMZLE3J0",
        "outputId": "82fb81e6-6c2c-4444-f77a-907cf26cc98a"
      },
      "outputs": [
        {
          "output_type": "execute_result",
          "data": {
            "text/plain": [
              "{'artist': 'Daniel Berman',\n",
              " 'artist_id': '16827',\n",
              " 'category_id': ['06'],\n",
              " 'gallery': 'CAM Galería',\n",
              " 'gene_id': ['06176'],\n",
              " 'link': 'https://d32dm0rphc51dk.cloudfront.net/29qaUsaaRjov5tv5L-cwng/large.jpg',\n",
              " 'name': 'La gente que canta y baila',\n",
              " 'parsing_date': '2022-04-20',\n",
              " 'price': 'US$1,600 ',\n",
              " 'updating_date': '2022-04-20',\n",
              " 'year': '2022'}"
            ]
          },
          "metadata": {},
          "execution_count": 364
        }
      ],
      "source": [
        "artworks_dict[check_id_list[0]]"
      ]
    },
    {
      "cell_type": "code",
      "execution_count": 365,
      "metadata": {
        "colab": {
          "base_uri": "https://localhost:8080/"
        },
        "id": "owI7DRe3E3J0",
        "outputId": "dfb9d673-a84a-4347-fb3f-e79f97fbc0ca"
      },
      "outputs": [
        {
          "output_type": "execute_result",
          "data": {
            "text/plain": [
              "{'artsy_id': ['62190e6f3deebf000b70506d',\n",
              "  '6230f14e83c045000c60e836',\n",
              "  '62190e6f6eda7a000ce9d39a'],\n",
              " 'category_id': ['06'],\n",
              " 'gene_id': ['06176', '06006', '06099', '06038'],\n",
              " 'name': 'Daniel Berman'}"
            ]
          },
          "metadata": {},
          "execution_count": 365
        }
      ],
      "source": [
        "artists_dict[artworks_dict[check_id_list[0]]['artist_id']]"
      ]
    },
    {
      "cell_type": "code",
      "execution_count": null,
      "metadata": {
        "id": "4Ck65FcGE3J1"
      },
      "outputs": [],
      "source": [
        "# Replacing\n",
        "#artworks_dict = {k: artworks_dict[k] for k in artworks_dict.keys() - {'artist'}}\n",
        "#artworks_dict['623f201d30b258000cc3053a']"
      ]
    },
    {
      "cell_type": "code",
      "execution_count": 366,
      "metadata": {
        "id": "g-QsBVckE3J1"
      },
      "outputs": [],
      "source": [
        "#save_dict(artworks_dict, artwork_dict, 'live') # 1. Save json dict\n",
        "#save_dict(artworks_dict, '/artsy_genom_artwork_dict_add.txt', 'backup') # 1. Save json dict\n",
        "save_dict(artworks_dict, '/artsy_genom_artwork_dict_new_gene.txt', 'backup') # 1. Save json dict"
      ]
    },
    {
      "cell_type": "markdown",
      "metadata": {
        "id": "B856Ube5x2YN"
      },
      "source": [
        "### artworks_dict addition"
      ]
    },
    {
      "cell_type": "code",
      "execution_count": 368,
      "metadata": {
        "colab": {
          "base_uri": "https://localhost:8080/"
        },
        "id": "gFZS5e1Cx5AU",
        "outputId": "7065707c-1a8d-46fd-bad4-f383cb23a91f"
      },
      "outputs": [
        {
          "output_type": "stream",
          "name": "stdout",
          "text": [
            "263\n",
            "453765\n"
          ]
        }
      ],
      "source": [
        "artworks_dict_new = open_dict('/artsy_genom_artwork_dict_new_gene.txt', 'backup')\n",
        "print(len(artworks_dict_new))\n",
        "artworks_dict = open_dict(artwork_dict, 'live')\n",
        "print(len(artworks_dict))"
      ]
    },
    {
      "cell_type": "markdown",
      "metadata": {
        "id": "RqnBL9yKqz_D"
      },
      "source": [
        "Let's divide new dict ids data on two parts: artsy_id is already in the dict and not."
      ]
    },
    {
      "cell_type": "code",
      "execution_count": 369,
      "metadata": {
        "colab": {
          "base_uri": "https://localhost:8080/"
        },
        "id": "F8XUPeBOOOBl",
        "outputId": "337d4a1c-8964-4e78-a844-e360c3549ada"
      },
      "outputs": [
        {
          "output_type": "stream",
          "name": "stdout",
          "text": [
            "Category: ['06']\n",
            "\n",
            "New id count: 67\n",
            "Cross id count: 196\n",
            "Check the division: True\n",
            "\n",
            "New dict length must be: 453832\n"
          ]
        }
      ],
      "source": [
        "old_id_list = list(artworks_dict.keys()) # list of str\n",
        "\n",
        "# New df data\n",
        "\n",
        "new_id_list = list(artworks_dict_new.keys()) # list of str\n",
        "cat_list = list(set([cat[0] for cat in [v['category_id'] for v in artworks_dict_new.values()]])) # list of lists with str\n",
        "print('Category:', cat_list)\n",
        "print('')\n",
        "\n",
        "new_artwork_id = list(set(new_id_list) - set(old_id_list))\n",
        "cross_artwork_id = list(set(old_id_list) & set(new_id_list))\n",
        "print('New id count:', len(new_artwork_id))\n",
        "print('Cross id count:', len(cross_artwork_id))\n",
        "print('Check the division:', len(new_id_list)==len(new_artwork_id)+len(cross_artwork_id))\n",
        "print('')\n",
        "\n",
        "artworks_dict_total_len = len(old_id_list) + len(new_artwork_id)\n",
        "print('New dict length must be:', artworks_dict_total_len)"
      ]
    },
    {
      "cell_type": "markdown",
      "metadata": {
        "id": "c56dTTz7zKUx"
      },
      "source": [
        "#### cross_artwork_id updating"
      ]
    },
    {
      "cell_type": "markdown",
      "metadata": {
        "id": "tj_GbU1vjbEl"
      },
      "source": [
        "Name, link and artist of artsy_id that is already in the dict shoild be the same. Let's check it."
      ]
    },
    {
      "cell_type": "code",
      "execution_count": 370,
      "metadata": {
        "colab": {
          "base_uri": "https://localhost:8080/"
        },
        "id": "IzAyzbcdffZI",
        "outputId": "a69b3bf9-8304-448b-b551-988b4a0eb064"
      },
      "outputs": [
        {
          "output_type": "stream",
          "name": "stdout",
          "text": [
            "Cross id count: 196\n",
            "6 ids have different name\n",
            "0 ids have different link\n",
            "6 ids have different artist\n"
          ]
        }
      ],
      "source": [
        "dif_name = []\n",
        "dif_link = []\n",
        "dif_artist = []\n",
        "\n",
        "for id in cross_artwork_id:\n",
        "  if artworks_dict[id]['name'] != artworks_dict_new[id]['name']:\n",
        "    dif_name.append(id)\n",
        "  if artworks_dict[id]['link'] != artworks_dict_new[id]['link']:\n",
        "    dif_link.append(id)\n",
        "  if artworks_dict[id]['artist'] != artworks_dict_new[id]['artist']:\n",
        "    dif_artist.append(id)\n",
        "\n",
        "print('Cross id count:', len(cross_artwork_id))\n",
        "print(len(dif_name), 'ids have different name')\n",
        "print(len(dif_link), 'ids have different link')\n",
        "print(len(dif_artist), 'ids have different artist')"
      ]
    },
    {
      "cell_type": "code",
      "execution_count": 371,
      "metadata": {
        "colab": {
          "base_uri": "https://localhost:8080/"
        },
        "id": "wrN18WyEi7P5",
        "outputId": "3bb9d100-90ca-42df-ca1d-0df8b06f5de5"
      },
      "outputs": [
        {
          "output_type": "stream",
          "name": "stdout",
          "text": [
            "620a49f37c6699000c370794 : Ritratto di Musico (Portrait of a Musician) -> Leonardo da Vinci, Ritratto di Musico (Portrait of a Musician)\n",
            "620a6687b5965e000cd08bb9 : Madonna del Cardellino (Madonna of the Goldfinch) -> Raffaello Santi, Madonna del Cardellino (Madonna of the Goldfinch)\n",
            "620a6f82fc3035000dd22754 : Il Bacio (The Kiss) -> Francesco Hayez, Il Bacio (The Kiss)\n",
            "620a68d953dd42000c9fa9ab : Canestra di frutta (Bowl of Fruit) -> Michelangelo Merisi da Caravaggio, Canestra di frutta (Bowl of Fruit)\n",
            "620a49f2fea647000ba59c6c : Leonardo da Vinci La Scapiliata (Head of a Woman) -> Leonardo da Vinci,  La Scapiliata (Head of a Woman)\n",
            "620a47e894b381000c755777 : Testa di Giovane Donna (Head of a Young Lady) -> Amedeo Modigliani, Testa di Giovane Donna (Head of a Young Lady)\n"
          ]
        }
      ],
      "source": [
        "for id in sample(dif_name, 6): # 10\n",
        "  print(id, ':', artworks_dict[id]['name'], '->', artworks_dict_new[id]['name'])"
      ]
    },
    {
      "cell_type": "code",
      "execution_count": 373,
      "metadata": {
        "colab": {
          "base_uri": "https://localhost:8080/"
        },
        "id": "p_Gxr_Gylm8K",
        "outputId": "23cb2549-d8c2-464c-89c4-b867091853ff"
      },
      "outputs": [
        {
          "output_type": "stream",
          "name": "stdout",
          "text": [
            "620a6687b5965e000cd08bb9 : Raffaello Santi -> Cinello\n",
            "620a47e894b381000c755777 : Amedeo Modigliani -> Cinello\n",
            "620a6f82fc3035000dd22754 : Francesco Hayez -> Cinello\n",
            "620a68d953dd42000c9fa9ab : Michelangelo Merisi Da Caravaggio -> Cinello, Conceived Circa 1597 , 1600, Digitised In 2021\n",
            "620a49f37c6699000c370794 : Leonardo Da Vinci -> Cinello\n",
            "620a49f2fea647000ba59c6c : Leonardo Da Vinci -> Cinello, Conceived Circa 1492, 1501, Digitised In 2021\n"
          ]
        }
      ],
      "source": [
        "for id in sample(dif_artist, 6): # 10\n",
        "  print(id, ':', artworks_dict[id]['artist'], '->', artworks_dict_new[id]['artist'])"
      ]
    },
    {
      "cell_type": "code",
      "execution_count": null,
      "metadata": {
        "colab": {
          "base_uri": "https://localhost:8080/"
        },
        "id": "GGU97-CU8QYh",
        "outputId": "bb4c3550-0bc4-4cb1-a475-439d2b147247"
      },
      "outputs": [
        {
          "output_type": "stream",
          "name": "stdout",
          "text": [
            "624c243c1921db000e9153af : https://d32dm0rphc51dk.cloudfront.net/_I0WSM1SSE9Ub72ShrMnMQ/large.jpg -> https://d32dm0rphc51dk.cloudfront.net/QiE6n5L-JpRKf1Q82cDStw/large.jpg\n"
          ]
        }
      ],
      "source": [
        "for id in sample(dif_link, 1): # 10\n",
        "  print(id, ':', artworks_dict[id]['link'], '->', artworks_dict_new[id]['link'])"
      ]
    },
    {
      "cell_type": "code",
      "execution_count": null,
      "metadata": {
        "id": "uY6eWkcXSXvk"
      },
      "outputs": [],
      "source": [
        "# excaption\n",
        "artworks_dict['62280e48bd9211000cc4b47d'].update({'link': 'https://d32dm0rphc51dk.cloudfront.net/S9Gn8hpcc24pnRBCrghPwA/large.jpg'})"
      ]
    },
    {
      "cell_type": "markdown",
      "metadata": {
        "id": "H2h1dNu1mM9k"
      },
      "source": [
        "!!! But all of them can be different. At the same time, it's seen that changes aren't dromatic -> So, not good, but we won't change or add them.\n",
        "\n",
        "It would be better for checking the info if I got artwork's page link...\n",
        "\n",
        "And later we'll clean the artists_dict.\n",
        "\n",
        "Also we won't change or add different price, year and gallery. In fact, we just add the category_id and gene_id info."
      ]
    },
    {
      "cell_type": "code",
      "execution_count": 374,
      "metadata": {
        "colab": {
          "base_uri": "https://localhost:8080/"
        },
        "id": "XQYYyZEMtzci",
        "outputId": "817a672f-3874-4a92-814c-87528541fbe3"
      },
      "outputs": [
        {
          "output_type": "stream",
          "name": "stdout",
          "text": [
            "453765\n"
          ]
        }
      ],
      "source": [
        "# Dict updating\n",
        "\n",
        "# {'artsy_id': {'artist': ' ', 'artist_id': ' ', 'category_id': [''], 'gallery': ' ', 'gene_id': [''], \n",
        "#               'link': ' ', 'name': ' ', 'parsing_date': '', 'price': ' ', 'updating_date': '', 'year': ' '}}\n",
        "\n",
        "for id in cross_artwork_id:\n",
        "  new_cat = list(set(artworks_dict[id]['category_id'] + artworks_dict_new[id]['category_id']))\n",
        "  artworks_dict[id].update({'category_id': new_cat})\n",
        "  new_gene = list(set(artworks_dict[id]['gene_id'] + artworks_dict_new[id]['gene_id']))\n",
        "  artworks_dict[id].update({'gene_id': new_gene})\n",
        "  artworks_dict[id].update({'updating_date': artworks_dict_new[id]['parsing_date']})\n",
        "\n",
        "print(len(artworks_dict))"
      ]
    },
    {
      "cell_type": "code",
      "execution_count": 375,
      "metadata": {
        "colab": {
          "base_uri": "https://localhost:8080/"
        },
        "id": "SCmobc_Zu88o",
        "outputId": "214f920b-1992-4747-c43f-dde075f9add3"
      },
      "outputs": [
        {
          "output_type": "stream",
          "name": "stdout",
          "text": [
            "61fd7fb13e73b9000cf9f02b\n"
          ]
        },
        {
          "output_type": "execute_result",
          "data": {
            "text/plain": [
              "{'artist': 'Zina Saro-Wiwa',\n",
              " 'artist_id': '32374',\n",
              " 'category_id': ['06'],\n",
              " 'gallery': 'Montague Contemporary',\n",
              " 'gene_id': ['06176'],\n",
              " 'link': 'https://d32dm0rphc51dk.cloudfront.net/B_0dqbt8oR6_H11QTKiuhA/large.jpg',\n",
              " 'name': 'Sarogua Spirit - Akogbara (Oil Bean)',\n",
              " 'parsing_date': '2022-04-20',\n",
              " 'price': 'Price on request ',\n",
              " 'updating_date': '2022-04-20',\n",
              " 'year': '2022'}"
            ]
          },
          "metadata": {},
          "execution_count": 375
        }
      ],
      "source": [
        "# cross_artwork_id sample\n",
        "samp_id = sample(cross_artwork_id, 1)[0]\n",
        "print(samp_id)\n",
        "artworks_dict_new[samp_id]"
      ]
    },
    {
      "cell_type": "code",
      "execution_count": 376,
      "metadata": {
        "colab": {
          "base_uri": "https://localhost:8080/"
        },
        "id": "iI9qJlt63gwI",
        "outputId": "96e9bf41-30be-4303-d49d-a0a26902434e"
      },
      "outputs": [
        {
          "output_type": "execute_result",
          "data": {
            "text/plain": [
              "{'artist': 'Zina Saro-Wiwa',\n",
              " 'artist_id': '32374',\n",
              " 'category_id': ['02', '03', '06', '08'],\n",
              " 'gallery': 'Montague Contemporary',\n",
              " 'gene_id': ['06006',\n",
              "  '08068',\n",
              "  '08013',\n",
              "  '03113',\n",
              "  '03054',\n",
              "  '02180',\n",
              "  '06038',\n",
              "  '06176'],\n",
              " 'link': 'https://d32dm0rphc51dk.cloudfront.net/B_0dqbt8oR6_H11QTKiuhA/large.jpg',\n",
              " 'name': 'Sarogua Spirit - Akogbara (Oil Bean)',\n",
              " 'parsing_date': '2022-04-01',\n",
              " 'price': 'Price on request ',\n",
              " 'updating_date': '2022-04-20',\n",
              " 'year': '2022'}"
            ]
          },
          "metadata": {},
          "execution_count": 376
        }
      ],
      "source": [
        "artworks_dict[samp_id]"
      ]
    },
    {
      "cell_type": "markdown",
      "metadata": {
        "id": "E7peAWOuwZl4"
      },
      "source": [
        "#### new_artwork_id addition"
      ]
    },
    {
      "cell_type": "code",
      "execution_count": 377,
      "metadata": {
        "colab": {
          "base_uri": "https://localhost:8080/"
        },
        "id": "0HM-EsNzv2kE",
        "outputId": "528f9065-c1ea-473d-a291-6fc6c160439b"
      },
      "outputs": [
        {
          "output_type": "stream",
          "name": "stdout",
          "text": [
            "New dict length must be: 453832\n",
            "New dict length is: 453832\n"
          ]
        }
      ],
      "source": [
        "# {'artsy_id': {'artist': ' ', 'artist_id': ' ', 'category_id': [''], 'gallery': ' ', 'gene_id': [''], \n",
        "#               'link': ' ', 'name': ' ', 'parsing_date': '', 'price': ' ', 'updating_date': '', 'year': ' '}}\n",
        "\n",
        "for id in new_artwork_id:\n",
        "  artworks_dict.update({id: {'artist': artworks_dict_new[id]['artist'], 'artist_id': artworks_dict_new[id]['artist_id'], 'category_id': artworks_dict_new[id]['category_id'], 'gallery': artworks_dict_new[id]['gallery'], 'gene_id': artworks_dict_new[id]['gene_id'], 'link': artworks_dict_new[id]['link'], 'name': artworks_dict_new[id]['name'], 'parsing_date': artworks_dict_new[id]['parsing_date'], 'price': artworks_dict_new[id]['price'], 'updating_date': artworks_dict_new[id]['updating_date'], 'year': artworks_dict_new[id]['year']}})\n",
        "\n",
        "print('New dict length must be:', artworks_dict_total_len)\n",
        "print('New dict length is:', len(artworks_dict))"
      ]
    },
    {
      "cell_type": "code",
      "execution_count": 378,
      "metadata": {
        "colab": {
          "base_uri": "https://localhost:8080/"
        },
        "id": "BKrG4RCKu2Zm",
        "outputId": "57512de8-14c1-46e6-9dcd-c86ea9f508eb"
      },
      "outputs": [
        {
          "output_type": "stream",
          "name": "stdout",
          "text": [
            "60898ff8a1a4c400126706b8\n"
          ]
        },
        {
          "output_type": "execute_result",
          "data": {
            "text/plain": [
              "{'artist': 'Romina Ressia',\n",
              " 'artist_id': '16168',\n",
              " 'category_id': ['06'],\n",
              " 'gallery': 'HOFA Gallery (House of Fine Art)',\n",
              " 'gene_id': ['06176'],\n",
              " 'link': 'https://d32dm0rphc51dk.cloudfront.net/0e6sClD9OM6GDDpFQWHcJQ/large.jpg',\n",
              " 'name': 'Pop-Corn Pixel',\n",
              " 'parsing_date': '2022-04-20',\n",
              " 'price': 'Price on request ',\n",
              " 'updating_date': '2022-04-20',\n",
              " 'year': '2021'}"
            ]
          },
          "metadata": {},
          "execution_count": 378
        }
      ],
      "source": [
        "# new_artwork_id sample\n",
        "samp_id = sample(new_artwork_id, 1)[0]\n",
        "print(samp_id)\n",
        "artworks_dict_new[samp_id]"
      ]
    },
    {
      "cell_type": "code",
      "execution_count": 379,
      "metadata": {
        "colab": {
          "base_uri": "https://localhost:8080/"
        },
        "id": "N20OVAQnyud2",
        "outputId": "d55cc250-11d0-48a9-f2a9-ae83804257cc"
      },
      "outputs": [
        {
          "output_type": "execute_result",
          "data": {
            "text/plain": [
              "{'artist': 'Romina Ressia',\n",
              " 'artist_id': '16168',\n",
              " 'category_id': ['06'],\n",
              " 'gallery': 'HOFA Gallery (House of Fine Art)',\n",
              " 'gene_id': ['06176'],\n",
              " 'link': 'https://d32dm0rphc51dk.cloudfront.net/0e6sClD9OM6GDDpFQWHcJQ/large.jpg',\n",
              " 'name': 'Pop-Corn Pixel',\n",
              " 'parsing_date': '2022-04-20',\n",
              " 'price': 'Price on request ',\n",
              " 'updating_date': '2022-04-20',\n",
              " 'year': '2021'}"
            ]
          },
          "metadata": {},
          "execution_count": 379
        }
      ],
      "source": [
        "artworks_dict[samp_id]"
      ]
    },
    {
      "cell_type": "code",
      "execution_count": 380,
      "metadata": {
        "id": "jVGV7kwGzaEf"
      },
      "outputs": [],
      "source": [
        "save_dict(artworks_dict, artwork_dict, 'live') # 1. Save json dict"
      ]
    },
    {
      "cell_type": "markdown",
      "metadata": {
        "id": "8y6E_eJHCpMm"
      },
      "source": [
        "### artists_dict cleaning"
      ]
    },
    {
      "cell_type": "code",
      "execution_count": 381,
      "metadata": {
        "colab": {
          "base_uri": "https://localhost:8080/"
        },
        "id": "NWE0PjabCvkF",
        "outputId": "4bfd49a3-9d47-4d4a-f104-920620fe9de5"
      },
      "outputs": [
        {
          "output_type": "stream",
          "name": "stdout",
          "text": [
            "6 ids have different artist\n",
            "3 artists are exstra new\n"
          ]
        }
      ],
      "source": [
        "dif_artist_id = []\n",
        "c = 0\n",
        "for id in cross_artwork_id:\n",
        "  if artworks_dict[id]['artist'] != artworks_dict_new[id]['artist']:\n",
        "    dif_artist_id.append(artworks_dict_new[id]['artist_id'])\n",
        "    dif_artist_id = list(set(dif_artist_id))\n",
        "    c += 1\n",
        "\n",
        "print(c, 'ids have different artist')\n",
        "print(len(dif_artist_id), 'artists are exstra new')"
      ]
    },
    {
      "cell_type": "code",
      "execution_count": 382,
      "metadata": {
        "colab": {
          "base_uri": "https://localhost:8080/"
        },
        "id": "h6wUlywZEe4L",
        "outputId": "71c93c84-e630-4ff4-98d2-6e1305825b0d"
      },
      "outputs": [
        {
          "output_type": "execute_result",
          "data": {
            "text/plain": [
              "46708"
            ]
          },
          "metadata": {},
          "execution_count": 382
        }
      ],
      "source": [
        "#artists_dict = open_dict(artist_dict, 'live')\n",
        "len(artists_dict)"
      ]
    },
    {
      "cell_type": "code",
      "execution_count": 383,
      "metadata": {
        "colab": {
          "base_uri": "https://localhost:8080/"
        },
        "id": "t_DeptwoEyre",
        "outputId": "7dcfb264-e56e-486b-a016-b06aa0ad8dc1"
      },
      "outputs": [
        {
          "output_type": "stream",
          "name": "stdout",
          "text": [
            "46705\n",
            "46705\n"
          ]
        }
      ],
      "source": [
        "# Replacing\n",
        "print(len(artists_dict) - len(dif_artist_id))\n",
        "artists_dict = {k: v for k, v in artists_dict.items() if k not in dif_artist_id}\n",
        "print(len(artists_dict))"
      ]
    },
    {
      "cell_type": "code",
      "execution_count": 384,
      "metadata": {
        "colab": {
          "base_uri": "https://localhost:8080/"
        },
        "id": "6AGFwgzA1gx2",
        "outputId": "b815e411-9cb2-4212-9dc2-b78067bde42c"
      },
      "outputs": [
        {
          "output_type": "execute_result",
          "data": {
            "text/plain": [
              "{'21007': {'artsy_id': ['61fe8114b9ff6c000b32bbb6',\n",
              "   '622cb6e45463fe000bb811af'],\n",
              "  'category_id': ['03', '05', '02', '06', '08'],\n",
              "  'gene_id': ['02155', '08049', '03008', '06045', '05011', '06175'],\n",
              "  'name': 'Matt Connors'}}"
            ]
          },
          "metadata": {},
          "execution_count": 384
        }
      ],
      "source": [
        "artists_dict_samp = {k: v for k, v in artists_dict.items() if v['name'] == 'Matt Connors'}\n",
        "artists_dict_samp"
      ]
    },
    {
      "cell_type": "code",
      "execution_count": 385,
      "metadata": {
        "id": "2Na6WduQFqL2"
      },
      "outputs": [],
      "source": [
        "save_dict(artists_dict, artist_dict, 'live') # 1. Save json dict"
      ]
    },
    {
      "cell_type": "markdown",
      "metadata": {
        "id": "mpRFWlBTUWma"
      },
      "source": [
        "### genes_dict - at the very end"
      ]
    },
    {
      "cell_type": "markdown",
      "metadata": {
        "id": "aoXyp4XTURaK"
      },
      "source": [
        "#### expansion"
      ]
    },
    {
      "cell_type": "code",
      "execution_count": null,
      "metadata": {
        "colab": {
          "base_uri": "https://localhost:8080/"
        },
        "id": "--b457uGUjCL",
        "outputId": "d4320e36-ddd2-4924-efe5-41a4ef4c54d9"
      },
      "outputs": [
        {
          "output_type": "execute_result",
          "data": {
            "text/plain": [
              "1032"
            ]
          },
          "metadata": {},
          "execution_count": 11
        }
      ],
      "source": [
        "genes_dict = open_dict(gen_dict, 'live') # 2. Open json dict\n",
        "genes_dict_old = open_dict(gen_dict, 'live') # 2. Open json dict\n",
        "len(genes_dict)"
      ]
    },
    {
      "cell_type": "code",
      "source": [
        "artists_dict = open_dict(artist_dict, 'live') # 2. Open json dict\n",
        "len(artists_dict)"
      ],
      "metadata": {
        "colab": {
          "base_uri": "https://localhost:8080/"
        },
        "id": "3Mk6LavERIE2",
        "outputId": "cd8dc98a-43d9-4832-ec98-0c2a613825db"
      },
      "execution_count": null,
      "outputs": [
        {
          "output_type": "execute_result",
          "data": {
            "text/plain": [
              "46676"
            ]
          },
          "metadata": {},
          "execution_count": 12
        }
      ]
    },
    {
      "cell_type": "code",
      "source": [
        "artworks_dict = open_dict(artwork_dict, 'live') # 2. Open json dict\n",
        "len(artworks_dict)"
      ],
      "metadata": {
        "colab": {
          "base_uri": "https://localhost:8080/"
        },
        "id": "HhSqW_P0RVa4",
        "outputId": "23e9316d-673f-432d-f758-d81fb0c45572"
      },
      "execution_count": null,
      "outputs": [
        {
          "output_type": "execute_result",
          "data": {
            "text/plain": [
              "450574"
            ]
          },
          "metadata": {},
          "execution_count": 13
        }
      ]
    },
    {
      "cell_type": "code",
      "execution_count": null,
      "metadata": {
        "colab": {
          "base_uri": "https://localhost:8080/"
        },
        "id": "6EZbbLx4yjRw",
        "outputId": "9d72b7ce-3b30-4844-93a0-b98c0296a477"
      },
      "outputs": [
        {
          "output_type": "execute_result",
          "data": {
            "text/plain": [
              "{'artist_id': ['10640', '05253'],\n",
              " 'artsy_id': ['54f0c97a7261693fa3ea1400',\n",
              "  '553a8e737261697635630000',\n",
              "  '54f0c97c726169731f9f1400',\n",
              "  '553a8ea872616909c03a0000',\n",
              "  '553a8e61726169623a4f0000',\n",
              "  '553be2df7261692b035d0400'],\n",
              " 'category_id': '03',\n",
              " 'id': '03001',\n",
              " 'link': '/gene/bad-painting',\n",
              " 'name': '\"Bad Painting\"',\n",
              " 'parsing_date': '2022-03-29',\n",
              " 'updating_date': '2022-03-29'}"
            ]
          },
          "metadata": {},
          "execution_count": 15
        }
      ],
      "source": [
        "genes_dict_old['bad_painting']"
      ]
    },
    {
      "cell_type": "markdown",
      "metadata": {
        "id": "6Grd4c2bUgNW"
      },
      "source": [
        "Update genes_dict with 'artist_id' and 'artwork_id':\n",
        "- list type parametr - ***one to many connection***\n",
        "- id info is in the **dict**"
      ]
    },
    {
      "cell_type": "code",
      "source": [
        "artist_id_list_old = genes_dict_old['bad_painting']['artist_id']\n",
        "artsy_id_list_old = genes_dict_old['bad_painting']['artsy_id']"
      ],
      "metadata": {
        "id": "Fx4JwFOcSGe9"
      },
      "execution_count": null,
      "outputs": []
    },
    {
      "cell_type": "code",
      "execution_count": null,
      "metadata": {
        "colab": {
          "base_uri": "https://localhost:8080/"
        },
        "id": "BY8KnKx4zHyW",
        "outputId": "33a81a61-0728-4fc8-f4c6-46d30aad2a48"
      },
      "outputs": [
        {
          "output_type": "stream",
          "name": "stdout",
          "text": [
            "1032\n"
          ]
        }
      ],
      "source": [
        "#param = 'artist_id'\n",
        "\n",
        "for v in genes_dict.values():\n",
        "  v.update({'artist_id': []})\n",
        "  for key, value in artists_dict.items():\n",
        "    if v['id'] in value['gene_id']:\n",
        "      v_new = list(set(v['artist_id'] + [key]))\n",
        "      v.update({'artist_id': v_new})\n",
        "\n",
        "print(len(genes_dict))"
      ]
    },
    {
      "cell_type": "code",
      "source": [
        "#param = 'artsy_id'\n",
        "\n",
        "for v in genes_dict.values():\n",
        "  v.update({'artsy_id': []})\n",
        "  for key, value in artworks_dict.items():\n",
        "    if v['id'] in value['gene_id']:\n",
        "      v_new = list(set(v['artsy_id'] + [key]))\n",
        "      v.update({'artsy_id': v_new})\n",
        "\n",
        "print(len(genes_dict))"
      ],
      "metadata": {
        "colab": {
          "base_uri": "https://localhost:8080/"
        },
        "id": "ei5h0_zeRiKl",
        "outputId": "7ca41c9d-6265-49c7-f919-253caab8a0ed"
      },
      "execution_count": null,
      "outputs": [
        {
          "output_type": "stream",
          "name": "stdout",
          "text": [
            "1032\n"
          ]
        }
      ]
    },
    {
      "cell_type": "code",
      "source": [
        "artist_id_list_new = genes_dict['bad_painting']['artist_id']\n",
        "artsy_id_list_new = genes_dict['bad_painting']['artsy_id']\n",
        "\n",
        "print(list(set(artist_id_list_new))==list(set(artist_id_list_old)))\n",
        "print(list(set(artsy_id_list_new))==list(set(artsy_id_list_old)))"
      ],
      "metadata": {
        "colab": {
          "base_uri": "https://localhost:8080/"
        },
        "id": "UlE85lZQSVPA",
        "outputId": "f3638599-8af9-4f8f-b2f7-e250bbb8589a"
      },
      "execution_count": null,
      "outputs": [
        {
          "output_type": "stream",
          "name": "stdout",
          "text": [
            "False\n",
            "True\n"
          ]
        }
      ]
    },
    {
      "cell_type": "code",
      "execution_count": null,
      "metadata": {
        "colab": {
          "base_uri": "https://localhost:8080/"
        },
        "id": "_S0outur4B4V",
        "outputId": "4d0217da-1534-43d6-bc9d-64dd3dc3c247"
      },
      "outputs": [
        {
          "output_type": "execute_result",
          "data": {
            "text/plain": [
              "{'artist_id': ['25055', '21189'],\n",
              " 'artsy_id': ['553be2df7261692b035d0400',\n",
              "  '553a8ea872616909c03a0000',\n",
              "  '54f0c97a7261693fa3ea1400',\n",
              "  '54f0c97c726169731f9f1400',\n",
              "  '553a8e737261697635630000',\n",
              "  '553a8e61726169623a4f0000'],\n",
              " 'category_id': '03',\n",
              " 'id': '03001',\n",
              " 'link': '/gene/bad-painting',\n",
              " 'name': '\"Bad Painting\"',\n",
              " 'parsing_date': '2022-03-29',\n",
              " 'updating_date': '2022-03-29'}"
            ]
          },
          "metadata": {},
          "execution_count": 20
        }
      ],
      "source": [
        "genes_dict['bad_painting']\n",
        "#'William Nelson Copley'\n",
        "#'Joan Brown'"
      ]
    },
    {
      "cell_type": "code",
      "execution_count": null,
      "metadata": {
        "colab": {
          "base_uri": "https://localhost:8080/"
        },
        "id": "Pr1l4wjZ5Pd_",
        "outputId": "661aa8e7-03d1-4396-eecd-e99e67a89619"
      },
      "outputs": [
        {
          "output_type": "execute_result",
          "data": {
            "text/plain": [
              "{'artsy_id': ['553a8ea872616909c03a0000',\n",
              "  '54f0c97a7261693fa3ea1400',\n",
              "  '5da7b49cf52b8c00129b9694',\n",
              "  '54f0c97c726169731f9f1400',\n",
              "  '553a8e61726169623a4f0000',\n",
              "  '553a8e737261697635630000'],\n",
              " 'category_id': ['01', '03'],\n",
              " 'gene_id': ['03001', '01005'],\n",
              " 'name': 'Joan Brown'}"
            ]
          },
          "metadata": {},
          "execution_count": 26
        }
      ],
      "source": [
        "artists_dict['25055']"
      ]
    },
    {
      "cell_type": "code",
      "execution_count": null,
      "metadata": {
        "id": "lu9nKWMBW9lf"
      },
      "outputs": [],
      "source": [
        "save_dict(genes_dict, gen_dict, 'live') # 1. Save json dict"
      ]
    },
    {
      "cell_type": "markdown",
      "metadata": {
        "id": "EIvq_MPCo4ED"
      },
      "source": [
        "#### addition & updating"
      ]
    },
    {
      "cell_type": "code",
      "execution_count": 386,
      "metadata": {
        "colab": {
          "base_uri": "https://localhost:8080/"
        },
        "id": "6vUTyl1lpAON",
        "outputId": "278cc1f8-9506-47c3-f29c-2f7e0babec39"
      },
      "outputs": [
        {
          "output_type": "execute_result",
          "data": {
            "text/plain": [
              "1033"
            ]
          },
          "metadata": {},
          "execution_count": 386
        }
      ],
      "source": [
        "genes_dict = open_dict(gen_dict, 'live') # 2. Open json dict\n",
        "len(genes_dict)"
      ]
    },
    {
      "cell_type": "code",
      "execution_count": 387,
      "metadata": {
        "colab": {
          "base_uri": "https://localhost:8080/"
        },
        "id": "Rxqy-HHNvvVS",
        "outputId": "5b23aaae-f9a1-4037-cab7-950f6afd2fca"
      },
      "outputs": [
        {
          "output_type": "execute_result",
          "data": {
            "text/plain": [
              "{'artist_id': ['25055', '21189'],\n",
              " 'artsy_id': ['553be2df7261692b035d0400',\n",
              "  '553a8ea872616909c03a0000',\n",
              "  '54f0c97a7261693fa3ea1400',\n",
              "  '54f0c97c726169731f9f1400',\n",
              "  '553a8e737261697635630000',\n",
              "  '553a8e61726169623a4f0000'],\n",
              " 'category_id': '03',\n",
              " 'id': '03001',\n",
              " 'link': '/gene/bad-painting',\n",
              " 'name': '\"Bad Painting\"',\n",
              " 'parsing_date': '2022-03-29',\n",
              " 'updating_date': '2022-03-29'}"
            ]
          },
          "metadata": {},
          "execution_count": 387
        }
      ],
      "source": [
        "genes_dict['bad_painting']"
      ]
    },
    {
      "cell_type": "code",
      "source": [
        "#param = 'artist_id'\n",
        "\n",
        "for v in genes_dict.values():\n",
        "  for key, value in artists_dict.items():\n",
        "    if v['id'] in value['gene_id'] and key not in v['artist_id']:\n",
        "      v_new = list(set(v['artist_id'] + [key]))\n",
        "      v.update({'artist_id': v_new})\n",
        "      v.update({'updating_date': datetime.now().date().strftime('%Y-%m-%d')})\n",
        "\n",
        "print(len(genes_dict))"
      ],
      "metadata": {
        "colab": {
          "base_uri": "https://localhost:8080/"
        },
        "id": "U3P8Wo34UB4m",
        "outputId": "a7adc25a-2a06-40b5-901d-66c24b4d2be3"
      },
      "execution_count": 388,
      "outputs": [
        {
          "output_type": "stream",
          "name": "stdout",
          "text": [
            "1033\n"
          ]
        }
      ]
    },
    {
      "cell_type": "code",
      "source": [
        "#param = 'artsy_id'\n",
        "\n",
        "for v in genes_dict.values():\n",
        "  for key, value in artworks_dict.items():\n",
        "    if v['id'] in value['gene_id'] and key not in v['artsy_id']:\n",
        "      v_new = list(set(v['artsy_id'] + [key]))\n",
        "      v.update({'artsy_id': v_new})\n",
        "      v.update({'updating_date': datetime.now().date().strftime('%Y-%m-%d')})\n",
        "\n",
        "print(len(genes_dict))"
      ],
      "metadata": {
        "colab": {
          "base_uri": "https://localhost:8080/"
        },
        "id": "D4haFLJSUFig",
        "outputId": "ca031c6f-5039-40d8-dbe7-b0bf6796dceb"
      },
      "execution_count": 389,
      "outputs": [
        {
          "output_type": "stream",
          "name": "stdout",
          "text": [
            "1033\n"
          ]
        }
      ]
    },
    {
      "cell_type": "code",
      "execution_count": 390,
      "metadata": {
        "id": "v0kDcQqJsV0W",
        "colab": {
          "base_uri": "https://localhost:8080/"
        },
        "outputId": "76d3f257-624f-41db-ccd2-d05741a87fd1"
      },
      "outputs": [
        {
          "output_type": "execute_result",
          "data": {
            "text/plain": [
              "{'artist_id': ['25055', '21189'],\n",
              " 'artsy_id': ['553be2df7261692b035d0400',\n",
              "  '553a8ea872616909c03a0000',\n",
              "  '54f0c97a7261693fa3ea1400',\n",
              "  '54f0c97c726169731f9f1400',\n",
              "  '553a8e737261697635630000',\n",
              "  '553a8e61726169623a4f0000'],\n",
              " 'category_id': '03',\n",
              " 'id': '03001',\n",
              " 'link': '/gene/bad-painting',\n",
              " 'name': '\"Bad Painting\"',\n",
              " 'parsing_date': '2022-03-29',\n",
              " 'updating_date': '2022-03-29'}"
            ]
          },
          "metadata": {},
          "execution_count": 390
        }
      ],
      "source": [
        "genes_dict['bad_painting']"
      ]
    },
    {
      "cell_type": "code",
      "source": [
        "filtered_dict = {k: v for k, v in genes_dict.items() if v['updating_date'] == datetime.now().date().strftime('%Y-%m-%d')}\n",
        "len(filtered_dict)"
      ],
      "metadata": {
        "colab": {
          "base_uri": "https://localhost:8080/"
        },
        "id": "SCWU8ZVbXADf",
        "outputId": "7be5dac2-a5b6-410c-981f-0f39b6f43885"
      },
      "execution_count": 391,
      "outputs": [
        {
          "output_type": "execute_result",
          "data": {
            "text/plain": [
              "289"
            ]
          },
          "metadata": {},
          "execution_count": 391
        }
      ]
    },
    {
      "cell_type": "code",
      "source": [
        "updated_sample = sample(list(filtered_dict.keys()), 1)[0]\n",
        "filtered_dict[updated_sample]"
      ],
      "metadata": {
        "colab": {
          "base_uri": "https://localhost:8080/"
        },
        "id": "Fl4gm2w-Xxp7",
        "outputId": "c04d840e-c1c8-4f75-c24d-2b210ba69dc1"
      },
      "execution_count": 395,
      "outputs": [
        {
          "output_type": "execute_result",
          "data": {
            "text/plain": [
              "{'artist_id': ['31742',\n",
              "  '27685',\n",
              "  '30140',\n",
              "  '20003',\n",
              "  '01526',\n",
              "  '08930',\n",
              "  '31460',\n",
              "  '35131',\n",
              "  '17143',\n",
              "  '19162',\n",
              "  '21373',\n",
              "  '23780',\n",
              "  '11052',\n",
              "  '16309',\n",
              "  '14187',\n",
              "  '35629',\n",
              "  '27911',\n",
              "  '21695',\n",
              "  '09587',\n",
              "  '00339',\n",
              "  '12099',\n",
              "  '18106',\n",
              "  '21967',\n",
              "  '19437',\n",
              "  '26070',\n",
              "  '28871',\n",
              "  '30479',\n",
              "  '39633',\n",
              "  '35847',\n",
              "  '02680',\n",
              "  '11984',\n",
              "  '12486',\n",
              "  '08554',\n",
              "  '01046',\n",
              "  '14158',\n",
              "  '39170',\n",
              "  '10135',\n",
              "  '26308',\n",
              "  '13582',\n",
              "  '28265',\n",
              "  '13786',\n",
              "  '35811',\n",
              "  '34526',\n",
              "  '11981',\n",
              "  '24035',\n",
              "  '09139',\n",
              "  '13787',\n",
              "  '11553',\n",
              "  '22307',\n",
              "  '40585',\n",
              "  '16172',\n",
              "  '06536',\n",
              "  '03538',\n",
              "  '23352',\n",
              "  '09901',\n",
              "  '39745',\n",
              "  '28322',\n",
              "  '32089',\n",
              "  '06176',\n",
              "  '25795',\n",
              "  '39521',\n",
              "  '26285',\n",
              "  '24116',\n",
              "  '00737',\n",
              "  '26616',\n",
              "  '30950',\n",
              "  '12839',\n",
              "  '23925',\n",
              "  '06357',\n",
              "  '09066',\n",
              "  '15393',\n",
              "  '19859',\n",
              "  '32077',\n",
              "  '33522',\n",
              "  '01571',\n",
              "  '35592',\n",
              "  '39795',\n",
              "  '40064',\n",
              "  '01351',\n",
              "  '17871',\n",
              "  '08533',\n",
              "  '23065',\n",
              "  '22968',\n",
              "  '36706',\n",
              "  '40561',\n",
              "  '14979',\n",
              "  '00326',\n",
              "  '29340',\n",
              "  '04617',\n",
              "  '14970',\n",
              "  '00011',\n",
              "  '13026',\n",
              "  '32125',\n",
              "  '21768',\n",
              "  '11866',\n",
              "  '16872',\n",
              "  '35801',\n",
              "  '06024',\n",
              "  '14068',\n",
              "  '39266',\n",
              "  '31738',\n",
              "  '13250',\n",
              "  '39748',\n",
              "  '18427',\n",
              "  '12102',\n",
              "  '33569',\n",
              "  '24706',\n",
              "  '40483',\n",
              "  '10365',\n",
              "  '01796',\n",
              "  '03760',\n",
              "  '17248',\n",
              "  '26147',\n",
              "  '40151',\n",
              "  '34424',\n",
              "  '03919',\n",
              "  '26789',\n",
              "  '32223',\n",
              "  '33354',\n",
              "  '08455',\n",
              "  '10824',\n",
              "  '26496',\n",
              "  '09599',\n",
              "  '14319',\n",
              "  '20428',\n",
              "  '36621',\n",
              "  '20427',\n",
              "  '04892',\n",
              "  '12497',\n",
              "  '13905',\n",
              "  '31559',\n",
              "  '40377',\n",
              "  '27140',\n",
              "  '31157',\n",
              "  '10384',\n",
              "  '28618',\n",
              "  '27066',\n",
              "  '30446',\n",
              "  '26150',\n",
              "  '40645',\n",
              "  '37878',\n",
              "  '14808',\n",
              "  '39103',\n",
              "  '39692',\n",
              "  '20132',\n",
              "  '18696',\n",
              "  '19133',\n",
              "  '35001',\n",
              "  '30359',\n",
              "  '39355',\n",
              "  '34653',\n",
              "  '35270',\n",
              "  '26043',\n",
              "  '17118',\n",
              "  '04395',\n",
              "  '31315',\n",
              "  '40402',\n",
              "  '27987',\n",
              "  '39534',\n",
              "  '13645',\n",
              "  '00641',\n",
              "  '25172',\n",
              "  '24413',\n",
              "  '29240',\n",
              "  '11429',\n",
              "  '40127',\n",
              "  '03613',\n",
              "  '08954',\n",
              "  '24109',\n",
              "  '29216',\n",
              "  '29661',\n",
              "  '23507',\n",
              "  '25793',\n",
              "  '30505',\n",
              "  '06082',\n",
              "  '22319',\n",
              "  '22625',\n",
              "  '08219',\n",
              "  '10121',\n",
              "  '39727',\n",
              "  '03739',\n",
              "  '09036',\n",
              "  '36623',\n",
              "  '25797',\n",
              "  '15277',\n",
              "  '16509',\n",
              "  '06783',\n",
              "  '07119',\n",
              "  '29035',\n",
              "  '40554',\n",
              "  '20082',\n",
              "  '00113',\n",
              "  '11029',\n",
              "  '24043',\n",
              "  '03116',\n",
              "  '11962',\n",
              "  '16685',\n",
              "  '11178',\n",
              "  '15530',\n",
              "  '25292',\n",
              "  '03834',\n",
              "  '17845',\n",
              "  '31957',\n",
              "  '27791',\n",
              "  '25108',\n",
              "  '03063'],\n",
              " 'artsy_id': ['5bfdbac61061bf36f6ed40d3',\n",
              "  '5b463d4c66e7f30023720a71',\n",
              "  '6244800ecca2aa000c564843',\n",
              "  '5dfbddf5f5d37c000d2fd9f0',\n",
              "  '5fe25beddc8c23000d6f6571',\n",
              "  '61eead058bc56f000d4cc6e9',\n",
              "  '603fa5fb79a2440011f6b846',\n",
              "  '5c82864387a2943181ec554e',\n",
              "  '59b3fab8b202a34d7a0e4ea2',\n",
              "  '5ee7d92b4d9c1e000e1061ec',\n",
              "  '5e60cbdd1e3f43000e48c62a',\n",
              "  '54ac3ea67261692b4e8d0d00',\n",
              "  '5e9c1c3aad3c23000ec9b354',\n",
              "  '5d689bc2c4b393001127670a',\n",
              "  '5c0025a6fb5530002c4846fa',\n",
              "  '6092794bc952260012c8aed4',\n",
              "  '60cc8724ef1551000e2a771d',\n",
              "  '61ec0d1e0c8cc9000c197667',\n",
              "  '5524046c7261693040ae0000',\n",
              "  '61d6c3cf86c427000e7a5aff',\n",
              "  '624f265d737883000d2490f3',\n",
              "  '5e6cfb7ffdf009001153dfc8',\n",
              "  '54ac34537261692b63340100',\n",
              "  '603bd84485ddd242fa4b9f88',\n",
              "  '61d49d34fb6de2000d45bd3a',\n",
              "  '5fb6a04d029977000ead85db',\n",
              "  '5f7336a3b2f29d0011539169',\n",
              "  '5672ca039c18db5c900001ba',\n",
              "  '5c894c00a27fbc1825ce0a27',\n",
              "  '56d871b9275b240ab6000c56',\n",
              "  '604ccc5fa995b1001134d787',\n",
              "  '61e6ea32231190000db74774',\n",
              "  '54b65dca726169170d5e0300',\n",
              "  '5fad6284a72d5700127f30c8',\n",
              "  '61e52ba1bf26fe000bdec138',\n",
              "  '57be5bb69c18db64ae005270',\n",
              "  '5f6483007476e400111d666d',\n",
              "  '6019a976328b25000dcb8ad4',\n",
              "  '5d56d04b3a8609000d59e84e',\n",
              "  '59b7c8089c18db4d6f3bd26d',\n",
              "  '61996a1d5ec882000bdbc99e',\n",
              "  '619966f7dbbcfa000b8b1206',\n",
              "  '5dd4206f1c825e0012007bd9',\n",
              "  '6223568d1c9af3000e1da1d4',\n",
              "  '572e165d9c18db360c00120e',\n",
              "  '5f90544d68c14c000e6a9c90',\n",
              "  '624ed3ba335dfd000e922693',\n",
              "  '561cd1137261695e9e0000cb',\n",
              "  '5ba46fe0335c92557f6dc0ec',\n",
              "  '5763137eb202a338ba00071f',\n",
              "  '606dd764051e70000ede9fdd',\n",
              "  '62403e956d11ff000bae67d6',\n",
              "  '5cfa6976a33b720012ed0a6b',\n",
              "  '602ad19afc38e87a371210b6',\n",
              "  '60195e9377a43d00128d7d93',\n",
              "  '6065d3f44d5289001247a48d',\n",
              "  '59b7d32bc9dc241d69d1d33f',\n",
              "  '604156a642556d000e9b67ee',\n",
              "  '5d7f85798f6936001279bce6',\n",
              "  '62177b19ee6b52000d8c9718',\n",
              "  '5fa35a347e6e02000e65bd14',\n",
              "  '607447678ee16f001220219f',\n",
              "  '6023b4deaf361800112e78c4',\n",
              "  '5e9734ec839aa6001138758b',\n",
              "  '5e5a60045c8590001029f15f',\n",
              "  '5635322a726169640f0000b4',\n",
              "  '5eee237fc146c4000e7a6b91',\n",
              "  '5b9110fe2c36be00260eaeb7',\n",
              "  '59b7d2a42a893a2b644b0bde',\n",
              "  '56b0e8094b848076e200005e',\n",
              "  '5c7fcd23e9a8cb34c47e86b6',\n",
              "  '61c3521ce92806000cb40105',\n",
              "  '5d56d0b5cadfd50012bd3db4',\n",
              "  '5331b58d1a1e86daca000036',\n",
              "  '615355995a02c4000cffaf41',\n",
              "  '616fd3218fac10000cd97667',\n",
              "  '5fbc46ad4377ed55edb9294c',\n",
              "  '5cc1d1b5fa45ec4fb73acd3b',\n",
              "  '601ad6972d006b000da7378b',\n",
              "  '60337a4627daaf2e450090f6',\n",
              "  '5afe7514cd530e2c69713bb4',\n",
              "  '560a74487261696633000022',\n",
              "  '589c89decd530e4cb4805e32',\n",
              "  '619e9a643ea70a000d5b6859',\n",
              "  '6197ba8807f1e0000defa2b9',\n",
              "  '60356226bdf5dc0012c3e5d5',\n",
              "  '57f41fd77622dd4f9a000152',\n",
              "  '6221cccbd1f48f000eb8dbcb',\n",
              "  '58af4489275b24335ccfbcfd',\n",
              "  '5b535f69371f2f2c7b5c76e0',\n",
              "  '6221ccd5eec1af000c4a0ac8',\n",
              "  '56c3702d9acc8a67750000e9',\n",
              "  '608ad027699db7000e6ba936',\n",
              "  '54e70aa772616916c3770500',\n",
              "  '60d0565c917e87000e25b19d',\n",
              "  '606469c09a0f79000da116af',\n",
              "  '61dfff4ca82207000b11c571',\n",
              "  '5f6356076ea4920012c026ab',\n",
              "  '6034f6e1758c5e000e850087',\n",
              "  '61f126627bf851000cbcfd96',\n",
              "  '61da59eeea8eb8000b6495d8',\n",
              "  '5e9b0bf3c4a7a1000ec3b8b1',\n",
              "  '61bb2576becfc9000c24d448',\n",
              "  '59fd79c42a893a4cbc7a2f84',\n",
              "  '6035642ae92154000e37d33d',\n",
              "  '589e81128b3b8130939346ee',\n",
              "  '5fbd1cfbba541a0918d8c82d',\n",
              "  '5f20d2b5031e18000db0af9b',\n",
              "  '56428ee04c0af53a240003be',\n",
              "  '601945c1a09447000e76dd42',\n",
              "  '565eeb9a864d821fa300017f',\n",
              "  '5268375e9c18dbc47600040c',\n",
              "  '61486ecbdeb484000d27d669',\n",
              "  '5ca50e26894a14701d727e29',\n",
              "  '5fbe60fcd3d9f4001284205b',\n",
              "  '61dfff66f55c62000dfcada1',\n",
              "  '5efe90ee6b0e190012e1e21c',\n",
              "  '5e9b7bb9c313bd000eb4fcf4',\n",
              "  '540092b67261692e32b10000',\n",
              "  '6184b116fc53b8000c6c3f6e',\n",
              "  '60927984e770f40010eaabb4',\n",
              "  '61e52bab688368000c33647f',\n",
              "  '6049f70a0d04c800129c0b73',\n",
              "  '602abee3a24c14000e8725cb',\n",
              "  '6032b6d6bac17c000ea2db91',\n",
              "  '5cb24aefbbb361238afe45aa',\n",
              "  '5e06070fdebee8001157b0c6',\n",
              "  '603bd841e57c3b566049fa46',\n",
              "  '57d5c056a09a671f24001f47',\n",
              "  '618a50864e903f000dba4a12',\n",
              "  '581b5d182a893a78d6001ecb',\n",
              "  '5eeb7f4e0b00ef00126591cf',\n",
              "  '5dd41e59a95d63000d7576bb',\n",
              "  '605f4642db3ab1000e5d4d80',\n",
              "  '62177b173ce20e000e1711ef',\n",
              "  '5fbd1d80a39282001240f1e4',\n",
              "  '606b5330b4c8690012e9885e',\n",
              "  '5cc08d57cef63f100712ab2f',\n",
              "  '60ef0337567109000eba5fa2',\n",
              "  '616017e61c01cc000d567e61',\n",
              "  '6049346fc26ce9000d4cc32c',\n",
              "  '525969967622dd51d8000054',\n",
              "  '5f31a9fdb2fbe70012dc43f8',\n",
              "  '5ca51b165a2cde601d626714',\n",
              "  '606c172e4a4daf000ef967d5',\n",
              "  '5e6956ebdf4777000f618744',\n",
              "  '618922c2333784000b35d58a',\n",
              "  '53849ea74b848055b4000017',\n",
              "  '5ebac11f0725fd001134a8c9',\n",
              "  '5f4e79cdf793da0013d00fd6',\n",
              "  '61a9ff29696b7e000bc3af93',\n",
              "  '5e9d7a8622893400109dd519',\n",
              "  '5c35dd6920ad392ed7ca0b5b',\n",
              "  '5f7336d2b2f29d0011539184',\n",
              "  '57251425cb4c2765ed000862',\n",
              "  '59b7c8017622dd4d7459d0a4',\n",
              "  '5c76b9fe11982e002874cd30',\n",
              "  '5e3055b9a7f1f7001213b4af',\n",
              "  '61dfff4b31297e000cca5da3',\n",
              "  '5ba2042081503d26e4de9c34',\n",
              "  '5fbf8b85a08fdd000d6f5ef3',\n",
              "  '5f1af750f961c000129b8bcc',\n",
              "  '5363b2cecb4c27f20e000027',\n",
              "  '5dde997317bd34000e40524d',\n",
              "  '58789f5ca09a677634000aea',\n",
              "  '5f118e402272b40012a67421',\n",
              "  '600a9fd09320c601f8c34e45',\n",
              "  '5aa3b4c47622dd48401aa462',\n",
              "  '5e4799fb5e565a0012d7cf5c',\n",
              "  '58a88144139b21581572d105',\n",
              "  '5fdb26e69277dd59f333a8af',\n",
              "  '605fd2487f060300110d59d8',\n",
              "  '5f50ed9972581e00134af939',\n",
              "  '5aa3a94f9c18db2328d90cb2',\n",
              "  '5fca69486f7f73000e684adb',\n",
              "  '55f99a9f7261695c6300033c',\n",
              "  '60788198a5cb33001206b5c9',\n",
              "  '59b7e063a09a672551d08f23',\n",
              "  '5790e235139b21317e00651e',\n",
              "  '57dabecb8b3b81644d001cf0',\n",
              "  '59ca706d7622dd4d70c1d570',\n",
              "  '567ad905a09a67673d000016',\n",
              "  '602e913e6f20a0000da093ec',\n",
              "  '60202df9ba2e490011d00126',\n",
              "  '5ba133f9ba98b618be389d9d',\n",
              "  '5d18e45411192e000e05cec6',\n",
              "  '560a744d7261697c4e000158',\n",
              "  '6131dccbd11312000e8bde43',\n",
              "  '53234b24b202a3f3970000c0',\n",
              "  '5fe25bed8171fa0012730552',\n",
              "  '61e6ea24441c85000cff491d',\n",
              "  '5f857903349fab001299ade1',\n",
              "  '604cae78a995b1000d8735d5',\n",
              "  '61f95c5648e443000cb0fc35',\n",
              "  '544b75e5726169293b1a0100',\n",
              "  '61f912105d7180000c890283',\n",
              "  '602abee3fc38e8000f8c0185',\n",
              "  '53849fa6275b24f22e000756',\n",
              "  '5f9d92229d05350012bedd88',\n",
              "  '60678662a4c9e3000d747977',\n",
              "  '606b532df1ec4200105f5115',\n",
              "  '58b69d41c9dc246966f146bb',\n",
              "  '61a3cbddeeb8c4000d740ab6',\n",
              "  '5cc0d6fa0c8e5a023c84299e',\n",
              "  '5d8a3599c59f24001236b85b',\n",
              "  '61ec0dcec4ed54000d26ab49',\n",
              "  '5dc1839fd48c45000ebdf120',\n",
              "  '618d45fdf9587f000b4fafc1',\n",
              "  '56d6ff81139b2166eb000b6b',\n",
              "  '58af2450275b24329073b82c',\n",
              "  '5979db67a09a6756374f941f',\n",
              "  '56c440f58b3b814d610000c0',\n",
              "  '5ebbd2df83fb4d000ed7581e',\n",
              "  '5e7a218e0c9800000e389efb',\n",
              "  '6074498047aaae0013080351',\n",
              "  '5a7b3bec275b2429deb047f3',\n",
              "  '5b535f4a03c8830027675256',\n",
              "  '5e726db7efa470001247ee3a',\n",
              "  '5db2aedb52b09f00129874cf',\n",
              "  '5fdad3e6c5e43700121d2e66',\n",
              "  '603accba095210246f6aefd9',\n",
              "  '619975a63fa1f0000ca80e47',\n",
              "  '59b7c820b202a34d79a474f1',\n",
              "  '5f74ae46bb04b00011839125',\n",
              "  '619966f23fa1f0000bf382cf',\n",
              "  '5d740b5b2a9e7300130e54bc',\n",
              "  '59b520719c18db4d6f3ba5c7',\n",
              "  '5db1d97d3000c7000e9c6394',\n",
              "  '5e7b69ffe15b9000125cf0e4',\n",
              "  '6231f2f264803b000c8be055',\n",
              "  '6218c3596394b0000db3e91d',\n",
              "  '5b02e0d4139b211726de10d7',\n",
              "  '6034f6e06ad37d000f3e64ac',\n",
              "  '5822f723a09a675967000774',\n",
              "  '603fdb2158aeea000e6d7466',\n",
              "  '5e4596b489331c000db4f7b0',\n",
              "  '603cbc918310980011de738b',\n",
              "  '5c66feef885fd309ff413d16',\n",
              "  '54ac341072616908fc941800',\n",
              "  '625c6d5051a1d2000c68bbe4',\n",
              "  '602e92b716e8ad5c1efca1b3',\n",
              "  '59b799ec275b241a1da3d691',\n",
              "  '552404907261692c53b30000',\n",
              "  '5e4bf0501df4500012d95195',\n",
              "  '59b55058c9dc241d69d1b1cb',\n",
              "  '5d67d9a698cff6001235c067',\n",
              "  '5e84a3a6193c4000100d6c13',\n",
              "  '5e9b606d2289340014248513',\n",
              "  '6065dc38ca9626001225ac3f',\n",
              "  '578fe55fcd530e65e30009d8',\n",
              "  '5dc1c4473267a50011e70678',\n",
              "  '5ec86e6d2cca7a000e948d1d',\n",
              "  '5e4e8f0a17a3090012b20122',\n",
              "  '5822f27ac9dc2403b000060b',\n",
              "  '54b90ce772616942eeec0100',\n",
              "  '56ab85b2b8bad466a3000029',\n",
              "  '60d1f8e49af67e0013647eaf',\n",
              "  '6112eff0433769000d270da3',\n",
              "  '5be57c3204579712b606fb78',\n",
              "  '5938c2fc275b24214990f9ee',\n",
              "  '5d4dd279f593190012abed4b',\n",
              "  '5515986572616910e4d24500',\n",
              "  '61f7fad5f387ec000ee6b512',\n",
              "  '5fc8eeeba1ffd7000f6c8a1a',\n",
              "  '5fc8ef571f0e79000e429839',\n",
              "  '621dc9a41c6377000b4d8b45',\n",
              "  '6024456330ad151897d9e725',\n",
              "  '5a55def28b3b814e0f8d7811',\n",
              "  '61181451de40c4000dde9089',\n",
              "  '6249da15e68e5c000d617b37',\n",
              "  '5d4606ea87c21d001233f2d1',\n",
              "  '55b75514726169650a0001b5',\n",
              "  '625ea6bce15f32000ba80dd4',\n",
              "  '5fbf8b83d78f7f000d3691d7',\n",
              "  '5f49076b5f5db400128c0e61',\n",
              "  '547c90d37261692d7c920100',\n",
              "  '577d66d58b3b8164440008fe',\n",
              "  '54ac345f7261695ea9ea1a00',\n",
              "  '624490cb854063000b53ba36',\n",
              "  '6234ef22a528cf000eb04fd1',\n",
              "  '545a0b5e726169283f0a1000',\n",
              "  '5c33c5e44ce3b909dd6433a2',\n",
              "  '6221cccb7b8d79000b7621d6',\n",
              "  '5c49ecd1a313697aa8c61157',\n",
              "  '5dd59f7d753b36000ef49cf2',\n",
              "  '5c9b97dfae48ca0695136e02',\n",
              "  '5e9b60519303560012ab8d4a',\n",
              "  '6245c9d4fa9d68000ee89466',\n",
              "  '5ffde7a51e70a900111ee6fa',\n",
              "  '621dc9af3ba9a3000ec33b2b',\n",
              "  '61d6c38ef2db59000c34345f',\n",
              "  '5f6f6b341740bd0012e06cc3',\n",
              "  '60d8e82e66567c000fed60e8',\n",
              "  '5ec51a8d38d03c001249b24d',\n",
              "  '5569d1f47261696637b20100',\n",
              "  '616ee72143181c000cd17cde',\n",
              "  '619bdd40ae0bbe000b8c3263',\n",
              "  '560a746e72616923ef00014e',\n",
              "  '5d56d0334d03e0000e795f6d',\n",
              "  '602c76c2462d526df1cfb290',\n",
              "  '6150678dbef633000cc3b447',\n",
              "  '5c331c30bb2d0d5f42536598',\n",
              "  '60734684c36b490013cfb57f',\n",
              "  '6049266fc26ce9000d4cb8ae',\n",
              "  '589b6c39139b2155a5eb9764',\n",
              "  '60d4c226e1f6830012af07f0',\n",
              "  '5eb3f12afb9a8f0014ae534e',\n",
              "  '61b5dcfd3e5cf7000c40cc48',\n",
              "  '5fe38e8441242500105f7cb4',\n",
              "  '5cb24f53a8e3603cce1e5cab',\n",
              "  '5d56d0175c28030011574821',\n",
              "  '615efed975f2f7000bec6de5',\n",
              "  '623df01930b258000e2b751a',\n",
              "  '621d2581ae7e63000c1a1526',\n",
              "  '60ef0701f8c11f0012a59fc8',\n",
              "  '6196ce355409c1000ca074f9',\n",
              "  '5dce74f7e3cf34000d8bf8d1',\n",
              "  '530f99157622ddb75700015b',\n",
              "  '6048dd91353ce80011612d17',\n",
              "  '61e68b7d4babe3000b94962d',\n",
              "  '5b463e483eb7110020449300',\n",
              "  '5dd41c9aeb6427000fc626dc',\n",
              "  '60081c7b5828a8000e1389cd',\n",
              "  '618922d2c93729000b403097',\n",
              "  '5268375eb202a3356c000450',\n",
              "  '5e3be3e00a7705000d662a26',\n",
              "  '5787f3a88b3b812eac0002de',\n",
              "  '61e6ea28425e95000d6a5721',\n",
              "  '5595706c7261691582000450',\n",
              "  '540703bc72616906c1f11700',\n",
              "  '5672cc22139b21427f0001c1',\n",
              "  '6023b4d86610ca306048f5e8',\n",
              "  '5f6b3a5865c179000d1f4eac',\n",
              "  '546a3ad17261692d6df00100',\n",
              "  '5e90beb617ae59000e9e0177',\n",
              "  '5eebdd0d463215000e56f6cc',\n",
              "  '5d7f85caea58fc000e8e5396',\n",
              "  '55f994ae726169523d0002af',\n",
              "  '5be57c36f620254e9403f28f',\n",
              "  '61e68afe6b868e000e730913',\n",
              "  '602abee390860000122fc88d',\n",
              "  '5405aed472616906bed00d00',\n",
              "  '61b4bf94117267000d2dc488',\n",
              "  '6035643635c9fc0012cdba5b',\n",
              "  '62013b22cae16c000cc35a77',\n",
              "  '593148009c18db64a149274d',\n",
              "  '6067867934e834000e7fa694',\n",
              "  '61eaed3d7cf2d2000e42b4c3',\n",
              "  '61ddf92a147777000e7dd4f8',\n",
              "  '5e06070167809b000e157d81',\n",
              "  '605f46b45134750012182708',\n",
              "  '55fab31b7261696613000002',\n",
              "  '601bc80fbf1327000d37d9f1',\n",
              "  '603fa5f8b9eb7c001007f676',\n",
              "  '5dfa1d5021bf040012664b5a',\n",
              "  '59b6a7228b0c147e61a804f0',\n",
              "  '5f788a5c94da2800121521ac',\n",
              "  '615a36218e9cca000cb9d695',\n",
              "  '62234a179e03a2000bb513db',\n",
              "  '61d39476626007000bc2ca5a',\n",
              "  '5e2722f3031c48001227090c',\n",
              "  '5ece869c99e08a000ed28379',\n",
              "  '53234b25cd530e297b000102',\n",
              "  '5e726d7eefa470001247ee1e',\n",
              "  '5afe700b7622dd4ba20d3f42',\n",
              "  '58b17933cd530e4ca5a5ae1a',\n",
              "  '622ef1ac7c3db2000dd558ef',\n",
              "  '54593c86726169283b7a0b00',\n",
              "  '61937b5138a09b000e36cecd',\n",
              "  '61ddf29e173e0b000dfef7a0',\n",
              "  '625c6cfc5ecbd8000cc1f3fe',\n",
              "  '5f4e79df0a438c0012bd4939',\n",
              "  '616b16d8ed3971000ce0d645',\n",
              "  '6023b4de5443287f35927ad6',\n",
              "  '4d8b92fc4eb68a1b2c000b3c',\n",
              "  '619cfd8e738f4b000c8d5e6f',\n",
              "  '5447d9117261692cdf590100',\n",
              "  '54e706977261695fc2510400',\n",
              "  '58af16e5139b215a84f7de8b',\n",
              "  '5f8ef678961d4a000ed8a02f',\n",
              "  '6242f87e2e4c83000be432b8',\n",
              "  '6006fee72d567b5892e025f4',\n",
              "  '61e4459c04dc00000ef6fe54',\n",
              "  '5f64c46b9f13440015852976',\n",
              "  '5f75f20befedac00122d100a',\n",
              "  '616ee711e87c87000d27bccf',\n",
              "  '5e6cb3cf3faea2000e9380bc',\n",
              "  '5eb67fb225e828000ece1516',\n",
              "  '5cc333cd0cfb4a00166c96c8',\n",
              "  '5e29b05c01e28f000e81cab9',\n",
              "  '57dad0889c18db6b92001fc3',\n",
              "  '60202ea72de0520011c3ad08',\n",
              "  '5eb46917a0b7fb000e8e0db0',\n",
              "  '6225cfa3514017000d1e2d00',\n",
              "  '606468b6198e34000ff47cdb',\n",
              "  '5f635dcf6ea492000e4715d2',\n",
              "  '61ddb89c440980000cefb44e',\n",
              "  '5ee0ea3334696600120bb6f9',\n",
              "  '5e78cf027b3e47000e6c1bd1',\n",
              "  '572e165ecd530e6611000213',\n",
              "  '5f490761aaca37001189bda0',\n",
              "  '618d2ba874610b000d454a66',\n",
              "  '542fc02572616958ae6d0600',\n",
              "  '56d6ff81cb4c2766ed00026d',\n",
              "  '5d6fc84cc4b393000d845ceb',\n",
              "  '5e9b60806d80a900114eb704',\n",
              "  '544b75e67261694296130100',\n",
              "  '5fac760ffb86910011481ecb',\n",
              "  '602445642254b214a88c1221',\n",
              "  '6218c545ee6b52000d8dcaf2',\n",
              "  '574dfa427622dd70b800087e',\n",
              "  '5640e6e2c9dc2479090004fb',\n",
              "  '61f7faeaf387ec000ee6b532',\n",
              "  '603e2e3ed64176000f924fb6',\n",
              "  '60118b417359c0000e96bc59',\n",
              "  '5ecb9d5e4f575e000d5996aa',\n",
              "  '5d4c5c1a123cb100131f5a42',\n",
              "  '554132f57261692b84f40200',\n",
              "  '5e58f61bffe20b00122bdba4',\n",
              "  '61e6ea155d4dfa000b721133',\n",
              "  '5fce91aaa30794331f65aab1',\n",
              "  '602445640e871e15f6e1f50e',\n",
              "  '61e30b5e2d28a5000b3d8e39',\n",
              "  '58e8ac2d9c18db3e6f31b778',\n",
              "  '5c1cef2ff889967885ba931a',\n",
              "  '577d640b9c18db06460009c1',\n",
              "  '5cc1d4b7a16d442b3fd9c2a1',\n",
              "  '6032b6d8d0274500115f3900',\n",
              "  '5e53ceef749a5e0011795899',\n",
              "  '5f9d92ced35d22001124e45f',\n",
              "  '623de55180884f000b7c4076',\n",
              "  '5fbe9ec0e7bcc400127ce266',\n",
              "  '5fe3997d9c0b6c00118d5d1a',\n",
              "  '61b382eb5be0e4000cb2676d',\n",
              "  '5c092bf66331422dc3b9c744',\n",
              "  '5822f7c49c18db4c3400071a',\n",
              "  '594cf9d9cd530e4d5ad14f5e',\n",
              "  '5e071c498b10190012b980c1',\n",
              "  '602c128bac99190011fd4cbf',\n",
              "  '5adf6f5b1a1e861767e420fd',\n",
              "  '5f50ee00807c56000ea94f86',\n",
              "  '5838176a275b24342b000f66',\n",
              "  '5baca8f1431ce102c5c8f42a',\n",
              "  '5e58269fbd6710000d42a932',\n",
              "  '5fa29faf03624e000e985981',\n",
              "  '5ca8e9e421a9d531f06b32d7',\n",
              "  '61a9feb86c936b000bc9c9a6',\n",
              "  '5d460852077d36000e5cffeb',\n",
              "  '618e92ea66564a000b5fd2f2',\n",
              "  '557b501f7261694d5400059a',\n",
              "  '616ee6ff43181c000cd17cc9',\n",
              "  '5efb1a5ec90c9200124b1787',\n",
              "  '60b3aa1f78d6a4000ec73862',\n",
              "  '5c348c6ee1bf9e4620cf1d76',\n",
              "  '620eadb6d38d97000b954dd1',\n",
              "  '5f9da693d35d22000d008f12',\n",
              "  '5fe25bee58a51f0012abf69b',\n",
              "  '5bda1652ddd5a6407b4b832e',\n",
              "  '620bd53ec63dff000ddcae15',\n",
              "  '607444175ca7730012394f1a',\n",
              "  '5e7a2261183416001170dbd6',\n",
              "  '5a7b3e3f275b2429deb04968',\n",
              "  '5e9b0bbc4c6f080013560a33',\n",
              "  '5fbf8b7abb1aaa000e071875',\n",
              "  '602abee3908600000eae2246',\n",
              "  '5da86d91fb43cd000e7c3333',\n",
              "  '5672ca0cb202a3646e000047',\n",
              "  '6065c4cfe5f9dc000f057264',\n",
              "  '525969969c18dbe56f001185',\n",
              "  '59ca720a7622dd4d70c1d5ac',\n",
              "  '5e4d2f6cbb2873000e704801',\n",
              "  '5b55fe280029b65888d73303',\n",
              "  '59b7d2aca09a6726186f932b',\n",
              "  '5d5d08b9faa8d0000df0f378',\n",
              "  '6229f34c39de7a000d55e8ef',\n",
              "  '5b473b6f74723314d37e008e',\n",
              "  '5c6d72db885fd3587d15081f',\n",
              "  '5ee3904d42f0f40012a7d0bc',\n",
              "  '563531b8726169640a0000fd',\n",
              "  '5e9b608022893400109d76d3',\n",
              "  '5be04ede3cc3707b19050f2a',\n",
              "  '56902c2e258faf63a80001b4',\n",
              "  '61dfff4a31297e000cca5d9d',\n",
              "  '5f6355e812aa6e000d447048',\n",
              "  '5e58f60ed0bbb7000ea182f1',\n",
              "  '5da8b10e5f3f9d0012757650',\n",
              "  '5ca8cfd8f360de6f42ec9175',\n",
              "  '6041aa3ef8d1490012cd77cb',\n",
              "  '60355f6cd8bc73000dc6be70',\n",
              "  '5e4aacd3aecb810011f395e4',\n",
              "  '61ddfcda499e0f000c7c4e6e',\n",
              "  '5d687658849bc70012ae80f1',\n",
              "  '605f4180571d39000d3a6e5e',\n",
              "  '5340391d7622dd1dac0000c5',\n",
              "  '614ce7d1f37d1a000ceaeeb5',\n",
              "  '605f45b70c6460000e6c3c1f',\n",
              "  '603a6309d024a000127f5134',\n",
              "  '5ede2ecca7927400114eb19c',\n",
              "  '560a747a72616970d6000183',\n",
              "  '5672ca157622dd0cbd0001ae',\n",
              "  '54db27cb7261695bbfe90900',\n",
              "  '618a5071501c42000d0f0fe0',\n",
              "  '61f920de5fe231000da6104a',\n",
              "  '6221cccd32ab4f000bee0346',\n",
              "  '5f91707b920b4b000fe654ba',\n",
              "  '5fbe9e774f437c266926251a',\n",
              "  '5869e888c9dc2445ea004886',\n",
              "  '60f598d9b86f8b000fd06b1e',\n",
              "  '60f5a93c29be760011266024',\n",
              "  '5dce74f6fbb1590012ff14fc',\n",
              "  '5ff73717495585000e143b5d',\n",
              "  '5ff5ab0c71958700114eb82d',\n",
              "  '5268375f275b24be38000486',\n",
              "  '551d75717261692ae3990700',\n",
              "  '56d7e91b9c18db55f80004c6',\n",
              "  '60cc87aaa77503000ff6d0e8',\n",
              "  '61ddfb39147777000c64e632',\n",
              "  '55104f597261697fcf0a0600',\n",
              "  '624d47098e07e9000da7551c',\n",
              "  '60202d221cad42000d888447',\n",
              "  '56b2c39e2a893a0152000016',\n",
              "  '54ec6d3e7261692db90c0000',\n",
              "  '5f7336a2f66db90012fb352d',\n",
              "  '5f91b187e611060011b97e91',\n",
              "  '61e6ea13803442000cb6d067',\n",
              "  '615ad2374b7751000d3dff5d',\n",
              "  '620e178b8739f2000e970e34',\n",
              "  '53fa39907261692d75900000',\n",
              "  '602e9fab4b434a57362486c9',\n",
              "  '5b9abca38927d5002aca7ee8',\n",
              "  '5ddf814406ed310012945f73',\n",
              "  '59d90ab3a09a670e3c53189c',\n",
              "  '6221cd150b606c000bf4e9d1',\n",
              "  '5e9b6b2b99391a001351e130',\n",
              "  '614ceee073293d000da1aef6',\n",
              "  '5db2aee125fd6f0012692423',\n",
              "  '5e173d5d0c4a2100125acb75',\n",
              "  '621dc9a0c5217a000e79cfb3',\n",
              "  '54ac33377261692c8f950200',\n",
              "  '58a47b877622dd4136c1bbed',\n",
              "  '613a7a7678b492000d57ffe9',\n",
              "  '5a99894e2a893a5561200228',\n",
              "  '561403cb7261691e5900092e',\n",
              "  '5ddf8167e636a80012d5f821',\n",
              "  '6127b5db2f35d3000fa8c2ee',\n",
              "  '60b3ae2d78d6a40012285d01',\n",
              "  '566069e3cd530e63f80000c8',\n",
              "  '5a55def8a09a67304053ffd5',\n",
              "  '5e726da9efa470000e74b1aa',\n",
              "  '566c292c8b3b815e2400036c',\n",
              "  '59b7e0347622dd4d78a0718c',\n",
              "  '622f6d845756fa000c727fba',\n",
              "  '563531f5726169693a000508',\n",
              "  '5672cf787076d067a70001b7',\n",
              "  '5bdc323c5ce683392754aa7d',\n",
              "  '5a7b3e062a893a0bfdab9567',\n",
              "  '5dfb96c46e010c00129cae06',\n",
              "  '5f6f6b34f66db90012fa472d',\n",
              "  '602abee336523d2084fdb06a',\n",
              "  '5fb5210ee9c267000e5cff34',\n",
              "  '61a2554e0c8a41000ce1ff5b',\n",
              "  '60e75848dbbb8b001339a4cb',\n",
              "  '5baca9095c4afd23599491d9',\n",
              "  '5dcc2a5002bbb40012a2fc11',\n",
              "  '6068ac5b9b952a000ea55d0c',\n",
              "  '6038d2fbfd0395000df20eb1',\n",
              "  '53248448275b24f3e9000294',\n",
              "  '60081c7cce192e000d4b698f',\n",
              "  '54c26c4c7261693706890500',\n",
              "  '582e78902a893a2732000400',\n",
              "  '5f8f09fa5c978e0011226c62',\n",
              "  '60081c7cc0bbbb000eaeddf0',\n",
              "  '608ad0247cbd02000e08d215',\n",
              "  '61dd5a12b76629000bc8a730',\n",
              "  '5c9b953b426dfa3fc6d6d7d4',\n",
              "  '5d65adc5849bc7000e2be87f',\n",
              "  '5d689bc298cff6000e435663',\n",
              "  '5ced2ebe193b6c0a425d3ba7',\n",
              "  '6203e08b8b35e6000cc5199a',\n",
              "  '6074484ee0cbcc000e449781',\n",
              "  '5b7eaf272fd9a807bb62c5c3',\n",
              "  '61a7d27f307cc7000cfc1e80',\n",
              "  '6232af240bc53e000b3abd73',\n",
              "  '605cc72f7d34580012b7da56',\n",
              "  '5e982eb8a5179a001200b697',\n",
              "  '5e73ea5ddf95ea000e3204e2',\n",
              "  '5569d1b97261695f278e0100',\n",
              "  '5fc8ef40dc3145000edd4c95',\n",
              "  '5d56d0045c28030011574807',\n",
              "  '61eb00f05612ff000e3b9dc2',\n",
              "  '5f6f6b34bcd81f000ea94eac',\n",
              "  '58b17214a09a672d1293cf65',\n",
              "  '5284d44e9c18db9eae000187',\n",
              "  '61ddf9d3bf56dd000d6a99f5',\n",
              "  '605a3cbd0cf36c000e0c4e67',\n",
              "  '5f50e2294ab351000df46e54',\n",
              "  '620fc8f3906bb0000e1ab086',\n",
              "  '6035603ce3ff7f0012959f48',\n",
              "  '5a26e096a09a67123d2102d8',\n",
              "  '54c26e6b7261696ae0970500',\n",
              "  '62438b1acced9e000e83bc28',\n",
              "  '5ede2e6735c4470012e88875',\n",
              "  '59d90aad7622dd4d85a03dcc',\n",
              "  '5b9ab7d21af8083ba6b4c547',\n",
              "  '60678665a020ad000d09024d',\n",
              "  '5e071bf36a2fb50011272bbf',\n",
              "  '55f99a9372616935660002c6',\n",
              "  '54ac3edf726169271af21600',\n",
              "  '5fe25bee58a51f000ee6043b',\n",
              "  '5fb7ca95b8912030a38ad908',\n",
              "  '5f6f6b34f66db9000ebf0520',\n",
              "  '61a00ae941d6d9000b4bbbd5',\n",
              "  '5d6563e6849bc7000e2bd7a2',\n",
              "  '60366fbcacd404000dc33aa3',\n",
              "  '5d37560d623871001216c7a7',\n",
              "  '621cb622f77b71000c26eb09',\n",
              "  '621888ccfe760b000b031993',\n",
              "  '5b9932d468c29f0e1c12fcd3',\n",
              "  '5efaf6ecc25592001294445b',\n",
              "  '5e0f71b806088f000dbd1b63',\n",
              "  '620fc8f44c6452000b4f114f',\n",
              "  '570e4142139b217024000874',\n",
              "  '62471564c3fe33000d7bf943',\n",
              "  '5ece947d835ab00011f10ccf',\n",
              "  '5b9abf556ab5406cca67d20e',\n",
              "  '5f1659cf3823d60013c66b48',\n",
              "  '6049ef5e191d83000e260f18',\n",
              "  '5fe291e635912d000e03d996',\n",
              "  '59b7e036c9dc241d69d1d3a1',\n",
              "  '602e8b44a2c653728b0e49f3',\n",
              "  '603fc5e1f086640011ee4731',\n",
              "  '552404af726169018cd30000',\n",
              "  '56d871b5275b240ab6000c45',\n",
              "  '563ccdb27261695aeb0006f5',\n",
              "  '5fe25beeab5528000d90ffe0',\n",
              "  '5b463d893eb711002044929d',\n",
              "  '5324a7348b3b816a6500030e',\n",
              "  '56c3702df46c4c101e000239',\n",
              "  '62376322226da3000dca027e',\n",
              "  '61ddf37f627a22000c53d03f',\n",
              "  '61132e0a6be090000e8d1bcd',\n",
              "  '59b3fd637622dd4d6e0474e0',\n",
              "  '6128fa42757ec0000edb5125',\n",
              "  '5f6f6b348127470011ad9b68',\n",
              "  '618ab596216370000b88bb92',\n",
              "  '5ca8ca0021a9d533e54af509',\n",
              "  '61773234914dda000ed5e5c3',\n",
              "  '5c9ba29b53d047002cd74f3f',\n",
              "  '61d8d9cb8b88b8000cb254b3',\n",
              "  '5f63559cbd486a0012f609c9',\n",
              "  '5672c6535b2fba643d00000d',\n",
              "  '602abee37eac5800110d5f00',\n",
              "  '572e16b9275b243bae000fbe',\n",
              "  '5f7d779a5e63280012189945',\n",
              "  '607890e879813900124002fd',\n",
              "  '62221ffd1b53d5000ddec38b',\n",
              "  '5ecb9ce24f575e000d599689',\n",
              "  '5f91afa7f114400012608e1c',\n",
              "  '5d460850795f8b000f83559c',\n",
              "  '59b7e0589c18db4d738bc597',\n",
              "  '60202e692de0520011c3ace4',\n",
              "  '61ddf31df28752000c4fc1c9',\n",
              "  '577d65cbcb4c2765e200094b',\n",
              "  '615067ceef0b81000d7a35c3',\n",
              "  '5c7fc84869d4195ada23ed6e',\n",
              "  '614a82b257342b000d2bba3f',\n",
              "  '589b6c24b202a34ca9ae1458',\n",
              "  '56902fa7c4e63b6523000094',\n",
              "  '6221ccd5291860000d353a50',\n",
              "  '5e9b606d930356000eab729d',\n",
              "  '6201831ea6957b000bb41cdf',\n",
              "  '5ad418d3b202a313cf90f141',\n",
              "  '5ee7d86bcd5221000e4e7c7d',\n",
              "  '5f7cdb6be699270013acc035',\n",
              "  '54ac3ed4726169254a391900',\n",
              "  '5b890e853076df7807b8d0f2',\n",
              "  '564750a2ffc47813a70001ba',\n",
              "  '615a362b8e9cca000ee2c8d1',\n",
              "  '622770a9186a8a000cc915f4',\n",
              "  '6232afc5dd9a28000b230e79',\n",
              "  '4f55697ecde5190001000072',\n",
              "  '540703c972616926d5be1800',\n",
              "  '589b6c257622dd62c7559162',\n",
              "  '622348bcd1f48f000cb87f02',\n",
              "  '54b82df17261692bbba90200',\n",
              "  '5fce91bbb1f57e3a08981b0a',\n",
              "  '61a9fca5c35634000dd55510',\n",
              "  '5d6e513658e68f000ed9b529',\n",
              "  '5b7eaf25494426137c998fbf',\n",
              "  '5ca8cd3b4d4e0e3a976e03f1',\n",
              "  '6241d1fc13ade5000c1f3956',\n",
              "  '58d1b9a48b3b810c0885a99b',\n",
              "  '58a47886b202a37b5718dd61',\n",
              "  '5f50ee18807c56000ea94f99',\n",
              "  '6232ae79619930000de86674',\n",
              "  '618e3717e8dfbf000d83a6a5',\n",
              "  '602abee3cf0adc7a26a95db2',\n",
              "  '61f7fad8dfdcab000d5b2dfd',\n",
              "  '5f50f96b4ab3510011db6009',\n",
              "  '61937b5daaba8b000ca71b31',\n",
              "  '55940cb37261691c8800004e',\n",
              "  '618922c574a865000ba18b99',\n",
              "  '5f86d4b00913e30012708a42',\n",
              "  '5b463f75e2f453056eafbd9f',\n",
              "  '6128e9b3e931bb000fb1d0b0',\n",
              "  '5fb28dca5f3b0b000f3325cf',\n",
              "  '56d7e8f57622dd19fb0002cd',\n",
              "  '53234b22b202a3f3970000a9',\n",
              "  '608ad0233440e300128a014f',\n",
              "  '59b52d368b0c147e61a7f2ff',\n",
              "  '6054c550ae2b340011d88180',\n",
              "  '6248531dc0733e000e2277ed',\n",
              "  '584052c82a893a7844000082',\n",
              "  '61f7fade50548e000bc26e9b',\n",
              "  '61f7fadc45f122000d428169',\n",
              "  '6232ac66388f17000da5b331',\n",
              "  '5e70ed26d353360010022822',\n",
              "  '602e8d3a08fb95217800d5cc',\n",
              "  '5d6eb132a3566d000f231ff0',\n",
              "  '615effb66cf2a8000b72c905',\n",
              "  '5e2733bae2b26b00109e9a27',\n",
              "  '606da13a654a46001266de1d',\n",
              "  '602ad5bfd6decf25ec368cc2',\n",
              "  '59b7c805a09a672551d08dd2',\n",
              "  '573cbd1a139b2125fe0029f3',\n",
              "  '559570747261695458000453',\n",
              "  '58865c40275b242e4c75c785',\n",
              "  '5b46068139de082840b3cb99',\n",
              "  '59b55055a09a672551d06d42',\n",
              "  '6225233b0b606c000d3f9592',\n",
              "  '5e9b6b2bfb3c8d000e6c81a6',\n",
              "  '5565cd02726169267c7e1300',\n",
              "  '5964ee4bc9dc246e416f5dd9',\n",
              "  '5e711cd4f2e77a000ed4e24c',\n",
              "  '5d987b6367f109000f205443',\n",
              "  '5d56d060c47d180012e54af1',\n",
              "  '5b7eaf2393ffa710590db84c',\n",
              "  '5e4e92e8e3eed0000ed04a6b',\n",
              "  '5595722072616970ce00002d',\n",
              "  '5fce8de0212bcf7ae7378079',\n",
              "  '60203091ccedc9000d7a91c2',\n",
              "  '61ddf8c39cdb24000da63988',\n",
              "  '6242f7fbbd6223000d690341',\n",
              "  '623df158a6c4bf000d0520fb',\n",
              "  '5eea3f957264b30012249f5a',\n",
              "  '616ee6e70a90c9000b447f68',\n",
              "  '57448c5e8b3b8145d7004dcc',\n",
              "  '5b473b6d12c7e11d46de54fd',\n",
              "  '545a0b687261691cdce91200',\n",
              "  '61c9b8946adcdb000c3e6651',\n",
              "  '57dacf8a139b2171b9001bf5',\n",
              "  '5bf48979ef51362485f48d87',\n",
              "  '5f31a9fc8e6bd30012d70797',\n",
              "  '5dd4647611382b0012a530c6',\n",
              "  '5d98669b67f1090013d9d22f',\n",
              "  '59d90ab0275b2478265db847',\n",
              "  '59b7d2cf2a893a5fe71e22f4',\n",
              "  '57513e77139b212571000d34',\n",
              "  '570e1c9e139b216f350005bf',\n",
              "  '56428eddf46c4c0209000427',\n",
              "  '620fdace382309000e5ac4f0',\n",
              "  '6113e6c16a4e5d000cda720f',\n",
              "  '5b326185139b211b4826f835',\n",
              "  '623ca5c15e13aa000c03d414',\n",
              "  '56d7e9099c18db565a0004f2',\n",
              "  '6087ec4f9ebd6b00122a45a9',\n",
              "  '623464fbcd7d54000c972b3e',\n",
              "  '5ff5ab0b79d2a70011285fa9',\n",
              "  '622097d36633ce000ce2c53e',\n",
              "  '5fc60c5c01f3a02eef9cab42',\n",
              "  '5f9da97f9041170011b26853',\n",
              "  '5c01403a5aae0722481d9c91',\n",
              "  '611d7504661b92000fdcd9e1',\n",
              "  '5cc1d1bcd33e100011d645a5',\n",
              "  '5cc335078627914b87f6e66c',\n",
              "  '62484fdcc0733e000cd46cb4',\n",
              "  '61d0b5ea246f20000d8b29ec',\n",
              "  '5fc66482b670d50012f9d21f',\n",
              "  '6038d91e661d04000e3a4d3d',\n",
              "  '5da31a0b3b9a0b000e73707e',\n",
              "  '5a9d6696a09a6769ae9275c5',\n",
              "  '59295fe68b0c14470a8a86b6',\n",
              "  '609d0a341591280013378152',\n",
              "  '589c89f47622dd633f09eb6c',\n",
              "  '6128fa8766f87b000cac9d5a',\n",
              "  '620fc8f44c6452000dba0d57',\n",
              "  '5e4799fd5e565a000e6eb0bc',\n",
              "  '551dac6e7261690cd82c0600',\n",
              "  '62153ad684adf2000c404864',\n",
              "  '619cff08fa694a000ce57a54',\n",
              "  '5c6815473dea11718e8a31ff',\n",
              "  '61937b4d38a09b000c3278a2',\n",
              "  '5e9b607f6d80a900114eb6fe',\n",
              "  '5e6951dc34124b0012b920ee',\n",
              "  '616ee77abae128000d749f73',\n",
              "  '6221ccd4d1f48f000eb8dbd5',\n",
              "  '5df386a4e5957400124914dd',\n",
              "  '59b799fd139b211a88099b1d',\n",
              "  '603fe9ee4955160012604cca',\n",
              "  '5fbd5df41dd2c430506b0e70',\n",
              "  '57349b00b202a365ff000492',\n",
              "  '560a745772616937ae0001c9',\n",
              "  '5ff5ab039aa258000ef5ca24',\n",
              "  '5efe90ec33e87f0010c02ed8',\n",
              "  '620eac00abf762000c0677c1',\n",
              "  '6249df119b8483000de90416',\n",
              "  '6221cce1822734000c3a8067',\n",
              "  '5d24c4df1bf082000f56caa7',\n",
              "  '60081c7ace192e000d4b6989',\n",
              "  '5f7336d19f53de00113a2d5b',\n",
              "  '5f49076daaca37001189bdb1',\n",
              "  '61ddf3e19cdb24000c656306',\n",
              "  '55f99a9f726169662d000112',\n",
              "  '58a325ae8b3b810188cca672',\n",
              "  '60f5a731b41f4a0013478922',\n",
              "  '622ca5b9937f15000d4c2dad',\n",
              "  '61a7ab6515676d000cc018ee',\n",
              "  '5f64c58a06d1940011115767',\n",
              "  '6029099dc0b845000eb1dddd',\n",
              "  '5ebfb2fce5088a0012c97358',\n",
              "  '5ca51852a025fe45048d8c23',\n",
              "  '5d46083b0ca6a0000d573d5c',\n",
              "  '615a37043583d0000db8571c',\n",
              "  '5f9d93c28671c9000e8896fe',\n",
              "  '5d73fd8099b67b00125f0397',\n",
              "  '61ddf3a05bfbcf000c6a6f7c',\n",
              "  '6225233b3e609c000dc43725',\n",
              "  '6229e440df1d11000b0e8dc6',\n",
              "  '5f7c81834d542f0011316d3e',\n",
              "  '6032b6e3d3ca140012d3e633',\n",
              "  '604912bb9717c10012b224ce',\n",
              "  '5bdc3b5f3cc3705dcfccf81f',\n",
              "  '5ecb9d554f575e00116193a5',\n",
              "  '54ac342a7261692c48560300',\n",
              "  '5340391da09a67cb3a000414',\n",
              "  '5628acab72616978100003b2',\n",
              "  '606daf4976c45c0012d5105b',\n",
              "  '5b535f45a5cac45c3b7b9a67',\n",
              "  '5cf112792d95bc000db630d4',\n",
              "  '5c7fcd2f495c6f0028e67f91',\n",
              "  '5f50e576585cc0000eaab5a4',\n",
              "  '61dfff6934a2ac000d9a0217',\n",
              "  '60678661a020ad00110a8468',\n",
              "  '555b5523726169044e080300',\n",
              "  '58af4250a09a677d756276b3',\n",
              "  '5d24c87df246ba000ee584ff',\n",
              "  '59ca6ac9b202a34d63ceb647',\n",
              "  '5b9ab6b361d5c45c5374b064',\n",
              "  '5ade0a987622dd2e5a010092',\n",
              "  '5e7a219954c53f000e80834e',\n",
              "  '5ec11ea3039c4700114eff31',\n",
              "  '61f9581711a67b000c4332e2',\n",
              "  '620eaf7f2b9be8000f64f7bf',\n",
              "  '5da8792080e4b80012d7aaac',\n",
              "  '5f4e7a01b4e3b5000f518e3d',\n",
              "  '56cf191d66fd1c66e0000046',\n",
              "  '5a39308f8b3b815e512ae265',\n",
              "  '5fbd781b0607ec0012322284',\n",
              "  '5db2aeb264adc100128261e6',\n",
              "  '5d37560c765b43000ed1a464',\n",
              "  '566c1fce7076d0783c00034d',\n",
              "  '5eabe8e8430d33000f165772',\n",
              "  '6203dff36f8513000b3c39d2',\n",
              "  '6128e9abd8c4a8000d9cf57e',\n",
              "  '61a654ad2db248000df5fd2f',\n",
              "  '56c3702eaa00b51bbe0002a9',\n",
              "  '5be57c32c5a460759009d8d0',\n",
              "  '6216f7e691ce4a000fda7a01',\n",
              "  '61c5866f00b2f3000b57c424',\n",
              "  '54c26b967261692c5db10500',\n",
              "  '5ed6965d82185e000e91557f',\n",
              "  '624da0883bd237000d80045b',\n",
              "  '61613a0bc5d45c000ce350c5',\n",
              "  '60d8388f020ebf001201142e',\n",
              "  '62038582a6957b000ce25fa3',\n",
              "  '5d65a20b94214a000e958fdd',\n",
              "  '61e52baa10b27d000cf78bf2',\n",
              "  '60744636636579000f403ef6',\n",
              "  '609c055a8b262b000e95086c',\n",
              "  '5331b56ecb4c2766cd00002a',\n",
              "  '5cb798d4252a52778c945889',\n",
              "  '5635320c726169695b00054d',\n",
              "  '5fbf87b031033b000e674a31',\n",
              "  '610ae8bf8f0957000e639fec',\n",
              "  '5c092be4f1989616024efa8d',\n",
              "  '615346428a65d4000d32b3c8',\n",
              "  '5dcc2a5802bbb4000ec9e8c7',\n",
              "  '6035603774e91a001180d128',\n",
              "  '6064682f30e7af0012f4acdc',\n",
              "  '5980662c9c18db0634a87fef',\n",
              "  '55063b197261692addaa0100',\n",
              "  '5fe25bed8699d6000dddbabc',\n",
              "  '56ead9d9139b210287003179',\n",
              "  '603562e01d62c20012248827',\n",
              "  '6229f34ad59304000c0b06ac',\n",
              "  '53dbb1527261692cf38f0000',\n",
              "  '5e45d82ee0ac10000d883d6a',\n",
              "  '53248410275b24af56000269',\n",
              "  '5fad5fa4e4f7f5000e1cea7e',\n",
              "  '6249da1267d769000d0b2520',\n",
              "  '58b1722f7622dd4cb9274fdb',\n",
              "  '5e622d53b9dbc000125375ba',\n",
              "  '5e9b607fc2e576001296b1a4',\n",
              "  '6065d8c9e4b6eb000d3bf38d',\n",
              "  '5b91184d9d9cfc002c2bc203',\n",
              "  '5c49eb34c1165366c6ef5702',\n",
              "  '6248531dc0733e000cd46f4e',\n",
              "  '5f741362b2f29d001153d0b6',\n",
              "  '60564af289ac1000117a4a5a',\n",
              "  '59295d799c18db062fd3ade6',\n",
              "  '61f7faff3b80ea000c066e74',\n",
              "  '58a326639c18db1fb0417a29',\n",
              "  '5db2aeda21c89a000fa5c2e5',\n",
              "  '54da32ff7261693057030000',\n",
              "  '566c25f3a6ca6d6508000007',\n",
              "  '61f7faf4b8ac9a000ded84c1',\n",
              "  '5cc1cf33b4d1411ac919fd31',\n",
              "  '61586c4d4bcc40000ccfc111',\n",
              "  '6249da1573055d000e13340b',\n",
              "  '61996a1d107c96000ef5049f',\n",
              "  '5e83256074dc44000dc60ab4',\n",
              "  '58a47b87275b2441bf2bca46',\n",
              "  '5e45d8c0e0ac10000d883d91',\n",
              "  '606db1a2da84bf000e9a675c',\n",
              "  '5b02d6814b848016f7007e94',\n",
              "  '61dcb287b60e89000bc479b5',\n",
              "  '5e6ac6408e694400114977ba',\n",
              "  '5d321024e2b5e0000ecfb4ed',\n",
              "  '6013fa7cd3d208000ebe01ec',\n",
              "  '5eb46b2dd62d06000e7944f8',\n",
              "  '5d6eaf5198cff6000e44583c',\n",
              "  '4e5bc41dd17b61000100450e',\n",
              "  '62349f4dc37e15000b41b27a',\n",
              "  '5cb24eb2a8e36001f1c01d43',\n",
              "  '61dfff4a0efe2f000c6f3f33',\n",
              "  '54da333b7261690825140000',\n",
              "  '5f91708472b4a9000d0508f9',\n",
              "  '5e83c4911bd1b90012e907e5',\n",
              "  '551598437261691fc2f33f00',\n",
              "  '60632a92683ac7000e9a5f6b',\n",
              "  '5f64c74fc5bd3100128aa6e7',\n",
              "  '5c3b145b9b417459a709d9ac',\n",
              "  '61864c2a39ebc4000cb4a57a',\n",
              "  '53234b29c9dc241076000545',\n",
              "  '6127b5c18d820d000fb943c1',\n",
              "  '5f6f6b33ad2776000eed3cff',\n",
              "  '5d9877bf67f1090013d9d520',\n",
              "  '5a0607a0a09a6703e415644b',\n",
              "  '60e9a0f74600f3000efa74d0',\n",
              "  '5e29affec4bae3001273e350',\n",
              "  '5f75f18704fa23000e5f9bb0',\n",
              "  '5da8792314dc8b0012f7ccfa',\n",
              "  '5a78d1988b3b813aa27318ef',\n",
              "  '5672c64d8b0c1409d1000161',\n",
              "  '5b0d2eeacd530e163f54c674',\n",
              "  '5dc1da2dade80d00158d8752',\n",
              "  '5a26e0979c18db1a0dd1278a',\n",
              "  '6169f5363df3cb000c3c673a',\n",
              "  '5f6cae77f00c10000ec8fcd5',\n",
              "  '5ece947a6bb2f700115149ea',\n",
              "  '5e8487c1193c400014dea1b8',\n",
              "  '6221ccc9bd93fe000dd01a2f',\n",
              "  '6218c6233bd571000dfd540e',\n",
              "  '5d94f91751f8a8000d3f7aab',\n",
              "  '5672c134b8bad46451000003',\n",
              "  '5ff5a9e666d46f000ea04e8c',\n",
              "  '61697b70ea06ac000c8b09e6',\n",
              "  '605f3f922aad18000eccfc04',\n",
              "  '60cdfacfcf0d6e0013ec5053',\n",
              "  '5c6dc12fc4bfaa1abd650f2b',\n",
              "  '602d47eeeda10e000d267224',\n",
              "  '60081c77ee87690011ea8def',\n",
              "  '5595722072616970540000d1',\n",
              "  '61ddb8bed8eb83000ea58531',\n",
              "  '622216a6de2607000eaaad1c',\n",
              "  '5c082a30b6d4e9002ba28a37',\n",
              "  '5d56d001faa3d300122125d9',\n",
              "  '614a82b2b68526000c3530c6',\n",
              "  '603e520ce277e2000d8331a0',\n",
              "  '6013f6e103625318f5b5cf53',\n",
              "  '619cdfd0738f4b000c8d3ff5',\n",
              "  '5feca8de85399b00118ed7e7',\n",
              "  '615c505c5a4a41000c5cb011',\n",
              "  '59d9018f9c18db249fcd0ef8',\n",
              "  '53234b26c9dc24d06a000650',\n",
              "  '5e06440bcb5c99000d1be7ca',\n",
              "  '5f6f6b34ad2776000eed3d05',\n",
              "  '603fc84e24d851000d1c162b',\n",
              "  '607443254591a500124604e3',\n",
              "  '5f6f7051b5acad000e267f1c',\n",
              "  '54ac341f7261692b5f850100',\n",
              "  '61dfff481bccfc000c408357',\n",
              "  '605f445c3d315000106caf0f',\n",
              "  '5cc1cefaa16d441554cfaf8a',\n",
              "  '6221ccc8d1f48f000cb71257',\n",
              "  '622797a3c1f2ee000ce06ad7',\n",
              "  '61f7fafc45f122000cdd901a',\n",
              "  '588ba183275b2474537d5d56',\n",
              "  '5fc62f2d2c1d0c10b26e9d3b',\n",
              "  '619e770ed17d4b000d491994',\n",
              "  ...],\n",
              " 'category_id': '08',\n",
              " 'id': '08026',\n",
              " 'link': '/gene/eastern-mediterranean',\n",
              " 'name': 'Eastern Mediterranean',\n",
              " 'parsing_date': '2022-03-29',\n",
              " 'updating_date': '2022-04-20'}"
            ]
          },
          "metadata": {},
          "execution_count": 395
        }
      ]
    },
    {
      "cell_type": "code",
      "source": [
        "genes_dict['nft']"
      ],
      "metadata": {
        "colab": {
          "base_uri": "https://localhost:8080/"
        },
        "id": "r-lyCswRVy3S",
        "outputId": "70068494-e480-473f-f273-14df8f3fd8f9"
      },
      "execution_count": 396,
      "outputs": [
        {
          "output_type": "execute_result",
          "data": {
            "text/plain": [
              "{'artist_id': ['27594',\n",
              "  '46719',\n",
              "  '04041',\n",
              "  '11053',\n",
              "  '26219',\n",
              "  '24911',\n",
              "  '46715',\n",
              "  '46710',\n",
              "  '20712',\n",
              "  '27147',\n",
              "  '03848',\n",
              "  '46721',\n",
              "  '46713',\n",
              "  '04081',\n",
              "  '08581',\n",
              "  '05536',\n",
              "  '06705',\n",
              "  '06752',\n",
              "  '33053',\n",
              "  '00169',\n",
              "  '31242',\n",
              "  '15867',\n",
              "  '46714',\n",
              "  '05160',\n",
              "  '46727',\n",
              "  '26734',\n",
              "  '04183',\n",
              "  '06720',\n",
              "  '23290',\n",
              "  '30970',\n",
              "  '19602',\n",
              "  '26485',\n",
              "  '30167',\n",
              "  '06868',\n",
              "  '06570',\n",
              "  '11408',\n",
              "  '25295',\n",
              "  '01823',\n",
              "  '24326',\n",
              "  '21779',\n",
              "  '10503',\n",
              "  '25145',\n",
              "  '16525',\n",
              "  '06557',\n",
              "  '46728',\n",
              "  '02560',\n",
              "  '03702',\n",
              "  '20026',\n",
              "  '46723',\n",
              "  '29563',\n",
              "  '04867',\n",
              "  '13573',\n",
              "  '01121',\n",
              "  '46730',\n",
              "  '03140',\n",
              "  '21772',\n",
              "  '20893',\n",
              "  '46726',\n",
              "  '09949',\n",
              "  '27539',\n",
              "  '23303',\n",
              "  '20273',\n",
              "  '08515',\n",
              "  '16827',\n",
              "  '46716',\n",
              "  '27692',\n",
              "  '16920',\n",
              "  '31326',\n",
              "  '04449',\n",
              "  '27875',\n",
              "  '46718',\n",
              "  '00040',\n",
              "  '42438',\n",
              "  '09778',\n",
              "  '32374',\n",
              "  '28251',\n",
              "  '07413',\n",
              "  '46717',\n",
              "  '13584',\n",
              "  '33838',\n",
              "  '28779',\n",
              "  '25685',\n",
              "  '17724',\n",
              "  '46725',\n",
              "  '27412',\n",
              "  '11886',\n",
              "  '18653',\n",
              "  '46720',\n",
              "  '26660',\n",
              "  '46709',\n",
              "  '29946',\n",
              "  '29662',\n",
              "  '16168',\n",
              "  '00754',\n",
              "  '32575',\n",
              "  '14713',\n",
              "  '14899',\n",
              "  '46724',\n",
              "  '12877',\n",
              "  '16040',\n",
              "  '46729',\n",
              "  '00417',\n",
              "  '07999',\n",
              "  '01672',\n",
              "  '30020',\n",
              "  '24226',\n",
              "  '08108',\n",
              "  '09308',\n",
              "  '17981',\n",
              "  '21196',\n",
              "  '06625'],\n",
              " 'artsy_id': ['622f578bc207b4000b17b3ba',\n",
              "  '6230f918db8c27000d50df8d',\n",
              "  '618cee1217066f000d98190c',\n",
              "  '61f333da8a3d6c000d30e1ce',\n",
              "  '61e597680d2da0000bf7ac49',\n",
              "  '624c0f4c1921db000e913de4',\n",
              "  '6220b6706633ce000eb17586',\n",
              "  '6222121915c61f000c296aaf',\n",
              "  '60ee92a620e2690012b1b1ac',\n",
              "  '620d4e5c32fe75000b65e6b0',\n",
              "  '622211a999b8f4000d8cff2e',\n",
              "  '620d5084d42424000b5861c8',\n",
              "  '61f58332b8a5b0000cc3829f',\n",
              "  '622f578b775d1d000b1bb165',\n",
              "  '6064efa9342cd0000e7477eb',\n",
              "  '6231054817e616000b0b389e',\n",
              "  '621919e5d8eecd000c47b135',\n",
              "  '6230ffb352889e000de4f15e',\n",
              "  '61be0fc6d8624f000d09ffba',\n",
              "  '61fd7fb4e008a2000d6b93c3',\n",
              "  '6195e7d0ec21a7000d25a8de',\n",
              "  '615db41d2ebd74000b5bce84',\n",
              "  '608987eb8b03f900135d1b76',\n",
              "  '61aa2f36cccc29000bcf2e82',\n",
              "  '62237fd43e609c000dc2ac58',\n",
              "  '615da9cd2ebd74000dbca3fe',\n",
              "  '6195268e1f44dc000c52e58e',\n",
              "  '6193e22b373b73000b0fe943',\n",
              "  '624a76c7a3259b000e7c3ef3',\n",
              "  '60882a30acf36d000ef20e0e',\n",
              "  '62003cdd5d6e68000be31211',\n",
              "  '621917595d885f000b513576',\n",
              "  '621919e41b2bbc000bab6747',\n",
              "  '62500770d97b19000ce0225a',\n",
              "  '61d8ac5b81af74000dfd9ff8',\n",
              "  '60b8f973f0e8ae0013f20f2d',\n",
              "  '60899160f76f96001366a467',\n",
              "  '619d2547fa694a000b0e6f3d',\n",
              "  '60f0123008278900128fca9f',\n",
              "  '61aa307a97b819000ef9384e',\n",
              "  '623103d964803b000e1c4568',\n",
              "  '62186dfbee6b52000b06e989',\n",
              "  '61a36f3a416a8d000bfccc27',\n",
              "  '623dc4b4dc8515000c14fcb8',\n",
              "  '624a73efa3259b000c26608b',\n",
              "  '6223787ee8f791000e480487',\n",
              "  '608a0017e38b350014d8669b',\n",
              "  '61b0dd6cc93866000cfc891d',\n",
              "  '61fd7fb13e73b9000cf9f02b',\n",
              "  '6218146e3ce20e000e179d60',\n",
              "  '620a77f2fea647000c202da1',\n",
              "  '623e1f126d11ff000cbc184a',\n",
              "  '621e60e7911401000b084b14',\n",
              "  '621921db61a45e000dd19259',\n",
              "  '620b7345682ce4000d8dc094',\n",
              "  '622a30aaef8c99000c8ee197',\n",
              "  '620fab3bc9a9f6000dab368d',\n",
              "  '6089fe09aed126001290df11',\n",
              "  '60882a6bdca50e0010682373',\n",
              "  '62442c1eb77844000daa7a31',\n",
              "  '6196a5361d916a000d204c6c',\n",
              "  '62191759647b89000d89393c',\n",
              "  '6047a3ac26161d001215b8df',\n",
              "  '6170041241add2000ed3e203',\n",
              "  '60898c56745e68000f2b6379',\n",
              "  '621e1014d8e734000d7afe8b',\n",
              "  '624ad400f15311000dc34719',\n",
              "  '6233509f54bef5000c102eaa',\n",
              "  '621e10d9fb725d000c6313c4',\n",
              "  '624a6b63c77b5e000de0fdf8',\n",
              "  '6219143bda6402000eaf4aca',\n",
              "  '6195e4c1231ecc000c2e7689',\n",
              "  '60898e9c0013cd000ee73dea',\n",
              "  '62500769a15c60000dda1d56',\n",
              "  '619572af9bb476000da5f24e',\n",
              "  '61be0ce823eeeb000b55650a',\n",
              "  '60898fa49b9048000e755cd1',\n",
              "  '6149c4b511f501000b4db591',\n",
              "  '6231f535c00656000ba3a539',\n",
              "  '617aac989fb87e000b7bf85e',\n",
              "  '61201d7d86ffad000c092688',\n",
              "  '62224c630b606c000bf566ec',\n",
              "  '61fcfd162a63f5000c236c91',\n",
              "  '611c41916fca5b000fd0f059',\n",
              "  '61a36fdcf12183000c30afaa',\n",
              "  '6149fddaa02a13000e8b1365',\n",
              "  '608923810396e100133cd428',\n",
              "  '618fe2232a9dd5000d8e2d2a',\n",
              "  '62442b9f4d4ea5000ccf5d00',\n",
              "  '624a6d3241a9b0000c3326b6',\n",
              "  '624a63de20573b000eb57c06',\n",
              "  '619527b01ce16c000d8c8800',\n",
              "  '620eb5f695eee1000d8e5a3c',\n",
              "  '62442ac9060cc4000dab7865',\n",
              "  '6149ed8ee45461000ca56262',\n",
              "  '612f3ebcb31886000c0d4b57',\n",
              "  '623119283acb43000b15e117',\n",
              "  '622f0d96090708000e3d9483',\n",
              "  '61fd6ea63644b6000ce3aa3e',\n",
              "  '60898ff8a1a4c400126706b8',\n",
              "  '6230fbc7656725000db54d4a',\n",
              "  '6227176f59da54000c9e6ed5',\n",
              "  '6193de66e957a3000d82f9ac',\n",
              "  '621876a5d755e3000d4b727c',\n",
              "  '6230fdce3af000000c8b8c43',\n",
              "  '60411090d8c8da00118e6177',\n",
              "  '6196a5241f1534000b8aec70',\n",
              "  '621921dc787c88000e557651',\n",
              "  '615ee80dea8c22000daf99dc',\n",
              "  '620a68d953dd42000c9fa9ab',\n",
              "  '614477b3d992e2000ede7222',\n",
              "  '62164b5dff2aff000ede03ae',\n",
              "  '62160d615ceac2000b951c22',\n",
              "  '621f38846f6f54000d9b18ae',\n",
              "  '6235314a8e0813000e8afff4',\n",
              "  '608956074ca4de000eabc3ed',\n",
              "  '620a6f82fc3035000dd22754',\n",
              "  '6193ea2b08e6b2000b8de316',\n",
              "  '60f00aa4c5aa79000f398f39',\n",
              "  '62276ef97e307f000b4ddc7a',\n",
              "  '61927918213cbd000c2721be',\n",
              "  '6193df6b66eb75000c5e2fe9',\n",
              "  '6217ddcd2f100e000d88e971',\n",
              "  '6239735aabd80c000c4180aa',\n",
              "  '621876a591ce4a000dca79b9',\n",
              "  '622ddca5cf1fd3000d0b3eab',\n",
              "  '614dd279436c6f000c54ea96',\n",
              "  '6233509e747ab6000ba34bf9',\n",
              "  '621f48db9eadd8000cd0902c',\n",
              "  '6219104ed8eecd000c47a78a',\n",
              "  '6135165178500e000cdb60ee',\n",
              "  '61a0ff76772b49000be0a244',\n",
              "  '6194e1a7d0bb7b000d90fc66',\n",
              "  '6149c48e224e99000dba9b26',\n",
              "  '61be0e0c3c517e000ef1ec68',\n",
              "  '6149edb789a97b000ca5f0ff',\n",
              "  '60898f24745e6800137c9a85',\n",
              "  '6149f50cbec99e000b023ba4',\n",
              "  '620fab3ba3ddbf000c805b19',\n",
              "  '621919a1c08f34000d6e4e76',\n",
              "  '621921dd61a45e000bc36767',\n",
              "  '619277935e679c000c652edc',\n",
              "  '623d6cef3a53c2000cc0f4c0',\n",
              "  '619572ad4c4986000c652224',\n",
              "  '615db5fb28b240000ca6a9df',\n",
              "  '5fbd73601dd2c430506b1dd4',\n",
              "  '6195d435b7a671000d029337',\n",
              "  '60892382f76f96000f6db5f0',\n",
              "  '623e46c60b71f5000d32f0db',\n",
              "  '60b79e24dd9356001343493b',\n",
              "  '61a36fbf41d6d9000b4f24ea',\n",
              "  '61952b73b340a6000d9d436a',\n",
              "  '604cd092f7a34400110d24ba',\n",
              "  '60edb503f41ac30012620305',\n",
              "  '6227e6f69dc15b000c2ee603',\n",
              "  '61a0f6d1a4988a000c680c7f',\n",
              "  '620a49f2fea647000ba59c6c',\n",
              "  '61312033464e3c000ca82d63',\n",
              "  '620a49f37c6699000c370794',\n",
              "  '61a0fa2e1bb11c000b588a31',\n",
              "  '62484e94f0d1fc000ecf2444',\n",
              "  '61f277ded8310d000cca9b53',\n",
              "  '62273fd2497244000dace621',\n",
              "  '6220b5cefa3555000d1ca04f',\n",
              "  '608992254163ac0012d8829d',\n",
              "  '616abe28d55d48000bb1c305',\n",
              "  '619572acb685c5000ceca694',\n",
              "  '621dbe21caa7a5000c2604c4',\n",
              "  '62190e6f6eda7a000ce9d39a',\n",
              "  '620a47e894b381000c755777',\n",
              "  '609a884edb50c2000e4eacff',\n",
              "  '62191759647b89000d893941',\n",
              "  '6149f02e23ce4c000cbb5ae5',\n",
              "  '6196a6a037c5c1000ca1acb9',\n",
              "  '620fab3b63368e000d7509b3',\n",
              "  '611d35f1e643bb000caae58e',\n",
              "  '624c0f8be36099000d49f0d2',\n",
              "  '622211aa1c9af3000c715e21',\n",
              "  '615ee6c978ead0000caa5f9f',\n",
              "  '623d72bbd4c47f000c5a4ab2',\n",
              "  '6193e0951f44dc000deea756',\n",
              "  '61927a049d8acd000bc03429',\n",
              "  '6193e3bedd2449000d677dfd',\n",
              "  '619d23c58c9a7a000c92ebce',\n",
              "  '60d4be0e83d13a001332cc14',\n",
              "  '618cee12651427000c7fe7f0',\n",
              "  '622da70b7c3db2000b4547c4',\n",
              "  '6233509f0c6895000c5c4f65',\n",
              "  '621921dcda6402000c858c86',\n",
              "  '61e56a9b0c5ab3000ce3cbcc',\n",
              "  '6198b0ff5cf1b2000eb2e8fc',\n",
              "  '6241c2b5cab04c000bddb192',\n",
              "  '61a36f6be3542d000bbe52e2',\n",
              "  '6219143b61a45e000dd1867a',\n",
              "  '613d05423c5e30000b2a3f33',\n",
              "  '6149f82ee198cb000c069834',\n",
              "  '6217d6f1ffb7d8000d90c1b4',\n",
              "  '61aa735aac95c2000d636419',\n",
              "  '624a63de628670000d5c44ad',\n",
              "  '60e8522bc9a99b000eadc189',\n",
              "  '62347b70c57009000d045ac7',\n",
              "  '611c4d318d65ba000ff91547',\n",
              "  '622ddf9169467d000ce2db01',\n",
              "  '608982f810b9bb000ee1ec83',\n",
              "  '60b3a710b1469f00123ff04f',\n",
              "  '620a4853c38cc3000ecdce60',\n",
              "  '6227514645db7a000e3a26b4',\n",
              "  '6215fd4d45f8ad000da5c8ea',\n",
              "  '620a6687b5965e000cd08bb9',\n",
              "  '60f883b24321f000135a33b7',\n",
              "  '602eff03f242f8000e0c18c2',\n",
              "  '61f973808de4a4000bca2be4',\n",
              "  '608987018ce284000f05eac8',\n",
              "  '61a0fea5a4988a000bddbd7c',\n",
              "  '624a63def972fe000c573865',\n",
              "  '623109d5e25edd000c674868',\n",
              "  '619205c4700954000c89b069',\n",
              "  '623108c1c99f87000c29c407',\n",
              "  '621921dc5fd5b9000d8d186a',\n",
              "  '6219143b3deebf000b70563a',\n",
              "  '62190e6f3deebf000b70506d',\n",
              "  '61aa2d3a97b819000c6871e0',\n",
              "  '615dca9dfa996d000d03d3db',\n",
              "  '61fd7fb4b9ff6c000c84bbdc',\n",
              "  '6194e2dbb4c185000c4882e1',\n",
              "  '6149f3840acef0000cd662fc',\n",
              "  '623a637b6119d1000c489109',\n",
              "  '61fd7fb1c4a008000df1bdd4',\n",
              "  '62186df9903ad1000de42cff',\n",
              "  '624a6978e50923000d0b7cfb',\n",
              "  '608992bf55d0920012d4edf4',\n",
              "  '621e0d9e96d8a9000ce9aa5c',\n",
              "  '624c0f94264644000b17def6',\n",
              "  '61a91c8f8c6e81000dcbb1af',\n",
              "  '60882a382e50cd0010b088be',\n",
              "  '61a0fcee78e2a2000bc74dfd',\n",
              "  '623101828714c1000d624fb8',\n",
              "  '62180d213bd571000dfca223',\n",
              "  '60898d944163ac0012d87f1c',\n",
              "  '624a6e79a3259b000c265bc2',\n",
              "  '623e1f135f2256000dc86f80',\n",
              "  '61a92533fcbbf6000c06349d',\n",
              "  '6089858566f4f500136f3514',\n",
              "  '619572a89bb476000da5f243',\n",
              "  '611c415207b8e3000d3036da',\n",
              "  '619572aeec21a7000d2534fc',\n",
              "  '621e0ac9a7e6c6000b7bbbc6',\n",
              "  '612b65ae73c0b1000fffb651',\n",
              "  '60e84b70557ad500132c62b1',\n",
              "  '61e59775e24fc0000b7006d5',\n",
              "  '6113ae4f6a4e5d000e2283e1',\n",
              "  '6202a88dd3842f000e2bdeb1',\n",
              "  '624a7173e50923000d0b844c',\n",
              "  '608b41be45ae6a000f43d2a8',\n",
              "  '60b3a48d44adcd000e04017c',\n",
              "  '608923833506ec000e4f9837',\n",
              "  '622212191b53d5000ddeb513',\n",
              "  '623e1f12416876000b736563',\n",
              "  '61aa72a66d4de6000ddd7969',\n",
              "  '623b3a180a2803000e7672e1',\n",
              "  '6217de69c02457000b3f7663',\n",
              "  '62221219822734000e09cc9f',\n",
              "  '6231076a3af000000b1d2477'],\n",
              " 'category_id': '06',\n",
              " 'id': '06176',\n",
              " 'link': '/gene/nft',\n",
              " 'name': 'NFT',\n",
              " 'parsing_date': '2022-04-20',\n",
              " 'updating_date': '2022-04-20'}"
            ]
          },
          "metadata": {},
          "execution_count": 396
        }
      ]
    },
    {
      "cell_type": "code",
      "execution_count": 397,
      "metadata": {
        "id": "cfl3cmlXpCeW"
      },
      "outputs": [],
      "source": [
        "save_dict(genes_dict, gen_dict, 'live') # 1. Save json dict"
      ]
    },
    {
      "cell_type": "markdown",
      "metadata": {
        "id": "YUhq_HYV1Jop"
      },
      "source": [
        "## Backup saving"
      ]
    },
    {
      "cell_type": "code",
      "execution_count": 398,
      "metadata": {
        "id": "W-38Aa6B1QCJ"
      },
      "outputs": [],
      "source": [
        "save_dict(artworks_dict, artwork_dict.replace('.txt', '') + '_' + str(datetime.now().date()) + '.txt', 'backup') # 1. Save json dict\n",
        "save_dict(artists_dict, artist_dict.replace('.txt', '') + '_' + str(datetime.now().date()) + '.txt', 'backup') # 1. Save json dict\n",
        "save_dict(genes_dict, gen_dict.replace('.txt', '') + '_' + str(datetime.now().date()) + '.txt', 'backup') # 1. Save json dict"
      ]
    },
    {
      "cell_type": "markdown",
      "metadata": {
        "id": "0gZtVL8kQRqQ"
      },
      "source": [
        "# Images"
      ]
    },
    {
      "cell_type": "code",
      "execution_count": null,
      "metadata": {
        "colab": {
          "base_uri": "https://localhost:8080/"
        },
        "id": "XbbLPUYYFlb5",
        "outputId": "44e31edc-3da6-4c04-ce13-eefc670466cd"
      },
      "outputs": [
        {
          "name": "stdout",
          "output_type": "stream",
          "text": [
            "6 https:\n",
            "0 \n",
            "29 d32dm0rphc51dk.cloudfront.net\n",
            "22 NOpIAwQa-3r51Cg9qXKbfA\n",
            "10 normalized\n"
          ]
        }
      ],
      "source": [
        "# Sample from API tables\n",
        "\n",
        "# 'image': {'href': 'https://d32dm0rphc51dk.cloudfront.net/NOpIAwQa-3r51Cg9qXKbfA/{image_version}.jpg',\n",
        "#                      'templated': True}\n",
        "#i = 'https://d32dm0rphc51dk.cloudfront.net/NOpIAwQa-3r51Cg9qXKbfA/normalized.jpg'\n",
        "#for p in i.split('.jpg')[0].split('/'):\n",
        "#  print(len(p), p)"
      ]
    },
    {
      "cell_type": "code",
      "execution_count": null,
      "metadata": {
        "colab": {
          "base_uri": "https://localhost:8080/"
        },
        "id": "QC9_qiccgIxx",
        "outputId": "bac1e84a-dd97-420a-e4e1-681c27dbd39f"
      },
      "outputs": [
        {
          "name": "stdout",
          "output_type": "stream",
          "text": [
            "Populating the interactive namespace from numpy and matplotlib\n"
          ]
        }
      ],
      "source": [
        "#! pip install pillow --user\n",
        "\n",
        "import PIL\n",
        "from PIL import Image\n",
        "import os\n",
        "import cv2\n",
        "\n",
        "%pylab inline\n",
        "import matplotlib.pyplot as plt\n",
        "import matplotlib.image as mpimg"
      ]
    },
    {
      "cell_type": "code",
      "execution_count": null,
      "metadata": {
        "id": "hr1peJbUgNIp"
      },
      "outputs": [],
      "source": [
        "image = requests.get(img, headers={'User-Agent': 'Chrome/97.0.4692.71'})\n",
        "name = art_project_path + '/' + 'portrait_of_a_man_in_armour' + '.jpg'\n",
        "\n",
        "img = open(name, 'wb')\n",
        "img.write(image.content)\n",
        "img.close()\n",
        "\n",
        "img = Image.open(name)\n",
        "plt.imshow(img)\n",
        "plt.axis('off')\n",
        "plt.show()\n",
        "\n",
        "img.close()"
      ]
    },
    {
      "cell_type": "code",
      "execution_count": null,
      "metadata": {
        "id": "p8rqD1VfT_Mk"
      },
      "outputs": [],
      "source": [
        ""
      ]
    }
  ],
  "metadata": {
    "colab": {
      "collapsed_sections": [
        "tgPcokInD1We",
        "fXS9WF4KEG4A",
        "ysydU0bctwHa",
        "EIMfFZTJv9Fs",
        "znvj69nSy9lf",
        "Jm2PBAgezApk",
        "ZQ7z40v6ZUZV",
        "ZS_6uxf4mtko"
      ],
      "name": "Artsy_genome_api.ipynb",
      "toc_visible": true,
      "provenance": [],
      "mount_file_id": "1Ms0wyFoVy_iO7JS9cHDw7qKhRKS_aCkq",
      "authorship_tag": "ABX9TyOlIqSBCZrTxealI54UK4AI"
    },
    "kernelspec": {
      "display_name": "Python 3",
      "name": "python3"
    },
    "language_info": {
      "name": "python"
    }
  },
  "nbformat": 4,
  "nbformat_minor": 0
}