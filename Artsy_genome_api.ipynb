{
  "cells": [
    {
      "cell_type": "markdown",
      "metadata": {
        "id": "tgPcokInD1We"
      },
      "source": [
        "# Library"
      ]
    },
    {
      "cell_type": "code",
      "execution_count": 48,
      "metadata": {
        "id": "T1ngM_lUDOOI"
      },
      "outputs": [],
      "source": [
        "import logging\n",
        "import requests\n",
        "from bs4 import BeautifulSoup\n",
        "from urllib.error import HTTPError\n",
        "\n",
        "import http.client as httplib  # or http.client if you're on Python 3 # httplib\n",
        "httplib._MAXHEADERS = 10000\n",
        "# ChunkedEncodingError\n",
        "\n",
        "import time\n",
        "import datetime\n",
        "from datetime import datetime, timedelta\n",
        "\n",
        "import re\n",
        "\n",
        "import json\n",
        "\n",
        "import warnings\n",
        "warnings.simplefilter(action='ignore')\n",
        "\n",
        "import pandas as pd\n",
        "import numpy as np\n",
        "import sys"
      ]
    },
    {
      "cell_type": "code",
      "execution_count": 2,
      "metadata": {
        "id": "IwtF3gKBj6NL"
      },
      "outputs": [],
      "source": [
        "# pathes\n",
        "art_project_path = '/content/drive/MyDrive/Art/Art_Project'\n",
        "art_project_path_backups = '/content/drive/MyDrive/Art/Art_Project/parsing_backups'\n",
        "art_project_path_tests = '/content/drive/MyDrive/Art/Art_Project/parsing_tests'\n",
        "\n",
        "url_add = 'https://www.artsy.net'\n",
        "\n",
        "# files\n",
        "cat_dict = '/artsy_genom_cat_dict.txt'\n",
        "gen_dict = '/artsy_genom_gen_dict.txt'\n",
        "artwork_dict = '/artsy_genom_artwork_dict.txt'\n",
        "artist_dict = '/artsy_genom_artist_dict.txt'\n",
        "temp_data = '/artsy_temp_data.csv'\n",
        "\n",
        "# id length\n",
        "cat_id_len = 2\n",
        "gen_id_len = 5\n",
        "artist_id_len = 5\n",
        "\n",
        "# for addition and updating\n",
        "recently_added_pref = '?sort=-published_at'\n",
        "recently_updated_pref = '?sort=-partner_updated_at'"
      ]
    },
    {
      "cell_type": "markdown",
      "metadata": {
        "id": "fXS9WF4KEG4A"
      },
      "source": [
        "# Functions"
      ]
    },
    {
      "cell_type": "markdown",
      "metadata": {
        "id": "EXSzYWND7OGV"
      },
      "source": [
        "## Openings and savings"
      ]
    },
    {
      "cell_type": "code",
      "execution_count": 3,
      "metadata": {
        "id": "NvuSX_g-jl4K"
      },
      "outputs": [],
      "source": [
        "# 1. Save json dict\n",
        "def save_dict(tree_dict, file, folder):\n",
        "  if folder=='live':\n",
        "    with open(art_project_path + file, 'w') as outfile:\n",
        "      json.dump(tree_dict, outfile)\n",
        "  elif folder=='backup':\n",
        "    with open(art_project_path_backups + file, 'w') as outfile:\n",
        "      json.dump(tree_dict, outfile)\n",
        "\n",
        "# 2. Open json dict\n",
        "def open_dict(file, folder):\n",
        "  if folder=='live':\n",
        "    with open(art_project_path + file, 'rb') as infile:\n",
        "      tree_dict = json.load(infile)\n",
        "  elif folder=='backup':\n",
        "    with open(art_project_path_backups + file, 'rb') as infile:\n",
        "      tree_dict = json.load(infile)\n",
        "  return tree_dict\n",
        "\n",
        "# 3. Open file.csv\n",
        "def open_file_csv(file, folder): # folder: live, backup or test\n",
        "  if folder=='live':\n",
        "    df = pd.read_csv(art_project_path + file)\n",
        "  elif folder=='backup':\n",
        "    df = pd.read_csv(art_project_path_backups + file)\n",
        "  elif folder=='test':\n",
        "    df = pd.read_csv(art_project_path_tests + file)\n",
        "  return df\n",
        "\n",
        "# 4. Save df to csv file\n",
        "def save_df_file(df, file, folder): # folder: live, backup or test\n",
        "  if folder=='live':\n",
        "    df.to_csv(art_project_path + file, index=False)\n",
        "  elif folder=='backup':\n",
        "    df.to_csv(art_project_path_backups + file, index=False)\n",
        "  elif folder=='test':\n",
        "    df.to_csv(art_project_path_tests + file, index=False)\n"
      ]
    },
    {
      "cell_type": "markdown",
      "metadata": {
        "id": "2wDrr6ButRDY"
      },
      "source": [
        "## Parsing"
      ]
    },
    {
      "cell_type": "markdown",
      "metadata": {
        "id": "a_hxEAdLtm7G"
      },
      "source": [
        "### get_page"
      ]
    },
    {
      "cell_type": "code",
      "execution_count": 70,
      "metadata": {
        "id": "G6ie3U0btbx1"
      },
      "outputs": [],
      "source": [
        "# 5. get_page\n",
        "logging.basicConfig(level=logging.DEBUG, format=\"%(message)s\")\n",
        "\n",
        "def get_page(url, session):\n",
        "  #response = requests.get(url, headers={'User-Agent': 'Chrome/97.0.4692.71'})\n",
        "  try:\n",
        "    response = session.get(url, headers={'User-Agent': 'Chrome/97.0.4692.71'})\n",
        "  except: # requests.exceptions.ChunkedEncodingError:\n",
        "    time.sleep(0.5)\n",
        "    session = requests.Session()\n",
        "    response = session.get(url, headers={'User-Agent': 'Chrome/97.0.4692.71'})\n",
        "\n",
        "  try:\n",
        "    response.raise_for_status()\n",
        "  except requests.exceptions.HTTPError: # for correction\n",
        "    sys.exit(print('HTTPError: ' + str(url)))\n",
        "\n",
        "  bs_page = BeautifulSoup(response.text, 'html.parser')\n",
        "  return bs_page"
      ]
    },
    {
      "cell_type": "markdown",
      "metadata": {
        "id": "dedjmUVTtqCj"
      },
      "source": [
        "### get next pages links list"
      ]
    },
    {
      "cell_type": "code",
      "execution_count": 62,
      "metadata": {
        "id": "hn2MJztjtfDH"
      },
      "outputs": [],
      "source": [
        "# 6. get next pages links list\n",
        "def get_next_page_list(url, page):\n",
        "  try:\n",
        "    last_page_data = page.find('main').find_all('nav', class_='Box-sc-15se88d-0 Text-sc-18gcpao-0 ibHUpM gzwvJD')[0].find_all('a')[-2]\n",
        "    last_page = last_page_data.get_text()\n",
        "    page_link = last_page_data.get('href')[:-len(last_page)]\n",
        "    next_page_link_list_new = [url + page_link + str(p) for p in range(2, int(last_page)+1)]\n",
        "  except:\n",
        "    next_page_link_list_new = []\n",
        "\n",
        "  return next_page_link_list_new"
      ]
    },
    {
      "cell_type": "markdown",
      "metadata": {
        "id": "mmKRuBU4ts7Z"
      },
      "source": [
        "### get data from pages"
      ]
    },
    {
      "cell_type": "code",
      "execution_count": 63,
      "metadata": {
        "id": "ZEIoSftftVfS"
      },
      "outputs": [],
      "source": [
        "# 7. get data from pages\n",
        "def get_page_data(page):\n",
        "  code_block = page.find('main').find_all('div', class_='ArtworkGrid-sc-1jsqquq-0 djwrUe')\n",
        "  try:\n",
        "    object_block = code_block[0].find_all('div', relay='[object Object]')\n",
        "  \n",
        "    # for the beggining into a DataFrame\n",
        "    artsy_id_list = [obj.get('data-id') for obj in object_block]\n",
        "    imgage_list = [obj.find_all('a')[0].find('img').get('src') for obj in object_block]\n",
        "    artist_list = [obj.find_all('a')[1].find_all('div')[0].get_text() for obj in object_block]\n",
        "  \n",
        "    gallery_list = []\n",
        "    for obj in object_block:\n",
        "      try:\n",
        "        gallery_list.append(obj.find_all('a')[1].find('div', class_='Box-sc-15se88d-0 Text-sc-18gcpao-0 caIGcn hENCPo').get_text())\n",
        "      except:\n",
        "        gallery_list.append(np.nan)\n",
        "  \n",
        "    price_list = []\n",
        "    for obj in object_block:\n",
        "      try:\n",
        "        price_list.append(obj.find_all('a')[1].find('div', class_='Box-sc-15se88d-0 Text-sc-18gcpao-0 eXbAnU jkuGdd').get_text())\n",
        "      except:\n",
        "        price_list.append(np.nan)\n",
        "  \n",
        "    # can be no year info !!!\n",
        "    name_list = []\n",
        "    year_list = []\n",
        "    for obj in object_block:\n",
        "      text = obj.find_all('a')[1].find('div', class_='Box-sc-15se88d-0 Text-sc-18gcpao-0 caIGcn kySEpG').get_text()\n",
        "      name = obj.find_all('a')[1].find('div', class_='Box-sc-15se88d-0 Text-sc-18gcpao-0 caIGcn kySEpG').find('i').get_text()\n",
        "      year = text.replace(name, '').replace(', ', '')\n",
        "      if len(year)==0:\n",
        "        year = np.nan\n",
        "      name_list.append(name)\n",
        "      year_list.append(year)\n",
        "\n",
        "    df_data_new = pd.DataFrame({'artsy_id': artsy_id_list,\n",
        "                                'name': name_list, \n",
        "                                'link': imgage_list, \n",
        "                                'year': year_list,\n",
        "                                'artist': artist_list,\n",
        "                                'gallery': gallery_list,\n",
        "                                'price': price_list\n",
        "                                })\n",
        "  except:\n",
        "    df_data_new = pd.DataFrame({'artsy_id': np.nan,\n",
        "                                'name': np.nan, \n",
        "                                'link': np.nan, \n",
        "                                'year': np.nan,\n",
        "                                'artist': np.nan,\n",
        "                                'gallery': np.nan,\n",
        "                                'price': np.nan\n",
        "                                }, index=[0])\n",
        "  \n",
        "  return df_data_new"
      ]
    },
    {
      "cell_type": "markdown",
      "metadata": {
        "id": "hJ8DW26UuEs_"
      },
      "source": [
        "### get category data into df - aggregator"
      ]
    },
    {
      "cell_type": "code",
      "execution_count": 64,
      "metadata": {
        "id": "LZPhJlWNuBZp"
      },
      "outputs": [],
      "source": [
        "# Function aggregator\n",
        "# 8. Get the all category data into DataFrame\n",
        "def get_df_data(df_input, genes_links_list, genes_ids_list, cat):\n",
        "  start_time = time.time()\n",
        "  print(datetime.now().time())\n",
        "  df_output = df_input.copy()\n",
        "  df_output = df_output[0:0]\n",
        "\n",
        "  for link in genes_links_list:\n",
        "    session = requests.Session()\n",
        "    total_link = url_add + link\n",
        "    print('Parsing of gene', genes_ids_list[genes_links_list.index(link)], total_link, 'has started')\n",
        "    # 5. get_page\n",
        "    gene_page = get_page(total_link, session)\n",
        "    #           get_page(url, session) -> \n",
        "    # -> bs_page\n",
        "    \n",
        "    # 6. get next pages links list\n",
        "    next_page_link_list = get_next_page_list(url_add, gene_page)\n",
        "    #                     get_next_page_list(url, page) -> \n",
        "    # -> next_page_link_list_new\n",
        "    print(len(next_page_link_list)+1, 'pages for parsing')\n",
        "\n",
        "    # 7. get data from pages\n",
        "    df_data = get_page_data(gene_page)\n",
        "    #         get_page_data(page) -> \n",
        "    # -> df_data_new\n",
        "    df_data['gene_id'] = genes_ids_list[genes_links_list.index(link)]\n",
        "    df_data['category_id'] = cat\n",
        "    df_data['parsing_date'] = datetime.now().date().strftime('%Y-%m-%d')\n",
        "    df_data['updating_date'] = datetime.now().date().strftime('%Y-%m-%d')\n",
        "\n",
        "    df_output = pd.concat([df_output, df_data])\n",
        "\n",
        "    # Get data from next pages\n",
        "    if len(next_page_link_list) > 0:\n",
        "      for page_link in next_page_link_list:\n",
        "        # 5. get_page\n",
        "        gene_page = get_page(page_link, session)\n",
        "        #           get_page(url, session) -> \n",
        "        # -> bs_page\n",
        "\n",
        "        # 7. get data from pages\n",
        "        df_data = get_page_data(gene_page)\n",
        "        #         get_page_data(page) -> \n",
        "        # -> df_data_new\n",
        "        df_data['gene_id'] = genes_ids_list[genes_links_list.index(link)]\n",
        "        df_data['category_id'] = cat\n",
        "        df_data['parsing_date'] = datetime.now().date().strftime('%Y-%m-%d')\n",
        "        df_data['updating_date'] = datetime.now().date().strftime('%Y-%m-%d')\n",
        "\n",
        "        df_output = pd.concat([df_output, df_data])\n",
        "      \n",
        "    print('Parsing of gene', genes_ids_list[genes_links_list.index(link)], total_link, 'has finished')\n",
        "    print((time.time() - start_time), 'seconds have passed')\n",
        "    print(datetime.now().time())\n",
        "    print('')\n",
        "    time.sleep(0.5)\n",
        "\n",
        "  return df_output"
      ]
    },
    {
      "cell_type": "code",
      "source": [
        "# Function aggregator\n",
        "# 8.1 Get the first pages category data into DataFrame\n",
        "def get_df_data_add_up(df_input, genes_links_list, genes_ids_list, cat):\n",
        "  start_time = time.time()\n",
        "  print(datetime.now().time())\n",
        "  df_output = df_input.copy()\n",
        "  df_output['pages_count'] = np.nan\n",
        "  df_output['second_page_link'] = np.nan\n",
        "  df_output = df_output[0:0]\n",
        "\n",
        "  for link in genes_links_list:\n",
        "    session = requests.Session()\n",
        "    total_link = url_add + link\n",
        "    print('Parsing of gene', genes_ids_list[genes_links_list.index(link)], total_link, 'has started')\n",
        "    # 5. get_page\n",
        "    gene_page = get_page(total_link, session)\n",
        "    #           get_page(url, session) -> \n",
        "    # -> bs_page\n",
        "    \n",
        "    # 6. get next pages links list\n",
        "    next_page_link_list = get_next_page_list(url_add, gene_page)\n",
        "    #                     get_next_page_list(url, page) -> \n",
        "    # -> next_page_link_list_new\n",
        "    print(len(next_page_link_list)+1, 'pages for parsing')\n",
        "\n",
        "    # 7. get data from pages\n",
        "    df_data = get_page_data(gene_page)\n",
        "    #         get_page_data(page) -> \n",
        "    # -> df_data_new\n",
        "    df_data['gene_id'] = genes_ids_list[genes_links_list.index(link)]\n",
        "    df_data['category_id'] = cat\n",
        "    df_data['parsing_date'] = datetime.now().date().strftime('%Y-%m-%d')\n",
        "    df_data['updating_date'] = datetime.now().date().strftime('%Y-%m-%d')\n",
        "    df_data['pages_count'] = len(next_page_link_list)+1\n",
        "    if len(next_page_link_list) > 0:\n",
        "      df_data['second_page_link'] = next_page_link_list[0]\n",
        "    else:\n",
        "      df_data['second_page_link'] = np.nan\n",
        "\n",
        "    df_output = pd.concat([df_output, df_data])\n",
        "      \n",
        "    print('Parsing of gene', genes_ids_list[genes_links_list.index(link)], total_link, 'has finished')\n",
        "    print((time.time() - start_time), 'seconds have passed')\n",
        "    print(datetime.now().time())\n",
        "    print('')\n",
        "    time.sleep(0.5)\n",
        "\n",
        "  return df_output"
      ],
      "metadata": {
        "id": "o90bUIpx-BtS"
      },
      "execution_count": null,
      "outputs": []
    },
    {
      "cell_type": "markdown",
      "metadata": {
        "id": "ysydU0bctwHa"
      },
      "source": [
        "### correct image link"
      ]
    },
    {
      "cell_type": "code",
      "execution_count": 65,
      "metadata": {
        "id": "vRxr-3Ynti87"
      },
      "outputs": [],
      "source": [
        "# 9. correct image link\n",
        "def img_link_corr(img):\n",
        "  parts = img.split('.jpg')[0].replace('?', '/').replace('%2F', '/').split('/')\n",
        "  img_new = parts[0] + '//' + parts[5] + '/' + parts[6] + '/' + parts[7]  + '.jpg'\n",
        "  return img_new"
      ]
    },
    {
      "cell_type": "markdown",
      "metadata": {
        "id": "EIMfFZTJv9Fs"
      },
      "source": [
        "### filtering"
      ]
    },
    {
      "cell_type": "code",
      "execution_count": 66,
      "metadata": {
        "id": "b89bkTcxv7bk"
      },
      "outputs": [],
      "source": [
        "# 10. Filtering\n",
        "def get_cat_id(cat):\n",
        "  return cat\n",
        "\n",
        "def gene_links_samples(gen_key):\n",
        "  cat_id = get_cat_id(cat)\n",
        "  return genes_dict[gen_key]['category_id'] == cat_id"
      ]
    },
    {
      "cell_type": "markdown",
      "metadata": {
        "id": "3uYpPtclNOAi"
      },
      "source": [
        "# Gens dict"
      ]
    },
    {
      "cell_type": "code",
      "execution_count": null,
      "metadata": {
        "id": "tf33GQTNESnB"
      },
      "outputs": [],
      "source": [
        "url = 'https://www.artsy.net/categories'"
      ]
    },
    {
      "cell_type": "code",
      "execution_count": null,
      "metadata": {
        "colab": {
          "base_uri": "https://localhost:8080/",
          "height": 35
        },
        "id": "enUq0vwdEChn",
        "outputId": "e127324f-5db2-4f2a-df64-b79e4d1e0672"
      },
      "outputs": [
        {
          "data": {
            "application/vnd.google.colaboratory.intrinsic+json": {
              "type": "string"
            },
            "text/plain": [
              "'Artsy — Discover, Buy, and Sell Fine Art'"
            ]
          },
          "execution_count": 16,
          "metadata": {},
          "output_type": "execute_result"
        }
      ],
      "source": [
        "response = requests.get(url, headers={'User-Agent': 'Chrome/97.0.4692.71'})\n",
        "genome_page = BeautifulSoup(response.text, 'html.parser')\n",
        "genome_page.title.string"
      ]
    },
    {
      "cell_type": "markdown",
      "metadata": {
        "id": "znvj69nSy9lf"
      },
      "source": [
        "## categories_dict"
      ]
    },
    {
      "cell_type": "code",
      "execution_count": null,
      "metadata": {
        "colab": {
          "base_uri": "https://localhost:8080/"
        },
        "id": "bGokS7wPwz38",
        "outputId": "f5ea81f7-25c3-4cc4-b655-7466fe55ebca"
      },
      "outputs": [
        {
          "name": "stdout",
          "output_type": "stream",
          "text": [
            "Confirm the categories_dict re/seting (y/n)y\n",
            "categories_dict has been re/set 2022-03-30 06:01\n",
            "dictionary's length is - 0\n"
          ]
        }
      ],
      "source": [
        "# !!!!! For the first time !!!!!\n",
        "confirmation = input('Confirm the categories_dict re/seting (y/n)')\n",
        "if confirmation == 'y':\n",
        "  categories_dict = {}\n",
        "  print('categories_dict has been re/set {}'.format(datetime.now().strftime('%Y-%m-%d %H:%M')))\n",
        "  print(\"dictionary's length is - {}\".format(len(categories_dict)))\n",
        "else:\n",
        "  print('nothing has happened')"
      ]
    },
    {
      "cell_type": "code",
      "execution_count": null,
      "metadata": {
        "colab": {
          "base_uri": "https://localhost:8080/"
        },
        "id": "lVhwgRuzx903",
        "outputId": "fd6ac994-641b-4964-e367-76be4589bb5c"
      },
      "outputs": [
        {
          "name": "stdout",
          "output_type": "stream",
          "text": [
            "Confirm the categories_dict opening (y/n)n\n",
            "nothing has happened\n"
          ]
        }
      ],
      "source": [
        "# !!!!! All next times !!!!!\n",
        "confirmation = input('Confirm the categories_dict opening (y/n)')\n",
        "if confirmation == 'y':\n",
        "  categories_dict = open_dict(cat_dict) # 2. Open json dict\n",
        "  print('categories_dict has been opened {}'.format(datetime.now().strftime('%Y-%m-%d %H:%M')))\n",
        "  print(\"dictionary's length is - {}\".format(len(categories_dict)))\n",
        "else:\n",
        "  print('nothing has happened')"
      ]
    },
    {
      "cell_type": "code",
      "execution_count": null,
      "metadata": {
        "id": "MUtf4Api5FG9"
      },
      "outputs": [],
      "source": [
        ""
      ]
    },
    {
      "cell_type": "code",
      "execution_count": null,
      "metadata": {
        "colab": {
          "base_uri": "https://localhost:8080/"
        },
        "id": "cLtk03r2WvSV",
        "outputId": "539ee8d4-6436-4e2e-e693-cb4e09fabb2d"
      },
      "outputs": [
        {
          "name": "stdout",
          "output_type": "stream",
          "text": [
            "New key has been added - artistic_disciplines\n",
            "New key has been added - subject_matter\n",
            "New key has been added - styles_and_movements\n",
            "New key has been added - design_movements\n",
            "New key has been added - visual_qualities\n",
            "New key has been added - medium_and_techniques\n",
            "New key has been added - time_periods\n",
            "New key has been added - geographic_regions\n",
            "New key has been added - materials\n",
            "New key has been added - design_concepts_and_techniques\n",
            "New key has been added - cultural_and_religious_styles\n",
            "New key has been added - furniture_and_lighting\n",
            "New key has been added - textiles\n",
            "New key has been added - jewelry_and_fashion_object_types\n",
            "New key has been added - tableware_vessels_and_objects\n",
            "New key has been added - antiquities_artifacts_and_religious_objects\n"
          ]
        }
      ],
      "source": [
        "categories_block = genome_page.find('div', class_='sticky-inner-wrapper').find_all('div', class_='Box-sc-15se88d-0 Flex-cw39ct-0 elJsUD')\n",
        "\n",
        "#categories_dict = {'artistic_disciplines': {'id': '02', 'name': 'Artistic Disciplines', 'link': 'jump--artistic-disciplines'}}\n",
        "id = len(categories_dict) + 1\n",
        "for cat in categories_block:\n",
        "  key = cat.find('a').get('href').replace('#jump--', '').replace('-', '_')\n",
        "  if key not in categories_dict.keys():\n",
        "    categories_dict.update({key: {'id': str(id) if len(str(id))>1 else '0'+str(id), 'name': cat.get_text(), 'link': cat.find('a').get('href').replace('#', ''), 'genes_id': [], 'parsing_date': datetime.now().date().strftime('%Y-%m-%d'), 'updating_date': datetime.now().date().strftime('%Y-%m-%d')}})\n",
        "    id += 1\n",
        "    print('New key has been added - {}'.format(key))\n",
        "  else:\n",
        "    if categories_dict[key]['link'] != cat.find('a').get('href').replace('#', '') or categories_dict[key]['name'] != cat.get_text():\n",
        "      print('an Old name - {}\\nor an Old link - {}'.format(categories_dict[key]['name'], categories_dict[key]['link']))\n",
        "      categories_dict[key].update({'link': cat.find('a').get('href').replace('#', '')})\n",
        "      categories_dict[key].update({'name': cat.get_text()})\n",
        "      categories_dict[key].update({'updating_date': datetime.now().date().strftime('%Y-%m-%d')})\n",
        "      print('has been updated with \\na New name - {}\\nor a New link - {}'.format(categories_dict[key]['name'], categories_dict[key]['link']))\n",
        "      print('')"
      ]
    },
    {
      "cell_type": "code",
      "execution_count": null,
      "metadata": {
        "colab": {
          "base_uri": "https://localhost:8080/"
        },
        "id": "FQFLsPV5IIe8",
        "outputId": "547723fd-0ef9-4aab-e8e5-73577304e236"
      },
      "outputs": [
        {
          "data": {
            "text/plain": [
              "16"
            ]
          },
          "execution_count": 47,
          "metadata": {},
          "output_type": "execute_result"
        }
      ],
      "source": [
        "len(categories_dict)"
      ]
    },
    {
      "cell_type": "code",
      "execution_count": null,
      "metadata": {
        "colab": {
          "base_uri": "https://localhost:8080/"
        },
        "id": "tQTfZKiFarSd",
        "outputId": "9ffb5270-6a52-4931-8cc1-dcf1e1100171"
      },
      "outputs": [
        {
          "data": {
            "text/plain": [
              "{'genes_id': [],\n",
              " 'id': '01',\n",
              " 'link': 'jump--artistic-disciplines',\n",
              " 'name': 'Artistic Disciplines',\n",
              " 'parsing_date': '2022-03-30',\n",
              " 'updating_date': '2022-03-30'}"
            ]
          },
          "execution_count": 48,
          "metadata": {},
          "output_type": "execute_result"
        }
      ],
      "source": [
        "categories_dict['artistic_disciplines']"
      ]
    },
    {
      "cell_type": "code",
      "execution_count": null,
      "metadata": {
        "colab": {
          "base_uri": "https://localhost:8080/"
        },
        "id": "Ew9WHJYykmxf",
        "outputId": "42563654-434d-4008-c9b1-d64d586e0398"
      },
      "outputs": [
        {
          "name": "stdout",
          "output_type": "stream",
          "text": [
            "Confirm the categories_dict saving (y/n)y\n",
            "categories_dict has been saved 2022-03-30 06:02\n",
            "dictionary's length is - 16\n"
          ]
        }
      ],
      "source": [
        "confirmation = input('Confirm the categories_dict saving (y/n)')\n",
        "if confirmation == 'y':\n",
        "  save_dict(categories_dict, cat_dict) # 1. Save json dict\n",
        "  print('categories_dict has been saved {}'.format(datetime.now().strftime('%Y-%m-%d %H:%M')))\n",
        "  print(\"dictionary's length is - {}\".format(len(categories_dict)))\n",
        "else:\n",
        "  print('nothing has happened')"
      ]
    },
    {
      "cell_type": "code",
      "execution_count": null,
      "metadata": {
        "id": "w7iF2sL-4fG_"
      },
      "outputs": [],
      "source": [
        ""
      ]
    },
    {
      "cell_type": "markdown",
      "metadata": {
        "id": "Jm2PBAgezApk"
      },
      "source": [
        "## genes_dict"
      ]
    },
    {
      "cell_type": "code",
      "execution_count": null,
      "metadata": {
        "colab": {
          "base_uri": "https://localhost:8080/"
        },
        "id": "povm1Btb7Y1l",
        "outputId": "fb872936-d8cd-4c96-9319-40dac9dc62a8"
      },
      "outputs": [
        {
          "name": "stdout",
          "output_type": "stream",
          "text": [
            "Confirm the genes_dict re/seting (y/n)y\n",
            "genes_dict was re/set\n"
          ]
        }
      ],
      "source": [
        "# !!!!! For the first time !!!!!\n",
        "confirmation = input('Confirm the genes_dict re/seting (y/n)')\n",
        "if confirmation == 'y':\n",
        "  genes_dict = {}\n",
        "  print('genes_dict has been re/set {}'.format(datetime.now().strftime('%Y-%m-%d %H:%M')))\n",
        "  print(\"dictionary's length is - {}\".format(len(genes_dict)))\n",
        "else:\n",
        "  print('nothing has happened')"
      ]
    },
    {
      "cell_type": "code",
      "execution_count": null,
      "metadata": {
        "colab": {
          "base_uri": "https://localhost:8080/"
        },
        "id": "OFYiTBZe7i7b",
        "outputId": "3e81f190-1223-483e-ff58-29192ac411a2"
      },
      "outputs": [
        {
          "name": "stdout",
          "output_type": "stream",
          "text": [
            "Confirm the genes_dict opening (y/n)y\n",
            "genes_dict has been opened 2022-03-30 04:12\n",
            "dictionary's length is - 1032\n"
          ]
        }
      ],
      "source": [
        "# !!!!! All next times !!!!!\n",
        "confirmation = input('Confirm the genes_dict opening (y/n)')\n",
        "if confirmation == 'y':\n",
        "  genes_dict = open_dict(gen_dict) # 2. Open json dict\n",
        "  print('genes_dict has been opened {}'.format(datetime.now().strftime('%Y-%m-%d %H:%M')))\n",
        "  print(\"dictionary's length is - {}\".format(len(genes_dict)))\n",
        "else:\n",
        "  print('nothing has happened')"
      ]
    },
    {
      "cell_type": "code",
      "execution_count": null,
      "metadata": {
        "colab": {
          "base_uri": "https://localhost:8080/"
        },
        "id": "Kv2YqRqEPxZe",
        "outputId": "97483c49-47fe-43bd-d4bb-2205ad5f9309"
      },
      "outputs": [
        {
          "name": "stdout",
          "output_type": "stream",
          "text": [
            "3\n",
            "[7, 213, 252, 26, 75, 175, 20, 68, 39, 22, 69, 27, 6, 7, 19, 7]\n"
          ]
        }
      ],
      "source": [
        "# !!!!! All next times !!!!!\n",
        "# Determining the count of genes in the category for creating an id (using () instead of [] is also possible)\n",
        "count_list = [sum([1 for v in genes_dict.values() if v['category_id']==value['id']]) for value in categories_dict.values()]\n",
        "id_len = len(str(max(count_list)))\n",
        "print(id_len)\n",
        "print(count_list)"
      ]
    },
    {
      "cell_type": "code",
      "execution_count": null,
      "metadata": {
        "id": "UTN-UZk2lqs1"
      },
      "outputs": [],
      "source": [
        "#genes_dict = {'architecture_1': {'id': '0201', 'name': 'Architecture', 'link': '/gene/architecture-1', 'category_id': '02'}}\n",
        "# !!! working link is 'https://www.artsy.net' + link !!!\n",
        "for value in categories_dict.values():\n",
        "  category = genome_page.find('div', id=value['link']).find('h2').text\n",
        "  if category == value['name']:\n",
        "    count = sum([1 for v in genes_dict.values() if v['category_id'] == value['id']])\n",
        "    id = count+1\n",
        "    gens_block = genome_page.find('div', id=value['link']).find_all('a')\n",
        "    for a in gens_block:\n",
        "      gen_key = a.get('href').replace('/gene/', '').replace('-', '_')\n",
        "      if gen_key not in genes_dict.keys():\n",
        "        genes_dict.update({gen_key: {'id': value['id']+('0'*(id_len-len(str(id)))+str(id)), 'name': a.get_text(), 'link': a.get('href'), 'category_id': value['id'], 'artsy_id': [], 'artist_id': [], 'parsing_date': datetime.now().date().strftime('%Y-%m-%d'), 'updating_date': datetime.now().date().strftime('%Y-%m-%d')}})\n",
        "        id += 1\n",
        "        print('New key has been added - {}'.format(gen_key)) # !!! Not for the first time\n",
        "      else:\n",
        "        if genes_dict[gen_key]['link'] != a.get('href') or genes_dict[gen_key]['name'] != a.get_text():\n",
        "          print('an Old name - {}\\nor an Old link - {}'.format(genes_dict[gen_key]['name'], genes_dict[gen_key]['link']))\n",
        "          genes_dict[gen_key].update({'link': a.get('href')})\n",
        "          genes_dict[gen_key].update({'name': a.get_text()})\n",
        "          genes_dict[gen_key].update({'updating_date': datetime.now().date().strftime('%Y-%m-%d')})\n",
        "          print('has been updated with \\na New name - {}\\nor a New link - {}'.format(genes_dict[gen_key]['name'], genes_dict[gen_key]['link']))\n",
        "          print('')\n",
        "  else:\n",
        "    print(\"Category name doesn't match\")"
      ]
    },
    {
      "cell_type": "code",
      "execution_count": null,
      "metadata": {
        "colab": {
          "base_uri": "https://localhost:8080/"
        },
        "id": "aGACmhpOTRQp",
        "outputId": "9ef9b0cf-0702-45ea-bbd9-8bd97481c3b6"
      },
      "outputs": [
        {
          "data": {
            "text/plain": [
              "1032"
            ]
          },
          "execution_count": 23,
          "metadata": {},
          "output_type": "execute_result"
        }
      ],
      "source": [
        "len(genes_dict)"
      ]
    },
    {
      "cell_type": "code",
      "execution_count": null,
      "metadata": {
        "colab": {
          "base_uri": "https://localhost:8080/"
        },
        "id": "766Hq6qhUQ5Z",
        "outputId": "53cf7b2a-255a-4635-9d98-bfc4840c701b"
      },
      "outputs": [
        {
          "name": "stdout",
          "output_type": "stream",
          "text": [
            "{'id': '01001', 'name': 'Architecture', 'link': '/gene/architecture-1', 'category_id': '01', 'parsing_date': '2022-03-29', 'updating_date': '2022-03-29'}\n",
            "{'id': '01002', 'name': 'Design', 'link': '/gene/design', 'category_id': '01', 'parsing_date': '2022-03-29', 'updating_date': '2022-03-29'}\n",
            "{'id': '01003', 'name': 'Fashion Design and Wearable Art', 'link': '/gene/fashion-design-and-wearable-art', 'category_id': '01', 'parsing_date': '2022-03-29', 'updating_date': '2022-03-29'}\n",
            "{'id': '01004', 'name': 'Graphic Design', 'link': '/gene/graphic-design', 'category_id': '01', 'parsing_date': '2022-03-29', 'updating_date': '2022-03-29'}\n",
            "{'id': '01005', 'name': 'Jewelry', 'link': '/gene/jewelry', 'category_id': '01', 'parsing_date': '2022-03-29', 'updating_date': '2022-03-29'}\n",
            "{'id': '01006', 'name': 'Music', 'link': '/gene/music', 'category_id': '01', 'parsing_date': '2022-03-29', 'updating_date': '2022-03-29'}\n",
            "{'id': '01007', 'name': 'Written Word', 'link': '/gene/written-word', 'category_id': '01', 'parsing_date': '2022-03-29', 'updating_date': '2022-03-29'}\n"
          ]
        }
      ],
      "source": [
        "for value in genes_dict.values():\n",
        "  if value['category_id'] == '01': # '02'\n",
        "    print(value)"
      ]
    },
    {
      "cell_type": "code",
      "execution_count": null,
      "metadata": {
        "colab": {
          "base_uri": "https://localhost:8080/"
        },
        "id": "O4VVsg0jQ3wq",
        "outputId": "3b2aff99-a865-4011-dbfe-efaa68fc411a"
      },
      "outputs": [
        {
          "name": "stdout",
          "output_type": "stream",
          "text": [
            "Confirm the genes_dict saving (y/n)y\n",
            "genes_dict was saved 2022-03-30 04:16\n",
            "dictionary's length is - 1032\n"
          ]
        }
      ],
      "source": [
        "confirmation = input('Confirm the genes_dict saving (y/n)')\n",
        "if confirmation == 'y':\n",
        "  save_dict(genes_dict, gen_dict) # 1. Save json dict\n",
        "  print('genes_dict was saved {}'.format(datetime.now().strftime('%Y-%m-%d %H:%M')))\n",
        "  print(\"dictionary's length is - {}\".format(len(genes_dict)))\n",
        "else:\n",
        "  print('nothing has happened')"
      ]
    },
    {
      "cell_type": "code",
      "execution_count": null,
      "metadata": {
        "id": "3wqcJ7vggPuj"
      },
      "outputs": [],
      "source": [
        ""
      ]
    },
    {
      "cell_type": "markdown",
      "metadata": {
        "id": "ZQ7z40v6ZUZV"
      },
      "source": [
        "### addition/updating lists of genes' id into the categories_dict"
      ]
    },
    {
      "cell_type": "code",
      "execution_count": null,
      "metadata": {
        "colab": {
          "base_uri": "https://localhost:8080/"
        },
        "id": "VzFmur9GT7zI",
        "outputId": "cae023ea-6aeb-4d19-fd06-d88f0b8eeb3e"
      },
      "outputs": [
        {
          "data": {
            "text/plain": [
              "16"
            ]
          },
          "execution_count": 37,
          "metadata": {},
          "output_type": "execute_result"
        }
      ],
      "source": [
        "# Dict of genes' id for the categories_dict\n",
        "#cat_gen_id_dict = {}\n",
        "#for value in categories_dict.values():\n",
        "#  gen_id_list = [v['id'] for v in genes_dict.values() if v['category_id'] == value['id']]\n",
        "#  cat_gen_id_dict.update({value['id']: gen_id_list})\n",
        "\n",
        "#len(cat_gen_id_dict)"
      ]
    },
    {
      "cell_type": "code",
      "execution_count": null,
      "metadata": {
        "colab": {
          "base_uri": "https://localhost:8080/"
        },
        "id": "qoiKqARCZtIA",
        "outputId": "645c20d9-7324-401e-9b74-926ec8cdd4b4"
      },
      "outputs": [
        {
          "data": {
            "text/plain": [
              "['01001', '01002', '01003', '01004', '01005', '01006', '01007']"
            ]
          },
          "execution_count": 41,
          "metadata": {},
          "output_type": "execute_result"
        }
      ],
      "source": [
        "#cat_gen_id_dict['01']"
      ]
    },
    {
      "cell_type": "code",
      "execution_count": null,
      "metadata": {
        "colab": {
          "base_uri": "https://localhost:8080/"
        },
        "id": "NCtndkldXm0x",
        "outputId": "decc234f-b2b8-441c-98cd-01066992c7f4"
      },
      "outputs": [
        {
          "data": {
            "text/plain": [
              "16"
            ]
          },
          "execution_count": 50,
          "metadata": {},
          "output_type": "execute_result"
        }
      ],
      "source": [
        "#for k, v in categories_dict.items():\n",
        "#  for key, value in cat_gen_id_dict.items():\n",
        "#    if v['id'] == key and categories_dict[k]['genes_id'] != value:\n",
        "#      categories_dict[k].update({'genes_id': value})\n",
        "#      categories_dict[k].update({'updating_date': datetime.now().date().strftime('%Y-%m-%d')})\n",
        "\n",
        "#len(categories_dict)"
      ]
    },
    {
      "cell_type": "code",
      "execution_count": null,
      "metadata": {
        "id": "JCrTxTIOPw6v"
      },
      "outputs": [],
      "source": [
        "for key, value in categories_dict.items():\n",
        "  gen_id_list = [v['id'] for v in genes_dict.values() if v['category_id'] == value['id']]\n",
        "  if categories_dict[key]['genes_id'] != gen_id_list:\n",
        "      categories_dict[key].update({'genes_id': gen_id_list})\n",
        "      categories_dict[key].update({'updating_date': datetime.now().date().strftime('%Y-%m-%d')})\n",
        "\n",
        "len(categories_dict)"
      ]
    },
    {
      "cell_type": "code",
      "execution_count": null,
      "metadata": {
        "colab": {
          "base_uri": "https://localhost:8080/"
        },
        "id": "1I3VsNXiZfTu",
        "outputId": "27248a89-cecb-4605-a711-522ac8435517"
      },
      "outputs": [
        {
          "data": {
            "text/plain": [
              "{'genes_id': ['01001', '01002', '01003', '01004', '01005', '01006', '01007'],\n",
              " 'id': '01',\n",
              " 'link': 'jump--artistic-disciplines',\n",
              " 'name': 'Artistic Disciplines',\n",
              " 'parsing_date': '2022-03-30',\n",
              " 'updating_date': '2022-03-30'}"
            ]
          },
          "execution_count": 51,
          "metadata": {},
          "output_type": "execute_result"
        }
      ],
      "source": [
        "categories_dict['artistic_disciplines']"
      ]
    },
    {
      "cell_type": "code",
      "execution_count": null,
      "metadata": {
        "colab": {
          "base_uri": "https://localhost:8080/"
        },
        "id": "ahhVKxfGa4aW",
        "outputId": "e9d72f40-5bb8-439f-e464-57d4d4984c3d"
      },
      "outputs": [
        {
          "name": "stdout",
          "output_type": "stream",
          "text": [
            "Confirm the categories_dict saving (y/n)y\n",
            "categories_dict has been saved 2022-03-30 06:03\n",
            "dictionary's length is - 16\n"
          ]
        }
      ],
      "source": [
        "confirmation = input('Confirm the categories_dict saving (y/n)')\n",
        "if confirmation == 'y':\n",
        "  save_dict(categories_dict, cat_dict) # 1. Save json dict\n",
        "  print('categories_dict has been saved {}'.format(datetime.now().strftime('%Y-%m-%d %H:%M')))\n",
        "  print(\"dictionary's length is - {}\".format(len(categories_dict)))\n",
        "else:\n",
        "  print('nothing has happened')"
      ]
    },
    {
      "cell_type": "code",
      "execution_count": null,
      "metadata": {
        "id": "GsHU5oLb7y6Z"
      },
      "outputs": [],
      "source": [
        ""
      ]
    },
    {
      "cell_type": "markdown",
      "metadata": {
        "id": "z0B2vK1msJUl"
      },
      "source": [
        "# Artworks and Artists dicts"
      ]
    },
    {
      "cell_type": "markdown",
      "metadata": {
        "id": "QEjPQaFDQ7ep"
      },
      "source": [
        "## Filtering"
      ]
    },
    {
      "cell_type": "markdown",
      "metadata": {
        "id": "qWUpsl--TfJE"
      },
      "source": [
        "The fastest and simplest way to collect data is to go through the genes_dict and read data from a tape of objects like from a news feed. On a tape they have:\n",
        "- artist's name - to the artists_dict !!!\n",
        "- artwork name - to the artworks_dict\n",
        "- artwork year - to the artworks_dict\n",
        "- Galleries and Institutions name - to the galleries_dict !!!\n",
        "- price - to the artworks_dict\n",
        "- image link - to the artworks_dict\n",
        "\n",
        "That's anough for me.\n",
        "\n",
        "In parallel I'm going to collect artists_dict and galleries_dict.\n",
        "\n",
        "Artwork can belong to different genes, but I don't need this repetition in the artworks_dict. So I can't create a composed id for it (like gene id). Artwork id should be end-to-end.\n",
        "\n",
        "Seems like I should choose the most comprehensive category, collect its database, and then add to it only new information.\n",
        "\n",
        "But how much artworks are in Artsy database? Via their API I collected around 26 000 once."
      ]
    },
    {
      "cell_type": "code",
      "execution_count": 14,
      "metadata": {
        "colab": {
          "base_uri": "https://localhost:8080/"
        },
        "id": "k0d7Q7RNSF_Y",
        "outputId": "e11b1afa-9154-48d8-a6fd-faa6a71a1c9b"
      },
      "outputs": [
        {
          "output_type": "stream",
          "name": "stdout",
          "text": [
            "dictionary's length is - 16\n"
          ]
        }
      ],
      "source": [
        "categories_dict = open_dict(cat_dict, 'live') # 2. Open json dict\n",
        "print(\"dictionary's length is - {}\".format(len(categories_dict)))"
      ]
    },
    {
      "cell_type": "code",
      "source": [
        "def by_value(item):\n",
        "  return len(item[1]['genes_id'])\n",
        "\n",
        "for k, v in sorted(categories_dict.items(), key=by_value, reverse=True):\n",
        "  print(k, '->', 'id', categories_dict[k]['id'], '->', 'genes count' , len(categories_dict[k]['genes_id']))"
      ],
      "metadata": {
        "colab": {
          "base_uri": "https://localhost:8080/"
        },
        "id": "P4akedsoR0WH",
        "outputId": "448fc198-39e0-4d59-f7b2-4997b14fbd6d"
      },
      "execution_count": 26,
      "outputs": [
        {
          "output_type": "stream",
          "name": "stdout",
          "text": [
            "styles_and_movements -> 03 -> 252\n",
            "subject_matter -> 02 -> 213\n",
            "medium_and_techniques -> 06 -> 175\n",
            "visual_qualities -> 05 -> 75\n",
            "cultural_and_religious_styles -> 11 -> 69\n",
            "geographic_regions -> 08 -> 68\n",
            "materials -> 09 -> 39\n",
            "furniture_and_lighting -> 12 -> 27\n",
            "design_movements -> 04 -> 26\n",
            "design_concepts_and_techniques -> 10 -> 22\n",
            "time_periods -> 07 -> 20\n",
            "tableware_vessels_and_objects -> 15 -> 19\n",
            "artistic_disciplines -> 01 -> 7\n",
            "jewelry_and_fashion_object_types -> 14 -> 7\n",
            "antiquities_artifacts_and_religious_objects -> 16 -> 7\n",
            "textiles -> 13 -> 6\n"
          ]
        }
      ]
    },
    {
      "cell_type": "markdown",
      "metadata": {
        "id": "7YSQdlZLSNbp"
      },
      "source": [
        "03 styles_and_movements looks like the the most comprehensive category.\n",
        "Next will be:\n",
        "- subject_matter -> 02\n",
        "- medium_and_techniques -> 06"
      ]
    },
    {
      "cell_type": "code",
      "execution_count": 13,
      "metadata": {
        "colab": {
          "base_uri": "https://localhost:8080/"
        },
        "id": "tyg_GuCzRpBA",
        "outputId": "bc6b006d-c1af-433c-8117-55494e72f5bb"
      },
      "outputs": [
        {
          "output_type": "stream",
          "name": "stdout",
          "text": [
            "dictionary's length is - 1032\n"
          ]
        }
      ],
      "source": [
        "genes_dict = open_dict(gen_dict, 'live') # 2. Open json dict\n",
        "print(\"dictionary's length is - {}\".format(len(genes_dict)))"
      ]
    },
    {
      "cell_type": "code",
      "execution_count": 15,
      "metadata": {
        "colab": {
          "base_uri": "https://localhost:8080/"
        },
        "id": "lfLT9bhspyQE",
        "outputId": "9d82c82f-5cff-49ab-9ebc-723568cfd829"
      },
      "outputs": [
        {
          "output_type": "stream",
          "name": "stdout",
          "text": [
            "175\n",
            "175\n"
          ]
        }
      ],
      "source": [
        "cat = '06'\n",
        "#prefix = recently_added_pref\n",
        "#prefix = recently_updated_pref\n",
        "\n",
        "filtered_dict = {k: v for k, v in genes_dict.items() if v['category_id'] == cat}\n",
        "genes_links_list = [v['link'] for v in filtered_dict.values()]\n",
        "# for addition or updating\n",
        "#genes_links_list = [v['link']+prefix for v in filtered_dict.values()]\n",
        "genes_ids_list = [v['id'] for v in filtered_dict.values()]\n",
        "print(len(genes_links_list))\n",
        "print(len(genes_ids_list))"
      ]
    },
    {
      "cell_type": "markdown",
      "metadata": {
        "id": "M7nhhHq5TEd6"
      },
      "source": [
        "## Data collecting"
      ]
    },
    {
      "cell_type": "markdown",
      "source": [
        "### Parsing"
      ],
      "metadata": {
        "id": "Af1lJnakJRda"
      }
    },
    {
      "cell_type": "code",
      "execution_count": 50,
      "metadata": {
        "id": "YsvD8bOVsp9b"
      },
      "outputs": [],
      "source": [
        "# too many genes -> let's collect by 50 at a time\n",
        "backup_names = []"
      ]
    },
    {
      "cell_type": "markdown",
      "source": [
        "#### First collection"
      ],
      "metadata": {
        "id": "389pcvEa-usM"
      }
    },
    {
      "cell_type": "code",
      "source": [
        "df_temp_data_old = open_file_csv(temp_data, 'live') # 3. Open file.csv\n",
        "# 8. Get the all category data into DataFrame                     !!!!!                    !!!!!\n",
        "df_temp_data_new = get_df_data(df_temp_data_old, genes_links_list[150:], genes_ids_list[150:], cat)\n",
        "#                  get_df_data(df_input, genes_links_list, genes_ids_list, cat) ->\n",
        "# -> df_output\n",
        "save_df_file(df_temp_data_new, temp_data, 'live') # 4. Save df to csv file\n",
        "\n",
        "new_name_csv = temp_data.replace('.csv', '') + '_' + str(datetime.now()) + '.csv'\n",
        "backup_names.append(new_name_csv)\n",
        "save_df_file(df_temp_data_new, new_name_csv, 'backup') # 4. Save df to csv file"
      ],
      "metadata": {
        "colab": {
          "base_uri": "https://localhost:8080/"
        },
        "id": "2i0QMy-SnpQN",
        "outputId": "14d76acd-4734-4b95-f320-d1e0c549599b"
      },
      "execution_count": 78,
      "outputs": [
        {
          "output_type": "stream",
          "name": "stderr",
          "text": [
            "Starting new HTTPS connection (1): www.artsy.net:443\n"
          ]
        },
        {
          "output_type": "stream",
          "name": "stdout",
          "text": [
            "12:42:13.323624\n",
            "Parsing of gene 06151 https://www.artsy.net/gene/soft-sculpture has started\n"
          ]
        },
        {
          "output_type": "stream",
          "name": "stderr",
          "text": [
            "https://www.artsy.net:443 \"GET /gene/soft-sculpture HTTP/1.1\" 200 None\n"
          ]
        },
        {
          "output_type": "stream",
          "name": "stdout",
          "text": [
            "8 pages for parsing\n"
          ]
        },
        {
          "output_type": "stream",
          "name": "stderr",
          "text": [
            "https://www.artsy.net:443 \"GET /gene/soft-sculpture?page=2 HTTP/1.1\" 200 None\n",
            "https://www.artsy.net:443 \"GET /gene/soft-sculpture?page=3 HTTP/1.1\" 200 None\n",
            "https://www.artsy.net:443 \"GET /gene/soft-sculpture?page=4 HTTP/1.1\" 200 None\n",
            "https://www.artsy.net:443 \"GET /gene/soft-sculpture?page=5 HTTP/1.1\" 200 None\n",
            "https://www.artsy.net:443 \"GET /gene/soft-sculpture?page=6 HTTP/1.1\" 200 None\n",
            "https://www.artsy.net:443 \"GET /gene/soft-sculpture?page=7 HTTP/1.1\" 200 None\n",
            "https://www.artsy.net:443 \"GET /gene/soft-sculpture?page=8 HTTP/1.1\" 200 None\n"
          ]
        },
        {
          "output_type": "stream",
          "name": "stdout",
          "text": [
            "Parsing of gene 06151 https://www.artsy.net/gene/soft-sculpture has finished\n",
            "15.884018898010254 seconds have passed\n",
            "12:42:29.207693\n",
            "\n"
          ]
        },
        {
          "output_type": "stream",
          "name": "stderr",
          "text": [
            "Starting new HTTPS connection (1): www.artsy.net:443\n"
          ]
        },
        {
          "output_type": "stream",
          "name": "stdout",
          "text": [
            "Parsing of gene 06152 https://www.artsy.net/gene/sound-art has started\n"
          ]
        },
        {
          "output_type": "stream",
          "name": "stderr",
          "text": [
            "https://www.artsy.net:443 \"GET /gene/sound-art HTTP/1.1\" 200 None\n"
          ]
        },
        {
          "output_type": "stream",
          "name": "stdout",
          "text": [
            "28 pages for parsing\n"
          ]
        },
        {
          "output_type": "stream",
          "name": "stderr",
          "text": [
            "https://www.artsy.net:443 \"GET /gene/sound-art?page=2 HTTP/1.1\" 200 None\n",
            "https://www.artsy.net:443 \"GET /gene/sound-art?page=3 HTTP/1.1\" 200 None\n",
            "https://www.artsy.net:443 \"GET /gene/sound-art?page=4 HTTP/1.1\" 200 None\n",
            "https://www.artsy.net:443 \"GET /gene/sound-art?page=5 HTTP/1.1\" 200 None\n",
            "https://www.artsy.net:443 \"GET /gene/sound-art?page=6 HTTP/1.1\" 200 None\n",
            "https://www.artsy.net:443 \"GET /gene/sound-art?page=7 HTTP/1.1\" 200 None\n",
            "https://www.artsy.net:443 \"GET /gene/sound-art?page=8 HTTP/1.1\" 200 None\n",
            "https://www.artsy.net:443 \"GET /gene/sound-art?page=9 HTTP/1.1\" 200 None\n",
            "https://www.artsy.net:443 \"GET /gene/sound-art?page=10 HTTP/1.1\" 200 None\n",
            "https://www.artsy.net:443 \"GET /gene/sound-art?page=11 HTTP/1.1\" 200 None\n",
            "https://www.artsy.net:443 \"GET /gene/sound-art?page=12 HTTP/1.1\" 200 None\n",
            "https://www.artsy.net:443 \"GET /gene/sound-art?page=13 HTTP/1.1\" 200 None\n",
            "https://www.artsy.net:443 \"GET /gene/sound-art?page=14 HTTP/1.1\" 200 None\n",
            "https://www.artsy.net:443 \"GET /gene/sound-art?page=15 HTTP/1.1\" 200 None\n",
            "https://www.artsy.net:443 \"GET /gene/sound-art?page=16 HTTP/1.1\" 200 None\n",
            "https://www.artsy.net:443 \"GET /gene/sound-art?page=17 HTTP/1.1\" 200 None\n",
            "https://www.artsy.net:443 \"GET /gene/sound-art?page=18 HTTP/1.1\" 200 None\n",
            "https://www.artsy.net:443 \"GET /gene/sound-art?page=19 HTTP/1.1\" 200 None\n",
            "Starting new HTTPS connection (1): www.artsy.net:443\n",
            "https://www.artsy.net:443 \"GET /gene/sound-art?page=19 HTTP/1.1\" 200 None\n",
            "Resetting dropped connection: www.artsy.net\n",
            "https://www.artsy.net:443 \"GET /gene/sound-art?page=20 HTTP/1.1\" 200 None\n",
            "https://www.artsy.net:443 \"GET /gene/sound-art?page=21 HTTP/1.1\" 200 None\n",
            "https://www.artsy.net:443 \"GET /gene/sound-art?page=22 HTTP/1.1\" 200 None\n",
            "https://www.artsy.net:443 \"GET /gene/sound-art?page=23 HTTP/1.1\" 200 None\n",
            "https://www.artsy.net:443 \"GET /gene/sound-art?page=24 HTTP/1.1\" 200 None\n",
            "https://www.artsy.net:443 \"GET /gene/sound-art?page=25 HTTP/1.1\" 200 None\n",
            "https://www.artsy.net:443 \"GET /gene/sound-art?page=26 HTTP/1.1\" 200 None\n",
            "https://www.artsy.net:443 \"GET /gene/sound-art?page=27 HTTP/1.1\" 200 None\n",
            "https://www.artsy.net:443 \"GET /gene/sound-art?page=28 HTTP/1.1\" 200 None\n"
          ]
        },
        {
          "output_type": "stream",
          "name": "stdout",
          "text": [
            "Parsing of gene 06152 https://www.artsy.net/gene/sound-art has finished\n",
            "86.20177984237671 seconds have passed\n",
            "12:43:39.525750\n",
            "\n"
          ]
        },
        {
          "output_type": "stream",
          "name": "stderr",
          "text": [
            "Starting new HTTPS connection (1): www.artsy.net:443\n"
          ]
        },
        {
          "output_type": "stream",
          "name": "stdout",
          "text": [
            "Parsing of gene 06153 https://www.artsy.net/gene/splattered-slash-dripped has started\n"
          ]
        },
        {
          "output_type": "stream",
          "name": "stderr",
          "text": [
            "https://www.artsy.net:443 \"GET /gene/splattered-slash-dripped HTTP/1.1\" 200 None\n"
          ]
        },
        {
          "output_type": "stream",
          "name": "stdout",
          "text": [
            "100 pages for parsing\n"
          ]
        },
        {
          "output_type": "stream",
          "name": "stderr",
          "text": [
            "https://www.artsy.net:443 \"GET /gene/splattered-slash-dripped?page=2 HTTP/1.1\" 200 None\n",
            "https://www.artsy.net:443 \"GET /gene/splattered-slash-dripped?page=3 HTTP/1.1\" 200 None\n",
            "https://www.artsy.net:443 \"GET /gene/splattered-slash-dripped?page=4 HTTP/1.1\" 200 None\n",
            "https://www.artsy.net:443 \"GET /gene/splattered-slash-dripped?page=5 HTTP/1.1\" 200 None\n",
            "https://www.artsy.net:443 \"GET /gene/splattered-slash-dripped?page=6 HTTP/1.1\" 200 None\n",
            "https://www.artsy.net:443 \"GET /gene/splattered-slash-dripped?page=7 HTTP/1.1\" 200 None\n",
            "https://www.artsy.net:443 \"GET /gene/splattered-slash-dripped?page=8 HTTP/1.1\" 200 None\n",
            "https://www.artsy.net:443 \"GET /gene/splattered-slash-dripped?page=9 HTTP/1.1\" 200 None\n",
            "https://www.artsy.net:443 \"GET /gene/splattered-slash-dripped?page=10 HTTP/1.1\" 200 None\n",
            "https://www.artsy.net:443 \"GET /gene/splattered-slash-dripped?page=11 HTTP/1.1\" 200 None\n",
            "https://www.artsy.net:443 \"GET /gene/splattered-slash-dripped?page=12 HTTP/1.1\" 200 None\n",
            "https://www.artsy.net:443 \"GET /gene/splattered-slash-dripped?page=13 HTTP/1.1\" 200 None\n",
            "https://www.artsy.net:443 \"GET /gene/splattered-slash-dripped?page=14 HTTP/1.1\" 200 None\n",
            "https://www.artsy.net:443 \"GET /gene/splattered-slash-dripped?page=15 HTTP/1.1\" 200 None\n",
            "https://www.artsy.net:443 \"GET /gene/splattered-slash-dripped?page=16 HTTP/1.1\" 200 None\n",
            "https://www.artsy.net:443 \"GET /gene/splattered-slash-dripped?page=17 HTTP/1.1\" 200 None\n",
            "https://www.artsy.net:443 \"GET /gene/splattered-slash-dripped?page=18 HTTP/1.1\" 200 None\n",
            "https://www.artsy.net:443 \"GET /gene/splattered-slash-dripped?page=19 HTTP/1.1\" 200 None\n",
            "https://www.artsy.net:443 \"GET /gene/splattered-slash-dripped?page=20 HTTP/1.1\" 200 None\n",
            "https://www.artsy.net:443 \"GET /gene/splattered-slash-dripped?page=21 HTTP/1.1\" 200 None\n",
            "https://www.artsy.net:443 \"GET /gene/splattered-slash-dripped?page=22 HTTP/1.1\" 200 None\n",
            "https://www.artsy.net:443 \"GET /gene/splattered-slash-dripped?page=23 HTTP/1.1\" 200 None\n",
            "https://www.artsy.net:443 \"GET /gene/splattered-slash-dripped?page=24 HTTP/1.1\" 200 None\n",
            "https://www.artsy.net:443 \"GET /gene/splattered-slash-dripped?page=25 HTTP/1.1\" 200 None\n",
            "https://www.artsy.net:443 \"GET /gene/splattered-slash-dripped?page=26 HTTP/1.1\" 200 None\n",
            "https://www.artsy.net:443 \"GET /gene/splattered-slash-dripped?page=27 HTTP/1.1\" 200 None\n",
            "https://www.artsy.net:443 \"GET /gene/splattered-slash-dripped?page=28 HTTP/1.1\" 200 None\n",
            "https://www.artsy.net:443 \"GET /gene/splattered-slash-dripped?page=29 HTTP/1.1\" 200 None\n",
            "https://www.artsy.net:443 \"GET /gene/splattered-slash-dripped?page=30 HTTP/1.1\" 200 None\n",
            "https://www.artsy.net:443 \"GET /gene/splattered-slash-dripped?page=31 HTTP/1.1\" 200 None\n",
            "https://www.artsy.net:443 \"GET /gene/splattered-slash-dripped?page=32 HTTP/1.1\" 200 None\n",
            "https://www.artsy.net:443 \"GET /gene/splattered-slash-dripped?page=33 HTTP/1.1\" 200 None\n",
            "https://www.artsy.net:443 \"GET /gene/splattered-slash-dripped?page=34 HTTP/1.1\" 200 None\n",
            "https://www.artsy.net:443 \"GET /gene/splattered-slash-dripped?page=35 HTTP/1.1\" 200 None\n",
            "https://www.artsy.net:443 \"GET /gene/splattered-slash-dripped?page=36 HTTP/1.1\" 200 None\n",
            "https://www.artsy.net:443 \"GET /gene/splattered-slash-dripped?page=37 HTTP/1.1\" 200 None\n",
            "https://www.artsy.net:443 \"GET /gene/splattered-slash-dripped?page=38 HTTP/1.1\" 200 None\n",
            "https://www.artsy.net:443 \"GET /gene/splattered-slash-dripped?page=39 HTTP/1.1\" 200 None\n",
            "https://www.artsy.net:443 \"GET /gene/splattered-slash-dripped?page=40 HTTP/1.1\" 200 None\n",
            "https://www.artsy.net:443 \"GET /gene/splattered-slash-dripped?page=41 HTTP/1.1\" 200 None\n",
            "https://www.artsy.net:443 \"GET /gene/splattered-slash-dripped?page=42 HTTP/1.1\" 200 None\n",
            "https://www.artsy.net:443 \"GET /gene/splattered-slash-dripped?page=43 HTTP/1.1\" 200 None\n",
            "https://www.artsy.net:443 \"GET /gene/splattered-slash-dripped?page=44 HTTP/1.1\" 200 None\n",
            "https://www.artsy.net:443 \"GET /gene/splattered-slash-dripped?page=45 HTTP/1.1\" 200 None\n",
            "https://www.artsy.net:443 \"GET /gene/splattered-slash-dripped?page=46 HTTP/1.1\" 200 None\n",
            "https://www.artsy.net:443 \"GET /gene/splattered-slash-dripped?page=47 HTTP/1.1\" 200 None\n",
            "https://www.artsy.net:443 \"GET /gene/splattered-slash-dripped?page=48 HTTP/1.1\" 200 None\n",
            "https://www.artsy.net:443 \"GET /gene/splattered-slash-dripped?page=49 HTTP/1.1\" 200 None\n",
            "https://www.artsy.net:443 \"GET /gene/splattered-slash-dripped?page=50 HTTP/1.1\" 200 None\n",
            "https://www.artsy.net:443 \"GET /gene/splattered-slash-dripped?page=51 HTTP/1.1\" 200 None\n",
            "https://www.artsy.net:443 \"GET /gene/splattered-slash-dripped?page=52 HTTP/1.1\" 200 None\n",
            "https://www.artsy.net:443 \"GET /gene/splattered-slash-dripped?page=53 HTTP/1.1\" 200 None\n",
            "https://www.artsy.net:443 \"GET /gene/splattered-slash-dripped?page=54 HTTP/1.1\" 200 None\n",
            "https://www.artsy.net:443 \"GET /gene/splattered-slash-dripped?page=55 HTTP/1.1\" 200 None\n",
            "https://www.artsy.net:443 \"GET /gene/splattered-slash-dripped?page=56 HTTP/1.1\" 200 None\n",
            "https://www.artsy.net:443 \"GET /gene/splattered-slash-dripped?page=57 HTTP/1.1\" 200 None\n",
            "https://www.artsy.net:443 \"GET /gene/splattered-slash-dripped?page=58 HTTP/1.1\" 200 None\n",
            "https://www.artsy.net:443 \"GET /gene/splattered-slash-dripped?page=59 HTTP/1.1\" 200 None\n",
            "https://www.artsy.net:443 \"GET /gene/splattered-slash-dripped?page=60 HTTP/1.1\" 200 None\n",
            "https://www.artsy.net:443 \"GET /gene/splattered-slash-dripped?page=61 HTTP/1.1\" 200 None\n",
            "https://www.artsy.net:443 \"GET /gene/splattered-slash-dripped?page=62 HTTP/1.1\" 200 None\n",
            "https://www.artsy.net:443 \"GET /gene/splattered-slash-dripped?page=63 HTTP/1.1\" 200 None\n",
            "https://www.artsy.net:443 \"GET /gene/splattered-slash-dripped?page=64 HTTP/1.1\" 200 None\n",
            "https://www.artsy.net:443 \"GET /gene/splattered-slash-dripped?page=65 HTTP/1.1\" 200 None\n",
            "https://www.artsy.net:443 \"GET /gene/splattered-slash-dripped?page=66 HTTP/1.1\" 200 None\n",
            "https://www.artsy.net:443 \"GET /gene/splattered-slash-dripped?page=67 HTTP/1.1\" 200 None\n",
            "https://www.artsy.net:443 \"GET /gene/splattered-slash-dripped?page=68 HTTP/1.1\" 200 None\n",
            "https://www.artsy.net:443 \"GET /gene/splattered-slash-dripped?page=69 HTTP/1.1\" 200 None\n",
            "https://www.artsy.net:443 \"GET /gene/splattered-slash-dripped?page=70 HTTP/1.1\" 200 None\n",
            "https://www.artsy.net:443 \"GET /gene/splattered-slash-dripped?page=71 HTTP/1.1\" 200 None\n",
            "https://www.artsy.net:443 \"GET /gene/splattered-slash-dripped?page=72 HTTP/1.1\" 200 None\n",
            "https://www.artsy.net:443 \"GET /gene/splattered-slash-dripped?page=73 HTTP/1.1\" 200 None\n",
            "https://www.artsy.net:443 \"GET /gene/splattered-slash-dripped?page=74 HTTP/1.1\" 200 None\n",
            "https://www.artsy.net:443 \"GET /gene/splattered-slash-dripped?page=75 HTTP/1.1\" 200 None\n",
            "https://www.artsy.net:443 \"GET /gene/splattered-slash-dripped?page=76 HTTP/1.1\" 200 None\n",
            "https://www.artsy.net:443 \"GET /gene/splattered-slash-dripped?page=77 HTTP/1.1\" 200 None\n",
            "https://www.artsy.net:443 \"GET /gene/splattered-slash-dripped?page=78 HTTP/1.1\" 200 None\n",
            "https://www.artsy.net:443 \"GET /gene/splattered-slash-dripped?page=79 HTTP/1.1\" 200 None\n",
            "https://www.artsy.net:443 \"GET /gene/splattered-slash-dripped?page=80 HTTP/1.1\" 200 None\n",
            "https://www.artsy.net:443 \"GET /gene/splattered-slash-dripped?page=81 HTTP/1.1\" 200 None\n",
            "https://www.artsy.net:443 \"GET /gene/splattered-slash-dripped?page=82 HTTP/1.1\" 200 None\n",
            "https://www.artsy.net:443 \"GET /gene/splattered-slash-dripped?page=83 HTTP/1.1\" 200 None\n",
            "https://www.artsy.net:443 \"GET /gene/splattered-slash-dripped?page=84 HTTP/1.1\" 200 None\n",
            "https://www.artsy.net:443 \"GET /gene/splattered-slash-dripped?page=85 HTTP/1.1\" 200 None\n",
            "https://www.artsy.net:443 \"GET /gene/splattered-slash-dripped?page=86 HTTP/1.1\" 200 None\n",
            "https://www.artsy.net:443 \"GET /gene/splattered-slash-dripped?page=87 HTTP/1.1\" 200 None\n",
            "https://www.artsy.net:443 \"GET /gene/splattered-slash-dripped?page=88 HTTP/1.1\" 200 None\n",
            "https://www.artsy.net:443 \"GET /gene/splattered-slash-dripped?page=89 HTTP/1.1\" 200 None\n",
            "https://www.artsy.net:443 \"GET /gene/splattered-slash-dripped?page=90 HTTP/1.1\" 200 None\n",
            "https://www.artsy.net:443 \"GET /gene/splattered-slash-dripped?page=91 HTTP/1.1\" 200 None\n",
            "https://www.artsy.net:443 \"GET /gene/splattered-slash-dripped?page=92 HTTP/1.1\" 200 None\n",
            "https://www.artsy.net:443 \"GET /gene/splattered-slash-dripped?page=93 HTTP/1.1\" 200 None\n",
            "https://www.artsy.net:443 \"GET /gene/splattered-slash-dripped?page=94 HTTP/1.1\" 200 None\n",
            "https://www.artsy.net:443 \"GET /gene/splattered-slash-dripped?page=95 HTTP/1.1\" 200 None\n",
            "https://www.artsy.net:443 \"GET /gene/splattered-slash-dripped?page=96 HTTP/1.1\" 200 None\n",
            "https://www.artsy.net:443 \"GET /gene/splattered-slash-dripped?page=97 HTTP/1.1\" 200 None\n",
            "https://www.artsy.net:443 \"GET /gene/splattered-slash-dripped?page=98 HTTP/1.1\" 200 None\n",
            "https://www.artsy.net:443 \"GET /gene/splattered-slash-dripped?page=99 HTTP/1.1\" 200 None\n",
            "https://www.artsy.net:443 \"GET /gene/splattered-slash-dripped?page=100 HTTP/1.1\" 200 None\n"
          ]
        },
        {
          "output_type": "stream",
          "name": "stdout",
          "text": [
            "Parsing of gene 06153 https://www.artsy.net/gene/splattered-slash-dripped has finished\n",
            "324.0691194534302 seconds have passed\n",
            "12:47:37.393420\n",
            "\n"
          ]
        },
        {
          "output_type": "stream",
          "name": "stderr",
          "text": [
            "Starting new HTTPS connection (1): www.artsy.net:443\n"
          ]
        },
        {
          "output_type": "stream",
          "name": "stdout",
          "text": [
            "Parsing of gene 06154 https://www.artsy.net/gene/spray-paint has started\n"
          ]
        },
        {
          "output_type": "stream",
          "name": "stderr",
          "text": [
            "https://www.artsy.net:443 \"GET /gene/spray-paint HTTP/1.1\" 200 None\n"
          ]
        },
        {
          "output_type": "stream",
          "name": "stdout",
          "text": [
            "100 pages for parsing\n"
          ]
        },
        {
          "output_type": "stream",
          "name": "stderr",
          "text": [
            "https://www.artsy.net:443 \"GET /gene/spray-paint?page=2 HTTP/1.1\" 200 None\n",
            "https://www.artsy.net:443 \"GET /gene/spray-paint?page=3 HTTP/1.1\" 200 None\n",
            "https://www.artsy.net:443 \"GET /gene/spray-paint?page=4 HTTP/1.1\" 200 None\n",
            "https://www.artsy.net:443 \"GET /gene/spray-paint?page=5 HTTP/1.1\" 200 None\n",
            "https://www.artsy.net:443 \"GET /gene/spray-paint?page=6 HTTP/1.1\" 200 None\n",
            "https://www.artsy.net:443 \"GET /gene/spray-paint?page=7 HTTP/1.1\" 200 None\n",
            "https://www.artsy.net:443 \"GET /gene/spray-paint?page=8 HTTP/1.1\" 200 None\n",
            "https://www.artsy.net:443 \"GET /gene/spray-paint?page=9 HTTP/1.1\" 200 None\n",
            "https://www.artsy.net:443 \"GET /gene/spray-paint?page=10 HTTP/1.1\" 200 None\n",
            "https://www.artsy.net:443 \"GET /gene/spray-paint?page=11 HTTP/1.1\" 200 None\n",
            "https://www.artsy.net:443 \"GET /gene/spray-paint?page=12 HTTP/1.1\" 200 None\n",
            "https://www.artsy.net:443 \"GET /gene/spray-paint?page=13 HTTP/1.1\" 200 None\n",
            "https://www.artsy.net:443 \"GET /gene/spray-paint?page=14 HTTP/1.1\" 200 None\n",
            "https://www.artsy.net:443 \"GET /gene/spray-paint?page=15 HTTP/1.1\" 200 None\n",
            "https://www.artsy.net:443 \"GET /gene/spray-paint?page=16 HTTP/1.1\" 200 None\n",
            "https://www.artsy.net:443 \"GET /gene/spray-paint?page=17 HTTP/1.1\" 200 None\n",
            "https://www.artsy.net:443 \"GET /gene/spray-paint?page=18 HTTP/1.1\" 200 None\n",
            "https://www.artsy.net:443 \"GET /gene/spray-paint?page=19 HTTP/1.1\" 200 None\n",
            "https://www.artsy.net:443 \"GET /gene/spray-paint?page=20 HTTP/1.1\" 200 None\n",
            "https://www.artsy.net:443 \"GET /gene/spray-paint?page=21 HTTP/1.1\" 200 None\n",
            "https://www.artsy.net:443 \"GET /gene/spray-paint?page=22 HTTP/1.1\" 200 None\n",
            "https://www.artsy.net:443 \"GET /gene/spray-paint?page=23 HTTP/1.1\" 200 None\n",
            "https://www.artsy.net:443 \"GET /gene/spray-paint?page=24 HTTP/1.1\" 200 None\n",
            "https://www.artsy.net:443 \"GET /gene/spray-paint?page=25 HTTP/1.1\" 200 None\n",
            "https://www.artsy.net:443 \"GET /gene/spray-paint?page=26 HTTP/1.1\" 200 None\n",
            "https://www.artsy.net:443 \"GET /gene/spray-paint?page=27 HTTP/1.1\" 200 None\n",
            "https://www.artsy.net:443 \"GET /gene/spray-paint?page=28 HTTP/1.1\" 200 None\n",
            "https://www.artsy.net:443 \"GET /gene/spray-paint?page=29 HTTP/1.1\" 200 None\n",
            "https://www.artsy.net:443 \"GET /gene/spray-paint?page=30 HTTP/1.1\" 200 None\n",
            "https://www.artsy.net:443 \"GET /gene/spray-paint?page=31 HTTP/1.1\" 200 None\n",
            "https://www.artsy.net:443 \"GET /gene/spray-paint?page=32 HTTP/1.1\" 200 None\n",
            "https://www.artsy.net:443 \"GET /gene/spray-paint?page=33 HTTP/1.1\" 200 None\n",
            "https://www.artsy.net:443 \"GET /gene/spray-paint?page=34 HTTP/1.1\" 200 None\n",
            "https://www.artsy.net:443 \"GET /gene/spray-paint?page=35 HTTP/1.1\" 200 None\n",
            "https://www.artsy.net:443 \"GET /gene/spray-paint?page=36 HTTP/1.1\" 200 None\n",
            "https://www.artsy.net:443 \"GET /gene/spray-paint?page=37 HTTP/1.1\" 200 None\n",
            "https://www.artsy.net:443 \"GET /gene/spray-paint?page=38 HTTP/1.1\" 200 None\n",
            "https://www.artsy.net:443 \"GET /gene/spray-paint?page=39 HTTP/1.1\" 200 None\n",
            "https://www.artsy.net:443 \"GET /gene/spray-paint?page=40 HTTP/1.1\" 200 None\n",
            "https://www.artsy.net:443 \"GET /gene/spray-paint?page=41 HTTP/1.1\" 200 None\n",
            "https://www.artsy.net:443 \"GET /gene/spray-paint?page=42 HTTP/1.1\" 200 None\n",
            "https://www.artsy.net:443 \"GET /gene/spray-paint?page=43 HTTP/1.1\" 200 None\n",
            "https://www.artsy.net:443 \"GET /gene/spray-paint?page=44 HTTP/1.1\" 200 None\n",
            "https://www.artsy.net:443 \"GET /gene/spray-paint?page=45 HTTP/1.1\" 200 None\n",
            "https://www.artsy.net:443 \"GET /gene/spray-paint?page=46 HTTP/1.1\" 200 None\n",
            "https://www.artsy.net:443 \"GET /gene/spray-paint?page=47 HTTP/1.1\" 200 None\n",
            "https://www.artsy.net:443 \"GET /gene/spray-paint?page=48 HTTP/1.1\" 200 None\n",
            "https://www.artsy.net:443 \"GET /gene/spray-paint?page=49 HTTP/1.1\" 200 None\n",
            "https://www.artsy.net:443 \"GET /gene/spray-paint?page=50 HTTP/1.1\" 200 None\n",
            "https://www.artsy.net:443 \"GET /gene/spray-paint?page=51 HTTP/1.1\" 200 None\n",
            "https://www.artsy.net:443 \"GET /gene/spray-paint?page=52 HTTP/1.1\" 200 None\n",
            "https://www.artsy.net:443 \"GET /gene/spray-paint?page=53 HTTP/1.1\" 200 None\n",
            "https://www.artsy.net:443 \"GET /gene/spray-paint?page=54 HTTP/1.1\" 200 None\n",
            "https://www.artsy.net:443 \"GET /gene/spray-paint?page=55 HTTP/1.1\" 200 None\n",
            "https://www.artsy.net:443 \"GET /gene/spray-paint?page=56 HTTP/1.1\" 200 None\n",
            "https://www.artsy.net:443 \"GET /gene/spray-paint?page=57 HTTP/1.1\" 200 None\n",
            "https://www.artsy.net:443 \"GET /gene/spray-paint?page=58 HTTP/1.1\" 200 None\n",
            "https://www.artsy.net:443 \"GET /gene/spray-paint?page=59 HTTP/1.1\" 200 None\n",
            "https://www.artsy.net:443 \"GET /gene/spray-paint?page=60 HTTP/1.1\" 200 None\n",
            "https://www.artsy.net:443 \"GET /gene/spray-paint?page=61 HTTP/1.1\" 200 None\n",
            "https://www.artsy.net:443 \"GET /gene/spray-paint?page=62 HTTP/1.1\" 200 None\n",
            "https://www.artsy.net:443 \"GET /gene/spray-paint?page=63 HTTP/1.1\" 200 None\n",
            "https://www.artsy.net:443 \"GET /gene/spray-paint?page=64 HTTP/1.1\" 200 None\n",
            "https://www.artsy.net:443 \"GET /gene/spray-paint?page=65 HTTP/1.1\" 200 None\n",
            "https://www.artsy.net:443 \"GET /gene/spray-paint?page=66 HTTP/1.1\" 200 None\n",
            "https://www.artsy.net:443 \"GET /gene/spray-paint?page=67 HTTP/1.1\" 200 None\n",
            "https://www.artsy.net:443 \"GET /gene/spray-paint?page=68 HTTP/1.1\" 200 None\n",
            "https://www.artsy.net:443 \"GET /gene/spray-paint?page=69 HTTP/1.1\" 200 None\n",
            "https://www.artsy.net:443 \"GET /gene/spray-paint?page=70 HTTP/1.1\" 200 None\n",
            "https://www.artsy.net:443 \"GET /gene/spray-paint?page=71 HTTP/1.1\" 200 None\n",
            "https://www.artsy.net:443 \"GET /gene/spray-paint?page=72 HTTP/1.1\" 200 None\n",
            "https://www.artsy.net:443 \"GET /gene/spray-paint?page=73 HTTP/1.1\" 200 None\n",
            "https://www.artsy.net:443 \"GET /gene/spray-paint?page=74 HTTP/1.1\" 200 None\n",
            "https://www.artsy.net:443 \"GET /gene/spray-paint?page=75 HTTP/1.1\" 200 None\n",
            "https://www.artsy.net:443 \"GET /gene/spray-paint?page=76 HTTP/1.1\" 200 None\n",
            "https://www.artsy.net:443 \"GET /gene/spray-paint?page=77 HTTP/1.1\" 200 None\n",
            "https://www.artsy.net:443 \"GET /gene/spray-paint?page=78 HTTP/1.1\" 200 None\n",
            "https://www.artsy.net:443 \"GET /gene/spray-paint?page=79 HTTP/1.1\" 200 None\n",
            "https://www.artsy.net:443 \"GET /gene/spray-paint?page=80 HTTP/1.1\" 200 None\n",
            "https://www.artsy.net:443 \"GET /gene/spray-paint?page=81 HTTP/1.1\" 200 None\n",
            "https://www.artsy.net:443 \"GET /gene/spray-paint?page=82 HTTP/1.1\" 200 None\n",
            "https://www.artsy.net:443 \"GET /gene/spray-paint?page=83 HTTP/1.1\" 200 None\n",
            "https://www.artsy.net:443 \"GET /gene/spray-paint?page=84 HTTP/1.1\" 200 None\n",
            "https://www.artsy.net:443 \"GET /gene/spray-paint?page=85 HTTP/1.1\" 200 None\n",
            "https://www.artsy.net:443 \"GET /gene/spray-paint?page=86 HTTP/1.1\" 200 None\n",
            "https://www.artsy.net:443 \"GET /gene/spray-paint?page=87 HTTP/1.1\" 200 None\n",
            "https://www.artsy.net:443 \"GET /gene/spray-paint?page=88 HTTP/1.1\" 200 None\n",
            "https://www.artsy.net:443 \"GET /gene/spray-paint?page=89 HTTP/1.1\" 200 None\n",
            "https://www.artsy.net:443 \"GET /gene/spray-paint?page=90 HTTP/1.1\" 200 None\n",
            "https://www.artsy.net:443 \"GET /gene/spray-paint?page=91 HTTP/1.1\" 200 None\n",
            "https://www.artsy.net:443 \"GET /gene/spray-paint?page=92 HTTP/1.1\" 200 None\n",
            "https://www.artsy.net:443 \"GET /gene/spray-paint?page=93 HTTP/1.1\" 200 None\n",
            "https://www.artsy.net:443 \"GET /gene/spray-paint?page=94 HTTP/1.1\" 200 None\n",
            "https://www.artsy.net:443 \"GET /gene/spray-paint?page=95 HTTP/1.1\" 200 None\n",
            "https://www.artsy.net:443 \"GET /gene/spray-paint?page=96 HTTP/1.1\" 200 None\n",
            "https://www.artsy.net:443 \"GET /gene/spray-paint?page=97 HTTP/1.1\" 200 None\n",
            "https://www.artsy.net:443 \"GET /gene/spray-paint?page=98 HTTP/1.1\" 200 None\n",
            "https://www.artsy.net:443 \"GET /gene/spray-paint?page=99 HTTP/1.1\" 200 None\n",
            "https://www.artsy.net:443 \"GET /gene/spray-paint?page=100 HTTP/1.1\" 200 None\n"
          ]
        },
        {
          "output_type": "stream",
          "name": "stdout",
          "text": [
            "Parsing of gene 06154 https://www.artsy.net/gene/spray-paint has finished\n",
            "579.6360769271851 seconds have passed\n",
            "12:51:52.959755\n",
            "\n"
          ]
        },
        {
          "output_type": "stream",
          "name": "stderr",
          "text": [
            "Starting new HTTPS connection (1): www.artsy.net:443\n"
          ]
        },
        {
          "output_type": "stream",
          "name": "stdout",
          "text": [
            "Parsing of gene 06155 https://www.artsy.net/gene/staged-photography has started\n"
          ]
        },
        {
          "output_type": "stream",
          "name": "stderr",
          "text": [
            "https://www.artsy.net:443 \"GET /gene/staged-photography HTTP/1.1\" 200 None\n"
          ]
        },
        {
          "output_type": "stream",
          "name": "stdout",
          "text": [
            "100 pages for parsing\n"
          ]
        },
        {
          "output_type": "stream",
          "name": "stderr",
          "text": [
            "https://www.artsy.net:443 \"GET /gene/staged-photography?page=2 HTTP/1.1\" 200 None\n",
            "https://www.artsy.net:443 \"GET /gene/staged-photography?page=3 HTTP/1.1\" 200 None\n",
            "https://www.artsy.net:443 \"GET /gene/staged-photography?page=4 HTTP/1.1\" 200 None\n",
            "https://www.artsy.net:443 \"GET /gene/staged-photography?page=5 HTTP/1.1\" 200 None\n",
            "https://www.artsy.net:443 \"GET /gene/staged-photography?page=6 HTTP/1.1\" 200 None\n",
            "https://www.artsy.net:443 \"GET /gene/staged-photography?page=7 HTTP/1.1\" 200 None\n",
            "https://www.artsy.net:443 \"GET /gene/staged-photography?page=8 HTTP/1.1\" 200 None\n",
            "https://www.artsy.net:443 \"GET /gene/staged-photography?page=9 HTTP/1.1\" 200 None\n",
            "https://www.artsy.net:443 \"GET /gene/staged-photography?page=10 HTTP/1.1\" 200 None\n",
            "https://www.artsy.net:443 \"GET /gene/staged-photography?page=11 HTTP/1.1\" 200 None\n",
            "https://www.artsy.net:443 \"GET /gene/staged-photography?page=12 HTTP/1.1\" 200 None\n",
            "https://www.artsy.net:443 \"GET /gene/staged-photography?page=13 HTTP/1.1\" 200 None\n",
            "https://www.artsy.net:443 \"GET /gene/staged-photography?page=14 HTTP/1.1\" 200 None\n",
            "https://www.artsy.net:443 \"GET /gene/staged-photography?page=15 HTTP/1.1\" 200 None\n",
            "https://www.artsy.net:443 \"GET /gene/staged-photography?page=16 HTTP/1.1\" 200 None\n",
            "https://www.artsy.net:443 \"GET /gene/staged-photography?page=17 HTTP/1.1\" 200 None\n",
            "https://www.artsy.net:443 \"GET /gene/staged-photography?page=18 HTTP/1.1\" 200 None\n",
            "https://www.artsy.net:443 \"GET /gene/staged-photography?page=19 HTTP/1.1\" 200 None\n",
            "https://www.artsy.net:443 \"GET /gene/staged-photography?page=20 HTTP/1.1\" 200 None\n",
            "https://www.artsy.net:443 \"GET /gene/staged-photography?page=21 HTTP/1.1\" 200 None\n",
            "https://www.artsy.net:443 \"GET /gene/staged-photography?page=22 HTTP/1.1\" 200 None\n",
            "https://www.artsy.net:443 \"GET /gene/staged-photography?page=23 HTTP/1.1\" 200 None\n",
            "https://www.artsy.net:443 \"GET /gene/staged-photography?page=24 HTTP/1.1\" 200 None\n",
            "https://www.artsy.net:443 \"GET /gene/staged-photography?page=25 HTTP/1.1\" 200 None\n",
            "https://www.artsy.net:443 \"GET /gene/staged-photography?page=26 HTTP/1.1\" 200 None\n",
            "https://www.artsy.net:443 \"GET /gene/staged-photography?page=27 HTTP/1.1\" 200 None\n",
            "https://www.artsy.net:443 \"GET /gene/staged-photography?page=28 HTTP/1.1\" 200 None\n",
            "https://www.artsy.net:443 \"GET /gene/staged-photography?page=29 HTTP/1.1\" 200 None\n",
            "https://www.artsy.net:443 \"GET /gene/staged-photography?page=30 HTTP/1.1\" 200 None\n",
            "https://www.artsy.net:443 \"GET /gene/staged-photography?page=31 HTTP/1.1\" 200 None\n",
            "https://www.artsy.net:443 \"GET /gene/staged-photography?page=32 HTTP/1.1\" 200 None\n",
            "https://www.artsy.net:443 \"GET /gene/staged-photography?page=33 HTTP/1.1\" 200 None\n",
            "https://www.artsy.net:443 \"GET /gene/staged-photography?page=34 HTTP/1.1\" 200 None\n",
            "https://www.artsy.net:443 \"GET /gene/staged-photography?page=35 HTTP/1.1\" 200 None\n",
            "https://www.artsy.net:443 \"GET /gene/staged-photography?page=36 HTTP/1.1\" 200 None\n",
            "https://www.artsy.net:443 \"GET /gene/staged-photography?page=37 HTTP/1.1\" 200 None\n",
            "https://www.artsy.net:443 \"GET /gene/staged-photography?page=38 HTTP/1.1\" 200 None\n",
            "https://www.artsy.net:443 \"GET /gene/staged-photography?page=39 HTTP/1.1\" 200 None\n",
            "https://www.artsy.net:443 \"GET /gene/staged-photography?page=40 HTTP/1.1\" 200 None\n",
            "https://www.artsy.net:443 \"GET /gene/staged-photography?page=41 HTTP/1.1\" 200 None\n",
            "https://www.artsy.net:443 \"GET /gene/staged-photography?page=42 HTTP/1.1\" 200 None\n",
            "https://www.artsy.net:443 \"GET /gene/staged-photography?page=43 HTTP/1.1\" 200 None\n",
            "https://www.artsy.net:443 \"GET /gene/staged-photography?page=44 HTTP/1.1\" 200 None\n",
            "https://www.artsy.net:443 \"GET /gene/staged-photography?page=45 HTTP/1.1\" 200 None\n",
            "https://www.artsy.net:443 \"GET /gene/staged-photography?page=46 HTTP/1.1\" 200 None\n",
            "https://www.artsy.net:443 \"GET /gene/staged-photography?page=47 HTTP/1.1\" 200 None\n",
            "https://www.artsy.net:443 \"GET /gene/staged-photography?page=48 HTTP/1.1\" 200 None\n",
            "https://www.artsy.net:443 \"GET /gene/staged-photography?page=49 HTTP/1.1\" 200 None\n",
            "https://www.artsy.net:443 \"GET /gene/staged-photography?page=50 HTTP/1.1\" 200 None\n",
            "https://www.artsy.net:443 \"GET /gene/staged-photography?page=51 HTTP/1.1\" 200 None\n",
            "https://www.artsy.net:443 \"GET /gene/staged-photography?page=52 HTTP/1.1\" 200 None\n",
            "https://www.artsy.net:443 \"GET /gene/staged-photography?page=53 HTTP/1.1\" 200 None\n",
            "https://www.artsy.net:443 \"GET /gene/staged-photography?page=54 HTTP/1.1\" 200 None\n",
            "https://www.artsy.net:443 \"GET /gene/staged-photography?page=55 HTTP/1.1\" 200 None\n",
            "https://www.artsy.net:443 \"GET /gene/staged-photography?page=56 HTTP/1.1\" 200 None\n",
            "https://www.artsy.net:443 \"GET /gene/staged-photography?page=57 HTTP/1.1\" 200 None\n",
            "https://www.artsy.net:443 \"GET /gene/staged-photography?page=58 HTTP/1.1\" 200 None\n",
            "https://www.artsy.net:443 \"GET /gene/staged-photography?page=59 HTTP/1.1\" 200 None\n",
            "https://www.artsy.net:443 \"GET /gene/staged-photography?page=60 HTTP/1.1\" 200 None\n",
            "https://www.artsy.net:443 \"GET /gene/staged-photography?page=61 HTTP/1.1\" 200 None\n",
            "https://www.artsy.net:443 \"GET /gene/staged-photography?page=62 HTTP/1.1\" 200 None\n",
            "https://www.artsy.net:443 \"GET /gene/staged-photography?page=63 HTTP/1.1\" 200 None\n",
            "https://www.artsy.net:443 \"GET /gene/staged-photography?page=64 HTTP/1.1\" 200 None\n",
            "https://www.artsy.net:443 \"GET /gene/staged-photography?page=65 HTTP/1.1\" 200 None\n",
            "https://www.artsy.net:443 \"GET /gene/staged-photography?page=66 HTTP/1.1\" 200 None\n",
            "https://www.artsy.net:443 \"GET /gene/staged-photography?page=67 HTTP/1.1\" 200 None\n",
            "https://www.artsy.net:443 \"GET /gene/staged-photography?page=68 HTTP/1.1\" 200 None\n",
            "https://www.artsy.net:443 \"GET /gene/staged-photography?page=69 HTTP/1.1\" 200 None\n",
            "https://www.artsy.net:443 \"GET /gene/staged-photography?page=70 HTTP/1.1\" 200 None\n",
            "https://www.artsy.net:443 \"GET /gene/staged-photography?page=71 HTTP/1.1\" 200 None\n",
            "https://www.artsy.net:443 \"GET /gene/staged-photography?page=72 HTTP/1.1\" 200 None\n",
            "https://www.artsy.net:443 \"GET /gene/staged-photography?page=73 HTTP/1.1\" 200 None\n",
            "https://www.artsy.net:443 \"GET /gene/staged-photography?page=74 HTTP/1.1\" 200 None\n",
            "https://www.artsy.net:443 \"GET /gene/staged-photography?page=75 HTTP/1.1\" 200 None\n",
            "https://www.artsy.net:443 \"GET /gene/staged-photography?page=76 HTTP/1.1\" 200 None\n",
            "https://www.artsy.net:443 \"GET /gene/staged-photography?page=77 HTTP/1.1\" 200 None\n",
            "https://www.artsy.net:443 \"GET /gene/staged-photography?page=78 HTTP/1.1\" 200 None\n",
            "https://www.artsy.net:443 \"GET /gene/staged-photography?page=79 HTTP/1.1\" 200 None\n",
            "https://www.artsy.net:443 \"GET /gene/staged-photography?page=80 HTTP/1.1\" 200 None\n",
            "https://www.artsy.net:443 \"GET /gene/staged-photography?page=81 HTTP/1.1\" 200 None\n",
            "https://www.artsy.net:443 \"GET /gene/staged-photography?page=82 HTTP/1.1\" 200 None\n",
            "https://www.artsy.net:443 \"GET /gene/staged-photography?page=83 HTTP/1.1\" 200 None\n",
            "https://www.artsy.net:443 \"GET /gene/staged-photography?page=84 HTTP/1.1\" 200 None\n",
            "https://www.artsy.net:443 \"GET /gene/staged-photography?page=85 HTTP/1.1\" 200 None\n",
            "https://www.artsy.net:443 \"GET /gene/staged-photography?page=86 HTTP/1.1\" 200 None\n",
            "https://www.artsy.net:443 \"GET /gene/staged-photography?page=87 HTTP/1.1\" 200 None\n",
            "https://www.artsy.net:443 \"GET /gene/staged-photography?page=88 HTTP/1.1\" 200 None\n",
            "https://www.artsy.net:443 \"GET /gene/staged-photography?page=89 HTTP/1.1\" 200 None\n",
            "https://www.artsy.net:443 \"GET /gene/staged-photography?page=90 HTTP/1.1\" 200 None\n",
            "https://www.artsy.net:443 \"GET /gene/staged-photography?page=91 HTTP/1.1\" 200 None\n",
            "https://www.artsy.net:443 \"GET /gene/staged-photography?page=92 HTTP/1.1\" 200 None\n",
            "https://www.artsy.net:443 \"GET /gene/staged-photography?page=93 HTTP/1.1\" 200 None\n",
            "https://www.artsy.net:443 \"GET /gene/staged-photography?page=94 HTTP/1.1\" 200 None\n",
            "https://www.artsy.net:443 \"GET /gene/staged-photography?page=95 HTTP/1.1\" 200 None\n",
            "https://www.artsy.net:443 \"GET /gene/staged-photography?page=96 HTTP/1.1\" 200 None\n",
            "https://www.artsy.net:443 \"GET /gene/staged-photography?page=97 HTTP/1.1\" 200 None\n",
            "https://www.artsy.net:443 \"GET /gene/staged-photography?page=98 HTTP/1.1\" 200 None\n",
            "https://www.artsy.net:443 \"GET /gene/staged-photography?page=99 HTTP/1.1\" 200 None\n",
            "https://www.artsy.net:443 \"GET /gene/staged-photography?page=100 HTTP/1.1\" 200 None\n"
          ]
        },
        {
          "output_type": "stream",
          "name": "stdout",
          "text": [
            "Parsing of gene 06155 https://www.artsy.net/gene/staged-photography has finished\n",
            "795.3020813465118 seconds have passed\n",
            "12:55:28.626103\n",
            "\n"
          ]
        },
        {
          "output_type": "stream",
          "name": "stderr",
          "text": [
            "Starting new HTTPS connection (1): www.artsy.net:443\n"
          ]
        },
        {
          "output_type": "stream",
          "name": "stdout",
          "text": [
            "Parsing of gene 06156 https://www.artsy.net/gene/stains-slash-washes has started\n"
          ]
        },
        {
          "output_type": "stream",
          "name": "stderr",
          "text": [
            "https://www.artsy.net:443 \"GET /gene/stains-slash-washes HTTP/1.1\" 200 None\n"
          ]
        },
        {
          "output_type": "stream",
          "name": "stdout",
          "text": [
            "72 pages for parsing\n"
          ]
        },
        {
          "output_type": "stream",
          "name": "stderr",
          "text": [
            "https://www.artsy.net:443 \"GET /gene/stains-slash-washes?page=2 HTTP/1.1\" 200 None\n",
            "https://www.artsy.net:443 \"GET /gene/stains-slash-washes?page=3 HTTP/1.1\" 200 None\n",
            "https://www.artsy.net:443 \"GET /gene/stains-slash-washes?page=4 HTTP/1.1\" 200 None\n",
            "https://www.artsy.net:443 \"GET /gene/stains-slash-washes?page=5 HTTP/1.1\" 200 None\n",
            "https://www.artsy.net:443 \"GET /gene/stains-slash-washes?page=6 HTTP/1.1\" 200 None\n",
            "https://www.artsy.net:443 \"GET /gene/stains-slash-washes?page=7 HTTP/1.1\" 200 None\n",
            "https://www.artsy.net:443 \"GET /gene/stains-slash-washes?page=8 HTTP/1.1\" 200 None\n",
            "https://www.artsy.net:443 \"GET /gene/stains-slash-washes?page=9 HTTP/1.1\" 200 None\n",
            "https://www.artsy.net:443 \"GET /gene/stains-slash-washes?page=10 HTTP/1.1\" 200 None\n",
            "https://www.artsy.net:443 \"GET /gene/stains-slash-washes?page=11 HTTP/1.1\" 200 None\n",
            "https://www.artsy.net:443 \"GET /gene/stains-slash-washes?page=12 HTTP/1.1\" 200 None\n",
            "https://www.artsy.net:443 \"GET /gene/stains-slash-washes?page=13 HTTP/1.1\" 200 None\n",
            "https://www.artsy.net:443 \"GET /gene/stains-slash-washes?page=14 HTTP/1.1\" 200 None\n",
            "https://www.artsy.net:443 \"GET /gene/stains-slash-washes?page=15 HTTP/1.1\" 200 None\n",
            "https://www.artsy.net:443 \"GET /gene/stains-slash-washes?page=16 HTTP/1.1\" 200 None\n",
            "https://www.artsy.net:443 \"GET /gene/stains-slash-washes?page=17 HTTP/1.1\" 200 None\n",
            "https://www.artsy.net:443 \"GET /gene/stains-slash-washes?page=18 HTTP/1.1\" 200 None\n",
            "https://www.artsy.net:443 \"GET /gene/stains-slash-washes?page=19 HTTP/1.1\" 200 None\n",
            "https://www.artsy.net:443 \"GET /gene/stains-slash-washes?page=20 HTTP/1.1\" 200 None\n",
            "https://www.artsy.net:443 \"GET /gene/stains-slash-washes?page=21 HTTP/1.1\" 200 None\n",
            "https://www.artsy.net:443 \"GET /gene/stains-slash-washes?page=22 HTTP/1.1\" 200 None\n",
            "https://www.artsy.net:443 \"GET /gene/stains-slash-washes?page=23 HTTP/1.1\" 200 None\n",
            "https://www.artsy.net:443 \"GET /gene/stains-slash-washes?page=24 HTTP/1.1\" 200 None\n",
            "https://www.artsy.net:443 \"GET /gene/stains-slash-washes?page=25 HTTP/1.1\" 200 None\n",
            "https://www.artsy.net:443 \"GET /gene/stains-slash-washes?page=26 HTTP/1.1\" 200 None\n",
            "https://www.artsy.net:443 \"GET /gene/stains-slash-washes?page=27 HTTP/1.1\" 200 None\n",
            "https://www.artsy.net:443 \"GET /gene/stains-slash-washes?page=28 HTTP/1.1\" 200 None\n",
            "https://www.artsy.net:443 \"GET /gene/stains-slash-washes?page=29 HTTP/1.1\" 200 None\n",
            "https://www.artsy.net:443 \"GET /gene/stains-slash-washes?page=30 HTTP/1.1\" 200 None\n",
            "https://www.artsy.net:443 \"GET /gene/stains-slash-washes?page=31 HTTP/1.1\" 200 None\n",
            "https://www.artsy.net:443 \"GET /gene/stains-slash-washes?page=32 HTTP/1.1\" 200 None\n",
            "https://www.artsy.net:443 \"GET /gene/stains-slash-washes?page=33 HTTP/1.1\" 200 None\n",
            "https://www.artsy.net:443 \"GET /gene/stains-slash-washes?page=34 HTTP/1.1\" 200 None\n",
            "https://www.artsy.net:443 \"GET /gene/stains-slash-washes?page=35 HTTP/1.1\" 200 None\n",
            "https://www.artsy.net:443 \"GET /gene/stains-slash-washes?page=36 HTTP/1.1\" 200 None\n",
            "https://www.artsy.net:443 \"GET /gene/stains-slash-washes?page=37 HTTP/1.1\" 200 None\n",
            "https://www.artsy.net:443 \"GET /gene/stains-slash-washes?page=38 HTTP/1.1\" 200 None\n",
            "https://www.artsy.net:443 \"GET /gene/stains-slash-washes?page=39 HTTP/1.1\" 200 None\n",
            "https://www.artsy.net:443 \"GET /gene/stains-slash-washes?page=40 HTTP/1.1\" 200 None\n",
            "https://www.artsy.net:443 \"GET /gene/stains-slash-washes?page=41 HTTP/1.1\" 200 None\n",
            "https://www.artsy.net:443 \"GET /gene/stains-slash-washes?page=42 HTTP/1.1\" 200 None\n",
            "https://www.artsy.net:443 \"GET /gene/stains-slash-washes?page=43 HTTP/1.1\" 200 None\n",
            "https://www.artsy.net:443 \"GET /gene/stains-slash-washes?page=44 HTTP/1.1\" 200 None\n",
            "https://www.artsy.net:443 \"GET /gene/stains-slash-washes?page=45 HTTP/1.1\" 200 None\n",
            "https://www.artsy.net:443 \"GET /gene/stains-slash-washes?page=46 HTTP/1.1\" 200 None\n",
            "https://www.artsy.net:443 \"GET /gene/stains-slash-washes?page=47 HTTP/1.1\" 200 None\n",
            "https://www.artsy.net:443 \"GET /gene/stains-slash-washes?page=48 HTTP/1.1\" 200 None\n",
            "https://www.artsy.net:443 \"GET /gene/stains-slash-washes?page=49 HTTP/1.1\" 200 None\n",
            "https://www.artsy.net:443 \"GET /gene/stains-slash-washes?page=50 HTTP/1.1\" 200 None\n",
            "https://www.artsy.net:443 \"GET /gene/stains-slash-washes?page=51 HTTP/1.1\" 200 None\n",
            "https://www.artsy.net:443 \"GET /gene/stains-slash-washes?page=52 HTTP/1.1\" 200 None\n",
            "https://www.artsy.net:443 \"GET /gene/stains-slash-washes?page=53 HTTP/1.1\" 200 None\n",
            "https://www.artsy.net:443 \"GET /gene/stains-slash-washes?page=54 HTTP/1.1\" 200 None\n",
            "https://www.artsy.net:443 \"GET /gene/stains-slash-washes?page=55 HTTP/1.1\" 200 None\n",
            "https://www.artsy.net:443 \"GET /gene/stains-slash-washes?page=56 HTTP/1.1\" 200 None\n",
            "https://www.artsy.net:443 \"GET /gene/stains-slash-washes?page=57 HTTP/1.1\" 200 None\n",
            "https://www.artsy.net:443 \"GET /gene/stains-slash-washes?page=58 HTTP/1.1\" 200 None\n",
            "https://www.artsy.net:443 \"GET /gene/stains-slash-washes?page=59 HTTP/1.1\" 200 None\n",
            "https://www.artsy.net:443 \"GET /gene/stains-slash-washes?page=60 HTTP/1.1\" 200 None\n",
            "https://www.artsy.net:443 \"GET /gene/stains-slash-washes?page=61 HTTP/1.1\" 200 None\n",
            "https://www.artsy.net:443 \"GET /gene/stains-slash-washes?page=62 HTTP/1.1\" 200 None\n",
            "https://www.artsy.net:443 \"GET /gene/stains-slash-washes?page=63 HTTP/1.1\" 200 None\n",
            "https://www.artsy.net:443 \"GET /gene/stains-slash-washes?page=64 HTTP/1.1\" 200 None\n",
            "https://www.artsy.net:443 \"GET /gene/stains-slash-washes?page=65 HTTP/1.1\" 200 None\n",
            "https://www.artsy.net:443 \"GET /gene/stains-slash-washes?page=66 HTTP/1.1\" 200 None\n",
            "https://www.artsy.net:443 \"GET /gene/stains-slash-washes?page=67 HTTP/1.1\" 200 None\n",
            "https://www.artsy.net:443 \"GET /gene/stains-slash-washes?page=68 HTTP/1.1\" 200 None\n",
            "https://www.artsy.net:443 \"GET /gene/stains-slash-washes?page=69 HTTP/1.1\" 200 None\n",
            "https://www.artsy.net:443 \"GET /gene/stains-slash-washes?page=70 HTTP/1.1\" 200 None\n",
            "https://www.artsy.net:443 \"GET /gene/stains-slash-washes?page=71 HTTP/1.1\" 200 None\n",
            "https://www.artsy.net:443 \"GET /gene/stains-slash-washes?page=72 HTTP/1.1\" 200 None\n"
          ]
        },
        {
          "output_type": "stream",
          "name": "stdout",
          "text": [
            "Parsing of gene 06156 https://www.artsy.net/gene/stains-slash-washes has finished\n",
            "958.3741602897644 seconds have passed\n",
            "12:58:11.698190\n",
            "\n"
          ]
        },
        {
          "output_type": "stream",
          "name": "stderr",
          "text": [
            "Starting new HTTPS connection (1): www.artsy.net:443\n"
          ]
        },
        {
          "output_type": "stream",
          "name": "stdout",
          "text": [
            "Parsing of gene 06157 https://www.artsy.net/gene/study has started\n"
          ]
        },
        {
          "output_type": "stream",
          "name": "stderr",
          "text": [
            "https://www.artsy.net:443 \"GET /gene/study HTTP/1.1\" 200 None\n"
          ]
        },
        {
          "output_type": "stream",
          "name": "stdout",
          "text": [
            "100 pages for parsing\n"
          ]
        },
        {
          "output_type": "stream",
          "name": "stderr",
          "text": [
            "https://www.artsy.net:443 \"GET /gene/study?page=2 HTTP/1.1\" 200 None\n",
            "https://www.artsy.net:443 \"GET /gene/study?page=3 HTTP/1.1\" 200 None\n",
            "https://www.artsy.net:443 \"GET /gene/study?page=4 HTTP/1.1\" 200 None\n",
            "https://www.artsy.net:443 \"GET /gene/study?page=5 HTTP/1.1\" 200 None\n",
            "https://www.artsy.net:443 \"GET /gene/study?page=6 HTTP/1.1\" 200 None\n",
            "https://www.artsy.net:443 \"GET /gene/study?page=7 HTTP/1.1\" 200 None\n",
            "https://www.artsy.net:443 \"GET /gene/study?page=8 HTTP/1.1\" 200 None\n",
            "https://www.artsy.net:443 \"GET /gene/study?page=9 HTTP/1.1\" 200 None\n",
            "https://www.artsy.net:443 \"GET /gene/study?page=10 HTTP/1.1\" 200 None\n",
            "https://www.artsy.net:443 \"GET /gene/study?page=11 HTTP/1.1\" 200 None\n",
            "https://www.artsy.net:443 \"GET /gene/study?page=12 HTTP/1.1\" 200 None\n",
            "https://www.artsy.net:443 \"GET /gene/study?page=13 HTTP/1.1\" 200 None\n",
            "https://www.artsy.net:443 \"GET /gene/study?page=14 HTTP/1.1\" 200 None\n",
            "https://www.artsy.net:443 \"GET /gene/study?page=15 HTTP/1.1\" 200 None\n",
            "https://www.artsy.net:443 \"GET /gene/study?page=16 HTTP/1.1\" 200 None\n",
            "https://www.artsy.net:443 \"GET /gene/study?page=17 HTTP/1.1\" 200 None\n",
            "https://www.artsy.net:443 \"GET /gene/study?page=18 HTTP/1.1\" 200 None\n",
            "https://www.artsy.net:443 \"GET /gene/study?page=19 HTTP/1.1\" 200 None\n",
            "https://www.artsy.net:443 \"GET /gene/study?page=20 HTTP/1.1\" 200 None\n",
            "https://www.artsy.net:443 \"GET /gene/study?page=21 HTTP/1.1\" 200 None\n",
            "https://www.artsy.net:443 \"GET /gene/study?page=22 HTTP/1.1\" 200 None\n",
            "https://www.artsy.net:443 \"GET /gene/study?page=23 HTTP/1.1\" 200 None\n",
            "https://www.artsy.net:443 \"GET /gene/study?page=24 HTTP/1.1\" 200 None\n",
            "https://www.artsy.net:443 \"GET /gene/study?page=25 HTTP/1.1\" 200 None\n",
            "https://www.artsy.net:443 \"GET /gene/study?page=26 HTTP/1.1\" 200 None\n",
            "https://www.artsy.net:443 \"GET /gene/study?page=27 HTTP/1.1\" 200 None\n",
            "https://www.artsy.net:443 \"GET /gene/study?page=28 HTTP/1.1\" 200 None\n",
            "https://www.artsy.net:443 \"GET /gene/study?page=29 HTTP/1.1\" 200 None\n",
            "https://www.artsy.net:443 \"GET /gene/study?page=30 HTTP/1.1\" 200 None\n",
            "https://www.artsy.net:443 \"GET /gene/study?page=31 HTTP/1.1\" 200 None\n",
            "https://www.artsy.net:443 \"GET /gene/study?page=32 HTTP/1.1\" 200 None\n",
            "https://www.artsy.net:443 \"GET /gene/study?page=33 HTTP/1.1\" 200 None\n",
            "https://www.artsy.net:443 \"GET /gene/study?page=34 HTTP/1.1\" 200 None\n",
            "https://www.artsy.net:443 \"GET /gene/study?page=35 HTTP/1.1\" 200 None\n",
            "https://www.artsy.net:443 \"GET /gene/study?page=36 HTTP/1.1\" 200 None\n",
            "https://www.artsy.net:443 \"GET /gene/study?page=37 HTTP/1.1\" 200 None\n",
            "https://www.artsy.net:443 \"GET /gene/study?page=38 HTTP/1.1\" 200 None\n",
            "https://www.artsy.net:443 \"GET /gene/study?page=39 HTTP/1.1\" 200 None\n",
            "https://www.artsy.net:443 \"GET /gene/study?page=40 HTTP/1.1\" 200 None\n",
            "https://www.artsy.net:443 \"GET /gene/study?page=41 HTTP/1.1\" 200 None\n",
            "https://www.artsy.net:443 \"GET /gene/study?page=42 HTTP/1.1\" 200 None\n",
            "https://www.artsy.net:443 \"GET /gene/study?page=43 HTTP/1.1\" 200 None\n",
            "https://www.artsy.net:443 \"GET /gene/study?page=44 HTTP/1.1\" 200 None\n",
            "https://www.artsy.net:443 \"GET /gene/study?page=45 HTTP/1.1\" 200 None\n",
            "https://www.artsy.net:443 \"GET /gene/study?page=46 HTTP/1.1\" 200 None\n",
            "https://www.artsy.net:443 \"GET /gene/study?page=47 HTTP/1.1\" 200 None\n",
            "https://www.artsy.net:443 \"GET /gene/study?page=48 HTTP/1.1\" 200 None\n",
            "https://www.artsy.net:443 \"GET /gene/study?page=49 HTTP/1.1\" 200 None\n",
            "https://www.artsy.net:443 \"GET /gene/study?page=50 HTTP/1.1\" 200 None\n",
            "https://www.artsy.net:443 \"GET /gene/study?page=51 HTTP/1.1\" 200 None\n",
            "https://www.artsy.net:443 \"GET /gene/study?page=52 HTTP/1.1\" 200 None\n",
            "https://www.artsy.net:443 \"GET /gene/study?page=53 HTTP/1.1\" 200 None\n",
            "https://www.artsy.net:443 \"GET /gene/study?page=54 HTTP/1.1\" 200 None\n",
            "https://www.artsy.net:443 \"GET /gene/study?page=55 HTTP/1.1\" 200 None\n",
            "https://www.artsy.net:443 \"GET /gene/study?page=56 HTTP/1.1\" 200 None\n",
            "https://www.artsy.net:443 \"GET /gene/study?page=57 HTTP/1.1\" 200 None\n",
            "https://www.artsy.net:443 \"GET /gene/study?page=58 HTTP/1.1\" 200 None\n",
            "https://www.artsy.net:443 \"GET /gene/study?page=59 HTTP/1.1\" 200 None\n",
            "https://www.artsy.net:443 \"GET /gene/study?page=60 HTTP/1.1\" 200 None\n",
            "https://www.artsy.net:443 \"GET /gene/study?page=61 HTTP/1.1\" 200 None\n",
            "https://www.artsy.net:443 \"GET /gene/study?page=62 HTTP/1.1\" 200 None\n",
            "https://www.artsy.net:443 \"GET /gene/study?page=63 HTTP/1.1\" 200 None\n",
            "https://www.artsy.net:443 \"GET /gene/study?page=64 HTTP/1.1\" 200 None\n",
            "https://www.artsy.net:443 \"GET /gene/study?page=65 HTTP/1.1\" 200 None\n",
            "https://www.artsy.net:443 \"GET /gene/study?page=66 HTTP/1.1\" 200 None\n",
            "https://www.artsy.net:443 \"GET /gene/study?page=67 HTTP/1.1\" 200 None\n",
            "https://www.artsy.net:443 \"GET /gene/study?page=68 HTTP/1.1\" 200 None\n",
            "https://www.artsy.net:443 \"GET /gene/study?page=69 HTTP/1.1\" 200 None\n",
            "https://www.artsy.net:443 \"GET /gene/study?page=70 HTTP/1.1\" 200 None\n",
            "https://www.artsy.net:443 \"GET /gene/study?page=71 HTTP/1.1\" 200 None\n",
            "https://www.artsy.net:443 \"GET /gene/study?page=72 HTTP/1.1\" 200 None\n",
            "https://www.artsy.net:443 \"GET /gene/study?page=73 HTTP/1.1\" 200 None\n",
            "https://www.artsy.net:443 \"GET /gene/study?page=74 HTTP/1.1\" 200 None\n",
            "https://www.artsy.net:443 \"GET /gene/study?page=75 HTTP/1.1\" 200 None\n",
            "https://www.artsy.net:443 \"GET /gene/study?page=76 HTTP/1.1\" 200 None\n",
            "https://www.artsy.net:443 \"GET /gene/study?page=77 HTTP/1.1\" 200 None\n",
            "Starting new HTTPS connection (1): www.artsy.net:443\n",
            "https://www.artsy.net:443 \"GET /gene/study?page=77 HTTP/1.1\" 200 None\n",
            "Resetting dropped connection: www.artsy.net\n",
            "https://www.artsy.net:443 \"GET /gene/study?page=78 HTTP/1.1\" 200 None\n",
            "https://www.artsy.net:443 \"GET /gene/study?page=79 HTTP/1.1\" 200 None\n",
            "https://www.artsy.net:443 \"GET /gene/study?page=80 HTTP/1.1\" 200 None\n",
            "https://www.artsy.net:443 \"GET /gene/study?page=81 HTTP/1.1\" 200 None\n",
            "https://www.artsy.net:443 \"GET /gene/study?page=82 HTTP/1.1\" 200 None\n",
            "https://www.artsy.net:443 \"GET /gene/study?page=83 HTTP/1.1\" 200 None\n",
            "https://www.artsy.net:443 \"GET /gene/study?page=84 HTTP/1.1\" 200 None\n",
            "https://www.artsy.net:443 \"GET /gene/study?page=85 HTTP/1.1\" 200 None\n",
            "https://www.artsy.net:443 \"GET /gene/study?page=86 HTTP/1.1\" 200 None\n",
            "https://www.artsy.net:443 \"GET /gene/study?page=87 HTTP/1.1\" 200 None\n",
            "https://www.artsy.net:443 \"GET /gene/study?page=88 HTTP/1.1\" 200 None\n",
            "https://www.artsy.net:443 \"GET /gene/study?page=89 HTTP/1.1\" 200 None\n",
            "https://www.artsy.net:443 \"GET /gene/study?page=90 HTTP/1.1\" 200 None\n",
            "https://www.artsy.net:443 \"GET /gene/study?page=91 HTTP/1.1\" 200 None\n",
            "https://www.artsy.net:443 \"GET /gene/study?page=92 HTTP/1.1\" 200 None\n",
            "https://www.artsy.net:443 \"GET /gene/study?page=93 HTTP/1.1\" 200 None\n",
            "https://www.artsy.net:443 \"GET /gene/study?page=94 HTTP/1.1\" 200 None\n",
            "https://www.artsy.net:443 \"GET /gene/study?page=95 HTTP/1.1\" 200 None\n",
            "https://www.artsy.net:443 \"GET /gene/study?page=96 HTTP/1.1\" 200 None\n",
            "https://www.artsy.net:443 \"GET /gene/study?page=97 HTTP/1.1\" 200 None\n",
            "https://www.artsy.net:443 \"GET /gene/study?page=98 HTTP/1.1\" 200 None\n",
            "https://www.artsy.net:443 \"GET /gene/study?page=99 HTTP/1.1\" 200 None\n",
            "https://www.artsy.net:443 \"GET /gene/study?page=100 HTTP/1.1\" 200 None\n"
          ]
        },
        {
          "output_type": "stream",
          "name": "stdout",
          "text": [
            "Parsing of gene 06157 https://www.artsy.net/gene/study has finished\n",
            "1189.454053401947 seconds have passed\n",
            "13:02:02.778081\n",
            "\n"
          ]
        },
        {
          "output_type": "stream",
          "name": "stderr",
          "text": [
            "Starting new HTTPS connection (1): www.artsy.net:443\n"
          ]
        },
        {
          "output_type": "stream",
          "name": "stdout",
          "text": [
            "Parsing of gene 06158 https://www.artsy.net/gene/suspended-slash-hanging has started\n"
          ]
        },
        {
          "output_type": "stream",
          "name": "stderr",
          "text": [
            "https://www.artsy.net:443 \"GET /gene/suspended-slash-hanging HTTP/1.1\" 200 None\n"
          ]
        },
        {
          "output_type": "stream",
          "name": "stdout",
          "text": [
            "15 pages for parsing\n"
          ]
        },
        {
          "output_type": "stream",
          "name": "stderr",
          "text": [
            "https://www.artsy.net:443 \"GET /gene/suspended-slash-hanging?page=2 HTTP/1.1\" 200 None\n",
            "https://www.artsy.net:443 \"GET /gene/suspended-slash-hanging?page=3 HTTP/1.1\" 200 None\n",
            "https://www.artsy.net:443 \"GET /gene/suspended-slash-hanging?page=4 HTTP/1.1\" 200 None\n",
            "https://www.artsy.net:443 \"GET /gene/suspended-slash-hanging?page=5 HTTP/1.1\" 200 None\n",
            "https://www.artsy.net:443 \"GET /gene/suspended-slash-hanging?page=6 HTTP/1.1\" 200 None\n",
            "https://www.artsy.net:443 \"GET /gene/suspended-slash-hanging?page=7 HTTP/1.1\" 200 None\n",
            "https://www.artsy.net:443 \"GET /gene/suspended-slash-hanging?page=8 HTTP/1.1\" 200 None\n",
            "https://www.artsy.net:443 \"GET /gene/suspended-slash-hanging?page=9 HTTP/1.1\" 200 None\n",
            "https://www.artsy.net:443 \"GET /gene/suspended-slash-hanging?page=10 HTTP/1.1\" 200 None\n",
            "https://www.artsy.net:443 \"GET /gene/suspended-slash-hanging?page=11 HTTP/1.1\" 200 None\n",
            "https://www.artsy.net:443 \"GET /gene/suspended-slash-hanging?page=12 HTTP/1.1\" 200 None\n",
            "https://www.artsy.net:443 \"GET /gene/suspended-slash-hanging?page=13 HTTP/1.1\" 200 None\n",
            "https://www.artsy.net:443 \"GET /gene/suspended-slash-hanging?page=14 HTTP/1.1\" 200 None\n",
            "https://www.artsy.net:443 \"GET /gene/suspended-slash-hanging?page=15 HTTP/1.1\" 200 None\n"
          ]
        },
        {
          "output_type": "stream",
          "name": "stdout",
          "text": [
            "Parsing of gene 06158 https://www.artsy.net/gene/suspended-slash-hanging has finished\n",
            "1220.555858373642 seconds have passed\n",
            "13:02:33.879550\n",
            "\n"
          ]
        },
        {
          "output_type": "stream",
          "name": "stderr",
          "text": [
            "Starting new HTTPS connection (1): www.artsy.net:443\n"
          ]
        },
        {
          "output_type": "stream",
          "name": "stdout",
          "text": [
            "Parsing of gene 06159 https://www.artsy.net/gene/tempera has started\n"
          ]
        },
        {
          "output_type": "stream",
          "name": "stderr",
          "text": [
            "https://www.artsy.net:443 \"GET /gene/tempera HTTP/1.1\" 200 None\n"
          ]
        },
        {
          "output_type": "stream",
          "name": "stdout",
          "text": [
            "100 pages for parsing\n"
          ]
        },
        {
          "output_type": "stream",
          "name": "stderr",
          "text": [
            "https://www.artsy.net:443 \"GET /gene/tempera?page=2 HTTP/1.1\" 200 None\n",
            "https://www.artsy.net:443 \"GET /gene/tempera?page=3 HTTP/1.1\" 200 None\n",
            "https://www.artsy.net:443 \"GET /gene/tempera?page=4 HTTP/1.1\" 200 None\n",
            "https://www.artsy.net:443 \"GET /gene/tempera?page=5 HTTP/1.1\" 200 None\n",
            "https://www.artsy.net:443 \"GET /gene/tempera?page=6 HTTP/1.1\" 200 None\n",
            "https://www.artsy.net:443 \"GET /gene/tempera?page=7 HTTP/1.1\" 200 None\n",
            "https://www.artsy.net:443 \"GET /gene/tempera?page=8 HTTP/1.1\" 200 None\n",
            "https://www.artsy.net:443 \"GET /gene/tempera?page=9 HTTP/1.1\" 200 None\n",
            "https://www.artsy.net:443 \"GET /gene/tempera?page=10 HTTP/1.1\" 200 None\n",
            "https://www.artsy.net:443 \"GET /gene/tempera?page=11 HTTP/1.1\" 200 None\n",
            "https://www.artsy.net:443 \"GET /gene/tempera?page=12 HTTP/1.1\" 200 None\n",
            "https://www.artsy.net:443 \"GET /gene/tempera?page=13 HTTP/1.1\" 200 None\n",
            "https://www.artsy.net:443 \"GET /gene/tempera?page=14 HTTP/1.1\" 200 None\n",
            "https://www.artsy.net:443 \"GET /gene/tempera?page=15 HTTP/1.1\" 200 None\n",
            "https://www.artsy.net:443 \"GET /gene/tempera?page=16 HTTP/1.1\" 200 None\n",
            "https://www.artsy.net:443 \"GET /gene/tempera?page=17 HTTP/1.1\" 200 None\n",
            "https://www.artsy.net:443 \"GET /gene/tempera?page=18 HTTP/1.1\" 200 None\n",
            "https://www.artsy.net:443 \"GET /gene/tempera?page=19 HTTP/1.1\" 200 None\n",
            "https://www.artsy.net:443 \"GET /gene/tempera?page=20 HTTP/1.1\" 200 None\n",
            "https://www.artsy.net:443 \"GET /gene/tempera?page=21 HTTP/1.1\" 200 None\n",
            "https://www.artsy.net:443 \"GET /gene/tempera?page=22 HTTP/1.1\" 200 None\n",
            "https://www.artsy.net:443 \"GET /gene/tempera?page=23 HTTP/1.1\" 200 None\n",
            "https://www.artsy.net:443 \"GET /gene/tempera?page=24 HTTP/1.1\" 200 None\n",
            "https://www.artsy.net:443 \"GET /gene/tempera?page=25 HTTP/1.1\" 200 None\n",
            "https://www.artsy.net:443 \"GET /gene/tempera?page=26 HTTP/1.1\" 200 None\n",
            "https://www.artsy.net:443 \"GET /gene/tempera?page=27 HTTP/1.1\" 200 None\n",
            "https://www.artsy.net:443 \"GET /gene/tempera?page=28 HTTP/1.1\" 200 None\n",
            "https://www.artsy.net:443 \"GET /gene/tempera?page=29 HTTP/1.1\" 200 None\n",
            "https://www.artsy.net:443 \"GET /gene/tempera?page=30 HTTP/1.1\" 200 None\n",
            "https://www.artsy.net:443 \"GET /gene/tempera?page=31 HTTP/1.1\" 200 None\n",
            "https://www.artsy.net:443 \"GET /gene/tempera?page=32 HTTP/1.1\" 200 None\n",
            "https://www.artsy.net:443 \"GET /gene/tempera?page=33 HTTP/1.1\" 200 None\n",
            "https://www.artsy.net:443 \"GET /gene/tempera?page=34 HTTP/1.1\" 200 None\n",
            "https://www.artsy.net:443 \"GET /gene/tempera?page=35 HTTP/1.1\" 200 None\n",
            "https://www.artsy.net:443 \"GET /gene/tempera?page=36 HTTP/1.1\" 200 None\n",
            "https://www.artsy.net:443 \"GET /gene/tempera?page=37 HTTP/1.1\" 200 None\n",
            "https://www.artsy.net:443 \"GET /gene/tempera?page=38 HTTP/1.1\" 200 None\n",
            "https://www.artsy.net:443 \"GET /gene/tempera?page=39 HTTP/1.1\" 200 None\n",
            "https://www.artsy.net:443 \"GET /gene/tempera?page=40 HTTP/1.1\" 200 None\n",
            "https://www.artsy.net:443 \"GET /gene/tempera?page=41 HTTP/1.1\" 200 None\n",
            "https://www.artsy.net:443 \"GET /gene/tempera?page=42 HTTP/1.1\" 200 None\n",
            "https://www.artsy.net:443 \"GET /gene/tempera?page=43 HTTP/1.1\" 200 None\n",
            "https://www.artsy.net:443 \"GET /gene/tempera?page=44 HTTP/1.1\" 200 None\n",
            "https://www.artsy.net:443 \"GET /gene/tempera?page=45 HTTP/1.1\" 200 None\n",
            "https://www.artsy.net:443 \"GET /gene/tempera?page=46 HTTP/1.1\" 200 None\n",
            "https://www.artsy.net:443 \"GET /gene/tempera?page=47 HTTP/1.1\" 200 None\n",
            "https://www.artsy.net:443 \"GET /gene/tempera?page=48 HTTP/1.1\" 200 None\n",
            "https://www.artsy.net:443 \"GET /gene/tempera?page=49 HTTP/1.1\" 200 None\n",
            "https://www.artsy.net:443 \"GET /gene/tempera?page=50 HTTP/1.1\" 200 None\n",
            "https://www.artsy.net:443 \"GET /gene/tempera?page=51 HTTP/1.1\" 200 None\n",
            "https://www.artsy.net:443 \"GET /gene/tempera?page=52 HTTP/1.1\" 200 None\n",
            "https://www.artsy.net:443 \"GET /gene/tempera?page=53 HTTP/1.1\" 200 None\n",
            "https://www.artsy.net:443 \"GET /gene/tempera?page=54 HTTP/1.1\" 200 None\n",
            "https://www.artsy.net:443 \"GET /gene/tempera?page=55 HTTP/1.1\" 200 None\n",
            "https://www.artsy.net:443 \"GET /gene/tempera?page=56 HTTP/1.1\" 200 None\n",
            "https://www.artsy.net:443 \"GET /gene/tempera?page=57 HTTP/1.1\" 200 None\n",
            "https://www.artsy.net:443 \"GET /gene/tempera?page=58 HTTP/1.1\" 200 None\n",
            "https://www.artsy.net:443 \"GET /gene/tempera?page=59 HTTP/1.1\" 200 None\n",
            "https://www.artsy.net:443 \"GET /gene/tempera?page=60 HTTP/1.1\" 200 None\n",
            "https://www.artsy.net:443 \"GET /gene/tempera?page=61 HTTP/1.1\" 200 None\n",
            "https://www.artsy.net:443 \"GET /gene/tempera?page=62 HTTP/1.1\" 200 None\n",
            "https://www.artsy.net:443 \"GET /gene/tempera?page=63 HTTP/1.1\" 200 None\n",
            "https://www.artsy.net:443 \"GET /gene/tempera?page=64 HTTP/1.1\" 200 None\n",
            "https://www.artsy.net:443 \"GET /gene/tempera?page=65 HTTP/1.1\" 200 None\n",
            "https://www.artsy.net:443 \"GET /gene/tempera?page=66 HTTP/1.1\" 200 None\n",
            "https://www.artsy.net:443 \"GET /gene/tempera?page=67 HTTP/1.1\" 200 None\n",
            "https://www.artsy.net:443 \"GET /gene/tempera?page=68 HTTP/1.1\" 200 None\n",
            "https://www.artsy.net:443 \"GET /gene/tempera?page=69 HTTP/1.1\" 200 None\n",
            "https://www.artsy.net:443 \"GET /gene/tempera?page=70 HTTP/1.1\" 200 None\n",
            "https://www.artsy.net:443 \"GET /gene/tempera?page=71 HTTP/1.1\" 200 None\n",
            "https://www.artsy.net:443 \"GET /gene/tempera?page=72 HTTP/1.1\" 200 None\n",
            "https://www.artsy.net:443 \"GET /gene/tempera?page=73 HTTP/1.1\" 200 None\n",
            "https://www.artsy.net:443 \"GET /gene/tempera?page=74 HTTP/1.1\" 200 None\n",
            "https://www.artsy.net:443 \"GET /gene/tempera?page=75 HTTP/1.1\" 200 None\n",
            "https://www.artsy.net:443 \"GET /gene/tempera?page=76 HTTP/1.1\" 200 None\n",
            "https://www.artsy.net:443 \"GET /gene/tempera?page=77 HTTP/1.1\" 200 None\n",
            "https://www.artsy.net:443 \"GET /gene/tempera?page=78 HTTP/1.1\" 200 None\n",
            "https://www.artsy.net:443 \"GET /gene/tempera?page=79 HTTP/1.1\" 200 None\n",
            "https://www.artsy.net:443 \"GET /gene/tempera?page=80 HTTP/1.1\" 200 None\n",
            "https://www.artsy.net:443 \"GET /gene/tempera?page=81 HTTP/1.1\" 200 None\n",
            "https://www.artsy.net:443 \"GET /gene/tempera?page=82 HTTP/1.1\" 200 None\n",
            "https://www.artsy.net:443 \"GET /gene/tempera?page=83 HTTP/1.1\" 200 None\n",
            "https://www.artsy.net:443 \"GET /gene/tempera?page=84 HTTP/1.1\" 200 None\n",
            "https://www.artsy.net:443 \"GET /gene/tempera?page=85 HTTP/1.1\" 200 None\n",
            "https://www.artsy.net:443 \"GET /gene/tempera?page=86 HTTP/1.1\" 200 None\n",
            "https://www.artsy.net:443 \"GET /gene/tempera?page=87 HTTP/1.1\" 200 None\n",
            "https://www.artsy.net:443 \"GET /gene/tempera?page=88 HTTP/1.1\" 200 None\n",
            "https://www.artsy.net:443 \"GET /gene/tempera?page=89 HTTP/1.1\" 200 None\n",
            "https://www.artsy.net:443 \"GET /gene/tempera?page=90 HTTP/1.1\" 200 None\n",
            "https://www.artsy.net:443 \"GET /gene/tempera?page=91 HTTP/1.1\" 200 None\n",
            "https://www.artsy.net:443 \"GET /gene/tempera?page=92 HTTP/1.1\" 200 None\n",
            "https://www.artsy.net:443 \"GET /gene/tempera?page=93 HTTP/1.1\" 200 None\n",
            "https://www.artsy.net:443 \"GET /gene/tempera?page=94 HTTP/1.1\" 200 None\n",
            "https://www.artsy.net:443 \"GET /gene/tempera?page=95 HTTP/1.1\" 200 None\n",
            "https://www.artsy.net:443 \"GET /gene/tempera?page=96 HTTP/1.1\" 200 None\n",
            "https://www.artsy.net:443 \"GET /gene/tempera?page=97 HTTP/1.1\" 200 None\n",
            "https://www.artsy.net:443 \"GET /gene/tempera?page=98 HTTP/1.1\" 200 None\n",
            "https://www.artsy.net:443 \"GET /gene/tempera?page=99 HTTP/1.1\" 200 None\n",
            "https://www.artsy.net:443 \"GET /gene/tempera?page=100 HTTP/1.1\" 200 None\n"
          ]
        },
        {
          "output_type": "stream",
          "name": "stdout",
          "text": [
            "Parsing of gene 06159 https://www.artsy.net/gene/tempera has finished\n",
            "1443.4725539684296 seconds have passed\n",
            "13:06:16.796556\n",
            "\n"
          ]
        },
        {
          "output_type": "stream",
          "name": "stderr",
          "text": [
            "Starting new HTTPS connection (1): www.artsy.net:443\n"
          ]
        },
        {
          "output_type": "stream",
          "name": "stdout",
          "text": [
            "Parsing of gene 06160 https://www.artsy.net/gene/time-lapse-photography-and-film has started\n"
          ]
        },
        {
          "output_type": "stream",
          "name": "stderr",
          "text": [
            "https://www.artsy.net:443 \"GET /gene/time-lapse-photography-and-film HTTP/1.1\" 200 None\n"
          ]
        },
        {
          "output_type": "stream",
          "name": "stdout",
          "text": [
            "14 pages for parsing\n"
          ]
        },
        {
          "output_type": "stream",
          "name": "stderr",
          "text": [
            "https://www.artsy.net:443 \"GET /gene/time-lapse-photography-and-film?page=2 HTTP/1.1\" 200 None\n",
            "https://www.artsy.net:443 \"GET /gene/time-lapse-photography-and-film?page=3 HTTP/1.1\" 200 None\n",
            "https://www.artsy.net:443 \"GET /gene/time-lapse-photography-and-film?page=4 HTTP/1.1\" 200 None\n",
            "https://www.artsy.net:443 \"GET /gene/time-lapse-photography-and-film?page=5 HTTP/1.1\" 200 None\n",
            "https://www.artsy.net:443 \"GET /gene/time-lapse-photography-and-film?page=6 HTTP/1.1\" 200 None\n",
            "https://www.artsy.net:443 \"GET /gene/time-lapse-photography-and-film?page=7 HTTP/1.1\" 200 None\n",
            "https://www.artsy.net:443 \"GET /gene/time-lapse-photography-and-film?page=8 HTTP/1.1\" 200 None\n",
            "https://www.artsy.net:443 \"GET /gene/time-lapse-photography-and-film?page=9 HTTP/1.1\" 200 None\n",
            "https://www.artsy.net:443 \"GET /gene/time-lapse-photography-and-film?page=10 HTTP/1.1\" 200 None\n",
            "https://www.artsy.net:443 \"GET /gene/time-lapse-photography-and-film?page=11 HTTP/1.1\" 200 None\n",
            "https://www.artsy.net:443 \"GET /gene/time-lapse-photography-and-film?page=12 HTTP/1.1\" 200 None\n",
            "https://www.artsy.net:443 \"GET /gene/time-lapse-photography-and-film?page=13 HTTP/1.1\" 200 None\n",
            "https://www.artsy.net:443 \"GET /gene/time-lapse-photography-and-film?page=14 HTTP/1.1\" 200 None\n"
          ]
        },
        {
          "output_type": "stream",
          "name": "stdout",
          "text": [
            "Parsing of gene 06160 https://www.artsy.net/gene/time-lapse-photography-and-film has finished\n",
            "1481.912610054016 seconds have passed\n",
            "13:06:55.236575\n",
            "\n"
          ]
        },
        {
          "output_type": "stream",
          "name": "stderr",
          "text": [
            "Starting new HTTPS connection (1): www.artsy.net:443\n"
          ]
        },
        {
          "output_type": "stream",
          "name": "stdout",
          "text": [
            "Parsing of gene 06161 https://www.artsy.net/gene/tondo has started\n"
          ]
        },
        {
          "output_type": "stream",
          "name": "stderr",
          "text": [
            "https://www.artsy.net:443 \"GET /gene/tondo HTTP/1.1\" 200 None\n"
          ]
        },
        {
          "output_type": "stream",
          "name": "stdout",
          "text": [
            "10 pages for parsing\n"
          ]
        },
        {
          "output_type": "stream",
          "name": "stderr",
          "text": [
            "https://www.artsy.net:443 \"GET /gene/tondo?page=2 HTTP/1.1\" 200 None\n",
            "https://www.artsy.net:443 \"GET /gene/tondo?page=3 HTTP/1.1\" 200 None\n",
            "https://www.artsy.net:443 \"GET /gene/tondo?page=4 HTTP/1.1\" 200 None\n",
            "https://www.artsy.net:443 \"GET /gene/tondo?page=5 HTTP/1.1\" 200 None\n",
            "https://www.artsy.net:443 \"GET /gene/tondo?page=6 HTTP/1.1\" 200 None\n",
            "https://www.artsy.net:443 \"GET /gene/tondo?page=7 HTTP/1.1\" 200 None\n",
            "https://www.artsy.net:443 \"GET /gene/tondo?page=8 HTTP/1.1\" 200 None\n",
            "https://www.artsy.net:443 \"GET /gene/tondo?page=9 HTTP/1.1\" 200 None\n",
            "https://www.artsy.net:443 \"GET /gene/tondo?page=10 HTTP/1.1\" 200 None\n"
          ]
        },
        {
          "output_type": "stream",
          "name": "stdout",
          "text": [
            "Parsing of gene 06161 https://www.artsy.net/gene/tondo has finished\n",
            "1505.1503546237946 seconds have passed\n",
            "13:07:18.474346\n",
            "\n"
          ]
        },
        {
          "output_type": "stream",
          "name": "stderr",
          "text": [
            "Starting new HTTPS connection (1): www.artsy.net:443\n"
          ]
        },
        {
          "output_type": "stream",
          "name": "stdout",
          "text": [
            "Parsing of gene 06162 https://www.artsy.net/gene/topographic-photography has started\n"
          ]
        },
        {
          "output_type": "stream",
          "name": "stderr",
          "text": [
            "https://www.artsy.net:443 \"GET /gene/topographic-photography HTTP/1.1\" 200 None\n"
          ]
        },
        {
          "output_type": "stream",
          "name": "stdout",
          "text": [
            "100 pages for parsing\n"
          ]
        },
        {
          "output_type": "stream",
          "name": "stderr",
          "text": [
            "https://www.artsy.net:443 \"GET /gene/topographic-photography?page=2 HTTP/1.1\" 200 None\n",
            "https://www.artsy.net:443 \"GET /gene/topographic-photography?page=3 HTTP/1.1\" 200 None\n",
            "https://www.artsy.net:443 \"GET /gene/topographic-photography?page=4 HTTP/1.1\" 200 None\n",
            "https://www.artsy.net:443 \"GET /gene/topographic-photography?page=5 HTTP/1.1\" 200 None\n",
            "https://www.artsy.net:443 \"GET /gene/topographic-photography?page=6 HTTP/1.1\" 200 None\n",
            "https://www.artsy.net:443 \"GET /gene/topographic-photography?page=7 HTTP/1.1\" 200 None\n",
            "https://www.artsy.net:443 \"GET /gene/topographic-photography?page=8 HTTP/1.1\" 200 None\n",
            "https://www.artsy.net:443 \"GET /gene/topographic-photography?page=9 HTTP/1.1\" 200 None\n",
            "https://www.artsy.net:443 \"GET /gene/topographic-photography?page=10 HTTP/1.1\" 200 None\n",
            "https://www.artsy.net:443 \"GET /gene/topographic-photography?page=11 HTTP/1.1\" 200 None\n",
            "https://www.artsy.net:443 \"GET /gene/topographic-photography?page=12 HTTP/1.1\" 200 None\n",
            "https://www.artsy.net:443 \"GET /gene/topographic-photography?page=13 HTTP/1.1\" 200 None\n",
            "https://www.artsy.net:443 \"GET /gene/topographic-photography?page=14 HTTP/1.1\" 200 None\n",
            "https://www.artsy.net:443 \"GET /gene/topographic-photography?page=15 HTTP/1.1\" 200 None\n",
            "https://www.artsy.net:443 \"GET /gene/topographic-photography?page=16 HTTP/1.1\" 200 None\n",
            "https://www.artsy.net:443 \"GET /gene/topographic-photography?page=17 HTTP/1.1\" 200 None\n",
            "https://www.artsy.net:443 \"GET /gene/topographic-photography?page=18 HTTP/1.1\" 200 None\n",
            "https://www.artsy.net:443 \"GET /gene/topographic-photography?page=19 HTTP/1.1\" 200 None\n",
            "https://www.artsy.net:443 \"GET /gene/topographic-photography?page=20 HTTP/1.1\" 200 None\n",
            "https://www.artsy.net:443 \"GET /gene/topographic-photography?page=21 HTTP/1.1\" 200 None\n",
            "https://www.artsy.net:443 \"GET /gene/topographic-photography?page=22 HTTP/1.1\" 200 None\n",
            "https://www.artsy.net:443 \"GET /gene/topographic-photography?page=23 HTTP/1.1\" 200 None\n",
            "https://www.artsy.net:443 \"GET /gene/topographic-photography?page=24 HTTP/1.1\" 200 None\n",
            "https://www.artsy.net:443 \"GET /gene/topographic-photography?page=25 HTTP/1.1\" 200 None\n",
            "https://www.artsy.net:443 \"GET /gene/topographic-photography?page=26 HTTP/1.1\" 200 None\n",
            "https://www.artsy.net:443 \"GET /gene/topographic-photography?page=27 HTTP/1.1\" 200 None\n",
            "https://www.artsy.net:443 \"GET /gene/topographic-photography?page=28 HTTP/1.1\" 200 None\n",
            "https://www.artsy.net:443 \"GET /gene/topographic-photography?page=29 HTTP/1.1\" 200 None\n",
            "https://www.artsy.net:443 \"GET /gene/topographic-photography?page=30 HTTP/1.1\" 200 None\n",
            "https://www.artsy.net:443 \"GET /gene/topographic-photography?page=31 HTTP/1.1\" 200 None\n",
            "https://www.artsy.net:443 \"GET /gene/topographic-photography?page=32 HTTP/1.1\" 200 None\n",
            "https://www.artsy.net:443 \"GET /gene/topographic-photography?page=33 HTTP/1.1\" 200 None\n",
            "https://www.artsy.net:443 \"GET /gene/topographic-photography?page=34 HTTP/1.1\" 200 None\n",
            "https://www.artsy.net:443 \"GET /gene/topographic-photography?page=35 HTTP/1.1\" 200 None\n",
            "https://www.artsy.net:443 \"GET /gene/topographic-photography?page=36 HTTP/1.1\" 200 None\n",
            "Starting new HTTPS connection (1): www.artsy.net:443\n",
            "https://www.artsy.net:443 \"GET /gene/topographic-photography?page=36 HTTP/1.1\" 200 None\n",
            "Resetting dropped connection: www.artsy.net\n",
            "https://www.artsy.net:443 \"GET /gene/topographic-photography?page=37 HTTP/1.1\" 200 None\n",
            "https://www.artsy.net:443 \"GET /gene/topographic-photography?page=38 HTTP/1.1\" 200 None\n",
            "https://www.artsy.net:443 \"GET /gene/topographic-photography?page=39 HTTP/1.1\" 200 None\n",
            "https://www.artsy.net:443 \"GET /gene/topographic-photography?page=40 HTTP/1.1\" 200 None\n",
            "https://www.artsy.net:443 \"GET /gene/topographic-photography?page=41 HTTP/1.1\" 200 None\n",
            "https://www.artsy.net:443 \"GET /gene/topographic-photography?page=42 HTTP/1.1\" 200 None\n",
            "https://www.artsy.net:443 \"GET /gene/topographic-photography?page=43 HTTP/1.1\" 200 None\n",
            "https://www.artsy.net:443 \"GET /gene/topographic-photography?page=44 HTTP/1.1\" 200 None\n",
            "https://www.artsy.net:443 \"GET /gene/topographic-photography?page=45 HTTP/1.1\" 200 None\n",
            "https://www.artsy.net:443 \"GET /gene/topographic-photography?page=46 HTTP/1.1\" 200 None\n",
            "https://www.artsy.net:443 \"GET /gene/topographic-photography?page=47 HTTP/1.1\" 200 None\n",
            "https://www.artsy.net:443 \"GET /gene/topographic-photography?page=48 HTTP/1.1\" 200 None\n",
            "https://www.artsy.net:443 \"GET /gene/topographic-photography?page=49 HTTP/1.1\" 200 None\n",
            "https://www.artsy.net:443 \"GET /gene/topographic-photography?page=50 HTTP/1.1\" 200 None\n",
            "https://www.artsy.net:443 \"GET /gene/topographic-photography?page=51 HTTP/1.1\" 200 None\n",
            "https://www.artsy.net:443 \"GET /gene/topographic-photography?page=52 HTTP/1.1\" 200 None\n",
            "https://www.artsy.net:443 \"GET /gene/topographic-photography?page=53 HTTP/1.1\" 200 None\n",
            "https://www.artsy.net:443 \"GET /gene/topographic-photography?page=54 HTTP/1.1\" 200 None\n",
            "https://www.artsy.net:443 \"GET /gene/topographic-photography?page=55 HTTP/1.1\" 200 None\n",
            "https://www.artsy.net:443 \"GET /gene/topographic-photography?page=56 HTTP/1.1\" 200 None\n",
            "https://www.artsy.net:443 \"GET /gene/topographic-photography?page=57 HTTP/1.1\" 200 None\n",
            "https://www.artsy.net:443 \"GET /gene/topographic-photography?page=58 HTTP/1.1\" 200 None\n",
            "https://www.artsy.net:443 \"GET /gene/topographic-photography?page=59 HTTP/1.1\" 200 None\n",
            "https://www.artsy.net:443 \"GET /gene/topographic-photography?page=60 HTTP/1.1\" 200 None\n",
            "https://www.artsy.net:443 \"GET /gene/topographic-photography?page=61 HTTP/1.1\" 200 None\n",
            "https://www.artsy.net:443 \"GET /gene/topographic-photography?page=62 HTTP/1.1\" 200 None\n",
            "https://www.artsy.net:443 \"GET /gene/topographic-photography?page=63 HTTP/1.1\" 200 None\n",
            "https://www.artsy.net:443 \"GET /gene/topographic-photography?page=64 HTTP/1.1\" 200 None\n",
            "https://www.artsy.net:443 \"GET /gene/topographic-photography?page=65 HTTP/1.1\" 200 None\n",
            "https://www.artsy.net:443 \"GET /gene/topographic-photography?page=66 HTTP/1.1\" 200 None\n",
            "https://www.artsy.net:443 \"GET /gene/topographic-photography?page=67 HTTP/1.1\" 200 None\n",
            "https://www.artsy.net:443 \"GET /gene/topographic-photography?page=68 HTTP/1.1\" 200 None\n",
            "https://www.artsy.net:443 \"GET /gene/topographic-photography?page=69 HTTP/1.1\" 200 None\n",
            "https://www.artsy.net:443 \"GET /gene/topographic-photography?page=70 HTTP/1.1\" 200 None\n",
            "https://www.artsy.net:443 \"GET /gene/topographic-photography?page=71 HTTP/1.1\" 200 None\n",
            "https://www.artsy.net:443 \"GET /gene/topographic-photography?page=72 HTTP/1.1\" 200 None\n",
            "https://www.artsy.net:443 \"GET /gene/topographic-photography?page=73 HTTP/1.1\" 200 None\n",
            "https://www.artsy.net:443 \"GET /gene/topographic-photography?page=74 HTTP/1.1\" 200 None\n",
            "https://www.artsy.net:443 \"GET /gene/topographic-photography?page=75 HTTP/1.1\" 200 None\n",
            "https://www.artsy.net:443 \"GET /gene/topographic-photography?page=76 HTTP/1.1\" 200 None\n",
            "https://www.artsy.net:443 \"GET /gene/topographic-photography?page=77 HTTP/1.1\" 200 None\n",
            "https://www.artsy.net:443 \"GET /gene/topographic-photography?page=78 HTTP/1.1\" 200 None\n",
            "https://www.artsy.net:443 \"GET /gene/topographic-photography?page=79 HTTP/1.1\" 200 None\n",
            "https://www.artsy.net:443 \"GET /gene/topographic-photography?page=80 HTTP/1.1\" 200 None\n",
            "https://www.artsy.net:443 \"GET /gene/topographic-photography?page=81 HTTP/1.1\" 200 None\n",
            "https://www.artsy.net:443 \"GET /gene/topographic-photography?page=82 HTTP/1.1\" 200 None\n",
            "https://www.artsy.net:443 \"GET /gene/topographic-photography?page=83 HTTP/1.1\" 200 None\n",
            "https://www.artsy.net:443 \"GET /gene/topographic-photography?page=84 HTTP/1.1\" 200 None\n",
            "https://www.artsy.net:443 \"GET /gene/topographic-photography?page=85 HTTP/1.1\" 200 None\n",
            "https://www.artsy.net:443 \"GET /gene/topographic-photography?page=86 HTTP/1.1\" 200 None\n",
            "https://www.artsy.net:443 \"GET /gene/topographic-photography?page=87 HTTP/1.1\" 200 None\n",
            "https://www.artsy.net:443 \"GET /gene/topographic-photography?page=88 HTTP/1.1\" 200 None\n",
            "https://www.artsy.net:443 \"GET /gene/topographic-photography?page=89 HTTP/1.1\" 200 None\n",
            "https://www.artsy.net:443 \"GET /gene/topographic-photography?page=90 HTTP/1.1\" 200 None\n",
            "https://www.artsy.net:443 \"GET /gene/topographic-photography?page=91 HTTP/1.1\" 200 None\n",
            "https://www.artsy.net:443 \"GET /gene/topographic-photography?page=92 HTTP/1.1\" 200 None\n",
            "https://www.artsy.net:443 \"GET /gene/topographic-photography?page=93 HTTP/1.1\" 200 None\n",
            "https://www.artsy.net:443 \"GET /gene/topographic-photography?page=94 HTTP/1.1\" 200 None\n",
            "https://www.artsy.net:443 \"GET /gene/topographic-photography?page=95 HTTP/1.1\" 200 None\n",
            "https://www.artsy.net:443 \"GET /gene/topographic-photography?page=96 HTTP/1.1\" 200 None\n",
            "https://www.artsy.net:443 \"GET /gene/topographic-photography?page=97 HTTP/1.1\" 200 None\n",
            "https://www.artsy.net:443 \"GET /gene/topographic-photography?page=98 HTTP/1.1\" 200 None\n",
            "https://www.artsy.net:443 \"GET /gene/topographic-photography?page=99 HTTP/1.1\" 200 None\n",
            "https://www.artsy.net:443 \"GET /gene/topographic-photography?page=100 HTTP/1.1\" 200 None\n"
          ]
        },
        {
          "output_type": "stream",
          "name": "stdout",
          "text": [
            "Parsing of gene 06162 https://www.artsy.net/gene/topographic-photography has finished\n",
            "1738.5851016044617 seconds have passed\n",
            "13:11:11.908780\n",
            "\n"
          ]
        },
        {
          "output_type": "stream",
          "name": "stderr",
          "text": [
            "Starting new HTTPS connection (1): www.artsy.net:443\n"
          ]
        },
        {
          "output_type": "stream",
          "name": "stdout",
          "text": [
            "Parsing of gene 06163 https://www.artsy.net/gene/traditional-photographic-techniques has started\n"
          ]
        },
        {
          "output_type": "stream",
          "name": "stderr",
          "text": [
            "https://www.artsy.net:443 \"GET /gene/traditional-photographic-techniques HTTP/1.1\" 200 None\n"
          ]
        },
        {
          "output_type": "stream",
          "name": "stdout",
          "text": [
            "41 pages for parsing\n"
          ]
        },
        {
          "output_type": "stream",
          "name": "stderr",
          "text": [
            "https://www.artsy.net:443 \"GET /gene/traditional-photographic-techniques?page=2 HTTP/1.1\" 200 None\n",
            "https://www.artsy.net:443 \"GET /gene/traditional-photographic-techniques?page=3 HTTP/1.1\" 200 None\n",
            "https://www.artsy.net:443 \"GET /gene/traditional-photographic-techniques?page=4 HTTP/1.1\" 200 None\n",
            "https://www.artsy.net:443 \"GET /gene/traditional-photographic-techniques?page=5 HTTP/1.1\" 200 None\n",
            "https://www.artsy.net:443 \"GET /gene/traditional-photographic-techniques?page=6 HTTP/1.1\" 200 None\n",
            "https://www.artsy.net:443 \"GET /gene/traditional-photographic-techniques?page=7 HTTP/1.1\" 200 None\n",
            "https://www.artsy.net:443 \"GET /gene/traditional-photographic-techniques?page=8 HTTP/1.1\" 200 None\n",
            "https://www.artsy.net:443 \"GET /gene/traditional-photographic-techniques?page=9 HTTP/1.1\" 200 None\n",
            "https://www.artsy.net:443 \"GET /gene/traditional-photographic-techniques?page=10 HTTP/1.1\" 200 None\n",
            "https://www.artsy.net:443 \"GET /gene/traditional-photographic-techniques?page=11 HTTP/1.1\" 200 None\n",
            "https://www.artsy.net:443 \"GET /gene/traditional-photographic-techniques?page=12 HTTP/1.1\" 200 None\n",
            "https://www.artsy.net:443 \"GET /gene/traditional-photographic-techniques?page=13 HTTP/1.1\" 200 None\n",
            "https://www.artsy.net:443 \"GET /gene/traditional-photographic-techniques?page=14 HTTP/1.1\" 200 None\n",
            "https://www.artsy.net:443 \"GET /gene/traditional-photographic-techniques?page=15 HTTP/1.1\" 200 None\n",
            "https://www.artsy.net:443 \"GET /gene/traditional-photographic-techniques?page=16 HTTP/1.1\" 200 None\n",
            "https://www.artsy.net:443 \"GET /gene/traditional-photographic-techniques?page=17 HTTP/1.1\" 200 None\n",
            "https://www.artsy.net:443 \"GET /gene/traditional-photographic-techniques?page=18 HTTP/1.1\" 200 None\n",
            "https://www.artsy.net:443 \"GET /gene/traditional-photographic-techniques?page=19 HTTP/1.1\" 200 None\n",
            "https://www.artsy.net:443 \"GET /gene/traditional-photographic-techniques?page=20 HTTP/1.1\" 200 None\n",
            "https://www.artsy.net:443 \"GET /gene/traditional-photographic-techniques?page=21 HTTP/1.1\" 200 None\n",
            "https://www.artsy.net:443 \"GET /gene/traditional-photographic-techniques?page=22 HTTP/1.1\" 200 None\n",
            "https://www.artsy.net:443 \"GET /gene/traditional-photographic-techniques?page=23 HTTP/1.1\" 200 None\n",
            "https://www.artsy.net:443 \"GET /gene/traditional-photographic-techniques?page=24 HTTP/1.1\" 200 None\n",
            "https://www.artsy.net:443 \"GET /gene/traditional-photographic-techniques?page=25 HTTP/1.1\" 200 None\n",
            "https://www.artsy.net:443 \"GET /gene/traditional-photographic-techniques?page=26 HTTP/1.1\" 200 None\n",
            "https://www.artsy.net:443 \"GET /gene/traditional-photographic-techniques?page=27 HTTP/1.1\" 200 None\n",
            "https://www.artsy.net:443 \"GET /gene/traditional-photographic-techniques?page=28 HTTP/1.1\" 200 None\n",
            "https://www.artsy.net:443 \"GET /gene/traditional-photographic-techniques?page=29 HTTP/1.1\" 200 None\n",
            "https://www.artsy.net:443 \"GET /gene/traditional-photographic-techniques?page=30 HTTP/1.1\" 200 None\n",
            "https://www.artsy.net:443 \"GET /gene/traditional-photographic-techniques?page=31 HTTP/1.1\" 200 None\n",
            "https://www.artsy.net:443 \"GET /gene/traditional-photographic-techniques?page=32 HTTP/1.1\" 200 None\n",
            "https://www.artsy.net:443 \"GET /gene/traditional-photographic-techniques?page=33 HTTP/1.1\" 200 None\n",
            "https://www.artsy.net:443 \"GET /gene/traditional-photographic-techniques?page=34 HTTP/1.1\" 200 None\n",
            "https://www.artsy.net:443 \"GET /gene/traditional-photographic-techniques?page=35 HTTP/1.1\" 200 None\n",
            "https://www.artsy.net:443 \"GET /gene/traditional-photographic-techniques?page=36 HTTP/1.1\" 200 None\n",
            "https://www.artsy.net:443 \"GET /gene/traditional-photographic-techniques?page=37 HTTP/1.1\" 200 None\n",
            "https://www.artsy.net:443 \"GET /gene/traditional-photographic-techniques?page=38 HTTP/1.1\" 200 None\n",
            "https://www.artsy.net:443 \"GET /gene/traditional-photographic-techniques?page=39 HTTP/1.1\" 200 None\n",
            "https://www.artsy.net:443 \"GET /gene/traditional-photographic-techniques?page=40 HTTP/1.1\" 200 None\n",
            "https://www.artsy.net:443 \"GET /gene/traditional-photographic-techniques?page=41 HTTP/1.1\" 200 None\n"
          ]
        },
        {
          "output_type": "stream",
          "name": "stdout",
          "text": [
            "Parsing of gene 06163 https://www.artsy.net/gene/traditional-photographic-techniques has finished\n",
            "1828.803575515747 seconds have passed\n",
            "13:12:42.127253\n",
            "\n"
          ]
        },
        {
          "output_type": "stream",
          "name": "stderr",
          "text": [
            "Starting new HTTPS connection (1): www.artsy.net:443\n"
          ]
        },
        {
          "output_type": "stream",
          "name": "stdout",
          "text": [
            "Parsing of gene 06164 https://www.artsy.net/gene/traditional-scroll-painting has started\n"
          ]
        },
        {
          "output_type": "stream",
          "name": "stderr",
          "text": [
            "https://www.artsy.net:443 \"GET /gene/traditional-scroll-painting HTTP/1.1\" 200 None\n"
          ]
        },
        {
          "output_type": "stream",
          "name": "stdout",
          "text": [
            "3 pages for parsing\n"
          ]
        },
        {
          "output_type": "stream",
          "name": "stderr",
          "text": [
            "https://www.artsy.net:443 \"GET /gene/traditional-scroll-painting?page=2 HTTP/1.1\" 200 None\n",
            "https://www.artsy.net:443 \"GET /gene/traditional-scroll-painting?page=3 HTTP/1.1\" 200 None\n"
          ]
        },
        {
          "output_type": "stream",
          "name": "stdout",
          "text": [
            "Parsing of gene 06164 https://www.artsy.net/gene/traditional-scroll-painting has finished\n",
            "1835.8468935489655 seconds have passed\n",
            "13:12:49.170876\n",
            "\n"
          ]
        },
        {
          "output_type": "stream",
          "name": "stderr",
          "text": [
            "Starting new HTTPS connection (1): www.artsy.net:443\n"
          ]
        },
        {
          "output_type": "stream",
          "name": "stdout",
          "text": [
            "Parsing of gene 06165 https://www.artsy.net/gene/transfer has started\n"
          ]
        },
        {
          "output_type": "stream",
          "name": "stderr",
          "text": [
            "https://www.artsy.net:443 \"GET /gene/transfer HTTP/1.1\" 200 None\n"
          ]
        },
        {
          "output_type": "stream",
          "name": "stdout",
          "text": [
            "7 pages for parsing\n"
          ]
        },
        {
          "output_type": "stream",
          "name": "stderr",
          "text": [
            "https://www.artsy.net:443 \"GET /gene/transfer?page=2 HTTP/1.1\" 200 None\n",
            "https://www.artsy.net:443 \"GET /gene/transfer?page=3 HTTP/1.1\" 200 None\n",
            "https://www.artsy.net:443 \"GET /gene/transfer?page=4 HTTP/1.1\" 200 None\n",
            "https://www.artsy.net:443 \"GET /gene/transfer?page=5 HTTP/1.1\" 200 None\n",
            "https://www.artsy.net:443 \"GET /gene/transfer?page=6 HTTP/1.1\" 200 None\n",
            "https://www.artsy.net:443 \"GET /gene/transfer?page=7 HTTP/1.1\" 200 None\n"
          ]
        },
        {
          "output_type": "stream",
          "name": "stdout",
          "text": [
            "Parsing of gene 06165 https://www.artsy.net/gene/transfer has finished\n",
            "1849.1209788322449 seconds have passed\n",
            "13:13:02.445709\n",
            "\n"
          ]
        },
        {
          "output_type": "stream",
          "name": "stderr",
          "text": [
            "Starting new HTTPS connection (1): www.artsy.net:443\n"
          ]
        },
        {
          "output_type": "stream",
          "name": "stdout",
          "text": [
            "Parsing of gene 06166 https://www.artsy.net/gene/trompe-loeil has started\n"
          ]
        },
        {
          "output_type": "stream",
          "name": "stderr",
          "text": [
            "https://www.artsy.net:443 \"GET /gene/trompe-loeil HTTP/1.1\" 200 None\n"
          ]
        },
        {
          "output_type": "stream",
          "name": "stdout",
          "text": [
            "19 pages for parsing\n"
          ]
        },
        {
          "output_type": "stream",
          "name": "stderr",
          "text": [
            "https://www.artsy.net:443 \"GET /gene/trompe-loeil?page=2 HTTP/1.1\" 200 None\n",
            "https://www.artsy.net:443 \"GET /gene/trompe-loeil?page=3 HTTP/1.1\" 200 None\n",
            "https://www.artsy.net:443 \"GET /gene/trompe-loeil?page=4 HTTP/1.1\" 200 None\n",
            "https://www.artsy.net:443 \"GET /gene/trompe-loeil?page=5 HTTP/1.1\" 200 None\n",
            "https://www.artsy.net:443 \"GET /gene/trompe-loeil?page=6 HTTP/1.1\" 200 None\n",
            "https://www.artsy.net:443 \"GET /gene/trompe-loeil?page=7 HTTP/1.1\" 200 None\n",
            "https://www.artsy.net:443 \"GET /gene/trompe-loeil?page=8 HTTP/1.1\" 200 None\n",
            "https://www.artsy.net:443 \"GET /gene/trompe-loeil?page=9 HTTP/1.1\" 200 None\n",
            "https://www.artsy.net:443 \"GET /gene/trompe-loeil?page=10 HTTP/1.1\" 200 None\n",
            "https://www.artsy.net:443 \"GET /gene/trompe-loeil?page=11 HTTP/1.1\" 200 None\n",
            "https://www.artsy.net:443 \"GET /gene/trompe-loeil?page=12 HTTP/1.1\" 200 None\n",
            "https://www.artsy.net:443 \"GET /gene/trompe-loeil?page=13 HTTP/1.1\" 200 None\n",
            "https://www.artsy.net:443 \"GET /gene/trompe-loeil?page=14 HTTP/1.1\" 200 None\n",
            "https://www.artsy.net:443 \"GET /gene/trompe-loeil?page=15 HTTP/1.1\" 200 None\n",
            "https://www.artsy.net:443 \"GET /gene/trompe-loeil?page=16 HTTP/1.1\" 200 None\n",
            "https://www.artsy.net:443 \"GET /gene/trompe-loeil?page=17 HTTP/1.1\" 200 None\n",
            "https://www.artsy.net:443 \"GET /gene/trompe-loeil?page=18 HTTP/1.1\" 200 None\n",
            "https://www.artsy.net:443 \"GET /gene/trompe-loeil?page=19 HTTP/1.1\" 200 None\n"
          ]
        },
        {
          "output_type": "stream",
          "name": "stdout",
          "text": [
            "Parsing of gene 06166 https://www.artsy.net/gene/trompe-loeil has finished\n",
            "1888.2874670028687 seconds have passed\n",
            "13:13:41.611568\n",
            "\n"
          ]
        },
        {
          "output_type": "stream",
          "name": "stderr",
          "text": [
            "Starting new HTTPS connection (1): www.artsy.net:443\n"
          ]
        },
        {
          "output_type": "stream",
          "name": "stdout",
          "text": [
            "Parsing of gene 06167 https://www.artsy.net/gene/typography has started\n"
          ]
        },
        {
          "output_type": "stream",
          "name": "stderr",
          "text": [
            "https://www.artsy.net:443 \"GET /gene/typography HTTP/1.1\" 200 None\n"
          ]
        },
        {
          "output_type": "stream",
          "name": "stdout",
          "text": [
            "29 pages for parsing\n"
          ]
        },
        {
          "output_type": "stream",
          "name": "stderr",
          "text": [
            "https://www.artsy.net:443 \"GET /gene/typography?page=2 HTTP/1.1\" 200 None\n",
            "https://www.artsy.net:443 \"GET /gene/typography?page=3 HTTP/1.1\" 200 None\n",
            "https://www.artsy.net:443 \"GET /gene/typography?page=4 HTTP/1.1\" 200 None\n",
            "https://www.artsy.net:443 \"GET /gene/typography?page=5 HTTP/1.1\" 200 None\n",
            "https://www.artsy.net:443 \"GET /gene/typography?page=6 HTTP/1.1\" 200 None\n",
            "https://www.artsy.net:443 \"GET /gene/typography?page=7 HTTP/1.1\" 200 None\n",
            "https://www.artsy.net:443 \"GET /gene/typography?page=8 HTTP/1.1\" 200 None\n",
            "https://www.artsy.net:443 \"GET /gene/typography?page=9 HTTP/1.1\" 200 None\n",
            "https://www.artsy.net:443 \"GET /gene/typography?page=10 HTTP/1.1\" 200 None\n",
            "https://www.artsy.net:443 \"GET /gene/typography?page=11 HTTP/1.1\" 200 None\n",
            "https://www.artsy.net:443 \"GET /gene/typography?page=12 HTTP/1.1\" 200 None\n",
            "https://www.artsy.net:443 \"GET /gene/typography?page=13 HTTP/1.1\" 200 None\n",
            "https://www.artsy.net:443 \"GET /gene/typography?page=14 HTTP/1.1\" 200 None\n",
            "https://www.artsy.net:443 \"GET /gene/typography?page=15 HTTP/1.1\" 200 None\n",
            "https://www.artsy.net:443 \"GET /gene/typography?page=16 HTTP/1.1\" 200 None\n",
            "https://www.artsy.net:443 \"GET /gene/typography?page=17 HTTP/1.1\" 200 None\n",
            "https://www.artsy.net:443 \"GET /gene/typography?page=18 HTTP/1.1\" 200 None\n",
            "https://www.artsy.net:443 \"GET /gene/typography?page=19 HTTP/1.1\" 200 None\n",
            "https://www.artsy.net:443 \"GET /gene/typography?page=20 HTTP/1.1\" 200 None\n",
            "https://www.artsy.net:443 \"GET /gene/typography?page=21 HTTP/1.1\" 200 None\n",
            "https://www.artsy.net:443 \"GET /gene/typography?page=22 HTTP/1.1\" 200 None\n",
            "https://www.artsy.net:443 \"GET /gene/typography?page=23 HTTP/1.1\" 200 None\n",
            "https://www.artsy.net:443 \"GET /gene/typography?page=24 HTTP/1.1\" 200 None\n",
            "https://www.artsy.net:443 \"GET /gene/typography?page=25 HTTP/1.1\" 200 None\n",
            "https://www.artsy.net:443 \"GET /gene/typography?page=26 HTTP/1.1\" 200 None\n",
            "https://www.artsy.net:443 \"GET /gene/typography?page=27 HTTP/1.1\" 200 None\n",
            "https://www.artsy.net:443 \"GET /gene/typography?page=28 HTTP/1.1\" 200 None\n",
            "https://www.artsy.net:443 \"GET /gene/typography?page=29 HTTP/1.1\" 200 None\n"
          ]
        },
        {
          "output_type": "stream",
          "name": "stdout",
          "text": [
            "Parsing of gene 06167 https://www.artsy.net/gene/typography has finished\n",
            "1951.8204081058502 seconds have passed\n",
            "13:14:45.144095\n",
            "\n"
          ]
        },
        {
          "output_type": "stream",
          "name": "stderr",
          "text": [
            "Starting new HTTPS connection (1): www.artsy.net:443\n"
          ]
        },
        {
          "output_type": "stream",
          "name": "stdout",
          "text": [
            "Parsing of gene 06168 https://www.artsy.net/gene/typologies has started\n"
          ]
        },
        {
          "output_type": "stream",
          "name": "stderr",
          "text": [
            "https://www.artsy.net:443 \"GET /gene/typologies HTTP/1.1\" 200 None\n"
          ]
        },
        {
          "output_type": "stream",
          "name": "stdout",
          "text": [
            "37 pages for parsing\n"
          ]
        },
        {
          "output_type": "stream",
          "name": "stderr",
          "text": [
            "https://www.artsy.net:443 \"GET /gene/typologies?page=2 HTTP/1.1\" 200 None\n",
            "https://www.artsy.net:443 \"GET /gene/typologies?page=3 HTTP/1.1\" 200 None\n",
            "https://www.artsy.net:443 \"GET /gene/typologies?page=4 HTTP/1.1\" 200 None\n",
            "https://www.artsy.net:443 \"GET /gene/typologies?page=5 HTTP/1.1\" 200 None\n",
            "https://www.artsy.net:443 \"GET /gene/typologies?page=6 HTTP/1.1\" 200 None\n",
            "https://www.artsy.net:443 \"GET /gene/typologies?page=7 HTTP/1.1\" 200 None\n",
            "https://www.artsy.net:443 \"GET /gene/typologies?page=8 HTTP/1.1\" 200 None\n",
            "https://www.artsy.net:443 \"GET /gene/typologies?page=9 HTTP/1.1\" 200 None\n",
            "https://www.artsy.net:443 \"GET /gene/typologies?page=10 HTTP/1.1\" 200 None\n",
            "https://www.artsy.net:443 \"GET /gene/typologies?page=11 HTTP/1.1\" 200 None\n",
            "https://www.artsy.net:443 \"GET /gene/typologies?page=12 HTTP/1.1\" 200 None\n",
            "https://www.artsy.net:443 \"GET /gene/typologies?page=13 HTTP/1.1\" 200 None\n",
            "https://www.artsy.net:443 \"GET /gene/typologies?page=14 HTTP/1.1\" 200 None\n",
            "https://www.artsy.net:443 \"GET /gene/typologies?page=15 HTTP/1.1\" 200 None\n",
            "https://www.artsy.net:443 \"GET /gene/typologies?page=16 HTTP/1.1\" 200 None\n",
            "https://www.artsy.net:443 \"GET /gene/typologies?page=17 HTTP/1.1\" 200 None\n",
            "https://www.artsy.net:443 \"GET /gene/typologies?page=18 HTTP/1.1\" 200 None\n",
            "https://www.artsy.net:443 \"GET /gene/typologies?page=19 HTTP/1.1\" 200 None\n",
            "https://www.artsy.net:443 \"GET /gene/typologies?page=20 HTTP/1.1\" 200 None\n",
            "https://www.artsy.net:443 \"GET /gene/typologies?page=21 HTTP/1.1\" 200 None\n",
            "https://www.artsy.net:443 \"GET /gene/typologies?page=22 HTTP/1.1\" 200 None\n",
            "https://www.artsy.net:443 \"GET /gene/typologies?page=23 HTTP/1.1\" 200 None\n",
            "https://www.artsy.net:443 \"GET /gene/typologies?page=24 HTTP/1.1\" 200 None\n",
            "https://www.artsy.net:443 \"GET /gene/typologies?page=25 HTTP/1.1\" 200 None\n",
            "https://www.artsy.net:443 \"GET /gene/typologies?page=26 HTTP/1.1\" 200 None\n",
            "https://www.artsy.net:443 \"GET /gene/typologies?page=27 HTTP/1.1\" 200 None\n",
            "https://www.artsy.net:443 \"GET /gene/typologies?page=28 HTTP/1.1\" 200 None\n",
            "https://www.artsy.net:443 \"GET /gene/typologies?page=29 HTTP/1.1\" 200 None\n",
            "https://www.artsy.net:443 \"GET /gene/typologies?page=30 HTTP/1.1\" 200 None\n",
            "https://www.artsy.net:443 \"GET /gene/typologies?page=31 HTTP/1.1\" 200 None\n",
            "https://www.artsy.net:443 \"GET /gene/typologies?page=32 HTTP/1.1\" 200 None\n",
            "https://www.artsy.net:443 \"GET /gene/typologies?page=33 HTTP/1.1\" 200 None\n",
            "https://www.artsy.net:443 \"GET /gene/typologies?page=34 HTTP/1.1\" 200 None\n",
            "https://www.artsy.net:443 \"GET /gene/typologies?page=35 HTTP/1.1\" 200 None\n",
            "https://www.artsy.net:443 \"GET /gene/typologies?page=36 HTTP/1.1\" 200 None\n",
            "https://www.artsy.net:443 \"GET /gene/typologies?page=37 HTTP/1.1\" 200 None\n"
          ]
        },
        {
          "output_type": "stream",
          "name": "stdout",
          "text": [
            "Parsing of gene 06168 https://www.artsy.net/gene/typologies has finished\n",
            "2033.4553456306458 seconds have passed\n",
            "13:16:06.779432\n",
            "\n"
          ]
        },
        {
          "output_type": "stream",
          "name": "stderr",
          "text": [
            "Starting new HTTPS connection (1): www.artsy.net:443\n"
          ]
        },
        {
          "output_type": "stream",
          "name": "stdout",
          "text": [
            "Parsing of gene 06169 https://www.artsy.net/gene/use-of-traditional-techniques has started\n"
          ]
        },
        {
          "output_type": "stream",
          "name": "stderr",
          "text": [
            "https://www.artsy.net:443 \"GET /gene/use-of-traditional-techniques HTTP/1.1\" 200 None\n"
          ]
        },
        {
          "output_type": "stream",
          "name": "stdout",
          "text": [
            "100 pages for parsing\n"
          ]
        },
        {
          "output_type": "stream",
          "name": "stderr",
          "text": [
            "https://www.artsy.net:443 \"GET /gene/use-of-traditional-techniques?page=2 HTTP/1.1\" 200 None\n",
            "https://www.artsy.net:443 \"GET /gene/use-of-traditional-techniques?page=3 HTTP/1.1\" 200 None\n",
            "https://www.artsy.net:443 \"GET /gene/use-of-traditional-techniques?page=4 HTTP/1.1\" 200 None\n",
            "https://www.artsy.net:443 \"GET /gene/use-of-traditional-techniques?page=5 HTTP/1.1\" 200 None\n",
            "https://www.artsy.net:443 \"GET /gene/use-of-traditional-techniques?page=6 HTTP/1.1\" 200 None\n",
            "https://www.artsy.net:443 \"GET /gene/use-of-traditional-techniques?page=7 HTTP/1.1\" 200 None\n",
            "https://www.artsy.net:443 \"GET /gene/use-of-traditional-techniques?page=8 HTTP/1.1\" 200 None\n",
            "https://www.artsy.net:443 \"GET /gene/use-of-traditional-techniques?page=9 HTTP/1.1\" 200 None\n",
            "https://www.artsy.net:443 \"GET /gene/use-of-traditional-techniques?page=10 HTTP/1.1\" 200 None\n",
            "https://www.artsy.net:443 \"GET /gene/use-of-traditional-techniques?page=11 HTTP/1.1\" 200 None\n",
            "https://www.artsy.net:443 \"GET /gene/use-of-traditional-techniques?page=12 HTTP/1.1\" 200 None\n",
            "https://www.artsy.net:443 \"GET /gene/use-of-traditional-techniques?page=13 HTTP/1.1\" 200 None\n",
            "https://www.artsy.net:443 \"GET /gene/use-of-traditional-techniques?page=14 HTTP/1.1\" 200 None\n",
            "https://www.artsy.net:443 \"GET /gene/use-of-traditional-techniques?page=15 HTTP/1.1\" 200 None\n",
            "https://www.artsy.net:443 \"GET /gene/use-of-traditional-techniques?page=16 HTTP/1.1\" 200 None\n",
            "https://www.artsy.net:443 \"GET /gene/use-of-traditional-techniques?page=17 HTTP/1.1\" 200 None\n",
            "https://www.artsy.net:443 \"GET /gene/use-of-traditional-techniques?page=18 HTTP/1.1\" 200 None\n",
            "https://www.artsy.net:443 \"GET /gene/use-of-traditional-techniques?page=19 HTTP/1.1\" 200 None\n",
            "https://www.artsy.net:443 \"GET /gene/use-of-traditional-techniques?page=20 HTTP/1.1\" 200 None\n",
            "https://www.artsy.net:443 \"GET /gene/use-of-traditional-techniques?page=21 HTTP/1.1\" 200 None\n",
            "https://www.artsy.net:443 \"GET /gene/use-of-traditional-techniques?page=22 HTTP/1.1\" 200 None\n",
            "https://www.artsy.net:443 \"GET /gene/use-of-traditional-techniques?page=23 HTTP/1.1\" 200 None\n",
            "https://www.artsy.net:443 \"GET /gene/use-of-traditional-techniques?page=24 HTTP/1.1\" 200 None\n",
            "https://www.artsy.net:443 \"GET /gene/use-of-traditional-techniques?page=25 HTTP/1.1\" 200 None\n",
            "https://www.artsy.net:443 \"GET /gene/use-of-traditional-techniques?page=26 HTTP/1.1\" 200 None\n",
            "https://www.artsy.net:443 \"GET /gene/use-of-traditional-techniques?page=27 HTTP/1.1\" 200 None\n",
            "https://www.artsy.net:443 \"GET /gene/use-of-traditional-techniques?page=28 HTTP/1.1\" 200 None\n",
            "https://www.artsy.net:443 \"GET /gene/use-of-traditional-techniques?page=29 HTTP/1.1\" 200 None\n",
            "https://www.artsy.net:443 \"GET /gene/use-of-traditional-techniques?page=30 HTTP/1.1\" 200 None\n",
            "https://www.artsy.net:443 \"GET /gene/use-of-traditional-techniques?page=31 HTTP/1.1\" 200 None\n",
            "https://www.artsy.net:443 \"GET /gene/use-of-traditional-techniques?page=32 HTTP/1.1\" 200 None\n",
            "https://www.artsy.net:443 \"GET /gene/use-of-traditional-techniques?page=33 HTTP/1.1\" 200 None\n",
            "https://www.artsy.net:443 \"GET /gene/use-of-traditional-techniques?page=34 HTTP/1.1\" 200 None\n",
            "https://www.artsy.net:443 \"GET /gene/use-of-traditional-techniques?page=35 HTTP/1.1\" 200 None\n",
            "https://www.artsy.net:443 \"GET /gene/use-of-traditional-techniques?page=36 HTTP/1.1\" 200 None\n",
            "https://www.artsy.net:443 \"GET /gene/use-of-traditional-techniques?page=37 HTTP/1.1\" 200 None\n",
            "https://www.artsy.net:443 \"GET /gene/use-of-traditional-techniques?page=38 HTTP/1.1\" 200 None\n",
            "https://www.artsy.net:443 \"GET /gene/use-of-traditional-techniques?page=39 HTTP/1.1\" 200 None\n",
            "https://www.artsy.net:443 \"GET /gene/use-of-traditional-techniques?page=40 HTTP/1.1\" 200 None\n",
            "https://www.artsy.net:443 \"GET /gene/use-of-traditional-techniques?page=41 HTTP/1.1\" 200 None\n",
            "https://www.artsy.net:443 \"GET /gene/use-of-traditional-techniques?page=42 HTTP/1.1\" 200 None\n",
            "https://www.artsy.net:443 \"GET /gene/use-of-traditional-techniques?page=43 HTTP/1.1\" 200 None\n",
            "https://www.artsy.net:443 \"GET /gene/use-of-traditional-techniques?page=44 HTTP/1.1\" 200 None\n",
            "https://www.artsy.net:443 \"GET /gene/use-of-traditional-techniques?page=45 HTTP/1.1\" 200 None\n",
            "https://www.artsy.net:443 \"GET /gene/use-of-traditional-techniques?page=46 HTTP/1.1\" 200 None\n",
            "https://www.artsy.net:443 \"GET /gene/use-of-traditional-techniques?page=47 HTTP/1.1\" 200 None\n",
            "https://www.artsy.net:443 \"GET /gene/use-of-traditional-techniques?page=48 HTTP/1.1\" 200 None\n",
            "https://www.artsy.net:443 \"GET /gene/use-of-traditional-techniques?page=49 HTTP/1.1\" 200 None\n",
            "https://www.artsy.net:443 \"GET /gene/use-of-traditional-techniques?page=50 HTTP/1.1\" 200 None\n",
            "https://www.artsy.net:443 \"GET /gene/use-of-traditional-techniques?page=51 HTTP/1.1\" 200 None\n",
            "https://www.artsy.net:443 \"GET /gene/use-of-traditional-techniques?page=52 HTTP/1.1\" 200 None\n",
            "https://www.artsy.net:443 \"GET /gene/use-of-traditional-techniques?page=53 HTTP/1.1\" 200 None\n",
            "https://www.artsy.net:443 \"GET /gene/use-of-traditional-techniques?page=54 HTTP/1.1\" 200 None\n",
            "https://www.artsy.net:443 \"GET /gene/use-of-traditional-techniques?page=55 HTTP/1.1\" 200 None\n",
            "https://www.artsy.net:443 \"GET /gene/use-of-traditional-techniques?page=56 HTTP/1.1\" 200 None\n",
            "https://www.artsy.net:443 \"GET /gene/use-of-traditional-techniques?page=57 HTTP/1.1\" 200 None\n",
            "https://www.artsy.net:443 \"GET /gene/use-of-traditional-techniques?page=58 HTTP/1.1\" 200 None\n",
            "https://www.artsy.net:443 \"GET /gene/use-of-traditional-techniques?page=59 HTTP/1.1\" 200 None\n",
            "https://www.artsy.net:443 \"GET /gene/use-of-traditional-techniques?page=60 HTTP/1.1\" 200 None\n",
            "https://www.artsy.net:443 \"GET /gene/use-of-traditional-techniques?page=61 HTTP/1.1\" 200 None\n",
            "https://www.artsy.net:443 \"GET /gene/use-of-traditional-techniques?page=62 HTTP/1.1\" 200 None\n",
            "https://www.artsy.net:443 \"GET /gene/use-of-traditional-techniques?page=63 HTTP/1.1\" 200 None\n",
            "https://www.artsy.net:443 \"GET /gene/use-of-traditional-techniques?page=64 HTTP/1.1\" 200 None\n",
            "https://www.artsy.net:443 \"GET /gene/use-of-traditional-techniques?page=65 HTTP/1.1\" 200 None\n",
            "https://www.artsy.net:443 \"GET /gene/use-of-traditional-techniques?page=66 HTTP/1.1\" 200 None\n",
            "Starting new HTTPS connection (1): www.artsy.net:443\n",
            "https://www.artsy.net:443 \"GET /gene/use-of-traditional-techniques?page=66 HTTP/1.1\" 200 None\n",
            "Resetting dropped connection: www.artsy.net\n",
            "https://www.artsy.net:443 \"GET /gene/use-of-traditional-techniques?page=67 HTTP/1.1\" 200 None\n",
            "https://www.artsy.net:443 \"GET /gene/use-of-traditional-techniques?page=68 HTTP/1.1\" 200 None\n",
            "https://www.artsy.net:443 \"GET /gene/use-of-traditional-techniques?page=69 HTTP/1.1\" 200 None\n",
            "https://www.artsy.net:443 \"GET /gene/use-of-traditional-techniques?page=70 HTTP/1.1\" 200 None\n",
            "https://www.artsy.net:443 \"GET /gene/use-of-traditional-techniques?page=71 HTTP/1.1\" 200 None\n",
            "https://www.artsy.net:443 \"GET /gene/use-of-traditional-techniques?page=72 HTTP/1.1\" 200 None\n",
            "https://www.artsy.net:443 \"GET /gene/use-of-traditional-techniques?page=73 HTTP/1.1\" 200 None\n",
            "https://www.artsy.net:443 \"GET /gene/use-of-traditional-techniques?page=74 HTTP/1.1\" 200 None\n",
            "https://www.artsy.net:443 \"GET /gene/use-of-traditional-techniques?page=75 HTTP/1.1\" 200 None\n",
            "https://www.artsy.net:443 \"GET /gene/use-of-traditional-techniques?page=76 HTTP/1.1\" 200 None\n",
            "https://www.artsy.net:443 \"GET /gene/use-of-traditional-techniques?page=77 HTTP/1.1\" 200 None\n",
            "https://www.artsy.net:443 \"GET /gene/use-of-traditional-techniques?page=78 HTTP/1.1\" 200 None\n",
            "https://www.artsy.net:443 \"GET /gene/use-of-traditional-techniques?page=79 HTTP/1.1\" 200 None\n",
            "https://www.artsy.net:443 \"GET /gene/use-of-traditional-techniques?page=80 HTTP/1.1\" 200 None\n",
            "https://www.artsy.net:443 \"GET /gene/use-of-traditional-techniques?page=81 HTTP/1.1\" 200 None\n",
            "https://www.artsy.net:443 \"GET /gene/use-of-traditional-techniques?page=82 HTTP/1.1\" 200 None\n",
            "https://www.artsy.net:443 \"GET /gene/use-of-traditional-techniques?page=83 HTTP/1.1\" 200 None\n",
            "https://www.artsy.net:443 \"GET /gene/use-of-traditional-techniques?page=84 HTTP/1.1\" 200 None\n",
            "https://www.artsy.net:443 \"GET /gene/use-of-traditional-techniques?page=85 HTTP/1.1\" 200 None\n",
            "https://www.artsy.net:443 \"GET /gene/use-of-traditional-techniques?page=86 HTTP/1.1\" 200 None\n",
            "https://www.artsy.net:443 \"GET /gene/use-of-traditional-techniques?page=87 HTTP/1.1\" 200 None\n",
            "https://www.artsy.net:443 \"GET /gene/use-of-traditional-techniques?page=88 HTTP/1.1\" 200 None\n",
            "https://www.artsy.net:443 \"GET /gene/use-of-traditional-techniques?page=89 HTTP/1.1\" 200 None\n",
            "https://www.artsy.net:443 \"GET /gene/use-of-traditional-techniques?page=90 HTTP/1.1\" 200 None\n",
            "https://www.artsy.net:443 \"GET /gene/use-of-traditional-techniques?page=91 HTTP/1.1\" 200 None\n",
            "https://www.artsy.net:443 \"GET /gene/use-of-traditional-techniques?page=92 HTTP/1.1\" 200 None\n",
            "https://www.artsy.net:443 \"GET /gene/use-of-traditional-techniques?page=93 HTTP/1.1\" 200 None\n",
            "https://www.artsy.net:443 \"GET /gene/use-of-traditional-techniques?page=94 HTTP/1.1\" 200 None\n",
            "https://www.artsy.net:443 \"GET /gene/use-of-traditional-techniques?page=95 HTTP/1.1\" 200 None\n",
            "https://www.artsy.net:443 \"GET /gene/use-of-traditional-techniques?page=96 HTTP/1.1\" 200 None\n",
            "https://www.artsy.net:443 \"GET /gene/use-of-traditional-techniques?page=97 HTTP/1.1\" 200 None\n",
            "https://www.artsy.net:443 \"GET /gene/use-of-traditional-techniques?page=98 HTTP/1.1\" 200 None\n",
            "https://www.artsy.net:443 \"GET /gene/use-of-traditional-techniques?page=99 HTTP/1.1\" 200 None\n",
            "https://www.artsy.net:443 \"GET /gene/use-of-traditional-techniques?page=100 HTTP/1.1\" 200 None\n"
          ]
        },
        {
          "output_type": "stream",
          "name": "stdout",
          "text": [
            "Parsing of gene 06169 https://www.artsy.net/gene/use-of-traditional-techniques has finished\n",
            "2249.3334391117096 seconds have passed\n",
            "13:19:42.657110\n",
            "\n"
          ]
        },
        {
          "output_type": "stream",
          "name": "stderr",
          "text": [
            "Starting new HTTPS connection (1): www.artsy.net:443\n"
          ]
        },
        {
          "output_type": "stream",
          "name": "stdout",
          "text": [
            "Parsing of gene 06170 https://www.artsy.net/gene/virtual-and-augmented-reality has started\n"
          ]
        },
        {
          "output_type": "stream",
          "name": "stderr",
          "text": [
            "https://www.artsy.net:443 \"GET /gene/virtual-and-augmented-reality HTTP/1.1\" 200 None\n"
          ]
        },
        {
          "output_type": "stream",
          "name": "stdout",
          "text": [
            "1 pages for parsing\n",
            "Parsing of gene 06170 https://www.artsy.net/gene/virtual-and-augmented-reality has finished\n",
            "2251.3585743904114 seconds have passed\n",
            "13:19:44.682648\n",
            "\n"
          ]
        },
        {
          "output_type": "stream",
          "name": "stderr",
          "text": [
            "Starting new HTTPS connection (1): www.artsy.net:443\n"
          ]
        },
        {
          "output_type": "stream",
          "name": "stdout",
          "text": [
            "Parsing of gene 06171 https://www.artsy.net/gene/wall-sculpture-and-installation has started\n"
          ]
        },
        {
          "output_type": "stream",
          "name": "stderr",
          "text": [
            "https://www.artsy.net:443 \"GET /gene/wall-sculpture-and-installation HTTP/1.1\" 200 None\n"
          ]
        },
        {
          "output_type": "stream",
          "name": "stdout",
          "text": [
            "100 pages for parsing\n"
          ]
        },
        {
          "output_type": "stream",
          "name": "stderr",
          "text": [
            "https://www.artsy.net:443 \"GET /gene/wall-sculpture-and-installation?page=2 HTTP/1.1\" 200 None\n",
            "https://www.artsy.net:443 \"GET /gene/wall-sculpture-and-installation?page=3 HTTP/1.1\" 200 None\n",
            "https://www.artsy.net:443 \"GET /gene/wall-sculpture-and-installation?page=4 HTTP/1.1\" 200 None\n",
            "https://www.artsy.net:443 \"GET /gene/wall-sculpture-and-installation?page=5 HTTP/1.1\" 200 None\n",
            "https://www.artsy.net:443 \"GET /gene/wall-sculpture-and-installation?page=6 HTTP/1.1\" 200 None\n",
            "https://www.artsy.net:443 \"GET /gene/wall-sculpture-and-installation?page=7 HTTP/1.1\" 200 None\n",
            "https://www.artsy.net:443 \"GET /gene/wall-sculpture-and-installation?page=8 HTTP/1.1\" 200 None\n",
            "https://www.artsy.net:443 \"GET /gene/wall-sculpture-and-installation?page=9 HTTP/1.1\" 200 None\n",
            "https://www.artsy.net:443 \"GET /gene/wall-sculpture-and-installation?page=10 HTTP/1.1\" 200 None\n",
            "https://www.artsy.net:443 \"GET /gene/wall-sculpture-and-installation?page=11 HTTP/1.1\" 200 None\n",
            "https://www.artsy.net:443 \"GET /gene/wall-sculpture-and-installation?page=12 HTTP/1.1\" 200 None\n",
            "https://www.artsy.net:443 \"GET /gene/wall-sculpture-and-installation?page=13 HTTP/1.1\" 200 None\n",
            "https://www.artsy.net:443 \"GET /gene/wall-sculpture-and-installation?page=14 HTTP/1.1\" 200 None\n",
            "https://www.artsy.net:443 \"GET /gene/wall-sculpture-and-installation?page=15 HTTP/1.1\" 200 None\n",
            "https://www.artsy.net:443 \"GET /gene/wall-sculpture-and-installation?page=16 HTTP/1.1\" 200 None\n",
            "https://www.artsy.net:443 \"GET /gene/wall-sculpture-and-installation?page=17 HTTP/1.1\" 200 None\n",
            "https://www.artsy.net:443 \"GET /gene/wall-sculpture-and-installation?page=18 HTTP/1.1\" 200 None\n",
            "https://www.artsy.net:443 \"GET /gene/wall-sculpture-and-installation?page=19 HTTP/1.1\" 200 None\n",
            "https://www.artsy.net:443 \"GET /gene/wall-sculpture-and-installation?page=20 HTTP/1.1\" 200 None\n",
            "https://www.artsy.net:443 \"GET /gene/wall-sculpture-and-installation?page=21 HTTP/1.1\" 200 None\n",
            "https://www.artsy.net:443 \"GET /gene/wall-sculpture-and-installation?page=22 HTTP/1.1\" 200 None\n",
            "https://www.artsy.net:443 \"GET /gene/wall-sculpture-and-installation?page=23 HTTP/1.1\" 200 None\n",
            "https://www.artsy.net:443 \"GET /gene/wall-sculpture-and-installation?page=24 HTTP/1.1\" 200 None\n",
            "https://www.artsy.net:443 \"GET /gene/wall-sculpture-and-installation?page=25 HTTP/1.1\" 200 None\n",
            "https://www.artsy.net:443 \"GET /gene/wall-sculpture-and-installation?page=26 HTTP/1.1\" 200 None\n",
            "https://www.artsy.net:443 \"GET /gene/wall-sculpture-and-installation?page=27 HTTP/1.1\" 200 None\n",
            "https://www.artsy.net:443 \"GET /gene/wall-sculpture-and-installation?page=28 HTTP/1.1\" 200 None\n",
            "https://www.artsy.net:443 \"GET /gene/wall-sculpture-and-installation?page=29 HTTP/1.1\" 200 None\n",
            "https://www.artsy.net:443 \"GET /gene/wall-sculpture-and-installation?page=30 HTTP/1.1\" 200 None\n",
            "https://www.artsy.net:443 \"GET /gene/wall-sculpture-and-installation?page=31 HTTP/1.1\" 200 None\n",
            "https://www.artsy.net:443 \"GET /gene/wall-sculpture-and-installation?page=32 HTTP/1.1\" 200 None\n",
            "https://www.artsy.net:443 \"GET /gene/wall-sculpture-and-installation?page=33 HTTP/1.1\" 200 None\n",
            "https://www.artsy.net:443 \"GET /gene/wall-sculpture-and-installation?page=34 HTTP/1.1\" 200 None\n",
            "https://www.artsy.net:443 \"GET /gene/wall-sculpture-and-installation?page=35 HTTP/1.1\" 200 None\n",
            "https://www.artsy.net:443 \"GET /gene/wall-sculpture-and-installation?page=36 HTTP/1.1\" 200 None\n",
            "https://www.artsy.net:443 \"GET /gene/wall-sculpture-and-installation?page=37 HTTP/1.1\" 200 None\n",
            "https://www.artsy.net:443 \"GET /gene/wall-sculpture-and-installation?page=38 HTTP/1.1\" 200 None\n",
            "https://www.artsy.net:443 \"GET /gene/wall-sculpture-and-installation?page=39 HTTP/1.1\" 200 None\n",
            "https://www.artsy.net:443 \"GET /gene/wall-sculpture-and-installation?page=40 HTTP/1.1\" 200 None\n",
            "https://www.artsy.net:443 \"GET /gene/wall-sculpture-and-installation?page=41 HTTP/1.1\" 200 None\n",
            "https://www.artsy.net:443 \"GET /gene/wall-sculpture-and-installation?page=42 HTTP/1.1\" 200 None\n",
            "https://www.artsy.net:443 \"GET /gene/wall-sculpture-and-installation?page=43 HTTP/1.1\" 200 None\n",
            "https://www.artsy.net:443 \"GET /gene/wall-sculpture-and-installation?page=44 HTTP/1.1\" 200 None\n",
            "https://www.artsy.net:443 \"GET /gene/wall-sculpture-and-installation?page=45 HTTP/1.1\" 200 None\n",
            "https://www.artsy.net:443 \"GET /gene/wall-sculpture-and-installation?page=46 HTTP/1.1\" 200 None\n",
            "https://www.artsy.net:443 \"GET /gene/wall-sculpture-and-installation?page=47 HTTP/1.1\" 200 None\n",
            "https://www.artsy.net:443 \"GET /gene/wall-sculpture-and-installation?page=48 HTTP/1.1\" 200 None\n",
            "https://www.artsy.net:443 \"GET /gene/wall-sculpture-and-installation?page=49 HTTP/1.1\" 200 None\n",
            "https://www.artsy.net:443 \"GET /gene/wall-sculpture-and-installation?page=50 HTTP/1.1\" 200 None\n",
            "https://www.artsy.net:443 \"GET /gene/wall-sculpture-and-installation?page=51 HTTP/1.1\" 200 None\n",
            "https://www.artsy.net:443 \"GET /gene/wall-sculpture-and-installation?page=52 HTTP/1.1\" 200 None\n",
            "https://www.artsy.net:443 \"GET /gene/wall-sculpture-and-installation?page=53 HTTP/1.1\" 200 None\n",
            "https://www.artsy.net:443 \"GET /gene/wall-sculpture-and-installation?page=54 HTTP/1.1\" 200 None\n",
            "https://www.artsy.net:443 \"GET /gene/wall-sculpture-and-installation?page=55 HTTP/1.1\" 200 None\n",
            "https://www.artsy.net:443 \"GET /gene/wall-sculpture-and-installation?page=56 HTTP/1.1\" 200 None\n",
            "https://www.artsy.net:443 \"GET /gene/wall-sculpture-and-installation?page=57 HTTP/1.1\" 200 None\n",
            "https://www.artsy.net:443 \"GET /gene/wall-sculpture-and-installation?page=58 HTTP/1.1\" 200 None\n",
            "https://www.artsy.net:443 \"GET /gene/wall-sculpture-and-installation?page=59 HTTP/1.1\" 200 None\n",
            "https://www.artsy.net:443 \"GET /gene/wall-sculpture-and-installation?page=60 HTTP/1.1\" 200 None\n",
            "https://www.artsy.net:443 \"GET /gene/wall-sculpture-and-installation?page=61 HTTP/1.1\" 200 None\n",
            "https://www.artsy.net:443 \"GET /gene/wall-sculpture-and-installation?page=62 HTTP/1.1\" 200 None\n",
            "https://www.artsy.net:443 \"GET /gene/wall-sculpture-and-installation?page=63 HTTP/1.1\" 200 None\n",
            "https://www.artsy.net:443 \"GET /gene/wall-sculpture-and-installation?page=64 HTTP/1.1\" 200 None\n",
            "https://www.artsy.net:443 \"GET /gene/wall-sculpture-and-installation?page=65 HTTP/1.1\" 200 None\n",
            "https://www.artsy.net:443 \"GET /gene/wall-sculpture-and-installation?page=66 HTTP/1.1\" 200 None\n",
            "https://www.artsy.net:443 \"GET /gene/wall-sculpture-and-installation?page=67 HTTP/1.1\" 200 None\n",
            "https://www.artsy.net:443 \"GET /gene/wall-sculpture-and-installation?page=68 HTTP/1.1\" 200 None\n",
            "https://www.artsy.net:443 \"GET /gene/wall-sculpture-and-installation?page=69 HTTP/1.1\" 200 None\n",
            "https://www.artsy.net:443 \"GET /gene/wall-sculpture-and-installation?page=70 HTTP/1.1\" 200 None\n",
            "https://www.artsy.net:443 \"GET /gene/wall-sculpture-and-installation?page=71 HTTP/1.1\" 200 None\n",
            "https://www.artsy.net:443 \"GET /gene/wall-sculpture-and-installation?page=72 HTTP/1.1\" 200 None\n",
            "https://www.artsy.net:443 \"GET /gene/wall-sculpture-and-installation?page=73 HTTP/1.1\" 200 None\n",
            "https://www.artsy.net:443 \"GET /gene/wall-sculpture-and-installation?page=74 HTTP/1.1\" 200 None\n",
            "https://www.artsy.net:443 \"GET /gene/wall-sculpture-and-installation?page=75 HTTP/1.1\" 200 None\n",
            "https://www.artsy.net:443 \"GET /gene/wall-sculpture-and-installation?page=76 HTTP/1.1\" 200 None\n",
            "https://www.artsy.net:443 \"GET /gene/wall-sculpture-and-installation?page=77 HTTP/1.1\" 200 None\n",
            "https://www.artsy.net:443 \"GET /gene/wall-sculpture-and-installation?page=78 HTTP/1.1\" 200 None\n",
            "https://www.artsy.net:443 \"GET /gene/wall-sculpture-and-installation?page=79 HTTP/1.1\" 200 None\n",
            "https://www.artsy.net:443 \"GET /gene/wall-sculpture-and-installation?page=80 HTTP/1.1\" 200 None\n",
            "https://www.artsy.net:443 \"GET /gene/wall-sculpture-and-installation?page=81 HTTP/1.1\" 200 None\n",
            "https://www.artsy.net:443 \"GET /gene/wall-sculpture-and-installation?page=82 HTTP/1.1\" 200 None\n",
            "https://www.artsy.net:443 \"GET /gene/wall-sculpture-and-installation?page=83 HTTP/1.1\" 200 None\n",
            "https://www.artsy.net:443 \"GET /gene/wall-sculpture-and-installation?page=84 HTTP/1.1\" 200 None\n",
            "https://www.artsy.net:443 \"GET /gene/wall-sculpture-and-installation?page=85 HTTP/1.1\" 200 None\n",
            "https://www.artsy.net:443 \"GET /gene/wall-sculpture-and-installation?page=86 HTTP/1.1\" 200 None\n",
            "https://www.artsy.net:443 \"GET /gene/wall-sculpture-and-installation?page=87 HTTP/1.1\" 200 None\n",
            "https://www.artsy.net:443 \"GET /gene/wall-sculpture-and-installation?page=88 HTTP/1.1\" 200 None\n",
            "https://www.artsy.net:443 \"GET /gene/wall-sculpture-and-installation?page=89 HTTP/1.1\" 200 None\n",
            "https://www.artsy.net:443 \"GET /gene/wall-sculpture-and-installation?page=90 HTTP/1.1\" 200 None\n",
            "https://www.artsy.net:443 \"GET /gene/wall-sculpture-and-installation?page=91 HTTP/1.1\" 200 None\n",
            "https://www.artsy.net:443 \"GET /gene/wall-sculpture-and-installation?page=92 HTTP/1.1\" 200 None\n",
            "https://www.artsy.net:443 \"GET /gene/wall-sculpture-and-installation?page=93 HTTP/1.1\" 200 None\n",
            "https://www.artsy.net:443 \"GET /gene/wall-sculpture-and-installation?page=94 HTTP/1.1\" 200 None\n",
            "https://www.artsy.net:443 \"GET /gene/wall-sculpture-and-installation?page=95 HTTP/1.1\" 200 None\n",
            "https://www.artsy.net:443 \"GET /gene/wall-sculpture-and-installation?page=96 HTTP/1.1\" 200 None\n",
            "https://www.artsy.net:443 \"GET /gene/wall-sculpture-and-installation?page=97 HTTP/1.1\" 200 None\n",
            "https://www.artsy.net:443 \"GET /gene/wall-sculpture-and-installation?page=98 HTTP/1.1\" 200 None\n",
            "https://www.artsy.net:443 \"GET /gene/wall-sculpture-and-installation?page=99 HTTP/1.1\" 200 None\n",
            "https://www.artsy.net:443 \"GET /gene/wall-sculpture-and-installation?page=100 HTTP/1.1\" 200 None\n"
          ]
        },
        {
          "output_type": "stream",
          "name": "stdout",
          "text": [
            "Parsing of gene 06171 https://www.artsy.net/gene/wall-sculpture-and-installation has finished\n",
            "2476.0005984306335 seconds have passed\n",
            "13:23:29.324278\n",
            "\n"
          ]
        },
        {
          "output_type": "stream",
          "name": "stderr",
          "text": [
            "Starting new HTTPS connection (1): www.artsy.net:443\n"
          ]
        },
        {
          "output_type": "stream",
          "name": "stdout",
          "text": [
            "Parsing of gene 06172 https://www.artsy.net/gene/watercolor has started\n"
          ]
        },
        {
          "output_type": "stream",
          "name": "stderr",
          "text": [
            "https://www.artsy.net:443 \"GET /gene/watercolor HTTP/1.1\" 200 None\n"
          ]
        },
        {
          "output_type": "stream",
          "name": "stdout",
          "text": [
            "100 pages for parsing\n"
          ]
        },
        {
          "output_type": "stream",
          "name": "stderr",
          "text": [
            "https://www.artsy.net:443 \"GET /gene/watercolor?page=2 HTTP/1.1\" 200 None\n",
            "https://www.artsy.net:443 \"GET /gene/watercolor?page=3 HTTP/1.1\" 200 None\n",
            "https://www.artsy.net:443 \"GET /gene/watercolor?page=4 HTTP/1.1\" 200 None\n",
            "https://www.artsy.net:443 \"GET /gene/watercolor?page=5 HTTP/1.1\" 200 None\n",
            "https://www.artsy.net:443 \"GET /gene/watercolor?page=6 HTTP/1.1\" 200 None\n",
            "https://www.artsy.net:443 \"GET /gene/watercolor?page=7 HTTP/1.1\" 200 None\n",
            "https://www.artsy.net:443 \"GET /gene/watercolor?page=8 HTTP/1.1\" 200 None\n",
            "https://www.artsy.net:443 \"GET /gene/watercolor?page=9 HTTP/1.1\" 200 None\n",
            "https://www.artsy.net:443 \"GET /gene/watercolor?page=10 HTTP/1.1\" 200 None\n",
            "https://www.artsy.net:443 \"GET /gene/watercolor?page=11 HTTP/1.1\" 200 None\n",
            "https://www.artsy.net:443 \"GET /gene/watercolor?page=12 HTTP/1.1\" 200 None\n",
            "https://www.artsy.net:443 \"GET /gene/watercolor?page=13 HTTP/1.1\" 200 None\n",
            "https://www.artsy.net:443 \"GET /gene/watercolor?page=14 HTTP/1.1\" 200 None\n",
            "https://www.artsy.net:443 \"GET /gene/watercolor?page=15 HTTP/1.1\" 200 None\n",
            "https://www.artsy.net:443 \"GET /gene/watercolor?page=16 HTTP/1.1\" 200 None\n",
            "https://www.artsy.net:443 \"GET /gene/watercolor?page=17 HTTP/1.1\" 200 None\n",
            "https://www.artsy.net:443 \"GET /gene/watercolor?page=18 HTTP/1.1\" 200 None\n",
            "https://www.artsy.net:443 \"GET /gene/watercolor?page=19 HTTP/1.1\" 200 None\n",
            "https://www.artsy.net:443 \"GET /gene/watercolor?page=20 HTTP/1.1\" 200 None\n",
            "https://www.artsy.net:443 \"GET /gene/watercolor?page=21 HTTP/1.1\" 200 None\n",
            "https://www.artsy.net:443 \"GET /gene/watercolor?page=22 HTTP/1.1\" 200 None\n",
            "https://www.artsy.net:443 \"GET /gene/watercolor?page=23 HTTP/1.1\" 200 None\n",
            "https://www.artsy.net:443 \"GET /gene/watercolor?page=24 HTTP/1.1\" 200 None\n",
            "https://www.artsy.net:443 \"GET /gene/watercolor?page=25 HTTP/1.1\" 200 None\n",
            "https://www.artsy.net:443 \"GET /gene/watercolor?page=26 HTTP/1.1\" 200 None\n",
            "https://www.artsy.net:443 \"GET /gene/watercolor?page=27 HTTP/1.1\" 200 None\n",
            "https://www.artsy.net:443 \"GET /gene/watercolor?page=28 HTTP/1.1\" 200 None\n",
            "https://www.artsy.net:443 \"GET /gene/watercolor?page=29 HTTP/1.1\" 200 None\n",
            "https://www.artsy.net:443 \"GET /gene/watercolor?page=30 HTTP/1.1\" 200 None\n",
            "https://www.artsy.net:443 \"GET /gene/watercolor?page=31 HTTP/1.1\" 200 None\n",
            "https://www.artsy.net:443 \"GET /gene/watercolor?page=32 HTTP/1.1\" 200 None\n",
            "https://www.artsy.net:443 \"GET /gene/watercolor?page=33 HTTP/1.1\" 200 None\n",
            "https://www.artsy.net:443 \"GET /gene/watercolor?page=34 HTTP/1.1\" 200 None\n",
            "https://www.artsy.net:443 \"GET /gene/watercolor?page=35 HTTP/1.1\" 200 None\n",
            "https://www.artsy.net:443 \"GET /gene/watercolor?page=36 HTTP/1.1\" 200 None\n",
            "https://www.artsy.net:443 \"GET /gene/watercolor?page=37 HTTP/1.1\" 200 None\n",
            "https://www.artsy.net:443 \"GET /gene/watercolor?page=38 HTTP/1.1\" 200 None\n",
            "https://www.artsy.net:443 \"GET /gene/watercolor?page=39 HTTP/1.1\" 200 None\n",
            "https://www.artsy.net:443 \"GET /gene/watercolor?page=40 HTTP/1.1\" 200 None\n",
            "https://www.artsy.net:443 \"GET /gene/watercolor?page=41 HTTP/1.1\" 200 None\n",
            "https://www.artsy.net:443 \"GET /gene/watercolor?page=42 HTTP/1.1\" 200 None\n",
            "https://www.artsy.net:443 \"GET /gene/watercolor?page=43 HTTP/1.1\" 200 None\n",
            "https://www.artsy.net:443 \"GET /gene/watercolor?page=44 HTTP/1.1\" 200 None\n",
            "https://www.artsy.net:443 \"GET /gene/watercolor?page=45 HTTP/1.1\" 200 None\n",
            "https://www.artsy.net:443 \"GET /gene/watercolor?page=46 HTTP/1.1\" 200 None\n",
            "https://www.artsy.net:443 \"GET /gene/watercolor?page=47 HTTP/1.1\" 200 None\n",
            "https://www.artsy.net:443 \"GET /gene/watercolor?page=48 HTTP/1.1\" 200 None\n",
            "https://www.artsy.net:443 \"GET /gene/watercolor?page=49 HTTP/1.1\" 200 None\n",
            "https://www.artsy.net:443 \"GET /gene/watercolor?page=50 HTTP/1.1\" 200 None\n",
            "https://www.artsy.net:443 \"GET /gene/watercolor?page=51 HTTP/1.1\" 200 None\n",
            "https://www.artsy.net:443 \"GET /gene/watercolor?page=52 HTTP/1.1\" 200 None\n",
            "https://www.artsy.net:443 \"GET /gene/watercolor?page=53 HTTP/1.1\" 200 None\n",
            "https://www.artsy.net:443 \"GET /gene/watercolor?page=54 HTTP/1.1\" 200 None\n",
            "https://www.artsy.net:443 \"GET /gene/watercolor?page=55 HTTP/1.1\" 200 None\n",
            "https://www.artsy.net:443 \"GET /gene/watercolor?page=56 HTTP/1.1\" 200 None\n",
            "https://www.artsy.net:443 \"GET /gene/watercolor?page=57 HTTP/1.1\" 200 None\n",
            "https://www.artsy.net:443 \"GET /gene/watercolor?page=58 HTTP/1.1\" 200 None\n",
            "https://www.artsy.net:443 \"GET /gene/watercolor?page=59 HTTP/1.1\" 200 None\n",
            "https://www.artsy.net:443 \"GET /gene/watercolor?page=60 HTTP/1.1\" 200 None\n",
            "Starting new HTTPS connection (1): www.artsy.net:443\n",
            "https://www.artsy.net:443 \"GET /gene/watercolor?page=61 HTTP/1.1\" 200 None\n",
            "Starting new HTTPS connection (2): www.artsy.net:443\n",
            "https://www.artsy.net:443 \"GET /gene/watercolor?page=62 HTTP/1.1\" 200 None\n",
            "https://www.artsy.net:443 \"GET /gene/watercolor?page=63 HTTP/1.1\" 200 None\n",
            "https://www.artsy.net:443 \"GET /gene/watercolor?page=64 HTTP/1.1\" 200 None\n",
            "https://www.artsy.net:443 \"GET /gene/watercolor?page=65 HTTP/1.1\" 200 None\n",
            "https://www.artsy.net:443 \"GET /gene/watercolor?page=66 HTTP/1.1\" 200 None\n",
            "https://www.artsy.net:443 \"GET /gene/watercolor?page=67 HTTP/1.1\" 200 None\n",
            "https://www.artsy.net:443 \"GET /gene/watercolor?page=68 HTTP/1.1\" 200 None\n",
            "https://www.artsy.net:443 \"GET /gene/watercolor?page=69 HTTP/1.1\" 200 None\n",
            "https://www.artsy.net:443 \"GET /gene/watercolor?page=70 HTTP/1.1\" 200 None\n",
            "https://www.artsy.net:443 \"GET /gene/watercolor?page=71 HTTP/1.1\" 200 None\n",
            "https://www.artsy.net:443 \"GET /gene/watercolor?page=72 HTTP/1.1\" 200 None\n",
            "https://www.artsy.net:443 \"GET /gene/watercolor?page=73 HTTP/1.1\" 200 None\n",
            "https://www.artsy.net:443 \"GET /gene/watercolor?page=74 HTTP/1.1\" 200 None\n",
            "https://www.artsy.net:443 \"GET /gene/watercolor?page=75 HTTP/1.1\" 200 None\n",
            "https://www.artsy.net:443 \"GET /gene/watercolor?page=76 HTTP/1.1\" 200 None\n",
            "https://www.artsy.net:443 \"GET /gene/watercolor?page=77 HTTP/1.1\" 200 None\n",
            "https://www.artsy.net:443 \"GET /gene/watercolor?page=78 HTTP/1.1\" 200 None\n",
            "https://www.artsy.net:443 \"GET /gene/watercolor?page=79 HTTP/1.1\" 200 None\n",
            "https://www.artsy.net:443 \"GET /gene/watercolor?page=80 HTTP/1.1\" 200 None\n",
            "https://www.artsy.net:443 \"GET /gene/watercolor?page=81 HTTP/1.1\" 200 None\n",
            "https://www.artsy.net:443 \"GET /gene/watercolor?page=82 HTTP/1.1\" 200 None\n",
            "https://www.artsy.net:443 \"GET /gene/watercolor?page=83 HTTP/1.1\" 200 None\n",
            "https://www.artsy.net:443 \"GET /gene/watercolor?page=84 HTTP/1.1\" 200 None\n",
            "https://www.artsy.net:443 \"GET /gene/watercolor?page=85 HTTP/1.1\" 200 None\n",
            "https://www.artsy.net:443 \"GET /gene/watercolor?page=86 HTTP/1.1\" 200 None\n",
            "https://www.artsy.net:443 \"GET /gene/watercolor?page=87 HTTP/1.1\" 200 None\n",
            "https://www.artsy.net:443 \"GET /gene/watercolor?page=88 HTTP/1.1\" 200 None\n",
            "https://www.artsy.net:443 \"GET /gene/watercolor?page=89 HTTP/1.1\" 200 None\n",
            "https://www.artsy.net:443 \"GET /gene/watercolor?page=90 HTTP/1.1\" 200 None\n",
            "https://www.artsy.net:443 \"GET /gene/watercolor?page=91 HTTP/1.1\" 200 None\n",
            "https://www.artsy.net:443 \"GET /gene/watercolor?page=92 HTTP/1.1\" 200 None\n",
            "https://www.artsy.net:443 \"GET /gene/watercolor?page=93 HTTP/1.1\" 200 None\n",
            "https://www.artsy.net:443 \"GET /gene/watercolor?page=94 HTTP/1.1\" 200 None\n",
            "https://www.artsy.net:443 \"GET /gene/watercolor?page=95 HTTP/1.1\" 200 None\n",
            "https://www.artsy.net:443 \"GET /gene/watercolor?page=96 HTTP/1.1\" 200 None\n",
            "https://www.artsy.net:443 \"GET /gene/watercolor?page=97 HTTP/1.1\" 200 None\n",
            "https://www.artsy.net:443 \"GET /gene/watercolor?page=98 HTTP/1.1\" 200 None\n",
            "https://www.artsy.net:443 \"GET /gene/watercolor?page=99 HTTP/1.1\" 200 None\n",
            "https://www.artsy.net:443 \"GET /gene/watercolor?page=100 HTTP/1.1\" 200 None\n"
          ]
        },
        {
          "output_type": "stream",
          "name": "stdout",
          "text": [
            "Parsing of gene 06172 https://www.artsy.net/gene/watercolor has finished\n",
            "2693.979080915451 seconds have passed\n",
            "13:27:07.302755\n",
            "\n"
          ]
        },
        {
          "output_type": "stream",
          "name": "stderr",
          "text": [
            "Starting new HTTPS connection (1): www.artsy.net:443\n"
          ]
        },
        {
          "output_type": "stream",
          "name": "stdout",
          "text": [
            "Parsing of gene 06173 https://www.artsy.net/gene/website has started\n"
          ]
        },
        {
          "output_type": "stream",
          "name": "stderr",
          "text": [
            "https://www.artsy.net:443 \"GET /gene/website HTTP/1.1\" 200 None\n"
          ]
        },
        {
          "output_type": "stream",
          "name": "stdout",
          "text": [
            "1 pages for parsing\n",
            "Parsing of gene 06173 https://www.artsy.net/gene/website has finished\n",
            "2696.3552882671356 seconds have passed\n",
            "13:27:09.678971\n",
            "\n"
          ]
        },
        {
          "output_type": "stream",
          "name": "stderr",
          "text": [
            "Starting new HTTPS connection (1): www.artsy.net:443\n"
          ]
        },
        {
          "output_type": "stream",
          "name": "stdout",
          "text": [
            "Parsing of gene 06174 https://www.artsy.net/gene/woodcut-and-linocut has started\n"
          ]
        },
        {
          "output_type": "stream",
          "name": "stderr",
          "text": [
            "https://www.artsy.net:443 \"GET /gene/woodcut-and-linocut HTTP/1.1\" 200 None\n"
          ]
        },
        {
          "output_type": "stream",
          "name": "stdout",
          "text": [
            "100 pages for parsing\n"
          ]
        },
        {
          "output_type": "stream",
          "name": "stderr",
          "text": [
            "https://www.artsy.net:443 \"GET /gene/woodcut-and-linocut?page=2 HTTP/1.1\" 200 None\n",
            "https://www.artsy.net:443 \"GET /gene/woodcut-and-linocut?page=3 HTTP/1.1\" 200 None\n",
            "https://www.artsy.net:443 \"GET /gene/woodcut-and-linocut?page=4 HTTP/1.1\" 200 None\n",
            "https://www.artsy.net:443 \"GET /gene/woodcut-and-linocut?page=5 HTTP/1.1\" 200 None\n",
            "https://www.artsy.net:443 \"GET /gene/woodcut-and-linocut?page=6 HTTP/1.1\" 200 None\n",
            "https://www.artsy.net:443 \"GET /gene/woodcut-and-linocut?page=7 HTTP/1.1\" 200 None\n",
            "https://www.artsy.net:443 \"GET /gene/woodcut-and-linocut?page=8 HTTP/1.1\" 200 None\n",
            "https://www.artsy.net:443 \"GET /gene/woodcut-and-linocut?page=9 HTTP/1.1\" 200 None\n",
            "https://www.artsy.net:443 \"GET /gene/woodcut-and-linocut?page=10 HTTP/1.1\" 200 None\n",
            "https://www.artsy.net:443 \"GET /gene/woodcut-and-linocut?page=11 HTTP/1.1\" 200 None\n",
            "https://www.artsy.net:443 \"GET /gene/woodcut-and-linocut?page=12 HTTP/1.1\" 200 None\n",
            "https://www.artsy.net:443 \"GET /gene/woodcut-and-linocut?page=13 HTTP/1.1\" 200 None\n",
            "https://www.artsy.net:443 \"GET /gene/woodcut-and-linocut?page=14 HTTP/1.1\" 200 None\n",
            "https://www.artsy.net:443 \"GET /gene/woodcut-and-linocut?page=15 HTTP/1.1\" 200 None\n",
            "https://www.artsy.net:443 \"GET /gene/woodcut-and-linocut?page=16 HTTP/1.1\" 200 None\n",
            "https://www.artsy.net:443 \"GET /gene/woodcut-and-linocut?page=17 HTTP/1.1\" 200 None\n",
            "https://www.artsy.net:443 \"GET /gene/woodcut-and-linocut?page=18 HTTP/1.1\" 200 None\n",
            "https://www.artsy.net:443 \"GET /gene/woodcut-and-linocut?page=19 HTTP/1.1\" 200 None\n",
            "https://www.artsy.net:443 \"GET /gene/woodcut-and-linocut?page=20 HTTP/1.1\" 200 None\n",
            "https://www.artsy.net:443 \"GET /gene/woodcut-and-linocut?page=21 HTTP/1.1\" 200 None\n",
            "https://www.artsy.net:443 \"GET /gene/woodcut-and-linocut?page=22 HTTP/1.1\" 200 None\n",
            "https://www.artsy.net:443 \"GET /gene/woodcut-and-linocut?page=23 HTTP/1.1\" 200 None\n",
            "https://www.artsy.net:443 \"GET /gene/woodcut-and-linocut?page=24 HTTP/1.1\" 200 None\n",
            "https://www.artsy.net:443 \"GET /gene/woodcut-and-linocut?page=25 HTTP/1.1\" 200 None\n",
            "https://www.artsy.net:443 \"GET /gene/woodcut-and-linocut?page=26 HTTP/1.1\" 200 None\n",
            "https://www.artsy.net:443 \"GET /gene/woodcut-and-linocut?page=27 HTTP/1.1\" 200 None\n",
            "https://www.artsy.net:443 \"GET /gene/woodcut-and-linocut?page=28 HTTP/1.1\" 200 None\n",
            "https://www.artsy.net:443 \"GET /gene/woodcut-and-linocut?page=29 HTTP/1.1\" 200 None\n",
            "https://www.artsy.net:443 \"GET /gene/woodcut-and-linocut?page=30 HTTP/1.1\" 200 None\n",
            "https://www.artsy.net:443 \"GET /gene/woodcut-and-linocut?page=31 HTTP/1.1\" 200 None\n",
            "https://www.artsy.net:443 \"GET /gene/woodcut-and-linocut?page=32 HTTP/1.1\" 200 None\n",
            "https://www.artsy.net:443 \"GET /gene/woodcut-and-linocut?page=33 HTTP/1.1\" 200 None\n",
            "https://www.artsy.net:443 \"GET /gene/woodcut-and-linocut?page=34 HTTP/1.1\" 200 None\n",
            "https://www.artsy.net:443 \"GET /gene/woodcut-and-linocut?page=35 HTTP/1.1\" 200 None\n",
            "https://www.artsy.net:443 \"GET /gene/woodcut-and-linocut?page=36 HTTP/1.1\" 200 None\n",
            "https://www.artsy.net:443 \"GET /gene/woodcut-and-linocut?page=37 HTTP/1.1\" 200 None\n",
            "https://www.artsy.net:443 \"GET /gene/woodcut-and-linocut?page=38 HTTP/1.1\" 200 None\n",
            "https://www.artsy.net:443 \"GET /gene/woodcut-and-linocut?page=39 HTTP/1.1\" 200 None\n",
            "https://www.artsy.net:443 \"GET /gene/woodcut-and-linocut?page=40 HTTP/1.1\" 200 None\n",
            "https://www.artsy.net:443 \"GET /gene/woodcut-and-linocut?page=41 HTTP/1.1\" 200 None\n",
            "https://www.artsy.net:443 \"GET /gene/woodcut-and-linocut?page=42 HTTP/1.1\" 200 None\n",
            "https://www.artsy.net:443 \"GET /gene/woodcut-and-linocut?page=43 HTTP/1.1\" 200 None\n",
            "https://www.artsy.net:443 \"GET /gene/woodcut-and-linocut?page=44 HTTP/1.1\" 200 None\n",
            "https://www.artsy.net:443 \"GET /gene/woodcut-and-linocut?page=45 HTTP/1.1\" 200 None\n",
            "https://www.artsy.net:443 \"GET /gene/woodcut-and-linocut?page=46 HTTP/1.1\" 200 None\n",
            "https://www.artsy.net:443 \"GET /gene/woodcut-and-linocut?page=47 HTTP/1.1\" 200 None\n",
            "https://www.artsy.net:443 \"GET /gene/woodcut-and-linocut?page=48 HTTP/1.1\" 200 None\n",
            "https://www.artsy.net:443 \"GET /gene/woodcut-and-linocut?page=49 HTTP/1.1\" 200 None\n",
            "https://www.artsy.net:443 \"GET /gene/woodcut-and-linocut?page=50 HTTP/1.1\" 200 None\n",
            "https://www.artsy.net:443 \"GET /gene/woodcut-and-linocut?page=51 HTTP/1.1\" 200 None\n",
            "https://www.artsy.net:443 \"GET /gene/woodcut-and-linocut?page=52 HTTP/1.1\" 200 None\n",
            "https://www.artsy.net:443 \"GET /gene/woodcut-and-linocut?page=53 HTTP/1.1\" 200 None\n",
            "https://www.artsy.net:443 \"GET /gene/woodcut-and-linocut?page=54 HTTP/1.1\" 200 None\n",
            "https://www.artsy.net:443 \"GET /gene/woodcut-and-linocut?page=55 HTTP/1.1\" 200 None\n",
            "https://www.artsy.net:443 \"GET /gene/woodcut-and-linocut?page=56 HTTP/1.1\" 200 None\n",
            "https://www.artsy.net:443 \"GET /gene/woodcut-and-linocut?page=57 HTTP/1.1\" 200 None\n",
            "https://www.artsy.net:443 \"GET /gene/woodcut-and-linocut?page=58 HTTP/1.1\" 200 None\n",
            "https://www.artsy.net:443 \"GET /gene/woodcut-and-linocut?page=59 HTTP/1.1\" 200 None\n",
            "https://www.artsy.net:443 \"GET /gene/woodcut-and-linocut?page=60 HTTP/1.1\" 200 None\n",
            "https://www.artsy.net:443 \"GET /gene/woodcut-and-linocut?page=61 HTTP/1.1\" 200 None\n",
            "https://www.artsy.net:443 \"GET /gene/woodcut-and-linocut?page=62 HTTP/1.1\" 200 None\n",
            "https://www.artsy.net:443 \"GET /gene/woodcut-and-linocut?page=63 HTTP/1.1\" 200 None\n",
            "https://www.artsy.net:443 \"GET /gene/woodcut-and-linocut?page=64 HTTP/1.1\" 200 None\n",
            "https://www.artsy.net:443 \"GET /gene/woodcut-and-linocut?page=65 HTTP/1.1\" 200 None\n",
            "https://www.artsy.net:443 \"GET /gene/woodcut-and-linocut?page=66 HTTP/1.1\" 200 None\n",
            "https://www.artsy.net:443 \"GET /gene/woodcut-and-linocut?page=67 HTTP/1.1\" 200 None\n",
            "https://www.artsy.net:443 \"GET /gene/woodcut-and-linocut?page=68 HTTP/1.1\" 200 None\n",
            "https://www.artsy.net:443 \"GET /gene/woodcut-and-linocut?page=69 HTTP/1.1\" 200 None\n",
            "https://www.artsy.net:443 \"GET /gene/woodcut-and-linocut?page=70 HTTP/1.1\" 200 None\n",
            "https://www.artsy.net:443 \"GET /gene/woodcut-and-linocut?page=71 HTTP/1.1\" 200 None\n",
            "https://www.artsy.net:443 \"GET /gene/woodcut-and-linocut?page=72 HTTP/1.1\" 200 None\n",
            "https://www.artsy.net:443 \"GET /gene/woodcut-and-linocut?page=73 HTTP/1.1\" 200 None\n",
            "https://www.artsy.net:443 \"GET /gene/woodcut-and-linocut?page=74 HTTP/1.1\" 200 None\n",
            "https://www.artsy.net:443 \"GET /gene/woodcut-and-linocut?page=75 HTTP/1.1\" 200 None\n",
            "https://www.artsy.net:443 \"GET /gene/woodcut-and-linocut?page=76 HTTP/1.1\" 200 None\n",
            "https://www.artsy.net:443 \"GET /gene/woodcut-and-linocut?page=77 HTTP/1.1\" 200 None\n",
            "https://www.artsy.net:443 \"GET /gene/woodcut-and-linocut?page=78 HTTP/1.1\" 200 None\n",
            "https://www.artsy.net:443 \"GET /gene/woodcut-and-linocut?page=79 HTTP/1.1\" 200 None\n",
            "https://www.artsy.net:443 \"GET /gene/woodcut-and-linocut?page=80 HTTP/1.1\" 200 None\n",
            "https://www.artsy.net:443 \"GET /gene/woodcut-and-linocut?page=81 HTTP/1.1\" 200 None\n",
            "https://www.artsy.net:443 \"GET /gene/woodcut-and-linocut?page=82 HTTP/1.1\" 200 None\n",
            "https://www.artsy.net:443 \"GET /gene/woodcut-and-linocut?page=83 HTTP/1.1\" 200 None\n",
            "https://www.artsy.net:443 \"GET /gene/woodcut-and-linocut?page=84 HTTP/1.1\" 200 None\n",
            "https://www.artsy.net:443 \"GET /gene/woodcut-and-linocut?page=85 HTTP/1.1\" 200 None\n",
            "https://www.artsy.net:443 \"GET /gene/woodcut-and-linocut?page=86 HTTP/1.1\" 200 None\n",
            "https://www.artsy.net:443 \"GET /gene/woodcut-and-linocut?page=87 HTTP/1.1\" 200 None\n",
            "https://www.artsy.net:443 \"GET /gene/woodcut-and-linocut?page=88 HTTP/1.1\" 200 None\n",
            "https://www.artsy.net:443 \"GET /gene/woodcut-and-linocut?page=89 HTTP/1.1\" 200 None\n",
            "https://www.artsy.net:443 \"GET /gene/woodcut-and-linocut?page=90 HTTP/1.1\" 200 None\n",
            "https://www.artsy.net:443 \"GET /gene/woodcut-and-linocut?page=91 HTTP/1.1\" 200 None\n",
            "https://www.artsy.net:443 \"GET /gene/woodcut-and-linocut?page=92 HTTP/1.1\" 200 None\n",
            "https://www.artsy.net:443 \"GET /gene/woodcut-and-linocut?page=93 HTTP/1.1\" 200 None\n",
            "https://www.artsy.net:443 \"GET /gene/woodcut-and-linocut?page=94 HTTP/1.1\" 200 None\n",
            "https://www.artsy.net:443 \"GET /gene/woodcut-and-linocut?page=95 HTTP/1.1\" 200 None\n",
            "https://www.artsy.net:443 \"GET /gene/woodcut-and-linocut?page=96 HTTP/1.1\" 200 None\n",
            "https://www.artsy.net:443 \"GET /gene/woodcut-and-linocut?page=97 HTTP/1.1\" 200 None\n",
            "https://www.artsy.net:443 \"GET /gene/woodcut-and-linocut?page=98 HTTP/1.1\" 200 None\n",
            "https://www.artsy.net:443 \"GET /gene/woodcut-and-linocut?page=99 HTTP/1.1\" 200 None\n",
            "https://www.artsy.net:443 \"GET /gene/woodcut-and-linocut?page=100 HTTP/1.1\" 200 None\n"
          ]
        },
        {
          "output_type": "stream",
          "name": "stdout",
          "text": [
            "Parsing of gene 06174 https://www.artsy.net/gene/woodcut-and-linocut has finished\n",
            "2924.5840270519257 seconds have passed\n",
            "13:30:57.907705\n",
            "\n"
          ]
        },
        {
          "output_type": "stream",
          "name": "stderr",
          "text": [
            "Starting new HTTPS connection (1): www.artsy.net:443\n"
          ]
        },
        {
          "output_type": "stream",
          "name": "stdout",
          "text": [
            "Parsing of gene 06175 https://www.artsy.net/gene/work-on-paper has started\n"
          ]
        },
        {
          "output_type": "stream",
          "name": "stderr",
          "text": [
            "https://www.artsy.net:443 \"GET /gene/work-on-paper HTTP/1.1\" 200 None\n"
          ]
        },
        {
          "output_type": "stream",
          "name": "stdout",
          "text": [
            "100 pages for parsing\n"
          ]
        },
        {
          "output_type": "stream",
          "name": "stderr",
          "text": [
            "https://www.artsy.net:443 \"GET /gene/work-on-paper?page=2 HTTP/1.1\" 200 None\n",
            "https://www.artsy.net:443 \"GET /gene/work-on-paper?page=3 HTTP/1.1\" 200 None\n",
            "https://www.artsy.net:443 \"GET /gene/work-on-paper?page=4 HTTP/1.1\" 200 None\n",
            "https://www.artsy.net:443 \"GET /gene/work-on-paper?page=5 HTTP/1.1\" 200 None\n",
            "https://www.artsy.net:443 \"GET /gene/work-on-paper?page=6 HTTP/1.1\" 200 None\n",
            "https://www.artsy.net:443 \"GET /gene/work-on-paper?page=7 HTTP/1.1\" 200 None\n",
            "https://www.artsy.net:443 \"GET /gene/work-on-paper?page=8 HTTP/1.1\" 200 None\n",
            "https://www.artsy.net:443 \"GET /gene/work-on-paper?page=9 HTTP/1.1\" 200 None\n",
            "https://www.artsy.net:443 \"GET /gene/work-on-paper?page=10 HTTP/1.1\" 200 None\n",
            "https://www.artsy.net:443 \"GET /gene/work-on-paper?page=11 HTTP/1.1\" 200 None\n",
            "https://www.artsy.net:443 \"GET /gene/work-on-paper?page=12 HTTP/1.1\" 200 None\n",
            "https://www.artsy.net:443 \"GET /gene/work-on-paper?page=13 HTTP/1.1\" 200 None\n",
            "https://www.artsy.net:443 \"GET /gene/work-on-paper?page=14 HTTP/1.1\" 200 None\n",
            "https://www.artsy.net:443 \"GET /gene/work-on-paper?page=15 HTTP/1.1\" 200 None\n",
            "https://www.artsy.net:443 \"GET /gene/work-on-paper?page=16 HTTP/1.1\" 200 None\n",
            "https://www.artsy.net:443 \"GET /gene/work-on-paper?page=17 HTTP/1.1\" 200 None\n",
            "https://www.artsy.net:443 \"GET /gene/work-on-paper?page=18 HTTP/1.1\" 200 None\n",
            "https://www.artsy.net:443 \"GET /gene/work-on-paper?page=19 HTTP/1.1\" 200 None\n",
            "https://www.artsy.net:443 \"GET /gene/work-on-paper?page=20 HTTP/1.1\" 200 None\n",
            "https://www.artsy.net:443 \"GET /gene/work-on-paper?page=21 HTTP/1.1\" 200 None\n",
            "https://www.artsy.net:443 \"GET /gene/work-on-paper?page=22 HTTP/1.1\" 200 None\n",
            "https://www.artsy.net:443 \"GET /gene/work-on-paper?page=23 HTTP/1.1\" 200 None\n",
            "https://www.artsy.net:443 \"GET /gene/work-on-paper?page=24 HTTP/1.1\" 200 None\n",
            "https://www.artsy.net:443 \"GET /gene/work-on-paper?page=25 HTTP/1.1\" 200 None\n",
            "https://www.artsy.net:443 \"GET /gene/work-on-paper?page=26 HTTP/1.1\" 200 None\n",
            "https://www.artsy.net:443 \"GET /gene/work-on-paper?page=27 HTTP/1.1\" 200 None\n",
            "https://www.artsy.net:443 \"GET /gene/work-on-paper?page=28 HTTP/1.1\" 200 None\n",
            "https://www.artsy.net:443 \"GET /gene/work-on-paper?page=29 HTTP/1.1\" 200 None\n",
            "https://www.artsy.net:443 \"GET /gene/work-on-paper?page=30 HTTP/1.1\" 200 None\n",
            "https://www.artsy.net:443 \"GET /gene/work-on-paper?page=31 HTTP/1.1\" 200 None\n",
            "https://www.artsy.net:443 \"GET /gene/work-on-paper?page=32 HTTP/1.1\" 200 None\n",
            "https://www.artsy.net:443 \"GET /gene/work-on-paper?page=33 HTTP/1.1\" 200 None\n",
            "https://www.artsy.net:443 \"GET /gene/work-on-paper?page=34 HTTP/1.1\" 200 None\n",
            "https://www.artsy.net:443 \"GET /gene/work-on-paper?page=35 HTTP/1.1\" 200 None\n",
            "https://www.artsy.net:443 \"GET /gene/work-on-paper?page=36 HTTP/1.1\" 200 None\n",
            "https://www.artsy.net:443 \"GET /gene/work-on-paper?page=37 HTTP/1.1\" 200 None\n",
            "https://www.artsy.net:443 \"GET /gene/work-on-paper?page=38 HTTP/1.1\" 200 None\n",
            "https://www.artsy.net:443 \"GET /gene/work-on-paper?page=39 HTTP/1.1\" 200 None\n",
            "https://www.artsy.net:443 \"GET /gene/work-on-paper?page=40 HTTP/1.1\" 200 None\n",
            "https://www.artsy.net:443 \"GET /gene/work-on-paper?page=41 HTTP/1.1\" 200 None\n",
            "https://www.artsy.net:443 \"GET /gene/work-on-paper?page=42 HTTP/1.1\" 200 None\n",
            "https://www.artsy.net:443 \"GET /gene/work-on-paper?page=43 HTTP/1.1\" 200 None\n",
            "https://www.artsy.net:443 \"GET /gene/work-on-paper?page=44 HTTP/1.1\" 200 None\n",
            "https://www.artsy.net:443 \"GET /gene/work-on-paper?page=45 HTTP/1.1\" 200 None\n",
            "https://www.artsy.net:443 \"GET /gene/work-on-paper?page=46 HTTP/1.1\" 200 None\n",
            "https://www.artsy.net:443 \"GET /gene/work-on-paper?page=47 HTTP/1.1\" 200 None\n",
            "https://www.artsy.net:443 \"GET /gene/work-on-paper?page=48 HTTP/1.1\" 200 None\n",
            "https://www.artsy.net:443 \"GET /gene/work-on-paper?page=49 HTTP/1.1\" 200 None\n",
            "https://www.artsy.net:443 \"GET /gene/work-on-paper?page=50 HTTP/1.1\" 200 None\n",
            "https://www.artsy.net:443 \"GET /gene/work-on-paper?page=51 HTTP/1.1\" 200 None\n",
            "https://www.artsy.net:443 \"GET /gene/work-on-paper?page=52 HTTP/1.1\" 200 None\n",
            "https://www.artsy.net:443 \"GET /gene/work-on-paper?page=53 HTTP/1.1\" 200 None\n",
            "https://www.artsy.net:443 \"GET /gene/work-on-paper?page=54 HTTP/1.1\" 200 None\n",
            "https://www.artsy.net:443 \"GET /gene/work-on-paper?page=55 HTTP/1.1\" 200 None\n",
            "https://www.artsy.net:443 \"GET /gene/work-on-paper?page=56 HTTP/1.1\" 200 None\n",
            "https://www.artsy.net:443 \"GET /gene/work-on-paper?page=57 HTTP/1.1\" 200 None\n",
            "https://www.artsy.net:443 \"GET /gene/work-on-paper?page=58 HTTP/1.1\" 200 None\n",
            "https://www.artsy.net:443 \"GET /gene/work-on-paper?page=59 HTTP/1.1\" 200 None\n",
            "https://www.artsy.net:443 \"GET /gene/work-on-paper?page=60 HTTP/1.1\" 200 None\n",
            "https://www.artsy.net:443 \"GET /gene/work-on-paper?page=61 HTTP/1.1\" 200 None\n",
            "https://www.artsy.net:443 \"GET /gene/work-on-paper?page=62 HTTP/1.1\" 200 None\n",
            "https://www.artsy.net:443 \"GET /gene/work-on-paper?page=63 HTTP/1.1\" 200 None\n",
            "https://www.artsy.net:443 \"GET /gene/work-on-paper?page=64 HTTP/1.1\" 200 None\n",
            "https://www.artsy.net:443 \"GET /gene/work-on-paper?page=65 HTTP/1.1\" 200 None\n",
            "https://www.artsy.net:443 \"GET /gene/work-on-paper?page=66 HTTP/1.1\" 200 None\n",
            "https://www.artsy.net:443 \"GET /gene/work-on-paper?page=67 HTTP/1.1\" 200 None\n",
            "https://www.artsy.net:443 \"GET /gene/work-on-paper?page=68 HTTP/1.1\" 200 None\n",
            "https://www.artsy.net:443 \"GET /gene/work-on-paper?page=69 HTTP/1.1\" 200 None\n",
            "https://www.artsy.net:443 \"GET /gene/work-on-paper?page=70 HTTP/1.1\" 200 None\n",
            "https://www.artsy.net:443 \"GET /gene/work-on-paper?page=71 HTTP/1.1\" 200 None\n",
            "https://www.artsy.net:443 \"GET /gene/work-on-paper?page=72 HTTP/1.1\" 200 None\n",
            "https://www.artsy.net:443 \"GET /gene/work-on-paper?page=73 HTTP/1.1\" 200 None\n",
            "https://www.artsy.net:443 \"GET /gene/work-on-paper?page=74 HTTP/1.1\" 200 None\n",
            "https://www.artsy.net:443 \"GET /gene/work-on-paper?page=75 HTTP/1.1\" 200 None\n",
            "https://www.artsy.net:443 \"GET /gene/work-on-paper?page=76 HTTP/1.1\" 200 None\n",
            "https://www.artsy.net:443 \"GET /gene/work-on-paper?page=77 HTTP/1.1\" 200 None\n",
            "https://www.artsy.net:443 \"GET /gene/work-on-paper?page=78 HTTP/1.1\" 200 None\n",
            "Starting new HTTPS connection (1): www.artsy.net:443\n",
            "https://www.artsy.net:443 \"GET /gene/work-on-paper?page=78 HTTP/1.1\" 200 None\n",
            "Resetting dropped connection: www.artsy.net\n",
            "https://www.artsy.net:443 \"GET /gene/work-on-paper?page=79 HTTP/1.1\" 200 None\n",
            "https://www.artsy.net:443 \"GET /gene/work-on-paper?page=80 HTTP/1.1\" 200 None\n",
            "https://www.artsy.net:443 \"GET /gene/work-on-paper?page=81 HTTP/1.1\" 200 None\n",
            "https://www.artsy.net:443 \"GET /gene/work-on-paper?page=82 HTTP/1.1\" 200 None\n",
            "https://www.artsy.net:443 \"GET /gene/work-on-paper?page=83 HTTP/1.1\" 200 None\n",
            "https://www.artsy.net:443 \"GET /gene/work-on-paper?page=84 HTTP/1.1\" 200 None\n",
            "https://www.artsy.net:443 \"GET /gene/work-on-paper?page=85 HTTP/1.1\" 200 None\n",
            "https://www.artsy.net:443 \"GET /gene/work-on-paper?page=86 HTTP/1.1\" 200 None\n",
            "https://www.artsy.net:443 \"GET /gene/work-on-paper?page=87 HTTP/1.1\" 200 None\n",
            "https://www.artsy.net:443 \"GET /gene/work-on-paper?page=88 HTTP/1.1\" 200 None\n",
            "https://www.artsy.net:443 \"GET /gene/work-on-paper?page=89 HTTP/1.1\" 200 None\n",
            "https://www.artsy.net:443 \"GET /gene/work-on-paper?page=90 HTTP/1.1\" 200 None\n",
            "https://www.artsy.net:443 \"GET /gene/work-on-paper?page=91 HTTP/1.1\" 200 None\n",
            "https://www.artsy.net:443 \"GET /gene/work-on-paper?page=92 HTTP/1.1\" 200 None\n",
            "https://www.artsy.net:443 \"GET /gene/work-on-paper?page=93 HTTP/1.1\" 200 None\n",
            "https://www.artsy.net:443 \"GET /gene/work-on-paper?page=94 HTTP/1.1\" 200 None\n",
            "https://www.artsy.net:443 \"GET /gene/work-on-paper?page=95 HTTP/1.1\" 200 None\n",
            "https://www.artsy.net:443 \"GET /gene/work-on-paper?page=96 HTTP/1.1\" 200 None\n",
            "https://www.artsy.net:443 \"GET /gene/work-on-paper?page=97 HTTP/1.1\" 200 None\n",
            "https://www.artsy.net:443 \"GET /gene/work-on-paper?page=98 HTTP/1.1\" 200 None\n",
            "https://www.artsy.net:443 \"GET /gene/work-on-paper?page=99 HTTP/1.1\" 200 None\n",
            "https://www.artsy.net:443 \"GET /gene/work-on-paper?page=100 HTTP/1.1\" 200 None\n"
          ]
        },
        {
          "output_type": "stream",
          "name": "stdout",
          "text": [
            "Parsing of gene 06175 https://www.artsy.net/gene/work-on-paper has finished\n",
            "3150.753273963928 seconds have passed\n",
            "13:34:44.078153\n",
            "\n"
          ]
        }
      ]
    },
    {
      "cell_type": "markdown",
      "metadata": {
        "id": "APmezNDfdn-p"
      },
      "source": [
        "Saving blocks of 50 genes' data in separate files in beckup folder. Then we'll join them together and check if some pages have been missed during the parsing."
      ]
    },
    {
      "cell_type": "code",
      "execution_count": 80,
      "metadata": {
        "colab": {
          "base_uri": "https://localhost:8080/"
        },
        "id": "XXHf8iay8mED",
        "outputId": "a7a6a818-e1ab-4dea-aff4-fb09d7bec76d"
      },
      "outputs": [
        {
          "output_type": "execute_result",
          "data": {
            "text/plain": [
              "['/artsy_temp_data_2022-04-06 07:01:26.758130.csv',\n",
              " '/artsy_temp_data_2022-04-06 07:19:01.562291.csv',\n",
              " '/artsy_temp_data_2022-04-06 08:35:48.400500.csv',\n",
              " '/artsy_temp_data_2022-04-06 10:31:00.254918.csv',\n",
              " '/artsy_temp_data_2022-04-06 11:58:44.750998.csv',\n",
              " '/artsy_temp_data_2022-04-06 12:41:26.025146.csv',\n",
              " '/artsy_temp_data_2022-04-06 13:34:44.996171.csv']"
            ]
          },
          "metadata": {},
          "execution_count": 80
        }
      ],
      "source": [
        "backup_names"
      ]
    },
    {
      "cell_type": "markdown",
      "source": [
        "#### Addition and Updating"
      ],
      "metadata": {
        "id": "4ZdNrih8--Ga"
      }
    },
    {
      "cell_type": "code",
      "source": [
        "df_temp_data_old = open_file_csv(temp_data, 'live') # 3. Open file.csv\n",
        "#  8.1 Get the first pages category data into DataFrame\n",
        "df_temp_data_new = get_df_data_add_up(df_temp_data_old, genes_links_list, genes_ids_list, cat)\n",
        "#                  get_df_data_add_up(df_input, genes_links_list, genes_ids_list, cat) ->\n",
        "# -> df_output\n",
        "save_df_file(df_temp_data_new, temp_data, 'live') # 4. Save df to csv file\n",
        "\n",
        "new_name_csv = temp_data.replace('.csv', '') + '_' + str(datetime.now()) + '.csv'\n",
        "backup_names.append(new_name_csv)\n",
        "save_df_file(df_temp_data_new, new_name_csv, 'backup') # 4. Save df to csv file"
      ],
      "metadata": {
        "id": "8XZ3J9vY--8T"
      },
      "execution_count": null,
      "outputs": []
    },
    {
      "cell_type": "code",
      "source": [
        "backup_names"
      ],
      "metadata": {
        "id": "7LUgK0dU_nmD"
      },
      "execution_count": null,
      "outputs": []
    },
    {
      "cell_type": "markdown",
      "source": [
        "### Errors' parsing checking"
      ],
      "metadata": {
        "id": "me4LMXLpJXpb"
      }
    },
    {
      "cell_type": "markdown",
      "source": [
        "Checking the completeness of a new data after collecting error genes"
      ],
      "metadata": {
        "id": "oITqsRGGGN5v"
      }
    },
    {
      "cell_type": "code",
      "execution_count": null,
      "metadata": {
        "id": "NkPoZBrRWqSC"
      },
      "outputs": [],
      "source": [
        "#df_temp_data_new_1 = open_file_csv('/artsy_temp_data_2022-04-02 10:08:12.779350.csv', 'backup') # 3. Open file.csv\n",
        "#df_temp_data_new_2 = open_file_csv('/artsy_temp_data_2022-04-04 11:49:43.338279.csv', 'backup') # 3. Open file.csv"
      ]
    },
    {
      "cell_type": "code",
      "source": [
        "#df_temp_data_new_1 = df_temp_data_new_1.dropna(subset=['artsy_id'], axis=0)\n",
        "#df_temp_data_new = pd.concat([df_temp_data_new_1, df_temp_data_new_2])\n",
        "\n",
        "#df_temp_data_new['category_id'] = df_temp_data_new['category_id'].dropna().apply(lambda x: str(x) if len(str(x))==cat_id_len else ('0'*(cat_id_len-len(str(x)))+str(x)))\n",
        "#df_temp_data_new['gene_id'] = df_temp_data_new['gene_id'].dropna().apply(lambda x: str(x) if len(str(x))==gen_id_len else ('0'*(gen_id_len-len(str(x)))+str(x)))"
      ],
      "metadata": {
        "id": "22dltH5sFjSf"
      },
      "execution_count": null,
      "outputs": []
    },
    {
      "cell_type": "code",
      "execution_count": 59,
      "metadata": {
        "colab": {
          "base_uri": "https://localhost:8080/"
        },
        "id": "EeiojKpsGTWX",
        "outputId": "ff3bc338-1728-4630-9b97-f1e53079f99a"
      },
      "outputs": [
        {
          "output_type": "stream",
          "name": "stdout",
          "text": [
            "<class 'pandas.core.frame.DataFrame'>\n",
            "Int64Index: 1062 entries, 0 to 11\n",
            "Data columns (total 11 columns):\n",
            " #   Column         Non-Null Count  Dtype \n",
            "---  ------         --------------  ----- \n",
            " 0   artsy_id       1062 non-null   object\n",
            " 1   name           1062 non-null   object\n",
            " 2   link           1062 non-null   object\n",
            " 3   year           1054 non-null   object\n",
            " 4   artist         1062 non-null   object\n",
            " 5   gallery        1062 non-null   object\n",
            " 6   price          1062 non-null   object\n",
            " 7   gene_id        1062 non-null   object\n",
            " 8   category_id    1062 non-null   object\n",
            " 9   parsing_date   1062 non-null   object\n",
            " 10  updating_date  1062 non-null   object\n",
            "dtypes: object(11)\n",
            "memory usage: 99.6+ KB\n"
          ]
        }
      ],
      "source": [
        "df_temp_data_new.info()"
      ]
    },
    {
      "cell_type": "markdown",
      "source": [
        "Everything is correct in case of empty df."
      ],
      "metadata": {
        "id": "p1Khg-NYI947"
      }
    },
    {
      "cell_type": "code",
      "execution_count": null,
      "metadata": {
        "colab": {
          "base_uri": "https://localhost:8080/",
          "height": 49
        },
        "id": "Q0EGWX07GaY0",
        "outputId": "ae5de27c-5c3d-4335-ec55-3d212d2fd779"
      },
      "outputs": [
        {
          "output_type": "execute_result",
          "data": {
            "text/plain": [
              "Empty DataFrame\n",
              "Columns: [artsy_id, name, link, year, artist, gallery, price, gene_id, category_id, parsing_date, updating_date]\n",
              "Index: []"
            ],
            "text/html": [
              "\n",
              "  <div id=\"df-da115cae-3155-4bf8-87b1-b9efd306a8ec\">\n",
              "    <div class=\"colab-df-container\">\n",
              "      <div>\n",
              "<style scoped>\n",
              "    .dataframe tbody tr th:only-of-type {\n",
              "        vertical-align: middle;\n",
              "    }\n",
              "\n",
              "    .dataframe tbody tr th {\n",
              "        vertical-align: top;\n",
              "    }\n",
              "\n",
              "    .dataframe thead th {\n",
              "        text-align: right;\n",
              "    }\n",
              "</style>\n",
              "<table border=\"1\" class=\"dataframe\">\n",
              "  <thead>\n",
              "    <tr style=\"text-align: right;\">\n",
              "      <th></th>\n",
              "      <th>artsy_id</th>\n",
              "      <th>name</th>\n",
              "      <th>link</th>\n",
              "      <th>year</th>\n",
              "      <th>artist</th>\n",
              "      <th>gallery</th>\n",
              "      <th>price</th>\n",
              "      <th>gene_id</th>\n",
              "      <th>category_id</th>\n",
              "      <th>parsing_date</th>\n",
              "      <th>updating_date</th>\n",
              "    </tr>\n",
              "  </thead>\n",
              "  <tbody>\n",
              "  </tbody>\n",
              "</table>\n",
              "</div>\n",
              "      <button class=\"colab-df-convert\" onclick=\"convertToInteractive('df-da115cae-3155-4bf8-87b1-b9efd306a8ec')\"\n",
              "              title=\"Convert this dataframe to an interactive table.\"\n",
              "              style=\"display:none;\">\n",
              "        \n",
              "  <svg xmlns=\"http://www.w3.org/2000/svg\" height=\"24px\"viewBox=\"0 0 24 24\"\n",
              "       width=\"24px\">\n",
              "    <path d=\"M0 0h24v24H0V0z\" fill=\"none\"/>\n",
              "    <path d=\"M18.56 5.44l.94 2.06.94-2.06 2.06-.94-2.06-.94-.94-2.06-.94 2.06-2.06.94zm-11 1L8.5 8.5l.94-2.06 2.06-.94-2.06-.94L8.5 2.5l-.94 2.06-2.06.94zm10 10l.94 2.06.94-2.06 2.06-.94-2.06-.94-.94-2.06-.94 2.06-2.06.94z\"/><path d=\"M17.41 7.96l-1.37-1.37c-.4-.4-.92-.59-1.43-.59-.52 0-1.04.2-1.43.59L10.3 9.45l-7.72 7.72c-.78.78-.78 2.05 0 2.83L4 21.41c.39.39.9.59 1.41.59.51 0 1.02-.2 1.41-.59l7.78-7.78 2.81-2.81c.8-.78.8-2.07 0-2.86zM5.41 20L4 18.59l7.72-7.72 1.47 1.35L5.41 20z\"/>\n",
              "  </svg>\n",
              "      </button>\n",
              "      \n",
              "  <style>\n",
              "    .colab-df-container {\n",
              "      display:flex;\n",
              "      flex-wrap:wrap;\n",
              "      gap: 12px;\n",
              "    }\n",
              "\n",
              "    .colab-df-convert {\n",
              "      background-color: #E8F0FE;\n",
              "      border: none;\n",
              "      border-radius: 50%;\n",
              "      cursor: pointer;\n",
              "      display: none;\n",
              "      fill: #1967D2;\n",
              "      height: 32px;\n",
              "      padding: 0 0 0 0;\n",
              "      width: 32px;\n",
              "    }\n",
              "\n",
              "    .colab-df-convert:hover {\n",
              "      background-color: #E2EBFA;\n",
              "      box-shadow: 0px 1px 2px rgba(60, 64, 67, 0.3), 0px 1px 3px 1px rgba(60, 64, 67, 0.15);\n",
              "      fill: #174EA6;\n",
              "    }\n",
              "\n",
              "    [theme=dark] .colab-df-convert {\n",
              "      background-color: #3B4455;\n",
              "      fill: #D2E3FC;\n",
              "    }\n",
              "\n",
              "    [theme=dark] .colab-df-convert:hover {\n",
              "      background-color: #434B5C;\n",
              "      box-shadow: 0px 1px 3px 1px rgba(0, 0, 0, 0.15);\n",
              "      filter: drop-shadow(0px 1px 2px rgba(0, 0, 0, 0.3));\n",
              "      fill: #FFFFFF;\n",
              "    }\n",
              "  </style>\n",
              "\n",
              "      <script>\n",
              "        const buttonEl =\n",
              "          document.querySelector('#df-da115cae-3155-4bf8-87b1-b9efd306a8ec button.colab-df-convert');\n",
              "        buttonEl.style.display =\n",
              "          google.colab.kernel.accessAllowed ? 'block' : 'none';\n",
              "\n",
              "        async function convertToInteractive(key) {\n",
              "          const element = document.querySelector('#df-da115cae-3155-4bf8-87b1-b9efd306a8ec');\n",
              "          const dataTable =\n",
              "            await google.colab.kernel.invokeFunction('convertToInteractive',\n",
              "                                                     [key], {});\n",
              "          if (!dataTable) return;\n",
              "\n",
              "          const docLinkHtml = 'Like what you see? Visit the ' +\n",
              "            '<a target=\"_blank\" href=https://colab.research.google.com/notebooks/data_table.ipynb>data table notebook</a>'\n",
              "            + ' to learn more about interactive tables.';\n",
              "          element.innerHTML = '';\n",
              "          dataTable['output_type'] = 'display_data';\n",
              "          await google.colab.output.renderOutput(dataTable, element);\n",
              "          const docLink = document.createElement('div');\n",
              "          docLink.innerHTML = docLinkHtml;\n",
              "          element.appendChild(docLink);\n",
              "        }\n",
              "      </script>\n",
              "    </div>\n",
              "  </div>\n",
              "  "
            ]
          },
          "metadata": {},
          "execution_count": 26
        }
      ],
      "source": [
        "df_temp_data_new.loc[df_temp_data_new['artsy_id'].isna()==True]"
      ]
    },
    {
      "cell_type": "code",
      "execution_count": null,
      "metadata": {
        "colab": {
          "base_uri": "https://localhost:8080/",
          "height": 409
        },
        "id": "sDAWriESwJjd",
        "outputId": "b8275264-6344-40f9-a0e6-e8ade70398ff"
      },
      "outputs": [
        {
          "data": {
            "text/html": [
              "\n",
              "  <div id=\"df-62dd1657-cb86-431c-9f19-b6c2546837f7\">\n",
              "    <div class=\"colab-df-container\">\n",
              "      <div>\n",
              "<style scoped>\n",
              "    .dataframe tbody tr th:only-of-type {\n",
              "        vertical-align: middle;\n",
              "    }\n",
              "\n",
              "    .dataframe tbody tr th {\n",
              "        vertical-align: top;\n",
              "    }\n",
              "\n",
              "    .dataframe thead th {\n",
              "        text-align: right;\n",
              "    }\n",
              "</style>\n",
              "<table border=\"1\" class=\"dataframe\">\n",
              "  <thead>\n",
              "    <tr style=\"text-align: right;\">\n",
              "      <th></th>\n",
              "      <th>artsy_id</th>\n",
              "      <th>name</th>\n",
              "      <th>link</th>\n",
              "      <th>year</th>\n",
              "      <th>artist</th>\n",
              "      <th>gallery</th>\n",
              "      <th>price</th>\n",
              "      <th>gene_id</th>\n",
              "      <th>category_id</th>\n",
              "      <th>parsing_date</th>\n",
              "      <th>updating_date</th>\n",
              "    </tr>\n",
              "  </thead>\n",
              "  <tbody>\n",
              "    <tr>\n",
              "      <th>4809</th>\n",
              "      <td>56eaaa62cd530e658b00023c</td>\n",
              "      <td>Untitled 730</td>\n",
              "      <td>https://d7hftxdivxxvm.cloudfront.net?resize_to...</td>\n",
              "      <td>2015</td>\n",
              "      <td>Françoise Nielly</td>\n",
              "      <td>Villa del Arte Galleries</td>\n",
              "      <td>€27,600</td>\n",
              "      <td>02061</td>\n",
              "      <td>02</td>\n",
              "      <td>2022-04-02</td>\n",
              "      <td>2022-04-02</td>\n",
              "    </tr>\n",
              "    <tr>\n",
              "      <th>4810</th>\n",
              "      <td>56eaaa45b202a3658800039f</td>\n",
              "      <td>Wesley</td>\n",
              "      <td>https://d7hftxdivxxvm.cloudfront.net?resize_to...</td>\n",
              "      <td>2008</td>\n",
              "      <td>Françoise Nielly</td>\n",
              "      <td>Villa del Arte Galleries</td>\n",
              "      <td>€48,490</td>\n",
              "      <td>02061</td>\n",
              "      <td>02</td>\n",
              "      <td>2022-04-02</td>\n",
              "      <td>2022-04-02</td>\n",
              "    </tr>\n",
              "    <tr>\n",
              "      <th>4811</th>\n",
              "      <td>56bceac76d932d46410000d1</td>\n",
              "      <td>Selves Portrait</td>\n",
              "      <td>https://d7hftxdivxxvm.cloudfront.net?resize_to...</td>\n",
              "      <td>2015</td>\n",
              "      <td>Phillip Thomas</td>\n",
              "      <td>RJD Gallery</td>\n",
              "      <td>US$28,000</td>\n",
              "      <td>02061</td>\n",
              "      <td>02</td>\n",
              "      <td>2022-04-02</td>\n",
              "      <td>2022-04-02</td>\n",
              "    </tr>\n",
              "    <tr>\n",
              "      <th>4812</th>\n",
              "      <td>5425efc672616935b3af0400</td>\n",
              "      <td>Marisa Virgin Gorda</td>\n",
              "      <td>https://d7hftxdivxxvm.cloudfront.net?resize_to...</td>\n",
              "      <td>2002</td>\n",
              "      <td>Russell James</td>\n",
              "      <td>NTW Gallery</td>\n",
              "      <td>US$6,000–US$12,000</td>\n",
              "      <td>02061</td>\n",
              "      <td>02</td>\n",
              "      <td>2022-04-02</td>\n",
              "      <td>2022-04-02</td>\n",
              "    </tr>\n",
              "    <tr>\n",
              "      <th>4813</th>\n",
              "      <td>56bceac5258faf175e0000b2</td>\n",
              "      <td>Pic</td>\n",
              "      <td>https://d7hftxdivxxvm.cloudfront.net?resize_to...</td>\n",
              "      <td>2015</td>\n",
              "      <td>Phillip Thomas</td>\n",
              "      <td>RJD Gallery</td>\n",
              "      <td>US$28,000</td>\n",
              "      <td>02061</td>\n",
              "      <td>02</td>\n",
              "      <td>2022-04-02</td>\n",
              "      <td>2022-04-02</td>\n",
              "    </tr>\n",
              "  </tbody>\n",
              "</table>\n",
              "</div>\n",
              "      <button class=\"colab-df-convert\" onclick=\"convertToInteractive('df-62dd1657-cb86-431c-9f19-b6c2546837f7')\"\n",
              "              title=\"Convert this dataframe to an interactive table.\"\n",
              "              style=\"display:none;\">\n",
              "        \n",
              "  <svg xmlns=\"http://www.w3.org/2000/svg\" height=\"24px\"viewBox=\"0 0 24 24\"\n",
              "       width=\"24px\">\n",
              "    <path d=\"M0 0h24v24H0V0z\" fill=\"none\"/>\n",
              "    <path d=\"M18.56 5.44l.94 2.06.94-2.06 2.06-.94-2.06-.94-.94-2.06-.94 2.06-2.06.94zm-11 1L8.5 8.5l.94-2.06 2.06-.94-2.06-.94L8.5 2.5l-.94 2.06-2.06.94zm10 10l.94 2.06.94-2.06 2.06-.94-2.06-.94-.94-2.06-.94 2.06-2.06.94z\"/><path d=\"M17.41 7.96l-1.37-1.37c-.4-.4-.92-.59-1.43-.59-.52 0-1.04.2-1.43.59L10.3 9.45l-7.72 7.72c-.78.78-.78 2.05 0 2.83L4 21.41c.39.39.9.59 1.41.59.51 0 1.02-.2 1.41-.59l7.78-7.78 2.81-2.81c.8-.78.8-2.07 0-2.86zM5.41 20L4 18.59l7.72-7.72 1.47 1.35L5.41 20z\"/>\n",
              "  </svg>\n",
              "      </button>\n",
              "      \n",
              "  <style>\n",
              "    .colab-df-container {\n",
              "      display:flex;\n",
              "      flex-wrap:wrap;\n",
              "      gap: 12px;\n",
              "    }\n",
              "\n",
              "    .colab-df-convert {\n",
              "      background-color: #E8F0FE;\n",
              "      border: none;\n",
              "      border-radius: 50%;\n",
              "      cursor: pointer;\n",
              "      display: none;\n",
              "      fill: #1967D2;\n",
              "      height: 32px;\n",
              "      padding: 0 0 0 0;\n",
              "      width: 32px;\n",
              "    }\n",
              "\n",
              "    .colab-df-convert:hover {\n",
              "      background-color: #E2EBFA;\n",
              "      box-shadow: 0px 1px 2px rgba(60, 64, 67, 0.3), 0px 1px 3px 1px rgba(60, 64, 67, 0.15);\n",
              "      fill: #174EA6;\n",
              "    }\n",
              "\n",
              "    [theme=dark] .colab-df-convert {\n",
              "      background-color: #3B4455;\n",
              "      fill: #D2E3FC;\n",
              "    }\n",
              "\n",
              "    [theme=dark] .colab-df-convert:hover {\n",
              "      background-color: #434B5C;\n",
              "      box-shadow: 0px 1px 3px 1px rgba(0, 0, 0, 0.15);\n",
              "      filter: drop-shadow(0px 1px 2px rgba(0, 0, 0, 0.3));\n",
              "      fill: #FFFFFF;\n",
              "    }\n",
              "  </style>\n",
              "\n",
              "      <script>\n",
              "        const buttonEl =\n",
              "          document.querySelector('#df-62dd1657-cb86-431c-9f19-b6c2546837f7 button.colab-df-convert');\n",
              "        buttonEl.style.display =\n",
              "          google.colab.kernel.accessAllowed ? 'block' : 'none';\n",
              "\n",
              "        async function convertToInteractive(key) {\n",
              "          const element = document.querySelector('#df-62dd1657-cb86-431c-9f19-b6c2546837f7');\n",
              "          const dataTable =\n",
              "            await google.colab.kernel.invokeFunction('convertToInteractive',\n",
              "                                                     [key], {});\n",
              "          if (!dataTable) return;\n",
              "\n",
              "          const docLinkHtml = 'Like what you see? Visit the ' +\n",
              "            '<a target=\"_blank\" href=https://colab.research.google.com/notebooks/data_table.ipynb>data table notebook</a>'\n",
              "            + ' to learn more about interactive tables.';\n",
              "          element.innerHTML = '';\n",
              "          dataTable['output_type'] = 'display_data';\n",
              "          await google.colab.output.renderOutput(dataTable, element);\n",
              "          const docLink = document.createElement('div');\n",
              "          docLink.innerHTML = docLinkHtml;\n",
              "          element.appendChild(docLink);\n",
              "        }\n",
              "      </script>\n",
              "    </div>\n",
              "  </div>\n",
              "  "
            ],
            "text/plain": [
              "                      artsy_id                 name  \\\n",
              "4809  56eaaa62cd530e658b00023c         Untitled 730   \n",
              "4810  56eaaa45b202a3658800039f               Wesley   \n",
              "4811  56bceac76d932d46410000d1      Selves Portrait   \n",
              "4812  5425efc672616935b3af0400  Marisa Virgin Gorda   \n",
              "4813  56bceac5258faf175e0000b2                  Pic   \n",
              "\n",
              "                                                   link  year  \\\n",
              "4809  https://d7hftxdivxxvm.cloudfront.net?resize_to...  2015   \n",
              "4810  https://d7hftxdivxxvm.cloudfront.net?resize_to...  2008   \n",
              "4811  https://d7hftxdivxxvm.cloudfront.net?resize_to...  2015   \n",
              "4812  https://d7hftxdivxxvm.cloudfront.net?resize_to...  2002   \n",
              "4813  https://d7hftxdivxxvm.cloudfront.net?resize_to...  2015   \n",
              "\n",
              "                artist                   gallery                price gene_id  \\\n",
              "4809  Françoise Nielly  Villa del Arte Galleries             €27,600    02061   \n",
              "4810  Françoise Nielly  Villa del Arte Galleries             €48,490    02061   \n",
              "4811    Phillip Thomas               RJD Gallery           US$28,000    02061   \n",
              "4812     Russell James               NTW Gallery  US$6,000–US$12,000    02061   \n",
              "4813    Phillip Thomas               RJD Gallery           US$28,000    02061   \n",
              "\n",
              "     category_id parsing_date updating_date  \n",
              "4809          02   2022-04-02    2022-04-02  \n",
              "4810          02   2022-04-02    2022-04-02  \n",
              "4811          02   2022-04-02    2022-04-02  \n",
              "4812          02   2022-04-02    2022-04-02  \n",
              "4813          02   2022-04-02    2022-04-02  "
            ]
          },
          "execution_count": 37,
          "metadata": {},
          "output_type": "execute_result"
        }
      ],
      "source": [
        "#df_temp_data_new['category_id'] = df_temp_data_new['category_id'].dropna().apply(lambda x: str(x) if len(str(x))==cat_id_len else ('0'*(cat_id_len-len(str(x)))+str(x)))\n",
        "#df_temp_data_new['gene_id'] = df_temp_data_new['gene_id'].dropna().apply(lambda x: str(x) if len(str(x))==gen_id_len else ('0'*(gen_id_len-len(str(x)))+str(x)))\n",
        "\n",
        "df_temp_data_new.loc[df_temp_data_new['gene_id']=='02061'].head()"
      ]
    },
    {
      "cell_type": "code",
      "execution_count": null,
      "metadata": {
        "colab": {
          "base_uri": "https://localhost:8080/"
        },
        "id": "p2KfxF8CwzBj",
        "outputId": "af2afce3-3d0a-4e04-8dcc-d77aad3e38da"
      },
      "outputs": [
        {
          "name": "stdout",
          "output_type": "stream",
          "text": [
            "https://www.artsy.net/gene/eye-contact\n",
            "02061\n"
          ]
        }
      ],
      "source": [
        "print(url_add + genes_links_list[60])\n",
        "print(genes_ids_list[60])"
      ]
    },
    {
      "cell_type": "code",
      "execution_count": null,
      "metadata": {
        "id": "vjCpxAHQXszL"
      },
      "outputs": [],
      "source": [
        "genes_ids_list_er = [genes_ids_list[60]]\n",
        "genes_links_list_er = [genes_links_list[60]]"
      ]
    },
    {
      "cell_type": "markdown",
      "source": [
        "### Primary parsing checking"
      ],
      "metadata": {
        "id": "ZdC9pBK-JkVs"
      }
    },
    {
      "cell_type": "markdown",
      "source": [
        "Checking the completeness of the data"
      ],
      "metadata": {
        "id": "oHgl1Dd5GIt2"
      }
    },
    {
      "cell_type": "code",
      "execution_count": null,
      "metadata": {
        "colab": {
          "base_uri": "https://localhost:8080/"
        },
        "id": "AIpIPtofra4-",
        "outputId": "5c5daae5-7cf5-427b-a9a0-1de4f97f8174"
      },
      "outputs": [
        {
          "data": {
            "text/plain": [
              "['/artsy_temp_data_2022-04-02 05:00:45.611793.csv',\n",
              " '/artsy_temp_data_2022-04-02 06:13:31.079731.csv',\n",
              " '/artsy_temp_data_2022-04-02 07:33:47.918499.csv',\n",
              " '/artsy_temp_data_2022-04-02 08:46:26.043191.csv',\n",
              " '/artsy_temp_data_2022-04-02 09:13:50.131075.csv']"
            ]
          },
          "execution_count": 34,
          "metadata": {},
          "output_type": "execute_result"
        }
      ],
      "source": [
        "backup_names"
      ]
    },
    {
      "cell_type": "code",
      "execution_count": null,
      "metadata": {
        "id": "WLTg1ENsUO92"
      },
      "outputs": [],
      "source": [
        "backup_names = ['/artsy_temp_data_2022-04-02 05:00:45.611793.csv',\n",
        "                '/artsy_temp_data_2022-04-02 06:13:31.079731.csv',\n",
        "                '/artsy_temp_data_2022-04-02 07:33:47.918499.csv',\n",
        "                '/artsy_temp_data_2022-04-02 08:46:26.043191.csv',\n",
        "                '/artsy_temp_data_2022-04-02 09:13:50.131075.csv']"
      ]
    },
    {
      "cell_type": "code",
      "execution_count": null,
      "metadata": {
        "colab": {
          "base_uri": "https://localhost:8080/"
        },
        "id": "kmzWTP3XS26u",
        "outputId": "29e0bb49-bdd1-4652-9055-3686751d7ced"
      },
      "outputs": [
        {
          "output_type": "stream",
          "name": "stdout",
          "text": [
            "<class 'pandas.core.frame.DataFrame'>\n",
            "Int64Index: 275680 entries, 0 to 20027\n",
            "Data columns (total 11 columns):\n",
            " #   Column         Non-Null Count   Dtype \n",
            "---  ------         --------------   ----- \n",
            " 0   artsy_id       275675 non-null  object\n",
            " 1   name           275675 non-null  object\n",
            " 2   link           275675 non-null  object\n",
            " 3   year           262858 non-null  object\n",
            " 4   artist         275675 non-null  object\n",
            " 5   gallery        275554 non-null  object\n",
            " 6   price          275675 non-null  object\n",
            " 7   gene_id        275680 non-null  int64 \n",
            " 8   category_id    275680 non-null  int64 \n",
            " 9   parsing_date   275680 non-null  object\n",
            " 10  updating_date  275680 non-null  object\n",
            "dtypes: int64(2), object(9)\n",
            "memory usage: 25.2+ MB\n"
          ]
        }
      ],
      "source": [
        "df_cat_dat = open_file_csv(backup_names[0], 'backup') # 3. Open file.csv\n",
        "for name in backup_names[1:]:\n",
        "  df_cat_dat_part = open_file_csv(name, 'backup') # 3. Open file.csv\n",
        "  df_cat_dat = pd.concat([df_cat_dat, df_cat_dat_part])\n",
        "\n",
        "df_cat_dat.info()"
      ]
    },
    {
      "cell_type": "code",
      "execution_count": null,
      "metadata": {
        "id": "7EZgaTrbrIUp"
      },
      "outputs": [],
      "source": [
        "df_cat_dat['category_id'] = df_cat_dat['category_id'].dropna().apply(lambda x: str(x) if len(str(x))==cat_id_len else ('0'*(cat_id_len-len(str(x)))+str(x)))\n",
        "df_cat_dat['gene_id'] = df_cat_dat['gene_id'].dropna().apply(lambda x: str(x) if len(str(x))==gen_id_len else ('0'*(gen_id_len-len(str(x)))+str(x)))"
      ]
    },
    {
      "cell_type": "code",
      "execution_count": null,
      "metadata": {
        "colab": {
          "base_uri": "https://localhost:8080/",
          "height": 206
        },
        "id": "5A522XENTyD5",
        "outputId": "e4127958-0abd-4f89-f486-6bb7d2472cc8"
      },
      "outputs": [
        {
          "output_type": "execute_result",
          "data": {
            "text/plain": [
              "      artsy_id name link year artist gallery price gene_id category_id  \\\n",
              "6398       NaN  NaN  NaN  NaN    NaN     NaN   NaN   02007          02   \n",
              "6683       NaN  NaN  NaN  NaN    NaN     NaN   NaN   02061          02   \n",
              "12080      NaN  NaN  NaN  NaN    NaN     NaN   NaN   02062          02   \n",
              "51117      NaN  NaN  NaN  NaN    NaN     NaN   NaN   02137          02   \n",
              "31734      NaN  NaN  NaN  NaN    NaN     NaN   NaN   02173          02   \n",
              "\n",
              "      parsing_date updating_date  \n",
              "6398    2022-04-02    2022-04-02  \n",
              "6683    2022-04-02    2022-04-02  \n",
              "12080   2022-04-02    2022-04-02  \n",
              "51117   2022-04-02    2022-04-02  \n",
              "31734   2022-04-02    2022-04-02  "
            ],
            "text/html": [
              "\n",
              "  <div id=\"df-36841061-8ba9-4cab-ae6f-4988deabc22e\">\n",
              "    <div class=\"colab-df-container\">\n",
              "      <div>\n",
              "<style scoped>\n",
              "    .dataframe tbody tr th:only-of-type {\n",
              "        vertical-align: middle;\n",
              "    }\n",
              "\n",
              "    .dataframe tbody tr th {\n",
              "        vertical-align: top;\n",
              "    }\n",
              "\n",
              "    .dataframe thead th {\n",
              "        text-align: right;\n",
              "    }\n",
              "</style>\n",
              "<table border=\"1\" class=\"dataframe\">\n",
              "  <thead>\n",
              "    <tr style=\"text-align: right;\">\n",
              "      <th></th>\n",
              "      <th>artsy_id</th>\n",
              "      <th>name</th>\n",
              "      <th>link</th>\n",
              "      <th>year</th>\n",
              "      <th>artist</th>\n",
              "      <th>gallery</th>\n",
              "      <th>price</th>\n",
              "      <th>gene_id</th>\n",
              "      <th>category_id</th>\n",
              "      <th>parsing_date</th>\n",
              "      <th>updating_date</th>\n",
              "    </tr>\n",
              "  </thead>\n",
              "  <tbody>\n",
              "    <tr>\n",
              "      <th>6398</th>\n",
              "      <td>NaN</td>\n",
              "      <td>NaN</td>\n",
              "      <td>NaN</td>\n",
              "      <td>NaN</td>\n",
              "      <td>NaN</td>\n",
              "      <td>NaN</td>\n",
              "      <td>NaN</td>\n",
              "      <td>02007</td>\n",
              "      <td>02</td>\n",
              "      <td>2022-04-02</td>\n",
              "      <td>2022-04-02</td>\n",
              "    </tr>\n",
              "    <tr>\n",
              "      <th>6683</th>\n",
              "      <td>NaN</td>\n",
              "      <td>NaN</td>\n",
              "      <td>NaN</td>\n",
              "      <td>NaN</td>\n",
              "      <td>NaN</td>\n",
              "      <td>NaN</td>\n",
              "      <td>NaN</td>\n",
              "      <td>02061</td>\n",
              "      <td>02</td>\n",
              "      <td>2022-04-02</td>\n",
              "      <td>2022-04-02</td>\n",
              "    </tr>\n",
              "    <tr>\n",
              "      <th>12080</th>\n",
              "      <td>NaN</td>\n",
              "      <td>NaN</td>\n",
              "      <td>NaN</td>\n",
              "      <td>NaN</td>\n",
              "      <td>NaN</td>\n",
              "      <td>NaN</td>\n",
              "      <td>NaN</td>\n",
              "      <td>02062</td>\n",
              "      <td>02</td>\n",
              "      <td>2022-04-02</td>\n",
              "      <td>2022-04-02</td>\n",
              "    </tr>\n",
              "    <tr>\n",
              "      <th>51117</th>\n",
              "      <td>NaN</td>\n",
              "      <td>NaN</td>\n",
              "      <td>NaN</td>\n",
              "      <td>NaN</td>\n",
              "      <td>NaN</td>\n",
              "      <td>NaN</td>\n",
              "      <td>NaN</td>\n",
              "      <td>02137</td>\n",
              "      <td>02</td>\n",
              "      <td>2022-04-02</td>\n",
              "      <td>2022-04-02</td>\n",
              "    </tr>\n",
              "    <tr>\n",
              "      <th>31734</th>\n",
              "      <td>NaN</td>\n",
              "      <td>NaN</td>\n",
              "      <td>NaN</td>\n",
              "      <td>NaN</td>\n",
              "      <td>NaN</td>\n",
              "      <td>NaN</td>\n",
              "      <td>NaN</td>\n",
              "      <td>02173</td>\n",
              "      <td>02</td>\n",
              "      <td>2022-04-02</td>\n",
              "      <td>2022-04-02</td>\n",
              "    </tr>\n",
              "  </tbody>\n",
              "</table>\n",
              "</div>\n",
              "      <button class=\"colab-df-convert\" onclick=\"convertToInteractive('df-36841061-8ba9-4cab-ae6f-4988deabc22e')\"\n",
              "              title=\"Convert this dataframe to an interactive table.\"\n",
              "              style=\"display:none;\">\n",
              "        \n",
              "  <svg xmlns=\"http://www.w3.org/2000/svg\" height=\"24px\"viewBox=\"0 0 24 24\"\n",
              "       width=\"24px\">\n",
              "    <path d=\"M0 0h24v24H0V0z\" fill=\"none\"/>\n",
              "    <path d=\"M18.56 5.44l.94 2.06.94-2.06 2.06-.94-2.06-.94-.94-2.06-.94 2.06-2.06.94zm-11 1L8.5 8.5l.94-2.06 2.06-.94-2.06-.94L8.5 2.5l-.94 2.06-2.06.94zm10 10l.94 2.06.94-2.06 2.06-.94-2.06-.94-.94-2.06-.94 2.06-2.06.94z\"/><path d=\"M17.41 7.96l-1.37-1.37c-.4-.4-.92-.59-1.43-.59-.52 0-1.04.2-1.43.59L10.3 9.45l-7.72 7.72c-.78.78-.78 2.05 0 2.83L4 21.41c.39.39.9.59 1.41.59.51 0 1.02-.2 1.41-.59l7.78-7.78 2.81-2.81c.8-.78.8-2.07 0-2.86zM5.41 20L4 18.59l7.72-7.72 1.47 1.35L5.41 20z\"/>\n",
              "  </svg>\n",
              "      </button>\n",
              "      \n",
              "  <style>\n",
              "    .colab-df-container {\n",
              "      display:flex;\n",
              "      flex-wrap:wrap;\n",
              "      gap: 12px;\n",
              "    }\n",
              "\n",
              "    .colab-df-convert {\n",
              "      background-color: #E8F0FE;\n",
              "      border: none;\n",
              "      border-radius: 50%;\n",
              "      cursor: pointer;\n",
              "      display: none;\n",
              "      fill: #1967D2;\n",
              "      height: 32px;\n",
              "      padding: 0 0 0 0;\n",
              "      width: 32px;\n",
              "    }\n",
              "\n",
              "    .colab-df-convert:hover {\n",
              "      background-color: #E2EBFA;\n",
              "      box-shadow: 0px 1px 2px rgba(60, 64, 67, 0.3), 0px 1px 3px 1px rgba(60, 64, 67, 0.15);\n",
              "      fill: #174EA6;\n",
              "    }\n",
              "\n",
              "    [theme=dark] .colab-df-convert {\n",
              "      background-color: #3B4455;\n",
              "      fill: #D2E3FC;\n",
              "    }\n",
              "\n",
              "    [theme=dark] .colab-df-convert:hover {\n",
              "      background-color: #434B5C;\n",
              "      box-shadow: 0px 1px 3px 1px rgba(0, 0, 0, 0.15);\n",
              "      filter: drop-shadow(0px 1px 2px rgba(0, 0, 0, 0.3));\n",
              "      fill: #FFFFFF;\n",
              "    }\n",
              "  </style>\n",
              "\n",
              "      <script>\n",
              "        const buttonEl =\n",
              "          document.querySelector('#df-36841061-8ba9-4cab-ae6f-4988deabc22e button.colab-df-convert');\n",
              "        buttonEl.style.display =\n",
              "          google.colab.kernel.accessAllowed ? 'block' : 'none';\n",
              "\n",
              "        async function convertToInteractive(key) {\n",
              "          const element = document.querySelector('#df-36841061-8ba9-4cab-ae6f-4988deabc22e');\n",
              "          const dataTable =\n",
              "            await google.colab.kernel.invokeFunction('convertToInteractive',\n",
              "                                                     [key], {});\n",
              "          if (!dataTable) return;\n",
              "\n",
              "          const docLinkHtml = 'Like what you see? Visit the ' +\n",
              "            '<a target=\"_blank\" href=https://colab.research.google.com/notebooks/data_table.ipynb>data table notebook</a>'\n",
              "            + ' to learn more about interactive tables.';\n",
              "          element.innerHTML = '';\n",
              "          dataTable['output_type'] = 'display_data';\n",
              "          await google.colab.output.renderOutput(dataTable, element);\n",
              "          const docLink = document.createElement('div');\n",
              "          docLink.innerHTML = docLinkHtml;\n",
              "          element.appendChild(docLink);\n",
              "        }\n",
              "      </script>\n",
              "    </div>\n",
              "  </div>\n",
              "  "
            ]
          },
          "metadata": {},
          "execution_count": 48
        }
      ],
      "source": [
        "df_cat_dat.loc[df_cat_dat['artsy_id'].isna()==True]"
      ]
    },
    {
      "cell_type": "code",
      "execution_count": null,
      "metadata": {
        "colab": {
          "base_uri": "https://localhost:8080/",
          "height": 496
        },
        "id": "hHKqBH8nfGSC",
        "outputId": "2bd1e656-aefb-4fdc-f04d-ae44f6f1ad0e"
      },
      "outputs": [
        {
          "data": {
            "text/html": [
              "\n",
              "  <div id=\"df-d7081ee5-afcf-4225-9cf0-08b018949354\">\n",
              "    <div class=\"colab-df-container\">\n",
              "      <div>\n",
              "<style scoped>\n",
              "    .dataframe tbody tr th:only-of-type {\n",
              "        vertical-align: middle;\n",
              "    }\n",
              "\n",
              "    .dataframe tbody tr th {\n",
              "        vertical-align: top;\n",
              "    }\n",
              "\n",
              "    .dataframe thead th {\n",
              "        text-align: right;\n",
              "    }\n",
              "</style>\n",
              "<table border=\"1\" class=\"dataframe\">\n",
              "  <thead>\n",
              "    <tr style=\"text-align: right;\">\n",
              "      <th></th>\n",
              "      <th>artsy_id</th>\n",
              "      <th>name</th>\n",
              "      <th>link</th>\n",
              "      <th>year</th>\n",
              "      <th>artist</th>\n",
              "      <th>gallery</th>\n",
              "      <th>price</th>\n",
              "      <th>gene_id</th>\n",
              "      <th>category_id</th>\n",
              "      <th>parsing_date</th>\n",
              "      <th>updating_date</th>\n",
              "    </tr>\n",
              "  </thead>\n",
              "  <tbody>\n",
              "    <tr>\n",
              "      <th>4868</th>\n",
              "      <td>558acb14726169705a0000a3</td>\n",
              "      <td>Statue of Liberty</td>\n",
              "      <td>https://d7hftxdivxxvm.cloudfront.net?resize_to...</td>\n",
              "      <td>1970's</td>\n",
              "      <td>Andy Warhol</td>\n",
              "      <td>Galerie Andrea Caratsch</td>\n",
              "      <td>US$35,000</td>\n",
              "      <td>02007</td>\n",
              "      <td>02</td>\n",
              "      <td>2022-04-02</td>\n",
              "      <td>2022-04-02</td>\n",
              "    </tr>\n",
              "    <tr>\n",
              "      <th>4869</th>\n",
              "      <td>4fd66ea94c2e7b00010001a2</td>\n",
              "      <td>American House, Ghost Town, Colorado</td>\n",
              "      <td>https://d7hftxdivxxvm.cloudfront.net?resize_to...</td>\n",
              "      <td>1931</td>\n",
              "      <td>Paul Strand</td>\n",
              "      <td>Aperture Foundation</td>\n",
              "      <td>Under US$1,000</td>\n",
              "      <td>02007</td>\n",
              "      <td>02</td>\n",
              "      <td>2022-04-02</td>\n",
              "      <td>2022-04-02</td>\n",
              "    </tr>\n",
              "    <tr>\n",
              "      <th>4870</th>\n",
              "      <td>52d39d258b3b81a1070000c0</td>\n",
              "      <td>VJ Day, Times Square</td>\n",
              "      <td>https://d7hftxdivxxvm.cloudfront.net?resize_to...</td>\n",
              "      <td>1945</td>\n",
              "      <td>Alfred Eisenstaedt</td>\n",
              "      <td>GALLERY M</td>\n",
              "      <td>US$48,000</td>\n",
              "      <td>02007</td>\n",
              "      <td>02</td>\n",
              "      <td>2022-04-02</td>\n",
              "      <td>2022-04-02</td>\n",
              "    </tr>\n",
              "    <tr>\n",
              "      <th>4871</th>\n",
              "      <td>520d02d78b3b816617000489</td>\n",
              "      <td>Motel Drive, Fresno, California</td>\n",
              "      <td>https://d7hftxdivxxvm.cloudfront.net?resize_to...</td>\n",
              "      <td>1991</td>\n",
              "      <td>Jeff Brouws</td>\n",
              "      <td>Robert Klein Gallery</td>\n",
              "      <td>US$2,500–US$7,500</td>\n",
              "      <td>02007</td>\n",
              "      <td>02</td>\n",
              "      <td>2022-04-02</td>\n",
              "      <td>2022-04-02</td>\n",
              "    </tr>\n",
              "    <tr>\n",
              "      <th>4872</th>\n",
              "      <td>528fe0578b3b81821000024e</td>\n",
              "      <td>Untitled (Van Door 3)</td>\n",
              "      <td>https://d7hftxdivxxvm.cloudfront.net?resize_to...</td>\n",
              "      <td>2007</td>\n",
              "      <td>Richard Prince</td>\n",
              "      <td>Two Palms</td>\n",
              "      <td>US$350,000</td>\n",
              "      <td>02007</td>\n",
              "      <td>02</td>\n",
              "      <td>2022-04-02</td>\n",
              "      <td>2022-04-02</td>\n",
              "    </tr>\n",
              "  </tbody>\n",
              "</table>\n",
              "</div>\n",
              "      <button class=\"colab-df-convert\" onclick=\"convertToInteractive('df-d7081ee5-afcf-4225-9cf0-08b018949354')\"\n",
              "              title=\"Convert this dataframe to an interactive table.\"\n",
              "              style=\"display:none;\">\n",
              "        \n",
              "  <svg xmlns=\"http://www.w3.org/2000/svg\" height=\"24px\"viewBox=\"0 0 24 24\"\n",
              "       width=\"24px\">\n",
              "    <path d=\"M0 0h24v24H0V0z\" fill=\"none\"/>\n",
              "    <path d=\"M18.56 5.44l.94 2.06.94-2.06 2.06-.94-2.06-.94-.94-2.06-.94 2.06-2.06.94zm-11 1L8.5 8.5l.94-2.06 2.06-.94-2.06-.94L8.5 2.5l-.94 2.06-2.06.94zm10 10l.94 2.06.94-2.06 2.06-.94-2.06-.94-.94-2.06-.94 2.06-2.06.94z\"/><path d=\"M17.41 7.96l-1.37-1.37c-.4-.4-.92-.59-1.43-.59-.52 0-1.04.2-1.43.59L10.3 9.45l-7.72 7.72c-.78.78-.78 2.05 0 2.83L4 21.41c.39.39.9.59 1.41.59.51 0 1.02-.2 1.41-.59l7.78-7.78 2.81-2.81c.8-.78.8-2.07 0-2.86zM5.41 20L4 18.59l7.72-7.72 1.47 1.35L5.41 20z\"/>\n",
              "  </svg>\n",
              "      </button>\n",
              "      \n",
              "  <style>\n",
              "    .colab-df-container {\n",
              "      display:flex;\n",
              "      flex-wrap:wrap;\n",
              "      gap: 12px;\n",
              "    }\n",
              "\n",
              "    .colab-df-convert {\n",
              "      background-color: #E8F0FE;\n",
              "      border: none;\n",
              "      border-radius: 50%;\n",
              "      cursor: pointer;\n",
              "      display: none;\n",
              "      fill: #1967D2;\n",
              "      height: 32px;\n",
              "      padding: 0 0 0 0;\n",
              "      width: 32px;\n",
              "    }\n",
              "\n",
              "    .colab-df-convert:hover {\n",
              "      background-color: #E2EBFA;\n",
              "      box-shadow: 0px 1px 2px rgba(60, 64, 67, 0.3), 0px 1px 3px 1px rgba(60, 64, 67, 0.15);\n",
              "      fill: #174EA6;\n",
              "    }\n",
              "\n",
              "    [theme=dark] .colab-df-convert {\n",
              "      background-color: #3B4455;\n",
              "      fill: #D2E3FC;\n",
              "    }\n",
              "\n",
              "    [theme=dark] .colab-df-convert:hover {\n",
              "      background-color: #434B5C;\n",
              "      box-shadow: 0px 1px 3px 1px rgba(0, 0, 0, 0.15);\n",
              "      filter: drop-shadow(0px 1px 2px rgba(0, 0, 0, 0.3));\n",
              "      fill: #FFFFFF;\n",
              "    }\n",
              "  </style>\n",
              "\n",
              "      <script>\n",
              "        const buttonEl =\n",
              "          document.querySelector('#df-d7081ee5-afcf-4225-9cf0-08b018949354 button.colab-df-convert');\n",
              "        buttonEl.style.display =\n",
              "          google.colab.kernel.accessAllowed ? 'block' : 'none';\n",
              "\n",
              "        async function convertToInteractive(key) {\n",
              "          const element = document.querySelector('#df-d7081ee5-afcf-4225-9cf0-08b018949354');\n",
              "          const dataTable =\n",
              "            await google.colab.kernel.invokeFunction('convertToInteractive',\n",
              "                                                     [key], {});\n",
              "          if (!dataTable) return;\n",
              "\n",
              "          const docLinkHtml = 'Like what you see? Visit the ' +\n",
              "            '<a target=\"_blank\" href=https://colab.research.google.com/notebooks/data_table.ipynb>data table notebook</a>'\n",
              "            + ' to learn more about interactive tables.';\n",
              "          element.innerHTML = '';\n",
              "          dataTable['output_type'] = 'display_data';\n",
              "          await google.colab.output.renderOutput(dataTable, element);\n",
              "          const docLink = document.createElement('div');\n",
              "          docLink.innerHTML = docLinkHtml;\n",
              "          element.appendChild(docLink);\n",
              "        }\n",
              "      </script>\n",
              "    </div>\n",
              "  </div>\n",
              "  "
            ],
            "text/plain": [
              "                      artsy_id                                  name  \\\n",
              "4868  558acb14726169705a0000a3                     Statue of Liberty   \n",
              "4869  4fd66ea94c2e7b00010001a2  American House, Ghost Town, Colorado   \n",
              "4870  52d39d258b3b81a1070000c0                  VJ Day, Times Square   \n",
              "4871  520d02d78b3b816617000489       Motel Drive, Fresno, California   \n",
              "4872  528fe0578b3b81821000024e                 Untitled (Van Door 3)   \n",
              "\n",
              "                                                   link    year  \\\n",
              "4868  https://d7hftxdivxxvm.cloudfront.net?resize_to...  1970's   \n",
              "4869  https://d7hftxdivxxvm.cloudfront.net?resize_to...    1931   \n",
              "4870  https://d7hftxdivxxvm.cloudfront.net?resize_to...    1945   \n",
              "4871  https://d7hftxdivxxvm.cloudfront.net?resize_to...    1991   \n",
              "4872  https://d7hftxdivxxvm.cloudfront.net?resize_to...    2007   \n",
              "\n",
              "                  artist                  gallery               price gene_id  \\\n",
              "4868         Andy Warhol  Galerie Andrea Caratsch          US$35,000    02007   \n",
              "4869         Paul Strand      Aperture Foundation     Under US$1,000    02007   \n",
              "4870  Alfred Eisenstaedt                GALLERY M          US$48,000    02007   \n",
              "4871         Jeff Brouws     Robert Klein Gallery  US$2,500–US$7,500    02007   \n",
              "4872      Richard Prince                Two Palms         US$350,000    02007   \n",
              "\n",
              "     category_id parsing_date updating_date  \n",
              "4868          02   2022-04-02    2022-04-02  \n",
              "4869          02   2022-04-02    2022-04-02  \n",
              "4870          02   2022-04-02    2022-04-02  \n",
              "4871          02   2022-04-02    2022-04-02  \n",
              "4872          02   2022-04-02    2022-04-02  "
            ]
          },
          "execution_count": 23,
          "metadata": {},
          "output_type": "execute_result"
        }
      ],
      "source": [
        "df_cat_dat.loc[df_cat_dat['gene_id']=='02007'].head()"
      ]
    },
    {
      "cell_type": "markdown",
      "metadata": {
        "id": "eynqzDudehw3"
      },
      "source": [
        "Getting list of genes with missing pages parsing and lounch parsing of these genes (not pages !!!) again."
      ]
    },
    {
      "cell_type": "code",
      "execution_count": null,
      "metadata": {
        "colab": {
          "base_uri": "https://localhost:8080/"
        },
        "id": "RbtWd5pt81g9",
        "outputId": "e0270798-e70e-4bb3-e6d9-f8333adc8e12"
      },
      "outputs": [
        {
          "data": {
            "text/plain": [
              "['02007', '02061', '02137', '02173', '02062']"
            ]
          },
          "execution_count": 24,
          "metadata": {},
          "output_type": "execute_result"
        }
      ],
      "source": [
        "genes_ids_list_er = [g_id for g_id in df_cat_dat.loc[df_cat_dat['artsy_id'].isna()==True]['gene_id']]\n",
        "genes_ids_list_er = list(set(genes_ids_list_er))\n",
        "genes_ids_list_er"
      ]
    },
    {
      "cell_type": "code",
      "execution_count": null,
      "metadata": {
        "colab": {
          "base_uri": "https://localhost:8080/"
        },
        "id": "pLWEVx4l8vej",
        "outputId": "2feec820-f9ba-4cc9-fbfe-a629be1ffa50"
      },
      "outputs": [
        {
          "data": {
            "text/plain": [
              "['/gene/americana',\n",
              " '/gene/eye-contact',\n",
              " '/gene/popular-culture',\n",
              " '/gene/sports-slash-athletics',\n",
              " '/gene/face']"
            ]
          },
          "execution_count": 25,
          "metadata": {},
          "output_type": "execute_result"
        }
      ],
      "source": [
        "genes_links_list_er = [genes_links_list[genes_ids_list.index(g_id)] for g_id in genes_ids_list_er]\n",
        "genes_links_list_er"
      ]
    },
    {
      "cell_type": "code",
      "execution_count": null,
      "metadata": {
        "id": "aXLDYyChLTwN"
      },
      "outputs": [],
      "source": [
        "df_cat_dat = df_cat_dat.dropna(subset=['artsy_id'], axis=0)"
      ]
    },
    {
      "cell_type": "markdown",
      "metadata": {
        "id": "aElmPNAKfX4C"
      },
      "source": [
        "!!! One item can belong not only to different categoryes but also to different genes into one category. That's very important for joining with reparsed data !!!"
      ]
    },
    {
      "cell_type": "code",
      "execution_count": null,
      "metadata": {
        "colab": {
          "base_uri": "https://localhost:8080/"
        },
        "id": "NZLdFXm-Yg0k",
        "outputId": "bdba0eff-3246-4aa6-fc4d-8b17753e0c8a"
      },
      "outputs": [
        {
          "name": "stdout",
          "output_type": "stream",
          "text": [
            "275675\n",
            "115444\n"
          ]
        }
      ],
      "source": [
        "print(df_cat_dat['artsy_id'].count())\n",
        "print(df_cat_dat['artsy_id'].nunique())"
      ]
    },
    {
      "cell_type": "code",
      "execution_count": null,
      "metadata": {
        "colab": {
          "base_uri": "https://localhost:8080/"
        },
        "id": "GOrGwcufYgu5",
        "outputId": "d06f49ea-de74-4ac6-d1f4-7c7e75e3a5ec"
      },
      "outputs": [
        {
          "name": "stdout",
          "output_type": "stream",
          "text": [
            "2\n",
            "1\n"
          ]
        }
      ],
      "source": [
        "print(df_cat_dat.groupby(['gene_id', 'artsy_id'])['artsy_id'].count().max())\n",
        "print(df_cat_dat.groupby(['gene_id', 'artsy_id'])['artsy_id'].nunique().max())"
      ]
    },
    {
      "cell_type": "code",
      "execution_count": null,
      "metadata": {
        "colab": {
          "base_uri": "https://localhost:8080/",
          "height": 423
        },
        "id": "ogcoXNUVJm5I",
        "outputId": "25f29dcf-37f9-4391-853d-4d791a840caa"
      },
      "outputs": [
        {
          "data": {
            "text/html": [
              "\n",
              "  <div id=\"df-232d5294-d315-4806-a9fc-4bc0b5596147\">\n",
              "    <div class=\"colab-df-container\">\n",
              "      <div>\n",
              "<style scoped>\n",
              "    .dataframe tbody tr th:only-of-type {\n",
              "        vertical-align: middle;\n",
              "    }\n",
              "\n",
              "    .dataframe tbody tr th {\n",
              "        vertical-align: top;\n",
              "    }\n",
              "\n",
              "    .dataframe thead th {\n",
              "        text-align: right;\n",
              "    }\n",
              "</style>\n",
              "<table border=\"1\" class=\"dataframe\">\n",
              "  <thead>\n",
              "    <tr style=\"text-align: right;\">\n",
              "      <th></th>\n",
              "      <th>gene_id</th>\n",
              "      <th>artsy_id</th>\n",
              "      <th>count</th>\n",
              "    </tr>\n",
              "  </thead>\n",
              "  <tbody>\n",
              "    <tr>\n",
              "      <th>8533</th>\n",
              "      <td>02010</td>\n",
              "      <td>5f7f7b2237a6ab000f953573</td>\n",
              "      <td>2</td>\n",
              "    </tr>\n",
              "    <tr>\n",
              "      <th>10467</th>\n",
              "      <td>02010</td>\n",
              "      <td>6244aef50dd5b0000ed1f51d</td>\n",
              "      <td>2</td>\n",
              "    </tr>\n",
              "    <tr>\n",
              "      <th>29265</th>\n",
              "      <td>02029</td>\n",
              "      <td>575157e28b3b812764000dae</td>\n",
              "      <td>2</td>\n",
              "    </tr>\n",
              "    <tr>\n",
              "      <th>29677</th>\n",
              "      <td>02030</td>\n",
              "      <td>538314569c18db033e00048f</td>\n",
              "      <td>2</td>\n",
              "    </tr>\n",
              "    <tr>\n",
              "      <th>29977</th>\n",
              "      <td>02030</td>\n",
              "      <td>5813fad8275b2454c0000472</td>\n",
              "      <td>2</td>\n",
              "    </tr>\n",
              "    <tr>\n",
              "      <th>...</th>\n",
              "      <td>...</td>\n",
              "      <td>...</td>\n",
              "      <td>...</td>\n",
              "    </tr>\n",
              "    <tr>\n",
              "      <th>237125</th>\n",
              "      <td>02181</td>\n",
              "      <td>623eca70c61a06000cafa3ee</td>\n",
              "      <td>2</td>\n",
              "    </tr>\n",
              "    <tr>\n",
              "      <th>243498</th>\n",
              "      <td>02191</td>\n",
              "      <td>54494d887261692d60500300</td>\n",
              "      <td>2</td>\n",
              "    </tr>\n",
              "    <tr>\n",
              "      <th>247421</th>\n",
              "      <td>02192</td>\n",
              "      <td>575c5feb7622dd660700083f</td>\n",
              "      <td>2</td>\n",
              "    </tr>\n",
              "    <tr>\n",
              "      <th>260906</th>\n",
              "      <td>02203</td>\n",
              "      <td>54b3d567726169345a490000</td>\n",
              "      <td>2</td>\n",
              "    </tr>\n",
              "    <tr>\n",
              "      <th>268541</th>\n",
              "      <td>02210</td>\n",
              "      <td>4d8b93484eb68a1b2c00125b</td>\n",
              "      <td>2</td>\n",
              "    </tr>\n",
              "  </tbody>\n",
              "</table>\n",
              "<p>410 rows × 3 columns</p>\n",
              "</div>\n",
              "      <button class=\"colab-df-convert\" onclick=\"convertToInteractive('df-232d5294-d315-4806-a9fc-4bc0b5596147')\"\n",
              "              title=\"Convert this dataframe to an interactive table.\"\n",
              "              style=\"display:none;\">\n",
              "        \n",
              "  <svg xmlns=\"http://www.w3.org/2000/svg\" height=\"24px\"viewBox=\"0 0 24 24\"\n",
              "       width=\"24px\">\n",
              "    <path d=\"M0 0h24v24H0V0z\" fill=\"none\"/>\n",
              "    <path d=\"M18.56 5.44l.94 2.06.94-2.06 2.06-.94-2.06-.94-.94-2.06-.94 2.06-2.06.94zm-11 1L8.5 8.5l.94-2.06 2.06-.94-2.06-.94L8.5 2.5l-.94 2.06-2.06.94zm10 10l.94 2.06.94-2.06 2.06-.94-2.06-.94-.94-2.06-.94 2.06-2.06.94z\"/><path d=\"M17.41 7.96l-1.37-1.37c-.4-.4-.92-.59-1.43-.59-.52 0-1.04.2-1.43.59L10.3 9.45l-7.72 7.72c-.78.78-.78 2.05 0 2.83L4 21.41c.39.39.9.59 1.41.59.51 0 1.02-.2 1.41-.59l7.78-7.78 2.81-2.81c.8-.78.8-2.07 0-2.86zM5.41 20L4 18.59l7.72-7.72 1.47 1.35L5.41 20z\"/>\n",
              "  </svg>\n",
              "      </button>\n",
              "      \n",
              "  <style>\n",
              "    .colab-df-container {\n",
              "      display:flex;\n",
              "      flex-wrap:wrap;\n",
              "      gap: 12px;\n",
              "    }\n",
              "\n",
              "    .colab-df-convert {\n",
              "      background-color: #E8F0FE;\n",
              "      border: none;\n",
              "      border-radius: 50%;\n",
              "      cursor: pointer;\n",
              "      display: none;\n",
              "      fill: #1967D2;\n",
              "      height: 32px;\n",
              "      padding: 0 0 0 0;\n",
              "      width: 32px;\n",
              "    }\n",
              "\n",
              "    .colab-df-convert:hover {\n",
              "      background-color: #E2EBFA;\n",
              "      box-shadow: 0px 1px 2px rgba(60, 64, 67, 0.3), 0px 1px 3px 1px rgba(60, 64, 67, 0.15);\n",
              "      fill: #174EA6;\n",
              "    }\n",
              "\n",
              "    [theme=dark] .colab-df-convert {\n",
              "      background-color: #3B4455;\n",
              "      fill: #D2E3FC;\n",
              "    }\n",
              "\n",
              "    [theme=dark] .colab-df-convert:hover {\n",
              "      background-color: #434B5C;\n",
              "      box-shadow: 0px 1px 3px 1px rgba(0, 0, 0, 0.15);\n",
              "      filter: drop-shadow(0px 1px 2px rgba(0, 0, 0, 0.3));\n",
              "      fill: #FFFFFF;\n",
              "    }\n",
              "  </style>\n",
              "\n",
              "      <script>\n",
              "        const buttonEl =\n",
              "          document.querySelector('#df-232d5294-d315-4806-a9fc-4bc0b5596147 button.colab-df-convert');\n",
              "        buttonEl.style.display =\n",
              "          google.colab.kernel.accessAllowed ? 'block' : 'none';\n",
              "\n",
              "        async function convertToInteractive(key) {\n",
              "          const element = document.querySelector('#df-232d5294-d315-4806-a9fc-4bc0b5596147');\n",
              "          const dataTable =\n",
              "            await google.colab.kernel.invokeFunction('convertToInteractive',\n",
              "                                                     [key], {});\n",
              "          if (!dataTable) return;\n",
              "\n",
              "          const docLinkHtml = 'Like what you see? Visit the ' +\n",
              "            '<a target=\"_blank\" href=https://colab.research.google.com/notebooks/data_table.ipynb>data table notebook</a>'\n",
              "            + ' to learn more about interactive tables.';\n",
              "          element.innerHTML = '';\n",
              "          dataTable['output_type'] = 'display_data';\n",
              "          await google.colab.output.renderOutput(dataTable, element);\n",
              "          const docLink = document.createElement('div');\n",
              "          docLink.innerHTML = docLinkHtml;\n",
              "          element.appendChild(docLink);\n",
              "        }\n",
              "      </script>\n",
              "    </div>\n",
              "  </div>\n",
              "  "
            ],
            "text/plain": [
              "       gene_id                  artsy_id  count\n",
              "8533     02010  5f7f7b2237a6ab000f953573      2\n",
              "10467    02010  6244aef50dd5b0000ed1f51d      2\n",
              "29265    02029  575157e28b3b812764000dae      2\n",
              "29677    02030  538314569c18db033e00048f      2\n",
              "29977    02030  5813fad8275b2454c0000472      2\n",
              "...        ...                       ...    ...\n",
              "237125   02181  623eca70c61a06000cafa3ee      2\n",
              "243498   02191  54494d887261692d60500300      2\n",
              "247421   02192  575c5feb7622dd660700083f      2\n",
              "260906   02203  54b3d567726169345a490000      2\n",
              "268541   02210  4d8b93484eb68a1b2c00125b      2\n",
              "\n",
              "[410 rows x 3 columns]"
            ]
          },
          "execution_count": 30,
          "metadata": {},
          "output_type": "execute_result"
        }
      ],
      "source": [
        "gene_artsy_groupped = df_cat_dat.groupby(['gene_id', 'artsy_id'])['artsy_id'].agg(['count']).reset_index()\n",
        "gene_artsy_groupped.loc[gene_artsy_groupped['count']>1]"
      ]
    },
    {
      "cell_type": "code",
      "execution_count": null,
      "metadata": {
        "colab": {
          "base_uri": "https://localhost:8080/",
          "height": 919
        },
        "id": "xXZhVTl6QXdG",
        "outputId": "85b57806-4ac9-4b69-a024-8ff9d897ce3b"
      },
      "outputs": [
        {
          "data": {
            "text/html": [
              "\n",
              "  <div id=\"df-c5bb708f-c71f-43f2-9592-23e16900d268\">\n",
              "    <div class=\"colab-df-container\">\n",
              "      <div>\n",
              "<style scoped>\n",
              "    .dataframe tbody tr th:only-of-type {\n",
              "        vertical-align: middle;\n",
              "    }\n",
              "\n",
              "    .dataframe tbody tr th {\n",
              "        vertical-align: top;\n",
              "    }\n",
              "\n",
              "    .dataframe thead th {\n",
              "        text-align: right;\n",
              "    }\n",
              "</style>\n",
              "<table border=\"1\" class=\"dataframe\">\n",
              "  <thead>\n",
              "    <tr style=\"text-align: right;\">\n",
              "      <th></th>\n",
              "      <th>artsy_id</th>\n",
              "      <th>name</th>\n",
              "      <th>link</th>\n",
              "      <th>year</th>\n",
              "      <th>artist</th>\n",
              "      <th>gallery</th>\n",
              "      <th>price</th>\n",
              "      <th>gene_id</th>\n",
              "      <th>category_id</th>\n",
              "      <th>parsing_date</th>\n",
              "      <th>updating_date</th>\n",
              "    </tr>\n",
              "  </thead>\n",
              "  <tbody>\n",
              "    <tr>\n",
              "      <th>14694</th>\n",
              "      <td>4d8b93484eb68a1b2c00125b</td>\n",
              "      <td>Mendocino County Coast, Pacific Ocean</td>\n",
              "      <td>https://d7hftxdivxxvm.cloudfront.net?resize_to...</td>\n",
              "      <td>2009</td>\n",
              "      <td>Chip Hooper</td>\n",
              "      <td>Robert Mann Gallery</td>\n",
              "      <td>Price on request</td>\n",
              "      <td>02016</td>\n",
              "      <td>02</td>\n",
              "      <td>2022-04-02</td>\n",
              "      <td>2022-04-02</td>\n",
              "    </tr>\n",
              "    <tr>\n",
              "      <th>36082</th>\n",
              "      <td>4d8b93484eb68a1b2c00125b</td>\n",
              "      <td>Mendocino County Coast, Pacific Ocean</td>\n",
              "      <td>https://d7hftxdivxxvm.cloudfront.net?resize_to...</td>\n",
              "      <td>2009</td>\n",
              "      <td>Chip Hooper</td>\n",
              "      <td>Robert Mann Gallery</td>\n",
              "      <td>Price on request</td>\n",
              "      <td>02081</td>\n",
              "      <td>02</td>\n",
              "      <td>2022-04-02</td>\n",
              "      <td>2022-04-02</td>\n",
              "    </tr>\n",
              "    <tr>\n",
              "      <th>59502</th>\n",
              "      <td>4d8b93484eb68a1b2c00125b</td>\n",
              "      <td>Mendocino County Coast, Pacific Ocean</td>\n",
              "      <td>https://d7hftxdivxxvm.cloudfront.net?resize_to...</td>\n",
              "      <td>2009</td>\n",
              "      <td>Chip Hooper</td>\n",
              "      <td>Robert Mann Gallery</td>\n",
              "      <td>Price on request</td>\n",
              "      <td>02098</td>\n",
              "      <td>02</td>\n",
              "      <td>2022-04-02</td>\n",
              "      <td>2022-04-02</td>\n",
              "    </tr>\n",
              "    <tr>\n",
              "      <th>2289</th>\n",
              "      <td>4d8b93484eb68a1b2c00125b</td>\n",
              "      <td>Mendocino County Coast, Pacific Ocean</td>\n",
              "      <td>https://d7hftxdivxxvm.cloudfront.net?resize_to...</td>\n",
              "      <td>2009</td>\n",
              "      <td>Chip Hooper</td>\n",
              "      <td>Robert Mann Gallery</td>\n",
              "      <td>Price on request</td>\n",
              "      <td>02102</td>\n",
              "      <td>02</td>\n",
              "      <td>2022-04-02</td>\n",
              "      <td>2022-04-02</td>\n",
              "    </tr>\n",
              "    <tr>\n",
              "      <th>31397</th>\n",
              "      <td>4d8b93484eb68a1b2c00125b</td>\n",
              "      <td>Mendocino County Coast, Pacific Ocean</td>\n",
              "      <td>https://d7hftxdivxxvm.cloudfront.net?resize_to...</td>\n",
              "      <td>2009</td>\n",
              "      <td>Chip Hooper</td>\n",
              "      <td>Robert Mann Gallery</td>\n",
              "      <td>Price on request</td>\n",
              "      <td>02122</td>\n",
              "      <td>02</td>\n",
              "      <td>2022-04-02</td>\n",
              "      <td>2022-04-02</td>\n",
              "    </tr>\n",
              "    <tr>\n",
              "      <th>14150</th>\n",
              "      <td>4d8b93484eb68a1b2c00125b</td>\n",
              "      <td>Mendocino County Coast, Pacific Ocean</td>\n",
              "      <td>https://d7hftxdivxxvm.cloudfront.net?resize_to...</td>\n",
              "      <td>2009</td>\n",
              "      <td>Chip Hooper</td>\n",
              "      <td>Robert Mann Gallery</td>\n",
              "      <td>Price on request</td>\n",
              "      <td>02210</td>\n",
              "      <td>02</td>\n",
              "      <td>2022-04-02</td>\n",
              "      <td>2022-04-02</td>\n",
              "    </tr>\n",
              "    <tr>\n",
              "      <th>14164</th>\n",
              "      <td>4d8b93484eb68a1b2c00125b</td>\n",
              "      <td>Mendocino County Coast, Pacific Ocean</td>\n",
              "      <td>https://d7hftxdivxxvm.cloudfront.net?resize_to...</td>\n",
              "      <td>2009</td>\n",
              "      <td>Chip Hooper</td>\n",
              "      <td>Robert Mann Gallery</td>\n",
              "      <td>Price on request</td>\n",
              "      <td>02210</td>\n",
              "      <td>02</td>\n",
              "      <td>2022-04-02</td>\n",
              "      <td>2022-04-02</td>\n",
              "    </tr>\n",
              "    <tr>\n",
              "      <th>16898</th>\n",
              "      <td>4d8b93484eb68a1b2c00125b</td>\n",
              "      <td>Mendocino County Coast, Pacific Ocean</td>\n",
              "      <td>https://d7hftxdivxxvm.cloudfront.net?resize_to...</td>\n",
              "      <td>2009</td>\n",
              "      <td>Chip Hooper</td>\n",
              "      <td>Robert Mann Gallery</td>\n",
              "      <td>Price on request</td>\n",
              "      <td>02211</td>\n",
              "      <td>02</td>\n",
              "      <td>2022-04-02</td>\n",
              "      <td>2022-04-02</td>\n",
              "    </tr>\n",
              "  </tbody>\n",
              "</table>\n",
              "</div>\n",
              "      <button class=\"colab-df-convert\" onclick=\"convertToInteractive('df-c5bb708f-c71f-43f2-9592-23e16900d268')\"\n",
              "              title=\"Convert this dataframe to an interactive table.\"\n",
              "              style=\"display:none;\">\n",
              "        \n",
              "  <svg xmlns=\"http://www.w3.org/2000/svg\" height=\"24px\"viewBox=\"0 0 24 24\"\n",
              "       width=\"24px\">\n",
              "    <path d=\"M0 0h24v24H0V0z\" fill=\"none\"/>\n",
              "    <path d=\"M18.56 5.44l.94 2.06.94-2.06 2.06-.94-2.06-.94-.94-2.06-.94 2.06-2.06.94zm-11 1L8.5 8.5l.94-2.06 2.06-.94-2.06-.94L8.5 2.5l-.94 2.06-2.06.94zm10 10l.94 2.06.94-2.06 2.06-.94-2.06-.94-.94-2.06-.94 2.06-2.06.94z\"/><path d=\"M17.41 7.96l-1.37-1.37c-.4-.4-.92-.59-1.43-.59-.52 0-1.04.2-1.43.59L10.3 9.45l-7.72 7.72c-.78.78-.78 2.05 0 2.83L4 21.41c.39.39.9.59 1.41.59.51 0 1.02-.2 1.41-.59l7.78-7.78 2.81-2.81c.8-.78.8-2.07 0-2.86zM5.41 20L4 18.59l7.72-7.72 1.47 1.35L5.41 20z\"/>\n",
              "  </svg>\n",
              "      </button>\n",
              "      \n",
              "  <style>\n",
              "    .colab-df-container {\n",
              "      display:flex;\n",
              "      flex-wrap:wrap;\n",
              "      gap: 12px;\n",
              "    }\n",
              "\n",
              "    .colab-df-convert {\n",
              "      background-color: #E8F0FE;\n",
              "      border: none;\n",
              "      border-radius: 50%;\n",
              "      cursor: pointer;\n",
              "      display: none;\n",
              "      fill: #1967D2;\n",
              "      height: 32px;\n",
              "      padding: 0 0 0 0;\n",
              "      width: 32px;\n",
              "    }\n",
              "\n",
              "    .colab-df-convert:hover {\n",
              "      background-color: #E2EBFA;\n",
              "      box-shadow: 0px 1px 2px rgba(60, 64, 67, 0.3), 0px 1px 3px 1px rgba(60, 64, 67, 0.15);\n",
              "      fill: #174EA6;\n",
              "    }\n",
              "\n",
              "    [theme=dark] .colab-df-convert {\n",
              "      background-color: #3B4455;\n",
              "      fill: #D2E3FC;\n",
              "    }\n",
              "\n",
              "    [theme=dark] .colab-df-convert:hover {\n",
              "      background-color: #434B5C;\n",
              "      box-shadow: 0px 1px 3px 1px rgba(0, 0, 0, 0.15);\n",
              "      filter: drop-shadow(0px 1px 2px rgba(0, 0, 0, 0.3));\n",
              "      fill: #FFFFFF;\n",
              "    }\n",
              "  </style>\n",
              "\n",
              "      <script>\n",
              "        const buttonEl =\n",
              "          document.querySelector('#df-c5bb708f-c71f-43f2-9592-23e16900d268 button.colab-df-convert');\n",
              "        buttonEl.style.display =\n",
              "          google.colab.kernel.accessAllowed ? 'block' : 'none';\n",
              "\n",
              "        async function convertToInteractive(key) {\n",
              "          const element = document.querySelector('#df-c5bb708f-c71f-43f2-9592-23e16900d268');\n",
              "          const dataTable =\n",
              "            await google.colab.kernel.invokeFunction('convertToInteractive',\n",
              "                                                     [key], {});\n",
              "          if (!dataTable) return;\n",
              "\n",
              "          const docLinkHtml = 'Like what you see? Visit the ' +\n",
              "            '<a target=\"_blank\" href=https://colab.research.google.com/notebooks/data_table.ipynb>data table notebook</a>'\n",
              "            + ' to learn more about interactive tables.';\n",
              "          element.innerHTML = '';\n",
              "          dataTable['output_type'] = 'display_data';\n",
              "          await google.colab.output.renderOutput(dataTable, element);\n",
              "          const docLink = document.createElement('div');\n",
              "          docLink.innerHTML = docLinkHtml;\n",
              "          element.appendChild(docLink);\n",
              "        }\n",
              "      </script>\n",
              "    </div>\n",
              "  </div>\n",
              "  "
            ],
            "text/plain": [
              "                       artsy_id                                   name  \\\n",
              "14694  4d8b93484eb68a1b2c00125b  Mendocino County Coast, Pacific Ocean   \n",
              "36082  4d8b93484eb68a1b2c00125b  Mendocino County Coast, Pacific Ocean   \n",
              "59502  4d8b93484eb68a1b2c00125b  Mendocino County Coast, Pacific Ocean   \n",
              "2289   4d8b93484eb68a1b2c00125b  Mendocino County Coast, Pacific Ocean   \n",
              "31397  4d8b93484eb68a1b2c00125b  Mendocino County Coast, Pacific Ocean   \n",
              "14150  4d8b93484eb68a1b2c00125b  Mendocino County Coast, Pacific Ocean   \n",
              "14164  4d8b93484eb68a1b2c00125b  Mendocino County Coast, Pacific Ocean   \n",
              "16898  4d8b93484eb68a1b2c00125b  Mendocino County Coast, Pacific Ocean   \n",
              "\n",
              "                                                    link  year       artist  \\\n",
              "14694  https://d7hftxdivxxvm.cloudfront.net?resize_to...  2009  Chip Hooper   \n",
              "36082  https://d7hftxdivxxvm.cloudfront.net?resize_to...  2009  Chip Hooper   \n",
              "59502  https://d7hftxdivxxvm.cloudfront.net?resize_to...  2009  Chip Hooper   \n",
              "2289   https://d7hftxdivxxvm.cloudfront.net?resize_to...  2009  Chip Hooper   \n",
              "31397  https://d7hftxdivxxvm.cloudfront.net?resize_to...  2009  Chip Hooper   \n",
              "14150  https://d7hftxdivxxvm.cloudfront.net?resize_to...  2009  Chip Hooper   \n",
              "14164  https://d7hftxdivxxvm.cloudfront.net?resize_to...  2009  Chip Hooper   \n",
              "16898  https://d7hftxdivxxvm.cloudfront.net?resize_to...  2009  Chip Hooper   \n",
              "\n",
              "                   gallery              price gene_id category_id  \\\n",
              "14694  Robert Mann Gallery  Price on request    02016          02   \n",
              "36082  Robert Mann Gallery  Price on request    02081          02   \n",
              "59502  Robert Mann Gallery  Price on request    02098          02   \n",
              "2289   Robert Mann Gallery  Price on request    02102          02   \n",
              "31397  Robert Mann Gallery  Price on request    02122          02   \n",
              "14150  Robert Mann Gallery  Price on request    02210          02   \n",
              "14164  Robert Mann Gallery  Price on request    02210          02   \n",
              "16898  Robert Mann Gallery  Price on request    02211          02   \n",
              "\n",
              "      parsing_date updating_date  \n",
              "14694   2022-04-02    2022-04-02  \n",
              "36082   2022-04-02    2022-04-02  \n",
              "59502   2022-04-02    2022-04-02  \n",
              "2289    2022-04-02    2022-04-02  \n",
              "31397   2022-04-02    2022-04-02  \n",
              "14150   2022-04-02    2022-04-02  \n",
              "14164   2022-04-02    2022-04-02  \n",
              "16898   2022-04-02    2022-04-02  "
            ]
          },
          "execution_count": 31,
          "metadata": {},
          "output_type": "execute_result"
        }
      ],
      "source": [
        "df_cat_dat.loc[df_cat_dat['artsy_id']=='4d8b93484eb68a1b2c00125b']"
      ]
    },
    {
      "cell_type": "code",
      "execution_count": null,
      "metadata": {
        "colab": {
          "base_uri": "https://localhost:8080/"
        },
        "id": "EzeCDxDvQvda",
        "outputId": "414bb62c-b6eb-490e-cde0-c5026edcaf5a"
      },
      "outputs": [
        {
          "name": "stdout",
          "output_type": "stream",
          "text": [
            "https://d7hftxdivxxvm.cloudfront.net?resize_to=fit&src=https%3A%2F%2Fd32dm0rphc51dk.cloudfront.net%2F8NpaJhOeMqPmSGH2IdLcWw%2Flarge.jpg&width=445&height=353&quality=80\n",
            "https://d7hftxdivxxvm.cloudfront.net?resize_to=fit&src=https%3A%2F%2Fd32dm0rphc51dk.cloudfront.net%2F8NpaJhOeMqPmSGH2IdLcWw%2Flarge.jpg&width=445&height=353&quality=80\n",
            "https://d7hftxdivxxvm.cloudfront.net?resize_to=fit&src=https%3A%2F%2Fd32dm0rphc51dk.cloudfront.net%2F8NpaJhOeMqPmSGH2IdLcWw%2Flarge.jpg&width=445&height=353&quality=80\n",
            "https://d7hftxdivxxvm.cloudfront.net?resize_to=fit&src=https%3A%2F%2Fd32dm0rphc51dk.cloudfront.net%2F8NpaJhOeMqPmSGH2IdLcWw%2Flarge.jpg&width=445&height=353&quality=80\n",
            "https://d7hftxdivxxvm.cloudfront.net?resize_to=fit&src=https%3A%2F%2Fd32dm0rphc51dk.cloudfront.net%2F8NpaJhOeMqPmSGH2IdLcWw%2Flarge.jpg&width=445&height=353&quality=80\n",
            "https://d7hftxdivxxvm.cloudfront.net?resize_to=fit&src=https%3A%2F%2Fd32dm0rphc51dk.cloudfront.net%2F8NpaJhOeMqPmSGH2IdLcWw%2Flarge.jpg&width=445&height=353&quality=80\n",
            "https://d7hftxdivxxvm.cloudfront.net?resize_to=fit&src=https%3A%2F%2Fd32dm0rphc51dk.cloudfront.net%2F8NpaJhOeMqPmSGH2IdLcWw%2Flarge.jpg&width=445&height=353&quality=80\n",
            "https://d7hftxdivxxvm.cloudfront.net?resize_to=fit&src=https%3A%2F%2Fd32dm0rphc51dk.cloudfront.net%2F8NpaJhOeMqPmSGH2IdLcWw%2Flarge.jpg&width=445&height=353&quality=80\n"
          ]
        }
      ],
      "source": [
        "for link in df_cat_dat.loc[df_cat_dat['artsy_id']=='4d8b93484eb68a1b2c00125b']['link']:\n",
        "  print(link)"
      ]
    },
    {
      "cell_type": "markdown",
      "metadata": {
        "id": "UZXZRaqagEKy"
      },
      "source": [
        "There can be item duplicates inside one gene items' list also. Delete them."
      ]
    },
    {
      "cell_type": "markdown",
      "source": [
        "### Mergening of all the data"
      ],
      "metadata": {
        "id": "wfIpE7tfKot2"
      }
    },
    {
      "cell_type": "code",
      "execution_count": null,
      "metadata": {
        "colab": {
          "base_uri": "https://localhost:8080/"
        },
        "id": "znKnyKm1Rczc",
        "outputId": "98c5548e-e626-4e02-c513-921b64c7ca49"
      },
      "outputs": [
        {
          "output_type": "stream",
          "name": "stdout",
          "text": [
            "<class 'pandas.core.frame.DataFrame'>\n",
            "Int64Index: 275417 entries, 0 to 790\n",
            "Data columns (total 11 columns):\n",
            " #   Column         Non-Null Count   Dtype \n",
            "---  ------         --------------   ----- \n",
            " 0   artsy_id       275417 non-null  object\n",
            " 1   name           275417 non-null  object\n",
            " 2   link           275417 non-null  object\n",
            " 3   year           262595 non-null  object\n",
            " 4   artist         275417 non-null  object\n",
            " 5   gallery        275296 non-null  object\n",
            " 6   price          275417 non-null  object\n",
            " 7   gene_id        275417 non-null  object\n",
            " 8   category_id    275417 non-null  object\n",
            " 9   parsing_date   275417 non-null  object\n",
            " 10  updating_date  275417 non-null  object\n",
            "dtypes: object(11)\n",
            "memory usage: 25.2+ MB\n"
          ]
        }
      ],
      "source": [
        "df_cat_dat_total = pd.concat([df_cat_dat, df_temp_data_new])\n",
        "df_cat_dat_total.drop_duplicates(subset = ['gene_id', 'artsy_id'], keep = 'first', inplace = True)\n",
        "df_cat_dat_total = df_cat_dat_total.reset_index().drop(['index'], axis=1) # !!!\n",
        "df_cat_dat_total.info()"
      ]
    },
    {
      "cell_type": "code",
      "execution_count": null,
      "metadata": {
        "id": "QuCOH_Y5Rctp"
      },
      "outputs": [],
      "source": [
        "save_df_file(df_cat_dat_total, temp_data, 'live') # 4. Save df to csv file\n",
        "#df_cat_dat_total = open_file_csv(temp_data, 'live') # 3. Open file.csv"
      ]
    },
    {
      "cell_type": "markdown",
      "metadata": {
        "id": "-xbHHg5xgqqe"
      },
      "source": [
        "Genes checking: sometimes there may be a problem (like with cat 03)"
      ]
    },
    {
      "cell_type": "code",
      "execution_count": null,
      "metadata": {
        "colab": {
          "base_uri": "https://localhost:8080/"
        },
        "id": "gL7y_mNKTxzE",
        "outputId": "7e7693bf-00a7-42c6-995b-f0d1a1f5a023"
      },
      "outputs": [
        {
          "output_type": "stream",
          "name": "stdout",
          "text": [
            "213\n"
          ]
        },
        {
          "output_type": "execute_result",
          "data": {
            "text/plain": [
              "213"
            ]
          },
          "metadata": {},
          "execution_count": 51
        }
      ],
      "source": [
        "# !!!!!!!!!!!!!!!\n",
        "print(len(genes_ids_list))\n",
        "df_cat_dat_total['gene_id'].dropna().nunique()"
      ]
    },
    {
      "cell_type": "code",
      "source": [
        "check_gene_id = df_cat_dat_total['gene_id'].dropna().unique().tolist()\n",
        "len(check_gene_id)"
      ],
      "metadata": {
        "colab": {
          "base_uri": "https://localhost:8080/"
        },
        "id": "sYbzr9wGLxSt",
        "outputId": "59d1b710-597e-42fd-c5fa-76bc03e1ce29"
      },
      "execution_count": null,
      "outputs": [
        {
          "output_type": "execute_result",
          "data": {
            "text/plain": [
              "213"
            ]
          },
          "metadata": {},
          "execution_count": 33
        }
      ]
    },
    {
      "cell_type": "code",
      "execution_count": null,
      "metadata": {
        "colab": {
          "base_uri": "https://localhost:8080/"
        },
        "id": "4cCWzth3Ip--",
        "outputId": "b45a573c-b1eb-4142-cab0-edc1e6c0eab2"
      },
      "outputs": [
        {
          "data": {
            "text/plain": [
              "['03133', '03185']"
            ]
          },
          "execution_count": 125,
          "metadata": {},
          "output_type": "execute_result"
        }
      ],
      "source": [
        "# !!! cat 03 !!!\n",
        "genes_ids_list_er = list(set(genes_ids_list) - set(check_gene_id))\n",
        "genes_ids_list_er"
      ]
    },
    {
      "cell_type": "code",
      "execution_count": null,
      "metadata": {
        "colab": {
          "base_uri": "https://localhost:8080/"
        },
        "id": "A00qRf8SIp7a",
        "outputId": "2020f6c8-ef4c-4191-ec90-0dda215414c8"
      },
      "outputs": [
        {
          "data": {
            "text/plain": [
              "['/gene/group-material', '/gene/nul-group']"
            ]
          },
          "execution_count": 126,
          "metadata": {},
          "output_type": "execute_result"
        }
      ],
      "source": [
        "genes_links_list_er = [genes_links_list[genes_ids_list.index(g_id)] for g_id in genes_ids_list_er]\n",
        "for link in genes_links_list_er:\n",
        "  print(url_add + link)"
      ]
    },
    {
      "cell_type": "markdown",
      "metadata": {
        "id": "43BW-pTwdCTr"
      },
      "source": [
        "Pages of these genes are empty, so everything's allright."
      ]
    },
    {
      "cell_type": "markdown",
      "metadata": {
        "id": "oZxb6iVMm0Rh"
      },
      "source": [
        "## Data studying"
      ]
    },
    {
      "cell_type": "code",
      "execution_count": null,
      "metadata": {
        "colab": {
          "base_uri": "https://localhost:8080/"
        },
        "id": "uxVdG_7ThpO_",
        "outputId": "9b8593a8-0a0d-454e-9707-6a2ed696ee61"
      },
      "outputs": [
        {
          "output_type": "stream",
          "name": "stdout",
          "text": [
            "<class 'pandas.core.frame.DataFrame'>\n",
            "RangeIndex: 275417 entries, 0 to 275416\n",
            "Data columns (total 11 columns):\n",
            " #   Column         Non-Null Count   Dtype \n",
            "---  ------         --------------   ----- \n",
            " 0   artsy_id       275417 non-null  object\n",
            " 1   name           275417 non-null  object\n",
            " 2   link           275417 non-null  object\n",
            " 3   year           262595 non-null  object\n",
            " 4   artist         275417 non-null  object\n",
            " 5   gallery        275296 non-null  object\n",
            " 6   price          275417 non-null  object\n",
            " 7   gene_id        275417 non-null  int64 \n",
            " 8   category_id    275417 non-null  int64 \n",
            " 9   parsing_date   275417 non-null  object\n",
            " 10  updating_date  275417 non-null  object\n",
            "dtypes: int64(2), object(9)\n",
            "memory usage: 23.1+ MB\n"
          ]
        }
      ],
      "source": [
        "df_cat_dat_total = open_file_csv(temp_data, 'live') # 3. Open file.csv\n",
        "df_cat_dat_total.info()"
      ]
    },
    {
      "cell_type": "code",
      "source": [
        "print(df_cat_dat_total.groupby(['gene_id', 'artsy_id'])['artsy_id'].count().max())\n",
        "print(df_cat_dat_total.groupby(['gene_id', 'artsy_id'])['artsy_id'].nunique().max())"
      ],
      "metadata": {
        "colab": {
          "base_uri": "https://localhost:8080/"
        },
        "id": "P2-XPoXRNrd1",
        "outputId": "223016bd-d2d6-4f35-9527-e03d57b01be7"
      },
      "execution_count": null,
      "outputs": [
        {
          "output_type": "stream",
          "name": "stdout",
          "text": [
            "1\n",
            "1\n"
          ]
        }
      ]
    },
    {
      "cell_type": "markdown",
      "metadata": {
        "id": "oLkQ-qFPqJmW"
      },
      "source": [
        "Transform id from int into str and link into a working one."
      ]
    },
    {
      "cell_type": "code",
      "execution_count": null,
      "metadata": {
        "colab": {
          "base_uri": "https://localhost:8080/",
          "height": 513
        },
        "id": "0msJIt4lIqCD",
        "outputId": "ed068d07-602b-4932-fe4d-b527f9dbb27d"
      },
      "outputs": [
        {
          "output_type": "execute_result",
          "data": {
            "text/plain": [
              "                        artsy_id  \\\n",
              "142589  544e5463726169293b3e0f00   \n",
              "260909  55034eab72616915b38e3b00   \n",
              "252486  533dc5f47622dd9f8300018a   \n",
              "219641  5cab9b4897da0817e6f3718b   \n",
              "253472  57179a717622dd65990004f3   \n",
              "\n",
              "                                                     name  \\\n",
              "142589                           Our Generation: Bye-Bye!   \n",
              "260909  Woman with Heavy Bundles of Clothing, New York...   \n",
              "252486  March 10 2014: U.S. scientists have developed ...   \n",
              "219641                                        Black Crows   \n",
              "253472                            Mallard's Reach, Midday   \n",
              "\n",
              "                                                     link  year  \\\n",
              "142589  https://d32dm0rphc51dk.cloudfront.net/DZGKYSRa...  2007   \n",
              "260909  https://d32dm0rphc51dk.cloudfront.net/FrgMDYRi...  1912   \n",
              "252486  https://d32dm0rphc51dk.cloudfront.net/aKzjzjgJ...  2014   \n",
              "219641  https://d32dm0rphc51dk.cloudfront.net/wulEAOPo...  2017   \n",
              "253472  https://d32dm0rphc51dk.cloudfront.net/xbtYHPkv...  2016   \n",
              "\n",
              "                          artist               gallery                 price  \\\n",
              "142589            Gao Xiaowu 高孝午            Ode to Art  US$30,000–US$40,000    \n",
              "260909         Lewis Wickes Hine  Robert Klein Gallery    US$1,000–US$2,500    \n",
              "252486            Ben McLaughlin       Hosfelt Gallery     Price on request    \n",
              "219641            John Alexander       McClain Gallery     Price on request    \n",
              "253472  Michael Jackson (b.1966)     photo-eye Gallery              On hold    \n",
              "\n",
              "       gene_id category_id parsing_date updating_date  \n",
              "142589   02117          02   2022-04-02    2022-04-02  \n",
              "260909   02203          02   2022-04-02    2022-04-02  \n",
              "252486   02198          02   2022-04-02    2022-04-02  \n",
              "219641   02170          02   2022-04-02    2022-04-02  \n",
              "253472   02198          02   2022-04-02    2022-04-02  "
            ],
            "text/html": [
              "\n",
              "  <div id=\"df-47e3c8b6-9e7a-481b-8761-2401bd5db66b\">\n",
              "    <div class=\"colab-df-container\">\n",
              "      <div>\n",
              "<style scoped>\n",
              "    .dataframe tbody tr th:only-of-type {\n",
              "        vertical-align: middle;\n",
              "    }\n",
              "\n",
              "    .dataframe tbody tr th {\n",
              "        vertical-align: top;\n",
              "    }\n",
              "\n",
              "    .dataframe thead th {\n",
              "        text-align: right;\n",
              "    }\n",
              "</style>\n",
              "<table border=\"1\" class=\"dataframe\">\n",
              "  <thead>\n",
              "    <tr style=\"text-align: right;\">\n",
              "      <th></th>\n",
              "      <th>artsy_id</th>\n",
              "      <th>name</th>\n",
              "      <th>link</th>\n",
              "      <th>year</th>\n",
              "      <th>artist</th>\n",
              "      <th>gallery</th>\n",
              "      <th>price</th>\n",
              "      <th>gene_id</th>\n",
              "      <th>category_id</th>\n",
              "      <th>parsing_date</th>\n",
              "      <th>updating_date</th>\n",
              "    </tr>\n",
              "  </thead>\n",
              "  <tbody>\n",
              "    <tr>\n",
              "      <th>142589</th>\n",
              "      <td>544e5463726169293b3e0f00</td>\n",
              "      <td>Our Generation: Bye-Bye!</td>\n",
              "      <td>https://d32dm0rphc51dk.cloudfront.net/DZGKYSRa...</td>\n",
              "      <td>2007</td>\n",
              "      <td>Gao Xiaowu 高孝午</td>\n",
              "      <td>Ode to Art</td>\n",
              "      <td>US$30,000–US$40,000</td>\n",
              "      <td>02117</td>\n",
              "      <td>02</td>\n",
              "      <td>2022-04-02</td>\n",
              "      <td>2022-04-02</td>\n",
              "    </tr>\n",
              "    <tr>\n",
              "      <th>260909</th>\n",
              "      <td>55034eab72616915b38e3b00</td>\n",
              "      <td>Woman with Heavy Bundles of Clothing, New York...</td>\n",
              "      <td>https://d32dm0rphc51dk.cloudfront.net/FrgMDYRi...</td>\n",
              "      <td>1912</td>\n",
              "      <td>Lewis Wickes Hine</td>\n",
              "      <td>Robert Klein Gallery</td>\n",
              "      <td>US$1,000–US$2,500</td>\n",
              "      <td>02203</td>\n",
              "      <td>02</td>\n",
              "      <td>2022-04-02</td>\n",
              "      <td>2022-04-02</td>\n",
              "    </tr>\n",
              "    <tr>\n",
              "      <th>252486</th>\n",
              "      <td>533dc5f47622dd9f8300018a</td>\n",
              "      <td>March 10 2014: U.S. scientists have developed ...</td>\n",
              "      <td>https://d32dm0rphc51dk.cloudfront.net/aKzjzjgJ...</td>\n",
              "      <td>2014</td>\n",
              "      <td>Ben McLaughlin</td>\n",
              "      <td>Hosfelt Gallery</td>\n",
              "      <td>Price on request</td>\n",
              "      <td>02198</td>\n",
              "      <td>02</td>\n",
              "      <td>2022-04-02</td>\n",
              "      <td>2022-04-02</td>\n",
              "    </tr>\n",
              "    <tr>\n",
              "      <th>219641</th>\n",
              "      <td>5cab9b4897da0817e6f3718b</td>\n",
              "      <td>Black Crows</td>\n",
              "      <td>https://d32dm0rphc51dk.cloudfront.net/wulEAOPo...</td>\n",
              "      <td>2017</td>\n",
              "      <td>John Alexander</td>\n",
              "      <td>McClain Gallery</td>\n",
              "      <td>Price on request</td>\n",
              "      <td>02170</td>\n",
              "      <td>02</td>\n",
              "      <td>2022-04-02</td>\n",
              "      <td>2022-04-02</td>\n",
              "    </tr>\n",
              "    <tr>\n",
              "      <th>253472</th>\n",
              "      <td>57179a717622dd65990004f3</td>\n",
              "      <td>Mallard's Reach, Midday</td>\n",
              "      <td>https://d32dm0rphc51dk.cloudfront.net/xbtYHPkv...</td>\n",
              "      <td>2016</td>\n",
              "      <td>Michael Jackson (b.1966)</td>\n",
              "      <td>photo-eye Gallery</td>\n",
              "      <td>On hold</td>\n",
              "      <td>02198</td>\n",
              "      <td>02</td>\n",
              "      <td>2022-04-02</td>\n",
              "      <td>2022-04-02</td>\n",
              "    </tr>\n",
              "  </tbody>\n",
              "</table>\n",
              "</div>\n",
              "      <button class=\"colab-df-convert\" onclick=\"convertToInteractive('df-47e3c8b6-9e7a-481b-8761-2401bd5db66b')\"\n",
              "              title=\"Convert this dataframe to an interactive table.\"\n",
              "              style=\"display:none;\">\n",
              "        \n",
              "  <svg xmlns=\"http://www.w3.org/2000/svg\" height=\"24px\"viewBox=\"0 0 24 24\"\n",
              "       width=\"24px\">\n",
              "    <path d=\"M0 0h24v24H0V0z\" fill=\"none\"/>\n",
              "    <path d=\"M18.56 5.44l.94 2.06.94-2.06 2.06-.94-2.06-.94-.94-2.06-.94 2.06-2.06.94zm-11 1L8.5 8.5l.94-2.06 2.06-.94-2.06-.94L8.5 2.5l-.94 2.06-2.06.94zm10 10l.94 2.06.94-2.06 2.06-.94-2.06-.94-.94-2.06-.94 2.06-2.06.94z\"/><path d=\"M17.41 7.96l-1.37-1.37c-.4-.4-.92-.59-1.43-.59-.52 0-1.04.2-1.43.59L10.3 9.45l-7.72 7.72c-.78.78-.78 2.05 0 2.83L4 21.41c.39.39.9.59 1.41.59.51 0 1.02-.2 1.41-.59l7.78-7.78 2.81-2.81c.8-.78.8-2.07 0-2.86zM5.41 20L4 18.59l7.72-7.72 1.47 1.35L5.41 20z\"/>\n",
              "  </svg>\n",
              "      </button>\n",
              "      \n",
              "  <style>\n",
              "    .colab-df-container {\n",
              "      display:flex;\n",
              "      flex-wrap:wrap;\n",
              "      gap: 12px;\n",
              "    }\n",
              "\n",
              "    .colab-df-convert {\n",
              "      background-color: #E8F0FE;\n",
              "      border: none;\n",
              "      border-radius: 50%;\n",
              "      cursor: pointer;\n",
              "      display: none;\n",
              "      fill: #1967D2;\n",
              "      height: 32px;\n",
              "      padding: 0 0 0 0;\n",
              "      width: 32px;\n",
              "    }\n",
              "\n",
              "    .colab-df-convert:hover {\n",
              "      background-color: #E2EBFA;\n",
              "      box-shadow: 0px 1px 2px rgba(60, 64, 67, 0.3), 0px 1px 3px 1px rgba(60, 64, 67, 0.15);\n",
              "      fill: #174EA6;\n",
              "    }\n",
              "\n",
              "    [theme=dark] .colab-df-convert {\n",
              "      background-color: #3B4455;\n",
              "      fill: #D2E3FC;\n",
              "    }\n",
              "\n",
              "    [theme=dark] .colab-df-convert:hover {\n",
              "      background-color: #434B5C;\n",
              "      box-shadow: 0px 1px 3px 1px rgba(0, 0, 0, 0.15);\n",
              "      filter: drop-shadow(0px 1px 2px rgba(0, 0, 0, 0.3));\n",
              "      fill: #FFFFFF;\n",
              "    }\n",
              "  </style>\n",
              "\n",
              "      <script>\n",
              "        const buttonEl =\n",
              "          document.querySelector('#df-47e3c8b6-9e7a-481b-8761-2401bd5db66b button.colab-df-convert');\n",
              "        buttonEl.style.display =\n",
              "          google.colab.kernel.accessAllowed ? 'block' : 'none';\n",
              "\n",
              "        async function convertToInteractive(key) {\n",
              "          const element = document.querySelector('#df-47e3c8b6-9e7a-481b-8761-2401bd5db66b');\n",
              "          const dataTable =\n",
              "            await google.colab.kernel.invokeFunction('convertToInteractive',\n",
              "                                                     [key], {});\n",
              "          if (!dataTable) return;\n",
              "\n",
              "          const docLinkHtml = 'Like what you see? Visit the ' +\n",
              "            '<a target=\"_blank\" href=https://colab.research.google.com/notebooks/data_table.ipynb>data table notebook</a>'\n",
              "            + ' to learn more about interactive tables.';\n",
              "          element.innerHTML = '';\n",
              "          dataTable['output_type'] = 'display_data';\n",
              "          await google.colab.output.renderOutput(dataTable, element);\n",
              "          const docLink = document.createElement('div');\n",
              "          docLink.innerHTML = docLinkHtml;\n",
              "          element.appendChild(docLink);\n",
              "        }\n",
              "      </script>\n",
              "    </div>\n",
              "  </div>\n",
              "  "
            ]
          },
          "metadata": {},
          "execution_count": 13
        }
      ],
      "source": [
        "df_cat_dat_total['category_id'] = df_cat_dat_total['category_id'].dropna().apply(lambda x: str(x) if len(str(x))==cat_id_len else ('0'*(cat_id_len-len(str(x)))+str(x)))\n",
        "df_cat_dat_total['gene_id'] = df_cat_dat_total['gene_id'].dropna().apply(lambda x: str(x) if len(str(x))==gen_id_len else ('0'*(gen_id_len-len(str(x)))+str(x)))\n",
        "\n",
        "df_cat_dat_total['link'] = df_cat_dat_total['link'].dropna().apply(lambda x: img_link_corr(x))\n",
        "\n",
        "df_cat_dat_total.sample(5)"
      ]
    },
    {
      "cell_type": "code",
      "execution_count": null,
      "metadata": {
        "colab": {
          "base_uri": "https://localhost:8080/"
        },
        "id": "k11GYBaLIp1D",
        "outputId": "3b41fb2a-2cf8-45d7-ab3f-edb925b6bb24"
      },
      "outputs": [
        {
          "output_type": "stream",
          "name": "stdout",
          "text": [
            "https://d32dm0rphc51dk.cloudfront.net/565FKKDYEaIfulVqHNqsBQ/large.jpg\n",
            "https://d32dm0rphc51dk.cloudfront.net/GVIL9qS-4Gg2hM9THrem7g/large.jpg\n",
            "https://d32dm0rphc51dk.cloudfront.net/xYS3euE107bqQXJqCC7qdA/large.jpg\n",
            "https://d32dm0rphc51dk.cloudfront.net/yaG9pLm6TKttVxRCQTIiiw/large.jpg\n",
            "https://d32dm0rphc51dk.cloudfront.net/16G8Mh4xIYx4omXgPNkraw/large.jpg\n"
          ]
        }
      ],
      "source": [
        "for link in df_cat_dat_total['link'].sample(5):\n",
        "  print(link)"
      ]
    },
    {
      "cell_type": "markdown",
      "metadata": {
        "id": "1llmSnWlsnPX"
      },
      "source": [
        "Count of unique artsy_id and link should be equal. But sometimes they're not (like in cat 03)."
      ]
    },
    {
      "cell_type": "code",
      "execution_count": null,
      "metadata": {
        "colab": {
          "base_uri": "https://localhost:8080/"
        },
        "id": "-ff_vHrMIprR",
        "outputId": "d21be199-ef16-43be-97f2-8436c2e7b683"
      },
      "outputs": [
        {
          "output_type": "stream",
          "name": "stdout",
          "text": [
            "115482\n",
            "115482\n"
          ]
        }
      ],
      "source": [
        "print(df_cat_dat_total['artsy_id'].nunique())\n",
        "print(df_cat_dat_total['link'].nunique())"
      ]
    },
    {
      "cell_type": "code",
      "execution_count": null,
      "metadata": {
        "colab": {
          "base_uri": "https://localhost:8080/"
        },
        "id": "nexPBDQbnr08",
        "outputId": "278b3d74-d37f-488d-d9a7-f0a5e917d882"
      },
      "outputs": [
        {
          "name": "stdout",
          "output_type": "stream",
          "text": [
            "<class 'pandas.core.frame.DataFrame'>\n",
            "Int64Index: 168754 entries, 0 to 255790\n",
            "Data columns (total 2 columns):\n",
            " #   Column    Non-Null Count   Dtype \n",
            "---  ------    --------------   ----- \n",
            " 0   artsy_id  168754 non-null  object\n",
            " 1   link      168754 non-null  object\n",
            "dtypes: object(2)\n",
            "memory usage: 3.9+ MB\n"
          ]
        }
      ],
      "source": [
        "# !!! links' problem solving !!!\n",
        "artsy_id_link = df_cat_dat_total[['artsy_id', 'link']]\n",
        "artsy_id_link.drop_duplicates(subset = ['link', 'artsy_id'], keep = 'first', inplace = True)\n",
        "artsy_id_link.info()"
      ]
    },
    {
      "cell_type": "code",
      "source": [
        "# !!! links' problem solving !!!"
      ],
      "metadata": {
        "id": "_tWxR5VAQVp2"
      },
      "execution_count": null,
      "outputs": []
    },
    {
      "cell_type": "code",
      "execution_count": null,
      "metadata": {
        "colab": {
          "base_uri": "https://localhost:8080/",
          "height": 81
        },
        "id": "dGzNKoR6jAkf",
        "outputId": "c882dfcc-5979-4113-dbd0-430d94ff73cf"
      },
      "outputs": [
        {
          "data": {
            "text/html": [
              "\n",
              "  <div id=\"df-83f2ad51-3805-465c-9e72-3954a9b91d47\">\n",
              "    <div class=\"colab-df-container\">\n",
              "      <div>\n",
              "<style scoped>\n",
              "    .dataframe tbody tr th:only-of-type {\n",
              "        vertical-align: middle;\n",
              "    }\n",
              "\n",
              "    .dataframe tbody tr th {\n",
              "        vertical-align: top;\n",
              "    }\n",
              "\n",
              "    .dataframe thead th {\n",
              "        text-align: right;\n",
              "    }\n",
              "</style>\n",
              "<table border=\"1\" class=\"dataframe\">\n",
              "  <thead>\n",
              "    <tr style=\"text-align: right;\">\n",
              "      <th></th>\n",
              "      <th>artsy_id</th>\n",
              "      <th>count</th>\n",
              "    </tr>\n",
              "  </thead>\n",
              "  <tbody>\n",
              "    <tr>\n",
              "      <th>167397</th>\n",
              "      <td>62448553758a48000c81676a</td>\n",
              "      <td>2</td>\n",
              "    </tr>\n",
              "  </tbody>\n",
              "</table>\n",
              "</div>\n",
              "      <button class=\"colab-df-convert\" onclick=\"convertToInteractive('df-83f2ad51-3805-465c-9e72-3954a9b91d47')\"\n",
              "              title=\"Convert this dataframe to an interactive table.\"\n",
              "              style=\"display:none;\">\n",
              "        \n",
              "  <svg xmlns=\"http://www.w3.org/2000/svg\" height=\"24px\"viewBox=\"0 0 24 24\"\n",
              "       width=\"24px\">\n",
              "    <path d=\"M0 0h24v24H0V0z\" fill=\"none\"/>\n",
              "    <path d=\"M18.56 5.44l.94 2.06.94-2.06 2.06-.94-2.06-.94-.94-2.06-.94 2.06-2.06.94zm-11 1L8.5 8.5l.94-2.06 2.06-.94-2.06-.94L8.5 2.5l-.94 2.06-2.06.94zm10 10l.94 2.06.94-2.06 2.06-.94-2.06-.94-.94-2.06-.94 2.06-2.06.94z\"/><path d=\"M17.41 7.96l-1.37-1.37c-.4-.4-.92-.59-1.43-.59-.52 0-1.04.2-1.43.59L10.3 9.45l-7.72 7.72c-.78.78-.78 2.05 0 2.83L4 21.41c.39.39.9.59 1.41.59.51 0 1.02-.2 1.41-.59l7.78-7.78 2.81-2.81c.8-.78.8-2.07 0-2.86zM5.41 20L4 18.59l7.72-7.72 1.47 1.35L5.41 20z\"/>\n",
              "  </svg>\n",
              "      </button>\n",
              "      \n",
              "  <style>\n",
              "    .colab-df-container {\n",
              "      display:flex;\n",
              "      flex-wrap:wrap;\n",
              "      gap: 12px;\n",
              "    }\n",
              "\n",
              "    .colab-df-convert {\n",
              "      background-color: #E8F0FE;\n",
              "      border: none;\n",
              "      border-radius: 50%;\n",
              "      cursor: pointer;\n",
              "      display: none;\n",
              "      fill: #1967D2;\n",
              "      height: 32px;\n",
              "      padding: 0 0 0 0;\n",
              "      width: 32px;\n",
              "    }\n",
              "\n",
              "    .colab-df-convert:hover {\n",
              "      background-color: #E2EBFA;\n",
              "      box-shadow: 0px 1px 2px rgba(60, 64, 67, 0.3), 0px 1px 3px 1px rgba(60, 64, 67, 0.15);\n",
              "      fill: #174EA6;\n",
              "    }\n",
              "\n",
              "    [theme=dark] .colab-df-convert {\n",
              "      background-color: #3B4455;\n",
              "      fill: #D2E3FC;\n",
              "    }\n",
              "\n",
              "    [theme=dark] .colab-df-convert:hover {\n",
              "      background-color: #434B5C;\n",
              "      box-shadow: 0px 1px 3px 1px rgba(0, 0, 0, 0.15);\n",
              "      filter: drop-shadow(0px 1px 2px rgba(0, 0, 0, 0.3));\n",
              "      fill: #FFFFFF;\n",
              "    }\n",
              "  </style>\n",
              "\n",
              "      <script>\n",
              "        const buttonEl =\n",
              "          document.querySelector('#df-83f2ad51-3805-465c-9e72-3954a9b91d47 button.colab-df-convert');\n",
              "        buttonEl.style.display =\n",
              "          google.colab.kernel.accessAllowed ? 'block' : 'none';\n",
              "\n",
              "        async function convertToInteractive(key) {\n",
              "          const element = document.querySelector('#df-83f2ad51-3805-465c-9e72-3954a9b91d47');\n",
              "          const dataTable =\n",
              "            await google.colab.kernel.invokeFunction('convertToInteractive',\n",
              "                                                     [key], {});\n",
              "          if (!dataTable) return;\n",
              "\n",
              "          const docLinkHtml = 'Like what you see? Visit the ' +\n",
              "            '<a target=\"_blank\" href=https://colab.research.google.com/notebooks/data_table.ipynb>data table notebook</a>'\n",
              "            + ' to learn more about interactive tables.';\n",
              "          element.innerHTML = '';\n",
              "          dataTable['output_type'] = 'display_data';\n",
              "          await google.colab.output.renderOutput(dataTable, element);\n",
              "          const docLink = document.createElement('div');\n",
              "          docLink.innerHTML = docLinkHtml;\n",
              "          element.appendChild(docLink);\n",
              "        }\n",
              "      </script>\n",
              "    </div>\n",
              "  </div>\n",
              "  "
            ],
            "text/plain": [
              "                        artsy_id  count\n",
              "167397  62448553758a48000c81676a      2"
            ]
          },
          "execution_count": 17,
          "metadata": {},
          "output_type": "execute_result"
        }
      ],
      "source": [
        "artsy_link_groupped = artsy_id_link.groupby(['artsy_id'])['link'].agg(['count']).reset_index()\n",
        "artsy_link_groupped.loc[artsy_link_groupped['count']>1]"
      ]
    },
    {
      "cell_type": "code",
      "execution_count": null,
      "metadata": {
        "colab": {
          "base_uri": "https://localhost:8080/",
          "height": 311
        },
        "id": "P6ki-ovkpxII",
        "outputId": "d7810dba-80b1-4840-a278-72eddae0ad1c"
      },
      "outputs": [
        {
          "data": {
            "text/html": [
              "\n",
              "  <div id=\"df-0e136f24-c215-4374-96d6-347f98629e16\">\n",
              "    <div class=\"colab-df-container\">\n",
              "      <div>\n",
              "<style scoped>\n",
              "    .dataframe tbody tr th:only-of-type {\n",
              "        vertical-align: middle;\n",
              "    }\n",
              "\n",
              "    .dataframe tbody tr th {\n",
              "        vertical-align: top;\n",
              "    }\n",
              "\n",
              "    .dataframe thead th {\n",
              "        text-align: right;\n",
              "    }\n",
              "</style>\n",
              "<table border=\"1\" class=\"dataframe\">\n",
              "  <thead>\n",
              "    <tr style=\"text-align: right;\">\n",
              "      <th></th>\n",
              "      <th>artsy_id</th>\n",
              "      <th>name</th>\n",
              "      <th>link</th>\n",
              "      <th>year</th>\n",
              "      <th>artist</th>\n",
              "      <th>gallery</th>\n",
              "      <th>price</th>\n",
              "      <th>gene_id</th>\n",
              "      <th>category_id</th>\n",
              "      <th>parsing_date</th>\n",
              "      <th>updating_date</th>\n",
              "    </tr>\n",
              "  </thead>\n",
              "  <tbody>\n",
              "    <tr>\n",
              "      <th>6995</th>\n",
              "      <td>62448553758a48000c81676a</td>\n",
              "      <td>Perspectiva</td>\n",
              "      <td>https://d32dm0rphc51dk.cloudfront.net/6OibNMhJ...</td>\n",
              "      <td>2022</td>\n",
              "      <td>Rita Moreno Mir</td>\n",
              "      <td>ENCANT</td>\n",
              "      <td>€1,700</td>\n",
              "      <td>03008</td>\n",
              "      <td>03</td>\n",
              "      <td>2022-04-01</td>\n",
              "      <td>2022-04-01</td>\n",
              "    </tr>\n",
              "    <tr>\n",
              "      <th>51793</th>\n",
              "      <td>62448553758a48000c81676a</td>\n",
              "      <td>Perspectiva</td>\n",
              "      <td>https://d32dm0rphc51dk.cloudfront.net/6OibNMhJ...</td>\n",
              "      <td>2022</td>\n",
              "      <td>Rita Moreno Mir</td>\n",
              "      <td>ENCANT</td>\n",
              "      <td>€1,700</td>\n",
              "      <td>03056</td>\n",
              "      <td>03</td>\n",
              "      <td>2022-04-01</td>\n",
              "      <td>2022-04-01</td>\n",
              "    </tr>\n",
              "    <tr>\n",
              "      <th>243946</th>\n",
              "      <td>62448553758a48000c81676a</td>\n",
              "      <td>Perspectiva</td>\n",
              "      <td>https://d32dm0rphc51dk.cloudfront.net/_u9EMRf_...</td>\n",
              "      <td>2022</td>\n",
              "      <td>Rita Moreno Mir</td>\n",
              "      <td>ENCANT</td>\n",
              "      <td>€1,700</td>\n",
              "      <td>03248</td>\n",
              "      <td>03</td>\n",
              "      <td>2022-04-01</td>\n",
              "      <td>2022-04-01</td>\n",
              "    </tr>\n",
              "  </tbody>\n",
              "</table>\n",
              "</div>\n",
              "      <button class=\"colab-df-convert\" onclick=\"convertToInteractive('df-0e136f24-c215-4374-96d6-347f98629e16')\"\n",
              "              title=\"Convert this dataframe to an interactive table.\"\n",
              "              style=\"display:none;\">\n",
              "        \n",
              "  <svg xmlns=\"http://www.w3.org/2000/svg\" height=\"24px\"viewBox=\"0 0 24 24\"\n",
              "       width=\"24px\">\n",
              "    <path d=\"M0 0h24v24H0V0z\" fill=\"none\"/>\n",
              "    <path d=\"M18.56 5.44l.94 2.06.94-2.06 2.06-.94-2.06-.94-.94-2.06-.94 2.06-2.06.94zm-11 1L8.5 8.5l.94-2.06 2.06-.94-2.06-.94L8.5 2.5l-.94 2.06-2.06.94zm10 10l.94 2.06.94-2.06 2.06-.94-2.06-.94-.94-2.06-.94 2.06-2.06.94z\"/><path d=\"M17.41 7.96l-1.37-1.37c-.4-.4-.92-.59-1.43-.59-.52 0-1.04.2-1.43.59L10.3 9.45l-7.72 7.72c-.78.78-.78 2.05 0 2.83L4 21.41c.39.39.9.59 1.41.59.51 0 1.02-.2 1.41-.59l7.78-7.78 2.81-2.81c.8-.78.8-2.07 0-2.86zM5.41 20L4 18.59l7.72-7.72 1.47 1.35L5.41 20z\"/>\n",
              "  </svg>\n",
              "      </button>\n",
              "      \n",
              "  <style>\n",
              "    .colab-df-container {\n",
              "      display:flex;\n",
              "      flex-wrap:wrap;\n",
              "      gap: 12px;\n",
              "    }\n",
              "\n",
              "    .colab-df-convert {\n",
              "      background-color: #E8F0FE;\n",
              "      border: none;\n",
              "      border-radius: 50%;\n",
              "      cursor: pointer;\n",
              "      display: none;\n",
              "      fill: #1967D2;\n",
              "      height: 32px;\n",
              "      padding: 0 0 0 0;\n",
              "      width: 32px;\n",
              "    }\n",
              "\n",
              "    .colab-df-convert:hover {\n",
              "      background-color: #E2EBFA;\n",
              "      box-shadow: 0px 1px 2px rgba(60, 64, 67, 0.3), 0px 1px 3px 1px rgba(60, 64, 67, 0.15);\n",
              "      fill: #174EA6;\n",
              "    }\n",
              "\n",
              "    [theme=dark] .colab-df-convert {\n",
              "      background-color: #3B4455;\n",
              "      fill: #D2E3FC;\n",
              "    }\n",
              "\n",
              "    [theme=dark] .colab-df-convert:hover {\n",
              "      background-color: #434B5C;\n",
              "      box-shadow: 0px 1px 3px 1px rgba(0, 0, 0, 0.15);\n",
              "      filter: drop-shadow(0px 1px 2px rgba(0, 0, 0, 0.3));\n",
              "      fill: #FFFFFF;\n",
              "    }\n",
              "  </style>\n",
              "\n",
              "      <script>\n",
              "        const buttonEl =\n",
              "          document.querySelector('#df-0e136f24-c215-4374-96d6-347f98629e16 button.colab-df-convert');\n",
              "        buttonEl.style.display =\n",
              "          google.colab.kernel.accessAllowed ? 'block' : 'none';\n",
              "\n",
              "        async function convertToInteractive(key) {\n",
              "          const element = document.querySelector('#df-0e136f24-c215-4374-96d6-347f98629e16');\n",
              "          const dataTable =\n",
              "            await google.colab.kernel.invokeFunction('convertToInteractive',\n",
              "                                                     [key], {});\n",
              "          if (!dataTable) return;\n",
              "\n",
              "          const docLinkHtml = 'Like what you see? Visit the ' +\n",
              "            '<a target=\"_blank\" href=https://colab.research.google.com/notebooks/data_table.ipynb>data table notebook</a>'\n",
              "            + ' to learn more about interactive tables.';\n",
              "          element.innerHTML = '';\n",
              "          dataTable['output_type'] = 'display_data';\n",
              "          await google.colab.output.renderOutput(dataTable, element);\n",
              "          const docLink = document.createElement('div');\n",
              "          docLink.innerHTML = docLinkHtml;\n",
              "          element.appendChild(docLink);\n",
              "        }\n",
              "      </script>\n",
              "    </div>\n",
              "  </div>\n",
              "  "
            ],
            "text/plain": [
              "                        artsy_id         name  \\\n",
              "6995    62448553758a48000c81676a  Perspectiva   \n",
              "51793   62448553758a48000c81676a  Perspectiva   \n",
              "243946  62448553758a48000c81676a  Perspectiva   \n",
              "\n",
              "                                                     link  year  \\\n",
              "6995    https://d32dm0rphc51dk.cloudfront.net/6OibNMhJ...  2022   \n",
              "51793   https://d32dm0rphc51dk.cloudfront.net/6OibNMhJ...  2022   \n",
              "243946  https://d32dm0rphc51dk.cloudfront.net/_u9EMRf_...  2022   \n",
              "\n",
              "                 artist gallery    price gene_id category_id parsing_date  \\\n",
              "6995    Rita Moreno Mir  ENCANT  €1,700    03008          03   2022-04-01   \n",
              "51793   Rita Moreno Mir  ENCANT  €1,700    03056          03   2022-04-01   \n",
              "243946  Rita Moreno Mir  ENCANT  €1,700    03248          03   2022-04-01   \n",
              "\n",
              "       updating_date  \n",
              "6995      2022-04-01  \n",
              "51793     2022-04-01  \n",
              "243946    2022-04-01  "
            ]
          },
          "execution_count": 18,
          "metadata": {},
          "output_type": "execute_result"
        }
      ],
      "source": [
        "df_cat_dat_total.loc[df_cat_dat_total['artsy_id']=='62448553758a48000c81676a']"
      ]
    },
    {
      "cell_type": "code",
      "execution_count": null,
      "metadata": {
        "colab": {
          "base_uri": "https://localhost:8080/"
        },
        "id": "YSWBiXmfqqqH",
        "outputId": "68016c59-24b9-4163-b4e8-c8c690032fb5"
      },
      "outputs": [
        {
          "name": "stdout",
          "output_type": "stream",
          "text": [
            "https://d32dm0rphc51dk.cloudfront.net/6OibNMhJeHc6LyGTagxHGA/large.jpg\n",
            "https://d32dm0rphc51dk.cloudfront.net/6OibNMhJeHc6LyGTagxHGA/large.jpg\n",
            "https://d32dm0rphc51dk.cloudfront.net/6OibNMhJeHc6LyGTagxHGA/large.jpg\n"
          ]
        }
      ],
      "source": [
        "for link in df_cat_dat_total.loc[df_cat_dat_total['artsy_id']=='62448553758a48000c81676a']['link']:\n",
        "  print(link)"
      ]
    },
    {
      "cell_type": "markdown",
      "metadata": {
        "id": "Bp2n15jXtEyb"
      },
      "source": [
        "These pictures are the same but shots were done with different light. Replace the last one."
      ]
    },
    {
      "cell_type": "code",
      "execution_count": null,
      "metadata": {
        "id": "ndQcOVOKsXsT"
      },
      "outputs": [],
      "source": [
        "df_cat_dat_total.at[243946, 'link'] = 'https://d32dm0rphc51dk.cloudfront.net/6OibNMhJeHc6LyGTagxHGA/large.jpg'"
      ]
    },
    {
      "cell_type": "code",
      "execution_count": null,
      "metadata": {
        "colab": {
          "base_uri": "https://localhost:8080/"
        },
        "id": "NbfT-f22tkZR",
        "outputId": "0a750b21-855a-439d-a2a2-ac951705e4f4"
      },
      "outputs": [
        {
          "name": "stdout",
          "output_type": "stream",
          "text": [
            "168753\n",
            "168753\n"
          ]
        }
      ],
      "source": [
        "print(df_cat_dat_total['artsy_id'].nunique())\n",
        "print(df_cat_dat_total['link'].nunique())"
      ]
    },
    {
      "cell_type": "code",
      "source": [
        "# !!! links' problem solving !!!"
      ],
      "metadata": {
        "id": "dNCYORCNQbqC"
      },
      "execution_count": null,
      "outputs": []
    },
    {
      "cell_type": "markdown",
      "source": [
        "### Artists"
      ],
      "metadata": {
        "id": "0AbtoZweRYHF"
      }
    },
    {
      "cell_type": "markdown",
      "metadata": {
        "id": "hZ2aPW2EslTv"
      },
      "source": [
        "We need to create artist id for artworks dict. Artists seem to be ok."
      ]
    },
    {
      "cell_type": "code",
      "execution_count": null,
      "metadata": {
        "colab": {
          "base_uri": "https://localhost:8080/"
        },
        "id": "epFwJ96IjAhD",
        "outputId": "37592bde-43bf-4f16-e0ae-06305d7a1d54"
      },
      "outputs": [
        {
          "output_type": "stream",
          "name": "stdout",
          "text": [
            "19738\n",
            "19738\n"
          ]
        }
      ],
      "source": [
        "print(df_cat_dat_total['artist'].dropna().nunique())\n",
        "artists_list = sorted(df_cat_dat_total['artist'].dropna().unique().tolist())\n",
        "print(len(artists_list))"
      ]
    },
    {
      "cell_type": "code",
      "execution_count": null,
      "metadata": {
        "colab": {
          "base_uri": "https://localhost:8080/"
        },
        "id": "_xHLdci4jAcw",
        "outputId": "5f70fc92-7115-469c-8b0b-64c1acfafa87"
      },
      "outputs": [
        {
          "output_type": "execute_result",
          "data": {
            "text/plain": [
              "[' \\t Guru Dragpo, a wrathful form of Padmasambhava, 15th centuryRubin Museum of Art',\n",
              " ' Bwa Culture, Burkina Faso',\n",
              " ' Possibly by Protarchos',\n",
              " ' Possibly the Kontoleon Master, Cycladic, active 2700 - 2600 B.C.,  Greece, Cyclades, Europe',\n",
              " ' Probably by Aegisthus Painter, Greek (Attic), active about 480 - about 460 B.C.,  Athens, Greece, Europe',\n",
              " ' Psiax, Greek (Attic), active about 525 - 510 B.C.,  Athens, Greece, Europe',\n",
              " ' Signed by Apelles, Greek, active about 100 - 1 B.C.,  Rome, Italy, Lazio, Europe',\n",
              " ' Signed by Aristodamos of Argos, Greek (Argive), active 590 - 570 B.C.,  Argos, Greece, Europe',\n",
              " ' Unknown',\n",
              " ' Unknown,  Alexandria, Egypt, Africa']"
            ]
          },
          "metadata": {},
          "execution_count": 58
        }
      ],
      "source": [
        "artists_list[:10]"
      ]
    },
    {
      "cell_type": "code",
      "execution_count": null,
      "metadata": {
        "colab": {
          "base_uri": "https://localhost:8080/"
        },
        "id": "94R1q485jAYy",
        "outputId": "545c9395-7f96-4dac-c895-d135c7a0bf56"
      },
      "outputs": [
        {
          "output_type": "execute_result",
          "data": {
            "text/plain": [
              "['Øystein Aasan',\n",
              " 'Česlovas Lukenskas',\n",
              " 'İbrahim Örs',\n",
              " 'İnci Eviner',\n",
              " 'İrem İncedayı',\n",
              " 'Şükran Moral',\n",
              " 'Žygimantas Augustinas',\n",
              " 'Ștefan Tănase',\n",
              " '“Striking of his head” (Kwe’ata’re’esu) Triptych, Mid 17th-early 18th CenturyHarn Museum of Art',\n",
              " '付经岩 Fu Jingyan']"
            ]
          },
          "metadata": {},
          "execution_count": 59
        }
      ],
      "source": [
        "artists_list[-10:]"
      ]
    },
    {
      "cell_type": "code",
      "execution_count": null,
      "metadata": {
        "colab": {
          "base_uri": "https://localhost:8080/"
        },
        "id": "volUmC_mjAUz",
        "outputId": "99aa72ae-bcb1-4918-d528-c74064261211"
      },
      "outputs": [
        {
          "output_type": "execute_result",
          "data": {
            "text/plain": [
              "['João Maria Gusmão & Pedro Paiva',\n",
              " 'João Onofre',\n",
              " 'João Pedro Vale',\n",
              " 'João Penalva',\n",
              " 'João Tabarra',\n",
              " 'Joël Andrianomearisoa',\n",
              " 'Joël Degbo',\n",
              " 'Joël Stein',\n",
              " 'Jože Meglič',\n",
              " 'Ju Ming 朱銘']"
            ]
          },
          "metadata": {},
          "execution_count": 63
        }
      ],
      "source": [
        "artists_list[(len(artists_list)//2):(len(artists_list)//2+10)]"
      ]
    },
    {
      "cell_type": "markdown",
      "source": [
        "### Galleries"
      ],
      "metadata": {
        "id": "9NOvAdqiRbW5"
      }
    },
    {
      "cell_type": "markdown",
      "metadata": {
        "id": "yPs-Ahpeudzj"
      },
      "source": [
        "We also need to create gallery id for artworks dict."
      ]
    },
    {
      "cell_type": "code",
      "execution_count": null,
      "metadata": {
        "colab": {
          "base_uri": "https://localhost:8080/"
        },
        "id": "A0q3baYGmeJj",
        "outputId": "68cbd6df-4c37-4917-d3b2-f2ff19352a20"
      },
      "outputs": [
        {
          "output_type": "stream",
          "name": "stdout",
          "text": [
            "4746\n",
            "4746\n"
          ]
        }
      ],
      "source": [
        "print(df_cat_dat_total['gallery'].nunique())\n",
        "gallery_list = sorted(df_cat_dat_total['gallery'].dropna().unique().tolist())\n",
        "print(len(gallery_list))"
      ]
    },
    {
      "cell_type": "code",
      "execution_count": null,
      "metadata": {
        "colab": {
          "base_uri": "https://localhost:8080/"
        },
        "id": "1Qfg0NuZmeGJ",
        "outputId": "eeb4615e-9e26-40a2-a068-2181dfa29bbd"
      },
      "outputs": [
        {
          "output_type": "execute_result",
          "data": {
            "text/plain": [
              "[' \"A Brush with Reality: Calligraphic Paintings by Lobsang Choephel\" at Tibet House US, New York (2015)',\n",
              " ' \"Disguise: Masks and Global African Art\" at Seattle Art Museum, Seattle (2015)',\n",
              " ' \"Yoko Ono: One Woman Show, 1960-1971\" at Museum of Modern Art, New York (2015)',\n",
              " '\"2015 Wolfgang Hahn Prize: Michael Krebber and R. H. Quaytman\" at Museum Ludwig, Cologne (2015)',\n",
              " '\"2016 Recognition of Art by Women (RAW) Artist: Njideka Akunyili Crosby\" at Norton Museum of Art, West Palm Beach',\n",
              " '\"21er Raum: Iman Issa - Material\" at 21er Haus, Vienna',\n",
              " '\"4 REAL & TRUE 2. Wim Wenders. Landscapes. Photographs.\" at Museum Kunstpalast, Düsseldorf (2015)',\n",
              " '\"A Beautiful Lie – Eckersberg\" at Statens Museum for Kunst, Copenhagen ',\n",
              " '\"A Mind of Winter: Photographs by Abelardo Morell\" at the Bowdoin College Museum of Art',\n",
              " '\"A New Dynasty – Created in China\"  Venue: ARoS Aarhus Museum of Art, Aarhus ']"
            ]
          },
          "metadata": {},
          "execution_count": 65
        }
      ],
      "source": [
        "gallery_list[:10]"
      ]
    },
    {
      "cell_type": "code",
      "execution_count": null,
      "metadata": {
        "colab": {
          "base_uri": "https://localhost:8080/"
        },
        "id": "S6DKQmaumeC0",
        "outputId": "515a6d91-80d3-41d1-b373-e087cd8b2be9"
      },
      "outputs": [
        {
          "output_type": "execute_result",
          "data": {
            "text/plain": [
              "['Österreichische Galerie Belvedere, Vienna',\n",
              " 'Österreichische Nationalbibliothek, Vienna',\n",
              " '“Clifford Ross: Landscape Seen & Imagined” at MASS MoCA, North Adams (2015)',\n",
              " '“Collectionism and Modernity. Two Case Studies: The Im Obersteg and Rudolf Staechelin Collections” at the Museo Reina Sofía, Madrid',\n",
              " '“Created by a Hand with but a Chisel Armed…” Sculpture in St Petersburg’s Palaces in the 19th Century at The State Hermitage Museum, 2016',\n",
              " '“In the Eye of the Thunderstorm: Effervescent Practices from the Arab World” at ArsCulture, Venice (2015)',\n",
              " '“L’image volée” at Fondazione Prada, Milan (2016)',\n",
              " '√K Contemporary',\n",
              " '首都藝術中心 Capital Art Center',\n",
              " '鳩ノ森美術 / HATONOMORI ART']"
            ]
          },
          "metadata": {},
          "execution_count": 66
        }
      ],
      "source": [
        "gallery_list[-10:]"
      ]
    },
    {
      "cell_type": "markdown",
      "metadata": {
        "id": "W9o2lhKHvp7v"
      },
      "source": [
        "Seems like in some cases there's a exhibition name in a gellery name box. Let's try to divide them."
      ]
    },
    {
      "cell_type": "code",
      "execution_count": null,
      "metadata": {
        "colab": {
          "base_uri": "https://localhost:8080/"
        },
        "id": "ohi385Iymd_X",
        "outputId": "a7df0739-38df-4d4c-d34e-150de728a646"
      },
      "outputs": [
        {
          "name": "stdout",
          "output_type": "stream",
          "text": [
            "5256\n",
            "5360\n"
          ]
        }
      ],
      "source": [
        "exhib_list = []\n",
        "gal_list = []\n",
        "\n",
        "for g in gallery_list:\n",
        "  try:\n",
        "    gal = g.split(' at ')[-1]\n",
        "    gal_list.append(gal)\n",
        "    exhib_list.append(g.replace(' at ' + gal, ''))\n",
        "  except:\n",
        "    gal_list.append(g)\n",
        "\n",
        "gal_list = sorted(list(set(gal_list)))\n",
        "print(len(gal_list))\n",
        "exhib_list = sorted(list(set(exhib_list)))\n",
        "print(len(exhib_list))"
      ]
    },
    {
      "cell_type": "code",
      "execution_count": null,
      "metadata": {
        "colab": {
          "base_uri": "https://localhost:8080/"
        },
        "id": "smRNvpwamd7j",
        "outputId": "a84e1651-78bb-4e30-8b59-efd18728fdeb"
      },
      "outputs": [
        {
          "data": {
            "text/plain": [
              "[' Museum Ludwig, Cologne',\n",
              " '\"A New Dynasty – Created in China\"  Venue: ARoS Aarhus Museum of Art, Aarhus ',\n",
              " '\"Anselm Kiefer\"at Centre Pompidou, Paris',\n",
              " '\"Barbie\"at Musée des Arts Décoratifs, Paris',\n",
              " '\"Chen Zhen: Without going to New York and Paris, life could be internationalized\"  Venue: Rockbund Art Museum, Shanghai',\n",
              " '\"Inhuman\"at Fridericianum, Kassel, Germany',\n",
              " '\"Joaquín Torres-García: The Arcadian Modern\"at the Museum of Modern Art, New York',\n",
              " '\"Landscapes of Belgium\" Musée d\\'Ixelles, Brussels (2015)',\n",
              " '\"Philippe Parreno: Anywhere, Anywhere, Out Of The World\", Palais de Tokyo, Paris (2013)',\n",
              " '\"This Art is Your Art\" Competition: The White House Historical Association, Artsy, and the Robert Rauschenberg Foundation']"
            ]
          },
          "execution_count": 31,
          "metadata": {},
          "output_type": "execute_result"
        }
      ],
      "source": [
        "gal_list[:10]"
      ]
    },
    {
      "cell_type": "markdown",
      "metadata": {
        "id": "PfhDtMdCwMcu"
      },
      "source": [
        "The data is not clear and this info is not critical, leave it as it is, won't do gallery id."
      ]
    },
    {
      "cell_type": "code",
      "execution_count": null,
      "metadata": {
        "id": "TFNeKhKA3Dld"
      },
      "outputs": [],
      "source": [
        "#save_df_file(df_cat_dat_total, temp_data, 'live') # 4. Save df to csv file"
      ]
    },
    {
      "cell_type": "markdown",
      "source": [
        "### Artworks"
      ],
      "metadata": {
        "id": "BQyZmM1PYQRV"
      }
    },
    {
      "cell_type": "code",
      "execution_count": null,
      "metadata": {
        "id": "ZmWv9iFgrvkm",
        "colab": {
          "base_uri": "https://localhost:8080/"
        },
        "outputId": "a889193e-eb47-4a42-a8aa-62f64c5ade64"
      },
      "outputs": [
        {
          "output_type": "execute_result",
          "data": {
            "text/plain": [
              "Index(['artsy_id', 'name', 'link', 'year', 'artist', 'gallery', 'price',\n",
              "       'gene_id', 'category_id', 'parsing_date', 'updating_date'],\n",
              "      dtype='object')"
            ]
          },
          "metadata": {},
          "execution_count": 67
        }
      ],
      "source": [
        "df_cat_dat_total.columns"
      ]
    },
    {
      "cell_type": "markdown",
      "source": [
        "For ***one to one connections***"
      ],
      "metadata": {
        "id": "Pa2AIo94Ymux"
      }
    },
    {
      "cell_type": "code",
      "source": [
        "one_to_one = df_cat_dat_total.groupby(['artsy_id', 'name', 'link', 'year', 'artist', 'gallery', 'price', 'parsing_date', 'updating_date'])['category_id'].agg(['count']).reset_index()\n",
        "one_to_one.sample(5)"
      ],
      "metadata": {
        "colab": {
          "base_uri": "https://localhost:8080/",
          "height": 461
        },
        "id": "dsQDTXJ4Ysyx",
        "outputId": "6742f3ed-cc46-470b-a8ba-ff0b071588c9"
      },
      "execution_count": null,
      "outputs": [
        {
          "output_type": "execute_result",
          "data": {
            "text/plain": [
              "                       artsy_id  \\\n",
              "35214  54cff4c37261697c8bfe0000   \n",
              "48931  560d4f2b7261696c5a00007f   \n",
              "91390  613f74c305858d000c3680b6   \n",
              "29766  5449619b7261696393e61400   \n",
              "41515  554c8c29726169698bbb0400   \n",
              "\n",
              "                                                name  \\\n",
              "35214                Huashan Project – Performance,    \n",
              "48931                              Les Mondes Caches   \n",
              "91390  Teddy Bear, Intense Yellow and Carnation Pink   \n",
              "29766                                 Latent Horizon   \n",
              "41515                           Marc Per Un Paisatge   \n",
              "\n",
              "                                                    link      year  \\\n",
              "35214  https://d32dm0rphc51dk.cloudfront.net/BjzXkBGx...      2014   \n",
              "48931  https://d32dm0rphc51dk.cloudfront.net/D_J71ZFG...      2015   \n",
              "91390  https://d32dm0rphc51dk.cloudfront.net/EA60nfqn...      2019   \n",
              "29766  https://d32dm0rphc51dk.cloudfront.net/q1iLUtXw...  ca. 2014   \n",
              "41515  https://d32dm0rphc51dk.cloudfront.net/FI2eQUf8...      2002   \n",
              "\n",
              "                      artist                                   gallery  \\\n",
              "35214        Shi Jinsong 史金淞                         Eli Klein Gallery   \n",
              "48931      Yoël Benharrouche                              Eden Gallery   \n",
              "91390        Judy Ledgerwood                                    1301PE   \n",
              "29766           Anne Packard                         Quidley & Company   \n",
              "41515  Joan Hernández Pijuan  Mario Mauroner Contemporary Art Salzburg   \n",
              "\n",
              "                      price parsing_date updating_date  count  \n",
              "35214     Price on request    2022-04-02    2022-04-02      2  \n",
              "48931     Price on request    2022-04-02    2022-04-02      3  \n",
              "91390  US$15,000–US$20,000    2022-04-02    2022-04-02      1  \n",
              "29766                 Sold    2022-04-02    2022-04-02      2  \n",
              "41515     Price on request    2022-04-02    2022-04-02      2  "
            ],
            "text/html": [
              "\n",
              "  <div id=\"df-d07bfb79-c78b-4680-b273-bb49a4028e23\">\n",
              "    <div class=\"colab-df-container\">\n",
              "      <div>\n",
              "<style scoped>\n",
              "    .dataframe tbody tr th:only-of-type {\n",
              "        vertical-align: middle;\n",
              "    }\n",
              "\n",
              "    .dataframe tbody tr th {\n",
              "        vertical-align: top;\n",
              "    }\n",
              "\n",
              "    .dataframe thead th {\n",
              "        text-align: right;\n",
              "    }\n",
              "</style>\n",
              "<table border=\"1\" class=\"dataframe\">\n",
              "  <thead>\n",
              "    <tr style=\"text-align: right;\">\n",
              "      <th></th>\n",
              "      <th>artsy_id</th>\n",
              "      <th>name</th>\n",
              "      <th>link</th>\n",
              "      <th>year</th>\n",
              "      <th>artist</th>\n",
              "      <th>gallery</th>\n",
              "      <th>price</th>\n",
              "      <th>parsing_date</th>\n",
              "      <th>updating_date</th>\n",
              "      <th>count</th>\n",
              "    </tr>\n",
              "  </thead>\n",
              "  <tbody>\n",
              "    <tr>\n",
              "      <th>35214</th>\n",
              "      <td>54cff4c37261697c8bfe0000</td>\n",
              "      <td>Huashan Project – Performance,</td>\n",
              "      <td>https://d32dm0rphc51dk.cloudfront.net/BjzXkBGx...</td>\n",
              "      <td>2014</td>\n",
              "      <td>Shi Jinsong 史金淞</td>\n",
              "      <td>Eli Klein Gallery</td>\n",
              "      <td>Price on request</td>\n",
              "      <td>2022-04-02</td>\n",
              "      <td>2022-04-02</td>\n",
              "      <td>2</td>\n",
              "    </tr>\n",
              "    <tr>\n",
              "      <th>48931</th>\n",
              "      <td>560d4f2b7261696c5a00007f</td>\n",
              "      <td>Les Mondes Caches</td>\n",
              "      <td>https://d32dm0rphc51dk.cloudfront.net/D_J71ZFG...</td>\n",
              "      <td>2015</td>\n",
              "      <td>Yoël Benharrouche</td>\n",
              "      <td>Eden Gallery</td>\n",
              "      <td>Price on request</td>\n",
              "      <td>2022-04-02</td>\n",
              "      <td>2022-04-02</td>\n",
              "      <td>3</td>\n",
              "    </tr>\n",
              "    <tr>\n",
              "      <th>91390</th>\n",
              "      <td>613f74c305858d000c3680b6</td>\n",
              "      <td>Teddy Bear, Intense Yellow and Carnation Pink</td>\n",
              "      <td>https://d32dm0rphc51dk.cloudfront.net/EA60nfqn...</td>\n",
              "      <td>2019</td>\n",
              "      <td>Judy Ledgerwood</td>\n",
              "      <td>1301PE</td>\n",
              "      <td>US$15,000–US$20,000</td>\n",
              "      <td>2022-04-02</td>\n",
              "      <td>2022-04-02</td>\n",
              "      <td>1</td>\n",
              "    </tr>\n",
              "    <tr>\n",
              "      <th>29766</th>\n",
              "      <td>5449619b7261696393e61400</td>\n",
              "      <td>Latent Horizon</td>\n",
              "      <td>https://d32dm0rphc51dk.cloudfront.net/q1iLUtXw...</td>\n",
              "      <td>ca. 2014</td>\n",
              "      <td>Anne Packard</td>\n",
              "      <td>Quidley &amp; Company</td>\n",
              "      <td>Sold</td>\n",
              "      <td>2022-04-02</td>\n",
              "      <td>2022-04-02</td>\n",
              "      <td>2</td>\n",
              "    </tr>\n",
              "    <tr>\n",
              "      <th>41515</th>\n",
              "      <td>554c8c29726169698bbb0400</td>\n",
              "      <td>Marc Per Un Paisatge</td>\n",
              "      <td>https://d32dm0rphc51dk.cloudfront.net/FI2eQUf8...</td>\n",
              "      <td>2002</td>\n",
              "      <td>Joan Hernández Pijuan</td>\n",
              "      <td>Mario Mauroner Contemporary Art Salzburg</td>\n",
              "      <td>Price on request</td>\n",
              "      <td>2022-04-02</td>\n",
              "      <td>2022-04-02</td>\n",
              "      <td>2</td>\n",
              "    </tr>\n",
              "  </tbody>\n",
              "</table>\n",
              "</div>\n",
              "      <button class=\"colab-df-convert\" onclick=\"convertToInteractive('df-d07bfb79-c78b-4680-b273-bb49a4028e23')\"\n",
              "              title=\"Convert this dataframe to an interactive table.\"\n",
              "              style=\"display:none;\">\n",
              "        \n",
              "  <svg xmlns=\"http://www.w3.org/2000/svg\" height=\"24px\"viewBox=\"0 0 24 24\"\n",
              "       width=\"24px\">\n",
              "    <path d=\"M0 0h24v24H0V0z\" fill=\"none\"/>\n",
              "    <path d=\"M18.56 5.44l.94 2.06.94-2.06 2.06-.94-2.06-.94-.94-2.06-.94 2.06-2.06.94zm-11 1L8.5 8.5l.94-2.06 2.06-.94-2.06-.94L8.5 2.5l-.94 2.06-2.06.94zm10 10l.94 2.06.94-2.06 2.06-.94-2.06-.94-.94-2.06-.94 2.06-2.06.94z\"/><path d=\"M17.41 7.96l-1.37-1.37c-.4-.4-.92-.59-1.43-.59-.52 0-1.04.2-1.43.59L10.3 9.45l-7.72 7.72c-.78.78-.78 2.05 0 2.83L4 21.41c.39.39.9.59 1.41.59.51 0 1.02-.2 1.41-.59l7.78-7.78 2.81-2.81c.8-.78.8-2.07 0-2.86zM5.41 20L4 18.59l7.72-7.72 1.47 1.35L5.41 20z\"/>\n",
              "  </svg>\n",
              "      </button>\n",
              "      \n",
              "  <style>\n",
              "    .colab-df-container {\n",
              "      display:flex;\n",
              "      flex-wrap:wrap;\n",
              "      gap: 12px;\n",
              "    }\n",
              "\n",
              "    .colab-df-convert {\n",
              "      background-color: #E8F0FE;\n",
              "      border: none;\n",
              "      border-radius: 50%;\n",
              "      cursor: pointer;\n",
              "      display: none;\n",
              "      fill: #1967D2;\n",
              "      height: 32px;\n",
              "      padding: 0 0 0 0;\n",
              "      width: 32px;\n",
              "    }\n",
              "\n",
              "    .colab-df-convert:hover {\n",
              "      background-color: #E2EBFA;\n",
              "      box-shadow: 0px 1px 2px rgba(60, 64, 67, 0.3), 0px 1px 3px 1px rgba(60, 64, 67, 0.15);\n",
              "      fill: #174EA6;\n",
              "    }\n",
              "\n",
              "    [theme=dark] .colab-df-convert {\n",
              "      background-color: #3B4455;\n",
              "      fill: #D2E3FC;\n",
              "    }\n",
              "\n",
              "    [theme=dark] .colab-df-convert:hover {\n",
              "      background-color: #434B5C;\n",
              "      box-shadow: 0px 1px 3px 1px rgba(0, 0, 0, 0.15);\n",
              "      filter: drop-shadow(0px 1px 2px rgba(0, 0, 0, 0.3));\n",
              "      fill: #FFFFFF;\n",
              "    }\n",
              "  </style>\n",
              "\n",
              "      <script>\n",
              "        const buttonEl =\n",
              "          document.querySelector('#df-d07bfb79-c78b-4680-b273-bb49a4028e23 button.colab-df-convert');\n",
              "        buttonEl.style.display =\n",
              "          google.colab.kernel.accessAllowed ? 'block' : 'none';\n",
              "\n",
              "        async function convertToInteractive(key) {\n",
              "          const element = document.querySelector('#df-d07bfb79-c78b-4680-b273-bb49a4028e23');\n",
              "          const dataTable =\n",
              "            await google.colab.kernel.invokeFunction('convertToInteractive',\n",
              "                                                     [key], {});\n",
              "          if (!dataTable) return;\n",
              "\n",
              "          const docLinkHtml = 'Like what you see? Visit the ' +\n",
              "            '<a target=\"_blank\" href=https://colab.research.google.com/notebooks/data_table.ipynb>data table notebook</a>'\n",
              "            + ' to learn more about interactive tables.';\n",
              "          element.innerHTML = '';\n",
              "          dataTable['output_type'] = 'display_data';\n",
              "          await google.colab.output.renderOutput(dataTable, element);\n",
              "          const docLink = document.createElement('div');\n",
              "          docLink.innerHTML = docLinkHtml;\n",
              "          element.appendChild(docLink);\n",
              "        }\n",
              "      </script>\n",
              "    </div>\n",
              "  </div>\n",
              "  "
            ]
          },
          "metadata": {},
          "execution_count": 17
        }
      ]
    },
    {
      "cell_type": "code",
      "source": [
        "print(df_cat_dat_total['artsy_id'].nunique())\n",
        "print(one_to_one['artsy_id'].count())\n",
        "print(one_to_one['artsy_id'].nunique())"
      ],
      "metadata": {
        "colab": {
          "base_uri": "https://localhost:8080/"
        },
        "id": "HWFA5NyCY7gH",
        "outputId": "e564399d-7f2d-494e-84ce-6b5562263bec"
      },
      "execution_count": null,
      "outputs": [
        {
          "output_type": "stream",
          "name": "stdout",
          "text": [
            "115482\n",
            "111130\n",
            "111127\n"
          ]
        }
      ]
    },
    {
      "cell_type": "code",
      "source": [
        "print('artsy_id count must be', df_cat_dat_total['artsy_id'].nunique())\n",
        "print('')\n",
        "for col in ['name', 'link', 'year', 'artist', 'gallery', 'price', 'parsing_date', 'updating_date']:\n",
        "  group_df = df_cat_dat_total.groupby(['artsy_id', col])['category_id'].agg(['count']).reset_index()\n",
        "  print('by column', col)\n",
        "  print('artsy_id count is', group_df['artsy_id'].count())\n",
        "  print('artsy_id nunique is', group_df['artsy_id'].nunique())\n",
        "  print('count and nunique is the same - ', group_df['artsy_id'].count()==group_df['artsy_id'].nunique())\n",
        "  print(list(set(df_cat_dat_total['artsy_id'].unique()) - set(group_df['artsy_id'].unique())))\n",
        "  print('')"
      ],
      "metadata": {
        "colab": {
          "base_uri": "https://localhost:8080/"
        },
        "id": "ICRlLdmzZNjH",
        "outputId": "4b6b4e1e-a1dd-4bf0-abef-a0be42f7ba45"
      },
      "execution_count": null,
      "outputs": [
        {
          "output_type": "stream",
          "name": "stdout",
          "text": [
            "artsy_id count must be 115482\n",
            "\n",
            "by column name\n",
            "artsy_id count is 115482\n",
            "artsy_id nunique is 115482\n",
            "count and nunique is the same -  True\n",
            "[]\n",
            "\n",
            "by column link\n",
            "artsy_id count is 115482\n",
            "artsy_id nunique is 115482\n",
            "count and nunique is the same -  True\n",
            "[]\n",
            "\n",
            "by column year\n",
            "artsy_id count is 111191\n",
            "artsy_id nunique is 111191\n",
            "count and nunique is the same -  True\n",
            "['533b5b9c8b3b81a12a0001f0', '547b558b7261692d652e0000', '547f86227261695738000700', '5445717872616973b7b60100', '561ffd7172616969b300012c', '50fdd0afd0c2ebe891000107', '5b240db9a6ca6d169be09b72', '50eefb11d0c2eb50680007a9', '55b15d7d72616912980002ef', '555f8c0b7261694535300400', '52f2a0f57622ddd9c000006e', '53ab52557261692d42680300', '532df89e275b244bc40002a8', '54f0b35f72616927db861200', '52aa0f55cd530ed529000238', '5a0b66b4c9dc24225614bf07', '541aa033726169452cce0700', '57ba6dfd275b24564d001e95', '5733c6758b3b813b34000476', '53a61ce572616956de170500', '5aaa9d409c18db520ca10202', '50eefa50d0c2eb5068000459', '52bdd4659c18db18e8000560', '515cd4127696593fde0009e5', '54dd48c17261697935b00100', '531755b0b202a34c7f000075', '515d525b5eeb1c904c004180', '54ac0bc87261696495c01900', '5aff0dfecb4c271711c01cf7', '516cbc84fdc441ac4400001d', '53d93e037261690837770100', '53c54fbf7261692d372d0100', '541361d07261690e3f210e00', '58daaeca8b0c14579d5a06a7', '5a613780cd530e2bb54209e6', '5552d3b672616923b0d80200', '56f091388b3b81645e00055d', '50744b2d9a8da500020010c1', '50eefad9d0c2eb50680006a9', '55ce64ce726169644e000846', '525745b09c18dbab9a000741', '50eef9cbd0c2eb5068000241', '5a613e06a09a6717c9e6ae6e', '4dc1b3cc2df37f22f00017cf', '55e712fe7261690d680001d9', '537d15d31a1e86f327000187', '51f2b036275b2496ee00031d', '56219a3772616946470001a6', '57f52c757622dd6aa1000158', '556dd67f7261691798060400', '55dd8a0c7261694cca0005c1', '56fbdc44139b21724d0064f3', '5466345c7261696ab2060b00', '516cb3fb078b327cee000d0f', '560310ca72616931b10004b7', '54a6e62e72616901a3720700', '54ac0bcb72616908ed781900', '50eefabfd0c2eb5068000641', '58ab1087cd530e4cb41c2362', '5b50c2aefe272c0023211e85', '50eefbe3d0c2eb5068000b61', '5b33d5cd8b3b8175b49a618a', '5b51f70133513400252df1d9', '558350a87261691d85000241', '516defb6ed1712d0a80006fb', '5596ef2d726169714a0000b6', '53a61ce77261693f586f0400', '50eefb7bd0c2eb5068000991', '557206517261694453190200', '56f041ac139b2156210031d8', '516ccc579ad2d388860006fe', '58754522b202a334b6000023', '59c2a557139b210f0945f114', '562f9f5d7261690f530001fa', '504e5fcc3e003600020006ea', '54ac46617261691d5b5a1a00', '55070ef27261695008de0000', '55787ef67261696e75000449', '513e8b11d0c2eb0eef00018b', '5453b5a07261695be5df0800', '5331e32a8b3b810c6a0000fd', '51f7fb7d8b3b8125580000b5', '516cc5a8fdc441e52f0003ee', '537d15678b3b81f05100019b', '55282ad47261692aea821200', '564bc20d5b2fba19db0000b6', '515d25357b7057eb4c00333d', '50eefa81d0c2eb5068000519', '54ac0bc3726169648c411800', '5a18b4fcc9dc245044005c12', '532df894275b24994100029e', '5a20525f2a893a09315ca0da', '532df8997622dd03e9000191', '515ce7227696593fde001391', '515d06a8769659e1fb002313', '5527f2047261692b62ba0300', '516ca139472cb8831500065f', '56ccd988258faf559e0000d0', '50eefbb5d0c2eb5068000a91', '5b117eb4a09a673d5b559598', '5af36fdda6ca6d2aa9349e23', '5437cf7272616965c7b41700', '513e8b13d0c2eb0eef000193', '52cda6a6c9dc24d52a000102', '52bdd47d9c18db86f3000593', '5307c0f4275b24149f000001', '551a300b7261692b63ca0100', '516cb948078b327cee000ee9', '5553c8e87261692b04a40200', '54d285847261690613150400', '55c262a67261693119000064', '515b8dc9ea092fa6390006b6', '556dc4037261692b901f0100', '5b08486d8b3b8116ccbee898', '54af0b557261691049710300', '516c9dbe0f8b78ba6500054e', '5433af1d7261697a67a91b00', '5a2137178b0c144fc0a966bf', '52a8abc5b202a3993e00026a', '56ccd954c9dc244325000106', '5728f0d3cd530e7e600002cb', '547b562e7261695014a30a00', '562f9f1572616963fe0000e1', '55b15d807261692c3c00024d', '5317861d1a1e8675c9000139', '516cc61f9ad2d38886000425', '50eefbbcd0c2eb5068000ab9', '5712557e7622dd659c000375', '532df89a8b3b814f8b000298', '562f9f1a72616955a600020a', '53a743577261692d517e0100', '4faaea1e67b49800010002d5', '5548d61d64626c4abefe0d00', '53a49ca97261694461fe0900', '5442cd387261691c671d0700', '54de788b72616926926f0300', '5470b0c272616924041c0b00', '58b2765d8b3b81208174e0d3', '59bd59dd139b214a3672abed', '58f7d4302a893a53da6f384c', '5527f1df7261692b39050800', '5c082d5e02b6f72a6f95b036', '592891e08b3b812351ab6c0e', '515d55f5b5907b33b1004052', '55ed4f6f726169675e000eb0', '53a325f2726169464ec00100', '558dcbf872616929740009b4', '504e5fcd345a110002000713', '56a837d8b8bad4523100008f', '56186384726169596e000188', '54ed11a072616920cf741700', '58f7d42fc9dc241ca34a1850', '515b142438ad2dfc77000864', '50eef9dbd0c2eb5068000281', '54404a9f7261695d1b160400', '56098a487261695310000af3', '561eadff72616963f2000102', '52a8da8fc9dc245def0000f6', '537d16839c18db90070001c1', '533b3040139b21b79600014b', '50eefb90d0c2eb50680009f9', '533b2174b202a3ddeb000072', '5f2e439ab26c37000e2c4839', '55b8f6dd7261694fd00003ef', '595565e4a09a670ee6f0af96', '6243bbb00b300a000c7d49e1', '59c1722e8b0c141027e90603', '592f235b275b243663de3c0c', '54529eae7261695be5a00200', '5818bec79c18db1dee000132', '515b89251b12b0244a000cd1', '54e1dd0172616979fd281700', '5b3bd671cb4c271663f258ca', '5318a5c8c9dc247143000693', '568e3800a09a672bc9000114', '59bc3109a09a672fdae24256', '56f0391b7622dd6588000856', '4f750b25181ab6000100041e', '516ca16d0f8b78ba65000699', '50eefb7fd0c2eb50680009a1', '52697811c9dc24b621000186', '533364209c18db58b60005ce', '515b0c5f38ad2d78ca0003d8', '544a8fcb726169323b0b0100', '516ca19a472cb830690006a0', '515d49eb5eeb1c904c003fb3', '58016333275b2454ba0004d0', '50ad0ba1f69f0ab813000334', '5ae0dbd8cb4c2713819afe0f', '54e422b77261690239f41300', '56f19a99275b2426200014ae', '562f9f3f72616948bf00022a', '54db8f307261695ce4391000', '5727a37e7622dd75d80002f0', '50eefa68d0c2eb50680004b9', '53dfb4ef7261692d78300100', '562f9f1a72616954eb00021b', '54af0b567261691ecacb0300', '568eca778b0c145fe800015b', '5b3adb8f7622dd1349f5ae49', '50eefc65d0c2eb5068000d51', '544182157261692cc7100500', '6013de01286053000d9cb7b7', '524983d6a09a6792ef000019', '54e4137e726169634b8a1000', '515d1fb67b7057eb4c0030af', '515d12c27b7057eb4c002a85', '570cc5439c18db7e13004bfa', '5c49d99ada4b541d79a30f51', '52eac6138b3b81977b0002cf', '52c56cb2a09a67e935000015', '5453efd77261692d4ccb0300', '515b5846223afaab8f0017d1', '561039c37261691e56000243', '536bd39b9c18dbf2c00001b9', '5508e0bd726169459b351500', '54b425997261693130570200', '535161fbcb4c2737a1000023', '50eefb10d0c2eb50680007a1', '54e3806a7261692eccf70900', '5757dd179c18db5fb2001014', '57d88be3b202a34b0500073b', '54da51e6726169546e090200', '548141e17261696fc51f1300', '52d809cacb4c273555000014', '57a389352a893a4f5b0035df', '538f2712139b215ffc000858', '52f21b77275b24869d000054', '564a4bab258faf41ec0005e3', '59dae1607622dd4d846c1d82', '5124f578d24936215f00011f', '54868e537261695fc84a0200', '5331e332c9dc24919e000133', '516cad400f8b78ba65000baf', '53516213275b24268000003e', '5331ccc99c18db0c00000083', '5351620ea09a67c9a300003f', '50eef9c6d0c2eb5068000231', '50eefc44d0c2eb5068000cf1', '58a538609c18db69ca281c1d', '552808a07261692b62410700', '5a15ce92275b2404e3d817e6', '5b04a5ab139b2161bc87bc30', '5955571aa09a670ee6f0adef', '57ae5a41139b21352c000e7d', '5a4582862a893a05d7cee9aa', '51db18f4275b24d3e200031a', '57bca7c4275b24564d00322f', '53025cf5275b2487a300009f', '504e5fcd62f5a00002000716', '54d10bc27261693ec1e20000', '5a18b62d275b2404e3da242e', '551960a37261692ae31e0100', '537d15a9139b21e189000032', '5331e330cd530e4d80000156', '54c285197261692bcf200200', '54a717197261692c8b690200', '5463fa967261697c322e0000', '5bf5295b4045d32ea967939a', '533f33847622dd118d0000ba', '58af6a138b3b811ffe3f8e97', '592f2379275b243663de3c15', '56bcbfe64b8480733b00008e', '50eef9f2d0c2eb50680002e9', '50eefa6ad0c2eb50680004c1', '5c5cb6cf656b9e28929d653e', '5720befc275b2478c40013d4', '52bdd480139b21d841000588', '58ab1c73cd530e4cb41c244c', '53a61ce57261693f58650400', '528faa107622dd902f00003e', '5283e443c9dc24d2d3000089', '5266edaf139b2137ef0002ec', '587083329c18db5923003424', '552efe557261692ae80a0a00', '5fcbe67785e292148b13ca78', '515b3020223afa9b3e0003f5', '515b490e9562c8fee20025ae', '54384d257261691e3e3f0200', '516cbc84ed1712cccd000024', '515d0cc65eeb1c904c002516', '5b06ecd3cd530e55d62d921b', '54e60b9d7261692b23000200', '50eefab3d0c2eb5068000609', '546fd2f9726169687a0c0600', '54da51dc72616923852f0200', '516cab21078b321478000981', '513e8aaad0c2eb0eef00001c', '53790fc2cd530e79f10000db', '4f2979a3918c5100010002ea', '547df5fe7261697a104b0f00', '513e8b33d0c2eb0eef00021e', '541b0cca72616925fc6f0b00', '547f66907261692d3d230300', '55702c4772616910fa840c00', '512804ad3cb9905b9400024a', '5757d2929c18db5fb2000ef2', '54b9a1a0726169147a810700', '5fcbe5f285e292148b13ca0f', '538d3cc2275b24a98e00064b', '5500786a7261692c158d0200', '535161fb8b3b8155b300004b', '552549db726169720fb30000', '533b21747622dd2d940000e6', '52eac503c9dc245cee000309', '547b61ba7261693767f40900', '568d7ddc64287073360001ff', '5b3255cf8b0c1413914e96b5', '5957f8ec8b0c145c018a54fd', '50eefb44d0c2eb5068000879', '52a89b18275b246b2600029f', '59e2576bb202a34d91a75ba6', '54f0b3547261697332801100', '56aaeb5a2a893a46860000d7', '52f27d8b7622dd145d000177', '547e40887261692cbc0f0600', '5900f6027622dd582cbe694a', '5375338c9c18db0f2d00042e', '55d848157261692e0700030d', '562fa030726169220d000205', '50eefae5d0c2eb50680006d9', '515b1e0a223afae9a5000d31', '5516fba97261697e031a0800', '5548d4be64626c4abecf0200', '516decb49ad2d32b270006d8', '515d654c7b70570a13004991', '53790fc61a1e86dbf40000d4', '5cd494f3d29846000e744649', '55ae3a96726169693100024e', '533f3385275b24eaf0000119', '57f41319c9dc247b8700007b', '50eefb42d0c2eb5068000871', '56ccd8be1a1e8608150000f6', '50eef9c4d0c2eb5068000229', '59c17234139b214a3672e2ce', '524983a7139b21f458000b9d', '531780d67622dd4e1c000191', '54ad5fd57261692c5bde0000', '55381bb77261692aff680900', '55c5269b72616916600000aa', '54f0b6bd726169640a0c1200', '560c53107261696ef500010d', '550772787261691062350900', '533f338ac9dc24d4e10000cd', '515b20459562c8fee2000f82', '54f0b48772616975b0d81100', '516ca4f0472cb830690007fb', '54e618dd7261692b2c630300', '515b940394714c1d2e0005e3', '532df886139b21853e0001f3', '55dc79e47261693e10000049', '54356c6672616907060d0300', '50ef218825b5226bcb000ae5', '55ddda217261693d820001a5', '537d1605cd530eed3b000215', '52a89b0acd530ed1cd00028e', '5aa2f5bf2a893a7689e351d7', '5733c5177622dd75ef00045a', '58ded85fa09a673aa8922123', '54877aec7261694b7e6a0600', '516cbbe4078b321478001088', '54db8f0e7261693d486c1000', '55b5297672616970c500008f', '53d93db97261695926620100', '515bb2161b12b0e668001d90', '515b83cd1b12b0244a000b63', '515b442538ad2dfb2f000d8d', '516dfbd0ed1712d0a8000c74', '50eefa05d0c2eb5068000331', '51159395cd695218f00001e7', '4dc1b3b72df37f22f00017c7', '59fcb603139b214ab3fd9cf5', '533f33841a1e8635580000fc', '520e96a59c18db1739000123', '515ceee47b7057eb4c001807', '515b04f238ad2dfc770000d4', '5840bf46a09a670a1500040e', '5bd353b91147bb002b8fcac6', '54da54467261693057eb0100', '56969d337076d018a4000041', '553fb80e64626c4fe0490600', '580e13998b0c14657d000ed5', '57df0729b202a36605000433', '54529e897261690810370200', '5b7f368b5c7085208c5db89d', '5367d5759c18db09bf000034', '57ed3dffc9dc2423f100018b', '587e5cc8139b215c0c003004', '5437cf697261696235c11600', '5a3019c28b3b812d18ea383f', '5709352b9c18db7e1300141f', '515ce9ce7b7057eb4c0015b6', '54d10ccb7261695d50020100', '5b06ec99139b21467507272d', '50eefc08d0c2eb5068000bf1', '546baed672616968f8da0100', '58b087cfcd530e4cbdc8c6dd', '563358887261696bd200016b', '54d2a67a7261690d10110400', '53769e007622dd00210001c5', '50eefa0dd0c2eb5068000349', '54c278047261692c3c080100', '556d8f3f72616950fe0a0200', '537d17ef8b3b8146260001ba', '5aff0e2d1a1e8613d5e4abc2', '59b323058b3b81776680f758', '54de77ad7261691d65050300', '50eefac8d0c2eb5068000669', '516ca96f0f8b78ba65000a29', '54b424f47261692b39940100', '55269096726169637a341b00', '515cc411769659e1fb0002d4', '5a7da4fac9dc244f60f33b93', '50eefa8ad0c2eb5068000541', '515cd793769659e1fb000bc8', '54b1923b72616913c1740800', '5617d5557261691ae70002e1', '531f74ea7622ddeee000033c', '56e9e566275b24385f001798', '515b1b9d38ad2d78ca000be8', '515cf9b45eeb1c524c001b9c', '56339ab2726169213e000237', '52726c147622ddacf800004c', '553e63c77261697163700100', '56aaeb59f46c4c18b500009a', '52aa10fb9c18dbddef000241', '538f71208b3b81fa6e0006dc', '547b534c72616937569d0900', '543b6c727261693670cf0200', '50eefc3fd0c2eb5068000ce1', '54c28664726169330f4d0600', '515b22a3056351dc33001317', '4dc4795758939115b400002f', '545415a372616942f4730b00', '5a02da008b3b812a53d62b96', '515bbc97ea092ff579001358', '53374435a09a67a81f000232', '53516200a09a67f9e0000024', '603185acf81faa0011b00713', '50eefa12d0c2eb5068000359', '546e6973726169045bc00000', '52bdd4697622dd7c6600007c', '5936e2269c18db6f668ba9fb', '5b230813b202a36b7db5e843', '53d93dea72616953f9840100', '52d4c1d28b3b81a107000391', '54b425937261692b32ca0100', '52d4c1d2cd530e4a96000325', '5411fe4f72616950a0ce0200', '54725a4e7261692f40661200', '514290383648a550950002c1', '53a325d97261693187480100', '59303057cd530e4d870919a0', '52a8da8ec9dc245def0000ef', '561ff99f7261697b2e00013d', '5331ccce139b2111d4000094', '52726e4e139b210ded00006f', '50eefa29d0c2eb50680003b9', '537d15e54b8480ab7a000188', '54b4258d7261696831710200', '5bc0850439c1646a3434c3b5', '5ac5651cc9dc24704b22ae17', '515b4240056351dc330022f6', '546e488e72616952eaed0100', '5acccdb07622dd1cead3eb34', '52eac552a09a67fe91000257', '568a95396428700fe9000554', '54da523f7261693d0a880200', '51cc7f798b3b8159cd000003', '515d2b445eeb1c904c0033fb', '55880b2f72616951cf000550', '50eefa8dd0c2eb5068000551', '56bba08e8b3b815b500001b1', '50eefb25d0c2eb50680007f9', '5d1bab8e0463d67e1b3b4efa', '5afc707d1a1e8613a25208d1', '504e5fcd3e00360002000702', '56969d0a258faf44ca000029', '515b37fd056351dc33001d8e', '59c55fdd2a893a58c203374f', '55c51c317261695f3f0000a7', '5bfd930ec6da6a29f4b30fbb', '52a8b49acd530eccbd0002a7', '554135987261696d51430000', '50eefafad0c2eb5068000741', '562f9f6472616955a6000219', '5aa94f858b3b815b535499d2', '537138cfcb4c27f63900028f', '54dd599472616937e19f0200', '58f7d4348b0c143a3e39ad80', '5dcdb76bd867f7000eec5998', '5c8d628b14ce6256c21f926b', '557037b17261693e9cbd0b00', '55c263cf7261696a1700009d', '515b1ca59562c8fee2000db8', '552549667261695babf70000', '5b06ed3e139b2146750727ef', '5a32f2cdcd530e50ab4d1731', '538f71314b848036c800032e', '52823df5275b24ac8200036c', '5527f1f47261692aec150a00', '560989a07261696628000199', '548652897261697063c20100', '5ab2e3da7622dd5646b7eac3', '531f74eac9dc245ad100042d', '5555e8207261692b03020000', '54e170837261692c3ddc0300', '5232145aa09a67bfed0001eb', '52657d0c8b3b813d660003aa', '5bf5295d4c0ea738bfe41f48', '515b482038ad2d25a700132b', '5b329f3eb202a313a1041fa1', '5755ffc2139b21476b003cca', '5cd494fb287f1a7f0b2d3b6f', '50fdd0bad0c2ebe891000121', '54868e517261694b7e4c0200', '53516214139b2139d4000039', '52a89e53139b218061000207', '547b48b67261697904b10900', '58ae20f49c18db05e7a1fad2', '58f7d4282a893a5337af0669', '4fedd73f7762a20001000f64', '541b0c717261691329720200', '515b777eea092fa6390000e9', '5075a19380cd1c0002000cc8', '50eefbd7d0c2eb5068000b29', '59e257a11a1e864d8b55314e', '51d4966a275b249fd4000959', '53518fe1275b249a8c000111', '552d46d072616970a7970300', '5733c76dcb4c27645200041c', '57a1daca8b3b8168cb00193e', '56a837d64b84803023000075', '516cc17ffdc441e52f00022b', '515d0db1b5907bf7e8002524', '566c1d03864d826415000370', '5709352c139b21121e001298', '623493bda528cf000eaffee3', '6243b77f26b37b000ce0d040', '50ef21657d8dbdf87e0009ee', '5dcdb767f78568000ede72ae', '556d8f2e726169781b1c0200', '61c0b5b307376c000ec34477', '5b487d7ef144ce001fa4d8f3', '526fd3acc9dc24b5bc0000f2', '55f82e7b726169663c0000d5', '53516203b202a3f612000047', '50eefbebd0c2eb5068000b81', '4dc4792158939115b400001f', '5b37bbdf275b245afc03d1db', '5130f62aad1b4d08090004bc', '526eea0d139b21538600104b', '54663ccd7261692de7b40100', '5548d57964626c4abed20800', '55c261e87261696a1400007f', '5508e0777261693325601600', '537d1619275b243d4b000018', '5b06ed3e275b2436e2c71e5b', '56f09139cb4c27526200056f', '59c2e707c9dc244a520faa09', '5c83f4aa5d53cd5d4f88d623', '54302e5b7261692d47f50200', '595eb767139b2101788b1d16', '551960a47261696a51f11100', '58580f219c18db603c001504', '5dcdb75ef78568000ede72a1', '516deca0ed1712e96f00084e', '59552d8b275b24362f4de481', '5aa7b7c2c9dc2431f6a04c00', '55c2639c726169544f000059', '59303ecc8b3b816915fb6bdb', '5527f21e726169027d551d00', '5463e3907261694a8bc80100', '5717c3ff9c18db324000018c', '560991d072616966110001b0', '533f337f275b242c1a0000f0', '568d6c646d932d1f6300026a', '5195fba7cac7a82b5400006d', '54ff1f427261692e5dd20200', '5508e1207261691e3b071500', '560daef4726169452a0001fd', '562f9ebd726169559b000245', '52aa02ba139b217d9400018e', '52e98b0d8b3b81384c00008c', '5422ad567261692d6e4f0200', '515b25219562c8fee2001204', '5331e3208b3b8166b3000109', '4faaea18e73b0c0001000387', '53bc96ce7261695e5f4f0100', '622b8782467f69000c735c7b', '525745af275b24468c00076e', '560d42217261690efb000067', '5b37bbdf9c18db573db2d5a8', '5ac6ec147622dd65ca93a58f', '515b9cc194714c1d2e000887', '516caed7472cb83069000c5a', '54b311d47261695e0e260d00', '556f55ac72616950fe2d0a00', '51c4ae4e8b3b81497d0003c6', '5318a55ab202a35fbc000056', '560459c772616966290001ee', '54b425997261697416e50100', '5508e0df7261694980d31300', '5936e0a5b202a35d12109a83', '56bb994176143f677c0001a7', '54615f937261692cd1460900', '50eefb35d0c2eb5068000839', '52d702c68b3b819ad7000097', '54b425947261696300fb0100', '57d881619c18db018c00082e', '5aff0e628b3b81357ad989e2', '516cb538472cb88315000ee8', '504e5fcd3e003600020006fa', '56ccd968139b210cea0000ca', '5542cc2a72616979385b0300', '56098a4d72616938a30009d0', '5b3dd8d9c9dc245c94f8cf97', '54c286707261690a757b0600', '507455d8c30a3b000200122f', '524c84068b3b811f420004b0', '5968ce6cc9dc242a97b38537', '58daaeca9c18db6a5d49c48e', '546249a07261692d69130000', '50eefc0ed0c2eb5068000c09', '4f750b2425b6070001000446', '570cc539275b245097004540', '622b80728ca59f000cbbf48c', '51fcc6e78b3b81e5c5000039', '50eefab9d0c2eb5068000629', '5399f0384b848087420002b0', '531263caa09a67c56900001c', '515ce9155eeb1c524c0013d9', '5480befe7261692cc8110500', '53bd93ba72616968a16f0800', '5283d3a18b3b81b3d8000160', '622b86dec6df37000cd8caf0', '5c1393079c06ed47a4f50c1c', '555ccbf17261692b23b00100', '5423bb4e726169772ce50200', '52eac564cd530e4a600000a7', '5130d1fdf6907d46c50001f7', '51951d245085567d0500028e', '5ae0a3c0cb4c2713819ad383', '50eefc17d0c2eb5068000c39', '533f3384b202a31d760001a3', '558350a9726169157400026d', '5aa469a18b3b813243d0be25', '5c4485e298e6fd72c3c48600', '4e67a9da4ecfa00001009e49', '52d81aa39c18db89bd000136', '53a2f1087261692e60030000', '55c265577261695f2a00007a', '56f0913a8b3b81645e000574', '537d17c9a09a6737830001d0', '5b77a89ccdbeea71e205fa3a', '50eefb18d0c2eb50680007c9', '535162019c18db45bd000047', '54ac54d87261692c570f0400', '547b615d7261692cbe6f0000', '52d752af139b21b78e000020', '5454156e7261694c183c0c00', '622b80e5614ea0000b8fc906', '5b217a9a9c18db25725724fb', '58f8d1947622dd6e057dbaf7', '5333641f9c18db8734000307', '54ac21677261696488a11900', '516cbea0fdc441ac4400014d', '57d881238b3b812ba40007bb', '5507726972616905d0cc0900', '5a0deb79b202a34d8d63e2e7', '55703dbc7261693b26d10d00', '59cea9872a893a382bcef788', '556dc3d872616943bab30200', '58ab0cba9c18db2717573f9f', '5fcbe6334fd225000e6af63b', '5442e9677261691c67150800', '50eefc03d0c2eb5068000bd9', '52a89e4f9c18db8fb0000275', '54b4259872616932eb430200', '5a457f882a893a06e1e59b66', '537262e4b202a32ee30002fb', '54247fdc7261692d641a0500', '59e78dfd7622dd78dec1fcab', '54367d647261690706880b00', '515d5ada769659e1fb004526', '537644f21a1e861994000194', '51d4967b8b3b815576000996', '562c454a726169477e000b2c', '515b3cba38ad2d25a7000ce8', '55e9411272616964c50006e6', '561863987261692744000177', '579b942f7076d02ef6001c43', '531a5fde8b3b81f1c600028e', '5609898a726169660e0001bc', '4e6788f8f8597e0001008bf1', '54c52a187261692c69ba1100', '5bacf679559efd39417f19b7', '53678d7b139b2179c50008d2', '5b329f5ab202a313e99ed230', '5a613dc27622dd54eb6880f0', '515d49c97b7057eb4c00414e', '56b9f1ea8b3b81369a0001c2', '56a837d81a1e862d9900008c', '5b744b8bf5e49f3bb5116cc3', '5475f3887261692dddbf0000', '53a2f0c37261691037220800', '55c236807261694129000004', '5333642b7622ddde4400028f', '515b64321b12b0e66800038c', '55c2634672616973c9000077', '55f31f5472616935b60003e9', '5b33d5bc275b240daed1f15f', '54da51b97261695cecf10100', '50eefb74d0c2eb5068000971', '5516fba87261692ae85d0400', '537d15764b8480ab7a00017c', '54076c8f7261694432ae0100', '57308025139b216e6b002cc2', '50eefae1d0c2eb50680006c9', '5a0f420f2a893a75b6eeef5b', '54d2962a72616930f2730400', '56b35dbd258faf6b940000e0', '58ca8aacc9dc245d0a9c92d4', '53d93db872616974d3830100', '546e976b7261696a9a370300', '55e16fad726169069a000765', '5475f8f97261692510151200', '50eefc01d0c2eb5068000bd1', '53a61ce672616956de210500', '5ab0015bc9dc24542a917ef0', '53dc00db726169019aa10000', '5af36fb51a1e867bd5657529', '59d68d04cd530e7631dab966', '50eefb3ed0c2eb5068000861', '5a458566b202a35006039236', '5463f8ec7261697c37060000', '50eefa27d0c2eb50680003b1', '54b42599726169740e220200', '5c1bf188850f99734feef2be', '592f238b9c18db274a65116c', '54c295fc7261692c47630200', '59e7df9ac9dc243e3fea659e', '53640dffc9dc24812c0003e7', '590f8bdf8b0c142c1da9acbe', '5c5b27e4727ed879640dac00', '59b061f48b0c147e61a7af53', '55941052726169158b00006d', '54889aac7261690377260100', '5508e0837261690e65081400', '54ca986e726169363c0f0000', '5331ccc9139b211273000067', '58580f2bcd530e6460000282', '56ccd8c5aa00b5499000010a', '53a61ce57261697240130400', '5a58f382275b243377e7d834', '55ec7a387261694736000f24', '504e5fcfc2fea000020006ec', '4f750bb9b4e2f500010004f5', '57475e489c18db7c8900061e', '5572063d7261697e81a50100', '515bc71cea092ff5790018cb', '58699a6f139b214ab30048c4', '50eefbf9d0c2eb5068000bb1', '5609899f72616949b1000b05', '55899b7772616933db0002a4', '532df893a09a670dc0000266', '5463f8017261691dec0f0000', '5508e0f27261690235271500', '5463f00c72616924b3320200', '55c527cd7261697a990000e9', '56bb9dc88b3b815b530001e8', '56c37c4fb8bad466d40000ad', '50eefb37d0c2eb5068000841', '56cb10e84b848066f1000024', '553509d97261692b6c350100', '53113ca2139b2101050001a0', '5548d58664626c4b114a0200', '5a04d383139b2155877c75f1', '515cd390b5907bf7e8000965', '54369721726169512c8e0c00', '50eefab0d0c2eb50680005f9', '5335bbfc1a1e86e5660000a5', '548a02bb7261693e90430100', '516ca7c4078b321478000835', '55351b3e7261697398470100', '554bcada72616952f9b50200', '54b42597726169741c7b0200', '552926347261691f3b686000', '54248b097261697721d50900', '6222022b356a98000cb62052', '547b53fc7261692cb88c0100', '50eef9e8d0c2eb50680002b9', '50eefb3ad0c2eb5068000851', '549b1582726169625eaa0700', '5453eff57261690d033f0b00', '506f33c6a094d70002000216', '5a2053418b0c144fc0a8d284', '53516218b202a3058a00002a', '50eefba0d0c2eb5068000a39', '54d296267261692b62e20500', '516cc06ab31e2b8bf60001af', '59f0cb229c18db5f9377a5ff', '532df88c275b249941000295', '5b37bbe0139b2160f916ea31', '54232af572616952a6e30700', '504e5fccb8fb020002000725', '550772837261694cf95d0b00', '5a15b8709c18db43be01385a', '53c553d072616964ef361f00', '515d29b87b70570a130034e8', '5306772f275b24780d000078', '54d2a6517261691af0250500', '516cc338ed1712cccd0002b0', '52aa1100139b217d940001d6', '560c5a667261690c8a00010a', '54e24f95726169752eeb1a00', '52bcb7d0139b21aae0000311', '531755a5cd530ee65100006a', '55dd656d7261693ba1000048', '62349279efd967000bbcd3f7', '535161fb275b24a0aa00005d', '57d88b33139b21329a0007e5', '50eefa2fd0c2eb50680003d1', '56fadcb8cd530e657e000903', '560c576f72616951cd000109', '5453f0157261692d4b340400', '54ac635c7261692b7a050300', '542feee472616958ae650700', '515b11f8056351dc330009b8', '5cc714acab54e526048b0ef0', '515bc7d494714c2e38001e26', '52f27d8bc9dc24bcb100031e', '5acccded8b3b8135d2e0247d', '55dd4b83726169461b000537', '54501e5f726169366b910200', '51a6ed628b3b81668a0003b8', '50eefb71d0c2eb5068000969', '546d0ad472616919693e0300', '5b37bbde9acc8a17a5039c9f', '5fcbe6e6783d230f6dc71d87', '517016c5e7542bd4670002ae', '531ffe8ec9dc245ad100059c', '53b826027261692ce72c0200', '56db0ced9c18db69a700203c', '56f0913a8b3b8165390005c5', '59e2572fa09a6749121ab59b', '516defe4ed1712e96f00098f', '57d9a4778b3b81644d000b2b', '4f750b0224096b00010004d2', '58daaec8cd530e15c055ee3c', '515b1779056351dc33000ccb', '57ada331275b242f7700053d', '5c48efcb6fe77649cec41932', '533b3043b202a3d02f000159', '5936de37cd530e69388b715e', '5b7515906f08c716eb2025e4', '5514ad9d72616911e73f2200', '50eef9f3d0c2eb50680002f1', '53bdac1e7261693d28c50800', '59c2cd3cb202a34d69aeae8a', '516dfa85ed1712d0a8000c04', '59dc354aa09a67537a148b78', '50eefba9d0c2eb5068000a61', '611c15326fca5b000d3b86ce', '5b11ae349c18db42e96ff4f4', '531263f99c18dbcfcb000013', '513e8b00d0c2eb0eef00014c', '50eefaecd0c2eb5068000701', '52aa02bbcd530e3b220001e8', '5c9a45a182babf22407ed578', '55ad6cba7261697538000091', '516cb6500f8b785067001014', '5563354472616926891a0c00', '56099a1b726169067d000bf4', '562c456c7261693bbb000c1e', '525589c39c18db65b0000934', '52eac5cb275b242e290002a5', '5331e325139b21de730000d9', '538d3f218b3b81897c000601', '50fe99ffe4732d63170000e3', '50eefc12d0c2eb5068000c21', '55e714bb72616954790001ef', '53346b3d275b24bf900002ca', '546fc67672616966d30a0600', '55c262ff726169638c00006c', '5633003b72616921290000d2', '530b93c3139b2155e7000083', '54ac53ff7261692b6ff40100', '562f9f677261696405000083', '5351621a8b3b8127e900001f', '5130d1fcd8b0de6d7000019f', '589aee0ac9dc246231be204e', '5733c5dbb202a3735c000435', '516cac62078b3214780009ed', '5c83f48589ec893e1f495581', '54ac3df57261692c68f30100', '50eefaaed0c2eb50680005e9', '547b60547261693756060a00', '50eefafdd0c2eb5068000751', '559d5624726169718f0000b6', '5a71ecf0cd530e503e36d6f1', '56098995726169661400013f', '592f235ec9dc2464069b721b', '503bea595446d80002000114', '515b470238ad2d25a7001229', '56b278dba09a673e26000079', '57ae5bad139b21352c000e98', '513e8b20d0c2eb0eef0001d2', '54ef93f67261695119e40400', '586e38979c18db5923001612', '50eefa73d0c2eb50680004e1', '55bbf40372616915a200031f', '504e5fc5b19ddf000200074d', '53790fbdc9dc24cc0000011e', '54b425957261696a88670200', '547b631b7261692d83cf0100', '5a0f4a518b0c14383fbd74c8', '5239c8aaa09a67e1b00000de', '5a0cc71cb202a34d828f2fa8', '6236263f30caeb000d210f3c', '515b3337223afaab8f000844', '50eefa41d0c2eb5068000411', '57ada3229c18db659a0005c3', '55c264537261693b690000a5', '55b2a50672616970c6000195', '5654cf6c9c18db566600011b', '53aaf305726169278ab40500', '515cceb37b70570a1300079f', '511c8c21c71338f6fc00052e', '5b06ec65c9dc2455f86ea3b3', '548b126772616961e53e0000', '53696ddb9c18db7e380000ea', '513e8b27d0c2eb0eef0001f2', '541b0cde7261692d6b7e0200', '54de26567261692c4bb70400', '52712f308b3b81622e0008ec', '515bb688cd4b8ef7fd001d95', '521245fcc9dc2467c400004f', '515d20cbb5907bf7e8002e08', '53d93e0572616974d86e0100', '50ad0b9d311db7d33f000357', '546fe03772616966d3570700', '5645d16b8b0c1420fc0001c9', '54665ff57261692dc7f20300', '5616606f72616963dd000002', '57e7039b275b243fbe000da0', '50eefbded0c2eb5068000b49', '504e5fd062f5a00002000736', '53b51e087261697775010100', '530dd8f1275b24013a000077', '54ac10407261692b701b0000', '5552568d7261696dd8330100', '5331e32c1a1e869480000103', '4f750af9b4e2f50001000441', '50eefb3cd0c2eb5068000859', '54134e817261692d6f650500', '5415bc17726169115b921900', '50eefc22d0c2eb5068000c69', '5b3adcb7a09a673b0c7a19ff', '515d36407b70570a13003a69', '5411fe567261691f7c0a0300', '537d1858275b249e71000198', '52c8a505cd530e07ae0002fb', '53d93e0472616953fd8c0100', '515d4123b5907bf7e8003c2e', '5423c96b7261691664250300', '531755b0139b219d200002e1', '594912248b0c1425de344c32', '4faaea15a398ad000100032c', '53ff999e7261690cb7da0200', '5548d59d64626c4b11080300', '533994bbcd530e5011000027', '54889aa072616940842c0100', '562f9ee072616921ea000222', '57df07279c18db561b001698', '575c48c3cb4c2765e000059b', '5a2315bf7622dd514020d260', '544043f372616954a8c20300', '5fde8163307f3300122d905e', '54491f277261696971170f00', '554d0d307261690594db0100', '515d23b2b5907bf7e8002f9e', '5839b8f9b202a3646000018b', '515d2603b5907bf7e80030d1', '592ffa002a893a6e881bcf7e', '52a89de8275b2498bf00025c', '5124f4e2d2c3a4bbe5000111', '50eefbdcd0c2eb5068000b41', '54b4259972616921c8f80100', '55a45bd072616925c3000016', '595ee2e8139b2101788b1f58', '50eefa63d0c2eb50680004a9', '50eefab4d0c2eb5068000611', '50eefc06d0c2eb5068000be9', '541a9f0072616926037c0800', '5b329f3da09a6703e395aba5', '5470b09f7261691b119f0a00', '5b37bbdecb4c271359f61b09', '5441a39c726169017d9a0000', '57bca8557622dd660e00084f', '5709352d7622dd6582000a99', '568a9546aa00b50ba5000568', '594825a8cd530e0c5241673b', '55c263837261693c09000056', '5331ccc9c9dc2489a50000a7', '57df07299c18db55d6001785', '54c27b0c7261693301b80500', '550772717261692c8da70a00', '592f23a57622dd61d5d28486', '51cc7065275b24991100035b', '551960a47261692b5bec0000', '54da52ae726169339feb0100', '515b16cd223afa7c74000597', '5b0d1555a09a671ad0170a57', '53a1e97b7261695e17910100', '53ff4e517261690cb7520000', '59bc3109139b2149937fb582', '554d18af726169404c600200', '622b7a8406f9df000c2f7304', '55083bd77261694cf9452100', '56a837d96d932d7b87000067', '5b32a017139b211c15768f64', '54e415db72616903d3cb1200', '53ebdebb7261693200730400', '54232b13726169644afc0700', '53162954a09a67e8d2000247', '5453eff97261692d4a0d0400', '53a61ce772616956de2b0500', '5b33d5bf139b2110e3392dd8', '50eefb88d0c2eb50680009c9', '52f29b7d275b24deee000048', '4dc80ce4b1783b00010004be', '5fe4e8891100c74062f9f5f8', '532df88ea09a6733ce00023a', '562f9f0c7261690f59000236', '54e28c1e7261693a65de0100', '515d2ce3769659e1fb003601', '515b2ef09562c8fee2001786', '59e7dcd62a893a4aef77aba5', '515bb6b594714c1d2e00154f', '532b6e509c18db1a7c000331', '515bae9094714c2e38001180', '5a562a63c9dc24617fe6dbba', '55b15c7972616970cb0001f7', '515b37439562c86fb8001c66', '5259b3029c18db078100159f', '53bae1c67261692cce270100', '50eefa9cd0c2eb5068000591', '515bae56ea092ff579000cca', '515b15c7056351dc33000bf6', '531755a8a09a67a4b0000342', '56969cdc7076d018a1000046', '552ef5a37261695c3db02f00', '5423bb5c7261695b452b0300', '50eefaa3d0c2eb50680005b9', '5476367a7261697ec0be0000', '4faaea1f7ba93600010000b6', '584e7ab09c18db4dea00130c', '5914f241139b2103a52c9224', '5173053883c6eb20b0000252', '52eac9b2b202a336710001a4', '54529e7d7261694c1d530200', '50eefb2dd0c2eb5068000819', '59c2a4a4139b214a3672f6dd', '515b12dd056351dc33000a2e', '5b3adbb2c9dc245c12cc495b', '515b1c9c223afa7c74000873', '561eb06972616907f9000601', '547b4be072616978ffcf0a00', '55381bb07261692afc300900', '515b9dc5cd4b8ef7fd00117f', '5225f148275b24e586000292', '50eef9f7d0c2eb50680002f9', '537d175a4b8480ab7a0001a6', '5900f602c9dc244d5ffbe122', '50eefad7d0c2eb50680006a1', '562c0afa726169243b000546', '52a8abc48b3b815b21000321', '5605b0ef7261695f23000281', '50eefc4cd0c2eb5068000d01', '516df70dfdc44191d600047d', '50eef9c2d0c2eb5068000221', '5a302fdca09a6775d51ff7a9', '50eefb1ed0c2eb50680007e1', '536b8d529c18dbcfc200035a', '54e1dd2f72616944e29a1700', '53d93db272616953b8870100', '537d184ab202a37de30001d8', '599991becd530e4d5f6a492f', '5a077a831a1e864d8fa0e54e', '537d15889c18db2d1d00019d', '562e5de572616951e9000f3f', '50eefb09d0c2eb5068000781', '543b6bab726169250a980200', '5613fec172616964290000fd', '55f9955e72616966330000c4', '5a205264275b24150424e6e7', '5508e10672616973fd161500', '56095668726169692a0009ed', '547b620c72616977d59e0a00', '58ac9e68cd530e4caeef72a8', '50eefb59d0c2eb50680008f1', '5548d5b764626c4b11d90300', '54af0b567261692f1e420300', '532df8867622dd7f4c000186', '54b4259572616930e6310200', '515cf07f769659e1fb001878', '54c29a347261690a707d0600', '58c1fdff275b24569625f68d', '513e8bd2d0c2eb0eef00047b', '5548d54564626c4abe300700', '56e9ba7db202a3659a000c24', '53eb87817261692d6caa0000', '58699a6eb202a3646a00039c', '50acfd2a32f13f26370000be', '50eefc2fd0c2eb5068000c99', '52d482819c18db6b4b0002a4', '554bcae2726169287b7c0200', '55381ba37261694e44bb2800', '5bf5295cef51362e6ad9f906', '531f59ddcd530e53ef00029f', '56540fe48b3b811fde000b22', '50eefc14d0c2eb5068000c29', '50eefbd2d0c2eb5068000b19', '58501112139b2174860004c8', '50eefb76d0c2eb5068000979', '50eefa9ed0c2eb5068000599', '526ca704139b214e75000921', '5733c520b202a373d300044c', '50eefc4fd0c2eb5068000d09', '587e5900b202a3645200054c', '59dc352c275b24369adf26c2', '538f71f7b202a3e63c00030c', '50eefbe2d0c2eb5068000b59', '53cac3787261691468120c00', '515b45c0223afa29bd000948', '59bc310c139b2149937fb594', '55dd65a77261694427000067', '55f5e10b726169677d0000fc', '57ed3e01b202a30b2a000203', '57df072ab202a3660500043d', '562f9f5d7261690f59000244', '55ec7a6872616958ca000fad', '592f23a72a893a6ef47353a6', '58f7d616a09a673c2aa7607a', '50eefafbd0c2eb5068000749', '5572064d72616910944e0100', '543393a57261694847351b00', '5508e10f7261691e44b51400', '54e8c1a27261694a2d361300', '562f9fbb7261695a9b000237', '531f97d1275b249a16000511', '55ddda217261693da000010b', '54889c53726169036c630100', '5de59c701814fb0011f39867', '597f07579c18db5230b2243f', '538d3a9cc9dc247d9200062a', '57e70445cd530e660400072d', '515d6b195eeb1c524c004990', '580162fc7622dd22760004f8', '553fba3664626c50b8080600', '516ca208b83d23b4db000715', '538a03bfcd530edcd900008f', '54c276a57261692b47220100', '5156f43ca918022fb0000052', '515cd6e8b5907b33b1000a7e', '54b9519c7261693705090400', '52a89d0ea09a672230000086', '55e0c8867261693d8e00020b', '515d26e47696593fde00332c', '52bcb7cd9c18dbfb2d00037e', '515b360a9562c8fee2001ba1', '54b9574372616942fb600400', '5870833aa09a67566a00333f', '57ada34d8b3b811bc800054e', '54e2a3bc7261693a68900100', '5e976e0d363175000d39a3e7', '527d3948275b24f234000130', '5fe4e883e76b9612917a0c61', '5a5a518e2a893a69cf25634a', '52e245d48b3b813ec50000fd', '515cdf8d7696593fde000fcb', '56e9c2138b3b812aa300129b', '54da56fe726169286d530200', '5414c6367261692d6f2c0500', '515b39c138ad2d25a7000b6f', '55381bb17261692b1a1d0500', '6230a5251ea8dc000c8ad9b4', '5616a04b72616964820001ab', '56fea44bcb4c27658b000689', '50eefbd0d0c2eb5068000b11', '53b8365a7261692d7d570000', '54b9519c7261690c59f20300', '5312780a8b3b81139c0000dd', '50eefa17d0c2eb5068000369', '515b6d1bcd4b8ef7fd0004c3', '515bc6161b12b0244a0027ee', '54b425987261692b30d50100', '5388d04a4b8480e4370000b8', '515cc2dd5eeb1c904c00019b', '50eefbcdd0c2eb5068000b01', '54ad62177261692bf5960000', '5364026db202a3d0740000fb', '57d84727139b210f140002fd', '54c29bf0726169174c680600', '54061ab972616972c32c1200', '537505e28b3b81f9bc000209', '54fd1d617261692130875900', '536e63f0c9dc247349000b63', '5acb7140275b24358ae4132f', '5331e32e275b24c7ad0000ef', '550772877261695658ed0900', '5609706d72616966b700011f', '5997196c8b0c1401c22b519f', '5453f0067261692d5ebf0300', '595565068b3b81299b717481', '57fe935b139b2151e4000ab8', '54af0b55726169324c9e0300', '56a837d87076d024d800008a', '53d93dfe7261690aab8c0100', '5b06ec981a1e8613af025e11', '564772f4aa00b53e020001c4', '535162118b3b8155b300005d', '556890d77261696bc3030000', '525d9ebd8b3b81e95a000697', '537d17494b8480e06300010d', '5cae1df997da08740f9f7eff', '516cad6ab83d23b4db000c0c', '56d0ae05b8bad466fd000092', '515721c19bb3ce68c2000153', '528ba644275b24135a000045', '55b528ee7261696ff400008c', '59c2a4a62a893a5a1f6e52d1', '532df8928b3b81c1d900024c', '58ae2f27a09a67761c06b045', '58ab0faba09a6724705e76ef', '5f82215f44f91e00132466e1', '50eefb7ad0c2eb5068000989', '54b4259872616921c5360200', '55b786da72616970c7000014', '54e415db726169611aed0100', '53ebf76a7261695c33680000', '5565d2947261692af5620000', '55ae3ab87261694e28000280', '5a0325a88b0c146c8d9d9c15', '516ded47b31e2b2270000651', '55425487726169246fcb1a00', '5acf9331c9dc2404e5b1e17d', '54c27afb7261694b00dc0500', '5318a2b4a09a678185000323', '56fae3407622dd6589000c7c', '5a108a1ccd530e4d78969826', '601d61773480ec000da54e09', '59e25771a09a6746b9d00841', '5fcbe672d39f41000ec43897', '4fedd655a77ade0001000dd2', '5936e110cd530e697395d2c6', '568d6d967622dd6511000124', '562c458972616964010009cc', '50eefc5bd0c2eb5068000d31', '561ccda072616940090000bb', '5aff0dff275b247f143464f1', '53a61ce67261693f51290400', '565bd696c9dc2448c600071a', '54da529b7261696c8d140200', '572b385f7622dd6bd9000f54', '5c83f46089ec893e1f495572', '55dc79de72616954990001a5', '5bfd930909b076263d8a387d', '52f2a0f17622ddd9c000005c', '5ab2ddeb7622dd5646b7e7d3', '5ad9723ac9dc24637d2d304c', '562f9efa72616964060000c6', '515d42d2769659e1fb003ed2', '53d93db97261692fb9870100', '515baed71b12b0244a001b5b', '54f60f7e7261692b6bb00600', '5130d1fcf6907d46c50001f2', '577001e8cd530e65f600020a', '526ec593cd530e9aed000cf3', '53198ef0c9dc240ce6000111', '5a0f41f02a893a75b6eeef3d', '55c265ba7261695f1e00008d', '5a9fdc8c8b0c147e0b210aed', '5453f00b7261692d42650400', '50eefbbad0c2eb5068000aa9', '531f74eba09a67543a0003b8', '50eefb45d0c2eb5068000881', '51159392cd695218f00001dd', '52d80989a09a67e1d200005b', '51cc7f78275b24f870000001', '55c27d8e72616933f70000aa', '56816ed29c18db053a0004ca', '55b111a8726169079f00016d', '546fb8547261693775b20500', '57a38d16b202a366010009ac', '5527f1767261691f385d2000', '5dcdb762d867f7000eec5990', '5999acc6c9dc243c2fb3154a', '58e29dc29c18db7713154aa1', '564a053d9c18db7f6a000503', '55f1bea37261694e6b000287', '50eefc39d0c2eb5068000cc9', '52a89b5c275b24085700028c', '52a8abc3139b214160000227', '537b93591a1e8650b2000036', '55df38357261695493000ae3', '5a0f41ca2a893a75b6eeef21', '53a1f8367261695e1b260200', '515bb0db94714c2e380012b9', '504e5fcd345a11000200071b', '515cc78f7b7057eb4c00046f', '533b1e41c9dc24912b0000bf', '4faaea15e73b0c000100035d', '5936de50b202a35d12109a51', '5f3a877010a2f8000ec80c37', '54f4ecdf7261692b01200800', '515cced77b70570a130007c3', '5a4498772a893a06e1e5151f', '53a1f38a7261696072c80100', '50eefa56d0c2eb5068000479', '54ecb60572616933fd790800', '5508e0e672616902351a1500', '53628cd51a1e864c7b0000e8', '59f63ee0c9dc2465037daca7', '588cbd8bc9dc24560a4dad87', '53601f24cd530ece9800022e', '55ec7a0d7261693da9000010', '515b61edea092fc12600034f', '54c90a14726169330f791d00', '54889b787261692bba1b0100', '5475fdfe7261692ce38f0b00', '5b06ec72139b2146750726fd', '54529e6b7261695e48040200', '592f2391cd530e4d89ce3e6c', '56067190726169349100048a', '54232d927261692d69990300', '555ccbf17261695eea9a0300', '5508e07072616973fd8b1400', '54b49454726169630fb90400', '5548d5a964626c4b11670300', '5480bef472616968704f0e00', '5bf5295d6f57de24b4b0ea81', '556a147e7261692bb7840100', '5519e5947261692ae66b0500', '537d15b54b84808adb00010d', '52d60b83cd530e27eb000049', '53a61ce67261693848ed0400', '56d638a49c18db16060001ab', '50eefb48d0c2eb5068000899', '515bc149cd4b8ed0b9001c2d', '541366237261695f16390400', '50eefb89d0c2eb50680009d1', '57a24af3b202a365fe0006c2', '515b20bf38ad2d78ca000e97', '59e257588b0c14111caf12e0', '54de77a27261692badb00200', '531ffe6e9c18dbfa850005ae', '537d156c1a1e86bd7100017c', '54e7a2b672616916bfbc0b00', '53bd93ba7261696e710d0800', '531755b07622dd49fb0000ad', '5a0f420b9c18db52d001e186', '5a6286a3b202a35176f6866b', '5a0cc71b8b3b81668820d6a6', '55df32967261697ce7000aca', '56b391c2a6ca6d67080000d3', '569c59e8aa00b560f20002d5', '56aaeb5b6428703eda000091', '5b3a7539c9dc245c94f71eab', '5d6abade5aaddc000e7e844a', '530432fc8b3b814caf000196', '52222e58275b2411f70002f3', '575060b69c18db5ee6002b15', '53ffbcda7261695758130400', '5fcabc14d7401300121b44cd', '562f9f0c7261694752000228', '5307aea9a09a67a95c0001ac', '5c83f4623f2d821172277ae4', '5690389e2a893a602d00017f', '5602a6a8726169661400002e', '515baef5ea092ff579000d21', '546641ba7261697277470b00', '5aa7b7eb8b3b8167dff3346f', '597f36378b0c14355619a9e6', '515d0f275eeb1c904c00267b', '5bfd9305e9189b16fbf5415c', '55f041877261695dc90002eb', '53482ba3275b243fd1000275', '57ae5cce139b21352c000ea6', '55254966726169485c360100', '5910d7a1cb4c270e5934928b', '5810d8a67622dd30c4000890', '515b15d638ad2d78ca0008ca', '562c453972616964250009e1', '54e28c21726169040d880100', '50eefb4ed0c2eb50680008c1', '5318a96b1a1e86f4ef000076', '543b6b6a7261692c0f850200', '54c90a147261692b51bf0200', '56cb2771258faf3ac4000424', '5453efdb7261692d5def0300', '516cca9eed1712c8be0005f9', '5839b8f0a09a671da4001b44', '54db8e827261692c62bb0300', '555b5b527261692b8f1d0000', '530766fba09a671d650000ff', '5456f6677261692844ee0100', '5384a77acb4c27766f000068', '54e435767261696a457c1500', '515bad171b12b0e668001ac4', '55e032a77261697a160002f1', '516de8d79ad2d32b27000536', '53d93db77261692481990100', '515cbf607b7057eb4c000068', '50eef9e2d0c2eb5068000299', '53c536207261696be84f1b00', '513e8bc1d0c2eb0eef00043c', '54ef209d72616971b6221e00', '54c02fbf7261692fad0c0700', '531755ad7622dd72090000c9', '557206507261695403260200', '57f2de7b7622dd37a60002d0', '50eef9d5d0c2eb5068000269', '52f27a1a7622dd2eb1000174', '4fe2315529ea45000100012f', '543b6c33726169250ab00200', '515cd72f769659e1fb000b87', '56ccd970b8bad404c10000f6', '575c7db1275b242b0f0010a3', '531780aacd530eaead00017f', '537d1581b202a37de30001a0', '5d60625da76b7c00114d5561', '57ed3e02275b2462240001ae', '55ddeb547261693d98000100', '515d15d77b7057eb4c002bde', '5709352c7622dd6582000a8a', '51cc70668b3b81f13b000347', '515d6cef7b7057eb4c004de1', '5a457a05275b2436c7269a38', '53b865e27261692ce7080100', '50eefaccd0c2eb5068000679', '5318a189cd530ee67e000075', '5508e0aa72616933229a1600', '5a18b62d2a893a23a23facfb', '564b7b634c0af5189b000021', '54d2962e7261694659fc0300', '546e3d9572616952f3a30100', '5130d1fcad1b4d08090001c2', '5bac0f1013b089327d7859fb', '5703a782b202a365910000d5', '4e67aa022b950000010097d3', '5351620c1a1e86a708000041', '5364025fa09a67e40500039f', '56a837d72a893a7e0d00007b', '513e8b25d0c2eb0eef0001e9', '559af7d072616954830000dd', '589aeec2139b2155a5eb8f8c', '526ee9fe139b21087c000e06', '50eefacad0c2eb5068000671', '535161fbb202a39f1500003b', '50eefa55d0c2eb5068000471', '5acd30d49c18db0462330fe3', '537d18389c18dbc266000135', '57ada322139b2135c00005ef', '564ab44b6d932d550e00060e', '5c9a752dc8eff77748b93e23', '5b719c122cf214402d37586b', '5914f2787622dd440b8de9a6', '535162097622dd05ce00002e', '515b2b3705635113a5001839', '515d708f5eeb1c904c004cc6', '515d36edb5907bf7e8003832', '547df5a97261693f0afb1400', '5da64936f3f773001210afa1', '53c67bc67261694806bd0600', '592627067622dd2671cec895', '56154fbc7261691dbe0002e8', '54f86c177261697d446f3100', '525ef7a2b202a3d02f000100', '533b2174cd530e1f710000eb', '50eefa31d0c2eb50680003d9', '5b3d04b9c9dc245c94f86590', '5a20573bb202a35140192d60', '558315af7261692f8e00015e', '5aa7b7bd7622dd3621586355', '515b1385056351dc33000a81', '513e8b5ed0c2eb0eef0002be', '50eefb9ad0c2eb5068000a21', '5b33d5e67076d0703e688f1f', '515ba5cdea092ff579000867', '551830177261694f9d0b0500', '515bb3c294714c1d2e001392', '55ed5e447261692f860007e1', '56ccd984864d8230b500011d', '4fedd7d498400c0001000f10', '5329d42f928f8f3b83000b7d', '50eefbb0d0c2eb5068000a81', '548141d472616941afc51200', '51cca208275b24999400014e', '54d2962f72616961c9270400', '55c263127261695441000068', '526c3628c9dc24a8cd0001f6', '54d2962e7261697fb24c0400', '58d6e9919c18db60d5a0bca6', '515d5cf95eeb1c904c0044ae', '532b6eae275b246fd0000227', '515cd4f4b5907b33b100098a', '564283e54c0af539fe0003ba', '54ac353f7261692714921600', '535161fb7622dd7745000049', '5aff0e028b3b81357ad9899a', '515b6ea4cd4b8ed25f000489', '54d2962a72616976604c0300', '579a82377622dd698e00103b', '50eefbe4d0c2eb5068000b69', '50eefc20d0c2eb5068000c61', '515cfa3b7b70570a13001ced', '515bb36894714c1d2e001357', '58e55812cd530e53b4c814d1', '50eefa93d0c2eb5068000569', '5b37e972b202a31662580aef', '537505d68b3b8125870001f9', '622205795c3e6f000ece0034', '50eefa7bd0c2eb5068000501', '5331e320cb4c27a649000114', '532df892139b21c1f3000264', '548a02bb7261696cd83b0100', '4faaea12a398ad000100031a', '5331ccc97622dd13970000ab', '5b37e975cb4c271359f62c15', '503bea5a027f150002000125', '5a303009275b2406aecbbddd', '50eefbcbd0c2eb5068000af9', '5536c36a7261694e62b00200', '50eefbb6d0c2eb5068000a99', '513e8b0cd0c2eb0eef000179', '52eac6a7b202a3a1fc0001c4', '515b4d160563514102000089', '5fde6ec95df7ca001201cd73', '573b49cdcd530e6611000540', '515d1651b5907b33b1002833', '5548d62464626c4abe370e00', '515d6cca7696593fde004bdb', '50eefb68d0c2eb5068000941', '52ebed51cb4c274f41000060', '531f59a58b3b819ab4000315', '556dc3d87261697383000300', '515bae501b12b0244a001b07', '59bc310b8b0c14109f7d75fe', '52bcb7d1275b24f2a4000382', '4dffa360471d4d0001005d3d', '551f08a87261691f287a0100', '58ab0baa8b3b8140ddc4a8d0', '53b439907261692cf0420100', '54d107f6726169253bb20000', '54b425957261696050ea0100', '5318a5c8a09a67e6870006b7', '542c362e7261692d4ab90100', '592f23b2b202a34d9d23a93c', '537d18267622dd57ec000189', '58e2bd42cd530e66c5bbf8aa', '571e4036275b246e4b002cd7', '5313fdeac9dc24e7e30001ab', '53bee47f72616931b4950200', '54b425947261697ea40e0200', '516ca3f8078b3214780006c7', '515d1f457696593fde002f25', '57bc9b33275b24564d003165', '515cf7437696593fde001b53', '5661aea86428704e13000007', '515bab881b12b0e6680019df', '58af6a039c18db3566981b41', '516cc979fdc441ac4400059c', '53c67bc9726169090ff50600', '5703a7847622dd65840000d2', '534c6bfd8b3b81868b000031', '533b21748b3b816e980000c0', '55940fcc7261690cb3000045', '50eefa88d0c2eb5068000539', '5a0cc71fcd530e4d8b264117', '515bb1d81b12b0e668001d72', '54c276af7261692c69780500', '5752a85a9c18db73d4001049', '56098a4a726169661a0001d1', '54e4a6857261692c17370200', '54ad9abb72616902ba5c0500', '5423c95a72616939747c0300', '541b0cda7261692d622f0100', '53697ae88b3b816a5700001d', '50eefba5d0c2eb5068000a51', '50eefc1bd0c2eb5068000c49', '587908a7b202a373b3000170', '5cb4aeb1c3f0980029075c45', '543b6c727261692aa87a0200', '515b0a2b223afa7ea8000298', '5b5836ff776b5003fa112c57', '57a38d04b202a36605000927', '5453efd07261695bedc50a00', '546639ab7261692e17c30100', '4faaea18e73b0c000100038d', '58ab0d269c18db27cc2aa0c9', '5383954c7622dde21b0000e2', '59fe09dfcd530e4d80d2f394', '546e488c72616915b44b0200', '54da575a7261692c2b3d0200', '557cab987261696cc100086a', '516c9d9b0f8b78ba65000527', '5b33d5cfb202a363eb7d5810', '57f2de7eb202a328a2000300', '57fe0bfc9c18db2ced0004a8', '5130d1fead1b4d08090001cc', '53dd3e637261692dabbf0300', '515b0b9d05635113a5000611', '57ab5577cd530e6606000732', '555b60277261697cdfc40200', '560c52fc72616951d50000d5', '54b42562726169313fe80100', '5318a2b2a09a67917d00068b', '595ee568139b2102374590e3', '5aff0e9fcd530e2bb5a6eb23', '53c54fbf72616964efee1e00', '562c0afd72616951db000a8d', '571fdf027622dd492b000241', '4dc80d06b1783b00010004cf', '546161fd72616926e8ff0e00', '50eefa19d0c2eb5068000371', '5bccccbdbdc8dd78391658f8', '589b6d91b202a34ca9ae1498', '594edfed2a893a6b9707cd49', '5422ad6e726169375c7c0300', '54b4259772616921c8e40100', '4e67aa024ecfa0000100a0a8', '52bcb7d19c18dba5760003f6', '548772417261692d5f3d0000', '515b1ff705635113a5001223', '53d93def7261695918ec0100', '552803627261692b433e0900', '55dd4b7f7261693736000013', '525fb6e2b202a3d02f000396', '5351621b275b24a0aa000066', '57fe935da09a6770f6000bf8', '536e64e99c18dbad5d000a6c', '59e7cfe1c9dc243e3fea6030', '5b3f8f99a09a673609321ec8', '538e0dd1275b244fd60005f0', '530535f2cd530e19cf000152', '5ab2d6a2cd530e11b71d27b2', '548096c1726169716abf0e00', '5b3e6bce8b3b8135a5ad2ed4', '515b29b69562c8fee200145a', '536e6488275b24173c000b41', '562fac557261690f590002a1', '516dfae3fdc44191d600061a', '59f0adf2c9dc2410de4c4a9d', '5a0cc71d275b244361b20e6f', '5475f38c72616948dd081100', '547258be726169015a110100', '516df640fdc44191d600040d', '5331e3257622dd21bc000105', '54aebc617261696639000000', '515cf3265eeb1c904c0018d4', '54c2780d7261692b6b6d0100', '555e8344726169326c750000', '5e98dfd395b438000e294f86', '54725930726169686b7a1200', '57ada31d139b2135c00005e5', '57ab5516275b246602000e5d', '56a837d79c18db7286000088', '50eefbe8d0c2eb5068000b79', '536402641a1e8661cb0001c6', '58f8d1a4b202a34d3700bb56', '55e1ce47726169503e000841', '531f74eacb4c27eed70002d5', '53a61ce672616956d4890400', '5283e28ca09a67e15200004d', '5329d569928f8f3b83000c79', '52bdd46dc9dc2440c500008c', '5afc37f61a1e8616824ea4cf', '515b771fea092fa6390000bd', '5accce9b9c18db43edca1ae8', '59bc310ab202a37c0d137d56', '59e6072d8b3b81578c0d65d8', '57d847227622dd3c4600036b', '54134e8a7261690e36fd0d00', '59cec785139b2120ba3dc1aa', '5a457e22cd530e5008d80ffa', '592f23d5b202a34d9949c99c', '533f337fc9dc24f05a0001ba', '54d2962e7261694561a80400', '531755a4b202a358db000055', '50eefa8cd0c2eb5068000549', '58d6f35f9c18db60d5a0bd05', '543b6bac7261693f8e570200', '5201e0518b3b81149d0001f9', '516ca7e7078b327cee000836', '5a18b5088b0c14399c4f9a66', '623e9bfa5f2256000dc8deb2', '5b37e976cb4c271359f62c1c', '58ded8628b3b812a8615aa81', '5b37bbdf9acc8a17a5039ca5', '513e8b18d0c2eb0eef0001ae', '515cf2ed7696593fde001968', '57d086cd139b2117a2000168', '55f9971f72616928dc0002b3', '56ccd8b64c0af568400000f2', '59f63ee59c18db194dfa50dd', '50eefc63d0c2eb5068000d49', '504e5fce3e0036000200070a', '532b70f4275b2407630002a1', '53a3268c72616953cab00100', '552ef6c07261697e1a163000', '592f3ae6b202a34d9d23ac6b', '54e499b7726169634bd91c00', '592f23687622dd61ec5f9253', '5b37bbde275b245afc03d1d5', '568a5d9e6d932d2bce0004e0', '587e9b008b3b8142480000a7', '559bdab572616970060002ea', '526ca7048b3b81bdfc0007a0', '548142047261691224131200', '546e4a9672616917ff580200', '53629bb8c9dc24b79b000125', '5507727772616950001e0900', '5e81d49a74b91d000da5a655', '55ae3af772616970e3000006', '56ccd8abaa00b549960000d8', '562f9fab72616930e70001fb', '5b71a028a80ee200294819c0', '4f750b6d653da10001000568', '55bf2cff7261696acf00085b', '516cb2b4078b327cee000c30', '515cdcc4b5907bf7e8000d6d', '53a61ce57261693f4c7c0400', '623eefd65cf639000da5b941', '58bb1549139b213e2f1ca4fe', '575c430e8b3b81538e000d0a', '546e488b726169787d6f0200', '513b744785658cdf47000027', '531a338c1a1e8658ac000100', '515d576f7b70570a130044a9', '50eefb60d0c2eb5068000911', '50eefa0bd0c2eb5068000341', '5470b0b87261691b07160c00', '5a18b586a09a674af986f957', '53067b0fcd530eb9c0000052', '56a8bd3e8b0c147e9300014d', '5542cc1e726169269e730b00', '59d647ed9c18db2c7c161d4d', '50eefb6ed0c2eb5068000959', '54ca47c87261692c468c0300', '53bd8f5d7261692cc7bd0100', '55086e447261692ccb0e0200', '58c6db48a09a675d44c9ba97', '54889aae72616919ce410100', '57e702f59c18db2dcd0010ad', '515b1728223afa7c740005b5', '5460ff4f7261692d535b0200', '52697810275b249bbd000190', '5c96b2a880c4b26b1591ff8d', '58580f278b0c140ee80014e4', '54496d3b7261692d533e0400', '52bcb7d28b3b81839a00033f', '5a0cc71f7622dd4d9efa9f22', '55095c3c7261690e68162600', '58d5a4a4cd530e4d58ebd07b', '5364025e275b24a9560000e1', '515cf45d7b7057eb4c001ab8', '52a89b14139b21018a0001f4', '52aa0f557622dd923c0000b1', '56ef71f6139b215621002569', '50eefa76d0c2eb50680004e9', '546b9739726169685b3b0100', '561f54f772616964b50007bf', '504a3bbe8d0049000200028f', '54ac540772616909a6251c00', '533f337e9c18dbed150001bf', '52950ba3a09a6779cc000048', '56e9b9c1b202a36596000b25', '562fa02572616964100000c3', '515b4e870563514102000144', '59dae1e4cd530e4d7dff033e', '5acb70fa4b8480166e27eae5', '53a726a97261692d58d90000', '5467b3467261692ce40f1200', '515b182905635113a5000d94', '5b50c2bc3477fc60f286cfaa', '624445dece0233000cd597cf', '59c2eca0a09a6702e24fd4b8', '5a6135182a893a6a67d07ef1', '52f53d50cd530e424000012b', '562276c672616975e500037d', '623e48ea0b71f5000b8f8b22', '50eefb13d0c2eb50680007b1', '5da65e48b7cabf0012cc5e9c', '601f1e30d57f61000d67fbcc', '54c285057261692b428b0100', '515d01337b7057eb4c0021fe', '54d29629726169438b680500', '5331cccea09a67938500006d', '54e61152726169780e2d0700', '592f23ccb202a34d9949c993', '5351620e139b2139d4000030', '56498f136d932d5502000441', '54540be172616935e94f0c00', '5ae09937cd530e2ba73e70b7', '5af36f639c18db38cb9463fd', '5c83f49889ec893e1f49558e', '537d176f9c18dbc26600010e', '54da5204726169286a710200', '516cc28d9ad2d3888600027e', '5331ccce275b246adb00007f', '53d93df2726169083c750100', '53a1f2a3726169538cdb0100', '50eefaf6d0c2eb5068000731', '515b4b4105635113a5002804', '52d91d1a275b24ab8f000213', '5331cccf9c18dbf5640000c1', '50eefb8cd0c2eb50680009e1', '5437cf7772616953f41f1800', '515d56cc5eeb1c904c0042e6', '52d60b86139b2119ac000060', '55703dda72616910f7bb0c00', '58580f38a09a675c1a001697', '551a300f7261692aea4b0400', '553fcec172616924775e0800', '51fb6c1c8b3b81c2de00030a', '55c264ca72616933f4000098', '50eefb49d0c2eb50680008a1', '545a57997261691958450100', '533b30417622dd1442000124', '5472583172616937cbd11200', '543b6c727261693674bf0200', '54da57bc726169081b3f0200', '55c261cf7261695f2a00005f', '5542cc867261692b99da0400', '5e976e0c141fef00116a228a', '513bf17785658c5d2d00005a', '5548d54064626c4abe0a0700', '552549647261692e84be0000', '5b7af842a5ccce04f91cca75', '562c0b09726169644200093d', '537ba471139b21e4a50000f9', '52d60b85275b240b47000057', '570d880acb4c276e670007db', '5c5970dfe92d7d18765ffc24', '56142b46726169199a00073f', '5469234b7261692deee00000', '622b7ca88be5bf000ce191bd', '50eefaa4d0c2eb50680005c1', '58af66daa09a672d1293b264', '541b0c347261692d6b680100', '569febe34b8480652e000146', '58af66ba9c18db353325b6dd', '52d60b869c18db401f00005d', '5621120d726169538a000387', '5b7a61e776bc2334522ce749', '58c1e4f59c18db12b6db4d8f', '50eefb17d0c2eb50680007c1', '564d25b0864d820ba600033c', '5455583d7261692d57ea0300', '543b6bac7261693670ae0200', '5fde6eb66ec768000dffb76c', '5488aa5b72616961f4110200', '56aaeb598b3b812bfa0000a3', '56a837d78b0c147e9f00008e', '50eefa98d0c2eb5068000581', '5351620f7622dda8a700000f', '526a8bbfcd530eccdd000030', '555b60337261692b8a4e0000', '516dfb58fdc44191d6000644', '515ba44aea092f003c000954', '50eefb23d0c2eb50680007f1', '516def62b31e2bd65e0008fa', '50eefb02d0c2eb5068000761', '5124f71038ae427bc300022c', '5548d51764626c4abeb40500', '515b901094714c2e380004ae', '5552dbf2726169519e110300', '54b425987261693be8480200', '54f88dd87261692b999e0300', '58ac9e68139b21579bba9dea', '5384b9b99c18dba5d6000052', '531ffe809c18db65ce0005b6', '56339ad472616964150000f7', '55c263b8726169638c00007b', '516df30ded1712d0a800087f', '504e5fcd62f5a0000200070e', '525714e88b3b81dd2600064b', '5bd353cbc2751a002b09e3b2', '5318a96b275b24ed18000752', '59c2a4af9c18db5297a36e6a', '5839b8f99c18db1399001b7a', '598b72df8b0c147d153e17e7', '515b5b42ea092f60330000d8', '515b6b1eea092f56b2000224', '5a0cc71a139b213e049c05a8', '5b3d06538b0c1413e6eb293e', '53aaf3067261692d41a60000', '515bbc7994714c1d2e001822', '546fd2ef7261692409c20600', '52cf6ff4275b2434cc0004c0', '560daef972616910f4000259', '5cd2f62d0b2771692aab4aca', '50eefa7ed0c2eb5068000509', '562f9ee672616964010000a2', '59d68cfba09a6718585b428d', '5bc5ee63afe9bf1b3870864d', '547b55037261692d56360000', '553fb80264626c4fe0ea0500', '54e36e86726169345ada0800', '50eefb20d0c2eb50680007e9', '57d878977622dd69d2000653', '504e5fca62f5a000020006e6', '52d0355ecd530e4f91000797', '531263d1139b219e55000003', '5461618f7261692d478c0a00', '4dc1b4f62df37f22f000183b', '50eefc42d0c2eb5068000ce9', '50eefb8fd0c2eb50680009f1', '515d114a7b70570a1300290e', '5fcbe5f58be16800124ddfcb', '57e42221275b244a5700038c', '562f9fe37261695a98000238', '55c2628d72616969e9000056', '5606718d7261695f260004a8', '53aaf3057261692f62740500', '51f2b047275b243df7000324', '56099a1a72616938a9000c06', '54ed11a07261692fa5d01600', '5a6a7dda8b0c1471a388ec7e', '5b3cefdfcd530e0859a3452b', '5a20522e139b212a46308642', '53067e11cd530e432a000080', '52603ac2139b21f3a100068f', '5424803072616928db760900', '53a1f2ce726169537cdd0100', '54ac34407261692b59d40d00', '533f3386cb4c27fe350000e7', '52e840dec9dc24559000010e', '513e8b6ed0c2eb0eef000302', '5453efea7261695be9ab0a00', '52a89de69c18db431d000253', '5364025e9c18db177d0000e8', '547df5be7261692e2b9c0b00', '50eefa52d0c2eb5068000461', '4fedd700a77ade0001000e53', '55381bab7261692b14510500', '5437cf81726169512c681600', '537d16394b8480ab7a000198', '515d6a79769659e1fb004b3e', '56a837d6a6ca6d6aaf00009f', '57f2de7d275b24293b000243', '50eef9bed0c2eb5068000211', '516cbb94078b32147800105e', '54c28641726169330f410600', '516df3e9b31e2bd65e000aee', '50eefa53d0c2eb5068000469', '50eefc28d0c2eb5068000c81', '5b06ec9bc9dc2455f86ea3eb', '58016290c9dc240586000495', '570e97ef8b3b81302a001077', '623f1ba7416876000b7422f4', '544431b47261692d4db90200', '52ce8dc1cd530ef35600014e', '538f7120cb4c27a503000228', '54c287767261692c47f30100', '50eefb2bd0c2eb5068000811', '53bc96c57261696893e10100', '54b4250c726169682b380200', '531a5fe0a09a67de07000290', '535544d0139b21517f0003ad', '543b6c727261692aa4840200', '553a9ca1726169754eaa0000', '51260bab7637711308000696', '6230a412db284e000c3ffafa', '59dae20f275b2478510892e7', '555b5b317261692ba2090300', '50eefc0ad0c2eb5068000bf9', '5453f0107261694c14290a00', '54e1707d7261690bf5491500', '57c800e7139b21435c000a6b', '51c4b8db275b24532d000402', '513e8bb0d0c2eb0eef0003f4', '50eefaacd0c2eb50680005e1', '551f0b9c72616966d6263700', '504e5fcf62f5a0000200072e', '535162038b3b8155b3000054', '54529ea37261694c234c0200', '50eef9efd0c2eb50680002d9', '50eef9f9d0c2eb5068000301', '5542a0727261690f95531e00', '50eefc5ed0c2eb5068000d39', '5465300c7261691cc4770400', '52c8b25ccb4c2737040002c1', '50eefa36d0c2eb50680003e1', '622b77f1187dde000e7af4da', '531755ab1a1e86f1a1000063', '5650b450b202a3640900009b', '5548d52464626c4abe260600', '5a6a479d9c18db1884f0bf9b', '58580f28275b247a1e001420', '552926d17261692ae0800e00', '622b7b158be5bf000b9ff3cf', '515cc980769659e1fb000535', '530b9538275b24f22400009e', '543012547261694853ed0800', '554bcad77261690adcb90200', '582798a38b3b8148f8001518', '50eefadbd0c2eb50680006b1', '50eefba4d0c2eb5068000a49', '52f2a0f29c18dbce7f0000a3', '53c54fbf7261692ce2e60000', '5331e32ab202a3044100012e', '55300a1f726169589a440100', '58f8d1969c18db405e0a5925', '53d93daa7261696f70600100', '52a893d5139b21018a0001e8', '592f239b8b3b816915fb5843', '58f8d19c7622dd6e909ffc97', '53b18a83726169150e380100', '550772877261694d00590800', '54b425997261696300110200', '50eefa65d0c2eb50680004b1', '5aff0dfe8b3b8134c9c3b7ac', '531263cf275b240b27000014', '54c2831d7261692b62070200', '5fde6eaa80c739000e1b5140', '527bef608b3b8109aa0000e7', '57755a3a9c18db18de001635', '556ddeac7261692b05740000', '515d1fcd7b7057eb4c0030c6', '554a36d5726169558be50400', '5470b0977261691b0c8b0b00', '561ffadf7261691db2000152', '59bda5ae2a893a59f1a6b96e', '5cd494e2411a3f26f5f99a34', '58e1565fcd530e4d612cadbf', '56728567275b2470bc000102', '54611dc37261692cd17e0700', '564681769acc8a4b2d000095', '56816f397076d01eb00003f3', '5384a71fb202a36dbe00006b', '5acb70c1c9dc24051fe2223b', '545a7c907261690a479f0200', '515b6450ea092f56b2000087', '51e059788b3b81bd0b0002b1', '515d0d617b70570a13002710', '55940f48726169046500005f', '55702ad672616917808e0c00', '562f9efc7261697051000211', '515d0a52b5907b33b1002320', '558350a97261696025000283', '525f07abb202a3574d000185', '55282ad17261692b6cf30d00', '52eac540cd530e4a60000099', '547257ce726169686b6e1200', '55ec7a397261697b5c001063', '579b94357622dd6607000377', '54809783726169122f120e00', '555f8bd97261692b01c70100', '515cd5437696593fde000a92', '5461015c7261692d61110600', '54ad60cb72616974abcb0400', '57db09faa09a6756b00007f3', '50eefa25d0c2eb50680003a9', '55381e4f7261692bcf030700', '5331ccd2275b246adb000088', '50d37aadcdcb3d03de00115f', '55ae3ad57261694e240002e2', '515b41e5223afa29bd000749', '53849fa6275b24f22e000756', '53ab51d27261692d58340300', '5a2052e3b202a3505063ae98', '5c27c02cf31cfc52be73cbf8', '516c96b4078b327cee0001d3', '55dd65b87261694d76000066', '547e3b7e7261692cc6850500', '515b0d20223afae9a5000363', '57a1daaeb202a365fe000076', '53aaf3077261692d5aae0000', '537d1713b202a37de30001c1', '5dcdb76f87818d0012364d62', '5a0cc71a8b3b81668820d69d', '53336426139b21336a000671', '5cd2f4225cd0a8427c73ab6b', '53628ca49c18dbcdab0000f4', '533a9c27139b2196130000d2', '55086e3f72616960e84c0100', '535162198b3b815a9b00002f', '504e5fcdb19ddf000200078d', '538498679c18db8367000d2f', '515cceed5eeb1c524c0006f1', '59552ecbc9dc240f758e777d', '54889c4f726169441e920100', '4faaea1d54ef1d0001000314', '50eefc1ed0c2eb5068000c59', '525c6306139b21d97c000019', '54a698aa72616908f1f40500', '53a2f0f97261692d81050000', '516447c9e1206bfd70000097', '5a458447275b24365008446e', '537d1700275b24bb840001a0', '54ac50d47261692b53fd0d00', '5a613838cd530e2bb5420a2f', '545415b4726169341c7d0b00', '4fedd7f2a77ade0001000f44', '57ed9be8cd530e7df100073b', '55183b157261692afb360000', '560c5a6c7261696aae000131', '5422aa357261692d83160000', '50eefbc7d0c2eb5068000ae9', '56fae222139b217372004eee', '548142087261696870951100', '541decda726169654bb30500', '5709352d9c18db7d75001276', '55a45b4572616941d800000e', '55dc79dd7261693db4000050', '54da704a7261693d0dc00300', '50eefadfd0c2eb50680006c1', '556f670e7261693b0f0f0b00', '58c2ecbc9c18db1329018d53', '537d1599139b21214c000004', '51bcceb68b3b81f53a0003e2', '50eef9b6d0c2eb50680001f1', '59dae2607622dd4d803e8bce', '555b58d27261692146cd0200', '54232bf97261692cf24b0400', '55c2635c72616950af000079', '623e9ad0d271e7000ec4c117', '515ccdb0b5907bf7e80006eb', '526c3966275b24fdd70005bd', '595e6773b202a3014cbd314e', '5892e27b9c18db28748585b6', '515d2453769659e1fb003209', '54529bfa7261695c00df0100', '50eefaafd0c2eb50680005f1', '5548d4e864626c4abe250400', '519d33a98b3b81444d000054', '54af0b557261692f1a640300', '54d2962f7261697660580300', '537d155e4b8480c8380000d5', '5786a8e79c18db1d29000203', '5345b69d275b246b8c000062', '515b7e5b1b12b0e668000a12', '513e8bbbd0c2eb0eef000421', '531f58f47622dd7cd30001e8', '50eefbabd0c2eb5068000a69', '50eefac2d0c2eb5068000651', '519bd4de8b3b81b1bf00021a', '50eefb31d0c2eb5068000829', '5572064d72616974a6ff0100', '515d16ea7b7057eb4c002c69', '555b58c47261692c0e550000', '515ce2057b70570a1300112c', '52669619c9dc244004000042', '5622764c7261696772000294', '547b5cab7261693f0aa50800', '513e8b2cd0c2eb0eef000204', '5712557dcd530e6590000302', '52d034e6cd530e33b3000754', '556890c97261697fc9060000', '53518ffbc9dc24eb8a000165', '54a863f9726169077ea30c00', '516dde68ed1712d0a80001d0', '560daefe7261691e500001da', '52a8ab96275b246b2600031d', '53628cadcb4c27d419000104', '54232b1c7261693753580800', '50eefa10d0c2eb5068000351', '5478df8a7261692953780e00', '5b51f7018687817259594a1b', '5a0f41c58b0c14383fbd6f5b', '61376d3140bfcc000d342d01', '50eefbdbd0c2eb5068000b39', '54247fc87261697726e20900', '5a4d29d39c18db4189acbccf', '5a4546f7cd530e5008d7f3b5', '55381e4872616952b8fc2300', '5aff0e76cb4c271711c01d3f', '5313fe59275b2403fc0002dc', '50eefbd5d0c2eb5068000b21', '5c83f495962ace25a27729ca', '54c2844f7261692b42730100', '556dcad872616917841f0300', '564bc23d275b241e200000dc', '55254a187261697212c80000', '53a61ce77261692b9b7e0400', '562fa07f72616964080000d8', '538d3cc2a09a676b35000618', '52bcb7c39c18dbae350003a4', '56a837d81a1e862d960000a6', '5507aece7261691062a61200', '50eefc67d0c2eb5068000d59', '54d2962f72616941c66e0400', '54f0e9ad7261692ffbad0000', '5331f51bcd530e5236000191', '5b11777f8b3b81520a4da9a0', '5c49d99bf74a7a2e5c542957', '56439e3effc4781c98000095', '530b93d4b202a32d91000085', '5a7a09999c18db7fc2c61970', '5b3f93008b3b814d9bcb68a7', '52d48281139b2195180002f1', '50eefa70d0c2eb50680004d9', '515cfd3a7b70570a13001e7f', '54c27c4c7261691f3db70500', '5a142cd48b0c143795063c1b', '531263d2c9dc242413000004', '5a060e1d9c18db747a28a80c', '515bbd801b12b0244a002338', '53877591b202a314200001b2', '534c6a00139b2105de00001b', '5463e24f726169092a740100', '53e919b272616901cc870100', '5508e0f17261697400de1300', '55ae3e1c7261697192000005', '59cc2f3fcd530e0d9a688054', '53640269a09a67cb71000390', '5447ed8472616950ae0d0900', '623df36bd7a368000c090f5f', '5130d1fdf8d955c2450001f5', '53b18a847261692d3df70000', '5c83f498c8cb3733ac58d699', '586e8454a09a6755fe001881', '53696f57139b21c63d000104', '5130d1fcad1b4d08090001bd', '54c27d787261692b4b140200', '515b58c50563514974000112', '515ccf17769659e1fb0007c3', '54e24da6726169523d6e1b00', '5c63220516c836002c56a5c2', '53336424c9dc2489a500062c', '572c25259c18db2d9b000d19', '593ebcd7c9dc2442b8b4116a', '5508e0c772616973fdd31400', '623e9d3e0b71f5000b8fd818', '59bc3109b202a37c45b40e30', '5a108bb37622dd4d7daa77b0', '54889c677261693667340100', '54ae89287261692572e80900', '54ac52457261693b09c51600', '5aff0e0b7622dd4c2c8adb90', '5b3adb6f66fd1c13246dcdd2', '54da57f17261696b034a0200', '515b3be59562c8fee2001e35', '53c67bbf7261691fc0cf0500', '515b746d1b12b0e668000799', '5331e32acb4c27a64900011d', '515b4d9e05635141020000d4', '546e488c7261693c54090200', '562f9f9b72616963f0000102', '562f9eb2726169229b0001c7', '50eefbcfd0c2eb5068000b09', '55254a2e7261695b9f3b0100', '50eef9c9d0c2eb5068000239', '515d5f6c7b7057eb4c004819', '568ecf1a275b2403e400020b', '54d50c8772616964862b0100', '5507728672616905c4aa0900', '513e8b99d0c2eb0eef00039a', '516cc611b31e2b838100040d', '5650b4ea7076d00d67000566', '54529eca7261695842df0100', '516cbc0bb83d23b4db001290', '5a18b62c8b0c14399c4f9b84', '54af0b557261691ed0f90200', '5aa848a0c9dc2425cdcaef12', '537d1798b202a3cfe10001ae', '53ab51d97261692d39080300', '5c83f47e278d1b002e2ea099', '545400c37261690cd5270900', '5bf5295e62545c2c772844ab', '52a89b5e275b246b260002ad', '528faa109c18dbd1ef000031', '54e499b77261690d69711c00', '557f3ac97261692b14000174', '5465301d7261691cc4830400', '4e67b96e2b9500000100b42c', '536402679c18db6b050002ca', '531ffeae8b3b81bbbe000584', '515b6732cd4b8ef7fd00033a', '56339532726169765a000201', '5539823b7261690f4f360c00', '57d87bdc7622dd69d20006d6', '555bad93726169723ab50100', '5508e0bf7261690e68551300', '515b213e38ad2d78ca000f1a', '56e1d660b202a32852000056', '516cabed0f8b78ba65000b2a', '5728f0d29c18db08950002ee', '554540097261697aa2550600', '52a8da8cc9dc240efd000122', '57d87e1d7622dd69f90006e2', '54c276b07261692bcf3a0100', '523c8cbf1a1e86fcce000152', '59f63ee02a893a06c00294e4', '53d93dec72616953a35c0100', '5b3f8f3e1a1e86165164172a', '537ba6479c18db49850000e2', '5952b7577622dd4d64a98919', '5b3f8e6da09a673609321e6c', '52a89739c9dc2439b6000039', '57ada31ca09a672eb100053b', '546a086a7261695858cf0500', '50eefbe0d0c2eb5068000b51', '524dfb1eb202a35b4000007b', '50eefbeed0c2eb5068000b89', '57841308275b2474a00001e6', '55282ad37261692bef0b0e00', '54245e4e726169396fd90800', '560daf0172616937700001bc', '50eefb78d0c2eb5068000981', '52d60b849c18dba7f900006b', '526e80267622dd9dfa0000c3', '530b935a8b3b81a8d40000b6', '55f99701726169662a0000ad', '5b06ec9a5b2fba16a816f96d', '53a730f77261692d3fe40000', '55b1120c72616970d4000055', '5631da32726169519b0004d4', '55f1cc5772616933c80002c9', '5527f2137261692ae26e0900', '5c631bc4fc15906534822c4a', '527111389c18db11c0000929', '531f2f507622dd99960000ea', '568c986cb202a330a5000058', '5af3569ecb4c272fa8afd6df', '533f337f8b3b81c3f3000196', '545bad9572616949b5bb0400', '54c28314726169053d0f0600', '53bd93b672616968a1650800', '51df1504275b2416a5000776', '5501ff077261694a70300500', '50eefb2fd0c2eb5068000821', '58580f398b3b8165270015f2', '54889b787261690cf6750100', '57d8789c139b21324e00055f', '4d8b93dc4eb68a1b2c001f06', '562279ae72616924ad00033b', '4e67aa162b950000010098ff', '53516202c9dc2414fc00003c', '562f9f8472616921f5000247', '53ab52767261692d39130300', '532df886c9dc2437f8000285', '515d0ecb5eeb1c904c002647', '50eefa15d0c2eb5068000361', '515bbd26ea092ff57900139b', '57ada321a09a672f280005b1', '54d10cc87261692b6b420100', '546a0fd97261692dda970000', '592de3678b0c146977b8baa4', '53bd93ba7261692cdeea0100', '5320b2dc275b2443b100000c', '537d15f69c18dbc2660000e5', '538655a8cd530e0a2700039f', '55d78cd072616937f40000b3', '54c27c3a72616936fb850500', '515b3d3638ad2dfb2f000a11', '5548d59c64626c4abeef0900', '54405a5b7261696cbdf20400', '5ab2841da09a675a5b8d288a', '530b94e37622dd39a30000e7', '50ef217c11668218e20008c5', '5b117ee25b2fba13af89507c', '53a723637261692d4ab60000', '516cc9a8ed1712cccd0005b3', '57df1e698b3b812a6b0016a1', '5cd494f0fb0c670f2bbf0c5f', '5b3d828a1a1e861396dc63e1', '50eefaefd0c2eb5068000711', '592f2397b202a34d9d23a92d', '50eefb33d0c2eb5068000831', '5cafd0331eabba78ab1e70b5', '5e81d583711ed700133aeb61', '53bd93ba7261692cc6e20100', '53518ff4139b210d3c000108', '5876c66ac9dc242c290011f4', '5a81276e275b241d51d6f2c6', '52a8a774a09a67e32a000001', '556dbeb47261692b50880000', '50eefb08d0c2eb5068000779', '537ba6be275b24ec210000e1', '4dee84bb22c71e0001009023', '5dc1a39ad8b5c8000f9cd21b', '50eefb00d0c2eb5068000759', '555ccbf27261692b7a770000', '54d7cf9b7261694ce1190d00', '513e8aacd0c2eb0eef000025', '55ec7a1d7261696d41000ecb', '53c54fbf7261692d42cd0000', '50eefa61d0c2eb50680004a1', '5a0deab7a09a670343d2bbdd', '54232d927261696453910800', '5b42c80c8b3b814d9bcc987b', '5a56292b2a893a7151f369e3', '5570485b7261697d0b690d00', '50eefb4dd0c2eb50680008b9', '54b494527261693be85a0500', '57922b257622dd660400011f', '592f23accd530e4d85444654', '50eefc3dd0c2eb5068000cd9', '557c3c2872616945ae000695', '5b2808fc8b3b813ad4d90500', '56aaeb5a66fd1c13930000d3', '54e8c21f7261694a32951300', '570933f17622dd6582000a5b', '594edc0f7622dd4d682acdc5', '5c83f4bb3f2d821172277b0f', '5606718072616938a30003cb', '532a577f139b2170a100000f', '56434ac0f46c4c021200055a', '5621992272616938f60001a8', '622b824793a496000e561866', '58af6344c9dc24659fdbbf89', '515bb66acd4b8ed0b90016f4', '52bcb7cf9c18db4a5f000376', '50eefb06d0c2eb5068000771', '52d75694139b2143c900002c', '5605b0fb72616921cf000283', '55f1bdea726169393100027b', '50eefbb7d0c2eb5068000aa1', '61c3781a19c243000d85db5a', '5ab23cbb275b2422bece8470', '5b86a8157924f300269e64d2', '555b61ea7261692b86440000', '53ebf77572616958a86c0000', '50eefaa9d0c2eb50680005d9', '5a0325b59c18db5f1c2e0dbb', '555f5ed67261692b31f00000', '57f2de767622dd37a60002c7', '515b45619562c8b443000001', '5463f2b2726169092f2a0200', '53a2e7297261691df9320800', '57f2d575cd530e35ef000211', '5f6a1183047ae000110c250d', '53baabcf7261692cedf10900', '515b31dc38ad2d25a7000732', '54e611467261692afc520200', '54e1dcc27261692b946d0000', '593ea90f8b0c147c16a5aeb6', '5c92b211b4dfba552a0d80c6', '516ca6bb472cb830690008d2', '531780e0275b245be90003cd', '54da52b472616902a5130200', '5548d5ae64626c4b118d0300', '5508e0a4726169497ad11400', '550772827261697a1bf50900', '58af64ffcd530e2441cacde6', '5548d4df64626c4abed90300', '52a89de5a09a67003c00008d', '548b64fd72616952ad580200', '5bb3b5e355227030e166963e', '5126629ebe315901890001d7', '5318a5d4275b2440aa000753', '58daaecb9c18db6adee9d107', '560970717261696611000145', '5aa17d44a09a670e2fdd51f2', '5351620a8b3b8141eb00001e', '513e8b07d0c2eb0eef000167', '51260bac37896788e30006e6', '54868e3b726169705b350200', '58fe91df9c18db079908daa5', '4dc80ce38101da0001002b3c', '562fa0787261694745000241', '4faaea20a398ad0001000364', '515bbd061b12b0244a002313', '50eefb15d0c2eb50680007b9', '50eefaa0d0c2eb50680005a9', '515d5fea7b70570a1300476a', '5aff0e02cd530e2bb5a6eadb', '538f7132275b24b018000781', '547b51137261693dad4f0a00', '553fba4e64626c50b8c60600', '516ca26a078b32147800063c', '516df008b31e2b2270000798', '52c19fc89c18dbd348000059', '56339ad5726169091a000217', '611c152c9d8063000d399a95', '5548d5b364626c4b11b30300', '5385a6ec8b3b81e77c00036a', '58580f25a09a675bb50016e9', '54b4250c726169741c5a0200', '5609706e72616938a0000af0', '5a0469f58b3b81717e3630d4', '5b86931f8b1c6223f75291ef', '5afdcad6cd530e2c6970df10', '546e6a5c7261697433ed0000', '51572381927ae02a850000a3', '4faaea1dc056c200010002ce', '54b4254b72616949a0130200', '53a2e6e672616931d7f40600', '529c8668cd530eb4c4000727', '556d8f4d7261695105f80100', '537697facd530e9ed90001b4', '54da54437261696b0df90100', '57ed3dffcd530e7df10001cb', '59e2579d7622dd4d988d4922', '561f54f47261695a9b0006da', '515b92e41b12b0244a000f9c', '5fcbe635457a91129ae75553', '53c5362872616964f82c1b00', '5703a77b8b3b81736b000c2e', '54e17083726169268d551400', '56fad5197622dd658500092e', '55fc7ab472616938c8000070', '528faa108b3b81cb7b000028', '58245ec4cd530e659f000028', '5c49d999a313692963117b08', '54dd8df47261690576f50400', '513e8b4dd0c2eb0eef000278', '6243b6a8097815000b19b6a2', '52d03552139b218ae6000724', '545415697261694c18320c00', '556da90c7261691778430200', '52d4c1d39c18db6b4b000324', '54b425937261692b3d8a0100', '50eefa83d0c2eb5068000521', '548a08cf72616922d9530100', '515d43845eeb1c904c003e29', '531648b07622dda9930000ad', '511bed8cc71338f6fc000010', '504e5fd0345a110002000753', '50eef9fbd0c2eb5068000309', '551830167261696a5da80c00', '5351620c275b24795f000035', '5bf5295bd09a3f3c776d405a', '54e1dd0b7261692028ed1700', '515b3bae9562c8fee2001e26', '56f0913c7622dd2cc3000563', '54e09a9c7261692ba0de1000', '50eefaebd0c2eb50680006f9', '55f0a3ad7261691bd1000131', '56ccd9474b8480051a00012a', '55381e4a72616957a9f42500', '515b364c223afa29bd000130', '50eefbacd0c2eb5068000a71', '5ac521f4b202a313d29e32a0', '515d40447b70570a13003e37', '5a0cc71dcd530e4d8fda7447', '556da8b77261693b0fa80200', '541aa03e72616959425b0800', '56ccd89c66fd1c7333000112', '54ae892a7261692b34130000', '5a060e05cd530e114a5ceff3', '50eefac5d0c2eb5068000661', '52dff6338b3b810eeb00012c', '547df607726169790a821700', '55bb896272616932cf0001ae', '515d5a695eeb1c524c004309', '54b494517261696a83730400', '54d2962d7261691e17590400', '531755aa8b3b81075300039b', '4faaea1267b4980001000293', '516de6669ad2d38886000e67', '5fc2c7fa1149e5000e87845a', '53a1edf77261695458d00100', '56ab480d76143f2e19000130', '54d100367261690dd82a0000', '515ccea7b5907bf7e8000762', '58580f3f139b2144a10015cd', '56969d545b2fba0b7a00003c', '53c67bc7726169281a6b0600', '57700021b202a365df0001f7', '4dc80cf6b1783b00010004c6', '5b9fcf6859a26f6e4a9f059a', '5604714672616966340001e2', '58d55499c9dc246b49499a5e', '50eefa6cd0c2eb50680004c9', '53529d4e275b242dae000010', '59e2575f8b3b81333c1a933a', '56aaeb598b3b812beb0000da', '55702ac37261694296050d00', '52bcb7d29c18db4a5f00038e', '54835f4c7261690cb6130600', '515ba12494714c1d2e000a28', '50eef9e7d0c2eb50680002b1', '55fab56f7261694d39000263', '515d1ccb769659e1fb002e72', '53516210c9dc24e091000035', '58d6f46e7622dd4d49d280a7', '50eefbe7d0c2eb5068000b71', '54889dac72616944155d0100', '515bb4e0ea092f003c0010e5', '54615a327261693b5e3a1100', '59fe1c3d139b217019acb5ca', '563a6b4a7261693ed30002f6', '53e52e177261695508c80400', '515b13c138ad2d78ca0007aa', '564bca9ff46c4c0ed70000c8', '5bad655efff4aa002b14a172', '55eda12d7261693e310000a6', '5b37e976cd530e294ce619e0', '5b1177805b2fba13af894ced', '51bba5558b3b815c4f000047', '50eefae3d0c2eb50680006d1', '5279104fa09a677068000070', '56bb9933aa00b517ed0001c9', '5384a6e3b202a35fe900008a', '515b0df9223afae9a50003c9', '50ad0b9dca66a421ed000336', '541b0cd57261692d73840100', '597f073f7622dd4d503ea8cf', '559c26e57261697107000183', '50eefa03d0c2eb5068000329', '515cc03c7b70570a130000cf', '515bc71594714c1d2e001d62', '546e976c72616919fa710300', '515bae1bcd4b8ef7fd001971', '533b5b7f9c18db312d0001e8', '588f6b71b202a34cb1000359', '535161fb1a1e860a93000039', '54b9519c7261692bfc460100', '507455ce40b6620002001249', '51c4b8c4275b24f14000044a', '54da554e7261691c41150200', '562f9f0372616964090000f0', '51a756448b3b81d462000433', '50ef2165fec65e30ea000a32', '5b980660157e0400276477ca', '54b42594726169187a5f0100', '533b5b8a139b21227600025a', '54e8c21972616916cc021300', '5733c384275b241a2900040b', '516cc2f79ad2d32bec0002ee', '54af0b55726169324ca60300', '5411faed72616950abe40200', '50ad0b9f066f9bbab000034f', '543767f572616943cdd21300', '5548d57e64626c4abef80800', '593d5b3e8b3b816379d1125d', '531785ef1a1e8675c900012f', '5952be1f8b0c1453664fad5f', '50eefc31d0c2eb5068000ca1', '5364025fc9dc2491730003a2', '5445213d7261696d461d1200', '513e8b09d0c2eb0eef000170', '515bbca31b12b0e668002367', '545415e87261693414b80b00', '516cc0bc9ad2d32bec0001e1', '52bcb7cecd530ea61f00012b', '516cb11cb83d23b4db000dbd', '50eefaead0c2eb50680006f1', '52a897468b3b8179b0000246', '55702d987261690469a80c00', '54d2a64472616930f2310500', '5752f49cb202a365db0004e5', '50eefb92d0c2eb5068000a01', '555654077261691374440000', '548745cd7261692d4e2f0100', '54c27ee47261692b4f9a0100', '5c140a150a35f5002c3fb3d3', '556334cb72616925d8ff0c00', '515ce9517696593fde0014e9', '534fb356a09a67ebe9000199', '554dd5787261692a090e0500', '58d6d7b1275b2426398d1545', '5475f38c726169536e441200', '55dd4b8c7261691f1000000f', '5b06ecd666fd1c139edd7122', '57bca7c4cd530e660200071a', '5329d3d0928f8f3b83000b1b', '54134e5d7261692d606a0400', '51e05c45275b24718100035e', '531f97d2a09a6741800004fa', '591ed8dfa09a677e7862f94e', '54d50c8772616979e95c0100', '50eefc15d0c2eb5068000c31', '50eef9e5d0c2eb50680002a9', '562f9f4872616927de0001f2', '52bcb7ce139b21b83b000278', '5b329f3f275b240f90bd9f6c', '541b0ccb7261692ebf540b00', '515d63057b70570a1300489a', '50eefabdd0c2eb5068000639', '50eefa7fd0c2eb5068000511', '515b92ad1b12b0244a000f95', '5364025f139b21f573000124', '587e5c51139b215c0c002ff9', '50eefacfd0c2eb5068000681', '53bd93bc7261692cc21c0200', '60452de3fca606000e062939', '58af6819275b2474fe9d3b24', '5508e12972616973fd3f1500', '6215763473efdf000b22b38a', '50eefad5d0c2eb5068000699', '5130d200f6907d46c50001fc', '504e5fc962f5a000020006d6', '5728f0e08b3b817be20002bd', '515badbbcd4b8ed0b900126a', '53e919b37261692d7be10000', '541b6af872616929ea460100', '4e67a9eff8597e000100ae09', '515cc70a5eeb1c524c000387', '5788109bb202a30f3900054f', '55b786e0726169571400025b', '5450378072616917f26b0400', '5463ea0c726169448c340200', '5331ccc9b202a3044100009a', '562c4555726169338a000127', '50eefae7d0c2eb50680006e1', '5b37e976139b21617a6fc310', '5b37e975a09a67517a960f7e', '504e5fcf08cd2b0002000780', '520274a9c9dc24a1710000b2', '537d18161a1e86f3270001a9', '531116bda09a67b14e000091', '5ac7bb1e1a1e8644b9d5fdde', '516cafae472cb88315000c24', '515bb96494714c1d2e001699', '54de78d672616979f8750300', '5768607a275b2470d6000265', '530766d29c18db9bd40000ec', '54c2851972616936fbec0500', '53a61ce57261693b7a130400', '5b51ff969c18f10a259adf6f', '50ad0b9c32f13f2637000348', '5508e0517261693325471600', '53b43d747261692c70b90000', '5728f0fd9c18db0895000307', '57ed3e02cd530e7df10001d4', '5bc95da4bed1da1ec2652769', '50eefaeed0c2eb5068000709', '54edfa6f7261697ccb960000', '54b4945d72616921cd2b0500', '555b61ef7261692bad870200', '559d2ff2726169706e00006d', '55c2644e72616950b5000078', '550b3ac9726169481b260200', '5516fba67261693289a40700', '5411fe4f7261696aa2590300', '54c284477261692c59710600', '50eefc2ad0c2eb5068000c89', '547b5d0b7261693dbb640a00', '59fb582f139b2153e2c3558d', '5130d1fa9938034845000212', '595563139c18db467bb27337', '515d3f867696593fde003d63', '536ec602139b21a078000f6b', '515cf12f5eeb1c904c0017d4', '50eefb27d0c2eb5068000801', '59e67e8f2a893a0f6c60fd36', '5424800c7261692dbfbe0400', '59fe1d4fc9dc24208b7616be', '59e2577f8b3b813892c4176e', '515cd7cc769659e1fb000bf5', '515bb177ea092ff579000e4d', '525714ef7622dda72d000426', '516c97b30f8b78ba65000284', '52a8abc7275b24ddcc0002b7', '555b620a7261692b9cd50200', '5ae4c09bcb4c2716060a1419', '54b6838a7261692bb9310000', '53829198c9dc24e46400027d', '592cbd718b3b81241d294ae8', '54245e417261690487480800', '59c28e328b0c14109f7dc70f', '55c9e28c72616940df000953', '5438161c72616965c3a31a00', '55673fdf7261692b88450000', '622b7eba8d18ad000cd0245d', '515bbaa21b12b0e66800223a', '554539537261690e04630200', '56a7f56764287068e0000016', '568d6c649acc8a6522000117', '5606c7cc7261694e5d0005a6', '54dd73007261696eec9c0300', '52d0352b1a1e86e5e900007a', '560995d87261696b9e000b4a', '5d065da54e37d600121fe86f', '58daaeca7622dd6ea1122c28', '50eefbfbd0c2eb5068000bb9', '543012cf7261694853f90800', '571255719c18db1b63000e52', '537d18054b84808adb00013d', '52cda6a37622dd88f50000fb', '52125f197622ddbaac000088', '51e05c458b3b81304d000364', '5661deca6428704e02000053', '5b117ea6139b217021c9fe41', '5a6135769c18db7d84d6c916', '53d93e057261692fb47e0100', '5b3f85bf7622dd363b601486', '513e8b66d0c2eb0eef0002e2', '50eefbf0d0c2eb5068000b91', '55e714957261693da800010b', '59bd59decb4c274d74388966', '5507b21072616905d6991200', '54c283167261690a6a1c0600', '54c278197261696ae6b40500', '5508e0367261690721b01200', '5b329f5acb4c2722b380fcf2', '5519e5987261692add5b0500', '539775a3a09a67aebf000001', '5b06ec99c9dc245681d2fcbc', '61eebb25488873000c1c6e45', '5bae64a6c9016d002c836eaf', '52d39d3acd530e0ed70000bd', '54c279467261692b42f60000', '5283eb8b275b24e8570000ad', '568a5d858b0c144d1f0004ed', '4fedd845a77ade0001000f7c', '56aaeb5b258faf34710000c8', '5463e92b726169092feb0100', '51000b1e2c1672cdbf000053', '515ba02bcd4b8ef7fd0012a1', '5627f38772616963f9000182', '568d6dbdc9dc2461a10001a4', '55a51cd87261697144000067', '54ac20f67261696495461a00', '5952be9f8b0c1453664fad71', '530b94d2139b218955000014', '515d67157b70570a13004a6d', '61d6396186c427000cbae80c', '52f94f2e275b24debb000062', '54257d7072616907e6220000', '59bda3e3275b247a53b300a8', '54134e7c7261692d71dc0300', '547b505c7261696047b60900', '546e976b72616956b5730300', '5b77892a09910c72ffe1f2ae', '54ee9f3c72616953529d0c00', '5616809a7261695a9200081a', '54526d877261693422140100', '515b4d61056351d3f400009a', '51838fd22ecffe917e000083', '558350a9726169153b000249', '58f8d16e9c18db405e0a5912', '546cd4657261694310520100', '59b323042a893a5fe71dd950', '50eefad0d0c2eb5068000689', '54da51da72616923899f0200', '53336420275b24760f0006e2', '5a6284512a893a6a67d1155f', '623eefbbb8401b000e0ae679', '570d7d868b3b813eee000807', '54d50c87726169712d570100', '52dff5ff8b3b81632c000153', '5cd2f62cce6357000dd85978', '62157c1b5ceac2000b949324', '5bf5295ba67caf1fdf5ff06f', '5345b66bcd530e13bd000059', '5578a0b67261697308000510', '54134e6a7261691f71a00d00', '56467fb576143f0c8d0000bb', '52f670b9139b2174810006ad', '515b25c79562c86fb80012fb', '541b0c347261692d7d2a0100', '54b4258772616930e2630200', '513e8babd0c2eb0eef0003e2', '50eefa5fd0c2eb5068000499', '6230a63c97851b000cd267ac', '50fdd0e1d0c2ebe891000176', '5a1dc055c9dc247f956d3853', '556da8e87261693b2f6c0200', '50eefa44d0c2eb5068000419', '543012f77261692d2f5d0100', '5a6132b8275b242d1571f98c', '5508e05972616928edb01500', '5130d1fdf8d955c2450001f0', '515b4edf056351d3f400015b', '4e67aa06b4ceec0001008180', '5b9146a439ec0700298795ab', '533364267622dd9b3a0002f5', '50eefa78d0c2eb50680004f1', '516cb0d5472cb88315000ca2', '531780d8a09a67818500000b', '50eefaa6d0c2eb50680005c9', '5462483672616964197f0100', '51df14f8275b24535f00070c', '5fc2c7386466ff000e81e152', '554dd550726169058a650300', '54d1315f72616963387c0000', '531f97d4275b2467d90004a9', '5936de422a893a7e9f0ed40d', '548213597261694b971c0000', '5306136bcd530e113500003e', '59e78c0e9c18db3cfc01a5de', '55f1cc5972616939890002c2', '55b1601c7261694202000277', '52d80826a09a675df400006c', '53aaf3047261692d42b80000', '55df2f367261693d92000078', '533f337e139b21c94c000306', '55d4db64726169702400007c', '525f0807275b2426ec00014c', '5321d6321a1e86e5da000068', '548b16607261697ffd710000', '52a8abc9cd530e6a350002f0', '55c52dfd7261697aa50000e2', '52eac7ad7622dd16ab000198', '5331e320275b24c7ad0000e6', '556334f472616977911a0c00', '5acb71009c18db4caed10ceb', '55a15669726169361b0001b2', '55282ad37261696f83242b00', '515b7b6c1b12b0e66800095f', '5602a6b77261695f00000323', '5364026d9c18dbcb10000322', '550a3f317261690586e90700', '54e12bca7261693c62d01300', '5b06ec71275b2436e2c71d2e', '537d16d04b8480e0630000f3', '5b3e6bd0cd530e07c7873732', '526d59bec9dc2435aa000081', '56b11a137622dd07830000c4', '5a45086db202a35006034e52', '5508e12e72616948319e1600', '515b124d38ad2d78ca0006f1', '504e5fcdb8fb02000200074d', '565f4860b8bad40b4c00005e', '515ce5477b70570a13001317', '50eefb6cd0c2eb5068000951', '537cce1f9c18dbb4f900052c', '50eefbb2d0c2eb5068000a89', '5508e0fd7261696e2b021400', '54da53567261694954ba0100', '53a61ce67261693b751c0500', '50eefa91d0c2eb5068000561', '515d444d7b7057eb4c003fe6', '54b424f97261694c61160200', '50eefaddd0c2eb50680006b9', '528fad8f7622dddd2e000054', '50eefb1dd0c2eb50680007d9', '6243b8afcab04c000bdf8848', '57f2d580cd530e358a0001df', '595ee80d8b3b815a007f8185', '530fb04eb202a389c40001d6', '58580f298b3b8165270015e9', '5411fe557261696aa7220300', '56718d88275b2470c2000014', '55f3115a7261696622000366', '50524e87840c47000200052e', '564a4b098b0c146da20005cd', '53a1d68b726169545cc50000', '57c849559c18db4e73000fcd', '5480bee37261690384f80e00', '538f7132a09a673e78000beb', '570cc547139b21130c0049de', '5508e0457261691e41f51300', '531755a8cb4c278f31000039', '52f29b7d9c18db302400003d', '5e976e074851a4000e2629c0', '5581dde97261696e320000f5', '54122d1c726169116a170500', '5b06ec975b2fba16a816f964', '52aa10fd139b21d8eb0001f1', '53bed1c57261695e10550100', '54ef93f67261692c100a0500', '5901f3fd8b3b8128fbffbcc0', '5331ccd21a1e86f6a7000088', '5b57dd024765640c803f80f9', '5acb71084b8480166e27eaf6', '52f26a4e275b2487f600026f', '515b87a11b12b0244a000c52', '6246084d680b36000be85cef', '556630d172616916ff290000', '558afaf77261694fa4000084', '5bd353cfbc9233002bba9e39', '5a060de6139b213e0497af39', '5cd0cd069256c61b1b46581f', '547df5b27261692e3aad0a00', '57f2de7b7622dd37140002ef', '50eefa9fd0c2eb50680005a1', '515b82061b12b0e668000b29', '515d311f7b7057eb4c0038bb', '52d4c1d1139b219aa2000386', '5331e325c9dc244f5f0000f3', '51d4965b275b249fd4000950', '5b37bbde275b245afc03d1cf', '537d17a9cd530e5731000188', '59ee45fccb4c274d8303243e', '56fc95cdcb4c2765770016f8', '513e8b6bd0c2eb0eef0002f4', '53516218a09a6716f7000046', '52f29b7e8b3b81bb32000039', '5e976e0f4b3544001295b018', '55b112727261694e6b000186', '515b187d9562c8fee2000b3d', '515d1da6769659e1fb002ed5', '513e8b35d0c2eb0eef000227', '568d6d96b8bad4651f00009d', '573cc4359c18db2ecc002eab', '556dcc087261692b50700100', '54e28c1c7261696ad6770100', '54c296177261691743c30600', '515d6ba5b5907b33b100486c', '504e5fc5b19ddf000200073d', '4e67aa07f8597e000100af3c', '52f53d40c9dc24d0ec000333', '5283e7c2b202a3250a00007a', '50eef9e3d0c2eb50680002a1', '623d96e44df752000ccb7d06', '562f9ef272616963ff000089', '5b06ec9ca09a677a292c6f13', '535162017622dd05ce000025', '5b37e972275b245a87c41a5f', '5613aee4726169694a000776', '552bc43872616935a4e72300', '515bc342ea092ff5790016d7', '5fcbe5f7d39f41000ec43839', '515d44127b70570a13003f7d', '528faa10275b247019000040', '50eefac4d0c2eb5068000659', '622b81588ca59f000e7c58c6', '5243471fcd530e8755000316', '53736fe4a09a672fec0012c1', '5acb70bbcb4c2713b137b334', '515d32b57b7057eb4c003997', '59c2f7fa8b0c14109f7dce6e', '54c27a027261690537700500', '53c553d0726169797bb51d00', '5997434a7622dd167cb4716b', '511bed91c71338f6fc00001e', '57ae5ac49c18db659a000f7c', '555b5b3f7261692c01540000', '54ef93a37261697332760500', '515cc52e769659e1fb00033f', '540f1ca8726169430b4e0000', '526160898b3b818e45000139', '547a48777261691ae7680500', '57e4221e7622dd517e00037e', '537d15c2cb4c274de800016e', '538d3a9c9c18dbf2120005a0', '5385a6e5a09a67544f000397', '5453e0037261692cdf6f0400', '541b6af6726169568d240100', '58ab137b9c18db2717573ff5', '516ca52ab83d23c47100087f', '54f0b5377261692b8a810300', '544431bc726169636a720d00', '50eefc35d0c2eb5068000cb1', '5331ccc9a09a6783c500007e', '537d178b4b84808adb00012b', '5afc61237622dd53b12e7c3b', '57a3892f8b3b81682c002a48', '56731a62139b21288400001a', '50eefa38d0c2eb50680003e9', '5acd30d7c9dc24330a14adcc', '538d3f21275b244fd600002b', '4fe0f558bf5881000100063f', '515d6ed3b5907bf7e8004a2f', '560671867261696620000000', '5c27c1e23b9d254c1808bbd1', '54b9519c7261690c590b0400', '5910d7a4c9dc240976f9f9c4', '54d131ee726169273c710000', '547115f6726169377bbc0d00', '53a61ce57261692b97f50400', '54615af57261692cd11e0900', '54da51d27261696c805f0200', '546fe040726169701d310600', '565c7b48cb4c277ed200007d', '5b06ec6aa09a677ad7a7b3f8', '515d3e995eeb1c524c003bc1', '56ccd95b8b3b812e3a00012e', '513e8bb8d0c2eb0eef00040f', '51cc7363275b24991100036f', '535ebcf9a09a6725b4000114', '5508e1207261693325d51600', '548a193c7261696cc9860100', '5050c6d0f79af80002000d7d', '51f2b034275b2448b800032b', '50eef9cdd0c2eb5068000249', '516dec42fdc441dbf0000749', '53b825d672616962a9b30800', '50eefb40d0c2eb5068000869', '516cc8d2b31e2b838100053f', '5508e03272616945989a1200', '56be303ccd530e7a8600009c', '503bea593f798e000200012e', '51c4b8dc275b24f140000456', '5910e067cd530e24467fe64b', '59303eb2c9dc2464069b8415', '515d26327b7057eb4c0033ba', '531755accb4c278f31000043', '543012eb7261692d47c50100', '53790fcfa09a6793e60000ea', '513e8ba3d0c2eb0eef0003c7', '5516fba97261692ae2cc0400', '513e8b97d0c2eb0eef000391', '533f337fcb4c275fb00000d3', '5780a822275b2412600006d1', '5081754ec883d20002000dc7', '55dd65917261696e970005cd', '52a0b65fa09a677aac00007e', '55dc79d77261693e1000008b', '516dd698fdc44194880000ef', '5bc95da4a8c33829e79a9da1', '527bdcd28b3b81056700012d', '57ae57c1b202a3660400078d', '5318a5c89c18db88a2000741', '530535f2275b2420e8000179', '55c263f3726169573800005a', '504e5fcabb3904000200074b', '544043cd7261691e9df50300', '516df67ab31e2b2270000a76', '5621996f726169463e0001a5', '5c83f448b7f2832c5c4774b3', '55044ef87261692af9fe0700', '515cdb985eeb1c524c000ccf', '5331cccec9dc24765e00006d', '54ac3eb67261692b605c0100', '52f29b7e9c18db3024000046', '560daf0e726169222200029d', '558315aa72616970cd00008e', '54dce4357261690f10b80200', '54da52c8726169339f000200', '543b6c727261695f9fad0200', '5333642d139b211ffd00066e', '58580f227622dd647d000ff4', '50eefb70d0c2eb5068000961', '504e5fcfc2fea000020006e4', '55dc79db7261693d80000022', '525edf40139b21b536000232', '5a0f41b49c18db52d001e13f', '531116ea139b21d8230000a0', '515b0c0f056351dc3300060a', '516cb8f9b83d23b4db001147', '54540af57261692d555b0500', '4e67a9efb4ceec000100804d', '50eef9bdd0c2eb5068000209', '547df5ab7261692cea890000', '546e488c7261697c6b480200', '587e5c8b275b241d48002f06', '5a12f5bfb202a34d81730b5a', '56fadf668b3b813f66004d89', '5469f3d472616907988b0500', '50eefaf8d0c2eb5068000739', '5650b6777622dd641e0000a5', '53592b16275b244d8a00036c', '53a61ce77261697245be0400', '515b7c7ccd4b8ef7fd00082b', '59bc310c7622dd27b89eba7d', '515bb83094714c1d2e001619', '5606cf5f72616949ab0005a6', '58d6e948139b2147c757d51b', '524182ae1a1e8636cc000634', '533994bcb202a30fea00003f', '54da53b97261693c11ce0200', '54c90a147261692b5a020c00', '5aff0e011a1e8613d5e4ab9b', '59e2578c2a893a45f45668ca', '58af6705a09a672c9a9d8df5', '515b0c5305635113a5000672', '5f2e469eafd829001269495b', '5a457e957622dd5176027a2e', '5581ddb672616977ab000097', '53a61ce67261692b97ff0400', '5b217a9cb202a370dc90ccb1', '5fcbe6d04fd225000e6af696', '50eefc69d0c2eb5068000d61', '54c282207261696ae6570600', '527d39489c18db0450000156', '513e8b75d0c2eb0eef00031c', '542c1ad672616925ca6b0700', '515cd1857696593fde000893', '5a91e15f8b3b817ede507aba', '5331e3278b3b816b37000116', '58f7d430a09a673c2aa7600b', '58e29dc5b202a35b40811d60', '50eefb04d0c2eb5068000769', '515cf728b5907b33b100193e', '5f43f380f7b9c8000ea5b800', '623f1b69304995000e3fb9b9', '515cc43b769659e1fb0002e2', '5a613317cd530e2bb54207e6', '50eefb85d0c2eb50680009b9', '5926ed377622dd678349d93a', '59c6c8999c18db480b2fbcf4', '5bda00d602563920d378aa7e', '54d2962d7261694731a80400', '515d0ebd5eeb1c524c002665', '50eefb83d0c2eb50680009b1', '561c5891726169243f00000b', '5501da5e7261694a70570100', '545293b6726169288cee0100', '585e6da5b202a3646b000027', '5b37e973139b21617a6fc309', '55c26533726169572f000097', '5b3adb38c9dc245c94f7519d', '5d35810b234adf000e470d75', '55703dcf7261697d0b250d00', '577d4432b202a30752000641', '560310d872616977b2000484', '531f5809b202a303bd000242', '50eefa21d0c2eb5068000399', '5283e7c88b3b81c2e100005e', '56ccd8795b2fba049e00011f', '5446693e7261690cf55f0300', '59b061f1cd530e4d65452ca0', '52d4c1d19c18db3b700002e5', '50eefb50d0c2eb50680008c9', '531a5fe6275b24e43800026c', '54f0b49b7261692b169b0400', '5b648559e6b6c449b6d4462d', '5fde6ed09023e7000f498c9c', '504e5fc962f5a000020006ce', '56bb9ae24c0af5457e0001c2', '515b4608223afa29bd00096d', '5331ccd2139b2111d400009d', '5914f29ec9dc245383dcf70b', '59f79a8fcb4c274d884cbdde', '5318a5d41a1e86d77b000059', '527aa264cd530eeeb300048f', '515b1467056351dc33000b4a', '537d17259c18dbc266000104', '59bc310bcd530e15f1606e1e', '5a18b5ddc9dc245044005cdb', '50eefa00d0c2eb5068000319', '546b937d7261693d61f80000', '5d9e6ddc698eda0011cc5052', '56498fa1139b211f6e0003f2', '579a82372a893a11020010ed', '515d24207b7057eb4c0032bb', '516df442fdc44191d600030d', '5b1772e7139b2111803eb078', '516dea20b31e2bd65e0006e6', '54e2a3bf7261695288060200', '515cc1c6b5907bf7e8000177', '622b787c06f9df000c2f7115', '53a61ce672616972401d0400', '5a71ed8f8b3b811d1a7ac282', '50eefa95d0c2eb5068000571', '55fc7ab57261694b9f000080', '515b2efa9562c8fee200178d', '541aa0137261694527f30700', '56aaeb5b258faf34650000cd', '536bcb811a1e865d9f0000f7', '515b22c538ad2d78ca001007', '5422042c72616971a0720000', '515ce75a5eeb1c904c0012d2', '5568990772616965f61f0000', '59a50bbc139b2119e250c229', '54ad98ba7261692b4a500100', '51f2b03c275b24b89100033c', '540b96ff72616902e3e60600', '562f9f8d7261696411000123', '545cec267261692ccd5f0100', '52eac6b88b3b81c36f0002b3', '53516209c9dc24ac4c00003a', '515d32817696593fde0038fa', '4faaea1b54ef1d0001000302', '56ccd986275b2405730000db', '53c54fbf7261692cbf030100', '513e8aa8d0c2eb0eef000013', '54d132bb726169272ebb0000', '52a0b57f8b3b811a9a000066', '56fc9316139b21737200744a', '516c9d340f8b7850670004ba', '544a7deb726169743f780000', '4fedd61864fa170001000ac8', '562c457072616966e2000b61', '593013cd8b0c14699a47b9b8', '5b7448d874b6c345df6375d7', '553fb99464626c50b8fc0000', '53d93db77261690aa28b0100', '538d3f21a09a6787df000033', '50eefb6ad0c2eb5068000949', '55c262d572616949eb000074', '565a1c2a864d823b610004ac', '527910507622dd349100002d', '54ef940c7261691217b90500', '536c263a9c18dbfeef00018e', '589b6d8e9c18db762d60f881', '545cebdc7261691237610500', '55c22ff17261697163000056', '54fad3747261692078214f00', '557039607261697d13680c00', '550772797261697b270d0900', '5519e5b87261692b55ad0000', '4fedd727ec84400001000fe8', '54e170837261692b9c470300', '50eefc61d0c2eb5068000d41', '5312780ac9dc24898100010b', '53336426275b24edeb000705', '50eefa8fd0c2eb5068000559', '6230a8a79244b6000df88eba', '52d4c26e8b3b81eff0000343', '551f0a8c72616946f7403800', '5a1e5e2fa09a675e06083e85', '58b05d53cd530e4cb96b12b1', '5c83f49b3befd371ebe59e3a', '515b49d6223afa29bd000b6d', '54e2a3b5726169345a6e0100', '6230a91770e3f7000b94971d', '52cda6a8139b218ae6000189', '54593c86726169283b7a0b00', '504e5fcfb19ddf00020007cd', '5aff0e85275b247f14346546', '5ab2e070b202a366609528fd', '5409ba027261696194180800', '50eefb4ad0c2eb50680008a9', '54652431726169312d320400', '50eefb1bd0c2eb50680007d1', '515ccef15eeb1c524c000700', '5619b46a726169175c000431', '54d10cc67261695ae8e50000', '58bb15321a1e864cb43b4249', '59cec9082a893a388d5df044', '50eefabbd0c2eb5068000631', '50eefb54d0c2eb50680008d9', '53d93dfb72616953b4970100', '513e8acbd0c2eb0eef000088', '513e8b1cd0c2eb0eef0001c0', '53a2e7957261695e178d0700', '515b7c55cd4b8ed0b9000294', '5b86931ea70c7a0555fb569f', '515b45e805635113a500250f', '50eef9c0d0c2eb5068000219', '53a3267272616946437a0100', '622b81be187dde000e7afdcb', '52bcb7d1139b21b83b000284', '58699a6dcd530e6465000368', '5a4581a38b0c1474ee83dbd6', '5352a0b57622dd57d1000055', '59e257688b0c14503818cef3', '5331cccf7622dd1a59000099', '59bc310ba09a672fdae24266', '515b45b538ad2d25a7001189', '50eefbbed0c2eb5068000ac1', '516cb8d3472cb8831500106e', '54b425977261696050fe0100', '5421c0f97261692d92f20100', '532b6eaa7622ddf1260001d2', '5ae1026bc9dc247bd440cd26', '5508e1377261694828451700', '59e25789cd530e5c335558e9', '54b424d472616930e23e0200', '515cd6e57696593fde000b39', '543b6c34726169423f990200', '50eefc57d0c2eb5068000d21', '5fa3f25007412e0012a8add2', '52d6a8cacb4c27057a000003', '55326dcb7261691834380600', '531755ab139b219d200002d7', '515d5f67769659e1fb0046d2', '515b408838ad2dfb2f000ba8', '538d3cc29c18db8b4000003e', '5519e5bf7261692b5d9e0000', '5a8610e1b202a351a2ede183', '5a45086e8b3b817d3b441e4b', '5463e78072616907d4ff0100', '5a6a80f7a09a674ef3889392', '59bc310ba09a672f268ab958', '5508e11372616930b88e1400', '57df072bb202a36605000447', '515d37c65eeb1c904c0039ad', '532df89a139b21bb84000299', '58699a6eb202a3646a0003a5', '515b1980056351dc33000e07', '50eef9d1d0c2eb5068000259', '5364025e7622dd71e70000f2', '531780e57622dd4e1c00019b', '5a0cc71c9c18db73e99ef170', '528d293ab202a35fd60007c5', '54ed11a07261692a80ee1500', '5487c6ce7261692cd3b70100', '537d16e19c18db2d1d0001b4', '538f712c7622dd1d270002f2', '547b5fdc7261693f06e80800', '53725a9a8b3b813ad80008e5', '57096d037622dd6582000f36', '50eefc55d0c2eb5068000d19', '5385a6eb8b3b81ee9100033d', '5752f3d4139b21476b00177d', '513e8ab5d0c2eb0eef000040', '54f0b6fb7261692c6f700400', '54232b747261692d1d780300', '5a02286a275b246e7498b2ff', '555f8bfd7261692b04f10100', '546e976c7261696a8f4c0300', '50eefba7d0c2eb5068000a59', '5548d61564626c4abeb50d00', '50eefc0cd0c2eb5068000c01', '5697cb2b6d932d38e00001e4', '5914f17b8b0c14679fbf751f', '516c9af9472cb83069000365', '5b06ec97cb4c2716a1c65950', '55a1564b726169404b0001b4', '515b21af38ad2d78ca000f58', '54aefde372616916262c0300', '5a0469fa139b2119493da8d7', '55b15fdf72616970c20001e7', '50eefb52d0c2eb50680008d1', '57ed3e019c18db46340001ec', '5519f30a7261692af0b60300', '513e8b31d0c2eb0eef000215', '546e488d726169517fc50100', '559d30dc72616953a600079b', '50eefa9ad0c2eb5068000589', '504e5fc462f5a0000200067e', '52aa0f55139b2102f60001e8', '530b9531139b21d2fa000080', '543427427261694a5f390000', '515d37d65eeb1c904c0039bc', '53d93db872616953bda10100', '515b4d7005635141020000ad', '5ac7b5e37622dd174ea4ecda', '546feabb7261691b07600800', '55b5296172616970d8000525', '532b6ea67622dd6a1f000200', '513e8b45d0c2eb0eef00025d', '54f86f4f72616972bd2b3000', '5900f6048b3b81286f969b51', '5733c3819c18db6298000403', '51221a8e417dd31fb70000ac', '533b1e427622dd7a32000112', '515b49ca9562c8b443000294', '50eefa2cd0c2eb50680003c1', '5453efef7261692d55380400', '515b205a38ad2dfc77000ef5', '5463ee02726169630af80100', '5b04692fa6ca6d138bd6f269', '56600f69275b241fc500004b', '537d16679c18db90070001b7', '52a8a6d7cd530ee1ef000323', '57ae5cd0a09a672f28000eb0', '515d3f5e7b7057eb4c003e6e', '52726c068b3b8173f2000053', '5516fba27261692adf0d0500', '5c2f8fa9d7c517350cb9e05c', '548c7c9272616909edbc0400', '52222e61139b2106d4000247', '57096daa7622dd657e000c2e', '5a0deb05139b2145add14f2e', '599aedf6139b21397176d2b3', '5a18b643275b2404e3da2457', '57854613b202a365e8000802', '579ff44a139b215b2500058e', '59c2a4a18b3b81653db9e16a', '58ac9e6a8b3b81405ca6162a', '5bf5295def513622e4c1b8d2', '57df0729a09a6702ab001789', '515d3cbf7696593fde003c68', '5c785e986c538f2e01fddfe8', '5ab2d6a6cd530e11b71d27bb', '53a72a117261697245980700', '538d3f21c9dc24fd630005e8', '5313fe59139b210e5900026f', '53a2e80172616931d3690700', '618edfa17afc70000ef8a4ae', '52796e75a09a67466c000276', '5b37bbe09acc8a17a5039cab', '570a7264cd530e658b000229', '59e7cfe97622dd789bfb32f5', '52d60b83275b241349000068', '54232bfa72616952a60e0800', '5beddfd3b16d871e5c060288', '56219a3b72616975e50001f1', '515b629fea092f56b2000053', '54ac1e487261692714101600', '515b097f9562c86fb800031f', '54529c007261694c18810200', '546b937e726169256be60000', '54ac58cc7261692b4be80100', '578cc2ed8b3b812eac003309', '541b0c9f726169452c290b00', '515cc16b5eeb1c524c000126', '559d303b7261697cbe0006c4', '50eefb96d0c2eb5068000a11', '5543eb9c7261694a0ee70200', '59e78be87622dd78dec1faf6', '52a893d59c18db187b00022e', '5a1f2629cd530e513da4171c', '55e86a557261693db6000093', '55f1e58c7261694a5100007b', '53d93e0472616953bdab0100', '55eda1487261690d6e0011bd', '5b51f700167ce554da4297d3', '515d22e15eeb1c524c002fc2', '56aaeb5b864d821bfa0000a6', '552ef6257261692aeba70f00', '548214937261690cad2c0000', '515d3e5cb5907b33b1003a3d', '54de83307261692bad5c0300', '5331f51aa09a67420a000124', '515bb814cd4b8ed0b90017b7', '5331f51da09a6783c500016b', '5489ec6e72616922e08d0000', '54d7cecc7261690f06cb0d00', '54e2a3b072616906a3bd0100', '52bcb7d0139b211db7000331', '596e5dd1139b2154a9e1b3a9', '50eefc6ad0c2eb5068000d69', '515b1c4838ad2d78ca000c42', '5437cf627261692b7d110000', '546e488c7261690f71470200', '5411faed7261693fa26e0200', '5fcbe6fd9d9ab7217e566130', '526fd3a8a09a6790e6000123', '5a46a84f9c18db02e5a2f749', '5733c694b202a373d300045b', '54ef940e726169732a7b0500', '57755a58cd530e65e300064a', '54245be3726169772c580800', '50eefbbbd0c2eb5068000ab1', '5b37bbe29c18db57b0b3aabd', '56acfcc576143f2e0500038b', '55e72eec7261691452000265', '54f4ee3a7261692b67260300', '556f54b97261692b103d0200', '6037c7dfe4099c000e381e29', '5a46a7d0cd530e508eea98c1', '54ef93f47261694303dd0400', '531f95888b3b81c7a8000435', '53a61ce6726169383d040400', '5697ca84c9dc2457580001ef', '5fcbe6eaa425ed4f539f8c71', '515cc1b17b70570a1300017d', '56abfb8bb202a366ac000132', '515b4b8905635113a5002828', '54af0b5672616910505c0300', '53fd2fbc7261696ac00f0c00', '515d35ec769659e1fb003a4c', '54f0b4687261692c72ae0300', '53849ea74b848055b4000017', '50eefbc2d0c2eb5068000ad1', '5ab2d66e139b214c07216822', '5e98e05ba2f2880011e89563', '552ef8ac7261697e1d3e2f00', '52d384749c18db585400009d', '57df1e6aa09a6702ab0018b9', '556dc31e7261693b0f640300', '54889aad72616968822a0100', '5d065da115810a00126a0560', '524dd809c9dc246f3b000286', '55e714677261691c5a0001f6', '515b0f529562c8fee2000656', '552924ae7261696f79eb5d00', '515b23489562c86fb800117c', '531f97d0139b2184bd0004bd', '513e8ab2d0c2eb0eef000037', '515d3febb5907b33b1003ad8', '57096d3b8b3b817d2d0016de', '579abcfc7076d02ef60013a2', '53518fe6b202a3c504000120', '55b8f6f87261691b1d000460', '515cfb1f7696593fde001cee', '568d6c64b202a36512000110', '50eefa86d0c2eb5068000531', '533b30418b3b8166c50000ef', '516deccc9ad2d388860010fd', '515b329038ad2d25a700078f', '50ef2165f7f2be981a000972', '5a613bb22a893a6a67d081db', '58d422449c18db60d5a092b2', '54e432f0726169133ca61500', '515d036b5eeb1c904c00200e', '54868e25726169208ba30200', '547dfa9b7261692cc01a0300', '53336420139b21336a000668', '545415a97261695be98b0b00', '516cca1ced1712c8be0005cf', '5130d1fead1b4d08090001c7', '52c2a3a78b3b812e0c0000cf', '571e947e7622dd65a6000b4a', '530cd104275b24fd32000026', '59a0561ec9dc240e7315d289', '5875397f9c18db595c005967', '5542448d726169612e2d1800', '5124f64538ae427bc30001de', '54b4253e726169740e150200', '515d13465eeb1c904c0028b1', '515b9790cd4b8ed0b900093f', '52a0b586a09a67c57000006d', '5a6a821b7622dd29663b9a50', '4fa90d27e9038a000100199f', '515d32567696593fde0038eb', '622b7f5c467f69000df29786', '5548d5e364626c4b112f0500', '52bcb7ce8b3b810ff300035d', '596c39c1a09a676478fe6cad', '5399f159a09a679ffc000927', '556dde9e7261692afdbe0100', '545415bc7261695be9950b00', '54da61187261695cecd00200', '53516208cb4c279fb3000036', '5ae9e936a09a6743a572fca5', '560995d972616938ac000a3b', '515b84631b12b0e668000bbf', '515b3dbe38ad2dfb2f000a64', '515b1b0d05635113a5000f5f', '546e488d7261693e43bd0100', '56099a1a726169661c0001af', '50eefab6d0c2eb5068000619', '54c2716d7261691f41cd0500', '54b42573726169499afb0100', '5563350a7261695d33890000', '57d88ba1a09a6731380008eb', '50eefaf1d0c2eb5068000719', '50eefa3fd0c2eb5068000409', '533364248b3b816b370005f2', '54e2509e72616944ddc21b00', '53516207a09a6735e800004d', '50eefc48d0c2eb5068000cf9', '551960a47261695699ac1100', '53ab526e7261692d63d00100', '515d116bb5907b33b100260a', '53482bc3275b249e4500026f', '5548d52064626c4abe000600', '546fc48672616966dda90500', '55b0064c72616970d8000146', '54611b2b7261692d558c0800', '5ac1828b7622dd4790fa510c', '57cb29ae139b217d3a001ae0', '5957f8ec8b3b814f1cc4d0cf', '515d6d00b5907b33b10048d6', '515d03dcb5907b33b1001fa3', '5507aa6672616955e24b1300', '560c105b72616976bc000027', '5b3add288b3b8135a5ab757e', '546fd2ea7261691b07570700', '57f2de77cd530e358a000256', '51df14ee275b24171c000732', '53592b169c18db0a81000337', '54404a9272616970c4500400', '5712557eb202a3658f0002cf', '515cce667b7057eb4c0007b7', '50eefa7ad0c2eb50680004f9', '53b471257261692cf94c0300', '5a7da48d9c18db31e65717a4', '54491f1772616950aa8d1100', '58f7d4318b0c143ab70b39b8', '5318a96b139b210347000674', '537d16f07622ddcfff00002a', '573df5ec7622dd5e2c000001', '5a613d5eb202a3040d14e729', '504e5fcdb8fb020002000745', '5352b6a2c9dc24e091000300', '585e6e55cd530e645d000022', '624444de4f689b000d6d7117', '5ae09977b202a321734962db', '5613feab7261696412000151', '5542a5177261692b9e540400', '53fd0b6d7261692d83750200', '5612612e72616974820005f6', '5331e3201a1e86736b0000ed', '57f2de7ec9dc2466080003fd', '548652857261694749e60100', '548213da72616951363a0000', '515baa4c1b12b0244a001946', '561f54fc7261694c74000773', '5470b0ad726169206b210000', '55d4db5c7261697f6f0000b7', '4faaea1b7ba9360001000086', '556334e97261692b742a0000', '54ef84f07261694e24790300', '547f8730726169572f510600', '543b6c72726169424dba0200', '54d296307261692b62ee0500', '5554ca207261692b9d020000', '543b6bac7261694248c50200', '601819739fcd2f17d857c6c9', '532df896139b21b0f00002c2', '513e8b59d0c2eb0eef0002a3', '546d0ace726169195f320300', '5548d4ef64626c4abe5e0400', '5b329f5c66fd1c36cc84e61a', '56e9bba28b3b812aa300121d', '515d294b5eeb1c524c0032fe', '5a18c7da2a893a23f4686516', '525745ae275b2418e000074a', '556334e272616954c16e0b00', '58bf0e128b3b812395fc112b', '527d394b139b215e35000148', '52a897358b3b813cb200022b', '55072efe7261697ca9600100', '5519f3017261692b08750400', '53e731b67261691c65e20700', '54db83457261692af5260000', '515bc4931b12b0244a002746', '54300fb17261695f1c900800', '5ec6e107b80b6c000ec9eea5', '50eef9bbd0c2eb5068000201', '56db1708cb4c27657900031c', '5bc4cd414a4e080027c15fcb', '5ae4bbf1b202a31718544a57', '6012c04f09287a000d3085b2', '54b425977261692b39b70100', '525710aa9c18db67b300052c', '5900f6049c18db24eafdcacf', '504e5fcab8fb0200020006ed', '5581ddb672616974c30000cd', '53a61ce67261693b71cc0400', '531755a51a1e8632b0000078', '54d2962b7261692b7ede0300', '54f0b71e72616927cb621200', '513e8aa7d0c2eb0eef00000a', '54f5cf817261692b6b000000', '543b6c337261692c0a420300', '54da52a17261693c1c6d0200', '58c1e4f3139b21364d61e3a9', '5c0ce01ba1f3236f3d2d7f8a', '530b94a2c9dc2450c00000ca', '55ae3b4f72616979e9000252', '56096e6072616945d6000a5f', '598b72df7622dd5f79ea5fbc', '5948251da09a6746ee871a4a', '5bf5295ba67caf2c7fd210b5', '5b06ecf91a1e8613af025e84', '5b980684efd1e51d0569e609', '532df890c9dc245cf800028a', '58b88fbb139b2178c255775e', '54da55f67261693d0a130300', '4fedd7e9cd4d210001000ee4', '55b111cc72616938ea000183', '5b3adc91cd530e0859a247ac', '5b37e976b202a3135adec00e', '5733c41ccb4c2764520003fe', '56ca001c7622dd66f700005c', '5aff0e008b3b8134c9c3b7b3', '56f0913b139b215e7f000554', '54d50c8672616902546e0100', '54e2a3af7261691f24ef0100', '5ab2d6af1a1e86190a28914a', '574f46c0139b2152c0001889', '513e8af6d0c2eb0eef000116', '51db1905275b24a58f00030b', '50eef9ecd0c2eb50680002d1', '5a0cc71bc9dc2421fd35d227', '52694f76b202a359c20000a8', '57e422237622dd52110003fc', '5b06ec998b3b8116ccbe3a2e', '53a61ce57261693841fc0400', '53f36b307261696fdba70300', '55381e597261692bbdb30600', '4e303d7a7cf5e0000100468d', '55f1e597726169019700006d', '60c508e17ace9d000f00010e', '58750e8b7622dd6461000707', '575c4fc59c18db518d000fa9', '511e898a844c669a1f000394', '56cb244ba6ca6d66de000020', '5a18c7bd275b24412edc132a', '559ef45572616937320000dd', '59b32380a09a6726186f54e2', '5596956b72616903a0000286', '579a82377622dd698e001035', '58ab0d2dcd530e4cb41c2338', '5aff0e38b202a317872f1089', '52eac6267622ddcf53000208', '562f9ed572616930ed000218', '554a76057261692b052b0400', '56a95d33139b21667a000142', '54ac55d27261692b80180200', '57a378c18b3b8168cb00286b', '57d87774a09a673138000664', '54466aaa7261692d630b0000', '516c97560f8b78506700023b', '5ae099669c18db6842288f17', '57f41319139b21235e0000a5', '5156f43ba91802b8f500004d', '50eefaa7d0c2eb50680005d1', '50eefbc9d0c2eb5068000af1', '54dd4a887261690e772d0100', '557206407261697b10780100', '53c67bbd726169626ac30600', '55c378b172616971b20000a8', '55880af37261697cf20006b3', '54247fe97261692d77080400', '54529eb672616935f45d0200', '531b872e9c18dbd69700057a', '57ada32e9c18db660d0005a8', '54c27da072616916e4240600', '5fcbe6605279bc14148f975f', '54e09ab27261692aea0c0000', '5ab42b6ec9dc24176363f9d6', '575027798b3b81064b002292', '58da50647622dd4d51c0c052', '623b43d6193418000bcca60d', '55c23cf07261695732000029', '55ae3af372616910c4000216', '5bf1faa3023c17755499abf1', '559002c87261697a1200118b', '544178587261697be2740d00', '516ca42a0f8b78ba650007d5', '564ab5255b2fba640200015a', '56e9ba32cb4c27658a000964', '54c2815d7261692b4d760100', '5422aa427261693762e60300', '5a71ed0e139b213f775eb0c5', '5a62882f8b0c1438345f271b', '513e8b7ad0c2eb0eef00032e', '538a03d11a1e86134e0000af', '55e1d0db7261697a1c00079d', '515d36d27b7057eb4c003b24', '54b9519c7261690c4ba30300', '552925d67261692c01cc0100', '51fad6328b3b8102960000db', '513e8af9d0c2eb0eef000128', '553fba5a64626c50b8250700', '5130d1feb0c98fab2f0001c1', '61a2a41241d6d9000b4e5e55', '5723a94e7622dd32b80003c8', '58e29dbd2a893a5285dc6489', '5e752631abe842000e8c37e1', '516447caf573c1d311000197', '51429039ce7bbad9d6000114', '515b901094714c1d2e000491', '53516211b202a39f15000044', '5605b0f3726169662100018a', '5331ccd2cb4c2766cd00008f', '54245e477261693979ea0800', '60ea136037333d000fd8a642', '516caf4f472cb88315000bf3', '589e621e275b240916485d09', '58b9aa79cd530e08061f64a5', '577da668b202a30752000c80', '538d3cc28b3b81fafe000993', '5453efe47261692d5eb50300', '5b329f5c5b2fba02683aa90f', '515cf8067b7057eb4c001c88', '5703a77ccd530e659200007d', '50eef9b9d0c2eb50680001f9', '5331e3269c18dbf7380000dc', '5548d51364626c4abe8e0500', '50eefab2d0c2eb5068000601', '515cd47a5eeb1c524c000987', '50eefae9d0c2eb50680006e9', '5fde6e9f4f04e0001154708c', '54ae892a726169709a160a00', '51f2b8678b3b810b760003db', '546fd2e3726169701db50500', '5507727d7261697b2f2e0900', '53a49c9c7261692d4a190300', '51f01567275b24ffc0000060', '57ada31e9c18db660d00058a', '515d5c9ab5907b33b100425c', '5519e5b67261695699921600', '50eefbc3d0c2eb5068000ad9', '504e5fcdb19ddf0002000795', '50eefab8d0c2eb5068000621', '542fe90e72616952c15d0700', '5915d604cd530e4d3e48f36d', '4fedd7d1ec8440000100103f', '547df8ef7261692d43710000', '559002ed7261694c5a000427', '58e29dc28b0c145fc3866d59', '5464e6ae7261695c36960200', '547259aa7261691b07d11300', '4faaea1bc056c200010002b6', '53d93dad7261690a9eaf0100', '562c0b1d7261696403000256', '57e53878139b216d55000864', '515d68f47b7057eb4c004c12', '515b3ebf05635113a50021a1', '515d4a00769659e1fb004080', '518b8cd9bfcbb91e3f000154', '5480ba7b726169122f430f00', '5dcdb759a1370a000da957ee', '550772747261691062280900', '5a0cc71f8b3b8165ded5a4d6', '4ffe125db00b680001002e23', '535544d01a1e860ed2000057', '4d8b93414eb68a1b2c0011a8', '52165a468b3b818e07000326', '5b06ed33cd530e55d62d928c', '53d93e0572616932c3db0100', '55dc79e57261696e8e000148', '53d93db77261692ddca30100', '5a7da5ef8b3b81542e85ee30', '52ec229a8b3b81faf60000d1', '558acafe726169271b000742', '58910f079c18db72563ff151', '50eefbfdd0c2eb5068000bc1', '528f7bb5275b24aef3000325', '515b5d6a9562c8b4430008ad', '56096e61726169661400018a', '515d1f5ab5907bf7e8002d3e', '52bdd457139b214c0d0004df', '516cb4f30f8b785344000146', '58d6f05f1a1e864d50b5abe9', '55b783607261697160000058', '5548d5bf64626c4b11120400', '515cec787b70570a130016c7', '52d756c18b3b819901000015', '516c969fb83d23c47100025f', '522b95d8275b24feac000130', '515d1524b5907bf7e8002863', '548215f17261690cbb2a0000', '533f3384139b2165bf0000f2', '4e67b95b2b9500000100b2fb', '50eefb39d0c2eb5068000849', '55ae3b19726169057900022c', '597f3491cb4c274d61b1d005', '52bcb7cf9c18db4a5f000382', '5384a7accb4c273e7300007c', '54ef93a37261692c23d00400', '55ae3b43726169399b000263', '5a46a8099c18db01aec9a1eb', '596e5a67c9dc240c79233608', '5c2d3a8362c056782845b220', '54c27a0672616917535e0600', '560459c7726169662d0001e6', '54c27da57261693304710500', '62235186800e3f000b893848', '515b38eb05635113a5001ec3', '50eefb47d0c2eb5068000891', '504e5fc962f5a000020006de', '5b11ae57c9dc245f40eb429e', '5941b074c9dc2446e732d86b', '5a7da5fdcd530e48ececd2c7', '54868e357261694754b60200', '531f59adc9dc246e0c0002fe', '562d0c557261693ba6000cff', '51ed94e4275b24832300021b', '55b8f6c5726169123e000442', '5333642ac9dc24919e000666', '55c2315872616949a80003f4', '5a458972b202a35006039519', '52e840e2139b210bc4000138', '5a0f41c47622dd7fdc0d604e', '5605b0f67261695ae700029e', '52a89b219c18db63b3000226', '52aa02bcc9dc240e730000ae', '552ef7d27261697e1a653000', '59e257962a893a4522fd8d2b', '516ca1f8078b327cee000607', '54e4134a7261691686f51000', '5aa3016d9c18db2328d8b5c6', '5c83f455962ace7a756b5361', '52a89de6cd530ed1cd0002a6', '56219a347261691b3a0001d3', '562c453972616962e9000a5d', '54b425987261691fd9490200', '516cbd3e9ad2d38886000071', '547b62667261696047950a00', '4faaea16c056c2000100027f', '504e5fc93e003600020006c2', '5e976df9141fef000dbf6367', '547df6157261692ce2890b00', '53a3632c7261697aae610300', '52a8d7b1c9dc249d4e000104', '5463eeaa726169449bee0100', '52864f53cd530ea39e000609', '5552d3bc7261696bfd420300', '533b1e41b202a3edf00000bb', '516cb51ab83d23b4db000f69', '515bc40eea092f003c0018c9', '515ba0deea092ff57900061f', '5957f8eb9c18db3d188c82f4', '56d871b79c18db565a000d2f', '58d4221c9c18db60d5a09292', '56096e60726169660e0000e7', '53e8c14472616909ba270d00', '53516212cb4c27733c000021', '54f642137261692b65212100', '515d6ec67b70570a13004db3', '531755b2cd530eabda00007b', '537d17da9c18dbc26600012b', '564626338b0c1420fc0002c8', '50eef9cfd0c2eb5068000251', '5a205757139b213346c120fa', '533994bb7622dd2537000018', '52c56cc79c18db732f000236', '515b429b38ad2dfb2f000cce', '5606cd4b72616966b1000143', '5470b0d6726169687a810a00', '50eefb81d0c2eb50680009a9', '515d1659b5907bf7e80028ac', '515bc3141b12b0244a00265c', '56ccd9366d932d422d000109', '54529ec272616935f1470200', '57f2de7bc9dc2466080003f4', '54fd1c607261692aee400200', '564bc218c4e63b1a030000d4', '55d4db56726169224b0000b5', '53cd38f87261696860011400', '57bdfcc2275b24564d0041ea', '560c232872616971b600004d', '5331e328a09a67c5300000e9', '528d294c139b211f9d00034d', '50eefb5bd0c2eb50680008f9', '587e9b017622dd216d0000d2', '5470b0a47261697022650800', '547b54a07261691aec5a0a00', '50eefb46d0c2eb5068000889', '572b371d7622dd6ceb001080', '53eb8b667261692d618a0000', '527a56f68b3b817f6d000227', '55f2f0a272616966160000a8', '541844947261692e1efd0000', '4faaea127ba9360001000050', '515d64c1b5907bf7e80045fd', '55720645726169645bc30100', '525c566a275b2450ea000505', '5b9d39121b86aa6a932c1024', '53346b3d7622dd268e00015c', '58d544aba09a675b962cfc6d', '53f642dd7261692cf9430200', '56dea03c9c18db3e52000770', '5495c06472616972f2040600', '5b33d5d1a6ca6d137cebf0b5', '50eefc52d0c2eb5068000d11', '51ed55d18b3b81e12b000d11', '4dc1b3b7ec0ff569d70012c6', '58f7d4312a893a5337af0672', '58ded0ea8b0c144c0ab46072', '55b6a5d4726169293d000019', '50eefbc0d0c2eb5068000ac9', '5d6abb005aaddc0012326a8b', '530766a5cd530e743500000b', '538d3a9ca09a67b2b300059d', '53a1e3647261695e1b600100', '55f1cc597261692ebb0002f9', '513e8b9ed0c2eb0eef0003b5', '503bea5a00779400020001b2', '5508e1357261690721111300', '5266ed68cd530eb8490001fa', '58af6511139b211055ddf1ea', '56fc95ce139b21724d0076e4', '5333641e139b21127300063a', '538a35e01a1e86134e0001ba', '5acb70bb9c18db4caed10cb9', '504e5fcdc2fea000020006d4', '5516ed35726169653c3e0700', '5b06ed86cb4c27137ebec2e2', '530535f28b3b81146c000174', '547b4d6b72616950181e0a00', '525745ad275b24b01e00076a', '54b4258272616931304d0200', '5ad9e868a09a673546a5c350', '5c43ff7e3842c438c23f1386', '58fe91d1b202a30c3a3af9e6', '53d93db87261690833bd0100', '54b424f872616921c8cc0100', '54ac32177261692b4b820000', '553965a472616939a07c0800', '54b425977261697412510200', '5cd0cd0643627c325797db9d', '515b41f8223afa29bd00075f', '53dd24cc72616946aef00200', '5463f5d172616916d2020000', '55f9952d726169356600029d', '530b94dd275b246f3800009e', '54c285db7261692b4db40600', '558350a772616939ff0002b5', '5453efe07261695be9a10a00', '55dd4b7d7261690aaa000509', '56339ac8726169092a0001b7', '515ba91594714c2e38000ea8', '56aaeb5b139b21639b00009c', '515b233138ad2dfc77001066', '55d7536972616941d4000224', '622a6ef8874680000d9694da', '516cb8c6472cb830690010f7', '5124f4222aac6e56ab000180', '55254a527261694cf1020100', '5442cd287261692d493d0300', '5bae9d468b31e52f8f239711', '556dcad472616943a8c80300', '50eefbc5d0c2eb5068000ae1', '54197569726169040fbc0500', '515d51957b7057eb4c0043ac', '55eda1357261693e1d00010a', '58e2bdb6a09a6767839fff25', '54763617726169641cab0000', '5b329f3cc9dc2422713a93cd', '53790fb11a1e8682f0000092', '50eefc24d0c2eb5068000c71', '53ebf76f7261695d525a0000', '58d42242c9dc246c0ecdda44', '5480bed07261692d5e680300', '57d88b567622dd69f9000841', '5a060dcbcd530e114a5cef0c', '5b37e973cb4c27164489f9fe', '5507728972616905cc370a00', '55381bb67261692b79130c00', '5a9d8cf29c18db5e34c4746b', '58ebada28b0c142b651f71ae', '5433aed87261697a6d8f1b00', '5508e137726169489cbd1400', '513e8b1ad0c2eb0eef0001b7', '5a6a7c148b0c1471a388eb8c', '55703dc572616904596e0d00', '54b494667261694c61b60400', '54d50c8672616929d0880100', '56098983726169661e000191', '59fa2d20139b217fc239985d', '5aff0e007622dd4c2c8adb81', '562fa01272616921ea000234', '558350a672616906ce00023a', '553fb84264626c4fe0eb0700', '57755a5d9c18db180000152c', '516447c990ee856a7e000157', '526ee95e139b214e750010ef', '5ae9e95bcd530e48669ac722', '622b767569467d000ed02a17', '58fdc180a09a67718cb76536', '57df1e6b275b2475520015c0', '50eefc59d0c2eb5068000d29', '53725a9ecd530e7008000288', '53a2e7b87261691df4840700', '535162181a1e869b6b000044', '547b4e2c7261697e34570700', '525f0c8a8b3b81e95c00016b', '5ab2d654cd530e11b71d276f', '562c0b0c7261694765000aab', '53fd0a767261690abd8a0a00', '54a30d767261693b031b0000', '53bd93b97261692cbbd40000', '5a0deafd8b3b816688217998', '515b6407cd4b8ef7fd000240', '5b06ecd3a09a677a292c6f46', '546e3da57261693e4e2a0100', '559d925e7261697ecb000918', '587e5943139b215c0c002fdb', '5ac4111b9c18db06ed29b995', '515d2d56b5907b33b1003315', '54ac07ad7261692c8f0d0100', '515ba8f7cd4b8ef7fd00165c', '5b522b043662eb0026ac6bf1', '55f0411a72616955d1000355', '54d2a64c72616939b9440500', '55c51c797261695a5b000098', '560989a17261696633000197', '54dd8df77261695b756d0400', '547f668c72616929f55f0500', '516c9faa472cb83069000579', '511c92387b0926ce5e000331', '52bcb7c78b3b813fbb000371', '5310d6f47622dda5850000da', '54b4257b726169741c710200', '564581c14c0af5242a00014a', '515d01297b7057eb4c0021f0', '5a30305e2a893a0769f7c45b', '52726ecc139b210ded00007a', '515ce25b7b7057eb4c00116b', '52c1eacac9dc24bac00000bf', '5ac7be89b202a3323c00bae0', '572b37197622dd6ceb001075', '54615d017261692cd1350900', '578fa010cd530e65e3000426', '52c19fe6275b245ec7000093', '53640266cd530e5f7e0001e7', '54c27b1172616933044c0500', '535162199c18db45bd000050', '558b27287261690b44000161', '52447fbba09a67bfac000248', '555b58da7261690446d70200', '571fdf08cd530e41e6000256', '537697167622dd7c660001eb', '53a49cb17261692d30820200', '54db83447261692b6f460100', '516cc974fdc441ac44000595', '5952bf48c9dc243906e4d828', '515b41db223afaab8f001016', '515b891cea092f56b20009a6', '515b834194714c1d2e00010a', '59d438f17622dd47452463d2', '52e2c16c1a1e86da64000270', '5333642da09a67c44e0005ad', '54c27c217261692bc03f0100', '54367e3072616943ddaf0b00', '5507add97261695658811200', '54b4259772616921c8ee0100', '5b745ff97da6495c2a62d30a', '54ef93f67261695ab28e0500', '515ba4c294714c2e38000c55', '515ba277cd4b8ed0b9000ce9', '5389f5927622dd17eb00007e', '57d87de18b3b812ba400076d', '52a893d5275b2498bf000228', '516de51aed1712d0a8000320', '59d438ef8b3b81140c32992e', '519d2daa8b3b816d2200002e', '5eb9a9f76068a10012908f43', '54b0430a72616910e0b10100', '54c282137261690a669f0500', '57ada3449c18db660d0005bc', '543b6ca2726169367bee0200', '5bd353611d8b270028b4ba5c', '5a2052a0275b24150424e712', '5675aecc8b3b811ad600029c', '58ab0cda7622dd4cb8cfa6fe', '54404aaf7261695d2a610400', '572c253c7622dd1d1c000dce', '5e978eeef60b160012dedf63', '554b77cf7261692b0d4c0c00', '515b59d11b12b0244a000062', '55f1e6827261691fdb000043', '55ddda217261693dad000079', '5b5c8b755622c23c3700f712', '52b48345cd530e20a1000529', '535162089c18db525f000040', '52a8b49bc9dc2439b60000c0', '54f0b4cc7261695b2e2c1300', '54c27ee97261692b4fa40100', '5307c0e2cd530e954a000001', '516cc191fdc441e52f000232', '56339ada7261696bd2000222', '587e9b04a09a671d0f0000e5', '53ebf7447261691b915d0000', '50eefa3dd0c2eb5068000401', '50eefbd9d0c2eb5068000b31', '53769d10c9dc2429f9000149', '58ac9e68b202a34cb1085022', '57d08474275b244ca1000185', '5318a954a09a67917d0006b8', '52aa023cc9dc247f170000ba', '516cbb720f8b7850670012a2', '598b72df9c18db3af579c28f', '537d173acb4c2792d3000035', '5b329f997622dd41e667002c', '50eefad2d0c2eb5068000691', '54e1708472616979edd91400', '534c69ed7622dda2aa000007', '515ce64c7b7057eb4c0013bd', '54d2a63f726169336ce10400', '50eefaa2d0c2eb50680005b1', '5bc5f1756362580028c7422d', '5508e03b7261697400511300', '51dade13275b24a58f00017e', '50eefa46d0c2eb5068000421', '51260bacb3a90c4d59000746', '556741c87261692b1bef0000', '513e8ad1d0c2eb0eef000099', '54e393ed726169788f430000', '538d3a9c8b3b815939000028', '54404a6a72616954ad1a0400', '5a0deaf2a09a670343d2bc14', '5ab42b701a1e8613cc2eb9ce', '6243b52de9f8f3000c228d01', '562f9f5d72616963f3000100', '54d2a634726169166a7f0400', '552901b57261693af9de5100', '503bea595ccfe30002000162', '537d162a4b8480e0630000df', '55ae3df27261695fcc000257', '5609706e72616966180000e0', '52418282a09a6791dc0005df', '5761ee118b3b8130370016ae', '515cdd985eeb1c524c000dba', '546e488c72616952eae50100', '57160c338b3b8133c8004458', '57bc9baba09a6711ab003a2f', '55db6e137261697b0000045c', '555ccbf27261692b052d0100', '58f7d431cd530e4d2f45cd34', '50eefaf4d0c2eb5068000729', '515d2bde7b70570a1300360b', '515d3ebcb5907bf7e8003b2e', '5756f7aecb4c2733c00000a6', '54ca9c5d7261695f964f0000', '59b323a38b3b81769a2d3b58', '56099a1b726169660a0001bd', '546fb4ea72616966d69e0400', '5239d1708b3b81d3d300001a', '56c38527a6ca6d1b2f000014', '5482115c7261691531070000', '515bbe50cd4b8ef7fd002158', '50eefc11d0c2eb5068000c19', '5423c9797261691659ed0200', '57a378b32a893a4fe700336e', '56ccd8c69c18db6d5f000125', '5b37e9734b848016f379e01f', '592f2385139b2118c510b676', '5527f1827261696b8b402300', '52ec1efc7622dd2fd10000c2', '55831e687261694a3c000199', '515b49d6223afaab8f00143e', '52d60b838b3b811ef100007f', '5b37e9768b3b815393e66a36', '622b79f3ef56c4000bb8e5eb', '50eefc10d0c2eb5068000c11', '5433b0a072616952c1a91b00', '54232d7172616952a6570800', '55b1604a7261697fb40002be', '50eefa6ed0c2eb50680004d1', '537d17bb1a1e865d32000022', '53ee99c372616914728a0100', '50eefc33d0c2eb5068000ca9', '57d6f0d5275b240a290025dc', '5c096f7df82e5b3f0ede5f40', '52c56cdaa09a67e991000003', '50eefb29d0c2eb5068000809', '515b4695223afaab8f001267', '56f5b35a275b247bf8000d2e', '54491f2f72616961ad531100', '5acb7103a09a6728e959de17', '5da65d2694e2450012562783', '50eefaf2d0c2eb5068000721', '5ab2d6649c18db773248a6ba', '5529253872616961f3bc5c00', '54b981b27261692bd7980300', '5b37bbe04b848016f379cec9', '53ab52667261692d498b0200', '559d31d872616970c2000070', '5261455ca09a6794c1000070', '5283d38d275b24f7300001c1']\n",
            "\n",
            "by column artist\n",
            "artsy_id count is 115482\n",
            "artsy_id nunique is 115482\n",
            "count and nunique is the same -  True\n",
            "[]\n",
            "\n",
            "by column gallery\n",
            "artsy_id count is 115416\n",
            "artsy_id nunique is 115416\n",
            "count and nunique is the same -  True\n",
            "['51521f9566f3e967830000bc', '5152052bb1dd9bb9b5000035', '51521606c26f4b142a000041', '56b21700cb4c270b62000003', '51521f95c26f4b142a00009c', '52f4e9d2c9dc247a3000016d', '5152185fc26f4b7af2000069', '528a7d07c9dc240eed0000fe', '52e840e2139b210bc4000138', '5163f01ae6222a2ec5000085', '56b2072ca09a6744520000e1', '5163eb282acb9857d4000049', '51521cb066f3e98c5a000066', '551dfb547261697de3640f00', '5526fdc37261690beecb0700', '515220aa66f3e967830000d8', '5163ef51c644d74eb400009e', '51522207a14e861cc50000db', '52f4e9d2a09a67149b00018f', '528a7d1a9c18db75f30003ce', '528a7d17b202a3596800026d', '551f72fc7261696165163f00', '51520528bc1be102e9000176', '5152053d019fe458d300005a', '5526fe457261690df71a0800', '5153391375db6c4d7a000181', '509d2c286dbbc748a60003b8', '515220a466f3e98c5a000091', '515220aca14e868e85000090', '5163ec25e6222a2ec5000059', '528a7d11b202a32bf3000196', '5163e74ec644d7eb9c00005a', '5526fe467261692347e30700', '56b21401aa00b53213000004', '52e840dec9dc24559000010e', '51520525bc1be1d53d000186', '51521cb1c26f4b7af200008b', '51521cb066f3e96783000094', '515224c8c26f4b7af20000d9', '51521cb5be4f70d2670000a4', '58a2f906139b21400151e3d0', '5526fe4272616934afd40700', '551f70ab7261695693484200', '5152185ec26f4b142a00005c', '551f728e7261695487bf4400', '5163e7abad5feb2f8900006f', '5152220766f3e98c5a00009f', '5526fdc47261694f7af00700', '5163f13b2acb98196700007f', '51521cb2be4f70b655000095', '51521f92be4f70d2670000c7', '515220a6a14e861cc50000cd', '5152220dc26f4b142a0000aa', '57d8143c9c18db6f830037e4', '5526fdc27261696b85880700', '515220aea14e861cc50000d4', '5526fe4572616971236f0800', '50b032830b43d660be0000a0', '5152220fc26f4b7af20000bd', '5526fdc47261693487310700', '528a7d13139b214e3e000435', '54d1628f7261694a6c6e0200', '5163f0afe6222a52c1000075', '5526fe457261693882a90700', '5526fd877261690c055c0700', '58a2f781a09a676dd98b812a']\n",
            "\n",
            "by column price\n",
            "artsy_id count is 115485\n",
            "artsy_id nunique is 115482\n",
            "count and nunique is the same -  False\n",
            "[]\n",
            "\n",
            "by column parsing_date\n",
            "artsy_id count is 115482\n",
            "artsy_id nunique is 115482\n",
            "count and nunique is the same -  True\n",
            "[]\n",
            "\n",
            "by column updating_date\n",
            "artsy_id count is 115482\n",
            "artsy_id nunique is 115482\n",
            "count and nunique is the same -  True\n",
            "[]\n",
            "\n"
          ]
        }
      ]
    },
    {
      "cell_type": "code",
      "source": [
        "df_cat_dat_total.loc[df_cat_dat_total['artsy_id'].isin(['528a7d17b202a3596800026d', '5526fdc37261690beecb0700', '5163f0afe6222a52c1000075'])]"
      ],
      "metadata": {
        "colab": {
          "base_uri": "https://localhost:8080/",
          "height": 489
        },
        "id": "DrbZf-W0Z1OR",
        "outputId": "d815ea21-08fc-4fc5-eaeb-62bf86a581d1"
      },
      "execution_count": null,
      "outputs": [
        {
          "output_type": "execute_result",
          "data": {
            "text/plain": [
              "                       artsy_id             name  \\\n",
              "42192  5163f0afe6222a52c1000075        Maostache   \n",
              "53571  528a7d17b202a3596800026d      Binary Sofa   \n",
              "8332   5163f0afe6222a52c1000075        Maostache   \n",
              "42671  5163f0afe6222a52c1000075        Maostache   \n",
              "21038  5526fdc37261690beecb0700  Flight Take Off   \n",
              "38271  528a7d17b202a3596800026d      Binary Sofa   \n",
              "59733  5526fdc37261690beecb0700  Flight Take Off   \n",
              "\n",
              "                                                    link  year  \\\n",
              "42192  https://d32dm0rphc51dk.cloudfront.net/bvh4MJrC...  2012   \n",
              "53571  https://d32dm0rphc51dk.cloudfront.net/qVMlvTla...  2013   \n",
              "8332   https://d32dm0rphc51dk.cloudfront.net/bvh4MJrC...  2012   \n",
              "42671  https://d32dm0rphc51dk.cloudfront.net/bvh4MJrC...  2012   \n",
              "21038  https://d32dm0rphc51dk.cloudfront.net/DZpIUoat...  2008   \n",
              "38271  https://d32dm0rphc51dk.cloudfront.net/qVMlvTla...  2013   \n",
              "59733  https://d32dm0rphc51dk.cloudfront.net/DZpIUoat...  2008   \n",
              "\n",
              "                          artist gallery price gene_id category_id  \\\n",
              "42192             Oliver Jeffers     NaN         02038          02   \n",
              "53571  Benjamin Rollins Caldwell     NaN         02046          02   \n",
              "8332              Oliver Jeffers     NaN         02061          02   \n",
              "42671             Oliver Jeffers     NaN         02084          02   \n",
              "21038                 Geoff Mann     NaN         02116          02   \n",
              "38271  Benjamin Rollins Caldwell     NaN         02126          02   \n",
              "59733                 Geoff Mann     NaN         02197          02   \n",
              "\n",
              "      parsing_date updating_date  \n",
              "42192   2022-04-02    2022-04-02  \n",
              "53571   2022-04-02    2022-04-02  \n",
              "8332    2022-04-02    2022-04-02  \n",
              "42671   2022-04-02    2022-04-02  \n",
              "21038   2022-04-02    2022-04-02  \n",
              "38271   2022-04-02    2022-04-02  \n",
              "59733   2022-04-02    2022-04-02  "
            ],
            "text/html": [
              "\n",
              "  <div id=\"df-204bfcf3-5642-4414-a3a6-f6c405526713\">\n",
              "    <div class=\"colab-df-container\">\n",
              "      <div>\n",
              "<style scoped>\n",
              "    .dataframe tbody tr th:only-of-type {\n",
              "        vertical-align: middle;\n",
              "    }\n",
              "\n",
              "    .dataframe tbody tr th {\n",
              "        vertical-align: top;\n",
              "    }\n",
              "\n",
              "    .dataframe thead th {\n",
              "        text-align: right;\n",
              "    }\n",
              "</style>\n",
              "<table border=\"1\" class=\"dataframe\">\n",
              "  <thead>\n",
              "    <tr style=\"text-align: right;\">\n",
              "      <th></th>\n",
              "      <th>artsy_id</th>\n",
              "      <th>name</th>\n",
              "      <th>link</th>\n",
              "      <th>year</th>\n",
              "      <th>artist</th>\n",
              "      <th>gallery</th>\n",
              "      <th>price</th>\n",
              "      <th>gene_id</th>\n",
              "      <th>category_id</th>\n",
              "      <th>parsing_date</th>\n",
              "      <th>updating_date</th>\n",
              "    </tr>\n",
              "  </thead>\n",
              "  <tbody>\n",
              "    <tr>\n",
              "      <th>42192</th>\n",
              "      <td>5163f0afe6222a52c1000075</td>\n",
              "      <td>Maostache</td>\n",
              "      <td>https://d32dm0rphc51dk.cloudfront.net/bvh4MJrC...</td>\n",
              "      <td>2012</td>\n",
              "      <td>Oliver Jeffers</td>\n",
              "      <td>NaN</td>\n",
              "      <td></td>\n",
              "      <td>02038</td>\n",
              "      <td>02</td>\n",
              "      <td>2022-04-02</td>\n",
              "      <td>2022-04-02</td>\n",
              "    </tr>\n",
              "    <tr>\n",
              "      <th>53571</th>\n",
              "      <td>528a7d17b202a3596800026d</td>\n",
              "      <td>Binary Sofa</td>\n",
              "      <td>https://d32dm0rphc51dk.cloudfront.net/qVMlvTla...</td>\n",
              "      <td>2013</td>\n",
              "      <td>Benjamin Rollins Caldwell</td>\n",
              "      <td>NaN</td>\n",
              "      <td></td>\n",
              "      <td>02046</td>\n",
              "      <td>02</td>\n",
              "      <td>2022-04-02</td>\n",
              "      <td>2022-04-02</td>\n",
              "    </tr>\n",
              "    <tr>\n",
              "      <th>8332</th>\n",
              "      <td>5163f0afe6222a52c1000075</td>\n",
              "      <td>Maostache</td>\n",
              "      <td>https://d32dm0rphc51dk.cloudfront.net/bvh4MJrC...</td>\n",
              "      <td>2012</td>\n",
              "      <td>Oliver Jeffers</td>\n",
              "      <td>NaN</td>\n",
              "      <td></td>\n",
              "      <td>02061</td>\n",
              "      <td>02</td>\n",
              "      <td>2022-04-02</td>\n",
              "      <td>2022-04-02</td>\n",
              "    </tr>\n",
              "    <tr>\n",
              "      <th>42671</th>\n",
              "      <td>5163f0afe6222a52c1000075</td>\n",
              "      <td>Maostache</td>\n",
              "      <td>https://d32dm0rphc51dk.cloudfront.net/bvh4MJrC...</td>\n",
              "      <td>2012</td>\n",
              "      <td>Oliver Jeffers</td>\n",
              "      <td>NaN</td>\n",
              "      <td></td>\n",
              "      <td>02084</td>\n",
              "      <td>02</td>\n",
              "      <td>2022-04-02</td>\n",
              "      <td>2022-04-02</td>\n",
              "    </tr>\n",
              "    <tr>\n",
              "      <th>21038</th>\n",
              "      <td>5526fdc37261690beecb0700</td>\n",
              "      <td>Flight Take Off</td>\n",
              "      <td>https://d32dm0rphc51dk.cloudfront.net/DZpIUoat...</td>\n",
              "      <td>2008</td>\n",
              "      <td>Geoff Mann</td>\n",
              "      <td>NaN</td>\n",
              "      <td></td>\n",
              "      <td>02116</td>\n",
              "      <td>02</td>\n",
              "      <td>2022-04-02</td>\n",
              "      <td>2022-04-02</td>\n",
              "    </tr>\n",
              "    <tr>\n",
              "      <th>38271</th>\n",
              "      <td>528a7d17b202a3596800026d</td>\n",
              "      <td>Binary Sofa</td>\n",
              "      <td>https://d32dm0rphc51dk.cloudfront.net/qVMlvTla...</td>\n",
              "      <td>2013</td>\n",
              "      <td>Benjamin Rollins Caldwell</td>\n",
              "      <td>NaN</td>\n",
              "      <td></td>\n",
              "      <td>02126</td>\n",
              "      <td>02</td>\n",
              "      <td>2022-04-02</td>\n",
              "      <td>2022-04-02</td>\n",
              "    </tr>\n",
              "    <tr>\n",
              "      <th>59733</th>\n",
              "      <td>5526fdc37261690beecb0700</td>\n",
              "      <td>Flight Take Off</td>\n",
              "      <td>https://d32dm0rphc51dk.cloudfront.net/DZpIUoat...</td>\n",
              "      <td>2008</td>\n",
              "      <td>Geoff Mann</td>\n",
              "      <td>NaN</td>\n",
              "      <td></td>\n",
              "      <td>02197</td>\n",
              "      <td>02</td>\n",
              "      <td>2022-04-02</td>\n",
              "      <td>2022-04-02</td>\n",
              "    </tr>\n",
              "  </tbody>\n",
              "</table>\n",
              "</div>\n",
              "      <button class=\"colab-df-convert\" onclick=\"convertToInteractive('df-204bfcf3-5642-4414-a3a6-f6c405526713')\"\n",
              "              title=\"Convert this dataframe to an interactive table.\"\n",
              "              style=\"display:none;\">\n",
              "        \n",
              "  <svg xmlns=\"http://www.w3.org/2000/svg\" height=\"24px\"viewBox=\"0 0 24 24\"\n",
              "       width=\"24px\">\n",
              "    <path d=\"M0 0h24v24H0V0z\" fill=\"none\"/>\n",
              "    <path d=\"M18.56 5.44l.94 2.06.94-2.06 2.06-.94-2.06-.94-.94-2.06-.94 2.06-2.06.94zm-11 1L8.5 8.5l.94-2.06 2.06-.94-2.06-.94L8.5 2.5l-.94 2.06-2.06.94zm10 10l.94 2.06.94-2.06 2.06-.94-2.06-.94-.94-2.06-.94 2.06-2.06.94z\"/><path d=\"M17.41 7.96l-1.37-1.37c-.4-.4-.92-.59-1.43-.59-.52 0-1.04.2-1.43.59L10.3 9.45l-7.72 7.72c-.78.78-.78 2.05 0 2.83L4 21.41c.39.39.9.59 1.41.59.51 0 1.02-.2 1.41-.59l7.78-7.78 2.81-2.81c.8-.78.8-2.07 0-2.86zM5.41 20L4 18.59l7.72-7.72 1.47 1.35L5.41 20z\"/>\n",
              "  </svg>\n",
              "      </button>\n",
              "      \n",
              "  <style>\n",
              "    .colab-df-container {\n",
              "      display:flex;\n",
              "      flex-wrap:wrap;\n",
              "      gap: 12px;\n",
              "    }\n",
              "\n",
              "    .colab-df-convert {\n",
              "      background-color: #E8F0FE;\n",
              "      border: none;\n",
              "      border-radius: 50%;\n",
              "      cursor: pointer;\n",
              "      display: none;\n",
              "      fill: #1967D2;\n",
              "      height: 32px;\n",
              "      padding: 0 0 0 0;\n",
              "      width: 32px;\n",
              "    }\n",
              "\n",
              "    .colab-df-convert:hover {\n",
              "      background-color: #E2EBFA;\n",
              "      box-shadow: 0px 1px 2px rgba(60, 64, 67, 0.3), 0px 1px 3px 1px rgba(60, 64, 67, 0.15);\n",
              "      fill: #174EA6;\n",
              "    }\n",
              "\n",
              "    [theme=dark] .colab-df-convert {\n",
              "      background-color: #3B4455;\n",
              "      fill: #D2E3FC;\n",
              "    }\n",
              "\n",
              "    [theme=dark] .colab-df-convert:hover {\n",
              "      background-color: #434B5C;\n",
              "      box-shadow: 0px 1px 3px 1px rgba(0, 0, 0, 0.15);\n",
              "      filter: drop-shadow(0px 1px 2px rgba(0, 0, 0, 0.3));\n",
              "      fill: #FFFFFF;\n",
              "    }\n",
              "  </style>\n",
              "\n",
              "      <script>\n",
              "        const buttonEl =\n",
              "          document.querySelector('#df-204bfcf3-5642-4414-a3a6-f6c405526713 button.colab-df-convert');\n",
              "        buttonEl.style.display =\n",
              "          google.colab.kernel.accessAllowed ? 'block' : 'none';\n",
              "\n",
              "        async function convertToInteractive(key) {\n",
              "          const element = document.querySelector('#df-204bfcf3-5642-4414-a3a6-f6c405526713');\n",
              "          const dataTable =\n",
              "            await google.colab.kernel.invokeFunction('convertToInteractive',\n",
              "                                                     [key], {});\n",
              "          if (!dataTable) return;\n",
              "\n",
              "          const docLinkHtml = 'Like what you see? Visit the ' +\n",
              "            '<a target=\"_blank\" href=https://colab.research.google.com/notebooks/data_table.ipynb>data table notebook</a>'\n",
              "            + ' to learn more about interactive tables.';\n",
              "          element.innerHTML = '';\n",
              "          dataTable['output_type'] = 'display_data';\n",
              "          await google.colab.output.renderOutput(dataTable, element);\n",
              "          const docLink = document.createElement('div');\n",
              "          docLink.innerHTML = docLinkHtml;\n",
              "          element.appendChild(docLink);\n",
              "        }\n",
              "      </script>\n",
              "    </div>\n",
              "  </div>\n",
              "  "
            ]
          },
          "metadata": {},
          "execution_count": 71
        }
      ]
    },
    {
      "cell_type": "markdown",
      "source": [
        "Due to NaNs in 'name' (sometimes), 'year' and 'gallery' we can loose ids. And we have problems with prices."
      ],
      "metadata": {
        "id": "BGdYsheiaK9c"
      }
    },
    {
      "cell_type": "code",
      "source": [
        "artsy_id_price = df_cat_dat_total[['artsy_id', 'price']]\n",
        "artsy_id_price.drop_duplicates(subset = ['price', 'artsy_id'], keep = 'first', inplace = True)\n",
        "id_price_g = artsy_id_price.groupby(['artsy_id'])['price'].agg(['count']).reset_index()\n",
        "\n",
        "id_prob_price = id_price_g.loc[id_price_g['count']>1]['artsy_id'].tolist()\n",
        "len(id_prob_price)"
      ],
      "metadata": {
        "colab": {
          "base_uri": "https://localhost:8080/"
        },
        "id": "jFcO0v-DaZ15",
        "outputId": "2c2db064-328c-4067-8a2a-d89c38853086"
      },
      "execution_count": null,
      "outputs": [
        {
          "output_type": "execute_result",
          "data": {
            "text/plain": [
              "3"
            ]
          },
          "metadata": {},
          "execution_count": 20
        }
      ]
    },
    {
      "cell_type": "code",
      "source": [
        "id_prob_price"
      ],
      "metadata": {
        "colab": {
          "base_uri": "https://localhost:8080/"
        },
        "id": "KtBNhRcEag5c",
        "outputId": "d01ce4ab-1193-4f54-8828-a2df47cde3d9"
      },
      "execution_count": null,
      "outputs": [
        {
          "output_type": "execute_result",
          "data": {
            "text/plain": [
              "['56ce217976143f18e700032f',\n",
              " '56fb2abc9c18db1b5c00573c',\n",
              " '6128eb8a1ed761000dcaa2e4']"
            ]
          },
          "metadata": {},
          "execution_count": 21
        }
      ]
    },
    {
      "cell_type": "markdown",
      "source": [
        "In different genes mentioned price could be different. In most cases prices are very similar -> put the mode or one that in the interval. Sometims there isn't a mode or it's 'Price on request'. Put the maximum. We don't need history here."
      ],
      "metadata": {
        "id": "9gWybpWybWfz"
      }
    },
    {
      "cell_type": "code",
      "source": [
        "inx = 2\n",
        "df_cat_dat_total.loc[df_cat_dat_total['artsy_id']==id_prob_price[inx]]\n",
        "#df_cat_dat_total.loc[df_cat_dat_total['artsy_id'].isin(id_prob_price)]"
      ],
      "metadata": {
        "colab": {
          "base_uri": "https://localhost:8080/",
          "height": 349
        },
        "id": "jrvEYuzma0bJ",
        "outputId": "b381d1c9-eafa-47a9-eb8b-81f0db8efd48"
      },
      "execution_count": null,
      "outputs": [
        {
          "output_type": "execute_result",
          "data": {
            "text/plain": [
              "                        artsy_id                              name  \\\n",
              "199493  6128eb8a1ed761000dcaa2e4  Sharpies (Blue, Red) - 캐서린 베른하르트   \n",
              "235160  6128eb8a1ed761000dcaa2e4  Sharpies (Blue, Red) - 캐서린 베른하르트   \n",
              "\n",
              "                                                     link  year  \\\n",
              "199493  https://d32dm0rphc51dk.cloudfront.net/JWVhPBjo...  2019   \n",
              "235160  https://d32dm0rphc51dk.cloudfront.net/JWVhPBjo...  2019   \n",
              "\n",
              "                     artist                gallery       price gene_id  \\\n",
              "199493  Katherine Bernhardt  Frank Fluegel Gallery  US$12,500    02155   \n",
              "235160  Katherine Bernhardt  Frank Fluegel Gallery  US$13,000    02181   \n",
              "\n",
              "       category_id parsing_date updating_date  \n",
              "199493          02   2022-04-02    2022-04-02  \n",
              "235160          02   2022-04-02    2022-04-02  "
            ],
            "text/html": [
              "\n",
              "  <div id=\"df-6f2bd297-ee37-4910-b941-26857643b0e9\">\n",
              "    <div class=\"colab-df-container\">\n",
              "      <div>\n",
              "<style scoped>\n",
              "    .dataframe tbody tr th:only-of-type {\n",
              "        vertical-align: middle;\n",
              "    }\n",
              "\n",
              "    .dataframe tbody tr th {\n",
              "        vertical-align: top;\n",
              "    }\n",
              "\n",
              "    .dataframe thead th {\n",
              "        text-align: right;\n",
              "    }\n",
              "</style>\n",
              "<table border=\"1\" class=\"dataframe\">\n",
              "  <thead>\n",
              "    <tr style=\"text-align: right;\">\n",
              "      <th></th>\n",
              "      <th>artsy_id</th>\n",
              "      <th>name</th>\n",
              "      <th>link</th>\n",
              "      <th>year</th>\n",
              "      <th>artist</th>\n",
              "      <th>gallery</th>\n",
              "      <th>price</th>\n",
              "      <th>gene_id</th>\n",
              "      <th>category_id</th>\n",
              "      <th>parsing_date</th>\n",
              "      <th>updating_date</th>\n",
              "    </tr>\n",
              "  </thead>\n",
              "  <tbody>\n",
              "    <tr>\n",
              "      <th>199493</th>\n",
              "      <td>6128eb8a1ed761000dcaa2e4</td>\n",
              "      <td>Sharpies (Blue, Red) - 캐서린 베른하르트</td>\n",
              "      <td>https://d32dm0rphc51dk.cloudfront.net/JWVhPBjo...</td>\n",
              "      <td>2019</td>\n",
              "      <td>Katherine Bernhardt</td>\n",
              "      <td>Frank Fluegel Gallery</td>\n",
              "      <td>US$12,500</td>\n",
              "      <td>02155</td>\n",
              "      <td>02</td>\n",
              "      <td>2022-04-02</td>\n",
              "      <td>2022-04-02</td>\n",
              "    </tr>\n",
              "    <tr>\n",
              "      <th>235160</th>\n",
              "      <td>6128eb8a1ed761000dcaa2e4</td>\n",
              "      <td>Sharpies (Blue, Red) - 캐서린 베른하르트</td>\n",
              "      <td>https://d32dm0rphc51dk.cloudfront.net/JWVhPBjo...</td>\n",
              "      <td>2019</td>\n",
              "      <td>Katherine Bernhardt</td>\n",
              "      <td>Frank Fluegel Gallery</td>\n",
              "      <td>US$13,000</td>\n",
              "      <td>02181</td>\n",
              "      <td>02</td>\n",
              "      <td>2022-04-02</td>\n",
              "      <td>2022-04-02</td>\n",
              "    </tr>\n",
              "  </tbody>\n",
              "</table>\n",
              "</div>\n",
              "      <button class=\"colab-df-convert\" onclick=\"convertToInteractive('df-6f2bd297-ee37-4910-b941-26857643b0e9')\"\n",
              "              title=\"Convert this dataframe to an interactive table.\"\n",
              "              style=\"display:none;\">\n",
              "        \n",
              "  <svg xmlns=\"http://www.w3.org/2000/svg\" height=\"24px\"viewBox=\"0 0 24 24\"\n",
              "       width=\"24px\">\n",
              "    <path d=\"M0 0h24v24H0V0z\" fill=\"none\"/>\n",
              "    <path d=\"M18.56 5.44l.94 2.06.94-2.06 2.06-.94-2.06-.94-.94-2.06-.94 2.06-2.06.94zm-11 1L8.5 8.5l.94-2.06 2.06-.94-2.06-.94L8.5 2.5l-.94 2.06-2.06.94zm10 10l.94 2.06.94-2.06 2.06-.94-2.06-.94-.94-2.06-.94 2.06-2.06.94z\"/><path d=\"M17.41 7.96l-1.37-1.37c-.4-.4-.92-.59-1.43-.59-.52 0-1.04.2-1.43.59L10.3 9.45l-7.72 7.72c-.78.78-.78 2.05 0 2.83L4 21.41c.39.39.9.59 1.41.59.51 0 1.02-.2 1.41-.59l7.78-7.78 2.81-2.81c.8-.78.8-2.07 0-2.86zM5.41 20L4 18.59l7.72-7.72 1.47 1.35L5.41 20z\"/>\n",
              "  </svg>\n",
              "      </button>\n",
              "      \n",
              "  <style>\n",
              "    .colab-df-container {\n",
              "      display:flex;\n",
              "      flex-wrap:wrap;\n",
              "      gap: 12px;\n",
              "    }\n",
              "\n",
              "    .colab-df-convert {\n",
              "      background-color: #E8F0FE;\n",
              "      border: none;\n",
              "      border-radius: 50%;\n",
              "      cursor: pointer;\n",
              "      display: none;\n",
              "      fill: #1967D2;\n",
              "      height: 32px;\n",
              "      padding: 0 0 0 0;\n",
              "      width: 32px;\n",
              "    }\n",
              "\n",
              "    .colab-df-convert:hover {\n",
              "      background-color: #E2EBFA;\n",
              "      box-shadow: 0px 1px 2px rgba(60, 64, 67, 0.3), 0px 1px 3px 1px rgba(60, 64, 67, 0.15);\n",
              "      fill: #174EA6;\n",
              "    }\n",
              "\n",
              "    [theme=dark] .colab-df-convert {\n",
              "      background-color: #3B4455;\n",
              "      fill: #D2E3FC;\n",
              "    }\n",
              "\n",
              "    [theme=dark] .colab-df-convert:hover {\n",
              "      background-color: #434B5C;\n",
              "      box-shadow: 0px 1px 3px 1px rgba(0, 0, 0, 0.15);\n",
              "      filter: drop-shadow(0px 1px 2px rgba(0, 0, 0, 0.3));\n",
              "      fill: #FFFFFF;\n",
              "    }\n",
              "  </style>\n",
              "\n",
              "      <script>\n",
              "        const buttonEl =\n",
              "          document.querySelector('#df-6f2bd297-ee37-4910-b941-26857643b0e9 button.colab-df-convert');\n",
              "        buttonEl.style.display =\n",
              "          google.colab.kernel.accessAllowed ? 'block' : 'none';\n",
              "\n",
              "        async function convertToInteractive(key) {\n",
              "          const element = document.querySelector('#df-6f2bd297-ee37-4910-b941-26857643b0e9');\n",
              "          const dataTable =\n",
              "            await google.colab.kernel.invokeFunction('convertToInteractive',\n",
              "                                                     [key], {});\n",
              "          if (!dataTable) return;\n",
              "\n",
              "          const docLinkHtml = 'Like what you see? Visit the ' +\n",
              "            '<a target=\"_blank\" href=https://colab.research.google.com/notebooks/data_table.ipynb>data table notebook</a>'\n",
              "            + ' to learn more about interactive tables.';\n",
              "          element.innerHTML = '';\n",
              "          dataTable['output_type'] = 'display_data';\n",
              "          await google.colab.output.renderOutput(dataTable, element);\n",
              "          const docLink = document.createElement('div');\n",
              "          docLink.innerHTML = docLinkHtml;\n",
              "          element.appendChild(docLink);\n",
              "        }\n",
              "      </script>\n",
              "    </div>\n",
              "  </div>\n",
              "  "
            ]
          },
          "metadata": {},
          "execution_count": 25
        }
      ]
    },
    {
      "cell_type": "code",
      "source": [
        "df_cat_dat_total.loc[df_cat_dat_total['artsy_id']==id_prob_price[inx]]['price'].unique()"
      ],
      "metadata": {
        "colab": {
          "base_uri": "https://localhost:8080/"
        },
        "id": "bAcOwf_Ca8nT",
        "outputId": "33fb6cff-260a-46e6-dffe-607512a4ac09"
      },
      "execution_count": null,
      "outputs": [
        {
          "output_type": "execute_result",
          "data": {
            "text/plain": [
              "array(['US$12,500 ', 'US$13,000 '], dtype=object)"
            ]
          },
          "metadata": {},
          "execution_count": 26
        }
      ]
    },
    {
      "cell_type": "code",
      "source": [
        "df_cat_dat_total.at[221047, 'price'] = 'Bidding closed '\n",
        "df_cat_dat_total.at[221046, 'price'] = 'Bidding closed '\n",
        "df_cat_dat_total.at[199493, 'price'] = 'US$13,000 '"
      ],
      "metadata": {
        "id": "AlQ6nQw-bcf-"
      },
      "execution_count": null,
      "outputs": []
    },
    {
      "cell_type": "code",
      "source": [
        "one_to_one = df_cat_dat_total.groupby(['artsy_id', 'name', 'link', 'artist', 'price', 'parsing_date', 'updating_date'])['category_id'].agg(['count']).reset_index()\n",
        "\n",
        "print(df_cat_dat_total['artsy_id'].nunique())\n",
        "print(one_to_one['artsy_id'].count())\n",
        "print(one_to_one['artsy_id'].nunique())"
      ],
      "metadata": {
        "colab": {
          "base_uri": "https://localhost:8080/"
        },
        "id": "ugBgcueEooMI",
        "outputId": "072713b2-05b9-4381-be4e-4001308cea73"
      },
      "execution_count": null,
      "outputs": [
        {
          "output_type": "stream",
          "name": "stdout",
          "text": [
            "115482\n",
            "115482\n",
            "115482\n"
          ]
        }
      ]
    },
    {
      "cell_type": "code",
      "source": [
        "save_df_file(df_cat_dat_total, '/artsy_cat_data.csv', 'backup') # 4. Save df to csv file"
      ],
      "metadata": {
        "id": "x9gUJhKvb_ig"
      },
      "execution_count": null,
      "outputs": []
    },
    {
      "cell_type": "markdown",
      "metadata": {
        "id": "ZS_6uxf4mtko"
      },
      "source": [
        "## Dict creating"
      ]
    },
    {
      "cell_type": "markdown",
      "source": [
        "### artists_dict"
      ],
      "metadata": {
        "id": "W9Qi4hnATEYi"
      }
    },
    {
      "cell_type": "markdown",
      "source": [
        "#### initiation"
      ],
      "metadata": {
        "id": "75N5WS8GTFP3"
      }
    },
    {
      "cell_type": "code",
      "execution_count": null,
      "metadata": {
        "id": "Uo3R766ShY39"
      },
      "outputs": [],
      "source": [
        "#artists_dict = {'000000': {'name': 'Jacopo Bassano', \n",
        "#                           'artwork_id: ['000000', ''], # Portrait of a Man in Armour\n",
        "#                           -- 'gallery_id': ['000000', ''], # Robilant+Voena\n",
        "#                           'gene_id': ['21603', ''],\n",
        "#                           'category_id': ['03', '']}}"
      ]
    },
    {
      "cell_type": "code",
      "source": [
        "print(df_cat_dat_total['artist'].dropna().nunique())\n",
        "artists_list = sorted(df_cat_dat_total['artist'].dropna().unique().tolist())\n",
        "print(len(artists_list))"
      ],
      "metadata": {
        "id": "Z9Bo2czbTYt2"
      },
      "execution_count": null,
      "outputs": []
    },
    {
      "cell_type": "code",
      "execution_count": null,
      "metadata": {
        "colab": {
          "base_uri": "https://localhost:8080/"
        },
        "id": "5CRsXaW6xXvS",
        "outputId": "f7dd836c-ffd0-436e-a744-e7c36357a224"
      },
      "outputs": [
        {
          "name": "stdout",
          "output_type": "stream",
          "text": [
            "20563\n",
            "20563\n"
          ]
        }
      ],
      "source": [
        "# artist_id creation\n",
        "at_id_len = len(str(len(artists_list)))\n",
        "at_id_list = []\n",
        "c = 1\n",
        "for a in artists_list:\n",
        "  id = '0'*(at_id_len-len(str(c)))+str(c)\n",
        "  at_id_list.append(id)\n",
        "  c += 1\n",
        "\n",
        "print(len(at_id_list))\n",
        "print(df_cat_dat_total['artist'].dropna().nunique())"
      ]
    },
    {
      "cell_type": "markdown",
      "source": [
        "***One to one connection***"
      ],
      "metadata": {
        "id": "e8nIVAFtXisl"
      }
    },
    {
      "cell_type": "code",
      "execution_count": null,
      "metadata": {
        "id": "tWr_ZnvzxXrp"
      },
      "outputs": [],
      "source": [
        "# Dict creation\n",
        "artists_dict = pd.DataFrame({'id': at_id_list, 'name': artists_list}).set_index('id').to_dict('index')\n",
        "len(artists_dict)"
      ]
    },
    {
      "cell_type": "code",
      "execution_count": null,
      "metadata": {
        "id": "ZooSVsSYxXoC"
      },
      "outputs": [],
      "source": [
        "artists_dict_samp = {k: v for k, v in artists_dict.items() if v['name'] == 'Jacopo Bassano'}\n",
        "artists_dict_samp"
      ]
    },
    {
      "cell_type": "markdown",
      "source": [
        "#### expansion\n",
        "\n",
        "with 'artwork_id', 'gene_id' and 'category_id'\n",
        "- ***one to many connection***\n",
        "- id info is in the artists_dict"
      ],
      "metadata": {
        "id": "jj2mDKTjAjBj"
      }
    },
    {
      "cell_type": "code",
      "source": [
        "# category_id\n",
        "cat = df_cat_dat_total['category_id'].unique().tolist()\n",
        "\n",
        "#artists_dict = {k: v.update({'category_id': [cat[0]]}) for k, v in artists_dict.items()}\n",
        "for k in artists_dict:\n",
        "  artists_dict[k].update({'category_id': [cat[0]]})"
      ],
      "metadata": {
        "id": "phGK2lliDgLR"
      },
      "execution_count": null,
      "outputs": []
    },
    {
      "cell_type": "code",
      "source": [
        "# one to many connection from df\n",
        "def artist_dict_expan_otm(param):\n",
        "  group_df = df_cat_dat_total.groupby(['artist'])[param].apply(list).apply(set).apply(list).reset_index(name=param)\n",
        "  group_dict = group_df.set_index('artist').to_dict('index')\n",
        "\n",
        "  for k, v in artists_dict.items():\n",
        "    if v['name'] in group_dict.keys():\n",
        "      artists_dict[k].update(group_dict[v['name']])\n",
        "    else:\n",
        "      artists_dict[k].update({param: [' ']})"
      ],
      "metadata": {
        "id": "zMo_s5BXGutL"
      },
      "execution_count": null,
      "outputs": []
    },
    {
      "cell_type": "code",
      "source": [
        "# gene_id\n",
        "artist_dict_expan_otm('gene_id')"
      ],
      "metadata": {
        "id": "6hqIRL9mDERB"
      },
      "execution_count": null,
      "outputs": []
    },
    {
      "cell_type": "code",
      "source": [
        "# artsy_id\n",
        "artist_dict_expan_otm('artsy_id')"
      ],
      "metadata": {
        "id": "sljnxQ9_D8JG"
      },
      "execution_count": null,
      "outputs": []
    },
    {
      "cell_type": "code",
      "source": [
        "artists_dict_samp = {k: v for k, v in artists_dict.items() if v['name'] == 'Jacopo Bassano'}\n",
        "artists_dict_samp"
      ],
      "metadata": {
        "id": "bSmo5hBFEGcd"
      },
      "execution_count": null,
      "outputs": []
    },
    {
      "cell_type": "code",
      "source": [
        "save_dict(artists_dict, artist_dict) # 1. Save json dict"
      ],
      "metadata": {
        "id": "ZqPbCO06EIoV"
      },
      "execution_count": null,
      "outputs": []
    },
    {
      "cell_type": "markdown",
      "source": [
        "#### addition"
      ],
      "metadata": {
        "id": "m5Ta2jEIT30z"
      }
    },
    {
      "cell_type": "code",
      "source": [
        "artists_dict = open_dict(artist_dict, 'live')\n",
        "print(len(artists_dict))\n",
        "print('')\n",
        "artists_dict_samp = {k: v for k, v in artists_dict.items() if v['name'] == 'Joseph Henry Sharp'}\n",
        "artists_dict_samp"
      ],
      "metadata": {
        "colab": {
          "base_uri": "https://localhost:8080/"
        },
        "id": "kR3KkOPlT3T8",
        "outputId": "fc27a038-4241-4ab8-cbf5-4aead1861acd"
      },
      "execution_count": null,
      "outputs": [
        {
          "output_type": "stream",
          "name": "stdout",
          "text": [
            "26678\n",
            "\n"
          ]
        },
        {
          "output_type": "execute_result",
          "data": {
            "text/plain": [
              "{'10100': {'artsy_id': ['55073e2972616942f7760200',\n",
              "   '5a6260c1a09a6715fd6355bc',\n",
              "   '55073e2972616942ed960100'],\n",
              "  'category_id': ['02', '03'],\n",
              "  'gene_id': ['02184', '03162', '02069', '02015', '02168', '02189', '03004'],\n",
              "  'name': 'Joseph Henry Sharp'}}"
            ]
          },
          "metadata": {},
          "execution_count": 29
        }
      ]
    },
    {
      "cell_type": "code",
      "source": [
        "print(df_cat_dat_total['artist'].dropna().nunique())\n",
        "artists_list = sorted(df_cat_dat_total['artist'].dropna().unique().tolist())\n",
        "print(len(artists_list))"
      ],
      "metadata": {
        "colab": {
          "base_uri": "https://localhost:8080/"
        },
        "id": "5kXSPo-VI1X7",
        "outputId": "1c953afa-e0c6-4810-fcba-46d53608118a"
      },
      "execution_count": null,
      "outputs": [
        {
          "output_type": "stream",
          "name": "stdout",
          "text": [
            "19738\n",
            "19738\n"
          ]
        }
      ]
    },
    {
      "cell_type": "code",
      "source": [
        "# Dict updating\n",
        "\n",
        "# Old dict data\n",
        "# {'id': {'artsy_id': [''], 'category_id': [''], 'gene_id': [''], 'name': ''}}\n",
        "c = len(artists_dict)+1 # for id creation\n",
        "id_list = list(artists_dict.keys()) # list of str\n",
        "name_list = [v['name'] for v in artists_dict.values()] # list of str\n",
        "artwork_list = [v['artsy_id'] for v in artists_dict.values()] # list of lists with str\n",
        "cat_list = [v['category_id'] for v in artists_dict.values()] # list of lists with str\n",
        "gene_list = [v['gene_id'] for v in artists_dict.values()] # list of lists with str\n",
        "\n",
        "# New df data\n",
        "# category_id\n",
        "cat = df_cat_dat_total['category_id'].unique().tolist()\n",
        "# gene_id\n",
        "gene_df = df_cat_dat_total.groupby(['artist'])['gene_id'].apply(list).apply(set).apply(list).reset_index(name='gene_id')\n",
        "gene_dict = gene_df.set_index('artist').to_dict('index')\n",
        "# artsy_id\n",
        "artwork_df = df_cat_dat_total.groupby(['artist'])['artsy_id'].apply(list).apply(set).apply(list).reset_index(name='artsy_id')\n",
        "artwork_dict = artwork_df.set_index('artist').to_dict('index')\n",
        "\n",
        "# New dict\n",
        "new_artists_id = []\n",
        "cross_artists_id = []\n",
        "for name in artists_list:\n",
        "  if name not in name_list:\n",
        "    id = '0'*(artist_id_len-len(str(c)))+str(c)\n",
        "    new_artists_id.append(id)\n",
        "    artists_dict.update({id: {'artsy_id': artwork_dict[name]['artsy_id'], 'category_id': [cat[0]], 'gene_id': gene_dict[name]['gene_id'], 'name': name}})\n",
        "    c += 1\n",
        "  else:\n",
        "    id = id_list[name_list.index(name)]\n",
        "    cross_artists_id.append(id)\n",
        "    new_cat = list(set(cat_list[name_list.index(name)] + cat))\n",
        "    artists_dict[id].update({'category_id': new_cat})\n",
        "    new_gene = list(set(gene_list[name_list.index(name)] + gene_dict[name]['gene_id']))\n",
        "    artists_dict[id].update({'gene_id': new_gene})\n",
        "    new_artwork = list(set(artwork_list[name_list.index(name)] + artwork_dict[name]['artsy_id']))\n",
        "    artists_dict[id].update({'artsy_id': new_artwork})\n",
        "\n",
        "print(len(artists_dict))\n",
        "print(len(new_artists_id))\n",
        "print(len(cross_artists_id))"
      ],
      "metadata": {
        "colab": {
          "base_uri": "https://localhost:8080/"
        },
        "id": "H1QvRl1hLDNs",
        "outputId": "f49f2f93-07fe-4681-9e43-7e8fbf48dec7"
      },
      "execution_count": null,
      "outputs": [
        {
          "output_type": "stream",
          "name": "stdout",
          "text": [
            "26678\n",
            "6115\n",
            "13623\n"
          ]
        }
      ]
    },
    {
      "cell_type": "code",
      "source": [
        "artists_dict[new_artists_id[len(new_artists_id)//2]]"
      ],
      "metadata": {
        "colab": {
          "base_uri": "https://localhost:8080/"
        },
        "id": "gF-6tLBAjMCK",
        "outputId": "ec456ac6-a71b-408c-e583-b98d00d986ee"
      },
      "execution_count": null,
      "outputs": [
        {
          "output_type": "execute_result",
          "data": {
            "text/plain": [
              "{'artsy_id': ['5c48bd6255146100270b0086'],\n",
              " 'category_id': ['02'],\n",
              " 'gene_id': ['02173'],\n",
              " 'name': 'KangHee Kim'}"
            ]
          },
          "metadata": {},
          "execution_count": 177
        }
      ]
    },
    {
      "cell_type": "code",
      "source": [
        "artists_dict[cross_artists_id[len(cross_artists_id)//2]]"
      ],
      "metadata": {
        "colab": {
          "base_uri": "https://localhost:8080/"
        },
        "id": "yWAU3ALJTx2a",
        "outputId": "6bd39c86-b494-4987-fc19-a2e770ec8eeb"
      },
      "execution_count": null,
      "outputs": [
        {
          "output_type": "execute_result",
          "data": {
            "text/plain": [
              "{'artsy_id': ['55073e2972616942f7760200',\n",
              "  '5a6260c1a09a6715fd6355bc',\n",
              "  '55073e2972616942ed960100'],\n",
              " 'category_id': ['02', '03'],\n",
              " 'gene_id': ['02184', '03162', '02069', '02015', '02168', '02189', '03004'],\n",
              " 'name': 'Joseph Henry Sharp'}"
            ]
          },
          "metadata": {},
          "execution_count": 178
        }
      ]
    },
    {
      "cell_type": "code",
      "source": [
        "save_dict(artists_dict, artist_dict, 'live') # 1. Save json dict"
      ],
      "metadata": {
        "id": "tgmnorsbohd4"
      },
      "execution_count": null,
      "outputs": []
    },
    {
      "cell_type": "markdown",
      "source": [
        "### genes_dict"
      ],
      "metadata": {
        "id": "mpRFWlBTUWma"
      }
    },
    {
      "cell_type": "markdown",
      "source": [
        "#### expansion"
      ],
      "metadata": {
        "id": "aoXyp4XTURaK"
      }
    },
    {
      "cell_type": "code",
      "source": [
        "genes_dict = open_dict(gen_dict) # 2. Open json dict\n",
        "len(genes_dict)"
      ],
      "metadata": {
        "id": "--b457uGUjCL"
      },
      "execution_count": null,
      "outputs": []
    },
    {
      "cell_type": "markdown",
      "source": [
        "Update genes_dict with 'artwork_id':\n",
        "- list type parametr - ***one to many connection***\n",
        "- id info is in the **df**"
      ],
      "metadata": {
        "id": "6Grd4c2bUgNW"
      }
    },
    {
      "cell_type": "code",
      "source": [
        "group_df = df_cat_dat_total.groupby(['gene_id'])['artsy_id'].apply(list).apply(set).apply(list).reset_index(name='artsy_id')\n",
        "group_dict = group_df.set_index('gene_id').to_dict('index')\n",
        "\n",
        "for k, v in genes_dict.items():\n",
        "  if v['id'] in group_dict.keys():\n",
        "    genes_dict[k].update(group_dict[v['id']])\n",
        "  else:\n",
        "    genes_dict[k].update({'artsy_id': [' ']})"
      ],
      "metadata": {
        "id": "5ed5hOFNUjq3"
      },
      "execution_count": null,
      "outputs": []
    },
    {
      "cell_type": "markdown",
      "source": [
        "Fill in genes_dict with 'artist_id':\n",
        "- list type parametr - ***one to many connection***\n",
        "- id info is in the **artists_dict**"
      ],
      "metadata": {
        "id": "LZJKw6zRVtT6"
      }
    },
    {
      "cell_type": "code",
      "source": [
        "keys_list = list(artists_dict.keys())\n",
        "values_list = [v['name'] for v in artists_dict.values()]\n",
        "\n",
        "group_df = df_cat_dat_total.groupby(['gene_id'])['artist'].apply(list).apply(set).apply(list).reset_index(name='artist')\n",
        "group_df['artist_id'] = group_df['artist'].dropna().apply(lambda x: [keys_list[values_list.index(y)] for y in x])\n",
        "group_df = group_df.drop(['artist'], axis=1)\n",
        "\n",
        "group_dict = group_df.set_index('gene_id').to_dict('index')\n",
        "\n",
        "for k, v in genes_dict.items():\n",
        "  if v['id'] in group_dict.keys():\n",
        "    genes_dict[k].update(group_dict[v['id']])\n",
        "  else:\n",
        "    genes_dict[k].update({'artist_id': [' ']})"
      ],
      "metadata": {
        "id": "ikYcEPfdVuF_"
      },
      "execution_count": null,
      "outputs": []
    },
    {
      "cell_type": "code",
      "source": [
        "group_dict['03001']"
      ],
      "metadata": {
        "id": "7PfbGXKnWt9i"
      },
      "execution_count": null,
      "outputs": []
    },
    {
      "cell_type": "code",
      "source": [
        "#bad-painting\n",
        "#abstract-landscape\n",
        "genes_dict['bad_painting']"
      ],
      "metadata": {
        "id": "PBKVIaQlW7Ki"
      },
      "execution_count": null,
      "outputs": []
    },
    {
      "cell_type": "code",
      "source": [
        "save_dict(genes_dict, gen_dict) # 1. Save json dict"
      ],
      "metadata": {
        "id": "lu9nKWMBW9lf"
      },
      "execution_count": null,
      "outputs": []
    },
    {
      "cell_type": "markdown",
      "source": [
        "#### addition"
      ],
      "metadata": {
        "id": "EIvq_MPCo4ED"
      }
    },
    {
      "cell_type": "code",
      "source": [
        "genes_dict = open_dict(gen_dict, 'live') # 2. Open json dict\n",
        "len(genes_dict)"
      ],
      "metadata": {
        "colab": {
          "base_uri": "https://localhost:8080/"
        },
        "id": "6vUTyl1lpAON",
        "outputId": "310ed125-9e0a-4690-90dc-5813fcd0ad27"
      },
      "execution_count": null,
      "outputs": [
        {
          "output_type": "execute_result",
          "data": {
            "text/plain": [
              "1032"
            ]
          },
          "metadata": {},
          "execution_count": 30
        }
      ]
    },
    {
      "cell_type": "code",
      "source": [
        "genes_dict['abstract_landscape']"
      ],
      "metadata": {
        "colab": {
          "base_uri": "https://localhost:8080/"
        },
        "id": "Rxqy-HHNvvVS",
        "outputId": "407f5637-1974-41ca-f1d3-f8c09b4367d0"
      },
      "execution_count": null,
      "outputs": [
        {
          "output_type": "execute_result",
          "data": {
            "text/plain": [
              "{'artist_id': ' ',\n",
              " 'artsy_id': ' ',\n",
              " 'category_id': '02',\n",
              " 'id': '02001',\n",
              " 'link': '/gene/abstract-landscape',\n",
              " 'name': 'Abstract Landscape',\n",
              " 'parsing_date': '2022-03-29',\n",
              " 'updating_date': '2022-03-29'}"
            ]
          },
          "metadata": {},
          "execution_count": 192
        }
      ]
    },
    {
      "cell_type": "code",
      "source": [
        "# artsy_id\n",
        "group_df = df_cat_dat_total.groupby(['gene_id'])['artsy_id'].apply(list).apply(set).apply(list).reset_index(name='artsy_id')\n",
        "group_dict = group_df.set_index('gene_id').to_dict('index')\n",
        "\n",
        "for k, v in genes_dict.items():\n",
        "  if v['id'] in group_dict.keys():\n",
        "    genes_dict[k].update(group_dict[v['id']])"
      ],
      "metadata": {
        "id": "flpXPXZHsE-Q"
      },
      "execution_count": null,
      "outputs": []
    },
    {
      "cell_type": "code",
      "source": [
        "# artist_id\n",
        "artists_dict = open_dict(artist_dict)\n",
        "keys_list = list(artists_dict.keys())\n",
        "values_list = [v['name'] for v in artists_dict.values()]\n",
        "\n",
        "group_df = df_cat_dat_total.groupby(['gene_id'])['artist'].apply(list).apply(set).apply(list).reset_index(name='artist')\n",
        "group_df['artist_id'] = group_df['artist'].dropna().apply(lambda x: [keys_list[values_list.index(y)] for y in x])\n",
        "group_df = group_df.drop(['artist'], axis=1)\n",
        "\n",
        "group_dict = group_df.set_index('gene_id').to_dict('index')\n",
        "\n",
        "for k, v in genes_dict.items():\n",
        "  if v['id'] in group_dict.keys():\n",
        "    genes_dict[k].update(group_dict[v['id']])"
      ],
      "metadata": {
        "id": "nkVq9DzNu5dS"
      },
      "execution_count": null,
      "outputs": []
    },
    {
      "cell_type": "code",
      "source": [
        "#genes_dict['abstract_landscape']"
      ],
      "metadata": {
        "id": "v0kDcQqJsV0W"
      },
      "execution_count": null,
      "outputs": []
    },
    {
      "cell_type": "code",
      "source": [
        "save_dict(genes_dict, gen_dict, 'live') # 1. Save json dict"
      ],
      "metadata": {
        "id": "cfl3cmlXpCeW"
      },
      "execution_count": null,
      "outputs": []
    },
    {
      "cell_type": "markdown",
      "source": [
        "### artworks_dict"
      ],
      "metadata": {
        "id": "oy5z7vjxUDA1"
      }
    },
    {
      "cell_type": "markdown",
      "source": [
        "#### initiation"
      ],
      "metadata": {
        "id": "HQ1NM7QYUGhb"
      }
    },
    {
      "cell_type": "code",
      "source": [
        "#artworks_dict = {'artsy_id': {'name': 'Portrait of a Man in Armour', \n",
        "#                              'link': 'https://d32dm0rphc51dk.cloudfront.net/yaB__0LXFvbXC4jiUK4Vpw/large.jpg', \n",
        "#                              'year': 'ca. 1560',\n",
        "#                              'artist_id': '000000', # Jacopo Bassano\n",
        "#                              -- 'gallery_id': '000000', # Robilant+Voena\n",
        "#                              'price': 'Price on request',\n",
        "#                              'gene_id': ['21603', ''],\n",
        "#                              'category_id': ['03', '']}}"
      ],
      "metadata": {
        "id": "r3Kw50TXYFHw"
      },
      "execution_count": null,
      "outputs": []
    },
    {
      "cell_type": "markdown",
      "source": [
        "***One to one connections***\n",
        "\n",
        "Let's create a dict from complete data."
      ],
      "metadata": {
        "id": "9eLcIq8yjCmh"
      }
    },
    {
      "cell_type": "code",
      "source": [
        "one_to_one = df_cat_dat_total.groupby(['artsy_id', 'name', 'link', 'artist', 'price', 'parsing_date', 'updating_date'])['category_id'].agg(['count']).reset_index().drop('count', axis=1)\n",
        "\n",
        "check_id_list = one_to_one['artsy_id'].sample(10).tolist()\n",
        "\n",
        "print(df_cat_dat_total['artsy_id'].nunique())\n",
        "print(one_to_one['artsy_id'].count())\n",
        "print(one_to_one['artsy_id'].nunique())"
      ],
      "metadata": {
        "colab": {
          "base_uri": "https://localhost:8080/"
        },
        "id": "DNxZoTXvi9Du",
        "outputId": "b597597f-7149-42fa-efd0-a0fee82aea95"
      },
      "execution_count": null,
      "outputs": [
        {
          "output_type": "stream",
          "name": "stdout",
          "text": [
            "115482\n",
            "115482\n",
            "115482\n"
          ]
        }
      ]
    },
    {
      "cell_type": "code",
      "source": [
        "# Dict creation\n",
        "artworks_dict = one_to_one.set_index('artsy_id').to_dict('index')\n",
        "len(artworks_dict)"
      ],
      "metadata": {
        "id": "5x440udYo9iB"
      },
      "execution_count": null,
      "outputs": []
    },
    {
      "cell_type": "code",
      "source": [
        "for id in check_id_list:\n",
        "  print(artworks_dict[id])"
      ],
      "metadata": {
        "id": "gUp8kJW7pRWx"
      },
      "execution_count": null,
      "outputs": []
    },
    {
      "cell_type": "markdown",
      "source": [
        "#### expansion"
      ],
      "metadata": {
        "id": "FRMDWRqKUGH3"
      }
    },
    {
      "cell_type": "code",
      "source": [
        "#artworks_dict = open_dict(artwork_dict)"
      ],
      "metadata": {
        "id": "FdgGgO5F-uiH"
      },
      "execution_count": null,
      "outputs": []
    },
    {
      "cell_type": "markdown",
      "source": [
        "Columns with NaNs:\n",
        "- 'name' (not always), 'year', 'gallery'\n",
        "- ***one to one connection***\n",
        "- info is in the **df**"
      ],
      "metadata": {
        "id": "eMNK7tHCpfi_"
      }
    },
    {
      "cell_type": "code",
      "source": [
        "# one to one connection from df\n",
        "def artwork_dict_expan_oto(df, main_dict, param):\n",
        "  group_df = df.groupby(['artsy_id', param])['category_id'].agg(['count']).reset_index().drop('count', axis=1)\n",
        "  group_dict = group_df.set_index('artsy_id').to_dict('index')\n",
        "\n",
        "  for k in main_dict:\n",
        "    if k in group_dict.keys():\n",
        "      main_dict[k].update(group_dict[k])\n",
        "    else:\n",
        "      main_dict[k].update({param: ' '}) # !!!!\n",
        "\n",
        "# one to many connection from df\n",
        "def artwork_dict_expan_otm(df, main_dict, param):\n",
        "  group_df = df.groupby(['artsy_id'])[param].apply(list).apply(set).apply(list).reset_index(name=param)\n",
        "  group_dict = group_df.set_index('artsy_id').to_dict('index')\n",
        "\n",
        "  for k in main_dict:\n",
        "    if k in group_dict.keys():\n",
        "      main_dict[k].update(group_dict[k])\n",
        "    else:\n",
        "      main_dict[k].update({param: [' ']}) # !!!!"
      ],
      "metadata": {
        "id": "B06Bobt8sI87"
      },
      "execution_count": null,
      "outputs": []
    },
    {
      "cell_type": "code",
      "source": [
        "# name\n",
        "#artwork_dict_expan_oto(df_cat_dat_total, artworks_dict, 'name')"
      ],
      "metadata": {
        "id": "WOV7tq_xpdaX"
      },
      "execution_count": null,
      "outputs": []
    },
    {
      "cell_type": "code",
      "source": [
        "# year\n",
        "artwork_dict_expan_oto(df_cat_dat_total, artworks_dict, 'year')"
      ],
      "metadata": {
        "id": "fDpLo9TWq4qr"
      },
      "execution_count": null,
      "outputs": []
    },
    {
      "cell_type": "code",
      "source": [
        "# gallery\n",
        "artwork_dict_expan_oto(df_cat_dat_total, artworks_dict, 'gallery')"
      ],
      "metadata": {
        "id": "FhrR27VVtqyI"
      },
      "execution_count": null,
      "outputs": []
    },
    {
      "cell_type": "code",
      "source": [
        "for id in check_id_list:\n",
        "  print(artworks_dict[id])"
      ],
      "metadata": {
        "id": "FODpd0tUru2i"
      },
      "execution_count": null,
      "outputs": []
    },
    {
      "cell_type": "markdown",
      "source": [
        "Columns with repeating values:\n",
        "- 'gene_id', 'category_id'\n",
        "- list type parametr - ***one to many connection***\n",
        "- id info is in the **df**"
      ],
      "metadata": {
        "id": "qlAlLzG1ytV3"
      }
    },
    {
      "cell_type": "code",
      "source": [
        "# category_id\n",
        "cat = df_cat_dat_total['category_id'].unique().tolist()\n",
        "\n",
        "#artworks_dict = {k: v.update({'category_id': [cat[0]]}) for k, v in artworks_dict.items()}\n",
        "\n",
        "for k in artworks_dict:\n",
        "  artworks_dict[k].update({'category_id': [cat[0]]})"
      ],
      "metadata": {
        "id": "oWUmyHnByvzu"
      },
      "execution_count": null,
      "outputs": []
    },
    {
      "cell_type": "code",
      "source": [
        "# gene_id\n",
        "#artwork_dict_extent_otm('gene_id')\n",
        "group_df = df_cat_dat_total.groupby(['artsy_id'])['gene_id'].apply(list).apply(set).apply(list).reset_index(name='gene_id')\n",
        "group_dict = group_df.set_index('artsy_id').to_dict('index')\n",
        "\n",
        "for k in artworks_dict:\n",
        "  if k in group_dict.keys():\n",
        "    artworks_dict[k].update(group_dict[k])\n",
        "  else:\n",
        "    artworks_dict[k].update({'gene_id': [' ']}) # !!!!\n",
        "\n",
        "for id in check_id_list:\n",
        "  print(group_dict[id])"
      ],
      "metadata": {
        "id": "0EoNFrw_08dw"
      },
      "execution_count": null,
      "outputs": []
    },
    {
      "cell_type": "code",
      "source": [
        "for id in check_id_list:\n",
        "  print(artworks_dict[id])"
      ],
      "metadata": {
        "id": "QQSsw0MMyvm9"
      },
      "execution_count": null,
      "outputs": []
    },
    {
      "cell_type": "markdown",
      "source": [
        "Replace/Add 'artist' on 'artist_id'  in artworks_dict\n",
        "- ***one to one connection***"
      ],
      "metadata": {
        "id": "j8f0T4xh4zKZ"
      }
    },
    {
      "cell_type": "code",
      "source": [
        "group_df = df_cat_dat_total.groupby(['artsy_id', 'artist'])['artist'].agg(['count']).reset_index().drop(['count'], axis=1)\n",
        "\n",
        "keys_list = list(artists_dict.keys())\n",
        "values_list = [v['name'] for v in artists_dict.values()]\n",
        "group_df['artist_id'] = group_df['artist'].dropna().apply(lambda x: keys_list[values_list.index(x)])\n",
        "group_df = group_df.drop(['artist'], axis=1)\n",
        "\n",
        "group_dict = group_df.set_index('artsy_id').to_dict('index')\n",
        "\n",
        "for k in artworks_dict:\n",
        "  if k in group_dict.keys():\n",
        "    artworks_dict[k].update(group_dict[k])\n",
        "  else:\n",
        "    artworks_dict[k].update({'artist_id': ' '})"
      ],
      "metadata": {
        "id": "trWZrJbC46hv"
      },
      "execution_count": null,
      "outputs": []
    },
    {
      "cell_type": "code",
      "source": [
        "group_dict['623f201d30b258000cc3053a']"
      ],
      "metadata": {
        "id": "bmsR3pqG-fsV"
      },
      "execution_count": null,
      "outputs": []
    },
    {
      "cell_type": "code",
      "source": [
        "artworks_dict['623f201d30b258000cc3053a']"
      ],
      "metadata": {
        "id": "t34sVzdQ-itK"
      },
      "execution_count": null,
      "outputs": []
    },
    {
      "cell_type": "code",
      "source": [
        "# Replacing\n",
        "#artworks_dict = {k: artworks_dict[k] for k in artworks_dict.keys() - {'artist'}}\n",
        "#artworks_dict['623f201d30b258000cc3053a']"
      ],
      "metadata": {
        "id": "PFFOqj3K-ldX"
      },
      "execution_count": null,
      "outputs": []
    },
    {
      "cell_type": "code",
      "source": [
        "#save_dict(artworks_dict, artwork_dict) # 1. Save json dict"
      ],
      "metadata": {
        "id": "t4LW0ISv-lP7"
      },
      "execution_count": null,
      "outputs": []
    },
    {
      "cell_type": "markdown",
      "source": [
        "#### addition"
      ],
      "metadata": {
        "id": "B856Ube5x2YN"
      }
    },
    {
      "cell_type": "code",
      "source": [
        "artworks_dict = open_dict('/artsy_genom_artwork_dict_2022-04-04.csv', 'backup')\n",
        "len(artworks_dict)"
      ],
      "metadata": {
        "colab": {
          "base_uri": "https://localhost:8080/"
        },
        "id": "gFZS5e1Cx5AU",
        "outputId": "86d3b37e-cc54-4336-9dc6-cebbdae1ac90"
      },
      "execution_count": null,
      "outputs": [
        {
          "output_type": "execute_result",
          "data": {
            "text/plain": [
              "168753"
            ]
          },
          "metadata": {},
          "execution_count": 33
        }
      ]
    },
    {
      "cell_type": "code",
      "source": [
        "artworks_dict['623f201d30b258000cc3053a']"
      ],
      "metadata": {
        "colab": {
          "base_uri": "https://localhost:8080/"
        },
        "id": "0FW4wMwqx7Xr",
        "outputId": "9f6de305-a619-4762-810e-9648f9cd5c21"
      },
      "execution_count": null,
      "outputs": [
        {
          "output_type": "execute_result",
          "data": {
            "text/plain": [
              "{'artist': 'Tuukka Tammisaari',\n",
              " 'artist_id': '19134',\n",
              " 'category_id': ['03'],\n",
              " 'gallery': 'Kristof De Clercq',\n",
              " 'gene_id': ['03056', '03013', '03090'],\n",
              " 'link': 'https://d32dm0rphc51dk.cloudfront.net/hrEVTH4ekjqm_iKE1HStzg/large.jpg',\n",
              " 'name': 'Untitled',\n",
              " 'parsing_date': '2022-04-01',\n",
              " 'price': '€6,600 ',\n",
              " 'updating_date': '2022-04-01',\n",
              " 'year': '2021'}"
            ]
          },
          "metadata": {},
          "execution_count": 34
        }
      ]
    },
    {
      "cell_type": "code",
      "source": [
        "one_to_one_df = df_cat_dat_total.groupby(['artsy_id', 'name', 'link', 'artist', 'price', 'parsing_date', 'updating_date'])['category_id'].agg(['count']).reset_index().drop('count', axis=1)\n",
        "\n",
        "check_id_list = one_to_one_df['artsy_id'].sample(10).tolist()\n",
        "\n",
        "print(df_cat_dat_total['artsy_id'].nunique())\n",
        "print(one_to_one_df['artsy_id'].count())\n",
        "print(one_to_one_df['artsy_id'].nunique())"
      ],
      "metadata": {
        "colab": {
          "base_uri": "https://localhost:8080/"
        },
        "id": "zgqXhnW23Khh",
        "outputId": "36177aab-9760-4192-ae54-19b0bb250c0f"
      },
      "execution_count": null,
      "outputs": [
        {
          "output_type": "stream",
          "name": "stdout",
          "text": [
            "115482\n",
            "115482\n",
            "115482\n"
          ]
        }
      ]
    },
    {
      "cell_type": "code",
      "source": [
        "# Dict updating\n",
        "\n",
        "# Old dict data\n",
        "# {'artsy_id': {'artist': ' ', 'artist_id': ' ', 'category_id': [''], 'gallery': ' ', 'gene_id': [''], \n",
        "#               'link': ' ', 'name': ' ', 'parsing_date': '', 'price': ' ', 'updating_date': '', 'year': ' '}}\n",
        "\n",
        "old_id_list = list(artworks_dict.keys()) # list of str\n",
        "\n",
        "artist_list = [v['artist'] for v in artworks_dict.values()] # list of str\n",
        "#artist_id_list = [v['artist_id'] for v in artworks_dict.values()] # list of str ????????????\n",
        "gallery_list = [v['gallery'] for v in artworks_dict.values()] # list of str\n",
        "link_list = [v['link'] for v in artworks_dict.values()] # list of str\n",
        "name_list = [v['name'] for v in artworks_dict.values()] # list of str\n",
        "#price_list = [v['price'] for v in artworks_dict.values()] # list of str\n",
        "year_list = [v['year'] for v in artworks_dict.values()] # list of str\n",
        "\n",
        "cat_list = [v['category_id'] for v in artworks_dict.values()] # list of lists with str\n",
        "gene_list = [v['gene_id'] for v in artworks_dict.values()] # list of lists with str\n",
        "\n",
        "# New df data\n",
        "new_id_list = df_cat_dat_total['artsy_id'].unique()\n",
        "cat = df_cat_dat_total['category_id'].unique().tolist() # category_id\n",
        "print('New category:', cat[0])\n",
        "\n",
        "new_artwork_id = list(set(new_id_list) - set(old_id_list))\n",
        "cross_artwork_id = list(set(old_id_list) & set(new_id_list))\n",
        "print('Check the division:', len(new_id_list)==len(new_artwork_id)+len(cross_artwork_id))\n",
        "\n",
        "one_to_one_new_df = one_to_one_df.loc[one_to_one_df['artsy_id'].isin(new_artwork_id)]\n",
        "one_to_one_cross_df = one_to_one_df.loc[one_to_one_df['artsy_id'].isin(cross_artwork_id)]\n",
        "print('New id count:', one_to_one_new_df['artsy_id'].nunique())\n",
        "print('Cross id count:', one_to_one_cross_df['artsy_id'].nunique())\n",
        "\n",
        "expaned_new_df = df_cat_dat_total.loc[df_cat_dat_total['artsy_id'].isin(new_artwork_id)]\n",
        "expaned_cross_df = df_cat_dat_total.loc[df_cat_dat_total['artsy_id'].isin(cross_artwork_id)]\n",
        "print('New id count:', expaned_new_df['artsy_id'].nunique())\n",
        "print('Cross id count:', expaned_cross_df['artsy_id'].nunique())\n",
        "\n",
        "artworks_dict_total_len = len(old_id_list) + len(new_artwork_id)\n",
        "print('New dict length must be:', artworks_dict_total_len)"
      ],
      "metadata": {
        "colab": {
          "base_uri": "https://localhost:8080/"
        },
        "id": "F8XUPeBOOOBl",
        "outputId": "32ae4dbd-1ca3-4c1f-8e96-dbe7a00503e9"
      },
      "execution_count": null,
      "outputs": [
        {
          "output_type": "stream",
          "name": "stdout",
          "text": [
            "New category: 02\n",
            "Check the division: True\n",
            "New id count: 46583\n",
            "Cross id count: 68899\n",
            "New id count: 46583\n",
            "Cross id count: 68899\n",
            "New dict length must be: 215336\n"
          ]
        }
      ]
    },
    {
      "cell_type": "markdown",
      "source": [
        "##### Old part dict updating"
      ],
      "metadata": {
        "id": "Iw2fdVzxX1QM"
      }
    },
    {
      "cell_type": "code",
      "source": [
        "artworks_dict_cross = one_to_one_cross_df.set_index('artsy_id').to_dict('index') # with 'name'\n",
        "\n",
        "dif_name = []\n",
        "dif_link = []\n",
        "dif_artist = []\n",
        "\n",
        "for id in cross_artwork_id:\n",
        "  if artworks_dict_cross[id]['name'] != artworks_dict[id]['name']:\n",
        "    dif_name.append(id)\n",
        "  if artworks_dict_cross[id]['link'] != artworks_dict[id]['link']:\n",
        "    dif_link.append(id)\n",
        "  if artworks_dict_cross[id]['artist'] != artworks_dict[id]['artist']:\n",
        "    dif_artist.append(id)\n",
        "\n",
        "print('Cross id count:', len(artworks_dict_cross))\n",
        "print(len(dif_name), 'ids have different name')\n",
        "print(len(dif_link), 'ids have different link')\n",
        "print(len(dif_artist), 'ids have different artist')"
      ],
      "metadata": {
        "colab": {
          "base_uri": "https://localhost:8080/"
        },
        "id": "IzAyzbcdffZI",
        "outputId": "e7259aee-3de0-4338-d7ba-9f2a33c20dfd"
      },
      "execution_count": null,
      "outputs": [
        {
          "output_type": "stream",
          "name": "stdout",
          "text": [
            "Cross id count: 68899\n",
            "3 ids have different name\n",
            "15 ids have different link\n",
            "0 ids have different artist\n"
          ]
        }
      ]
    },
    {
      "cell_type": "code",
      "source": [
        "par = 'link'\n",
        "dif_list = dif_link\n",
        "\n",
        "artworks_dict_cross_diff = {k: v for k, v in artworks_dict_cross.items() if k in dif_list}\n",
        "artworks_dict_diff = {k: v for k, v in artworks_dict.items() if k in dif_list}\n",
        "\n",
        "for k, v in artworks_dict_cross_diff.items():\n",
        "  print(k, '->', v[par])\n",
        "print('')\n",
        "for k, v in artworks_dict_diff.items():\n",
        "  print(k, v[par])"
      ],
      "metadata": {
        "colab": {
          "base_uri": "https://localhost:8080/"
        },
        "id": "wrN18WyEi7P5",
        "outputId": "d69e1027-a86f-4419-bbd2-9fb4384ccc9c"
      },
      "execution_count": null,
      "outputs": [
        {
          "output_type": "stream",
          "name": "stdout",
          "text": [
            "518d1edf7a6d642fd300008d -> https://d32dm0rphc51dk.cloudfront.net/kANxTalIbPKpIOxcVucMNA/large.jpg\n",
            "58302f678b3b8135c3001024 -> https://d32dm0rphc51dk.cloudfront.net/y61wp-fWJUgCHt2UIXlP0A/large.jpg\n",
            "5d09ef962949c800125b37ea -> https://d32dm0rphc51dk.cloudfront.net/9PTqe26j1gjtrD0nDPkyxg/large.jpg\n",
            "61e56803386822000b3568a6 -> https://d32dm0rphc51dk.cloudfront.net/x18s13ls7Pqy5BbOYkxNcg/large.jpg\n",
            "61ec0e914aa734000b7af6ca -> https://d32dm0rphc51dk.cloudfront.net/aQYqaAX97xigvJnPNDFmew/large.jpg\n",
            "61fc752dd29b4d000dc1bbdf -> https://d32dm0rphc51dk.cloudfront.net/NOc7r-JZqUFl-q8QFJh1XQ/large.jpg\n",
            "623b2c2ad7998a000dfda713 -> https://d32dm0rphc51dk.cloudfront.net/W5-UW_M44ipohPAnFCzMOQ/large.jpg\n",
            "623b99e48cfd7b000d8dfd31 -> https://d32dm0rphc51dk.cloudfront.net/gVQuIJ18rJZ2cYio0q342w/large.jpg\n",
            "623b9a8dda5caf000bc535ad -> https://d32dm0rphc51dk.cloudfront.net/Q_GcVrkSImhYzIi6agi_1Q/large.jpg\n",
            "62410aee4df752000cce42e0 -> https://d32dm0rphc51dk.cloudfront.net/8KG7evNuY5iTzmedBzEefw/large.jpg\n",
            "624190aacba6bc000d15b976 -> https://d32dm0rphc51dk.cloudfront.net/kjHMB4oWMlOfwbkysLuOsQ/large.jpg\n",
            "62419158cba6bc000c89c39a -> https://d32dm0rphc51dk.cloudfront.net/hZRzq6PMw51MTO0R99e-uw/large.jpg\n",
            "6241cec07f8670000d4a7f47 -> https://d32dm0rphc51dk.cloudfront.net/j0V4saZ52kMluc-vv5VUMA/large.jpg\n",
            "624310bac10e42000c19b125 -> https://d32dm0rphc51dk.cloudfront.net/Y6y6XwTsgmhdg5urBXtUiA/large.jpg\n",
            "624427ecdfca54000cc66f35 -> https://d32dm0rphc51dk.cloudfront.net/f_bhew1wwas7w_VlOkmlqw/large.jpg\n",
            "\n",
            "518d1edf7a6d642fd300008d https://d32dm0rphc51dk.cloudfront.net/3giYGEgFB46Nj8YUySre7w/large.jpg\n",
            "58302f678b3b8135c3001024 https://d32dm0rphc51dk.cloudfront.net/m0J_ZK8ZAEdonY3E7UONYg/large.jpg\n",
            "5d09ef962949c800125b37ea https://d32dm0rphc51dk.cloudfront.net/YSuZQ6fFhBKxhC74EIu6FQ/large.jpg\n",
            "61e56803386822000b3568a6 https://d32dm0rphc51dk.cloudfront.net/MOOgiKpf-ZLTJdnUQO8n8w/large.jpg\n",
            "61ec0e914aa734000b7af6ca https://d32dm0rphc51dk.cloudfront.net/x3ZYFkUxZ816X3uyrjGFlA/large.jpg\n",
            "61fc752dd29b4d000dc1bbdf https://d32dm0rphc51dk.cloudfront.net/PJ_3SCdnfFbsYKxDQScQUQ/large.jpg\n",
            "623b2c2ad7998a000dfda713 https://d32dm0rphc51dk.cloudfront.net/EhvetrqTw8nPea7-WzX8ww/large.jpg\n",
            "623b99e48cfd7b000d8dfd31 https://d32dm0rphc51dk.cloudfront.net/zGN1MHAnJZs4_GfkL-XPHQ/large.jpg\n",
            "623b9a8dda5caf000bc535ad https://d32dm0rphc51dk.cloudfront.net/SLQPoJqgeZf4XQfoWMxzOQ/large.jpg\n",
            "62410aee4df752000cce42e0 https://d32dm0rphc51dk.cloudfront.net/hym8hV4pU7u8rIWlJlh_4g/large.jpg\n",
            "624190aacba6bc000d15b976 https://d32dm0rphc51dk.cloudfront.net/1hckusXIkt_87cCB-PDbhQ/large.jpg\n",
            "62419158cba6bc000c89c39a https://d32dm0rphc51dk.cloudfront.net/kiptuG0SSGg6t2zLXwcJ3A/large.jpg\n",
            "6241cec07f8670000d4a7f47 https://d32dm0rphc51dk.cloudfront.net/AR1Qdta3YLn1-IqxIpPiKA/large.jpg\n",
            "624310bac10e42000c19b125 https://d32dm0rphc51dk.cloudfront.net/yDSvccm3FSQJR3Y0I2pp0A/large.jpg\n",
            "624427ecdfca54000cc66f35 https://d32dm0rphc51dk.cloudfront.net/LZDaoCm-zaa6RK1KE4r37A/large.jpg\n"
          ]
        }
      ]
    },
    {
      "cell_type": "code",
      "source": [
        "# name\n",
        "#62418ef1292e30000baee482 -> C.H.R.I.S.T Sur Fiction\n",
        "#6241a12649cd3b000c305ee5 -> Airbattle (Delaunay - Klee - Mondrian)\n",
        "#624427ecdfca54000cc66f35 -> Sunset\n",
        "\n",
        "#62418ef1292e30000baee482 Crist-sur-Fiction\n",
        "#6241a12649cd3b000c305ee5 Airbattle \n",
        "#624427ecdfca54000cc66f35 The Bather"
      ],
      "metadata": {
        "id": "p_Gxr_Gylm8K"
      },
      "execution_count": null,
      "outputs": []
    },
    {
      "cell_type": "markdown",
      "source": [
        "!!! Names and images can be different -> won't change them"
      ],
      "metadata": {
        "id": "H2h1dNu1mM9k"
      }
    },
    {
      "cell_type": "code",
      "source": [
        "one_to_one_columns = one_to_one_df.columns[1:-2].tolist()\n",
        "print(one_to_one_columns)\n",
        "expaned_columns = list(set(df_cat_dat_total.columns[1:-3].tolist()) - set(one_to_one_columns))\n",
        "print(expaned_columns)"
      ],
      "metadata": {
        "colab": {
          "base_uri": "https://localhost:8080/"
        },
        "id": "of79Wz0TcnkO",
        "outputId": "03839bc4-e59a-48e3-efba-6ac4826b425d"
      },
      "execution_count": null,
      "outputs": [
        {
          "output_type": "stream",
          "name": "stdout",
          "text": [
            "['name', 'link', 'artist', 'price']\n",
            "['gallery', 'gene_id', 'year']\n"
          ]
        }
      ]
    },
    {
      "cell_type": "code",
      "source": [
        "# Updated dict\n",
        "# for gene_id\n",
        "gene_df = expaned_cross_df.groupby(['artsy_id'])['gene_id'].apply(list).apply(set).apply(list).reset_index(name='gene_id')\n",
        "gene_dict = gene_df.set_index('artsy_id').to_dict('index')\n",
        "\n",
        "for id in cross_artwork_id:\n",
        "  # category_id\n",
        "  new_cat = list(set(cat_list[old_id_list.index(id)] + cat))\n",
        "  artworks_dict[id].update({'category_id': new_cat})\n",
        "  # gene_id\n",
        "  new_gene = list(set(gene_list[old_id_list.index(id)] + gene_dict[id]['gene_id']))\n",
        "  artworks_dict[id].update({'gene_id': new_gene})\n",
        "\n",
        "len(artworks_dict)"
      ],
      "metadata": {
        "colab": {
          "base_uri": "https://localhost:8080/"
        },
        "id": "BPoa4DkvYHes",
        "outputId": "d802a76b-9fba-4afd-d792-5c141cdc4aa0"
      },
      "execution_count": null,
      "outputs": [
        {
          "output_type": "execute_result",
          "data": {
            "text/plain": [
              "168753"
            ]
          },
          "metadata": {},
          "execution_count": 39
        }
      ]
    },
    {
      "cell_type": "code",
      "source": [
        "artworks_dict[cross_artwork_id[0]]"
      ],
      "metadata": {
        "colab": {
          "base_uri": "https://localhost:8080/"
        },
        "id": "BQbalWddtb5M",
        "outputId": "e281f758-def5-43eb-ee21-2045d4eede1a"
      },
      "execution_count": null,
      "outputs": [
        {
          "output_type": "execute_result",
          "data": {
            "text/plain": [
              "{'artist': 'Cathy Daley',\n",
              " 'artist_id': '03126',\n",
              " 'category_id': ['03', '02'],\n",
              " 'gallery': 'Newzones',\n",
              " 'gene_id': ['03059', '02173'],\n",
              " 'link': 'https://d32dm0rphc51dk.cloudfront.net/_zFjgf3AD2c-e98K2M3wNg/large.jpg',\n",
              " 'name': 'Untitled 1153',\n",
              " 'parsing_date': '2022-04-01',\n",
              " 'price': 'C$11,900 ',\n",
              " 'updating_date': '2022-04-01',\n",
              " 'year': '2019'}"
            ]
          },
          "metadata": {},
          "execution_count": 40
        }
      ]
    },
    {
      "cell_type": "markdown",
      "source": [
        "##### New part dict creation"
      ],
      "metadata": {
        "id": "blop2de9XvDL"
      }
    },
    {
      "cell_type": "code",
      "source": [
        "artworks_dict_new = one_to_one_new_df.set_index('artsy_id').to_dict('index') # with 'name'\n",
        "\n",
        "# name\n",
        "#artwork_dict_expan_oto(expaned_new_df, artworks_dict_new, 'name')\n",
        "# year\n",
        "artwork_dict_expan_oto(expaned_new_df, artworks_dict_new, 'year')\n",
        "# gallery\n",
        "artwork_dict_expan_oto(expaned_new_df, artworks_dict_new, 'gallery')\n",
        "# gene_id\n",
        "artwork_dict_expan_otm(expaned_new_df, artworks_dict_new, 'gene_id')\n",
        "# category_id\n",
        "for k in artworks_dict_new:\n",
        "  artworks_dict_new[k].update({'category_id': [cat[0]]})\n",
        "\n",
        "len(artworks_dict_new)"
      ],
      "metadata": {
        "colab": {
          "base_uri": "https://localhost:8080/"
        },
        "id": "jDsEUjS9RhyV",
        "outputId": "6e0bd75d-35b6-45e0-dda7-ec65d238ea5e"
      },
      "execution_count": null,
      "outputs": [
        {
          "output_type": "execute_result",
          "data": {
            "text/plain": [
              "46583"
            ]
          },
          "metadata": {},
          "execution_count": 43
        }
      ]
    },
    {
      "cell_type": "code",
      "source": [
        "# artist_id\n",
        "group_df = expaned_new_df.groupby(['artsy_id', 'artist'])['artist'].agg(['count']).reset_index().drop(['count'], axis=1)\n",
        "\n",
        "artists_dict = open_dict(artist_dict, 'live')\n",
        "keys_list = list(artists_dict.keys())\n",
        "values_list = [v['name'] for v in artists_dict.values()]\n",
        "group_df['artist_id'] = group_df['artist'].dropna().apply(lambda x: keys_list[values_list.index(x)])\n",
        "group_df = group_df.drop(['artist'], axis=1)\n",
        "\n",
        "group_dict = group_df.set_index('artsy_id').to_dict('index')\n",
        "\n",
        "for k in artworks_dict_new:\n",
        "  if k in group_dict.keys():\n",
        "    artworks_dict_new[k].update(group_dict[k])\n",
        "  else:\n",
        "    artworks_dict_new[k].update({'artist_id': ' '})\n",
        "\n",
        "len(artworks_dict_new)"
      ],
      "metadata": {
        "colab": {
          "base_uri": "https://localhost:8080/"
        },
        "id": "rh1ncGLHQNUT",
        "outputId": "0eaa4f1c-bbde-4584-a7dd-d89a1d17cdc8"
      },
      "execution_count": null,
      "outputs": [
        {
          "output_type": "execute_result",
          "data": {
            "text/plain": [
              "46583"
            ]
          },
          "metadata": {},
          "execution_count": 44
        }
      ]
    },
    {
      "cell_type": "code",
      "source": [
        "artworks_dict_new[new_artwork_id[0]]"
      ],
      "metadata": {
        "colab": {
          "base_uri": "https://localhost:8080/"
        },
        "id": "sPCSA8mfVTKB",
        "outputId": "2a2b5fd7-a0e7-4dcb-9df6-922985406908"
      },
      "execution_count": null,
      "outputs": [
        {
          "output_type": "execute_result",
          "data": {
            "text/plain": [
              "{'artist': 'Ralph Allen Massey',\n",
              " 'artist_id': '25288',\n",
              " 'category_id': ['02'],\n",
              " 'gallery': 'bG Gallery',\n",
              " 'gene_id': ['02161'],\n",
              " 'link': 'https://d32dm0rphc51dk.cloudfront.net/G4Rr6jBiC_PGEDOAAZ9vLQ/large.jpg',\n",
              " 'name': 'Information Vortex',\n",
              " 'parsing_date': '2022-04-02',\n",
              " 'price': 'US$4,400 ',\n",
              " 'updating_date': '2022-04-02',\n",
              " 'year': '2020'}"
            ]
          },
          "metadata": {},
          "execution_count": 45
        }
      ]
    },
    {
      "cell_type": "code",
      "source": [
        "artworks_dict.update(artworks_dict_new)\n",
        "print('New dict length must be:', artworks_dict_total_len)\n",
        "print('New dict length is:', len(artworks_dict))"
      ],
      "metadata": {
        "colab": {
          "base_uri": "https://localhost:8080/"
        },
        "id": "A1hXO001VS6V",
        "outputId": "1aa3fca8-1e8f-4c27-e563-6fbf1feab0ed"
      },
      "execution_count": null,
      "outputs": [
        {
          "output_type": "stream",
          "name": "stdout",
          "text": [
            "New dict length must be: 215336\n",
            "New dict length is: 215336\n"
          ]
        }
      ]
    },
    {
      "cell_type": "code",
      "source": [
        "save_dict(artworks_dict, artwork_dict, 'live') # 1. Save json dict"
      ],
      "metadata": {
        "id": "m-h0XcL6x7IQ"
      },
      "execution_count": null,
      "outputs": []
    },
    {
      "cell_type": "markdown",
      "source": [
        "## Backup saving"
      ],
      "metadata": {
        "id": "YUhq_HYV1Jop"
      }
    },
    {
      "cell_type": "code",
      "source": [
        "save_dict(artworks_dict, artwork_dict.replace('.txt', '') + '_' + str(datetime.now().date()) + '.txt', 'backup') # 1. Save json dict\n",
        "save_dict(artists_dict, artist_dict.replace('.txt', '') + '_' + str(datetime.now().date()) + '.txt', 'backup') # 1. Save json dict\n",
        "save_dict(genes_dict, gen_dict.replace('.txt', '') + '_' + str(datetime.now().date()) + '.txt', 'backup') # 1. Save json dict"
      ],
      "metadata": {
        "id": "W-38Aa6B1QCJ"
      },
      "execution_count": null,
      "outputs": []
    },
    {
      "cell_type": "markdown",
      "metadata": {
        "id": "0gZtVL8kQRqQ"
      },
      "source": [
        "# Images"
      ]
    },
    {
      "cell_type": "code",
      "execution_count": null,
      "metadata": {
        "colab": {
          "base_uri": "https://localhost:8080/"
        },
        "id": "XbbLPUYYFlb5",
        "outputId": "44e31edc-3da6-4c04-ce13-eefc670466cd"
      },
      "outputs": [
        {
          "name": "stdout",
          "output_type": "stream",
          "text": [
            "6 https:\n",
            "0 \n",
            "29 d32dm0rphc51dk.cloudfront.net\n",
            "22 NOpIAwQa-3r51Cg9qXKbfA\n",
            "10 normalized\n"
          ]
        }
      ],
      "source": [
        "# Sample from API tables\n",
        "\n",
        "# 'image': {'href': 'https://d32dm0rphc51dk.cloudfront.net/NOpIAwQa-3r51Cg9qXKbfA/{image_version}.jpg',\n",
        "#                      'templated': True}\n",
        "#i = 'https://d32dm0rphc51dk.cloudfront.net/NOpIAwQa-3r51Cg9qXKbfA/normalized.jpg'\n",
        "#for p in i.split('.jpg')[0].split('/'):\n",
        "#  print(len(p), p)"
      ]
    },
    {
      "cell_type": "code",
      "execution_count": null,
      "metadata": {
        "colab": {
          "base_uri": "https://localhost:8080/"
        },
        "id": "QC9_qiccgIxx",
        "outputId": "bac1e84a-dd97-420a-e4e1-681c27dbd39f"
      },
      "outputs": [
        {
          "name": "stdout",
          "output_type": "stream",
          "text": [
            "Populating the interactive namespace from numpy and matplotlib\n"
          ]
        }
      ],
      "source": [
        "#! pip install pillow --user\n",
        "\n",
        "import PIL\n",
        "from PIL import Image\n",
        "import os\n",
        "import cv2\n",
        "\n",
        "%pylab inline\n",
        "import matplotlib.pyplot as plt\n",
        "import matplotlib.image as mpimg"
      ]
    },
    {
      "cell_type": "code",
      "execution_count": null,
      "metadata": {
        "id": "hr1peJbUgNIp"
      },
      "outputs": [],
      "source": [
        "image = requests.get(img, headers={'User-Agent': 'Chrome/97.0.4692.71'})\n",
        "name = art_project_path + '/' + 'portrait_of_a_man_in_armour' + '.jpg'\n",
        "\n",
        "img = open(name, 'wb')\n",
        "img.write(image.content)\n",
        "img.close()\n",
        "\n",
        "img = Image.open(name)\n",
        "plt.imshow(img)\n",
        "plt.axis('off')\n",
        "plt.show()\n",
        "\n",
        "img.close()"
      ]
    },
    {
      "cell_type": "code",
      "execution_count": null,
      "metadata": {
        "id": "p8rqD1VfT_Mk"
      },
      "outputs": [],
      "source": [
        ""
      ]
    }
  ],
  "metadata": {
    "colab": {
      "name": "Artsy_genome_api.ipynb",
      "toc_visible": true,
      "provenance": [],
      "collapsed_sections": [
        "fXS9WF4KEG4A",
        "ysydU0bctwHa",
        "EIMfFZTJv9Fs",
        "znvj69nSy9lf",
        "Jm2PBAgezApk",
        "ZQ7z40v6ZUZV",
        "ZS_6uxf4mtko"
      ],
      "mount_file_id": "1Ms0wyFoVy_iO7JS9cHDw7qKhRKS_aCkq",
      "authorship_tag": "ABX9TyMEPiGeXRe7f/F1u8EnZS5h"
    },
    "kernelspec": {
      "display_name": "Python 3",
      "name": "python3"
    },
    "language_info": {
      "name": "python"
    }
  },
  "nbformat": 4,
  "nbformat_minor": 0
}