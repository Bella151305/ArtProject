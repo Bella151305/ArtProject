{
  "cells": [
    {
      "cell_type": "markdown",
      "metadata": {
        "id": "tgPcokInD1We"
      },
      "source": [
        "# Library"
      ]
    },
    {
      "cell_type": "code",
      "execution_count": 1,
      "metadata": {
        "id": "T1ngM_lUDOOI"
      },
      "outputs": [],
      "source": [
        "import logging\n",
        "import requests\n",
        "from bs4 import BeautifulSoup\n",
        "from urllib.error import HTTPError\n",
        "\n",
        "import http.client as httplib  # or http.client if you're on Python 3 # httplib\n",
        "httplib._MAXHEADERS = 10000\n",
        "# ChunkedEncodingError\n",
        "\n",
        "import time\n",
        "import datetime\n",
        "from datetime import datetime, timedelta\n",
        "\n",
        "import re\n",
        "\n",
        "import json\n",
        "\n",
        "import warnings\n",
        "warnings.simplefilter(action='ignore')\n",
        "\n",
        "import pandas as pd\n",
        "import numpy as np\n",
        "import sys\n",
        "\n",
        "import random \n",
        "from random import sample"
      ]
    },
    {
      "cell_type": "code",
      "execution_count": 2,
      "metadata": {
        "id": "IwtF3gKBj6NL"
      },
      "outputs": [],
      "source": [
        "# pathes\n",
        "art_project_path = '/content/drive/MyDrive/Art/Art_Project'\n",
        "art_project_path_backups = '/content/drive/MyDrive/Art/Art_Project/parsing_backups'\n",
        "art_project_path_tests = '/content/drive/MyDrive/Art/Art_Project/parsing_tests'\n",
        "\n",
        "url_add = 'https://www.artsy.net'\n",
        "\n",
        "# files\n",
        "cat_dict = '/artsy_genom_cat_dict.txt'\n",
        "gen_dict = '/artsy_genom_gen_dict.txt'\n",
        "artwork_dict = '/artsy_genom_artwork_dict.txt'\n",
        "artist_dict = '/artsy_genom_artist_dict.txt'\n",
        "temp_data = '/artsy_temp_data.csv'\n",
        "\n",
        "# id length\n",
        "cat_id_len = 2\n",
        "gen_id_len = 5\n",
        "artist_id_len = 5\n",
        "\n",
        "# for addition and updating\n",
        "recently_added_pref = '?sort=-published_at'\n",
        "recently_updated_pref = '?sort=-partner_updated_at'"
      ]
    },
    {
      "cell_type": "markdown",
      "metadata": {
        "id": "fXS9WF4KEG4A"
      },
      "source": [
        "# Functions"
      ]
    },
    {
      "cell_type": "markdown",
      "metadata": {
        "id": "EXSzYWND7OGV"
      },
      "source": [
        "## Openings and savings"
      ]
    },
    {
      "cell_type": "code",
      "execution_count": 3,
      "metadata": {
        "id": "NvuSX_g-jl4K"
      },
      "outputs": [],
      "source": [
        "# 1. Save json dict\n",
        "def save_dict(tree_dict, file, folder):\n",
        "  if folder=='live':\n",
        "    with open(art_project_path + file, 'w') as outfile:\n",
        "      json.dump(tree_dict, outfile)\n",
        "  elif folder=='backup':\n",
        "    with open(art_project_path_backups + file, 'w') as outfile:\n",
        "      json.dump(tree_dict, outfile)\n",
        "\n",
        "# 2. Open json dict\n",
        "def open_dict(file, folder):\n",
        "  if folder=='live':\n",
        "    with open(art_project_path + file, 'rb') as infile:\n",
        "      tree_dict = json.load(infile)\n",
        "  elif folder=='backup':\n",
        "    with open(art_project_path_backups + file, 'rb') as infile:\n",
        "      tree_dict = json.load(infile)\n",
        "  return tree_dict\n",
        "\n",
        "# 3. Open file.csv\n",
        "def open_file_csv(file, folder): # folder: live, backup or test\n",
        "  if folder=='live':\n",
        "    df = pd.read_csv(art_project_path + file)\n",
        "  elif folder=='backup':\n",
        "    df = pd.read_csv(art_project_path_backups + file)\n",
        "  elif folder=='test':\n",
        "    df = pd.read_csv(art_project_path_tests + file)\n",
        "  return df\n",
        "\n",
        "# 4. Save df to csv file\n",
        "def save_df_file(df, file, folder): # folder: live, backup or test\n",
        "  if folder=='live':\n",
        "    df.to_csv(art_project_path + file, index=False)\n",
        "  elif folder=='backup':\n",
        "    df.to_csv(art_project_path_backups + file, index=False)\n",
        "  elif folder=='test':\n",
        "    df.to_csv(art_project_path_tests + file, index=False)\n"
      ]
    },
    {
      "cell_type": "markdown",
      "metadata": {
        "id": "2wDrr6ButRDY"
      },
      "source": [
        "## Parsing"
      ]
    },
    {
      "cell_type": "markdown",
      "metadata": {
        "id": "a_hxEAdLtm7G"
      },
      "source": [
        "### get_page"
      ]
    },
    {
      "cell_type": "code",
      "execution_count": 4,
      "metadata": {
        "id": "G6ie3U0btbx1"
      },
      "outputs": [],
      "source": [
        "# 5. get_page\n",
        "logging.basicConfig(level=logging.DEBUG, format=\"%(message)s\")\n",
        "\n",
        "def get_page(url, session):\n",
        "  #response = requests.get(url, headers={'User-Agent': 'Chrome/97.0.4692.71'})\n",
        "  try:\n",
        "    response = session.get(url, headers={'User-Agent': 'Chrome/97.0.4692.71'})\n",
        "  except: # requests.exceptions.ChunkedEncodingError:\n",
        "    time.sleep(0.5)\n",
        "    session = requests.Session()\n",
        "    response = session.get(url, headers={'User-Agent': 'Chrome/97.0.4692.71'})\n",
        "\n",
        "  try:\n",
        "    response.raise_for_status()\n",
        "  except requests.exceptions.HTTPError: # for correction\n",
        "    sys.exit(print('HTTPError: ' + str(url)))\n",
        "\n",
        "  bs_page = BeautifulSoup(response.text, 'html.parser')\n",
        "  return bs_page"
      ]
    },
    {
      "cell_type": "markdown",
      "metadata": {
        "id": "dedjmUVTtqCj"
      },
      "source": [
        "### get next pages links list"
      ]
    },
    {
      "cell_type": "code",
      "execution_count": 5,
      "metadata": {
        "id": "hn2MJztjtfDH"
      },
      "outputs": [],
      "source": [
        "# 6. get next pages links list\n",
        "def get_next_page_list(url, page):\n",
        "  try:\n",
        "    last_page_data = page.find('main').find_all('nav', class_='Box-sc-15se88d-0 Text-sc-18gcpao-0 ibHUpM gzwvJD')[0].find_all('a')[-2]\n",
        "    last_page = last_page_data.get_text()\n",
        "    page_link = last_page_data.get('href')[:-len(last_page)]\n",
        "    next_page_link_list_new = [url + page_link + str(p) for p in range(2, int(last_page)+1)]\n",
        "  except:\n",
        "    next_page_link_list_new = []\n",
        "\n",
        "  return next_page_link_list_new"
      ]
    },
    {
      "cell_type": "markdown",
      "metadata": {
        "id": "mmKRuBU4ts7Z"
      },
      "source": [
        "### get data from pages"
      ]
    },
    {
      "cell_type": "code",
      "execution_count": 6,
      "metadata": {
        "id": "ZEIoSftftVfS"
      },
      "outputs": [],
      "source": [
        "# 7. get data from pages\n",
        "def get_page_data(page):\n",
        "  code_block = page.find('main').find_all('div', class_='ArtworkGrid-sc-1jsqquq-0 djwrUe')\n",
        "  try:\n",
        "    object_block = code_block[0].find_all('div', relay='[object Object]')\n",
        "  \n",
        "    # for the beggining into a DataFrame\n",
        "    artsy_id_list = [obj.get('data-id') for obj in object_block]\n",
        "    imgage_list = [obj.find_all('a')[0].find('img').get('src') for obj in object_block]\n",
        "    artist_list = [obj.find_all('a')[1].find_all('div')[0].get_text() for obj in object_block]\n",
        "  \n",
        "    gallery_list = []\n",
        "    for obj in object_block:\n",
        "      try:\n",
        "        gallery_list.append(obj.find_all('a')[1].find('div', class_='Box-sc-15se88d-0 Text-sc-18gcpao-0 caIGcn hENCPo').get_text())\n",
        "      except:\n",
        "        gallery_list.append(np.nan)\n",
        "  \n",
        "    price_list = []\n",
        "    for obj in object_block:\n",
        "      try:\n",
        "        price_list.append(obj.find_all('a')[1].find('div', class_='Box-sc-15se88d-0 Text-sc-18gcpao-0 eXbAnU jkuGdd').get_text())\n",
        "      except:\n",
        "        price_list.append(np.nan)\n",
        "  \n",
        "    # can be no year info !!!\n",
        "    name_list = []\n",
        "    year_list = []\n",
        "    for obj in object_block:\n",
        "      text = obj.find_all('a')[1].find('div', class_='Box-sc-15se88d-0 Text-sc-18gcpao-0 caIGcn kySEpG').get_text()\n",
        "      name = obj.find_all('a')[1].find('div', class_='Box-sc-15se88d-0 Text-sc-18gcpao-0 caIGcn kySEpG').find('i').get_text()\n",
        "      year = text.replace(name, '').replace(', ', '')\n",
        "      if len(year)==0:\n",
        "        year = np.nan\n",
        "      name_list.append(name)\n",
        "      year_list.append(year)\n",
        "\n",
        "    df_data_new = pd.DataFrame({'artsy_id': artsy_id_list,\n",
        "                                'name': name_list, \n",
        "                                'link': imgage_list, \n",
        "                                'year': year_list,\n",
        "                                'artist': artist_list,\n",
        "                                'gallery': gallery_list,\n",
        "                                'price': price_list\n",
        "                                })\n",
        "  except:\n",
        "    df_data_new = pd.DataFrame({'artsy_id': np.nan,\n",
        "                                'name': np.nan, \n",
        "                                'link': np.nan, \n",
        "                                'year': np.nan,\n",
        "                                'artist': np.nan,\n",
        "                                'gallery': np.nan,\n",
        "                                'price': np.nan\n",
        "                                }, index=[0])\n",
        "  \n",
        "  return df_data_new"
      ]
    },
    {
      "cell_type": "markdown",
      "metadata": {
        "id": "hJ8DW26UuEs_"
      },
      "source": [
        "### get category data into df - aggregator"
      ]
    },
    {
      "cell_type": "code",
      "execution_count": 7,
      "metadata": {
        "id": "LZPhJlWNuBZp"
      },
      "outputs": [],
      "source": [
        "# Function aggregator\n",
        "# 8. Get the all category data into DataFrame\n",
        "def get_df_data(df_input, genes_links_list, genes_ids_list, cat):\n",
        "  start_time = time.time()\n",
        "  print(datetime.now().time())\n",
        "  df_output = df_input.copy()\n",
        "  df_output = df_output[0:0]\n",
        "\n",
        "  for link in genes_links_list:\n",
        "    session = requests.Session()\n",
        "    total_link = url_add + link\n",
        "    print('Parsing of gene', genes_ids_list[genes_links_list.index(link)], total_link, 'has started')\n",
        "    # 5. get_page\n",
        "    gene_page = get_page(total_link, session)\n",
        "    #           get_page(url, session) -> \n",
        "    # -> bs_page\n",
        "    \n",
        "    # 6. get next pages links list\n",
        "    next_page_link_list = get_next_page_list(url_add, gene_page)\n",
        "    #                     get_next_page_list(url, page) -> \n",
        "    # -> next_page_link_list_new\n",
        "    print(len(next_page_link_list)+1, 'pages for parsing')\n",
        "\n",
        "    # 7. get data from pages\n",
        "    df_data = get_page_data(gene_page)\n",
        "    #         get_page_data(page) -> \n",
        "    # -> df_data_new\n",
        "    df_data['gene_id'] = genes_ids_list[genes_links_list.index(link)]\n",
        "    df_data['category_id'] = cat\n",
        "    df_data['parsing_date'] = datetime.now().date().strftime('%Y-%m-%d')\n",
        "    df_data['updating_date'] = datetime.now().date().strftime('%Y-%m-%d')\n",
        "\n",
        "    df_output = pd.concat([df_output, df_data])\n",
        "\n",
        "    # Get data from next pages\n",
        "    if len(next_page_link_list) > 0:\n",
        "      for page_link in next_page_link_list:\n",
        "        # 5. get_page\n",
        "        gene_page = get_page(page_link, session)\n",
        "        #           get_page(url, session) -> \n",
        "        # -> bs_page\n",
        "\n",
        "        # 7. get data from pages\n",
        "        df_data = get_page_data(gene_page)\n",
        "        #         get_page_data(page) -> \n",
        "        # -> df_data_new\n",
        "        df_data['gene_id'] = genes_ids_list[genes_links_list.index(link)]\n",
        "        df_data['category_id'] = cat\n",
        "        df_data['parsing_date'] = datetime.now().date().strftime('%Y-%m-%d')\n",
        "        df_data['updating_date'] = datetime.now().date().strftime('%Y-%m-%d')\n",
        "\n",
        "        df_output = pd.concat([df_output, df_data])\n",
        "      \n",
        "    print('Parsing of gene', genes_ids_list[genes_links_list.index(link)], total_link, 'has finished')\n",
        "    print((time.time() - start_time), 'seconds have passed')\n",
        "    print(datetime.now().time())\n",
        "    print('')\n",
        "    time.sleep(0.5)\n",
        "\n",
        "  return df_output"
      ]
    },
    {
      "cell_type": "code",
      "execution_count": 8,
      "metadata": {
        "id": "o90bUIpx-BtS"
      },
      "outputs": [],
      "source": [
        "# Function aggregator\n",
        "# 8.1 Get the first pages category data into DataFrame\n",
        "def get_df_data_add_up(df_input, genes_links_list, genes_ids_list, cat):\n",
        "  start_time = time.time()\n",
        "  print(datetime.now().time())\n",
        "  df_output = df_input.copy()\n",
        "  df_output['pages_count'] = np.nan\n",
        "  df_output['second_page_link'] = np.nan\n",
        "  df_output = df_output[0:0]\n",
        "\n",
        "  for link in genes_links_list:\n",
        "    session = requests.Session()\n",
        "    total_link = url_add + link\n",
        "    print('Parsing of gene', genes_ids_list[genes_links_list.index(link)], total_link, 'has started')\n",
        "    # 5. get_page\n",
        "    gene_page = get_page(total_link, session)\n",
        "    #           get_page(url, session) -> \n",
        "    # -> bs_page\n",
        "    \n",
        "    # 6. get next pages links list\n",
        "    next_page_link_list = get_next_page_list(url_add, gene_page)\n",
        "    #                     get_next_page_list(url, page) -> \n",
        "    # -> next_page_link_list_new\n",
        "    print(len(next_page_link_list)+1, 'pages for parsing')\n",
        "\n",
        "    # 7. get data from pages\n",
        "    df_data = get_page_data(gene_page)\n",
        "    #         get_page_data(page) -> \n",
        "    # -> df_data_new\n",
        "    df_data['gene_id'] = genes_ids_list[genes_links_list.index(link)]\n",
        "    df_data['category_id'] = cat\n",
        "    df_data['parsing_date'] = datetime.now().date().strftime('%Y-%m-%d')\n",
        "    df_data['updating_date'] = datetime.now().date().strftime('%Y-%m-%d')\n",
        "    df_data['pages_count'] = len(next_page_link_list)+1\n",
        "    if len(next_page_link_list) > 0:\n",
        "      df_data['second_page_link'] = next_page_link_list[0]\n",
        "    else:\n",
        "      df_data['second_page_link'] = np.nan\n",
        "\n",
        "    df_output = pd.concat([df_output, df_data])\n",
        "      \n",
        "    print('Parsing of gene', genes_ids_list[genes_links_list.index(link)], total_link, 'has finished')\n",
        "    print((time.time() - start_time), 'seconds have passed')\n",
        "    print(datetime.now().time())\n",
        "    print('')\n",
        "    time.sleep(0.5)\n",
        "\n",
        "  return df_output"
      ]
    },
    {
      "cell_type": "markdown",
      "metadata": {
        "id": "ysydU0bctwHa"
      },
      "source": [
        "### correct image link"
      ]
    },
    {
      "cell_type": "code",
      "execution_count": 9,
      "metadata": {
        "id": "vRxr-3Ynti87"
      },
      "outputs": [],
      "source": [
        "# 9. correct image link\n",
        "def img_link_corr(img):\n",
        "  parts = img.split('.jpg')[0].replace('?', '/').replace('%2F', '/').split('/')\n",
        "  img_new = parts[0] + '//' + parts[5] + '/' + parts[6] + '/' + parts[7]  + '.jpg'\n",
        "  return img_new"
      ]
    },
    {
      "cell_type": "markdown",
      "metadata": {
        "id": "EIMfFZTJv9Fs"
      },
      "source": [
        "### filtering"
      ]
    },
    {
      "cell_type": "code",
      "execution_count": 10,
      "metadata": {
        "id": "b89bkTcxv7bk"
      },
      "outputs": [],
      "source": [
        "# 10. Filtering\n",
        "def get_cat_id(cat):\n",
        "  return cat\n",
        "\n",
        "def gene_links_samples(gen_key):\n",
        "  cat_id = get_cat_id(cat)\n",
        "  return genes_dict[gen_key]['category_id'] == cat_id"
      ]
    },
    {
      "cell_type": "markdown",
      "metadata": {
        "id": "3uYpPtclNOAi"
      },
      "source": [
        "# Gens dict"
      ]
    },
    {
      "cell_type": "code",
      "execution_count": null,
      "metadata": {
        "id": "tf33GQTNESnB"
      },
      "outputs": [],
      "source": [
        "url = 'https://www.artsy.net/categories'"
      ]
    },
    {
      "cell_type": "code",
      "execution_count": null,
      "metadata": {
        "colab": {
          "base_uri": "https://localhost:8080/",
          "height": 35
        },
        "id": "enUq0vwdEChn",
        "outputId": "e127324f-5db2-4f2a-df64-b79e4d1e0672"
      },
      "outputs": [
        {
          "data": {
            "application/vnd.google.colaboratory.intrinsic+json": {
              "type": "string"
            },
            "text/plain": [
              "'Artsy — Discover, Buy, and Sell Fine Art'"
            ]
          },
          "execution_count": 16,
          "metadata": {},
          "output_type": "execute_result"
        }
      ],
      "source": [
        "response = requests.get(url, headers={'User-Agent': 'Chrome/97.0.4692.71'})\n",
        "genome_page = BeautifulSoup(response.text, 'html.parser')\n",
        "genome_page.title.string"
      ]
    },
    {
      "cell_type": "markdown",
      "metadata": {
        "id": "znvj69nSy9lf"
      },
      "source": [
        "## categories_dict"
      ]
    },
    {
      "cell_type": "code",
      "execution_count": null,
      "metadata": {
        "colab": {
          "base_uri": "https://localhost:8080/"
        },
        "id": "bGokS7wPwz38",
        "outputId": "f5ea81f7-25c3-4cc4-b655-7466fe55ebca"
      },
      "outputs": [
        {
          "name": "stdout",
          "output_type": "stream",
          "text": [
            "Confirm the categories_dict re/seting (y/n)y\n",
            "categories_dict has been re/set 2022-03-30 06:01\n",
            "dictionary's length is - 0\n"
          ]
        }
      ],
      "source": [
        "# !!!!! For the first time !!!!!\n",
        "confirmation = input('Confirm the categories_dict re/seting (y/n)')\n",
        "if confirmation == 'y':\n",
        "  categories_dict = {}\n",
        "  print('categories_dict has been re/set {}'.format(datetime.now().strftime('%Y-%m-%d %H:%M')))\n",
        "  print(\"dictionary's length is - {}\".format(len(categories_dict)))\n",
        "else:\n",
        "  print('nothing has happened')"
      ]
    },
    {
      "cell_type": "code",
      "execution_count": null,
      "metadata": {
        "colab": {
          "base_uri": "https://localhost:8080/"
        },
        "id": "lVhwgRuzx903",
        "outputId": "fd6ac994-641b-4964-e367-76be4589bb5c"
      },
      "outputs": [
        {
          "name": "stdout",
          "output_type": "stream",
          "text": [
            "Confirm the categories_dict opening (y/n)n\n",
            "nothing has happened\n"
          ]
        }
      ],
      "source": [
        "# !!!!! All next times !!!!!\n",
        "confirmation = input('Confirm the categories_dict opening (y/n)')\n",
        "if confirmation == 'y':\n",
        "  categories_dict = open_dict(cat_dict) # 2. Open json dict\n",
        "  print('categories_dict has been opened {}'.format(datetime.now().strftime('%Y-%m-%d %H:%M')))\n",
        "  print(\"dictionary's length is - {}\".format(len(categories_dict)))\n",
        "else:\n",
        "  print('nothing has happened')"
      ]
    },
    {
      "cell_type": "code",
      "execution_count": null,
      "metadata": {
        "id": "MUtf4Api5FG9"
      },
      "outputs": [],
      "source": [
        ""
      ]
    },
    {
      "cell_type": "code",
      "execution_count": null,
      "metadata": {
        "colab": {
          "base_uri": "https://localhost:8080/"
        },
        "id": "cLtk03r2WvSV",
        "outputId": "539ee8d4-6436-4e2e-e693-cb4e09fabb2d"
      },
      "outputs": [
        {
          "name": "stdout",
          "output_type": "stream",
          "text": [
            "New key has been added - artistic_disciplines\n",
            "New key has been added - subject_matter\n",
            "New key has been added - styles_and_movements\n",
            "New key has been added - design_movements\n",
            "New key has been added - visual_qualities\n",
            "New key has been added - medium_and_techniques\n",
            "New key has been added - time_periods\n",
            "New key has been added - geographic_regions\n",
            "New key has been added - materials\n",
            "New key has been added - design_concepts_and_techniques\n",
            "New key has been added - cultural_and_religious_styles\n",
            "New key has been added - furniture_and_lighting\n",
            "New key has been added - textiles\n",
            "New key has been added - jewelry_and_fashion_object_types\n",
            "New key has been added - tableware_vessels_and_objects\n",
            "New key has been added - antiquities_artifacts_and_religious_objects\n"
          ]
        }
      ],
      "source": [
        "categories_block = genome_page.find('div', class_='sticky-inner-wrapper').find_all('div', class_='Box-sc-15se88d-0 Flex-cw39ct-0 elJsUD')\n",
        "\n",
        "#categories_dict = {'artistic_disciplines': {'id': '02', 'name': 'Artistic Disciplines', 'link': 'jump--artistic-disciplines'}}\n",
        "id = len(categories_dict) + 1\n",
        "for cat in categories_block:\n",
        "  key = cat.find('a').get('href').replace('#jump--', '').replace('-', '_')\n",
        "  if key not in categories_dict.keys():\n",
        "    categories_dict.update({key: {'id': str(id) if len(str(id))>1 else '0'+str(id), 'name': cat.get_text(), 'link': cat.find('a').get('href').replace('#', ''), 'genes_id': [], 'parsing_date': datetime.now().date().strftime('%Y-%m-%d'), 'updating_date': datetime.now().date().strftime('%Y-%m-%d')}})\n",
        "    id += 1\n",
        "    print('New key has been added - {}'.format(key))\n",
        "  else:\n",
        "    if categories_dict[key]['link'] != cat.find('a').get('href').replace('#', '') or categories_dict[key]['name'] != cat.get_text():\n",
        "      print('an Old name - {}\\nor an Old link - {}'.format(categories_dict[key]['name'], categories_dict[key]['link']))\n",
        "      categories_dict[key].update({'link': cat.find('a').get('href').replace('#', '')})\n",
        "      categories_dict[key].update({'name': cat.get_text()})\n",
        "      categories_dict[key].update({'updating_date': datetime.now().date().strftime('%Y-%m-%d')})\n",
        "      print('has been updated with \\na New name - {}\\nor a New link - {}'.format(categories_dict[key]['name'], categories_dict[key]['link']))\n",
        "      print('')"
      ]
    },
    {
      "cell_type": "code",
      "execution_count": null,
      "metadata": {
        "colab": {
          "base_uri": "https://localhost:8080/"
        },
        "id": "FQFLsPV5IIe8",
        "outputId": "547723fd-0ef9-4aab-e8e5-73577304e236"
      },
      "outputs": [
        {
          "data": {
            "text/plain": [
              "16"
            ]
          },
          "execution_count": 47,
          "metadata": {},
          "output_type": "execute_result"
        }
      ],
      "source": [
        "len(categories_dict)"
      ]
    },
    {
      "cell_type": "code",
      "execution_count": null,
      "metadata": {
        "colab": {
          "base_uri": "https://localhost:8080/"
        },
        "id": "tQTfZKiFarSd",
        "outputId": "9ffb5270-6a52-4931-8cc1-dcf1e1100171"
      },
      "outputs": [
        {
          "data": {
            "text/plain": [
              "{'genes_id': [],\n",
              " 'id': '01',\n",
              " 'link': 'jump--artistic-disciplines',\n",
              " 'name': 'Artistic Disciplines',\n",
              " 'parsing_date': '2022-03-30',\n",
              " 'updating_date': '2022-03-30'}"
            ]
          },
          "execution_count": 48,
          "metadata": {},
          "output_type": "execute_result"
        }
      ],
      "source": [
        "categories_dict['artistic_disciplines']"
      ]
    },
    {
      "cell_type": "code",
      "execution_count": null,
      "metadata": {
        "colab": {
          "base_uri": "https://localhost:8080/"
        },
        "id": "Ew9WHJYykmxf",
        "outputId": "42563654-434d-4008-c9b1-d64d586e0398"
      },
      "outputs": [
        {
          "name": "stdout",
          "output_type": "stream",
          "text": [
            "Confirm the categories_dict saving (y/n)y\n",
            "categories_dict has been saved 2022-03-30 06:02\n",
            "dictionary's length is - 16\n"
          ]
        }
      ],
      "source": [
        "confirmation = input('Confirm the categories_dict saving (y/n)')\n",
        "if confirmation == 'y':\n",
        "  save_dict(categories_dict, cat_dict) # 1. Save json dict\n",
        "  print('categories_dict has been saved {}'.format(datetime.now().strftime('%Y-%m-%d %H:%M')))\n",
        "  print(\"dictionary's length is - {}\".format(len(categories_dict)))\n",
        "else:\n",
        "  print('nothing has happened')"
      ]
    },
    {
      "cell_type": "code",
      "execution_count": null,
      "metadata": {
        "id": "w7iF2sL-4fG_"
      },
      "outputs": [],
      "source": [
        ""
      ]
    },
    {
      "cell_type": "markdown",
      "metadata": {
        "id": "Jm2PBAgezApk"
      },
      "source": [
        "## genes_dict"
      ]
    },
    {
      "cell_type": "code",
      "execution_count": null,
      "metadata": {
        "colab": {
          "base_uri": "https://localhost:8080/"
        },
        "id": "povm1Btb7Y1l",
        "outputId": "fb872936-d8cd-4c96-9319-40dac9dc62a8"
      },
      "outputs": [
        {
          "name": "stdout",
          "output_type": "stream",
          "text": [
            "Confirm the genes_dict re/seting (y/n)y\n",
            "genes_dict was re/set\n"
          ]
        }
      ],
      "source": [
        "# !!!!! For the first time !!!!!\n",
        "confirmation = input('Confirm the genes_dict re/seting (y/n)')\n",
        "if confirmation == 'y':\n",
        "  genes_dict = {}\n",
        "  print('genes_dict has been re/set {}'.format(datetime.now().strftime('%Y-%m-%d %H:%M')))\n",
        "  print(\"dictionary's length is - {}\".format(len(genes_dict)))\n",
        "else:\n",
        "  print('nothing has happened')"
      ]
    },
    {
      "cell_type": "code",
      "execution_count": null,
      "metadata": {
        "colab": {
          "base_uri": "https://localhost:8080/"
        },
        "id": "OFYiTBZe7i7b",
        "outputId": "3e81f190-1223-483e-ff58-29192ac411a2"
      },
      "outputs": [
        {
          "name": "stdout",
          "output_type": "stream",
          "text": [
            "Confirm the genes_dict opening (y/n)y\n",
            "genes_dict has been opened 2022-03-30 04:12\n",
            "dictionary's length is - 1032\n"
          ]
        }
      ],
      "source": [
        "# !!!!! All next times !!!!!\n",
        "confirmation = input('Confirm the genes_dict opening (y/n)')\n",
        "if confirmation == 'y':\n",
        "  genes_dict = open_dict(gen_dict) # 2. Open json dict\n",
        "  print('genes_dict has been opened {}'.format(datetime.now().strftime('%Y-%m-%d %H:%M')))\n",
        "  print(\"dictionary's length is - {}\".format(len(genes_dict)))\n",
        "else:\n",
        "  print('nothing has happened')"
      ]
    },
    {
      "cell_type": "code",
      "execution_count": null,
      "metadata": {
        "colab": {
          "base_uri": "https://localhost:8080/"
        },
        "id": "Kv2YqRqEPxZe",
        "outputId": "97483c49-47fe-43bd-d4bb-2205ad5f9309"
      },
      "outputs": [
        {
          "name": "stdout",
          "output_type": "stream",
          "text": [
            "3\n",
            "[7, 213, 252, 26, 75, 175, 20, 68, 39, 22, 69, 27, 6, 7, 19, 7]\n"
          ]
        }
      ],
      "source": [
        "# !!!!! All next times !!!!!\n",
        "# Determining the count of genes in the category for creating an id (using () instead of [] is also possible)\n",
        "count_list = [sum([1 for v in genes_dict.values() if v['category_id']==value['id']]) for value in categories_dict.values()]\n",
        "id_len = len(str(max(count_list)))\n",
        "print(id_len)\n",
        "print(count_list)"
      ]
    },
    {
      "cell_type": "code",
      "execution_count": null,
      "metadata": {
        "id": "UTN-UZk2lqs1"
      },
      "outputs": [],
      "source": [
        "#genes_dict = {'architecture_1': {'id': '0201', 'name': 'Architecture', 'link': '/gene/architecture-1', 'category_id': '02'}}\n",
        "# !!! working link is 'https://www.artsy.net' + link !!!\n",
        "for value in categories_dict.values():\n",
        "  category = genome_page.find('div', id=value['link']).find('h2').text\n",
        "  if category == value['name']:\n",
        "    count = sum([1 for v in genes_dict.values() if v['category_id'] == value['id']])\n",
        "    id = count+1\n",
        "    gens_block = genome_page.find('div', id=value['link']).find_all('a')\n",
        "    for a in gens_block:\n",
        "      gen_key = a.get('href').replace('/gene/', '').replace('-', '_')\n",
        "      if gen_key not in genes_dict.keys():\n",
        "        genes_dict.update({gen_key: {'id': value['id']+('0'*(id_len-len(str(id)))+str(id)), 'name': a.get_text(), 'link': a.get('href'), 'category_id': value['id'], 'artsy_id': [], 'artist_id': [], 'parsing_date': datetime.now().date().strftime('%Y-%m-%d'), 'updating_date': datetime.now().date().strftime('%Y-%m-%d')}})\n",
        "        id += 1\n",
        "        print('New key has been added - {}'.format(gen_key)) # !!! Not for the first time\n",
        "      else:\n",
        "        if genes_dict[gen_key]['link'] != a.get('href') or genes_dict[gen_key]['name'] != a.get_text():\n",
        "          print('an Old name - {}\\nor an Old link - {}'.format(genes_dict[gen_key]['name'], genes_dict[gen_key]['link']))\n",
        "          genes_dict[gen_key].update({'link': a.get('href')})\n",
        "          genes_dict[gen_key].update({'name': a.get_text()})\n",
        "          genes_dict[gen_key].update({'updating_date': datetime.now().date().strftime('%Y-%m-%d')})\n",
        "          print('has been updated with \\na New name - {}\\nor a New link - {}'.format(genes_dict[gen_key]['name'], genes_dict[gen_key]['link']))\n",
        "          print('')\n",
        "  else:\n",
        "    print(\"Category name doesn't match\")"
      ]
    },
    {
      "cell_type": "code",
      "execution_count": null,
      "metadata": {
        "colab": {
          "base_uri": "https://localhost:8080/"
        },
        "id": "aGACmhpOTRQp",
        "outputId": "9ef9b0cf-0702-45ea-bbd9-8bd97481c3b6"
      },
      "outputs": [
        {
          "data": {
            "text/plain": [
              "1032"
            ]
          },
          "execution_count": 23,
          "metadata": {},
          "output_type": "execute_result"
        }
      ],
      "source": [
        "len(genes_dict)"
      ]
    },
    {
      "cell_type": "code",
      "execution_count": null,
      "metadata": {
        "colab": {
          "base_uri": "https://localhost:8080/"
        },
        "id": "766Hq6qhUQ5Z",
        "outputId": "53cf7b2a-255a-4635-9d98-bfc4840c701b"
      },
      "outputs": [
        {
          "name": "stdout",
          "output_type": "stream",
          "text": [
            "{'id': '01001', 'name': 'Architecture', 'link': '/gene/architecture-1', 'category_id': '01', 'parsing_date': '2022-03-29', 'updating_date': '2022-03-29'}\n",
            "{'id': '01002', 'name': 'Design', 'link': '/gene/design', 'category_id': '01', 'parsing_date': '2022-03-29', 'updating_date': '2022-03-29'}\n",
            "{'id': '01003', 'name': 'Fashion Design and Wearable Art', 'link': '/gene/fashion-design-and-wearable-art', 'category_id': '01', 'parsing_date': '2022-03-29', 'updating_date': '2022-03-29'}\n",
            "{'id': '01004', 'name': 'Graphic Design', 'link': '/gene/graphic-design', 'category_id': '01', 'parsing_date': '2022-03-29', 'updating_date': '2022-03-29'}\n",
            "{'id': '01005', 'name': 'Jewelry', 'link': '/gene/jewelry', 'category_id': '01', 'parsing_date': '2022-03-29', 'updating_date': '2022-03-29'}\n",
            "{'id': '01006', 'name': 'Music', 'link': '/gene/music', 'category_id': '01', 'parsing_date': '2022-03-29', 'updating_date': '2022-03-29'}\n",
            "{'id': '01007', 'name': 'Written Word', 'link': '/gene/written-word', 'category_id': '01', 'parsing_date': '2022-03-29', 'updating_date': '2022-03-29'}\n"
          ]
        }
      ],
      "source": [
        "for value in genes_dict.values():\n",
        "  if value['category_id'] == '01': # '02'\n",
        "    print(value)"
      ]
    },
    {
      "cell_type": "code",
      "execution_count": null,
      "metadata": {
        "colab": {
          "base_uri": "https://localhost:8080/"
        },
        "id": "O4VVsg0jQ3wq",
        "outputId": "3b2aff99-a865-4011-dbfe-efaa68fc411a"
      },
      "outputs": [
        {
          "name": "stdout",
          "output_type": "stream",
          "text": [
            "Confirm the genes_dict saving (y/n)y\n",
            "genes_dict was saved 2022-03-30 04:16\n",
            "dictionary's length is - 1032\n"
          ]
        }
      ],
      "source": [
        "confirmation = input('Confirm the genes_dict saving (y/n)')\n",
        "if confirmation == 'y':\n",
        "  save_dict(genes_dict, gen_dict) # 1. Save json dict\n",
        "  print('genes_dict was saved {}'.format(datetime.now().strftime('%Y-%m-%d %H:%M')))\n",
        "  print(\"dictionary's length is - {}\".format(len(genes_dict)))\n",
        "else:\n",
        "  print('nothing has happened')"
      ]
    },
    {
      "cell_type": "code",
      "execution_count": null,
      "metadata": {
        "id": "3wqcJ7vggPuj"
      },
      "outputs": [],
      "source": [
        ""
      ]
    },
    {
      "cell_type": "markdown",
      "metadata": {
        "id": "ZQ7z40v6ZUZV"
      },
      "source": [
        "### addition/updating lists of genes' id into the categories_dict"
      ]
    },
    {
      "cell_type": "code",
      "execution_count": null,
      "metadata": {
        "colab": {
          "base_uri": "https://localhost:8080/"
        },
        "id": "VzFmur9GT7zI",
        "outputId": "cae023ea-6aeb-4d19-fd06-d88f0b8eeb3e"
      },
      "outputs": [
        {
          "data": {
            "text/plain": [
              "16"
            ]
          },
          "execution_count": 37,
          "metadata": {},
          "output_type": "execute_result"
        }
      ],
      "source": [
        "# Dict of genes' id for the categories_dict\n",
        "#cat_gen_id_dict = {}\n",
        "#for value in categories_dict.values():\n",
        "#  gen_id_list = [v['id'] for v in genes_dict.values() if v['category_id'] == value['id']]\n",
        "#  cat_gen_id_dict.update({value['id']: gen_id_list})\n",
        "\n",
        "#len(cat_gen_id_dict)"
      ]
    },
    {
      "cell_type": "code",
      "execution_count": null,
      "metadata": {
        "colab": {
          "base_uri": "https://localhost:8080/"
        },
        "id": "qoiKqARCZtIA",
        "outputId": "645c20d9-7324-401e-9b74-926ec8cdd4b4"
      },
      "outputs": [
        {
          "data": {
            "text/plain": [
              "['01001', '01002', '01003', '01004', '01005', '01006', '01007']"
            ]
          },
          "execution_count": 41,
          "metadata": {},
          "output_type": "execute_result"
        }
      ],
      "source": [
        "#cat_gen_id_dict['01']"
      ]
    },
    {
      "cell_type": "code",
      "execution_count": null,
      "metadata": {
        "colab": {
          "base_uri": "https://localhost:8080/"
        },
        "id": "NCtndkldXm0x",
        "outputId": "decc234f-b2b8-441c-98cd-01066992c7f4"
      },
      "outputs": [
        {
          "data": {
            "text/plain": [
              "16"
            ]
          },
          "execution_count": 50,
          "metadata": {},
          "output_type": "execute_result"
        }
      ],
      "source": [
        "#for k, v in categories_dict.items():\n",
        "#  for key, value in cat_gen_id_dict.items():\n",
        "#    if v['id'] == key and categories_dict[k]['genes_id'] != value:\n",
        "#      categories_dict[k].update({'genes_id': value})\n",
        "#      categories_dict[k].update({'updating_date': datetime.now().date().strftime('%Y-%m-%d')})\n",
        "\n",
        "#len(categories_dict)"
      ]
    },
    {
      "cell_type": "code",
      "execution_count": null,
      "metadata": {
        "id": "JCrTxTIOPw6v"
      },
      "outputs": [],
      "source": [
        "for key, value in categories_dict.items():\n",
        "  gen_id_list = [v['id'] for v in genes_dict.values() if v['category_id'] == value['id']]\n",
        "  if categories_dict[key]['genes_id'] != gen_id_list:\n",
        "      categories_dict[key].update({'genes_id': gen_id_list})\n",
        "      categories_dict[key].update({'updating_date': datetime.now().date().strftime('%Y-%m-%d')})\n",
        "\n",
        "len(categories_dict)"
      ]
    },
    {
      "cell_type": "code",
      "execution_count": null,
      "metadata": {
        "colab": {
          "base_uri": "https://localhost:8080/"
        },
        "id": "1I3VsNXiZfTu",
        "outputId": "27248a89-cecb-4605-a711-522ac8435517"
      },
      "outputs": [
        {
          "data": {
            "text/plain": [
              "{'genes_id': ['01001', '01002', '01003', '01004', '01005', '01006', '01007'],\n",
              " 'id': '01',\n",
              " 'link': 'jump--artistic-disciplines',\n",
              " 'name': 'Artistic Disciplines',\n",
              " 'parsing_date': '2022-03-30',\n",
              " 'updating_date': '2022-03-30'}"
            ]
          },
          "execution_count": 51,
          "metadata": {},
          "output_type": "execute_result"
        }
      ],
      "source": [
        "categories_dict['artistic_disciplines']"
      ]
    },
    {
      "cell_type": "code",
      "execution_count": null,
      "metadata": {
        "colab": {
          "base_uri": "https://localhost:8080/"
        },
        "id": "ahhVKxfGa4aW",
        "outputId": "e9d72f40-5bb8-439f-e464-57d4d4984c3d"
      },
      "outputs": [
        {
          "name": "stdout",
          "output_type": "stream",
          "text": [
            "Confirm the categories_dict saving (y/n)y\n",
            "categories_dict has been saved 2022-03-30 06:03\n",
            "dictionary's length is - 16\n"
          ]
        }
      ],
      "source": [
        "confirmation = input('Confirm the categories_dict saving (y/n)')\n",
        "if confirmation == 'y':\n",
        "  save_dict(categories_dict, cat_dict) # 1. Save json dict\n",
        "  print('categories_dict has been saved {}'.format(datetime.now().strftime('%Y-%m-%d %H:%M')))\n",
        "  print(\"dictionary's length is - {}\".format(len(categories_dict)))\n",
        "else:\n",
        "  print('nothing has happened')"
      ]
    },
    {
      "cell_type": "code",
      "execution_count": null,
      "metadata": {
        "id": "GsHU5oLb7y6Z"
      },
      "outputs": [],
      "source": [
        ""
      ]
    },
    {
      "cell_type": "markdown",
      "metadata": {
        "id": "z0B2vK1msJUl"
      },
      "source": [
        "# Artworks and Artists dicts"
      ]
    },
    {
      "cell_type": "markdown",
      "metadata": {
        "id": "QEjPQaFDQ7ep"
      },
      "source": [
        "## Filtering"
      ]
    },
    {
      "cell_type": "markdown",
      "metadata": {
        "id": "qWUpsl--TfJE"
      },
      "source": [
        "The fastest and simplest way to collect data is to go through the genes_dict and read data from a tape of objects like from a news feed. On a tape they have:\n",
        "- artist's name - to the artists_dict !!!\n",
        "- artwork name - to the artworks_dict\n",
        "- artwork year - to the artworks_dict\n",
        "- Galleries and Institutions name - to the galleries_dict !!!\n",
        "- price - to the artworks_dict\n",
        "- image link - to the artworks_dict\n",
        "\n",
        "That's anough for me.\n",
        "\n",
        "In parallel I'm going to collect artists_dict and galleries_dict.\n",
        "\n",
        "Artwork can belong to different genes, but I don't need this repetition in the artworks_dict. So I can't create a composed id for it (like gene id). Artwork id should be end-to-end.\n",
        "\n",
        "Seems like I should choose the most comprehensive category, collect its database, and then add to it only new information.\n",
        "\n",
        "But how much artworks are in Artsy database? Via their API I collected around 26 000 once."
      ]
    },
    {
      "cell_type": "code",
      "execution_count": null,
      "metadata": {
        "colab": {
          "base_uri": "https://localhost:8080/"
        },
        "id": "k0d7Q7RNSF_Y",
        "outputId": "b5dbf2d5-340e-4dec-daeb-868d0611ae9a"
      },
      "outputs": [
        {
          "name": "stdout",
          "output_type": "stream",
          "text": [
            "dictionary's length is - 16\n"
          ]
        }
      ],
      "source": [
        "categories_dict = open_dict(cat_dict, 'live') # 2. Open json dict\n",
        "print(\"dictionary's length is - {}\".format(len(categories_dict)))"
      ]
    },
    {
      "cell_type": "code",
      "execution_count": null,
      "metadata": {
        "colab": {
          "base_uri": "https://localhost:8080/"
        },
        "id": "P4akedsoR0WH",
        "outputId": "6d4d73fc-5455-4b9f-a7e4-50fd37ac9c6e"
      },
      "outputs": [
        {
          "name": "stdout",
          "output_type": "stream",
          "text": [
            "styles_and_movements -> id 03 -> genes count 252\n",
            "subject_matter -> id 02 -> genes count 213\n",
            "medium_and_techniques -> id 06 -> genes count 175\n",
            "visual_qualities -> id 05 -> genes count 75\n",
            "cultural_and_religious_styles -> id 11 -> genes count 69\n",
            "geographic_regions -> id 08 -> genes count 68\n",
            "materials -> id 09 -> genes count 39\n",
            "furniture_and_lighting -> id 12 -> genes count 27\n",
            "design_movements -> id 04 -> genes count 26\n",
            "design_concepts_and_techniques -> id 10 -> genes count 22\n",
            "time_periods -> id 07 -> genes count 20\n",
            "tableware_vessels_and_objects -> id 15 -> genes count 19\n",
            "artistic_disciplines -> id 01 -> genes count 7\n",
            "jewelry_and_fashion_object_types -> id 14 -> genes count 7\n",
            "antiquities_artifacts_and_religious_objects -> id 16 -> genes count 7\n",
            "textiles -> id 13 -> genes count 6\n"
          ]
        }
      ],
      "source": [
        "def by_value(item):\n",
        "  return len(item[1]['genes_id'])\n",
        "\n",
        "for k, v in sorted(categories_dict.items(), key=by_value, reverse=True):\n",
        "  print(k, '->', 'id', categories_dict[k]['id'], '->', 'genes count' , len(categories_dict[k]['genes_id']))"
      ]
    },
    {
      "cell_type": "markdown",
      "metadata": {
        "id": "7YSQdlZLSNbp"
      },
      "source": [
        "03 styles_and_movements looks like the the most comprehensive category.\n",
        "Next will be:\n",
        "- subject_matter -> 02\n",
        "- medium_and_techniques -> 06"
      ]
    },
    {
      "cell_type": "code",
      "execution_count": null,
      "metadata": {
        "colab": {
          "base_uri": "https://localhost:8080/"
        },
        "id": "tyg_GuCzRpBA",
        "outputId": "c05b899e-248e-4cef-bca9-408443b722c2"
      },
      "outputs": [
        {
          "name": "stdout",
          "output_type": "stream",
          "text": [
            "dictionary's length is - 1032\n"
          ]
        }
      ],
      "source": [
        "genes_dict = open_dict(gen_dict, 'live') # 2. Open json dict\n",
        "print(\"dictionary's length is - {}\".format(len(genes_dict)))"
      ]
    },
    {
      "cell_type": "code",
      "execution_count": 148,
      "metadata": {
        "colab": {
          "base_uri": "https://localhost:8080/"
        },
        "id": "lfLT9bhspyQE",
        "outputId": "407aa52f-ad3d-4fc3-a827-2e3866a06834"
      },
      "outputs": [
        {
          "output_type": "stream",
          "name": "stdout",
          "text": [
            "27\n",
            "27\n"
          ]
        }
      ],
      "source": [
        "cat = '12'\n",
        "#prefix = recently_added_pref\n",
        "#prefix = recently_updated_pref\n",
        "\n",
        "filtered_dict = {k: v for k, v in genes_dict.items() if v['category_id'] == cat}\n",
        "genes_links_list = [v['link'] for v in filtered_dict.values()]\n",
        "# for addition or updating\n",
        "#genes_links_list = [v['link']+prefix for v in filtered_dict.values()]\n",
        "genes_ids_list = [v['id'] for v in filtered_dict.values()]\n",
        "print(len(genes_links_list))\n",
        "print(len(genes_ids_list))"
      ]
    },
    {
      "cell_type": "markdown",
      "metadata": {
        "id": "M7nhhHq5TEd6"
      },
      "source": [
        "## Data collecting"
      ]
    },
    {
      "cell_type": "markdown",
      "metadata": {
        "id": "Af1lJnakJRda"
      },
      "source": [
        "### Parsing"
      ]
    },
    {
      "cell_type": "markdown",
      "metadata": {
        "id": "389pcvEa-usM"
      },
      "source": [
        "#### First collection\n",
        "- reparse categories: 12, 10 !!!"
      ]
    },
    {
      "cell_type": "code",
      "execution_count": 194,
      "metadata": {
        "colab": {
          "base_uri": "https://localhost:8080/"
        },
        "id": "o0ObYP8fgOXF",
        "outputId": "954bfdba-3f1e-4ab3-eba5-98427e0bf9c8"
      },
      "outputs": [
        {
          "output_type": "execute_result",
          "data": {
            "text/plain": [
              "2"
            ]
          },
          "metadata": {},
          "execution_count": 194
        }
      ],
      "source": [
        "len(genes_ids_list_er)"
      ]
    },
    {
      "cell_type": "code",
      "execution_count": 195,
      "metadata": {
        "id": "YsvD8bOVsp9b"
      },
      "outputs": [],
      "source": [
        "# too many genes -> let's collect by 50 at a time\n",
        "backup_names = []"
      ]
    },
    {
      "cell_type": "code",
      "execution_count": 196,
      "metadata": {
        "colab": {
          "base_uri": "https://localhost:8080/"
        },
        "id": "2i0QMy-SnpQN",
        "outputId": "2221cbaa-8ae4-4406-b169-d0b0dd8524f8"
      },
      "outputs": [
        {
          "output_type": "stream",
          "name": "stderr",
          "text": [
            "Starting new HTTPS connection (1): www.artsy.net:443\n"
          ]
        },
        {
          "output_type": "stream",
          "name": "stdout",
          "text": [
            "10:49:07.460917\n",
            "Parsing of gene 12014 https://www.artsy.net/gene/lighting has started\n"
          ]
        },
        {
          "output_type": "stream",
          "name": "stderr",
          "text": [
            "https://www.artsy.net:443 \"GET /gene/lighting HTTP/1.1\" 200 None\n"
          ]
        },
        {
          "output_type": "stream",
          "name": "stdout",
          "text": [
            "69 pages for parsing\n"
          ]
        },
        {
          "output_type": "stream",
          "name": "stderr",
          "text": [
            "https://www.artsy.net:443 \"GET /gene/lighting?page=2 HTTP/1.1\" 200 None\n",
            "https://www.artsy.net:443 \"GET /gene/lighting?page=3 HTTP/1.1\" 200 None\n",
            "https://www.artsy.net:443 \"GET /gene/lighting?page=4 HTTP/1.1\" 200 None\n",
            "https://www.artsy.net:443 \"GET /gene/lighting?page=5 HTTP/1.1\" 200 None\n",
            "https://www.artsy.net:443 \"GET /gene/lighting?page=6 HTTP/1.1\" 200 None\n",
            "https://www.artsy.net:443 \"GET /gene/lighting?page=7 HTTP/1.1\" 200 None\n",
            "https://www.artsy.net:443 \"GET /gene/lighting?page=8 HTTP/1.1\" 200 None\n",
            "https://www.artsy.net:443 \"GET /gene/lighting?page=9 HTTP/1.1\" 200 None\n",
            "https://www.artsy.net:443 \"GET /gene/lighting?page=10 HTTP/1.1\" 200 None\n",
            "https://www.artsy.net:443 \"GET /gene/lighting?page=11 HTTP/1.1\" 200 None\n",
            "https://www.artsy.net:443 \"GET /gene/lighting?page=12 HTTP/1.1\" 200 None\n",
            "https://www.artsy.net:443 \"GET /gene/lighting?page=13 HTTP/1.1\" 200 None\n",
            "https://www.artsy.net:443 \"GET /gene/lighting?page=14 HTTP/1.1\" 200 None\n",
            "https://www.artsy.net:443 \"GET /gene/lighting?page=15 HTTP/1.1\" 200 None\n",
            "https://www.artsy.net:443 \"GET /gene/lighting?page=16 HTTP/1.1\" 200 None\n",
            "https://www.artsy.net:443 \"GET /gene/lighting?page=17 HTTP/1.1\" 200 None\n",
            "https://www.artsy.net:443 \"GET /gene/lighting?page=18 HTTP/1.1\" 200 None\n",
            "https://www.artsy.net:443 \"GET /gene/lighting?page=19 HTTP/1.1\" 200 None\n",
            "https://www.artsy.net:443 \"GET /gene/lighting?page=20 HTTP/1.1\" 200 None\n",
            "https://www.artsy.net:443 \"GET /gene/lighting?page=21 HTTP/1.1\" 200 None\n",
            "https://www.artsy.net:443 \"GET /gene/lighting?page=22 HTTP/1.1\" 200 None\n",
            "https://www.artsy.net:443 \"GET /gene/lighting?page=23 HTTP/1.1\" 200 None\n",
            "https://www.artsy.net:443 \"GET /gene/lighting?page=24 HTTP/1.1\" 200 None\n",
            "https://www.artsy.net:443 \"GET /gene/lighting?page=25 HTTP/1.1\" 200 None\n",
            "https://www.artsy.net:443 \"GET /gene/lighting?page=26 HTTP/1.1\" 200 None\n",
            "https://www.artsy.net:443 \"GET /gene/lighting?page=27 HTTP/1.1\" 200 None\n",
            "https://www.artsy.net:443 \"GET /gene/lighting?page=28 HTTP/1.1\" 200 None\n",
            "https://www.artsy.net:443 \"GET /gene/lighting?page=29 HTTP/1.1\" 200 None\n",
            "https://www.artsy.net:443 \"GET /gene/lighting?page=30 HTTP/1.1\" 200 None\n",
            "https://www.artsy.net:443 \"GET /gene/lighting?page=31 HTTP/1.1\" 200 None\n",
            "https://www.artsy.net:443 \"GET /gene/lighting?page=32 HTTP/1.1\" 200 None\n",
            "https://www.artsy.net:443 \"GET /gene/lighting?page=33 HTTP/1.1\" 200 None\n",
            "https://www.artsy.net:443 \"GET /gene/lighting?page=34 HTTP/1.1\" 200 None\n",
            "https://www.artsy.net:443 \"GET /gene/lighting?page=35 HTTP/1.1\" 200 None\n",
            "https://www.artsy.net:443 \"GET /gene/lighting?page=36 HTTP/1.1\" 200 None\n",
            "https://www.artsy.net:443 \"GET /gene/lighting?page=37 HTTP/1.1\" 200 None\n",
            "https://www.artsy.net:443 \"GET /gene/lighting?page=38 HTTP/1.1\" 200 None\n",
            "https://www.artsy.net:443 \"GET /gene/lighting?page=39 HTTP/1.1\" 200 None\n",
            "https://www.artsy.net:443 \"GET /gene/lighting?page=40 HTTP/1.1\" 200 None\n",
            "https://www.artsy.net:443 \"GET /gene/lighting?page=41 HTTP/1.1\" 200 None\n",
            "https://www.artsy.net:443 \"GET /gene/lighting?page=42 HTTP/1.1\" 200 None\n",
            "https://www.artsy.net:443 \"GET /gene/lighting?page=43 HTTP/1.1\" 200 None\n",
            "https://www.artsy.net:443 \"GET /gene/lighting?page=44 HTTP/1.1\" 200 None\n",
            "https://www.artsy.net:443 \"GET /gene/lighting?page=45 HTTP/1.1\" 200 None\n",
            "https://www.artsy.net:443 \"GET /gene/lighting?page=46 HTTP/1.1\" 200 None\n",
            "https://www.artsy.net:443 \"GET /gene/lighting?page=47 HTTP/1.1\" 200 None\n",
            "https://www.artsy.net:443 \"GET /gene/lighting?page=48 HTTP/1.1\" 200 None\n",
            "https://www.artsy.net:443 \"GET /gene/lighting?page=49 HTTP/1.1\" 200 None\n",
            "https://www.artsy.net:443 \"GET /gene/lighting?page=50 HTTP/1.1\" 200 None\n",
            "https://www.artsy.net:443 \"GET /gene/lighting?page=51 HTTP/1.1\" 200 None\n",
            "https://www.artsy.net:443 \"GET /gene/lighting?page=52 HTTP/1.1\" 200 None\n",
            "https://www.artsy.net:443 \"GET /gene/lighting?page=53 HTTP/1.1\" 200 None\n",
            "https://www.artsy.net:443 \"GET /gene/lighting?page=54 HTTP/1.1\" 200 None\n",
            "https://www.artsy.net:443 \"GET /gene/lighting?page=55 HTTP/1.1\" 200 None\n",
            "https://www.artsy.net:443 \"GET /gene/lighting?page=56 HTTP/1.1\" 200 None\n",
            "https://www.artsy.net:443 \"GET /gene/lighting?page=57 HTTP/1.1\" 200 None\n",
            "https://www.artsy.net:443 \"GET /gene/lighting?page=58 HTTP/1.1\" 200 None\n",
            "https://www.artsy.net:443 \"GET /gene/lighting?page=59 HTTP/1.1\" 200 None\n",
            "https://www.artsy.net:443 \"GET /gene/lighting?page=60 HTTP/1.1\" 200 None\n",
            "https://www.artsy.net:443 \"GET /gene/lighting?page=61 HTTP/1.1\" 200 None\n",
            "https://www.artsy.net:443 \"GET /gene/lighting?page=62 HTTP/1.1\" 200 None\n",
            "https://www.artsy.net:443 \"GET /gene/lighting?page=63 HTTP/1.1\" 200 None\n",
            "https://www.artsy.net:443 \"GET /gene/lighting?page=64 HTTP/1.1\" 200 None\n",
            "https://www.artsy.net:443 \"GET /gene/lighting?page=65 HTTP/1.1\" 200 None\n",
            "https://www.artsy.net:443 \"GET /gene/lighting?page=66 HTTP/1.1\" 200 None\n",
            "https://www.artsy.net:443 \"GET /gene/lighting?page=67 HTTP/1.1\" 200 None\n",
            "https://www.artsy.net:443 \"GET /gene/lighting?page=68 HTTP/1.1\" 200 None\n",
            "https://www.artsy.net:443 \"GET /gene/lighting?page=69 HTTP/1.1\" 200 None\n"
          ]
        },
        {
          "output_type": "stream",
          "name": "stdout",
          "text": [
            "Parsing of gene 12014 https://www.artsy.net/gene/lighting has finished\n",
            "136.2954502105713 seconds have passed\n",
            "10:51:23.756482\n",
            "\n"
          ]
        },
        {
          "output_type": "stream",
          "name": "stderr",
          "text": [
            "Starting new HTTPS connection (1): www.artsy.net:443\n"
          ]
        },
        {
          "output_type": "stream",
          "name": "stdout",
          "text": [
            "Parsing of gene 12011 https://www.artsy.net/gene/dining-table has started\n"
          ]
        },
        {
          "output_type": "stream",
          "name": "stderr",
          "text": [
            "https://www.artsy.net:443 \"GET /gene/dining-table HTTP/1.1\" 200 None\n"
          ]
        },
        {
          "output_type": "stream",
          "name": "stdout",
          "text": [
            "11 pages for parsing\n"
          ]
        },
        {
          "output_type": "stream",
          "name": "stderr",
          "text": [
            "https://www.artsy.net:443 \"GET /gene/dining-table?page=2 HTTP/1.1\" 200 None\n",
            "https://www.artsy.net:443 \"GET /gene/dining-table?page=3 HTTP/1.1\" 200 None\n",
            "https://www.artsy.net:443 \"GET /gene/dining-table?page=4 HTTP/1.1\" 200 None\n",
            "https://www.artsy.net:443 \"GET /gene/dining-table?page=5 HTTP/1.1\" 200 None\n",
            "https://www.artsy.net:443 \"GET /gene/dining-table?page=6 HTTP/1.1\" 200 None\n",
            "https://www.artsy.net:443 \"GET /gene/dining-table?page=7 HTTP/1.1\" 200 None\n",
            "https://www.artsy.net:443 \"GET /gene/dining-table?page=8 HTTP/1.1\" 200 None\n",
            "https://www.artsy.net:443 \"GET /gene/dining-table?page=9 HTTP/1.1\" 200 None\n",
            "https://www.artsy.net:443 \"GET /gene/dining-table?page=10 HTTP/1.1\" 200 None\n",
            "https://www.artsy.net:443 \"GET /gene/dining-table?page=11 HTTP/1.1\" 200 None\n"
          ]
        },
        {
          "output_type": "stream",
          "name": "stdout",
          "text": [
            "Parsing of gene 12011 https://www.artsy.net/gene/dining-table has finished\n",
            "155.91847801208496 seconds have passed\n",
            "10:51:43.379939\n",
            "\n"
          ]
        }
      ],
      "source": [
        "df_temp_data_old = open_file_csv(temp_data, 'live') # 3. Open file.csv\n",
        "try:\n",
        "  # 8. Get the all category data into DataFrame    !!!!! [:] or _er         !!!!! [:] or _er \n",
        "  df_temp_data_new = get_df_data(df_temp_data_old, genes_links_list_er, genes_ids_list_er, cat)\n",
        "  #                  get_df_data(df_input, genes_links_list, genes_ids_list, cat) ->\n",
        "  # -> df_output\n",
        "except SystemExit:\n",
        "  pass\n",
        "\n",
        "save_df_file(df_temp_data_new, temp_data, 'live') # 4. Save df to csv file\n",
        "\n",
        "new_name_csv = temp_data.replace('.csv', '') + '_' + str(datetime.now()) + '.csv'\n",
        "backup_names.append(new_name_csv)\n",
        "save_df_file(df_temp_data_new, new_name_csv, 'backup') # 4. Save df to csv file"
      ]
    },
    {
      "cell_type": "markdown",
      "metadata": {
        "id": "APmezNDfdn-p"
      },
      "source": [
        "Saving blocks of 50 genes' data in separate files in beckup folder. Then we'll join them together and check if some pages have been missed during the parsing."
      ]
    },
    {
      "cell_type": "code",
      "execution_count": 197,
      "metadata": {
        "colab": {
          "base_uri": "https://localhost:8080/"
        },
        "id": "XXHf8iay8mED",
        "outputId": "0fd0f8c3-e742-450d-979b-2e6f3b6d220f"
      },
      "outputs": [
        {
          "output_type": "execute_result",
          "data": {
            "text/plain": [
              "['/artsy_temp_data_2022-04-19 10:51:43.926261.csv']"
            ]
          },
          "metadata": {},
          "execution_count": 197
        }
      ],
      "source": [
        "backup_names"
      ]
    },
    {
      "cell_type": "code",
      "execution_count": null,
      "metadata": {
        "id": "I7EWLXE4P1ar"
      },
      "outputs": [],
      "source": [
        "backup_names_cat_06 = ['/artsy_temp_data_2022-04-06 07:01:26.758130.csv',\n",
        "                       '/artsy_temp_data_2022-04-06 07:19:01.562291.csv',\n",
        "                       '/artsy_temp_data_2022-04-06 08:35:48.400500.csv',\n",
        "                       '/artsy_temp_data_2022-04-06 10:31:00.254918.csv',\n",
        "                       '/artsy_temp_data_2022-04-06 11:58:44.750998.csv',\n",
        "                       '/artsy_temp_data_2022-04-06 12:41:26.025146.csv',\n",
        "                       '/artsy_temp_data_2022-04-06 13:34:44.996171.csv']\n",
        "                       + '/artsy_temp_data_2022-04-06 14:58:06.086053.csv'\n",
        "\n",
        "backup_names_cat_05 = ['/artsy_temp_data_2022-04-06 16:39:34.236815.csv',\n",
        "                       '/artsy_temp_data_2022-04-06 17:49:37.250209.csv']\n",
        "                       + \n",
        "                      ['/artsy_temp_data_2022-04-15 07:46:32.183547.csv',\n",
        "                       '/artsy_temp_data_2022-04-15 07:56:14.144004.csv']\n",
        "\n",
        "backup_names_cat_11 = ['/artsy_temp_data_2022-04-08 06:51:14.997844.csv',\n",
        "                       '/artsy_temp_data_2022-04-08 07:08:01.411081.csv']\n",
        "                       +\n",
        "                       '/artsy_temp_data_2022-04-18 09:50:37.600100.csv'\n",
        "\n",
        "backup_names_cat_08 = ['/artsy_temp_data_2022-04-08 08:57:02.093364.csv',\n",
        "                       '/artsy_temp_data_2022-04-08 10:40:21.922750.csv']\n",
        "                       +\n",
        "                       '/artsy_temp_data_2022-04-18 12:02:55.479950.csv',\n",
        "                       '/artsy_temp_data_2022-04-18 12:43:06.028716.csv'\n",
        "                       +\n",
        "                       '/artsy_temp_data_2022-04-18 14:06:13.761778.csv'\n",
        "\n",
        "backup_names_cat_09 = ['/artsy_temp_data_2022-04-08 12:02:03.429937.csv',\n",
        "                       '/artsy_temp_data_2022-04-08 12:20:19.139091.csv',\n",
        "                       '/artsy_temp_data_2022-04-08 12:50:03.398655.csv',\n",
        "                       '/artsy_temp_data_2022-04-08 13:09:14.315180.csv']\n",
        "                       +\n",
        "                       '/artsy_temp_data_2022-04-18 15:58:00.276252.csv',\n",
        "                       +\n",
        "                       '/artsy_temp_data_2022-04-18 16:07:15.086943.csv'\n",
        "\n",
        "backup_names_cat_12 = ['/artsy_temp_data_2022-04-08 13:24:06.923816.csv',\n",
        "                       '/artsy_temp_data_2022-04-08 13:40:26.582642.csv',\n",
        "                       '/artsy_temp_data_2022-04-08 14:08:48.410197.csv']\n",
        "                       or\n",
        "                       ['/artsy_temp_data_2022-04-19 09:23:10.775068.csv',\n",
        "                        '/artsy_temp_data_2022-04-19 09:44:44.394285.csv']\n",
        "                        +\n",
        "                        '/artsy_temp_data_2022-04-19 10:51:43.926261.csv'\n",
        "\n",
        "backup_names_cat_04 = ['/artsy_temp_data_2022-04-08 15:20:14.101746.csv']\n",
        "                       +\n",
        "                       '/artsy_temp_data_2022-04-19 04:08:43.691739.csv'\n",
        "\n",
        "backup_names_cat_10 = ['/artsy_temp_data_2022-04-19 07:35:01.334592.csv',\n",
        "                       '/artsy_temp_data_2022-04-19 07:48:03.359223.csv']\n",
        "                       +\n",
        "                       '/artsy_temp_data_2022-04-19 08:11:46.261977.csv'\n",
        "\n",
        "backup_names_cat_07 = ['/artsy_temp_data_2022-04-09 04:15:24.907317.csv',\n",
        "                       '/artsy_temp_data_2022-04-09 05:05:55.273163.csv']\n",
        "                       +\n",
        "                       '/artsy_temp_data_2022-04-19 04:48:56.712756.csv'\n",
        "\n",
        "backup_names_cat_15 = ['/artsy_temp_data_2022-04-09 05:29:21.939929.csv']\n",
        "                       +\n",
        "                       '/artsy_temp_data_2022-04-19 05:22:25.192914.csv'\n",
        "\n",
        "backup_names_cat_01 = ['/artsy_temp_data_2022-04-09 05:43:38.333522.csv']\n",
        "\n",
        "backup_names_cat_14 = ['/artsy_temp_data_2022-04-09 06:01:02.568000.csv']\n",
        "\n",
        "backup_names_cat_16 = ['/artsy_temp_data_2022-04-09 06:22:33.619264.csv']\n",
        "\n",
        "backup_names_cat_13 = ['/artsy_temp_data_2022-04-09 06:44:32.738152.csv']\n",
        "                       +\n",
        "                       '/artsy_temp_data_2022-04-19 07:06:37.297601.csv'"
      ]
    },
    {
      "cell_type": "markdown",
      "metadata": {
        "id": "4ZdNrih8--Ga"
      },
      "source": [
        "#### Addition and Updating"
      ]
    },
    {
      "cell_type": "code",
      "execution_count": null,
      "metadata": {
        "id": "8XZ3J9vY--8T"
      },
      "outputs": [],
      "source": [
        "df_temp_data_old = open_file_csv(temp_data, 'live') # 3. Open file.csv\n",
        "#  8.1 Get the first pages category data into DataFrame\n",
        "df_temp_data_new = get_df_data_add_up(df_temp_data_old, genes_links_list, genes_ids_list, cat)\n",
        "#                  get_df_data_add_up(df_input, genes_links_list, genes_ids_list, cat) ->\n",
        "# -> df_output\n",
        "save_df_file(df_temp_data_new, temp_data, 'live') # 4. Save df to csv file\n",
        "\n",
        "new_name_csv = temp_data.replace('.csv', '') + '_' + str(datetime.now()) + '.csv'\n",
        "backup_names.append(new_name_csv)\n",
        "save_df_file(df_temp_data_new, new_name_csv, 'backup') # 4. Save df to csv file"
      ]
    },
    {
      "cell_type": "code",
      "execution_count": null,
      "metadata": {
        "id": "7LUgK0dU_nmD"
      },
      "outputs": [],
      "source": [
        "backup_names"
      ]
    },
    {
      "cell_type": "markdown",
      "metadata": {
        "id": "me4LMXLpJXpb"
      },
      "source": [
        "### Errors' parsing checking"
      ]
    },
    {
      "cell_type": "markdown",
      "metadata": {
        "id": "oITqsRGGGN5v"
      },
      "source": [
        "Checking the completeness of a new data after collecting error genes"
      ]
    },
    {
      "cell_type": "code",
      "execution_count": null,
      "metadata": {
        "id": "TfyZazFSKBD_"
      },
      "outputs": [],
      "source": [
        "# !!!!!!!!!!!!!!!!!"
      ]
    },
    {
      "cell_type": "code",
      "execution_count": null,
      "metadata": {
        "id": "xo3N_hGz9Fsf"
      },
      "outputs": [],
      "source": [
        "# cat 09\n",
        "backup_names = ['/artsy_temp_data_2022-04-18 15:58:00.276252.csv',\n",
        "                '/artsy_temp_data_2022-04-18 16:07:15.086943.csv']"
      ]
    },
    {
      "cell_type": "code",
      "execution_count": null,
      "metadata": {
        "id": "NkPoZBrRWqSC"
      },
      "outputs": [],
      "source": [
        "df_temp_data_new = open_file_csv(backup_names[0], 'backup') # 3. Open file.csv\n",
        "for name in backup_names[1:]:\n",
        "  df_temp_data_new_part = open_file_csv(name, 'backup') # 3. Open file.csv\n",
        "  df_temp_data_new = pd.concat([df_temp_data_new, df_temp_data_new_part])\n",
        "\n",
        "#df_temp_data_new = df_temp_data_new.dropna(subset=['artsy_id'], axis=0) # !!!\n",
        "df_temp_data_new.drop_duplicates(subset = ['gene_id', 'artsy_id'], keep = 'first', inplace = True)\n",
        "df_temp_data_new = df_temp_data_new.reset_index().drop(['index'], axis=1) # !!!\n"
      ]
    },
    {
      "cell_type": "code",
      "execution_count": null,
      "metadata": {
        "id": "22dltH5sFjSf"
      },
      "outputs": [],
      "source": [
        "df_temp_data_new['category_id'] = df_temp_data_new['category_id'].dropna().apply(lambda x: str(x) if len(str(x))==cat_id_len else ('0'*(cat_id_len-len(str(x)))+str(x)))\n",
        "df_temp_data_new['gene_id'] = df_temp_data_new['gene_id'].dropna().apply(lambda x: str(x) if len(str(x))==gen_id_len else ('0'*(gen_id_len-len(str(x)))+str(x)))"
      ]
    },
    {
      "cell_type": "code",
      "execution_count": null,
      "metadata": {
        "id": "cJzBP37sZfSj"
      },
      "outputs": [],
      "source": [
        "# !!!!!!!!!!!!!"
      ]
    },
    {
      "cell_type": "code",
      "execution_count": 198,
      "metadata": {
        "colab": {
          "base_uri": "https://localhost:8080/"
        },
        "id": "EeiojKpsGTWX",
        "outputId": "11112ff5-1f90-4eaa-8524-59152d696a69"
      },
      "outputs": [
        {
          "output_type": "stream",
          "name": "stdout",
          "text": [
            "<class 'pandas.core.frame.DataFrame'>\n",
            "Int64Index: 2373 entries, 0 to 7\n",
            "Data columns (total 11 columns):\n",
            " #   Column         Non-Null Count  Dtype \n",
            "---  ------         --------------  ----- \n",
            " 0   artsy_id       2373 non-null   object\n",
            " 1   name           2373 non-null   object\n",
            " 2   link           2373 non-null   object\n",
            " 3   year           2315 non-null   object\n",
            " 4   artist         2373 non-null   object\n",
            " 5   gallery        2357 non-null   object\n",
            " 6   price          2373 non-null   object\n",
            " 7   gene_id        2373 non-null   object\n",
            " 8   category_id    2373 non-null   object\n",
            " 9   parsing_date   2373 non-null   object\n",
            " 10  updating_date  2373 non-null   object\n",
            "dtypes: object(11)\n",
            "memory usage: 222.5+ KB\n"
          ]
        }
      ],
      "source": [
        "df_temp_data_new.info()"
      ]
    },
    {
      "cell_type": "markdown",
      "metadata": {
        "id": "p1Khg-NYI947"
      },
      "source": [
        "Everything is correct in case of empty df. -> Mergening"
      ]
    },
    {
      "cell_type": "code",
      "execution_count": 199,
      "metadata": {
        "colab": {
          "base_uri": "https://localhost:8080/",
          "height": 50
        },
        "id": "Q0EGWX07GaY0",
        "outputId": "d5e97a80-b59d-415a-fe41-e4ab40aa3108"
      },
      "outputs": [
        {
          "output_type": "execute_result",
          "data": {
            "text/plain": [
              "Empty DataFrame\n",
              "Columns: [artsy_id, name, link, year, artist, gallery, price, gene_id, category_id, parsing_date, updating_date]\n",
              "Index: []"
            ],
            "text/html": [
              "\n",
              "  <div id=\"df-7d08acdf-41f5-47ff-b068-6f2bbf7b77aa\">\n",
              "    <div class=\"colab-df-container\">\n",
              "      <div>\n",
              "<style scoped>\n",
              "    .dataframe tbody tr th:only-of-type {\n",
              "        vertical-align: middle;\n",
              "    }\n",
              "\n",
              "    .dataframe tbody tr th {\n",
              "        vertical-align: top;\n",
              "    }\n",
              "\n",
              "    .dataframe thead th {\n",
              "        text-align: right;\n",
              "    }\n",
              "</style>\n",
              "<table border=\"1\" class=\"dataframe\">\n",
              "  <thead>\n",
              "    <tr style=\"text-align: right;\">\n",
              "      <th></th>\n",
              "      <th>artsy_id</th>\n",
              "      <th>name</th>\n",
              "      <th>link</th>\n",
              "      <th>year</th>\n",
              "      <th>artist</th>\n",
              "      <th>gallery</th>\n",
              "      <th>price</th>\n",
              "      <th>gene_id</th>\n",
              "      <th>category_id</th>\n",
              "      <th>parsing_date</th>\n",
              "      <th>updating_date</th>\n",
              "    </tr>\n",
              "  </thead>\n",
              "  <tbody>\n",
              "  </tbody>\n",
              "</table>\n",
              "</div>\n",
              "      <button class=\"colab-df-convert\" onclick=\"convertToInteractive('df-7d08acdf-41f5-47ff-b068-6f2bbf7b77aa')\"\n",
              "              title=\"Convert this dataframe to an interactive table.\"\n",
              "              style=\"display:none;\">\n",
              "        \n",
              "  <svg xmlns=\"http://www.w3.org/2000/svg\" height=\"24px\"viewBox=\"0 0 24 24\"\n",
              "       width=\"24px\">\n",
              "    <path d=\"M0 0h24v24H0V0z\" fill=\"none\"/>\n",
              "    <path d=\"M18.56 5.44l.94 2.06.94-2.06 2.06-.94-2.06-.94-.94-2.06-.94 2.06-2.06.94zm-11 1L8.5 8.5l.94-2.06 2.06-.94-2.06-.94L8.5 2.5l-.94 2.06-2.06.94zm10 10l.94 2.06.94-2.06 2.06-.94-2.06-.94-.94-2.06-.94 2.06-2.06.94z\"/><path d=\"M17.41 7.96l-1.37-1.37c-.4-.4-.92-.59-1.43-.59-.52 0-1.04.2-1.43.59L10.3 9.45l-7.72 7.72c-.78.78-.78 2.05 0 2.83L4 21.41c.39.39.9.59 1.41.59.51 0 1.02-.2 1.41-.59l7.78-7.78 2.81-2.81c.8-.78.8-2.07 0-2.86zM5.41 20L4 18.59l7.72-7.72 1.47 1.35L5.41 20z\"/>\n",
              "  </svg>\n",
              "      </button>\n",
              "      \n",
              "  <style>\n",
              "    .colab-df-container {\n",
              "      display:flex;\n",
              "      flex-wrap:wrap;\n",
              "      gap: 12px;\n",
              "    }\n",
              "\n",
              "    .colab-df-convert {\n",
              "      background-color: #E8F0FE;\n",
              "      border: none;\n",
              "      border-radius: 50%;\n",
              "      cursor: pointer;\n",
              "      display: none;\n",
              "      fill: #1967D2;\n",
              "      height: 32px;\n",
              "      padding: 0 0 0 0;\n",
              "      width: 32px;\n",
              "    }\n",
              "\n",
              "    .colab-df-convert:hover {\n",
              "      background-color: #E2EBFA;\n",
              "      box-shadow: 0px 1px 2px rgba(60, 64, 67, 0.3), 0px 1px 3px 1px rgba(60, 64, 67, 0.15);\n",
              "      fill: #174EA6;\n",
              "    }\n",
              "\n",
              "    [theme=dark] .colab-df-convert {\n",
              "      background-color: #3B4455;\n",
              "      fill: #D2E3FC;\n",
              "    }\n",
              "\n",
              "    [theme=dark] .colab-df-convert:hover {\n",
              "      background-color: #434B5C;\n",
              "      box-shadow: 0px 1px 3px 1px rgba(0, 0, 0, 0.15);\n",
              "      filter: drop-shadow(0px 1px 2px rgba(0, 0, 0, 0.3));\n",
              "      fill: #FFFFFF;\n",
              "    }\n",
              "  </style>\n",
              "\n",
              "      <script>\n",
              "        const buttonEl =\n",
              "          document.querySelector('#df-7d08acdf-41f5-47ff-b068-6f2bbf7b77aa button.colab-df-convert');\n",
              "        buttonEl.style.display =\n",
              "          google.colab.kernel.accessAllowed ? 'block' : 'none';\n",
              "\n",
              "        async function convertToInteractive(key) {\n",
              "          const element = document.querySelector('#df-7d08acdf-41f5-47ff-b068-6f2bbf7b77aa');\n",
              "          const dataTable =\n",
              "            await google.colab.kernel.invokeFunction('convertToInteractive',\n",
              "                                                     [key], {});\n",
              "          if (!dataTable) return;\n",
              "\n",
              "          const docLinkHtml = 'Like what you see? Visit the ' +\n",
              "            '<a target=\"_blank\" href=https://colab.research.google.com/notebooks/data_table.ipynb>data table notebook</a>'\n",
              "            + ' to learn more about interactive tables.';\n",
              "          element.innerHTML = '';\n",
              "          dataTable['output_type'] = 'display_data';\n",
              "          await google.colab.output.renderOutput(dataTable, element);\n",
              "          const docLink = document.createElement('div');\n",
              "          docLink.innerHTML = docLinkHtml;\n",
              "          element.appendChild(docLink);\n",
              "        }\n",
              "      </script>\n",
              "    </div>\n",
              "  </div>\n",
              "  "
            ]
          },
          "metadata": {},
          "execution_count": 199
        }
      ],
      "source": [
        "df_temp_data_new.loc[df_temp_data_new['artsy_id'].isna()==True]"
      ]
    },
    {
      "cell_type": "code",
      "execution_count": null,
      "metadata": {
        "colab": {
          "base_uri": "https://localhost:8080/",
          "height": 600
        },
        "id": "sDAWriESwJjd",
        "outputId": "e5f8e558-e11d-4bc9-ba3c-ab28046602e7"
      },
      "outputs": [
        {
          "data": {
            "text/html": [
              "\n",
              "  <div id=\"df-8d67e2ed-0fe0-4a3f-8300-b9cc29f76ef6\">\n",
              "    <div class=\"colab-df-container\">\n",
              "      <div>\n",
              "<style scoped>\n",
              "    .dataframe tbody tr th:only-of-type {\n",
              "        vertical-align: middle;\n",
              "    }\n",
              "\n",
              "    .dataframe tbody tr th {\n",
              "        vertical-align: top;\n",
              "    }\n",
              "\n",
              "    .dataframe thead th {\n",
              "        text-align: right;\n",
              "    }\n",
              "</style>\n",
              "<table border=\"1\" class=\"dataframe\">\n",
              "  <thead>\n",
              "    <tr style=\"text-align: right;\">\n",
              "      <th></th>\n",
              "      <th>artsy_id</th>\n",
              "      <th>name</th>\n",
              "      <th>link</th>\n",
              "      <th>year</th>\n",
              "      <th>artist</th>\n",
              "      <th>gallery</th>\n",
              "      <th>price</th>\n",
              "      <th>gene_id</th>\n",
              "      <th>category_id</th>\n",
              "      <th>parsing_date</th>\n",
              "      <th>updating_date</th>\n",
              "    </tr>\n",
              "  </thead>\n",
              "  <tbody>\n",
              "    <tr>\n",
              "      <th>0</th>\n",
              "      <td>6234540a64caba000b7d3d9e</td>\n",
              "      <td>Osvaldo Borsani &amp; Eugenio Gerli for Tecno Oval...</td>\n",
              "      <td>https://d7hftxdivxxvm.cloudfront.net?resize_to...</td>\n",
              "      <td>1968</td>\n",
              "      <td>Osvaldo Borsani, Eugenio GerliOsvaldo Borsani ...</td>\n",
              "      <td>MORENTZ</td>\n",
              "      <td>US$6,450</td>\n",
              "      <td>04016</td>\n",
              "      <td>04</td>\n",
              "      <td>2022-04-19</td>\n",
              "      <td>2022-04-19</td>\n",
              "    </tr>\n",
              "    <tr>\n",
              "      <th>1</th>\n",
              "      <td>623b0890478704000b678259</td>\n",
              "      <td>Desk</td>\n",
              "      <td>https://d7hftxdivxxvm.cloudfront.net?resize_to...</td>\n",
              "      <td>ca. 1960</td>\n",
              "      <td>Marco ZanusoDesk , ca. 1960Gokelaere &amp; Robinso...</td>\n",
              "      <td>Gokelaere &amp; Robinson</td>\n",
              "      <td>€25,000</td>\n",
              "      <td>04016</td>\n",
              "      <td>04</td>\n",
              "      <td>2022-04-19</td>\n",
              "      <td>2022-04-19</td>\n",
              "    </tr>\n",
              "    <tr>\n",
              "      <th>2</th>\n",
              "      <td>545a72c57261692cdfe90100</td>\n",
              "      <td>\"Nitor,\" Bronze Candlestick</td>\n",
              "      <td>https://d7hftxdivxxvm.cloudfront.net?resize_to...</td>\n",
              "      <td>2014</td>\n",
              "      <td>Aldus\"Nitor,\" Bronze Candlestick, 2014Maison G...</td>\n",
              "      <td>Maison Gerard</td>\n",
              "      <td>US$6,200</td>\n",
              "      <td>04016</td>\n",
              "      <td>04</td>\n",
              "      <td>2022-04-19</td>\n",
              "      <td>2022-04-19</td>\n",
              "    </tr>\n",
              "    <tr>\n",
              "      <th>3</th>\n",
              "      <td>5592bc6e7261693ebf00003d</td>\n",
              "      <td>Try Tray</td>\n",
              "      <td>https://d7hftxdivxxvm.cloudfront.net?resize_to...</td>\n",
              "      <td>1995</td>\n",
              "      <td>Gaetano PesceTry Tray, 1995The Modern ArchiveU...</td>\n",
              "      <td>The Modern Archive</td>\n",
              "      <td>US$595</td>\n",
              "      <td>04016</td>\n",
              "      <td>04</td>\n",
              "      <td>2022-04-19</td>\n",
              "      <td>2022-04-19</td>\n",
              "    </tr>\n",
              "    <tr>\n",
              "      <th>4</th>\n",
              "      <td>53eac6aa7261691149ef0000</td>\n",
              "      <td>Octopus Chandelier</td>\n",
              "      <td>https://d7hftxdivxxvm.cloudfront.net?resize_to...</td>\n",
              "      <td>2014</td>\n",
              "      <td>Achille SalvagniOctopus Chandelier, 2014Maison...</td>\n",
              "      <td>Maison Gerard</td>\n",
              "      <td>US$147,500</td>\n",
              "      <td>04016</td>\n",
              "      <td>04</td>\n",
              "      <td>2022-04-19</td>\n",
              "      <td>2022-04-19</td>\n",
              "    </tr>\n",
              "  </tbody>\n",
              "</table>\n",
              "</div>\n",
              "      <button class=\"colab-df-convert\" onclick=\"convertToInteractive('df-8d67e2ed-0fe0-4a3f-8300-b9cc29f76ef6')\"\n",
              "              title=\"Convert this dataframe to an interactive table.\"\n",
              "              style=\"display:none;\">\n",
              "        \n",
              "  <svg xmlns=\"http://www.w3.org/2000/svg\" height=\"24px\"viewBox=\"0 0 24 24\"\n",
              "       width=\"24px\">\n",
              "    <path d=\"M0 0h24v24H0V0z\" fill=\"none\"/>\n",
              "    <path d=\"M18.56 5.44l.94 2.06.94-2.06 2.06-.94-2.06-.94-.94-2.06-.94 2.06-2.06.94zm-11 1L8.5 8.5l.94-2.06 2.06-.94-2.06-.94L8.5 2.5l-.94 2.06-2.06.94zm10 10l.94 2.06.94-2.06 2.06-.94-2.06-.94-.94-2.06-.94 2.06-2.06.94z\"/><path d=\"M17.41 7.96l-1.37-1.37c-.4-.4-.92-.59-1.43-.59-.52 0-1.04.2-1.43.59L10.3 9.45l-7.72 7.72c-.78.78-.78 2.05 0 2.83L4 21.41c.39.39.9.59 1.41.59.51 0 1.02-.2 1.41-.59l7.78-7.78 2.81-2.81c.8-.78.8-2.07 0-2.86zM5.41 20L4 18.59l7.72-7.72 1.47 1.35L5.41 20z\"/>\n",
              "  </svg>\n",
              "      </button>\n",
              "      \n",
              "  <style>\n",
              "    .colab-df-container {\n",
              "      display:flex;\n",
              "      flex-wrap:wrap;\n",
              "      gap: 12px;\n",
              "    }\n",
              "\n",
              "    .colab-df-convert {\n",
              "      background-color: #E8F0FE;\n",
              "      border: none;\n",
              "      border-radius: 50%;\n",
              "      cursor: pointer;\n",
              "      display: none;\n",
              "      fill: #1967D2;\n",
              "      height: 32px;\n",
              "      padding: 0 0 0 0;\n",
              "      width: 32px;\n",
              "    }\n",
              "\n",
              "    .colab-df-convert:hover {\n",
              "      background-color: #E2EBFA;\n",
              "      box-shadow: 0px 1px 2px rgba(60, 64, 67, 0.3), 0px 1px 3px 1px rgba(60, 64, 67, 0.15);\n",
              "      fill: #174EA6;\n",
              "    }\n",
              "\n",
              "    [theme=dark] .colab-df-convert {\n",
              "      background-color: #3B4455;\n",
              "      fill: #D2E3FC;\n",
              "    }\n",
              "\n",
              "    [theme=dark] .colab-df-convert:hover {\n",
              "      background-color: #434B5C;\n",
              "      box-shadow: 0px 1px 3px 1px rgba(0, 0, 0, 0.15);\n",
              "      filter: drop-shadow(0px 1px 2px rgba(0, 0, 0, 0.3));\n",
              "      fill: #FFFFFF;\n",
              "    }\n",
              "  </style>\n",
              "\n",
              "      <script>\n",
              "        const buttonEl =\n",
              "          document.querySelector('#df-8d67e2ed-0fe0-4a3f-8300-b9cc29f76ef6 button.colab-df-convert');\n",
              "        buttonEl.style.display =\n",
              "          google.colab.kernel.accessAllowed ? 'block' : 'none';\n",
              "\n",
              "        async function convertToInteractive(key) {\n",
              "          const element = document.querySelector('#df-8d67e2ed-0fe0-4a3f-8300-b9cc29f76ef6');\n",
              "          const dataTable =\n",
              "            await google.colab.kernel.invokeFunction('convertToInteractive',\n",
              "                                                     [key], {});\n",
              "          if (!dataTable) return;\n",
              "\n",
              "          const docLinkHtml = 'Like what you see? Visit the ' +\n",
              "            '<a target=\"_blank\" href=https://colab.research.google.com/notebooks/data_table.ipynb>data table notebook</a>'\n",
              "            + ' to learn more about interactive tables.';\n",
              "          element.innerHTML = '';\n",
              "          dataTable['output_type'] = 'display_data';\n",
              "          await google.colab.output.renderOutput(dataTable, element);\n",
              "          const docLink = document.createElement('div');\n",
              "          docLink.innerHTML = docLinkHtml;\n",
              "          element.appendChild(docLink);\n",
              "        }\n",
              "      </script>\n",
              "    </div>\n",
              "  </div>\n",
              "  "
            ],
            "text/plain": [
              "                   artsy_id  \\\n",
              "0  6234540a64caba000b7d3d9e   \n",
              "1  623b0890478704000b678259   \n",
              "2  545a72c57261692cdfe90100   \n",
              "3  5592bc6e7261693ebf00003d   \n",
              "4  53eac6aa7261691149ef0000   \n",
              "\n",
              "                                                name  \\\n",
              "0  Osvaldo Borsani & Eugenio Gerli for Tecno Oval...   \n",
              "1                                              Desk    \n",
              "2                        \"Nitor,\" Bronze Candlestick   \n",
              "3                                           Try Tray   \n",
              "4                                 Octopus Chandelier   \n",
              "\n",
              "                                                link      year  \\\n",
              "0  https://d7hftxdivxxvm.cloudfront.net?resize_to...      1968   \n",
              "1  https://d7hftxdivxxvm.cloudfront.net?resize_to...  ca. 1960   \n",
              "2  https://d7hftxdivxxvm.cloudfront.net?resize_to...      2014   \n",
              "3  https://d7hftxdivxxvm.cloudfront.net?resize_to...      1995   \n",
              "4  https://d7hftxdivxxvm.cloudfront.net?resize_to...      2014   \n",
              "\n",
              "                                              artist               gallery  \\\n",
              "0  Osvaldo Borsani, Eugenio GerliOsvaldo Borsani ...               MORENTZ   \n",
              "1  Marco ZanusoDesk , ca. 1960Gokelaere & Robinso...  Gokelaere & Robinson   \n",
              "2  Aldus\"Nitor,\" Bronze Candlestick, 2014Maison G...         Maison Gerard   \n",
              "3  Gaetano PesceTry Tray, 1995The Modern ArchiveU...    The Modern Archive   \n",
              "4  Achille SalvagniOctopus Chandelier, 2014Maison...         Maison Gerard   \n",
              "\n",
              "         price gene_id category_id parsing_date updating_date  \n",
              "0    US$6,450    04016          04   2022-04-19    2022-04-19  \n",
              "1     €25,000    04016          04   2022-04-19    2022-04-19  \n",
              "2    US$6,200    04016          04   2022-04-19    2022-04-19  \n",
              "3      US$595    04016          04   2022-04-19    2022-04-19  \n",
              "4  US$147,500    04016          04   2022-04-19    2022-04-19  "
            ]
          },
          "execution_count": 152,
          "metadata": {},
          "output_type": "execute_result"
        }
      ],
      "source": [
        "df_temp_data_new.loc[df_temp_data_new['gene_id']=='04016'].head()"
      ]
    },
    {
      "cell_type": "code",
      "execution_count": null,
      "metadata": {
        "colab": {
          "base_uri": "https://localhost:8080/"
        },
        "id": "p2KfxF8CwzBj",
        "outputId": "c2792ef6-2b0f-49f6-d985-96f7fd62b5cc"
      },
      "outputs": [
        {
          "name": "stdout",
          "output_type": "stream",
          "text": [
            "https://www.artsy.net/gene/italian-furniture-and-design\n",
            "04016\n"
          ]
        }
      ],
      "source": [
        "print(url_add + genes_links_list[15])\n",
        "print(genes_ids_list[15])"
      ]
    },
    {
      "cell_type": "code",
      "execution_count": null,
      "metadata": {
        "id": "vjCpxAHQXszL"
      },
      "outputs": [],
      "source": [
        "genes_ids_list_er = [genes_ids_list[15]]\n",
        "genes_links_list_er = [genes_links_list[15]]"
      ]
    },
    {
      "cell_type": "code",
      "execution_count": null,
      "metadata": {
        "id": "L8LYT7Iu9lm2"
      },
      "outputs": [],
      "source": [
        "# or"
      ]
    },
    {
      "cell_type": "code",
      "execution_count": null,
      "metadata": {
        "colab": {
          "base_uri": "https://localhost:8080/"
        },
        "id": "x5bv0S7r9m7D",
        "outputId": "f1e078b0-f9e5-4569-ec7d-5f0ef76bd1ac"
      },
      "outputs": [
        {
          "data": {
            "text/plain": [
              "['09039', '09031']"
            ]
          },
          "execution_count": 470,
          "metadata": {},
          "output_type": "execute_result"
        }
      ],
      "source": [
        "genes_ids_list_er = [g_id for g_id in df_temp_data_new.loc[df_temp_data_new['artsy_id'].isna()==True]['gene_id']]\n",
        "genes_ids_list_er = list(set(genes_ids_list_er))\n",
        "genes_ids_list_er"
      ]
    },
    {
      "cell_type": "code",
      "execution_count": null,
      "metadata": {
        "colab": {
          "base_uri": "https://localhost:8080/"
        },
        "id": "yPniDa169lYk",
        "outputId": "d5f2fbe8-ae08-4ac4-f26d-4cbe7968aef9"
      },
      "outputs": [
        {
          "data": {
            "text/plain": [
              "['/gene/wood', '/gene/stone']"
            ]
          },
          "execution_count": 471,
          "metadata": {},
          "output_type": "execute_result"
        }
      ],
      "source": [
        "genes_links_list_er = [genes_links_list[genes_ids_list.index(g_id)] for g_id in genes_ids_list_er]\n",
        "genes_links_list_er"
      ]
    },
    {
      "cell_type": "code",
      "execution_count": null,
      "metadata": {
        "id": "RF62RrmNPH6h"
      },
      "outputs": [],
      "source": [
        "df_temp_data_new = df_temp_data_new.dropna(subset=['artsy_id'], axis=0)"
      ]
    },
    {
      "cell_type": "code",
      "execution_count": null,
      "metadata": {
        "id": "JVckAqK1P_A3"
      },
      "outputs": [],
      "source": [
        "save_df_file(df_temp_data_new, new_name_csv, 'backup') # 4. Save df to csv file"
      ]
    },
    {
      "cell_type": "markdown",
      "metadata": {
        "id": "ZdC9pBK-JkVs"
      },
      "source": [
        "### Primary parsing checking"
      ]
    },
    {
      "cell_type": "markdown",
      "metadata": {
        "id": "oHgl1Dd5GIt2"
      },
      "source": [
        "Checking the completeness of the data"
      ]
    },
    {
      "cell_type": "code",
      "execution_count": 154,
      "metadata": {
        "id": "WLTg1ENsUO92",
        "colab": {
          "base_uri": "https://localhost:8080/"
        },
        "outputId": "169713e9-8d22-45d4-e560-162ef4b38677"
      },
      "outputs": [
        {
          "output_type": "execute_result",
          "data": {
            "text/plain": [
              "['/artsy_temp_data_2022-04-19 09:23:10.775068.csv',\n",
              " '/artsy_temp_data_2022-04-19 09:44:44.394285.csv']"
            ]
          },
          "metadata": {},
          "execution_count": 154
        }
      ],
      "source": [
        "# cat 12\n",
        "#backup_names = ['/artsy_temp_data_2022-04-09 06:44:32.738152.csv']\n",
        "backup_names"
      ]
    },
    {
      "cell_type": "code",
      "execution_count": 162,
      "metadata": {
        "id": "kmzWTP3XS26u"
      },
      "outputs": [],
      "source": [
        "df_cat_dat = open_file_csv(backup_names[0], 'backup') # 3. Open file.csv\n",
        "for name in backup_names[1:]:\n",
        "  df_cat_dat_part = open_file_csv(name, 'backup') # 3. Open file.csv\n",
        "  df_cat_dat = pd.concat([df_cat_dat, df_cat_dat_part])"
      ]
    },
    {
      "cell_type": "code",
      "execution_count": null,
      "metadata": {
        "id": "oXhuZHAL-s5C"
      },
      "outputs": [],
      "source": [
        "# or\n",
        "df_cat_dat = open_file_csv(backup_names[0], 'backup') # 3. Open file.csv"
      ]
    },
    {
      "cell_type": "code",
      "execution_count": 163,
      "metadata": {
        "colab": {
          "base_uri": "https://localhost:8080/"
        },
        "id": "7nJhFNHn-1sX",
        "outputId": "944dad61-ba2b-41fa-be8b-087c57e4aa08"
      },
      "outputs": [
        {
          "output_type": "stream",
          "name": "stdout",
          "text": [
            "<class 'pandas.core.frame.DataFrame'>\n",
            "Int64Index: 23352 entries, 0 to 13960\n",
            "Data columns (total 11 columns):\n",
            " #   Column         Non-Null Count  Dtype  \n",
            "---  ------         --------------  -----  \n",
            " 0   artsy_id       23349 non-null  object \n",
            " 1   name           23349 non-null  object \n",
            " 2   link           23347 non-null  object \n",
            " 3   year           22847 non-null  object \n",
            " 4   artist         23347 non-null  object \n",
            " 5   gallery        23093 non-null  object \n",
            " 6   price          23347 non-null  object \n",
            " 7   gene_id        23350 non-null  float64\n",
            " 8   category_id    23350 non-null  object \n",
            " 9   parsing_date   23350 non-null  object \n",
            " 10  updating_date  23348 non-null  object \n",
            "dtypes: float64(1), object(10)\n",
            "memory usage: 2.1+ MB\n"
          ]
        }
      ],
      "source": [
        "df_cat_dat.info()"
      ]
    },
    {
      "cell_type": "code",
      "source": [
        "# !!!!!!!!!!!!!!!!"
      ],
      "metadata": {
        "id": "qSsl97naWxxf"
      },
      "execution_count": null,
      "outputs": []
    },
    {
      "cell_type": "code",
      "source": [
        "df_cat_dat['category_id'].unique()"
      ],
      "metadata": {
        "colab": {
          "base_uri": "https://localhost:8080/"
        },
        "id": "q6SIHCQwUc-l",
        "outputId": "098c89c9-1010-4ce1-e283-430e70daf909"
      },
      "execution_count": 164,
      "outputs": [
        {
          "output_type": "execute_result",
          "data": {
            "text/plain": [
              "array(['12', nan, '2022-04-19'], dtype=object)"
            ]
          },
          "metadata": {},
          "execution_count": 164
        }
      ]
    },
    {
      "cell_type": "code",
      "source": [
        "df_cat_dat_nan = df_cat_dat.loc[df_cat_dat['category_id'].isna()==True]\n",
        "df_cat_dat_nan.info()"
      ],
      "metadata": {
        "colab": {
          "base_uri": "https://localhost:8080/"
        },
        "id": "PtovFp3fWQq4",
        "outputId": "a5214458-61d3-447f-e2f3-854d8320cf42"
      },
      "execution_count": 171,
      "outputs": [
        {
          "output_type": "stream",
          "name": "stdout",
          "text": [
            "<class 'pandas.core.frame.DataFrame'>\n",
            "Int64Index: 2 entries, 2611 to 4705\n",
            "Data columns (total 11 columns):\n",
            " #   Column         Non-Null Count  Dtype  \n",
            "---  ------         --------------  -----  \n",
            " 0   artsy_id       2 non-null      object \n",
            " 1   name           2 non-null      object \n",
            " 2   link           0 non-null      object \n",
            " 3   year           0 non-null      object \n",
            " 4   artist         0 non-null      object \n",
            " 5   gallery        0 non-null      object \n",
            " 6   price          0 non-null      object \n",
            " 7   gene_id        0 non-null      float64\n",
            " 8   category_id    0 non-null      object \n",
            " 9   parsing_date   0 non-null      object \n",
            " 10  updating_date  0 non-null      object \n",
            "dtypes: float64(1), object(10)\n",
            "memory usage: 192.0+ bytes\n"
          ]
        }
      ]
    },
    {
      "cell_type": "code",
      "source": [
        "df_cat_dat_nan"
      ],
      "metadata": {
        "colab": {
          "base_uri": "https://localhost:8080/",
          "height": 225
        },
        "id": "nz5jx4THWfdT",
        "outputId": "3834509c-1da9-405d-f02c-e795b06b53a6"
      },
      "execution_count": 172,
      "outputs": [
        {
          "output_type": "execute_result",
          "data": {
            "text/plain": [
              "                      artsy_id                                name link year  \\\n",
              "2611  61698fb5299f47000de9a839  ‘Ero’ chairs by Starck for Kartell  NaN  NaN   \n",
              "4705  61698fb5299f47000de9a839  ‘Ero’ chairs by Starck for Kartell  NaN  NaN   \n",
              "\n",
              "     artist gallery price  gene_id category_id parsing_date updating_date  \n",
              "2611    NaN     NaN   NaN      NaN         NaN          NaN           NaN  \n",
              "4705    NaN     NaN   NaN      NaN         NaN          NaN           NaN  "
            ],
            "text/html": [
              "\n",
              "  <div id=\"df-5d1f8b65-8737-4b26-becd-979db77c396d\">\n",
              "    <div class=\"colab-df-container\">\n",
              "      <div>\n",
              "<style scoped>\n",
              "    .dataframe tbody tr th:only-of-type {\n",
              "        vertical-align: middle;\n",
              "    }\n",
              "\n",
              "    .dataframe tbody tr th {\n",
              "        vertical-align: top;\n",
              "    }\n",
              "\n",
              "    .dataframe thead th {\n",
              "        text-align: right;\n",
              "    }\n",
              "</style>\n",
              "<table border=\"1\" class=\"dataframe\">\n",
              "  <thead>\n",
              "    <tr style=\"text-align: right;\">\n",
              "      <th></th>\n",
              "      <th>artsy_id</th>\n",
              "      <th>name</th>\n",
              "      <th>link</th>\n",
              "      <th>year</th>\n",
              "      <th>artist</th>\n",
              "      <th>gallery</th>\n",
              "      <th>price</th>\n",
              "      <th>gene_id</th>\n",
              "      <th>category_id</th>\n",
              "      <th>parsing_date</th>\n",
              "      <th>updating_date</th>\n",
              "    </tr>\n",
              "  </thead>\n",
              "  <tbody>\n",
              "    <tr>\n",
              "      <th>2611</th>\n",
              "      <td>61698fb5299f47000de9a839</td>\n",
              "      <td>‘Ero’ chairs by Starck for Kartell</td>\n",
              "      <td>NaN</td>\n",
              "      <td>NaN</td>\n",
              "      <td>NaN</td>\n",
              "      <td>NaN</td>\n",
              "      <td>NaN</td>\n",
              "      <td>NaN</td>\n",
              "      <td>NaN</td>\n",
              "      <td>NaN</td>\n",
              "      <td>NaN</td>\n",
              "    </tr>\n",
              "    <tr>\n",
              "      <th>4705</th>\n",
              "      <td>61698fb5299f47000de9a839</td>\n",
              "      <td>‘Ero’ chairs by Starck for Kartell</td>\n",
              "      <td>NaN</td>\n",
              "      <td>NaN</td>\n",
              "      <td>NaN</td>\n",
              "      <td>NaN</td>\n",
              "      <td>NaN</td>\n",
              "      <td>NaN</td>\n",
              "      <td>NaN</td>\n",
              "      <td>NaN</td>\n",
              "      <td>NaN</td>\n",
              "    </tr>\n",
              "  </tbody>\n",
              "</table>\n",
              "</div>\n",
              "      <button class=\"colab-df-convert\" onclick=\"convertToInteractive('df-5d1f8b65-8737-4b26-becd-979db77c396d')\"\n",
              "              title=\"Convert this dataframe to an interactive table.\"\n",
              "              style=\"display:none;\">\n",
              "        \n",
              "  <svg xmlns=\"http://www.w3.org/2000/svg\" height=\"24px\"viewBox=\"0 0 24 24\"\n",
              "       width=\"24px\">\n",
              "    <path d=\"M0 0h24v24H0V0z\" fill=\"none\"/>\n",
              "    <path d=\"M18.56 5.44l.94 2.06.94-2.06 2.06-.94-2.06-.94-.94-2.06-.94 2.06-2.06.94zm-11 1L8.5 8.5l.94-2.06 2.06-.94-2.06-.94L8.5 2.5l-.94 2.06-2.06.94zm10 10l.94 2.06.94-2.06 2.06-.94-2.06-.94-.94-2.06-.94 2.06-2.06.94z\"/><path d=\"M17.41 7.96l-1.37-1.37c-.4-.4-.92-.59-1.43-.59-.52 0-1.04.2-1.43.59L10.3 9.45l-7.72 7.72c-.78.78-.78 2.05 0 2.83L4 21.41c.39.39.9.59 1.41.59.51 0 1.02-.2 1.41-.59l7.78-7.78 2.81-2.81c.8-.78.8-2.07 0-2.86zM5.41 20L4 18.59l7.72-7.72 1.47 1.35L5.41 20z\"/>\n",
              "  </svg>\n",
              "      </button>\n",
              "      \n",
              "  <style>\n",
              "    .colab-df-container {\n",
              "      display:flex;\n",
              "      flex-wrap:wrap;\n",
              "      gap: 12px;\n",
              "    }\n",
              "\n",
              "    .colab-df-convert {\n",
              "      background-color: #E8F0FE;\n",
              "      border: none;\n",
              "      border-radius: 50%;\n",
              "      cursor: pointer;\n",
              "      display: none;\n",
              "      fill: #1967D2;\n",
              "      height: 32px;\n",
              "      padding: 0 0 0 0;\n",
              "      width: 32px;\n",
              "    }\n",
              "\n",
              "    .colab-df-convert:hover {\n",
              "      background-color: #E2EBFA;\n",
              "      box-shadow: 0px 1px 2px rgba(60, 64, 67, 0.3), 0px 1px 3px 1px rgba(60, 64, 67, 0.15);\n",
              "      fill: #174EA6;\n",
              "    }\n",
              "\n",
              "    [theme=dark] .colab-df-convert {\n",
              "      background-color: #3B4455;\n",
              "      fill: #D2E3FC;\n",
              "    }\n",
              "\n",
              "    [theme=dark] .colab-df-convert:hover {\n",
              "      background-color: #434B5C;\n",
              "      box-shadow: 0px 1px 3px 1px rgba(0, 0, 0, 0.15);\n",
              "      filter: drop-shadow(0px 1px 2px rgba(0, 0, 0, 0.3));\n",
              "      fill: #FFFFFF;\n",
              "    }\n",
              "  </style>\n",
              "\n",
              "      <script>\n",
              "        const buttonEl =\n",
              "          document.querySelector('#df-5d1f8b65-8737-4b26-becd-979db77c396d button.colab-df-convert');\n",
              "        buttonEl.style.display =\n",
              "          google.colab.kernel.accessAllowed ? 'block' : 'none';\n",
              "\n",
              "        async function convertToInteractive(key) {\n",
              "          const element = document.querySelector('#df-5d1f8b65-8737-4b26-becd-979db77c396d');\n",
              "          const dataTable =\n",
              "            await google.colab.kernel.invokeFunction('convertToInteractive',\n",
              "                                                     [key], {});\n",
              "          if (!dataTable) return;\n",
              "\n",
              "          const docLinkHtml = 'Like what you see? Visit the ' +\n",
              "            '<a target=\"_blank\" href=https://colab.research.google.com/notebooks/data_table.ipynb>data table notebook</a>'\n",
              "            + ' to learn more about interactive tables.';\n",
              "          element.innerHTML = '';\n",
              "          dataTable['output_type'] = 'display_data';\n",
              "          await google.colab.output.renderOutput(dataTable, element);\n",
              "          const docLink = document.createElement('div');\n",
              "          docLink.innerHTML = docLinkHtml;\n",
              "          element.appendChild(docLink);\n",
              "        }\n",
              "      </script>\n",
              "    </div>\n",
              "  </div>\n",
              "  "
            ]
          },
          "metadata": {},
          "execution_count": 172
        }
      ]
    },
    {
      "cell_type": "code",
      "source": [
        "artsy_id_list = df_cat_dat_nan['artsy_id'].tolist()\n",
        "name_list = df_cat_dat_nan['name'].tolist()"
      ],
      "metadata": {
        "id": "7iNPr2PrXG2c"
      },
      "execution_count": 173,
      "outputs": []
    },
    {
      "cell_type": "code",
      "source": [
        "df_cat_dat_date = df_cat_dat.loc[df_cat_dat['category_id']=='2022-04-19']\n",
        "df_cat_dat_date.info()"
      ],
      "metadata": {
        "colab": {
          "base_uri": "https://localhost:8080/"
        },
        "id": "etY2HtLjV-xw",
        "outputId": "78279b3e-8b56-4250-f8a2-0fc3d25dd2b5"
      },
      "execution_count": 169,
      "outputs": [
        {
          "output_type": "stream",
          "name": "stdout",
          "text": [
            "<class 'pandas.core.frame.DataFrame'>\n",
            "Int64Index: 2 entries, 2612 to 4706\n",
            "Data columns (total 11 columns):\n",
            " #   Column         Non-Null Count  Dtype  \n",
            "---  ------         --------------  -----  \n",
            " 0   artsy_id       2 non-null      object \n",
            " 1   name           2 non-null      object \n",
            " 2   link           2 non-null      object \n",
            " 3   year           2 non-null      object \n",
            " 4   artist         2 non-null      object \n",
            " 5   gallery        2 non-null      object \n",
            " 6   price          2 non-null      object \n",
            " 7   gene_id        2 non-null      float64\n",
            " 8   category_id    2 non-null      object \n",
            " 9   parsing_date   2 non-null      object \n",
            " 10  updating_date  0 non-null      object \n",
            "dtypes: float64(1), object(10)\n",
            "memory usage: 192.0+ bytes\n"
          ]
        }
      ]
    },
    {
      "cell_type": "code",
      "source": [
        "df_cat_dat_date"
      ],
      "metadata": {
        "colab": {
          "base_uri": "https://localhost:8080/",
          "height": 315
        },
        "id": "RpoLl1wnWH4G",
        "outputId": "eecf9d2a-80dc-4bff-a699-bece17d0d91d"
      },
      "execution_count": 170,
      "outputs": [
        {
          "output_type": "execute_result",
          "data": {
            "text/plain": [
              "     artsy_id                                               name        link  \\\n",
              "2612  (Italy)  https://d7hftxdivxxvm.cloudfront.net?resize_to...  Circa 2000   \n",
              "4706  (Italy)  https://d7hftxdivxxvm.cloudfront.net?resize_to...  Circa 2000   \n",
              "\n",
              "                                                   year  \\\n",
              "2612  Philippe Starck‘Ero’ chairs by Starck for Kart...   \n",
              "4706  Philippe Starck‘Ero’ chairs by Starck for Kart...   \n",
              "\n",
              "                      artist            gallery  price  gene_id category_id  \\\n",
              "2612  Eclectica Contemporary  Price on request   12005     12.0  2022-04-19   \n",
              "4706  Eclectica Contemporary  Price on request   12017     12.0  2022-04-19   \n",
              "\n",
              "     parsing_date updating_date  \n",
              "2612   2022-04-19           NaN  \n",
              "4706   2022-04-19           NaN  "
            ],
            "text/html": [
              "\n",
              "  <div id=\"df-b78c922c-a0f1-4670-adc6-37bd5a5ee02c\">\n",
              "    <div class=\"colab-df-container\">\n",
              "      <div>\n",
              "<style scoped>\n",
              "    .dataframe tbody tr th:only-of-type {\n",
              "        vertical-align: middle;\n",
              "    }\n",
              "\n",
              "    .dataframe tbody tr th {\n",
              "        vertical-align: top;\n",
              "    }\n",
              "\n",
              "    .dataframe thead th {\n",
              "        text-align: right;\n",
              "    }\n",
              "</style>\n",
              "<table border=\"1\" class=\"dataframe\">\n",
              "  <thead>\n",
              "    <tr style=\"text-align: right;\">\n",
              "      <th></th>\n",
              "      <th>artsy_id</th>\n",
              "      <th>name</th>\n",
              "      <th>link</th>\n",
              "      <th>year</th>\n",
              "      <th>artist</th>\n",
              "      <th>gallery</th>\n",
              "      <th>price</th>\n",
              "      <th>gene_id</th>\n",
              "      <th>category_id</th>\n",
              "      <th>parsing_date</th>\n",
              "      <th>updating_date</th>\n",
              "    </tr>\n",
              "  </thead>\n",
              "  <tbody>\n",
              "    <tr>\n",
              "      <th>2612</th>\n",
              "      <td>(Italy)</td>\n",
              "      <td>https://d7hftxdivxxvm.cloudfront.net?resize_to...</td>\n",
              "      <td>Circa 2000</td>\n",
              "      <td>Philippe Starck‘Ero’ chairs by Starck for Kart...</td>\n",
              "      <td>Eclectica Contemporary</td>\n",
              "      <td>Price on request</td>\n",
              "      <td>12005</td>\n",
              "      <td>12.0</td>\n",
              "      <td>2022-04-19</td>\n",
              "      <td>2022-04-19</td>\n",
              "      <td>NaN</td>\n",
              "    </tr>\n",
              "    <tr>\n",
              "      <th>4706</th>\n",
              "      <td>(Italy)</td>\n",
              "      <td>https://d7hftxdivxxvm.cloudfront.net?resize_to...</td>\n",
              "      <td>Circa 2000</td>\n",
              "      <td>Philippe Starck‘Ero’ chairs by Starck for Kart...</td>\n",
              "      <td>Eclectica Contemporary</td>\n",
              "      <td>Price on request</td>\n",
              "      <td>12017</td>\n",
              "      <td>12.0</td>\n",
              "      <td>2022-04-19</td>\n",
              "      <td>2022-04-19</td>\n",
              "      <td>NaN</td>\n",
              "    </tr>\n",
              "  </tbody>\n",
              "</table>\n",
              "</div>\n",
              "      <button class=\"colab-df-convert\" onclick=\"convertToInteractive('df-b78c922c-a0f1-4670-adc6-37bd5a5ee02c')\"\n",
              "              title=\"Convert this dataframe to an interactive table.\"\n",
              "              style=\"display:none;\">\n",
              "        \n",
              "  <svg xmlns=\"http://www.w3.org/2000/svg\" height=\"24px\"viewBox=\"0 0 24 24\"\n",
              "       width=\"24px\">\n",
              "    <path d=\"M0 0h24v24H0V0z\" fill=\"none\"/>\n",
              "    <path d=\"M18.56 5.44l.94 2.06.94-2.06 2.06-.94-2.06-.94-.94-2.06-.94 2.06-2.06.94zm-11 1L8.5 8.5l.94-2.06 2.06-.94-2.06-.94L8.5 2.5l-.94 2.06-2.06.94zm10 10l.94 2.06.94-2.06 2.06-.94-2.06-.94-.94-2.06-.94 2.06-2.06.94z\"/><path d=\"M17.41 7.96l-1.37-1.37c-.4-.4-.92-.59-1.43-.59-.52 0-1.04.2-1.43.59L10.3 9.45l-7.72 7.72c-.78.78-.78 2.05 0 2.83L4 21.41c.39.39.9.59 1.41.59.51 0 1.02-.2 1.41-.59l7.78-7.78 2.81-2.81c.8-.78.8-2.07 0-2.86zM5.41 20L4 18.59l7.72-7.72 1.47 1.35L5.41 20z\"/>\n",
              "  </svg>\n",
              "      </button>\n",
              "      \n",
              "  <style>\n",
              "    .colab-df-container {\n",
              "      display:flex;\n",
              "      flex-wrap:wrap;\n",
              "      gap: 12px;\n",
              "    }\n",
              "\n",
              "    .colab-df-convert {\n",
              "      background-color: #E8F0FE;\n",
              "      border: none;\n",
              "      border-radius: 50%;\n",
              "      cursor: pointer;\n",
              "      display: none;\n",
              "      fill: #1967D2;\n",
              "      height: 32px;\n",
              "      padding: 0 0 0 0;\n",
              "      width: 32px;\n",
              "    }\n",
              "\n",
              "    .colab-df-convert:hover {\n",
              "      background-color: #E2EBFA;\n",
              "      box-shadow: 0px 1px 2px rgba(60, 64, 67, 0.3), 0px 1px 3px 1px rgba(60, 64, 67, 0.15);\n",
              "      fill: #174EA6;\n",
              "    }\n",
              "\n",
              "    [theme=dark] .colab-df-convert {\n",
              "      background-color: #3B4455;\n",
              "      fill: #D2E3FC;\n",
              "    }\n",
              "\n",
              "    [theme=dark] .colab-df-convert:hover {\n",
              "      background-color: #434B5C;\n",
              "      box-shadow: 0px 1px 3px 1px rgba(0, 0, 0, 0.15);\n",
              "      filter: drop-shadow(0px 1px 2px rgba(0, 0, 0, 0.3));\n",
              "      fill: #FFFFFF;\n",
              "    }\n",
              "  </style>\n",
              "\n",
              "      <script>\n",
              "        const buttonEl =\n",
              "          document.querySelector('#df-b78c922c-a0f1-4670-adc6-37bd5a5ee02c button.colab-df-convert');\n",
              "        buttonEl.style.display =\n",
              "          google.colab.kernel.accessAllowed ? 'block' : 'none';\n",
              "\n",
              "        async function convertToInteractive(key) {\n",
              "          const element = document.querySelector('#df-b78c922c-a0f1-4670-adc6-37bd5a5ee02c');\n",
              "          const dataTable =\n",
              "            await google.colab.kernel.invokeFunction('convertToInteractive',\n",
              "                                                     [key], {});\n",
              "          if (!dataTable) return;\n",
              "\n",
              "          const docLinkHtml = 'Like what you see? Visit the ' +\n",
              "            '<a target=\"_blank\" href=https://colab.research.google.com/notebooks/data_table.ipynb>data table notebook</a>'\n",
              "            + ' to learn more about interactive tables.';\n",
              "          element.innerHTML = '';\n",
              "          dataTable['output_type'] = 'display_data';\n",
              "          await google.colab.output.renderOutput(dataTable, element);\n",
              "          const docLink = document.createElement('div');\n",
              "          docLink.innerHTML = docLinkHtml;\n",
              "          element.appendChild(docLink);\n",
              "        }\n",
              "      </script>\n",
              "    </div>\n",
              "  </div>\n",
              "  "
            ]
          },
          "metadata": {},
          "execution_count": 170
        }
      ]
    },
    {
      "cell_type": "code",
      "source": [
        "imgage_list = df_cat_dat_date['name'].tolist()\n",
        "year_list = df_cat_dat_date['link'].tolist()\n",
        "artist_list = df_cat_dat_date['year'].tolist()\n",
        "gallery_list = df_cat_dat_date['artist'].tolist()\n",
        "price_list = df_cat_dat_date['gallery'].tolist()\n",
        "gene_list = df_cat_dat_date['price'].tolist()\n",
        "cat_list = df_cat_dat_date['gene_id'].tolist()\n",
        "parsing_list = df_cat_dat_date['parsing_date'].tolist()"
      ],
      "metadata": {
        "id": "oSssonRtXWYY"
      },
      "execution_count": 174,
      "outputs": []
    },
    {
      "cell_type": "code",
      "source": [
        "df_data_new = pd.DataFrame({'artsy_id': artsy_id_list,\n",
        "                            'name': name_list, \n",
        "                            'link': imgage_list, \n",
        "                            'year': year_list,\n",
        "                            'artist': artist_list,\n",
        "                            'gallery': gallery_list,\n",
        "                            'price': price_list,\n",
        "                            'gene_id': gene_list,\n",
        "                            'category_id': cat_list,\n",
        "                            'parsing_date': parsing_list,\n",
        "                            'updating_date': parsing_list,\n",
        "                            })\n",
        "df_data_new.info()"
      ],
      "metadata": {
        "colab": {
          "base_uri": "https://localhost:8080/"
        },
        "id": "EvThpeskW4Ap",
        "outputId": "1326a9c4-6279-4b95-d90f-cee812f40a94"
      },
      "execution_count": 175,
      "outputs": [
        {
          "output_type": "stream",
          "name": "stdout",
          "text": [
            "<class 'pandas.core.frame.DataFrame'>\n",
            "RangeIndex: 2 entries, 0 to 1\n",
            "Data columns (total 11 columns):\n",
            " #   Column         Non-Null Count  Dtype  \n",
            "---  ------         --------------  -----  \n",
            " 0   artsy_id       2 non-null      object \n",
            " 1   name           2 non-null      object \n",
            " 2   link           2 non-null      object \n",
            " 3   year           2 non-null      object \n",
            " 4   artist         2 non-null      object \n",
            " 5   gallery        2 non-null      object \n",
            " 6   price          2 non-null      object \n",
            " 7   gene_id        2 non-null      object \n",
            " 8   category_id    2 non-null      float64\n",
            " 9   parsing_date   2 non-null      object \n",
            " 10  updating_date  2 non-null      object \n",
            "dtypes: float64(1), object(10)\n",
            "memory usage: 304.0+ bytes\n"
          ]
        }
      ]
    },
    {
      "cell_type": "code",
      "source": [
        "df_data_new['category_id'].unique()"
      ],
      "metadata": {
        "colab": {
          "base_uri": "https://localhost:8080/"
        },
        "id": "0zPuXgsRZdam",
        "outputId": "1e83e755-6b81-45ee-fcc5-aeaa461aed8c"
      },
      "execution_count": 177,
      "outputs": [
        {
          "output_type": "execute_result",
          "data": {
            "text/plain": [
              "array([12.])"
            ]
          },
          "metadata": {},
          "execution_count": 177
        }
      ]
    },
    {
      "cell_type": "code",
      "source": [
        "df_cat_dat_12 = df_cat_dat.loc[df_cat_dat['category_id']=='12']\n",
        "df_cat_dat_12.info()"
      ],
      "metadata": {
        "colab": {
          "base_uri": "https://localhost:8080/"
        },
        "id": "-Scf8fVcVCO-",
        "outputId": "d08c198a-0da3-42d4-b47b-4bd010a87d1d"
      },
      "execution_count": 168,
      "outputs": [
        {
          "output_type": "stream",
          "name": "stdout",
          "text": [
            "<class 'pandas.core.frame.DataFrame'>\n",
            "Int64Index: 23348 entries, 0 to 13960\n",
            "Data columns (total 11 columns):\n",
            " #   Column         Non-Null Count  Dtype  \n",
            "---  ------         --------------  -----  \n",
            " 0   artsy_id       23345 non-null  object \n",
            " 1   name           23345 non-null  object \n",
            " 2   link           23345 non-null  object \n",
            " 3   year           22845 non-null  object \n",
            " 4   artist         23345 non-null  object \n",
            " 5   gallery        23091 non-null  object \n",
            " 6   price          23345 non-null  object \n",
            " 7   gene_id        23348 non-null  float64\n",
            " 8   category_id    23348 non-null  object \n",
            " 9   parsing_date   23348 non-null  object \n",
            " 10  updating_date  23348 non-null  object \n",
            "dtypes: float64(1), object(10)\n",
            "memory usage: 2.1+ MB\n"
          ]
        }
      ]
    },
    {
      "cell_type": "code",
      "source": [
        "df_cat_dat_12['category_id'].unique()"
      ],
      "metadata": {
        "colab": {
          "base_uri": "https://localhost:8080/"
        },
        "id": "K11cNFkiZTHG",
        "outputId": "e3d0aa1a-c27a-427d-f9cd-cac68fb6675d"
      },
      "execution_count": 176,
      "outputs": [
        {
          "output_type": "execute_result",
          "data": {
            "text/plain": [
              "array(['12'], dtype=object)"
            ]
          },
          "metadata": {},
          "execution_count": 176
        }
      ]
    },
    {
      "cell_type": "code",
      "source": [
        "df_cat_dat = df_cat_dat_12.copy()\n",
        "df_cat_dat = pd.concat([df_cat_dat, df_data_new])\n",
        "df_cat_dat = df_cat_dat.reset_index().drop(['index'], axis=1)\n",
        "df_cat_dat['category_id'] = 12\n",
        "\n",
        "df_cat_dat.info()"
      ],
      "metadata": {
        "colab": {
          "base_uri": "https://localhost:8080/"
        },
        "id": "J0ORDJyTZxG5",
        "outputId": "b570b137-8b5f-479e-ba09-68efa8b11ed5"
      },
      "execution_count": 178,
      "outputs": [
        {
          "output_type": "stream",
          "name": "stdout",
          "text": [
            "<class 'pandas.core.frame.DataFrame'>\n",
            "RangeIndex: 23350 entries, 0 to 23349\n",
            "Data columns (total 11 columns):\n",
            " #   Column         Non-Null Count  Dtype \n",
            "---  ------         --------------  ----- \n",
            " 0   artsy_id       23347 non-null  object\n",
            " 1   name           23347 non-null  object\n",
            " 2   link           23347 non-null  object\n",
            " 3   year           22847 non-null  object\n",
            " 4   artist         23347 non-null  object\n",
            " 5   gallery        23093 non-null  object\n",
            " 6   price          23347 non-null  object\n",
            " 7   gene_id        23350 non-null  object\n",
            " 8   category_id    23350 non-null  int64 \n",
            " 9   parsing_date   23350 non-null  object\n",
            " 10  updating_date  23350 non-null  object\n",
            "dtypes: int64(1), object(10)\n",
            "memory usage: 2.0+ MB\n"
          ]
        }
      ]
    },
    {
      "cell_type": "code",
      "source": [
        "df_cat_dat['category_id'].unique()"
      ],
      "metadata": {
        "colab": {
          "base_uri": "https://localhost:8080/"
        },
        "id": "nfEpGACSaPVn",
        "outputId": "a85864e1-ad48-4b28-ccf4-d6944d44e349"
      },
      "execution_count": 179,
      "outputs": [
        {
          "output_type": "execute_result",
          "data": {
            "text/plain": [
              "array([12])"
            ]
          },
          "metadata": {},
          "execution_count": 179
        }
      ]
    },
    {
      "cell_type": "code",
      "source": [
        "# !!!!!!!!"
      ],
      "metadata": {
        "id": "vUuH08hsZv4r"
      },
      "execution_count": null,
      "outputs": []
    },
    {
      "cell_type": "code",
      "execution_count": 188,
      "metadata": {
        "id": "7EZgaTrbrIUp"
      },
      "outputs": [],
      "source": [
        "#df_cat_dat['category_id'] = df_cat_dat['category_id'].dropna().apply(lambda x: str(x) if len(str(x))==cat_id_len else ('0'*(cat_id_len-len(str(x)))+str(x)))\n",
        "#df_cat_dat['gene_id'] = df_cat_dat['gene_id'].dropna().apply(lambda x: str(x) if len(str(x))==gen_id_len else ('0'*(gen_id_len-len(str(x)))+str(x)))\n",
        "\n",
        "df_cat_dat['category_id'] = df_cat_dat['category_id'].dropna().apply(lambda x: str(int(float(x))) if len(str(int(float(x))))==cat_id_len else ('0'*(cat_id_len-len(str(int(float(x)))))+str(int(float(x)))))\n",
        "df_cat_dat['gene_id'] = df_cat_dat['gene_id'].dropna().apply(lambda x: str(int(float(x))) if len(str(int(float(x))))==gen_id_len else ('0'*(gen_id_len-len(str(int(float(x)))))+str(int(float(x)))))"
      ]
    },
    {
      "cell_type": "code",
      "execution_count": 189,
      "metadata": {
        "colab": {
          "base_uri": "https://localhost:8080/",
          "height": 144
        },
        "id": "5A522XENTyD5",
        "outputId": "57256aec-5125-4ab9-fa2a-80836e23d314"
      },
      "outputs": [
        {
          "output_type": "execute_result",
          "data": {
            "text/plain": [
              "      artsy_id name link year artist gallery price gene_id category_id  \\\n",
              "5851       NaN  NaN  NaN  NaN    NaN     NaN   NaN   12011          12   \n",
              "10649      NaN  NaN  NaN  NaN    NaN     NaN   NaN   12014          12   \n",
              "11250      NaN  NaN  NaN  NaN    NaN     NaN   NaN   12014          12   \n",
              "\n",
              "      parsing_date updating_date  \n",
              "5851    2022-04-19    2022-04-19  \n",
              "10649   2022-04-19    2022-04-19  \n",
              "11250   2022-04-19    2022-04-19  "
            ],
            "text/html": [
              "\n",
              "  <div id=\"df-12855f8b-1216-48ed-95c9-73377fba9109\">\n",
              "    <div class=\"colab-df-container\">\n",
              "      <div>\n",
              "<style scoped>\n",
              "    .dataframe tbody tr th:only-of-type {\n",
              "        vertical-align: middle;\n",
              "    }\n",
              "\n",
              "    .dataframe tbody tr th {\n",
              "        vertical-align: top;\n",
              "    }\n",
              "\n",
              "    .dataframe thead th {\n",
              "        text-align: right;\n",
              "    }\n",
              "</style>\n",
              "<table border=\"1\" class=\"dataframe\">\n",
              "  <thead>\n",
              "    <tr style=\"text-align: right;\">\n",
              "      <th></th>\n",
              "      <th>artsy_id</th>\n",
              "      <th>name</th>\n",
              "      <th>link</th>\n",
              "      <th>year</th>\n",
              "      <th>artist</th>\n",
              "      <th>gallery</th>\n",
              "      <th>price</th>\n",
              "      <th>gene_id</th>\n",
              "      <th>category_id</th>\n",
              "      <th>parsing_date</th>\n",
              "      <th>updating_date</th>\n",
              "    </tr>\n",
              "  </thead>\n",
              "  <tbody>\n",
              "    <tr>\n",
              "      <th>5851</th>\n",
              "      <td>NaN</td>\n",
              "      <td>NaN</td>\n",
              "      <td>NaN</td>\n",
              "      <td>NaN</td>\n",
              "      <td>NaN</td>\n",
              "      <td>NaN</td>\n",
              "      <td>NaN</td>\n",
              "      <td>12011</td>\n",
              "      <td>12</td>\n",
              "      <td>2022-04-19</td>\n",
              "      <td>2022-04-19</td>\n",
              "    </tr>\n",
              "    <tr>\n",
              "      <th>10649</th>\n",
              "      <td>NaN</td>\n",
              "      <td>NaN</td>\n",
              "      <td>NaN</td>\n",
              "      <td>NaN</td>\n",
              "      <td>NaN</td>\n",
              "      <td>NaN</td>\n",
              "      <td>NaN</td>\n",
              "      <td>12014</td>\n",
              "      <td>12</td>\n",
              "      <td>2022-04-19</td>\n",
              "      <td>2022-04-19</td>\n",
              "    </tr>\n",
              "    <tr>\n",
              "      <th>11250</th>\n",
              "      <td>NaN</td>\n",
              "      <td>NaN</td>\n",
              "      <td>NaN</td>\n",
              "      <td>NaN</td>\n",
              "      <td>NaN</td>\n",
              "      <td>NaN</td>\n",
              "      <td>NaN</td>\n",
              "      <td>12014</td>\n",
              "      <td>12</td>\n",
              "      <td>2022-04-19</td>\n",
              "      <td>2022-04-19</td>\n",
              "    </tr>\n",
              "  </tbody>\n",
              "</table>\n",
              "</div>\n",
              "      <button class=\"colab-df-convert\" onclick=\"convertToInteractive('df-12855f8b-1216-48ed-95c9-73377fba9109')\"\n",
              "              title=\"Convert this dataframe to an interactive table.\"\n",
              "              style=\"display:none;\">\n",
              "        \n",
              "  <svg xmlns=\"http://www.w3.org/2000/svg\" height=\"24px\"viewBox=\"0 0 24 24\"\n",
              "       width=\"24px\">\n",
              "    <path d=\"M0 0h24v24H0V0z\" fill=\"none\"/>\n",
              "    <path d=\"M18.56 5.44l.94 2.06.94-2.06 2.06-.94-2.06-.94-.94-2.06-.94 2.06-2.06.94zm-11 1L8.5 8.5l.94-2.06 2.06-.94-2.06-.94L8.5 2.5l-.94 2.06-2.06.94zm10 10l.94 2.06.94-2.06 2.06-.94-2.06-.94-.94-2.06-.94 2.06-2.06.94z\"/><path d=\"M17.41 7.96l-1.37-1.37c-.4-.4-.92-.59-1.43-.59-.52 0-1.04.2-1.43.59L10.3 9.45l-7.72 7.72c-.78.78-.78 2.05 0 2.83L4 21.41c.39.39.9.59 1.41.59.51 0 1.02-.2 1.41-.59l7.78-7.78 2.81-2.81c.8-.78.8-2.07 0-2.86zM5.41 20L4 18.59l7.72-7.72 1.47 1.35L5.41 20z\"/>\n",
              "  </svg>\n",
              "      </button>\n",
              "      \n",
              "  <style>\n",
              "    .colab-df-container {\n",
              "      display:flex;\n",
              "      flex-wrap:wrap;\n",
              "      gap: 12px;\n",
              "    }\n",
              "\n",
              "    .colab-df-convert {\n",
              "      background-color: #E8F0FE;\n",
              "      border: none;\n",
              "      border-radius: 50%;\n",
              "      cursor: pointer;\n",
              "      display: none;\n",
              "      fill: #1967D2;\n",
              "      height: 32px;\n",
              "      padding: 0 0 0 0;\n",
              "      width: 32px;\n",
              "    }\n",
              "\n",
              "    .colab-df-convert:hover {\n",
              "      background-color: #E2EBFA;\n",
              "      box-shadow: 0px 1px 2px rgba(60, 64, 67, 0.3), 0px 1px 3px 1px rgba(60, 64, 67, 0.15);\n",
              "      fill: #174EA6;\n",
              "    }\n",
              "\n",
              "    [theme=dark] .colab-df-convert {\n",
              "      background-color: #3B4455;\n",
              "      fill: #D2E3FC;\n",
              "    }\n",
              "\n",
              "    [theme=dark] .colab-df-convert:hover {\n",
              "      background-color: #434B5C;\n",
              "      box-shadow: 0px 1px 3px 1px rgba(0, 0, 0, 0.15);\n",
              "      filter: drop-shadow(0px 1px 2px rgba(0, 0, 0, 0.3));\n",
              "      fill: #FFFFFF;\n",
              "    }\n",
              "  </style>\n",
              "\n",
              "      <script>\n",
              "        const buttonEl =\n",
              "          document.querySelector('#df-12855f8b-1216-48ed-95c9-73377fba9109 button.colab-df-convert');\n",
              "        buttonEl.style.display =\n",
              "          google.colab.kernel.accessAllowed ? 'block' : 'none';\n",
              "\n",
              "        async function convertToInteractive(key) {\n",
              "          const element = document.querySelector('#df-12855f8b-1216-48ed-95c9-73377fba9109');\n",
              "          const dataTable =\n",
              "            await google.colab.kernel.invokeFunction('convertToInteractive',\n",
              "                                                     [key], {});\n",
              "          if (!dataTable) return;\n",
              "\n",
              "          const docLinkHtml = 'Like what you see? Visit the ' +\n",
              "            '<a target=\"_blank\" href=https://colab.research.google.com/notebooks/data_table.ipynb>data table notebook</a>'\n",
              "            + ' to learn more about interactive tables.';\n",
              "          element.innerHTML = '';\n",
              "          dataTable['output_type'] = 'display_data';\n",
              "          await google.colab.output.renderOutput(dataTable, element);\n",
              "          const docLink = document.createElement('div');\n",
              "          docLink.innerHTML = docLinkHtml;\n",
              "          element.appendChild(docLink);\n",
              "        }\n",
              "      </script>\n",
              "    </div>\n",
              "  </div>\n",
              "  "
            ]
          },
          "metadata": {},
          "execution_count": 189
        }
      ],
      "source": [
        "df_cat_dat.loc[df_cat_dat['artsy_id'].isna()==True]"
      ]
    },
    {
      "cell_type": "code",
      "execution_count": 190,
      "metadata": {
        "colab": {
          "base_uri": "https://localhost:8080/",
          "height": 565
        },
        "id": "hHKqBH8nfGSC",
        "outputId": "85eb051b-4a55-4154-bc21-25bcf0f1e18c"
      },
      "outputs": [
        {
          "output_type": "execute_result",
          "data": {
            "text/plain": [
              "                      artsy_id                                         name  \\\n",
              "5611  624d61a5e25714000c32bde3  Spanish 18th Century Refectory Dining Table   \n",
              "5612  5eb1d70b3e52a6000df08763                          \"Cloud\" CenterTable   \n",
              "5613  59da74309c18db249fcdbccd                  Lacquered desk table \"Luca\"   \n",
              "5614  5bae2d5b1f74731ca8eac04a                Oval dining table with leaves   \n",
              "5615  620258c734e7fc000b5e722f                            Lovö dining table   \n",
              "\n",
              "                                                   link       year  \\\n",
              "5611  https://d7hftxdivxxvm.cloudfront.net?resize_to...  1700-1750   \n",
              "5612  https://d7hftxdivxxvm.cloudfront.net?resize_to...       2020   \n",
              "5613  https://d7hftxdivxxvm.cloudfront.net?resize_to...       2017   \n",
              "5614  https://d7hftxdivxxvm.cloudfront.net?resize_to...       1952   \n",
              "5615  https://d7hftxdivxxvm.cloudfront.net?resize_to...       1930   \n",
              "\n",
              "                                                 artist  \\\n",
              "5611  Unknown ArtistSpanish 18th Century Refectory D...   \n",
              "5612  Jacques Jarrige\"Cloud\" CenterTable, 2020Valeri...   \n",
              "5613  Jacques JarrigeLacquered desk table \"Luca\", 20...   \n",
              "5614  Hans J. WegnerOval dining table with leaves, 1...   \n",
              "5615  Axel Einar HjorthLovö dining table, 1930Gokela...   \n",
              "\n",
              "                       gallery              price gene_id category_id  \\\n",
              "5611                AVANTIQUES          US$4,500    12011          12   \n",
              "5612   Valerie Goodman Gallery         US$27,000    12011          12   \n",
              "5613   Valerie Goodman Gallery         US$23,750    12011          12   \n",
              "5614  Dansk Møbelkunst Gallery  Price on request    12011          12   \n",
              "5615      Gokelaere & Robinson           €14,000    12011          12   \n",
              "\n",
              "     parsing_date updating_date  \n",
              "5611   2022-04-19    2022-04-19  \n",
              "5612   2022-04-19    2022-04-19  \n",
              "5613   2022-04-19    2022-04-19  \n",
              "5614   2022-04-19    2022-04-19  \n",
              "5615   2022-04-19    2022-04-19  "
            ],
            "text/html": [
              "\n",
              "  <div id=\"df-840bfd71-9e30-4f36-aca2-bfcf9dff21d1\">\n",
              "    <div class=\"colab-df-container\">\n",
              "      <div>\n",
              "<style scoped>\n",
              "    .dataframe tbody tr th:only-of-type {\n",
              "        vertical-align: middle;\n",
              "    }\n",
              "\n",
              "    .dataframe tbody tr th {\n",
              "        vertical-align: top;\n",
              "    }\n",
              "\n",
              "    .dataframe thead th {\n",
              "        text-align: right;\n",
              "    }\n",
              "</style>\n",
              "<table border=\"1\" class=\"dataframe\">\n",
              "  <thead>\n",
              "    <tr style=\"text-align: right;\">\n",
              "      <th></th>\n",
              "      <th>artsy_id</th>\n",
              "      <th>name</th>\n",
              "      <th>link</th>\n",
              "      <th>year</th>\n",
              "      <th>artist</th>\n",
              "      <th>gallery</th>\n",
              "      <th>price</th>\n",
              "      <th>gene_id</th>\n",
              "      <th>category_id</th>\n",
              "      <th>parsing_date</th>\n",
              "      <th>updating_date</th>\n",
              "    </tr>\n",
              "  </thead>\n",
              "  <tbody>\n",
              "    <tr>\n",
              "      <th>5611</th>\n",
              "      <td>624d61a5e25714000c32bde3</td>\n",
              "      <td>Spanish 18th Century Refectory Dining Table</td>\n",
              "      <td>https://d7hftxdivxxvm.cloudfront.net?resize_to...</td>\n",
              "      <td>1700-1750</td>\n",
              "      <td>Unknown ArtistSpanish 18th Century Refectory D...</td>\n",
              "      <td>AVANTIQUES</td>\n",
              "      <td>US$4,500</td>\n",
              "      <td>12011</td>\n",
              "      <td>12</td>\n",
              "      <td>2022-04-19</td>\n",
              "      <td>2022-04-19</td>\n",
              "    </tr>\n",
              "    <tr>\n",
              "      <th>5612</th>\n",
              "      <td>5eb1d70b3e52a6000df08763</td>\n",
              "      <td>\"Cloud\" CenterTable</td>\n",
              "      <td>https://d7hftxdivxxvm.cloudfront.net?resize_to...</td>\n",
              "      <td>2020</td>\n",
              "      <td>Jacques Jarrige\"Cloud\" CenterTable, 2020Valeri...</td>\n",
              "      <td>Valerie Goodman Gallery</td>\n",
              "      <td>US$27,000</td>\n",
              "      <td>12011</td>\n",
              "      <td>12</td>\n",
              "      <td>2022-04-19</td>\n",
              "      <td>2022-04-19</td>\n",
              "    </tr>\n",
              "    <tr>\n",
              "      <th>5613</th>\n",
              "      <td>59da74309c18db249fcdbccd</td>\n",
              "      <td>Lacquered desk table \"Luca\"</td>\n",
              "      <td>https://d7hftxdivxxvm.cloudfront.net?resize_to...</td>\n",
              "      <td>2017</td>\n",
              "      <td>Jacques JarrigeLacquered desk table \"Luca\", 20...</td>\n",
              "      <td>Valerie Goodman Gallery</td>\n",
              "      <td>US$23,750</td>\n",
              "      <td>12011</td>\n",
              "      <td>12</td>\n",
              "      <td>2022-04-19</td>\n",
              "      <td>2022-04-19</td>\n",
              "    </tr>\n",
              "    <tr>\n",
              "      <th>5614</th>\n",
              "      <td>5bae2d5b1f74731ca8eac04a</td>\n",
              "      <td>Oval dining table with leaves</td>\n",
              "      <td>https://d7hftxdivxxvm.cloudfront.net?resize_to...</td>\n",
              "      <td>1952</td>\n",
              "      <td>Hans J. WegnerOval dining table with leaves, 1...</td>\n",
              "      <td>Dansk Møbelkunst Gallery</td>\n",
              "      <td>Price on request</td>\n",
              "      <td>12011</td>\n",
              "      <td>12</td>\n",
              "      <td>2022-04-19</td>\n",
              "      <td>2022-04-19</td>\n",
              "    </tr>\n",
              "    <tr>\n",
              "      <th>5615</th>\n",
              "      <td>620258c734e7fc000b5e722f</td>\n",
              "      <td>Lovö dining table</td>\n",
              "      <td>https://d7hftxdivxxvm.cloudfront.net?resize_to...</td>\n",
              "      <td>1930</td>\n",
              "      <td>Axel Einar HjorthLovö dining table, 1930Gokela...</td>\n",
              "      <td>Gokelaere &amp; Robinson</td>\n",
              "      <td>€14,000</td>\n",
              "      <td>12011</td>\n",
              "      <td>12</td>\n",
              "      <td>2022-04-19</td>\n",
              "      <td>2022-04-19</td>\n",
              "    </tr>\n",
              "  </tbody>\n",
              "</table>\n",
              "</div>\n",
              "      <button class=\"colab-df-convert\" onclick=\"convertToInteractive('df-840bfd71-9e30-4f36-aca2-bfcf9dff21d1')\"\n",
              "              title=\"Convert this dataframe to an interactive table.\"\n",
              "              style=\"display:none;\">\n",
              "        \n",
              "  <svg xmlns=\"http://www.w3.org/2000/svg\" height=\"24px\"viewBox=\"0 0 24 24\"\n",
              "       width=\"24px\">\n",
              "    <path d=\"M0 0h24v24H0V0z\" fill=\"none\"/>\n",
              "    <path d=\"M18.56 5.44l.94 2.06.94-2.06 2.06-.94-2.06-.94-.94-2.06-.94 2.06-2.06.94zm-11 1L8.5 8.5l.94-2.06 2.06-.94-2.06-.94L8.5 2.5l-.94 2.06-2.06.94zm10 10l.94 2.06.94-2.06 2.06-.94-2.06-.94-.94-2.06-.94 2.06-2.06.94z\"/><path d=\"M17.41 7.96l-1.37-1.37c-.4-.4-.92-.59-1.43-.59-.52 0-1.04.2-1.43.59L10.3 9.45l-7.72 7.72c-.78.78-.78 2.05 0 2.83L4 21.41c.39.39.9.59 1.41.59.51 0 1.02-.2 1.41-.59l7.78-7.78 2.81-2.81c.8-.78.8-2.07 0-2.86zM5.41 20L4 18.59l7.72-7.72 1.47 1.35L5.41 20z\"/>\n",
              "  </svg>\n",
              "      </button>\n",
              "      \n",
              "  <style>\n",
              "    .colab-df-container {\n",
              "      display:flex;\n",
              "      flex-wrap:wrap;\n",
              "      gap: 12px;\n",
              "    }\n",
              "\n",
              "    .colab-df-convert {\n",
              "      background-color: #E8F0FE;\n",
              "      border: none;\n",
              "      border-radius: 50%;\n",
              "      cursor: pointer;\n",
              "      display: none;\n",
              "      fill: #1967D2;\n",
              "      height: 32px;\n",
              "      padding: 0 0 0 0;\n",
              "      width: 32px;\n",
              "    }\n",
              "\n",
              "    .colab-df-convert:hover {\n",
              "      background-color: #E2EBFA;\n",
              "      box-shadow: 0px 1px 2px rgba(60, 64, 67, 0.3), 0px 1px 3px 1px rgba(60, 64, 67, 0.15);\n",
              "      fill: #174EA6;\n",
              "    }\n",
              "\n",
              "    [theme=dark] .colab-df-convert {\n",
              "      background-color: #3B4455;\n",
              "      fill: #D2E3FC;\n",
              "    }\n",
              "\n",
              "    [theme=dark] .colab-df-convert:hover {\n",
              "      background-color: #434B5C;\n",
              "      box-shadow: 0px 1px 3px 1px rgba(0, 0, 0, 0.15);\n",
              "      filter: drop-shadow(0px 1px 2px rgba(0, 0, 0, 0.3));\n",
              "      fill: #FFFFFF;\n",
              "    }\n",
              "  </style>\n",
              "\n",
              "      <script>\n",
              "        const buttonEl =\n",
              "          document.querySelector('#df-840bfd71-9e30-4f36-aca2-bfcf9dff21d1 button.colab-df-convert');\n",
              "        buttonEl.style.display =\n",
              "          google.colab.kernel.accessAllowed ? 'block' : 'none';\n",
              "\n",
              "        async function convertToInteractive(key) {\n",
              "          const element = document.querySelector('#df-840bfd71-9e30-4f36-aca2-bfcf9dff21d1');\n",
              "          const dataTable =\n",
              "            await google.colab.kernel.invokeFunction('convertToInteractive',\n",
              "                                                     [key], {});\n",
              "          if (!dataTable) return;\n",
              "\n",
              "          const docLinkHtml = 'Like what you see? Visit the ' +\n",
              "            '<a target=\"_blank\" href=https://colab.research.google.com/notebooks/data_table.ipynb>data table notebook</a>'\n",
              "            + ' to learn more about interactive tables.';\n",
              "          element.innerHTML = '';\n",
              "          dataTable['output_type'] = 'display_data';\n",
              "          await google.colab.output.renderOutput(dataTable, element);\n",
              "          const docLink = document.createElement('div');\n",
              "          docLink.innerHTML = docLinkHtml;\n",
              "          element.appendChild(docLink);\n",
              "        }\n",
              "      </script>\n",
              "    </div>\n",
              "  </div>\n",
              "  "
            ]
          },
          "metadata": {},
          "execution_count": 190
        }
      ],
      "source": [
        "df_cat_dat.loc[df_cat_dat['gene_id']=='12011'].head()"
      ]
    },
    {
      "cell_type": "markdown",
      "metadata": {
        "id": "eynqzDudehw3"
      },
      "source": [
        "Getting list of genes with missing pages parsing and lounch parsing of these genes (not pages !!!) again."
      ]
    },
    {
      "cell_type": "code",
      "execution_count": 191,
      "metadata": {
        "colab": {
          "base_uri": "https://localhost:8080/"
        },
        "id": "RbtWd5pt81g9",
        "outputId": "12f9516c-b64e-406d-ae0d-80ac5543c1b4"
      },
      "outputs": [
        {
          "output_type": "execute_result",
          "data": {
            "text/plain": [
              "['12014', '12011']"
            ]
          },
          "metadata": {},
          "execution_count": 191
        }
      ],
      "source": [
        "genes_ids_list_er = [str(g_id) for g_id in df_cat_dat.loc[df_cat_dat['artsy_id'].isna()==True]['gene_id']]\n",
        "genes_ids_list_er = list(set(genes_ids_list_er))\n",
        "genes_ids_list_er"
      ]
    },
    {
      "cell_type": "code",
      "execution_count": 192,
      "metadata": {
        "colab": {
          "base_uri": "https://localhost:8080/"
        },
        "id": "pLWEVx4l8vej",
        "outputId": "88b0fd26-8400-4b85-c7bf-199dd2409d42"
      },
      "outputs": [
        {
          "output_type": "execute_result",
          "data": {
            "text/plain": [
              "['/gene/lighting', '/gene/dining-table']"
            ]
          },
          "metadata": {},
          "execution_count": 192
        }
      ],
      "source": [
        "genes_links_list_er = [genes_links_list[genes_ids_list.index(g_id)] for g_id in genes_ids_list_er]\n",
        "genes_links_list_er"
      ]
    },
    {
      "cell_type": "code",
      "execution_count": 193,
      "metadata": {
        "id": "aXLDYyChLTwN"
      },
      "outputs": [],
      "source": [
        "df_cat_dat = df_cat_dat.dropna(subset=['artsy_id'], axis=0)"
      ]
    },
    {
      "cell_type": "markdown",
      "metadata": {
        "id": "mhMu42rbRS0E"
      },
      "source": [
        "It would be better for faster errors' parsing if I got the page number info..."
      ]
    },
    {
      "cell_type": "markdown",
      "metadata": {
        "id": "aElmPNAKfX4C"
      },
      "source": [
        "!!! One item can belong not only to different categoryes but also to different genes into one category. That's very important for joining with reparsed data !!!"
      ]
    },
    {
      "cell_type": "code",
      "execution_count": null,
      "metadata": {
        "colab": {
          "base_uri": "https://localhost:8080/"
        },
        "id": "NZLdFXm-Yg0k",
        "outputId": "4674a197-b244-4a2f-f2fd-623856bf35ab"
      },
      "outputs": [
        {
          "name": "stdout",
          "output_type": "stream",
          "text": [
            "110253\n",
            "73696\n"
          ]
        }
      ],
      "source": [
        "print(df_cat_dat['artsy_id'].count())\n",
        "print(df_cat_dat['artsy_id'].nunique())"
      ]
    },
    {
      "cell_type": "code",
      "execution_count": null,
      "metadata": {
        "colab": {
          "base_uri": "https://localhost:8080/"
        },
        "id": "GOrGwcufYgu5",
        "outputId": "ad4f21b4-4ea1-46d4-f8b7-1aeced927326"
      },
      "outputs": [
        {
          "name": "stdout",
          "output_type": "stream",
          "text": [
            "2\n",
            "1\n"
          ]
        }
      ],
      "source": [
        "print(df_cat_dat.groupby(['gene_id', 'artsy_id'])['artsy_id'].count().max())\n",
        "print(df_cat_dat.groupby(['gene_id', 'artsy_id'])['artsy_id'].nunique().max())"
      ]
    },
    {
      "cell_type": "code",
      "execution_count": null,
      "metadata": {
        "colab": {
          "base_uri": "https://localhost:8080/",
          "height": 424
        },
        "id": "ogcoXNUVJm5I",
        "outputId": "b1db98e8-4885-4eb5-c6ff-01202e65451e"
      },
      "outputs": [
        {
          "data": {
            "text/html": [
              "\n",
              "  <div id=\"df-e1aa3a46-19a6-4e17-b620-3c7ecdb251ba\">\n",
              "    <div class=\"colab-df-container\">\n",
              "      <div>\n",
              "<style scoped>\n",
              "    .dataframe tbody tr th:only-of-type {\n",
              "        vertical-align: middle;\n",
              "    }\n",
              "\n",
              "    .dataframe tbody tr th {\n",
              "        vertical-align: top;\n",
              "    }\n",
              "\n",
              "    .dataframe thead th {\n",
              "        text-align: right;\n",
              "    }\n",
              "</style>\n",
              "<table border=\"1\" class=\"dataframe\">\n",
              "  <thead>\n",
              "    <tr style=\"text-align: right;\">\n",
              "      <th></th>\n",
              "      <th>gene_id</th>\n",
              "      <th>artsy_id</th>\n",
              "      <th>count</th>\n",
              "    </tr>\n",
              "  </thead>\n",
              "  <tbody>\n",
              "    <tr>\n",
              "      <th>4309</th>\n",
              "      <td>06007</td>\n",
              "      <td>540f40cd7261692d6d550000</td>\n",
              "      <td>2</td>\n",
              "    </tr>\n",
              "    <tr>\n",
              "      <th>18541</th>\n",
              "      <td>06021</td>\n",
              "      <td>5ae9db4a9c18db166e639c7e</td>\n",
              "      <td>2</td>\n",
              "    </tr>\n",
              "    <tr>\n",
              "      <th>20019</th>\n",
              "      <td>06021</td>\n",
              "      <td>606d59a4b58b09000e0f0fed</td>\n",
              "      <td>2</td>\n",
              "    </tr>\n",
              "    <tr>\n",
              "      <th>20209</th>\n",
              "      <td>06021</td>\n",
              "      <td>60e05ea715fca20013f5854a</td>\n",
              "      <td>2</td>\n",
              "    </tr>\n",
              "    <tr>\n",
              "      <th>20657</th>\n",
              "      <td>06021</td>\n",
              "      <td>61c0ee1e845711000bf8163c</td>\n",
              "      <td>2</td>\n",
              "    </tr>\n",
              "    <tr>\n",
              "      <th>...</th>\n",
              "      <td>...</td>\n",
              "      <td>...</td>\n",
              "      <td>...</td>\n",
              "    </tr>\n",
              "    <tr>\n",
              "      <th>247062</th>\n",
              "      <td>06174</td>\n",
              "      <td>5f172c2dea92a20011267465</td>\n",
              "      <td>2</td>\n",
              "    </tr>\n",
              "    <tr>\n",
              "      <th>250018</th>\n",
              "      <td>06175</td>\n",
              "      <td>618bea8b5180b7000e0faba9</td>\n",
              "      <td>2</td>\n",
              "    </tr>\n",
              "    <tr>\n",
              "      <th>250139</th>\n",
              "      <td>06175</td>\n",
              "      <td>61ba11e097ec3a000b017724</td>\n",
              "      <td>2</td>\n",
              "    </tr>\n",
              "    <tr>\n",
              "      <th>251094</th>\n",
              "      <td>06175</td>\n",
              "      <td>623b41fed562fe000c49e3ba</td>\n",
              "      <td>2</td>\n",
              "    </tr>\n",
              "    <tr>\n",
              "      <th>251699</th>\n",
              "      <td>06175</td>\n",
              "      <td>6248b64fa3259b000c24e910</td>\n",
              "      <td>2</td>\n",
              "    </tr>\n",
              "  </tbody>\n",
              "</table>\n",
              "<p>236 rows × 3 columns</p>\n",
              "</div>\n",
              "      <button class=\"colab-df-convert\" onclick=\"convertToInteractive('df-e1aa3a46-19a6-4e17-b620-3c7ecdb251ba')\"\n",
              "              title=\"Convert this dataframe to an interactive table.\"\n",
              "              style=\"display:none;\">\n",
              "        \n",
              "  <svg xmlns=\"http://www.w3.org/2000/svg\" height=\"24px\"viewBox=\"0 0 24 24\"\n",
              "       width=\"24px\">\n",
              "    <path d=\"M0 0h24v24H0V0z\" fill=\"none\"/>\n",
              "    <path d=\"M18.56 5.44l.94 2.06.94-2.06 2.06-.94-2.06-.94-.94-2.06-.94 2.06-2.06.94zm-11 1L8.5 8.5l.94-2.06 2.06-.94-2.06-.94L8.5 2.5l-.94 2.06-2.06.94zm10 10l.94 2.06.94-2.06 2.06-.94-2.06-.94-.94-2.06-.94 2.06-2.06.94z\"/><path d=\"M17.41 7.96l-1.37-1.37c-.4-.4-.92-.59-1.43-.59-.52 0-1.04.2-1.43.59L10.3 9.45l-7.72 7.72c-.78.78-.78 2.05 0 2.83L4 21.41c.39.39.9.59 1.41.59.51 0 1.02-.2 1.41-.59l7.78-7.78 2.81-2.81c.8-.78.8-2.07 0-2.86zM5.41 20L4 18.59l7.72-7.72 1.47 1.35L5.41 20z\"/>\n",
              "  </svg>\n",
              "      </button>\n",
              "      \n",
              "  <style>\n",
              "    .colab-df-container {\n",
              "      display:flex;\n",
              "      flex-wrap:wrap;\n",
              "      gap: 12px;\n",
              "    }\n",
              "\n",
              "    .colab-df-convert {\n",
              "      background-color: #E8F0FE;\n",
              "      border: none;\n",
              "      border-radius: 50%;\n",
              "      cursor: pointer;\n",
              "      display: none;\n",
              "      fill: #1967D2;\n",
              "      height: 32px;\n",
              "      padding: 0 0 0 0;\n",
              "      width: 32px;\n",
              "    }\n",
              "\n",
              "    .colab-df-convert:hover {\n",
              "      background-color: #E2EBFA;\n",
              "      box-shadow: 0px 1px 2px rgba(60, 64, 67, 0.3), 0px 1px 3px 1px rgba(60, 64, 67, 0.15);\n",
              "      fill: #174EA6;\n",
              "    }\n",
              "\n",
              "    [theme=dark] .colab-df-convert {\n",
              "      background-color: #3B4455;\n",
              "      fill: #D2E3FC;\n",
              "    }\n",
              "\n",
              "    [theme=dark] .colab-df-convert:hover {\n",
              "      background-color: #434B5C;\n",
              "      box-shadow: 0px 1px 3px 1px rgba(0, 0, 0, 0.15);\n",
              "      filter: drop-shadow(0px 1px 2px rgba(0, 0, 0, 0.3));\n",
              "      fill: #FFFFFF;\n",
              "    }\n",
              "  </style>\n",
              "\n",
              "      <script>\n",
              "        const buttonEl =\n",
              "          document.querySelector('#df-e1aa3a46-19a6-4e17-b620-3c7ecdb251ba button.colab-df-convert');\n",
              "        buttonEl.style.display =\n",
              "          google.colab.kernel.accessAllowed ? 'block' : 'none';\n",
              "\n",
              "        async function convertToInteractive(key) {\n",
              "          const element = document.querySelector('#df-e1aa3a46-19a6-4e17-b620-3c7ecdb251ba');\n",
              "          const dataTable =\n",
              "            await google.colab.kernel.invokeFunction('convertToInteractive',\n",
              "                                                     [key], {});\n",
              "          if (!dataTable) return;\n",
              "\n",
              "          const docLinkHtml = 'Like what you see? Visit the ' +\n",
              "            '<a target=\"_blank\" href=https://colab.research.google.com/notebooks/data_table.ipynb>data table notebook</a>'\n",
              "            + ' to learn more about interactive tables.';\n",
              "          element.innerHTML = '';\n",
              "          dataTable['output_type'] = 'display_data';\n",
              "          await google.colab.output.renderOutput(dataTable, element);\n",
              "          const docLink = document.createElement('div');\n",
              "          docLink.innerHTML = docLinkHtml;\n",
              "          element.appendChild(docLink);\n",
              "        }\n",
              "      </script>\n",
              "    </div>\n",
              "  </div>\n",
              "  "
            ],
            "text/plain": [
              "       gene_id                  artsy_id  count\n",
              "4309     06007  540f40cd7261692d6d550000      2\n",
              "18541    06021  5ae9db4a9c18db166e639c7e      2\n",
              "20019    06021  606d59a4b58b09000e0f0fed      2\n",
              "20209    06021  60e05ea715fca20013f5854a      2\n",
              "20657    06021  61c0ee1e845711000bf8163c      2\n",
              "...        ...                       ...    ...\n",
              "247062   06174  5f172c2dea92a20011267465      2\n",
              "250018   06175  618bea8b5180b7000e0faba9      2\n",
              "250139   06175  61ba11e097ec3a000b017724      2\n",
              "251094   06175  623b41fed562fe000c49e3ba      2\n",
              "251699   06175  6248b64fa3259b000c24e910      2\n",
              "\n",
              "[236 rows x 3 columns]"
            ]
          },
          "execution_count": 18,
          "metadata": {},
          "output_type": "execute_result"
        }
      ],
      "source": [
        "gene_artsy_groupped = df_cat_dat.groupby(['gene_id', 'artsy_id'])['artsy_id'].agg(['count']).reset_index()\n",
        "gene_artsy_groupped.loc[gene_artsy_groupped['count']>1]"
      ]
    },
    {
      "cell_type": "code",
      "execution_count": null,
      "metadata": {
        "colab": {
          "base_uri": "https://localhost:8080/",
          "height": 315
        },
        "id": "xXZhVTl6QXdG",
        "outputId": "427508ec-b59a-4120-ecc0-a4cc09f434e6"
      },
      "outputs": [
        {
          "data": {
            "text/html": [
              "\n",
              "  <div id=\"df-a6a91d71-01cf-4bb7-8ed3-adf414b0da07\">\n",
              "    <div class=\"colab-df-container\">\n",
              "      <div>\n",
              "<style scoped>\n",
              "    .dataframe tbody tr th:only-of-type {\n",
              "        vertical-align: middle;\n",
              "    }\n",
              "\n",
              "    .dataframe tbody tr th {\n",
              "        vertical-align: top;\n",
              "    }\n",
              "\n",
              "    .dataframe thead th {\n",
              "        text-align: right;\n",
              "    }\n",
              "</style>\n",
              "<table border=\"1\" class=\"dataframe\">\n",
              "  <thead>\n",
              "    <tr style=\"text-align: right;\">\n",
              "      <th></th>\n",
              "      <th>artsy_id</th>\n",
              "      <th>name</th>\n",
              "      <th>link</th>\n",
              "      <th>year</th>\n",
              "      <th>artist</th>\n",
              "      <th>gallery</th>\n",
              "      <th>price</th>\n",
              "      <th>gene_id</th>\n",
              "      <th>category_id</th>\n",
              "      <th>parsing_date</th>\n",
              "      <th>updating_date</th>\n",
              "    </tr>\n",
              "  </thead>\n",
              "  <tbody>\n",
              "    <tr>\n",
              "      <th>39366</th>\n",
              "      <td>6248b64fa3259b000c24e910</td>\n",
              "      <td>Time Is Movin’</td>\n",
              "      <td>https://d7hftxdivxxvm.cloudfront.net?resize_to...</td>\n",
              "      <td>2021</td>\n",
              "      <td>Mitsuyo OkadaTime Is Movin’, 2021Space 776US$290</td>\n",
              "      <td>Space 776</td>\n",
              "      <td>US$290</td>\n",
              "      <td>06175</td>\n",
              "      <td>06</td>\n",
              "      <td>2022-04-06</td>\n",
              "      <td>2022-04-06</td>\n",
              "    </tr>\n",
              "    <tr>\n",
              "      <th>39369</th>\n",
              "      <td>6248b64fa3259b000c24e910</td>\n",
              "      <td>Time Is Movin’</td>\n",
              "      <td>https://d7hftxdivxxvm.cloudfront.net?resize_to...</td>\n",
              "      <td>2021</td>\n",
              "      <td>Mitsuyo OkadaTime Is Movin’, 2021Space 776US$290</td>\n",
              "      <td>Space 776</td>\n",
              "      <td>US$290</td>\n",
              "      <td>06175</td>\n",
              "      <td>06</td>\n",
              "      <td>2022-04-06</td>\n",
              "      <td>2022-04-06</td>\n",
              "    </tr>\n",
              "  </tbody>\n",
              "</table>\n",
              "</div>\n",
              "      <button class=\"colab-df-convert\" onclick=\"convertToInteractive('df-a6a91d71-01cf-4bb7-8ed3-adf414b0da07')\"\n",
              "              title=\"Convert this dataframe to an interactive table.\"\n",
              "              style=\"display:none;\">\n",
              "        \n",
              "  <svg xmlns=\"http://www.w3.org/2000/svg\" height=\"24px\"viewBox=\"0 0 24 24\"\n",
              "       width=\"24px\">\n",
              "    <path d=\"M0 0h24v24H0V0z\" fill=\"none\"/>\n",
              "    <path d=\"M18.56 5.44l.94 2.06.94-2.06 2.06-.94-2.06-.94-.94-2.06-.94 2.06-2.06.94zm-11 1L8.5 8.5l.94-2.06 2.06-.94-2.06-.94L8.5 2.5l-.94 2.06-2.06.94zm10 10l.94 2.06.94-2.06 2.06-.94-2.06-.94-.94-2.06-.94 2.06-2.06.94z\"/><path d=\"M17.41 7.96l-1.37-1.37c-.4-.4-.92-.59-1.43-.59-.52 0-1.04.2-1.43.59L10.3 9.45l-7.72 7.72c-.78.78-.78 2.05 0 2.83L4 21.41c.39.39.9.59 1.41.59.51 0 1.02-.2 1.41-.59l7.78-7.78 2.81-2.81c.8-.78.8-2.07 0-2.86zM5.41 20L4 18.59l7.72-7.72 1.47 1.35L5.41 20z\"/>\n",
              "  </svg>\n",
              "      </button>\n",
              "      \n",
              "  <style>\n",
              "    .colab-df-container {\n",
              "      display:flex;\n",
              "      flex-wrap:wrap;\n",
              "      gap: 12px;\n",
              "    }\n",
              "\n",
              "    .colab-df-convert {\n",
              "      background-color: #E8F0FE;\n",
              "      border: none;\n",
              "      border-radius: 50%;\n",
              "      cursor: pointer;\n",
              "      display: none;\n",
              "      fill: #1967D2;\n",
              "      height: 32px;\n",
              "      padding: 0 0 0 0;\n",
              "      width: 32px;\n",
              "    }\n",
              "\n",
              "    .colab-df-convert:hover {\n",
              "      background-color: #E2EBFA;\n",
              "      box-shadow: 0px 1px 2px rgba(60, 64, 67, 0.3), 0px 1px 3px 1px rgba(60, 64, 67, 0.15);\n",
              "      fill: #174EA6;\n",
              "    }\n",
              "\n",
              "    [theme=dark] .colab-df-convert {\n",
              "      background-color: #3B4455;\n",
              "      fill: #D2E3FC;\n",
              "    }\n",
              "\n",
              "    [theme=dark] .colab-df-convert:hover {\n",
              "      background-color: #434B5C;\n",
              "      box-shadow: 0px 1px 3px 1px rgba(0, 0, 0, 0.15);\n",
              "      filter: drop-shadow(0px 1px 2px rgba(0, 0, 0, 0.3));\n",
              "      fill: #FFFFFF;\n",
              "    }\n",
              "  </style>\n",
              "\n",
              "      <script>\n",
              "        const buttonEl =\n",
              "          document.querySelector('#df-a6a91d71-01cf-4bb7-8ed3-adf414b0da07 button.colab-df-convert');\n",
              "        buttonEl.style.display =\n",
              "          google.colab.kernel.accessAllowed ? 'block' : 'none';\n",
              "\n",
              "        async function convertToInteractive(key) {\n",
              "          const element = document.querySelector('#df-a6a91d71-01cf-4bb7-8ed3-adf414b0da07');\n",
              "          const dataTable =\n",
              "            await google.colab.kernel.invokeFunction('convertToInteractive',\n",
              "                                                     [key], {});\n",
              "          if (!dataTable) return;\n",
              "\n",
              "          const docLinkHtml = 'Like what you see? Visit the ' +\n",
              "            '<a target=\"_blank\" href=https://colab.research.google.com/notebooks/data_table.ipynb>data table notebook</a>'\n",
              "            + ' to learn more about interactive tables.';\n",
              "          element.innerHTML = '';\n",
              "          dataTable['output_type'] = 'display_data';\n",
              "          await google.colab.output.renderOutput(dataTable, element);\n",
              "          const docLink = document.createElement('div');\n",
              "          docLink.innerHTML = docLinkHtml;\n",
              "          element.appendChild(docLink);\n",
              "        }\n",
              "      </script>\n",
              "    </div>\n",
              "  </div>\n",
              "  "
            ],
            "text/plain": [
              "                       artsy_id            name  \\\n",
              "39366  6248b64fa3259b000c24e910  Time Is Movin’   \n",
              "39369  6248b64fa3259b000c24e910  Time Is Movin’   \n",
              "\n",
              "                                                    link  year  \\\n",
              "39366  https://d7hftxdivxxvm.cloudfront.net?resize_to...  2021   \n",
              "39369  https://d7hftxdivxxvm.cloudfront.net?resize_to...  2021   \n",
              "\n",
              "                                                  artist    gallery    price  \\\n",
              "39366  Mitsuyo OkadaTime Is Movin’, 2021Space 776US$290   Space 776  US$290    \n",
              "39369  Mitsuyo OkadaTime Is Movin’, 2021Space 776US$290   Space 776  US$290    \n",
              "\n",
              "      gene_id category_id parsing_date updating_date  \n",
              "39366   06175          06   2022-04-06    2022-04-06  \n",
              "39369   06175          06   2022-04-06    2022-04-06  "
            ]
          },
          "execution_count": 20,
          "metadata": {},
          "output_type": "execute_result"
        }
      ],
      "source": [
        "df_cat_dat.loc[df_cat_dat['artsy_id']=='6248b64fa3259b000c24e910']"
      ]
    },
    {
      "cell_type": "code",
      "execution_count": null,
      "metadata": {
        "colab": {
          "base_uri": "https://localhost:8080/"
        },
        "id": "EzeCDxDvQvda",
        "outputId": "414bb62c-b6eb-490e-cde0-c5026edcaf5a"
      },
      "outputs": [
        {
          "name": "stdout",
          "output_type": "stream",
          "text": [
            "https://d7hftxdivxxvm.cloudfront.net?resize_to=fit&src=https%3A%2F%2Fd32dm0rphc51dk.cloudfront.net%2F8NpaJhOeMqPmSGH2IdLcWw%2Flarge.jpg&width=445&height=353&quality=80\n",
            "https://d7hftxdivxxvm.cloudfront.net?resize_to=fit&src=https%3A%2F%2Fd32dm0rphc51dk.cloudfront.net%2F8NpaJhOeMqPmSGH2IdLcWw%2Flarge.jpg&width=445&height=353&quality=80\n",
            "https://d7hftxdivxxvm.cloudfront.net?resize_to=fit&src=https%3A%2F%2Fd32dm0rphc51dk.cloudfront.net%2F8NpaJhOeMqPmSGH2IdLcWw%2Flarge.jpg&width=445&height=353&quality=80\n",
            "https://d7hftxdivxxvm.cloudfront.net?resize_to=fit&src=https%3A%2F%2Fd32dm0rphc51dk.cloudfront.net%2F8NpaJhOeMqPmSGH2IdLcWw%2Flarge.jpg&width=445&height=353&quality=80\n",
            "https://d7hftxdivxxvm.cloudfront.net?resize_to=fit&src=https%3A%2F%2Fd32dm0rphc51dk.cloudfront.net%2F8NpaJhOeMqPmSGH2IdLcWw%2Flarge.jpg&width=445&height=353&quality=80\n",
            "https://d7hftxdivxxvm.cloudfront.net?resize_to=fit&src=https%3A%2F%2Fd32dm0rphc51dk.cloudfront.net%2F8NpaJhOeMqPmSGH2IdLcWw%2Flarge.jpg&width=445&height=353&quality=80\n",
            "https://d7hftxdivxxvm.cloudfront.net?resize_to=fit&src=https%3A%2F%2Fd32dm0rphc51dk.cloudfront.net%2F8NpaJhOeMqPmSGH2IdLcWw%2Flarge.jpg&width=445&height=353&quality=80\n",
            "https://d7hftxdivxxvm.cloudfront.net?resize_to=fit&src=https%3A%2F%2Fd32dm0rphc51dk.cloudfront.net%2F8NpaJhOeMqPmSGH2IdLcWw%2Flarge.jpg&width=445&height=353&quality=80\n"
          ]
        }
      ],
      "source": [
        "for link in df_cat_dat.loc[df_cat_dat['artsy_id']=='4d8b93484eb68a1b2c00125b']['link']:\n",
        "  print(link)"
      ]
    },
    {
      "cell_type": "markdown",
      "metadata": {
        "id": "UZXZRaqagEKy"
      },
      "source": [
        "There can be item duplicates inside one gene items' list also. Delete them."
      ]
    },
    {
      "cell_type": "markdown",
      "metadata": {
        "id": "wfIpE7tfKot2"
      },
      "source": [
        "### Mergening of all the data"
      ]
    },
    {
      "cell_type": "code",
      "execution_count": 201,
      "metadata": {
        "id": "znKnyKm1Rczc"
      },
      "outputs": [],
      "source": [
        "# cat 10\n",
        "df_cat_dat_total = pd.concat([df_cat_dat, df_temp_data_new])\n",
        "df_cat_dat_total.drop_duplicates(subset = ['gene_id', 'artsy_id'], keep = 'first', inplace = True)\n",
        "df_cat_dat_total = df_cat_dat_total.reset_index().drop(['index'], axis=1) # !!!"
      ]
    },
    {
      "cell_type": "code",
      "execution_count": null,
      "metadata": {
        "id": "OVkTWLUNHn0Q"
      },
      "outputs": [],
      "source": [
        "# or\n",
        "df_cat_dat_total = df_cat_dat.copy()"
      ]
    },
    {
      "cell_type": "code",
      "execution_count": 202,
      "metadata": {
        "colab": {
          "base_uri": "https://localhost:8080/"
        },
        "id": "2BCVru3gHyTL",
        "outputId": "42d57873-4968-420a-f037-9a52c0baa3d6"
      },
      "outputs": [
        {
          "output_type": "stream",
          "name": "stdout",
          "text": [
            "<class 'pandas.core.frame.DataFrame'>\n",
            "RangeIndex: 23433 entries, 0 to 23432\n",
            "Data columns (total 11 columns):\n",
            " #   Column         Non-Null Count  Dtype \n",
            "---  ------         --------------  ----- \n",
            " 0   artsy_id       23433 non-null  object\n",
            " 1   name           23433 non-null  object\n",
            " 2   link           23433 non-null  object\n",
            " 3   year           22927 non-null  object\n",
            " 4   artist         23433 non-null  object\n",
            " 5   gallery        23177 non-null  object\n",
            " 6   price          23433 non-null  object\n",
            " 7   gene_id        23433 non-null  object\n",
            " 8   category_id    23433 non-null  object\n",
            " 9   parsing_date   23433 non-null  object\n",
            " 10  updating_date  23433 non-null  object\n",
            "dtypes: object(11)\n",
            "memory usage: 2.0+ MB\n"
          ]
        }
      ],
      "source": [
        "df_cat_dat_total.info()"
      ]
    },
    {
      "cell_type": "markdown",
      "metadata": {
        "id": "-xbHHg5xgqqe"
      },
      "source": [
        "Genes checking: sometimes there may be a problem (like with cat 03)"
      ]
    },
    {
      "cell_type": "code",
      "execution_count": 203,
      "metadata": {
        "colab": {
          "base_uri": "https://localhost:8080/"
        },
        "id": "gL7y_mNKTxzE",
        "outputId": "b007f520-0478-405e-8c0a-00474c1e2d4c"
      },
      "outputs": [
        {
          "output_type": "stream",
          "name": "stdout",
          "text": [
            "27\n"
          ]
        },
        {
          "output_type": "execute_result",
          "data": {
            "text/plain": [
              "27"
            ]
          },
          "metadata": {},
          "execution_count": 203
        }
      ],
      "source": [
        "print(len(genes_ids_list))\n",
        "df_cat_dat_total['gene_id'].dropna().nunique()"
      ]
    },
    {
      "cell_type": "code",
      "execution_count": 204,
      "metadata": {
        "colab": {
          "base_uri": "https://localhost:8080/"
        },
        "id": "sYbzr9wGLxSt",
        "outputId": "1e5fd15c-d7b7-498b-e57f-27db91f0b23d"
      },
      "outputs": [
        {
          "output_type": "execute_result",
          "data": {
            "text/plain": [
              "27"
            ]
          },
          "metadata": {},
          "execution_count": 204
        }
      ],
      "source": [
        "check_gene_id = df_cat_dat_total['gene_id'].dropna().unique().tolist()\n",
        "len(check_gene_id)"
      ]
    },
    {
      "cell_type": "code",
      "execution_count": 205,
      "metadata": {
        "id": "QuCOH_Y5Rctp"
      },
      "outputs": [],
      "source": [
        "save_df_file(df_cat_dat_total, '/artsy_temp_data_12.csv', 'backup') # 4. Save df to csv file\n",
        "#df_cat_dat_total = open_file_csv('/artsy_temp_data_09.csv', 'backup') # 3. Open file.csv"
      ]
    },
    {
      "cell_type": "code",
      "execution_count": null,
      "metadata": {
        "colab": {
          "base_uri": "https://localhost:8080/"
        },
        "id": "4cCWzth3Ip--",
        "outputId": "63fc364f-74d8-4efe-dfe8-fadc69bd66e1"
      },
      "outputs": [
        {
          "data": {
            "text/plain": [
              "['10021',\n",
              " '10008',\n",
              " '10001',\n",
              " '10013',\n",
              " '10006',\n",
              " '10017',\n",
              " '10020',\n",
              " '10004',\n",
              " '10009',\n",
              " '10003',\n",
              " '10014',\n",
              " '10015',\n",
              " '10012',\n",
              " '10016',\n",
              " '10005',\n",
              " '10010',\n",
              " '10011',\n",
              " '10018',\n",
              " '10002',\n",
              " '10007',\n",
              " '10022',\n",
              " '10019']"
            ]
          },
          "execution_count": 251,
          "metadata": {},
          "output_type": "execute_result"
        }
      ],
      "source": [
        "# !!! cat 10 !!!\n",
        "genes_ids_list_er = list(set(genes_ids_list) - set(check_gene_id))\n",
        "genes_ids_list_er"
      ]
    },
    {
      "cell_type": "code",
      "execution_count": null,
      "metadata": {
        "colab": {
          "base_uri": "https://localhost:8080/"
        },
        "id": "A00qRf8SIp7a",
        "outputId": "c38a3725-f2be-4907-ce73-08f18bac94fa"
      },
      "outputs": [
        {
          "name": "stdout",
          "output_type": "stream",
          "text": [
            "https://www.artsy.net/gene/whimsical-design\n",
            "https://www.artsy.net/gene/handcrafted-furniture-and-design\n",
            "https://www.artsy.net/gene/cad-computer-aided-design\n",
            "https://www.artsy.net/gene/modular-design\n",
            "https://www.artsy.net/gene/engineering-slash-construction-and-design\n",
            "https://www.artsy.net/gene/restrained-forms\n",
            "https://www.artsy.net/gene/timber-frame-construction\n",
            "https://www.artsy.net/gene/design-by-artists\n",
            "https://www.artsy.net/gene/iconic-works-of-design\n",
            "https://www.artsy.net/gene/design-by-architects\n",
            "https://www.artsy.net/gene/non-functional-design\n",
            "https://www.artsy.net/gene/reinforced-concrete-construction\n",
            "https://www.artsy.net/gene/masonry-construction\n",
            "https://www.artsy.net/gene/religious-building\n",
            "https://www.artsy.net/gene/emerging-design\n",
            "https://www.artsy.net/gene/industrial-and-product-design\n",
            "https://www.artsy.net/gene/jewelry-by-painters-and-sculptors\n",
            "https://www.artsy.net/gene/steel-slash-iron-frame-construction\n",
            "https://www.artsy.net/gene/childrens-furniture-and-design\n",
            "https://www.artsy.net/gene/focus-on-joints-slash-connections\n",
            "https://www.artsy.net/gene/women-designers\n",
            "https://www.artsy.net/gene/sustainable-design\n"
          ]
        }
      ],
      "source": [
        "genes_links_list_er = [genes_links_list[genes_ids_list.index(g_id)] for g_id in genes_ids_list_er]\n",
        "for link in genes_links_list_er:\n",
        "  print(url_add + link)"
      ]
    },
    {
      "cell_type": "markdown",
      "metadata": {
        "id": "43BW-pTwdCTr"
      },
      "source": [
        "Pages of these genes are empty, so everything's allright."
      ]
    },
    {
      "cell_type": "markdown",
      "metadata": {
        "id": "oZxb6iVMm0Rh"
      },
      "source": [
        "## Data studying"
      ]
    },
    {
      "cell_type": "code",
      "execution_count": 206,
      "metadata": {
        "colab": {
          "base_uri": "https://localhost:8080/"
        },
        "id": "uxVdG_7ThpO_",
        "outputId": "954ad4e4-3e75-436b-affe-0667116d6840"
      },
      "outputs": [
        {
          "output_type": "stream",
          "name": "stdout",
          "text": [
            "<class 'pandas.core.frame.DataFrame'>\n",
            "RangeIndex: 23433 entries, 0 to 23432\n",
            "Data columns (total 11 columns):\n",
            " #   Column         Non-Null Count  Dtype \n",
            "---  ------         --------------  ----- \n",
            " 0   artsy_id       23433 non-null  object\n",
            " 1   name           23433 non-null  object\n",
            " 2   link           23433 non-null  object\n",
            " 3   year           22927 non-null  object\n",
            " 4   artist         23433 non-null  object\n",
            " 5   gallery        23177 non-null  object\n",
            " 6   price          23433 non-null  object\n",
            " 7   gene_id        23433 non-null  object\n",
            " 8   category_id    23433 non-null  object\n",
            " 9   parsing_date   23433 non-null  object\n",
            " 10  updating_date  23433 non-null  object\n",
            "dtypes: object(11)\n",
            "memory usage: 2.0+ MB\n"
          ]
        }
      ],
      "source": [
        "#df_cat_dat_total = open_file_csv('/artsy_temp_data_05.csv', 'backup') # 3. Open file.csv\n",
        "df_cat_dat_total.info()"
      ]
    },
    {
      "cell_type": "code",
      "execution_count": 207,
      "metadata": {
        "colab": {
          "base_uri": "https://localhost:8080/"
        },
        "id": "P2-XPoXRNrd1",
        "outputId": "ec31fc33-9061-45a4-da13-9a258a867504"
      },
      "outputs": [
        {
          "output_type": "stream",
          "name": "stdout",
          "text": [
            "1\n",
            "1\n"
          ]
        }
      ],
      "source": [
        "print(df_cat_dat_total.groupby(['gene_id', 'artsy_id'])['artsy_id'].count().max())\n",
        "print(df_cat_dat_total.groupby(['gene_id', 'artsy_id'])['artsy_id'].nunique().max())"
      ]
    },
    {
      "cell_type": "markdown",
      "metadata": {
        "id": "oLkQ-qFPqJmW"
      },
      "source": [
        "Transform id from int into str and link into a working one."
      ]
    },
    {
      "cell_type": "code",
      "execution_count": 208,
      "metadata": {
        "colab": {
          "base_uri": "https://localhost:8080/",
          "height": 670
        },
        "id": "0msJIt4lIqCD",
        "outputId": "341d02d9-5923-41ca-b6eb-5582a43b3451"
      },
      "outputs": [
        {
          "output_type": "execute_result",
          "data": {
            "text/plain": [
              "                       artsy_id                                         name  \\\n",
              "8363   6010b930607b5600105e53fb                          NULL Hot Pink Bench   \n",
              "567    5acfc4f8275b244eaaddc622              Set of 10 Regency Dining Chairs   \n",
              "13948  5a1a064acd530e4e2c8f1629                 Palle Suenson Windsor Chairs   \n",
              "8684   62053630994cf1000b4f1e01                      Affix Console - Pillar    \n",
              "15712  5f57594501c6c1000e50f402  Pair of wall-mounted unit - SAS Royal Hotel   \n",
              "\n",
              "                                                    link      year  \\\n",
              "8363   https://d32dm0rphc51dk.cloudfront.net/76S39HpT...      2020   \n",
              "567    https://d32dm0rphc51dk.cloudfront.net/SPlwYlva...     1980s   \n",
              "13948  https://d32dm0rphc51dk.cloudfront.net/QU0FdLLl...  ca. 1945   \n",
              "8684   https://d32dm0rphc51dk.cloudfront.net/Mf1OPpBJ...      2020   \n",
              "15712  https://d32dm0rphc51dk.cloudfront.net/KLLjn-ND...      1958   \n",
              "\n",
              "                                                  artist  \\\n",
              "8363   Studio BUZAONULL Hot Pink Bench, 2020Gallery A...   \n",
              "567    Karl SpringerSet of 10 Regency Dining Chairs, ...   \n",
              "13948  Palle SuensonPalle Suenson Windsor Chairs, ca....   \n",
              "8684   Charlotte JockheerAffix Console - Pillar , 202...   \n",
              "15712  Arne JacobsenPair of wall-mounted unit - SAS R...   \n",
              "\n",
              "                       gallery       price gene_id category_id parsing_date  \\\n",
              "8363               Gallery ALL  US$16,500    12013          12   2022-04-19   \n",
              "567        Todd Merrill Studio       Sold    12001          12   2022-04-19   \n",
              "13948  Københavns Møbelgalleri   US$2,500    12017          12   2022-04-19   \n",
              "8684            Carwan Gallery     €2,700    12013          12   2022-04-19   \n",
              "15712     Gokelaere & Robinson       Sold    12018          12   2022-04-19   \n",
              "\n",
              "      updating_date  \n",
              "8363     2022-04-19  \n",
              "567      2022-04-19  \n",
              "13948    2022-04-19  \n",
              "8684     2022-04-19  \n",
              "15712    2022-04-19  "
            ],
            "text/html": [
              "\n",
              "  <div id=\"df-f596c0f7-78f3-4fb4-b833-804cec6177f1\">\n",
              "    <div class=\"colab-df-container\">\n",
              "      <div>\n",
              "<style scoped>\n",
              "    .dataframe tbody tr th:only-of-type {\n",
              "        vertical-align: middle;\n",
              "    }\n",
              "\n",
              "    .dataframe tbody tr th {\n",
              "        vertical-align: top;\n",
              "    }\n",
              "\n",
              "    .dataframe thead th {\n",
              "        text-align: right;\n",
              "    }\n",
              "</style>\n",
              "<table border=\"1\" class=\"dataframe\">\n",
              "  <thead>\n",
              "    <tr style=\"text-align: right;\">\n",
              "      <th></th>\n",
              "      <th>artsy_id</th>\n",
              "      <th>name</th>\n",
              "      <th>link</th>\n",
              "      <th>year</th>\n",
              "      <th>artist</th>\n",
              "      <th>gallery</th>\n",
              "      <th>price</th>\n",
              "      <th>gene_id</th>\n",
              "      <th>category_id</th>\n",
              "      <th>parsing_date</th>\n",
              "      <th>updating_date</th>\n",
              "    </tr>\n",
              "  </thead>\n",
              "  <tbody>\n",
              "    <tr>\n",
              "      <th>8363</th>\n",
              "      <td>6010b930607b5600105e53fb</td>\n",
              "      <td>NULL Hot Pink Bench</td>\n",
              "      <td>https://d32dm0rphc51dk.cloudfront.net/76S39HpT...</td>\n",
              "      <td>2020</td>\n",
              "      <td>Studio BUZAONULL Hot Pink Bench, 2020Gallery A...</td>\n",
              "      <td>Gallery ALL</td>\n",
              "      <td>US$16,500</td>\n",
              "      <td>12013</td>\n",
              "      <td>12</td>\n",
              "      <td>2022-04-19</td>\n",
              "      <td>2022-04-19</td>\n",
              "    </tr>\n",
              "    <tr>\n",
              "      <th>567</th>\n",
              "      <td>5acfc4f8275b244eaaddc622</td>\n",
              "      <td>Set of 10 Regency Dining Chairs</td>\n",
              "      <td>https://d32dm0rphc51dk.cloudfront.net/SPlwYlva...</td>\n",
              "      <td>1980s</td>\n",
              "      <td>Karl SpringerSet of 10 Regency Dining Chairs, ...</td>\n",
              "      <td>Todd Merrill Studio</td>\n",
              "      <td>Sold</td>\n",
              "      <td>12001</td>\n",
              "      <td>12</td>\n",
              "      <td>2022-04-19</td>\n",
              "      <td>2022-04-19</td>\n",
              "    </tr>\n",
              "    <tr>\n",
              "      <th>13948</th>\n",
              "      <td>5a1a064acd530e4e2c8f1629</td>\n",
              "      <td>Palle Suenson Windsor Chairs</td>\n",
              "      <td>https://d32dm0rphc51dk.cloudfront.net/QU0FdLLl...</td>\n",
              "      <td>ca. 1945</td>\n",
              "      <td>Palle SuensonPalle Suenson Windsor Chairs, ca....</td>\n",
              "      <td>Københavns Møbelgalleri</td>\n",
              "      <td>US$2,500</td>\n",
              "      <td>12017</td>\n",
              "      <td>12</td>\n",
              "      <td>2022-04-19</td>\n",
              "      <td>2022-04-19</td>\n",
              "    </tr>\n",
              "    <tr>\n",
              "      <th>8684</th>\n",
              "      <td>62053630994cf1000b4f1e01</td>\n",
              "      <td>Affix Console - Pillar</td>\n",
              "      <td>https://d32dm0rphc51dk.cloudfront.net/Mf1OPpBJ...</td>\n",
              "      <td>2020</td>\n",
              "      <td>Charlotte JockheerAffix Console - Pillar , 202...</td>\n",
              "      <td>Carwan Gallery</td>\n",
              "      <td>€2,700</td>\n",
              "      <td>12013</td>\n",
              "      <td>12</td>\n",
              "      <td>2022-04-19</td>\n",
              "      <td>2022-04-19</td>\n",
              "    </tr>\n",
              "    <tr>\n",
              "      <th>15712</th>\n",
              "      <td>5f57594501c6c1000e50f402</td>\n",
              "      <td>Pair of wall-mounted unit - SAS Royal Hotel</td>\n",
              "      <td>https://d32dm0rphc51dk.cloudfront.net/KLLjn-ND...</td>\n",
              "      <td>1958</td>\n",
              "      <td>Arne JacobsenPair of wall-mounted unit - SAS R...</td>\n",
              "      <td>Gokelaere &amp; Robinson</td>\n",
              "      <td>Sold</td>\n",
              "      <td>12018</td>\n",
              "      <td>12</td>\n",
              "      <td>2022-04-19</td>\n",
              "      <td>2022-04-19</td>\n",
              "    </tr>\n",
              "  </tbody>\n",
              "</table>\n",
              "</div>\n",
              "      <button class=\"colab-df-convert\" onclick=\"convertToInteractive('df-f596c0f7-78f3-4fb4-b833-804cec6177f1')\"\n",
              "              title=\"Convert this dataframe to an interactive table.\"\n",
              "              style=\"display:none;\">\n",
              "        \n",
              "  <svg xmlns=\"http://www.w3.org/2000/svg\" height=\"24px\"viewBox=\"0 0 24 24\"\n",
              "       width=\"24px\">\n",
              "    <path d=\"M0 0h24v24H0V0z\" fill=\"none\"/>\n",
              "    <path d=\"M18.56 5.44l.94 2.06.94-2.06 2.06-.94-2.06-.94-.94-2.06-.94 2.06-2.06.94zm-11 1L8.5 8.5l.94-2.06 2.06-.94-2.06-.94L8.5 2.5l-.94 2.06-2.06.94zm10 10l.94 2.06.94-2.06 2.06-.94-2.06-.94-.94-2.06-.94 2.06-2.06.94z\"/><path d=\"M17.41 7.96l-1.37-1.37c-.4-.4-.92-.59-1.43-.59-.52 0-1.04.2-1.43.59L10.3 9.45l-7.72 7.72c-.78.78-.78 2.05 0 2.83L4 21.41c.39.39.9.59 1.41.59.51 0 1.02-.2 1.41-.59l7.78-7.78 2.81-2.81c.8-.78.8-2.07 0-2.86zM5.41 20L4 18.59l7.72-7.72 1.47 1.35L5.41 20z\"/>\n",
              "  </svg>\n",
              "      </button>\n",
              "      \n",
              "  <style>\n",
              "    .colab-df-container {\n",
              "      display:flex;\n",
              "      flex-wrap:wrap;\n",
              "      gap: 12px;\n",
              "    }\n",
              "\n",
              "    .colab-df-convert {\n",
              "      background-color: #E8F0FE;\n",
              "      border: none;\n",
              "      border-radius: 50%;\n",
              "      cursor: pointer;\n",
              "      display: none;\n",
              "      fill: #1967D2;\n",
              "      height: 32px;\n",
              "      padding: 0 0 0 0;\n",
              "      width: 32px;\n",
              "    }\n",
              "\n",
              "    .colab-df-convert:hover {\n",
              "      background-color: #E2EBFA;\n",
              "      box-shadow: 0px 1px 2px rgba(60, 64, 67, 0.3), 0px 1px 3px 1px rgba(60, 64, 67, 0.15);\n",
              "      fill: #174EA6;\n",
              "    }\n",
              "\n",
              "    [theme=dark] .colab-df-convert {\n",
              "      background-color: #3B4455;\n",
              "      fill: #D2E3FC;\n",
              "    }\n",
              "\n",
              "    [theme=dark] .colab-df-convert:hover {\n",
              "      background-color: #434B5C;\n",
              "      box-shadow: 0px 1px 3px 1px rgba(0, 0, 0, 0.15);\n",
              "      filter: drop-shadow(0px 1px 2px rgba(0, 0, 0, 0.3));\n",
              "      fill: #FFFFFF;\n",
              "    }\n",
              "  </style>\n",
              "\n",
              "      <script>\n",
              "        const buttonEl =\n",
              "          document.querySelector('#df-f596c0f7-78f3-4fb4-b833-804cec6177f1 button.colab-df-convert');\n",
              "        buttonEl.style.display =\n",
              "          google.colab.kernel.accessAllowed ? 'block' : 'none';\n",
              "\n",
              "        async function convertToInteractive(key) {\n",
              "          const element = document.querySelector('#df-f596c0f7-78f3-4fb4-b833-804cec6177f1');\n",
              "          const dataTable =\n",
              "            await google.colab.kernel.invokeFunction('convertToInteractive',\n",
              "                                                     [key], {});\n",
              "          if (!dataTable) return;\n",
              "\n",
              "          const docLinkHtml = 'Like what you see? Visit the ' +\n",
              "            '<a target=\"_blank\" href=https://colab.research.google.com/notebooks/data_table.ipynb>data table notebook</a>'\n",
              "            + ' to learn more about interactive tables.';\n",
              "          element.innerHTML = '';\n",
              "          dataTable['output_type'] = 'display_data';\n",
              "          await google.colab.output.renderOutput(dataTable, element);\n",
              "          const docLink = document.createElement('div');\n",
              "          docLink.innerHTML = docLinkHtml;\n",
              "          element.appendChild(docLink);\n",
              "        }\n",
              "      </script>\n",
              "    </div>\n",
              "  </div>\n",
              "  "
            ]
          },
          "metadata": {},
          "execution_count": 208
        }
      ],
      "source": [
        "#df_cat_dat_total['category_id'] = df_cat_dat_total['category_id'].dropna().apply(lambda x: str(x) if len(str(x))==cat_id_len else ('0'*(cat_id_len-len(str(x)))+str(x)))\n",
        "#df_cat_dat_total['gene_id'] = df_cat_dat_total['gene_id'].dropna().apply(lambda x: str(x) if len(str(x))==gen_id_len else ('0'*(gen_id_len-len(str(x)))+str(x)))\n",
        "\n",
        "df_cat_dat_total['link'] = df_cat_dat_total['link'].dropna().apply(lambda x: img_link_corr(x))\n",
        "\n",
        "df_cat_dat_total.sample(5)"
      ]
    },
    {
      "cell_type": "code",
      "execution_count": 209,
      "metadata": {
        "colab": {
          "base_uri": "https://localhost:8080/"
        },
        "id": "k11GYBaLIp1D",
        "outputId": "cff80a68-2185-4545-f106-0b7f4b83d864"
      },
      "outputs": [
        {
          "output_type": "stream",
          "name": "stdout",
          "text": [
            "https://d32dm0rphc51dk.cloudfront.net/zDBzPgwc7ar0OLeafXDVtg/large.jpg\n",
            "https://d32dm0rphc51dk.cloudfront.net/Hz6PtR84xoj17JyO9qsH2w/large.jpg\n",
            "https://d32dm0rphc51dk.cloudfront.net/I6Qt7zHCEJOT_buiNd3z8g/large.jpg\n",
            "https://d32dm0rphc51dk.cloudfront.net/RBDn0CBYgH50-8lPBggZ9A/large.jpg\n",
            "https://d32dm0rphc51dk.cloudfront.net/l3Y83NOcx9FZw076Riv-wQ/large.jpg\n"
          ]
        }
      ],
      "source": [
        "for link in df_cat_dat_total['link'].sample(5):\n",
        "  print(link)"
      ]
    },
    {
      "cell_type": "markdown",
      "metadata": {
        "id": "1llmSnWlsnPX"
      },
      "source": [
        "Count of unique artsy_id and link should be equal. But sometimes they're not (like in cat 03)."
      ]
    },
    {
      "cell_type": "code",
      "execution_count": 210,
      "metadata": {
        "colab": {
          "base_uri": "https://localhost:8080/"
        },
        "id": "-ff_vHrMIprR",
        "outputId": "5f623f64-4c53-4ea7-9ea1-4d56ec04583e"
      },
      "outputs": [
        {
          "output_type": "stream",
          "name": "stdout",
          "text": [
            "11253\n",
            "11253\n"
          ]
        }
      ],
      "source": [
        "print(df_cat_dat_total['artsy_id'].nunique())\n",
        "print(df_cat_dat_total['link'].nunique())"
      ]
    },
    {
      "cell_type": "code",
      "execution_count": null,
      "metadata": {
        "id": "z9C1IoY2F6vL"
      },
      "outputs": [],
      "source": [
        "# !!! links' problem solving !!!"
      ]
    },
    {
      "cell_type": "code",
      "execution_count": null,
      "metadata": {
        "colab": {
          "base_uri": "https://localhost:8080/"
        },
        "id": "nexPBDQbnr08",
        "outputId": "027f0c98-69de-44e1-ade8-dececbb86be7"
      },
      "outputs": [
        {
          "name": "stdout",
          "output_type": "stream",
          "text": [
            "<class 'pandas.core.frame.DataFrame'>\n",
            "Int64Index: 138883 entries, 0 to 179744\n",
            "Data columns (total 2 columns):\n",
            " #   Column    Non-Null Count   Dtype \n",
            "---  ------    --------------   ----- \n",
            " 0   artsy_id  138883 non-null  object\n",
            " 1   link      138883 non-null  object\n",
            "dtypes: object(2)\n",
            "memory usage: 3.2+ MB\n"
          ]
        }
      ],
      "source": [
        "artsy_id_link = df_cat_dat_total[['artsy_id', 'link']]\n",
        "artsy_id_link.drop_duplicates(subset = ['link', 'artsy_id'], keep = 'first', inplace = True)\n",
        "artsy_id_link.info()"
      ]
    },
    {
      "cell_type": "code",
      "execution_count": null,
      "metadata": {
        "colab": {
          "base_uri": "https://localhost:8080/"
        },
        "id": "dGzNKoR6jAkf",
        "outputId": "e7b02619-2033-40b0-dab3-ccd07e6f48e9"
      },
      "outputs": [
        {
          "data": {
            "text/plain": [
              "1"
            ]
          },
          "execution_count": 225,
          "metadata": {},
          "output_type": "execute_result"
        }
      ],
      "source": [
        "artsy_link_groupped = artsy_id_link.groupby(['artsy_id'])['link'].agg(['count']).reset_index()\n",
        "links_prob_list = artsy_link_groupped.loc[artsy_link_groupped['count']>1]['artsy_id'].tolist()\n",
        "len(links_prob_list)"
      ]
    },
    {
      "cell_type": "code",
      "execution_count": null,
      "metadata": {
        "colab": {
          "base_uri": "https://localhost:8080/"
        },
        "id": "L6jdhlLMqfKU",
        "outputId": "919f67c3-8a28-469d-c9c3-cbec057a0583"
      },
      "outputs": [
        {
          "data": {
            "text/plain": [
              "['6247862634f6b2000b712474']"
            ]
          },
          "execution_count": 226,
          "metadata": {},
          "output_type": "execute_result"
        }
      ],
      "source": [
        "links_prob_list"
      ]
    },
    {
      "cell_type": "code",
      "execution_count": null,
      "metadata": {
        "colab": {
          "base_uri": "https://localhost:8080/",
          "height": 315
        },
        "id": "P6ki-ovkpxII",
        "outputId": "d6b0ec51-45c9-4ebc-8a71-f48e77521a9f"
      },
      "outputs": [
        {
          "data": {
            "text/html": [
              "\n",
              "  <div id=\"df-8ce31d81-5f35-4ea7-9bf1-25bac1d6247d\">\n",
              "    <div class=\"colab-df-container\">\n",
              "      <div>\n",
              "<style scoped>\n",
              "    .dataframe tbody tr th:only-of-type {\n",
              "        vertical-align: middle;\n",
              "    }\n",
              "\n",
              "    .dataframe tbody tr th {\n",
              "        vertical-align: top;\n",
              "    }\n",
              "\n",
              "    .dataframe thead th {\n",
              "        text-align: right;\n",
              "    }\n",
              "</style>\n",
              "<table border=\"1\" class=\"dataframe\">\n",
              "  <thead>\n",
              "    <tr style=\"text-align: right;\">\n",
              "      <th></th>\n",
              "      <th>artsy_id</th>\n",
              "      <th>name</th>\n",
              "      <th>link</th>\n",
              "      <th>year</th>\n",
              "      <th>artist</th>\n",
              "      <th>gallery</th>\n",
              "      <th>price</th>\n",
              "      <th>gene_id</th>\n",
              "      <th>category_id</th>\n",
              "      <th>parsing_date</th>\n",
              "      <th>updating_date</th>\n",
              "    </tr>\n",
              "  </thead>\n",
              "  <tbody>\n",
              "    <tr>\n",
              "      <th>132903</th>\n",
              "      <td>6247862634f6b2000b712474</td>\n",
              "      <td>PORTRAIT STYLISÉ DE JACQUELINE (TÊTE DE FEMME)...</td>\n",
              "      <td>https://d32dm0rphc51dk.cloudfront.net/dIHPcpGC...</td>\n",
              "      <td>1962</td>\n",
              "      <td>Pablo PicassoPORTRAIT STYLISÉ DE JACQUELINE (T...</td>\n",
              "      <td>Robert Fontaine Gallery</td>\n",
              "      <td>Price on request</td>\n",
              "      <td>08052</td>\n",
              "      <td>08</td>\n",
              "      <td>2022-04-08</td>\n",
              "      <td>2022-04-08</td>\n",
              "    </tr>\n",
              "    <tr>\n",
              "      <th>162343</th>\n",
              "      <td>6247862634f6b2000b712474</td>\n",
              "      <td>PORTRAIT STYLISÉ DE JACQUELINE (TÊTE DE FEMME)...</td>\n",
              "      <td>https://d32dm0rphc51dk.cloudfront.net/3gxxZMXE...</td>\n",
              "      <td>1962</td>\n",
              "      <td>Pablo PicassoPORTRAIT STYLISÉ DE JACQUELINE (T...</td>\n",
              "      <td>Robert Fontaine Gallery</td>\n",
              "      <td>Price on request</td>\n",
              "      <td>08062</td>\n",
              "      <td>08</td>\n",
              "      <td>2022-04-08</td>\n",
              "      <td>2022-04-08</td>\n",
              "    </tr>\n",
              "  </tbody>\n",
              "</table>\n",
              "</div>\n",
              "      <button class=\"colab-df-convert\" onclick=\"convertToInteractive('df-8ce31d81-5f35-4ea7-9bf1-25bac1d6247d')\"\n",
              "              title=\"Convert this dataframe to an interactive table.\"\n",
              "              style=\"display:none;\">\n",
              "        \n",
              "  <svg xmlns=\"http://www.w3.org/2000/svg\" height=\"24px\"viewBox=\"0 0 24 24\"\n",
              "       width=\"24px\">\n",
              "    <path d=\"M0 0h24v24H0V0z\" fill=\"none\"/>\n",
              "    <path d=\"M18.56 5.44l.94 2.06.94-2.06 2.06-.94-2.06-.94-.94-2.06-.94 2.06-2.06.94zm-11 1L8.5 8.5l.94-2.06 2.06-.94-2.06-.94L8.5 2.5l-.94 2.06-2.06.94zm10 10l.94 2.06.94-2.06 2.06-.94-2.06-.94-.94-2.06-.94 2.06-2.06.94z\"/><path d=\"M17.41 7.96l-1.37-1.37c-.4-.4-.92-.59-1.43-.59-.52 0-1.04.2-1.43.59L10.3 9.45l-7.72 7.72c-.78.78-.78 2.05 0 2.83L4 21.41c.39.39.9.59 1.41.59.51 0 1.02-.2 1.41-.59l7.78-7.78 2.81-2.81c.8-.78.8-2.07 0-2.86zM5.41 20L4 18.59l7.72-7.72 1.47 1.35L5.41 20z\"/>\n",
              "  </svg>\n",
              "      </button>\n",
              "      \n",
              "  <style>\n",
              "    .colab-df-container {\n",
              "      display:flex;\n",
              "      flex-wrap:wrap;\n",
              "      gap: 12px;\n",
              "    }\n",
              "\n",
              "    .colab-df-convert {\n",
              "      background-color: #E8F0FE;\n",
              "      border: none;\n",
              "      border-radius: 50%;\n",
              "      cursor: pointer;\n",
              "      display: none;\n",
              "      fill: #1967D2;\n",
              "      height: 32px;\n",
              "      padding: 0 0 0 0;\n",
              "      width: 32px;\n",
              "    }\n",
              "\n",
              "    .colab-df-convert:hover {\n",
              "      background-color: #E2EBFA;\n",
              "      box-shadow: 0px 1px 2px rgba(60, 64, 67, 0.3), 0px 1px 3px 1px rgba(60, 64, 67, 0.15);\n",
              "      fill: #174EA6;\n",
              "    }\n",
              "\n",
              "    [theme=dark] .colab-df-convert {\n",
              "      background-color: #3B4455;\n",
              "      fill: #D2E3FC;\n",
              "    }\n",
              "\n",
              "    [theme=dark] .colab-df-convert:hover {\n",
              "      background-color: #434B5C;\n",
              "      box-shadow: 0px 1px 3px 1px rgba(0, 0, 0, 0.15);\n",
              "      filter: drop-shadow(0px 1px 2px rgba(0, 0, 0, 0.3));\n",
              "      fill: #FFFFFF;\n",
              "    }\n",
              "  </style>\n",
              "\n",
              "      <script>\n",
              "        const buttonEl =\n",
              "          document.querySelector('#df-8ce31d81-5f35-4ea7-9bf1-25bac1d6247d button.colab-df-convert');\n",
              "        buttonEl.style.display =\n",
              "          google.colab.kernel.accessAllowed ? 'block' : 'none';\n",
              "\n",
              "        async function convertToInteractive(key) {\n",
              "          const element = document.querySelector('#df-8ce31d81-5f35-4ea7-9bf1-25bac1d6247d');\n",
              "          const dataTable =\n",
              "            await google.colab.kernel.invokeFunction('convertToInteractive',\n",
              "                                                     [key], {});\n",
              "          if (!dataTable) return;\n",
              "\n",
              "          const docLinkHtml = 'Like what you see? Visit the ' +\n",
              "            '<a target=\"_blank\" href=https://colab.research.google.com/notebooks/data_table.ipynb>data table notebook</a>'\n",
              "            + ' to learn more about interactive tables.';\n",
              "          element.innerHTML = '';\n",
              "          dataTable['output_type'] = 'display_data';\n",
              "          await google.colab.output.renderOutput(dataTable, element);\n",
              "          const docLink = document.createElement('div');\n",
              "          docLink.innerHTML = docLinkHtml;\n",
              "          element.appendChild(docLink);\n",
              "        }\n",
              "      </script>\n",
              "    </div>\n",
              "  </div>\n",
              "  "
            ],
            "text/plain": [
              "                        artsy_id  \\\n",
              "132903  6247862634f6b2000b712474   \n",
              "162343  6247862634f6b2000b712474   \n",
              "\n",
              "                                                     name  \\\n",
              "132903  PORTRAIT STYLISÉ DE JACQUELINE (TÊTE DE FEMME)...   \n",
              "162343  PORTRAIT STYLISÉ DE JACQUELINE (TÊTE DE FEMME)...   \n",
              "\n",
              "                                                     link  year  \\\n",
              "132903  https://d32dm0rphc51dk.cloudfront.net/dIHPcpGC...  1962   \n",
              "162343  https://d32dm0rphc51dk.cloudfront.net/3gxxZMXE...  1962   \n",
              "\n",
              "                                                   artist  \\\n",
              "132903  Pablo PicassoPORTRAIT STYLISÉ DE JACQUELINE (T...   \n",
              "162343  Pablo PicassoPORTRAIT STYLISÉ DE JACQUELINE (T...   \n",
              "\n",
              "                        gallery              price gene_id category_id  \\\n",
              "132903  Robert Fontaine Gallery  Price on request    08052          08   \n",
              "162343  Robert Fontaine Gallery  Price on request    08062          08   \n",
              "\n",
              "       parsing_date updating_date  \n",
              "132903   2022-04-08    2022-04-08  \n",
              "162343   2022-04-08    2022-04-08  "
            ]
          },
          "execution_count": 227,
          "metadata": {},
          "output_type": "execute_result"
        }
      ],
      "source": [
        "id = links_prob_list[0]\n",
        "df_cat_dat_total.loc[df_cat_dat_total['artsy_id']==id]"
      ]
    },
    {
      "cell_type": "code",
      "execution_count": null,
      "metadata": {
        "colab": {
          "base_uri": "https://localhost:8080/"
        },
        "id": "YSWBiXmfqqqH",
        "outputId": "d87e86b6-3760-4e7f-f6c8-67917db1f704"
      },
      "outputs": [
        {
          "name": "stdout",
          "output_type": "stream",
          "text": [
            "https://d32dm0rphc51dk.cloudfront.net/dIHPcpGCPw8QyU-YRGQRMA/large.jpg\n",
            "https://d32dm0rphc51dk.cloudfront.net/3gxxZMXEYPjh8hhouRj9lQ/large.jpg\n"
          ]
        }
      ],
      "source": [
        "for link in df_cat_dat_total.loc[df_cat_dat_total['artsy_id']==id]['link'].unique():\n",
        "  print(link)"
      ]
    },
    {
      "cell_type": "markdown",
      "metadata": {
        "id": "Bp2n15jXtEyb"
      },
      "source": [
        "These pictures are the same but shots were done with different light. Replace the last one."
      ]
    },
    {
      "cell_type": "code",
      "execution_count": null,
      "metadata": {
        "id": "ndQcOVOKsXsT"
      },
      "outputs": [],
      "source": [
        "df_cat_dat_total.at[162343, 'link'] = 'https://d32dm0rphc51dk.cloudfront.net/dIHPcpGCPw8QyU-YRGQRMA/large.jpg'"
      ]
    },
    {
      "cell_type": "code",
      "execution_count": null,
      "metadata": {
        "colab": {
          "base_uri": "https://localhost:8080/"
        },
        "id": "NbfT-f22tkZR",
        "outputId": "2aa93bbf-f9b3-4553-e223-537df3008c49"
      },
      "outputs": [
        {
          "name": "stdout",
          "output_type": "stream",
          "text": [
            "138882\n",
            "138882\n"
          ]
        }
      ],
      "source": [
        "print(df_cat_dat_total['artsy_id'].nunique())\n",
        "print(df_cat_dat_total['link'].nunique())"
      ]
    },
    {
      "cell_type": "code",
      "execution_count": null,
      "metadata": {
        "id": "06kTc_F-tGiI"
      },
      "outputs": [],
      "source": [
        "save_df_file(df_cat_dat_total, '/artsy_temp_data_08.csv', 'backup') # 4. Save df to csv file\n",
        "#df_cat_dat_total = open_file_csv('/artsy_temp_data_05.csv', 'backup') # 3. Open file.csv"
      ]
    },
    {
      "cell_type": "code",
      "execution_count": null,
      "metadata": {
        "id": "dNCYORCNQbqC"
      },
      "outputs": [],
      "source": [
        "# !!! links' problem solving !!!"
      ]
    },
    {
      "cell_type": "markdown",
      "metadata": {
        "id": "0AbtoZweRYHF"
      },
      "source": [
        "### Artists"
      ]
    },
    {
      "cell_type": "markdown",
      "metadata": {
        "id": "hZ2aPW2EslTv"
      },
      "source": [
        "We need to create artist id for artworks dict. Artists seem to be ok."
      ]
    },
    {
      "cell_type": "code",
      "execution_count": null,
      "metadata": {
        "id": "WoJh58dJurXX"
      },
      "outputs": [],
      "source": [
        "#df_cat_dat_total = open_file_csv('/artsy_temp_data_05.csv', 'backup') # 3. Open file.csv"
      ]
    },
    {
      "cell_type": "code",
      "execution_count": 211,
      "metadata": {
        "colab": {
          "base_uri": "https://localhost:8080/"
        },
        "id": "epFwJ96IjAhD",
        "outputId": "13befc6b-6af6-4478-cbcd-5b4fc6a6c90b"
      },
      "outputs": [
        {
          "output_type": "stream",
          "name": "stdout",
          "text": [
            "10905\n",
            "10905\n"
          ]
        }
      ],
      "source": [
        "print(df_cat_dat_total['artist'].dropna().nunique())\n",
        "artists_list = sorted(df_cat_dat_total['artist'].dropna().unique().tolist())\n",
        "print(len(artists_list))"
      ]
    },
    {
      "cell_type": "code",
      "execution_count": 212,
      "metadata": {
        "colab": {
          "base_uri": "https://localhost:8080/"
        },
        "id": "HTJPuo7AcT_-",
        "outputId": "9eeffdb1-693e-40e2-d488-9bf85398f181"
      },
      "outputs": [
        {
          "output_type": "execute_result",
          "data": {
            "text/plain": [
              "[' Unknown,  Athens, Greece, EuropeBlack-Figure Neck Amphora, ca. 510 BCEJ. Paul Getty MuseumPermanent collection ',\n",
              " ' Unknown,  Athens, Greece, EuropeCockleshell Aryballos, 525 -475 BCEJ. Paul Getty MuseumPermanent collection ',\n",
              " ' Unknown,  Athens, Greece, EuropeExaleiptron, ca. 500 BCEJ. Paul Getty MuseumPermanent collection ',\n",
              " ' Unknown,  Corinth, Greece, EuropeCorinthian Aryballos,  first quarter of 6th century B.C.J. Paul Getty MuseumPermanent collection ',\n",
              " ' Unknown,  East GreeceAlabastron,  2nd century B.C.J. Paul Getty MuseumPermanent collection ',\n",
              " ' Unknown,  Eastern MediterraneanAryballos,  6th centuryJ. Paul Getty MuseumPermanent collection ',\n",
              " ' Unknown,  Eastern MediterraneanFlask,  3rd centuryJ. Paul Getty MuseumPermanent collection ',\n",
              " ' Unknown,  Eastern MediterraneanSprinkler Flask,  3rd -4th centuryJ. Paul Getty MuseumPermanent collection ',\n",
              " ' Unknown,  Greece, Cyclades, EuropeCollared Jar of the Grotta-Pelos Group, 3000 BCE -2800 B.C.J. Paul Getty MuseumPermanent collection ',\n",
              " ' Unknown,  Greece, Cyclades, EuropeCylindrical Pyxis and Lid of the Grotta-Pelos Group, 3000 BCE -2800 B.C.J. Paul Getty MuseumPermanent collection ']"
            ]
          },
          "metadata": {},
          "execution_count": 212
        }
      ],
      "source": [
        "artists_list[:10]"
      ]
    },
    {
      "cell_type": "code",
      "execution_count": 213,
      "metadata": {
        "colab": {
          "base_uri": "https://localhost:8080/"
        },
        "id": "94R1q485jAYy",
        "outputId": "9816ef2a-9333-4c5b-cfd3-395f4b10b80a"
      },
      "outputs": [
        {
          "output_type": "execute_result",
          "data": {
            "text/plain": [
              "['touche—toucheOnyx, 2020Everyday GallerySold ',\n",
              " 'touche—touchePlanet B, 2020Everyday Gallery€2,020 ',\n",
              " \"touche—toucheSectional sofa 'BBC's', 2019Everyday GallerySold \",\n",
              " 'touche—toucheTale of Frac, 2020Everyday Gallery€6,400 ',\n",
              " 'touche—toucheThe Colour of Honey, 2020Everyday Gallery€6,700 ',\n",
              " \"touche—toucheWall Mirror 'Abby S.', 2019Everyday Gallery€3,150 \",\n",
              " 'wells coatesBauhaus Oak Desk, ca. 1930Fears and KahnSold ',\n",
              " 'Élisabeth JouliaLamp, ca. 1955Galerie Pascal Cuisinier ',\n",
              " 'Émile-Jacques RuhlmannModele Sultzer, Writing Table, ca. circa 1932Maison GerardUS$100,000–US$150,000 ',\n",
              " 'Óscar Tusquets BlancaSet of Six Oscar Tusquets “Lucas” Dining Chairs for Driade, ca. 1987Almond & Co.Price on request ']"
            ]
          },
          "metadata": {},
          "execution_count": 213
        }
      ],
      "source": [
        "artists_list[-10:]"
      ]
    },
    {
      "cell_type": "code",
      "execution_count": 214,
      "metadata": {
        "colab": {
          "base_uri": "https://localhost:8080/"
        },
        "id": "volUmC_mjAUz",
        "outputId": "2566ebdb-3b82-44ba-c2a7-67a3e9f4b0f3"
      },
      "outputs": [
        {
          "output_type": "execute_result",
          "data": {
            "text/plain": [
              "['Joaquim TenreiroSide table, 1950Mercado ModernoPrice on request ',\n",
              " 'Joaquim TenreiroSide table, ca. 1950Mercado ModernoSold ',\n",
              " 'Joaquim TenreiroSofa and Armchairs, 1958Mercado ModernoPrice on request ',\n",
              " 'Joaquim TenreiroSofa, c. 1950sSalon 94 DesignSold ',\n",
              " 'Joaquim TenreiroSoft-edged rectangular dining table in jacaranda with black underpainted glass top and curved legs. , 1949Jeff Lincoln Art+DesignPrice on request ',\n",
              " 'Joaquim TenreiroThree seat sofa, 1958Gokelaere & RobinsonSold ',\n",
              " 'Joaquim TenreiroTriangular Table, 1960 / 2021ETELPrice on request ',\n",
              " 'Joaquim TenreiroWhite Circular Table, 1960 / 2021ETELPrice on request ',\n",
              " 'Joaquim TenreiroYelloe Circular Table, 1960 / 2021ETELPrice on request ',\n",
              " 'Joaquim Tenreirolong bench, 1950sMercado ModernoPrice on request ']"
            ]
          },
          "metadata": {},
          "execution_count": 214
        }
      ],
      "source": [
        "artists_list[(len(artists_list)//2):(len(artists_list)//2+10)]"
      ]
    },
    {
      "cell_type": "markdown",
      "metadata": {
        "id": "OZUdCtqYtoj2"
      },
      "source": [
        "Not ok actually. If it become important, I'll do somthing with it. -> It became. Look 'artists name revision' block"
      ]
    },
    {
      "cell_type": "code",
      "execution_count": null,
      "metadata": {
        "id": "1g32NZbW1IEB"
      },
      "outputs": [],
      "source": [
        "#decoding_table = (\n",
        "#'\\x00'     #  0x00 -> NULL\n",
        "#'\\x01'     #  0x01 -> START OF HEADING\n",
        "#'\\x02'     #  0x02 -> START OF TEXT\n",
        "#'\\x03'     #  0x03 -> END OF TEXT\n",
        "#'\\x04'     #  0x04 -> END OF TRANSMISSION\n",
        "#'\\x05'     #  0x05 -> ENQUIRY\n",
        "#'\\x06'     #  0x06 -> ACKNOWLEDGE\n",
        "#'\\x07'     #  0x07 -> BELL\n",
        "#'\\x08'     #  0x08 -> BACKSPACE\n",
        "#'\\t'       #  0x09 -> HORIZONTAL TABULATION\n",
        "#'\\n'       #  0x0A -> LINE FEED\n",
        "#'\\x0b'     #  0x0B -> VERTICAL TABULATION\n",
        "#'\\x0c'     #  0x0C -> FORM FEED\n",
        "#'\\r'       #  0x0D -> CARRIAGE RETURN\n",
        "#'\\x0e'     #  0x0E -> SHIFT OUT\n",
        "#'\\x0f'     #  0x0F -> SHIFT IN\n",
        "#'\\x10'     #  0x10 -> DATA LINK ESCAPE\n",
        "#'\\x11'     #  0x11 -> DE\n",
        "#add the character code here\n",
        "#'\\u200b' #add this in the file and save it."
      ]
    },
    {
      "cell_type": "markdown",
      "metadata": {
        "id": "9NOvAdqiRbW5"
      },
      "source": [
        "### Galleries"
      ]
    },
    {
      "cell_type": "markdown",
      "metadata": {
        "id": "yPs-Ahpeudzj"
      },
      "source": [
        "We also need to create gallery id for artworks dict."
      ]
    },
    {
      "cell_type": "code",
      "execution_count": null,
      "metadata": {
        "colab": {
          "base_uri": "https://localhost:8080/"
        },
        "id": "A0q3baYGmeJj",
        "outputId": "19e2eb18-1144-46c1-dbb6-d4fbeae129e4"
      },
      "outputs": [
        {
          "name": "stdout",
          "output_type": "stream",
          "text": [
            "4104\n",
            "4104\n"
          ]
        }
      ],
      "source": [
        "print(df_cat_dat_total['gallery'].nunique())\n",
        "gallery_list = sorted(df_cat_dat_total['gallery'].dropna().unique().tolist())\n",
        "print(len(gallery_list))"
      ]
    },
    {
      "cell_type": "code",
      "execution_count": null,
      "metadata": {
        "colab": {
          "base_uri": "https://localhost:8080/"
        },
        "id": "1Qfg0NuZmeGJ",
        "outputId": "0e124fd4-1ff2-4a9c-cecd-594d0811ccbc"
      },
      "outputs": [
        {
          "data": {
            "text/plain": [
              "[' \"A Brush with Reality: Calligraphic Paintings by Lobsang Choephel\" at Tibet House US, New York (2015)',\n",
              " ' \"Disguise: Masks and Global African Art\" at Seattle Art Museum, Seattle (2015)',\n",
              " '\"2015 Wolfgang Hahn Prize: Michael Krebber and R. H. Quaytman\" at Museum Ludwig, Cologne (2015)',\n",
              " '\"21er Raum: Iman Issa - Material\" at 21er Haus, Vienna',\n",
              " '\"4 REAL & TRUE 2. Wim Wenders. Landscapes. Photographs.\" at Museum Kunstpalast, Düsseldorf (2015)',\n",
              " '\"A Beautiful Lie – Eckersberg\" at Statens Museum for Kunst, Copenhagen ',\n",
              " '\"A New Dynasty – Created in China\"  Venue: ARoS Aarhus Museum of Art, Aarhus ',\n",
              " '\"Abstract/Object\" at Art Institute of Chicago, Chicago',\n",
              " '\"Accrochage 3: Pop & Music/Sound\" at Fondation Louis Vuitton, Paris',\n",
              " '\"Adventures of the Black Square: Abstract Art and Society 1915-2015\" at Whitechapel Gallery, London (2015)']"
            ]
          },
          "execution_count": 100,
          "metadata": {},
          "output_type": "execute_result"
        }
      ],
      "source": [
        "gallery_list[:10]"
      ]
    },
    {
      "cell_type": "code",
      "execution_count": null,
      "metadata": {
        "colab": {
          "base_uri": "https://localhost:8080/"
        },
        "id": "S6DKQmaumeC0",
        "outputId": "36a03dcf-a9ae-4569-dcdc-41aa5783fe7e"
      },
      "outputs": [
        {
          "data": {
            "text/plain": [
              "['°CLAIRbyKahn Galerie',\n",
              " 'ÆRENA Galleries and Gardens',\n",
              " 'Österreichische Galerie Belvedere, Vienna',\n",
              " '“Clifford Ross: Landscape Seen & Imagined” at MASS MoCA, North Adams (2015)',\n",
              " '“Collectionism and Modernity. Two Case Studies: The Im Obersteg and Rudolf Staechelin Collections” at the Museo Reina Sofía, Madrid',\n",
              " '“Created by a Hand with but a Chisel Armed…” Sculpture in St Petersburg’s Palaces in the 19th Century at The State Hermitage Museum, 2016',\n",
              " '“L’image volée” at Fondazione Prada, Milan (2016)',\n",
              " '√K Contemporary',\n",
              " '首都藝術中心 Capital Art Center',\n",
              " '鳩ノ森美術 / HATONOMORI ART']"
            ]
          },
          "execution_count": 101,
          "metadata": {},
          "output_type": "execute_result"
        }
      ],
      "source": [
        "gallery_list[-10:]"
      ]
    },
    {
      "cell_type": "markdown",
      "metadata": {
        "id": "W9o2lhKHvp7v"
      },
      "source": [
        "Seems like in some cases there's a exhibition name in a gellery name box. Let's try to divide them."
      ]
    },
    {
      "cell_type": "code",
      "execution_count": null,
      "metadata": {
        "colab": {
          "base_uri": "https://localhost:8080/"
        },
        "id": "ohi385Iymd_X",
        "outputId": "a7df0739-38df-4d4c-d34e-150de728a646"
      },
      "outputs": [
        {
          "name": "stdout",
          "output_type": "stream",
          "text": [
            "5256\n",
            "5360\n"
          ]
        }
      ],
      "source": [
        "exhib_list = []\n",
        "gal_list = []\n",
        "\n",
        "for g in gallery_list:\n",
        "  try:\n",
        "    gal = g.split(' at ')[-1]\n",
        "    gal_list.append(gal)\n",
        "    exhib_list.append(g.replace(' at ' + gal, ''))\n",
        "  except:\n",
        "    gal_list.append(g)\n",
        "\n",
        "gal_list = sorted(list(set(gal_list)))\n",
        "print(len(gal_list))\n",
        "exhib_list = sorted(list(set(exhib_list)))\n",
        "print(len(exhib_list))"
      ]
    },
    {
      "cell_type": "code",
      "execution_count": null,
      "metadata": {
        "colab": {
          "base_uri": "https://localhost:8080/"
        },
        "id": "smRNvpwamd7j",
        "outputId": "a84e1651-78bb-4e30-8b59-efd18728fdeb"
      },
      "outputs": [
        {
          "data": {
            "text/plain": [
              "[' Museum Ludwig, Cologne',\n",
              " '\"A New Dynasty – Created in China\"  Venue: ARoS Aarhus Museum of Art, Aarhus ',\n",
              " '\"Anselm Kiefer\"at Centre Pompidou, Paris',\n",
              " '\"Barbie\"at Musée des Arts Décoratifs, Paris',\n",
              " '\"Chen Zhen: Without going to New York and Paris, life could be internationalized\"  Venue: Rockbund Art Museum, Shanghai',\n",
              " '\"Inhuman\"at Fridericianum, Kassel, Germany',\n",
              " '\"Joaquín Torres-García: The Arcadian Modern\"at the Museum of Modern Art, New York',\n",
              " '\"Landscapes of Belgium\" Musée d\\'Ixelles, Brussels (2015)',\n",
              " '\"Philippe Parreno: Anywhere, Anywhere, Out Of The World\", Palais de Tokyo, Paris (2013)',\n",
              " '\"This Art is Your Art\" Competition: The White House Historical Association, Artsy, and the Robert Rauschenberg Foundation']"
            ]
          },
          "execution_count": 31,
          "metadata": {},
          "output_type": "execute_result"
        }
      ],
      "source": [
        "gal_list[:10]"
      ]
    },
    {
      "cell_type": "markdown",
      "metadata": {
        "id": "PfhDtMdCwMcu"
      },
      "source": [
        "The data is not clear and this info is not critical, leave it as it is, won't do gallery id."
      ]
    },
    {
      "cell_type": "markdown",
      "metadata": {
        "id": "BQyZmM1PYQRV"
      },
      "source": [
        "### Artworks"
      ]
    },
    {
      "cell_type": "code",
      "execution_count": null,
      "metadata": {
        "id": "QpYJpYkNXR8s"
      },
      "outputs": [],
      "source": [
        "#df_cat_dat_total = open_file_csv('/artsy_temp_data_05.csv', 'backup') # 3. Open file.csv"
      ]
    },
    {
      "cell_type": "code",
      "execution_count": null,
      "metadata": {
        "colab": {
          "base_uri": "https://localhost:8080/"
        },
        "id": "ZmWv9iFgrvkm",
        "outputId": "a889193e-eb47-4a42-a8aa-62f64c5ade64"
      },
      "outputs": [
        {
          "data": {
            "text/plain": [
              "Index(['artsy_id', 'name', 'link', 'year', 'artist', 'gallery', 'price',\n",
              "       'gene_id', 'category_id', 'parsing_date', 'updating_date'],\n",
              "      dtype='object')"
            ]
          },
          "execution_count": 67,
          "metadata": {},
          "output_type": "execute_result"
        }
      ],
      "source": [
        "df_cat_dat_total.columns"
      ]
    },
    {
      "cell_type": "markdown",
      "metadata": {
        "id": "Pa2AIo94Ymux"
      },
      "source": [
        "For ***one to one connections***"
      ]
    },
    {
      "cell_type": "code",
      "execution_count": 215,
      "metadata": {
        "colab": {
          "base_uri": "https://localhost:8080/",
          "height": 513
        },
        "id": "dsQDTXJ4Ysyx",
        "outputId": "4e539f78-e8ff-4650-c241-db24c9bbcd94"
      },
      "outputs": [
        {
          "output_type": "execute_result",
          "data": {
            "text/plain": [
              "                      artsy_id                        name  \\\n",
              "1484  54aeaa537261695c3bb00a00  The Wild Shall Wild Remain   \n",
              "5564  5d8f8bbc12f011000e8ea6a9      Rectangular side table   \n",
              "4827  5c1146d723a3b8768cc5c799            Trèfle low table   \n",
              "6437  5e8631e10bf924000e6e50cb         Two-tier Side Table   \n",
              "4487  5b8efbebc2fefa1f43b2ef87              Nike Deadstock   \n",
              "\n",
              "                                                   link        year  \\\n",
              "1484  https://d32dm0rphc51dk.cloudfront.net/P1Fnnd0r...        2014   \n",
              "5564  https://d32dm0rphc51dk.cloudfront.net/ttVe8uJ8...  Circa 1930   \n",
              "4827  https://d32dm0rphc51dk.cloudfront.net/LKR5gqgd...    ca. 1955   \n",
              "6437  https://d32dm0rphc51dk.cloudfront.net/g8nVCnRB...        1955   \n",
              "4487  https://d32dm0rphc51dk.cloudfront.net/NqufsAAG...        2013   \n",
              "\n",
              "                                                 artist  \\\n",
              "1484  Jaclyn KainThe Wild Shall Wild Remain, 2014Gal...   \n",
              "5564  André SornayRectangular side table, Circa 1930...   \n",
              "4827  Jean RoyèreTrèfle low table, ca. 1955Galerie P...   \n",
              "6437  Maison LeleuTwo-tier Side Table, 1955Maison Ge...   \n",
              "4487  TF DUTCHMANNike Deadstock, 2013Deep Space Gall...   \n",
              "\n",
              "                       gallery              price parsing_date updating_date  \\\n",
              "1484              Gallery NAGA            US$600    2022-04-19    2022-04-19   \n",
              "5564  Galerie Alain Marcelpoil              Sold    2022-04-19    2022-04-19   \n",
              "4827    Galerie Patrick Seguin  Price on request    2022-04-19    2022-04-19   \n",
              "6437             Maison Gerard         US$28,000    2022-04-19    2022-04-19   \n",
              "4487        Deep Space Gallery              Sold    2022-04-19    2022-04-19   \n",
              "\n",
              "      count  \n",
              "1484      1  \n",
              "5564      2  \n",
              "4827      2  \n",
              "6437      2  \n",
              "4487      2  "
            ],
            "text/html": [
              "\n",
              "  <div id=\"df-5eb201e3-347b-4799-a5c6-d880b2ab4285\">\n",
              "    <div class=\"colab-df-container\">\n",
              "      <div>\n",
              "<style scoped>\n",
              "    .dataframe tbody tr th:only-of-type {\n",
              "        vertical-align: middle;\n",
              "    }\n",
              "\n",
              "    .dataframe tbody tr th {\n",
              "        vertical-align: top;\n",
              "    }\n",
              "\n",
              "    .dataframe thead th {\n",
              "        text-align: right;\n",
              "    }\n",
              "</style>\n",
              "<table border=\"1\" class=\"dataframe\">\n",
              "  <thead>\n",
              "    <tr style=\"text-align: right;\">\n",
              "      <th></th>\n",
              "      <th>artsy_id</th>\n",
              "      <th>name</th>\n",
              "      <th>link</th>\n",
              "      <th>year</th>\n",
              "      <th>artist</th>\n",
              "      <th>gallery</th>\n",
              "      <th>price</th>\n",
              "      <th>parsing_date</th>\n",
              "      <th>updating_date</th>\n",
              "      <th>count</th>\n",
              "    </tr>\n",
              "  </thead>\n",
              "  <tbody>\n",
              "    <tr>\n",
              "      <th>1484</th>\n",
              "      <td>54aeaa537261695c3bb00a00</td>\n",
              "      <td>The Wild Shall Wild Remain</td>\n",
              "      <td>https://d32dm0rphc51dk.cloudfront.net/P1Fnnd0r...</td>\n",
              "      <td>2014</td>\n",
              "      <td>Jaclyn KainThe Wild Shall Wild Remain, 2014Gal...</td>\n",
              "      <td>Gallery NAGA</td>\n",
              "      <td>US$600</td>\n",
              "      <td>2022-04-19</td>\n",
              "      <td>2022-04-19</td>\n",
              "      <td>1</td>\n",
              "    </tr>\n",
              "    <tr>\n",
              "      <th>5564</th>\n",
              "      <td>5d8f8bbc12f011000e8ea6a9</td>\n",
              "      <td>Rectangular side table</td>\n",
              "      <td>https://d32dm0rphc51dk.cloudfront.net/ttVe8uJ8...</td>\n",
              "      <td>Circa 1930</td>\n",
              "      <td>André SornayRectangular side table, Circa 1930...</td>\n",
              "      <td>Galerie Alain Marcelpoil</td>\n",
              "      <td>Sold</td>\n",
              "      <td>2022-04-19</td>\n",
              "      <td>2022-04-19</td>\n",
              "      <td>2</td>\n",
              "    </tr>\n",
              "    <tr>\n",
              "      <th>4827</th>\n",
              "      <td>5c1146d723a3b8768cc5c799</td>\n",
              "      <td>Trèfle low table</td>\n",
              "      <td>https://d32dm0rphc51dk.cloudfront.net/LKR5gqgd...</td>\n",
              "      <td>ca. 1955</td>\n",
              "      <td>Jean RoyèreTrèfle low table, ca. 1955Galerie P...</td>\n",
              "      <td>Galerie Patrick Seguin</td>\n",
              "      <td>Price on request</td>\n",
              "      <td>2022-04-19</td>\n",
              "      <td>2022-04-19</td>\n",
              "      <td>2</td>\n",
              "    </tr>\n",
              "    <tr>\n",
              "      <th>6437</th>\n",
              "      <td>5e8631e10bf924000e6e50cb</td>\n",
              "      <td>Two-tier Side Table</td>\n",
              "      <td>https://d32dm0rphc51dk.cloudfront.net/g8nVCnRB...</td>\n",
              "      <td>1955</td>\n",
              "      <td>Maison LeleuTwo-tier Side Table, 1955Maison Ge...</td>\n",
              "      <td>Maison Gerard</td>\n",
              "      <td>US$28,000</td>\n",
              "      <td>2022-04-19</td>\n",
              "      <td>2022-04-19</td>\n",
              "      <td>2</td>\n",
              "    </tr>\n",
              "    <tr>\n",
              "      <th>4487</th>\n",
              "      <td>5b8efbebc2fefa1f43b2ef87</td>\n",
              "      <td>Nike Deadstock</td>\n",
              "      <td>https://d32dm0rphc51dk.cloudfront.net/NqufsAAG...</td>\n",
              "      <td>2013</td>\n",
              "      <td>TF DUTCHMANNike Deadstock, 2013Deep Space Gall...</td>\n",
              "      <td>Deep Space Gallery</td>\n",
              "      <td>Sold</td>\n",
              "      <td>2022-04-19</td>\n",
              "      <td>2022-04-19</td>\n",
              "      <td>2</td>\n",
              "    </tr>\n",
              "  </tbody>\n",
              "</table>\n",
              "</div>\n",
              "      <button class=\"colab-df-convert\" onclick=\"convertToInteractive('df-5eb201e3-347b-4799-a5c6-d880b2ab4285')\"\n",
              "              title=\"Convert this dataframe to an interactive table.\"\n",
              "              style=\"display:none;\">\n",
              "        \n",
              "  <svg xmlns=\"http://www.w3.org/2000/svg\" height=\"24px\"viewBox=\"0 0 24 24\"\n",
              "       width=\"24px\">\n",
              "    <path d=\"M0 0h24v24H0V0z\" fill=\"none\"/>\n",
              "    <path d=\"M18.56 5.44l.94 2.06.94-2.06 2.06-.94-2.06-.94-.94-2.06-.94 2.06-2.06.94zm-11 1L8.5 8.5l.94-2.06 2.06-.94-2.06-.94L8.5 2.5l-.94 2.06-2.06.94zm10 10l.94 2.06.94-2.06 2.06-.94-2.06-.94-.94-2.06-.94 2.06-2.06.94z\"/><path d=\"M17.41 7.96l-1.37-1.37c-.4-.4-.92-.59-1.43-.59-.52 0-1.04.2-1.43.59L10.3 9.45l-7.72 7.72c-.78.78-.78 2.05 0 2.83L4 21.41c.39.39.9.59 1.41.59.51 0 1.02-.2 1.41-.59l7.78-7.78 2.81-2.81c.8-.78.8-2.07 0-2.86zM5.41 20L4 18.59l7.72-7.72 1.47 1.35L5.41 20z\"/>\n",
              "  </svg>\n",
              "      </button>\n",
              "      \n",
              "  <style>\n",
              "    .colab-df-container {\n",
              "      display:flex;\n",
              "      flex-wrap:wrap;\n",
              "      gap: 12px;\n",
              "    }\n",
              "\n",
              "    .colab-df-convert {\n",
              "      background-color: #E8F0FE;\n",
              "      border: none;\n",
              "      border-radius: 50%;\n",
              "      cursor: pointer;\n",
              "      display: none;\n",
              "      fill: #1967D2;\n",
              "      height: 32px;\n",
              "      padding: 0 0 0 0;\n",
              "      width: 32px;\n",
              "    }\n",
              "\n",
              "    .colab-df-convert:hover {\n",
              "      background-color: #E2EBFA;\n",
              "      box-shadow: 0px 1px 2px rgba(60, 64, 67, 0.3), 0px 1px 3px 1px rgba(60, 64, 67, 0.15);\n",
              "      fill: #174EA6;\n",
              "    }\n",
              "\n",
              "    [theme=dark] .colab-df-convert {\n",
              "      background-color: #3B4455;\n",
              "      fill: #D2E3FC;\n",
              "    }\n",
              "\n",
              "    [theme=dark] .colab-df-convert:hover {\n",
              "      background-color: #434B5C;\n",
              "      box-shadow: 0px 1px 3px 1px rgba(0, 0, 0, 0.15);\n",
              "      filter: drop-shadow(0px 1px 2px rgba(0, 0, 0, 0.3));\n",
              "      fill: #FFFFFF;\n",
              "    }\n",
              "  </style>\n",
              "\n",
              "      <script>\n",
              "        const buttonEl =\n",
              "          document.querySelector('#df-5eb201e3-347b-4799-a5c6-d880b2ab4285 button.colab-df-convert');\n",
              "        buttonEl.style.display =\n",
              "          google.colab.kernel.accessAllowed ? 'block' : 'none';\n",
              "\n",
              "        async function convertToInteractive(key) {\n",
              "          const element = document.querySelector('#df-5eb201e3-347b-4799-a5c6-d880b2ab4285');\n",
              "          const dataTable =\n",
              "            await google.colab.kernel.invokeFunction('convertToInteractive',\n",
              "                                                     [key], {});\n",
              "          if (!dataTable) return;\n",
              "\n",
              "          const docLinkHtml = 'Like what you see? Visit the ' +\n",
              "            '<a target=\"_blank\" href=https://colab.research.google.com/notebooks/data_table.ipynb>data table notebook</a>'\n",
              "            + ' to learn more about interactive tables.';\n",
              "          element.innerHTML = '';\n",
              "          dataTable['output_type'] = 'display_data';\n",
              "          await google.colab.output.renderOutput(dataTable, element);\n",
              "          const docLink = document.createElement('div');\n",
              "          docLink.innerHTML = docLinkHtml;\n",
              "          element.appendChild(docLink);\n",
              "        }\n",
              "      </script>\n",
              "    </div>\n",
              "  </div>\n",
              "  "
            ]
          },
          "metadata": {},
          "execution_count": 215
        }
      ],
      "source": [
        "one_to_one = df_cat_dat_total.groupby(['artsy_id', 'name', 'link', 'year', 'artist', 'gallery', 'price', 'parsing_date', 'updating_date'])['category_id'].agg(['count']).reset_index()\n",
        "one_to_one.sample(5)"
      ]
    },
    {
      "cell_type": "code",
      "execution_count": 216,
      "metadata": {
        "colab": {
          "base_uri": "https://localhost:8080/"
        },
        "id": "HWFA5NyCY7gH",
        "outputId": "9f92eafe-4ff6-416e-f2b9-97797af97f63"
      },
      "outputs": [
        {
          "output_type": "stream",
          "name": "stdout",
          "text": [
            "11253\n",
            "10854\n",
            "10854\n"
          ]
        }
      ],
      "source": [
        "print(df_cat_dat_total['artsy_id'].nunique())\n",
        "print(one_to_one['artsy_id'].count())\n",
        "print(one_to_one['artsy_id'].nunique())"
      ]
    },
    {
      "cell_type": "code",
      "execution_count": 217,
      "metadata": {
        "colab": {
          "base_uri": "https://localhost:8080/"
        },
        "id": "ICRlLdmzZNjH",
        "outputId": "4ae9672b-62a8-41fa-d8c0-d22c51e376fd"
      },
      "outputs": [
        {
          "output_type": "stream",
          "name": "stdout",
          "text": [
            "artsy_id count must be 11253\n",
            "\n",
            "by column name\n",
            "artsy_id count is 11253\n",
            "artsy_id nunique is 11253\n",
            "count and nunique is the same -  True\n",
            "[]\n",
            "\n",
            "by column link\n",
            "artsy_id count is 11253\n",
            "artsy_id nunique is 11253\n",
            "count and nunique is the same -  True\n",
            "[]\n",
            "\n",
            "by column year\n",
            "artsy_id count is 10989\n",
            "artsy_id nunique is 10989\n",
            "count and nunique is the same -  True\n",
            "['53907dd9275b2474bf0014e9', '5b05aac41a1e864553fdb3d6', '52418812c9dc2415da000577', '590a00e9c9dc24694a2f1ee3', '54184c9372616957a02b0500', '5c9317684f31f536d095988f', '53f642e37261692d733e0200', '553ea9dd726169189cd60000', '57191a02cd530e6593000834', '57191a02139b214a0f001e13', '581ccc529c18db3e71000fe4', '529506579c18dba92600006b', '546159497261692d43710900', '5c9315a89c63792aaedeceba', '544532f3726169636acd1200', '5a60c2128b3b8143e549b606', '58af1674b202a302a02ca508', '57238bf6cd530e186c000198', '5ba7fe14036cf52540e32c32', '50ef217c11668218e20008c5', '51a5c091275b245a2900002d', '5b7bd9aeda075b64022b342e', '5c931633495e6d7285075c98', '51a06029275b24b22300003f', '590c8f387622dd16aef04562', '5a0b031e8b0c14638bc27524', '57191a029c18db316f001aeb', '51d4966a275b249fd4000959', '58b96778275b241951e0be98', '53f642dd7261692cf9430200', '53f642df72616961fd340400', '5a0b5055c9dc2421fd34f534', '5a563ff3c9dc24617fe6e57a', '5b7cbfc3fc1230508b17b26b', '52c6491ccb4c27f6f400001b', '53f642e27261692d6eee0200', '5dc3268bc269ee000e5be6ef', '5835bb442a893a7fb800000f', '56b37ee5258faf6b820000f2', '560bfb8c72616966270000d4', '551f2f5e7261692d678c3900', '5b154f2ccd530e7594fbac28', '60abb91800c3c700130c89a9', '53dd336e72616952e6580300', '57238b1d8b3b81443200018f', '580e0981c9dc2465960006ad', '53f642dd7261692d804b0200', '5a68cdc4c9dc244a228b88e2', '5eceb45f91131b000d0b0da6', '51df21318b3b81bcd400086c', '590a02229c18db408d62a530', '5a9487b2139b212d3b8f55af', '57c493d8a09a671255000090', '53f642dd7261692d6d2a0200', '53dd24d87261697fae220300', '5835bb459c18db09b9000000', '588e823ea09a67194d000afd', '53dd24e07261692db5020300', '59ba967acd530e4d775b015b', '5a0aff188b3b8165ded48e51', '575dc4cf139b21722e002187', '5ab6a62f9c18db16e67be91f', '618191dbdf30f3000da5db31', '59f9f555275b244eed86277d', '51e5be668b3b81f6dd000016', '5c3104b57b07e04cbc5916a2', '572c4b49cb4c273312000fa9', '51db1905275b24a58f00030b', '558d9ad172616940390008a9', '53dd528c726169566b5d0400', '56bbac232a893a2a56000237', '5bae94e397c8e1277617bff8', '51db18f4275b24d3e200031a', '52418282a09a6791dc0005df', '5c3106367b07e04cbc59178d', '575dc4c1b202a365dd00045d', '5538cb8d7261691aceff3a00', '5a563ff6c9dc2462733314f5', '5c9315491810f3353143b13d', '572e2d3db202a3660d0003d7', '5c9314199c63792aaedece85', '5a948c5cc9dc2446e9b96552', '5a68ccdc7622dd5176e77181', '50b68d5f41c8189e2400047e', '5a0e357d8b3b81668821a39b', '618191dbd51f0a000c868242', '54b425987261691fd9490200', '547364a57261694e79ec0500', '58094038a09a6710d900189b', '571a2fbdcd530e6597001598', '5c9317e4ae703c2f69f614a9', '51a5c4528b3b8147c60003c9', '58e448c89c18db0ca50c88ec', '57191a028b3b812767001e02', '51ae4b4f275b24f2f70003bd', '5b230802b202a36ae3207b15', '559c26e57261697107000183', '5c80066569d41925fc96f3da', '529506c7cd530eb87100005d', '52823df5275b24ac8200036c', '507f0473db0b7b00020007d1', '553eb0197261692b9d780000', '54b425987261693be8480200', '5b2152e79c18db257257115c', '5445362e7261691a2a120000', '5a68cbcd8b0c14383461b250', '53dc068172616958f6d70000', '618191db6f8352000b0b9275', '5ab6b470c9dc241432cf9f14', '5745cd58b202a366000006db', '5bef196d09bf832603db47a8', '575dc5d5cb4c2765e7000439', '54452ea67261692d6a380100', '55ddb0967261693db000001b', '51a05fcf8b3b812e4100003f', '53dd2ce272616946aa2d0300', '5a94a4e52a893a2956681d67', '56bbacbea6ca6d66f7000196', '57238d63139b2113a8000180', '5723a702cb4c27431c000433', '5a948dc6b202a34a0055dc55', '50ef218825b5226bcb000ae5', '53d840e47261690ec2370100', '52796e75a09a67466c000276', '59f0adc88b0c14749cf9985c', '5ab6accda09a671a8ae1cc5e', '51d4965b275b249fd4000950', '575dc5077622dd6657000547', '53f641ce7261692d82480200', '57238cb28b3b8144320001d3', '50744b2d9a8da500020010c1', '5c9317887699ba00284a29fa', '5749d87acb4c276601000415', '507455d8c30a3b000200122f', '545b99d67261692d53910000', '5ab44447275b243b25802274', '580943cf9c18db57700016be', '58093d348b3b8134a0001625', '5b27c6e0a09a6746d8e98bec', '5eceb4c5f5ce930012aaa88c', '5c9316e1525e89002ca92620', '5b7bd8d65b687f07dede4b37', '5a68b5f2cd530e516440b3a1', '53dd31127261695662df0300', '5569d49e7261692bac530000', '5b2152d0c9dc24469d3e5334', '5ab95655275b2402039e370d', '590a063a275b2457070ca4c2', '5924261f7622dd4d853bb039', '53dd3f4372616901710a0400', '5538cb8b72616956d9373d00', '53cac3787261691468120c00', '559af7d072616954830000dd', '5c93161cab1b000028d7296c', '5489ec66726169040f610000', '5b05a704cb4c27719f5daeb8', '5b0ee8ee139b2170a29445c0', '5afd6624139b21169ba49bd0', '53dd24f172616946b9410300', '5ab961858b3b81019601bfaa', '5a510f87cd530e4f7055f417', '5c0c3e2faa4e7c439ce4f4a1', '5a949bdf139b212d3b8f6197', '5ab6b14b4b8480139a8aca72', '5bfd25cc1353fe5377733c6f', '5a01b8fb9c18db6d771a024d', '56f2a93fcb4c27657c000320', '5ab6a9917622dd1718f2769c', '5569d4aa7261696803c10100', '5809087ec9dc245cd6001249', '528ba644275b24135a000045', '53fe0d817261694d57d90000', '5a563fad8b0c14736911abf1', '5b27c6d9a6ca6d16b8511095', '5c36673e007a0e4eff644f82', '58092fde139b216aa200166e', '58091cb2c9dc245d5c001511', '528e326aa09a671739000057', '54b425987261692b30d50100', '5a0afc117622dd4d8e461fcc', '5438e87c7261693567f90600', '51df14ee275b24171c000732', '5722542a8b3b8133cb003ea7', '5df14686dc54d10012a6ca26', '56bbad4c864d8243f2000208', '53dd3e117261692d67260400', '5c7703733e5e5f6fc2223e80', '59ba9a78c9dc242d0b8f13b5', '551f346b7261695f7fb93900', '57237f76139b2113a800000a', '59b0277a275b241a1da35b56', '5bed4740f240f76acf9306ec', '53565a6fa09a677de6000243', '53dd3e637261692dabbf0300', '572c4b318b3b81225b000f40', '5a2322099c18db18805cb804', '51df27a88b3b81bcd40008ae', '5835bb46275b2427f4000004', '57f2d580275b2429d40001ef', '5c93166e525e89002ca9260e', '58b1b2778b3b811ffe3fa7d5', '56bbab791a1e8666d600010c', '5542cbc3726169290a040000', '5a01b8f9275b245010574503', '5b06ec9b5b2fba13af868818', '563a2db2726169269300026f', '57239863cd530e186c0002c3', '5c9316547699ba3be5b3a82f', '546792aa7261696ab8c91200', '5b2152d87622dd737168cbe6', '575dc526275b242b0f001bd4', '54fe2eb77261696cb3540100', '53ea81937261692d72990200', '52126cfb8b3b81a96d000020', '5a68b3a4275b24713ff85eba', '51df1504275b2416a5000776', '56fd8c2ecb4c2737170009a9', '52125f197622ddbaac000088', '536b8d529c18dbcfc200035a', '5a0e357a8b0c14638bc456ad', '618191db466eb7000d439ff6', '553ea7d6726169189f0a0100', '5c770a402d602423e3640604', '572379378b3b8134a8004cf2', '5a060e199c18db747a28a7f7', '5eceb4a0d484e0000f1133f3', '5eceb47bde0926000d2933bb', '5bfd281ad0edf65e34203776', '539722347622ddb33600006f', '575dc52cb202a365d90004ad', '507455ce40b6620002001249', '580e09408b0c14657d000e83', '5a563fb97622dd50b491f470', '5079b91c7e836a000200001f', '52e01537a09a6770f90000ee', '618191db09ac4d000bcc8242', '54679cc67261691cc44b1300', '51df14f8275b24535f00070c', '53dd24cc72616946aef00200', '5eceb4c5aa507c000edefdbf', '5bae946121437506c1ca9d2b', '59564da9c9dc24729252f787', '5afd6633139b21169ba49bdf', '575dc4e87622dd665700053d', '5b765d9c5817843dc60b7c0f', '51d4967b8b3b815576000996', '54679c997261695c3aaa1300', '51e84f2e8b3b81091d000b17', '5299f55b139b21b2a90000a3', '57237a74cb4c2765e300265a', '5a060e252a893a39a102f8fb', '5c931739a43c937ffd2ae52b', '618191db5bc960000b698eb7', '52def8f89acc8a6c5a000101', '579b942c7076d02e78001d88', '5bfd25ce09220621e2d5d084', '572772f0b202a365dd00033a', '5a9481c2b202a34a0055d3ea', '618191db5cab1d000cecc483', '51fae4f7275b24ff0c0001c0', '5397230d9c18db592c0003f9', '575dc4dc139b21722e002191', '51df1a448b3b81bcd40007c2', '5b05a130a09a677ad7a6efc6']\n",
            "\n",
            "by column artist\n",
            "artsy_id count is 11253\n",
            "artsy_id nunique is 11253\n",
            "count and nunique is the same -  True\n",
            "[]\n",
            "\n",
            "by column gallery\n",
            "artsy_id count is 11116\n",
            "artsy_id nunique is 11116\n",
            "count and nunique is the same -  True\n",
            "['528a7d13139b214e3e000435', '5526fe467261692347e30700', '551de57f726169748d0c0d00', '5526ff7b7261694d159b0800', '515220a466f3e98c5a000091', '5526ff7b7261691f32bd0800', '515220b1a14e868e85000097', '51521d77be4f70b6550000ab', '51521f94be4f70b6550000cb', '515224cba14e868e850000d7', '5525d7bd7261692e873b0b00', '51521f95c26f4b142a00009c', '515223d866f3e98c5a0000af', '5526fd3a7261696970840600', '5526fd397261691f3bc10700', '5152053e019fe47008000011', '51521cb066f3e96783000094', '5525d7bd7261695c26db0a00', '5153391479393aa92f000052', '515204cebc1be102e9000166', '551f2f5e7261692d678c3900', '515224c2c26f4b7af20000d2', '51520528bc1be102e9000176', '5152185dbe4f70d267000075', '5152220fc26f4b7af20000bd', '5153372479393ac96e00005d', '580b7397139b216b2d002a08', '5152052bb1dd9bb9b5000035', '515223dc66f3e96783000112', '580b74cda09a6710d9002c16', '5152220dc26f4b142a0000aa', '528a7d17b202a3596800026d', '50b02883a87aae260c000088', '50b032830b43d660be0000a0', '51521cb066f3e98c5a000066', '527233ef9c18db7e8a000d79', '5152053d019fe458d300005a', '51522207a14e861cc50000db', '528a7d1a9c18db75f30003ce', '51521f8fa14e868e8500007b', '5526fd867261690279cd0800', '5152185fc26f4b7af2000069', '5153390fcd56cc0d58000025', '51521608be4f70b65500002f', '515204c8019fe458d3000053', '5153391079393ac96e00006a', '51521cb5be4f70d2670000a4', '50b02865e26d92ad0a00005b', '551df6be72616946f0040e00', '51533721c38e122ecb000085', '515224c0c26f4b142a0000bb', '527233ef139b214823000f64', '51521d74a14e868e85000066', '5526ff7b7261697111750800', '51522208c26f4b7af20000b6', '5526fe017261694d00cc0700', '551df78f7261692add250300', '5526fd8c7261693494f70700', '5153391375db6c4d7a000181', '51521f94a14e868e85000082', '51520535bc1be1d53d00018d', '51533a9779393aa92f0000a5', '51522209be4f70b6550000ee', '5526fcae7261695794270800', '551f35a97261692b507f1200', '5153371acd56cc0d5800000c', '5526fe4272616934afd40700', '51533a7b79393ac96e0000cb', '50b028b2fba6a3e45d000047', '51521606c26f4b142a000041', '515223d3a14e861cc50000f7', '551f70ab7261695693484200', '551f2db972616954c2bd3900', '51533a7ccd56cc68200000d5', '5525d7bd7261692e8dcb0a00', '5526fdff726169233ae30800', '5525d7bc7261694468ad0b00', '51520671b1dd9bb9b5000048', '551f30637261696171663c00', '5153372a75db6c4d7a00015f', '515220b266f3e967830000df', '5526ff7b72616902b05e0800', '562ba1f772616964080000ad', '5153391c79393ac96e000075', '515224c6c26f4b142a0000c2', '580b74bfcd530e658e0000e4', '5152058f019fe458d3000063', '5153371975db6c3334000175', '5153372279393aa92f000030', '5153391475db6c3334000193', '5152058f5f80255417000032', '551dfa6572616966d63e0e00', '551df5967261695487d30f00', '5153371c75db6c4d7a000158', '51549c2a6e35888c750000d7', '509d2c286dbbc748a60003b8', '551f346b7261695f7fb93900', '551f33417261695693de3a00', '5526fe4572616971236f0800', '5153391775db6c4d7a000188', '5152160ba14e868e8500002c', '551df94672616918a5020f00', '515224ca66f3e98c5a0000c1', '5154a42ee8030ff76400049a', '51521cb1c26f4b7af200008b', '5152066eb1dd9b35af00002d', '515204d1bc1be102e900016d', '515223d566f3e96783000104', '551df8c572616966dcef0e00', '515220aa66f3e967830000d8', '551de65b7261692ae3da0000', '551efdce7261696171d03600', '5525d5b07261695a7bc20a00', '51521cb2be4f70b655000095', '51533a80cd56cc0d580000ac', '515223d4be4f70d2670000ff', '51521610be4f70d267000044', '551f33f27261692999531500', '5153371e75db6c333400017c', '51521d78a14e868e8500006d', '5152220866f3e967830000ed', '5152220c66f3e98c5a0000a6', '51521f9566f3e967830000bc', '5526fd877261696f83d40700', '515224c8c26f4b7af20000d9', '528a7d07c9dc240eed0000fe', '551dfa007261692e1de10e00', '5153391975db6c333400019a', '551df4d0726169190add0e00', '551f34c07261692adb0e1100', '51521d75a14e861cc500009f', '5526fe457261693882a90700', '551efb9e7261692b6ea40900', '515220aca14e868e85000090', '5152220766f3e98c5a00009f', '515220a6a14e861cc50000cd', '51521f92be4f70d2670000c7']\n",
            "\n",
            "by column price\n",
            "artsy_id count is 11253\n",
            "artsy_id nunique is 11253\n",
            "count and nunique is the same -  True\n",
            "[]\n",
            "\n",
            "by column parsing_date\n",
            "artsy_id count is 11253\n",
            "artsy_id nunique is 11253\n",
            "count and nunique is the same -  True\n",
            "[]\n",
            "\n",
            "by column updating_date\n",
            "artsy_id count is 11253\n",
            "artsy_id nunique is 11253\n",
            "count and nunique is the same -  True\n",
            "[]\n",
            "\n"
          ]
        }
      ],
      "source": [
        "print('artsy_id count must be', df_cat_dat_total['artsy_id'].nunique())\n",
        "print('')\n",
        "for col in ['name', 'link', 'year', 'artist', 'gallery', 'price', 'parsing_date', 'updating_date']:\n",
        "  group_df = df_cat_dat_total.groupby(['artsy_id', col])['category_id'].agg(['count']).reset_index()\n",
        "  print('by column', col)\n",
        "  print('artsy_id count is', group_df['artsy_id'].count())\n",
        "  print('artsy_id nunique is', group_df['artsy_id'].nunique())\n",
        "  print('count and nunique is the same - ', group_df['artsy_id'].count()==group_df['artsy_id'].nunique())\n",
        "  print(list(set(df_cat_dat_total['artsy_id'].unique()) - set(group_df['artsy_id'].unique())))\n",
        "  print('')"
      ]
    },
    {
      "cell_type": "code",
      "execution_count": null,
      "metadata": {
        "colab": {
          "base_uri": "https://localhost:8080/",
          "height": 485
        },
        "id": "DrbZf-W0Z1OR",
        "outputId": "1c8fb32c-cdfc-45da-8ea3-bfd8834d18d3"
      },
      "outputs": [
        {
          "data": {
            "text/html": [
              "\n",
              "  <div id=\"df-35238b05-643d-40a5-a45c-9ebcc124cdd9\">\n",
              "    <div class=\"colab-df-container\">\n",
              "      <div>\n",
              "<style scoped>\n",
              "    .dataframe tbody tr th:only-of-type {\n",
              "        vertical-align: middle;\n",
              "    }\n",
              "\n",
              "    .dataframe tbody tr th {\n",
              "        vertical-align: top;\n",
              "    }\n",
              "\n",
              "    .dataframe thead th {\n",
              "        text-align: right;\n",
              "    }\n",
              "</style>\n",
              "<table border=\"1\" class=\"dataframe\">\n",
              "  <thead>\n",
              "    <tr style=\"text-align: right;\">\n",
              "      <th></th>\n",
              "      <th>artsy_id</th>\n",
              "      <th>name</th>\n",
              "      <th>link</th>\n",
              "      <th>year</th>\n",
              "      <th>artist</th>\n",
              "      <th>gallery</th>\n",
              "      <th>price</th>\n",
              "      <th>gene_id</th>\n",
              "      <th>category_id</th>\n",
              "      <th>parsing_date</th>\n",
              "      <th>updating_date</th>\n",
              "    </tr>\n",
              "  </thead>\n",
              "  <tbody>\n",
              "    <tr>\n",
              "      <th>27348</th>\n",
              "      <td>57ee50cbcd530e65fa00003f</td>\n",
              "      <td>A Large White-ground Lekythos, Attributed to t...</td>\n",
              "      <td>https://d32dm0rphc51dk.cloudfront.net/91vHFCn1...</td>\n",
              "      <td>Attic-ca. 410 B.C.</td>\n",
              "      <td>Unknown GreekA Large White-ground Lekythos, At...</td>\n",
              "      <td>NaN</td>\n",
              "      <td></td>\n",
              "      <td>07012</td>\n",
              "      <td>07</td>\n",
              "      <td>2022-04-09</td>\n",
              "      <td>2022-04-09</td>\n",
              "    </tr>\n",
              "    <tr>\n",
              "      <th>27360</th>\n",
              "      <td>57e27e8a7622dd65fc000380</td>\n",
              "      <td>A Torso of an Athlete</td>\n",
              "      <td>https://d32dm0rphc51dk.cloudfront.net/rgHMZzri...</td>\n",
              "      <td>Late HellenisticRoman1st cent. B.C.</td>\n",
              "      <td>Unknown GreekA Torso of an Athlete, Late Helle...</td>\n",
              "      <td>NaN</td>\n",
              "      <td>Sold</td>\n",
              "      <td>07012</td>\n",
              "      <td>07</td>\n",
              "      <td>2022-04-09</td>\n",
              "      <td>2022-04-09</td>\n",
              "    </tr>\n",
              "    <tr>\n",
              "      <th>28164</th>\n",
              "      <td>5ade13f79c18db6586720662</td>\n",
              "      <td>An Attic Bilingual Eye-cup</td>\n",
              "      <td>https://d32dm0rphc51dk.cloudfront.net/5qmgVLxc...</td>\n",
              "      <td>NaN</td>\n",
              "      <td>Unknown GreekAn Attic Bilingual Eye-cup</td>\n",
              "      <td>NaN</td>\n",
              "      <td></td>\n",
              "      <td>07012</td>\n",
              "      <td>07</td>\n",
              "      <td>2022-04-09</td>\n",
              "      <td>2022-04-09</td>\n",
              "    </tr>\n",
              "  </tbody>\n",
              "</table>\n",
              "</div>\n",
              "      <button class=\"colab-df-convert\" onclick=\"convertToInteractive('df-35238b05-643d-40a5-a45c-9ebcc124cdd9')\"\n",
              "              title=\"Convert this dataframe to an interactive table.\"\n",
              "              style=\"display:none;\">\n",
              "        \n",
              "  <svg xmlns=\"http://www.w3.org/2000/svg\" height=\"24px\"viewBox=\"0 0 24 24\"\n",
              "       width=\"24px\">\n",
              "    <path d=\"M0 0h24v24H0V0z\" fill=\"none\"/>\n",
              "    <path d=\"M18.56 5.44l.94 2.06.94-2.06 2.06-.94-2.06-.94-.94-2.06-.94 2.06-2.06.94zm-11 1L8.5 8.5l.94-2.06 2.06-.94-2.06-.94L8.5 2.5l-.94 2.06-2.06.94zm10 10l.94 2.06.94-2.06 2.06-.94-2.06-.94-.94-2.06-.94 2.06-2.06.94z\"/><path d=\"M17.41 7.96l-1.37-1.37c-.4-.4-.92-.59-1.43-.59-.52 0-1.04.2-1.43.59L10.3 9.45l-7.72 7.72c-.78.78-.78 2.05 0 2.83L4 21.41c.39.39.9.59 1.41.59.51 0 1.02-.2 1.41-.59l7.78-7.78 2.81-2.81c.8-.78.8-2.07 0-2.86zM5.41 20L4 18.59l7.72-7.72 1.47 1.35L5.41 20z\"/>\n",
              "  </svg>\n",
              "      </button>\n",
              "      \n",
              "  <style>\n",
              "    .colab-df-container {\n",
              "      display:flex;\n",
              "      flex-wrap:wrap;\n",
              "      gap: 12px;\n",
              "    }\n",
              "\n",
              "    .colab-df-convert {\n",
              "      background-color: #E8F0FE;\n",
              "      border: none;\n",
              "      border-radius: 50%;\n",
              "      cursor: pointer;\n",
              "      display: none;\n",
              "      fill: #1967D2;\n",
              "      height: 32px;\n",
              "      padding: 0 0 0 0;\n",
              "      width: 32px;\n",
              "    }\n",
              "\n",
              "    .colab-df-convert:hover {\n",
              "      background-color: #E2EBFA;\n",
              "      box-shadow: 0px 1px 2px rgba(60, 64, 67, 0.3), 0px 1px 3px 1px rgba(60, 64, 67, 0.15);\n",
              "      fill: #174EA6;\n",
              "    }\n",
              "\n",
              "    [theme=dark] .colab-df-convert {\n",
              "      background-color: #3B4455;\n",
              "      fill: #D2E3FC;\n",
              "    }\n",
              "\n",
              "    [theme=dark] .colab-df-convert:hover {\n",
              "      background-color: #434B5C;\n",
              "      box-shadow: 0px 1px 3px 1px rgba(0, 0, 0, 0.15);\n",
              "      filter: drop-shadow(0px 1px 2px rgba(0, 0, 0, 0.3));\n",
              "      fill: #FFFFFF;\n",
              "    }\n",
              "  </style>\n",
              "\n",
              "      <script>\n",
              "        const buttonEl =\n",
              "          document.querySelector('#df-35238b05-643d-40a5-a45c-9ebcc124cdd9 button.colab-df-convert');\n",
              "        buttonEl.style.display =\n",
              "          google.colab.kernel.accessAllowed ? 'block' : 'none';\n",
              "\n",
              "        async function convertToInteractive(key) {\n",
              "          const element = document.querySelector('#df-35238b05-643d-40a5-a45c-9ebcc124cdd9');\n",
              "          const dataTable =\n",
              "            await google.colab.kernel.invokeFunction('convertToInteractive',\n",
              "                                                     [key], {});\n",
              "          if (!dataTable) return;\n",
              "\n",
              "          const docLinkHtml = 'Like what you see? Visit the ' +\n",
              "            '<a target=\"_blank\" href=https://colab.research.google.com/notebooks/data_table.ipynb>data table notebook</a>'\n",
              "            + ' to learn more about interactive tables.';\n",
              "          element.innerHTML = '';\n",
              "          dataTable['output_type'] = 'display_data';\n",
              "          await google.colab.output.renderOutput(dataTable, element);\n",
              "          const docLink = document.createElement('div');\n",
              "          docLink.innerHTML = docLinkHtml;\n",
              "          element.appendChild(docLink);\n",
              "        }\n",
              "      </script>\n",
              "    </div>\n",
              "  </div>\n",
              "  "
            ],
            "text/plain": [
              "                       artsy_id  \\\n",
              "27348  57ee50cbcd530e65fa00003f   \n",
              "27360  57e27e8a7622dd65fc000380   \n",
              "28164  5ade13f79c18db6586720662   \n",
              "\n",
              "                                                    name  \\\n",
              "27348  A Large White-ground Lekythos, Attributed to t...   \n",
              "27360                              A Torso of an Athlete   \n",
              "28164                         An Attic Bilingual Eye-cup   \n",
              "\n",
              "                                                    link  \\\n",
              "27348  https://d32dm0rphc51dk.cloudfront.net/91vHFCn1...   \n",
              "27360  https://d32dm0rphc51dk.cloudfront.net/rgHMZzri...   \n",
              "28164  https://d32dm0rphc51dk.cloudfront.net/5qmgVLxc...   \n",
              "\n",
              "                                      year  \\\n",
              "27348                   Attic-ca. 410 B.C.   \n",
              "27360  Late HellenisticRoman1st cent. B.C.   \n",
              "28164                                  NaN   \n",
              "\n",
              "                                                  artist gallery  price  \\\n",
              "27348  Unknown GreekA Large White-ground Lekythos, At...     NaN          \n",
              "27360  Unknown GreekA Torso of an Athlete, Late Helle...     NaN  Sold    \n",
              "28164           Unknown GreekAn Attic Bilingual Eye-cup      NaN          \n",
              "\n",
              "      gene_id category_id parsing_date updating_date  \n",
              "27348   07012          07   2022-04-09    2022-04-09  \n",
              "27360   07012          07   2022-04-09    2022-04-09  \n",
              "28164   07012          07   2022-04-09    2022-04-09  "
            ]
          },
          "execution_count": 286,
          "metadata": {},
          "output_type": "execute_result"
        }
      ],
      "source": [
        "df_cat_dat_total.loc[df_cat_dat_total['artsy_id'].isin(['5ade13f79c18db6586720662', '57e27e8a7622dd65fc000380', '57ee50cbcd530e65fa00003f'])]"
      ]
    },
    {
      "cell_type": "markdown",
      "metadata": {
        "id": "BGdYsheiaK9c"
      },
      "source": [
        "Due to NaNs in 'name' (sometimes), 'year' and 'gallery' we can loose ids. And we have problems with prices, sometimes in years and artists."
      ]
    },
    {
      "cell_type": "markdown",
      "metadata": {
        "id": "VC7Gbw-kJDK7"
      },
      "source": [
        "#### name"
      ]
    },
    {
      "cell_type": "code",
      "execution_count": null,
      "metadata": {
        "colab": {
          "base_uri": "https://localhost:8080/"
        },
        "id": "czugDYpAL4Is",
        "outputId": "7d5f427a-4047-40fc-aacf-53507c1daef1"
      },
      "outputs": [
        {
          "data": {
            "text/plain": [
              "1"
            ]
          },
          "execution_count": 241,
          "metadata": {},
          "output_type": "execute_result"
        }
      ],
      "source": [
        "artsy_id_name = df_cat_dat_total[['artsy_id', 'name']]\n",
        "artsy_id_name.drop_duplicates(subset = ['name', 'artsy_id'], keep = 'first', inplace = True)\n",
        "id_name_g = artsy_id_name.groupby(['artsy_id'])['name'].agg(['count']).reset_index()\n",
        "\n",
        "id_prob_name = id_name_g.loc[id_name_g['count']>1]['artsy_id'].tolist()\n",
        "len(id_prob_name)"
      ]
    },
    {
      "cell_type": "code",
      "execution_count": null,
      "metadata": {
        "colab": {
          "base_uri": "https://localhost:8080/",
          "height": 467
        },
        "id": "PVKO_MtZL4Iu",
        "outputId": "db7e37e7-e81c-4d2c-b5ef-38badcc7d601"
      },
      "outputs": [
        {
          "data": {
            "text/html": [
              "\n",
              "  <div id=\"df-95e1ae4a-960f-40b5-b982-f642dcccdab7\">\n",
              "    <div class=\"colab-df-container\">\n",
              "      <div>\n",
              "<style scoped>\n",
              "    .dataframe tbody tr th:only-of-type {\n",
              "        vertical-align: middle;\n",
              "    }\n",
              "\n",
              "    .dataframe tbody tr th {\n",
              "        vertical-align: top;\n",
              "    }\n",
              "\n",
              "    .dataframe thead th {\n",
              "        text-align: right;\n",
              "    }\n",
              "</style>\n",
              "<table border=\"1\" class=\"dataframe\">\n",
              "  <thead>\n",
              "    <tr style=\"text-align: right;\">\n",
              "      <th></th>\n",
              "      <th>artsy_id</th>\n",
              "      <th>name</th>\n",
              "      <th>link</th>\n",
              "      <th>year</th>\n",
              "      <th>artist</th>\n",
              "      <th>gallery</th>\n",
              "      <th>price</th>\n",
              "      <th>gene_id</th>\n",
              "      <th>category_id</th>\n",
              "      <th>parsing_date</th>\n",
              "      <th>updating_date</th>\n",
              "    </tr>\n",
              "  </thead>\n",
              "  <tbody>\n",
              "    <tr>\n",
              "      <th>91463</th>\n",
              "      <td>62346eea92005e000e7ed5c0</td>\n",
              "      <td>Chasing Goof Fortune - Hiroshima Sleepless Nig...</td>\n",
              "      <td>https://d32dm0rphc51dk.cloudfront.net/iaGiNT0W...</td>\n",
              "      <td>2010</td>\n",
              "      <td>Ori GershtChasing Goof Fortune - Hiroshima Sle...</td>\n",
              "      <td>Galleria Bianconi</td>\n",
              "      <td>€13,000–€15,000</td>\n",
              "      <td>08037</td>\n",
              "      <td>08</td>\n",
              "      <td>2022-04-08</td>\n",
              "      <td>2022-04-08</td>\n",
              "    </tr>\n",
              "    <tr>\n",
              "      <th>111536</th>\n",
              "      <td>62346eea92005e000e7ed5c0</td>\n",
              "      <td>Chasing Good Fortune - Hiroshima Sleepless Nig...</td>\n",
              "      <td>https://d32dm0rphc51dk.cloudfront.net/iaGiNT0W...</td>\n",
              "      <td>2010</td>\n",
              "      <td>Ori GershtChasing Good Fortune - Hiroshima Sle...</td>\n",
              "      <td>Galleria Bianconi</td>\n",
              "      <td>€13,000–€15,000</td>\n",
              "      <td>08043</td>\n",
              "      <td>08</td>\n",
              "      <td>2022-04-08</td>\n",
              "      <td>2022-04-08</td>\n",
              "    </tr>\n",
              "    <tr>\n",
              "      <th>122202</th>\n",
              "      <td>62346eea92005e000e7ed5c0</td>\n",
              "      <td>Chasing Good Fortune - Hiroshima Sleepless Nig...</td>\n",
              "      <td>https://d32dm0rphc51dk.cloudfront.net/iaGiNT0W...</td>\n",
              "      <td>2010</td>\n",
              "      <td>Ori GershtChasing Good Fortune - Hiroshima Sle...</td>\n",
              "      <td>Galleria Bianconi</td>\n",
              "      <td>€13,000–€15,000</td>\n",
              "      <td>08048</td>\n",
              "      <td>08</td>\n",
              "      <td>2022-04-08</td>\n",
              "      <td>2022-04-08</td>\n",
              "    </tr>\n",
              "  </tbody>\n",
              "</table>\n",
              "</div>\n",
              "      <button class=\"colab-df-convert\" onclick=\"convertToInteractive('df-95e1ae4a-960f-40b5-b982-f642dcccdab7')\"\n",
              "              title=\"Convert this dataframe to an interactive table.\"\n",
              "              style=\"display:none;\">\n",
              "        \n",
              "  <svg xmlns=\"http://www.w3.org/2000/svg\" height=\"24px\"viewBox=\"0 0 24 24\"\n",
              "       width=\"24px\">\n",
              "    <path d=\"M0 0h24v24H0V0z\" fill=\"none\"/>\n",
              "    <path d=\"M18.56 5.44l.94 2.06.94-2.06 2.06-.94-2.06-.94-.94-2.06-.94 2.06-2.06.94zm-11 1L8.5 8.5l.94-2.06 2.06-.94-2.06-.94L8.5 2.5l-.94 2.06-2.06.94zm10 10l.94 2.06.94-2.06 2.06-.94-2.06-.94-.94-2.06-.94 2.06-2.06.94z\"/><path d=\"M17.41 7.96l-1.37-1.37c-.4-.4-.92-.59-1.43-.59-.52 0-1.04.2-1.43.59L10.3 9.45l-7.72 7.72c-.78.78-.78 2.05 0 2.83L4 21.41c.39.39.9.59 1.41.59.51 0 1.02-.2 1.41-.59l7.78-7.78 2.81-2.81c.8-.78.8-2.07 0-2.86zM5.41 20L4 18.59l7.72-7.72 1.47 1.35L5.41 20z\"/>\n",
              "  </svg>\n",
              "      </button>\n",
              "      \n",
              "  <style>\n",
              "    .colab-df-container {\n",
              "      display:flex;\n",
              "      flex-wrap:wrap;\n",
              "      gap: 12px;\n",
              "    }\n",
              "\n",
              "    .colab-df-convert {\n",
              "      background-color: #E8F0FE;\n",
              "      border: none;\n",
              "      border-radius: 50%;\n",
              "      cursor: pointer;\n",
              "      display: none;\n",
              "      fill: #1967D2;\n",
              "      height: 32px;\n",
              "      padding: 0 0 0 0;\n",
              "      width: 32px;\n",
              "    }\n",
              "\n",
              "    .colab-df-convert:hover {\n",
              "      background-color: #E2EBFA;\n",
              "      box-shadow: 0px 1px 2px rgba(60, 64, 67, 0.3), 0px 1px 3px 1px rgba(60, 64, 67, 0.15);\n",
              "      fill: #174EA6;\n",
              "    }\n",
              "\n",
              "    [theme=dark] .colab-df-convert {\n",
              "      background-color: #3B4455;\n",
              "      fill: #D2E3FC;\n",
              "    }\n",
              "\n",
              "    [theme=dark] .colab-df-convert:hover {\n",
              "      background-color: #434B5C;\n",
              "      box-shadow: 0px 1px 3px 1px rgba(0, 0, 0, 0.15);\n",
              "      filter: drop-shadow(0px 1px 2px rgba(0, 0, 0, 0.3));\n",
              "      fill: #FFFFFF;\n",
              "    }\n",
              "  </style>\n",
              "\n",
              "      <script>\n",
              "        const buttonEl =\n",
              "          document.querySelector('#df-95e1ae4a-960f-40b5-b982-f642dcccdab7 button.colab-df-convert');\n",
              "        buttonEl.style.display =\n",
              "          google.colab.kernel.accessAllowed ? 'block' : 'none';\n",
              "\n",
              "        async function convertToInteractive(key) {\n",
              "          const element = document.querySelector('#df-95e1ae4a-960f-40b5-b982-f642dcccdab7');\n",
              "          const dataTable =\n",
              "            await google.colab.kernel.invokeFunction('convertToInteractive',\n",
              "                                                     [key], {});\n",
              "          if (!dataTable) return;\n",
              "\n",
              "          const docLinkHtml = 'Like what you see? Visit the ' +\n",
              "            '<a target=\"_blank\" href=https://colab.research.google.com/notebooks/data_table.ipynb>data table notebook</a>'\n",
              "            + ' to learn more about interactive tables.';\n",
              "          element.innerHTML = '';\n",
              "          dataTable['output_type'] = 'display_data';\n",
              "          await google.colab.output.renderOutput(dataTable, element);\n",
              "          const docLink = document.createElement('div');\n",
              "          docLink.innerHTML = docLinkHtml;\n",
              "          element.appendChild(docLink);\n",
              "        }\n",
              "      </script>\n",
              "    </div>\n",
              "  </div>\n",
              "  "
            ],
            "text/plain": [
              "                        artsy_id  \\\n",
              "91463   62346eea92005e000e7ed5c0   \n",
              "111536  62346eea92005e000e7ed5c0   \n",
              "122202  62346eea92005e000e7ed5c0   \n",
              "\n",
              "                                                     name  \\\n",
              "91463   Chasing Goof Fortune - Hiroshima Sleepless Nig...   \n",
              "111536  Chasing Good Fortune - Hiroshima Sleepless Nig...   \n",
              "122202  Chasing Good Fortune - Hiroshima Sleepless Nig...   \n",
              "\n",
              "                                                     link  year  \\\n",
              "91463   https://d32dm0rphc51dk.cloudfront.net/iaGiNT0W...  2010   \n",
              "111536  https://d32dm0rphc51dk.cloudfront.net/iaGiNT0W...  2010   \n",
              "122202  https://d32dm0rphc51dk.cloudfront.net/iaGiNT0W...  2010   \n",
              "\n",
              "                                                   artist            gallery  \\\n",
              "91463   Ori GershtChasing Goof Fortune - Hiroshima Sle...  Galleria Bianconi   \n",
              "111536  Ori GershtChasing Good Fortune - Hiroshima Sle...  Galleria Bianconi   \n",
              "122202  Ori GershtChasing Good Fortune - Hiroshima Sle...  Galleria Bianconi   \n",
              "\n",
              "                   price gene_id category_id parsing_date updating_date  \n",
              "91463   €13,000–€15,000    08037          08   2022-04-08    2022-04-08  \n",
              "111536  €13,000–€15,000    08043          08   2022-04-08    2022-04-08  \n",
              "122202  €13,000–€15,000    08048          08   2022-04-08    2022-04-08  "
            ]
          },
          "execution_count": 242,
          "metadata": {},
          "output_type": "execute_result"
        }
      ],
      "source": [
        "inx = 0\n",
        "df_cat_dat_total.loc[df_cat_dat_total['artsy_id']==id_prob_name[inx]]"
      ]
    },
    {
      "cell_type": "code",
      "execution_count": null,
      "metadata": {
        "colab": {
          "base_uri": "https://localhost:8080/"
        },
        "id": "K6h_XQ2vL4Iv",
        "outputId": "5d284f25-a1fe-45d5-ff88-003d31c785b7"
      },
      "outputs": [
        {
          "data": {
            "text/plain": [
              "array(['Chasing Goof Fortune - Hiroshima Sleepless Nights - Never Again 01',\n",
              "       'Chasing Good Fortune - Hiroshima Sleepless Nights - Never Again 01'],\n",
              "      dtype=object)"
            ]
          },
          "execution_count": 243,
          "metadata": {},
          "output_type": "execute_result"
        }
      ],
      "source": [
        "inx_list = df_cat_dat_total.loc[df_cat_dat_total['artsy_id']==id_prob_name[inx]].index.tolist()\n",
        "\n",
        "name_list = df_cat_dat_total.loc[df_cat_dat_total['artsy_id']==id_prob_name[inx]]['name'].unique()\n",
        "name_list"
      ]
    },
    {
      "cell_type": "code",
      "execution_count": null,
      "metadata": {
        "id": "zQFmp3W0L4Iv"
      },
      "outputs": [],
      "source": [
        "for i in inx_list:\n",
        "  df_cat_dat_total.at[i, 'name'] = name_list[0]"
      ]
    },
    {
      "cell_type": "markdown",
      "metadata": {
        "id": "lUZ1HBIUvQbw"
      },
      "source": [
        "#### price"
      ]
    },
    {
      "cell_type": "code",
      "execution_count": null,
      "metadata": {
        "colab": {
          "base_uri": "https://localhost:8080/"
        },
        "id": "jFcO0v-DaZ15",
        "outputId": "1841a3e4-d27f-4086-ce28-ff063e20f532"
      },
      "outputs": [
        {
          "data": {
            "text/plain": [
              "1"
            ]
          },
          "execution_count": 751,
          "metadata": {},
          "output_type": "execute_result"
        }
      ],
      "source": [
        "artsy_id_price = df_cat_dat_total[['artsy_id', 'price']]\n",
        "artsy_id_price.drop_duplicates(subset = ['price', 'artsy_id'], keep = 'first', inplace = True)\n",
        "id_price_g = artsy_id_price.groupby(['artsy_id'])['price'].agg(['count']).reset_index()\n",
        "\n",
        "id_prob_price = id_price_g.loc[id_price_g['count']>1]['artsy_id'].tolist()\n",
        "len(id_prob_price)"
      ]
    },
    {
      "cell_type": "markdown",
      "metadata": {
        "id": "9gWybpWybWfz"
      },
      "source": [
        "In different genes mentioned price could be different. In most cases prices are very similar -> put the mode or one that in the interval. Sometims there isn't a mode or it's 'Price on request'. Put the maximum. We don't need history here."
      ]
    },
    {
      "cell_type": "code",
      "execution_count": null,
      "metadata": {
        "colab": {
          "base_uri": "https://localhost:8080/",
          "height": 315
        },
        "id": "jrvEYuzma0bJ",
        "outputId": "1cc24754-2a99-4fe9-94ab-50298e15e7ac"
      },
      "outputs": [
        {
          "data": {
            "text/html": [
              "\n",
              "  <div id=\"df-6d2568a3-ef92-4647-8320-557e0a8afbf3\">\n",
              "    <div class=\"colab-df-container\">\n",
              "      <div>\n",
              "<style scoped>\n",
              "    .dataframe tbody tr th:only-of-type {\n",
              "        vertical-align: middle;\n",
              "    }\n",
              "\n",
              "    .dataframe tbody tr th {\n",
              "        vertical-align: top;\n",
              "    }\n",
              "\n",
              "    .dataframe thead th {\n",
              "        text-align: right;\n",
              "    }\n",
              "</style>\n",
              "<table border=\"1\" class=\"dataframe\">\n",
              "  <thead>\n",
              "    <tr style=\"text-align: right;\">\n",
              "      <th></th>\n",
              "      <th>artsy_id</th>\n",
              "      <th>name</th>\n",
              "      <th>link</th>\n",
              "      <th>year</th>\n",
              "      <th>artist</th>\n",
              "      <th>gallery</th>\n",
              "      <th>price</th>\n",
              "      <th>gene_id</th>\n",
              "      <th>category_id</th>\n",
              "      <th>parsing_date</th>\n",
              "      <th>updating_date</th>\n",
              "    </tr>\n",
              "  </thead>\n",
              "  <tbody>\n",
              "    <tr>\n",
              "      <th>5106</th>\n",
              "      <td>5c75c7b07f2e1f1daf553e74</td>\n",
              "      <td>Homage to the Square: Full (Rug)</td>\n",
              "      <td>https://d32dm0rphc51dk.cloudfront.net/Y-veD8oj...</td>\n",
              "      <td>Current production based on 1962 work</td>\n",
              "      <td>Josef AlbersHomage to the Square: Full (Rug), ...</td>\n",
              "      <td>Artware Editions</td>\n",
              "      <td>Sold</td>\n",
              "      <td>13003</td>\n",
              "      <td>13</td>\n",
              "      <td>2022-04-09</td>\n",
              "      <td>2022-04-09</td>\n",
              "    </tr>\n",
              "    <tr>\n",
              "      <th>14367</th>\n",
              "      <td>5c75c7b07f2e1f1daf553e74</td>\n",
              "      <td>Homage to the Square: Full (Rug)</td>\n",
              "      <td>https://d32dm0rphc51dk.cloudfront.net/Y-veD8oj...</td>\n",
              "      <td>Current production based on 1962 work</td>\n",
              "      <td>Josef AlbersHomage to the Square: Full (Rug), ...</td>\n",
              "      <td>Artware Editions</td>\n",
              "      <td>US$1,250</td>\n",
              "      <td>13005</td>\n",
              "      <td>13</td>\n",
              "      <td>2022-04-19</td>\n",
              "      <td>2022-04-19</td>\n",
              "    </tr>\n",
              "  </tbody>\n",
              "</table>\n",
              "</div>\n",
              "      <button class=\"colab-df-convert\" onclick=\"convertToInteractive('df-6d2568a3-ef92-4647-8320-557e0a8afbf3')\"\n",
              "              title=\"Convert this dataframe to an interactive table.\"\n",
              "              style=\"display:none;\">\n",
              "        \n",
              "  <svg xmlns=\"http://www.w3.org/2000/svg\" height=\"24px\"viewBox=\"0 0 24 24\"\n",
              "       width=\"24px\">\n",
              "    <path d=\"M0 0h24v24H0V0z\" fill=\"none\"/>\n",
              "    <path d=\"M18.56 5.44l.94 2.06.94-2.06 2.06-.94-2.06-.94-.94-2.06-.94 2.06-2.06.94zm-11 1L8.5 8.5l.94-2.06 2.06-.94-2.06-.94L8.5 2.5l-.94 2.06-2.06.94zm10 10l.94 2.06.94-2.06 2.06-.94-2.06-.94-.94-2.06-.94 2.06-2.06.94z\"/><path d=\"M17.41 7.96l-1.37-1.37c-.4-.4-.92-.59-1.43-.59-.52 0-1.04.2-1.43.59L10.3 9.45l-7.72 7.72c-.78.78-.78 2.05 0 2.83L4 21.41c.39.39.9.59 1.41.59.51 0 1.02-.2 1.41-.59l7.78-7.78 2.81-2.81c.8-.78.8-2.07 0-2.86zM5.41 20L4 18.59l7.72-7.72 1.47 1.35L5.41 20z\"/>\n",
              "  </svg>\n",
              "      </button>\n",
              "      \n",
              "  <style>\n",
              "    .colab-df-container {\n",
              "      display:flex;\n",
              "      flex-wrap:wrap;\n",
              "      gap: 12px;\n",
              "    }\n",
              "\n",
              "    .colab-df-convert {\n",
              "      background-color: #E8F0FE;\n",
              "      border: none;\n",
              "      border-radius: 50%;\n",
              "      cursor: pointer;\n",
              "      display: none;\n",
              "      fill: #1967D2;\n",
              "      height: 32px;\n",
              "      padding: 0 0 0 0;\n",
              "      width: 32px;\n",
              "    }\n",
              "\n",
              "    .colab-df-convert:hover {\n",
              "      background-color: #E2EBFA;\n",
              "      box-shadow: 0px 1px 2px rgba(60, 64, 67, 0.3), 0px 1px 3px 1px rgba(60, 64, 67, 0.15);\n",
              "      fill: #174EA6;\n",
              "    }\n",
              "\n",
              "    [theme=dark] .colab-df-convert {\n",
              "      background-color: #3B4455;\n",
              "      fill: #D2E3FC;\n",
              "    }\n",
              "\n",
              "    [theme=dark] .colab-df-convert:hover {\n",
              "      background-color: #434B5C;\n",
              "      box-shadow: 0px 1px 3px 1px rgba(0, 0, 0, 0.15);\n",
              "      filter: drop-shadow(0px 1px 2px rgba(0, 0, 0, 0.3));\n",
              "      fill: #FFFFFF;\n",
              "    }\n",
              "  </style>\n",
              "\n",
              "      <script>\n",
              "        const buttonEl =\n",
              "          document.querySelector('#df-6d2568a3-ef92-4647-8320-557e0a8afbf3 button.colab-df-convert');\n",
              "        buttonEl.style.display =\n",
              "          google.colab.kernel.accessAllowed ? 'block' : 'none';\n",
              "\n",
              "        async function convertToInteractive(key) {\n",
              "          const element = document.querySelector('#df-6d2568a3-ef92-4647-8320-557e0a8afbf3');\n",
              "          const dataTable =\n",
              "            await google.colab.kernel.invokeFunction('convertToInteractive',\n",
              "                                                     [key], {});\n",
              "          if (!dataTable) return;\n",
              "\n",
              "          const docLinkHtml = 'Like what you see? Visit the ' +\n",
              "            '<a target=\"_blank\" href=https://colab.research.google.com/notebooks/data_table.ipynb>data table notebook</a>'\n",
              "            + ' to learn more about interactive tables.';\n",
              "          element.innerHTML = '';\n",
              "          dataTable['output_type'] = 'display_data';\n",
              "          await google.colab.output.renderOutput(dataTable, element);\n",
              "          const docLink = document.createElement('div');\n",
              "          docLink.innerHTML = docLinkHtml;\n",
              "          element.appendChild(docLink);\n",
              "        }\n",
              "      </script>\n",
              "    </div>\n",
              "  </div>\n",
              "  "
            ],
            "text/plain": [
              "                       artsy_id                              name  \\\n",
              "5106   5c75c7b07f2e1f1daf553e74  Homage to the Square: Full (Rug)   \n",
              "14367  5c75c7b07f2e1f1daf553e74  Homage to the Square: Full (Rug)   \n",
              "\n",
              "                                                    link  \\\n",
              "5106   https://d32dm0rphc51dk.cloudfront.net/Y-veD8oj...   \n",
              "14367  https://d32dm0rphc51dk.cloudfront.net/Y-veD8oj...   \n",
              "\n",
              "                                        year  \\\n",
              "5106   Current production based on 1962 work   \n",
              "14367  Current production based on 1962 work   \n",
              "\n",
              "                                                  artist           gallery  \\\n",
              "5106   Josef AlbersHomage to the Square: Full (Rug), ...  Artware Editions   \n",
              "14367  Josef AlbersHomage to the Square: Full (Rug), ...  Artware Editions   \n",
              "\n",
              "           price gene_id category_id parsing_date updating_date  \n",
              "5106       Sold    13003          13   2022-04-09    2022-04-09  \n",
              "14367  US$1,250    13005          13   2022-04-19    2022-04-19  "
            ]
          },
          "execution_count": 752,
          "metadata": {},
          "output_type": "execute_result"
        }
      ],
      "source": [
        "inx = 0\n",
        "df_cat_dat_total.loc[df_cat_dat_total['artsy_id']==id_prob_price[inx]]\n",
        "#df_cat_dat_total.loc[df_cat_dat_total['artsy_id'].isin(id_prob_price)]"
      ]
    },
    {
      "cell_type": "code",
      "execution_count": null,
      "metadata": {
        "colab": {
          "base_uri": "https://localhost:8080/"
        },
        "id": "bAcOwf_Ca8nT",
        "outputId": "a24865fd-738f-40aa-d91e-898dce6c4ee6"
      },
      "outputs": [
        {
          "data": {
            "text/plain": [
              "array(['Sold ', 'US$1,250 '], dtype=object)"
            ]
          },
          "execution_count": 753,
          "metadata": {},
          "output_type": "execute_result"
        }
      ],
      "source": [
        "inx_list = df_cat_dat_total.loc[df_cat_dat_total['artsy_id']==id_prob_price[inx]].index.tolist()\n",
        "\n",
        "price_list = df_cat_dat_total.loc[df_cat_dat_total['artsy_id']==id_prob_price[inx]]['price'].unique()\n",
        "price_list"
      ]
    },
    {
      "cell_type": "code",
      "execution_count": null,
      "metadata": {
        "id": "AlQ6nQw-bcf-"
      },
      "outputs": [],
      "source": [
        "for i in inx_list:\n",
        "  df_cat_dat_total.at[i, 'price'] = price_list[1]"
      ]
    },
    {
      "cell_type": "code",
      "execution_count": null,
      "metadata": {
        "id": "z4dDi44QEerp"
      },
      "outputs": [],
      "source": [
        "#for i in inx_list:\n",
        "#  print(df_cat_dat_total['price'].iloc[[i]].index.values[0])"
      ]
    },
    {
      "cell_type": "markdown",
      "metadata": {
        "id": "9vKSLa5mvdEl"
      },
      "source": [
        "#### year"
      ]
    },
    {
      "cell_type": "code",
      "execution_count": null,
      "metadata": {
        "colab": {
          "base_uri": "https://localhost:8080/"
        },
        "id": "Xsc7rPlwve6h",
        "outputId": "fc74b0d4-4859-4a10-809c-8959df583aae"
      },
      "outputs": [
        {
          "data": {
            "text/plain": [
              "0"
            ]
          },
          "execution_count": 245,
          "metadata": {},
          "output_type": "execute_result"
        }
      ],
      "source": [
        "artsy_id_year = df_cat_dat_total[['artsy_id', 'year']]\n",
        "artsy_id_year.drop_duplicates(subset = ['year', 'artsy_id'], keep = 'first', inplace = True)\n",
        "id_year_g = artsy_id_year.groupby(['artsy_id'])['year'].agg(['count']).reset_index()\n",
        "\n",
        "id_prob_year = id_year_g.loc[id_year_g['count']>1]['artsy_id'].tolist()\n",
        "len(id_prob_year)"
      ]
    },
    {
      "cell_type": "code",
      "execution_count": null,
      "metadata": {
        "colab": {
          "base_uri": "https://localhost:8080/",
          "height": 280
        },
        "id": "LXvT1iS1vxYf",
        "outputId": "5f8ac2b5-2f3c-40e1-93c4-5e0bc4849c3f"
      },
      "outputs": [
        {
          "data": {
            "text/html": [
              "\n",
              "  <div id=\"df-b32bc51a-da32-4960-8ce8-0d1b138fb592\">\n",
              "    <div class=\"colab-df-container\">\n",
              "      <div>\n",
              "<style scoped>\n",
              "    .dataframe tbody tr th:only-of-type {\n",
              "        vertical-align: middle;\n",
              "    }\n",
              "\n",
              "    .dataframe tbody tr th {\n",
              "        vertical-align: top;\n",
              "    }\n",
              "\n",
              "    .dataframe thead th {\n",
              "        text-align: right;\n",
              "    }\n",
              "</style>\n",
              "<table border=\"1\" class=\"dataframe\">\n",
              "  <thead>\n",
              "    <tr style=\"text-align: right;\">\n",
              "      <th></th>\n",
              "      <th>artsy_id</th>\n",
              "      <th>name</th>\n",
              "      <th>link</th>\n",
              "      <th>year</th>\n",
              "      <th>artist</th>\n",
              "      <th>gallery</th>\n",
              "      <th>price</th>\n",
              "      <th>gene_id</th>\n",
              "      <th>category_id</th>\n",
              "      <th>parsing_date</th>\n",
              "      <th>updating_date</th>\n",
              "    </tr>\n",
              "  </thead>\n",
              "  <tbody>\n",
              "    <tr>\n",
              "      <th>65426</th>\n",
              "      <td>6229f8fddf1d11000d69c4f4</td>\n",
              "      <td>Caballero I</td>\n",
              "      <td>https://d32dm0rphc51dk.cloudfront.net/KDZ7OhTx...</td>\n",
              "      <td>2015</td>\n",
              "      <td>Manolo ValdésCaballero I, 2015Proyecto H€7,500...</td>\n",
              "      <td>Proyecto H</td>\n",
              "      <td>€9,000–€11,000</td>\n",
              "      <td>06054</td>\n",
              "      <td>06</td>\n",
              "      <td>2022-04-06</td>\n",
              "      <td>2022-04-06</td>\n",
              "    </tr>\n",
              "    <tr>\n",
              "      <th>187793</th>\n",
              "      <td>6229f8fddf1d11000d69c4f4</td>\n",
              "      <td>Caballero I</td>\n",
              "      <td>https://d32dm0rphc51dk.cloudfront.net/KDZ7OhTx...</td>\n",
              "      <td>2006</td>\n",
              "      <td>Manolo ValdésCaballero I, 2006Proyecto H€9,000...</td>\n",
              "      <td>Proyecto H</td>\n",
              "      <td>€9,000–€11,000</td>\n",
              "      <td>06131</td>\n",
              "      <td>06</td>\n",
              "      <td>2022-04-06</td>\n",
              "      <td>2022-04-06</td>\n",
              "    </tr>\n",
              "  </tbody>\n",
              "</table>\n",
              "</div>\n",
              "      <button class=\"colab-df-convert\" onclick=\"convertToInteractive('df-b32bc51a-da32-4960-8ce8-0d1b138fb592')\"\n",
              "              title=\"Convert this dataframe to an interactive table.\"\n",
              "              style=\"display:none;\">\n",
              "        \n",
              "  <svg xmlns=\"http://www.w3.org/2000/svg\" height=\"24px\"viewBox=\"0 0 24 24\"\n",
              "       width=\"24px\">\n",
              "    <path d=\"M0 0h24v24H0V0z\" fill=\"none\"/>\n",
              "    <path d=\"M18.56 5.44l.94 2.06.94-2.06 2.06-.94-2.06-.94-.94-2.06-.94 2.06-2.06.94zm-11 1L8.5 8.5l.94-2.06 2.06-.94-2.06-.94L8.5 2.5l-.94 2.06-2.06.94zm10 10l.94 2.06.94-2.06 2.06-.94-2.06-.94-.94-2.06-.94 2.06-2.06.94z\"/><path d=\"M17.41 7.96l-1.37-1.37c-.4-.4-.92-.59-1.43-.59-.52 0-1.04.2-1.43.59L10.3 9.45l-7.72 7.72c-.78.78-.78 2.05 0 2.83L4 21.41c.39.39.9.59 1.41.59.51 0 1.02-.2 1.41-.59l7.78-7.78 2.81-2.81c.8-.78.8-2.07 0-2.86zM5.41 20L4 18.59l7.72-7.72 1.47 1.35L5.41 20z\"/>\n",
              "  </svg>\n",
              "      </button>\n",
              "      \n",
              "  <style>\n",
              "    .colab-df-container {\n",
              "      display:flex;\n",
              "      flex-wrap:wrap;\n",
              "      gap: 12px;\n",
              "    }\n",
              "\n",
              "    .colab-df-convert {\n",
              "      background-color: #E8F0FE;\n",
              "      border: none;\n",
              "      border-radius: 50%;\n",
              "      cursor: pointer;\n",
              "      display: none;\n",
              "      fill: #1967D2;\n",
              "      height: 32px;\n",
              "      padding: 0 0 0 0;\n",
              "      width: 32px;\n",
              "    }\n",
              "\n",
              "    .colab-df-convert:hover {\n",
              "      background-color: #E2EBFA;\n",
              "      box-shadow: 0px 1px 2px rgba(60, 64, 67, 0.3), 0px 1px 3px 1px rgba(60, 64, 67, 0.15);\n",
              "      fill: #174EA6;\n",
              "    }\n",
              "\n",
              "    [theme=dark] .colab-df-convert {\n",
              "      background-color: #3B4455;\n",
              "      fill: #D2E3FC;\n",
              "    }\n",
              "\n",
              "    [theme=dark] .colab-df-convert:hover {\n",
              "      background-color: #434B5C;\n",
              "      box-shadow: 0px 1px 3px 1px rgba(0, 0, 0, 0.15);\n",
              "      filter: drop-shadow(0px 1px 2px rgba(0, 0, 0, 0.3));\n",
              "      fill: #FFFFFF;\n",
              "    }\n",
              "  </style>\n",
              "\n",
              "      <script>\n",
              "        const buttonEl =\n",
              "          document.querySelector('#df-b32bc51a-da32-4960-8ce8-0d1b138fb592 button.colab-df-convert');\n",
              "        buttonEl.style.display =\n",
              "          google.colab.kernel.accessAllowed ? 'block' : 'none';\n",
              "\n",
              "        async function convertToInteractive(key) {\n",
              "          const element = document.querySelector('#df-b32bc51a-da32-4960-8ce8-0d1b138fb592');\n",
              "          const dataTable =\n",
              "            await google.colab.kernel.invokeFunction('convertToInteractive',\n",
              "                                                     [key], {});\n",
              "          if (!dataTable) return;\n",
              "\n",
              "          const docLinkHtml = 'Like what you see? Visit the ' +\n",
              "            '<a target=\"_blank\" href=https://colab.research.google.com/notebooks/data_table.ipynb>data table notebook</a>'\n",
              "            + ' to learn more about interactive tables.';\n",
              "          element.innerHTML = '';\n",
              "          dataTable['output_type'] = 'display_data';\n",
              "          await google.colab.output.renderOutput(dataTable, element);\n",
              "          const docLink = document.createElement('div');\n",
              "          docLink.innerHTML = docLinkHtml;\n",
              "          element.appendChild(docLink);\n",
              "        }\n",
              "      </script>\n",
              "    </div>\n",
              "  </div>\n",
              "  "
            ],
            "text/plain": [
              "                        artsy_id         name  \\\n",
              "65426   6229f8fddf1d11000d69c4f4  Caballero I   \n",
              "187793  6229f8fddf1d11000d69c4f4  Caballero I   \n",
              "\n",
              "                                                     link  year  \\\n",
              "65426   https://d32dm0rphc51dk.cloudfront.net/KDZ7OhTx...  2015   \n",
              "187793  https://d32dm0rphc51dk.cloudfront.net/KDZ7OhTx...  2006   \n",
              "\n",
              "                                                   artist     gallery  \\\n",
              "65426   Manolo ValdésCaballero I, 2015Proyecto H€7,500...  Proyecto H   \n",
              "187793  Manolo ValdésCaballero I, 2006Proyecto H€9,000...  Proyecto H   \n",
              "\n",
              "                  price gene_id category_id parsing_date updating_date  \n",
              "65426   €9,000–€11,000    06054          06   2022-04-06    2022-04-06  \n",
              "187793  €9,000–€11,000    06131          06   2022-04-06    2022-04-06  "
            ]
          },
          "execution_count": 86,
          "metadata": {},
          "output_type": "execute_result"
        }
      ],
      "source": [
        "inx = 1\n",
        "df_cat_dat_total.loc[df_cat_dat_total['artsy_id']==id_prob_year[inx]]"
      ]
    },
    {
      "cell_type": "code",
      "execution_count": null,
      "metadata": {
        "colab": {
          "base_uri": "https://localhost:8080/"
        },
        "id": "k-KBvexdwaCo",
        "outputId": "e22c2974-b5b1-4a52-f194-685a51502f5b"
      },
      "outputs": [
        {
          "data": {
            "text/plain": [
              "array(['2015', '2006'], dtype=object)"
            ]
          },
          "execution_count": 87,
          "metadata": {},
          "output_type": "execute_result"
        }
      ],
      "source": [
        "df_cat_dat_total.loc[df_cat_dat_total['artsy_id']==id_prob_year[inx]]['year'].unique()"
      ]
    },
    {
      "cell_type": "code",
      "execution_count": null,
      "metadata": {
        "id": "XI2gbFI4wiRd"
      },
      "outputs": [],
      "source": [
        "df_cat_dat_total.at[65609, 'year'] = '2006'\n",
        "df_cat_dat_total.at[65426, 'year'] = '2006'"
      ]
    },
    {
      "cell_type": "markdown",
      "metadata": {
        "id": "z6eLWVRqL4Iq"
      },
      "source": [
        "#### gallery"
      ]
    },
    {
      "cell_type": "code",
      "execution_count": null,
      "metadata": {
        "colab": {
          "base_uri": "https://localhost:8080/"
        },
        "id": "E1zT19l_JFr0",
        "outputId": "b418b531-309b-4a86-e8fd-8b908658326d"
      },
      "outputs": [
        {
          "data": {
            "text/plain": [
              "1"
            ]
          },
          "execution_count": 307,
          "metadata": {},
          "output_type": "execute_result"
        }
      ],
      "source": [
        "artsy_id_gallery = df_cat_dat_total[['artsy_id', 'gallery']]\n",
        "artsy_id_gallery.drop_duplicates(subset = ['gallery', 'artsy_id'], keep = 'first', inplace = True)\n",
        "id_gallery_g = artsy_id_gallery.groupby(['artsy_id'])['gallery'].agg(['count']).reset_index()\n",
        "\n",
        "id_prob_gallery = id_gallery_g.loc[id_gallery_g['count']>1]['artsy_id'].tolist()\n",
        "len(id_prob_gallery)"
      ]
    },
    {
      "cell_type": "code",
      "execution_count": null,
      "metadata": {
        "colab": {
          "base_uri": "https://localhost:8080/",
          "height": 384
        },
        "id": "eX03WwIbJaBl",
        "outputId": "032acbf0-5d38-42a6-c61e-045baed926b1"
      },
      "outputs": [
        {
          "data": {
            "text/html": [
              "\n",
              "  <div id=\"df-f90b2023-c1f0-492d-8318-7b3361515937\">\n",
              "    <div class=\"colab-df-container\">\n",
              "      <div>\n",
              "<style scoped>\n",
              "    .dataframe tbody tr th:only-of-type {\n",
              "        vertical-align: middle;\n",
              "    }\n",
              "\n",
              "    .dataframe tbody tr th {\n",
              "        vertical-align: top;\n",
              "    }\n",
              "\n",
              "    .dataframe thead th {\n",
              "        text-align: right;\n",
              "    }\n",
              "</style>\n",
              "<table border=\"1\" class=\"dataframe\">\n",
              "  <thead>\n",
              "    <tr style=\"text-align: right;\">\n",
              "      <th></th>\n",
              "      <th>artsy_id</th>\n",
              "      <th>name</th>\n",
              "      <th>link</th>\n",
              "      <th>year</th>\n",
              "      <th>artist</th>\n",
              "      <th>gallery</th>\n",
              "      <th>price</th>\n",
              "      <th>gene_id</th>\n",
              "      <th>category_id</th>\n",
              "      <th>parsing_date</th>\n",
              "      <th>updating_date</th>\n",
              "    </tr>\n",
              "  </thead>\n",
              "  <tbody>\n",
              "    <tr>\n",
              "      <th>22221</th>\n",
              "      <td>61e7987ef82abd000c0fb200</td>\n",
              "      <td>Salute (White) Artist Proof</td>\n",
              "      <td>https://d32dm0rphc51dk.cloudfront.net/wkoV4skP...</td>\n",
              "      <td>2021</td>\n",
              "      <td>Shen Jingdong 沈敬东Salute (White) Artist Proof, ...</td>\n",
              "      <td>SimpleArte</td>\n",
              "      <td>US$700</td>\n",
              "      <td>08008</td>\n",
              "      <td>08</td>\n",
              "      <td>2022-04-08</td>\n",
              "      <td>2022-04-08</td>\n",
              "    </tr>\n",
              "    <tr>\n",
              "      <th>179437</th>\n",
              "      <td>61e7987ef82abd000c0fb200</td>\n",
              "      <td>Salute (White) Artist Proof</td>\n",
              "      <td>https://d32dm0rphc51dk.cloudfront.net/wkoV4skP...</td>\n",
              "      <td>2021</td>\n",
              "      <td>Shen Jingdong 沈敬东Salute (White) Artist Proof, ...</td>\n",
              "      <td>iCare4U</td>\n",
              "      <td>US$700</td>\n",
              "      <td>08005</td>\n",
              "      <td>08</td>\n",
              "      <td>2022-04-18</td>\n",
              "      <td>2022-04-18</td>\n",
              "    </tr>\n",
              "  </tbody>\n",
              "</table>\n",
              "</div>\n",
              "      <button class=\"colab-df-convert\" onclick=\"convertToInteractive('df-f90b2023-c1f0-492d-8318-7b3361515937')\"\n",
              "              title=\"Convert this dataframe to an interactive table.\"\n",
              "              style=\"display:none;\">\n",
              "        \n",
              "  <svg xmlns=\"http://www.w3.org/2000/svg\" height=\"24px\"viewBox=\"0 0 24 24\"\n",
              "       width=\"24px\">\n",
              "    <path d=\"M0 0h24v24H0V0z\" fill=\"none\"/>\n",
              "    <path d=\"M18.56 5.44l.94 2.06.94-2.06 2.06-.94-2.06-.94-.94-2.06-.94 2.06-2.06.94zm-11 1L8.5 8.5l.94-2.06 2.06-.94-2.06-.94L8.5 2.5l-.94 2.06-2.06.94zm10 10l.94 2.06.94-2.06 2.06-.94-2.06-.94-.94-2.06-.94 2.06-2.06.94z\"/><path d=\"M17.41 7.96l-1.37-1.37c-.4-.4-.92-.59-1.43-.59-.52 0-1.04.2-1.43.59L10.3 9.45l-7.72 7.72c-.78.78-.78 2.05 0 2.83L4 21.41c.39.39.9.59 1.41.59.51 0 1.02-.2 1.41-.59l7.78-7.78 2.81-2.81c.8-.78.8-2.07 0-2.86zM5.41 20L4 18.59l7.72-7.72 1.47 1.35L5.41 20z\"/>\n",
              "  </svg>\n",
              "      </button>\n",
              "      \n",
              "  <style>\n",
              "    .colab-df-container {\n",
              "      display:flex;\n",
              "      flex-wrap:wrap;\n",
              "      gap: 12px;\n",
              "    }\n",
              "\n",
              "    .colab-df-convert {\n",
              "      background-color: #E8F0FE;\n",
              "      border: none;\n",
              "      border-radius: 50%;\n",
              "      cursor: pointer;\n",
              "      display: none;\n",
              "      fill: #1967D2;\n",
              "      height: 32px;\n",
              "      padding: 0 0 0 0;\n",
              "      width: 32px;\n",
              "    }\n",
              "\n",
              "    .colab-df-convert:hover {\n",
              "      background-color: #E2EBFA;\n",
              "      box-shadow: 0px 1px 2px rgba(60, 64, 67, 0.3), 0px 1px 3px 1px rgba(60, 64, 67, 0.15);\n",
              "      fill: #174EA6;\n",
              "    }\n",
              "\n",
              "    [theme=dark] .colab-df-convert {\n",
              "      background-color: #3B4455;\n",
              "      fill: #D2E3FC;\n",
              "    }\n",
              "\n",
              "    [theme=dark] .colab-df-convert:hover {\n",
              "      background-color: #434B5C;\n",
              "      box-shadow: 0px 1px 3px 1px rgba(0, 0, 0, 0.15);\n",
              "      filter: drop-shadow(0px 1px 2px rgba(0, 0, 0, 0.3));\n",
              "      fill: #FFFFFF;\n",
              "    }\n",
              "  </style>\n",
              "\n",
              "      <script>\n",
              "        const buttonEl =\n",
              "          document.querySelector('#df-f90b2023-c1f0-492d-8318-7b3361515937 button.colab-df-convert');\n",
              "        buttonEl.style.display =\n",
              "          google.colab.kernel.accessAllowed ? 'block' : 'none';\n",
              "\n",
              "        async function convertToInteractive(key) {\n",
              "          const element = document.querySelector('#df-f90b2023-c1f0-492d-8318-7b3361515937');\n",
              "          const dataTable =\n",
              "            await google.colab.kernel.invokeFunction('convertToInteractive',\n",
              "                                                     [key], {});\n",
              "          if (!dataTable) return;\n",
              "\n",
              "          const docLinkHtml = 'Like what you see? Visit the ' +\n",
              "            '<a target=\"_blank\" href=https://colab.research.google.com/notebooks/data_table.ipynb>data table notebook</a>'\n",
              "            + ' to learn more about interactive tables.';\n",
              "          element.innerHTML = '';\n",
              "          dataTable['output_type'] = 'display_data';\n",
              "          await google.colab.output.renderOutput(dataTable, element);\n",
              "          const docLink = document.createElement('div');\n",
              "          docLink.innerHTML = docLinkHtml;\n",
              "          element.appendChild(docLink);\n",
              "        }\n",
              "      </script>\n",
              "    </div>\n",
              "  </div>\n",
              "  "
            ],
            "text/plain": [
              "                        artsy_id                         name  \\\n",
              "22221   61e7987ef82abd000c0fb200  Salute (White) Artist Proof   \n",
              "179437  61e7987ef82abd000c0fb200  Salute (White) Artist Proof   \n",
              "\n",
              "                                                     link  year  \\\n",
              "22221   https://d32dm0rphc51dk.cloudfront.net/wkoV4skP...  2021   \n",
              "179437  https://d32dm0rphc51dk.cloudfront.net/wkoV4skP...  2021   \n",
              "\n",
              "                                                   artist     gallery  \\\n",
              "22221   Shen Jingdong 沈敬东Salute (White) Artist Proof, ...  SimpleArte   \n",
              "179437  Shen Jingdong 沈敬东Salute (White) Artist Proof, ...     iCare4U   \n",
              "\n",
              "          price gene_id category_id parsing_date updating_date  \n",
              "22221   US$700    08008          08   2022-04-08    2022-04-08  \n",
              "179437  US$700    08005          08   2022-04-18    2022-04-18  "
            ]
          },
          "execution_count": 308,
          "metadata": {},
          "output_type": "execute_result"
        }
      ],
      "source": [
        "inx = 0\n",
        "df_cat_dat_total.loc[df_cat_dat_total['artsy_id']==id_prob_gallery[inx]]"
      ]
    },
    {
      "cell_type": "code",
      "execution_count": null,
      "metadata": {
        "colab": {
          "base_uri": "https://localhost:8080/"
        },
        "id": "akVWIziiJl2r",
        "outputId": "8e51ccd2-5a3e-4aff-c68b-f4db60cd8494"
      },
      "outputs": [
        {
          "data": {
            "text/plain": [
              "array(['SimpleArte', 'iCare4U'], dtype=object)"
            ]
          },
          "execution_count": 309,
          "metadata": {},
          "output_type": "execute_result"
        }
      ],
      "source": [
        "inx_list = df_cat_dat_total.loc[df_cat_dat_total['artsy_id']==id_prob_gallery[inx]].index.tolist()\n",
        "\n",
        "gallery_list = df_cat_dat_total.loc[df_cat_dat_total['artsy_id']==id_prob_gallery[inx]]['gallery'].unique()\n",
        "gallery_list"
      ]
    },
    {
      "cell_type": "code",
      "execution_count": null,
      "metadata": {
        "id": "XKRcz1mMJ2uF"
      },
      "outputs": [],
      "source": [
        "for i in inx_list:\n",
        "  df_cat_dat_total.at[i, 'gallery'] = gallery_list[0]"
      ]
    },
    {
      "cell_type": "markdown",
      "metadata": {
        "id": "yQ-3r7pHv5UX"
      },
      "source": [
        "#### artist"
      ]
    },
    {
      "cell_type": "code",
      "execution_count": null,
      "metadata": {
        "colab": {
          "base_uri": "https://localhost:8080/"
        },
        "id": "BnuwukCDvxQt",
        "outputId": "3603cd5f-6d7c-4e57-fa42-1710174200a6"
      },
      "outputs": [
        {
          "data": {
            "text/plain": [
              "1"
            ]
          },
          "execution_count": 755,
          "metadata": {},
          "output_type": "execute_result"
        }
      ],
      "source": [
        "artsy_id_artist = df_cat_dat_total[['artsy_id', 'artist']]\n",
        "artsy_id_artist.drop_duplicates(subset = ['artist', 'artsy_id'], keep = 'first', inplace = True)\n",
        "id_artist_g = artsy_id_artist.groupby(['artsy_id'])['artist'].agg(['count']).reset_index()\n",
        "\n",
        "id_prob_artist = id_artist_g.loc[id_artist_g['count']>1]['artsy_id'].tolist()\n",
        "len(id_prob_artist)"
      ]
    },
    {
      "cell_type": "code",
      "execution_count": null,
      "metadata": {
        "colab": {
          "base_uri": "https://localhost:8080/",
          "height": 315
        },
        "id": "3YkzWRrhv7v-",
        "outputId": "75672156-9497-4838-bcda-284aa2856bea"
      },
      "outputs": [
        {
          "data": {
            "text/html": [
              "\n",
              "  <div id=\"df-0176f48e-6533-48b2-a15d-12e930ab81a2\">\n",
              "    <div class=\"colab-df-container\">\n",
              "      <div>\n",
              "<style scoped>\n",
              "    .dataframe tbody tr th:only-of-type {\n",
              "        vertical-align: middle;\n",
              "    }\n",
              "\n",
              "    .dataframe tbody tr th {\n",
              "        vertical-align: top;\n",
              "    }\n",
              "\n",
              "    .dataframe thead th {\n",
              "        text-align: right;\n",
              "    }\n",
              "</style>\n",
              "<table border=\"1\" class=\"dataframe\">\n",
              "  <thead>\n",
              "    <tr style=\"text-align: right;\">\n",
              "      <th></th>\n",
              "      <th>artsy_id</th>\n",
              "      <th>name</th>\n",
              "      <th>link</th>\n",
              "      <th>year</th>\n",
              "      <th>artist</th>\n",
              "      <th>gallery</th>\n",
              "      <th>price</th>\n",
              "      <th>gene_id</th>\n",
              "      <th>category_id</th>\n",
              "      <th>parsing_date</th>\n",
              "      <th>updating_date</th>\n",
              "    </tr>\n",
              "  </thead>\n",
              "  <tbody>\n",
              "    <tr>\n",
              "      <th>5106</th>\n",
              "      <td>5c75c7b07f2e1f1daf553e74</td>\n",
              "      <td>Homage to the Square: Full (Rug)</td>\n",
              "      <td>https://d32dm0rphc51dk.cloudfront.net/Y-veD8oj...</td>\n",
              "      <td>Current production based on 1962 work</td>\n",
              "      <td>Josef AlbersHomage to the Square: Full (Rug), ...</td>\n",
              "      <td>Artware Editions</td>\n",
              "      <td>US$1,250</td>\n",
              "      <td>13003</td>\n",
              "      <td>13</td>\n",
              "      <td>2022-04-09</td>\n",
              "      <td>2022-04-09</td>\n",
              "    </tr>\n",
              "    <tr>\n",
              "      <th>14367</th>\n",
              "      <td>5c75c7b07f2e1f1daf553e74</td>\n",
              "      <td>Homage to the Square: Full (Rug)</td>\n",
              "      <td>https://d32dm0rphc51dk.cloudfront.net/Y-veD8oj...</td>\n",
              "      <td>Current production based on 1962 work</td>\n",
              "      <td>Josef AlbersHomage to the Square: Full (Rug), ...</td>\n",
              "      <td>Artware Editions</td>\n",
              "      <td>US$1,250</td>\n",
              "      <td>13005</td>\n",
              "      <td>13</td>\n",
              "      <td>2022-04-19</td>\n",
              "      <td>2022-04-19</td>\n",
              "    </tr>\n",
              "  </tbody>\n",
              "</table>\n",
              "</div>\n",
              "      <button class=\"colab-df-convert\" onclick=\"convertToInteractive('df-0176f48e-6533-48b2-a15d-12e930ab81a2')\"\n",
              "              title=\"Convert this dataframe to an interactive table.\"\n",
              "              style=\"display:none;\">\n",
              "        \n",
              "  <svg xmlns=\"http://www.w3.org/2000/svg\" height=\"24px\"viewBox=\"0 0 24 24\"\n",
              "       width=\"24px\">\n",
              "    <path d=\"M0 0h24v24H0V0z\" fill=\"none\"/>\n",
              "    <path d=\"M18.56 5.44l.94 2.06.94-2.06 2.06-.94-2.06-.94-.94-2.06-.94 2.06-2.06.94zm-11 1L8.5 8.5l.94-2.06 2.06-.94-2.06-.94L8.5 2.5l-.94 2.06-2.06.94zm10 10l.94 2.06.94-2.06 2.06-.94-2.06-.94-.94-2.06-.94 2.06-2.06.94z\"/><path d=\"M17.41 7.96l-1.37-1.37c-.4-.4-.92-.59-1.43-.59-.52 0-1.04.2-1.43.59L10.3 9.45l-7.72 7.72c-.78.78-.78 2.05 0 2.83L4 21.41c.39.39.9.59 1.41.59.51 0 1.02-.2 1.41-.59l7.78-7.78 2.81-2.81c.8-.78.8-2.07 0-2.86zM5.41 20L4 18.59l7.72-7.72 1.47 1.35L5.41 20z\"/>\n",
              "  </svg>\n",
              "      </button>\n",
              "      \n",
              "  <style>\n",
              "    .colab-df-container {\n",
              "      display:flex;\n",
              "      flex-wrap:wrap;\n",
              "      gap: 12px;\n",
              "    }\n",
              "\n",
              "    .colab-df-convert {\n",
              "      background-color: #E8F0FE;\n",
              "      border: none;\n",
              "      border-radius: 50%;\n",
              "      cursor: pointer;\n",
              "      display: none;\n",
              "      fill: #1967D2;\n",
              "      height: 32px;\n",
              "      padding: 0 0 0 0;\n",
              "      width: 32px;\n",
              "    }\n",
              "\n",
              "    .colab-df-convert:hover {\n",
              "      background-color: #E2EBFA;\n",
              "      box-shadow: 0px 1px 2px rgba(60, 64, 67, 0.3), 0px 1px 3px 1px rgba(60, 64, 67, 0.15);\n",
              "      fill: #174EA6;\n",
              "    }\n",
              "\n",
              "    [theme=dark] .colab-df-convert {\n",
              "      background-color: #3B4455;\n",
              "      fill: #D2E3FC;\n",
              "    }\n",
              "\n",
              "    [theme=dark] .colab-df-convert:hover {\n",
              "      background-color: #434B5C;\n",
              "      box-shadow: 0px 1px 3px 1px rgba(0, 0, 0, 0.15);\n",
              "      filter: drop-shadow(0px 1px 2px rgba(0, 0, 0, 0.3));\n",
              "      fill: #FFFFFF;\n",
              "    }\n",
              "  </style>\n",
              "\n",
              "      <script>\n",
              "        const buttonEl =\n",
              "          document.querySelector('#df-0176f48e-6533-48b2-a15d-12e930ab81a2 button.colab-df-convert');\n",
              "        buttonEl.style.display =\n",
              "          google.colab.kernel.accessAllowed ? 'block' : 'none';\n",
              "\n",
              "        async function convertToInteractive(key) {\n",
              "          const element = document.querySelector('#df-0176f48e-6533-48b2-a15d-12e930ab81a2');\n",
              "          const dataTable =\n",
              "            await google.colab.kernel.invokeFunction('convertToInteractive',\n",
              "                                                     [key], {});\n",
              "          if (!dataTable) return;\n",
              "\n",
              "          const docLinkHtml = 'Like what you see? Visit the ' +\n",
              "            '<a target=\"_blank\" href=https://colab.research.google.com/notebooks/data_table.ipynb>data table notebook</a>'\n",
              "            + ' to learn more about interactive tables.';\n",
              "          element.innerHTML = '';\n",
              "          dataTable['output_type'] = 'display_data';\n",
              "          await google.colab.output.renderOutput(dataTable, element);\n",
              "          const docLink = document.createElement('div');\n",
              "          docLink.innerHTML = docLinkHtml;\n",
              "          element.appendChild(docLink);\n",
              "        }\n",
              "      </script>\n",
              "    </div>\n",
              "  </div>\n",
              "  "
            ],
            "text/plain": [
              "                       artsy_id                              name  \\\n",
              "5106   5c75c7b07f2e1f1daf553e74  Homage to the Square: Full (Rug)   \n",
              "14367  5c75c7b07f2e1f1daf553e74  Homage to the Square: Full (Rug)   \n",
              "\n",
              "                                                    link  \\\n",
              "5106   https://d32dm0rphc51dk.cloudfront.net/Y-veD8oj...   \n",
              "14367  https://d32dm0rphc51dk.cloudfront.net/Y-veD8oj...   \n",
              "\n",
              "                                        year  \\\n",
              "5106   Current production based on 1962 work   \n",
              "14367  Current production based on 1962 work   \n",
              "\n",
              "                                                  artist           gallery  \\\n",
              "5106   Josef AlbersHomage to the Square: Full (Rug), ...  Artware Editions   \n",
              "14367  Josef AlbersHomage to the Square: Full (Rug), ...  Artware Editions   \n",
              "\n",
              "           price gene_id category_id parsing_date updating_date  \n",
              "5106   US$1,250    13003          13   2022-04-09    2022-04-09  \n",
              "14367  US$1,250    13005          13   2022-04-19    2022-04-19  "
            ]
          },
          "execution_count": 756,
          "metadata": {},
          "output_type": "execute_result"
        }
      ],
      "source": [
        "inx = 0\n",
        "df_cat_dat_total.loc[df_cat_dat_total['artsy_id']==id_prob_artist[inx]]"
      ]
    },
    {
      "cell_type": "code",
      "execution_count": null,
      "metadata": {
        "colab": {
          "base_uri": "https://localhost:8080/"
        },
        "id": "rZLitxNMv7sa",
        "outputId": "2758c723-e960-4d1d-8d81-13b12d37ea04"
      },
      "outputs": [
        {
          "data": {
            "text/plain": [
              "array(['Josef AlbersHomage to the Square: Full (Rug), Current production based on 1962 workArtware EditionsSold ',\n",
              "       'Josef AlbersHomage to the Square: Full (Rug), Current production based on 1962 workArtware EditionsUS$1,250 '],\n",
              "      dtype=object)"
            ]
          },
          "execution_count": 757,
          "metadata": {},
          "output_type": "execute_result"
        }
      ],
      "source": [
        "inx_list = df_cat_dat_total.loc[df_cat_dat_total['artsy_id']==id_prob_artist[inx]].index.tolist()\n",
        "\n",
        "df_cat_dat_total.loc[df_cat_dat_total['artsy_id']==id_prob_artist[inx]]['artist'].unique()"
      ]
    },
    {
      "cell_type": "code",
      "execution_count": null,
      "metadata": {
        "id": "qLei0Yt0v7pP"
      },
      "outputs": [],
      "source": [
        "for i in inx_list:\n",
        "  df_cat_dat_total.at[i, 'artist'] = 'Josef Albers'"
      ]
    },
    {
      "cell_type": "markdown",
      "metadata": {
        "id": "3-9TkSSyjXTH"
      },
      "source": [
        "#### dates"
      ]
    },
    {
      "cell_type": "code",
      "execution_count": null,
      "metadata": {
        "colab": {
          "base_uri": "https://localhost:8080/",
          "height": 35
        },
        "id": "RtzY24RwH4CQ",
        "outputId": "78bd1a9e-74f6-4184-fa7b-5981394a1f05"
      },
      "outputs": [
        {
          "data": {
            "application/vnd.google.colaboratory.intrinsic+json": {
              "type": "string"
            },
            "text/plain": [
              "'2022-04-19'"
            ]
          },
          "execution_count": 759,
          "metadata": {},
          "output_type": "execute_result"
        }
      ],
      "source": [
        "df_cat_dat_total['parsing_date'].max()"
      ]
    },
    {
      "cell_type": "code",
      "execution_count": null,
      "metadata": {
        "colab": {
          "base_uri": "https://localhost:8080/",
          "height": 35
        },
        "id": "rYW9mK2FH7I_",
        "outputId": "47ce625b-7e85-4c52-9c99-a10412831f30"
      },
      "outputs": [
        {
          "data": {
            "application/vnd.google.colaboratory.intrinsic+json": {
              "type": "string"
            },
            "text/plain": [
              "'2022-04-09'"
            ]
          },
          "execution_count": 760,
          "metadata": {},
          "output_type": "execute_result"
        }
      ],
      "source": [
        "df_cat_dat_total['parsing_date'].min()"
      ]
    },
    {
      "cell_type": "code",
      "execution_count": null,
      "metadata": {
        "id": "QUpirb7biP8M"
      },
      "outputs": [],
      "source": [
        "date = df_cat_dat_total['parsing_date'].unique().min()\n",
        "df_cat_dat_total['parsing_date'] = date\n",
        "df_cat_dat_total['updating_date'] = date"
      ]
    },
    {
      "cell_type": "markdown",
      "metadata": {
        "id": "opwQ-_zIjSCg"
      },
      "source": [
        "#### check"
      ]
    },
    {
      "cell_type": "code",
      "execution_count": 218,
      "metadata": {
        "colab": {
          "base_uri": "https://localhost:8080/"
        },
        "id": "EUGGI4SmxNaG",
        "outputId": "42682fae-7b1d-4b4e-f932-9f2ebf6bcf4c"
      },
      "outputs": [
        {
          "output_type": "stream",
          "name": "stdout",
          "text": [
            "11253\n",
            "11253\n",
            "11253\n"
          ]
        }
      ],
      "source": [
        "# 'name', - ???\n",
        "one_to_one = df_cat_dat_total.groupby(['artsy_id', 'name', 'link', 'artist', 'price', 'parsing_date', 'updating_date'])['category_id'].agg(['count']).reset_index()\n",
        "\n",
        "print(df_cat_dat_total['artsy_id'].nunique())\n",
        "print(one_to_one['artsy_id'].count())\n",
        "print(one_to_one['artsy_id'].nunique())"
      ]
    },
    {
      "cell_type": "code",
      "execution_count": 219,
      "metadata": {
        "id": "8EOTm5XMh54h"
      },
      "outputs": [],
      "source": [
        "save_df_file(df_cat_dat_total, '/artsy_temp_data_12.csv', 'backup') # 4. Save df to csv file"
      ]
    },
    {
      "cell_type": "markdown",
      "metadata": {
        "id": "ZS_6uxf4mtko"
      },
      "source": [
        "## Dict creating"
      ]
    },
    {
      "cell_type": "code",
      "execution_count": 220,
      "metadata": {
        "colab": {
          "base_uri": "https://localhost:8080/"
        },
        "id": "_oHreWONfZeS",
        "outputId": "317eece8-a95d-42e2-8eb0-d807dd6a28fe"
      },
      "outputs": [
        {
          "output_type": "stream",
          "name": "stdout",
          "text": [
            "<class 'pandas.core.frame.DataFrame'>\n",
            "RangeIndex: 23433 entries, 0 to 23432\n",
            "Data columns (total 11 columns):\n",
            " #   Column         Non-Null Count  Dtype \n",
            "---  ------         --------------  ----- \n",
            " 0   artsy_id       23433 non-null  object\n",
            " 1   name           23433 non-null  object\n",
            " 2   link           23433 non-null  object\n",
            " 3   year           22927 non-null  object\n",
            " 4   artist         23433 non-null  object\n",
            " 5   gallery        23177 non-null  object\n",
            " 6   price          23433 non-null  object\n",
            " 7   gene_id        23433 non-null  object\n",
            " 8   category_id    23433 non-null  object\n",
            " 9   parsing_date   23433 non-null  object\n",
            " 10  updating_date  23433 non-null  object\n",
            "dtypes: object(11)\n",
            "memory usage: 2.0+ MB\n"
          ]
        }
      ],
      "source": [
        "#df_cat_dat_total = open_file_csv('/artsy_temp_data_11.csv', 'backup') # 3. Open file.csv\n",
        "df_cat_dat_total.info()"
      ]
    },
    {
      "cell_type": "code",
      "execution_count": null,
      "metadata": {
        "id": "nqBQJbpAgTWX"
      },
      "outputs": [],
      "source": [
        "#df_cat_dat_total['category_id'] = df_cat_dat_total['category_id'].dropna().apply(lambda x: str(x) if len(str(x))==cat_id_len else ('0'*(cat_id_len-len(str(x)))+str(x)))\n",
        "#df_cat_dat_total['gene_id'] = df_cat_dat_total['gene_id'].dropna().apply(lambda x: str(x) if len(str(x))==gen_id_len else ('0'*(gen_id_len-len(str(x)))+str(x)))"
      ]
    },
    {
      "cell_type": "code",
      "execution_count": 221,
      "metadata": {
        "colab": {
          "base_uri": "https://localhost:8080/"
        },
        "id": "o7nx1MZRgctp",
        "outputId": "c04968d0-4be9-4f0c-8624-fc161ee108a5"
      },
      "outputs": [
        {
          "output_type": "execute_result",
          "data": {
            "text/plain": [
              "array(['12'], dtype=object)"
            ]
          },
          "metadata": {},
          "execution_count": 221
        }
      ],
      "source": [
        "df_cat_dat_total['category_id'].unique()"
      ]
    },
    {
      "cell_type": "markdown",
      "metadata": {
        "id": "oy5z7vjxUDA1"
      },
      "source": [
        "### artworks_dict"
      ]
    },
    {
      "cell_type": "markdown",
      "metadata": {
        "id": "HQ1NM7QYUGhb"
      },
      "source": [
        "#### initiation"
      ]
    },
    {
      "cell_type": "code",
      "execution_count": null,
      "metadata": {
        "id": "r3Kw50TXYFHw"
      },
      "outputs": [],
      "source": [
        "#artworks_dict = {'artsy_id': {'name': 'Portrait of a Man in Armour', \n",
        "#                              'link': 'https://d32dm0rphc51dk.cloudfront.net/yaB__0LXFvbXC4jiUK4Vpw/large.jpg', \n",
        "#                              'year': 'ca. 1560',\n",
        "#                              'artist_id': '000000', # Jacopo Bassano\n",
        "#                              -- 'gallery_id': '000000', # Robilant+Voena\n",
        "#                              'price': 'Price on request',\n",
        "#                              'gene_id': ['21603', ''],\n",
        "#                              'category_id': ['03', '']}}"
      ]
    },
    {
      "cell_type": "markdown",
      "metadata": {
        "id": "9eLcIq8yjCmh"
      },
      "source": [
        "***One to one connections***\n",
        "\n",
        "Let's create a dict from complete data."
      ]
    },
    {
      "cell_type": "code",
      "execution_count": 222,
      "metadata": {
        "colab": {
          "base_uri": "https://localhost:8080/"
        },
        "id": "DNxZoTXvi9Du",
        "outputId": "0f285731-28fd-451a-fd43-4cbf4d8e6f7d"
      },
      "outputs": [
        {
          "output_type": "stream",
          "name": "stdout",
          "text": [
            "11253\n",
            "11253\n",
            "11253\n"
          ]
        }
      ],
      "source": [
        "# 'name' - ??? !!!\n",
        "one_to_one = df_cat_dat_total.groupby(['artsy_id', 'name', 'link', 'artist', 'price', 'parsing_date', 'updating_date'])['category_id'].agg(['count']).reset_index().drop('count', axis=1)\n",
        "\n",
        "check_id_list = one_to_one['artsy_id'].sample(10).tolist()\n",
        "\n",
        "print(df_cat_dat_total['artsy_id'].nunique())\n",
        "print(one_to_one['artsy_id'].count())\n",
        "print(one_to_one['artsy_id'].nunique())"
      ]
    },
    {
      "cell_type": "code",
      "execution_count": 223,
      "metadata": {
        "colab": {
          "base_uri": "https://localhost:8080/"
        },
        "id": "5x440udYo9iB",
        "outputId": "0c115e79-e416-41ad-e37d-c5720ee68832"
      },
      "outputs": [
        {
          "output_type": "execute_result",
          "data": {
            "text/plain": [
              "11253"
            ]
          },
          "metadata": {},
          "execution_count": 223
        }
      ],
      "source": [
        "# Dict creation\n",
        "artworks_dict = one_to_one.set_index('artsy_id').to_dict('index')\n",
        "len(artworks_dict)"
      ]
    },
    {
      "cell_type": "code",
      "execution_count": 224,
      "metadata": {
        "colab": {
          "base_uri": "https://localhost:8080/"
        },
        "id": "gUp8kJW7pRWx",
        "outputId": "216c2062-9989-454e-f12b-c2cfb09d598c"
      },
      "outputs": [
        {
          "output_type": "stream",
          "name": "stdout",
          "text": [
            "{'name': \"Wim Rietveld and W.H. Gispen Blue '205' Chairs for Kembo, Netherlands\", 'link': 'https://d32dm0rphc51dk.cloudfront.net/jlr236hnEO9JaBYOCLMDyQ/large.jpg', 'artist': \"Wim RietveldWim Rietveld and W.H. Gispen Blue '205' Chairs for Kembo, Netherlands, 1954MORENTZUS$1,275 \", 'price': 'US$1,275 ', 'parsing_date': '2022-04-19', 'updating_date': '2022-04-19'}\n",
            "{'name': 'Relief Lamp 1', 'link': 'https://d32dm0rphc51dk.cloudfront.net/9kT5TdBiaJcvt9LTlCE_2A/large.jpg', 'artist': 'Kasper KjeldgaardRelief Lamp 1, 2017Patrick Parrish GallerySold ', 'price': 'Sold ', 'parsing_date': '2022-04-19', 'updating_date': '2022-04-19'}\n",
            "{'name': 'Collective Gymnastics', 'link': 'https://d32dm0rphc51dk.cloudfront.net/luGGBqmQ2T_hhxJlXX1oSg/large.jpg', 'artist': 'Barbora ŽilinskaitėCollective Gymnastics, 2021Friedman BendaUS$22,000 ', 'price': 'US$22,000 ', 'parsing_date': '2022-04-19', 'updating_date': '2022-04-19'}\n",
            "{'name': 'Simply Stainless Pedestal Stand', 'link': 'https://d32dm0rphc51dk.cloudfront.net/ro6txk7T4dl_95AdEtI_wA/tall.jpg', 'artist': 'Benjamin Rollins CaldwellSimply Stainless Pedestal Stand, 2010 ', 'price': ' ', 'parsing_date': '2022-04-19', 'updating_date': '2022-04-19'}\n",
            "{'name': 'CHARLESTON Floor Lamp', 'link': 'https://d32dm0rphc51dk.cloudfront.net/uhSZqP9lA2TkI73TRDQ2LA/large.jpg', 'artist': 'Memphis GroupCHARLESTON Floor Lamp, 1984the Office.US$2,400 ', 'price': 'US$2,400 ', 'parsing_date': '2022-04-19', 'updating_date': '2022-04-19'}\n",
            "{'name': \"Shelf 'Dune 04'\", 'link': 'https://d32dm0rphc51dk.cloudfront.net/mNqfj_P2SF3BKeEUlLbNsA/large.jpg', 'artist': \"Zaha HadidShelf 'Dune 04', 2007David Gill GalleryPrice on request \", 'price': 'Price on request ', 'parsing_date': '2022-04-19', 'updating_date': '2022-04-19'}\n",
            "{'name': 'Another Land', 'link': 'https://d32dm0rphc51dk.cloudfront.net/4PK_a9QvQO-l-MjkOXRIHA/large.jpg', 'artist': 'Huy BuiAnother Land, 2016Patrick Parrish GalleryUS$4,800 ', 'price': 'US$4,800 ', 'parsing_date': '2022-04-19', 'updating_date': '2022-04-19'}\n",
            "{'name': 'Unusual Bench with Curved Frame', 'link': 'https://d32dm0rphc51dk.cloudfront.net/Z5nOhDS9BkJ507EcO_Q-0Q/large.jpg', 'artist': 'Batistin SpadeUnusual Bench with Curved Frame, ca. 1946Maison GerardUS$6,800 ', 'price': 'US$6,800 ', 'parsing_date': '2022-04-19', 'updating_date': '2022-04-19'}\n",
            "{'name': 'Circle Mirror with Black Chainmail', 'link': 'https://d32dm0rphc51dk.cloudfront.net/xDUIsw2vgYd44MsVbACZbQ/large.jpg', 'artist': 'Eny Lee ParkerCircle Mirror with Black Chainmail, 2018Carvalho ParkUS$7,500 ', 'price': 'US$7,500 ', 'parsing_date': '2022-04-19', 'updating_date': '2022-04-19'}\n",
            "{'name': 'SOAP Column (Toffee)', 'link': 'https://d32dm0rphc51dk.cloudfront.net/9hNSsfZq57m9z4RboRL3ww/large.jpg', 'artist': 'Sabine MarcelisSOAP Column (Toffee), 2018Etage Projects€2,940 ', 'price': '€2,940 ', 'parsing_date': '2022-04-19', 'updating_date': '2022-04-19'}\n"
          ]
        }
      ],
      "source": [
        "for id in check_id_list:\n",
        "  print(artworks_dict[id])"
      ]
    },
    {
      "cell_type": "markdown",
      "metadata": {
        "id": "FRMDWRqKUGH3"
      },
      "source": [
        "#### expansion"
      ]
    },
    {
      "cell_type": "code",
      "execution_count": null,
      "metadata": {
        "id": "FdgGgO5F-uiH"
      },
      "outputs": [],
      "source": [
        "#artworks_dict = open_dict(artwork_dict)"
      ]
    },
    {
      "cell_type": "markdown",
      "metadata": {
        "id": "eMNK7tHCpfi_"
      },
      "source": [
        "Columns with NaNs:\n",
        "- 'name' (not always), 'year', 'gallery'\n",
        "- ***one to one connection***\n",
        "- info is in the **df**"
      ]
    },
    {
      "cell_type": "code",
      "execution_count": 62,
      "metadata": {
        "id": "B06Bobt8sI87"
      },
      "outputs": [],
      "source": [
        "# one to one connection from df\n",
        "def artwork_dict_expan_oto(df, main_dict, param):\n",
        "  group_df = df.groupby(['artsy_id', param])['category_id'].agg(['count']).reset_index().drop('count', axis=1)\n",
        "  group_dict = group_df.set_index('artsy_id').to_dict('index')\n",
        "\n",
        "  for k in main_dict:\n",
        "    if k in group_dict.keys():\n",
        "      main_dict[k].update(group_dict[k])\n",
        "    else:\n",
        "      main_dict[k].update({param: ' '}) # !!!!\n",
        "\n",
        "# one to many connection from df\n",
        "def artwork_dict_expan_otm(df, main_dict, param):\n",
        "  group_df = df.groupby(['artsy_id'])[param].apply(list).apply(set).apply(list).reset_index(name=param)\n",
        "  group_dict = group_df.set_index('artsy_id').to_dict('index')\n",
        "\n",
        "  for k in main_dict:\n",
        "    if k in group_dict.keys():\n",
        "      main_dict[k].update(group_dict[k])\n",
        "    else:\n",
        "      main_dict[k].update({param: [' ']}) # !!!!"
      ]
    },
    {
      "cell_type": "code",
      "execution_count": 225,
      "metadata": {
        "id": "fDpLo9TWq4qr"
      },
      "outputs": [],
      "source": [
        "# name - !!!!!!\n",
        "#artwork_dict_expan_oto(df_cat_dat_total, artworks_dict, 'name')\n",
        "# year\n",
        "artwork_dict_expan_oto(df_cat_dat_total, artworks_dict, 'year')\n",
        "# gallery\n",
        "artwork_dict_expan_oto(df_cat_dat_total, artworks_dict, 'gallery')"
      ]
    },
    {
      "cell_type": "code",
      "execution_count": 226,
      "metadata": {
        "colab": {
          "base_uri": "https://localhost:8080/"
        },
        "id": "FODpd0tUru2i",
        "outputId": "ba575f4f-e531-492c-b113-223115db48e0"
      },
      "outputs": [
        {
          "output_type": "stream",
          "name": "stdout",
          "text": [
            "name: Wim Rietveld and W.H. Gispen Blue '205' Chairs for Kembo, Netherlands year: 1954 gallery: MORENTZ\n",
            "name: Relief Lamp 1 year: 2017 gallery: Patrick Parrish Gallery\n",
            "name: Collective Gymnastics year: 2021 gallery: Friedman Benda\n",
            "name: Simply Stainless Pedestal Stand year: 2010 gallery:  \n",
            "name: CHARLESTON Floor Lamp year: 1984 gallery: the Office.\n",
            "name: Shelf 'Dune 04' year: 2007 gallery: David Gill Gallery\n",
            "name: Another Land year: 2016 gallery: Patrick Parrish Gallery\n",
            "name: Unusual Bench with Curved Frame year: ca. 1946 gallery: Maison Gerard\n",
            "name: Circle Mirror with Black Chainmail year: 2018 gallery: Carvalho Park\n",
            "name: SOAP Column (Toffee) year: 2018 gallery: Etage Projects\n"
          ]
        }
      ],
      "source": [
        "for id in check_id_list:\n",
        "  print('name:', artworks_dict[id]['name'], 'year:', artworks_dict[id]['year'], 'gallery:', artworks_dict[id]['gallery'])"
      ]
    },
    {
      "cell_type": "markdown",
      "metadata": {
        "id": "qlAlLzG1ytV3"
      },
      "source": [
        "Columns with repeating values:\n",
        "- 'gene_id', 'category_id'\n",
        "- list type parametr - ***one to many connection***\n",
        "- id info is in the **df**"
      ]
    },
    {
      "cell_type": "code",
      "execution_count": 227,
      "metadata": {
        "id": "oWUmyHnByvzu"
      },
      "outputs": [],
      "source": [
        "# category_id\n",
        "cat = df_cat_dat_total['category_id'].unique().tolist()\n",
        "\n",
        "#artworks_dict = {k: v.update({'category_id': [cat[0]]}) for k, v in artworks_dict.items()} - doesn't work correctly\n",
        "for k in artworks_dict:\n",
        "  artworks_dict[k].update({'category_id': [cat[0]]})\n",
        "\n",
        "# gene_id\n",
        "artwork_dict_expan_otm(df_cat_dat_total, artworks_dict, 'gene_id')"
      ]
    },
    {
      "cell_type": "code",
      "execution_count": 228,
      "metadata": {
        "colab": {
          "base_uri": "https://localhost:8080/"
        },
        "id": "QQSsw0MMyvm9",
        "outputId": "e24a8dd5-2aac-44a8-f6d2-5eca04dc07e1"
      },
      "outputs": [
        {
          "output_type": "stream",
          "name": "stdout",
          "text": [
            "category_id: ['12'] gene_id: ['12017', '12005']\n",
            "category_id: ['12'] gene_id: ['12014', '12004']\n",
            "category_id: ['12'] gene_id: ['12013', '12018']\n",
            "category_id: ['12'] gene_id: ['12020', '12025']\n",
            "category_id: ['12'] gene_id: ['12014', '12012']\n",
            "category_id: ['12'] gene_id: ['12013', '12018']\n",
            "category_id: ['12'] gene_id: ['12013', '12020', '12025']\n",
            "category_id: ['12'] gene_id: ['12023', '12003', '12017']\n",
            "category_id: ['12'] gene_id: ['12015']\n",
            "category_id: ['12'] gene_id: ['12023', '12017']\n"
          ]
        }
      ],
      "source": [
        "for id in check_id_list:\n",
        "  print('category_id:', artworks_dict[id]['category_id'], 'gene_id:', artworks_dict[id]['gene_id'])"
      ]
    },
    {
      "cell_type": "code",
      "execution_count": 229,
      "metadata": {
        "id": "t4LW0ISv-lP7"
      },
      "outputs": [],
      "source": [
        "save_dict(artworks_dict, '/artsy_genom_artwork_dict_cat12.txt', 'backup') # 1. Save json dict"
      ]
    },
    {
      "cell_type": "markdown",
      "metadata": {
        "id": "YdkvYpZekCq9"
      },
      "source": [
        "#### artists name revision"
      ]
    },
    {
      "cell_type": "code",
      "execution_count": null,
      "metadata": {
        "colab": {
          "base_uri": "https://localhost:8080/"
        },
        "id": "hBHwS7uVgvTs",
        "outputId": "02ab2079-661f-4930-c698-11c2058a801c"
      },
      "outputs": [
        {
          "name": "stdout",
          "output_type": "stream",
          "text": [
            "215336\n"
          ]
        }
      ],
      "source": [
        "#artworks_dict = open_dict(artwork_dict, 'live')\n",
        "#print(len(artworks_dict))"
      ]
    },
    {
      "cell_type": "code",
      "execution_count": 230,
      "metadata": {
        "colab": {
          "base_uri": "https://localhost:8080/"
        },
        "id": "tPV5ZY4U_6H5",
        "outputId": "c5ace3fd-8ca6-479f-f091-19e028fed131"
      },
      "outputs": [
        {
          "output_type": "execute_result",
          "data": {
            "text/plain": [
              "{'5f51eb20e62c3100102ec722': {'artist': \"Wim RietveldWim Rietveld and W.H. Gispen Blue '205' Chairs for Kembo, Netherlands, 1954MORENTZUS$1,275 \",\n",
              "  'category_id': ['12'],\n",
              "  'gallery': 'MORENTZ',\n",
              "  'gene_id': ['12017', '12005'],\n",
              "  'link': 'https://d32dm0rphc51dk.cloudfront.net/jlr236hnEO9JaBYOCLMDyQ/large.jpg',\n",
              "  'name': \"Wim Rietveld and W.H. Gispen Blue '205' Chairs for Kembo, Netherlands\",\n",
              "  'parsing_date': '2022-04-19',\n",
              "  'price': 'US$1,275 ',\n",
              "  'updating_date': '2022-04-19',\n",
              "  'year': '1954'}}"
            ]
          },
          "metadata": {},
          "execution_count": 230
        }
      ],
      "source": [
        "filtered_dict = {k: v for k, v in artworks_dict.items() if k == check_id_list[0]} # v['artist_id'] == '00047'\n",
        "filtered_dict"
      ]
    },
    {
      "cell_type": "code",
      "execution_count": 231,
      "metadata": {
        "colab": {
          "base_uri": "https://localhost:8080/"
        },
        "id": "ad3Qbq18_-fb",
        "outputId": "d6e71059-dd6c-4793-94c1-f4fba7cbdd66"
      },
      "outputs": [
        {
          "output_type": "stream",
          "name": "stdout",
          "text": [
            "10905\n"
          ]
        }
      ],
      "source": [
        "# Old data\n",
        "artists_name_list_old = [v['artist'] for v in artworks_dict.values()]\n",
        "\n",
        "artists_name_list_old_ = list(set(artists_name_list_old))\n",
        "print(len(artists_name_list_old_))"
      ]
    },
    {
      "cell_type": "code",
      "execution_count": 232,
      "metadata": {
        "colab": {
          "base_uri": "https://localhost:8080/"
        },
        "id": "oJBcep98ACH_",
        "outputId": "c11f8373-1d5e-4160-e71c-2f0c656f7d40"
      },
      "outputs": [
        {
          "output_type": "execute_result",
          "data": {
            "text/plain": [
              "['Bjarne MelgaardCabinett Man 1, 2007Galeria SendaPrice on request ',\n",
              " \"Pia Maria Raeder'Sea Anemone' Side Table (Bright Yellow), 2016Galerie BSL€9,000 \",\n",
              " 'ZanottaKarelia, 1966THEFOURTHSold ',\n",
              " 'Humberto and Fernando CampanaNoah Bench, 2017Carpenters Workshop GalleryPrice on request ',\n",
              " 'Sebastian ErrazurizDelta Chair, 2008Cristina Grajales Gallery ',\n",
              " 'Cristian AndersenSeaside 1990 / Large, 2020Etage ProjectsPrice on request ',\n",
              " 'Pierre JeanneretIndian Rosewood Desk, ca. 1958Peter Blake GallerySold ',\n",
              " 'Roberto Giulio RidaSettimanile tall chest of drawers, 2014Nilufar Gallery ',\n",
              " 'Astrid KroghIkat II, 2011\"Crafted: Objects in Flux\" at Museum of Fine Arts, Boston ',\n",
              " 'Aksel Bender Madsen and Ejner LarsenDesk with leather top, 1966Dansk Møbelkunst GalleryPrice on request ']"
            ]
          },
          "metadata": {},
          "execution_count": 232
        }
      ],
      "source": [
        "sample(artists_name_list_old, 10)"
      ]
    },
    {
      "cell_type": "code",
      "execution_count": 233,
      "metadata": {
        "id": "Nng70o9TACwP"
      },
      "outputs": [],
      "source": [
        "for v in artworks_dict.values():\n",
        "  v.update({'artist': v['artist'].replace(v['name'], '') if v['name']!=' ' else v['artist']})\n",
        "  v.update({'artist': v['artist'].replace(v['year'], '') if v['year']!=' ' else v['artist']})\n",
        "  v.update({'artist': v['artist'].replace(v['gallery'], '') if v['gallery']!=' ' else v['artist']})\n",
        "  v.update({'artist': v['artist'].replace(v['price'], '') if v['price']!=' ' else v['artist']})\n",
        "  v.update({'artist': 'Unknown' if len(v['artist'])==0 else v['artist']})\n",
        "  v.update({'artist': v['artist'].strip(u'\\u200b')})\n",
        "  v.update({'artist': re.sub(r'\\xa0|\\n|\\t', ' ', v['artist'])})\n",
        "  v.update({'artist': v['artist'].strip()})\n",
        "  v.update({'artist': v['artist'][:-1] if v['artist'][-1:]==',' else v['artist']})\n",
        "  try:\n",
        "    v.update({'artist': v['artist'][1:] if v['artist'][0]==',' else v['artist']})\n",
        "  except:\n",
        "    pass\n",
        "  v.update({'artist': v['artist'].strip()})\n",
        "  v.update({'artist': 'Unknown' if len(v['artist'])==0 else v['artist']})"
      ]
    },
    {
      "cell_type": "code",
      "execution_count": 234,
      "metadata": {
        "colab": {
          "base_uri": "https://localhost:8080/"
        },
        "id": "WY0ZiXc6AIVR",
        "outputId": "3915a218-e74a-47ec-8447-a32eab7bc693"
      },
      "outputs": [
        {
          "output_type": "execute_result",
          "data": {
            "text/plain": [
              "{'5f51eb20e62c3100102ec722': {'artist': 'Wim Rietveld',\n",
              "  'category_id': ['12'],\n",
              "  'gallery': 'MORENTZ',\n",
              "  'gene_id': ['12017', '12005'],\n",
              "  'link': 'https://d32dm0rphc51dk.cloudfront.net/jlr236hnEO9JaBYOCLMDyQ/large.jpg',\n",
              "  'name': \"Wim Rietveld and W.H. Gispen Blue '205' Chairs for Kembo, Netherlands\",\n",
              "  'parsing_date': '2022-04-19',\n",
              "  'price': 'US$1,275 ',\n",
              "  'updating_date': '2022-04-19',\n",
              "  'year': '1954'}}"
            ]
          },
          "metadata": {},
          "execution_count": 234
        }
      ],
      "source": [
        "filtered_dict = {k: v for k, v in artworks_dict.items() if k == check_id_list[0]} # v['artist_id'] == '00047'\n",
        "filtered_dict"
      ]
    },
    {
      "cell_type": "code",
      "execution_count": 235,
      "metadata": {
        "colab": {
          "base_uri": "https://localhost:8080/"
        },
        "id": "AIsyhMNmALRf",
        "outputId": "c03aaafe-28ab-4104-8b01-84689bff8fb4"
      },
      "outputs": [
        {
          "output_type": "stream",
          "name": "stdout",
          "text": [
            "2142\n"
          ]
        }
      ],
      "source": [
        "# New data\n",
        "artists_name_list_new = [v['artist'] for v in artworks_dict.values()]\n",
        "\n",
        "artists_name_list_new_ = list(set(artists_name_list_new))\n",
        "print(len(artists_name_list_new_))"
      ]
    },
    {
      "cell_type": "code",
      "execution_count": 236,
      "metadata": {
        "colab": {
          "base_uri": "https://localhost:8080/"
        },
        "id": "ktQmyVUUATLC",
        "outputId": "47724231-e20e-4154-faab-6e1dafe1c053"
      },
      "outputs": [
        {
          "output_type": "execute_result",
          "data": {
            "text/plain": [
              "['Gary Magakis',\n",
              " 'Samy Rio',\n",
              " 'Charles and Ray Eames',\n",
              " 'Poul Kjærholm',\n",
              " 'Zhoujie Zhang',\n",
              " 'Marco Iannicelli',\n",
              " 'Unknown',\n",
              " 'Finn Juhl',\n",
              " 'Lukas Janitsch',\n",
              " 'Frank Gehry']"
            ]
          },
          "metadata": {},
          "execution_count": 236
        }
      ],
      "source": [
        "sample(artists_name_list_new, 10)"
      ]
    },
    {
      "cell_type": "code",
      "execution_count": 237,
      "metadata": {
        "colab": {
          "base_uri": "https://localhost:8080/"
        },
        "id": "areJgHrwm5a_",
        "outputId": "1fcde590-493e-43bd-b65a-8728c038ca2f"
      },
      "outputs": [
        {
          "output_type": "execute_result",
          "data": {
            "text/plain": [
              "10905"
            ]
          },
          "metadata": {},
          "execution_count": 237
        }
      ],
      "source": [
        "artists_name_list_diff_1 = list(set(artists_name_list_old_) - set(artists_name_list_new_))\n",
        "len(artists_name_list_diff_1)"
      ]
    },
    {
      "cell_type": "code",
      "execution_count": 238,
      "metadata": {
        "colab": {
          "base_uri": "https://localhost:8080/"
        },
        "id": "8YOm9hS1m_YK",
        "outputId": "3ef172e7-ee08-4f45-e507-b1f263fb288f"
      },
      "outputs": [
        {
          "output_type": "execute_result",
          "data": {
            "text/plain": [
              "[\"Mattia BonettiCoffee Table 'Yo-Yo', 2008David Gill GalleryPrice on request \",\n",
              " 'Tanya AguiñigaMonadnock, 2013Volume Gallery ',\n",
              " 'Nanna Ditzel\"Ring\" Chair by Nanna Ditzel, 1950-1959Almond & Co.Sold ',\n",
              " 'Brian ThoreenMixed Marble Coffee Table - Green, 2015Patrick Parrish GalleryPrice on request ',\n",
              " 'Benjamin Rollins CaldwellFencing Side Chair, 2011 ',\n",
              " 'Amanda RichardsPrism Sconce ( Double ), 2017Tuleste FactoryUS$16,000 ',\n",
              " 'Albert PaleyComet Table Lamp, 2005-2010Wexler GalleryUS$9,500 ',\n",
              " 'Henry KrokatsisUntitled (Braitrim 01), 2010Vigo Gallery£15,400 ',\n",
              " 'Paul CocksedgeSlump Rock Coffee Table 2, 2019Carpenters Workshop GalleryPrice on request ',\n",
              " 'Egg CollectiveHaynes Mirror - Round, ContemporaryEgg CollectivePrice on request ']"
            ]
          },
          "metadata": {},
          "execution_count": 238
        }
      ],
      "source": [
        "sample(artists_name_list_diff_1, 10)"
      ]
    },
    {
      "cell_type": "code",
      "execution_count": 239,
      "metadata": {
        "colab": {
          "base_uri": "https://localhost:8080/"
        },
        "id": "tlKJfF3T2wl2",
        "outputId": "3a942a37-80d8-41ad-9f8f-92f92eab1150"
      },
      "outputs": [
        {
          "output_type": "execute_result",
          "data": {
            "text/plain": [
              "2142"
            ]
          },
          "metadata": {},
          "execution_count": 239
        }
      ],
      "source": [
        "artists_name_list_diff_2 = list(set(artists_name_list_new_) - set(artists_name_list_old_))\n",
        "len(artists_name_list_diff_2)"
      ]
    },
    {
      "cell_type": "code",
      "execution_count": 240,
      "metadata": {
        "colab": {
          "base_uri": "https://localhost:8080/"
        },
        "id": "glZ9Skau2yQq",
        "outputId": "2370d756-c946-486a-a28e-747fc8eb63e5"
      },
      "outputs": [
        {
          "output_type": "execute_result",
          "data": {
            "text/plain": [
              "['Piero Bottoni',\n",
              " 'Carlo Zen',\n",
              " ':mentalKLINIK',\n",
              " 'Fredrik Paulsen',\n",
              " 'Nick Weddell',\n",
              " 'Council',\n",
              " 'André Dubreuil',\n",
              " 'Fabio Hendry',\n",
              " 'Hank Willis Thomas',\n",
              " 'Ettore Sottsass, Memphis Group']"
            ]
          },
          "metadata": {},
          "execution_count": 240
        }
      ],
      "source": [
        "sample(artists_name_list_diff_2, 10)"
      ]
    },
    {
      "cell_type": "code",
      "execution_count": 241,
      "metadata": {
        "colab": {
          "base_uri": "https://localhost:8080/"
        },
        "id": "4ogJaYTTL-Ij",
        "outputId": "96892d2a-77be-4518-dc86-c3eeb2119a5e"
      },
      "outputs": [
        {
          "output_type": "execute_result",
          "data": {
            "text/plain": [
              "14"
            ]
          },
          "metadata": {},
          "execution_count": 241
        }
      ],
      "source": [
        "not_title_name = []\n",
        "for n in artists_name_list_new:\n",
        "  if n[0].isupper()==False and n[0].isdigit()==False: # n.istitle() doesn't work correctly\n",
        "    not_title_name.append(n)\n",
        "not_title_name = [n for n in not_title_name if n != 'unknown']\n",
        "not_title_name = list(set(not_title_name))\n",
        "len(not_title_name)"
      ]
    },
    {
      "cell_type": "code",
      "execution_count": 242,
      "metadata": {
        "colab": {
          "base_uri": "https://localhost:8080/"
        },
        "id": "A3WVRonaM2N1",
        "outputId": "ea6a20c9-dbee-4e68-8519-9b57fd0a2a06"
      },
      "outputs": [
        {
          "output_type": "execute_result",
          "data": {
            "text/plain": [
              "['nendo,',\n",
              " 'wells coates',\n",
              " 'david/nicolas',\n",
              " 'bahraini—danish',\n",
              " 'antoine phillippon',\n",
              " 'gt2P',\n",
              " 'nendo',\n",
              " ':mentalKLINIK',\n",
              " 'chmara.rosinke',\n",
              " 'elias sequra pasquale',\n",
              " 'touche—touche',\n",
              " 'gerrit rietveldt',\n",
              " 'morito ebine',\n",
              " '&Tradition']"
            ]
          },
          "metadata": {},
          "execution_count": 242
        }
      ],
      "source": [
        "sample(not_title_name, 14) # 10"
      ]
    },
    {
      "cell_type": "code",
      "execution_count": null,
      "metadata": {
        "id": "Q_JbBy_cOgj3"
      },
      "outputs": [],
      "source": [
        "# !!!!!!!!!"
      ]
    },
    {
      "cell_type": "code",
      "execution_count": 243,
      "metadata": {
        "colab": {
          "base_uri": "https://localhost:8080/"
        },
        "id": "9CvF-_4wdSxl",
        "outputId": "e89984ac-15c6-427d-b3fc-848546b6ec8e"
      },
      "outputs": [
        {
          "output_type": "execute_result",
          "data": {
            "text/plain": [
              "['gerrit rietveldt',\n",
              " ':mentalKLINIK',\n",
              " 'gt2P',\n",
              " 'david/nicolas',\n",
              " 'bahraini—danish',\n",
              " 'chmara.rosinke',\n",
              " 'nendo',\n",
              " 'antoine phillippon',\n",
              " 'wells coates',\n",
              " 'nendo,',\n",
              " 'elias sequra pasquale',\n",
              " '&Tradition',\n",
              " 'morito ebine',\n",
              " 'touche—touche']"
            ]
          },
          "metadata": {},
          "execution_count": 243
        }
      ],
      "source": [
        "not_title_name"
      ]
    },
    {
      "cell_type": "code",
      "execution_count": 252,
      "metadata": {
        "colab": {
          "base_uri": "https://localhost:8080/",
          "height": 35
        },
        "id": "bwXITxz6NJOq",
        "outputId": "7ce7f7fd-7e1c-4e64-f9fa-f78a01be616d"
      },
      "outputs": [
        {
          "output_type": "execute_result",
          "data": {
            "text/plain": [
              "'&Tradition'"
            ],
            "application/vnd.google.colaboratory.intrinsic+json": {
              "type": "string"
            }
          },
          "metadata": {},
          "execution_count": 252
        }
      ],
      "source": [
        "n = not_title_name[11]\n",
        "n\n",
        "# ', Florence'\n",
        "# ', Venice'\n",
        "# 'nendo,'"
      ]
    },
    {
      "cell_type": "code",
      "execution_count": 245,
      "metadata": {
        "colab": {
          "base_uri": "https://localhost:8080/"
        },
        "id": "OQiIU4oKLCCN",
        "outputId": "6444812e-4141-4d84-8b5e-ad6b3c2a5b6e"
      },
      "outputs": [
        {
          "output_type": "stream",
          "name": "stdout",
          "text": [
            "n False\n",
            "e False\n",
            "n False\n",
            "d False\n",
            "o False\n",
            ", True\n",
            "True\n"
          ]
        }
      ],
      "source": [
        "for l in n:\n",
        "  print(l, l==',')\n",
        "print(n[-1]==',') # 0"
      ]
    },
    {
      "cell_type": "code",
      "execution_count": 253,
      "metadata": {
        "colab": {
          "base_uri": "https://localhost:8080/"
        },
        "id": "ctqZtJ86NxZz",
        "outputId": "7efbdd55-cdee-4807-e858-88ca63e42d0f"
      },
      "outputs": [
        {
          "output_type": "execute_result",
          "data": {
            "text/plain": [
              "3"
            ]
          },
          "metadata": {},
          "execution_count": 253
        }
      ],
      "source": [
        "filtered_dict = {k: v for k, v in artworks_dict.items() if v['artist']=='&Tradition'}\n",
        "len(filtered_dict)"
      ]
    },
    {
      "cell_type": "code",
      "source": [
        "filtered_dict"
      ],
      "metadata": {
        "colab": {
          "base_uri": "https://localhost:8080/"
        },
        "id": "VDY7hK-uCJsh",
        "outputId": "04eca4c6-4981-4c7c-e720-d3fab84018c1"
      },
      "execution_count": 254,
      "outputs": [
        {
          "output_type": "execute_result",
          "data": {
            "text/plain": [
              "{'5fe1f9d309672600114e2bfa': {'artist': '&Tradition',\n",
              "  'category_id': ['12'],\n",
              "  'gallery': 'THEFOURTH',\n",
              "  'gene_id': ['12020', '12025'],\n",
              "  'link': 'https://d32dm0rphc51dk.cloudfront.net/sra72EpyMQR11YmeYACbfw/large.jpg',\n",
              "  'name': 'Lato LN9 Table ',\n",
              "  'parsing_date': '2022-04-19',\n",
              "  'price': '€860 ',\n",
              "  'updating_date': '2022-04-19',\n",
              "  'year': '2010'},\n",
              " '5fe1fd20dca897001014a1eb': {'artist': '&Tradition',\n",
              "  'category_id': ['12'],\n",
              "  'gallery': 'THEFOURTH',\n",
              "  'gene_id': ['12004'],\n",
              "  'link': 'https://d32dm0rphc51dk.cloudfront.net/pZp33YMFbCaZphlb7ptG6A/large.jpg',\n",
              "  'name': 'Flowerpot VP7 Pendant ',\n",
              "  'parsing_date': '2022-04-19',\n",
              "  'price': '€670 ',\n",
              "  'updating_date': '2022-04-19',\n",
              "  'year': '1968'},\n",
              " '5fe302deb114a000129e5495': {'artist': '&Tradition',\n",
              "  'category_id': ['12'],\n",
              "  'gallery': 'THEFOURTH',\n",
              "  'gene_id': ['12020', '12025'],\n",
              "  'link': 'https://d32dm0rphc51dk.cloudfront.net/qAcfIoVZ_l6CybIGW-mzQw/large.jpg',\n",
              "  'name': 'Shuffle Table ',\n",
              "  'parsing_date': '2022-04-19',\n",
              "  'price': 'Sold ',\n",
              "  'updating_date': '2022-04-19',\n",
              "  'year': '2010'}}"
            ]
          },
          "metadata": {},
          "execution_count": 254
        }
      ]
    },
    {
      "cell_type": "code",
      "execution_count": 247,
      "metadata": {
        "colab": {
          "base_uri": "https://localhost:8080/"
        },
        "id": "ueUMi9QAN8i0",
        "outputId": "5de6b929-56a3-449d-bf17-d4b1d5cfc9f8"
      },
      "outputs": [
        {
          "output_type": "execute_result",
          "data": {
            "text/plain": [
              "1"
            ]
          },
          "metadata": {},
          "execution_count": 247
        }
      ],
      "source": [
        "filtered_dict = {k: v for k, v in artworks_dict.items() if v['artist']=='nendo,'}\n",
        "len(filtered_dict)"
      ]
    },
    {
      "cell_type": "code",
      "execution_count": 248,
      "metadata": {
        "colab": {
          "base_uri": "https://localhost:8080/"
        },
        "id": "zgcgT9jgOCYX",
        "outputId": "bb440427-4f90-4f7f-cb68-c49adcc8c3ec"
      },
      "outputs": [
        {
          "output_type": "execute_result",
          "data": {
            "text/plain": [
              "{'59f065077622dd4d9e4b6418': {'artist': 'nendo,',\n",
              "  'category_id': ['12'],\n",
              "  'gallery': 'Sèvres Porcelain Manufactory',\n",
              "  'gene_id': ['12013', '12008', '12025'],\n",
              "  'link': 'https://d32dm0rphc51dk.cloudfront.net/UiOTOwq7gJ5PGDfQYRLwjA/large.jpg',\n",
              "  'name': 'Hasu',\n",
              "  'parsing_date': '2022-04-19',\n",
              "  'price': 'Price on request ',\n",
              "  'updating_date': '2022-04-19',\n",
              "  'year': '2017'}}"
            ]
          },
          "metadata": {},
          "execution_count": 248
        }
      ],
      "source": [
        "filtered_dict"
      ]
    },
    {
      "cell_type": "code",
      "source": [
        "for k in filtered_dict.keys():\n",
        "  print(k)"
      ],
      "metadata": {
        "colab": {
          "base_uri": "https://localhost:8080/"
        },
        "id": "o0VLVaV5CeSh",
        "outputId": "741db0ed-e233-44b8-997c-35ab5357b951"
      },
      "execution_count": 249,
      "outputs": [
        {
          "output_type": "stream",
          "name": "stdout",
          "text": [
            "59f065077622dd4d9e4b6418\n"
          ]
        }
      ]
    },
    {
      "cell_type": "code",
      "execution_count": 250,
      "metadata": {
        "colab": {
          "base_uri": "https://localhost:8080/"
        },
        "id": "IGe0SC4fOcrm",
        "outputId": "3c40a362-9491-4887-fa97-e9053bb18056"
      },
      "outputs": [
        {
          "output_type": "execute_result",
          "data": {
            "text/plain": [
              "{'artist': 'nendo',\n",
              " 'category_id': ['12'],\n",
              " 'gallery': 'Sèvres Porcelain Manufactory',\n",
              " 'gene_id': ['12013', '12008', '12025'],\n",
              " 'link': 'https://d32dm0rphc51dk.cloudfront.net/UiOTOwq7gJ5PGDfQYRLwjA/large.jpg',\n",
              " 'name': 'Hasu',\n",
              " 'parsing_date': '2022-04-19',\n",
              " 'price': 'Price on request ',\n",
              " 'updating_date': '2022-04-19',\n",
              " 'year': '2017'}"
            ]
          },
          "metadata": {},
          "execution_count": 250
        }
      ],
      "source": [
        "artworks_dict['59f065077622dd4d9e4b6418'].update({'artist': 'nendo'}) # Unknown\n",
        "artworks_dict['59f065077622dd4d9e4b6418']"
      ]
    },
    {
      "cell_type": "code",
      "execution_count": null,
      "metadata": {
        "id": "TLp6cWrxOlyu"
      },
      "outputs": [],
      "source": [
        "# !!!!!!!!!!!!!"
      ]
    },
    {
      "cell_type": "code",
      "execution_count": 251,
      "metadata": {
        "colab": {
          "base_uri": "https://localhost:8080/"
        },
        "id": "gWEx5depOq94",
        "outputId": "b5761186-4d6f-427f-cd5c-ad38f4f96f71"
      },
      "outputs": [
        {
          "output_type": "stream",
          "name": "stdout",
          "text": [
            "0\n"
          ]
        }
      ],
      "source": [
        "real_not_title_name = {}\n",
        "for n in not_title_name:\n",
        "  filt_dict_1 = {k: v for k, v in artworks_dict.items() if v['artist'] == n}\n",
        "  new_n_list = list(set([v['name'] + v['artist'] for v in filt_dict_1.values()]))\n",
        "  for n_n in new_n_list:\n",
        "    filt_dict_2 = {k: v for k, v in artworks_dict.items() if v['artist'] == n_n}\n",
        "    if len(filt_dict_2)>0:\n",
        "      real_not_title_name.update({n: n_n})\n",
        "\n",
        "print(len(real_not_title_name))"
      ]
    },
    {
      "cell_type": "code",
      "execution_count": null,
      "metadata": {
        "id": "64yZAzRPeW_Y"
      },
      "outputs": [],
      "source": [
        "# !!!!!!!!!!!!!!"
      ]
    },
    {
      "cell_type": "code",
      "execution_count": 106,
      "metadata": {
        "colab": {
          "base_uri": "https://localhost:8080/"
        },
        "id": "yVAsIjzKXLy5",
        "outputId": "b50f0c4e-cfd4-4df5-9b1d-66427b25e740"
      },
      "outputs": [
        {
          "output_type": "execute_result",
          "data": {
            "text/plain": [
              "{'n and William Ladd': 'Steven and William Ladd'}"
            ]
          },
          "metadata": {},
          "execution_count": 106
        }
      ],
      "source": [
        "real_not_title_name\n",
        "# 'n and William Ladd' must be 'Steven and William Ladd' (name: Steve)\n",
        "# 'horsten Kirchhoff' must be 'Thorsten Kirchhoff' (name: T)"
      ]
    },
    {
      "cell_type": "code",
      "execution_count": 107,
      "metadata": {
        "colab": {
          "base_uri": "https://localhost:8080/"
        },
        "id": "JLjgSuojKLCw",
        "outputId": "fbd10d8c-96a9-4a64-f338-a17de97420a0"
      },
      "outputs": [
        {
          "output_type": "execute_result",
          "data": {
            "text/plain": [
              "{'56296c0a726169642d000160': {'artist': 'n and William Ladd',\n",
              "  'category_id': ['10'],\n",
              "  'gallery': 'Saint Louis Art Museum',\n",
              "  'gene_id': ['10005'],\n",
              "  'link': 'https://d32dm0rphc51dk.cloudfront.net/ywNOVSVs7bot7KElvh_TBw/large.jpg',\n",
              "  'name': 'Steve',\n",
              "  'parsing_date': '2022-04-19',\n",
              "  'price': ' ',\n",
              "  'updating_date': '2022-04-19',\n",
              "  'year': '2014'},\n",
              " '564b5bf04b848064aa0000e8': {'artist': 'n and William Ladd',\n",
              "  'category_id': ['10'],\n",
              "  'gallery': 'Mingei International Museum',\n",
              "  'gene_id': ['10005'],\n",
              "  'link': 'https://d32dm0rphc51dk.cloudfront.net/awaOMMtcpWF8vgt_3MKpMA/large.jpg',\n",
              "  'name': 'Steve',\n",
              "  'parsing_date': '2022-04-19',\n",
              "  'price': ' ',\n",
              "  'updating_date': '2022-04-19',\n",
              "  'year': '2012'}}"
            ]
          },
          "metadata": {},
          "execution_count": 107
        }
      ],
      "source": [
        "filtered_dict = {k: v for k, v in artworks_dict.items() if v['artist'] in real_not_title_name.keys()}\n",
        "filtered_dict"
      ]
    },
    {
      "cell_type": "code",
      "execution_count": 108,
      "metadata": {
        "id": "ZNR9tArAYcST"
      },
      "outputs": [],
      "source": [
        "for v in artworks_dict.values():\n",
        "  if v['artist'] in real_not_title_name.keys():\n",
        "    v.update({'artist': real_not_title_name[v['artist']]})\n",
        "    v.update({'name': 'Untitled'})"
      ]
    },
    {
      "cell_type": "code",
      "execution_count": 109,
      "metadata": {
        "colab": {
          "base_uri": "https://localhost:8080/"
        },
        "id": "ss5AF87tZlOc",
        "outputId": "1983b5aa-44f3-4f8b-dc34-a6ed80f83c5e"
      },
      "outputs": [
        {
          "output_type": "stream",
          "name": "stdout",
          "text": [
            "{'name': 'Untitled', 'link': 'https://d32dm0rphc51dk.cloudfront.net/ywNOVSVs7bot7KElvh_TBw/large.jpg', 'artist': 'Steven and William Ladd', 'price': ' ', 'parsing_date': '2022-04-19', 'updating_date': '2022-04-19', 'year': '2014', 'gallery': 'Saint Louis Art Museum', 'category_id': ['10'], 'gene_id': ['10005']}\n",
            "{'name': 'Untitled', 'link': 'https://d32dm0rphc51dk.cloudfront.net/awaOMMtcpWF8vgt_3MKpMA/large.jpg', 'artist': 'Steven and William Ladd', 'price': ' ', 'parsing_date': '2022-04-19', 'updating_date': '2022-04-19', 'year': '2012', 'gallery': 'Mingei International Museum', 'category_id': ['10'], 'gene_id': ['10005']}\n"
          ]
        }
      ],
      "source": [
        "for id in filtered_dict.keys():\n",
        "  print(artworks_dict[id])"
      ]
    },
    {
      "cell_type": "code",
      "execution_count": null,
      "metadata": {
        "id": "apk1IC0nPGgJ"
      },
      "outputs": [],
      "source": [
        "# !!!!!!!!!!!!!"
      ]
    },
    {
      "cell_type": "code",
      "execution_count": 255,
      "metadata": {
        "id": "fgpbhlOB45QV"
      },
      "outputs": [],
      "source": [
        "for v in artworks_dict.values():\n",
        "  v.update({'artist': v['artist'].title()}) # bad for not names"
      ]
    },
    {
      "cell_type": "code",
      "execution_count": 256,
      "metadata": {
        "colab": {
          "base_uri": "https://localhost:8080/"
        },
        "id": "Ta2EIAKcaQzJ",
        "outputId": "2481bdeb-e8e6-4c15-ab6b-9582d038d800"
      },
      "outputs": [
        {
          "output_type": "stream",
          "name": "stdout",
          "text": [
            "2141\n"
          ]
        }
      ],
      "source": [
        "# New data\n",
        "artists_name_list_new = [v['artist'] for v in artworks_dict.values()]\n",
        "\n",
        "artists_name_list_new_ = list(set(artists_name_list_new))\n",
        "print(len(artists_name_list_new_))"
      ]
    },
    {
      "cell_type": "code",
      "execution_count": 257,
      "metadata": {
        "colab": {
          "base_uri": "https://localhost:8080/"
        },
        "id": "6RP9ZPZDivWs",
        "outputId": "d883cd58-0a7e-4c41-ee12-4c6a585a82ea"
      },
      "outputs": [
        {
          "output_type": "execute_result",
          "data": {
            "text/plain": [
              "['Tobia Scarpa',\n",
              " 'Honma Kazuaki',\n",
              " 'Kenzo Tange',\n",
              " 'Eric Shaw',\n",
              " 'Andrea Blum',\n",
              " 'Geraldo De Barros',\n",
              " 'Alexandre Chapelin',\n",
              " 'Stephen Chase',\n",
              " 'Francesca Dimattio',\n",
              " 'Adalberto Dal Lago']"
            ]
          },
          "metadata": {},
          "execution_count": 257
        }
      ],
      "source": [
        "sample(artists_name_list_new_, 10)"
      ]
    },
    {
      "cell_type": "code",
      "execution_count": 258,
      "metadata": {
        "id": "qiDxTQrZsuj3"
      },
      "outputs": [],
      "source": [
        "#save_dict(artworks_dict, artwork_dict, 'live') # 1. Save json dict\n",
        "save_dict(artworks_dict, '/artsy_genom_artwork_dict_cat12.txt', 'backup') # 1. Save json dict"
      ]
    },
    {
      "cell_type": "markdown",
      "metadata": {
        "id": "W9Qi4hnATEYi"
      },
      "source": [
        "### artists_dict"
      ]
    },
    {
      "cell_type": "markdown",
      "metadata": {
        "id": "75N5WS8GTFP3"
      },
      "source": [
        "#### initiation"
      ]
    },
    {
      "cell_type": "code",
      "execution_count": null,
      "metadata": {
        "id": "Uo3R766ShY39"
      },
      "outputs": [],
      "source": [
        "#artists_dict = {'000000': {'name': 'Jacopo Bassano', \n",
        "#                           'artwork_id: ['000000', ''], # Portrait of a Man in Armour\n",
        "#                           -- 'gallery_id': ['000000', ''], # Robilant+Voena\n",
        "#                           'gene_id': ['21603', ''],\n",
        "#                           'category_id': ['03', '']}}"
      ]
    },
    {
      "cell_type": "code",
      "execution_count": null,
      "metadata": {
        "colab": {
          "base_uri": "https://localhost:8080/"
        },
        "id": "aB9M_Zp7gLsi",
        "outputId": "aca43d89-e3d5-416e-87af-11b31eef8cb4"
      },
      "outputs": [
        {
          "name": "stdout",
          "output_type": "stream",
          "text": [
            "8094\n"
          ]
        }
      ],
      "source": [
        "artworks_dict = open_dict(artwork_dict, 'live')\n",
        "print(len(artworks_dict))"
      ]
    },
    {
      "cell_type": "code",
      "execution_count": null,
      "metadata": {
        "colab": {
          "base_uri": "https://localhost:8080/"
        },
        "id": "MABxYknGriMY",
        "outputId": "89435fe1-0aa7-44cb-b2d9-a8706801cc0f"
      },
      "outputs": [
        {
          "name": "stdout",
          "output_type": "stream",
          "text": [
            "1176\n"
          ]
        }
      ],
      "source": [
        "artists_name_list = list(set([v['artist'] for v in artworks_dict.values()]))\n",
        "print(len(artists_name_list))"
      ]
    },
    {
      "cell_type": "code",
      "execution_count": null,
      "metadata": {
        "colab": {
          "base_uri": "https://localhost:8080/"
        },
        "id": "Sg7t_qh7IKAm",
        "outputId": "d7ac90f8-e21d-4d90-d5fc-ee0265dba45e"
      },
      "outputs": [
        {
          "name": "stdout",
          "output_type": "stream",
          "text": [
            "1176\n",
            "1176\n"
          ]
        }
      ],
      "source": [
        "# artist_id creation\n",
        "at_id_len = len(str(len(artists_name_list)))\n",
        "at_id_list = []\n",
        "c = 1\n",
        "for a in artists_name_list:\n",
        "  id = '0'*(at_id_len-len(str(c)))+str(c)\n",
        "  at_id_list.append(id)\n",
        "  c += 1\n",
        "\n",
        "print(len(at_id_list))\n",
        "print(len(artists_name_list))"
      ]
    },
    {
      "cell_type": "markdown",
      "metadata": {
        "id": "e8nIVAFtXisl"
      },
      "source": [
        "***One to one connection***"
      ]
    },
    {
      "cell_type": "code",
      "execution_count": null,
      "metadata": {
        "colab": {
          "base_uri": "https://localhost:8080/"
        },
        "id": "tWr_ZnvzxXrp",
        "outputId": "936f3227-becf-4a9a-f7a8-41612c760c89"
      },
      "outputs": [
        {
          "data": {
            "text/plain": [
              "1176"
            ]
          },
          "execution_count": 136,
          "metadata": {},
          "output_type": "execute_result"
        }
      ],
      "source": [
        "# Dict creation\n",
        "artists_dict = pd.DataFrame({'id': at_id_list, 'name': artists_name_list}).set_index('id').to_dict('index')\n",
        "len(artists_dict)"
      ]
    },
    {
      "cell_type": "code",
      "execution_count": null,
      "metadata": {
        "colab": {
          "base_uri": "https://localhost:8080/"
        },
        "id": "ZooSVsSYxXoC",
        "outputId": "f226e814-b60d-4d89-bddb-88da749c771f"
      },
      "outputs": [
        {
          "data": {
            "text/plain": [
              "{'0468': {'name': 'R.C. Gorman'}}"
            ]
          },
          "execution_count": 137,
          "metadata": {},
          "output_type": "execute_result"
        }
      ],
      "source": [
        "artists_dict_samp = {k: v for k, v in artists_dict.items() if v['name'] == 'R.C. Gorman'}\n",
        "artists_dict_samp"
      ]
    },
    {
      "cell_type": "markdown",
      "metadata": {
        "id": "k5a0VedCNqks"
      },
      "source": [
        "##### add 'artist_id'  in artworks_dict"
      ]
    },
    {
      "cell_type": "code",
      "execution_count": null,
      "metadata": {
        "id": "wSr9yxalNnj6"
      },
      "outputs": [],
      "source": [
        "keys_list = list(artists_dict.keys())\n",
        "values_list = [v['name'] for v in artists_dict.values()]\n",
        "\n",
        "for value in artworks_dict.values():\n",
        "  if value['artist'] in values_list:\n",
        "    value.update({'artist_id': keys_list[values_list.index(value['artist'])]})\n",
        "  else:\n",
        "    value.update({'artist_id': ' '})"
      ]
    },
    {
      "cell_type": "code",
      "execution_count": null,
      "metadata": {
        "colab": {
          "base_uri": "https://localhost:8080/"
        },
        "id": "Rom9InzlP_Ug",
        "outputId": "b86e59d0-76bc-48a6-8485-44f096c551e9"
      },
      "outputs": [
        {
          "data": {
            "text/plain": [
              "{'artist': 'Tuukka Tammisaari',\n",
              " 'artist_id': '33527',\n",
              " 'category_id': ['03'],\n",
              " 'gallery': 'Kristof De Clercq',\n",
              " 'gene_id': ['03056', '03013', '03090'],\n",
              " 'link': 'https://d32dm0rphc51dk.cloudfront.net/hrEVTH4ekjqm_iKE1HStzg/large.jpg',\n",
              " 'name': 'Untitled',\n",
              " 'parsing_date': '2022-04-01',\n",
              " 'price': '€6,600 ',\n",
              " 'updating_date': '2022-04-01',\n",
              " 'year': '2021'}"
            ]
          },
          "execution_count": 240,
          "metadata": {},
          "output_type": "execute_result"
        }
      ],
      "source": [
        "artworks_dict['623f201d30b258000cc3053a']"
      ]
    },
    {
      "cell_type": "code",
      "execution_count": null,
      "metadata": {
        "colab": {
          "base_uri": "https://localhost:8080/"
        },
        "id": "h3pOwYjtTCbj",
        "outputId": "815e1142-6bce-4fd5-9b12-41aa3262a030"
      },
      "outputs": [
        {
          "data": {
            "text/plain": [
              "{'name': 'Tuukka Tammisaari'}"
            ]
          },
          "execution_count": 241,
          "metadata": {},
          "output_type": "execute_result"
        }
      ],
      "source": [
        "artists_dict['33527']"
      ]
    },
    {
      "cell_type": "code",
      "execution_count": null,
      "metadata": {
        "id": "ylFIkD2HQBRm"
      },
      "outputs": [],
      "source": [
        "# Replacing\n",
        "#artworks_dict = {k: artworks_dict[k] for k in artworks_dict.keys() - {'artist'}}\n",
        "#artworks_dict['623f201d30b258000cc3053a']"
      ]
    },
    {
      "cell_type": "code",
      "execution_count": null,
      "metadata": {
        "id": "DgnVlXDJQDaL"
      },
      "outputs": [],
      "source": [
        "save_dict(artworks_dict, artwork_dict, 'live') # 1. Save json dict"
      ]
    },
    {
      "cell_type": "markdown",
      "metadata": {
        "id": "jj2mDKTjAjBj"
      },
      "source": [
        "#### expansion\n",
        "\n",
        "with 'artwork_id', 'gene_id' and 'category_id'\n",
        "- ***one to many connection***\n",
        "- id info is in the artists_dict"
      ]
    },
    {
      "cell_type": "code",
      "execution_count": null,
      "metadata": {
        "id": "phGK2lliDgLR"
      },
      "outputs": [],
      "source": [
        "# category_id\n",
        "cat = df_cat_dat_total['category_id'].unique().tolist()\n",
        "\n",
        "#artists_dict = {k: v.update({'category_id': [cat[0]]}) for k, v in artists_dict.items()}\n",
        "for k in artists_dict:\n",
        "  artists_dict[k].update({'category_id': [cat[0]]})"
      ]
    },
    {
      "cell_type": "code",
      "execution_count": null,
      "metadata": {
        "id": "zMo_s5BXGutL"
      },
      "outputs": [],
      "source": [
        "# one to many connection from df\n",
        "def artist_dict_expan_otm(param):\n",
        "  group_df = df_cat_dat_total.groupby(['artist'])[param].apply(list).apply(set).apply(list).reset_index(name=param)\n",
        "  group_dict = group_df.set_index('artist').to_dict('index')\n",
        "\n",
        "  for k, v in artists_dict.items():\n",
        "    if v['name'] in group_dict.keys():\n",
        "      artists_dict[k].update(group_dict[v['name']])\n",
        "    else:\n",
        "      artists_dict[k].update({param: [' ']})"
      ]
    },
    {
      "cell_type": "code",
      "execution_count": null,
      "metadata": {
        "id": "6hqIRL9mDERB"
      },
      "outputs": [],
      "source": [
        "# gene_id\n",
        "artist_dict_expan_otm('gene_id')"
      ]
    },
    {
      "cell_type": "code",
      "execution_count": null,
      "metadata": {
        "id": "sljnxQ9_D8JG"
      },
      "outputs": [],
      "source": [
        "# artsy_id\n",
        "artist_dict_expan_otm('artsy_id')"
      ]
    },
    {
      "cell_type": "code",
      "execution_count": null,
      "metadata": {
        "id": "bSmo5hBFEGcd"
      },
      "outputs": [],
      "source": [
        "artists_dict_samp = {k: v for k, v in artists_dict.items() if v['name'] == 'Jacopo Bassano'}\n",
        "artists_dict_samp"
      ]
    },
    {
      "cell_type": "code",
      "execution_count": null,
      "metadata": {
        "id": "ZqPbCO06EIoV"
      },
      "outputs": [],
      "source": [
        "save_dict(artists_dict, artist_dict, 'live') # 1. Save json dict"
      ]
    },
    {
      "cell_type": "markdown",
      "metadata": {
        "id": "eKte_BU_xBW3"
      },
      "source": [
        "##### correction - not regular action"
      ]
    },
    {
      "cell_type": "code",
      "execution_count": null,
      "metadata": {
        "colab": {
          "base_uri": "https://localhost:8080/"
        },
        "id": "MsY9FUw4mR95",
        "outputId": "92aa863e-af10-4df0-ec45-048a39ba87f8"
      },
      "outputs": [
        {
          "name": "stdout",
          "output_type": "stream",
          "text": [
            "215336\n"
          ]
        }
      ],
      "source": [
        "#artworks_dict = open_dict(artwork_dict, 'live')\n",
        "#print(len(artworks_dict))\n",
        "# 215336"
      ]
    },
    {
      "cell_type": "code",
      "execution_count": null,
      "metadata": {
        "id": "2LCaTj1Haato"
      },
      "outputs": [],
      "source": [
        "def artist_dict_expan(param):\n",
        "  param_dict = {}\n",
        "  for v in artworks_dict.values():\n",
        "    if v['artist_id'] not in param_dict.keys():\n",
        "      param_dict.update({v['artist_id']: v[param]})\n",
        "    else:\n",
        "      v_new = list(set(param_dict[v['artist_id']] + v[param]))\n",
        "      param_dict.update({v['artist_id']: v_new})\n",
        "  print(len(param_dict))\n",
        "\n",
        "  for k in artists_dict:\n",
        "    if k in param_dict.keys():\n",
        "      artists_dict[k].update({param: param_dict[k]})\n",
        "    else:\n",
        "      artists_dict[k].update({param: ' '})\n",
        "  print(len(artists_dict))"
      ]
    },
    {
      "cell_type": "code",
      "execution_count": null,
      "metadata": {
        "colab": {
          "base_uri": "https://localhost:8080/"
        },
        "id": "YEKVXDmwexlh",
        "outputId": "a9a51fa3-74dd-43ac-8cae-191d01b0b501"
      },
      "outputs": [
        {
          "name": "stdout",
          "output_type": "stream",
          "text": [
            "36975\n",
            "36975\n",
            "36975\n",
            "36975\n"
          ]
        }
      ],
      "source": [
        "artist_dict_expan('category_id')\n",
        "artist_dict_expan('gene_id')"
      ]
    },
    {
      "cell_type": "code",
      "execution_count": null,
      "metadata": {
        "colab": {
          "base_uri": "https://localhost:8080/"
        },
        "id": "IbANTyFTmp49",
        "outputId": "6e65d9d5-f4f4-42f8-d844-fdf77f933a9e"
      },
      "outputs": [
        {
          "name": "stdout",
          "output_type": "stream",
          "text": [
            "36975\n",
            "36975\n"
          ]
        }
      ],
      "source": [
        "#'artsy_id'\n",
        "\n",
        "artsy_id_dict = {}\n",
        "for k, v in artworks_dict.items():\n",
        "  if v['artist_id'] not in artsy_id_dict.keys():\n",
        "    artsy_id_dict.update({v['artist_id']: [k]})\n",
        "  else:\n",
        "    v_new = list(set(artsy_id_dict[v['artist_id']] + [k]))\n",
        "    artsy_id_dict.update({v['artist_id']: v_new})\n",
        "print(len(artsy_id_dict))\n",
        "\n",
        "for key in artists_dict:\n",
        "  if key in artsy_id_dict.keys():\n",
        "    artists_dict[key].update({'artsy_id': artsy_id_dict[key]})\n",
        "  else:\n",
        "    artists_dict[key].update({'artsy_id': ' '})\n",
        "print(len(artists_dict))"
      ]
    },
    {
      "cell_type": "code",
      "execution_count": null,
      "metadata": {
        "colab": {
          "base_uri": "https://localhost:8080/"
        },
        "id": "0AvoCLNJjGfx",
        "outputId": "5fdecbb4-a3eb-4dfd-e6b8-c97f14fc2bde"
      },
      "outputs": [
        {
          "data": {
            "text/plain": [
              "{'artsy_id': ['5cfb7cb33741d9000f585a5e',\n",
              "  '5dab31b68291a100122e8426',\n",
              "  '5dab3142ff80ed000d869223',\n",
              "  '5de11d7934dce00012f2186e',\n",
              "  '5e26bfeee2b26b000dd2d623',\n",
              "  '6056178c0d266100129a121b',\n",
              "  '5de0f3458d9e2a00127034f0',\n",
              "  '623f217a6d2c31000b9603b4',\n",
              "  '604ca1dfb66fe900111318de',\n",
              "  '5de140b78d19ce0012ce2e2b',\n",
              "  '623f2108b8401b000c745e13',\n",
              "  '623f201d30b258000cc3053a',\n",
              "  '5de14c1b7fe05700136f442e',\n",
              "  '5dab33258110c4000e2bf1ab',\n",
              "  '5b3cd2cf139b21230e9f297b',\n",
              "  '5dab308fb8e1a20011c39112',\n",
              "  '5de11db47b22d6001202a6df',\n",
              "  '5de1274647800700116a0973',\n",
              "  '5de126b190b4bf0012548c16',\n",
              "  '5de11e017b22d6001202a6f2',\n",
              "  '5cfb7e2ed989710012310932',\n",
              "  '5de1410a8533dd000ed36e8f',\n",
              "  '60560b53bb73b30011a8b3f6',\n",
              "  '5de13f1d8533dd00120eeede',\n",
              "  '5de127ab34dce0000e3ca625',\n",
              "  '5de12731f574de000d808f01',\n",
              "  '623f22356eee8f000db6c352',\n",
              "  '5de14bea7fe057000f189094',\n",
              "  '5de14bc042f3b30012089d16',\n",
              "  '5de0fd0456a016000e1f3a8a',\n",
              "  '5dab341eea2ef7000f6a01dc',\n",
              "  '623f20555f2256000dc92b3a',\n",
              "  '5dab3278301916000e790690',\n",
              "  '60560dabe684c30011842ccf',\n",
              "  '5de127652545cd0012f04ac5',\n",
              "  '5cfb82e2d98971000e4887cc',\n",
              "  '5de1270647800700116a0960',\n",
              "  '623f2213286f23000cb7bb9b',\n",
              "  '623f21e4c657db000e609f5d',\n",
              "  '5de0e8505a1c75000ea7a6d1',\n",
              "  '5dab30cbea2ef7000f6a012d',\n",
              "  '5dab303dff80ed000d8691e3',\n",
              "  '5de0f7a334dce0000e3c9c1d',\n",
              "  '60560bd295cbe40011f956b2',\n",
              "  '5de11c1c5bedd6000e8dd7a0',\n",
              "  '623f203c758d10000e840584',\n",
              "  '5de0fbf7fe8fbe000d7e091b',\n",
              "  '604ca0de9e96b200127e56f6',\n",
              "  '5de1509c2545cd0012f054b3',\n",
              "  '5de126c592a7bb000da38f5a'],\n",
              " 'category_id': ['02', '03', '06'],\n",
              " 'gene_id': ['03056',\n",
              "  '02161',\n",
              "  '02073',\n",
              "  '06105',\n",
              "  '03117',\n",
              "  '03090',\n",
              "  '06116',\n",
              "  '02173',\n",
              "  '03013'],\n",
              " 'name': 'Tuukka Tammisaari'}"
            ]
          },
          "execution_count": 246,
          "metadata": {},
          "output_type": "execute_result"
        }
      ],
      "source": [
        "artists_dict['33527']"
      ]
    },
    {
      "cell_type": "code",
      "execution_count": null,
      "metadata": {
        "colab": {
          "base_uri": "https://localhost:8080/"
        },
        "id": "3Hb8l6TOpdF-",
        "outputId": "68eab124-db17-4852-a606-0aae61d10303"
      },
      "outputs": [
        {
          "data": {
            "text/plain": [
              "50"
            ]
          },
          "execution_count": 247,
          "metadata": {},
          "output_type": "execute_result"
        }
      ],
      "source": [
        "len(artists_dict['33527']['artsy_id'])"
      ]
    },
    {
      "cell_type": "code",
      "execution_count": null,
      "metadata": {
        "colab": {
          "base_uri": "https://localhost:8080/"
        },
        "id": "OpyGcmvipmXF",
        "outputId": "6befa5b0-e465-47bd-98ae-e3bc1d72ef57"
      },
      "outputs": [
        {
          "data": {
            "text/plain": [
              "50"
            ]
          },
          "execution_count": 248,
          "metadata": {},
          "output_type": "execute_result"
        }
      ],
      "source": [
        "filtered_dict = {k: v for k, v in artworks_dict.items() if v['artist_id'] == '33527'}\n",
        "len(filtered_dict)"
      ]
    },
    {
      "cell_type": "code",
      "execution_count": null,
      "metadata": {
        "id": "-t-pMbn4u0n8"
      },
      "outputs": [],
      "source": [
        "save_dict(artists_dict, artist_dict, 'live') # 1. Save json dict"
      ]
    },
    {
      "cell_type": "markdown",
      "metadata": {
        "id": "m5Ta2jEIT30z"
      },
      "source": [
        "#### addition"
      ]
    },
    {
      "cell_type": "code",
      "execution_count": 259,
      "metadata": {
        "colab": {
          "base_uri": "https://localhost:8080/"
        },
        "id": "nSw4hVhJwjb-",
        "outputId": "cb46cb55-e613-48c1-e965-5f484e818168"
      },
      "outputs": [
        {
          "output_type": "stream",
          "name": "stdout",
          "text": [
            "11253\n"
          ]
        }
      ],
      "source": [
        "#artworks_dict = open_dict('/artsy_genom_artwork_dict_cat08.txt', 'backup')\n",
        "print(len(artworks_dict))"
      ]
    },
    {
      "cell_type": "code",
      "execution_count": 260,
      "metadata": {
        "colab": {
          "base_uri": "https://localhost:8080/"
        },
        "id": "kR3KkOPlT3T8",
        "outputId": "0668344c-c5b8-4f82-9728-3cc88672c8c9"
      },
      "outputs": [
        {
          "output_type": "execute_result",
          "data": {
            "text/plain": [
              "46682"
            ]
          },
          "metadata": {},
          "execution_count": 260
        }
      ],
      "source": [
        "artists_dict = open_dict(artist_dict, 'live')\n",
        "len(artists_dict)"
      ]
    },
    {
      "cell_type": "code",
      "execution_count": 261,
      "metadata": {
        "colab": {
          "base_uri": "https://localhost:8080/"
        },
        "id": "hgy7pi_IpJLZ",
        "outputId": "28edb6bb-e455-414b-e0ab-4d8cd0fa51de"
      },
      "outputs": [
        {
          "output_type": "stream",
          "name": "stdout",
          "text": [
            "{'name': 'Mark Frygell', 'category_id': ['03', '08', '06'], 'gene_id': ['03117', '03090', '08056', '06075'], 'artsy_id': ['61fbe302c320e7000d3cb612']}\n",
            "{'name': 'Moisès Villèlia', 'category_id': ['06', '05'], 'gene_id': ['05015', '05007', '06054', '06012'], 'artsy_id': ['5f89e66b3dad4b00145cf188', '5f919d6a45d834001538c3bb']}\n",
            "{'name': 'Joan Konkel', 'category_id': ['06', '03', '09', '02', '13', '05'], 'gene_id': ['09001', '03248', '03012', '05051', '05041', '06097', '05074', '06086', '02103', '06137', '02102', '03010', '03071', '03008', '03221', '13005', '13006', '05049', '05020'], 'artsy_id': ['57ffb52d9c18db2c5c00145f', '5435950e7261690710bc0400', '5f6e2c70231378000eee0ddc', '62378f82c45031000c0bde6c', '622909efb28924000bf7b130', '59e67c61c9dc24387d0e7f67', '543571e972616942cef50300', '53d3dbd97261692d39aa0000']}\n"
          ]
        }
      ],
      "source": [
        "artists_samp = sample(list(artists_dict.keys()), 3)\n",
        "for id in artists_samp:\n",
        "  print(artists_dict[id])"
      ]
    },
    {
      "cell_type": "code",
      "execution_count": 262,
      "metadata": {
        "colab": {
          "base_uri": "https://localhost:8080/"
        },
        "id": "usJ_7MT9vqCR",
        "outputId": "ce1f5aee-c4fb-4d2a-8627-560e987b8125"
      },
      "outputs": [
        {
          "output_type": "execute_result",
          "data": {
            "text/plain": [
              "{'01617': {'artsy_id': ['5f89e66b3dad4b00145cf188',\n",
              "   '5f919d6a45d834001538c3bb'],\n",
              "  'category_id': ['06', '05'],\n",
              "  'gene_id': ['05015', '05007', '06054', '06012'],\n",
              "  'name': 'Moisès Villèlia'}}"
            ]
          },
          "metadata": {},
          "execution_count": 262
        }
      ],
      "source": [
        "artists_dict_samp = {k: v for k, v in artists_dict.items() if v['name'] == 'Moisès Villèlia'}\n",
        "artists_dict_samp"
      ]
    },
    {
      "cell_type": "code",
      "execution_count": 118,
      "metadata": {
        "id": "MezhFOaR32RA"
      },
      "outputs": [],
      "source": [
        "def artist_dict_add(param):\n",
        "  param_dict = {}\n",
        "\n",
        "  if param == 'artsy_id':\n",
        "    for k, v in artworks_dict.items():\n",
        "      if v['artist'] not in param_dict.keys():\n",
        "        param_dict.update({v['artist']: [k]})\n",
        "      else:\n",
        "        v_new = list(set(param_dict[v['artist']] + [k]))\n",
        "        param_dict.update({v['artist']: v_new})\n",
        "  \n",
        "  else:\n",
        "    for v in artworks_dict.values():\n",
        "      if v['artist'] not in param_dict.keys():\n",
        "        param_dict.update({v['artist']: v[param]})\n",
        "      else:\n",
        "        v_new = list(set(param_dict[v['artist']] + v[param]))\n",
        "        param_dict.update({v['artist']: v_new})\n",
        "\n",
        "  return param_dict"
      ]
    },
    {
      "cell_type": "code",
      "execution_count": 263,
      "metadata": {
        "colab": {
          "base_uri": "https://localhost:8080/"
        },
        "id": "H1QvRl1hLDNs",
        "outputId": "c3ee357f-4013-4f21-dcc2-b923644e9421"
      },
      "outputs": [
        {
          "output_type": "stream",
          "name": "stdout",
          "text": [
            "46737\n",
            "476\n",
            "1665\n"
          ]
        }
      ],
      "source": [
        "# Dict updating\n",
        "# {'id': {'artsy_id': [''], 'category_id': [''], 'gene_id': [''], 'name': ''}}\n",
        "\n",
        "# Old dict data\n",
        "c = len(artists_dict)+1 # for id creation\n",
        "id_list = list(artists_dict.keys()) # list of str\n",
        "name_list = [v['name'] for v in artists_dict.values()] # list of str\n",
        "\n",
        "# New artworks_dict data\n",
        "artists_list = list(set([v['artist'] for v in artworks_dict.values()]))\n",
        "# category_id\n",
        "cat = df_cat_dat_total['category_id'].unique().tolist()\n",
        "# gene_id\n",
        "gene_dict = artist_dict_add('gene_id')\n",
        "# artsy_id\n",
        "artwork_dict = artist_dict_add('artsy_id')\n",
        "\n",
        "# New dict\n",
        "new_artists_id = []\n",
        "cross_artists_id = []\n",
        "for name in artists_list:\n",
        "  if name not in name_list:\n",
        "    id = '0'*(artist_id_len-len(str(c)))+str(c)\n",
        "    new_artists_id.append(id)\n",
        "    artists_dict.update({id: {'artsy_id': artwork_dict[name], 'category_id': [cat[0]], 'gene_id': gene_dict[name], 'name': name}})\n",
        "    c += 1\n",
        "  else:\n",
        "    id = id_list[name_list.index(name)]\n",
        "    cross_artists_id.append(id)\n",
        "    new_cat = list(set(artists_dict[id]['category_id'] + cat))\n",
        "    artists_dict[id].update({'category_id': new_cat})\n",
        "    new_gene = list(set(artists_dict[id]['gene_id'] + gene_dict[name]))\n",
        "    artists_dict[id].update({'gene_id': new_gene})\n",
        "    new_artwork = list(set(artists_dict[id]['artsy_id'] + artwork_dict[name]))\n",
        "    artists_dict[id].update({'artsy_id': new_artwork})\n",
        "\n",
        "print(len(artists_dict))\n",
        "print(len(new_artists_id))\n",
        "print(len(cross_artists_id))"
      ]
    },
    {
      "cell_type": "code",
      "execution_count": 264,
      "metadata": {
        "colab": {
          "base_uri": "https://localhost:8080/"
        },
        "id": "gF-6tLBAjMCK",
        "outputId": "7d191995-67ae-4937-9e62-8bf0670f346c"
      },
      "outputs": [
        {
          "output_type": "execute_result",
          "data": {
            "text/plain": [
              "{'artsy_id': ['60f7168e6c1d5d000f9c3b01'],\n",
              " 'category_id': ['12'],\n",
              " 'gene_id': ['12017', '12005'],\n",
              " 'name': 'Philippe Starck, Eugeni Quitllet'}"
            ]
          },
          "metadata": {},
          "execution_count": 264
        }
      ],
      "source": [
        "artists_dict[new_artists_id[len(new_artists_id)//2]]"
      ]
    },
    {
      "cell_type": "code",
      "execution_count": 265,
      "metadata": {
        "colab": {
          "base_uri": "https://localhost:8080/"
        },
        "id": "yWAU3ALJTx2a",
        "outputId": "f737bd24-bd36-464f-d9a9-c5ec1de884a3"
      },
      "outputs": [
        {
          "output_type": "execute_result",
          "data": {
            "text/plain": [
              "{'artsy_id': ['5d88b03e8ff6a400106b0012', '609a9807552ec600136da453'],\n",
              " 'category_id': ['12', '09'],\n",
              " 'gene_id': ['12018', '09018', '12024', '12005', '12017'],\n",
              " 'name': 'Preben Fabricius And Jørgen Kastholm'}"
            ]
          },
          "metadata": {},
          "execution_count": 265
        }
      ],
      "source": [
        "artists_dict[cross_artists_id[len(cross_artists_id)//2]]"
      ]
    },
    {
      "cell_type": "code",
      "execution_count": 266,
      "metadata": {
        "id": "tgmnorsbohd4"
      },
      "outputs": [],
      "source": [
        "save_dict(artists_dict, artist_dict, 'live') # 1. Save json dict"
      ]
    },
    {
      "cell_type": "markdown",
      "metadata": {
        "id": "C2NYHiYiE3Jy"
      },
      "source": [
        "##### add 'artist_id'  in artworks_dict"
      ]
    },
    {
      "cell_type": "code",
      "execution_count": 267,
      "metadata": {
        "colab": {
          "base_uri": "https://localhost:8080/"
        },
        "id": "CP3HoG8xE-k6",
        "outputId": "9fa46219-6109-486b-8ddb-51342200d120"
      },
      "outputs": [
        {
          "output_type": "execute_result",
          "data": {
            "text/plain": [
              "11253"
            ]
          },
          "metadata": {},
          "execution_count": 267
        }
      ],
      "source": [
        "len(artworks_dict)"
      ]
    },
    {
      "cell_type": "code",
      "execution_count": 268,
      "metadata": {
        "id": "_Tbpbdl1E3Jz"
      },
      "outputs": [],
      "source": [
        "keys_list = list(artists_dict.keys())\n",
        "values_list = [v['name'] for v in artists_dict.values()]\n",
        "\n",
        "for value in artworks_dict.values():\n",
        "  if value['artist'] in values_list:\n",
        "    value.update({'artist_id': keys_list[values_list.index(value['artist'])]})\n",
        "  else:\n",
        "    value.update({'artist_id': ' '})"
      ]
    },
    {
      "cell_type": "code",
      "execution_count": 269,
      "metadata": {
        "colab": {
          "base_uri": "https://localhost:8080/"
        },
        "id": "kG9UyMZLE3J0",
        "outputId": "057ec106-bb0f-4fda-be1d-12da6521be8b"
      },
      "outputs": [
        {
          "output_type": "execute_result",
          "data": {
            "text/plain": [
              "{'artist': 'Wim Rietveld',\n",
              " 'artist_id': '42412',\n",
              " 'category_id': ['12'],\n",
              " 'gallery': 'MORENTZ',\n",
              " 'gene_id': ['12017', '12005'],\n",
              " 'link': 'https://d32dm0rphc51dk.cloudfront.net/jlr236hnEO9JaBYOCLMDyQ/large.jpg',\n",
              " 'name': \"Wim Rietveld and W.H. Gispen Blue '205' Chairs for Kembo, Netherlands\",\n",
              " 'parsing_date': '2022-04-19',\n",
              " 'price': 'US$1,275 ',\n",
              " 'updating_date': '2022-04-19',\n",
              " 'year': '1954'}"
            ]
          },
          "metadata": {},
          "execution_count": 269
        }
      ],
      "source": [
        "artworks_dict[check_id_list[0]]"
      ]
    },
    {
      "cell_type": "code",
      "execution_count": 270,
      "metadata": {
        "colab": {
          "base_uri": "https://localhost:8080/"
        },
        "id": "owI7DRe3E3J0",
        "outputId": "6a4aa890-db01-4ded-f964-e9009f46cc13"
      },
      "outputs": [
        {
          "output_type": "execute_result",
          "data": {
            "text/plain": [
              "{'artsy_id': ['5f51eb20e62c3100102ec722'],\n",
              " 'category_id': ['12', '09'],\n",
              " 'gene_id': ['12005', '12017', '09018'],\n",
              " 'name': 'Wim Rietveld'}"
            ]
          },
          "metadata": {},
          "execution_count": 270
        }
      ],
      "source": [
        "artists_dict[artworks_dict[check_id_list[0]]['artist_id']]"
      ]
    },
    {
      "cell_type": "code",
      "execution_count": null,
      "metadata": {
        "id": "4Ck65FcGE3J1"
      },
      "outputs": [],
      "source": [
        "# Replacing\n",
        "#artworks_dict = {k: artworks_dict[k] for k in artworks_dict.keys() - {'artist'}}\n",
        "#artworks_dict['623f201d30b258000cc3053a']"
      ]
    },
    {
      "cell_type": "code",
      "execution_count": 271,
      "metadata": {
        "id": "g-QsBVckE3J1"
      },
      "outputs": [],
      "source": [
        "#save_dict(artworks_dict, artwork_dict, 'live') # 1. Save json dict\n",
        "save_dict(artworks_dict, '/artsy_genom_artwork_dict_cat12.txt', 'backup') # 1. Save json dict"
      ]
    },
    {
      "cell_type": "markdown",
      "metadata": {
        "id": "B856Ube5x2YN"
      },
      "source": [
        "### artworks_dict addition"
      ]
    },
    {
      "cell_type": "code",
      "execution_count": 273,
      "metadata": {
        "colab": {
          "base_uri": "https://localhost:8080/"
        },
        "id": "gFZS5e1Cx5AU",
        "outputId": "8563984f-3ebb-442a-b26d-c1c3daa5fe0c"
      },
      "outputs": [
        {
          "output_type": "stream",
          "name": "stdout",
          "text": [
            "11253\n",
            "447649\n"
          ]
        }
      ],
      "source": [
        "artworks_dict_new = open_dict('/artsy_genom_artwork_dict_cat12.txt', 'backup')\n",
        "print(len(artworks_dict_new))\n",
        "artworks_dict = open_dict(artwork_dict, 'live')\n",
        "print(len(artworks_dict))"
      ]
    },
    {
      "cell_type": "markdown",
      "metadata": {
        "id": "RqnBL9yKqz_D"
      },
      "source": [
        "Let's divide new dict ids data on two parts: artsy_id is already in the dict and not."
      ]
    },
    {
      "cell_type": "code",
      "execution_count": 274,
      "metadata": {
        "colab": {
          "base_uri": "https://localhost:8080/"
        },
        "id": "F8XUPeBOOOBl",
        "outputId": "aaed2d63-aadf-4bbb-91d2-ea427f15858e"
      },
      "outputs": [
        {
          "output_type": "stream",
          "name": "stdout",
          "text": [
            "New category: 12\n",
            "\n",
            "New id count: 2925\n",
            "Cross id count: 8328\n",
            "Check the division: True\n",
            "\n",
            "New dict length must be: 450574\n"
          ]
        }
      ],
      "source": [
        "old_id_list = list(artworks_dict.keys()) # list of str\n",
        "\n",
        "# New df data\n",
        "\n",
        "new_id_list = list(artworks_dict_new.keys()) # list of str\n",
        "cat = [v['category_id'] for v in artworks_dict_new.values()][0] # list of lists with str\n",
        "print('New category:', cat[0])\n",
        "print('')\n",
        "\n",
        "new_artwork_id = list(set(new_id_list) - set(old_id_list))\n",
        "cross_artwork_id = list(set(old_id_list) & set(new_id_list))\n",
        "print('New id count:', len(new_artwork_id))\n",
        "print('Cross id count:', len(cross_artwork_id))\n",
        "print('Check the division:', len(new_id_list)==len(new_artwork_id)+len(cross_artwork_id))\n",
        "print('')\n",
        "\n",
        "artworks_dict_total_len = len(old_id_list) + len(new_artwork_id)\n",
        "print('New dict length must be:', artworks_dict_total_len)"
      ]
    },
    {
      "cell_type": "markdown",
      "metadata": {
        "id": "c56dTTz7zKUx"
      },
      "source": [
        "#### cross_artwork_id updating"
      ]
    },
    {
      "cell_type": "markdown",
      "metadata": {
        "id": "tj_GbU1vjbEl"
      },
      "source": [
        "Name, link and artist of artsy_id that is already in the dict shoild be the same. Let's check it."
      ]
    },
    {
      "cell_type": "code",
      "execution_count": 275,
      "metadata": {
        "colab": {
          "base_uri": "https://localhost:8080/"
        },
        "id": "IzAyzbcdffZI",
        "outputId": "017f6f82-77db-47a3-bf82-34b2b347d069"
      },
      "outputs": [
        {
          "output_type": "stream",
          "name": "stdout",
          "text": [
            "Cross id count: 8328\n",
            "0 ids have different name\n",
            "1 ids have different link\n",
            "128 ids have different artist\n"
          ]
        }
      ],
      "source": [
        "dif_name = []\n",
        "dif_link = []\n",
        "dif_artist = []\n",
        "\n",
        "for id in cross_artwork_id:\n",
        "  if artworks_dict[id]['name'] != artworks_dict_new[id]['name']:\n",
        "    dif_name.append(id)\n",
        "  if artworks_dict[id]['link'] != artworks_dict_new[id]['link']:\n",
        "    dif_link.append(id)\n",
        "  if artworks_dict[id]['artist'] != artworks_dict_new[id]['artist']:\n",
        "    dif_artist.append(id)\n",
        "\n",
        "print('Cross id count:', len(cross_artwork_id))\n",
        "print(len(dif_name), 'ids have different name')\n",
        "print(len(dif_link), 'ids have different link')\n",
        "print(len(dif_artist), 'ids have different artist')"
      ]
    },
    {
      "cell_type": "code",
      "execution_count": 132,
      "metadata": {
        "colab": {
          "base_uri": "https://localhost:8080/"
        },
        "id": "wrN18WyEi7P5",
        "outputId": "73cdb07a-746f-4068-f68d-11c92e88565f"
      },
      "outputs": [
        {
          "output_type": "stream",
          "name": "stdout",
          "text": [
            "61f2f30591e3e8000cf2cfc5 : All is Fine -> Everything is Going to be Fine\n",
            "6256297628165e000e237715 : Reading Can Seriously Damage Your Innocence -> Reading Can Seriously Damage Your Ignorance\n",
            "54b0f7d27261695a02cd0500 : Kanata He (Far Beyond) I -> Kanata He (Far Beyond)\n",
            "621e0719ace6f6000ca0c3d1 : Untitled -> A\n",
            "618ad3108253e8000dd9484c : She is in the Bathroom -> A Room of Her Own\n",
            "615359daef467f000b74265e : Tired -> Tired Shopper\n"
          ]
        }
      ],
      "source": [
        "for id in sample(dif_name, 6): # 10\n",
        "  print(id, ':', artworks_dict[id]['name'], '->', artworks_dict_new[id]['name'])"
      ]
    },
    {
      "cell_type": "code",
      "execution_count": 276,
      "metadata": {
        "colab": {
          "base_uri": "https://localhost:8080/"
        },
        "id": "p_Gxr_Gylm8K",
        "outputId": "dccea641-50cb-4481-8ee6-eca4b633edcf"
      },
      "outputs": [
        {
          "output_type": "stream",
          "name": "stdout",
          "text": [
            "5d889871fdf95f0012048daf : Aksel Bender Madsen and Ejner Larsen -> Aksel Bender Madsen And Ejner Larsen\n",
            "534dd6688b3b81b6300001c0 : Roy McMakin -> Roy Mcmakin\n",
            "51a5d3748b3b816a7b00039e : André Monpoix and Alain Richard -> André Monpoix And Alain Richard\n",
            "54adb7567261695c37410700 : Gerald McCabe -> Gerald Mccabe\n",
            "5c4788dc2ebe312aada594bb : KAWS -> Kaws\n",
            "519784748b3b81132d000038 : Geneviève Dangles and Christian Defrance -> Geneviève Dangles And Christian Defrance\n",
            "5a1a03918b3b810ef3b3ead7 : Hvidt and Mølgaard Nielsen -> Hvidt And Mølgaard Nielsen\n",
            "609a8debcadb240013aacc18 : Hvidt and Mølgaard Nielsen -> Hvidt And Mølgaard Nielsen\n",
            "56373b6e7261696fb7000746 : Alberto Biagetti and Laura Baldassari -> Alberto Biagetti And Laura Baldassari\n",
            "61852613cff7d0000c6f043e : Guillerme et Chambron -> Guillerme Et Chambron\n"
          ]
        }
      ],
      "source": [
        "for id in sample(dif_artist, 10):\n",
        "  print(id, ':', artworks_dict[id]['artist'], '->', artworks_dict_new[id]['artist'])"
      ]
    },
    {
      "cell_type": "code",
      "execution_count": 277,
      "metadata": {
        "colab": {
          "base_uri": "https://localhost:8080/"
        },
        "id": "GGU97-CU8QYh",
        "outputId": "bb4c3550-0bc4-4cb1-a475-439d2b147247"
      },
      "outputs": [
        {
          "output_type": "stream",
          "name": "stdout",
          "text": [
            "624c243c1921db000e9153af : https://d32dm0rphc51dk.cloudfront.net/_I0WSM1SSE9Ub72ShrMnMQ/large.jpg -> https://d32dm0rphc51dk.cloudfront.net/QiE6n5L-JpRKf1Q82cDStw/large.jpg\n"
          ]
        }
      ],
      "source": [
        "for id in sample(dif_link, 1): # 10\n",
        "  print(id, ':', artworks_dict[id]['link'], '->', artworks_dict_new[id]['link'])"
      ]
    },
    {
      "cell_type": "code",
      "execution_count": null,
      "metadata": {
        "id": "uY6eWkcXSXvk"
      },
      "outputs": [],
      "source": [
        "# excaption\n",
        "artworks_dict['62280e48bd9211000cc4b47d'].update({'link': 'https://d32dm0rphc51dk.cloudfront.net/S9Gn8hpcc24pnRBCrghPwA/large.jpg'})"
      ]
    },
    {
      "cell_type": "markdown",
      "metadata": {
        "id": "H2h1dNu1mM9k"
      },
      "source": [
        "!!! But all of them can be different. At the same time, it's seen that changes aren't dromatic -> So, not good, but we won't change or add them.\n",
        "\n",
        "It would be better for checking the info if I got artwork's page link...\n",
        "\n",
        "And later we'll clean the artists_dict.\n",
        "\n",
        "Also we won't change or add different price, year and gallery. In fact, we just add the category_id and gene_id info."
      ]
    },
    {
      "cell_type": "code",
      "execution_count": 278,
      "metadata": {
        "colab": {
          "base_uri": "https://localhost:8080/"
        },
        "id": "XQYYyZEMtzci",
        "outputId": "e625c952-eb84-4719-fac0-f8bf71e99b0d"
      },
      "outputs": [
        {
          "output_type": "stream",
          "name": "stdout",
          "text": [
            "447649\n"
          ]
        }
      ],
      "source": [
        "# Dict updating\n",
        "\n",
        "# {'artsy_id': {'artist': ' ', 'artist_id': ' ', 'category_id': [''], 'gallery': ' ', 'gene_id': [''], \n",
        "#               'link': ' ', 'name': ' ', 'parsing_date': '', 'price': ' ', 'updating_date': '', 'year': ' '}}\n",
        "\n",
        "for id in cross_artwork_id:\n",
        "  new_cat = list(set(artworks_dict[id]['category_id'] + cat))\n",
        "  artworks_dict[id].update({'category_id': new_cat})\n",
        "  new_gene = list(set(artworks_dict[id]['gene_id'] + artworks_dict_new[id]['gene_id']))\n",
        "  artworks_dict[id].update({'gene_id': new_gene})\n",
        "\n",
        "print(len(artworks_dict))"
      ]
    },
    {
      "cell_type": "code",
      "execution_count": 279,
      "metadata": {
        "colab": {
          "base_uri": "https://localhost:8080/"
        },
        "id": "SCmobc_Zu88o",
        "outputId": "ba76f4e2-deff-4913-d443-de2953d26573"
      },
      "outputs": [
        {
          "output_type": "stream",
          "name": "stdout",
          "text": [
            "61547a659e1628000c474a79\n"
          ]
        },
        {
          "output_type": "execute_result",
          "data": {
            "text/plain": [
              "{'artist': 'Angelo Lelii',\n",
              " 'artist_id': '41239',\n",
              " 'category_id': ['12'],\n",
              " 'gallery': 'Dimoregallery',\n",
              " 'gene_id': ['12014', '12016'],\n",
              " 'link': 'https://d32dm0rphc51dk.cloudfront.net/ac-tQDovR1gplNHBBDY72Q/large.jpg',\n",
              " 'name': 'Pair of wall lights by Angelo Lelii',\n",
              " 'parsing_date': '2022-04-19',\n",
              " 'price': '€6,750–€7,750 ',\n",
              " 'updating_date': '2022-04-19',\n",
              " 'year': '1960’s'}"
            ]
          },
          "metadata": {},
          "execution_count": 279
        }
      ],
      "source": [
        "# cross_artwork_id sample\n",
        "samp_id = sample(cross_artwork_id, 1)[0]\n",
        "print(samp_id)\n",
        "artworks_dict_new[samp_id]"
      ]
    },
    {
      "cell_type": "code",
      "execution_count": 280,
      "metadata": {
        "colab": {
          "base_uri": "https://localhost:8080/"
        },
        "id": "iI9qJlt63gwI",
        "outputId": "6e985562-488f-47a1-f005-15b8875c79c3"
      },
      "outputs": [
        {
          "output_type": "execute_result",
          "data": {
            "text/plain": [
              "{'artist': 'Angelo Lelii',\n",
              " 'artist_id': '41239',\n",
              " 'category_id': ['12', '04'],\n",
              " 'gallery': 'Dimoregallery',\n",
              " 'gene_id': ['12014', '04016', '12016'],\n",
              " 'link': 'https://d32dm0rphc51dk.cloudfront.net/ac-tQDovR1gplNHBBDY72Q/large.jpg',\n",
              " 'name': 'Pair of wall lights by Angelo Lelii',\n",
              " 'parsing_date': '2022-04-08',\n",
              " 'price': '€6,750–€7,750 ',\n",
              " 'updating_date': '2022-04-08',\n",
              " 'year': '1960’s'}"
            ]
          },
          "metadata": {},
          "execution_count": 280
        }
      ],
      "source": [
        "artworks_dict[samp_id]"
      ]
    },
    {
      "cell_type": "markdown",
      "metadata": {
        "id": "E7peAWOuwZl4"
      },
      "source": [
        "#### new_artwork_id addition"
      ]
    },
    {
      "cell_type": "code",
      "execution_count": 281,
      "metadata": {
        "colab": {
          "base_uri": "https://localhost:8080/"
        },
        "id": "0HM-EsNzv2kE",
        "outputId": "b0c31642-647b-42ac-9115-167159226075"
      },
      "outputs": [
        {
          "output_type": "stream",
          "name": "stdout",
          "text": [
            "New dict length must be: 450574\n",
            "New dict length is: 450574\n"
          ]
        }
      ],
      "source": [
        "# {'artsy_id': {'artist': ' ', 'artist_id': ' ', 'category_id': [''], 'gallery': ' ', 'gene_id': [''], \n",
        "#               'link': ' ', 'name': ' ', 'parsing_date': '', 'price': ' ', 'updating_date': '', 'year': ' '}}\n",
        "\n",
        "for id in new_artwork_id:\n",
        "  artworks_dict.update({id: {'artist': artworks_dict_new[id]['artist'], 'artist_id': artworks_dict_new[id]['artist_id'], 'category_id': artworks_dict_new[id]['category_id'], 'gallery': artworks_dict_new[id]['gallery'], 'gene_id': artworks_dict_new[id]['gene_id'], 'link': artworks_dict_new[id]['link'], 'name': artworks_dict_new[id]['name'], 'parsing_date': artworks_dict_new[id]['parsing_date'], 'price': artworks_dict_new[id]['price'], 'updating_date': artworks_dict_new[id]['updating_date'], 'year': artworks_dict_new[id]['year']}})\n",
        "\n",
        "print('New dict length must be:', artworks_dict_total_len)\n",
        "print('New dict length is:', len(artworks_dict))"
      ]
    },
    {
      "cell_type": "code",
      "execution_count": 282,
      "metadata": {
        "colab": {
          "base_uri": "https://localhost:8080/"
        },
        "id": "BKrG4RCKu2Zm",
        "outputId": "b1f2fe09-8075-41cb-9f17-92d3cd65a280"
      },
      "outputs": [
        {
          "output_type": "stream",
          "name": "stdout",
          "text": [
            "611659b36c3e63000d562178\n"
          ]
        },
        {
          "output_type": "execute_result",
          "data": {
            "text/plain": [
              "{'artist': 'Aniela Ovadiuc',\n",
              " 'artist_id': '40872',\n",
              " 'category_id': ['12'],\n",
              " 'gallery': 'Galeria Senso',\n",
              " 'gene_id': ['12014', '12012'],\n",
              " 'link': 'https://d32dm0rphc51dk.cloudfront.net/Xc3mksb8wMMkGxWBYYF_Pw/large.jpg',\n",
              " 'name': 'The Drop Series – “The Beneficial Harm”',\n",
              " 'parsing_date': '2022-04-19',\n",
              " 'price': '€1,470 ',\n",
              " 'updating_date': '2022-04-19',\n",
              " 'year': '2019'}"
            ]
          },
          "metadata": {},
          "execution_count": 282
        }
      ],
      "source": [
        "# new_artwork_id sample\n",
        "samp_id = sample(new_artwork_id, 1)[0]\n",
        "print(samp_id)\n",
        "artworks_dict_new[samp_id]"
      ]
    },
    {
      "cell_type": "code",
      "execution_count": 283,
      "metadata": {
        "colab": {
          "base_uri": "https://localhost:8080/"
        },
        "id": "N20OVAQnyud2",
        "outputId": "06fd2b6d-0212-40c1-c250-a50e1a685947"
      },
      "outputs": [
        {
          "output_type": "execute_result",
          "data": {
            "text/plain": [
              "{'artist': 'Aniela Ovadiuc',\n",
              " 'artist_id': '40872',\n",
              " 'category_id': ['12'],\n",
              " 'gallery': 'Galeria Senso',\n",
              " 'gene_id': ['12014', '12012'],\n",
              " 'link': 'https://d32dm0rphc51dk.cloudfront.net/Xc3mksb8wMMkGxWBYYF_Pw/large.jpg',\n",
              " 'name': 'The Drop Series – “The Beneficial Harm”',\n",
              " 'parsing_date': '2022-04-19',\n",
              " 'price': '€1,470 ',\n",
              " 'updating_date': '2022-04-19',\n",
              " 'year': '2019'}"
            ]
          },
          "metadata": {},
          "execution_count": 283
        }
      ],
      "source": [
        "artworks_dict[samp_id]"
      ]
    },
    {
      "cell_type": "code",
      "execution_count": 284,
      "metadata": {
        "id": "jVGV7kwGzaEf"
      },
      "outputs": [],
      "source": [
        "save_dict(artworks_dict, artwork_dict, 'live') # 1. Save json dict"
      ]
    },
    {
      "cell_type": "markdown",
      "metadata": {
        "id": "8y6E_eJHCpMm"
      },
      "source": [
        "### artists_dict cleaning"
      ]
    },
    {
      "cell_type": "code",
      "execution_count": 285,
      "metadata": {
        "colab": {
          "base_uri": "https://localhost:8080/"
        },
        "id": "NWE0PjabCvkF",
        "outputId": "c8d9fbef-77b3-457c-99e4-60b33c3bec76"
      },
      "outputs": [
        {
          "output_type": "stream",
          "name": "stdout",
          "text": [
            "128 ids have different artist\n",
            "61 artists are exstra new\n"
          ]
        }
      ],
      "source": [
        "dif_artist_id = []\n",
        "c = 0\n",
        "for id in cross_artwork_id:\n",
        "  if artworks_dict[id]['artist'] != artworks_dict_new[id]['artist']:\n",
        "    dif_artist_id.append(artworks_dict_new[id]['artist_id'])\n",
        "    dif_artist_id = list(set(dif_artist_id))\n",
        "    c += 1\n",
        "\n",
        "print(c, 'ids have different artist')\n",
        "print(len(dif_artist_id), 'artists are exstra new')"
      ]
    },
    {
      "cell_type": "code",
      "execution_count": 286,
      "metadata": {
        "colab": {
          "base_uri": "https://localhost:8080/"
        },
        "id": "h6wUlywZEe4L",
        "outputId": "b73f8364-ca1e-4081-8f05-558d9242ab7f"
      },
      "outputs": [
        {
          "output_type": "execute_result",
          "data": {
            "text/plain": [
              "46737"
            ]
          },
          "metadata": {},
          "execution_count": 286
        }
      ],
      "source": [
        "#artists_dict = open_dict(artist_dict, 'live')\n",
        "len(artists_dict)"
      ]
    },
    {
      "cell_type": "code",
      "execution_count": 287,
      "metadata": {
        "colab": {
          "base_uri": "https://localhost:8080/"
        },
        "id": "t_DeptwoEyre",
        "outputId": "645428f8-9e97-4be2-ef9f-e6ecc1ffdbcf"
      },
      "outputs": [
        {
          "output_type": "stream",
          "name": "stdout",
          "text": [
            "46676\n",
            "46676\n"
          ]
        }
      ],
      "source": [
        "# Replacing\n",
        "print(len(artists_dict) - len(dif_artist_id))\n",
        "artists_dict = {k: v for k, v in artists_dict.items() if k not in dif_artist_id}\n",
        "print(len(artists_dict))"
      ]
    },
    {
      "cell_type": "code",
      "execution_count": 288,
      "metadata": {
        "colab": {
          "base_uri": "https://localhost:8080/"
        },
        "id": "6AGFwgzA1gx2",
        "outputId": "be1c2ea2-8a3d-44b2-e134-38a6b73df4ec"
      },
      "outputs": [
        {
          "output_type": "execute_result",
          "data": {
            "text/plain": [
              "{'21007': {'artsy_id': ['61fe8114b9ff6c000b32bbb6',\n",
              "   '622cb6e45463fe000bb811af'],\n",
              "  'category_id': ['03', '05', '02', '06', '08'],\n",
              "  'gene_id': ['02155', '08049', '03008', '06045', '05011', '06175'],\n",
              "  'name': 'Matt Connors'}}"
            ]
          },
          "metadata": {},
          "execution_count": 288
        }
      ],
      "source": [
        "artists_dict_samp = {k: v for k, v in artists_dict.items() if v['name'] == 'Matt Connors'}\n",
        "artists_dict_samp"
      ]
    },
    {
      "cell_type": "code",
      "execution_count": 289,
      "metadata": {
        "id": "2Na6WduQFqL2"
      },
      "outputs": [],
      "source": [
        "save_dict(artists_dict, artist_dict, 'live') # 1. Save json dict"
      ]
    },
    {
      "cell_type": "markdown",
      "metadata": {
        "id": "mpRFWlBTUWma"
      },
      "source": [
        "### genes_dict - at the very end"
      ]
    },
    {
      "cell_type": "markdown",
      "metadata": {
        "id": "aoXyp4XTURaK"
      },
      "source": [
        "#### expansion"
      ]
    },
    {
      "cell_type": "code",
      "execution_count": 11,
      "metadata": {
        "colab": {
          "base_uri": "https://localhost:8080/"
        },
        "id": "--b457uGUjCL",
        "outputId": "d4320e36-ddd2-4924-efe5-41a4ef4c54d9"
      },
      "outputs": [
        {
          "output_type": "execute_result",
          "data": {
            "text/plain": [
              "1032"
            ]
          },
          "metadata": {},
          "execution_count": 11
        }
      ],
      "source": [
        "genes_dict = open_dict(gen_dict, 'live') # 2. Open json dict\n",
        "genes_dict_old = open_dict(gen_dict, 'live') # 2. Open json dict\n",
        "len(genes_dict)"
      ]
    },
    {
      "cell_type": "code",
      "source": [
        "artists_dict = open_dict(artist_dict, 'live') # 2. Open json dict\n",
        "len(artists_dict)"
      ],
      "metadata": {
        "colab": {
          "base_uri": "https://localhost:8080/"
        },
        "id": "3Mk6LavERIE2",
        "outputId": "cd8dc98a-43d9-4832-ec98-0c2a613825db"
      },
      "execution_count": 12,
      "outputs": [
        {
          "output_type": "execute_result",
          "data": {
            "text/plain": [
              "46676"
            ]
          },
          "metadata": {},
          "execution_count": 12
        }
      ]
    },
    {
      "cell_type": "code",
      "source": [
        "artworks_dict = open_dict(artwork_dict, 'live') # 2. Open json dict\n",
        "len(artworks_dict)"
      ],
      "metadata": {
        "colab": {
          "base_uri": "https://localhost:8080/"
        },
        "id": "HhSqW_P0RVa4",
        "outputId": "23e9316d-673f-432d-f758-d81fb0c45572"
      },
      "execution_count": 13,
      "outputs": [
        {
          "output_type": "execute_result",
          "data": {
            "text/plain": [
              "450574"
            ]
          },
          "metadata": {},
          "execution_count": 13
        }
      ]
    },
    {
      "cell_type": "code",
      "execution_count": 15,
      "metadata": {
        "colab": {
          "base_uri": "https://localhost:8080/"
        },
        "id": "6EZbbLx4yjRw",
        "outputId": "9d72b7ce-3b30-4844-93a0-b98c0296a477"
      },
      "outputs": [
        {
          "output_type": "execute_result",
          "data": {
            "text/plain": [
              "{'artist_id': ['10640', '05253'],\n",
              " 'artsy_id': ['54f0c97a7261693fa3ea1400',\n",
              "  '553a8e737261697635630000',\n",
              "  '54f0c97c726169731f9f1400',\n",
              "  '553a8ea872616909c03a0000',\n",
              "  '553a8e61726169623a4f0000',\n",
              "  '553be2df7261692b035d0400'],\n",
              " 'category_id': '03',\n",
              " 'id': '03001',\n",
              " 'link': '/gene/bad-painting',\n",
              " 'name': '\"Bad Painting\"',\n",
              " 'parsing_date': '2022-03-29',\n",
              " 'updating_date': '2022-03-29'}"
            ]
          },
          "metadata": {},
          "execution_count": 15
        }
      ],
      "source": [
        "genes_dict_old['bad_painting']"
      ]
    },
    {
      "cell_type": "markdown",
      "metadata": {
        "id": "6Grd4c2bUgNW"
      },
      "source": [
        "Update genes_dict with 'artist_id' and 'artwork_id':\n",
        "- list type parametr - ***one to many connection***\n",
        "- id info is in the **dict**"
      ]
    },
    {
      "cell_type": "code",
      "source": [
        "artist_id_list_old = genes_dict_old['bad_painting']['artist_id']\n",
        "artsy_id_list_old = genes_dict_old['bad_painting']['artsy_id']"
      ],
      "metadata": {
        "id": "Fx4JwFOcSGe9"
      },
      "execution_count": 16,
      "outputs": []
    },
    {
      "cell_type": "code",
      "execution_count": 17,
      "metadata": {
        "colab": {
          "base_uri": "https://localhost:8080/"
        },
        "id": "BY8KnKx4zHyW",
        "outputId": "33a81a61-0728-4fc8-f4c6-46d30aad2a48"
      },
      "outputs": [
        {
          "output_type": "stream",
          "name": "stdout",
          "text": [
            "1032\n"
          ]
        }
      ],
      "source": [
        "#param = 'artist_id'\n",
        "\n",
        "for v in genes_dict.values():\n",
        "  v.update({'artist_id': []})\n",
        "  for key, value in artists_dict.items():\n",
        "    if v['id'] in value['gene_id']:\n",
        "      v_new = list(set(v['artist_id'] + [key]))\n",
        "      v.update({'artist_id': v_new})\n",
        "\n",
        "print(len(genes_dict))"
      ]
    },
    {
      "cell_type": "code",
      "source": [
        "#param = 'artsy_id'\n",
        "\n",
        "for v in genes_dict.values():\n",
        "  v.update({'artsy_id': []})\n",
        "  for key, value in artworks_dict.items():\n",
        "    if v['id'] in value['gene_id']:\n",
        "      v_new = list(set(v['artsy_id'] + [key]))\n",
        "      v.update({'artsy_id': v_new})\n",
        "\n",
        "print(len(genes_dict))"
      ],
      "metadata": {
        "colab": {
          "base_uri": "https://localhost:8080/"
        },
        "id": "ei5h0_zeRiKl",
        "outputId": "7ca41c9d-6265-49c7-f919-253caab8a0ed"
      },
      "execution_count": 18,
      "outputs": [
        {
          "output_type": "stream",
          "name": "stdout",
          "text": [
            "1032\n"
          ]
        }
      ]
    },
    {
      "cell_type": "code",
      "source": [
        "artist_id_list_new = genes_dict['bad_painting']['artist_id']\n",
        "artsy_id_list_new = genes_dict['bad_painting']['artsy_id']\n",
        "\n",
        "print(list(set(artist_id_list_new))==list(set(artist_id_list_old)))\n",
        "print(list(set(artsy_id_list_new))==list(set(artsy_id_list_old)))"
      ],
      "metadata": {
        "colab": {
          "base_uri": "https://localhost:8080/"
        },
        "id": "UlE85lZQSVPA",
        "outputId": "f3638599-8af9-4f8f-b2f7-e250bbb8589a"
      },
      "execution_count": 23,
      "outputs": [
        {
          "output_type": "stream",
          "name": "stdout",
          "text": [
            "False\n",
            "True\n"
          ]
        }
      ]
    },
    {
      "cell_type": "code",
      "execution_count": 20,
      "metadata": {
        "colab": {
          "base_uri": "https://localhost:8080/"
        },
        "id": "_S0outur4B4V",
        "outputId": "4d0217da-1534-43d6-bc9d-64dd3dc3c247"
      },
      "outputs": [
        {
          "output_type": "execute_result",
          "data": {
            "text/plain": [
              "{'artist_id': ['25055', '21189'],\n",
              " 'artsy_id': ['553be2df7261692b035d0400',\n",
              "  '553a8ea872616909c03a0000',\n",
              "  '54f0c97a7261693fa3ea1400',\n",
              "  '54f0c97c726169731f9f1400',\n",
              "  '553a8e737261697635630000',\n",
              "  '553a8e61726169623a4f0000'],\n",
              " 'category_id': '03',\n",
              " 'id': '03001',\n",
              " 'link': '/gene/bad-painting',\n",
              " 'name': '\"Bad Painting\"',\n",
              " 'parsing_date': '2022-03-29',\n",
              " 'updating_date': '2022-03-29'}"
            ]
          },
          "metadata": {},
          "execution_count": 20
        }
      ],
      "source": [
        "genes_dict['bad_painting']\n",
        "#'William Nelson Copley'\n",
        "#'Joan Brown'"
      ]
    },
    {
      "cell_type": "code",
      "execution_count": 26,
      "metadata": {
        "colab": {
          "base_uri": "https://localhost:8080/"
        },
        "id": "Pr1l4wjZ5Pd_",
        "outputId": "661aa8e7-03d1-4396-eecd-e99e67a89619"
      },
      "outputs": [
        {
          "output_type": "execute_result",
          "data": {
            "text/plain": [
              "{'artsy_id': ['553a8ea872616909c03a0000',\n",
              "  '54f0c97a7261693fa3ea1400',\n",
              "  '5da7b49cf52b8c00129b9694',\n",
              "  '54f0c97c726169731f9f1400',\n",
              "  '553a8e61726169623a4f0000',\n",
              "  '553a8e737261697635630000'],\n",
              " 'category_id': ['01', '03'],\n",
              " 'gene_id': ['03001', '01005'],\n",
              " 'name': 'Joan Brown'}"
            ]
          },
          "metadata": {},
          "execution_count": 26
        }
      ],
      "source": [
        "artists_dict['25055']"
      ]
    },
    {
      "cell_type": "code",
      "execution_count": 27,
      "metadata": {
        "id": "lu9nKWMBW9lf"
      },
      "outputs": [],
      "source": [
        "save_dict(genes_dict, gen_dict, 'live') # 1. Save json dict"
      ]
    },
    {
      "cell_type": "markdown",
      "metadata": {
        "id": "EIvq_MPCo4ED"
      },
      "source": [
        "#### addition"
      ]
    },
    {
      "cell_type": "code",
      "execution_count": null,
      "metadata": {
        "colab": {
          "base_uri": "https://localhost:8080/"
        },
        "id": "6vUTyl1lpAON",
        "outputId": "310ed125-9e0a-4690-90dc-5813fcd0ad27"
      },
      "outputs": [
        {
          "data": {
            "text/plain": [
              "1032"
            ]
          },
          "execution_count": 30,
          "metadata": {},
          "output_type": "execute_result"
        }
      ],
      "source": [
        "genes_dict = open_dict(gen_dict, 'live') # 2. Open json dict\n",
        "len(genes_dict)"
      ]
    },
    {
      "cell_type": "code",
      "execution_count": null,
      "metadata": {
        "colab": {
          "base_uri": "https://localhost:8080/"
        },
        "id": "Rxqy-HHNvvVS",
        "outputId": "407f5637-1974-41ca-f1d3-f8c09b4367d0"
      },
      "outputs": [
        {
          "data": {
            "text/plain": [
              "{'artist_id': ' ',\n",
              " 'artsy_id': ' ',\n",
              " 'category_id': '02',\n",
              " 'id': '02001',\n",
              " 'link': '/gene/abstract-landscape',\n",
              " 'name': 'Abstract Landscape',\n",
              " 'parsing_date': '2022-03-29',\n",
              " 'updating_date': '2022-03-29'}"
            ]
          },
          "execution_count": 192,
          "metadata": {},
          "output_type": "execute_result"
        }
      ],
      "source": [
        "genes_dict['abstract_landscape']"
      ]
    },
    {
      "cell_type": "code",
      "execution_count": null,
      "metadata": {
        "id": "flpXPXZHsE-Q"
      },
      "outputs": [],
      "source": [
        "# artsy_id\n",
        "group_df = df_cat_dat_total.groupby(['gene_id'])['artsy_id'].apply(list).apply(set).apply(list).reset_index(name='artsy_id')\n",
        "group_dict = group_df.set_index('gene_id').to_dict('index')\n",
        "\n",
        "for k, v in genes_dict.items():\n",
        "  if v['id'] in group_dict.keys():\n",
        "    genes_dict[k].update(group_dict[v['id']])"
      ]
    },
    {
      "cell_type": "code",
      "execution_count": null,
      "metadata": {
        "id": "nkVq9DzNu5dS"
      },
      "outputs": [],
      "source": [
        "# artist_id\n",
        "artists_dict = open_dict(artist_dict)\n",
        "keys_list = list(artists_dict.keys())\n",
        "values_list = [v['name'] for v in artists_dict.values()]\n",
        "\n",
        "group_df = df_cat_dat_total.groupby(['gene_id'])['artist'].apply(list).apply(set).apply(list).reset_index(name='artist')\n",
        "group_df['artist_id'] = group_df['artist'].dropna().apply(lambda x: [keys_list[values_list.index(y)] for y in x])\n",
        "group_df = group_df.drop(['artist'], axis=1)\n",
        "\n",
        "group_dict = group_df.set_index('gene_id').to_dict('index')\n",
        "\n",
        "for k, v in genes_dict.items():\n",
        "  if v['id'] in group_dict.keys():\n",
        "    genes_dict[k].update(group_dict[v['id']])"
      ]
    },
    {
      "cell_type": "code",
      "execution_count": null,
      "metadata": {
        "id": "v0kDcQqJsV0W"
      },
      "outputs": [],
      "source": [
        "#genes_dict['abstract_landscape']"
      ]
    },
    {
      "cell_type": "code",
      "execution_count": null,
      "metadata": {
        "id": "cfl3cmlXpCeW"
      },
      "outputs": [],
      "source": [
        "save_dict(genes_dict, gen_dict, 'live') # 1. Save json dict"
      ]
    },
    {
      "cell_type": "markdown",
      "metadata": {
        "id": "YUhq_HYV1Jop"
      },
      "source": [
        "## Backup saving"
      ]
    },
    {
      "cell_type": "code",
      "execution_count": 28,
      "metadata": {
        "id": "W-38Aa6B1QCJ"
      },
      "outputs": [],
      "source": [
        "save_dict(artworks_dict, artwork_dict.replace('.txt', '') + '_' + str(datetime.now().date()) + '.txt', 'backup') # 1. Save json dict\n",
        "save_dict(artists_dict, artist_dict.replace('.txt', '') + '_' + str(datetime.now().date()) + '.txt', 'backup') # 1. Save json dict\n",
        "save_dict(genes_dict, gen_dict.replace('.txt', '') + '_' + str(datetime.now().date()) + '.txt', 'backup') # 1. Save json dict"
      ]
    },
    {
      "cell_type": "markdown",
      "metadata": {
        "id": "0gZtVL8kQRqQ"
      },
      "source": [
        "# Images"
      ]
    },
    {
      "cell_type": "code",
      "execution_count": null,
      "metadata": {
        "colab": {
          "base_uri": "https://localhost:8080/"
        },
        "id": "XbbLPUYYFlb5",
        "outputId": "44e31edc-3da6-4c04-ce13-eefc670466cd"
      },
      "outputs": [
        {
          "name": "stdout",
          "output_type": "stream",
          "text": [
            "6 https:\n",
            "0 \n",
            "29 d32dm0rphc51dk.cloudfront.net\n",
            "22 NOpIAwQa-3r51Cg9qXKbfA\n",
            "10 normalized\n"
          ]
        }
      ],
      "source": [
        "# Sample from API tables\n",
        "\n",
        "# 'image': {'href': 'https://d32dm0rphc51dk.cloudfront.net/NOpIAwQa-3r51Cg9qXKbfA/{image_version}.jpg',\n",
        "#                      'templated': True}\n",
        "#i = 'https://d32dm0rphc51dk.cloudfront.net/NOpIAwQa-3r51Cg9qXKbfA/normalized.jpg'\n",
        "#for p in i.split('.jpg')[0].split('/'):\n",
        "#  print(len(p), p)"
      ]
    },
    {
      "cell_type": "code",
      "execution_count": null,
      "metadata": {
        "colab": {
          "base_uri": "https://localhost:8080/"
        },
        "id": "QC9_qiccgIxx",
        "outputId": "bac1e84a-dd97-420a-e4e1-681c27dbd39f"
      },
      "outputs": [
        {
          "name": "stdout",
          "output_type": "stream",
          "text": [
            "Populating the interactive namespace from numpy and matplotlib\n"
          ]
        }
      ],
      "source": [
        "#! pip install pillow --user\n",
        "\n",
        "import PIL\n",
        "from PIL import Image\n",
        "import os\n",
        "import cv2\n",
        "\n",
        "%pylab inline\n",
        "import matplotlib.pyplot as plt\n",
        "import matplotlib.image as mpimg"
      ]
    },
    {
      "cell_type": "code",
      "execution_count": null,
      "metadata": {
        "id": "hr1peJbUgNIp"
      },
      "outputs": [],
      "source": [
        "image = requests.get(img, headers={'User-Agent': 'Chrome/97.0.4692.71'})\n",
        "name = art_project_path + '/' + 'portrait_of_a_man_in_armour' + '.jpg'\n",
        "\n",
        "img = open(name, 'wb')\n",
        "img.write(image.content)\n",
        "img.close()\n",
        "\n",
        "img = Image.open(name)\n",
        "plt.imshow(img)\n",
        "plt.axis('off')\n",
        "plt.show()\n",
        "\n",
        "img.close()"
      ]
    },
    {
      "cell_type": "code",
      "execution_count": null,
      "metadata": {
        "id": "p8rqD1VfT_Mk"
      },
      "outputs": [],
      "source": [
        ""
      ]
    }
  ],
  "metadata": {
    "colab": {
      "collapsed_sections": [
        "tgPcokInD1We",
        "fXS9WF4KEG4A",
        "ysydU0bctwHa",
        "EIMfFZTJv9Fs",
        "znvj69nSy9lf",
        "Jm2PBAgezApk",
        "ZQ7z40v6ZUZV",
        "ZS_6uxf4mtko"
      ],
      "name": "Artsy_genome_api.ipynb",
      "toc_visible": true,
      "provenance": [],
      "mount_file_id": "1Ms0wyFoVy_iO7JS9cHDw7qKhRKS_aCkq",
      "authorship_tag": "ABX9TyMBsy1kxJV2xdM8Ir9R4S56"
    },
    "kernelspec": {
      "display_name": "Python 3",
      "name": "python3"
    },
    "language_info": {
      "name": "python"
    }
  },
  "nbformat": 4,
  "nbformat_minor": 0
}